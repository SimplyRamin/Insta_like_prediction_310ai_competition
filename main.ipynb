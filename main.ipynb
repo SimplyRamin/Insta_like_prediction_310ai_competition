{
 "cells": [
  {
   "attachments": {},
   "cell_type": "markdown",
   "metadata": {},
   "source": [
    "`To Do:`\n",
    "- [ ] check if post type can be added as feature\n",
    "\n",
    "---"
   ]
  },
  {
   "attachments": {},
   "cell_type": "markdown",
   "metadata": {},
   "source": [
    "# Instagram Like Prediction @310ai Competition\n",
    "\n",
    "This notebook is for the competition posted by the @310ai on 15th of April. I will approach the competition as a project following the CRISP-DM methodology and try to explain the approach in every steps of the way.\n",
    "\n",
    "The main and short summary of this competition is **\"given an Instagram post predict the number of likes\"**."
   ]
  },
  {
   "attachments": {},
   "cell_type": "markdown",
   "metadata": {},
   "source": [
    "## Business Understanding\n",
    "First thing first, there are some important points that we have to consider which are forced by the Instagram. This points will result in some features that are effective in percision of the model. In the following section we will discuss them further.\n",
    "\n",
    "***Are we try to predict the number of likes for an Instagram post of our own or not?***\n",
    "\n",
    "This question might seem a little odd, but let me explain it. Each Instagram post consists of some metrics that show the performance of the post among the users. We will call these **\"Performance Metrics\"**. Some of these performance metrics such as amount of like, amount of columns, caption and etc, are publicly availble, in other words, any user on the Instagram can see them.\n",
    "\n",
    "But some of the performance metrics, are not publicly available, in order to see them, we need to authenticate as the owner of the page (will discuss about this part further in this section.), some of these private performance metrics are, amount of share, amount of save, amount of reach, amount of profile visits, amount of follows, amount of impression and etc.\n",
    "\n",
    "Obviously, if we try to predict the amount of like for a page that we don't own, we can not access these features, we will go for a page that we don't have access to it for this competition.\n",
    "\n",
    "Another to have in mind is that, since the post we are going to predict the amount of like for it, is not actually existing, the amount of performance metrics can't be predicted preciesly. In other words, how we can estimate the amount of comments a hypothetical post might recieve if we don't post it actually. Due to this abstraction, the performance metrics for each post is not a good feature for this deed.\n",
    "\n",
    "In the further section I will try to address the questions of the competitions in combination of code and text. Please have in mind to follow the chosen methodology I might change the order of questions."
   ]
  },
  {
   "attachments": {},
   "cell_type": "markdown",
   "metadata": {},
   "source": [
    "## Data Requirements and Data Collection\n",
    "\n",
    "In this section I will tackle the questions mainly related to these parts of the challenge. As we discussed above some useful features introduced that might have effect on the precision of the prediction. But there are some other features, further I will point to some features that are related to the page of the published post.\n",
    "\n",
    "### What Features you used?\n",
    "\n",
    "Each and every page on the Instagram has some features that will distinguish it from other pages, some of these features are like the features discussed above, performance metrics, and some of them are identifiers. Some of the identifiers features are:\n",
    "- `id`: a unique id that is allocated by the Instagram.\n",
    "- `username`: a unique username that each user when created the page chose.\n",
    "\n",
    "Also there are some other features that we will investigate, these features are:\n",
    "- `category_name`: each page based on the published content and some other traits, are categorized into different categories, for instance, Blogger, Personal Blog, Design & Fashion, chef and etc.\n",
    "- `follower`: amount of followers the page has.\n",
    "- `following`: amount of pages that the target page is following.\n",
    "- `ar_effect`: whether the page has published ar effects in the Instagram or not.\n",
    "- `type_business`: whether the page identified itself as business account or not.\n",
    "- `type_professional`: whether the page identified itself as professional account or not.\n",
    "- `verified`: whether the page is verified or not.\n",
    "- `reel_count`: amount of igtvs posted by the page.\n",
    "- `media_count`: amount of posts, posted by the page.\n",
    "\n",
    "There are some features that are collected organically but can be calculated in the process of feature engineering. Some of them are:\n",
    "- `reel_view`: The average view of igtvs posted by the page.\n",
    "- `reel_comment`: The average of comments igtvs acquired.\n",
    "- `reel_like`: The average of likes igtvs got.\n",
    "- `reel_duration`: The average of igtv's duration posted by the page.\n",
    "- `reel_frequency`: How often the page have posted the reels.\n",
    "- `media_avg_view`: The average view of media posted by the page.\n",
    "- `media_avg_comment`: The average of comments media acquired.\n",
    "- `media_avg_like`: The average of likes media got.\n",
    "- `media_avg_duration`: The average of media's duration posted by the page.\n",
    "- `media_frequency`: How often the page have posted the media.\n",
    "\n",
    "Last but not least, is the content of the image itself. There are multiple ways to have the content of the image as feature. For instance we can have a classifier network to detect what objects are present in the image and pass them to the like predictor model. Other heuristic approaches might result in a good model, such as passing the image vector generated by the last hidden layer of a classification network as a standalone feature.\n",
    "\n",
    "As you are aware, choosing the best strategy requires some tests, such as A/B tests and trial and error ones, for now I will chose the strategy which will be discussed further that is fastest and heuristic.\n",
    "\n",
    "It's been some time that the Meta, is using an object detection model for generating the Alt Text attribute for the posts. Due to the resources the Meta have in its disposal, this model is extremly face and reliable since it is ran on the server side. Thus for this approach we will use the result of the what objects are present in the image as feature."
   ]
  },
  {
   "attachments": {},
   "cell_type": "markdown",
   "metadata": {},
   "source": [
    "## How do we collect the data?\n",
    "\n",
    "As we discussed above, there are different kind of features, and each group can be collected via different methods.\n",
    "\n",
    "The Instagram provides an API for developers, but due some restrictions and limitations, this API can not provide us the data that we seek. Based on this facts, we will use a heuristic way to collect the data. There will be 2 approaches regarding the matter. one approach which is not very tech-friendly (:D) is to create a scrapper with Selenium page in python to scrap the information we need. Selenium is a website testing library in python that can also be utilized into a webscrapper. This approach has another limitation excluse for users like me, since I'm in Iran right now, access to the Instagram is restricted and we have to use VPNs and geo-restriction bypasses, these tools add another layer of challenge and additional bottleneck. Another approach that I try to utilize, is to use the graphql endpoints to recieve the information needed in JSON format. Eventhough still use of VPNs and similar tools is needed in this approach, but unlike the Selenium this approach doesn't require to load the GUI of Instagram, its much more faster and eligble in a pipeline."
   ]
  },
  {
   "attachments": {},
   "cell_type": "markdown",
   "metadata": {},
   "source": [
    "- end point for user information:\n",
    "`https://www.instagram.com/{username}/?__a=1&__d=dis\n",
    "`\n",
    "\n",
    "- end point for post information:\n",
    "`https://www.instagram.com/p/{post_ID}/?__a=1&__d=dis\n",
    "`\n",
    "\n",
    "getting training data for the model:\n",
    "- each json response of an account gives 12 latest post\n",
    "information:\n",
    "\n",
    "  - Alt text information is here: `data['graphql']['user']['edge_owner_to_timeline_media']['edges'][0]['node']['accessibility_caption']`\n",
    "    - each node has type, `GraphImage` is posts which have alt text.\n",
    "    - `GraphVideo` doesn't have alt text.\n",
    "    - `GraphSideCar` is carousel and have alt text.\n",
    "  - number of comments is here: `data['graphql']['user']['edge_owner_to_timeline_media']['edges'][0]['node']['edge_media_to_comment']['count']`\n",
    "  - number of likes is here: `data['graphql']['user']['edge_owner_to_timeline_media']['edges'][0]['node']['edge_liked_by']['count']`\n"
   ]
  },
  {
   "cell_type": "code",
   "execution_count": 4,
   "metadata": {},
   "outputs": [],
   "source": [
    "import warnings\n",
    "warnings.simplefilter(action='ignore', category=FutureWarning)\n",
    "\n",
    "import requests\n",
    "from datetime import datetime\n",
    "import json\n",
    "import re\n",
    "import numpy as np\n",
    "import pandas as pd\n",
    "from tqdm import tqdm\n",
    "import time\n",
    "\n",
    "# reading accounts lists for gathering training data.\n",
    "with open('Data/top_100_follower.txt') as f:\n",
    "    lines = f.readlines()\n",
    "top_100_followers = lines[0].split(',')\n",
    "\n",
    "with open('Data/top_100_posts.txt') as f:\n",
    "    lines = f.readlines()\n",
    "top_100_posts = lines[0].split(',')\n",
    "\n",
    "# since added try exception in the main body of collecting data, this section is probably unnecessary, double check it.\n",
    "main_accounts_df = pd.DataFrame(columns=['id', 'username', 'category_name', 'follower', 'following', 'ar_effect', 'type_business', 'type_professional', 'verified', 'reel_count', 'reel_avg_view', 'reel_avg_comment', 'reel_avg_like', 'reel_avg_duration', 'reel_frequency', 'media_count', 'media_avg_comment', 'media_avg_like', 'media_frequency'])\n",
    "main_posts_df = pd.DataFrame(columns=['shortcode', 'post_type', 'username', 'like', 'comment', 'object_1', 'object_2', 'object_3', 'object_4', 'object_5','object_6'])\n",
    "\n",
    "def flatten(lst):\n",
    "    \"\"\"A helper function to flatten any dimensional python list to 1D one.\n",
    "\n",
    "    Args:\n",
    "        lst (list): multi dimension python list\n",
    "\n",
    "    Returns:\n",
    "        list: flattened list\n",
    "    \"\"\"\n",
    "    rt = []\n",
    "    for i in lst:\n",
    "        if isinstance(i,list): rt.extend(flatten(i))\n",
    "        else: rt.append(i)\n",
    "    return rt"
   ]
  },
  {
   "attachments": {},
   "cell_type": "markdown",
   "metadata": {},
   "source": [
    "#### Logging into the Instagram account\n",
    "This step is necesary for getting information of the images, since majority of information in Instagram are locked behind the authentication wall."
   ]
  },
  {
   "cell_type": "code",
   "execution_count": null,
   "metadata": {},
   "outputs": [],
   "source": []
  },
  {
   "cell_type": "code",
   "execution_count": 21,
   "metadata": {},
   "outputs": [
    {
     "name": "stdout",
     "output_type": "stream",
     "text": [
      "login successful\n",
      "csrf_token:  9vHtMLb9fM1vXgzhYgnmPm6hiGcDnTxk\n",
      "session_id:  1691538713%3A4U7RAkN6UQ9HWH%3A5%3AAYcsGkH_-69pYpwEIxjJATIipnc9OVEwa-YlVqaaKQ\n"
     ]
    }
   ],
   "source": [
    "link = 'https://www.instagram.com/accounts/login/'\n",
    "login_url = 'https://www.instagram.com/accounts/login/ajax/'\n",
    "headers = {'user-agent': 'Mozilla/5.0 (Windows NT 10.0; Win64; x64) AppleWebKit/537.36 (KHTML, like Gecko) Chrome/84.0.4147.89 Safari/537.36',\n",
    "            'referer':'https://www.instagram.com/',\n",
    "            'Accept': 'text/html,application/xhtml+xml,application/xml;q=0.9,image/avif,image/webp,*/*;q=0.8',\n",
    "            'Accept-Language': 'en-US,en;q=0.5',\n",
    "            'Accept-Encoding': 'gzip, deflate, br',\n",
    "            'Connection': 'keep-alive',\n",
    "            'Upgrade-Insecure-Requests': '1',\n",
    "            'Sec-Fetch-Dest': 'document',\n",
    "            'Sec-Fetch-Mode': 'navigate',\n",
    "            'Sec-Fetch-Site': 'none',\n",
    "            'Sec-Fetch-User': '?1',\n",
    "            'TE': 'trailers'\n",
    "}\n",
    "\n",
    "\n",
    "current_time = int(datetime.now().timestamp())\n",
    "response = requests.Session().get(link, headers=headers)\n",
    "if response.ok:\n",
    "    csrf = re.findall(r'csrf_token\\\\\":\\\\\"(.*?)\\\\\"',response.text)[0]\n",
    "    username = 'rfdeveloping'\n",
    "    password = 'ramin1234'\n",
    "\n",
    "    payload = {\n",
    "        'username': username,\n",
    "        'enc_password': f'#PWD_INSTAGRAM_BROWSER:0:{current_time}:{password}',\n",
    "        'queryParams': {},\n",
    "        'optIntoOneTap': 'false',\n",
    "        'stopDeletionNonce': '',\n",
    "        'trustedDeviceRecords': '{}'\n",
    "    }\n",
    "\n",
    "    login_header = {\n",
    "        'user-agent': 'Mozilla/5.0 (Windows NT 10.0; Win64; x64) AppleWebKit/537.36 (KHTML, like Gecko) Chrome/84.0.4147.89 Safari/537.36',\n",
    "        \"X-Requested-With\": \"XMLHttpRequest\",\n",
    "        \"Referer\": \"https://www.instagram.com/accounts/login/\",\n",
    "        \"X-CSRFToken\": csrf,\n",
    "        'Accept': '*/*',\n",
    "        'Accept-Language': 'en-US,en;q=0.5',\n",
    "        'X-Instagram-AJAX': 'c6412f1b1b7b',\n",
    "        'X-IG-App-ID': '936619743392459',\n",
    "        'X-ASBD-ID': '198387',\n",
    "        'X-IG-WWW-Claim': '0',\n",
    "        'X-Requested-With': 'XMLHttpRequest',\n",
    "        'Origin': 'https://www.instagram.com',\n",
    "        'DNT': '1',\n",
    "        'Connection': 'keep-alive',\n",
    "        'Referer': 'https://www.instagram.com/accounts/login/?',\n",
    "        'Sec-Fetch-Dest': 'empty',\n",
    "        'Sec-Fetch-Mode': 'cors',\n",
    "        'Sec-Fetch-Site': 'same-origin',\n",
    "    }\n",
    "\n",
    "    login_response = requests.post(login_url, data=payload, headers=login_header)\n",
    "    json_data = json.loads(login_response.text)\n",
    "\n",
    "\n",
    "    if json_data['status'] == 'fail':\n",
    "        print(json_data['message'])\n",
    "\n",
    "    elif json_data[\"authenticated\"]:\n",
    "        print(\"login successful\")\n",
    "        cookies = login_response.cookies\n",
    "        cookie_jar = cookies.get_dict()\n",
    "        csrf_token = cookie_jar['csrftoken']\n",
    "        print(\"csrf_token: \", csrf_token)\n",
    "        session_id = cookie_jar['sessionid']\n",
    "        print(\"session_id: \", session_id)\n",
    "\n",
    "    else:\n",
    "        print(\"login failed \", login_response.text)\n",
    "else:\n",
    "    print('error')\n",
    "    print(response)"
   ]
  },
  {
   "attachments": {},
   "cell_type": "markdown",
   "metadata": {},
   "source": [
    "#### Collecting Data"
   ]
  },
  {
   "cell_type": "code",
   "execution_count": 22,
   "metadata": {},
   "outputs": [
    {
     "name": "stderr",
     "output_type": "stream",
     "text": [
      "  0%|          | 0/100 [00:00<?, ?it/s]"
     ]
    },
    {
     "name": "stdout",
     "output_type": "stream",
     "text": [
      "Getting Account Information: instagram\n",
      "Adding instagram information...\n",
      "Getting Posts Information: instagram\n",
      "Adding instagram posts information...\n",
      "Waiting 5 seconds...\n"
     ]
    },
    {
     "name": "stderr",
     "output_type": "stream",
     "text": [
      "  1%|          | 1/100 [00:07<11:59,  7.26s/it]"
     ]
    },
    {
     "name": "stdout",
     "output_type": "stream",
     "text": [
      "Getting Account Information: cristiano\n",
      "Adding cristiano information...\n",
      "Getting Posts Information: cristiano\n",
      "Adding cristiano posts information...\n",
      "Waiting 5 seconds...\n"
     ]
    },
    {
     "name": "stderr",
     "output_type": "stream",
     "text": [
      "  2%|▏         | 2/100 [00:14<11:39,  7.14s/it]"
     ]
    },
    {
     "name": "stdout",
     "output_type": "stream",
     "text": [
      "Getting Account Information: leomessi\n",
      "Adding leomessi information...\n",
      "Getting Posts Information: leomessi\n",
      "Adding leomessi posts information...\n",
      "Waiting 5 seconds...\n"
     ]
    },
    {
     "name": "stderr",
     "output_type": "stream",
     "text": [
      "  3%|▎         | 3/100 [00:21<11:16,  6.97s/it]"
     ]
    },
    {
     "name": "stdout",
     "output_type": "stream",
     "text": [
      "Getting Account Information: selenagomez\n",
      "Adding selenagomez information...\n",
      "Getting Posts Information: selenagomez\n",
      "Adding selenagomez posts information...\n",
      "Waiting 5 seconds...\n"
     ]
    },
    {
     "name": "stderr",
     "output_type": "stream",
     "text": [
      "  4%|▍         | 4/100 [00:27<11:06,  6.94s/it]"
     ]
    },
    {
     "name": "stdout",
     "output_type": "stream",
     "text": [
      "Getting Account Information: kyliejenner\n",
      "Adding kyliejenner information...\n",
      "Getting Posts Information: kyliejenner\n",
      "Adding kyliejenner posts information...\n",
      "Waiting 5 seconds...\n"
     ]
    },
    {
     "name": "stderr",
     "output_type": "stream",
     "text": [
      "  5%|▌         | 5/100 [00:34<10:51,  6.86s/it]"
     ]
    },
    {
     "name": "stdout",
     "output_type": "stream",
     "text": [
      "Getting Account Information: therock\n",
      "Adding therock information...\n",
      "Getting Posts Information: therock\n",
      "Adding therock posts information...\n",
      "Waiting 5 seconds...\n"
     ]
    },
    {
     "name": "stderr",
     "output_type": "stream",
     "text": [
      "  6%|▌         | 6/100 [00:42<11:12,  7.15s/it]"
     ]
    },
    {
     "name": "stdout",
     "output_type": "stream",
     "text": [
      "Getting Account Information: arianagrande\n",
      "Adding arianagrande information...\n",
      "Getting Posts Information: arianagrande\n",
      "Adding arianagrande posts information...\n",
      "Waiting 5 seconds...\n"
     ]
    },
    {
     "name": "stderr",
     "output_type": "stream",
     "text": [
      "  7%|▋         | 7/100 [00:49<11:10,  7.21s/it]"
     ]
    },
    {
     "name": "stdout",
     "output_type": "stream",
     "text": [
      "Getting Account Information: kimkardashian\n",
      "Adding kimkardashian information...\n",
      "Getting Posts Information: kimkardashian\n",
      "Adding kimkardashian posts information...\n",
      "Waiting 5 seconds...\n"
     ]
    },
    {
     "name": "stderr",
     "output_type": "stream",
     "text": [
      "  8%|▊         | 8/100 [00:57<11:06,  7.25s/it]"
     ]
    },
    {
     "name": "stdout",
     "output_type": "stream",
     "text": [
      "Getting Account Information: beyonce\n",
      "Adding beyonce information...\n",
      "Getting Posts Information: beyonce\n",
      "Adding beyonce posts information...\n",
      "Waiting 5 seconds...\n"
     ]
    },
    {
     "name": "stderr",
     "output_type": "stream",
     "text": [
      "  9%|▉         | 9/100 [01:04<11:14,  7.41s/it]"
     ]
    },
    {
     "name": "stdout",
     "output_type": "stream",
     "text": [
      "Getting Account Information: khloekardashian\n",
      "Adding khloekardashian information...\n",
      "Getting Posts Information: khloekardashian\n",
      "Adding khloekardashian posts information...\n",
      "Waiting 5 seconds...\n"
     ]
    },
    {
     "name": "stderr",
     "output_type": "stream",
     "text": [
      " 10%|█         | 10/100 [01:11<10:56,  7.30s/it]"
     ]
    },
    {
     "name": "stdout",
     "output_type": "stream",
     "text": [
      "Getting Account Information: justinbieber\n",
      "Adding justinbieber information...\n",
      "Getting Posts Information: justinbieber\n",
      "Adding justinbieber posts information...\n",
      "Waiting 5 seconds...\n"
     ]
    },
    {
     "name": "stderr",
     "output_type": "stream",
     "text": [
      " 11%|█         | 11/100 [01:19<10:46,  7.26s/it]"
     ]
    },
    {
     "name": "stdout",
     "output_type": "stream",
     "text": [
      "Getting Account Information: nike\n",
      "Adding nike information...\n",
      "Getting Posts Information: nike\n",
      "Adding nike posts information...\n",
      "Waiting 5 seconds...\n"
     ]
    },
    {
     "name": "stderr",
     "output_type": "stream",
     "text": [
      " 12%|█▏        | 12/100 [01:26<10:38,  7.25s/it]"
     ]
    },
    {
     "name": "stdout",
     "output_type": "stream",
     "text": [
      "Getting Account Information: kendalljenner\n",
      "Adding kendalljenner information...\n",
      "Getting Posts Information: kendalljenner\n",
      "Adding kendalljenner posts information...\n",
      "Waiting 5 seconds...\n"
     ]
    },
    {
     "name": "stderr",
     "output_type": "stream",
     "text": [
      " 13%|█▎        | 13/100 [01:33<10:20,  7.13s/it]"
     ]
    },
    {
     "name": "stdout",
     "output_type": "stream",
     "text": [
      "Getting Account Information: natgeo\n",
      "Adding natgeo information...\n",
      "Getting Posts Information: natgeo\n",
      "Adding natgeo posts information...\n",
      "Waiting 5 seconds...\n"
     ]
    },
    {
     "name": "stderr",
     "output_type": "stream",
     "text": [
      " 14%|█▍        | 14/100 [01:40<10:18,  7.19s/it]"
     ]
    },
    {
     "name": "stdout",
     "output_type": "stream",
     "text": [
      "Getting Account Information: taylorswift\n",
      "Adding taylorswift information...\n",
      "Getting Posts Information: taylorswift\n",
      "Adding taylorswift posts information...\n",
      "Waiting 5 seconds...\n"
     ]
    },
    {
     "name": "stderr",
     "output_type": "stream",
     "text": [
      " 15%|█▌        | 15/100 [01:47<10:09,  7.17s/it]"
     ]
    },
    {
     "name": "stdout",
     "output_type": "stream",
     "text": [
      "Getting Account Information: virat.kohli\n",
      "Adding virat.kohli information...\n",
      "Getting Posts Information: virat.kohli\n",
      "Adding virat.kohli posts information...\n",
      "Waiting 5 seconds...\n"
     ]
    },
    {
     "name": "stderr",
     "output_type": "stream",
     "text": [
      " 16%|█▌        | 16/100 [01:54<09:50,  7.03s/it]"
     ]
    },
    {
     "name": "stdout",
     "output_type": "stream",
     "text": [
      "Getting Account Information: jlo\n",
      "Adding jlo information...\n",
      "Getting Posts Information: jlo\n",
      "Adding jlo posts information...\n",
      "Waiting 5 seconds...\n"
     ]
    },
    {
     "name": "stderr",
     "output_type": "stream",
     "text": [
      " 17%|█▋        | 17/100 [02:01<09:38,  6.97s/it]"
     ]
    },
    {
     "name": "stdout",
     "output_type": "stream",
     "text": [
      "Getting Account Information: kourtneykardash\n",
      "Adding kourtneykardash information...\n",
      "Getting Posts Information: kourtneykardash\n",
      "Adding kourtneykardash posts information...\n",
      "Waiting 5 seconds...\n"
     ]
    },
    {
     "name": "stderr",
     "output_type": "stream",
     "text": [
      " 18%|█▊        | 18/100 [02:08<09:45,  7.14s/it]"
     ]
    },
    {
     "name": "stdout",
     "output_type": "stream",
     "text": [
      "Getting Account Information: nickiminaj\n",
      "Adding nickiminaj information...\n",
      "Getting Posts Information: nickiminaj\n",
      "Adding nickiminaj posts information...\n",
      "Waiting 5 seconds...\n"
     ]
    },
    {
     "name": "stderr",
     "output_type": "stream",
     "text": [
      " 19%|█▉        | 19/100 [02:16<09:56,  7.36s/it]"
     ]
    },
    {
     "name": "stdout",
     "output_type": "stream",
     "text": [
      "Getting Account Information: neymarjr\n",
      "Adding neymarjr information...\n",
      "Getting Posts Information: neymarjr\n",
      "Adding neymarjr posts information...\n",
      "Waiting 5 seconds...\n"
     ]
    },
    {
     "name": "stderr",
     "output_type": "stream",
     "text": [
      " 20%|██        | 20/100 [02:23<09:41,  7.27s/it]"
     ]
    },
    {
     "name": "stdout",
     "output_type": "stream",
     "text": [
      "Getting Account Information: mileycyrus\n",
      "Adding mileycyrus information...\n",
      "Getting Posts Information: mileycyrus\n",
      "Adding mileycyrus posts information...\n",
      "Waiting 5 seconds...\n"
     ]
    },
    {
     "name": "stderr",
     "output_type": "stream",
     "text": [
      " 21%|██        | 21/100 [02:30<09:32,  7.25s/it]"
     ]
    },
    {
     "name": "stdout",
     "output_type": "stream",
     "text": [
      "Getting Account Information: katyperry\n",
      "Adding katyperry information...\n",
      "Getting Posts Information: katyperry\n",
      "Adding katyperry posts information...\n",
      "Waiting 5 seconds...\n"
     ]
    },
    {
     "name": "stderr",
     "output_type": "stream",
     "text": [
      " 22%|██▏       | 22/100 [02:38<09:39,  7.43s/it]"
     ]
    },
    {
     "name": "stdout",
     "output_type": "stream",
     "text": [
      "Getting Account Information: zendaya\n",
      "Adding zendaya information...\n",
      "Getting Posts Information: zendaya\n",
      "Adding zendaya posts information...\n",
      "Waiting 5 seconds...\n"
     ]
    },
    {
     "name": "stderr",
     "output_type": "stream",
     "text": [
      " 23%|██▎       | 23/100 [02:45<09:29,  7.40s/it]"
     ]
    },
    {
     "name": "stdout",
     "output_type": "stream",
     "text": [
      "Getting Account Information: kevinhart4real\n",
      "Adding kevinhart4real information...\n",
      "Getting Posts Information: kevinhart4real\n",
      "Adding kevinhart4real posts information...\n",
      "Waiting 5 seconds...\n"
     ]
    },
    {
     "name": "stderr",
     "output_type": "stream",
     "text": [
      " 24%|██▍       | 24/100 [02:53<09:21,  7.39s/it]"
     ]
    },
    {
     "name": "stdout",
     "output_type": "stream",
     "text": [
      "Getting Account Information: ddlovato\n",
      "Adding ddlovato information...\n",
      "Getting Posts Information: ddlovato\n",
      "Adding ddlovato posts information...\n",
      "Waiting 5 seconds...\n"
     ]
    },
    {
     "name": "stderr",
     "output_type": "stream",
     "text": [
      " 25%|██▌       | 25/100 [03:00<09:11,  7.36s/it]"
     ]
    },
    {
     "name": "stdout",
     "output_type": "stream",
     "text": [
      "Getting Account Information: kingjames\n",
      "Adding kingjames information...\n",
      "Getting Posts Information: kingjames\n",
      "Adding kingjames posts information...\n",
      "Waiting 5 seconds...\n"
     ]
    },
    {
     "name": "stderr",
     "output_type": "stream",
     "text": [
      " 26%|██▌       | 26/100 [03:08<09:06,  7.38s/it]"
     ]
    },
    {
     "name": "stdout",
     "output_type": "stream",
     "text": [
      "Getting Account Information: badgalriri\n",
      "Adding badgalriri information...\n",
      "Getting Posts Information: badgalriri\n",
      "Adding badgalriri posts information...\n",
      "Waiting 5 seconds...\n"
     ]
    },
    {
     "name": "stderr",
     "output_type": "stream",
     "text": [
      " 27%|██▋       | 27/100 [03:15<08:54,  7.32s/it]"
     ]
    },
    {
     "name": "stdout",
     "output_type": "stream",
     "text": [
      "Getting Account Information: realmadrid\n",
      "Adding realmadrid information...\n",
      "Getting Posts Information: realmadrid\n",
      "Adding realmadrid posts information...\n",
      "Waiting 5 seconds...\n"
     ]
    },
    {
     "name": "stderr",
     "output_type": "stream",
     "text": [
      " 28%|██▊       | 28/100 [03:23<09:09,  7.63s/it]"
     ]
    },
    {
     "name": "stdout",
     "output_type": "stream",
     "text": [
      "Getting Account Information: champagnepapi\n",
      "Adding champagnepapi information...\n",
      "Getting Posts Information: champagnepapi\n",
      "Adding champagnepapi posts information...\n",
      "Waiting 5 seconds...\n"
     ]
    },
    {
     "name": "stderr",
     "output_type": "stream",
     "text": [
      " 29%|██▉       | 29/100 [03:32<09:28,  8.01s/it]"
     ]
    },
    {
     "name": "stdout",
     "output_type": "stream",
     "text": [
      "Getting Account Information: chrisbrownofficial\n",
      "Adding chrisbrownofficial information...\n",
      "Getting Posts Information: chrisbrownofficial\n",
      "Adding chrisbrownofficial posts information...\n",
      "Waiting 5 seconds...\n"
     ]
    },
    {
     "name": "stderr",
     "output_type": "stream",
     "text": [
      " 30%|███       | 30/100 [03:40<09:17,  7.96s/it]"
     ]
    },
    {
     "name": "stdout",
     "output_type": "stream",
     "text": [
      "Getting Account Information: fcbarcelona\n",
      "Adding fcbarcelona information...\n",
      "Getting Posts Information: fcbarcelona\n",
      "Adding fcbarcelona posts information...\n",
      "Waiting 5 seconds...\n"
     ]
    },
    {
     "name": "stderr",
     "output_type": "stream",
     "text": [
      " 31%|███       | 31/100 [03:50<09:51,  8.57s/it]"
     ]
    },
    {
     "name": "stdout",
     "output_type": "stream",
     "text": [
      "Getting Account Information: billieeilish\n",
      "Adding billieeilish information...\n",
      "Getting Posts Information: billieeilish\n",
      "Adding billieeilish posts information...\n",
      "Waiting 5 seconds...\n"
     ]
    },
    {
     "name": "stderr",
     "output_type": "stream",
     "text": [
      " 32%|███▏      | 32/100 [04:00<10:09,  8.97s/it]"
     ]
    },
    {
     "name": "stdout",
     "output_type": "stream",
     "text": [
      "Getting Account Information: championsleague\n",
      "Adding championsleague information...\n",
      "Getting Posts Information: championsleague\n",
      "Adding championsleague posts information...\n",
      "Waiting 5 seconds...\n"
     ]
    },
    {
     "name": "stderr",
     "output_type": "stream",
     "text": [
      " 33%|███▎      | 33/100 [04:09<09:59,  8.95s/it]"
     ]
    },
    {
     "name": "stdout",
     "output_type": "stream",
     "text": [
      "Getting Account Information: k.mbappe\n",
      "Adding k.mbappe information...\n",
      "Getting Posts Information: k.mbappe\n",
      "Adding k.mbappe posts information...\n",
      "Waiting 5 seconds...\n"
     ]
    },
    {
     "name": "stderr",
     "output_type": "stream",
     "text": [
      " 34%|███▍      | 34/100 [04:16<09:25,  8.57s/it]"
     ]
    },
    {
     "name": "stdout",
     "output_type": "stream",
     "text": [
      "Getting Account Information: gal_gadot\n",
      "Adding gal_gadot information...\n",
      "Getting Posts Information: gal_gadot\n",
      "Adding gal_gadot posts information...\n",
      "Waiting 5 seconds...\n"
     ]
    },
    {
     "name": "stderr",
     "output_type": "stream",
     "text": [
      " 35%|███▌      | 35/100 [04:25<09:12,  8.50s/it]"
     ]
    },
    {
     "name": "stdout",
     "output_type": "stream",
     "text": [
      "Getting Account Information: vindiesel\n",
      "Adding vindiesel information...\n",
      "Getting Posts Information: vindiesel\n",
      "Adding vindiesel posts information...\n",
      "Waiting 5 seconds...\n"
     ]
    },
    {
     "name": "stderr",
     "output_type": "stream",
     "text": [
      " 36%|███▌      | 36/100 [04:32<08:48,  8.26s/it]"
     ]
    },
    {
     "name": "stdout",
     "output_type": "stream",
     "text": [
      "Getting Account Information: lalalalisa_m\n",
      "Adding lalalalisa_m information...\n",
      "Getting Posts Information: lalalalisa_m\n",
      "Adding lalalalisa_m posts information...\n",
      "Waiting 5 seconds...\n"
     ]
    },
    {
     "name": "stderr",
     "output_type": "stream",
     "text": [
      " 37%|███▋      | 37/100 [04:41<08:52,  8.45s/it]"
     ]
    },
    {
     "name": "stdout",
     "output_type": "stream",
     "text": [
      "Getting Account Information: nasa\n",
      "Adding nasa information...\n",
      "Getting Posts Information: nasa\n",
      "Adding nasa posts information...\n",
      "Waiting 5 seconds...\n"
     ]
    },
    {
     "name": "stderr",
     "output_type": "stream",
     "text": [
      " 38%|███▊      | 38/100 [04:50<08:45,  8.47s/it]"
     ]
    },
    {
     "name": "stdout",
     "output_type": "stream",
     "text": [
      "Getting Account Information: dualipa\n",
      "Adding dualipa information...\n",
      "Getting Posts Information: dualipa\n",
      "Adding dualipa posts information...\n",
      "Waiting 5 seconds...\n"
     ]
    },
    {
     "name": "stderr",
     "output_type": "stream",
     "text": [
      " 39%|███▉      | 39/100 [05:02<09:41,  9.53s/it]"
     ]
    },
    {
     "name": "stdout",
     "output_type": "stream",
     "text": [
      "Getting Account Information: priyankachopra\n",
      "Adding priyankachopra information...\n",
      "Getting Posts Information: priyankachopra\n",
      "Adding priyankachopra posts information...\n",
      "Waiting 5 seconds...\n"
     ]
    },
    {
     "name": "stderr",
     "output_type": "stream",
     "text": [
      " 40%|████      | 40/100 [05:12<09:35,  9.59s/it]"
     ]
    },
    {
     "name": "stdout",
     "output_type": "stream",
     "text": [
      "Getting Account Information: shakira\n",
      "Adding shakira information...\n",
      "Getting Posts Information: shakira\n",
      "Adding shakira posts information...\n",
      "Waiting 5 seconds...\n"
     ]
    },
    {
     "name": "stderr",
     "output_type": "stream",
     "text": [
      " 41%|████      | 41/100 [05:18<08:37,  8.78s/it]"
     ]
    },
    {
     "name": "stdout",
     "output_type": "stream",
     "text": [
      "Getting Account Information: snoopdogg\n",
      "Adding snoopdogg information...\n",
      "Getting Posts Information: snoopdogg\n",
      "Adding snoopdogg posts information...\n",
      "Waiting 5 seconds...\n"
     ]
    },
    {
     "name": "stderr",
     "output_type": "stream",
     "text": [
      " 42%|████▏     | 42/100 [05:28<08:34,  8.88s/it]"
     ]
    },
    {
     "name": "stdout",
     "output_type": "stream",
     "text": [
      "Getting Account Information: shraddhakapoor\n",
      "Adding shraddhakapoor information...\n",
      "Getting Posts Information: shraddhakapoor\n",
      "Adding shraddhakapoor posts information...\n",
      "Waiting 5 seconds...\n"
     ]
    },
    {
     "name": "stderr",
     "output_type": "stream",
     "text": [
      " 43%|████▎     | 43/100 [05:34<07:52,  8.30s/it]"
     ]
    },
    {
     "name": "stdout",
     "output_type": "stream",
     "text": [
      "Getting Account Information: khaby00\n",
      "Adding khaby00 information...\n",
      "Getting Posts Information: khaby00\n",
      "Adding khaby00 posts information...\n",
      "Waiting 5 seconds...\n"
     ]
    },
    {
     "name": "stderr",
     "output_type": "stream",
     "text": [
      " 44%|████▍     | 44/100 [05:41<07:19,  7.84s/it]"
     ]
    },
    {
     "name": "stdout",
     "output_type": "stream",
     "text": [
      "Getting Account Information: nba\n",
      "Adding nba information...\n",
      "Getting Posts Information: nba\n",
      "Adding nba posts information...\n",
      "Waiting 5 seconds...\n"
     ]
    },
    {
     "name": "stderr",
     "output_type": "stream",
     "text": [
      " 45%|████▌     | 45/100 [05:52<07:54,  8.62s/it]"
     ]
    },
    {
     "name": "stdout",
     "output_type": "stream",
     "text": [
      "Getting Account Information: davidbeckham\n",
      "Adding davidbeckham information...\n",
      "Getting Posts Information: davidbeckham\n",
      "Adding davidbeckham posts information...\n",
      "Waiting 5 seconds...\n"
     ]
    },
    {
     "name": "stderr",
     "output_type": "stream",
     "text": [
      " 46%|████▌     | 46/100 [05:58<07:13,  8.03s/it]"
     ]
    },
    {
     "name": "stdout",
     "output_type": "stream",
     "text": [
      "Getting Account Information: gigihadid\n",
      "Adding gigihadid information...\n",
      "Getting Posts Information: gigihadid\n",
      "Adding gigihadid posts information...\n",
      "Waiting 5 seconds...\n"
     ]
    },
    {
     "name": "stderr",
     "output_type": "stream",
     "text": [
      " 47%|████▋     | 47/100 [06:05<06:49,  7.73s/it]"
     ]
    },
    {
     "name": "stdout",
     "output_type": "stream",
     "text": [
      "Getting Account Information: jennierubyjane\n",
      "Adding jennierubyjane information...\n",
      "Getting Posts Information: jennierubyjane\n",
      "Adding jennierubyjane posts information...\n",
      "Waiting 5 seconds...\n"
     ]
    },
    {
     "name": "stderr",
     "output_type": "stream",
     "text": [
      " 48%|████▊     | 48/100 [06:13<06:36,  7.63s/it]"
     ]
    },
    {
     "name": "stdout",
     "output_type": "stream",
     "text": [
      "Getting Account Information: aliaabhatt\n",
      "Adding aliaabhatt information...\n",
      "Getting Posts Information: aliaabhatt\n",
      "Adding aliaabhatt posts information...\n",
      "Waiting 5 seconds...\n"
     ]
    },
    {
     "name": "stderr",
     "output_type": "stream",
     "text": [
      " 49%|████▉     | 49/100 [06:20<06:17,  7.40s/it]"
     ]
    },
    {
     "name": "stdout",
     "output_type": "stream",
     "text": [
      "Getting Account Information: victoriassecret\n",
      "Adding victoriassecret information...\n",
      "Getting Posts Information: victoriassecret\n",
      "Adding victoriassecret posts information...\n",
      "Waiting 5 seconds...\n"
     ]
    },
    {
     "name": "stderr",
     "output_type": "stream",
     "text": [
      " 50%|█████     | 50/100 [06:26<06:01,  7.23s/it]"
     ]
    },
    {
     "name": "stdout",
     "output_type": "stream",
     "text": [
      "Getting Account Information: narendramodi\n",
      "Adding narendramodi information...\n",
      "Getting Posts Information: narendramodi\n",
      "Adding narendramodi posts information...\n",
      "Waiting 5 seconds...\n"
     ]
    },
    {
     "name": "stderr",
     "output_type": "stream",
     "text": [
      " 51%|█████     | 51/100 [06:33<05:46,  7.07s/it]"
     ]
    },
    {
     "name": "stdout",
     "output_type": "stream",
     "text": [
      "Getting Account Information: nehakakkar\n",
      "Adding nehakakkar information...\n",
      "Getting Posts Information: nehakakkar\n",
      "Adding nehakakkar posts information...\n",
      "Waiting 5 seconds...\n"
     ]
    },
    {
     "name": "stderr",
     "output_type": "stream",
     "text": [
      " 52%|█████▏    | 52/100 [06:40<05:36,  7.01s/it]"
     ]
    },
    {
     "name": "stdout",
     "output_type": "stream",
     "text": [
      "Getting Account Information: bts.bighitofficial\n",
      "Adding bts.bighitofficial information...\n",
      "Getting Posts Information: bts.bighitofficial\n",
      "Adding bts.bighitofficial posts information...\n",
      "Waiting 5 seconds...\n"
     ]
    },
    {
     "name": "stderr",
     "output_type": "stream",
     "text": [
      " 53%|█████▎    | 53/100 [06:47<05:23,  6.88s/it]"
     ]
    },
    {
     "name": "stdout",
     "output_type": "stream",
     "text": [
      "Getting Account Information: ronaldinho\n",
      "Adding ronaldinho information...\n",
      "Getting Posts Information: ronaldinho\n",
      "Adding ronaldinho posts information...\n",
      "Waiting 5 seconds...\n"
     ]
    },
    {
     "name": "stderr",
     "output_type": "stream",
     "text": [
      " 54%|█████▍    | 54/100 [06:54<05:17,  6.90s/it]"
     ]
    },
    {
     "name": "stdout",
     "output_type": "stream",
     "text": [
      "Getting Account Information: deepikapadukone\n",
      "Adding deepikapadukone information...\n",
      "Getting Posts Information: deepikapadukone\n",
      "Adding deepikapadukone posts information...\n",
      "Waiting 5 seconds...\n"
     ]
    },
    {
     "name": "stderr",
     "output_type": "stream",
     "text": [
      " 55%|█████▌    | 55/100 [07:00<05:08,  6.85s/it]"
     ]
    },
    {
     "name": "stdout",
     "output_type": "stream",
     "text": [
      "Getting Account Information: shawnmendes\n",
      "Adding shawnmendes information...\n",
      "Getting Posts Information: shawnmendes\n",
      "Adding shawnmendes posts information...\n",
      "Waiting 5 seconds...\n"
     ]
    },
    {
     "name": "stderr",
     "output_type": "stream",
     "text": [
      " 56%|█████▌    | 56/100 [07:07<05:03,  6.90s/it]"
     ]
    },
    {
     "name": "stdout",
     "output_type": "stream",
     "text": [
      "Getting Account Information: katrinakaif\n",
      "Adding katrinakaif information...\n",
      "Getting Posts Information: katrinakaif\n",
      "Adding katrinakaif posts information...\n",
      "Waiting 5 seconds...\n"
     ]
    },
    {
     "name": "stderr",
     "output_type": "stream",
     "text": [
      " 57%|█████▋    | 57/100 [07:14<04:55,  6.88s/it]"
     ]
    },
    {
     "name": "stdout",
     "output_type": "stream",
     "text": [
      "Getting Account Information: sooyaaa__\n",
      "Adding sooyaaa__ information...\n",
      "Getting Posts Information: sooyaaa__\n",
      "Adding sooyaaa__ posts information...\n",
      "Waiting 5 seconds...\n"
     ]
    },
    {
     "name": "stderr",
     "output_type": "stream",
     "text": [
      " 58%|█████▊    | 58/100 [07:21<04:51,  6.94s/it]"
     ]
    },
    {
     "name": "stdout",
     "output_type": "stream",
     "text": [
      "Getting Account Information: psg\n",
      "Adding psg information...\n",
      "Getting Posts Information: psg\n",
      "Adding psg posts information...\n",
      "Waiting 5 seconds...\n"
     ]
    },
    {
     "name": "stderr",
     "output_type": "stream",
     "text": [
      " 59%|█████▉    | 59/100 [07:29<04:54,  7.18s/it]"
     ]
    },
    {
     "name": "stdout",
     "output_type": "stream",
     "text": [
      "Getting Account Information: emmawatson\n",
      "Adding emmawatson information...\n",
      "Getting Posts Information: emmawatson\n",
      "Adding emmawatson posts information...\n",
      "Waiting 5 seconds...\n"
     ]
    },
    {
     "name": "stderr",
     "output_type": "stream",
     "text": [
      " 60%|██████    | 60/100 [07:35<04:38,  6.97s/it]"
     ]
    },
    {
     "name": "stdout",
     "output_type": "stream",
     "text": [
      "Getting Account Information: roses_are_rosie\n",
      "Adding roses_are_rosie information...\n",
      "Getting Posts Information: roses_are_rosie\n",
      "Adding roses_are_rosie posts information...\n",
      "Waiting 5 seconds...\n"
     ]
    },
    {
     "name": "stderr",
     "output_type": "stream",
     "text": [
      " 61%|██████    | 61/100 [07:43<04:35,  7.06s/it]"
     ]
    },
    {
     "name": "stdout",
     "output_type": "stream",
     "text": [
      "Getting Account Information: justintimberlake\n",
      "Adding justintimberlake information...\n",
      "Getting Posts Information: justintimberlake\n",
      "Adding justintimberlake posts information...\n",
      "Waiting 5 seconds...\n"
     ]
    },
    {
     "name": "stderr",
     "output_type": "stream",
     "text": [
      " 62%|██████▏   | 62/100 [07:50<04:32,  7.17s/it]"
     ]
    },
    {
     "name": "stdout",
     "output_type": "stream",
     "text": [
      "Getting Account Information: karimbenzema\n",
      "Adding karimbenzema information...\n",
      "Getting Posts Information: karimbenzema\n",
      "Adding karimbenzema posts information...\n",
      "Waiting 5 seconds...\n"
     ]
    },
    {
     "name": "stderr",
     "output_type": "stream",
     "text": [
      " 63%|██████▎   | 63/100 [07:57<04:18,  7.00s/it]"
     ]
    },
    {
     "name": "stdout",
     "output_type": "stream",
     "text": [
      "Getting Account Information: raffinagita1717\n",
      "Adding raffinagita1717 information...\n",
      "Getting Posts Information: raffinagita1717\n",
      "Adding raffinagita1717 posts information...\n",
      "Waiting 5 seconds...\n"
     ]
    },
    {
     "name": "stderr",
     "output_type": "stream",
     "text": [
      " 64%|██████▍   | 64/100 [08:05<04:26,  7.40s/it]"
     ]
    },
    {
     "name": "stdout",
     "output_type": "stream",
     "text": [
      "Getting Account Information: marvel\n",
      "Adding marvel information...\n",
      "Getting Posts Information: marvel\n",
      "Adding marvel posts information...\n",
      "Waiting 5 seconds...\n"
     ]
    },
    {
     "name": "stderr",
     "output_type": "stream",
     "text": [
      " 65%|██████▌   | 65/100 [08:13<04:20,  7.43s/it]"
     ]
    },
    {
     "name": "stdout",
     "output_type": "stream",
     "text": [
      "Getting Account Information: tomholland2013\n",
      "Adding tomholland2013 information...\n",
      "Getting Posts Information: tomholland2013\n",
      "Adding tomholland2013 posts information...\n",
      "Waiting 5 seconds...\n"
     ]
    },
    {
     "name": "stderr",
     "output_type": "stream",
     "text": [
      " 66%|██████▌   | 66/100 [08:19<04:04,  7.19s/it]"
     ]
    },
    {
     "name": "stdout",
     "output_type": "stream",
     "text": [
      "Getting Account Information: camila_cabello\n",
      "Adding camila_cabello information...\n",
      "Getting Posts Information: camila_cabello\n",
      "Adding camila_cabello posts information...\n",
      "Waiting 5 seconds...\n"
     ]
    },
    {
     "name": "stderr",
     "output_type": "stream",
     "text": [
      " 67%|██████▋   | 67/100 [08:26<03:58,  7.22s/it]"
     ]
    },
    {
     "name": "stdout",
     "output_type": "stream",
     "text": [
      "Getting Account Information: jacquelinef143\n",
      "Adding jacquelinef143 information...\n",
      "Getting Posts Information: jacquelinef143\n",
      "Adding jacquelinef143 posts information...\n",
      "Waiting 5 seconds...\n"
     ]
    },
    {
     "name": "stderr",
     "output_type": "stream",
     "text": [
      " 68%|██████▊   | 68/100 [08:34<03:49,  7.19s/it]"
     ]
    },
    {
     "name": "stdout",
     "output_type": "stream",
     "text": [
      "Getting Account Information: premierleague\n",
      "Adding premierleague information...\n",
      "Getting Posts Information: premierleague\n",
      "Adding premierleague posts information...\n",
      "Waiting 5 seconds...\n"
     ]
    },
    {
     "name": "stderr",
     "output_type": "stream",
     "text": [
      " 69%|██████▉   | 69/100 [08:42<03:52,  7.51s/it]"
     ]
    },
    {
     "name": "stdout",
     "output_type": "stream",
     "text": [
      "Getting Account Information: akshaykumar\n",
      "Adding akshaykumar information...\n",
      "Getting Posts Information: akshaykumar\n",
      "Adding akshaykumar posts information...\n",
      "Waiting 5 seconds...\n"
     ]
    },
    {
     "name": "stderr",
     "output_type": "stream",
     "text": [
      " 70%|███████   | 70/100 [08:50<03:49,  7.64s/it]"
     ]
    },
    {
     "name": "stdout",
     "output_type": "stream",
     "text": [
      "Getting Account Information: anitta\n",
      "Adding anitta information...\n",
      "Getting Posts Information: anitta\n",
      "Adding anitta posts information...\n",
      "Waiting 5 seconds...\n"
     ]
    },
    {
     "name": "stderr",
     "output_type": "stream",
     "text": [
      " 71%|███████   | 71/100 [08:58<03:44,  7.73s/it]"
     ]
    },
    {
     "name": "stdout",
     "output_type": "stream",
     "text": [
      "Getting Account Information: urvashirautela\n",
      "Adding urvashirautela information...\n",
      "Getting Posts Information: urvashirautela\n",
      "Adding urvashirautela posts information...\n",
      "Waiting 5 seconds...\n"
     ]
    },
    {
     "name": "stderr",
     "output_type": "stream",
     "text": [
      " 72%|███████▏  | 72/100 [09:05<03:31,  7.57s/it]"
     ]
    },
    {
     "name": "stdout",
     "output_type": "stream",
     "text": [
      "Getting Account Information: anushkasharma\n",
      "Adding anushkasharma information...\n",
      "Getting Posts Information: anushkasharma\n",
      "Adding anushkasharma posts information...\n",
      "Waiting 5 seconds...\n"
     ]
    },
    {
     "name": "stderr",
     "output_type": "stream",
     "text": [
      " 73%|███████▎  | 73/100 [09:12<03:22,  7.51s/it]"
     ]
    },
    {
     "name": "stdout",
     "output_type": "stream",
     "text": [
      "Getting Account Information: willsmith\n",
      "Adding willsmith information...\n",
      "Getting Posts Information: willsmith\n",
      "Adding willsmith posts information...\n",
      "Waiting 5 seconds...\n"
     ]
    },
    {
     "name": "stderr",
     "output_type": "stream",
     "text": [
      " 74%|███████▍  | 74/100 [09:20<03:14,  7.48s/it]"
     ]
    },
    {
     "name": "stdout",
     "output_type": "stream",
     "text": [
      "Getting Account Information: maluma\n",
      "Adding maluma information...\n",
      "Getting Posts Information: maluma\n",
      "Adding maluma posts information...\n",
      "Waiting 5 seconds...\n"
     ]
    },
    {
     "name": "stderr",
     "output_type": "stream",
     "text": [
      " 75%|███████▌  | 75/100 [09:27<03:02,  7.31s/it]"
     ]
    },
    {
     "name": "stdout",
     "output_type": "stream",
     "text": [
      "Getting Account Information: milliebobbybrown\n",
      "Adding milliebobbybrown information...\n",
      "Getting Posts Information: milliebobbybrown\n",
      "Adding milliebobbybrown posts information...\n",
      "Waiting 5 seconds...\n"
     ]
    },
    {
     "name": "stderr",
     "output_type": "stream",
     "text": [
      " 76%|███████▌  | 76/100 [09:33<02:51,  7.15s/it]"
     ]
    },
    {
     "name": "stdout",
     "output_type": "stream",
     "text": [
      "Getting Account Information: marcelotwelve\n",
      "Adding marcelotwelve information...\n",
      "Getting Posts Information: marcelotwelve\n",
      "Adding marcelotwelve posts information...\n",
      "Waiting 5 seconds...\n"
     ]
    },
    {
     "name": "stderr",
     "output_type": "stream",
     "text": [
      " 77%|███████▋  | 77/100 [09:40<02:42,  7.09s/it]"
     ]
    },
    {
     "name": "stdout",
     "output_type": "stream",
     "text": [
      "Getting Account Information: 433\n",
      "Adding 433 information...\n",
      "Getting Posts Information: 433\n",
      "Adding 433 posts information...\n",
      "Waiting 5 seconds...\n"
     ]
    },
    {
     "name": "stderr",
     "output_type": "stream",
     "text": [
      " 78%|███████▊  | 78/100 [09:49<02:43,  7.45s/it]"
     ]
    },
    {
     "name": "stdout",
     "output_type": "stream",
     "text": [
      "Getting Account Information: manchesterunited\n",
      "Adding manchesterunited information...\n",
      "Getting Posts Information: manchesterunited\n",
      "Adding manchesterunited posts information...\n",
      "Waiting 5 seconds...\n"
     ]
    },
    {
     "name": "stderr",
     "output_type": "stream",
     "text": [
      " 79%|███████▉  | 79/100 [09:58<02:50,  8.10s/it]"
     ]
    },
    {
     "name": "stdout",
     "output_type": "stream",
     "text": [
      "Getting Account Information: karolg\n",
      "Adding karolg information...\n",
      "Getting Posts Information: karolg\n",
      "Adding karolg posts information...\n",
      "Waiting 5 seconds...\n"
     ]
    },
    {
     "name": "stderr",
     "output_type": "stream",
     "text": [
      " 80%|████████  | 80/100 [10:05<02:36,  7.84s/it]"
     ]
    },
    {
     "name": "stdout",
     "output_type": "stream",
     "text": [
      "Getting Account Information: zacefron\n",
      "Adding zacefron information...\n",
      "Getting Posts Information: zacefron\n",
      "Adding zacefron posts information...\n",
      "Waiting 5 seconds...\n"
     ]
    },
    {
     "name": "stderr",
     "output_type": "stream",
     "text": [
      " 81%|████████  | 81/100 [10:12<02:22,  7.51s/it]"
     ]
    },
    {
     "name": "stdout",
     "output_type": "stream",
     "text": [
      "Getting Account Information: beingsalmankhan\n",
      "Adding beingsalmankhan information...\n",
      "Getting Posts Information: beingsalmankhan\n",
      "Adding beingsalmankhan posts information...\n",
      "Waiting 5 seconds...\n"
     ]
    },
    {
     "name": "stderr",
     "output_type": "stream",
     "text": [
      " 82%|████████▏ | 82/100 [10:19<02:10,  7.27s/it]"
     ]
    },
    {
     "name": "stdout",
     "output_type": "stream",
     "text": [
      "Getting Account Information: iamzlatanibrahimovic\n",
      "Adding iamzlatanibrahimovic information...\n",
      "Getting Posts Information: iamzlatanibrahimovic\n",
      "Adding iamzlatanibrahimovic posts information...\n",
      "Waiting 5 seconds...\n"
     ]
    },
    {
     "name": "stderr",
     "output_type": "stream",
     "text": [
      " 83%|████████▎ | 83/100 [10:26<02:00,  7.11s/it]"
     ]
    },
    {
     "name": "stdout",
     "output_type": "stream",
     "text": [
      "Getting Account Information: 9gag\n",
      "Adding 9gag information...\n",
      "Getting Posts Information: 9gag\n",
      "Adding 9gag posts information...\n",
      "Waiting 5 seconds...\n"
     ]
    },
    {
     "name": "stderr",
     "output_type": "stream",
     "text": [
      " 84%|████████▍ | 84/100 [10:35<02:02,  7.64s/it]"
     ]
    },
    {
     "name": "stdout",
     "output_type": "stream",
     "text": [
      "Getting Account Information: whinderssonnunes\n",
      "Adding whinderssonnunes information...\n",
      "Getting Posts Information: whinderssonnunes\n",
      "Adding whinderssonnunes posts information...\n",
      "Waiting 5 seconds...\n"
     ]
    },
    {
     "name": "stderr",
     "output_type": "stream",
     "text": [
      " 85%|████████▌ | 85/100 [10:41<01:51,  7.43s/it]"
     ]
    },
    {
     "name": "stdout",
     "output_type": "stream",
     "text": [
      "Getting Account Information: thv\n",
      "Adding thv information...\n",
      "Getting Posts Information: thv\n",
      "Adding thv posts information...\n",
      "Waiting 5 seconds...\n"
     ]
    },
    {
     "name": "stderr",
     "output_type": "stream",
     "text": [
      " 86%|████████▌ | 86/100 [10:48<01:42,  7.29s/it]"
     ]
    },
    {
     "name": "stdout",
     "output_type": "stream",
     "text": [
      "Getting Account Information: bellahadid\n",
      "Adding bellahadid information...\n",
      "Getting Posts Information: bellahadid\n",
      "Adding bellahadid posts information...\n",
      "Waiting 5 seconds...\n"
     ]
    },
    {
     "name": "stderr",
     "output_type": "stream",
     "text": [
      " 87%|████████▋ | 87/100 [10:56<01:34,  7.27s/it]"
     ]
    },
    {
     "name": "stdout",
     "output_type": "stream",
     "text": [
      "Getting Account Information: paulpogba\n",
      "Adding paulpogba information...\n",
      "Getting Posts Information: paulpogba\n",
      "Adding paulpogba posts information...\n",
      "Waiting 5 seconds...\n"
     ]
    },
    {
     "name": "stderr",
     "output_type": "stream",
     "text": [
      " 88%|████████▊ | 88/100 [11:03<01:25,  7.14s/it]"
     ]
    },
    {
     "name": "stdout",
     "output_type": "stream",
     "text": [
      "Getting Account Information: juventus\n",
      "Adding juventus information...\n",
      "Getting Posts Information: juventus\n",
      "Adding juventus posts information...\n",
      "Waiting 5 seconds...\n"
     ]
    },
    {
     "name": "stderr",
     "output_type": "stream",
     "text": [
      " 89%|████████▉ | 89/100 [11:11<01:23,  7.59s/it]"
     ]
    },
    {
     "name": "stdout",
     "output_type": "stream",
     "text": [
      "Getting Account Information: leonardodicaprio\n",
      "Adding leonardodicaprio information...\n",
      "Getting Posts Information: leonardodicaprio\n",
      "Adding leonardodicaprio posts information...\n",
      "Waiting 5 seconds...\n"
     ]
    },
    {
     "name": "stderr",
     "output_type": "stream",
     "text": [
      " 90%|█████████ | 90/100 [11:18<01:13,  7.39s/it]"
     ]
    },
    {
     "name": "stdout",
     "output_type": "stream",
     "text": [
      "Getting Account Information: dishapatani\n",
      "Adding dishapatani information...\n",
      "Getting Posts Information: dishapatani\n",
      "Adding dishapatani posts information...\n",
      "Waiting 5 seconds...\n"
     ]
    },
    {
     "name": "stderr",
     "output_type": "stream",
     "text": [
      " 91%|█████████ | 91/100 [11:25<01:05,  7.30s/it]"
     ]
    },
    {
     "name": "stdout",
     "output_type": "stream",
     "text": [
      "Getting Account Information: sergioramos\n",
      "Adding sergioramos information...\n",
      "Getting Posts Information: sergioramos\n",
      "Adding sergioramos posts information...\n",
      "Waiting 5 seconds...\n"
     ]
    },
    {
     "name": "stderr",
     "output_type": "stream",
     "text": [
      " 92%|█████████▏| 92/100 [11:33<00:59,  7.49s/it]"
     ]
    },
    {
     "name": "stdout",
     "output_type": "stream",
     "text": [
      "Getting Account Information: zara\n",
      "Adding zara information...\n",
      "Getting Posts Information: zara\n",
      "Adding zara posts information...\n",
      "Waiting 5 seconds...\n"
     ]
    },
    {
     "name": "stderr",
     "output_type": "stream",
     "text": [
      " 93%|█████████▎| 93/100 [11:40<00:51,  7.30s/it]"
     ]
    },
    {
     "name": "stdout",
     "output_type": "stream",
     "text": [
      "Getting Account Information: chrishemsworth\n",
      "Adding chrishemsworth information...\n",
      "Getting Posts Information: chrishemsworth\n",
      "Adding chrishemsworth posts information...\n",
      "Waiting 5 seconds...\n"
     ]
    },
    {
     "name": "stderr",
     "output_type": "stream",
     "text": [
      " 94%|█████████▍| 94/100 [11:47<00:43,  7.25s/it]"
     ]
    },
    {
     "name": "stdout",
     "output_type": "stream",
     "text": [
      "Getting Account Information: tatawerneck\n",
      "Adding tatawerneck information...\n",
      "Getting Posts Information: tatawerneck\n",
      "Adding tatawerneck posts information...\n",
      "Waiting 5 seconds...\n"
     ]
    },
    {
     "name": "stderr",
     "output_type": "stream",
     "text": [
      " 95%|█████████▌| 95/100 [11:54<00:35,  7.19s/it]"
     ]
    },
    {
     "name": "stdout",
     "output_type": "stream",
     "text": [
      "Getting Account Information: robertdowneyjr\n",
      "Adding robertdowneyjr information...\n",
      "Getting Posts Information: robertdowneyjr\n",
      "Adding robertdowneyjr posts information...\n",
      "Waiting 5 seconds...\n"
     ]
    },
    {
     "name": "stderr",
     "output_type": "stream",
     "text": [
      " 96%|█████████▌| 96/100 [12:01<00:28,  7.12s/it]"
     ]
    },
    {
     "name": "stdout",
     "output_type": "stream",
     "text": [
      "Getting Account Information: paulodybala\n",
      "Adding paulodybala information...\n",
      "Getting Posts Information: paulodybala\n",
      "Adding paulodybala posts information...\n",
      "Waiting 5 seconds...\n"
     ]
    },
    {
     "name": "stderr",
     "output_type": "stream",
     "text": [
      " 97%|█████████▋| 97/100 [12:09<00:21,  7.27s/it]"
     ]
    },
    {
     "name": "stdout",
     "output_type": "stream",
     "text": [
      "Getting Account Information: chanelofficial\n",
      "Adding chanelofficial information...\n",
      "Getting Posts Information: chanelofficial\n",
      "Adding chanelofficial posts information...\n",
      "Waiting 5 seconds...\n"
     ]
    },
    {
     "name": "stderr",
     "output_type": "stream",
     "text": [
      " 98%|█████████▊| 98/100 [12:16<00:14,  7.29s/it]"
     ]
    },
    {
     "name": "stdout",
     "output_type": "stream",
     "text": [
      "Getting Account Information: ladygaga\n",
      "Adding ladygaga information...\n",
      "Getting Posts Information: ladygaga\n",
      "Adding ladygaga posts information...\n",
      "Waiting 5 seconds...\n"
     ]
    },
    {
     "name": "stderr",
     "output_type": "stream",
     "text": [
      " 99%|█████████▉| 99/100 [12:23<00:07,  7.17s/it]"
     ]
    },
    {
     "name": "stdout",
     "output_type": "stream",
     "text": [
      "Getting Account Information: sunnyleone\n",
      "Adding sunnyleone information...\n",
      "Getting Posts Information: sunnyleone\n",
      "Adding sunnyleone posts information...\n",
      "Waiting 5 seconds...\n"
     ]
    },
    {
     "name": "stderr",
     "output_type": "stream",
     "text": [
      "100%|██████████| 100/100 [12:30<00:00,  7.51s/it]\n"
     ]
    }
   ],
   "source": [
    "# add read main accounts and main posts csv files here as dataframe\n",
    "try:\n",
    "    main_accounts_df = pd.read_csv('Data/accounts.csv')\n",
    "    main_posts_df = pd.read_csv('Data/posts.csv')\n",
    "    main_accounts_df.drop(columns=['Unnamed: 0'], inplace=True)\n",
    "    main_posts_df.drop(columns=['Unnamed: 0'], inplace=True)\n",
    "except:\n",
    "    main_accounts_df = pd.DataFrame(columns=['id', 'username', 'category_name', 'follower', 'following', 'ar_effect', 'type_business', 'type_professional', 'verified', 'reel_count', 'reel_avg_view', 'reel_avg_comment', 'reel_avg_like', 'reel_avg_duration', 'reel_frequency', 'media_count', 'media_avg_comment', 'media_avg_like', 'media_frequency'])\n",
    "    main_posts_df = pd.DataFrame(columns=['shortcode', 'post_type', 'username', 'like', 'comment', 'object_1', 'object_2', 'object_3', 'object_4', 'object_5','object_6'])\n",
    "\n",
    "\n",
    "for username in tqdm(top_100_followers):\n",
    "    print(f'Getting Account Information: {username}')\n",
    "    # loading account information\n",
    "    session = {\n",
    "            \"csrf_token\": csrf_token,\n",
    "            \"session_id\": session_id\n",
    "        }\n",
    "\n",
    "    headers = {\n",
    "            \"x-csrftoken\": session['csrf_token'],\n",
    "            'user-agent': 'Mozilla/5.0 (Windows NT 10.0; Win64; x64) AppleWebKit/537.36 (KHTML, like Gecko) Chrome/84.0.4147.89 Safari/537.36',\n",
    "            \"X-Requested-With\": \"XMLHttpRequest\",\n",
    "            \"Referer\": \"https://www.instagram.com/accounts/login/\",\n",
    "            'Accept': '*/*',\n",
    "            'Accept-Language': 'en-US,en;q=0.5',\n",
    "            'X-Instagram-AJAX': 'c6412f1b1b7b',\n",
    "            'X-IG-App-ID': '936619743392459',\n",
    "            'X-ASBD-ID': '198387',\n",
    "            'X-IG-WWW-Claim': '0',\n",
    "            'X-Requested-With': 'XMLHttpRequest',\n",
    "            'Origin': 'https://www.instagram.com',\n",
    "            'DNT': '1',\n",
    "            'Connection': 'keep-alive',\n",
    "            'Referer': 'https://www.instagram.com/accounts/login/?',\n",
    "            'Sec-Fetch-Dest': 'empty',\n",
    "            'Sec-Fetch-Mode': 'cors',\n",
    "            'Sec-Fetch-Site': 'same-origin',\n",
    "            'Accept': 'text/html,application/xhtml+xml,application/xml;q=0.9,image/avif,image/webp,*/*;q=0.8',\n",
    "            'Accept-Language': 'en-US,en;q=0.5',\n",
    "            'Accept-Encoding': 'gzip, deflate, br',\n",
    "            'Connection': 'keep-alive',\n",
    "            'Upgrade-Insecure-Requests': '1',\n",
    "            'Sec-Fetch-Dest': 'document',\n",
    "            'Sec-Fetch-Mode': 'navigate',\n",
    "            'Sec-Fetch-Site': 'none',\n",
    "            'Sec-Fetch-User': '?1',\n",
    "            'TE': 'trailers'\n",
    "        }\n",
    "\n",
    "    cookies = {\n",
    "            \"sessionid\": session['session_id'],\n",
    "            \"csrftoken\": session['csrf_token']\n",
    "        }\n",
    "    url = f'https://www.instagram.com/{username}/?__a=1&__d=dis'\n",
    "    res = requests.get(url, headers=headers, cookies=cookies)\n",
    "    # add error handling here based on response codes, reference -> InstagramBot.py\n",
    "\n",
    "    data = res.json()\n",
    "    followers = data['graphql']['user']['edge_followed_by']['count']\n",
    "    following = data['graphql']['user']['edge_follow']['count']\n",
    "    ar_effect = data['graphql']['user']['has_ar_effects']\n",
    "    id = data['graphql']['user']['id']\n",
    "    type_business = data['graphql']['user']['is_business_account']\n",
    "    type_professional = data['graphql']['user']['is_professional_account']\n",
    "    category = data['graphql']['user']['category_name']\n",
    "    verified = data['graphql']['user']['is_verified']\n",
    "    reel_count = data['graphql']['user']['edge_felix_video_timeline']['count']\n",
    "    media_count = data['graphql']['user']['edge_owner_to_timeline_media']['count']\n",
    "    username = data['graphql']['user']['username']\n",
    "\n",
    "    reel_view_list = []\n",
    "    reel_like_list = []\n",
    "    reel_comment_list = []\n",
    "    reel_duration_list = []\n",
    "    reel_timestamp_list = []\n",
    "\n",
    "    media_like_list = []\n",
    "    media_comment_list = []\n",
    "    media_timestamp_list = []\n",
    "\n",
    "    for video in data['graphql']['user']['edge_felix_video_timeline']['edges']:\n",
    "        reel_view_list.append(video['node']['video_view_count'])\n",
    "        reel_comment_list.append(video['node']['edge_media_to_comment']['count'])\n",
    "        reel_timestamp_list.append(video['node']['taken_at_timestamp'])\n",
    "        reel_like_list.append(video['node']['edge_liked_by']['count'])\n",
    "        reel_duration_list.append(video['node']['video_duration'])\n",
    "    \n",
    "    # sometimes instagram result for video duration is None, this is sanity check\n",
    "    reel_duration_list = [0 if duration is None else duration for duration in reel_duration_list]\n",
    "\n",
    "    for medium in data['graphql']['user']['edge_owner_to_timeline_media']['edges']:\n",
    "        media_like_list.append(medium['node']['edge_liked_by']['count'])\n",
    "        media_comment_list.append(medium['node']['edge_media_to_comment']['count'])\n",
    "        media_timestamp_list.append(medium['node']['taken_at_timestamp'])\n",
    "\n",
    "    \n",
    "    reel_utc_list = [datetime.utcfromtimestamp(ts) for ts in reel_timestamp_list]\n",
    "    media_utc_list = [datetime.utcfromtimestamp(ts) for ts in media_timestamp_list]\n",
    "\n",
    "    reel_utc_difference_list = [reel_utc_list[i] - reel_utc_list[i+1] for i in range(len(reel_utc_list) - 1)]\n",
    "    media_utc_difference_list = [media_utc_list[i] - media_utc_list[i+1] for i in range(len(media_utc_list) - 1)]\n",
    "\n",
    "    if reel_count > 1:\n",
    "        reel_frequency = np.mean(reel_utc_difference_list).days + (np.mean(reel_utc_difference_list).seconds / 86_400) + (np.mean(reel_utc_difference_list).microseconds / 1_000_000 / 84_600)\n",
    "    else:\n",
    "        reel_frequency = 0\n",
    "    media_frequency = np.mean(media_utc_difference_list).days + (np.mean(media_utc_difference_list).seconds / 86_400) + (np.mean(media_utc_difference_list).microseconds / 1_000_000 / 84_600)\n",
    "\n",
    "    reel_view_mean = np.mean(reel_view_list)\n",
    "    reel_like_mean = np.mean(reel_like_list)\n",
    "    reel_comment_mean = np.mean(reel_comment_list)\n",
    "    reel_duration_mean = np.mean(reel_duration_list)\n",
    "\n",
    "    media_like_mean = np.mean(media_like_list)\n",
    "    media_comment_mean = np.mean(media_comment_list)\n",
    "\n",
    "    entry_lst = [id, username, category, followers, following, ar_effect, type_business, type_professional, verified, reel_count, reel_view_mean, reel_comment_mean, reel_like_mean, reel_duration_mean, reel_frequency, media_count, media_comment_mean, media_like_mean, media_frequency]\n",
    "\n",
    "    account_df = pd.DataFrame() #reset variable\n",
    "    account_df = pd.DataFrame([entry_lst], columns=['id', 'username', 'category_name', 'follower', 'following', 'ar_effect', 'type_business', 'type_professional', 'verified', 'reel_count', 'reel_avg_view', 'reel_avg_comment', 'reel_avg_like', 'reel_avg_duration', 'reel_frequency', 'media_count', 'media_avg_comment', 'media_avg_like', 'media_frequency'])\n",
    "\n",
    "    if account_df.username.isin(main_accounts_df.username).bool():\n",
    "        print('User information already exist, skipping...')\n",
    "        continue\n",
    "    else:\n",
    "        print(f'Adding {username} information...')\n",
    "        account_df = account_df.astype({\n",
    "            'ar_effect': bool,\n",
    "            'type_business': bool,\n",
    "            'type_professional': bool,\n",
    "            'verified': bool,\n",
    "        })\n",
    "        main_accounts_df = pd.concat([main_accounts_df, account_df], axis=0, join='outer')\n",
    "    \n",
    "    # adding user's posts information\n",
    "    print(f'Getting Posts Information: {username}')\n",
    "    # main lists structure is:\n",
    "    # shortcode, post_type, username, objects\n",
    "    posts_lst = []\n",
    "    for post in data['graphql']['user']['edge_owner_to_timeline_media']['edges']:\n",
    "        temp_lst = []\n",
    "        objects = []\n",
    "        temp_lst.append(post['node']['shortcode'])\n",
    "        temp_lst.append(post['node']['__typename'])\n",
    "        temp_lst.append(data['graphql']['user']['username'])\n",
    "        temp_lst.append(post['node']['edge_liked_by']['count'])\n",
    "        temp_lst.append(post['node']['edge_media_to_comment']['count'])\n",
    "        if post['node']['__typename'] == 'GraphImage' or post['node']['__typename'] == 'GraphSidecar':\n",
    "            if post['node']['accessibility_caption'] == None:\n",
    "                objects = []\n",
    "                continue\n",
    "            # split object-detection output\n",
    "            objects = post['node']['accessibility_caption'].split('.')[1]\n",
    "            # terminating empty lists\n",
    "            if objects:\n",
    "                try:\n",
    "                    # cutting objects\n",
    "                    objects = objects.split('of')[1]\n",
    "                    objects = objects.split('and', 1)\n",
    "                    objects[0] = objects[0].split(',')\n",
    "                    if 'text' in objects[1]:\n",
    "                        objects[1] = 'text'\n",
    "                except:\n",
    "                    continue\n",
    "                # flattening the objects list to make the dimension 1D\n",
    "                objects = flatten(objects)\n",
    "                # terminating leading and trailing spaces from list items\n",
    "                objects = [item.strip() for item in objects]\n",
    "            else:\n",
    "                objects = []\n",
    "        # padding the objects list, we set the limit to 6 objects\n",
    "        objects += ['No Object'] * (6 - len(objects))\n",
    "        if len(objects) > 6:\n",
    "            objects = objects[:6]\n",
    "        temp_lst.append(objects)\n",
    "        posts_lst.append(flatten(temp_lst))\n",
    "\n",
    "    # creating temporary dataframe for posts of this account\n",
    "    temp_df = pd.DataFrame()\n",
    "    temp_df = pd.DataFrame(posts_lst, columns=[\n",
    "        'shortcode',\n",
    "        'post_type',\n",
    "        'username',\n",
    "        'like',\n",
    "        'comment',\n",
    "        'object_1',\n",
    "        'object_2',\n",
    "        'object_3',\n",
    "        'object_4',\n",
    "        'object_5',\n",
    "        'object_6'\n",
    "    ])\n",
    "\n",
    "    if temp_df.username.isin(main_posts_df.username)[0]:\n",
    "        print('User post information already exist, skiping...')\n",
    "        continue\n",
    "    else:\n",
    "        print(f'Adding {username} posts information...')\n",
    "        main_posts_df = pd.concat([main_posts_df, temp_df], axis=0, join='outer')\n",
    "    \n",
    "    # saving the data each time\n",
    "    main_accounts_df.to_csv('Data/accounts.csv')\n",
    "    main_posts_df.to_csv('Data/posts.csv')\n",
    "\n",
    "    # waiting 5 sec for each  user, instagram rate limit\n",
    "    print('Waiting 5 seconds...')\n",
    "    time.sleep(5)"
   ]
  },
  {
   "cell_type": "code",
   "execution_count": 15,
   "metadata": {},
   "outputs": [
    {
     "data": {
      "text/plain": [
       "<Response [400]>"
      ]
     },
     "execution_count": 15,
     "metadata": {},
     "output_type": "execute_result"
    }
   ],
   "source": [
    "session = {\n",
    "            \"csrf_token\": csrf_token,\n",
    "            \"session_id\": session_id\n",
    "        }\n",
    "\n",
    "headers = {\n",
    "            \"x-csrftoken\": session['csrf_token'],\n",
    "            'user-agent': 'Mozilla/5.0 (Windows NT 10.0; Win64; x64) AppleWebKit/537.36 (KHTML, like Gecko) Chrome/84.0.4147.89 Safari/537.36',\n",
    "            \"X-Requested-With\": \"XMLHttpRequest\",\n",
    "            \"Referer\": \"https://www.instagram.com/accounts/login/\",\n",
    "            'Accept': '*/*',\n",
    "            'Accept-Language': 'en-US,en;q=0.5',\n",
    "            'X-Instagram-AJAX': 'c6412f1b1b7b',\n",
    "            'X-IG-App-ID': '936619743392459',\n",
    "            'X-ASBD-ID': '198387',\n",
    "            'X-IG-WWW-Claim': '0',\n",
    "            'X-Requested-With': 'XMLHttpRequest',\n",
    "            'Origin': 'https://www.instagram.com',\n",
    "            'DNT': '1',\n",
    "            'Connection': 'keep-alive',\n",
    "            'Referer': 'https://www.instagram.com/accounts/login/?',\n",
    "            'Sec-Fetch-Dest': 'empty',\n",
    "            'Sec-Fetch-Mode': 'cors',\n",
    "            'Sec-Fetch-Site': 'same-origin',\n",
    "            'Accept': 'text/html,application/xhtml+xml,application/xml;q=0.9,image/avif,image/webp,*/*;q=0.8',\n",
    "            'Accept-Language': 'en-US,en;q=0.5',\n",
    "            'Accept-Encoding': 'gzip, deflate, br',\n",
    "            'Connection': 'keep-alive',\n",
    "            'Upgrade-Insecure-Requests': '1',\n",
    "            'Sec-Fetch-Dest': 'document',\n",
    "            'Sec-Fetch-Mode': 'navigate',\n",
    "            'Sec-Fetch-Site': 'none',\n",
    "            'Sec-Fetch-User': '?1',\n",
    "            'TE': 'trailers'\n",
    "        }\n",
    "\n",
    "cookies = {\n",
    "            \"sessionid\": session['session_id'],\n",
    "            \"csrftoken\": session['csrf_token']\n",
    "        }\n",
    "url = f'https://www.instagram.com/championsleague/?__a=1&__d=dis'\n",
    "res = requests.get(url, headers=headers, cookies=cookies)\n",
    "# add error handling here based on response codes, reference -> InstagramBot.py\n",
    "res"
   ]
  },
  {
   "cell_type": "code",
   "execution_count": 7,
   "metadata": {},
   "outputs": [],
   "source": [
    "data = res.json()"
   ]
  },
  {
   "cell_type": "code",
   "execution_count": 17,
   "metadata": {},
   "outputs": [
    {
     "data": {
      "text/plain": [
       "'{\"message\":\"checkpoint_required\",\"checkpoint_url\":\"https://www.instagram.com/challenge/?next=/championsleague/%253F__a%253D1%2526__d%253Ddis\",\"lock\":false,\"flow_render_type\":0,\"status\":\"fail\"}'"
      ]
     },
     "execution_count": 17,
     "metadata": {},
     "output_type": "execute_result"
    }
   ],
   "source": [
    "res.text"
   ]
  },
  {
   "cell_type": "code",
   "execution_count": 8,
   "metadata": {},
   "outputs": [],
   "source": [
    "# this section need to be changed to sent requests and process the json which is in the response\n",
    "f = open('Data/account_response.json', 'r')\n",
    "data = json.load(f)\n",
    "f.close()"
   ]
  },
  {
   "cell_type": "code",
   "execution_count": 8,
   "metadata": {},
   "outputs": [],
   "source": [
    "followers = data['graphql']['user']['edge_followed_by']['count']\n",
    "following = data['graphql']['user']['edge_follow']['count']\n",
    "ar_effect = data['graphql']['user']['has_ar_effects']\n",
    "id = data['graphql']['user']['id']\n",
    "type_business = data['graphql']['user']['is_business_account']\n",
    "type_professional = data['graphql']['user']['is_professional_account']\n",
    "category = data['graphql']['user']['category_name']\n",
    "verified = data['graphql']['user']['is_verified']\n",
    "reel_count = data['graphql']['user']['edge_felix_video_timeline']['count']\n",
    "media_count = data['graphql']['user']['edge_owner_to_timeline_media']['count']\n",
    "username = data['graphql']['user']['username']"
   ]
  },
  {
   "cell_type": "code",
   "execution_count": 9,
   "metadata": {},
   "outputs": [],
   "source": [
    "reel_view_list = []\n",
    "reel_like_list = []\n",
    "reel_comment_list = []\n",
    "reel_duration_list = []\n",
    "reel_timestamp_list = []\n",
    "\n",
    "media_like_list = []\n",
    "media_comment_list = []\n",
    "media_timestamp_list = []\n",
    "\n",
    "for video in data['graphql']['user']['edge_felix_video_timeline']['edges']:\n",
    "    reel_view_list.append(video['node']['video_view_count'])\n",
    "    reel_comment_list.append(video['node']['edge_media_to_comment']['count'])\n",
    "    reel_timestamp_list.append(video['node']['taken_at_timestamp'])\n",
    "    reel_like_list.append(video['node']['edge_liked_by']['count'])\n",
    "    reel_duration_list.append(video['node']['video_duration'])\n",
    "\n",
    "for medium in data['graphql']['user']['edge_owner_to_timeline_media']['edges']:\n",
    "    media_comment_list.append(medium['node']['edge_media_to_comment']['count'])\n",
    "    media_timestamp_list.append(medium['node']['taken_at_timestamp'])\n",
    "    media_like_list.append(medium['node']['edge_liked_by']['count'])\n",
    "\n",
    "reel_duration_list = [0 if duration is None else duration for duration in reel_duration_list]"
   ]
  },
  {
   "cell_type": "code",
   "execution_count": 12,
   "metadata": {},
   "outputs": [
    {
     "data": {
      "text/plain": [
       "[40.966, 8.133, 60.0, 254.8, 15.1, 0, 15.166, 205.5, 60.0, 23.1, 825.733, 42.8]"
      ]
     },
     "execution_count": 12,
     "metadata": {},
     "output_type": "execute_result"
    }
   ],
   "source": [
    "reel_duration_list = [0 if duration is None else duration for duration in reel_duration_list]\n",
    "reel_duration_list"
   ]
  },
  {
   "cell_type": "code",
   "execution_count": 10,
   "metadata": {},
   "outputs": [
    {
     "ename": "TypeError",
     "evalue": "unsupported operand type(s) for +: 'float' and 'NoneType'",
     "output_type": "error",
     "traceback": [
      "\u001b[1;31m---------------------------------------------------------------------------\u001b[0m",
      "\u001b[1;31mTypeError\u001b[0m                                 Traceback (most recent call last)",
      "Cell \u001b[1;32mIn[10], line 16\u001b[0m\n\u001b[0;32m     14\u001b[0m reel_like_mean \u001b[39m=\u001b[39m np\u001b[39m.\u001b[39mmean(reel_like_list)\n\u001b[0;32m     15\u001b[0m reel_comment_mean \u001b[39m=\u001b[39m np\u001b[39m.\u001b[39mmean(reel_comment_list)\n\u001b[1;32m---> 16\u001b[0m reel_duration_mean \u001b[39m=\u001b[39m np\u001b[39m.\u001b[39;49mmean(reel_duration_list)\n\u001b[0;32m     18\u001b[0m media_like_mean \u001b[39m=\u001b[39m np\u001b[39m.\u001b[39mmean(media_like_list)\n\u001b[0;32m     19\u001b[0m media_comment_mean \u001b[39m=\u001b[39m np\u001b[39m.\u001b[39mmean(media_comment_list)\n",
      "File \u001b[1;32m<__array_function__ internals>:180\u001b[0m, in \u001b[0;36mmean\u001b[1;34m(*args, **kwargs)\u001b[0m\n",
      "File \u001b[1;32mc:\\Users\\Mr-Khosravian\\miniconda3\\lib\\site-packages\\numpy\\core\\fromnumeric.py:3432\u001b[0m, in \u001b[0;36mmean\u001b[1;34m(a, axis, dtype, out, keepdims, where)\u001b[0m\n\u001b[0;32m   3429\u001b[0m     \u001b[39melse\u001b[39;00m:\n\u001b[0;32m   3430\u001b[0m         \u001b[39mreturn\u001b[39;00m mean(axis\u001b[39m=\u001b[39maxis, dtype\u001b[39m=\u001b[39mdtype, out\u001b[39m=\u001b[39mout, \u001b[39m*\u001b[39m\u001b[39m*\u001b[39mkwargs)\n\u001b[1;32m-> 3432\u001b[0m \u001b[39mreturn\u001b[39;00m _methods\u001b[39m.\u001b[39m_mean(a, axis\u001b[39m=\u001b[39maxis, dtype\u001b[39m=\u001b[39mdtype,\n\u001b[0;32m   3433\u001b[0m                       out\u001b[39m=\u001b[39mout, \u001b[39m*\u001b[39m\u001b[39m*\u001b[39mkwargs)\n",
      "File \u001b[1;32mc:\\Users\\Mr-Khosravian\\miniconda3\\lib\\site-packages\\numpy\\core\\_methods.py:180\u001b[0m, in \u001b[0;36m_mean\u001b[1;34m(a, axis, dtype, out, keepdims, where)\u001b[0m\n\u001b[0;32m    177\u001b[0m         dtype \u001b[39m=\u001b[39m mu\u001b[39m.\u001b[39mdtype(\u001b[39m'\u001b[39m\u001b[39mf4\u001b[39m\u001b[39m'\u001b[39m)\n\u001b[0;32m    178\u001b[0m         is_float16_result \u001b[39m=\u001b[39m \u001b[39mTrue\u001b[39;00m\n\u001b[1;32m--> 180\u001b[0m ret \u001b[39m=\u001b[39m umr_sum(arr, axis, dtype, out, keepdims, where\u001b[39m=\u001b[39;49mwhere)\n\u001b[0;32m    181\u001b[0m \u001b[39mif\u001b[39;00m \u001b[39misinstance\u001b[39m(ret, mu\u001b[39m.\u001b[39mndarray):\n\u001b[0;32m    182\u001b[0m     ret \u001b[39m=\u001b[39m um\u001b[39m.\u001b[39mtrue_divide(\n\u001b[0;32m    183\u001b[0m             ret, rcount, out\u001b[39m=\u001b[39mret, casting\u001b[39m=\u001b[39m\u001b[39m'\u001b[39m\u001b[39munsafe\u001b[39m\u001b[39m'\u001b[39m, subok\u001b[39m=\u001b[39m\u001b[39mFalse\u001b[39;00m)\n",
      "\u001b[1;31mTypeError\u001b[0m: unsupported operand type(s) for +: 'float' and 'NoneType'"
     ]
    }
   ],
   "source": [
    "reel_utc_list = [datetime.utcfromtimestamp(ts) for ts in reel_timestamp_list]\n",
    "media_utc_list = [datetime.utcfromtimestamp(ts) for ts in media_timestamp_list]\n",
    "\n",
    "reel_utc_difference_list = [reel_utc_list[i] - reel_utc_list[i+1] for i in range(len(reel_utc_list) - 1)]\n",
    "media_utc_difference_list = [media_utc_list[i] - media_utc_list[i+1] for i in range(len(media_utc_list) - 1)]\n",
    "\n",
    "if reel_count > 1:\n",
    "    reel_frequency = np.mean(reel_utc_difference_list).days + (np.mean(reel_utc_difference_list).seconds / 86_400) + (np.mean(reel_utc_difference_list).microseconds / 1_000_000 / 84_600)\n",
    "else:\n",
    "    reel_frequency = 0\n",
    "media_frequency = np.mean(media_utc_difference_list).days + (np.mean(media_utc_difference_list).seconds / 86_400) + (np.mean(media_utc_difference_list).microseconds / 1_000_000 / 84_600)\n",
    "\n",
    "reel_view_mean = np.mean(reel_view_list)\n",
    "reel_like_mean = np.mean(reel_like_list)\n",
    "reel_comment_mean = np.mean(reel_comment_list)\n",
    "reel_duration_mean = np.mean(reel_duration_list)\n",
    "\n",
    "media_like_mean = np.mean(media_like_list)\n",
    "media_comment_mean = np.mean(media_comment_list)\n",
    "\n",
    "entry_lst = [id, username, category, followers, following, ar_effect, type_business, type_professional, verified, reel_count, reel_view_mean, reel_comment_mean, reel_like_mean, reel_duration_mean, reel_frequency, media_count, media_comment_mean, media_like_mean, media_frequency]\n",
    "\n",
    "accounts_df = pd.DataFrame([entry_lst] ,columns=['id', 'username', 'category_name', 'follower', 'following', 'ar_effect', 'type_business', 'type_professional', 'verified', 'reel_count', 'reel_avg_view', 'reel_avg_comment', 'reel_avg_like', 'reel_avg_duration', 'reel_frequency', 'media_count', 'media_avg_comment', 'media_avg_like', 'media_frequency'])"
   ]
  },
  {
   "cell_type": "code",
   "execution_count": 13,
   "metadata": {},
   "outputs": [
    {
     "data": {
      "text/html": [
       "<div>\n",
       "<style scoped>\n",
       "    .dataframe tbody tr th:only-of-type {\n",
       "        vertical-align: middle;\n",
       "    }\n",
       "\n",
       "    .dataframe tbody tr th {\n",
       "        vertical-align: top;\n",
       "    }\n",
       "\n",
       "    .dataframe thead th {\n",
       "        text-align: right;\n",
       "    }\n",
       "</style>\n",
       "<table border=\"1\" class=\"dataframe\">\n",
       "  <thead>\n",
       "    <tr style=\"text-align: right;\">\n",
       "      <th></th>\n",
       "      <th>id</th>\n",
       "      <th>username</th>\n",
       "      <th>category_name</th>\n",
       "      <th>follower</th>\n",
       "      <th>following</th>\n",
       "      <th>ar_effect</th>\n",
       "      <th>type_business</th>\n",
       "      <th>type_professional</th>\n",
       "      <th>verified</th>\n",
       "      <th>reel_count</th>\n",
       "      <th>reel_avg_view</th>\n",
       "      <th>reel_avg_comment</th>\n",
       "      <th>reel_avg_like</th>\n",
       "      <th>reel_avg_duration</th>\n",
       "      <th>reel_frequency</th>\n",
       "      <th>media_count</th>\n",
       "      <th>media_avg_comment</th>\n",
       "      <th>media_avg_like</th>\n",
       "      <th>media_frequency</th>\n",
       "    </tr>\n",
       "  </thead>\n",
       "  <tbody>\n",
       "    <tr>\n",
       "      <th>0</th>\n",
       "      <td>7719696</td>\n",
       "      <td>arianagrande</td>\n",
       "      <td>Musician</td>\n",
       "      <td>367888326</td>\n",
       "      <td>600</td>\n",
       "      <td>False</td>\n",
       "      <td>False</td>\n",
       "      <td>True</td>\n",
       "      <td>True</td>\n",
       "      <td>1309</td>\n",
       "      <td>9.167998e+06</td>\n",
       "      <td>40.5</td>\n",
       "      <td>2158336.25</td>\n",
       "      <td>49.31075</td>\n",
       "      <td>18.352435</td>\n",
       "      <td>4987</td>\n",
       "      <td>2367.666667</td>\n",
       "      <td>3577108.0</td>\n",
       "      <td>13.360044</td>\n",
       "    </tr>\n",
       "  </tbody>\n",
       "</table>\n",
       "</div>"
      ],
      "text/plain": [
       "        id      username category_name   follower  following  ar_effect  \\\n",
       "0  7719696  arianagrande      Musician  367888326        600      False   \n",
       "\n",
       "   type_business  type_professional  verified  reel_count  reel_avg_view  \\\n",
       "0          False               True      True        1309   9.167998e+06   \n",
       "\n",
       "   reel_avg_comment  reel_avg_like  reel_avg_duration  reel_frequency  \\\n",
       "0              40.5     2158336.25           49.31075       18.352435   \n",
       "\n",
       "   media_count  media_avg_comment  media_avg_like  media_frequency  \n",
       "0         4987        2367.666667       3577108.0        13.360044  "
      ]
     },
     "execution_count": 13,
     "metadata": {},
     "output_type": "execute_result"
    }
   ],
   "source": [
    "accounts_df"
   ]
  },
  {
   "cell_type": "code",
   "execution_count": 32,
   "metadata": {},
   "outputs": [],
   "source": [
    "def flatten(lst):\n",
    "    \"\"\"A helper function to flatten any dimensional python list to 1D one.\n",
    "\n",
    "    Args:\n",
    "        lst (list): multi dimension python list\n",
    "\n",
    "    Returns:\n",
    "        list: flattened list\n",
    "    \"\"\"\n",
    "    rt = []\n",
    "    for i in lst:\n",
    "        if isinstance(i,list): rt.extend(flatten(i))\n",
    "        else: rt.append(i)\n",
    "    return rt\n",
    "\n",
    "# main lists structure is:\n",
    "#   shortcode, post_type, username, objects\n",
    "posts_lst = []\n",
    "for post in data['graphql']['user']['edge_owner_to_timeline_media']['edges']:\n",
    "    temp_lst = []\n",
    "    objects = []\n",
    "    temp_lst.append(post['node']['shortcode'])\n",
    "    temp_lst.append(post['node']['__typename'])\n",
    "    temp_lst.append(data['graphql']['user']['username'])\n",
    "    temp_lst.append(post['node']['edge_liked_by']['count'])\n",
    "    temp_lst.append(post['node']['edge_media_to_comment']['count'])\n",
    "    if post['node']['__typename'] == 'GraphImage' or post['node']['__typename'] == 'GraphSidecar':\n",
    "        # split object-detection output\n",
    "        if post['node']['accessibility_caption'] == None:\n",
    "            objects = []\n",
    "            continue\n",
    "        objects = post['node']['accessibility_caption'].split('.')[1]\n",
    "        # terminating empty lists\n",
    "        if objects:\n",
    "            try:\n",
    "            # cutting objects\n",
    "                objects = objects.split('of')[1]\n",
    "                objects = objects.split('and', 1)\n",
    "                objects[0] = objects[0].split(',')\n",
    "                if 'text' in objects[1]:\n",
    "                    objects[1] = 'text'\n",
    "            except:\n",
    "                continue\n",
    "            # flattening the objects list to make the dimension 1D\n",
    "            objects = flatten(objects)\n",
    "            # terminating leading and trailing spaces from list items\n",
    "            objects = [item.strip() for item in objects]\n",
    "        else:\n",
    "            objects = []\n",
    "    # padding the objects list, we set the limit to 6 objects\n",
    "    objects += ['No Object'] * (6 - len(objects))\n",
    "    if len(objects) > 6:\n",
    "        objects = objects[:6]\n",
    "    temp_lst.append(objects)\n",
    "    posts_lst.append(flatten(temp_lst))\n",
    "\n",
    "# creating temporary dataframe for posts of this account\n",
    "temp_df = pd.DataFrame(posts_lst, columns=[\n",
    "    'shortcode',\n",
    "    'post_type',\n",
    "    'username',\n",
    "    'like',\n",
    "    'comment',\n",
    "    'object_1',\n",
    "    'object_2',\n",
    "    'object_3',\n",
    "    'object_4',\n",
    "    'object_5',\n",
    "    'object_6'\n",
    "])"
   ]
  },
  {
   "cell_type": "code",
   "execution_count": 33,
   "metadata": {},
   "outputs": [
    {
     "data": {
      "text/html": [
       "<div>\n",
       "<style scoped>\n",
       "    .dataframe tbody tr th:only-of-type {\n",
       "        vertical-align: middle;\n",
       "    }\n",
       "\n",
       "    .dataframe tbody tr th {\n",
       "        vertical-align: top;\n",
       "    }\n",
       "\n",
       "    .dataframe thead th {\n",
       "        text-align: right;\n",
       "    }\n",
       "</style>\n",
       "<table border=\"1\" class=\"dataframe\">\n",
       "  <thead>\n",
       "    <tr style=\"text-align: right;\">\n",
       "      <th></th>\n",
       "      <th>shortcode</th>\n",
       "      <th>post_type</th>\n",
       "      <th>username</th>\n",
       "      <th>like</th>\n",
       "      <th>comment</th>\n",
       "      <th>object_1</th>\n",
       "      <th>object_2</th>\n",
       "      <th>object_3</th>\n",
       "      <th>object_4</th>\n",
       "      <th>object_5</th>\n",
       "      <th>object_6</th>\n",
       "    </tr>\n",
       "  </thead>\n",
       "  <tbody>\n",
       "    <tr>\n",
       "      <th>0</th>\n",
       "      <td>CqLUeUppDYs</td>\n",
       "      <td>GraphSidecar</td>\n",
       "      <td>beyonce</td>\n",
       "      <td>3180843</td>\n",
       "      <td>25102</td>\n",
       "      <td>2 people</td>\n",
       "      <td>makeup</td>\n",
       "      <td>people kissing</td>\n",
       "      <td>suit</td>\n",
       "      <td>overcoat</td>\n",
       "      <td>dinner jacket</td>\n",
       "    </tr>\n",
       "    <tr>\n",
       "      <th>1</th>\n",
       "      <td>CqLUQ_upwT0</td>\n",
       "      <td>GraphImage</td>\n",
       "      <td>beyonce</td>\n",
       "      <td>1539359</td>\n",
       "      <td>18315</td>\n",
       "      <td>1 person</td>\n",
       "      <td>magazine</td>\n",
       "      <td>text</td>\n",
       "      <td>No Object</td>\n",
       "      <td>No Object</td>\n",
       "      <td>No Object</td>\n",
       "    </tr>\n",
       "    <tr>\n",
       "      <th>2</th>\n",
       "      <td>Cp3vzkhp1Ug</td>\n",
       "      <td>GraphSidecar</td>\n",
       "      <td>beyonce</td>\n",
       "      <td>4515558</td>\n",
       "      <td>52969</td>\n",
       "      <td>1 person</td>\n",
       "      <td>makeup</td>\n",
       "      <td>dress</td>\n",
       "      <td>No Object</td>\n",
       "      <td>No Object</td>\n",
       "      <td>No Object</td>\n",
       "    </tr>\n",
       "    <tr>\n",
       "      <th>3</th>\n",
       "      <td>CoZ98CJDHRZ</td>\n",
       "      <td>GraphVideo</td>\n",
       "      <td>beyonce</td>\n",
       "      <td>4753985</td>\n",
       "      <td>88044</td>\n",
       "      <td>No Object</td>\n",
       "      <td>No Object</td>\n",
       "      <td>No Object</td>\n",
       "      <td>No Object</td>\n",
       "      <td>No Object</td>\n",
       "      <td>No Object</td>\n",
       "    </tr>\n",
       "    <tr>\n",
       "      <th>4</th>\n",
       "      <td>CoZJBmpuIlD</td>\n",
       "      <td>GraphSidecar</td>\n",
       "      <td>beyonce</td>\n",
       "      <td>3586900</td>\n",
       "      <td>27435</td>\n",
       "      <td>miniskirt</td>\n",
       "      <td>drawstring</td>\n",
       "      <td>top</td>\n",
       "      <td>No Object</td>\n",
       "      <td>No Object</td>\n",
       "      <td>No Object</td>\n",
       "    </tr>\n",
       "    <tr>\n",
       "      <th>5</th>\n",
       "      <td>CoTojVarwg_</td>\n",
       "      <td>GraphSidecar</td>\n",
       "      <td>beyonce</td>\n",
       "      <td>2860019</td>\n",
       "      <td>31583</td>\n",
       "      <td>one or more people</td>\n",
       "      <td>makeup</td>\n",
       "      <td>No Object</td>\n",
       "      <td>No Object</td>\n",
       "      <td>No Object</td>\n",
       "      <td>No Object</td>\n",
       "    </tr>\n",
       "    <tr>\n",
       "      <th>6</th>\n",
       "      <td>CoRHCpauzUG</td>\n",
       "      <td>GraphImage</td>\n",
       "      <td>beyonce</td>\n",
       "      <td>2144468</td>\n",
       "      <td>22590</td>\n",
       "      <td>one or more people</td>\n",
       "      <td>makeup</td>\n",
       "      <td>dress</td>\n",
       "      <td>miniskirt</td>\n",
       "      <td>No Object</td>\n",
       "      <td>No Object</td>\n",
       "    </tr>\n",
       "    <tr>\n",
       "      <th>7</th>\n",
       "      <td>CoHxOQhrTHX</td>\n",
       "      <td>GraphImage</td>\n",
       "      <td>beyonce</td>\n",
       "      <td>8670783</td>\n",
       "      <td>225761</td>\n",
       "      <td>costume</td>\n",
       "      <td>tinfoil</td>\n",
       "      <td>fishnet stockings</td>\n",
       "      <td>headdress</td>\n",
       "      <td>No Object</td>\n",
       "      <td>No Object</td>\n",
       "    </tr>\n",
       "    <tr>\n",
       "      <th>8</th>\n",
       "      <td>CkhUy2bL0_9</td>\n",
       "      <td>GraphImage</td>\n",
       "      <td>beyonce</td>\n",
       "      <td>5640978</td>\n",
       "      <td>76182</td>\n",
       "      <td>No Object</td>\n",
       "      <td>No Object</td>\n",
       "      <td>No Object</td>\n",
       "      <td>No Object</td>\n",
       "      <td>No Object</td>\n",
       "      <td>No Object</td>\n",
       "    </tr>\n",
       "  </tbody>\n",
       "</table>\n",
       "</div>"
      ],
      "text/plain": [
       "     shortcode     post_type username     like  comment            object_1  \\\n",
       "0  CqLUeUppDYs  GraphSidecar  beyonce  3180843    25102            2 people   \n",
       "1  CqLUQ_upwT0    GraphImage  beyonce  1539359    18315            1 person   \n",
       "2  Cp3vzkhp1Ug  GraphSidecar  beyonce  4515558    52969            1 person   \n",
       "3  CoZ98CJDHRZ    GraphVideo  beyonce  4753985    88044           No Object   \n",
       "4  CoZJBmpuIlD  GraphSidecar  beyonce  3586900    27435           miniskirt   \n",
       "5  CoTojVarwg_  GraphSidecar  beyonce  2860019    31583  one or more people   \n",
       "6  CoRHCpauzUG    GraphImage  beyonce  2144468    22590  one or more people   \n",
       "7  CoHxOQhrTHX    GraphImage  beyonce  8670783   225761             costume   \n",
       "8  CkhUy2bL0_9    GraphImage  beyonce  5640978    76182           No Object   \n",
       "\n",
       "     object_2           object_3   object_4   object_5       object_6  \n",
       "0      makeup     people kissing       suit   overcoat  dinner jacket  \n",
       "1    magazine               text  No Object  No Object      No Object  \n",
       "2      makeup              dress  No Object  No Object      No Object  \n",
       "3   No Object          No Object  No Object  No Object      No Object  \n",
       "4  drawstring                top  No Object  No Object      No Object  \n",
       "5      makeup          No Object  No Object  No Object      No Object  \n",
       "6      makeup              dress  miniskirt  No Object      No Object  \n",
       "7     tinfoil  fishnet stockings  headdress  No Object      No Object  \n",
       "8   No Object          No Object  No Object  No Object      No Object  "
      ]
     },
     "execution_count": 33,
     "metadata": {},
     "output_type": "execute_result"
    }
   ],
   "source": [
    "temp_df"
   ]
  },
  {
   "cell_type": "code",
   "execution_count": null,
   "metadata": {},
   "outputs": [],
   "source": []
  }
 ],
 "metadata": {
  "kernelspec": {
   "display_name": "base",
   "language": "python",
   "name": "python3"
  },
  "language_info": {
   "codemirror_mode": {
    "name": "ipython",
    "version": 3
   },
   "file_extension": ".py",
   "mimetype": "text/x-python",
   "name": "python",
   "nbconvert_exporter": "python",
   "pygments_lexer": "ipython3",
   "version": "3.9.16"
  },
  "orig_nbformat": 4
 },
 "nbformat": 4,
 "nbformat_minor": 2
}
