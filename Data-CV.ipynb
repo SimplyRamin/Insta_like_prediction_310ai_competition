{
 "cells": [
  {
   "attachments": {},
   "cell_type": "markdown",
   "metadata": {},
   "source": [
    "Useful link for progressing:\n",
    "\n",
    "- [pre-trained models for beginners](https://learnopencv.com/pytorch-for-beginners-image-classification-using-pre-trained-models/)\n",
    "- <strong> [PyTorch Pretrained EfficientNet Model Image Classification](https://debuggercafe.com/pytorch-pretrained-efficientnet-model-image-classification/)</strong>\n",
    "- [PyTorch image classification with pre-trained networks](https://pyimagesearch.com/2021/07/26/pytorch-image-classification-with-pre-trained-networks/) \n",
    "- [How to modify a pretrained model](https://discuss.pytorch.org/t/how-to-modify-a-pretrained-model/60509)\n",
    "\n",
    "---\n"
   ]
  },
  {
   "attachments": {},
   "cell_type": "markdown",
   "metadata": {},
   "source": [
    "# Instagram Like Prediction @310ai Competition - Data Understanding, Collection & Preparation\n",
    "\n",
    "This notebook is for the competition posted by the @310ai on 15th of April. I will approach the competition as a project following the CRISP-DM methodology and try to explain the approach in every steps of the way.\n",
    "\n",
    "The main and short summary of this competition is **\"given an Instagram post predict the number of likes\"**."
   ]
  },
  {
   "attachments": {},
   "cell_type": "markdown",
   "metadata": {},
   "source": [
    "## Business Understanding\n",
    "First thing first, there are some important points that we have to consider which are forced by the Instagram. This points will result in some features that are effective in percision of the model. In the following section we will discuss them further.\n",
    "\n",
    "***Are we try to predict the number of likes for an Instagram post of our own or not?***\n",
    "\n",
    "This question might seem a little odd, but let me explain it. Each Instagram post consists of some metrics that show the performance of the post among the users. We will call these **\"Performance Metrics\"**. Some of these performance metrics such as amount of like, amount of columns, caption and etc, are publicly availble, in other words, any user on the Instagram can see them.\n",
    "\n",
    "But some of the performance metrics, are not publicly available, in order to see them, we need to authenticate as the owner of the page (will discuss about this part further in this section.), some of these private performance metrics are, amount of share, amount of save, amount of reach, amount of profile visits, amount of follows, amount of impression and etc.\n",
    "\n",
    "Obviously, if we try to predict the amount of like for a page that we don't own, we can not access these features, we will go for a page that we don't have access to it for this competition.\n",
    "\n",
    "Another to have in mind is that, since the post we are going to predict the amount of like for it, is not actually existing, the amount of performance metrics can't be predicted preciesly. In other words, how we can estimate the amount of comments a hypothetical post might recieve if we don't post it actually. Due to this abstraction, the performance metrics for each post is not a good feature for this deed.\n",
    "\n",
    "In the further section I will try to address the questions of the competitions in combination of code and text. Please have in mind to follow the chosen methodology I might change the order of questions."
   ]
  },
  {
   "attachments": {},
   "cell_type": "markdown",
   "metadata": {},
   "source": [
    "## Data Requirements and Data Collection\n",
    "\n",
    "In this section I will tackle the questions mainly related to these parts of the challenge. As we discussed above some useful features introduced that might have effect on the precision of the prediction. But there are some other features, further I will point to some features that are related to the page of the published post.\n",
    "\n",
    "### What Features you used?\n",
    "\n",
    "Each and every page on the Instagram has some features that will distinguish it from other pages, some of these features are like the features discussed above, performance metrics, and some of them are identifiers. Some of the identifiers features are:\n",
    "- `id`: a unique id that is allocated by the Instagram.\n",
    "- `username`: a unique username that each user when created the page chose.\n",
    "\n",
    "Also there are some other features that we will investigate, these features are:\n",
    "- `category_name`: each page based on the published content and some other traits, are categorized into different categories, for instance, Blogger, Personal Blog, Design & Fashion, chef and etc.\n",
    "- `follower`: amount of followers the page has.\n",
    "- `following`: amount of pages that the target page is following.\n",
    "- `ar_effect`: whether the page has published ar effects in the Instagram or not.\n",
    "- `type_business`: whether the page identified itself as business account or not.\n",
    "- `type_professional`: whether the page identified itself as professional account or not.\n",
    "- `verified`: whether the page is verified or not.\n",
    "- `reel_count`: amount of igtvs posted by the page.\n",
    "- `media_count`: amount of posts, posted by the page.\n",
    "\n",
    "There are some features that are collected organically but can be calculated in the process of feature engineering. Some of them are:\n",
    "- `reel_view`: The average view of igtvs posted by the page.\n",
    "- `reel_comment`: The average of comments igtvs acquired.\n",
    "- `reel_like`: The average of likes igtvs got.\n",
    "- `reel_duration`: The average of igtv's duration posted by the page.\n",
    "- `reel_frequency`: How often the page have posted the reels.\n",
    "- `media_avg_view`: The average view of media posted by the page.\n",
    "- `media_avg_comment`: The average of comments media acquired.\n",
    "- `media_avg_like`: The average of likes media got.\n",
    "- `media_avg_duration`: The average of media's duration posted by the page.\n",
    "- `media_frequency`: How often the page have posted the media.\n",
    "\n",
    "Last but not least, is the content of the image itself. There are multiple ways to have the content of the image as feature. For instance we can have a classifier network to detect what objects are present in the image and pass them to the like predictor model.\n",
    "\n",
    "As you are aware, choosing the best strategy requires some tests, such as A/B tests and trial and error ones, for now I will chose the strategy which will be discussed further that is fastest and heuristic.\n",
    "\n",
    "I will use a heuristic approach regarding the image content, I will use a pre-trained image classifier, `[NAME OF ARCHECTURE USED]`, but remove the last layer and pass an image vector created by network as a feature to a classifier."
   ]
  },
  {
   "attachments": {},
   "cell_type": "markdown",
   "metadata": {},
   "source": [
    "### How do we collect the data?\n",
    "\n",
    "As we discussed above, there are different kind of features, and each group can be collected via different methods.\n",
    "\n",
    "The Instagram provides an API for developers, but due some restrictions and limitations, this API can not provide us the data that we seek. Based on this facts, we will use a heuristic way to collect the data. There will be 2 approaches regarding the matter. one approach which is not very tech-friendly (:D) is to create a scrapper with Selenium page in python to scrap the information we need. Selenium is a website testing library in python that can also be utilized into a webscrapper. This approach has another limitation excluse for users like me, since I'm in Iran right now, access to the Instagram is restricted and we have to use VPNs and geo-restriction bypasses, these tools add another layer of challenge and additional bottleneck. Another approach that I try to utilize, is to use the graphql endpoints to recieve the information needed in JSON format. Eventhough still use of VPNs and similar tools is needed in this approach, but unlike the Selenium this approach doesn't require to load the GUI of Instagram, its much more faster and eligble in a pipeline."
   ]
  },
  {
   "attachments": {},
   "cell_type": "markdown",
   "metadata": {},
   "source": [
    "- end point for user information:\n",
    "`https://www.instagram.com/{username}/?__a=1&__d=dis\n",
    "`\n",
    "\n",
    "- end point for post information:\n",
    "`https://www.instagram.com/p/{post_ID}/?__a=1&__d=dis\n",
    "`\n",
    "\n",
    "getting training data for the model:\n",
    "- each json response of an account gives 12 latest post\n",
    "information:\n",
    "\n",
    "  - Alt text information is here: `data['graphql']['user']['edge_owner_to_timeline_media']['edges'][0]['node']['accessibility_caption']`\n",
    "    - each node has type, `GraphImage` is posts which have alt text.\n",
    "    - `GraphVideo` doesn't have alt text.\n",
    "    - `GraphSideCar` is carousel and have alt text.\n",
    "  - number of comments is here: `data['graphql']['user']['edge_owner_to_timeline_media']['edges'][0]['node']['edge_media_to_comment']['count']`\n",
    "  - number of likes is here: `data['graphql']['user']['edge_owner_to_timeline_media']['edges'][0]['node']['edge_liked_by']['count']`\n"
   ]
  },
  {
   "cell_type": "code",
   "execution_count": 5,
   "metadata": {},
   "outputs": [],
   "source": [
    "import warnings\n",
    "warnings.simplefilter(action='ignore', category=FutureWarning)\n",
    "\n",
    "import requests\n",
    "from datetime import datetime\n",
    "import json\n",
    "import re\n",
    "import numpy as np\n",
    "import pandas as pd\n",
    "from tqdm import tqdm\n",
    "import time\n",
<<<<<<< HEAD
    "from os import path, listdir\n",
=======
    "from sklearn import preprocessing\n",
>>>>>>> parent of 920a8bb (adding more images to the dataset)
    "\n",
    "# reading credentials for loging into the instagram account\n",
    "with open('credentials.json') as f:\n",
    "    creds = json.load(f)\n",
    "    login_username = creds['username']\n",
    "    login_password = creds['password']\n",
    "\n",
    "# reading accounts lists for gathering training data.\n",
    "with open('Data/top_100_follower.txt') as f:\n",
    "    lines = f.readlines()\n",
    "top_100_followers = lines[0].split(',')\n",
    "\n",
    "with open('Data/top_100_posts.txt') as f:\n",
    "    lines = f.readlines()\n",
    "top_100_posts = lines[0].split(',')\n",
    "\n",
    "# since added try exception in the main body of collecting data, this section is probably unnecessary, double check it.\n",
    "main_accounts_df = pd.DataFrame(columns=['id', 'username', 'category_name', 'follower', 'following', 'ar_effect', 'type_business', 'type_professional', 'verified', 'reel_count', 'reel_avg_view', 'reel_avg_comment', 'reel_avg_like', 'reel_avg_duration', 'reel_frequency', 'media_count', 'media_avg_comment', 'media_avg_like', 'media_frequency'])\n",
    "main_posts_df = pd.DataFrame(columns=['shortcode', 'post_type', 'username', 'like', 'comment', 'object_1', 'object_2', 'object_3', 'object_4', 'object_5','object_6'])\n",
    "\n",
    "def flatten(lst):\n",
    "    \"\"\"A helper function to flatten any dimensional python list to 1D one.\n",
    "\n",
    "    Args:\n",
    "        lst (list): multi dimension python list\n",
    "\n",
    "    Returns:\n",
    "        list: flattened list\n",
    "    \"\"\"\n",
    "    rt = []\n",
    "    for i in lst:\n",
    "        if isinstance(i,list): rt.extend(flatten(i))\n",
    "        else: rt.append(i)\n",
    "    return rt"
   ]
  },
  {
   "attachments": {},
   "cell_type": "markdown",
   "metadata": {},
   "source": [
    "#### Logging into the Instagram account\n",
    "This step is necesary for getting information of the images, since majority of information in Instagram are locked behind the authentication wall."
   ]
  },
  {
   "cell_type": "code",
   "execution_count": 6,
   "metadata": {},
   "outputs": [
    {
     "name": "stdout",
     "output_type": "stream",
     "text": [
      "login successful\n",
<<<<<<< HEAD
      "csrf_token:  q5uhpn4h8v9U6Ks1IwDcS3JhzgFVGUhf\n",
      "session_id:  1691538713%3AfZqBC81i75tJT6%3A7%3AAYcWq5ODCDd6r_Rg2-wmnzCqn9SPKqv5VwGV7RiHUA\n"
=======
      "csrf_token:  jBaQfHoqpHUREuFRhEYxDFBBlumeDd9m\n",
      "session_id:  1691538713%3AnU6ZylIVqJkC5o%3A1%3AAYfRBX_rkro-Mz59PyjizvxMUvEEv1urYYPSnYYLAA\n"
>>>>>>> parent of 920a8bb (adding more images to the dataset)
     ]
    }
   ],
   "source": [
    "link = 'https://www.instagram.com/accounts/login/'\n",
    "login_url = 'https://www.instagram.com/accounts/login/ajax/'\n",
    "headers = {'user-agent': 'Mozilla/5.0 (Windows NT 10.0; Win64; x64) AppleWebKit/537.36 (KHTML, like Gecko) Chrome/84.0.4147.89 Safari/537.36',\n",
    "            'referer':'https://www.instagram.com/',\n",
    "            'Accept': 'text/html,application/xhtml+xml,application/xml;q=0.9,image/avif,image/webp,*/*;q=0.8',\n",
    "            'Accept-Language': 'en-US,en;q=0.5',\n",
    "            'Accept-Encoding': 'gzip, deflate, br',\n",
    "            'Connection': 'keep-alive',\n",
    "            'Upgrade-Insecure-Requests': '1',\n",
    "            'Sec-Fetch-Dest': 'document',\n",
    "            'Sec-Fetch-Mode': 'navigate',\n",
    "            'Sec-Fetch-Site': 'none',\n",
    "            'Sec-Fetch-User': '?1',\n",
    "            'TE': 'trailers'\n",
    "}\n",
    "\n",
    "\n",
    "current_time = int(datetime.now().timestamp())\n",
    "response = requests.Session().get(link, headers=headers)\n",
    "if response.ok:\n",
    "    csrf = re.findall(r'csrf_token\\\\\":\\\\\"(.*?)\\\\\"',response.text)[0]\n",
    "    username = login_username\n",
    "    password = login_password\n",
    "\n",
    "    payload = {\n",
    "        'username': username,\n",
    "        'enc_password': f'#PWD_INSTAGRAM_BROWSER:0:{current_time}:{password}',\n",
    "        'queryParams': {},\n",
    "        'optIntoOneTap': 'false',\n",
    "        'stopDeletionNonce': '',\n",
    "        'trustedDeviceRecords': '{}'\n",
    "    }\n",
    "\n",
    "    login_header = {\n",
    "        'user-agent': 'Mozilla/5.0 (Windows NT 10.0; Win64; x64) AppleWebKit/537.36 (KHTML, like Gecko) Chrome/84.0.4147.89 Safari/537.36',\n",
    "        \"X-Requested-With\": \"XMLHttpRequest\",\n",
    "        \"Referer\": \"https://www.instagram.com/accounts/login/\",\n",
    "        \"X-CSRFToken\": csrf,\n",
    "        'Accept': '*/*',\n",
    "        'Accept-Language': 'en-US,en;q=0.5',\n",
    "        'X-Instagram-AJAX': 'c6412f1b1b7b',\n",
    "        'X-IG-App-ID': '936619743392459',\n",
    "        'X-ASBD-ID': '198387',\n",
    "        'X-IG-WWW-Claim': '0',\n",
    "        'X-Requested-With': 'XMLHttpRequest',\n",
    "        'Origin': 'https://www.instagram.com',\n",
    "        'DNT': '1',\n",
    "        'Connection': 'keep-alive',\n",
    "        'Referer': 'https://www.instagram.com/accounts/login/?',\n",
    "        'Sec-Fetch-Dest': 'empty',\n",
    "        'Sec-Fetch-Mode': 'cors',\n",
    "        'Sec-Fetch-Site': 'same-origin',\n",
    "    }\n",
    "\n",
    "    login_response = requests.post(login_url, data=payload, headers=login_header)\n",
    "    json_data = json.loads(login_response.text)\n",
    "\n",
    "\n",
    "    if json_data['status'] == 'fail':\n",
    "        print(json_data['message'])\n",
    "\n",
    "    elif json_data[\"authenticated\"]:\n",
    "        print(\"login successful\")\n",
    "        cookies = login_response.cookies\n",
    "        cookie_jar = cookies.get_dict()\n",
    "        csrf_token = cookie_jar['csrftoken']\n",
    "        print(\"csrf_token: \", csrf_token)\n",
    "        session_id = cookie_jar['sessionid']\n",
    "        print(\"session_id: \", session_id)\n",
    "\n",
    "    else:\n",
    "        print(\"login failed \", login_response.text)\n",
    "else:\n",
    "    print('error')\n",
    "    print(response)"
   ]
  },
  {
   "attachments": {},
   "cell_type": "markdown",
   "metadata": {},
   "source": [
    "#### Collecting Data"
   ]
  },
  {
   "attachments": {},
   "cell_type": "markdown",
   "metadata": {},
   "source": [
    "The below cell is the main cell for collecting the data from the Instagram, since this code block is the longest block in the workspace, it's worth to discuss the parts of its structure. Please have in mind the best design pattern for this kind of task, is to create pipeline, but since this is a competition and understanding a pipeline might be difficult for reviewrs, I stick with this approach regarding the matter.\n",
    "\n",
    "First thing, I have to check whether the data is present or not, if the **accounts** and **posts** dataset are present I'm reading them, otherwise I'm creating empty dataframes for each one of them with their corresponding features. I have to read the names of the accounts I want to get their information, for the training of this model, I have selected the top 100 pages with the most followers and top 100 pages with the most published posts. I call these **accounts dataset**.\n",
    "\n",
    "For each username in the accounts dataset, I do these procedures:\n",
    "1. I check whether I had acquired that account information or no, if I had, skip that account and go to the next account.\n",
    "2. Then I send a request containing appropriate headers and previously acquired cookies from logining into the Instagram, to recieve account information. I sanity check the response to validate whether we have got the correct response or it's faulty (i.e. empty response, page got private, etc.).\n",
    "3. Previously Discussed features then are extracted from the response json and saved into their coresponding variables or lists, some of these features have to be calculated, for instance, media & reel frequency, view, like, comment, duration average and etc. These features are calculated and saved into their correspoding variables.\n",
    "4. I create a temporary dataframe for each account and add it to the main accounts dataframe.\n",
    "5. Almost the same procedure is done for the posts information.\n",
    "6. In the end, we will have 5 seconds delay between each username process, to honoring the rate limit of the Instagram."
   ]
  },
  {
   "cell_type": "code",
   "execution_count": 56,
   "metadata": {},
   "outputs": [
    {
     "name": "stderr",
     "output_type": "stream",
     "text": [
      "  0%|          | 0/100 [00:00<?, ?it/s]"
     ]
    },
    {
     "name": "stdout",
     "output_type": "stream",
     "text": [
      "Getting Account Information: theshaderoom\n",
      "User information already exist, skipping...\n",
      "Getting Account Information: hollywoodunlocked\n",
      "User information already exist, skipping...\n",
      "Getting Account Information: rvcjinsta\n",
      "User information already exist, skipping...\n",
      "Getting Account Information: manotoofficial\n",
      "User information already exist, skipping...\n",
      "Getting Account Information: tvnnoticias\n",
      "User information already exist, skipping...\n",
      "Getting Account Information: instablog9ja\n",
      "User information already exist, skipping...\n",
      "Getting Account Information: worldstar\n",
      "User information already exist, skipping...\n",
      "Getting Account Information: uae_barq\n",
      "User information already exist, skipping...\n",
      "Getting Account Information: telemetro\n",
      "User information already exist, skipping...\n",
      "Getting Account Information: bellanaijaonline\n",
      "User information already exist, skipping...\n",
      "Getting Account Information: fashionnova\n",
      "User information already exist, skipping...\n",
      "Getting Account Information: 3meed_news\n",
      "User information already exist, skipping...\n",
      "Getting Account Information: melodia_musik\n",
      "User information already exist, skipping...\n",
      "Getting Account Information: aboutcirebonid\n",
      "User information already exist, skipping...\n",
      "Getting Account Information: infodenpasar\n",
      "User information already exist, skipping...\n",
      "Getting Account Information: radiofarda\n",
      "User information already exist, skipping...\n",
      "Getting Account Information: instantbollywood\n",
      "User information already exist, skipping...\n",
      "Getting Account Information: iranintltv\n",
      "User information already exist, skipping...\n",
      "Getting Account Information: fashionbombdaily\n",
      "User information already exist, skipping...\n",
      "Getting Account Information: eldiario\n",
      "User information already exist, skipping...\n",
      "Getting Account Information: arab2turk\n",
      "User information already exist, skipping...\n",
      "Getting Account Information: albayannews\n",
      "User information already exist, skipping...\n",
      "Getting Account Information: vladtv\n",
      "User information already exist, skipping...\n",
      "Getting Account Information: coppamagz\n",
      "User information already exist, skipping...\n",
      "Getting Account Information: crictracker\n",
      "User information already exist, skipping...\n",
      "Getting Account Information: nba\n",
      "User information already exist, skipping...\n",
      "Getting Account Information: snoopdogg\n",
      "User information already exist, skipping...\n",
      "Getting Account Information: dagelan\n",
      "User information already exist, skipping...\n",
      "Getting Account Information: spiritualword\n",
      "User information already exist, skipping...\n",
      "Getting Account Information: memelasdeorizaba\n",
      "User information already exist, skipping...\n",
      "Getting Account Information: cabronazi\n",
      "User information already exist, skipping...\n",
      "Getting Account Information: deertybhr\n",
      "User information already exist, skipping...\n",
      "Getting Account Information: nfl\n",
      "User information already exist, skipping...\n",
      "Getting Account Information: viralbhayani\n",
      "User information already exist, skipping...\n",
      "Getting Account Information: complex\n",
      "User information already exist, skipping...\n",
      "Getting Account Information: vengalaalegriatva\n"
     ]
    },
    {
     "name": "stderr",
     "output_type": "stream",
     "text": [
      " 36%|███▌      | 36/100 [00:00<00:01, 36.06it/s]"
     ]
    },
    {
     "name": "stdout",
     "output_type": "stream",
     "text": [
      "Response is empty for vengalaalegriatva skipping...\n",
      "Getting Account Information: zonakorea\n",
      "User information already exist, skipping...\n",
      "Getting Account Information: bleacherreport\n",
      "User information already exist, skipping...\n",
      "Getting Account Information: laliga\n",
      "User information already exist, skipping...\n",
      "Getting Account Information: tommyphillipsiv\n",
      "User information already exist, skipping...\n",
      "Getting Account Information: officialmnctv\n",
      "User information already exist, skipping...\n",
      "Getting Account Information: sportscenter\n",
      "User information already exist, skipping...\n",
      "Getting Account Information: jdemsey\n",
      "User information already exist, skipping...\n",
      "Getting Account Information: theybf_daily\n",
      "User information already exist, skipping...\n",
      "Getting Account Information: idntimes\n",
      "User information already exist, skipping...\n",
      "Getting Account Information: foxnews\n",
      "User information already exist, skipping...\n",
      "Getting Account Information: diariodetransferenciasdt\n",
      "User information already exist, skipping...\n",
      "Getting Account Information: hespress\n",
      "User information already exist, skipping...\n",
      "Getting Account Information: koreadispatch\n",
      "User information already exist, skipping...\n",
      "Getting Account Information: vicidolls\n",
      "User information already exist, skipping...\n",
      "Getting Account Information: wwe\n",
      "User information already exist, skipping...\n",
      "Getting Account Information: emaratalyoum\n",
      "User information already exist, skipping...\n",
      "Getting Account Information: sonytvofficial\n",
      "User information already exist, skipping...\n",
      "Getting Account Information: ayahlyfans\n",
      "User information already exist, skipping...\n",
      "Getting Account Information: espn\n",
      "User information already exist, skipping...\n",
      "Getting Account Information: keaw_jung\n",
      "User information already exist, skipping...\n",
      "Getting Account Information: djkhaled\n",
      "User information already exist, skipping...\n",
      "Getting Account Information: rap\n",
      "User information already exist, skipping...\n",
      "Getting Account Information: alkhaleej.ae\n",
      "User information already exist, skipping...\n",
      "Getting Account Information: colorstv\n",
      "User information already exist, skipping...\n",
      "Getting Account Information: khaleejtimes\n",
      "User information already exist, skipping...\n",
      "Getting Account Information: thetinderblog\n",
      "User information already exist, skipping...\n",
      "Getting Account Information: jktinfo\n",
      "User information already exist, skipping...\n",
      "Getting Account Information: routineofnepalbanda\n",
      "User information already exist, skipping...\n",
      "Getting Account Information: alroeya\n",
      "User information already exist, skipping...\n",
      "Getting Account Information: icc\n",
      "User information already exist, skipping...\n",
      "Getting Account Information: laiguanatv\n",
      "User information already exist, skipping...\n",
      "Getting Account Information: detikcom\n",
      "User information already exist, skipping...\n",
      "Getting Account Information: theneighborhoodtalk\n",
      "User information already exist, skipping...\n",
      "Getting Account Information: entre.nous.official\n",
      "User information already exist, skipping...\n",
      "Getting Account Information: nocap\n",
      "User information already exist, skipping...\n",
      "Getting Account Information: lahamag\n",
      "Adding lahamag information...\n",
      "Getting Posts Information: lahamag\n",
      "Adding lahamag posts information...\n",
      "Waiting 5 seconds...\n"
     ]
    },
    {
     "name": "stderr",
     "output_type": "stream",
     "text": [
      " 72%|███████▏  | 72/100 [00:11<00:05,  5.49it/s]"
     ]
    },
    {
     "name": "stdout",
     "output_type": "stream",
     "text": [
      "Getting Account Information: flamengo\n",
      "Adding flamengo information...\n",
      "Getting Posts Information: flamengo\n",
      "Adding flamengo posts information...\n",
      "Waiting 5 seconds...\n"
     ]
    },
    {
     "name": "stderr",
     "output_type": "stream",
     "text": [
      " 73%|███████▎  | 73/100 [00:21<00:11,  2.43it/s]"
     ]
    },
    {
     "name": "stdout",
     "output_type": "stream",
     "text": [
      "Getting Account Information: eye.on.palestine\n",
      "Adding eye.on.palestine information...\n",
      "Getting Posts Information: eye.on.palestine\n",
      "Adding eye.on.palestine posts information...\n",
      "Waiting 5 seconds...\n"
     ]
    },
    {
     "name": "stderr",
     "output_type": "stream",
     "text": [
      " 74%|███████▍  | 74/100 [00:32<00:19,  1.34it/s]"
     ]
    },
    {
     "name": "stdout",
     "output_type": "stream",
     "text": [
      "Getting Account Information: samuelsianto\n",
      "Adding samuelsianto information...\n",
      "Getting Posts Information: samuelsianto\n",
      "Adding samuelsianto posts information...\n",
      "Waiting 5 seconds...\n"
     ]
    },
    {
     "name": "stderr",
     "output_type": "stream",
     "text": [
      " 75%|███████▌  | 75/100 [00:40<00:26,  1.05s/it]"
     ]
    },
    {
     "name": "stdout",
     "output_type": "stream",
     "text": [
      "Getting Account Information: elchiringuitotv\n",
      "Adding elchiringuitotv information...\n",
      "Getting Posts Information: elchiringuitotv\n",
      "Adding elchiringuitotv posts information...\n",
      "Waiting 5 seconds...\n",
      "Getting Account Information: abnajnews\n"
     ]
    },
    {
     "name": "stderr",
     "output_type": "stream",
     "text": [
      " 75%|███████▌  | 75/100 [00:56<00:26,  1.05s/it]"
     ]
    },
    {
     "name": "stdout",
     "output_type": "stream",
     "text": [
      "Adding abnajnews information...\n",
      "Getting Posts Information: abnajnews\n",
      "Adding abnajnews posts information...\n",
      "Waiting 5 seconds...\n"
     ]
    },
    {
     "name": "stderr",
     "output_type": "stream",
     "text": [
      " 77%|███████▋  | 77/100 [01:02<00:49,  2.14s/it]"
     ]
    },
    {
     "name": "stdout",
     "output_type": "stream",
     "text": [
      "Getting Account Information: sayidatynet\n",
      "Adding sayidatynet information...\n",
      "Getting Posts Information: sayidatynet\n",
      "Adding sayidatynet posts information...\n",
      "Waiting 5 seconds...\n"
     ]
    },
    {
     "name": "stderr",
     "output_type": "stream",
     "text": [
      " 78%|███████▊  | 78/100 [01:13<01:01,  2.81s/it]"
     ]
    },
    {
     "name": "stdout",
     "output_type": "stream",
     "text": [
      "Getting Account Information: 9gag\n",
      "User information already exist, skipping...\n",
      "Getting Account Information: deals_with_angel\n",
      "Adding deals_with_angel information...\n",
      "Getting Posts Information: deals_with_angel\n",
      "Adding deals_with_angel posts information...\n",
      "Waiting 5 seconds...\n"
     ]
    },
    {
     "name": "stderr",
     "output_type": "stream",
     "text": [
      " 80%|████████  | 80/100 [01:20<00:58,  2.92s/it]"
     ]
    },
    {
     "name": "stdout",
     "output_type": "stream",
     "text": [
      "Getting Account Information: titoloshop\n",
      "Adding titoloshop information...\n",
      "Getting Posts Information: titoloshop\n",
      "Adding titoloshop posts information...\n",
      "Waiting 5 seconds...\n"
     ]
    },
    {
     "name": "stderr",
     "output_type": "stream",
     "text": [
      " 81%|████████  | 81/100 [01:28<01:05,  3.45s/it]"
     ]
    },
    {
     "name": "stdout",
     "output_type": "stream",
     "text": [
      "Getting Account Information: saboskirt\n",
      "Adding saboskirt information...\n",
      "Getting Posts Information: saboskirt\n",
      "Adding saboskirt posts information...\n",
      "Waiting 5 seconds...\n"
     ]
    },
    {
     "name": "stderr",
     "output_type": "stream",
     "text": [
      " 82%|████████▏ | 82/100 [01:36<01:12,  4.02s/it]"
     ]
    },
    {
     "name": "stdout",
     "output_type": "stream",
     "text": [
      "Getting Account Information: ufc\n",
      "Adding ufc information...\n",
      "Getting Posts Information: ufc\n",
      "Adding ufc posts information...\n",
      "Waiting 5 seconds...\n"
     ]
    },
    {
     "name": "stderr",
     "output_type": "stream",
     "text": [
      " 83%|████████▎ | 83/100 [01:46<01:25,  5.02s/it]"
     ]
    },
    {
     "name": "stdout",
     "output_type": "stream",
     "text": [
      "Getting Account Information: onepalon\n",
      "Adding onepalon information...\n",
      "Getting Posts Information: onepalon\n",
      "Adding onepalon posts information...\n",
      "Waiting 5 seconds...\n"
     ]
    },
    {
     "name": "stderr",
     "output_type": "stream",
     "text": [
      " 84%|████████▍ | 84/100 [01:55<01:32,  5.77s/it]"
     ]
    },
    {
     "name": "stdout",
     "output_type": "stream",
     "text": [
      "Getting Account Information: berrics\n",
      "Adding berrics information...\n",
      "Getting Posts Information: berrics\n",
      "Adding berrics posts information...\n",
      "Waiting 5 seconds...\n"
     ]
    },
    {
     "name": "stderr",
     "output_type": "stream",
     "text": [
      " 85%|████████▌ | 85/100 [02:05<01:41,  6.75s/it]"
     ]
    },
    {
     "name": "stdout",
     "output_type": "stream",
     "text": [
      "Getting Account Information: yallneedbutera\n",
      "Adding yallneedbutera information...\n",
      "Getting Posts Information: yallneedbutera\n",
      "Adding yallneedbutera posts information...\n",
      "Waiting 5 seconds...\n"
     ]
    },
    {
     "name": "stderr",
     "output_type": "stream",
     "text": [
      " 86%|████████▌ | 86/100 [02:15<01:42,  7.34s/it]"
     ]
    },
    {
     "name": "stdout",
     "output_type": "stream",
     "text": [
      "Getting Account Information: indiansuperleague\n",
      "Adding indiansuperleague information...\n",
      "Getting Posts Information: indiansuperleague\n",
      "Adding indiansuperleague posts information...\n",
      "Waiting 5 seconds...\n"
     ]
    },
    {
     "name": "stderr",
     "output_type": "stream",
     "text": [
      " 87%|████████▋ | 87/100 [02:25<01:46,  8.16s/it]"
     ]
    },
    {
     "name": "stdout",
     "output_type": "stream",
     "text": [
      "Getting Account Information: nails_masters\n",
      "Adding nails_masters information...\n",
      "Getting Posts Information: nails_masters\n",
      "Adding nails_masters posts information...\n",
      "Waiting 5 seconds...\n"
     ]
    },
    {
     "name": "stderr",
     "output_type": "stream",
     "text": [
      " 88%|████████▊ | 88/100 [02:34<01:39,  8.27s/it]"
     ]
    },
    {
     "name": "stdout",
     "output_type": "stream",
     "text": [
      "Getting Account Information: okezonecom\n",
      "Adding okezonecom information...\n",
      "Getting Posts Information: okezonecom\n",
      "Adding okezonecom posts information...\n",
      "Waiting 5 seconds...\n"
     ]
    },
    {
     "name": "stderr",
     "output_type": "stream",
     "text": [
      " 89%|████████▉ | 89/100 [02:42<01:30,  8.21s/it]"
     ]
    },
    {
     "name": "stdout",
     "output_type": "stream",
     "text": [
      "Getting Account Information: chouftv_official\n",
      "Adding chouftv_official information...\n",
      "Getting Posts Information: chouftv_official\n",
      "Adding chouftv_official posts information...\n",
      "Waiting 5 seconds...\n"
     ]
    },
    {
     "name": "stderr",
     "output_type": "stream",
     "text": [
      " 90%|█████████ | 90/100 [02:53<01:30,  9.00s/it]"
     ]
    },
    {
     "name": "stdout",
     "output_type": "stream",
     "text": [
      "Getting Account Information: gazetemagazin\n",
      "Adding gazetemagazin information...\n",
      "Getting Posts Information: gazetemagazin\n",
      "Adding gazetemagazin posts information...\n",
      "Waiting 5 seconds...\n"
     ]
    },
    {
     "name": "stderr",
     "output_type": "stream",
     "text": [
      " 91%|█████████ | 91/100 [03:02<01:22,  9.16s/it]"
     ]
    },
    {
     "name": "stdout",
     "output_type": "stream",
     "text": [
      "Getting Account Information: sportskeedacricket\n",
      "Adding sportskeedacricket information...\n",
      "Getting Posts Information: sportskeedacricket\n",
      "Adding sportskeedacricket posts information...\n",
      "Waiting 5 seconds...\n"
     ]
    },
    {
     "name": "stderr",
     "output_type": "stream",
     "text": [
      " 92%|█████████▏| 92/100 [03:10<01:09,  8.73s/it]"
     ]
    },
    {
     "name": "stdout",
     "output_type": "stream",
     "text": [
      "Getting Account Information: zeetv\n",
      "Adding zeetv information...\n",
      "Getting Posts Information: zeetv\n",
      "Adding zeetv posts information...\n",
      "Waiting 5 seconds...\n"
     ]
    },
    {
     "name": "stderr",
     "output_type": "stream",
     "text": [
      " 93%|█████████▎| 93/100 [03:22<01:06,  9.56s/it]"
     ]
    },
    {
     "name": "stdout",
     "output_type": "stream",
     "text": [
      "Getting Account Information: corinthians\n",
      "Adding corinthians information...\n",
      "Getting Posts Information: corinthians\n",
      "Adding corinthians posts information...\n",
      "Waiting 5 seconds...\n"
     ]
    },
    {
     "name": "stderr",
     "output_type": "stream",
     "text": [
      " 94%|█████████▍| 94/100 [03:36<01:05, 10.96s/it]"
     ]
    },
    {
     "name": "stdout",
     "output_type": "stream",
     "text": [
      "Getting Account Information: natgeo\n",
      "User information already exist, skipping...\n",
      "Getting Account Information: jokezar\n",
      "Adding jokezar information...\n",
      "Getting Posts Information: jokezar\n",
      "Adding jokezar posts information...\n",
      "Waiting 5 seconds...\n"
     ]
    },
    {
     "name": "stderr",
     "output_type": "stream",
     "text": [
      " 96%|█████████▌| 96/100 [03:43<00:30,  7.65s/it]"
     ]
    },
    {
     "name": "stdout",
     "output_type": "stream",
     "text": [
      "Getting Account Information: ultimahoracol\n",
      "Adding ultimahoracol information...\n",
      "Getting Posts Information: ultimahoracol\n",
      "Adding ultimahoracol posts information...\n",
      "Waiting 5 seconds...\n"
     ]
    },
    {
     "name": "stderr",
     "output_type": "stream",
     "text": [
      " 97%|█████████▋| 97/100 [03:51<00:22,  7.60s/it]"
     ]
    },
    {
     "name": "stdout",
     "output_type": "stream",
     "text": [
      "Getting Account Information: sosmedmakassar\n",
      "Adding sosmedmakassar information...\n",
      "Getting Posts Information: sosmedmakassar\n",
      "Adding sosmedmakassar posts information...\n",
      "Waiting 5 seconds...\n"
     ]
    },
    {
     "name": "stderr",
     "output_type": "stream",
     "text": [
      " 98%|█████████▊| 98/100 [04:02<00:17,  8.65s/it]"
     ]
    },
    {
     "name": "stdout",
     "output_type": "stream",
     "text": [
      "Getting Account Information: indonesiabertauhidofficial\n",
      "Adding indonesiabertauhidofficial information...\n",
      "Getting Posts Information: indonesiabertauhidofficial\n",
      "Adding indonesiabertauhidofficial posts information...\n",
      "Waiting 5 seconds...\n"
     ]
    },
    {
     "name": "stderr",
     "output_type": "stream",
     "text": [
      " 99%|█████████▉| 99/100 [04:11<00:08,  8.75s/it]"
     ]
    },
    {
     "name": "stdout",
     "output_type": "stream",
     "text": [
      "Getting Account Information: eddiempr\n"
     ]
    },
    {
     "name": "stderr",
     "output_type": "stream",
     "text": [
      "100%|██████████| 100/100 [04:12<00:00,  2.53s/it]"
     ]
    },
    {
     "name": "stdout",
     "output_type": "stream",
     "text": [
      "Response is empty for eddiempr skipping...\n"
     ]
    },
    {
     "name": "stderr",
     "output_type": "stream",
     "text": [
      "\n"
     ]
    }
   ],
   "source": [
    "try:\n",
    "    main_accounts_df = pd.read_csv('Data/accounts.csv')\n",
    "    main_posts_df = pd.read_csv('Data/posts.csv')\n",
    "    main_accounts_df.drop(columns=['Unnamed: 0'], inplace=True)\n",
    "    main_posts_df.drop(columns=['Unnamed: 0'], inplace=True)\n",
    "except:\n",
    "    main_accounts_df = pd.DataFrame(columns=['id', 'username', 'category_name', 'follower', 'following', 'ar_effect', 'type_business', 'type_professional', 'verified', 'reel_count', 'reel_avg_view', 'reel_avg_comment', 'reel_avg_like', 'reel_avg_duration', 'reel_frequency', 'media_count', 'media_avg_comment', 'media_avg_like', 'media_frequency'])\n",
    "    main_posts_df = pd.DataFrame(columns=['shortcode', 'post_type', 'username', 'like', 'comment', 'object_1', 'object_2', 'object_3', 'object_4', 'object_5','object_6'])\n",
    "\n",
    "\n",
    "for username in tqdm(top_100_followers + top_100_posts):\n",
    "    print(f'Getting Account Information: {username}')\n",
    "    if main_accounts_df['username'].str.contains(f'{username}').any():\n",
    "        print('User information already exist, skipping...')\n",
    "        continue\n",
    "    if main_posts_df['username'].str.contains(f'{username}').any():\n",
    "        print('User post information already exist, skiping...')\n",
    "        continue\n",
    "    # loading account information\n",
    "    session = {\n",
    "            \"csrf_token\": csrf_token,\n",
    "            \"session_id\": session_id\n",
    "        }\n",
    "\n",
    "    headers = {\n",
    "            \"x-csrftoken\": session['csrf_token'],\n",
    "            'user-agent': 'Mozilla/5.0 (Windows NT 10.0; Win64; x64) AppleWebKit/537.36 (KHTML, like Gecko) Chrome/84.0.4147.89 Safari/537.36',\n",
    "            \"X-Requested-With\": \"XMLHttpRequest\",\n",
    "            \"Referer\": \"https://www.instagram.com/accounts/login/\",\n",
    "            'Accept': '*/*',\n",
    "            'Accept-Language': 'en-US,en;q=0.5',\n",
    "            'X-Instagram-AJAX': 'c6412f1b1b7b',\n",
    "            'X-IG-App-ID': '936619743392459',\n",
    "            'X-ASBD-ID': '198387',\n",
    "            'X-IG-WWW-Claim': '0',\n",
    "            'X-Requested-With': 'XMLHttpRequest',\n",
    "            'Origin': 'https://www.instagram.com',\n",
    "            'DNT': '1',\n",
    "            'Connection': 'keep-alive',\n",
    "            'Referer': 'https://www.instagram.com/accounts/login/?',\n",
    "            'Sec-Fetch-Dest': 'empty',\n",
    "            'Sec-Fetch-Mode': 'cors',\n",
    "            'Sec-Fetch-Site': 'same-origin',\n",
    "            'Accept': 'text/html,application/xhtml+xml,application/xml;q=0.9,image/avif,image/webp,*/*;q=0.8',\n",
    "            'Accept-Language': 'en-US,en;q=0.5',\n",
    "            'Accept-Encoding': 'gzip, deflate, br',\n",
    "            'Connection': 'keep-alive',\n",
    "            'Upgrade-Insecure-Requests': '1',\n",
    "            'Sec-Fetch-Dest': 'document',\n",
    "            'Sec-Fetch-Mode': 'navigate',\n",
    "            'Sec-Fetch-Site': 'none',\n",
    "            'Sec-Fetch-User': '?1',\n",
    "            'TE': 'trailers'\n",
    "        }\n",
    "\n",
    "    cookies = {\n",
    "            \"sessionid\": session['session_id'],\n",
    "            \"csrftoken\": session['csrf_token']\n",
    "        }\n",
    "    url = f'https://www.instagram.com/{username}/?__a=1&__d=dis'\n",
    "    res = requests.get(url, headers=headers, cookies=cookies)\n",
    "    # add error handling here based on response codes, reference -> InstagramBot.py\n",
    "\n",
    "    data = res.json()\n",
    "    if not data:\n",
    "        print(f'Response is empty for {username} skipping...')\n",
    "        continue\n",
    "    followers = data['graphql']['user']['edge_followed_by']['count']\n",
    "    following = data['graphql']['user']['edge_follow']['count']\n",
    "    ar_effect = data['graphql']['user']['has_ar_effects']\n",
    "    id = data['graphql']['user']['id']\n",
    "    type_business = data['graphql']['user']['is_business_account']\n",
    "    type_professional = data['graphql']['user']['is_professional_account']\n",
    "    category = data['graphql']['user']['category_name']\n",
    "    verified = data['graphql']['user']['is_verified']\n",
    "    reel_count = data['graphql']['user']['edge_felix_video_timeline']['count']\n",
    "    media_count = data['graphql']['user']['edge_owner_to_timeline_media']['count']\n",
    "    username = data['graphql']['user']['username']\n",
    "\n",
    "    reel_view_list = []\n",
    "    reel_like_list = []\n",
    "    reel_comment_list = []\n",
    "    reel_duration_list = []\n",
    "    reel_timestamp_list = []\n",
    "\n",
    "    media_like_list = []\n",
    "    media_comment_list = []\n",
    "    media_timestamp_list = []\n",
    "\n",
    "    for video in data['graphql']['user']['edge_felix_video_timeline']['edges']:\n",
    "        reel_view_list.append(video['node']['video_view_count'])\n",
    "        reel_comment_list.append(video['node']['edge_media_to_comment']['count'])\n",
    "        reel_timestamp_list.append(video['node']['taken_at_timestamp'])\n",
    "        reel_like_list.append(video['node']['edge_liked_by']['count'])\n",
    "        reel_duration_list.append(video['node']['video_duration'])\n",
    "    \n",
    "    # sometimes instagram result for video duration is None, this is sanity check\n",
    "    reel_duration_list = [0 if duration is None else duration for duration in reel_duration_list]\n",
    "\n",
    "    for medium in data['graphql']['user']['edge_owner_to_timeline_media']['edges']:\n",
    "        media_like_list.append(medium['node']['edge_liked_by']['count'])\n",
    "        media_comment_list.append(medium['node']['edge_media_to_comment']['count'])\n",
    "        media_timestamp_list.append(medium['node']['taken_at_timestamp'])\n",
    "\n",
    "    \n",
    "    reel_utc_list = [datetime.utcfromtimestamp(ts) for ts in reel_timestamp_list]\n",
    "    media_utc_list = [datetime.utcfromtimestamp(ts) for ts in media_timestamp_list]\n",
    "\n",
    "    reel_utc_difference_list = [reel_utc_list[i] - reel_utc_list[i+1] for i in range(len(reel_utc_list) - 1)]\n",
    "    media_utc_difference_list = [media_utc_list[i] - media_utc_list[i+1] for i in range(len(media_utc_list) - 1)]\n",
    "\n",
    "    if reel_count > 1:\n",
    "        reel_frequency = np.mean(reel_utc_difference_list).days + (np.mean(reel_utc_difference_list).seconds / 86_400) + (np.mean(reel_utc_difference_list).microseconds / 1_000_000 / 84_600)\n",
    "    else:\n",
    "        reel_frequency = 0\n",
    "    media_frequency = np.mean(media_utc_difference_list).days + (np.mean(media_utc_difference_list).seconds / 86_400) + (np.mean(media_utc_difference_list).microseconds / 1_000_000 / 84_600)\n",
    "\n",
    "    reel_view_mean = np.mean(reel_view_list)\n",
    "    reel_like_mean = np.mean(reel_like_list)\n",
    "    reel_comment_mean = np.mean(reel_comment_list)\n",
    "    reel_duration_mean = np.mean(reel_duration_list)\n",
    "\n",
    "    media_like_mean = np.mean(media_like_list)\n",
    "    media_comment_mean = np.mean(media_comment_list)\n",
    "\n",
    "    entry_lst = [id, username, category, followers, following, ar_effect, type_business, type_professional, verified, reel_count, reel_view_mean, reel_comment_mean, reel_like_mean, reel_duration_mean, reel_frequency, media_count, media_comment_mean, media_like_mean, media_frequency]\n",
    "\n",
    "    account_df = pd.DataFrame() #reset variable\n",
    "    account_df = pd.DataFrame([entry_lst], columns=['id', 'username', 'category_name', 'follower', 'following', 'ar_effect', 'type_business', 'type_professional', 'verified', 'reel_count', 'reel_avg_view', 'reel_avg_comment', 'reel_avg_like', 'reel_avg_duration', 'reel_frequency', 'media_count', 'media_avg_comment', 'media_avg_like', 'media_frequency'])\n",
    "\n",
    "    if account_df.username.isin(main_accounts_df.username).bool():\n",
    "        print('User information already exist, skipping...')\n",
    "        continue\n",
    "    else:\n",
    "        print(f'Adding {username} information...')\n",
    "        account_df = account_df.astype({\n",
    "            'ar_effect': bool,\n",
    "            'type_business': bool,\n",
    "            'type_professional': bool,\n",
    "            'verified': bool,\n",
    "        })\n",
    "        main_accounts_df = pd.concat([main_accounts_df, account_df], axis=0, join='outer')\n",
    "    \n",
    "    # adding user's posts information\n",
    "    print(f'Getting Posts Information: {username}')\n",
    "    # main lists structure is:\n",
    "    # shortcode, post_type, username, objects\n",
    "    posts_lst = []\n",
    "    for post in data['graphql']['user']['edge_owner_to_timeline_media']['edges']:\n",
    "        temp_lst = []\n",
    "        objects = []\n",
    "        temp_lst.append(post['node']['shortcode'])\n",
    "        temp_lst.append(post['node']['__typename'])\n",
    "        temp_lst.append(data['graphql']['user']['username'])\n",
    "        temp_lst.append(post['node']['edge_liked_by']['count'])\n",
    "        temp_lst.append(post['node']['edge_media_to_comment']['count'])\n",
    "        if post['node']['__typename'] == 'GraphImage' or post['node']['__typename'] == 'GraphSidecar':\n",
    "            if post['node']['accessibility_caption'] == None:\n",
    "                objects = []\n",
    "                continue\n",
    "            # split object-detection output\n",
    "            try:\n",
    "                objects = post['node']['accessibility_caption'].split('.')[1]\n",
    "            except:\n",
    "                continue            \n",
    "            # terminating empty lists\n",
    "            if objects:\n",
    "                try:\n",
    "                    # cutting objects\n",
    "                    objects = objects.split('of')[1]\n",
    "                    objects = objects.split('and', 1)\n",
    "                    objects[0] = objects[0].split(',')\n",
    "                    if 'text' in objects[1]:\n",
    "                        objects[1] = 'text'\n",
    "                except:\n",
    "                    continue\n",
    "                # flattening the objects list to make the dimension 1D\n",
    "                objects = flatten(objects)\n",
    "                # terminating leading and trailing spaces from list items\n",
    "                objects = [item.strip() for item in objects]\n",
    "            else:\n",
    "                objects = []\n",
    "        # padding the objects list, we set the limit to 6 objects\n",
    "        objects += ['No Object'] * (6 - len(objects))\n",
    "        if len(objects) > 6:\n",
    "            objects = objects[:6]\n",
    "        temp_lst.append(objects)\n",
    "        posts_lst.append(flatten(temp_lst))\n",
    "\n",
    "    # creating temporary dataframe for posts of this account\n",
    "    temp_df = pd.DataFrame()\n",
    "    temp_df = pd.DataFrame(posts_lst, columns=[\n",
    "        'shortcode',\n",
    "        'post_type',\n",
    "        'username',\n",
    "        'like',\n",
    "        'comment',\n",
    "        'object_1',\n",
    "        'object_2',\n",
    "        'object_3',\n",
    "        'object_4',\n",
    "        'object_5',\n",
    "        'object_6'\n",
    "    ])\n",
    "\n",
    "    if temp_df.username.isin(main_posts_df.username)[0]:\n",
    "        print('User post information already exist, skiping...')\n",
    "        continue\n",
    "    else:\n",
    "        print(f'Adding {username} posts information...')\n",
    "        main_posts_df = pd.concat([main_posts_df, temp_df], axis=0, join='outer')\n",
    "    \n",
    "    # saving the data each time\n",
    "    main_accounts_df.to_csv('Data/accounts.csv')\n",
    "    main_posts_df.to_csv('Data/posts.csv')\n",
    "\n",
    "    # waiting 5 sec for each  user, instagram rate limit\n",
    "    print('Waiting 5 seconds...')\n",
    "    time.sleep(5)"
   ]
  },
  {
   "attachments": {},
   "cell_type": "markdown",
   "metadata": {},
   "source": [
    "Now I have posts, I can should download them and keep their files in the Data folder. In the next I will going to do that."
   ]
  },
  {
   "cell_type": "code",
<<<<<<< HEAD
   "execution_count": 2,
   "metadata": {},
   "outputs": [],
   "source": [
    "posts_df = pd.read_csv('Data/posts.csv')\n",
    "posts_df.drop(columns=['Unnamed: 0'], inplace=True)\n",
    "posts_df = posts_df.drop(posts_df[posts_df['post_type'] == 'GraphVideo'].index)\n",
    "posts_df = posts_df.reset_index(drop=True)"
   ]
  },
  {
   "cell_type": "code",
   "execution_count": 5,
=======
   "execution_count": 13,
>>>>>>> parent of 920a8bb (adding more images to the dataset)
   "metadata": {},
   "outputs": [
    {
     "name": "stderr",
     "output_type": "stream",
     "text": [
      "0it [00:00, ?it/s]"
     ]
    },
    {
     "name": "stdout",
     "output_type": "stream",
     "text": [
      "Getting post: CrRK-JgA-tD\n",
      "Downloading...\n"
     ]
    },
    {
     "name": "stderr",
     "output_type": "stream",
     "text": [
      "1it [00:13, 13.22s/it]"
     ]
    },
    {
     "name": "stdout",
     "output_type": "stream",
     "text": [
      "Saved!\n",
      "Getting post: CrJYehaAhbh\n",
      "Downloading...\n"
     ]
    },
    {
     "name": "stderr",
     "output_type": "stream",
     "text": [
      "2it [00:19,  9.22s/it]"
     ]
    },
    {
     "name": "stdout",
     "output_type": "stream",
     "text": [
      "Saved!\n",
      "Getting post: Cq3I9ulJE6b\n",
      "Downloading...\n"
     ]
    },
    {
     "name": "stderr",
     "output_type": "stream",
     "text": [
      "3it [00:24,  7.14s/it]"
     ]
    },
    {
     "name": "stdout",
     "output_type": "stream",
     "text": [
      "Saved!\n",
      "Getting post: CrUE3a6tRs4\n",
      "Downloading...\n"
     ]
    },
    {
     "name": "stderr",
     "output_type": "stream",
     "text": [
      "4it [00:29,  6.19s/it]"
     ]
    },
    {
     "name": "stdout",
     "output_type": "stream",
     "text": [
      "Saved!\n",
      "Getting post: CrK_zvLAofv\n",
      "Downloading...\n"
     ]
    },
    {
     "name": "stderr",
     "output_type": "stream",
     "text": [
      "5it [00:31,  4.96s/it]"
     ]
    },
    {
     "name": "stdout",
     "output_type": "stream",
     "text": [
      "Saved!\n",
      "Getting post: CrGMggNq1Cb\n",
      "Downloading...\n"
     ]
    },
    {
     "name": "stderr",
     "output_type": "stream",
     "text": [
      "6it [00:34,  4.31s/it]"
     ]
    },
    {
     "name": "stdout",
     "output_type": "stream",
     "text": [
      "Saved!\n",
      "Getting post: CrEHoMbK0_C\n",
      "Downloading...\n"
     ]
    },
    {
     "name": "stderr",
     "output_type": "stream",
     "text": [
      "7it [00:40,  4.60s/it]"
     ]
    },
    {
     "name": "stdout",
     "output_type": "stream",
     "text": [
      "Saved!\n",
      "Getting post: Cq8QZGDIix1\n",
      "Downloading...\n"
     ]
    },
    {
     "name": "stderr",
     "output_type": "stream",
     "text": [
      "8it [00:46,  5.14s/it]"
     ]
    },
    {
     "name": "stdout",
     "output_type": "stream",
     "text": [
      "Saved!\n",
      "Getting post: CqoZ8pRo91y\n",
      "Downloading...\n"
     ]
    },
    {
     "name": "stderr",
     "output_type": "stream",
     "text": [
      "9it [00:48,  4.22s/it]"
     ]
    },
    {
     "name": "stdout",
     "output_type": "stream",
     "text": [
      "Saved!\n",
      "Getting post: CqjQjCII98k\n",
      "Downloading...\n"
     ]
    },
    {
     "name": "stderr",
     "output_type": "stream",
     "text": [
      "10it [00:50,  3.50s/it]"
     ]
    },
    {
     "name": "stdout",
     "output_type": "stream",
     "text": [
      "Saved!\n",
      "Getting post: CqeFZMFotaH\n",
      "Downloading...\n"
     ]
    },
    {
     "name": "stderr",
     "output_type": "stream",
     "text": [
      "11it [00:53,  3.48s/it]"
     ]
    },
    {
     "name": "stdout",
     "output_type": "stream",
     "text": [
      "Saved!\n",
      "Getting post: Cra8IRetvaD\n",
      "Downloading...\n"
     ]
    },
    {
     "name": "stderr",
     "output_type": "stream",
     "text": [
      "12it [00:56,  3.09s/it]"
     ]
    },
    {
     "name": "stdout",
     "output_type": "stream",
     "text": [
      "Saved!\n",
      "Getting post: CrX_ap2ND34\n",
      "Downloading...\n"
     ]
    },
    {
     "name": "stderr",
     "output_type": "stream",
     "text": [
      "13it [00:59,  3.06s/it]"
     ]
    },
    {
     "name": "stdout",
     "output_type": "stream",
     "text": [
      "Saved!\n",
      "Getting post: CrUHRtzNU1v\n",
      "Downloading...\n"
     ]
    },
    {
     "name": "stderr",
     "output_type": "stream",
     "text": [
      "14it [01:01,  2.80s/it]"
     ]
    },
    {
     "name": "stdout",
     "output_type": "stream",
     "text": [
      "Saved!\n",
      "Getting post: CrG1zcBNFQj\n",
      "Downloading...\n"
     ]
    },
    {
     "name": "stderr",
     "output_type": "stream",
     "text": [
      "15it [01:04,  3.00s/it]"
     ]
    },
    {
     "name": "stdout",
     "output_type": "stream",
     "text": [
      "Saved!\n",
      "Getting post: CqylP2gNluK\n",
      "Downloading...\n"
     ]
    },
    {
     "name": "stderr",
     "output_type": "stream",
     "text": [
      "16it [01:07,  2.99s/it]"
     ]
    },
    {
     "name": "stdout",
     "output_type": "stream",
     "text": [
      "Saved!\n",
      "Getting post: CqWzeG3Nr4l\n",
      "Downloading...\n"
     ]
    },
    {
     "name": "stderr",
     "output_type": "stream",
     "text": [
      "17it [01:10,  2.96s/it]"
     ]
    },
    {
     "name": "stdout",
     "output_type": "stream",
     "text": [
      "Saved!\n",
      "Getting post: CqT54JdrbzD\n",
      "Downloading...\n"
     ]
    },
    {
     "name": "stderr",
     "output_type": "stream",
     "text": [
      "18it [01:17,  4.22s/it]"
     ]
    },
    {
     "name": "stdout",
     "output_type": "stream",
     "text": [
      "Saved!\n",
      "Getting post: CqOECn_LXQ8\n",
      "Downloading...\n"
     ]
    },
    {
     "name": "stderr",
     "output_type": "stream",
     "text": [
      "19it [01:22,  4.48s/it]"
     ]
    },
    {
     "name": "stdout",
     "output_type": "stream",
     "text": [
      "Saved!\n",
      "Getting post: CrRGHjjLvYl\n",
      "Downloading...\n"
     ]
    },
    {
     "name": "stderr",
     "output_type": "stream",
     "text": [
      "20it [01:29,  5.06s/it]"
     ]
    },
    {
     "name": "stdout",
     "output_type": "stream",
     "text": [
      "Saved!\n",
      "Getting post: CrCpfpVt3Zq\n",
      "Downloading...\n"
     ]
    },
    {
     "name": "stderr",
     "output_type": "stream",
     "text": [
      "21it [01:34,  5.16s/it]"
     ]
    },
    {
     "name": "stdout",
     "output_type": "stream",
     "text": [
      "Saved!\n",
      "Getting post: CqjAyPyOC_r\n",
      "Downloading...\n"
     ]
    },
    {
     "name": "stderr",
     "output_type": "stream",
     "text": [
      "22it [01:44,  6.60s/it]"
     ]
    },
    {
     "name": "stdout",
     "output_type": "stream",
     "text": [
      "Saved!\n",
      "Getting post: Cqafk-jj5HV\n",
      "Downloading...\n"
     ]
    },
    {
     "name": "stderr",
     "output_type": "stream",
     "text": [
      "23it [01:52,  6.93s/it]"
     ]
    },
    {
     "name": "stdout",
     "output_type": "stream",
     "text": [
      "Saved!\n",
      "Getting post: CqSxXsdu4I7\n",
      "Downloading...\n"
     ]
    },
    {
     "name": "stderr",
     "output_type": "stream",
     "text": [
      "24it [01:56,  5.97s/it]"
     ]
    },
    {
     "name": "stdout",
     "output_type": "stream",
     "text": [
      "Saved!\n",
      "Getting post: CqQfTxiOMMF\n",
      "Downloading...\n"
     ]
    },
    {
     "name": "stderr",
     "output_type": "stream",
     "text": [
      "25it [02:03,  6.47s/it]"
     ]
    },
    {
     "name": "stdout",
     "output_type": "stream",
     "text": [
      "Saved!\n",
      "Getting post: CqENlgtuTNe\n",
      "Downloading...\n"
     ]
    },
    {
     "name": "stderr",
     "output_type": "stream",
     "text": [
      "26it [02:08,  5.98s/it]"
     ]
    },
    {
     "name": "stdout",
     "output_type": "stream",
     "text": [
      "Saved!\n",
      "Getting post: Cp-XrldOSS0\n",
      "Downloading...\n"
     ]
    },
    {
     "name": "stderr",
     "output_type": "stream",
     "text": [
      "27it [02:21,  8.11s/it]"
     ]
    },
    {
     "name": "stdout",
     "output_type": "stream",
     "text": [
      "Saved!\n",
      "Getting post: Cpv2SBMrAGY\n",
      "Downloading...\n"
     ]
    },
    {
     "name": "stderr",
     "output_type": "stream",
     "text": [
      "28it [02:29,  8.11s/it]"
     ]
    },
    {
     "name": "stdout",
     "output_type": "stream",
     "text": [
      "Saved!\n",
      "Getting post: CpiqBfkONWp\n",
      "Downloading...\n"
     ]
    },
    {
     "name": "stderr",
     "output_type": "stream",
     "text": [
      "29it [02:48, 11.34s/it]"
     ]
    },
    {
     "name": "stdout",
     "output_type": "stream",
     "text": [
      "Saved!\n",
      "Getting post: CpS0P4XuDm4\n",
      "Downloading...\n"
     ]
    },
    {
     "name": "stderr",
     "output_type": "stream",
     "text": [
      "30it [02:54,  9.66s/it]"
     ]
    },
    {
     "name": "stdout",
     "output_type": "stream",
     "text": [
      "Saved!\n",
      "Getting post: CrZF-9AydyP\n",
      "Downloading...\n"
     ]
    },
    {
     "name": "stderr",
     "output_type": "stream",
     "text": [
      "31it [02:57,  7.59s/it]"
     ]
    },
    {
     "name": "stdout",
     "output_type": "stream",
     "text": [
      "Saved!\n",
      "Getting post: CrULOLuPfAU\n",
      "Downloading...\n"
     ]
    },
    {
     "name": "stderr",
     "output_type": "stream",
     "text": [
      "32it [03:01,  6.74s/it]"
     ]
    },
    {
     "name": "stdout",
     "output_type": "stream",
     "text": [
      "Saved!\n",
      "Getting post: CrQ-4wSpbhC\n",
      "Downloading...\n"
     ]
    },
    {
     "name": "stderr",
     "output_type": "stream",
     "text": [
      "33it [03:06,  6.24s/it]"
     ]
    },
    {
     "name": "stdout",
     "output_type": "stream",
     "text": [
      "Saved!\n",
      "Getting post: CrL0uq1J1XN\n",
      "Downloading...\n"
     ]
    },
    {
     "name": "stderr",
     "output_type": "stream",
     "text": [
      "34it [03:13,  6.22s/it]"
     ]
    },
    {
     "name": "stdout",
     "output_type": "stream",
     "text": [
      "Saved!\n",
      "Getting post: CrL0VKMJy-L\n",
      "Downloading...\n"
     ]
    },
    {
     "name": "stderr",
     "output_type": "stream",
     "text": [
      "35it [03:18,  5.94s/it]"
     ]
    },
    {
     "name": "stdout",
     "output_type": "stream",
     "text": [
      "Saved!\n",
      "Getting post: CrKdwGFuOKh\n",
      "Downloading...\n"
     ]
    },
    {
     "name": "stderr",
     "output_type": "stream",
     "text": [
      "36it [03:20,  4.89s/it]"
     ]
    },
    {
     "name": "stdout",
     "output_type": "stream",
     "text": [
      "Saved!\n",
      "Getting post: CrFPeFlriwz\n",
      "Downloading...\n"
     ]
    },
    {
     "name": "stderr",
     "output_type": "stream",
     "text": [
      "37it [03:26,  4.99s/it]"
     ]
    },
    {
     "name": "stdout",
     "output_type": "stream",
     "text": [
      "Saved!\n",
      "Getting post: CrBkzMiLhEo\n",
      "Downloading...\n"
     ]
    },
    {
     "name": "stderr",
     "output_type": "stream",
     "text": [
      "38it [03:38,  7.21s/it]"
     ]
    },
    {
     "name": "stdout",
     "output_type": "stream",
     "text": [
      "Saved!\n",
      "Getting post: Cq56eczJjKo\n",
      "Downloading...\n"
     ]
    },
    {
     "name": "stderr",
     "output_type": "stream",
     "text": [
      "39it [03:43,  6.70s/it]"
     ]
    },
    {
     "name": "stdout",
     "output_type": "stream",
     "text": [
      "Saved!\n",
      "Getting post: Cq4MNCJJSyx\n",
      "Downloading...\n"
     ]
    },
    {
     "name": "stderr",
     "output_type": "stream",
     "text": [
      "40it [03:49,  6.23s/it]"
     ]
    },
    {
     "name": "stdout",
     "output_type": "stream",
     "text": [
      "Saved!\n",
      "Getting post: CraIJeaO7bw\n",
      "Downloading...\n"
     ]
    },
    {
     "name": "stderr",
     "output_type": "stream",
     "text": [
      "41it [03:51,  4.97s/it]"
     ]
    },
    {
     "name": "stdout",
     "output_type": "stream",
     "text": [
      "Saved!\n",
      "Getting post: CrMOQoQPVMV\n",
      "Downloading...\n"
     ]
    },
    {
     "name": "stderr",
     "output_type": "stream",
     "text": [
      "42it [03:52,  3.95s/it]"
     ]
    },
    {
     "name": "stdout",
     "output_type": "stream",
     "text": [
      "Saved!\n",
      "Getting post: CrGmE3ustlr\n",
      "Downloading...\n"
     ]
    },
    {
     "name": "stderr",
     "output_type": "stream",
     "text": [
      "43it [03:53,  3.14s/it]"
     ]
    },
    {
     "name": "stdout",
     "output_type": "stream",
     "text": [
      "Saved!\n",
      "Getting post: CqP2ljXsMXv\n",
      "Downloading...\n"
     ]
    },
    {
     "name": "stderr",
     "output_type": "stream",
     "text": [
      "44it [03:59,  3.74s/it]"
     ]
    },
    {
     "name": "stdout",
     "output_type": "stream",
     "text": [
      "Saved!\n",
      "Getting post: Cpxgw3pM3gV\n",
      "Downloading...\n"
     ]
    },
    {
     "name": "stderr",
     "output_type": "stream",
     "text": [
      "45it [04:02,  3.65s/it]"
     ]
    },
    {
     "name": "stdout",
     "output_type": "stream",
     "text": [
      "Saved!\n",
      "Getting post: CpCKVrjo-J9\n",
      "Downloading...\n"
     ]
    },
    {
     "name": "stderr",
     "output_type": "stream",
     "text": [
      "46it [04:10,  4.96s/it]"
     ]
    },
    {
     "name": "stdout",
     "output_type": "stream",
     "text": [
      "Saved!\n",
      "Getting post: CmBR9PXM6Xj\n",
      "Downloading...\n"
     ]
    },
    {
     "name": "stderr",
     "output_type": "stream",
     "text": [
      "47it [04:16,  5.39s/it]"
     ]
    },
    {
     "name": "stdout",
     "output_type": "stream",
     "text": [
      "Saved!\n",
      "Getting post: Cli-df7M6JQ\n",
      "Downloading...\n"
     ]
    },
    {
     "name": "stderr",
     "output_type": "stream",
     "text": [
      "48it [04:19,  4.48s/it]"
     ]
    },
    {
     "name": "stdout",
     "output_type": "stream",
     "text": [
      "Saved!\n",
      "Getting post: ClMLu4usx2Y\n",
      "Downloading...\n"
     ]
    },
    {
     "name": "stderr",
     "output_type": "stream",
     "text": [
      "49it [04:22,  4.25s/it]"
     ]
    },
    {
     "name": "stdout",
     "output_type": "stream",
     "text": [
      "Saved!\n",
      "Getting post: CrbMB6XLHQn\n",
      "Downloading...\n"
     ]
    },
    {
     "name": "stderr",
     "output_type": "stream",
     "text": [
      "50it [04:27,  4.18s/it]"
     ]
    },
    {
     "name": "stdout",
     "output_type": "stream",
     "text": [
      "Saved!\n",
      "Getting post: CrZRaT4ScPc\n",
      "Downloading...\n"
     ]
    },
    {
     "name": "stderr",
     "output_type": "stream",
     "text": [
      "51it [04:29,  3.73s/it]"
     ]
    },
    {
     "name": "stdout",
     "output_type": "stream",
     "text": [
      "Saved!\n",
      "Getting post: CrWZCm9v6JD\n",
      "Downloading...\n"
     ]
    },
    {
     "name": "stderr",
     "output_type": "stream",
     "text": [
      "52it [04:35,  4.38s/it]"
     ]
    },
    {
     "name": "stdout",
     "output_type": "stream",
     "text": [
      "Saved!\n",
      "Getting post: CrPbcLKuBu6\n",
      "Downloading...\n"
     ]
    },
    {
     "name": "stderr",
     "output_type": "stream",
     "text": [
      "53it [04:38,  4.07s/it]"
     ]
    },
    {
     "name": "stdout",
     "output_type": "stream",
     "text": [
      "Saved!\n",
      "Getting post: CrMxRuFOM2J\n",
      "Downloading...\n"
     ]
    },
    {
     "name": "stderr",
     "output_type": "stream",
     "text": [
      "54it [04:41,  3.54s/it]"
     ]
    },
    {
     "name": "stdout",
     "output_type": "stream",
     "text": [
      "Saved!\n",
      "Getting post: CrJT4B8pT5a\n",
      "Downloading...\n"
     ]
    },
    {
     "name": "stderr",
     "output_type": "stream",
     "text": [
      "55it [04:45,  3.65s/it]"
     ]
    },
    {
     "name": "stdout",
     "output_type": "stream",
     "text": [
      "Saved!\n",
      "Getting post: CrHHnh8vfGv\n",
      "Downloading...\n"
     ]
    },
    {
     "name": "stderr",
     "output_type": "stream",
     "text": [
      "56it [04:47,  3.38s/it]"
     ]
    },
    {
     "name": "stdout",
     "output_type": "stream",
     "text": [
      "Saved!\n",
      "Getting post: CrBcbYGr2mg\n",
      "Downloading...\n"
     ]
    },
    {
     "name": "stderr",
     "output_type": "stream",
     "text": [
      "57it [04:52,  3.72s/it]"
     ]
    },
    {
     "name": "stdout",
     "output_type": "stream",
     "text": [
      "Saved!\n",
      "Getting post: Cq-z0nQOLvq\n",
      "Downloading...\n"
     ]
    },
    {
     "name": "stderr",
     "output_type": "stream",
     "text": [
      "58it [04:56,  3.94s/it]"
     ]
    },
    {
     "name": "stdout",
     "output_type": "stream",
     "text": [
      "Saved!\n",
      "Getting post: CqLUeUppDYs\n",
      "Downloading...\n"
     ]
    },
    {
     "name": "stderr",
     "output_type": "stream",
     "text": [
      "59it [04:59,  3.67s/it]"
     ]
    },
    {
     "name": "stdout",
     "output_type": "stream",
     "text": [
      "Saved!\n",
      "Getting post: CqLUQ_upwT0\n",
      "Downloading...\n"
     ]
    },
    {
     "name": "stderr",
     "output_type": "stream",
     "text": [
      "60it [05:05,  4.15s/it]"
     ]
    },
    {
     "name": "stdout",
     "output_type": "stream",
     "text": [
      "Saved!\n",
      "Getting post: Cp3vzkhp1Ug\n",
      "Downloading...\n"
     ]
    },
    {
     "name": "stderr",
     "output_type": "stream",
     "text": [
      "61it [05:07,  3.47s/it]"
     ]
    },
    {
     "name": "stdout",
     "output_type": "stream",
     "text": [
      "Saved!\n",
      "Getting post: CoZJBmpuIlD\n",
      "Downloading...\n"
     ]
    },
    {
     "name": "stderr",
     "output_type": "stream",
     "text": [
      "62it [05:09,  3.10s/it]"
     ]
    },
    {
     "name": "stdout",
     "output_type": "stream",
     "text": [
      "Saved!\n",
      "Getting post: CoTojVarwg_\n",
      "Downloading...\n"
     ]
    },
    {
     "name": "stderr",
     "output_type": "stream",
     "text": [
      "63it [05:11,  2.81s/it]"
     ]
    },
    {
     "name": "stdout",
     "output_type": "stream",
     "text": [
      "Saved!\n",
      "Getting post: CoRHCpauzUG\n",
      "Downloading...\n"
     ]
    },
    {
     "name": "stderr",
     "output_type": "stream",
     "text": [
      "64it [05:13,  2.59s/it]"
     ]
    },
    {
     "name": "stdout",
     "output_type": "stream",
     "text": [
      "Saved!\n",
      "Getting post: CoHxOQhrTHX\n",
      "Downloading...\n"
     ]
    },
    {
     "name": "stderr",
     "output_type": "stream",
     "text": [
      "65it [05:17,  2.92s/it]"
     ]
    },
    {
     "name": "stdout",
     "output_type": "stream",
     "text": [
      "Saved!\n",
      "Getting post: CkhUy2bL0_9\n",
      "Downloading...\n"
     ]
    },
    {
     "name": "stderr",
     "output_type": "stream",
     "text": [
      "66it [05:19,  2.88s/it]"
     ]
    },
    {
     "name": "stdout",
     "output_type": "stream",
     "text": [
      "Saved!\n",
      "Getting post: CrT4WdNPG5l\n",
      "Downloading...\n"
     ]
    },
    {
     "name": "stderr",
     "output_type": "stream",
     "text": [
      "67it [05:23,  3.11s/it]"
     ]
    },
    {
     "name": "stdout",
     "output_type": "stream",
     "text": [
      "Saved!\n",
      "Getting post: CrPX33opk5X\n",
      "Downloading...\n"
     ]
    },
    {
     "name": "stderr",
     "output_type": "stream",
     "text": [
      "68it [05:25,  2.83s/it]"
     ]
    },
    {
     "name": "stdout",
     "output_type": "stream",
     "text": [
      "Saved!\n",
      "Getting post: CrPApY_PuYn\n",
      "Downloading...\n"
     ]
    },
    {
     "name": "stderr",
     "output_type": "stream",
     "text": [
      "69it [05:27,  2.61s/it]"
     ]
    },
    {
     "name": "stdout",
     "output_type": "stream",
     "text": [
      "Saved!\n",
      "Getting post: CrOTyWzrUOf\n",
      "Downloading...\n"
     ]
    },
    {
     "name": "stderr",
     "output_type": "stream",
     "text": [
      "70it [05:31,  2.77s/it]"
     ]
    },
    {
     "name": "stdout",
     "output_type": "stream",
     "text": [
      "Saved!\n",
      "Getting post: CrMACzPPc_W\n",
      "Downloading...\n"
     ]
    },
    {
     "name": "stderr",
     "output_type": "stream",
     "text": [
      "71it [05:33,  2.82s/it]"
     ]
    },
    {
     "name": "stdout",
     "output_type": "stream",
     "text": [
      "Saved!\n",
      "Getting post: CrJKbv-L130\n",
      "Downloading...\n"
     ]
    },
    {
     "name": "stderr",
     "output_type": "stream",
     "text": [
      "72it [05:36,  2.66s/it]"
     ]
    },
    {
     "name": "stdout",
     "output_type": "stream",
     "text": [
      "Saved!\n",
      "Getting post: CrEnBpRvJs5\n",
      "Downloading...\n"
     ]
    },
    {
     "name": "stderr",
     "output_type": "stream",
     "text": [
      "73it [05:44,  4.18s/it]"
     ]
    },
    {
     "name": "stdout",
     "output_type": "stream",
     "text": [
      "Saved!\n",
      "Getting post: CrBq4ClPbe_\n",
      "Downloading...\n"
     ]
    },
    {
     "name": "stderr",
     "output_type": "stream",
     "text": [
      "74it [05:46,  3.71s/it]"
     ]
    },
    {
     "name": "stdout",
     "output_type": "stream",
     "text": [
      "Saved!\n",
      "Getting post: Cq_cw0cvFBb\n",
      "Downloading...\n"
     ]
    },
    {
     "name": "stderr",
     "output_type": "stream",
     "text": [
      "75it [05:49,  3.33s/it]"
     ]
    },
    {
     "name": "stdout",
     "output_type": "stream",
     "text": [
      "Saved!\n",
      "Getting post: Cq8d8V5Jvuz\n",
      "Downloading...\n"
     ]
    },
    {
     "name": "stderr",
     "output_type": "stream",
     "text": [
      "76it [05:55,  4.16s/it]"
     ]
    },
    {
     "name": "stdout",
     "output_type": "stream",
     "text": [
      "Saved!\n",
      "Getting post: Cq3HoSnLIn8\n",
      "Downloading...\n"
     ]
    },
    {
     "name": "stderr",
     "output_type": "stream",
     "text": [
      "77it [05:58,  4.03s/it]"
     ]
    },
    {
     "name": "stdout",
     "output_type": "stream",
     "text": [
      "Saved!\n",
      "Getting post: Cq1aJ_lvICv\n",
      "Downloading...\n"
     ]
    },
    {
     "name": "stderr",
     "output_type": "stream",
     "text": [
      "78it [06:03,  4.13s/it]"
     ]
    },
    {
     "name": "stdout",
     "output_type": "stream",
     "text": [
      "Saved!\n",
      "Getting post: CrKdym9uQt8\n",
      "Downloading...\n"
     ]
    },
    {
     "name": "stderr",
     "output_type": "stream",
     "text": [
      "79it [06:06,  3.82s/it]"
     ]
    },
    {
     "name": "stdout",
     "output_type": "stream",
     "text": [
      "Saved!\n",
      "Getting post: CqbVNeevhNc\n",
      "Downloading...\n"
     ]
    },
    {
     "name": "stderr",
     "output_type": "stream",
     "text": [
      "80it [06:09,  3.47s/it]"
     ]
    },
    {
     "name": "stdout",
     "output_type": "stream",
     "text": [
      "Saved!\n",
      "Getting post: CqbUmxqv7V7\n",
      "Downloading...\n"
     ]
    },
    {
     "name": "stderr",
     "output_type": "stream",
     "text": [
      "81it [06:12,  3.56s/it]"
     ]
    },
    {
     "name": "stdout",
     "output_type": "stream",
     "text": [
      "Saved!\n",
      "Getting post: CpxuE59J9Po\n",
      "Downloading...\n"
     ]
    },
    {
     "name": "stderr",
     "output_type": "stream",
     "text": [
      "82it [06:16,  3.69s/it]"
     ]
    },
    {
     "name": "stdout",
     "output_type": "stream",
     "text": [
      "Saved!\n",
      "Getting post: Cpvaj1vPzQK\n",
      "Downloading...\n"
     ]
    },
    {
     "name": "stderr",
     "output_type": "stream",
     "text": [
      "83it [06:22,  4.32s/it]"
     ]
    },
    {
     "name": "stdout",
     "output_type": "stream",
     "text": [
      "Saved!\n",
      "Getting post: CpvOwoYrzl5\n",
      "Downloading...\n"
     ]
    },
    {
     "name": "stderr",
     "output_type": "stream",
     "text": [
      "84it [06:29,  5.04s/it]"
     ]
    },
    {
     "name": "stdout",
     "output_type": "stream",
     "text": [
      "Saved!\n",
      "Getting post: CpsfJ0qOdSL\n",
      "Downloading...\n"
     ]
    },
    {
     "name": "stderr",
     "output_type": "stream",
     "text": [
      "85it [06:38,  6.26s/it]"
     ]
    },
    {
     "name": "stdout",
     "output_type": "stream",
     "text": [
      "Saved!\n",
      "Getting post: CpYkqEVvLZv\n",
      "Downloading...\n"
     ]
    },
    {
     "name": "stderr",
     "output_type": "stream",
     "text": [
      "86it [06:44,  6.18s/it]"
     ]
    },
    {
     "name": "stdout",
     "output_type": "stream",
     "text": [
      "Saved!\n",
      "Getting post: CpYkewCPiJh\n",
      "Downloading...\n"
     ]
    },
    {
     "name": "stderr",
     "output_type": "stream",
     "text": [
      "87it [06:55,  7.57s/it]"
     ]
    },
    {
     "name": "stdout",
     "output_type": "stream",
     "text": [
      "Saved!\n",
      "Getting post: CpYkNlsPVpd\n",
      "Downloading...\n"
     ]
    },
    {
     "name": "stderr",
     "output_type": "stream",
     "text": [
      "88it [07:19, 12.47s/it]"
     ]
    },
    {
     "name": "stdout",
     "output_type": "stream",
     "text": [
      "Saved!\n",
      "Getting post: Crb1PDGuc4A\n",
      "Downloading...\n"
     ]
    },
    {
     "name": "stderr",
     "output_type": "stream",
     "text": [
      "89it [07:22,  9.70s/it]"
     ]
    },
    {
     "name": "stdout",
     "output_type": "stream",
     "text": [
      "Saved!\n",
      "Getting post: Crbc3ZCO0B5\n",
      "Downloading...\n"
     ]
    },
    {
     "name": "stderr",
     "output_type": "stream",
     "text": [
      "90it [07:29,  9.03s/it]"
     ]
    },
    {
     "name": "stdout",
     "output_type": "stream",
     "text": [
      "Saved!\n",
      "Getting post: CrZbeyiPmFg\n",
      "Downloading...\n"
     ]
    },
    {
     "name": "stderr",
     "output_type": "stream",
     "text": [
      "91it [07:33,  7.54s/it]"
     ]
    },
    {
     "name": "stdout",
     "output_type": "stream",
     "text": [
      "Saved!\n",
      "Getting post: CrUHQ_GvVkG\n",
      "Downloading...\n"
     ]
    },
    {
     "name": "stderr",
     "output_type": "stream",
     "text": [
      "92it [07:38,  6.80s/it]"
     ]
    },
    {
     "name": "stdout",
     "output_type": "stream",
     "text": [
      "Saved!\n",
      "Getting post: CrQ7UcCOAN_\n",
      "Downloading...\n"
     ]
    },
    {
     "name": "stderr",
     "output_type": "stream",
     "text": [
      "93it [07:47,  7.45s/it]"
     ]
    },
    {
     "name": "stdout",
     "output_type": "stream",
     "text": [
      "Saved!\n",
      "Getting post: CrOazoau8GD\n",
      "Downloading...\n"
     ]
    },
    {
     "name": "stderr",
     "output_type": "stream",
     "text": [
      "94it [07:54,  7.26s/it]"
     ]
    },
    {
     "name": "stdout",
     "output_type": "stream",
     "text": [
      "Saved!\n",
      "Getting post: Cq5uYDYPOcC\n",
      "Downloading...\n"
     ]
    },
    {
     "name": "stderr",
     "output_type": "stream",
     "text": [
      "95it [07:59,  6.57s/it]"
     ]
    },
    {
     "name": "stdout",
     "output_type": "stream",
     "text": [
      "Saved!\n",
      "Getting post: Cq1FMaZvl0J\n",
      "Downloading...\n"
     ]
    },
    {
     "name": "stderr",
     "output_type": "stream",
     "text": [
      "96it [08:08,  7.22s/it]"
     ]
    },
    {
     "name": "stdout",
     "output_type": "stream",
     "text": [
      "Saved!\n",
      "Getting post: CqYQV7zpKR1\n",
      "Downloading...\n"
     ]
    },
    {
     "name": "stderr",
     "output_type": "stream",
     "text": [
      "97it [08:16,  7.37s/it]"
     ]
    },
    {
     "name": "stdout",
     "output_type": "stream",
     "text": [
      "Saved!\n",
      "Getting post: CqTrwoMvvjl\n",
      "Downloading...\n"
     ]
    },
    {
     "name": "stderr",
     "output_type": "stream",
     "text": [
      "98it [08:19,  6.30s/it]"
     ]
    },
    {
     "name": "stdout",
     "output_type": "stream",
     "text": [
      "Saved!\n",
      "Getting post: CqTbqILviaB\n",
      "Downloading...\n"
     ]
    },
    {
     "name": "stderr",
     "output_type": "stream",
     "text": [
      "99it [08:23,  5.34s/it]"
     ]
    },
    {
     "name": "stdout",
     "output_type": "stream",
     "text": [
      "Saved!\n",
      "Getting post: CqIp9YNDyN8\n",
      "Downloading...\n"
     ]
    },
    {
     "name": "stderr",
     "output_type": "stream",
     "text": [
      "100it [08:27,  5.00s/it]"
     ]
    },
    {
     "name": "stdout",
     "output_type": "stream",
     "text": [
      "Saved!\n",
      "Getting post: CqDizDBj5P2\n",
      "Downloading...\n"
     ]
    },
    {
     "name": "stderr",
     "output_type": "stream",
     "text": [
      "101it [08:42,  8.09s/it]"
     ]
    },
    {
     "name": "stdout",
     "output_type": "stream",
     "text": [
      "Saved!\n",
      "Getting post: CqA3pT9Mn4l\n",
      "Downloading...\n"
     ]
    },
    {
     "name": "stderr",
     "output_type": "stream",
     "text": [
      "102it [08:49,  7.85s/it]"
     ]
    },
    {
     "name": "stdout",
     "output_type": "stream",
     "text": [
      "Saved!\n",
      "Getting post: Cpz2CmLO9Ow\n",
      "Downloading...\n"
     ]
    },
    {
     "name": "stderr",
     "output_type": "stream",
     "text": [
      "103it [08:54,  6.86s/it]"
     ]
    },
    {
     "name": "stdout",
     "output_type": "stream",
     "text": [
      "Saved!\n",
      "Getting post: CpyDpKMP0AQ\n",
      "Downloading...\n"
     ]
    },
    {
     "name": "stderr",
     "output_type": "stream",
     "text": [
      "104it [08:59,  6.21s/it]"
     ]
    },
    {
     "name": "stdout",
     "output_type": "stream",
     "text": [
      "Saved!\n",
      "Getting post: Crbq8sXNy0i\n",
      "Downloading...\n"
     ]
    },
    {
     "name": "stderr",
     "output_type": "stream",
     "text": [
      "105it [09:09,  7.49s/it]"
     ]
    },
    {
     "name": "stdout",
     "output_type": "stream",
     "text": [
      "Saved!\n",
      "Getting post: CrZeLmoNj1m\n",
      "Downloading...\n"
     ]
    },
    {
     "name": "stderr",
     "output_type": "stream",
     "text": [
      "106it [09:21,  8.94s/it]"
     ]
    },
    {
     "name": "stdout",
     "output_type": "stream",
     "text": [
      "Saved!\n",
      "Getting post: CrYnRuat2lA\n",
      "Downloading...\n"
     ]
    },
    {
     "name": "stderr",
     "output_type": "stream",
     "text": [
      "107it [09:30,  8.72s/it]"
     ]
    },
    {
     "name": "stdout",
     "output_type": "stream",
     "text": [
      "Saved!\n",
      "Getting post: CrYRQ1hOOgA\n",
      "Downloading...\n"
     ]
    },
    {
     "name": "stderr",
     "output_type": "stream",
     "text": [
      "108it [09:33,  7.09s/it]"
     ]
    },
    {
     "name": "stdout",
     "output_type": "stream",
     "text": [
      "Saved!\n",
      "Getting post: CrWrpSFyphQ\n",
      "Downloading...\n"
     ]
    },
    {
     "name": "stderr",
     "output_type": "stream",
     "text": [
      "109it [09:41,  7.37s/it]"
     ]
    },
    {
     "name": "stdout",
     "output_type": "stream",
     "text": [
      "Saved!\n",
      "Getting post: CrWXJXisZNM\n",
      "Downloading...\n"
     ]
    },
    {
     "name": "stderr",
     "output_type": "stream",
     "text": [
      "110it [09:48,  7.15s/it]"
     ]
    },
    {
     "name": "stdout",
     "output_type": "stream",
     "text": [
      "Saved!\n",
      "Getting post: CrWCciNM6vi\n",
      "Downloading...\n"
     ]
    },
    {
     "name": "stderr",
     "output_type": "stream",
     "text": [
      "111it [09:50,  5.68s/it]"
     ]
    },
    {
     "name": "stdout",
     "output_type": "stream",
     "text": [
      "Saved!\n",
      "Getting post: CrbbMVqO5BM\n",
      "Downloading...\n"
     ]
    },
    {
     "name": "stderr",
     "output_type": "stream",
     "text": [
      "112it [09:52,  4.58s/it]"
     ]
    },
    {
     "name": "stdout",
     "output_type": "stream",
     "text": [
      "Saved!\n",
      "Getting post: CrFcr0lu2Sa\n",
      "Downloading...\n"
     ]
    },
    {
     "name": "stderr",
     "output_type": "stream",
     "text": [
      "113it [09:55,  4.11s/it]"
     ]
    },
    {
     "name": "stdout",
     "output_type": "stream",
     "text": [
      "Saved!\n",
      "Getting post: CqnZlEjuhHb\n",
      "Downloading...\n"
     ]
    },
    {
     "name": "stderr",
     "output_type": "stream",
     "text": [
      "114it [09:58,  3.72s/it]"
     ]
    },
    {
     "name": "stdout",
     "output_type": "stream",
     "text": [
      "Saved!\n",
      "Getting post: CqRD1ReOdgR\n",
      "Downloading...\n"
     ]
    },
    {
     "name": "stderr",
     "output_type": "stream",
     "text": [
      "115it [10:02,  3.98s/it]"
     ]
    },
    {
     "name": "stdout",
     "output_type": "stream",
     "text": [
      "Saved!\n",
      "Getting post: CqOdT1XuMhY\n",
      "Downloading...\n"
     ]
    },
    {
     "name": "stderr",
     "output_type": "stream",
     "text": [
      "116it [10:05,  3.65s/it]"
     ]
    },
    {
     "name": "stdout",
     "output_type": "stream",
     "text": [
      "Saved!\n",
      "Getting post: Cp_oNR6uHrh\n",
      "Downloading...\n"
     ]
    },
    {
     "name": "stderr",
     "output_type": "stream",
     "text": [
      "117it [10:08,  3.42s/it]"
     ]
    },
    {
     "name": "stdout",
     "output_type": "stream",
     "text": [
      "Saved!\n",
      "Getting post: Cp8-L7jp2-C\n",
      "Downloading...\n"
     ]
    },
    {
     "name": "stderr",
     "output_type": "stream",
     "text": [
      "118it [10:10,  3.09s/it]"
     ]
    },
    {
     "name": "stdout",
     "output_type": "stream",
     "text": [
      "Saved!\n",
      "Getting post: Cp3QUrJuA0w\n",
      "Downloading...\n"
     ]
    },
    {
     "name": "stderr",
     "output_type": "stream",
     "text": [
      "119it [10:15,  3.54s/it]"
     ]
    },
    {
     "name": "stdout",
     "output_type": "stream",
     "text": [
      "Saved!\n",
      "Getting post: CmID60UuGfR\n",
      "Downloading...\n"
     ]
    },
    {
     "name": "stderr",
     "output_type": "stream",
     "text": [
      "120it [10:19,  3.58s/it]"
     ]
    },
    {
     "name": "stdout",
     "output_type": "stream",
     "text": [
      "Saved!\n",
      "Getting post: CmFJ8d2vTxY\n",
      "Downloading...\n"
     ]
    },
    {
     "name": "stderr",
     "output_type": "stream",
     "text": [
      "121it [10:23,  3.96s/it]"
     ]
    },
    {
     "name": "stdout",
     "output_type": "stream",
     "text": [
      "Saved!\n",
      "Getting post: CrYefwXPakx\n",
      "Downloading...\n"
     ]
    },
    {
     "name": "stderr",
     "output_type": "stream",
     "text": [
      "122it [10:27,  3.95s/it]"
     ]
    },
    {
     "name": "stdout",
     "output_type": "stream",
     "text": [
      "Saved!\n",
      "Getting post: CrQwmXPvAxl\n",
      "Downloading...\n"
     ]
    },
    {
     "name": "stderr",
     "output_type": "stream",
     "text": [
      "123it [10:30,  3.66s/it]"
     ]
    },
    {
     "name": "stdout",
     "output_type": "stream",
     "text": [
      "Saved!\n",
      "Getting post: CrODFJrv-06\n",
      "Downloading...\n"
     ]
    },
    {
     "name": "stderr",
     "output_type": "stream",
     "text": [
      "124it [11:09, 14.28s/it]"
     ]
    },
    {
     "name": "stdout",
     "output_type": "stream",
     "text": [
      "Saved!\n",
      "Getting post: CrM-LzcPE0D\n",
      "Downloading...\n"
     ]
    },
    {
     "name": "stderr",
     "output_type": "stream",
     "text": [
      "125it [11:13, 11.00s/it]"
     ]
    },
    {
     "name": "stdout",
     "output_type": "stream",
     "text": [
      "Saved!\n",
      "Getting post: CrKuEiKNNbd\n",
      "Downloading...\n"
     ]
    },
    {
     "name": "stderr",
     "output_type": "stream",
     "text": [
      "126it [11:17,  9.07s/it]"
     ]
    },
    {
     "name": "stdout",
     "output_type": "stream",
     "text": [
      "Saved!\n",
      "Getting post: CrFq0MYvey0\n",
      "Downloading...\n"
     ]
    },
    {
     "name": "stderr",
     "output_type": "stream",
     "text": [
      "127it [11:21,  7.58s/it]"
     ]
    },
    {
     "name": "stdout",
     "output_type": "stream",
     "text": [
      "Saved!\n",
      "Getting post: CrD1C2qvNRS\n",
      "Downloading...\n"
     ]
    },
    {
     "name": "stderr",
     "output_type": "stream",
     "text": [
      "128it [11:26,  6.67s/it]"
     ]
    },
    {
     "name": "stdout",
     "output_type": "stream",
     "text": [
      "Saved!\n",
      "Getting post: Cq48OCwNETl\n",
      "Downloading...\n"
     ]
    },
    {
     "name": "stderr",
     "output_type": "stream",
     "text": [
      "129it [11:35,  7.34s/it]"
     ]
    },
    {
     "name": "stdout",
     "output_type": "stream",
     "text": [
      "Saved!\n",
      "Getting post: Cq-soopr_2S\n",
      "Downloading...\n"
     ]
    },
    {
     "name": "stderr",
     "output_type": "stream",
     "text": [
      "130it [11:38,  6.05s/it]"
     ]
    },
    {
     "name": "stdout",
     "output_type": "stream",
     "text": [
      "Saved!\n",
      "Getting post: Cq27S_xrX7I\n",
      "Downloading...\n"
     ]
    },
    {
     "name": "stderr",
     "output_type": "stream",
     "text": [
      "131it [11:42,  5.44s/it]"
     ]
    },
    {
     "name": "stdout",
     "output_type": "stream",
     "text": [
      "Saved!\n",
      "Getting post: Cqv0G48vTZ8\n",
      "Downloading...\n"
     ]
    },
    {
     "name": "stderr",
     "output_type": "stream",
     "text": [
      "132it [11:46,  5.11s/it]"
     ]
    },
    {
     "name": "stdout",
     "output_type": "stream",
     "text": [
      "Saved!\n",
      "Getting post: CrTh2F0rBAE\n",
      "Downloading...\n"
     ]
    },
    {
     "name": "stderr",
     "output_type": "stream",
     "text": [
      "133it [11:48,  4.22s/it]"
     ]
    },
    {
     "name": "stdout",
     "output_type": "stream",
     "text": [
      "Saved!\n",
      "Getting post: CrR43vhJRN2\n",
      "Downloading...\n"
     ]
    },
    {
     "name": "stderr",
     "output_type": "stream",
     "text": [
      "134it [11:51,  3.67s/it]"
     ]
    },
    {
     "name": "stdout",
     "output_type": "stream",
     "text": [
      "Saved!\n",
      "Getting post: CrPUD7YJwnU\n",
      "Downloading...\n"
     ]
    },
    {
     "name": "stderr",
     "output_type": "stream",
     "text": [
      "135it [11:58,  4.77s/it]"
     ]
    },
    {
     "name": "stdout",
     "output_type": "stream",
     "text": [
      "Saved!\n",
      "Getting post: CrJhliWvmPx\n",
      "Downloading...\n"
     ]
    },
    {
     "name": "stderr",
     "output_type": "stream",
     "text": [
      "136it [12:02,  4.52s/it]"
     ]
    },
    {
     "name": "stdout",
     "output_type": "stream",
     "text": [
      "Saved!\n",
      "Getting post: Cq-06EIr54p\n",
      "Downloading...\n"
     ]
    },
    {
     "name": "stderr",
     "output_type": "stream",
     "text": [
      "137it [12:06,  4.28s/it]"
     ]
    },
    {
     "name": "stdout",
     "output_type": "stream",
     "text": [
      "Saved!\n",
      "Getting post: Cq39ZPJPj7V\n",
      "Downloading...\n"
     ]
    },
    {
     "name": "stderr",
     "output_type": "stream",
     "text": [
      "138it [12:11,  4.69s/it]"
     ]
    },
    {
     "name": "stdout",
     "output_type": "stream",
     "text": [
      "Saved!\n",
      "Getting post: Cqo8cwIuQlP\n",
      "Downloading...\n"
     ]
    },
    {
     "name": "stderr",
     "output_type": "stream",
     "text": [
      "139it [12:16,  4.75s/it]"
     ]
    },
    {
     "name": "stdout",
     "output_type": "stream",
     "text": [
      "Saved!\n",
      "Getting post: CqWO4eIvlSs\n",
      "Downloading...\n"
     ]
    },
    {
     "name": "stderr",
     "output_type": "stream",
     "text": [
      "140it [12:20,  4.36s/it]"
     ]
    },
    {
     "name": "stdout",
     "output_type": "stream",
     "text": [
      "Saved!\n",
      "Getting post: CqTuZyouIhx\n",
      "Downloading...\n"
     ]
    },
    {
     "name": "stderr",
     "output_type": "stream",
     "text": [
      "141it [12:26,  4.88s/it]"
     ]
    },
    {
     "name": "stdout",
     "output_type": "stream",
     "text": [
      "Saved!\n",
      "Getting post: CrSLRkGrwbc\n",
      "Downloading...\n"
     ]
    },
    {
     "name": "stderr",
     "output_type": "stream",
     "text": [
      "142it [12:35,  6.13s/it]"
     ]
    },
    {
     "name": "stdout",
     "output_type": "stream",
     "text": [
      "Saved!\n",
      "Getting post: CrEDpo2rmJM\n",
      "Downloading...\n"
     ]
    },
    {
     "name": "stderr",
     "output_type": "stream",
     "text": [
      "143it [12:38,  5.31s/it]"
     ]
    },
    {
     "name": "stdout",
     "output_type": "stream",
     "text": [
      "Saved!\n",
      "Getting post: CrATqN0u6K7\n",
      "Downloading...\n"
     ]
    },
    {
     "name": "stderr",
     "output_type": "stream",
     "text": [
      "144it [12:40,  4.34s/it]"
     ]
    },
    {
     "name": "stdout",
     "output_type": "stream",
     "text": [
      "Saved!\n",
      "Getting post: Cqw5WirOR7o\n",
      "Downloading...\n"
     ]
    },
    {
     "name": "stderr",
     "output_type": "stream",
     "text": [
      "145it [12:49,  5.68s/it]"
     ]
    },
    {
     "name": "stdout",
     "output_type": "stream",
     "text": [
      "Saved!\n",
      "Getting post: CqvYMiaLR8e\n",
      "Downloading...\n"
     ]
    },
    {
     "name": "stderr",
     "output_type": "stream",
     "text": [
      "146it [12:53,  5.28s/it]"
     ]
    },
    {
     "name": "stdout",
     "output_type": "stream",
     "text": [
      "Saved!\n",
      "Getting post: Cqa7_QmpDqL\n",
      "Downloading...\n"
     ]
    },
    {
     "name": "stderr",
     "output_type": "stream",
     "text": [
      "147it [13:01,  5.90s/it]"
     ]
    },
    {
     "name": "stdout",
     "output_type": "stream",
     "text": [
      "Saved!\n",
      "Getting post: CqNxDQRL7nE\n",
      "Downloading...\n"
     ]
    },
    {
     "name": "stderr",
     "output_type": "stream",
     "text": [
      "148it [13:09,  6.51s/it]"
     ]
    },
    {
     "name": "stdout",
     "output_type": "stream",
     "text": [
      "Saved!\n",
      "Getting post: CpdNL1YIm2H\n",
      "Downloading...\n"
     ]
    },
    {
     "name": "stderr",
     "output_type": "stream",
     "text": [
      "149it [13:19,  7.51s/it]"
     ]
    },
    {
     "name": "stdout",
     "output_type": "stream",
     "text": [
      "Saved!\n",
      "Getting post: CrTbpNAI6kI\n",
      "Downloading...\n"
     ]
    },
    {
     "name": "stderr",
     "output_type": "stream",
     "text": [
      "150it [13:29,  8.35s/it]"
     ]
    },
    {
     "name": "stdout",
     "output_type": "stream",
     "text": [
      "Saved!\n",
      "Getting post: CrTLRHBobmK\n",
      "Downloading...\n"
     ]
    },
    {
     "name": "stderr",
     "output_type": "stream",
     "text": [
      "151it [13:46, 11.03s/it]"
     ]
    },
    {
     "name": "stdout",
     "output_type": "stream",
     "text": [
      "Saved!\n",
      "Getting post: CrSEJ_PoUsj\n",
      "Downloading...\n"
     ]
    },
    {
     "name": "stderr",
     "output_type": "stream",
     "text": [
      "152it [13:54, 10.07s/it]"
     ]
    },
    {
     "name": "stdout",
     "output_type": "stream",
     "text": [
      "Saved!\n",
      "Getting post: CrMfIHwuz9K\n",
      "Downloading...\n"
     ]
    },
    {
     "name": "stderr",
     "output_type": "stream",
     "text": [
      "153it [14:02,  9.38s/it]"
     ]
    },
    {
     "name": "stdout",
     "output_type": "stream",
     "text": [
      "Saved!\n",
      "Getting post: CrK6lLcusAw\n",
      "Downloading...\n"
     ]
    },
    {
     "name": "stderr",
     "output_type": "stream",
     "text": [
      "154it [14:04,  7.27s/it]"
     ]
    },
    {
     "name": "stdout",
     "output_type": "stream",
     "text": [
      "Saved!\n",
      "Getting post: CqTanDGPtF4\n",
      "Downloading...\n"
     ]
    },
    {
     "name": "stderr",
     "output_type": "stream",
     "text": [
      "155it [14:08,  6.17s/it]"
     ]
    },
    {
     "name": "stdout",
     "output_type": "stream",
     "text": [
      "Saved!\n",
      "Getting post: CqDpwptJ1r7\n",
      "Downloading...\n"
     ]
    },
    {
     "name": "stderr",
     "output_type": "stream",
     "text": [
      "156it [14:14,  6.28s/it]"
     ]
    },
    {
     "name": "stdout",
     "output_type": "stream",
     "text": [
      "Saved!\n",
      "Getting post: Cp0TvSnpNE5\n",
      "Downloading...\n"
     ]
    },
    {
     "name": "stderr",
     "output_type": "stream",
     "text": [
      "157it [14:18,  5.46s/it]"
     ]
    },
    {
     "name": "stdout",
     "output_type": "stream",
     "text": [
      "Saved!\n",
      "Getting post: CprE5Ssr_xL\n",
      "Downloading...\n"
     ]
    },
    {
     "name": "stderr",
     "output_type": "stream",
     "text": [
      "158it [14:20,  4.61s/it]"
     ]
    },
    {
     "name": "stdout",
     "output_type": "stream",
     "text": [
      "Saved!\n",
      "Getting post: CpqyTMxvMFA\n",
      "Downloading...\n"
     ]
    },
    {
     "name": "stderr",
     "output_type": "stream",
     "text": [
      "159it [14:36,  7.92s/it]"
     ]
    },
    {
     "name": "stdout",
     "output_type": "stream",
     "text": [
      "Saved!\n",
      "Getting post: CrcRpryrFzE\n",
      "Downloading...\n"
     ]
    },
    {
     "name": "stderr",
     "output_type": "stream",
     "text": [
      "160it [14:40,  6.86s/it]"
     ]
    },
    {
     "name": "stdout",
     "output_type": "stream",
     "text": [
      "Saved!\n",
      "Getting post: CrZKEv9y_3l\n",
      "Downloading...\n"
     ]
    },
    {
     "name": "stderr",
     "output_type": "stream",
     "text": [
      "161it [14:58, 10.04s/it]"
     ]
    },
    {
     "name": "stdout",
     "output_type": "stream",
     "text": [
      "Saved!\n",
      "Getting post: CrJtM63PHFW\n",
      "Downloading...\n"
     ]
    },
    {
     "name": "stderr",
     "output_type": "stream",
     "text": [
      "162it [15:02,  8.38s/it]"
     ]
    },
    {
     "name": "stdout",
     "output_type": "stream",
     "text": [
      "Saved!\n",
      "Getting post: CrHxh-8rVKB\n",
      "Downloading...\n"
     ]
    },
    {
     "name": "stderr",
     "output_type": "stream",
     "text": [
      "163it [15:06,  6.88s/it]"
     ]
    },
    {
     "name": "stdout",
     "output_type": "stream",
     "text": [
      "Saved!\n",
      "Getting post: CpeEJ57LAF9\n",
      "Downloading...\n"
     ]
    },
    {
     "name": "stderr",
     "output_type": "stream",
     "text": [
      "164it [15:09,  5.81s/it]"
     ]
    },
    {
     "name": "stdout",
     "output_type": "stream",
     "text": [
      "Saved!\n",
      "Getting post: CpMehdsu7vV\n",
      "Downloading...\n"
     ]
    },
    {
     "name": "stderr",
     "output_type": "stream",
     "text": [
      "165it [15:13,  5.22s/it]"
     ]
    },
    {
     "name": "stdout",
     "output_type": "stream",
     "text": [
      "Saved!\n",
      "Getting post: CpJQ4F8rRu8\n",
      "Downloading...\n"
     ]
    },
    {
     "name": "stderr",
     "output_type": "stream",
     "text": [
      "166it [15:15,  4.29s/it]"
     ]
    },
    {
     "name": "stdout",
     "output_type": "stream",
     "text": [
      "Saved!\n",
      "Getting post: CpGyOPwLNEP\n",
      "Downloading...\n"
     ]
    },
    {
     "name": "stderr",
     "output_type": "stream",
     "text": [
      "167it [15:18,  3.72s/it]"
     ]
    },
    {
     "name": "stdout",
     "output_type": "stream",
     "text": [
      "Saved!\n",
      "Getting post: CnQrKP9rM2A\n",
      "Downloading...\n"
     ]
    },
    {
     "name": "stderr",
     "output_type": "stream",
     "text": [
      "168it [15:21,  3.51s/it]"
     ]
    },
    {
     "name": "stdout",
     "output_type": "stream",
     "text": [
      "Saved!\n",
      "Getting post: ClT2kXSrU7E\n",
      "Downloading...\n"
     ]
    },
    {
     "name": "stderr",
     "output_type": "stream",
     "text": [
      "169it [15:26,  4.11s/it]"
     ]
    },
    {
     "name": "stdout",
     "output_type": "stream",
     "text": [
      "Saved!\n",
      "Getting post: CjP-IHdOoyP\n",
      "Downloading...\n"
     ]
    },
    {
     "name": "stderr",
     "output_type": "stream",
     "text": [
      "170it [15:32,  4.76s/it]"
     ]
    },
    {
     "name": "stdout",
     "output_type": "stream",
     "text": [
      "Saved!\n",
      "Getting post: Cra5E1GMEXt\n",
      "Downloading...\n"
     ]
    },
    {
     "name": "stderr",
     "output_type": "stream",
     "text": [
      "171it [15:43,  6.66s/it]"
     ]
    },
    {
     "name": "stdout",
     "output_type": "stream",
     "text": [
      "Saved!\n",
      "Getting post: Craqyt3rtzV\n",
      "Downloading...\n"
     ]
    },
    {
     "name": "stderr",
     "output_type": "stream",
     "text": [
      "172it [15:49,  6.36s/it]"
     ]
    },
    {
     "name": "stdout",
     "output_type": "stream",
     "text": [
      "Saved!\n",
      "Getting post: CrWAs5xLCcI\n",
      "Downloading...\n"
     ]
    },
    {
     "name": "stderr",
     "output_type": "stream",
     "text": [
      "173it [15:53,  5.49s/it]"
     ]
    },
    {
     "name": "stdout",
     "output_type": "stream",
     "text": [
      "Saved!\n",
      "Getting post: CrThQfdLMNS\n",
      "Downloading...\n"
     ]
    },
    {
     "name": "stderr",
     "output_type": "stream",
     "text": [
      "174it [16:13,  9.87s/it]"
     ]
    },
    {
     "name": "stdout",
     "output_type": "stream",
     "text": [
      "Saved!\n",
      "Getting post: CrPJ6UXL7rO\n",
      "Downloading...\n"
     ]
    },
    {
     "name": "stderr",
     "output_type": "stream",
     "text": [
      "175it [16:17,  8.14s/it]"
     ]
    },
    {
     "name": "stdout",
     "output_type": "stream",
     "text": [
      "Saved!\n",
      "Getting post: CrJrHlfvOPW\n",
      "Downloading...\n"
     ]
    },
    {
     "name": "stderr",
     "output_type": "stream",
     "text": [
      "176it [16:22,  7.33s/it]"
     ]
    },
    {
     "name": "stdout",
     "output_type": "stream",
     "text": [
      "Saved!\n",
      "Getting post: CqtIkw3PhE6\n",
      "Downloading...\n"
     ]
    },
    {
     "name": "stderr",
     "output_type": "stream",
     "text": [
      "177it [16:27,  6.70s/it]"
     ]
    },
    {
     "name": "stdout",
     "output_type": "stream",
     "text": [
      "Saved!\n",
      "Getting post: CqUuBDsuWrR\n",
      "Downloading...\n"
     ]
    },
    {
     "name": "stderr",
     "output_type": "stream",
     "text": [
      "178it [16:30,  5.52s/it]"
     ]
    },
    {
     "name": "stdout",
     "output_type": "stream",
     "text": [
      "Saved!\n",
      "Getting post: CqHHrIJPJc7\n",
      "Downloading...\n"
     ]
    },
    {
     "name": "stderr",
     "output_type": "stream",
     "text": [
      "179it [16:34,  5.13s/it]"
     ]
    },
    {
     "name": "stdout",
     "output_type": "stream",
     "text": [
      "Saved!\n",
      "Getting post: Cq1cJbJPvkV\n",
      "Downloading...\n"
     ]
    },
    {
     "name": "stderr",
     "output_type": "stream",
     "text": [
      "180it [16:44,  6.47s/it]"
     ]
    },
    {
     "name": "stdout",
     "output_type": "stream",
     "text": [
      "Saved!\n",
      "Getting post: CqwULEXOuOA\n",
      "Downloading...\n"
     ]
    },
    {
     "name": "stderr",
     "output_type": "stream",
     "text": [
      "181it [16:49,  5.94s/it]"
     ]
    },
    {
     "name": "stdout",
     "output_type": "stream",
     "text": [
      "Saved!\n",
      "Getting post: CqWbQtRuyFg\n",
      "Downloading...\n"
     ]
    },
    {
     "name": "stderr",
     "output_type": "stream",
     "text": [
      "182it [16:56,  6.47s/it]"
     ]
    },
    {
     "name": "stdout",
     "output_type": "stream",
     "text": [
      "Saved!\n",
      "Getting post: CqUFPMLOIVs\n",
      "Downloading...\n"
     ]
    },
    {
     "name": "stderr",
     "output_type": "stream",
     "text": [
      "183it [17:03,  6.65s/it]"
     ]
    },
    {
     "name": "stdout",
     "output_type": "stream",
     "text": [
      "Saved!\n",
      "Getting post: CqM12DOsTHt\n",
      "Downloading...\n"
     ]
    },
    {
     "name": "stderr",
     "output_type": "stream",
     "text": [
      "184it [17:06,  5.35s/it]"
     ]
    },
    {
     "name": "stdout",
     "output_type": "stream",
     "text": [
      "Saved!\n",
      "Getting post: CrQ8EghoLrr\n",
      "Downloading...\n"
     ]
    },
    {
     "name": "stderr",
     "output_type": "stream",
     "text": [
      "185it [17:13,  6.06s/it]"
     ]
    },
    {
     "name": "stdout",
     "output_type": "stream",
     "text": [
      "Saved!\n",
      "Getting post: Cq6YqPaPXpK\n",
      "Downloading...\n"
     ]
    },
    {
     "name": "stderr",
     "output_type": "stream",
     "text": [
      "186it [17:17,  5.31s/it]"
     ]
    },
    {
     "name": "stdout",
     "output_type": "stream",
     "text": [
      "Saved!\n",
      "Getting post: Cq6YLOfv7ag\n",
      "Downloading...\n"
     ]
    },
    {
     "name": "stderr",
     "output_type": "stream",
     "text": [
      "187it [17:21,  4.85s/it]"
     ]
    },
    {
     "name": "stdout",
     "output_type": "stream",
     "text": [
      "Saved!\n",
      "Getting post: CqONOfmvIDV\n",
      "Downloading...\n"
     ]
    },
    {
     "name": "stderr",
     "output_type": "stream",
     "text": [
      "188it [17:37,  8.21s/it]"
     ]
    },
    {
     "name": "stdout",
     "output_type": "stream",
     "text": [
      "Saved!\n",
      "Getting post: CqEUmHTP9-9\n",
      "Downloading...\n"
     ]
    },
    {
     "name": "stderr",
     "output_type": "stream",
     "text": [
      "189it [17:56, 11.43s/it]"
     ]
    },
    {
     "name": "stdout",
     "output_type": "stream",
     "text": [
      "Saved!\n",
      "Getting post: Cpa-qsiuJOD\n",
      "Downloading...\n"
     ]
    },
    {
     "name": "stderr",
     "output_type": "stream",
     "text": [
      "190it [18:00,  9.40s/it]"
     ]
    },
    {
     "name": "stdout",
     "output_type": "stream",
     "text": [
      "Saved!\n",
      "Getting post: CovmqHZPkAk\n",
      "Downloading...\n"
     ]
    },
    {
     "name": "stderr",
     "output_type": "stream",
     "text": [
      "191it [18:11,  9.60s/it]"
     ]
    },
    {
     "name": "stdout",
     "output_type": "stream",
     "text": [
      "Saved!\n",
      "Getting post: CovjfJvPWEB\n",
      "Downloading...\n"
     ]
    },
    {
     "name": "stderr",
     "output_type": "stream",
     "text": [
      "192it [18:21,  9.87s/it]"
     ]
    },
    {
     "name": "stdout",
     "output_type": "stream",
     "text": [
      "Saved!\n",
      "Getting post: CotESMHvkjC\n",
      "Downloading...\n"
     ]
    },
    {
     "name": "stderr",
     "output_type": "stream",
     "text": [
      "193it [18:27,  8.71s/it]"
     ]
    },
    {
     "name": "stdout",
     "output_type": "stream",
     "text": [
      "Saved!\n",
      "Getting post: CosSoekv1Im\n",
      "Downloading...\n"
     ]
    },
    {
     "name": "stderr",
     "output_type": "stream",
     "text": [
      "194it [18:38,  9.35s/it]"
     ]
    },
    {
     "name": "stdout",
     "output_type": "stream",
     "text": [
      "Saved!\n",
      "Getting post: CosM8iwrEp9\n",
      "Downloading...\n"
     ]
    },
    {
     "name": "stderr",
     "output_type": "stream",
     "text": [
      "195it [18:44,  8.44s/it]"
     ]
    },
    {
     "name": "stdout",
     "output_type": "stream",
     "text": [
      "Saved!\n",
      "Getting post: CrbdJ0tLTjq\n",
      "Downloading...\n"
     ]
    },
    {
     "name": "stderr",
     "output_type": "stream",
     "text": [
      "196it [18:57,  9.81s/it]"
     ]
    },
    {
     "name": "stdout",
     "output_type": "stream",
     "text": [
      "Saved!\n",
      "Getting post: CrWq8zKONQJ\n",
      "Downloading...\n"
     ]
    },
    {
     "name": "stderr",
     "output_type": "stream",
     "text": [
      "197it [20:51, 41.11s/it]"
     ]
    },
    {
     "name": "stdout",
     "output_type": "stream",
     "text": [
      "Saved!\n",
      "Getting post: CrUzJSRufO-\n",
      "Downloading...\n"
     ]
    },
    {
     "name": "stderr",
     "output_type": "stream",
     "text": [
      "198it [20:55, 29.87s/it]"
     ]
    },
    {
     "name": "stdout",
     "output_type": "stream",
     "text": [
      "Saved!\n",
      "Getting post: CqtSuJGurQj\n",
      "Downloading...\n"
     ]
    },
    {
     "name": "stderr",
     "output_type": "stream",
     "text": [
      "199it [20:59, 22.01s/it]"
     ]
    },
    {
     "name": "stdout",
     "output_type": "stream",
     "text": [
      "Saved!\n",
      "Getting post: Cqq9T07OOda\n",
      "Downloading...\n"
     ]
    },
    {
     "name": "stderr",
     "output_type": "stream",
     "text": [
      "200it [21:04, 17.07s/it]"
     ]
    },
    {
     "name": "stdout",
     "output_type": "stream",
     "text": [
      "Saved!\n",
      "Getting post: CqkU24buNM8\n",
      "Downloading...\n"
     ]
    },
    {
     "name": "stderr",
     "output_type": "stream",
     "text": [
      "201it [21:10, 13.58s/it]"
     ]
    },
    {
     "name": "stdout",
     "output_type": "stream",
     "text": [
      "Saved!\n",
      "Getting post: CqeNfv6ukVy\n",
      "Downloading...\n"
     ]
    },
    {
     "name": "stderr",
     "output_type": "stream",
     "text": [
      "202it [21:15, 11.15s/it]"
     ]
    },
    {
     "name": "stdout",
     "output_type": "stream",
     "text": [
      "Saved!\n",
      "Getting post: CqZDoMmOPOr\n",
      "Downloading...\n"
     ]
    },
    {
     "name": "stderr",
     "output_type": "stream",
     "text": [
      "203it [21:31, 12.52s/it]"
     ]
    },
    {
     "name": "stdout",
     "output_type": "stream",
     "text": [
      "Saved!\n",
      "Getting post: CqJWMnxuolR\n",
      "Downloading...\n"
     ]
    },
    {
     "name": "stderr",
     "output_type": "stream",
     "text": [
      "204it [21:37, 10.46s/it]"
     ]
    },
    {
     "name": "stdout",
     "output_type": "stream",
     "text": [
      "Saved!\n",
      "Getting post: Cp9N0k9uXYt\n",
      "Downloading...\n"
     ]
    },
    {
     "name": "stderr",
     "output_type": "stream",
     "text": [
      "205it [22:57, 31.38s/it]"
     ]
    },
    {
     "name": "stdout",
     "output_type": "stream",
     "text": [
      "Saved!\n",
      "Getting post: CprQa3rO9mv\n",
      "Downloading...\n"
     ]
    },
    {
     "name": "stderr",
     "output_type": "stream",
     "text": [
      "206it [23:00, 23.03s/it]"
     ]
    },
    {
     "name": "stdout",
     "output_type": "stream",
     "text": [
      "Saved!\n",
      "Getting post: CrDvRXKrmA2\n"
     ]
    },
    {
     "name": "stderr",
     "output_type": "stream",
     "text": [
<<<<<<< HEAD
      "207it [00:00, 256.14it/s]"
     ]
    },
    {
     "name": "stdout",
     "output_type": "stream",
     "text": [
      "Post Don't exist, Skipping...\n",
      "Getting post: CrBTJlxrPlz\n",
      "File exists, skipping...\n",
      "Getting post: Cq9jia3rWDk\n",
      "File exists, skipping...\n",
      "Getting post: CqZJ1zsvK6l\n",
      "Post Don't exist, Skipping...\n",
      "Getting post: CqUkxxsMrlY\n",
      "Post Don't exist, Skipping...\n",
      "Getting post: CqTzEozMp5r\n"
     ]
    },
    {
     "name": "stderr",
     "output_type": "stream",
     "text": [
      "233it [00:02, 64.14it/s] "
     ]
    },
    {
     "name": "stdout",
     "output_type": "stream",
     "text": [
      "Post Don't exist, Skipping...\n",
      "Getting post: CqRi5i4oALO\n",
      "File exists, skipping...\n",
      "Getting post: CrbE66eIbeI\n",
      "File exists, skipping...\n",
      "Getting post: CrawyLMsi6H\n",
      "File exists, skipping...\n",
      "Getting post: CradTV1giZD\n",
      "File exists, skipping...\n",
      "Getting post: CrZRH8eMU53\n",
      "File exists, skipping...\n",
      "Getting post: CrZAA05sukK\n",
      "File exists, skipping...\n",
      "Getting post: CrY1EBxs5z8\n",
      "File exists, skipping...\n",
      "Getting post: CrYqoWxIeQ_\n",
      "File exists, skipping...\n",
      "Getting post: Cq-3AeXrmuk\n",
      "File exists, skipping...\n",
      "Getting post: Cq6Q7SUPhXJ\n",
      "File exists, skipping...\n",
      "Getting post: CqYVkH0uAvl\n",
      "File exists, skipping...\n",
      "Getting post: CqQgeQcOyL5\n",
      "File exists, skipping...\n",
      "Getting post: CqQf-kCOWeu\n",
      "File exists, skipping...\n",
      "Getting post: CqKL3Set_4l\n",
      "File exists, skipping...\n",
      "Getting post: CqG6fvgO3pq\n",
      "File exists, skipping...\n",
      "Getting post: CqGOK4NJukv\n",
      "File exists, skipping...\n",
      "Getting post: CqDpUUluE1N\n",
      "File exists, skipping...\n",
      "Getting post: CrO4Av5qEon\n",
      "File exists, skipping...\n",
      "Getting post: Cra7dUHKmCH\n",
      "File exists, skipping...\n",
      "Getting post: CratKXOIPFW\n",
      "File exists, skipping...\n",
      "Getting post: CrQcdySsEZE\n",
      "File exists, skipping...\n",
      "Getting post: CqTugGXMts2\n",
      "File exists, skipping...\n",
      "Getting post: CqMIY8oD-NO\n",
      "File exists, skipping...\n",
      "Getting post: CqBJKjMMOU6\n",
      "File exists, skipping...\n",
      "Getting post: Cp29r6yslVY\n",
      "File exists, skipping...\n",
      "Getting post: CpqrATUD4O6\n",
      "File exists, skipping...\n",
      "Getting post: CpdnAaDsZpn\n",
      "File exists, skipping...\n",
      "Getting post: CpYuPtjD6dp\n",
      "File exists, skipping...\n",
      "Getting post: CrGkNOur3RD\n",
      "File exists, skipping...\n",
      "Getting post: Cq-9L9wtiqa\n",
      "File exists, skipping...\n",
      "Getting post: CqDxK3BNv-F\n",
      "File exists, skipping...\n",
      "Getting post: CpQUZ4LNfeU\n",
      "File exists, skipping...\n",
      "Getting post: CpLBwhLNial\n",
      "File exists, skipping...\n",
      "Getting post: CrMRzkmP7O5\n",
      "File exists, skipping...\n",
      "Getting post: Cq8Uq7vLrmN\n",
      "File exists, skipping...\n",
      "Getting post: Cq3fkyTPQY8\n",
      "File exists, skipping...\n",
      "Getting post: CrZPFN9PiPi\n",
      "File exists, skipping...\n",
      "Getting post: CrMCYjGvV_L\n",
      "File exists, skipping...\n",
      "Getting post: CrCVstivN_3\n",
      "File exists, skipping...\n",
      "Getting post: CrCVF3OP40-\n",
      "File exists, skipping...\n",
      "Getting post: Cqou6WAPXzE\n",
      "File exists, skipping...\n",
      "Getting post: Cqf2hMprkqD\n",
      "File exists, skipping...\n",
      "Getting post: Cqf1zmhLDjg\n",
      "File exists, skipping...\n",
      "Getting post: CqQYb1RvuLa\n",
      "File exists, skipping...\n",
      "Getting post: CqPfndvLaaq\n",
      "File exists, skipping...\n",
      "Getting post: Crbv5CfJ5nj\n",
      "File exists, skipping...\n",
      "Getting post: CrVzoYwu28_\n",
      "File exists, skipping...\n",
      "Getting post: CrPbbQEtKa8\n",
      "File exists, skipping...\n",
      "Getting post: CrJ5GtrpHX4\n",
      "File exists, skipping...\n",
      "Getting post: CrESoXYpM1j\n",
      "File exists, skipping...\n",
      "Getting post: CrBt7XqpNSJ\n",
      "File exists, skipping...\n",
      "Getting post: Cq_AjukMTOK\n",
      "File exists, skipping...\n",
      "Getting post: CrcFGLmPXPO\n",
      "File exists, skipping...\n",
      "Getting post: Cq-w9OpM0U3\n",
      "File exists, skipping...\n",
      "Getting post: CqpiKBpszsp\n",
      "File exists, skipping...\n",
      "Getting post: CqnXuats60_\n",
      "File exists, skipping...\n",
      "Getting post: CqaSfj7MNRg\n",
      "File exists, skipping...\n",
      "Getting post: CqYIh-pLIRq\n",
      "File exists, skipping...\n",
      "Getting post: CqNl0mosCPS\n",
      "File exists, skipping...\n",
      "Getting post: CqLLXZRsmwb\n",
      "File exists, skipping...\n",
      "Getting post: CqIoONvukkQ\n",
      "File exists, skipping...\n",
      "Getting post: Cp2tSAJuJ9q\n",
      "File exists, skipping...\n",
      "Getting post: CrYpL-1t3UY\n",
      "File exists, skipping...\n",
      "Getting post: CrV7IKCt1ea\n",
      "File exists, skipping...\n",
      "Getting post: CrQtlNVt_pa\n",
      "File exists, skipping...\n",
      "Getting post: CrOepIWtb3m\n",
      "File exists, skipping...\n",
      "Getting post: CrEZT6brfpN\n",
      "File exists, skipping...\n",
      "Getting post: CrBPsp0NQdp\n",
      "File exists, skipping...\n",
      "Getting post: Cq_P1CGLXNa\n",
      "File exists, skipping...\n",
      "Getting post: Cq3NRgHO8ri\n",
      "File exists, skipping...\n",
      "Getting post: Cq0i5XkussK\n",
      "File exists, skipping...\n",
      "Getting post: CqjB_CkOP-8\n",
      "File exists, skipping...\n",
      "Getting post: CqZChC3spaO\n",
      "File exists, skipping...\n",
      "Getting post: CpqfxOtu9Zo\n",
      "File exists, skipping...\n",
      "Getting post: Crb9oAlPdSV\n",
      "File exists, skipping...\n",
      "Getting post: CraG49hOYya\n",
      "File exists, skipping...\n",
      "Getting post: CrZbgIPP_bX\n",
      "File exists, skipping...\n",
      "Getting post: CrYwVwnJ4RL\n",
      "File exists, skipping...\n",
      "Getting post: Cqko2YKo2ka\n",
      "File exists, skipping...\n",
      "Getting post: CpUthn5JLa2\n",
      "File exists, skipping...\n",
      "Getting post: CqiiscToYGn\n",
      "File exists, skipping...\n",
      "Getting post: CpNMZlMo2Ka\n",
      "File exists, skipping...\n",
      "Getting post: CrcrAwCO6oB\n",
      "File exists, skipping...\n",
      "Getting post: CrcpRLkOw_r\n",
      "File exists, skipping...\n",
      "Getting post: CrcoyFMsrJs\n",
      "File exists, skipping...\n",
      "Getting post: CrcoEd1s1w2\n",
      "File exists, skipping...\n",
      "Getting post: CrcmP-5smgK\n",
      "File exists, skipping...\n",
      "Getting post: CrOoRAvoMU5\n",
      "File exists, skipping...\n",
      "Getting post: CrIAvLsIPng\n",
      "File exists, skipping...\n",
      "Getting post: Cqs10TPI20V\n",
      "File exists, skipping...\n",
      "Getting post: Cqnef1mI7p6\n",
      "File exists, skipping...\n",
      "Getting post: CqepWymodl0\n",
      "File exists, skipping...\n",
      "Getting post: CqS57uMIdJu\n",
      "File exists, skipping...\n",
      "Getting post: CqSTn9-IvhF\n",
      "File exists, skipping...\n",
      "Getting post: CqJFixto-YX\n",
      "File exists, skipping...\n",
      "Getting post: Cq9H97IubX6\n",
      "File exists, skipping...\n",
      "Getting post: Cq5fdYouyEG\n",
      "File exists, skipping...\n",
      "Getting post: CqjAxXEuQSV\n",
      "File exists, skipping...\n",
      "Getting post: CqV17lmu2nD\n",
      "File exists, skipping...\n",
      "Getting post: CpvS44npbfE\n",
      "File exists, skipping...\n",
      "Getting post: Cpf3c1XuFCV\n",
      "File exists, skipping...\n",
      "Getting post: CpZP8TaOxTp\n",
      "File exists, skipping...\n",
      "Getting post: Crb6gIvvDOg\n",
      "File exists, skipping...\n",
      "Getting post: Crb6PSHvOBn\n",
      "File exists, skipping...\n",
      "Getting post: CrMmEiFPQ-O\n",
      "File exists, skipping...\n",
      "Getting post: CrBtf2qP9gW\n",
      "File exists, skipping...\n",
      "Getting post: Cqueea0JXK_\n",
      "File exists, skipping...\n",
      "Getting post: Cqud_0qJFkd\n",
      "File exists, skipping...\n",
      "Getting post: CqudpcIpxF5\n",
      "File exists, skipping...\n",
      "Getting post: CrawoYnMZrg\n",
      "File exists, skipping...\n",
      "Getting post: CrAeocZMZJw\n",
      "File exists, skipping...\n",
      "Getting post: Cq2A-SKLiJM\n",
      "File exists, skipping...\n",
      "Getting post: CqhfZaut_4u\n",
      "File exists, skipping...\n",
      "Getting post: CqgBDwkP_OS\n",
      "File exists, skipping...\n",
      "Getting post: CqdMWQAsvD6\n",
      "File exists, skipping...\n",
      "Getting post: CqSWYhis8ik\n",
      "File exists, skipping...\n",
      "Getting post: Cp5IRxSMPeA\n",
      "File exists, skipping...\n",
      "Getting post: Cp1zm3dsARW\n",
      "File exists, skipping...\n",
      "Getting post: CpsLhazMbmW\n",
      "File exists, skipping...\n",
      "Getting post: CpmMBCILt4-\n",
      "File exists, skipping...\n",
      "Getting post: CpmLqpwrjfl\n",
      "File exists, skipping...\n",
      "Getting post: CrV02jtuXBt\n",
      "File exists, skipping...\n",
      "Getting post: CrTLsbHrgQm\n",
      "File exists, skipping...\n",
      "Getting post: CrQvLTUrDBN\n",
      "File exists, skipping...\n",
      "Getting post: CrOGmDzr67V\n",
      "File exists, skipping...\n",
      "Getting post: CrLlgWALc5t\n",
      "File exists, skipping...\n",
      "Getting post: CqzkNgEvXhs\n",
      "File exists, skipping...\n",
      "Getting post: CpjlxMmIXHL\n",
      "File exists, skipping...\n",
      "Getting post: CrH4BWAI0M3\n",
      "File exists, skipping...\n",
      "Getting post: Cq-VGwPICL1\n",
      "File exists, skipping...\n",
      "Getting post: Cq0Nlo8Jz36\n",
      "File exists, skipping...\n",
      "Getting post: Cqxj7-AIAT-\n"
     ]
    },
    {
     "name": "stderr",
     "output_type": "stream",
     "text": [
      "344it [00:03, 86.64it/s]"
     ]
    },
    {
     "name": "stdout",
     "output_type": "stream",
     "text": [
      "Post Don't exist, Skipping...\n",
      "Getting post: Cquag_pIZa5\n",
      "File exists, skipping...\n",
      "Getting post: CqkIKjXjfoq\n",
      "File exists, skipping...\n",
      "Getting post: CrXz61rJElI\n",
      "File exists, skipping...\n",
      "Getting post: CrXzwDapIP8\n",
      "File exists, skipping...\n",
      "Getting post: CrM6yxIpL3o\n",
      "File exists, skipping...\n",
      "Getting post: CrJDwdkpsb2\n",
      "File exists, skipping...\n",
      "Getting post: CrJDvOPpRFx\n",
      "File exists, skipping...\n",
      "Getting post: CrJDtywpa8q\n",
      "File exists, skipping...\n",
      "Getting post: CrOAn-UO4o5\n",
      "File exists, skipping...\n",
      "Getting post: Cq3PgHruKXA\n",
      "File exists, skipping...\n",
      "Getting post: Cqsphe0Ou10\n",
      "File exists, skipping...\n",
      "Getting post: CqnsRWEudoe\n",
      "File exists, skipping...\n",
      "Getting post: CqkwIr7u7Rv\n",
      "File exists, skipping...\n",
      "Getting post: CqdEhjIO0gh\n",
      "File exists, skipping...\n",
      "Getting post: CrDQMUds6os\n",
      "File exists, skipping...\n",
      "Getting post: CrDPuqqsPDF\n",
      "File exists, skipping...\n",
      "Getting post: CrDPg8Ksm0x\n",
      "File exists, skipping...\n",
      "Getting post: CqVr0nTOeDq\n",
      "File exists, skipping...\n",
      "Getting post: CqRcGvjOPnz\n",
      "File exists, skipping...\n",
      "Getting post: Cp2-dHROkUc\n",
      "File exists, skipping...\n",
      "Getting post: CpvpYy6usVz\n",
      "File exists, skipping...\n",
      "Getting post: CpQdxQTvq4w\n",
      "File exists, skipping...\n",
      "Getting post: Ck_VFPYvXDW\n",
      "File exists, skipping...\n",
      "Getting post: CrXgMwctzdM\n",
      "File exists, skipping...\n",
      "Getting post: CqVlSnHOL93\n",
      "File exists, skipping...\n",
      "Getting post: CqRmrZPNwOK\n",
      "File exists, skipping...\n",
      "Getting post: CpfA_ZUtjPd\n",
      "File exists, skipping...\n",
      "Getting post: CpWyGasNJ8_\n",
      "File exists, skipping...\n",
      "Getting post: CpHgCYzPU0S\n",
      "File exists, skipping...\n",
      "Getting post: CpFA7JzNpDw\n",
      "File exists, skipping...\n",
      "Getting post: CohGjBsNdhg\n",
      "File exists, skipping...\n",
      "Getting post: CnvwtzqNCb7\n",
      "File exists, skipping...\n",
      "Getting post: CnFQm-6tEab\n",
      "File exists, skipping...\n",
      "Getting post: CrcMBLnpQGh\n",
      "File exists, skipping...\n",
      "Getting post: CrJAlbrLUXn\n",
      "File exists, skipping...\n",
      "Getting post: CrI-dG4LZNO\n",
      "File exists, skipping...\n",
      "Getting post: CrH8xTjrGKi\n",
      "File exists, skipping...\n",
      "Getting post: CrCKtWXveKH\n",
      "File exists, skipping...\n",
      "Getting post: Cq8AyL_r_Pu\n",
      "File exists, skipping...\n",
      "Getting post: Cq4ULMkJLvx\n",
      "File exists, skipping...\n",
      "Getting post: Cq4UA2IpdCj\n",
      "File exists, skipping...\n",
      "Getting post: Cq4T4A6pAuW\n",
      "File exists, skipping...\n",
      "Getting post: CqzyT4Ppk4t\n",
      "File exists, skipping...\n",
      "Getting post: Cqzuy-BJEjG\n",
      "File exists, skipping...\n",
      "Getting post: CrbEmNxtnk_\n",
      "File exists, skipping...\n",
      "Getting post: Cra3Xa3tUpT\n",
      "File exists, skipping...\n",
      "Getting post: CrYBl-noYT2\n",
      "File exists, skipping...\n",
      "Getting post: CrVqaeNoPNI\n",
      "File exists, skipping...\n",
      "Getting post: CrVdgl2Ikn1\n",
      "File exists, skipping...\n",
      "Getting post: CrVNQdiohTZ\n",
      "File exists, skipping...\n",
      "Getting post: CrT-6FsrVvZ\n",
      "File exists, skipping...\n",
      "Getting post: CrT5SzLIW6Z\n",
      "File exists, skipping...\n",
      "Getting post: CrEw_mjP9CD\n",
      "File exists, skipping...\n",
      "Getting post: CrEw7xqPbTG\n",
      "File exists, skipping...\n",
      "Getting post: CrEw5BcvaP2\n",
      "File exists, skipping...\n",
      "Getting post: CrEw26NP9zE\n",
      "File exists, skipping...\n",
      "Getting post: CrEwse0v1mV\n",
      "File exists, skipping...\n",
      "Getting post: CmLylLcyNME\n",
      "File exists, skipping...\n",
      "Getting post: CmLyh30ST1Z\n",
      "File exists, skipping...\n",
      "Getting post: CmLydAHyJ-W\n",
      "File exists, skipping...\n",
      "Getting post: Cl6UaQytahp\n",
      "File exists, skipping...\n",
      "Getting post: Cl6UYqntj4S\n",
      "File exists, skipping...\n",
      "Getting post: Cl6UTwithef\n",
      "File exists, skipping...\n",
      "Getting post: CrK7Iw5SkhT\n",
      "File exists, skipping...\n",
      "Getting post: CrFJtOTL5Jh\n",
      "File exists, skipping...\n",
      "Getting post: CqAcVr4Sn10\n",
      "File exists, skipping...\n",
      "Getting post: Cp6wPheS6YU\n",
      "File exists, skipping...\n",
      "Getting post: Cp6u4q1yi6g\n",
      "File exists, skipping...\n",
      "Getting post: Cpr-9xzyoFl\n",
      "File exists, skipping...\n",
      "Getting post: CpnYvIiSlM0\n",
      "File exists, skipping...\n",
      "Getting post: CrJBkVcMarG\n",
      "File exists, skipping...\n",
      "Getting post: Cqqan7RurWt\n",
      "File exists, skipping...\n",
      "Getting post: CkZojwNs_wX\n",
      "File exists, skipping...\n",
      "Getting post: Cj6XYb_v5c5\n",
      "File exists, skipping...\n",
      "Getting post: CjgI3BYJ0JE\n",
      "File exists, skipping...\n",
      "Getting post: CrYIIVHLuZM\n",
      "File exists, skipping...\n",
      "Getting post: CrRGR0crUme\n",
      "File exists, skipping...\n",
      "Getting post: CrGgfF2IxAQ\n",
      "File exists, skipping...\n",
      "Getting post: Cq86QrRr92G\n",
      "File exists, skipping...\n",
      "Getting post: Cq3UUUirzqw\n",
      "File exists, skipping...\n",
      "Getting post: Cqq5ffWobHm\n",
      "File exists, skipping...\n",
      "Getting post: CqlSzdfL_Ob\n",
      "File exists, skipping...\n",
      "Getting post: CqirL94L_dw\n",
      "File exists, skipping...\n",
      "Getting post: CqYZ0ojLkFG\n",
      "File exists, skipping...\n",
      "Getting post: Cp07oIoowOB\n",
      "File exists, skipping...\n",
      "Getting post: CpvZ88Ir5N_\n",
      "File exists, skipping...\n",
      "Getting post: CpqP74rr2qA\n",
      "File exists, skipping...\n",
      "Getting post: CrcTnCkPgSq\n",
      "File exists, skipping...\n",
      "Getting post: Crayii1vycT\n",
      "File exists, skipping...\n",
      "Getting post: Cram_Qpv_oV\n",
      "File exists, skipping...\n",
      "Getting post: CrZsxd-Prrb\n",
      "File exists, skipping...\n",
      "Getting post: CrZarvUP8Cf\n",
      "File exists, skipping...\n",
      "Getting post: CrYQLiEPj7X\n",
      "File exists, skipping...\n",
      "Getting post: CrX4XcoPwNC\n",
      "File exists, skipping...\n",
      "Getting post: Crbgog-uCOG\n",
      "File exists, skipping...\n",
      "Getting post: CrVnARqu3TB\n",
      "File exists, skipping...\n",
      "Getting post: CfCLqhCr1vd\n",
      "File exists, skipping...\n",
      "Getting post: CdONzy7r3OT\n",
      "File exists, skipping...\n",
      "Getting post: CcGXJaqJO9L\n",
      "File exists, skipping...\n",
      "Getting post: CaXWrkTqjSO\n",
      "File exists, skipping...\n",
      "Getting post: CaUsPbUquKV\n",
      "File exists, skipping...\n",
      "Getting post: CqtyYIAL0uk\n",
      "File exists, skipping...\n",
      "Getting post: CqedzcZOnMx\n",
      "File exists, skipping...\n",
      "Getting post: Cqb0SbnOlBD\n",
      "File exists, skipping...\n",
      "Getting post: CqGF-M7OEyB\n",
      "File exists, skipping...\n",
      "Getting post: CqBPN1Qus2s\n",
      "File exists, skipping...\n",
      "Getting post: Cp-8RM6u0UO\n",
      "File exists, skipping...\n",
      "Getting post: Cpv0l-Xuhpk\n",
      "File exists, skipping...\n",
      "Getting post: CpZE7EHujsW\n",
      "File exists, skipping...\n",
      "Getting post: CrcqzgiNpSJ\n",
      "File exists, skipping...\n",
      "Getting post: CrCtQQhN82E\n",
      "File exists, skipping...\n",
      "Getting post: Cq7KsQstwIi\n",
      "File exists, skipping...\n",
      "Getting post: Cq15H6It-sN\n",
      "File exists, skipping...\n",
      "Getting post: CqpegpANV_s\n",
      "File exists, skipping...\n",
      "Getting post: CqUXeUHNqYS\n",
      "File exists, skipping...\n",
      "Getting post: CqXfZVZI0Y8\n",
      "File exists, skipping...\n",
      "Getting post: CrbYoOFSPdq\n",
      "File exists, skipping...\n",
      "Getting post: CrbQhywNtlH\n",
      "File exists, skipping...\n",
      "Getting post: Cra1_AFRk-J\n",
      "File exists, skipping...\n",
      "Getting post: CralY0KMvW0\n",
      "File exists, skipping...\n",
      "Getting post: CraVyjOOqzp\n",
      "File exists, skipping...\n",
      "Getting post: CrY44FIMva-\n",
      "File exists, skipping...\n",
      "Getting post: CrYirodyFaW\n",
      "File exists, skipping...\n",
      "Getting post: CrYfhuzok0Y\n",
      "File exists, skipping...\n",
      "Getting post: CqDQhAlNc2Y\n",
      "File exists, skipping...\n",
      "Getting post: Cq07Kw9vnvu\n",
      "File exists, skipping...\n",
      "Getting post: CqvV4JHNLCG\n",
      "File exists, skipping...\n",
      "Getting post: Cqs0XGYts1U\n",
      "File exists, skipping...\n",
      "Getting post: CqqN2fdgesw\n",
      "File exists, skipping...\n",
      "Getting post: Cqn04_4MC1E\n"
     ]
    },
    {
     "name": "stderr",
     "output_type": "stream",
     "text": [
      "474it [00:04, 114.89it/s]"
     ]
    },
    {
     "name": "stdout",
     "output_type": "stream",
     "text": [
      "Post Don't exist, Skipping...\n",
      "Getting post: CqfXaAoO9vC\n",
      "File exists, skipping...\n",
      "Getting post: Cqab4CRtFbM\n",
      "File exists, skipping...\n",
      "Getting post: CqTc_xaAWJf\n",
      "File exists, skipping...\n",
      "Getting post: CqOi8HCgvVu\n",
      "File exists, skipping...\n",
      "Getting post: CdxROg6ogoT\n",
      "File exists, skipping...\n",
      "Getting post: Crcu6yooAcs\n",
      "File exists, skipping...\n",
      "Getting post: Cray1HRIWdU\n",
      "File exists, skipping...\n",
      "Getting post: CrVPW3_okbc\n",
      "File exists, skipping...\n",
      "Getting post: CrTKqHEvn88\n",
      "File exists, skipping...\n",
      "Getting post: CrQNLMlI9RX\n",
      "File exists, skipping...\n",
      "Getting post: CrOhftwIezq\n",
      "File exists, skipping...\n",
      "Getting post: CrAdHVdpw5Y\n",
      "File exists, skipping...\n",
      "Getting post: Cqc88P7pSyI\n",
      "File exists, skipping...\n",
      "Getting post: Cqa5XFcsVkd\n",
      "File exists, skipping...\n",
      "Getting post: CqMpQggpOwy\n",
      "File exists, skipping...\n",
      "Getting post: CppjnvIJjsr\n",
      "File exists, skipping...\n",
      "Getting post: CrR36coJduB\n",
      "File exists, skipping...\n",
      "Getting post: CrYttqbOSUz\n",
      "File exists, skipping...\n",
      "Getting post: CrTi3TCuvL-\n",
      "File exists, skipping...\n",
      "Getting post: CrOV8SyuYPH\n",
      "File exists, skipping...\n",
      "Getting post: CrMpW1IuaFu\n",
      "File exists, skipping...\n",
      "Getting post: CrE3afZOqMQ\n",
      "File exists, skipping...\n",
      "Getting post: Cq-y74FO_N_\n",
      "File exists, skipping...\n",
      "Getting post: Cq86-GTu3F5\n",
      "File exists, skipping...\n",
      "Getting post: Cq3N3i2OZoa\n",
      "File exists, skipping...\n",
      "Getting post: Cqsx-8pO3U0\n",
      "File exists, skipping...\n",
      "Getting post: CqocBvJOvD3\n",
      "File exists, skipping...\n",
      "Getting post: CqjW3FOOI6a\n",
      "File exists, skipping...\n",
      "Getting post: Cq5EuqHLDJM\n",
      "File exists, skipping...\n",
      "Getting post: CqgEyKWJBk4\n",
      "File exists, skipping...\n",
      "Getting post: CqYV6nEsXb5\n",
      "File exists, skipping...\n",
      "Getting post: CqP9uGyMTXJ\n",
      "File exists, skipping...\n",
      "Getting post: CpgUbhZOBjI\n",
      "File exists, skipping...\n",
      "Getting post: CrMy4-ItR39\n",
      "File exists, skipping...\n",
      "Getting post: CrLj3xDOfsK\n",
      "File exists, skipping...\n",
      "Getting post: CrESyyVOKCI\n",
      "File exists, skipping...\n",
      "Getting post: Cq-2yRTtjD8\n",
      "File exists, skipping...\n",
      "Getting post: Cq5KQHCNio2\n",
      "File exists, skipping...\n",
      "Getting post: Cq3uPFBO6O4\n",
      "File exists, skipping...\n",
      "Getting post: Cq1gmMwt-6R\n",
      "File exists, skipping...\n",
      "Getting post: CqyQXM6ufTb\n",
      "File exists, skipping...\n",
      "Getting post: Cqsn7w-uz5W\n",
      "File exists, skipping...\n",
      "Getting post: Crb0xiFMuHL\n",
      "File exists, skipping...\n",
      "Getting post: CrbxYBnsvt3\n",
      "File exists, skipping...\n",
      "Getting post: CrbhWJ-szsJ\n",
      "File exists, skipping...\n",
      "Getting post: CrbQyV_M3wx\n",
      "File exists, skipping...\n",
      "Getting post: CrazTDmsJb-\n",
      "File exists, skipping...\n",
      "Getting post: CrarydYMwZS\n",
      "File exists, skipping...\n",
      "Getting post: CraU-O8gwG6\n",
      "File exists, skipping...\n",
      "Getting post: CrY3c7HNVST\n",
      "File exists, skipping...\n",
      "Getting post: Crcgt3wtmgL\n",
      "File exists, skipping...\n",
      "Getting post: CrcO-r0O7S8\n",
      "File exists, skipping...\n",
      "Getting post: Crbh9PasyUa\n",
      "File exists, skipping...\n",
      "Getting post: CrawzWtNdos\n",
      "File exists, skipping...\n",
      "Getting post: CrRRna9O4z1\n",
      "File exists, skipping...\n",
      "Getting post: CrGsyZ-OEoQ\n",
      "File exists, skipping...\n",
      "Getting post: Cq-11UUuLEo\n",
      "File exists, skipping...\n",
      "Getting post: Cqs-cYWOuFw\n",
      "File exists, skipping...\n",
      "Getting post: CqMXiYItUEH\n",
      "File exists, skipping...\n",
      "Getting post: Cp0hU3EOgh9\n",
      "File exists, skipping...\n",
      "Getting post: CpwJ5eKNVuo\n",
      "File exists, skipping...\n",
      "Getting post: CpYAkthOInq\n",
      "File exists, skipping...\n",
      "Getting post: CpRHRUOKc6q\n",
      "File exists, skipping...\n",
      "Getting post: CopRevnObk9\n",
      "File exists, skipping...\n",
      "Getting post: CoWV91ELRSz\n",
      "File exists, skipping...\n",
      "Getting post: CmoyLaSJezX\n",
      "File exists, skipping...\n",
      "Getting post: ClJeef9pyrj\n",
      "File exists, skipping...\n",
      "Getting post: CkrEFmISa7U\n",
      "File exists, skipping...\n",
      "Getting post: Cj30YJSJp6b\n",
      "File exists, skipping...\n",
      "Getting post: Cjt6ot2N1-Z\n",
      "File exists, skipping...\n",
      "Getting post: CjS-JtkrUX5\n",
      "File exists, skipping...\n",
      "Getting post: CjIwT3ELkvJ\n",
      "File exists, skipping...\n",
      "Getting post: Crb92dRNJKL\n",
      "File exists, skipping...\n",
      "Getting post: Crbdty9tdSI\n",
      "File exists, skipping...\n",
      "Getting post: CrVwIicI5BJ\n",
      "File exists, skipping...\n",
      "Getting post: CrSOr5moUqz\n",
      "File exists, skipping...\n",
      "Getting post: CrODur1o66t\n",
      "File exists, skipping...\n",
      "Getting post: CrTbaoZtTzy\n",
      "File exists, skipping...\n",
      "Getting post: CrQVzBJsXL_\n",
      "File exists, skipping...\n",
      "Getting post: CrGZujltetk\n",
      "File exists, skipping...\n",
      "Getting post: CqEE5a2sNna\n",
      "File exists, skipping...\n",
      "Getting post: CqAiLUZs2pP\n",
      "File exists, skipping...\n",
      "Getting post: Cq4ex1apP8P\n",
      "File exists, skipping...\n",
      "Getting post: Crc2tokOlMZ\n",
      "File exists, skipping...\n",
      "Getting post: Crcef9SIaZh\n",
      "File exists, skipping...\n",
      "Getting post: Crb1RE4vRH0\n",
      "File exists, skipping...\n",
      "Getting post: Crbgx05tMGe\n",
      "File exists, skipping...\n",
      "Getting post: CrbTBaWMYJT\n",
      "File exists, skipping...\n",
      "Getting post: CrbDyksMxsk\n",
      "File exists, skipping...\n",
      "Getting post: CnnI_rhIZjL\n",
      "File exists, skipping...\n",
      "Getting post: CrbxCnBvTIT\n",
      "File exists, skipping...\n",
      "Getting post: CrW4D42I4aV\n",
      "File exists, skipping...\n",
      "Getting post: CrUH-xsIpPn\n",
      "File exists, skipping...\n",
      "Getting post: CrMzFl3ov7P\n",
      "File exists, skipping...\n",
      "Getting post: CrCXbrXO00N\n",
      "File exists, skipping...\n",
      "Getting post: CrAUv3_vp9P\n",
      "File exists, skipping...\n",
      "Getting post: CqVFTxBPEXm\n",
      "File exists, skipping...\n",
      "Getting post: CqJ62H7vxN0\n",
      "File exists, skipping...\n",
      "Getting post: Cp1L1Xuvjo7\n",
      "File exists, skipping...\n",
      "Getting post: CpJn09fPvud\n",
      "File exists, skipping...\n",
      "Getting post: CmOqBfyjnN1\n",
      "File exists, skipping...\n",
      "Getting post: Cl6jmw9jMwI\n",
      "File exists, skipping...\n",
      "Getting post: Cl6jkY6jYTw\n",
      "File exists, skipping...\n",
      "Getting post: Cl6jeEfjH6F\n",
      "File exists, skipping...\n",
      "Getting post: CkwvR1qJe7_\n",
      "File exists, skipping...\n",
      "Getting post: CkH_7XzAgJk\n",
      "File exists, skipping...\n",
      "Getting post: CmKTBsnO4TD\n",
      "File exists, skipping...\n",
      "Getting post: CmxYbJzvmgW\n",
      "File exists, skipping...\n",
      "Getting post: Ce01s-Fg_Dq\n",
      "File exists, skipping...\n",
      "Getting post: CrblIB2uHiA\n",
      "File exists, skipping...\n",
      "Getting post: Cq_eIV3AGMu\n",
      "File exists, skipping...\n",
      "Getting post: CqmGMmyt_H3\n",
      "File exists, skipping...\n",
      "Getting post: CqiqaYwuugp\n",
      "File exists, skipping...\n",
      "Getting post: CqTZaC_gwT7\n",
      "File exists, skipping...\n",
      "Getting post: CqG8z9BOswy\n",
      "File exists, skipping...\n",
      "Getting post: CqGQuWxJfCz\n",
      "File exists, skipping...\n",
      "Getting post: CrIiDqDOVWB\n",
      "File exists, skipping...\n",
      "Getting post: CrBDySbqmyV\n",
      "File exists, skipping...\n",
      "Getting post: CqH4ROSDzU7\n",
      "File exists, skipping...\n",
      "Getting post: Cpu_3e6DSOa\n",
      "File exists, skipping...\n",
      "Getting post: CpqMPWePdOU\n",
      "File exists, skipping...\n",
      "Getting post: CpnHJGZLced\n",
      "File exists, skipping...\n",
      "Getting post: CpgCyn5Pfsq\n",
      "File exists, skipping...\n",
      "Getting post: CpdLbP2JEwW\n",
      "File exists, skipping...\n",
      "Getting post: CrZGc6_IjKv\n",
      "File exists, skipping...\n",
      "Getting post: CrZFPEyos1a\n",
      "File exists, skipping...\n",
      "Getting post: CrZEFqOo6Yd\n",
      "File exists, skipping...\n",
      "Getting post: CrZC8jzIajs\n",
      "File exists, skipping...\n",
      "Getting post: CrZB_H2onTe\n",
      "File exists, skipping...\n",
      "Getting post: CrY-lvhI-ZD\n",
      "File exists, skipping...\n",
      "Getting post: CrY9QZ9oa6C\n",
      "File exists, skipping...\n",
      "Getting post: Cq6DyuHP41Y\n",
      "File exists, skipping...\n",
      "Getting post: CrYKaGIs9m1\n",
      "File exists, skipping...\n",
      "Getting post: CrVRFP4PmZz\n",
      "File exists, skipping...\n",
      "Getting post: CrKv-EtPf2P\n",
      "File exists, skipping...\n",
      "Getting post: Cq-1fSGsSix\n",
      "File exists, skipping...\n",
      "Getting post: CquXSqrsImK\n",
      "File exists, skipping...\n",
      "Getting post: CqiAHagPz_k\n",
      "File exists, skipping...\n",
      "Getting post: CraOf1nAww1\n",
      "File exists, skipping...\n",
      "Getting post: CrUGT1Fs2VK\n",
      "File exists, skipping...\n",
      "Getting post: CrJc43UMqkf\n",
      "File exists, skipping...\n",
      "Getting post: CrGuuWjMU2-\n",
      "File exists, skipping...\n",
      "Getting post: CrElaBmsP4P\n",
      "File exists, skipping...\n",
      "Getting post: Cqyl77RsNeT\n",
      "File exists, skipping...\n",
      "Getting post: CqnQ4MPswu2\n",
      "File exists, skipping...\n",
      "Getting post: CrbNESfIqvR\n",
      "File exists, skipping...\n",
      "Getting post: CrafQVsqnOH\n",
      "File exists, skipping...\n",
      "Getting post: CrYnSrqIxhG\n",
      "File exists, skipping...\n",
      "Getting post: CrYSpAoo2ht\n",
      "File exists, skipping...\n",
      "Getting post: CrXpcQ3IQ03\n",
      "File exists, skipping...\n",
      "Getting post: CrV3Pv7qgos\n",
      "File exists, skipping...\n",
      "Getting post: CrbBfPYrmTP\n",
      "File exists, skipping...\n",
      "Getting post: CrW5XiKP1w_\n",
      "File exists, skipping...\n",
      "Getting post: CrL0YqzLEDG\n",
      "File exists, skipping...\n",
      "Getting post: Cp_TjmPP_LW\n",
      "File exists, skipping...\n",
      "Getting post: Cp0MSaNrHjZ\n",
      "File exists, skipping...\n",
      "Getting post: CpRtdq8J6kD\n",
      "File exists, skipping...\n",
      "Getting post: CrccRUYMqPA\n",
      "File exists, skipping...\n",
      "Getting post: CrRf1AULXUp\n",
      "File exists, skipping...\n",
      "Getting post: CrD1rBAuvDc\n",
      "File exists, skipping...\n",
      "Getting post: CrBXn1LrH8d\n",
      "File exists, skipping...\n",
      "Getting post: CrWGUnFqspp\n",
      "File exists, skipping...\n",
      "Getting post: CrRhG5GtSUy\n",
      "File exists, skipping...\n",
      "Getting post: CrOagWCKPMD\n",
      "File exists, skipping...\n",
      "Getting post: CrNc8nLNFMY\n",
      "File exists, skipping...\n",
      "Getting post: CqiyAXHIJS0\n",
      "File exists, skipping...\n",
      "Getting post: CqW49R9MqEb\n",
      "File exists, skipping...\n",
      "Getting post: CqKC0KGMcb6\n",
      "File exists, skipping...\n",
      "Getting post: CqHB_ONp0sw\n",
      "File exists, skipping...\n",
      "Getting post: CrbZ2QnPfez\n",
      "File exists, skipping...\n",
      "Getting post: CqrK_ipP18Z\n",
      "File exists, skipping...\n",
      "Getting post: CqBLGsEp8ZF\n",
      "File exists, skipping...\n",
      "Getting post: CpvQd3yrH7W\n",
      "File exists, skipping...\n",
      "Getting post: CpNyTX_rRNb\n",
      "File exists, skipping...\n",
      "Getting post: CpLNaowPUqV\n",
      "File exists, skipping...\n",
      "Getting post: CoqnN5HrbEG\n",
      "File exists, skipping...\n",
      "Getting post: Cn2qvc6PJu3\n",
      "File exists, skipping...\n",
      "Getting post: Ck_xzHOyK_U\n",
      "File exists, skipping...\n",
      "Getting post: CravvMoroBu\n",
      "File exists, skipping...\n",
      "Getting post: CrYuuFdL3T2\n",
      "File exists, skipping...\n",
      "Getting post: CrXkAB3qpUS\n",
      "File exists, skipping...\n",
      "Getting post: CrQgSTkMT7B\n",
      "File exists, skipping...\n",
      "Getting post: CrIEeElKuXu\n",
      "File exists, skipping...\n",
      "Getting post: CrciM5YMlm_\n",
      "File exists, skipping...\n",
      "Getting post: CrcaGwcM15a\n",
      "File exists, skipping...\n",
      "Getting post: CrcKCYCrRDw\n",
      "File exists, skipping...\n",
      "Getting post: CrcHqTdMwIm\n",
      "File exists, skipping...\n",
      "Getting post: Crb6iXGvHh1\n",
      "File exists, skipping...\n",
      "Getting post: Crb1-X0OKir\n",
      "File exists, skipping...\n",
      "Getting post: CrbyiQPrhVN\n",
      "File exists, skipping...\n",
      "Getting post: CrcuE9nuE33\n",
      "File exists, skipping...\n",
      "Getting post: CrdCdWJPPch\n",
      "File exists, skipping...\n",
      "Getting post: CrdBeljBpmY\n",
      "File exists, skipping...\n",
      "Getting post: Crc_FJ1hBTS\n",
      "File exists, skipping...\n",
      "Getting post: Crc7wzeBgrg\n",
      "File exists, skipping...\n",
      "Getting post: Crc6d53hisi\n",
      "File exists, skipping...\n",
      "Getting post: Crc5VX9Ba3N\n",
      "File exists, skipping...\n",
      "Getting post: Crc4Of3B4EF\n",
      "File exists, skipping...\n",
      "Getting post: Crc0ykShhyh\n",
      "File exists, skipping...\n",
      "Getting post: CrcWa5ttSVW\n",
      "File exists, skipping...\n",
      "Getting post: CrcS_J7N-es\n",
      "File exists, skipping...\n",
      "Getting post: CrcMH5Vt4KW\n",
      "File exists, skipping...\n",
      "Getting post: CrcFT4wPVuE\n",
      "File exists, skipping...\n",
      "Getting post: CrcB0z-vZJU\n",
      "File exists, skipping...\n",
      "Getting post: Crb0M-vR_9Y\n",
      "File exists, skipping...\n",
      "Getting post: CrbwfvrM-vg\n",
      "File exists, skipping...\n",
      "Getting post: Crc_8oXrPGA\n",
      "File exists, skipping...\n",
      "Getting post: Crc-4kqLRrK\n",
      "File exists, skipping...\n",
      "Getting post: Crc78iBtkXD\n",
      "File exists, skipping...\n",
      "Getting post: Crc67pLLJG1\n",
      "File exists, skipping...\n",
      "Getting post: Crc6QettMLr\n",
      "File exists, skipping...\n",
      "Getting post: CrcyECfL5Wo\n",
      "File exists, skipping...\n",
      "Getting post: Crcwmy2rHsH\n",
      "File exists, skipping...\n",
      "Getting post: CrcvF0Wsmnr\n",
      "File exists, skipping...\n",
      "Getting post: CrcskVMsx2A\n",
      "File exists, skipping...\n",
      "Getting post: Crb04trLthP\n",
      "File exists, skipping...\n",
      "Getting post: CrbzxZlLSo3\n",
      "File exists, skipping...\n",
      "Getting post: CrcVdXsL0Xp\n",
      "File exists, skipping...\n",
      "Getting post: CrcGBeTP5sl\n",
      "File exists, skipping...\n",
      "Getting post: Crb1SLWyCv-\n",
      "File exists, skipping...\n",
      "Getting post: CrdBgk1tFMK\n",
      "File exists, skipping...\n",
      "Getting post: CrczH8yhfsC\n",
      "File exists, skipping...\n",
      "Getting post: CrcuSATBzjz\n",
      "File exists, skipping...\n",
      "Getting post: CrcsP2jh7j9\n",
      "File exists, skipping...\n",
      "Getting post: CrbcpD5LK2w\n",
      "File exists, skipping...\n",
      "Getting post: CrbaH3ih5XB\n",
      "File exists, skipping...\n",
      "Getting post: CrbVlFTyf9G\n",
      "File exists, skipping...\n",
      "Getting post: CrbMANcB1xA\n",
      "File exists, skipping...\n",
      "Getting post: CrbCJ_3BJxL\n",
      "File exists, skipping...\n",
      "Getting post: CrbwKzWvuaZ\n",
      "File exists, skipping...\n",
      "Getting post: CrcT4k8uQIx\n",
      "File exists, skipping...\n",
      "Getting post: Crc36Fkr-3V\n",
      "File exists, skipping...\n",
      "Getting post: Crb0nc9ouzx\n",
      "File exists, skipping...\n",
      "Getting post: CrbWAwdr2nR\n",
      "File exists, skipping...\n",
      "Getting post: CrbVuxtrJ8z\n",
      "File exists, skipping...\n",
      "Getting post: CrbOVU4oAap\n",
      "File exists, skipping...\n",
      "Getting post: CrdEx7vPu59\n",
      "File exists, skipping...\n",
      "Getting post: CrcyPbjvZup\n",
      "File exists, skipping...\n",
      "Getting post: Crcsa8gv-bg\n",
      "File exists, skipping...\n",
      "Getting post: Crcr4OZPXfr\n",
      "File exists, skipping...\n",
      "Getting post: CrbrRkFBPad\n",
      "File exists, skipping...\n",
      "Getting post: CrbU6-lvtp7\n",
      "File exists, skipping...\n",
      "Getting post: CraeQj7hP71\n",
      "File exists, skipping...\n",
      "Getting post: CraWyQJhrag\n",
      "File exists, skipping...\n",
      "Getting post: Crcx9N3JeG6\n",
      "File exists, skipping...\n",
      "Getting post: CrcspkjL5Zr\n",
      "File exists, skipping...\n",
      "Getting post: CrcsEs8p6lh\n",
      "File exists, skipping...\n",
      "Getting post: CrckKn1r-4x\n",
      "File exists, skipping...\n",
      "Getting post: CrcWby8sBDm\n",
      "File exists, skipping...\n",
      "Getting post: CrcJ4jttQNT\n",
      "File exists, skipping...\n",
      "Getting post: CrbyOh0vad_\n",
      "File exists, skipping...\n",
      "Getting post: Crc7sLRO0o-\n",
      "File exists, skipping...\n",
      "Getting post: CrcyOjmrvyv\n",
      "File exists, skipping...\n",
      "Getting post: Crcsg9XrcSW\n",
      "File exists, skipping...\n",
      "Getting post: Crcj3Ner-1k\n",
      "File exists, skipping...\n",
      "Getting post: CrceHu0LoDK\n",
      "File exists, skipping...\n",
      "Getting post: CrcRVk2PnHd\n",
      "File exists, skipping...\n",
      "Getting post: CrcNCfdvlIn\n",
      "File exists, skipping...\n",
      "Getting post: CrcIZlQvJYF\n",
      "File exists, skipping...\n",
      "Getting post: Crc5gE_ooBj\n",
      "File exists, skipping...\n",
      "Getting post: Crc1VFHons6\n",
      "File exists, skipping...\n",
      "Getting post: CrcqH5NITit\n",
      "File exists, skipping...\n",
      "Getting post: CrcX5jrMTz_\n",
      "File exists, skipping...\n",
      "Getting post: CrdFOZsrq1b\n",
      "File exists, skipping...\n",
      "Getting post: Crc31MOO_YK\n",
      "File exists, skipping...\n",
      "Getting post: Crcxl-WoToS\n",
      "File exists, skipping...\n",
      "Getting post: CrcnycZNcCk\n",
      "File exists, skipping...\n",
      "Getting post: CrZB2atO2b9\n",
      "File exists, skipping...\n",
      "Getting post: Crc7Y-eubOc\n",
      "File exists, skipping...\n",
      "Getting post: Crc6iR1OPIU\n",
      "File exists, skipping...\n",
      "Getting post: Crc4eyUOGqN\n",
      "File exists, skipping...\n",
      "Getting post: Crc27KVOM9Y\n",
      "File exists, skipping...\n",
      "Getting post: CrckegQOHv6\n",
      "File exists, skipping...\n",
      "Getting post: CrcR2dXube0\n",
      "File exists, skipping...\n",
      "Getting post: CrbrSC0uXTf\n",
      "File exists, skipping...\n",
      "Getting post: CrcOLYVs9FI\n",
      "File exists, skipping...\n",
      "Getting post: CrcIureRCJS\n",
      "File exists, skipping...\n",
      "Getting post: CrcB7hxMwKQ\n",
      "File exists, skipping...\n",
      "Getting post: CrbzfxxBMWL\n",
      "File exists, skipping...\n",
      "Getting post: CrbichYR1dw\n",
      "File exists, skipping...\n",
      "Getting post: Crc4fAqMMIo\n",
      "File exists, skipping...\n",
      "Getting post: CrczsCBMW8d\n",
      "File exists, skipping...\n",
      "Getting post: Crbvc1pMZrk\n",
      "File exists, skipping...\n",
      "Getting post: Crbf5rasR5J\n",
      "File exists, skipping...\n",
      "Getting post: Crbecz4s-MG\n",
      "File exists, skipping...\n",
      "Getting post: Crbb564sWvM\n",
      "File exists, skipping...\n",
      "Getting post: CrbbyBHMPfA\n",
      "File exists, skipping...\n",
      "Getting post: CrbYVzrMe1w\n",
      "File exists, skipping...\n",
      "Getting post: CrbWNzLMHOr\n",
      "File exists, skipping...\n",
      "Getting post: CrbQttdM47V\n",
      "File exists, skipping...\n",
      "Getting post: Crc4nO3Nhcf\n",
      "File exists, skipping...\n",
      "Getting post: Crcu2YWJGoL\n",
      "File exists, skipping...\n",
      "Getting post: Crcp-T4I9xg\n",
      "File exists, skipping...\n",
      "Getting post: Crbtooth7xU\n",
      "File exists, skipping...\n",
      "Getting post: CrbWDneJsQ7\n",
      "File exists, skipping...\n",
      "Getting post: Cra_Lzbp3t7\n",
      "File exists, skipping...\n",
      "Getting post: CraywGOJR7D\n",
      "File exists, skipping...\n",
      "Getting post: Crc5UzDuWGL\n",
      "File exists, skipping...\n",
      "Getting post: Crc4ENeuU-Y\n",
      "File exists, skipping...\n",
      "Getting post: Crc2zsQOKwY\n",
      "File exists, skipping...\n",
      "Getting post: Crb3wAfO42w\n",
      "File exists, skipping...\n",
      "Getting post: Crb1Wu8MX3A\n",
      "File exists, skipping...\n",
      "Getting post: Crbvn83OVix\n",
      "File exists, skipping...\n",
      "Getting post: CrbsiPEOagd\n",
      "File exists, skipping...\n",
      "Getting post: CrbowemO2N9\n",
      "File exists, skipping...\n",
      "Getting post: CrblqsEOclQ\n",
      "File exists, skipping...\n",
      "Getting post: Crbj51qL0zC\n",
      "File exists, skipping...\n",
      "Getting post: CrbjzH1BBWV\n",
      "File exists, skipping...\n",
      "Getting post: CrdEH_WrnBU\n",
      "File exists, skipping...\n",
      "Getting post: CrdDQY3rp1k\n",
      "File exists, skipping...\n",
      "Getting post: Crc71gQLerP\n",
      "File exists, skipping...\n",
      "Getting post: Crc0YLArfDs\n",
      "File exists, skipping...\n",
      "Getting post: Crcs9MpLpON\n",
      "File exists, skipping...\n",
      "Getting post: Crcnj0QLN2K\n",
      "File exists, skipping...\n",
      "Getting post: Crcil7Xry1f\n",
      "File exists, skipping...\n",
      "Getting post: CrcieNOL7FW\n",
      "File exists, skipping...\n",
      "Getting post: CrcczuFrcCp\n",
      "File exists, skipping...\n",
      "Getting post: CrcbhkirH_a\n",
      "File exists, skipping...\n",
      "Getting post: CrcZJczLgLu\n",
      "File exists, skipping...\n",
      "Getting post: CrcUGnHLBFK\n",
      "File exists, skipping...\n",
      "Getting post: CraJbU4sinT\n",
      "File exists, skipping...\n",
      "Getting post: Cq0XjflLjA-\n",
      "File exists, skipping...\n",
      "Getting post: CrdFJfSp5Hk\n",
      "File exists, skipping...\n",
      "Getting post: CrdDilANL5o\n",
      "File exists, skipping...\n",
      "Getting post: CrdAJWCJBKl\n",
      "File exists, skipping...\n",
      "Getting post: Crc8dQ_NGfN\n",
      "File exists, skipping...\n",
      "Getting post: Crc5py3vVkA\n",
      "File exists, skipping...\n",
      "Getting post: Crc3hOjtksc\n",
      "File exists, skipping...\n",
      "Getting post: Crc0KCCLwfT\n",
      "File exists, skipping...\n",
      "Getting post: CrZ--xeLqyC\n",
      "File exists, skipping...\n",
      "Getting post: CrKXvewpK8j\n",
      "File exists, skipping...\n",
      "Getting post: Crawo4NrEHZ\n",
      "File exists, skipping...\n",
      "Getting post: CrcewcuAe-L\n",
      "File exists, skipping...\n",
      "Getting post: CrbznaSA6sJ\n",
      "File exists, skipping...\n",
      "Getting post: CrbwEVmJ9eU\n",
      "File exists, skipping...\n",
      "Getting post: Ci78ylUr0qL\n",
      "File exists, skipping...\n",
      "Getting post: CWQ7DnrvTCl\n",
      "File exists, skipping...\n",
      "Getting post: CrcEuT8OwEn\n",
      "File exists, skipping...\n",
      "Getting post: CrbnlTCO-ix\n",
      "File exists, skipping...\n",
      "Getting post: CrbWWc-OExv\n",
      "File exists, skipping...\n",
      "Getting post: Cq5uj8EIz3B\n",
      "File exists, skipping...\n",
      "Getting post: CrdD5-Dob5y\n",
      "File exists, skipping...\n",
      "Getting post: CrdATRHItJe\n"
     ]
    },
    {
     "name": "stderr",
     "output_type": "stream",
     "text": [
      "817it [00:05, 220.28it/s]"
     ]
    },
    {
     "name": "stdout",
     "output_type": "stream",
     "text": [
      "Post Don't exist, Skipping...\n",
      "Getting post: CrczKQcISlQ\n",
      "Post Don't exist, Skipping...\n",
      "Getting post: CrbZTnbomRb\n",
      "Post Don't exist, Skipping...\n",
      "Getting post: CrbPBQkoA_Z\n",
      "Post Don't exist, Skipping...\n",
      "Getting post: Crc7ilkNHgo\n",
      "Post Don't exist, Skipping...\n",
      "Getting post: CrbXpxBN_Vi\n",
      "Post Don't exist, Skipping...\n",
      "Getting post: CrawnAZt3sw\n",
      "Post Don't exist, Skipping...\n",
      "Getting post: CraTqq_NENM\n"
     ]
    },
    {
     "name": "stderr",
     "output_type": "stream",
     "text": [
      "845it [00:09, 62.17it/s] "
     ]
    },
    {
     "name": "stdout",
     "output_type": "stream",
     "text": [
      "Post Don't exist, Skipping...\n",
      "Getting post: CrcLOvUJhFE\n",
      "File exists, skipping...\n",
      "Getting post: CrcF-Dap7Jr\n",
      "File exists, skipping...\n",
      "Getting post: CrcCvN7Pp4K\n",
      "File exists, skipping...\n",
      "Getting post: Crb7pPRPyup\n",
      "File exists, skipping...\n",
      "Getting post: Crb38g-PZOl\n",
      "File exists, skipping...\n",
      "Getting post: Crb3bazgngN\n",
      "File exists, skipping...\n",
      "Getting post: Crbzy3mPlCB\n",
      "File exists, skipping...\n",
      "Getting post: CrbxXHLvw_M\n",
      "File exists, skipping...\n",
      "Getting post: Crc3OTQqNUK\n",
      "File exists, skipping...\n",
      "Getting post: Crc1dRZLVBo\n",
      "File exists, skipping...\n",
      "Getting post: CrcqHNJu5H8\n",
      "File exists, skipping...\n",
      "Getting post: CrccUI7OIEs\n",
      "File exists, skipping...\n",
      "Getting post: CrcNznXRBHr\n",
      "File exists, skipping...\n",
      "Getting post: CrcDwCDPgp3\n",
      "File exists, skipping...\n",
      "Getting post: Crb5FNNvM3M\n",
      "File exists, skipping...\n",
      "Getting post: Crbx_duvC1F\n",
      "File exists, skipping...\n",
      "Getting post: CrbqlDWuAYo\n",
      "File exists, skipping...\n",
      "Getting post: CrbddI0uPpf\n",
      "File exists, skipping...\n",
      "Getting post: CrbWTlfOtZ3\n",
      "File exists, skipping...\n",
      "Getting post: CrbVQjtOK_q\n",
      "File exists, skipping...\n",
      "Getting post: ComnNBeyBji\n",
      "File exists, skipping...\n",
      "Getting post: Cra_L2ppUPR\n",
      "File exists, skipping...\n",
      "Getting post: Cra4zDApjEm\n",
      "File exists, skipping...\n",
      "Getting post: CrarUwAJr3X\n",
      "File exists, skipping...\n",
      "Getting post: CraoJDaJyPm\n",
      "File exists, skipping...\n",
      "Getting post: CraafKNJP4e\n",
      "File exists, skipping...\n",
      "Getting post: Cq9V5bshn2b\n",
      "File exists, skipping...\n",
      "Getting post: CrcpIBcudlZ\n",
      "File exists, skipping...\n",
      "Getting post: CrcoSuNuKnV\n",
      "File exists, skipping...\n",
      "Getting post: Crcl7rVulto\n",
      "File exists, skipping...\n",
      "Getting post: Crclv2-uiZV\n",
      "File exists, skipping...\n",
      "Getting post: CrclFc8urRn\n",
      "File exists, skipping...\n",
      "Getting post: CrcktQGuGzz\n",
      "File exists, skipping...\n",
      "Getting post: CrcgexXuftA\n",
      "File exists, skipping...\n",
      "Getting post: CrcbYfuMPuo\n",
      "File exists, skipping...\n",
      "Getting post: CrcW4i5sQR6\n",
      "File exists, skipping...\n",
      "Getting post: CrczDOgoeSf\n",
      "File exists, skipping...\n",
      "Getting post: CrcebbEtAUI\n",
      "File exists, skipping...\n",
      "Getting post: CrcQsuvNmXj\n",
      "File exists, skipping...\n",
      "Getting post: CrcC97UoJzs\n",
      "File exists, skipping...\n",
      "Getting post: Crb4uaXKTAM\n",
      "File exists, skipping...\n",
      "Getting post: Crb0nIZsPUZ\n",
      "File exists, skipping...\n",
      "Getting post: CrbuSSZMLpy\n",
      "File exists, skipping...\n",
      "Getting post: CrbZNjioHbB\n",
      "File exists, skipping...\n",
      "Getting post: CrbMR5QobjD\n",
      "File exists, skipping...\n",
      "Getting post: CqLgFJQOsjB\n",
      "File exists, skipping...\n",
      "Getting post: CqQzQjVuWQ5\n",
      "File exists, skipping...\n",
      "Getting post: CrdF0ktO3Gd\n",
      "File exists, skipping...\n",
      "Getting post: CrdFTDDu6CW\n",
      "File exists, skipping...\n",
      "Getting post: CrdEw9LOJJb\n",
      "File exists, skipping...\n",
      "Getting post: CrdEVVjOEcR\n",
      "File exists, skipping...\n",
      "Getting post: CrdDhOTu_2u\n",
      "File exists, skipping...\n",
      "Getting post: CrbQNwFgZ71\n",
      "File exists, skipping...\n",
      "Getting post: CrbOcaZL8HG\n",
      "File exists, skipping...\n",
      "Getting post: CrbEqu7g_Mb\n",
      "File exists, skipping...\n",
      "Getting post: CrcYzPbv0AC\n",
      "File exists, skipping...\n",
      "Getting post: CrcrdrZO-TN\n",
      "File exists, skipping...\n",
      "Getting post: CrcouSZOpQL\n",
      "File exists, skipping...\n",
      "Getting post: CrcnD7fOHso\n",
      "File exists, skipping...\n",
      "Getting post: Crclxw5Od39\n",
      "File exists, skipping...\n",
      "Getting post: CrcSU3koY1Z\n",
      "File exists, skipping...\n",
      "Getting post: CrcSKF5LEjH\n",
      "File exists, skipping...\n",
      "Getting post: CrcMFF2opSn\n",
      "File exists, skipping...\n",
      "Getting post: Crbx2cnpVte\n",
      "File exists, skipping...\n",
      "Getting post: Crbr-p8SZQU\n",
      "File exists, skipping...\n",
      "Getting post: Crbt_WLpgqF\n",
      "File exists, skipping...\n",
      "Getting post: CrbsfXQJaZf\n",
      "File exists, skipping...\n",
      "Getting post: Crcfbp8MwUC\n",
      "File exists, skipping...\n",
      "Getting post: CrcYpAJNxQ3\n",
      "File exists, skipping...\n",
      "Getting post: CrcNDQ9rcco\n",
      "File exists, skipping...\n",
      "Getting post: Crb6mofruSg\n",
      "File exists, skipping...\n",
      "Getting post: Crb5cLIrClJ\n",
      "File exists, skipping...\n",
      "Getting post: Crb3dkDLTWm\n",
      "File exists, skipping...\n",
      "Getting post: CrbuZfHJcqN\n",
      "File exists, skipping...\n",
      "Getting post: CrbnOwTOgXH\n",
      "File exists, skipping...\n",
      "Getting post: CrbjG9hpunY\n",
      "File exists, skipping...\n",
      "Getting post: CrdF8tJrBph\n",
      "File exists, skipping...\n",
      "Getting post: Crc5jFprQz8\n",
      "File exists, skipping...\n",
      "Getting post: CrctjQ4L3eQ\n",
      "File exists, skipping...\n",
      "Getting post: CrciKOQLYwA\n",
      "File exists, skipping...\n",
      "Getting post: CrcebmEJMJV\n",
      "File exists, skipping...\n",
      "Getting post: CrcUIYTJplG\n",
      "File exists, skipping...\n",
      "Getting post: CrcJd_wB9L3\n",
      "File exists, skipping...\n",
      "Getting post: CrdAxsrOc7B\n",
      "File exists, skipping...\n",
      "Getting post: Crc56Zdg0M3\n",
      "File exists, skipping...\n",
      "Getting post: CrczC66N8ki\n",
      "File exists, skipping...\n",
      "Getting post: CrcsK89NCpa\n"
     ]
    },
    {
     "name": "stderr",
     "output_type": "stream",
     "text": [
      "911it [00:10, 65.84it/s]"
     ]
    },
    {
     "name": "stdout",
     "output_type": "stream",
     "text": [
      "Post Don't exist, Skipping...\n",
      "Getting post: CrclTpkt4W9\n",
      "File exists, skipping...\n",
      "Getting post: Crcei9eNoyt\n",
      "File exists, skipping...\n",
      "Getting post: CrcXlH_oMgD\n",
      "File exists, skipping...\n",
      "Getting post: CrcQtrKIK2Y\n",
      "File exists, skipping...\n",
      "Getting post: CrcLhyFIQTA\n",
      "File exists, skipping...\n",
      "Getting post: CrcFDrvpNIw\n",
      "File exists, skipping...\n",
      "Getting post: Crb8vHjMuZT\n",
      "File exists, skipping...\n",
      "Getting post: Crb0x9DI4b0\n",
      "File exists, skipping...\n",
      "Getting post: Crbch0vot-m\n",
      "File exists, skipping...\n",
      "Getting post: CrbcgNzoKMd\n",
      "File exists, skipping...\n",
      "Getting post: CrbPW6do8rJ\n",
      "File exists, skipping...\n",
      "Getting post: CrbO_STI-fJ\n",
      "File exists, skipping...\n",
      "Getting post: CrbO6lgIJk-\n",
      "File exists, skipping...\n",
      "Getting post: CrbO4YFIwpR\n",
      "File exists, skipping...\n",
      "Getting post: CrbO2sHIf_S\n",
      "File exists, skipping...\n",
      "Getting post: CrbO1C2o5qI\n",
      "File exists, skipping...\n",
      "Getting post: CrbGzDroDjO\n",
      "File exists, skipping...\n",
      "Getting post: CrbCCHAIhLa\n",
      "File exists, skipping...\n",
      "Getting post: Crc_0Hhobkk\n",
      "File exists, skipping...\n",
      "Getting post: Crc891NIqog\n",
      "File exists, skipping...\n",
      "Getting post: Crb3LN4ImbW\n",
      "File exists, skipping...\n",
      "Getting post: Crb2GbrJbSM\n",
      "File exists, skipping...\n",
      "Getting post: Crbrc4hvWGC\n",
      "File exists, skipping...\n",
      "Getting post: CrcSJeFP1mH\n",
      "File exists, skipping...\n",
      "Getting post: CrcSHXVPrpv\n",
      "File exists, skipping...\n",
      "Getting post: CrcSDtxP0kv\n",
      "File exists, skipping...\n",
      "Getting post: Crc6j8_POp5\n",
      "File exists, skipping...\n",
      "Getting post: CrcTw0DJcWr\n",
      "File exists, skipping...\n",
      "Getting post: CrcD6I2vuwm\n",
      "File exists, skipping...\n",
      "Getting post: Cra4-nHLvpT\n",
      "File exists, skipping...\n",
      "Getting post: Cra4D_syuOz\n",
      "File exists, skipping...\n",
      "Getting post: CraYixIpjx1\n",
      "File exists, skipping...\n",
      "Getting post: Cra4ROQLOdY\n",
      "File exists, skipping...\n",
      "Getting post: Cra2Z70rKui\n",
      "File exists, skipping...\n",
      "Getting post: Cra1UTjLS62\n",
      "File exists, skipping...\n",
      "Getting post: Crb8V4QvYG8\n",
      "File exists, skipping...\n",
      "Getting post: Crb6aRpPIyM\n",
      "File exists, skipping...\n",
      "Getting post: Crb45zRvHoP\n",
      "File exists, skipping...\n",
      "Getting post: Crb3BNHvhhT\n",
      "File exists, skipping...\n",
      "Getting post: CrbijZvv3vm\n",
      "File exists, skipping...\n",
      "Getting post: CrbbYwFPC_i\n",
      "File exists, skipping...\n",
      "Getting post: CrbTPjAJTfn\n",
      "File exists, skipping...\n",
      "Getting post: CrbMarUriKY\n",
      "File exists, skipping...\n",
      "Getting post: Crcd7oNsmQ4\n",
      "File exists, skipping...\n",
      "Getting post: CrdEeeHIuqB\n",
      "File exists, skipping...\n",
      "Getting post: Crcvm7gNKL_\n",
      "File exists, skipping...\n",
      "Getting post: CrcslX1NtIq\n",
      "File exists, skipping...\n",
      "Getting post: CrcovoItNmA\n",
      "File exists, skipping...\n",
      "Getting post: Crch3qJtodB\n",
      "File exists, skipping...\n",
      "Getting post: CrcbAfRopCZ\n",
      "File exists, skipping...\n",
      "Getting post: CrbWQ_vJlU9\n",
      "File exists, skipping...\n",
      "Getting post: CrbMSayvgyt\n",
      "File exists, skipping...\n",
      "Getting post: Crc4eMOrO0A\n",
      "File exists, skipping...\n",
      "Getting post: Crc4a8jr2rX\n",
      "File exists, skipping...\n",
      "Getting post: Crc4XeQL_iA\n",
      "File exists, skipping...\n",
      "Getting post: Crc4S-jrJMF\n",
      "File exists, skipping...\n",
      "Getting post: Crb3f8nP-PE\n",
      "File exists, skipping...\n",
      "Getting post: CrbGvAtLyrq\n",
      "File exists, skipping...\n",
      "Getting post: CrbAXvrrvb6\n",
      "File exists, skipping...\n",
      "Getting post: CraXloAuONX\n",
      "File exists, skipping...\n",
      "Getting post: CrZVF0kvixB\n",
      "File exists, skipping...\n",
      "Getting post: CrZEtUAS1Ro\n",
      "File exists, skipping...\n",
      "Getting post: CrYTDLIrSSH\n",
      "File exists, skipping...\n",
      "Getting post: CrXxVN-u9yU\n",
      "File exists, skipping...\n",
      "Getting post: CrXxAcwOXq1\n",
      "File exists, skipping...\n",
      "Getting post: CrXnFBZuh18\n",
      "File exists, skipping...\n",
      "Getting post: CrWv2Z4vetQ\n",
      "File exists, skipping...\n",
      "Getting post: CmUYPgzp7v_\n",
      "File exists, skipping...\n",
      "Getting post: CrcrrFZuBRS\n",
      "File exists, skipping...\n",
      "Getting post: CrcrdrZO-TN\n",
      "File exists, skipping...\n",
      "Getting post: Crcp3olgr56\n",
      "File exists, skipping...\n",
      "Getting post: CrcouSZOpQL\n",
      "File exists, skipping...\n",
      "Getting post: CrcnD7fOHso\n",
      "File exists, skipping...\n",
      "Getting post: Crclxw5Od39\n",
      "File exists, skipping...\n",
      "Getting post: CrclwufsEER\n",
      "File exists, skipping...\n",
      "Getting post: CrcWzTBrqqW\n",
      "File exists, skipping...\n",
      "Getting post: CrcU_H-MFZE\n"
     ]
    },
    {
     "name": "stderr",
     "output_type": "stream",
     "text": [
      "1246it [00:11, 108.72it/s]"
     ]
    },
    {
     "name": "stdout",
     "output_type": "stream",
     "text": [
      "Post Don't exist, Skipping...\n",
      "Getting post: CrcfW0pr1XC\n",
      "File exists, skipping...\n",
      "Getting post: CrZ66yQr9ib\n",
      "File exists, skipping...\n",
      "Getting post: CrYlClKhFRS\n",
      "File exists, skipping...\n",
      "Getting post: CrYjhdgh2Zy\n",
      "File exists, skipping...\n",
      "Getting post: CrX8pvbhJgP\n",
      "File exists, skipping...\n",
      "Getting post: CrXfo93rb3S\n",
      "File exists, skipping...\n",
      "Getting post: CrXOAM8hvcu\n",
      "File exists, skipping...\n",
      "Getting post: CrclV94s-_J\n",
      "File exists, skipping...\n",
      "Getting post: Crb8TGBrs6W\n",
      "File exists, skipping...\n",
      "Getting post: CrbjToVv18m\n",
      "File exists, skipping...\n",
      "Getting post: CrZwRBorSpZ\n",
      "File exists, skipping...\n",
      "Getting post: CqnrrskJRKA\n",
      "File exists, skipping...\n",
      "Getting post: CqL8q5Ur9Zd\n",
      "File exists, skipping...\n",
      "Getting post: CqJZUlmLIQT\n",
      "File exists, skipping...\n",
      "Getting post: CrdEDDjuOR5\n",
      "File exists, skipping...\n",
      "Getting post: CrcXFGeLQFs\n",
      "File exists, skipping...\n",
      "Getting post: CrcW4nHMOZS\n",
      "File exists, skipping...\n",
      "Getting post: CrcWRpdrmIO\n",
      "File exists, skipping...\n",
      "Getting post: CrcOh_CLs0x\n",
      "File exists, skipping...\n",
      "Getting post: CrcLgTgpAx7\n",
      "File exists, skipping...\n",
      "Getting post: CrcItZ6pK32\n",
      "File exists, skipping...\n",
      "Getting post: CrcyJehPL_A\n",
      "File exists, skipping...\n",
      "Getting post: CrcwDmUgbR_\n",
      "File exists, skipping...\n",
      "Getting post: CrcthsYtOm7\n",
      "File exists, skipping...\n",
      "Getting post: CrcrAQZMKNN\n",
      "File exists, skipping...\n",
      "Getting post: CrclS_EgShq\n",
      "File exists, skipping...\n",
      "Getting post: Crc5_UkMFcR\n",
      "File exists, skipping...\n",
      "Getting post: CrdGAlNts7N\n",
      "File exists, skipping...\n",
      "Getting post: CrdESabtkC5\n",
      "File exists, skipping...\n",
      "Getting post: Crc2kT2t-eR\n",
      "File exists, skipping...\n",
      "Getting post: CrcrOyCtoPx\n",
      "File exists, skipping...\n",
      "Getting post: Crcro7rMV4e\n",
      "File exists, skipping...\n",
      "Getting post: CrcmzbOMEcU\n",
      "File exists, skipping...\n",
      "Getting post: CrbUni3v5mo\n",
      "File exists, skipping...\n",
      "Getting post: CrbMagIBTPl\n",
      "File exists, skipping...\n",
      "Getting post: CrDERAXg2aB\n",
      "File exists, skipping...\n",
      "Getting post: CrciHnKOiQy\n",
      "File exists, skipping...\n",
      "Getting post: CrcWnBsuGrh\n",
      "File exists, skipping...\n",
      "Getting post: CrcRKZ4L9I_\n",
      "File exists, skipping...\n",
      "Getting post: CrcLgjfJsZA\n",
      "File exists, skipping...\n",
      "Getting post: CrcHqIOLJaW\n",
      "File exists, skipping...\n",
      "Getting post: CrcAwkZLcwe\n",
      "File exists, skipping...\n",
      "Getting post: CrcAfieP0Nz\n",
      "File exists, skipping...\n",
      "Getting post: Crb26NMveGI\n",
      "File exists, skipping...\n",
      "Getting post: CrdHX8AvWYm\n",
      "File exists, skipping...\n",
      "Getting post: CrdFVo2PRU-\n",
      "File exists, skipping...\n",
      "Getting post: CrdEILXPMJC\n",
      "File exists, skipping...\n",
      "Getting post: CrcdCjdv_cC\n",
      "File exists, skipping...\n",
      "Getting post: CrcQvTivgiy\n",
      "File exists, skipping...\n",
      "Getting post: Crc-jWCKe67\n",
      "File exists, skipping...\n",
      "Getting post: Crc7q0hKYHG\n",
      "File exists, skipping...\n",
      "Getting post: Crc5MhMKzLR\n",
      "File exists, skipping...\n",
      "Getting post: Crc09lxKpXm\n",
      "File exists, skipping...\n",
      "Getting post: CrcwGXCq0DY\n",
      "File exists, skipping...\n",
      "Getting post: Crct6LIqnBB\n",
      "File exists, skipping...\n",
      "Getting post: CrchQreq04D\n",
      "File exists, skipping...\n",
      "Getting post: CrcfP-BK0fS\n",
      "File exists, skipping...\n",
      "Getting post: Crcckr7Ksxq\n",
      "File exists, skipping...\n",
      "Getting post: CrcYwdtqPg_\n",
      "File exists, skipping...\n",
      "Getting post: CfBI-qolzz8\n",
      "File exists, skipping...\n",
      "Getting post: CnYhA_CPTZ_\n",
      "File exists, skipping...\n",
      "Getting post: CnYaMGRpQ7o\n",
      "File exists, skipping...\n",
      "Getting post: CnYMgNSL4uf\n",
      "File exists, skipping...\n",
      "Getting post: CnX-r5sroT5\n",
      "File exists, skipping...\n",
      "Getting post: CnXxCBPoqfW\n",
      "File exists, skipping...\n",
      "Getting post: CnXjO4sLqDm\n",
      "File exists, skipping...\n",
      "Getting post: CnXf2ZvIPe8\n",
      "File exists, skipping...\n",
      "Getting post: CnXcXLIILC7\n",
      "File exists, skipping...\n",
      "Getting post: CnXZAVxrC0u\n",
      "File exists, skipping...\n",
      "Getting post: CnXSIlnLm6i\n",
      "File exists, skipping...\n",
      "Getting post: CnXLMvarKmT\n",
      "File exists, skipping...\n",
      "Getting post: CpIbF1VuPSt\n",
      "File exists, skipping...\n",
      "Getting post: CoAHaLzPpkX\n",
      "File exists, skipping...\n",
      "Getting post: Ck5lW6ADMry\n",
      "File exists, skipping...\n",
      "Getting post: Crc8arJs_r1\n",
      "File exists, skipping...\n",
      "Getting post: Crcr4HRsk13\n",
      "File exists, skipping...\n",
      "Getting post: CrcC_Z9sTmQ\n",
      "File exists, skipping...\n",
      "Getting post: CrcWjbWsb7A\n",
      "File exists, skipping...\n",
      "Getting post: CrcUYEKscH5\n",
      "File exists, skipping...\n",
      "Getting post: CrcO3uQMhBh\n",
      "File exists, skipping...\n",
      "Getting post: CrcJKWgMpsZ\n",
      "File exists, skipping...\n",
      "Getting post: CrcI8uTsOli\n",
      "File exists, skipping...\n",
      "Getting post: CrcAB3ysDYb\n",
      "File exists, skipping...\n",
      "Getting post: CrbpLpWJo_v\n",
      "File exists, skipping...\n",
      "Getting post: CrbLIYqrymx\n",
      "File exists, skipping...\n",
      "Getting post: CrbJ2f6LRcv\n",
      "File exists, skipping...\n",
      "Getting post: CrdEFvoPAn0\n",
      "File exists, skipping...\n",
      "Getting post: Crc9U5dvxss\n",
      "File exists, skipping...\n",
      "Getting post: Crc4HUhviHt\n",
      "File exists, skipping...\n",
      "Getting post: Crc2dktvPfP\n",
      "File exists, skipping...\n",
      "Getting post: CrcovA7PLbs\n",
      "File exists, skipping...\n",
      "Getting post: Crch3E4Pwzm\n",
      "File exists, skipping...\n",
      "Getting post: CrcaGdivU9M\n",
      "File exists, skipping...\n",
      "Getting post: CrcUIhXvlz4\n",
      "File exists, skipping...\n",
      "Getting post: CrcIUUJpyFv\n",
      "File exists, skipping...\n",
      "Getting post: CrboXoqL8iC\n",
      "File exists, skipping...\n",
      "Getting post: Crbkj0Fr2mi\n",
      "File exists, skipping...\n",
      "Getting post: CrbkPb_LUWG\n",
      "File exists, skipping...\n",
      "Getting post: CrbkEIirRnW\n",
      "File exists, skipping...\n",
      "Getting post: CrbhSmKrq6I\n",
      "File exists, skipping...\n",
      "Getting post: Crbc4J0rw1D\n",
      "File exists, skipping...\n",
      "Getting post: CrbX5jxr2Mx\n",
      "File exists, skipping...\n",
      "Getting post: CrbP4jWIWwW\n",
      "File exists, skipping...\n",
      "Getting post: CrbOmPXIXmT\n",
      "File exists, skipping...\n",
      "Getting post: CrbOAIeIj8s\n",
      "File exists, skipping...\n",
      "Getting post: CrcKNtHJbRA\n",
      "File exists, skipping...\n",
      "Getting post: CrcB_wdpbCZ\n",
      "File exists, skipping...\n",
      "Getting post: Crbul_8ulS0\n",
      "File exists, skipping...\n",
      "Getting post: Crbn2RdOiDz\n",
      "File exists, skipping...\n",
      "Getting post: Crbhx4rvbX_\n",
      "File exists, skipping...\n",
      "Getting post: Crbar0ZPoZg\n",
      "File exists, skipping...\n",
      "Getting post: CrbNTBxOhgm\n",
      "File exists, skipping...\n",
      "Getting post: CrbGqD6Od7V\n",
      "File exists, skipping...\n",
      "Getting post: CrY5pJ2rMzD\n",
      "File exists, skipping...\n",
      "Getting post: CrYeq3utMx5\n",
      "File exists, skipping...\n",
      "Getting post: CrVGo1mAyI-\n",
      "File exists, skipping...\n",
      "Getting post: CrQZcFitGHG\n",
      "File exists, skipping...\n",
      "Getting post: CrOFTsrN9-T\n",
      "File exists, skipping...\n",
      "Getting post: Cq6dI9ZNyey\n",
      "File exists, skipping...\n",
      "Getting post: CrMb8n7p0r9\n",
      "File exists, skipping...\n",
      "Getting post: CrcBj1gMcYs\n",
      "File exists, skipping...\n",
      "Getting post: CrbsZp0OWrz\n",
      "File exists, skipping...\n",
      "Getting post: CrbR3-nuiaf\n",
      "File exists, skipping...\n",
      "Getting post: Cra9H_4MgIc\n",
      "File exists, skipping...\n",
      "Getting post: CrawrdCuUl7\n",
      "File exists, skipping...\n",
      "Getting post: CrYoQqGrZro\n",
      "File exists, skipping...\n",
      "Getting post: CrYgAc0ufKM\n",
      "File exists, skipping...\n",
      "Getting post: CrYSvnmrfQN\n",
      "File exists, skipping...\n",
      "Getting post: CrbXUr0NAZ_\n",
      "File exists, skipping...\n",
      "Getting post: CrbEXqxN-wR\n",
      "File exists, skipping...\n",
      "Getting post: CrdMHo2JnbC\n",
      "File exists, skipping...\n",
      "Getting post: CrdL8GAp6wZ\n",
      "File exists, skipping...\n",
      "Getting post: CrdL1Lrpp-b\n",
      "File exists, skipping...\n",
      "Getting post: CrdLvxOJDQY\n",
      "File exists, skipping...\n",
      "Getting post: CrdLa3UJ9O7\n",
      "File exists, skipping...\n",
      "Getting post: CrdHQnMJQsb\n",
      "File exists, skipping...\n",
      "Getting post: CrdDPx7Ijas\n",
      "File exists, skipping...\n",
      "Getting post: CrdBkWxobVS\n",
      "File exists, skipping...\n",
      "Getting post: CrdBedJIFNC\n",
      "File exists, skipping...\n",
      "Getting post: CrdBY8Yo3Zv\n",
      "File exists, skipping...\n",
      "Getting post: Crc5owcNQ9_\n",
      "File exists, skipping...\n",
      "Getting post: CrdCUZmoDH9\n",
      "File exists, skipping...\n",
      "Getting post: CrbgLf5IFi_\n",
      "File exists, skipping...\n",
      "Getting post: CracHrnokOk\n",
      "File exists, skipping...\n",
      "Getting post: CrY45wsIccg\n",
      "File exists, skipping...\n",
      "Getting post: CrYIoU_o_qy\n",
      "File exists, skipping...\n",
      "Getting post: CrX0Q5QoSoo\n",
      "File exists, skipping...\n",
      "Getting post: CrWV352Ie6K\n",
      "File exists, skipping...\n",
      "Getting post: CrbAEMvurse\n",
      "File exists, skipping...\n",
      "Getting post: CrOWJTBuCSb\n",
      "File exists, skipping...\n",
      "Getting post: CrOP_-BufyF\n",
      "File exists, skipping...\n",
      "Getting post: CrcKP-EunfQ\n",
      "File exists, skipping...\n",
      "Getting post: CrcHOWCOSr8\n",
      "File exists, skipping...\n",
      "Getting post: CrcDXCLOIu0\n",
      "File exists, skipping...\n",
      "Getting post: CrcBa3rOO3g\n",
      "File exists, skipping...\n",
      "Getting post: Crb2q8euCvW\n",
      "File exists, skipping...\n",
      "Getting post: Crb1hIIOueg\n",
      "File exists, skipping...\n",
      "Getting post: Crbz3SXORiY\n",
      "File exists, skipping...\n",
      "Getting post: Crc7oaoNFiT\n",
      "File exists, skipping...\n",
      "Getting post: Cra0CT3sLHp\n",
      "File exists, skipping...\n",
      "Getting post: CramSSbRST8\n",
      "File exists, skipping...\n",
      "Getting post: CrYL1mNsZH-\n",
      "File exists, skipping...\n",
      "Getting post: CrV03gQMHvy\n",
      "File exists, skipping...\n",
      "Getting post: CrVlfAAKgTx\n",
      "File exists, skipping...\n",
      "Getting post: CrdC_gyOz_Z\n",
      "File exists, skipping...\n",
      "Getting post: CrbnlDdOkxN\n",
      "File exists, skipping...\n",
      "Getting post: CrbWa5gMX6S\n",
      "File exists, skipping...\n",
      "Getting post: CrbIpm3S1ZO\n",
      "File exists, skipping...\n",
      "Getting post: Cra0DPKNp_w\n",
      "File exists, skipping...\n",
      "Getting post: CrajvMtvqOf\n",
      "File exists, skipping...\n",
      "Getting post: CrbIn09PGz_\n",
      "File exists, skipping...\n",
      "Getting post: CrXDlpttUDc\n",
      "File exists, skipping...\n",
      "Getting post: CrbcTzOuNXs\n",
      "File exists, skipping...\n",
      "Getting post: CrbJbRruyTW\n",
      "File exists, skipping...\n",
      "Getting post: Cra7ZQPg6iT\n",
      "File exists, skipping...\n",
      "Getting post: CrYpOnIuYdn\n",
      "File exists, skipping...\n",
      "Getting post: CrYlpX1ux1A\n",
      "File exists, skipping...\n",
      "Getting post: CrYfG0CuU9O\n",
      "File exists, skipping...\n",
      "Getting post: CrYa8l2AT5g\n",
      "File exists, skipping...\n",
      "Getting post: CogeoWdrK2o\n",
      "File exists, skipping...\n",
      "Getting post: CrcElDFvAZt\n",
      "File exists, skipping...\n",
      "Getting post: CrYyOcDuiOM\n",
      "File exists, skipping...\n",
      "Getting post: CrVvamCuU13\n",
      "File exists, skipping...\n",
      "Getting post: CrTvgCvJmTQ\n",
      "File exists, skipping...\n",
      "Getting post: CrTWMCFO5bw\n",
      "File exists, skipping...\n",
      "Getting post: CrQ79JHuyTq\n",
      "File exists, skipping...\n",
      "Getting post: CrPpP6gOgjv\n",
      "File exists, skipping...\n",
      "Getting post: CrPHsUIJPf_\n",
      "File exists, skipping...\n",
      "Getting post: CrPDZQ-Pj-C\n",
      "File exists, skipping...\n",
      "Getting post: Crc6BTIMZ7a\n",
      "File exists, skipping...\n",
      "Getting post: CrcrSBph3gl\n",
      "File exists, skipping...\n",
      "Getting post: CrcdwbWSBvf\n",
      "File exists, skipping...\n",
      "Getting post: CrbE_qQqK0n\n",
      "File exists, skipping...\n",
      "Getting post: Cra0HaJI-ep\n",
      "File exists, skipping...\n",
      "Getting post: CramS8XP6En\n",
      "File exists, skipping...\n",
      "Getting post: Crc98IhJtQ6\n",
      "File exists, skipping...\n",
      "Getting post: Crc96RlorPI\n",
      "File exists, skipping...\n",
      "Getting post: Crc93nIM8Nx\n",
      "File exists, skipping...\n",
      "Getting post: Crc9zoEvbS1\n",
      "File exists, skipping...\n",
      "Getting post: Crc9xiCovtg\n",
      "File exists, skipping...\n",
      "Getting post: Crc9twDtLZu\n",
      "File exists, skipping...\n",
      "Getting post: Crc9kh5Iuzl\n",
      "File exists, skipping...\n",
      "Getting post: Cra89l1ski0\n",
      "File exists, skipping...\n",
      "Getting post: CraucqEsjJ5\n",
      "File exists, skipping...\n",
      "Getting post: CrWfKgPs69Q\n",
      "File exists, skipping...\n",
      "Getting post: CrV-r37MeBI\n",
      "File exists, skipping...\n",
      "Getting post: CrUFy7csJba\n",
      "File exists, skipping...\n",
      "Getting post: CrTIjKkoLTY\n",
      "File exists, skipping...\n",
      "Getting post: CrIvblhMq7A\n",
      "File exists, skipping...\n",
      "Getting post: CqikSFJtrU7\n",
      "File exists, skipping...\n",
      "Getting post: CqtRoagvpTB\n",
      "File exists, skipping...\n",
      "Getting post: CrdKikSNX36\n",
      "File exists, skipping...\n",
      "Getting post: CrdJpprtNNR\n",
      "File exists, skipping...\n",
      "Getting post: CrdIQSwtiku\n",
      "File exists, skipping...\n",
      "Getting post: CrdCDIYNjPG\n",
      "File exists, skipping...\n",
      "Getting post: CrdBmSKt_G0\n",
      "File exists, skipping...\n",
      "Getting post: Crc7rZoPKYn\n",
      "File exists, skipping...\n",
      "Getting post: Crc2Xzqt3UP\n",
      "File exists, skipping...\n",
      "Getting post: Crc0-eiPsEP\n",
      "File exists, skipping...\n",
      "Getting post: CrZeP32Ncoq\n",
      "File exists, skipping...\n",
      "Getting post: CrZOHoKrwLi\n",
      "File exists, skipping...\n",
      "Getting post: CrZNFm-J0UV\n",
      "File exists, skipping...\n",
      "Getting post: CrZL1rIuylA\n",
      "File exists, skipping...\n",
      "Getting post: CrZJkMVOKSR\n",
      "File exists, skipping...\n",
      "Getting post: CrZDM8Pus6X\n",
      "File exists, skipping...\n",
      "Getting post: CrY_YDOpNPJ\n",
      "File exists, skipping...\n",
      "Getting post: CrX5Y8ptHhv\n",
      "File exists, skipping...\n",
      "Getting post: CrWYHLENNN_\n",
      "File exists, skipping...\n",
      "Getting post: CrVrcNuNJvh\n",
      "File exists, skipping...\n",
      "Getting post: CrUPfT0vb1d\n",
      "File exists, skipping...\n",
      "Getting post: CrUI81VtKMQ\n",
      "File exists, skipping...\n",
      "Getting post: CrcQlkAN6Tf\n",
      "File exists, skipping...\n",
      "Getting post: CrcC_bnvKfr\n",
      "File exists, skipping...\n",
      "Getting post: Crb7FqWPuPe\n",
      "File exists, skipping...\n",
      "Getting post: Crb2PYQvuyQ\n",
      "File exists, skipping...\n",
      "Getting post: CrbuTEHPHHB\n",
      "File exists, skipping...\n",
      "Getting post: CrbgwUFPhck\n",
      "File exists, skipping...\n",
      "Getting post: CrbZd-tPfds\n",
      "File exists, skipping...\n",
      "Getting post: CrbTTchuF31\n",
      "File exists, skipping...\n",
      "Getting post: CrbQJ1Ju5wX\n",
      "File exists, skipping...\n",
      "Getting post: CrbIXZIOgOm\n",
      "File exists, skipping...\n",
      "Getting post: Crcz1rwS6RK\n",
      "File exists, skipping...\n",
      "Getting post: CrcsQrjy73p\n",
      "File exists, skipping...\n",
      "Getting post: Crcmoe8y1E1\n",
      "File exists, skipping...\n",
      "Getting post: CrbOCXrysfR\n",
      "File exists, skipping...\n",
      "Getting post: CrbHmBTyqzL\n",
      "File exists, skipping...\n",
      "Getting post: CraVYo5Sm-P\n",
      "File exists, skipping...\n",
      "Getting post: CraGgO3y1Ls\n",
      "File exists, skipping...\n",
      "Getting post: CrZ_G9NSuBv\n",
      "File exists, skipping...\n",
      "Getting post: CrZ1VBUSS3L\n",
      "File exists, skipping...\n",
      "Getting post: CrXco3NSNtR\n",
      "File exists, skipping...\n",
      "Getting post: Cq8KJhSv77P\n",
      "File exists, skipping...\n",
      "Getting post: Cq5dIFav04b\n",
      "File exists, skipping...\n",
      "Getting post: Crc6HIGPsAl\n",
      "File exists, skipping...\n",
      "Getting post: CraBNxqPAfk\n",
      "File exists, skipping...\n",
      "Getting post: CrTDLymvTb5\n",
      "File exists, skipping...\n",
      "Getting post: CrSGcipv_sb\n",
      "File exists, skipping...\n",
      "Getting post: CrMhAlDvEnw\n",
      "File exists, skipping...\n"
     ]
    },
    {
     "name": "stderr",
     "output_type": "stream",
     "text": [
      "\n"
=======
      "206it [23:02,  6.71s/it]\n"
     ]
    },
    {
     "ename": "JSONDecodeError",
     "evalue": "Expecting value: line 1 column 1 (char 0)",
     "output_type": "error",
     "traceback": [
      "\u001b[1;31m---------------------------------------------------------------------------\u001b[0m",
      "\u001b[1;31mJSONDecodeError\u001b[0m                           Traceback (most recent call last)",
      "File \u001b[1;32mc:\\Users\\Mr-Khosravian\\miniconda3\\lib\\site-packages\\requests\\models.py:971\u001b[0m, in \u001b[0;36mResponse.json\u001b[1;34m(self, **kwargs)\u001b[0m\n\u001b[0;32m    970\u001b[0m \u001b[39mtry\u001b[39;00m:\n\u001b[1;32m--> 971\u001b[0m     \u001b[39mreturn\u001b[39;00m complexjson\u001b[39m.\u001b[39mloads(\u001b[39mself\u001b[39m\u001b[39m.\u001b[39mtext, \u001b[39m*\u001b[39m\u001b[39m*\u001b[39mkwargs)\n\u001b[0;32m    972\u001b[0m \u001b[39mexcept\u001b[39;00m JSONDecodeError \u001b[39mas\u001b[39;00m e:\n\u001b[0;32m    973\u001b[0m     \u001b[39m# Catch JSON-related errors and raise as requests.JSONDecodeError\u001b[39;00m\n\u001b[0;32m    974\u001b[0m     \u001b[39m# This aliases json.JSONDecodeError and simplejson.JSONDecodeError\u001b[39;00m\n",
      "File \u001b[1;32mc:\\Users\\Mr-Khosravian\\miniconda3\\lib\\json\\__init__.py:346\u001b[0m, in \u001b[0;36mloads\u001b[1;34m(s, cls, object_hook, parse_float, parse_int, parse_constant, object_pairs_hook, **kw)\u001b[0m\n\u001b[0;32m    343\u001b[0m \u001b[39mif\u001b[39;00m (\u001b[39mcls\u001b[39m \u001b[39mis\u001b[39;00m \u001b[39mNone\u001b[39;00m \u001b[39mand\u001b[39;00m object_hook \u001b[39mis\u001b[39;00m \u001b[39mNone\u001b[39;00m \u001b[39mand\u001b[39;00m\n\u001b[0;32m    344\u001b[0m         parse_int \u001b[39mis\u001b[39;00m \u001b[39mNone\u001b[39;00m \u001b[39mand\u001b[39;00m parse_float \u001b[39mis\u001b[39;00m \u001b[39mNone\u001b[39;00m \u001b[39mand\u001b[39;00m\n\u001b[0;32m    345\u001b[0m         parse_constant \u001b[39mis\u001b[39;00m \u001b[39mNone\u001b[39;00m \u001b[39mand\u001b[39;00m object_pairs_hook \u001b[39mis\u001b[39;00m \u001b[39mNone\u001b[39;00m \u001b[39mand\u001b[39;00m \u001b[39mnot\u001b[39;00m kw):\n\u001b[1;32m--> 346\u001b[0m     \u001b[39mreturn\u001b[39;00m _default_decoder\u001b[39m.\u001b[39;49mdecode(s)\n\u001b[0;32m    347\u001b[0m \u001b[39mif\u001b[39;00m \u001b[39mcls\u001b[39m \u001b[39mis\u001b[39;00m \u001b[39mNone\u001b[39;00m:\n",
      "File \u001b[1;32mc:\\Users\\Mr-Khosravian\\miniconda3\\lib\\json\\decoder.py:337\u001b[0m, in \u001b[0;36mJSONDecoder.decode\u001b[1;34m(self, s, _w)\u001b[0m\n\u001b[0;32m    333\u001b[0m \u001b[39m\"\"\"Return the Python representation of ``s`` (a ``str`` instance\u001b[39;00m\n\u001b[0;32m    334\u001b[0m \u001b[39mcontaining a JSON document).\u001b[39;00m\n\u001b[0;32m    335\u001b[0m \n\u001b[0;32m    336\u001b[0m \u001b[39m\"\"\"\u001b[39;00m\n\u001b[1;32m--> 337\u001b[0m obj, end \u001b[39m=\u001b[39m \u001b[39mself\u001b[39;49m\u001b[39m.\u001b[39;49mraw_decode(s, idx\u001b[39m=\u001b[39;49m_w(s, \u001b[39m0\u001b[39;49m)\u001b[39m.\u001b[39;49mend())\n\u001b[0;32m    338\u001b[0m end \u001b[39m=\u001b[39m _w(s, end)\u001b[39m.\u001b[39mend()\n",
      "File \u001b[1;32mc:\\Users\\Mr-Khosravian\\miniconda3\\lib\\json\\decoder.py:355\u001b[0m, in \u001b[0;36mJSONDecoder.raw_decode\u001b[1;34m(self, s, idx)\u001b[0m\n\u001b[0;32m    354\u001b[0m \u001b[39mexcept\u001b[39;00m \u001b[39mStopIteration\u001b[39;00m \u001b[39mas\u001b[39;00m err:\n\u001b[1;32m--> 355\u001b[0m     \u001b[39mraise\u001b[39;00m JSONDecodeError(\u001b[39m\"\u001b[39m\u001b[39mExpecting value\u001b[39m\u001b[39m\"\u001b[39m, s, err\u001b[39m.\u001b[39mvalue) \u001b[39mfrom\u001b[39;00m \u001b[39mNone\u001b[39m\n\u001b[0;32m    356\u001b[0m \u001b[39mreturn\u001b[39;00m obj, end\n",
      "\u001b[1;31mJSONDecodeError\u001b[0m: Expecting value: line 1 column 1 (char 0)",
      "\nDuring handling of the above exception, another exception occurred:\n",
      "\u001b[1;31mJSONDecodeError\u001b[0m                           Traceback (most recent call last)",
      "Cell \u001b[1;32mIn[13], line 51\u001b[0m\n\u001b[0;32m     49\u001b[0m post_url \u001b[39m=\u001b[39m \u001b[39mf\u001b[39m\u001b[39m'\u001b[39m\u001b[39mhttps://www.instagram.com/p/\u001b[39m\u001b[39m{\u001b[39;00mcode\u001b[39m}\u001b[39;00m\u001b[39m/?__a=1&__d=dis\u001b[39m\u001b[39m'\u001b[39m\n\u001b[0;32m     50\u001b[0m res \u001b[39m=\u001b[39m requests\u001b[39m.\u001b[39mget(post_url, headers\u001b[39m=\u001b[39mheaders, cookies\u001b[39m=\u001b[39mcookies)\n\u001b[1;32m---> 51\u001b[0m data \u001b[39m=\u001b[39m res\u001b[39m.\u001b[39;49mjson()\n\u001b[0;32m     52\u001b[0m \u001b[39mif\u001b[39;00m post_type \u001b[39m==\u001b[39m \u001b[39m'\u001b[39m\u001b[39mGraphImage\u001b[39m\u001b[39m'\u001b[39m:\n\u001b[0;32m     53\u001b[0m     img_src \u001b[39m=\u001b[39m data[\u001b[39m'\u001b[39m\u001b[39mitems\u001b[39m\u001b[39m'\u001b[39m][\u001b[39m0\u001b[39m][\u001b[39m'\u001b[39m\u001b[39mimage_versions2\u001b[39m\u001b[39m'\u001b[39m][\u001b[39m'\u001b[39m\u001b[39mcandidates\u001b[39m\u001b[39m'\u001b[39m][\u001b[39m0\u001b[39m][\u001b[39m'\u001b[39m\u001b[39murl\u001b[39m\u001b[39m'\u001b[39m]\n",
      "File \u001b[1;32mc:\\Users\\Mr-Khosravian\\miniconda3\\lib\\site-packages\\requests\\models.py:975\u001b[0m, in \u001b[0;36mResponse.json\u001b[1;34m(self, **kwargs)\u001b[0m\n\u001b[0;32m    971\u001b[0m     \u001b[39mreturn\u001b[39;00m complexjson\u001b[39m.\u001b[39mloads(\u001b[39mself\u001b[39m\u001b[39m.\u001b[39mtext, \u001b[39m*\u001b[39m\u001b[39m*\u001b[39mkwargs)\n\u001b[0;32m    972\u001b[0m \u001b[39mexcept\u001b[39;00m JSONDecodeError \u001b[39mas\u001b[39;00m e:\n\u001b[0;32m    973\u001b[0m     \u001b[39m# Catch JSON-related errors and raise as requests.JSONDecodeError\u001b[39;00m\n\u001b[0;32m    974\u001b[0m     \u001b[39m# This aliases json.JSONDecodeError and simplejson.JSONDecodeError\u001b[39;00m\n\u001b[1;32m--> 975\u001b[0m     \u001b[39mraise\u001b[39;00m RequestsJSONDecodeError(e\u001b[39m.\u001b[39mmsg, e\u001b[39m.\u001b[39mdoc, e\u001b[39m.\u001b[39mpos)\n",
      "\u001b[1;31mJSONDecodeError\u001b[0m: Expecting value: line 1 column 1 (char 0)"
>>>>>>> parent of 920a8bb (adding more images to the dataset)
     ]
    }
   ],
   "source": [
<<<<<<< HEAD
=======
    "# check if the file is already downloaded or not, code present in directory\n",
    "\n",
    "posts_df = pd.read_csv('Data/posts.csv')\n",
    "posts_df.drop(columns=['Unnamed: 0'], inplace=True)\n",
    "posts_df = posts_df.drop(posts_df[posts_df['post_type'] == 'GraphVideo'].index)\n",
    "posts_df = posts_df.reset_index(drop=True)\n",
    "\n",
>>>>>>> parent of 920a8bb (adding more images to the dataset)
    "session = {\n",
    "            \"csrf_token\": csrf_token,\n",
    "            \"session_id\": session_id\n",
    "        }\n",
    "\n",
    "headers = {\n",
    "            \"x-csrftoken\": session['csrf_token'],\n",
    "            'user-agent': 'Mozilla/5.0 (Windows NT 10.0; Win64; x64) AppleWebKit/537.36 (KHTML, like Gecko) Chrome/84.0.4147.89 Safari/537.36',\n",
    "            \"X-Requested-With\": \"XMLHttpRequest\",\n",
    "            \"Referer\": \"https://www.instagram.com/accounts/login/\",\n",
    "            'Accept': '*/*',\n",
    "            'Accept-Language': 'en-US,en;q=0.5',\n",
    "            'X-Instagram-AJAX': 'c6412f1b1b7b',\n",
    "            'X-IG-App-ID': '936619743392459',\n",
    "            'X-ASBD-ID': '198387',\n",
    "            'X-IG-WWW-Claim': '0',\n",
    "            'X-Requested-With': 'XMLHttpRequest',\n",
    "            'Origin': 'https://www.instagram.com',\n",
    "            'DNT': '1',\n",
    "            'Connection': 'keep-alive',\n",
    "            'Referer': 'https://www.instagram.com/accounts/login/?',\n",
    "            'Sec-Fetch-Dest': 'empty',\n",
    "            'Sec-Fetch-Mode': 'cors',\n",
    "            'Sec-Fetch-Site': 'same-origin',\n",
    "            'Accept': 'text/html,application/xhtml+xml,application/xml;q=0.9,image/avif,image/webp,*/*;q=0.8',\n",
    "            'Accept-Language': 'en-US,en;q=0.5',\n",
    "            'Accept-Encoding': 'gzip, deflate, br',\n",
    "            'Connection': 'keep-alive',\n",
    "            'Upgrade-Insecure-Requests': '1',\n",
    "            'Sec-Fetch-Dest': 'document',\n",
    "            'Sec-Fetch-Mode': 'navigate',\n",
    "            'Sec-Fetch-Site': 'none',\n",
    "            'Sec-Fetch-User': '?1',\n",
    "            'TE': 'trailers'\n",
    "        }\n",
    "\n",
    "cookies = {\n",
    "            \"sessionid\": session['session_id'],\n",
    "            \"csrftoken\": session['csrf_token']\n",
    "        }\n",
    "\n",
    "for code, post_type in tqdm(zip(posts_df['shortcode'], posts_df['post_type'])):\n",
    "    print(f'Getting post: {code}')\n",
    "    post_url = f'https://www.instagram.com/p/{code}/?__a=1&__d=dis'\n",
    "    res = requests.get(post_url, headers=headers, cookies=cookies)\n",
    "    data = res.json()\n",
    "    if post_type == 'GraphImage':\n",
    "        img_src = data['items'][0]['image_versions2']['candidates'][0]['url']\n",
    "    if post_type == 'GraphSidecar':\n",
    "        img_src = data['items'][0]['carousel_media'][0]['image_versions2']['candidates'][0]['url']\n",
    "    print('Downloading...')\n",
    "    res = requests.get(img_src)\n",
    "    with open(f'Data/Images/{code}.jpg', 'wb') as f:\n",
    "        f.write(res.content)\n",
    "    print('Saved!')\n"
   ]
  },
  {
   "attachments": {},
   "cell_type": "markdown",
   "metadata": {},
   "source": [
<<<<<<< HEAD
    "Now that I have the image files, I need to prepare a neural network capable of outputting the vector of classified images. Since the data is not rich enough to train one from scratch, I have to use transfer learning and finetunning."
   ]
  },
  {
   "cell_type": "code",
   "execution_count": 3,
   "metadata": {},
   "outputs": [],
   "source": [
    "import torch\n",
    "import torch.nn as nn\n",
    "import torch.optim as optim\n",
    "from torch.optim import lr_scheduler\n",
    "import torchvision\n",
    "from torchvision import datasets, models, transforms\n",
    "import cv2"
   ]
  },
  {
   "cell_type": "code",
   "execution_count": 4,
   "metadata": {},
   "outputs": [
    {
     "name": "stderr",
     "output_type": "stream",
     "text": [
      "c:\\Users\\Mr-Khosravian\\miniconda3\\lib\\site-packages\\torchvision\\models\\_utils.py:208: UserWarning: The parameter 'pretrained' is deprecated since 0.13 and may be removed in the future, please use 'weights' instead.\n",
      "  warnings.warn(\n",
      "c:\\Users\\Mr-Khosravian\\miniconda3\\lib\\site-packages\\torchvision\\models\\_utils.py:223: UserWarning: Arguments other than a weight enum or `None` for 'weights' are deprecated since 0.13 and may be removed in the future. The current behavior is equivalent to passing `weights=EfficientNet_B7_Weights.IMAGENET1K_V1`. You can also use `weights=EfficientNet_B7_Weights.DEFAULT` to get the most up-to-date weights.\n",
      "  warnings.warn(msg)\n"
     ]
    },
    {
     "data": {
      "text/plain": [
       "EfficientNet(\n",
       "  (features): Sequential(\n",
       "    (0): Conv2dNormActivation(\n",
       "      (0): Conv2d(3, 64, kernel_size=(3, 3), stride=(2, 2), padding=(1, 1), bias=False)\n",
       "      (1): BatchNorm2d(64, eps=0.001, momentum=0.01, affine=True, track_running_stats=True)\n",
       "      (2): SiLU(inplace=True)\n",
       "    )\n",
       "    (1): Sequential(\n",
       "      (0): MBConv(\n",
       "        (block): Sequential(\n",
       "          (0): Conv2dNormActivation(\n",
       "            (0): Conv2d(64, 64, kernel_size=(3, 3), stride=(1, 1), padding=(1, 1), groups=64, bias=False)\n",
       "            (1): BatchNorm2d(64, eps=0.001, momentum=0.01, affine=True, track_running_stats=True)\n",
       "            (2): SiLU(inplace=True)\n",
       "          )\n",
       "          (1): SqueezeExcitation(\n",
       "            (avgpool): AdaptiveAvgPool2d(output_size=1)\n",
       "            (fc1): Conv2d(64, 16, kernel_size=(1, 1), stride=(1, 1))\n",
       "            (fc2): Conv2d(16, 64, kernel_size=(1, 1), stride=(1, 1))\n",
       "            (activation): SiLU(inplace=True)\n",
       "            (scale_activation): Sigmoid()\n",
       "          )\n",
       "          (2): Conv2dNormActivation(\n",
       "            (0): Conv2d(64, 32, kernel_size=(1, 1), stride=(1, 1), bias=False)\n",
       "            (1): BatchNorm2d(32, eps=0.001, momentum=0.01, affine=True, track_running_stats=True)\n",
       "          )\n",
       "        )\n",
       "        (stochastic_depth): StochasticDepth(p=0.0, mode=row)\n",
       "      )\n",
       "      (1): MBConv(\n",
       "        (block): Sequential(\n",
       "          (0): Conv2dNormActivation(\n",
       "            (0): Conv2d(32, 32, kernel_size=(3, 3), stride=(1, 1), padding=(1, 1), groups=32, bias=False)\n",
       "            (1): BatchNorm2d(32, eps=0.001, momentum=0.01, affine=True, track_running_stats=True)\n",
       "            (2): SiLU(inplace=True)\n",
       "          )\n",
       "          (1): SqueezeExcitation(\n",
       "            (avgpool): AdaptiveAvgPool2d(output_size=1)\n",
       "            (fc1): Conv2d(32, 8, kernel_size=(1, 1), stride=(1, 1))\n",
       "            (fc2): Conv2d(8, 32, kernel_size=(1, 1), stride=(1, 1))\n",
       "            (activation): SiLU(inplace=True)\n",
       "            (scale_activation): Sigmoid()\n",
       "          )\n",
       "          (2): Conv2dNormActivation(\n",
       "            (0): Conv2d(32, 32, kernel_size=(1, 1), stride=(1, 1), bias=False)\n",
       "            (1): BatchNorm2d(32, eps=0.001, momentum=0.01, affine=True, track_running_stats=True)\n",
       "          )\n",
       "        )\n",
       "        (stochastic_depth): StochasticDepth(p=0.0036363636363636364, mode=row)\n",
       "      )\n",
       "      (2): MBConv(\n",
       "        (block): Sequential(\n",
       "          (0): Conv2dNormActivation(\n",
       "            (0): Conv2d(32, 32, kernel_size=(3, 3), stride=(1, 1), padding=(1, 1), groups=32, bias=False)\n",
       "            (1): BatchNorm2d(32, eps=0.001, momentum=0.01, affine=True, track_running_stats=True)\n",
       "            (2): SiLU(inplace=True)\n",
       "          )\n",
       "          (1): SqueezeExcitation(\n",
       "            (avgpool): AdaptiveAvgPool2d(output_size=1)\n",
       "            (fc1): Conv2d(32, 8, kernel_size=(1, 1), stride=(1, 1))\n",
       "            (fc2): Conv2d(8, 32, kernel_size=(1, 1), stride=(1, 1))\n",
       "            (activation): SiLU(inplace=True)\n",
       "            (scale_activation): Sigmoid()\n",
       "          )\n",
       "          (2): Conv2dNormActivation(\n",
       "            (0): Conv2d(32, 32, kernel_size=(1, 1), stride=(1, 1), bias=False)\n",
       "            (1): BatchNorm2d(32, eps=0.001, momentum=0.01, affine=True, track_running_stats=True)\n",
       "          )\n",
       "        )\n",
       "        (stochastic_depth): StochasticDepth(p=0.007272727272727273, mode=row)\n",
       "      )\n",
       "      (3): MBConv(\n",
       "        (block): Sequential(\n",
       "          (0): Conv2dNormActivation(\n",
       "            (0): Conv2d(32, 32, kernel_size=(3, 3), stride=(1, 1), padding=(1, 1), groups=32, bias=False)\n",
       "            (1): BatchNorm2d(32, eps=0.001, momentum=0.01, affine=True, track_running_stats=True)\n",
       "            (2): SiLU(inplace=True)\n",
       "          )\n",
       "          (1): SqueezeExcitation(\n",
       "            (avgpool): AdaptiveAvgPool2d(output_size=1)\n",
       "            (fc1): Conv2d(32, 8, kernel_size=(1, 1), stride=(1, 1))\n",
       "            (fc2): Conv2d(8, 32, kernel_size=(1, 1), stride=(1, 1))\n",
       "            (activation): SiLU(inplace=True)\n",
       "            (scale_activation): Sigmoid()\n",
       "          )\n",
       "          (2): Conv2dNormActivation(\n",
       "            (0): Conv2d(32, 32, kernel_size=(1, 1), stride=(1, 1), bias=False)\n",
       "            (1): BatchNorm2d(32, eps=0.001, momentum=0.01, affine=True, track_running_stats=True)\n",
       "          )\n",
       "        )\n",
       "        (stochastic_depth): StochasticDepth(p=0.01090909090909091, mode=row)\n",
       "      )\n",
       "    )\n",
       "    (2): Sequential(\n",
       "      (0): MBConv(\n",
       "        (block): Sequential(\n",
       "          (0): Conv2dNormActivation(\n",
       "            (0): Conv2d(32, 192, kernel_size=(1, 1), stride=(1, 1), bias=False)\n",
       "            (1): BatchNorm2d(192, eps=0.001, momentum=0.01, affine=True, track_running_stats=True)\n",
       "            (2): SiLU(inplace=True)\n",
       "          )\n",
       "          (1): Conv2dNormActivation(\n",
       "            (0): Conv2d(192, 192, kernel_size=(3, 3), stride=(2, 2), padding=(1, 1), groups=192, bias=False)\n",
       "            (1): BatchNorm2d(192, eps=0.001, momentum=0.01, affine=True, track_running_stats=True)\n",
       "            (2): SiLU(inplace=True)\n",
       "          )\n",
       "          (2): SqueezeExcitation(\n",
       "            (avgpool): AdaptiveAvgPool2d(output_size=1)\n",
       "            (fc1): Conv2d(192, 8, kernel_size=(1, 1), stride=(1, 1))\n",
       "            (fc2): Conv2d(8, 192, kernel_size=(1, 1), stride=(1, 1))\n",
       "            (activation): SiLU(inplace=True)\n",
       "            (scale_activation): Sigmoid()\n",
       "          )\n",
       "          (3): Conv2dNormActivation(\n",
       "            (0): Conv2d(192, 48, kernel_size=(1, 1), stride=(1, 1), bias=False)\n",
       "            (1): BatchNorm2d(48, eps=0.001, momentum=0.01, affine=True, track_running_stats=True)\n",
       "          )\n",
       "        )\n",
       "        (stochastic_depth): StochasticDepth(p=0.014545454545454545, mode=row)\n",
       "      )\n",
       "      (1): MBConv(\n",
       "        (block): Sequential(\n",
       "          (0): Conv2dNormActivation(\n",
       "            (0): Conv2d(48, 288, kernel_size=(1, 1), stride=(1, 1), bias=False)\n",
       "            (1): BatchNorm2d(288, eps=0.001, momentum=0.01, affine=True, track_running_stats=True)\n",
       "            (2): SiLU(inplace=True)\n",
       "          )\n",
       "          (1): Conv2dNormActivation(\n",
       "            (0): Conv2d(288, 288, kernel_size=(3, 3), stride=(1, 1), padding=(1, 1), groups=288, bias=False)\n",
       "            (1): BatchNorm2d(288, eps=0.001, momentum=0.01, affine=True, track_running_stats=True)\n",
       "            (2): SiLU(inplace=True)\n",
       "          )\n",
       "          (2): SqueezeExcitation(\n",
       "            (avgpool): AdaptiveAvgPool2d(output_size=1)\n",
       "            (fc1): Conv2d(288, 12, kernel_size=(1, 1), stride=(1, 1))\n",
       "            (fc2): Conv2d(12, 288, kernel_size=(1, 1), stride=(1, 1))\n",
       "            (activation): SiLU(inplace=True)\n",
       "            (scale_activation): Sigmoid()\n",
       "          )\n",
       "          (3): Conv2dNormActivation(\n",
       "            (0): Conv2d(288, 48, kernel_size=(1, 1), stride=(1, 1), bias=False)\n",
       "            (1): BatchNorm2d(48, eps=0.001, momentum=0.01, affine=True, track_running_stats=True)\n",
       "          )\n",
       "        )\n",
       "        (stochastic_depth): StochasticDepth(p=0.01818181818181818, mode=row)\n",
       "      )\n",
       "      (2): MBConv(\n",
       "        (block): Sequential(\n",
       "          (0): Conv2dNormActivation(\n",
       "            (0): Conv2d(48, 288, kernel_size=(1, 1), stride=(1, 1), bias=False)\n",
       "            (1): BatchNorm2d(288, eps=0.001, momentum=0.01, affine=True, track_running_stats=True)\n",
       "            (2): SiLU(inplace=True)\n",
       "          )\n",
       "          (1): Conv2dNormActivation(\n",
       "            (0): Conv2d(288, 288, kernel_size=(3, 3), stride=(1, 1), padding=(1, 1), groups=288, bias=False)\n",
       "            (1): BatchNorm2d(288, eps=0.001, momentum=0.01, affine=True, track_running_stats=True)\n",
       "            (2): SiLU(inplace=True)\n",
       "          )\n",
       "          (2): SqueezeExcitation(\n",
       "            (avgpool): AdaptiveAvgPool2d(output_size=1)\n",
       "            (fc1): Conv2d(288, 12, kernel_size=(1, 1), stride=(1, 1))\n",
       "            (fc2): Conv2d(12, 288, kernel_size=(1, 1), stride=(1, 1))\n",
       "            (activation): SiLU(inplace=True)\n",
       "            (scale_activation): Sigmoid()\n",
       "          )\n",
       "          (3): Conv2dNormActivation(\n",
       "            (0): Conv2d(288, 48, kernel_size=(1, 1), stride=(1, 1), bias=False)\n",
       "            (1): BatchNorm2d(48, eps=0.001, momentum=0.01, affine=True, track_running_stats=True)\n",
       "          )\n",
       "        )\n",
       "        (stochastic_depth): StochasticDepth(p=0.02181818181818182, mode=row)\n",
       "      )\n",
       "      (3): MBConv(\n",
       "        (block): Sequential(\n",
       "          (0): Conv2dNormActivation(\n",
       "            (0): Conv2d(48, 288, kernel_size=(1, 1), stride=(1, 1), bias=False)\n",
       "            (1): BatchNorm2d(288, eps=0.001, momentum=0.01, affine=True, track_running_stats=True)\n",
       "            (2): SiLU(inplace=True)\n",
       "          )\n",
       "          (1): Conv2dNormActivation(\n",
       "            (0): Conv2d(288, 288, kernel_size=(3, 3), stride=(1, 1), padding=(1, 1), groups=288, bias=False)\n",
       "            (1): BatchNorm2d(288, eps=0.001, momentum=0.01, affine=True, track_running_stats=True)\n",
       "            (2): SiLU(inplace=True)\n",
       "          )\n",
       "          (2): SqueezeExcitation(\n",
       "            (avgpool): AdaptiveAvgPool2d(output_size=1)\n",
       "            (fc1): Conv2d(288, 12, kernel_size=(1, 1), stride=(1, 1))\n",
       "            (fc2): Conv2d(12, 288, kernel_size=(1, 1), stride=(1, 1))\n",
       "            (activation): SiLU(inplace=True)\n",
       "            (scale_activation): Sigmoid()\n",
       "          )\n",
       "          (3): Conv2dNormActivation(\n",
       "            (0): Conv2d(288, 48, kernel_size=(1, 1), stride=(1, 1), bias=False)\n",
       "            (1): BatchNorm2d(48, eps=0.001, momentum=0.01, affine=True, track_running_stats=True)\n",
       "          )\n",
       "        )\n",
       "        (stochastic_depth): StochasticDepth(p=0.025454545454545455, mode=row)\n",
       "      )\n",
       "      (4): MBConv(\n",
       "        (block): Sequential(\n",
       "          (0): Conv2dNormActivation(\n",
       "            (0): Conv2d(48, 288, kernel_size=(1, 1), stride=(1, 1), bias=False)\n",
       "            (1): BatchNorm2d(288, eps=0.001, momentum=0.01, affine=True, track_running_stats=True)\n",
       "            (2): SiLU(inplace=True)\n",
       "          )\n",
       "          (1): Conv2dNormActivation(\n",
       "            (0): Conv2d(288, 288, kernel_size=(3, 3), stride=(1, 1), padding=(1, 1), groups=288, bias=False)\n",
       "            (1): BatchNorm2d(288, eps=0.001, momentum=0.01, affine=True, track_running_stats=True)\n",
       "            (2): SiLU(inplace=True)\n",
       "          )\n",
       "          (2): SqueezeExcitation(\n",
       "            (avgpool): AdaptiveAvgPool2d(output_size=1)\n",
       "            (fc1): Conv2d(288, 12, kernel_size=(1, 1), stride=(1, 1))\n",
       "            (fc2): Conv2d(12, 288, kernel_size=(1, 1), stride=(1, 1))\n",
       "            (activation): SiLU(inplace=True)\n",
       "            (scale_activation): Sigmoid()\n",
       "          )\n",
       "          (3): Conv2dNormActivation(\n",
       "            (0): Conv2d(288, 48, kernel_size=(1, 1), stride=(1, 1), bias=False)\n",
       "            (1): BatchNorm2d(48, eps=0.001, momentum=0.01, affine=True, track_running_stats=True)\n",
       "          )\n",
       "        )\n",
       "        (stochastic_depth): StochasticDepth(p=0.02909090909090909, mode=row)\n",
       "      )\n",
       "      (5): MBConv(\n",
       "        (block): Sequential(\n",
       "          (0): Conv2dNormActivation(\n",
       "            (0): Conv2d(48, 288, kernel_size=(1, 1), stride=(1, 1), bias=False)\n",
       "            (1): BatchNorm2d(288, eps=0.001, momentum=0.01, affine=True, track_running_stats=True)\n",
       "            (2): SiLU(inplace=True)\n",
       "          )\n",
       "          (1): Conv2dNormActivation(\n",
       "            (0): Conv2d(288, 288, kernel_size=(3, 3), stride=(1, 1), padding=(1, 1), groups=288, bias=False)\n",
       "            (1): BatchNorm2d(288, eps=0.001, momentum=0.01, affine=True, track_running_stats=True)\n",
       "            (2): SiLU(inplace=True)\n",
       "          )\n",
       "          (2): SqueezeExcitation(\n",
       "            (avgpool): AdaptiveAvgPool2d(output_size=1)\n",
       "            (fc1): Conv2d(288, 12, kernel_size=(1, 1), stride=(1, 1))\n",
       "            (fc2): Conv2d(12, 288, kernel_size=(1, 1), stride=(1, 1))\n",
       "            (activation): SiLU(inplace=True)\n",
       "            (scale_activation): Sigmoid()\n",
       "          )\n",
       "          (3): Conv2dNormActivation(\n",
       "            (0): Conv2d(288, 48, kernel_size=(1, 1), stride=(1, 1), bias=False)\n",
       "            (1): BatchNorm2d(48, eps=0.001, momentum=0.01, affine=True, track_running_stats=True)\n",
       "          )\n",
       "        )\n",
       "        (stochastic_depth): StochasticDepth(p=0.03272727272727273, mode=row)\n",
       "      )\n",
       "      (6): MBConv(\n",
       "        (block): Sequential(\n",
       "          (0): Conv2dNormActivation(\n",
       "            (0): Conv2d(48, 288, kernel_size=(1, 1), stride=(1, 1), bias=False)\n",
       "            (1): BatchNorm2d(288, eps=0.001, momentum=0.01, affine=True, track_running_stats=True)\n",
       "            (2): SiLU(inplace=True)\n",
       "          )\n",
       "          (1): Conv2dNormActivation(\n",
       "            (0): Conv2d(288, 288, kernel_size=(3, 3), stride=(1, 1), padding=(1, 1), groups=288, bias=False)\n",
       "            (1): BatchNorm2d(288, eps=0.001, momentum=0.01, affine=True, track_running_stats=True)\n",
       "            (2): SiLU(inplace=True)\n",
       "          )\n",
       "          (2): SqueezeExcitation(\n",
       "            (avgpool): AdaptiveAvgPool2d(output_size=1)\n",
       "            (fc1): Conv2d(288, 12, kernel_size=(1, 1), stride=(1, 1))\n",
       "            (fc2): Conv2d(12, 288, kernel_size=(1, 1), stride=(1, 1))\n",
       "            (activation): SiLU(inplace=True)\n",
       "            (scale_activation): Sigmoid()\n",
       "          )\n",
       "          (3): Conv2dNormActivation(\n",
       "            (0): Conv2d(288, 48, kernel_size=(1, 1), stride=(1, 1), bias=False)\n",
       "            (1): BatchNorm2d(48, eps=0.001, momentum=0.01, affine=True, track_running_stats=True)\n",
       "          )\n",
       "        )\n",
       "        (stochastic_depth): StochasticDepth(p=0.03636363636363636, mode=row)\n",
       "      )\n",
       "    )\n",
       "    (3): Sequential(\n",
       "      (0): MBConv(\n",
       "        (block): Sequential(\n",
       "          (0): Conv2dNormActivation(\n",
       "            (0): Conv2d(48, 288, kernel_size=(1, 1), stride=(1, 1), bias=False)\n",
       "            (1): BatchNorm2d(288, eps=0.001, momentum=0.01, affine=True, track_running_stats=True)\n",
       "            (2): SiLU(inplace=True)\n",
       "          )\n",
       "          (1): Conv2dNormActivation(\n",
       "            (0): Conv2d(288, 288, kernel_size=(5, 5), stride=(2, 2), padding=(2, 2), groups=288, bias=False)\n",
       "            (1): BatchNorm2d(288, eps=0.001, momentum=0.01, affine=True, track_running_stats=True)\n",
       "            (2): SiLU(inplace=True)\n",
       "          )\n",
       "          (2): SqueezeExcitation(\n",
       "            (avgpool): AdaptiveAvgPool2d(output_size=1)\n",
       "            (fc1): Conv2d(288, 12, kernel_size=(1, 1), stride=(1, 1))\n",
       "            (fc2): Conv2d(12, 288, kernel_size=(1, 1), stride=(1, 1))\n",
       "            (activation): SiLU(inplace=True)\n",
       "            (scale_activation): Sigmoid()\n",
       "          )\n",
       "          (3): Conv2dNormActivation(\n",
       "            (0): Conv2d(288, 80, kernel_size=(1, 1), stride=(1, 1), bias=False)\n",
       "            (1): BatchNorm2d(80, eps=0.001, momentum=0.01, affine=True, track_running_stats=True)\n",
       "          )\n",
       "        )\n",
       "        (stochastic_depth): StochasticDepth(p=0.04, mode=row)\n",
       "      )\n",
       "      (1): MBConv(\n",
       "        (block): Sequential(\n",
       "          (0): Conv2dNormActivation(\n",
       "            (0): Conv2d(80, 480, kernel_size=(1, 1), stride=(1, 1), bias=False)\n",
       "            (1): BatchNorm2d(480, eps=0.001, momentum=0.01, affine=True, track_running_stats=True)\n",
       "            (2): SiLU(inplace=True)\n",
       "          )\n",
       "          (1): Conv2dNormActivation(\n",
       "            (0): Conv2d(480, 480, kernel_size=(5, 5), stride=(1, 1), padding=(2, 2), groups=480, bias=False)\n",
       "            (1): BatchNorm2d(480, eps=0.001, momentum=0.01, affine=True, track_running_stats=True)\n",
       "            (2): SiLU(inplace=True)\n",
       "          )\n",
       "          (2): SqueezeExcitation(\n",
       "            (avgpool): AdaptiveAvgPool2d(output_size=1)\n",
       "            (fc1): Conv2d(480, 20, kernel_size=(1, 1), stride=(1, 1))\n",
       "            (fc2): Conv2d(20, 480, kernel_size=(1, 1), stride=(1, 1))\n",
       "            (activation): SiLU(inplace=True)\n",
       "            (scale_activation): Sigmoid()\n",
       "          )\n",
       "          (3): Conv2dNormActivation(\n",
       "            (0): Conv2d(480, 80, kernel_size=(1, 1), stride=(1, 1), bias=False)\n",
       "            (1): BatchNorm2d(80, eps=0.001, momentum=0.01, affine=True, track_running_stats=True)\n",
       "          )\n",
       "        )\n",
       "        (stochastic_depth): StochasticDepth(p=0.04363636363636364, mode=row)\n",
       "      )\n",
       "      (2): MBConv(\n",
       "        (block): Sequential(\n",
       "          (0): Conv2dNormActivation(\n",
       "            (0): Conv2d(80, 480, kernel_size=(1, 1), stride=(1, 1), bias=False)\n",
       "            (1): BatchNorm2d(480, eps=0.001, momentum=0.01, affine=True, track_running_stats=True)\n",
       "            (2): SiLU(inplace=True)\n",
       "          )\n",
       "          (1): Conv2dNormActivation(\n",
       "            (0): Conv2d(480, 480, kernel_size=(5, 5), stride=(1, 1), padding=(2, 2), groups=480, bias=False)\n",
       "            (1): BatchNorm2d(480, eps=0.001, momentum=0.01, affine=True, track_running_stats=True)\n",
       "            (2): SiLU(inplace=True)\n",
       "          )\n",
       "          (2): SqueezeExcitation(\n",
       "            (avgpool): AdaptiveAvgPool2d(output_size=1)\n",
       "            (fc1): Conv2d(480, 20, kernel_size=(1, 1), stride=(1, 1))\n",
       "            (fc2): Conv2d(20, 480, kernel_size=(1, 1), stride=(1, 1))\n",
       "            (activation): SiLU(inplace=True)\n",
       "            (scale_activation): Sigmoid()\n",
       "          )\n",
       "          (3): Conv2dNormActivation(\n",
       "            (0): Conv2d(480, 80, kernel_size=(1, 1), stride=(1, 1), bias=False)\n",
       "            (1): BatchNorm2d(80, eps=0.001, momentum=0.01, affine=True, track_running_stats=True)\n",
       "          )\n",
       "        )\n",
       "        (stochastic_depth): StochasticDepth(p=0.04727272727272727, mode=row)\n",
       "      )\n",
       "      (3): MBConv(\n",
       "        (block): Sequential(\n",
       "          (0): Conv2dNormActivation(\n",
       "            (0): Conv2d(80, 480, kernel_size=(1, 1), stride=(1, 1), bias=False)\n",
       "            (1): BatchNorm2d(480, eps=0.001, momentum=0.01, affine=True, track_running_stats=True)\n",
       "            (2): SiLU(inplace=True)\n",
       "          )\n",
       "          (1): Conv2dNormActivation(\n",
       "            (0): Conv2d(480, 480, kernel_size=(5, 5), stride=(1, 1), padding=(2, 2), groups=480, bias=False)\n",
       "            (1): BatchNorm2d(480, eps=0.001, momentum=0.01, affine=True, track_running_stats=True)\n",
       "            (2): SiLU(inplace=True)\n",
       "          )\n",
       "          (2): SqueezeExcitation(\n",
       "            (avgpool): AdaptiveAvgPool2d(output_size=1)\n",
       "            (fc1): Conv2d(480, 20, kernel_size=(1, 1), stride=(1, 1))\n",
       "            (fc2): Conv2d(20, 480, kernel_size=(1, 1), stride=(1, 1))\n",
       "            (activation): SiLU(inplace=True)\n",
       "            (scale_activation): Sigmoid()\n",
       "          )\n",
       "          (3): Conv2dNormActivation(\n",
       "            (0): Conv2d(480, 80, kernel_size=(1, 1), stride=(1, 1), bias=False)\n",
       "            (1): BatchNorm2d(80, eps=0.001, momentum=0.01, affine=True, track_running_stats=True)\n",
       "          )\n",
       "        )\n",
       "        (stochastic_depth): StochasticDepth(p=0.05090909090909091, mode=row)\n",
       "      )\n",
       "      (4): MBConv(\n",
       "        (block): Sequential(\n",
       "          (0): Conv2dNormActivation(\n",
       "            (0): Conv2d(80, 480, kernel_size=(1, 1), stride=(1, 1), bias=False)\n",
       "            (1): BatchNorm2d(480, eps=0.001, momentum=0.01, affine=True, track_running_stats=True)\n",
       "            (2): SiLU(inplace=True)\n",
       "          )\n",
       "          (1): Conv2dNormActivation(\n",
       "            (0): Conv2d(480, 480, kernel_size=(5, 5), stride=(1, 1), padding=(2, 2), groups=480, bias=False)\n",
       "            (1): BatchNorm2d(480, eps=0.001, momentum=0.01, affine=True, track_running_stats=True)\n",
       "            (2): SiLU(inplace=True)\n",
       "          )\n",
       "          (2): SqueezeExcitation(\n",
       "            (avgpool): AdaptiveAvgPool2d(output_size=1)\n",
       "            (fc1): Conv2d(480, 20, kernel_size=(1, 1), stride=(1, 1))\n",
       "            (fc2): Conv2d(20, 480, kernel_size=(1, 1), stride=(1, 1))\n",
       "            (activation): SiLU(inplace=True)\n",
       "            (scale_activation): Sigmoid()\n",
       "          )\n",
       "          (3): Conv2dNormActivation(\n",
       "            (0): Conv2d(480, 80, kernel_size=(1, 1), stride=(1, 1), bias=False)\n",
       "            (1): BatchNorm2d(80, eps=0.001, momentum=0.01, affine=True, track_running_stats=True)\n",
       "          )\n",
       "        )\n",
       "        (stochastic_depth): StochasticDepth(p=0.05454545454545454, mode=row)\n",
       "      )\n",
       "      (5): MBConv(\n",
       "        (block): Sequential(\n",
       "          (0): Conv2dNormActivation(\n",
       "            (0): Conv2d(80, 480, kernel_size=(1, 1), stride=(1, 1), bias=False)\n",
       "            (1): BatchNorm2d(480, eps=0.001, momentum=0.01, affine=True, track_running_stats=True)\n",
       "            (2): SiLU(inplace=True)\n",
       "          )\n",
       "          (1): Conv2dNormActivation(\n",
       "            (0): Conv2d(480, 480, kernel_size=(5, 5), stride=(1, 1), padding=(2, 2), groups=480, bias=False)\n",
       "            (1): BatchNorm2d(480, eps=0.001, momentum=0.01, affine=True, track_running_stats=True)\n",
       "            (2): SiLU(inplace=True)\n",
       "          )\n",
       "          (2): SqueezeExcitation(\n",
       "            (avgpool): AdaptiveAvgPool2d(output_size=1)\n",
       "            (fc1): Conv2d(480, 20, kernel_size=(1, 1), stride=(1, 1))\n",
       "            (fc2): Conv2d(20, 480, kernel_size=(1, 1), stride=(1, 1))\n",
       "            (activation): SiLU(inplace=True)\n",
       "            (scale_activation): Sigmoid()\n",
       "          )\n",
       "          (3): Conv2dNormActivation(\n",
       "            (0): Conv2d(480, 80, kernel_size=(1, 1), stride=(1, 1), bias=False)\n",
       "            (1): BatchNorm2d(80, eps=0.001, momentum=0.01, affine=True, track_running_stats=True)\n",
       "          )\n",
       "        )\n",
       "        (stochastic_depth): StochasticDepth(p=0.05818181818181818, mode=row)\n",
       "      )\n",
       "      (6): MBConv(\n",
       "        (block): Sequential(\n",
       "          (0): Conv2dNormActivation(\n",
       "            (0): Conv2d(80, 480, kernel_size=(1, 1), stride=(1, 1), bias=False)\n",
       "            (1): BatchNorm2d(480, eps=0.001, momentum=0.01, affine=True, track_running_stats=True)\n",
       "            (2): SiLU(inplace=True)\n",
       "          )\n",
       "          (1): Conv2dNormActivation(\n",
       "            (0): Conv2d(480, 480, kernel_size=(5, 5), stride=(1, 1), padding=(2, 2), groups=480, bias=False)\n",
       "            (1): BatchNorm2d(480, eps=0.001, momentum=0.01, affine=True, track_running_stats=True)\n",
       "            (2): SiLU(inplace=True)\n",
       "          )\n",
       "          (2): SqueezeExcitation(\n",
       "            (avgpool): AdaptiveAvgPool2d(output_size=1)\n",
       "            (fc1): Conv2d(480, 20, kernel_size=(1, 1), stride=(1, 1))\n",
       "            (fc2): Conv2d(20, 480, kernel_size=(1, 1), stride=(1, 1))\n",
       "            (activation): SiLU(inplace=True)\n",
       "            (scale_activation): Sigmoid()\n",
       "          )\n",
       "          (3): Conv2dNormActivation(\n",
       "            (0): Conv2d(480, 80, kernel_size=(1, 1), stride=(1, 1), bias=False)\n",
       "            (1): BatchNorm2d(80, eps=0.001, momentum=0.01, affine=True, track_running_stats=True)\n",
       "          )\n",
       "        )\n",
       "        (stochastic_depth): StochasticDepth(p=0.06181818181818183, mode=row)\n",
       "      )\n",
       "    )\n",
       "    (4): Sequential(\n",
       "      (0): MBConv(\n",
       "        (block): Sequential(\n",
       "          (0): Conv2dNormActivation(\n",
       "            (0): Conv2d(80, 480, kernel_size=(1, 1), stride=(1, 1), bias=False)\n",
       "            (1): BatchNorm2d(480, eps=0.001, momentum=0.01, affine=True, track_running_stats=True)\n",
       "            (2): SiLU(inplace=True)\n",
       "          )\n",
       "          (1): Conv2dNormActivation(\n",
       "            (0): Conv2d(480, 480, kernel_size=(3, 3), stride=(2, 2), padding=(1, 1), groups=480, bias=False)\n",
       "            (1): BatchNorm2d(480, eps=0.001, momentum=0.01, affine=True, track_running_stats=True)\n",
       "            (2): SiLU(inplace=True)\n",
       "          )\n",
       "          (2): SqueezeExcitation(\n",
       "            (avgpool): AdaptiveAvgPool2d(output_size=1)\n",
       "            (fc1): Conv2d(480, 20, kernel_size=(1, 1), stride=(1, 1))\n",
       "            (fc2): Conv2d(20, 480, kernel_size=(1, 1), stride=(1, 1))\n",
       "            (activation): SiLU(inplace=True)\n",
       "            (scale_activation): Sigmoid()\n",
       "          )\n",
       "          (3): Conv2dNormActivation(\n",
       "            (0): Conv2d(480, 160, kernel_size=(1, 1), stride=(1, 1), bias=False)\n",
       "            (1): BatchNorm2d(160, eps=0.001, momentum=0.01, affine=True, track_running_stats=True)\n",
       "          )\n",
       "        )\n",
       "        (stochastic_depth): StochasticDepth(p=0.06545454545454546, mode=row)\n",
       "      )\n",
       "      (1): MBConv(\n",
       "        (block): Sequential(\n",
       "          (0): Conv2dNormActivation(\n",
       "            (0): Conv2d(160, 960, kernel_size=(1, 1), stride=(1, 1), bias=False)\n",
       "            (1): BatchNorm2d(960, eps=0.001, momentum=0.01, affine=True, track_running_stats=True)\n",
       "            (2): SiLU(inplace=True)\n",
       "          )\n",
       "          (1): Conv2dNormActivation(\n",
       "            (0): Conv2d(960, 960, kernel_size=(3, 3), stride=(1, 1), padding=(1, 1), groups=960, bias=False)\n",
       "            (1): BatchNorm2d(960, eps=0.001, momentum=0.01, affine=True, track_running_stats=True)\n",
       "            (2): SiLU(inplace=True)\n",
       "          )\n",
       "          (2): SqueezeExcitation(\n",
       "            (avgpool): AdaptiveAvgPool2d(output_size=1)\n",
       "            (fc1): Conv2d(960, 40, kernel_size=(1, 1), stride=(1, 1))\n",
       "            (fc2): Conv2d(40, 960, kernel_size=(1, 1), stride=(1, 1))\n",
       "            (activation): SiLU(inplace=True)\n",
       "            (scale_activation): Sigmoid()\n",
       "          )\n",
       "          (3): Conv2dNormActivation(\n",
       "            (0): Conv2d(960, 160, kernel_size=(1, 1), stride=(1, 1), bias=False)\n",
       "            (1): BatchNorm2d(160, eps=0.001, momentum=0.01, affine=True, track_running_stats=True)\n",
       "          )\n",
       "        )\n",
       "        (stochastic_depth): StochasticDepth(p=0.06909090909090909, mode=row)\n",
       "      )\n",
       "      (2): MBConv(\n",
       "        (block): Sequential(\n",
       "          (0): Conv2dNormActivation(\n",
       "            (0): Conv2d(160, 960, kernel_size=(1, 1), stride=(1, 1), bias=False)\n",
       "            (1): BatchNorm2d(960, eps=0.001, momentum=0.01, affine=True, track_running_stats=True)\n",
       "            (2): SiLU(inplace=True)\n",
       "          )\n",
       "          (1): Conv2dNormActivation(\n",
       "            (0): Conv2d(960, 960, kernel_size=(3, 3), stride=(1, 1), padding=(1, 1), groups=960, bias=False)\n",
       "            (1): BatchNorm2d(960, eps=0.001, momentum=0.01, affine=True, track_running_stats=True)\n",
       "            (2): SiLU(inplace=True)\n",
       "          )\n",
       "          (2): SqueezeExcitation(\n",
       "            (avgpool): AdaptiveAvgPool2d(output_size=1)\n",
       "            (fc1): Conv2d(960, 40, kernel_size=(1, 1), stride=(1, 1))\n",
       "            (fc2): Conv2d(40, 960, kernel_size=(1, 1), stride=(1, 1))\n",
       "            (activation): SiLU(inplace=True)\n",
       "            (scale_activation): Sigmoid()\n",
       "          )\n",
       "          (3): Conv2dNormActivation(\n",
       "            (0): Conv2d(960, 160, kernel_size=(1, 1), stride=(1, 1), bias=False)\n",
       "            (1): BatchNorm2d(160, eps=0.001, momentum=0.01, affine=True, track_running_stats=True)\n",
       "          )\n",
       "        )\n",
       "        (stochastic_depth): StochasticDepth(p=0.07272727272727272, mode=row)\n",
       "      )\n",
       "      (3): MBConv(\n",
       "        (block): Sequential(\n",
       "          (0): Conv2dNormActivation(\n",
       "            (0): Conv2d(160, 960, kernel_size=(1, 1), stride=(1, 1), bias=False)\n",
       "            (1): BatchNorm2d(960, eps=0.001, momentum=0.01, affine=True, track_running_stats=True)\n",
       "            (2): SiLU(inplace=True)\n",
       "          )\n",
       "          (1): Conv2dNormActivation(\n",
       "            (0): Conv2d(960, 960, kernel_size=(3, 3), stride=(1, 1), padding=(1, 1), groups=960, bias=False)\n",
       "            (1): BatchNorm2d(960, eps=0.001, momentum=0.01, affine=True, track_running_stats=True)\n",
       "            (2): SiLU(inplace=True)\n",
       "          )\n",
       "          (2): SqueezeExcitation(\n",
       "            (avgpool): AdaptiveAvgPool2d(output_size=1)\n",
       "            (fc1): Conv2d(960, 40, kernel_size=(1, 1), stride=(1, 1))\n",
       "            (fc2): Conv2d(40, 960, kernel_size=(1, 1), stride=(1, 1))\n",
       "            (activation): SiLU(inplace=True)\n",
       "            (scale_activation): Sigmoid()\n",
       "          )\n",
       "          (3): Conv2dNormActivation(\n",
       "            (0): Conv2d(960, 160, kernel_size=(1, 1), stride=(1, 1), bias=False)\n",
       "            (1): BatchNorm2d(160, eps=0.001, momentum=0.01, affine=True, track_running_stats=True)\n",
       "          )\n",
       "        )\n",
       "        (stochastic_depth): StochasticDepth(p=0.07636363636363637, mode=row)\n",
       "      )\n",
       "      (4): MBConv(\n",
       "        (block): Sequential(\n",
       "          (0): Conv2dNormActivation(\n",
       "            (0): Conv2d(160, 960, kernel_size=(1, 1), stride=(1, 1), bias=False)\n",
       "            (1): BatchNorm2d(960, eps=0.001, momentum=0.01, affine=True, track_running_stats=True)\n",
       "            (2): SiLU(inplace=True)\n",
       "          )\n",
       "          (1): Conv2dNormActivation(\n",
       "            (0): Conv2d(960, 960, kernel_size=(3, 3), stride=(1, 1), padding=(1, 1), groups=960, bias=False)\n",
       "            (1): BatchNorm2d(960, eps=0.001, momentum=0.01, affine=True, track_running_stats=True)\n",
       "            (2): SiLU(inplace=True)\n",
       "          )\n",
       "          (2): SqueezeExcitation(\n",
       "            (avgpool): AdaptiveAvgPool2d(output_size=1)\n",
       "            (fc1): Conv2d(960, 40, kernel_size=(1, 1), stride=(1, 1))\n",
       "            (fc2): Conv2d(40, 960, kernel_size=(1, 1), stride=(1, 1))\n",
       "            (activation): SiLU(inplace=True)\n",
       "            (scale_activation): Sigmoid()\n",
       "          )\n",
       "          (3): Conv2dNormActivation(\n",
       "            (0): Conv2d(960, 160, kernel_size=(1, 1), stride=(1, 1), bias=False)\n",
       "            (1): BatchNorm2d(160, eps=0.001, momentum=0.01, affine=True, track_running_stats=True)\n",
       "          )\n",
       "        )\n",
       "        (stochastic_depth): StochasticDepth(p=0.08, mode=row)\n",
       "      )\n",
       "      (5): MBConv(\n",
       "        (block): Sequential(\n",
       "          (0): Conv2dNormActivation(\n",
       "            (0): Conv2d(160, 960, kernel_size=(1, 1), stride=(1, 1), bias=False)\n",
       "            (1): BatchNorm2d(960, eps=0.001, momentum=0.01, affine=True, track_running_stats=True)\n",
       "            (2): SiLU(inplace=True)\n",
       "          )\n",
       "          (1): Conv2dNormActivation(\n",
       "            (0): Conv2d(960, 960, kernel_size=(3, 3), stride=(1, 1), padding=(1, 1), groups=960, bias=False)\n",
       "            (1): BatchNorm2d(960, eps=0.001, momentum=0.01, affine=True, track_running_stats=True)\n",
       "            (2): SiLU(inplace=True)\n",
       "          )\n",
       "          (2): SqueezeExcitation(\n",
       "            (avgpool): AdaptiveAvgPool2d(output_size=1)\n",
       "            (fc1): Conv2d(960, 40, kernel_size=(1, 1), stride=(1, 1))\n",
       "            (fc2): Conv2d(40, 960, kernel_size=(1, 1), stride=(1, 1))\n",
       "            (activation): SiLU(inplace=True)\n",
       "            (scale_activation): Sigmoid()\n",
       "          )\n",
       "          (3): Conv2dNormActivation(\n",
       "            (0): Conv2d(960, 160, kernel_size=(1, 1), stride=(1, 1), bias=False)\n",
       "            (1): BatchNorm2d(160, eps=0.001, momentum=0.01, affine=True, track_running_stats=True)\n",
       "          )\n",
       "        )\n",
       "        (stochastic_depth): StochasticDepth(p=0.08363636363636365, mode=row)\n",
       "      )\n",
       "      (6): MBConv(\n",
       "        (block): Sequential(\n",
       "          (0): Conv2dNormActivation(\n",
       "            (0): Conv2d(160, 960, kernel_size=(1, 1), stride=(1, 1), bias=False)\n",
       "            (1): BatchNorm2d(960, eps=0.001, momentum=0.01, affine=True, track_running_stats=True)\n",
       "            (2): SiLU(inplace=True)\n",
       "          )\n",
       "          (1): Conv2dNormActivation(\n",
       "            (0): Conv2d(960, 960, kernel_size=(3, 3), stride=(1, 1), padding=(1, 1), groups=960, bias=False)\n",
       "            (1): BatchNorm2d(960, eps=0.001, momentum=0.01, affine=True, track_running_stats=True)\n",
       "            (2): SiLU(inplace=True)\n",
       "          )\n",
       "          (2): SqueezeExcitation(\n",
       "            (avgpool): AdaptiveAvgPool2d(output_size=1)\n",
       "            (fc1): Conv2d(960, 40, kernel_size=(1, 1), stride=(1, 1))\n",
       "            (fc2): Conv2d(40, 960, kernel_size=(1, 1), stride=(1, 1))\n",
       "            (activation): SiLU(inplace=True)\n",
       "            (scale_activation): Sigmoid()\n",
       "          )\n",
       "          (3): Conv2dNormActivation(\n",
       "            (0): Conv2d(960, 160, kernel_size=(1, 1), stride=(1, 1), bias=False)\n",
       "            (1): BatchNorm2d(160, eps=0.001, momentum=0.01, affine=True, track_running_stats=True)\n",
       "          )\n",
       "        )\n",
       "        (stochastic_depth): StochasticDepth(p=0.08727272727272728, mode=row)\n",
       "      )\n",
       "      (7): MBConv(\n",
       "        (block): Sequential(\n",
       "          (0): Conv2dNormActivation(\n",
       "            (0): Conv2d(160, 960, kernel_size=(1, 1), stride=(1, 1), bias=False)\n",
       "            (1): BatchNorm2d(960, eps=0.001, momentum=0.01, affine=True, track_running_stats=True)\n",
       "            (2): SiLU(inplace=True)\n",
       "          )\n",
       "          (1): Conv2dNormActivation(\n",
       "            (0): Conv2d(960, 960, kernel_size=(3, 3), stride=(1, 1), padding=(1, 1), groups=960, bias=False)\n",
       "            (1): BatchNorm2d(960, eps=0.001, momentum=0.01, affine=True, track_running_stats=True)\n",
       "            (2): SiLU(inplace=True)\n",
       "          )\n",
       "          (2): SqueezeExcitation(\n",
       "            (avgpool): AdaptiveAvgPool2d(output_size=1)\n",
       "            (fc1): Conv2d(960, 40, kernel_size=(1, 1), stride=(1, 1))\n",
       "            (fc2): Conv2d(40, 960, kernel_size=(1, 1), stride=(1, 1))\n",
       "            (activation): SiLU(inplace=True)\n",
       "            (scale_activation): Sigmoid()\n",
       "          )\n",
       "          (3): Conv2dNormActivation(\n",
       "            (0): Conv2d(960, 160, kernel_size=(1, 1), stride=(1, 1), bias=False)\n",
       "            (1): BatchNorm2d(160, eps=0.001, momentum=0.01, affine=True, track_running_stats=True)\n",
       "          )\n",
       "        )\n",
       "        (stochastic_depth): StochasticDepth(p=0.09090909090909091, mode=row)\n",
       "      )\n",
       "      (8): MBConv(\n",
       "        (block): Sequential(\n",
       "          (0): Conv2dNormActivation(\n",
       "            (0): Conv2d(160, 960, kernel_size=(1, 1), stride=(1, 1), bias=False)\n",
       "            (1): BatchNorm2d(960, eps=0.001, momentum=0.01, affine=True, track_running_stats=True)\n",
       "            (2): SiLU(inplace=True)\n",
       "          )\n",
       "          (1): Conv2dNormActivation(\n",
       "            (0): Conv2d(960, 960, kernel_size=(3, 3), stride=(1, 1), padding=(1, 1), groups=960, bias=False)\n",
       "            (1): BatchNorm2d(960, eps=0.001, momentum=0.01, affine=True, track_running_stats=True)\n",
       "            (2): SiLU(inplace=True)\n",
       "          )\n",
       "          (2): SqueezeExcitation(\n",
       "            (avgpool): AdaptiveAvgPool2d(output_size=1)\n",
       "            (fc1): Conv2d(960, 40, kernel_size=(1, 1), stride=(1, 1))\n",
       "            (fc2): Conv2d(40, 960, kernel_size=(1, 1), stride=(1, 1))\n",
       "            (activation): SiLU(inplace=True)\n",
       "            (scale_activation): Sigmoid()\n",
       "          )\n",
       "          (3): Conv2dNormActivation(\n",
       "            (0): Conv2d(960, 160, kernel_size=(1, 1), stride=(1, 1), bias=False)\n",
       "            (1): BatchNorm2d(160, eps=0.001, momentum=0.01, affine=True, track_running_stats=True)\n",
       "          )\n",
       "        )\n",
       "        (stochastic_depth): StochasticDepth(p=0.09454545454545454, mode=row)\n",
       "      )\n",
       "      (9): MBConv(\n",
       "        (block): Sequential(\n",
       "          (0): Conv2dNormActivation(\n",
       "            (0): Conv2d(160, 960, kernel_size=(1, 1), stride=(1, 1), bias=False)\n",
       "            (1): BatchNorm2d(960, eps=0.001, momentum=0.01, affine=True, track_running_stats=True)\n",
       "            (2): SiLU(inplace=True)\n",
       "          )\n",
       "          (1): Conv2dNormActivation(\n",
       "            (0): Conv2d(960, 960, kernel_size=(3, 3), stride=(1, 1), padding=(1, 1), groups=960, bias=False)\n",
       "            (1): BatchNorm2d(960, eps=0.001, momentum=0.01, affine=True, track_running_stats=True)\n",
       "            (2): SiLU(inplace=True)\n",
       "          )\n",
       "          (2): SqueezeExcitation(\n",
       "            (avgpool): AdaptiveAvgPool2d(output_size=1)\n",
       "            (fc1): Conv2d(960, 40, kernel_size=(1, 1), stride=(1, 1))\n",
       "            (fc2): Conv2d(40, 960, kernel_size=(1, 1), stride=(1, 1))\n",
       "            (activation): SiLU(inplace=True)\n",
       "            (scale_activation): Sigmoid()\n",
       "          )\n",
       "          (3): Conv2dNormActivation(\n",
       "            (0): Conv2d(960, 160, kernel_size=(1, 1), stride=(1, 1), bias=False)\n",
       "            (1): BatchNorm2d(160, eps=0.001, momentum=0.01, affine=True, track_running_stats=True)\n",
       "          )\n",
       "        )\n",
       "        (stochastic_depth): StochasticDepth(p=0.09818181818181819, mode=row)\n",
       "      )\n",
       "    )\n",
       "    (5): Sequential(\n",
       "      (0): MBConv(\n",
       "        (block): Sequential(\n",
       "          (0): Conv2dNormActivation(\n",
       "            (0): Conv2d(160, 960, kernel_size=(1, 1), stride=(1, 1), bias=False)\n",
       "            (1): BatchNorm2d(960, eps=0.001, momentum=0.01, affine=True, track_running_stats=True)\n",
       "            (2): SiLU(inplace=True)\n",
       "          )\n",
       "          (1): Conv2dNormActivation(\n",
       "            (0): Conv2d(960, 960, kernel_size=(5, 5), stride=(1, 1), padding=(2, 2), groups=960, bias=False)\n",
       "            (1): BatchNorm2d(960, eps=0.001, momentum=0.01, affine=True, track_running_stats=True)\n",
       "            (2): SiLU(inplace=True)\n",
       "          )\n",
       "          (2): SqueezeExcitation(\n",
       "            (avgpool): AdaptiveAvgPool2d(output_size=1)\n",
       "            (fc1): Conv2d(960, 40, kernel_size=(1, 1), stride=(1, 1))\n",
       "            (fc2): Conv2d(40, 960, kernel_size=(1, 1), stride=(1, 1))\n",
       "            (activation): SiLU(inplace=True)\n",
       "            (scale_activation): Sigmoid()\n",
       "          )\n",
       "          (3): Conv2dNormActivation(\n",
       "            (0): Conv2d(960, 224, kernel_size=(1, 1), stride=(1, 1), bias=False)\n",
       "            (1): BatchNorm2d(224, eps=0.001, momentum=0.01, affine=True, track_running_stats=True)\n",
       "          )\n",
       "        )\n",
       "        (stochastic_depth): StochasticDepth(p=0.10181818181818182, mode=row)\n",
       "      )\n",
       "      (1): MBConv(\n",
       "        (block): Sequential(\n",
       "          (0): Conv2dNormActivation(\n",
       "            (0): Conv2d(224, 1344, kernel_size=(1, 1), stride=(1, 1), bias=False)\n",
       "            (1): BatchNorm2d(1344, eps=0.001, momentum=0.01, affine=True, track_running_stats=True)\n",
       "            (2): SiLU(inplace=True)\n",
       "          )\n",
       "          (1): Conv2dNormActivation(\n",
       "            (0): Conv2d(1344, 1344, kernel_size=(5, 5), stride=(1, 1), padding=(2, 2), groups=1344, bias=False)\n",
       "            (1): BatchNorm2d(1344, eps=0.001, momentum=0.01, affine=True, track_running_stats=True)\n",
       "            (2): SiLU(inplace=True)\n",
       "          )\n",
       "          (2): SqueezeExcitation(\n",
       "            (avgpool): AdaptiveAvgPool2d(output_size=1)\n",
       "            (fc1): Conv2d(1344, 56, kernel_size=(1, 1), stride=(1, 1))\n",
       "            (fc2): Conv2d(56, 1344, kernel_size=(1, 1), stride=(1, 1))\n",
       "            (activation): SiLU(inplace=True)\n",
       "            (scale_activation): Sigmoid()\n",
       "          )\n",
       "          (3): Conv2dNormActivation(\n",
       "            (0): Conv2d(1344, 224, kernel_size=(1, 1), stride=(1, 1), bias=False)\n",
       "            (1): BatchNorm2d(224, eps=0.001, momentum=0.01, affine=True, track_running_stats=True)\n",
       "          )\n",
       "        )\n",
       "        (stochastic_depth): StochasticDepth(p=0.10545454545454547, mode=row)\n",
       "      )\n",
       "      (2): MBConv(\n",
       "        (block): Sequential(\n",
       "          (0): Conv2dNormActivation(\n",
       "            (0): Conv2d(224, 1344, kernel_size=(1, 1), stride=(1, 1), bias=False)\n",
       "            (1): BatchNorm2d(1344, eps=0.001, momentum=0.01, affine=True, track_running_stats=True)\n",
       "            (2): SiLU(inplace=True)\n",
       "          )\n",
       "          (1): Conv2dNormActivation(\n",
       "            (0): Conv2d(1344, 1344, kernel_size=(5, 5), stride=(1, 1), padding=(2, 2), groups=1344, bias=False)\n",
       "            (1): BatchNorm2d(1344, eps=0.001, momentum=0.01, affine=True, track_running_stats=True)\n",
       "            (2): SiLU(inplace=True)\n",
       "          )\n",
       "          (2): SqueezeExcitation(\n",
       "            (avgpool): AdaptiveAvgPool2d(output_size=1)\n",
       "            (fc1): Conv2d(1344, 56, kernel_size=(1, 1), stride=(1, 1))\n",
       "            (fc2): Conv2d(56, 1344, kernel_size=(1, 1), stride=(1, 1))\n",
       "            (activation): SiLU(inplace=True)\n",
       "            (scale_activation): Sigmoid()\n",
       "          )\n",
       "          (3): Conv2dNormActivation(\n",
       "            (0): Conv2d(1344, 224, kernel_size=(1, 1), stride=(1, 1), bias=False)\n",
       "            (1): BatchNorm2d(224, eps=0.001, momentum=0.01, affine=True, track_running_stats=True)\n",
       "          )\n",
       "        )\n",
       "        (stochastic_depth): StochasticDepth(p=0.10909090909090909, mode=row)\n",
       "      )\n",
       "      (3): MBConv(\n",
       "        (block): Sequential(\n",
       "          (0): Conv2dNormActivation(\n",
       "            (0): Conv2d(224, 1344, kernel_size=(1, 1), stride=(1, 1), bias=False)\n",
       "            (1): BatchNorm2d(1344, eps=0.001, momentum=0.01, affine=True, track_running_stats=True)\n",
       "            (2): SiLU(inplace=True)\n",
       "          )\n",
       "          (1): Conv2dNormActivation(\n",
       "            (0): Conv2d(1344, 1344, kernel_size=(5, 5), stride=(1, 1), padding=(2, 2), groups=1344, bias=False)\n",
       "            (1): BatchNorm2d(1344, eps=0.001, momentum=0.01, affine=True, track_running_stats=True)\n",
       "            (2): SiLU(inplace=True)\n",
       "          )\n",
       "          (2): SqueezeExcitation(\n",
       "            (avgpool): AdaptiveAvgPool2d(output_size=1)\n",
       "            (fc1): Conv2d(1344, 56, kernel_size=(1, 1), stride=(1, 1))\n",
       "            (fc2): Conv2d(56, 1344, kernel_size=(1, 1), stride=(1, 1))\n",
       "            (activation): SiLU(inplace=True)\n",
       "            (scale_activation): Sigmoid()\n",
       "          )\n",
       "          (3): Conv2dNormActivation(\n",
       "            (0): Conv2d(1344, 224, kernel_size=(1, 1), stride=(1, 1), bias=False)\n",
       "            (1): BatchNorm2d(224, eps=0.001, momentum=0.01, affine=True, track_running_stats=True)\n",
       "          )\n",
       "        )\n",
       "        (stochastic_depth): StochasticDepth(p=0.11272727272727273, mode=row)\n",
       "      )\n",
       "      (4): MBConv(\n",
       "        (block): Sequential(\n",
       "          (0): Conv2dNormActivation(\n",
       "            (0): Conv2d(224, 1344, kernel_size=(1, 1), stride=(1, 1), bias=False)\n",
       "            (1): BatchNorm2d(1344, eps=0.001, momentum=0.01, affine=True, track_running_stats=True)\n",
       "            (2): SiLU(inplace=True)\n",
       "          )\n",
       "          (1): Conv2dNormActivation(\n",
       "            (0): Conv2d(1344, 1344, kernel_size=(5, 5), stride=(1, 1), padding=(2, 2), groups=1344, bias=False)\n",
       "            (1): BatchNorm2d(1344, eps=0.001, momentum=0.01, affine=True, track_running_stats=True)\n",
       "            (2): SiLU(inplace=True)\n",
       "          )\n",
       "          (2): SqueezeExcitation(\n",
       "            (avgpool): AdaptiveAvgPool2d(output_size=1)\n",
       "            (fc1): Conv2d(1344, 56, kernel_size=(1, 1), stride=(1, 1))\n",
       "            (fc2): Conv2d(56, 1344, kernel_size=(1, 1), stride=(1, 1))\n",
       "            (activation): SiLU(inplace=True)\n",
       "            (scale_activation): Sigmoid()\n",
       "          )\n",
       "          (3): Conv2dNormActivation(\n",
       "            (0): Conv2d(1344, 224, kernel_size=(1, 1), stride=(1, 1), bias=False)\n",
       "            (1): BatchNorm2d(224, eps=0.001, momentum=0.01, affine=True, track_running_stats=True)\n",
       "          )\n",
       "        )\n",
       "        (stochastic_depth): StochasticDepth(p=0.11636363636363636, mode=row)\n",
       "      )\n",
       "      (5): MBConv(\n",
       "        (block): Sequential(\n",
       "          (0): Conv2dNormActivation(\n",
       "            (0): Conv2d(224, 1344, kernel_size=(1, 1), stride=(1, 1), bias=False)\n",
       "            (1): BatchNorm2d(1344, eps=0.001, momentum=0.01, affine=True, track_running_stats=True)\n",
       "            (2): SiLU(inplace=True)\n",
       "          )\n",
       "          (1): Conv2dNormActivation(\n",
       "            (0): Conv2d(1344, 1344, kernel_size=(5, 5), stride=(1, 1), padding=(2, 2), groups=1344, bias=False)\n",
       "            (1): BatchNorm2d(1344, eps=0.001, momentum=0.01, affine=True, track_running_stats=True)\n",
       "            (2): SiLU(inplace=True)\n",
       "          )\n",
       "          (2): SqueezeExcitation(\n",
       "            (avgpool): AdaptiveAvgPool2d(output_size=1)\n",
       "            (fc1): Conv2d(1344, 56, kernel_size=(1, 1), stride=(1, 1))\n",
       "            (fc2): Conv2d(56, 1344, kernel_size=(1, 1), stride=(1, 1))\n",
       "            (activation): SiLU(inplace=True)\n",
       "            (scale_activation): Sigmoid()\n",
       "          )\n",
       "          (3): Conv2dNormActivation(\n",
       "            (0): Conv2d(1344, 224, kernel_size=(1, 1), stride=(1, 1), bias=False)\n",
       "            (1): BatchNorm2d(224, eps=0.001, momentum=0.01, affine=True, track_running_stats=True)\n",
       "          )\n",
       "        )\n",
       "        (stochastic_depth): StochasticDepth(p=0.12000000000000001, mode=row)\n",
       "      )\n",
       "      (6): MBConv(\n",
       "        (block): Sequential(\n",
       "          (0): Conv2dNormActivation(\n",
       "            (0): Conv2d(224, 1344, kernel_size=(1, 1), stride=(1, 1), bias=False)\n",
       "            (1): BatchNorm2d(1344, eps=0.001, momentum=0.01, affine=True, track_running_stats=True)\n",
       "            (2): SiLU(inplace=True)\n",
       "          )\n",
       "          (1): Conv2dNormActivation(\n",
       "            (0): Conv2d(1344, 1344, kernel_size=(5, 5), stride=(1, 1), padding=(2, 2), groups=1344, bias=False)\n",
       "            (1): BatchNorm2d(1344, eps=0.001, momentum=0.01, affine=True, track_running_stats=True)\n",
       "            (2): SiLU(inplace=True)\n",
       "          )\n",
       "          (2): SqueezeExcitation(\n",
       "            (avgpool): AdaptiveAvgPool2d(output_size=1)\n",
       "            (fc1): Conv2d(1344, 56, kernel_size=(1, 1), stride=(1, 1))\n",
       "            (fc2): Conv2d(56, 1344, kernel_size=(1, 1), stride=(1, 1))\n",
       "            (activation): SiLU(inplace=True)\n",
       "            (scale_activation): Sigmoid()\n",
       "          )\n",
       "          (3): Conv2dNormActivation(\n",
       "            (0): Conv2d(1344, 224, kernel_size=(1, 1), stride=(1, 1), bias=False)\n",
       "            (1): BatchNorm2d(224, eps=0.001, momentum=0.01, affine=True, track_running_stats=True)\n",
       "          )\n",
       "        )\n",
       "        (stochastic_depth): StochasticDepth(p=0.12363636363636366, mode=row)\n",
       "      )\n",
       "      (7): MBConv(\n",
       "        (block): Sequential(\n",
       "          (0): Conv2dNormActivation(\n",
       "            (0): Conv2d(224, 1344, kernel_size=(1, 1), stride=(1, 1), bias=False)\n",
       "            (1): BatchNorm2d(1344, eps=0.001, momentum=0.01, affine=True, track_running_stats=True)\n",
       "            (2): SiLU(inplace=True)\n",
       "          )\n",
       "          (1): Conv2dNormActivation(\n",
       "            (0): Conv2d(1344, 1344, kernel_size=(5, 5), stride=(1, 1), padding=(2, 2), groups=1344, bias=False)\n",
       "            (1): BatchNorm2d(1344, eps=0.001, momentum=0.01, affine=True, track_running_stats=True)\n",
       "            (2): SiLU(inplace=True)\n",
       "          )\n",
       "          (2): SqueezeExcitation(\n",
       "            (avgpool): AdaptiveAvgPool2d(output_size=1)\n",
       "            (fc1): Conv2d(1344, 56, kernel_size=(1, 1), stride=(1, 1))\n",
       "            (fc2): Conv2d(56, 1344, kernel_size=(1, 1), stride=(1, 1))\n",
       "            (activation): SiLU(inplace=True)\n",
       "            (scale_activation): Sigmoid()\n",
       "          )\n",
       "          (3): Conv2dNormActivation(\n",
       "            (0): Conv2d(1344, 224, kernel_size=(1, 1), stride=(1, 1), bias=False)\n",
       "            (1): BatchNorm2d(224, eps=0.001, momentum=0.01, affine=True, track_running_stats=True)\n",
       "          )\n",
       "        )\n",
       "        (stochastic_depth): StochasticDepth(p=0.12727272727272726, mode=row)\n",
       "      )\n",
       "      (8): MBConv(\n",
       "        (block): Sequential(\n",
       "          (0): Conv2dNormActivation(\n",
       "            (0): Conv2d(224, 1344, kernel_size=(1, 1), stride=(1, 1), bias=False)\n",
       "            (1): BatchNorm2d(1344, eps=0.001, momentum=0.01, affine=True, track_running_stats=True)\n",
       "            (2): SiLU(inplace=True)\n",
       "          )\n",
       "          (1): Conv2dNormActivation(\n",
       "            (0): Conv2d(1344, 1344, kernel_size=(5, 5), stride=(1, 1), padding=(2, 2), groups=1344, bias=False)\n",
       "            (1): BatchNorm2d(1344, eps=0.001, momentum=0.01, affine=True, track_running_stats=True)\n",
       "            (2): SiLU(inplace=True)\n",
       "          )\n",
       "          (2): SqueezeExcitation(\n",
       "            (avgpool): AdaptiveAvgPool2d(output_size=1)\n",
       "            (fc1): Conv2d(1344, 56, kernel_size=(1, 1), stride=(1, 1))\n",
       "            (fc2): Conv2d(56, 1344, kernel_size=(1, 1), stride=(1, 1))\n",
       "            (activation): SiLU(inplace=True)\n",
       "            (scale_activation): Sigmoid()\n",
       "          )\n",
       "          (3): Conv2dNormActivation(\n",
       "            (0): Conv2d(1344, 224, kernel_size=(1, 1), stride=(1, 1), bias=False)\n",
       "            (1): BatchNorm2d(224, eps=0.001, momentum=0.01, affine=True, track_running_stats=True)\n",
       "          )\n",
       "        )\n",
       "        (stochastic_depth): StochasticDepth(p=0.13090909090909092, mode=row)\n",
       "      )\n",
       "      (9): MBConv(\n",
       "        (block): Sequential(\n",
       "          (0): Conv2dNormActivation(\n",
       "            (0): Conv2d(224, 1344, kernel_size=(1, 1), stride=(1, 1), bias=False)\n",
       "            (1): BatchNorm2d(1344, eps=0.001, momentum=0.01, affine=True, track_running_stats=True)\n",
       "            (2): SiLU(inplace=True)\n",
       "          )\n",
       "          (1): Conv2dNormActivation(\n",
       "            (0): Conv2d(1344, 1344, kernel_size=(5, 5), stride=(1, 1), padding=(2, 2), groups=1344, bias=False)\n",
       "            (1): BatchNorm2d(1344, eps=0.001, momentum=0.01, affine=True, track_running_stats=True)\n",
       "            (2): SiLU(inplace=True)\n",
       "          )\n",
       "          (2): SqueezeExcitation(\n",
       "            (avgpool): AdaptiveAvgPool2d(output_size=1)\n",
       "            (fc1): Conv2d(1344, 56, kernel_size=(1, 1), stride=(1, 1))\n",
       "            (fc2): Conv2d(56, 1344, kernel_size=(1, 1), stride=(1, 1))\n",
       "            (activation): SiLU(inplace=True)\n",
       "            (scale_activation): Sigmoid()\n",
       "          )\n",
       "          (3): Conv2dNormActivation(\n",
       "            (0): Conv2d(1344, 224, kernel_size=(1, 1), stride=(1, 1), bias=False)\n",
       "            (1): BatchNorm2d(224, eps=0.001, momentum=0.01, affine=True, track_running_stats=True)\n",
       "          )\n",
       "        )\n",
       "        (stochastic_depth): StochasticDepth(p=0.13454545454545455, mode=row)\n",
       "      )\n",
       "    )\n",
       "    (6): Sequential(\n",
       "      (0): MBConv(\n",
       "        (block): Sequential(\n",
       "          (0): Conv2dNormActivation(\n",
       "            (0): Conv2d(224, 1344, kernel_size=(1, 1), stride=(1, 1), bias=False)\n",
       "            (1): BatchNorm2d(1344, eps=0.001, momentum=0.01, affine=True, track_running_stats=True)\n",
       "            (2): SiLU(inplace=True)\n",
       "          )\n",
       "          (1): Conv2dNormActivation(\n",
       "            (0): Conv2d(1344, 1344, kernel_size=(5, 5), stride=(2, 2), padding=(2, 2), groups=1344, bias=False)\n",
       "            (1): BatchNorm2d(1344, eps=0.001, momentum=0.01, affine=True, track_running_stats=True)\n",
       "            (2): SiLU(inplace=True)\n",
       "          )\n",
       "          (2): SqueezeExcitation(\n",
       "            (avgpool): AdaptiveAvgPool2d(output_size=1)\n",
       "            (fc1): Conv2d(1344, 56, kernel_size=(1, 1), stride=(1, 1))\n",
       "            (fc2): Conv2d(56, 1344, kernel_size=(1, 1), stride=(1, 1))\n",
       "            (activation): SiLU(inplace=True)\n",
       "            (scale_activation): Sigmoid()\n",
       "          )\n",
       "          (3): Conv2dNormActivation(\n",
       "            (0): Conv2d(1344, 384, kernel_size=(1, 1), stride=(1, 1), bias=False)\n",
       "            (1): BatchNorm2d(384, eps=0.001, momentum=0.01, affine=True, track_running_stats=True)\n",
       "          )\n",
       "        )\n",
       "        (stochastic_depth): StochasticDepth(p=0.13818181818181818, mode=row)\n",
       "      )\n",
       "      (1): MBConv(\n",
       "        (block): Sequential(\n",
       "          (0): Conv2dNormActivation(\n",
       "            (0): Conv2d(384, 2304, kernel_size=(1, 1), stride=(1, 1), bias=False)\n",
       "            (1): BatchNorm2d(2304, eps=0.001, momentum=0.01, affine=True, track_running_stats=True)\n",
       "            (2): SiLU(inplace=True)\n",
       "          )\n",
       "          (1): Conv2dNormActivation(\n",
       "            (0): Conv2d(2304, 2304, kernel_size=(5, 5), stride=(1, 1), padding=(2, 2), groups=2304, bias=False)\n",
       "            (1): BatchNorm2d(2304, eps=0.001, momentum=0.01, affine=True, track_running_stats=True)\n",
       "            (2): SiLU(inplace=True)\n",
       "          )\n",
       "          (2): SqueezeExcitation(\n",
       "            (avgpool): AdaptiveAvgPool2d(output_size=1)\n",
       "            (fc1): Conv2d(2304, 96, kernel_size=(1, 1), stride=(1, 1))\n",
       "            (fc2): Conv2d(96, 2304, kernel_size=(1, 1), stride=(1, 1))\n",
       "            (activation): SiLU(inplace=True)\n",
       "            (scale_activation): Sigmoid()\n",
       "          )\n",
       "          (3): Conv2dNormActivation(\n",
       "            (0): Conv2d(2304, 384, kernel_size=(1, 1), stride=(1, 1), bias=False)\n",
       "            (1): BatchNorm2d(384, eps=0.001, momentum=0.01, affine=True, track_running_stats=True)\n",
       "          )\n",
       "        )\n",
       "        (stochastic_depth): StochasticDepth(p=0.14181818181818184, mode=row)\n",
       "      )\n",
       "      (2): MBConv(\n",
       "        (block): Sequential(\n",
       "          (0): Conv2dNormActivation(\n",
       "            (0): Conv2d(384, 2304, kernel_size=(1, 1), stride=(1, 1), bias=False)\n",
       "            (1): BatchNorm2d(2304, eps=0.001, momentum=0.01, affine=True, track_running_stats=True)\n",
       "            (2): SiLU(inplace=True)\n",
       "          )\n",
       "          (1): Conv2dNormActivation(\n",
       "            (0): Conv2d(2304, 2304, kernel_size=(5, 5), stride=(1, 1), padding=(2, 2), groups=2304, bias=False)\n",
       "            (1): BatchNorm2d(2304, eps=0.001, momentum=0.01, affine=True, track_running_stats=True)\n",
       "            (2): SiLU(inplace=True)\n",
       "          )\n",
       "          (2): SqueezeExcitation(\n",
       "            (avgpool): AdaptiveAvgPool2d(output_size=1)\n",
       "            (fc1): Conv2d(2304, 96, kernel_size=(1, 1), stride=(1, 1))\n",
       "            (fc2): Conv2d(96, 2304, kernel_size=(1, 1), stride=(1, 1))\n",
       "            (activation): SiLU(inplace=True)\n",
       "            (scale_activation): Sigmoid()\n",
       "          )\n",
       "          (3): Conv2dNormActivation(\n",
       "            (0): Conv2d(2304, 384, kernel_size=(1, 1), stride=(1, 1), bias=False)\n",
       "            (1): BatchNorm2d(384, eps=0.001, momentum=0.01, affine=True, track_running_stats=True)\n",
       "          )\n",
       "        )\n",
       "        (stochastic_depth): StochasticDepth(p=0.14545454545454545, mode=row)\n",
       "      )\n",
       "      (3): MBConv(\n",
       "        (block): Sequential(\n",
       "          (0): Conv2dNormActivation(\n",
       "            (0): Conv2d(384, 2304, kernel_size=(1, 1), stride=(1, 1), bias=False)\n",
       "            (1): BatchNorm2d(2304, eps=0.001, momentum=0.01, affine=True, track_running_stats=True)\n",
       "            (2): SiLU(inplace=True)\n",
       "          )\n",
       "          (1): Conv2dNormActivation(\n",
       "            (0): Conv2d(2304, 2304, kernel_size=(5, 5), stride=(1, 1), padding=(2, 2), groups=2304, bias=False)\n",
       "            (1): BatchNorm2d(2304, eps=0.001, momentum=0.01, affine=True, track_running_stats=True)\n",
       "            (2): SiLU(inplace=True)\n",
       "          )\n",
       "          (2): SqueezeExcitation(\n",
       "            (avgpool): AdaptiveAvgPool2d(output_size=1)\n",
       "            (fc1): Conv2d(2304, 96, kernel_size=(1, 1), stride=(1, 1))\n",
       "            (fc2): Conv2d(96, 2304, kernel_size=(1, 1), stride=(1, 1))\n",
       "            (activation): SiLU(inplace=True)\n",
       "            (scale_activation): Sigmoid()\n",
       "          )\n",
       "          (3): Conv2dNormActivation(\n",
       "            (0): Conv2d(2304, 384, kernel_size=(1, 1), stride=(1, 1), bias=False)\n",
       "            (1): BatchNorm2d(384, eps=0.001, momentum=0.01, affine=True, track_running_stats=True)\n",
       "          )\n",
       "        )\n",
       "        (stochastic_depth): StochasticDepth(p=0.1490909090909091, mode=row)\n",
       "      )\n",
       "      (4): MBConv(\n",
       "        (block): Sequential(\n",
       "          (0): Conv2dNormActivation(\n",
       "            (0): Conv2d(384, 2304, kernel_size=(1, 1), stride=(1, 1), bias=False)\n",
       "            (1): BatchNorm2d(2304, eps=0.001, momentum=0.01, affine=True, track_running_stats=True)\n",
       "            (2): SiLU(inplace=True)\n",
       "          )\n",
       "          (1): Conv2dNormActivation(\n",
       "            (0): Conv2d(2304, 2304, kernel_size=(5, 5), stride=(1, 1), padding=(2, 2), groups=2304, bias=False)\n",
       "            (1): BatchNorm2d(2304, eps=0.001, momentum=0.01, affine=True, track_running_stats=True)\n",
       "            (2): SiLU(inplace=True)\n",
       "          )\n",
       "          (2): SqueezeExcitation(\n",
       "            (avgpool): AdaptiveAvgPool2d(output_size=1)\n",
       "            (fc1): Conv2d(2304, 96, kernel_size=(1, 1), stride=(1, 1))\n",
       "            (fc2): Conv2d(96, 2304, kernel_size=(1, 1), stride=(1, 1))\n",
       "            (activation): SiLU(inplace=True)\n",
       "            (scale_activation): Sigmoid()\n",
       "          )\n",
       "          (3): Conv2dNormActivation(\n",
       "            (0): Conv2d(2304, 384, kernel_size=(1, 1), stride=(1, 1), bias=False)\n",
       "            (1): BatchNorm2d(384, eps=0.001, momentum=0.01, affine=True, track_running_stats=True)\n",
       "          )\n",
       "        )\n",
       "        (stochastic_depth): StochasticDepth(p=0.15272727272727274, mode=row)\n",
       "      )\n",
       "      (5): MBConv(\n",
       "        (block): Sequential(\n",
       "          (0): Conv2dNormActivation(\n",
       "            (0): Conv2d(384, 2304, kernel_size=(1, 1), stride=(1, 1), bias=False)\n",
       "            (1): BatchNorm2d(2304, eps=0.001, momentum=0.01, affine=True, track_running_stats=True)\n",
       "            (2): SiLU(inplace=True)\n",
       "          )\n",
       "          (1): Conv2dNormActivation(\n",
       "            (0): Conv2d(2304, 2304, kernel_size=(5, 5), stride=(1, 1), padding=(2, 2), groups=2304, bias=False)\n",
       "            (1): BatchNorm2d(2304, eps=0.001, momentum=0.01, affine=True, track_running_stats=True)\n",
       "            (2): SiLU(inplace=True)\n",
       "          )\n",
       "          (2): SqueezeExcitation(\n",
       "            (avgpool): AdaptiveAvgPool2d(output_size=1)\n",
       "            (fc1): Conv2d(2304, 96, kernel_size=(1, 1), stride=(1, 1))\n",
       "            (fc2): Conv2d(96, 2304, kernel_size=(1, 1), stride=(1, 1))\n",
       "            (activation): SiLU(inplace=True)\n",
       "            (scale_activation): Sigmoid()\n",
       "          )\n",
       "          (3): Conv2dNormActivation(\n",
       "            (0): Conv2d(2304, 384, kernel_size=(1, 1), stride=(1, 1), bias=False)\n",
       "            (1): BatchNorm2d(384, eps=0.001, momentum=0.01, affine=True, track_running_stats=True)\n",
       "          )\n",
       "        )\n",
       "        (stochastic_depth): StochasticDepth(p=0.15636363636363634, mode=row)\n",
       "      )\n",
       "      (6): MBConv(\n",
       "        (block): Sequential(\n",
       "          (0): Conv2dNormActivation(\n",
       "            (0): Conv2d(384, 2304, kernel_size=(1, 1), stride=(1, 1), bias=False)\n",
       "            (1): BatchNorm2d(2304, eps=0.001, momentum=0.01, affine=True, track_running_stats=True)\n",
       "            (2): SiLU(inplace=True)\n",
       "          )\n",
       "          (1): Conv2dNormActivation(\n",
       "            (0): Conv2d(2304, 2304, kernel_size=(5, 5), stride=(1, 1), padding=(2, 2), groups=2304, bias=False)\n",
       "            (1): BatchNorm2d(2304, eps=0.001, momentum=0.01, affine=True, track_running_stats=True)\n",
       "            (2): SiLU(inplace=True)\n",
       "          )\n",
       "          (2): SqueezeExcitation(\n",
       "            (avgpool): AdaptiveAvgPool2d(output_size=1)\n",
       "            (fc1): Conv2d(2304, 96, kernel_size=(1, 1), stride=(1, 1))\n",
       "            (fc2): Conv2d(96, 2304, kernel_size=(1, 1), stride=(1, 1))\n",
       "            (activation): SiLU(inplace=True)\n",
       "            (scale_activation): Sigmoid()\n",
       "          )\n",
       "          (3): Conv2dNormActivation(\n",
       "            (0): Conv2d(2304, 384, kernel_size=(1, 1), stride=(1, 1), bias=False)\n",
       "            (1): BatchNorm2d(384, eps=0.001, momentum=0.01, affine=True, track_running_stats=True)\n",
       "          )\n",
       "        )\n",
       "        (stochastic_depth): StochasticDepth(p=0.16, mode=row)\n",
       "      )\n",
       "      (7): MBConv(\n",
       "        (block): Sequential(\n",
       "          (0): Conv2dNormActivation(\n",
       "            (0): Conv2d(384, 2304, kernel_size=(1, 1), stride=(1, 1), bias=False)\n",
       "            (1): BatchNorm2d(2304, eps=0.001, momentum=0.01, affine=True, track_running_stats=True)\n",
       "            (2): SiLU(inplace=True)\n",
       "          )\n",
       "          (1): Conv2dNormActivation(\n",
       "            (0): Conv2d(2304, 2304, kernel_size=(5, 5), stride=(1, 1), padding=(2, 2), groups=2304, bias=False)\n",
       "            (1): BatchNorm2d(2304, eps=0.001, momentum=0.01, affine=True, track_running_stats=True)\n",
       "            (2): SiLU(inplace=True)\n",
       "          )\n",
       "          (2): SqueezeExcitation(\n",
       "            (avgpool): AdaptiveAvgPool2d(output_size=1)\n",
       "            (fc1): Conv2d(2304, 96, kernel_size=(1, 1), stride=(1, 1))\n",
       "            (fc2): Conv2d(96, 2304, kernel_size=(1, 1), stride=(1, 1))\n",
       "            (activation): SiLU(inplace=True)\n",
       "            (scale_activation): Sigmoid()\n",
       "          )\n",
       "          (3): Conv2dNormActivation(\n",
       "            (0): Conv2d(2304, 384, kernel_size=(1, 1), stride=(1, 1), bias=False)\n",
       "            (1): BatchNorm2d(384, eps=0.001, momentum=0.01, affine=True, track_running_stats=True)\n",
       "          )\n",
       "        )\n",
       "        (stochastic_depth): StochasticDepth(p=0.16363636363636364, mode=row)\n",
       "      )\n",
       "      (8): MBConv(\n",
       "        (block): Sequential(\n",
       "          (0): Conv2dNormActivation(\n",
       "            (0): Conv2d(384, 2304, kernel_size=(1, 1), stride=(1, 1), bias=False)\n",
       "            (1): BatchNorm2d(2304, eps=0.001, momentum=0.01, affine=True, track_running_stats=True)\n",
       "            (2): SiLU(inplace=True)\n",
       "          )\n",
       "          (1): Conv2dNormActivation(\n",
       "            (0): Conv2d(2304, 2304, kernel_size=(5, 5), stride=(1, 1), padding=(2, 2), groups=2304, bias=False)\n",
       "            (1): BatchNorm2d(2304, eps=0.001, momentum=0.01, affine=True, track_running_stats=True)\n",
       "            (2): SiLU(inplace=True)\n",
       "          )\n",
       "          (2): SqueezeExcitation(\n",
       "            (avgpool): AdaptiveAvgPool2d(output_size=1)\n",
       "            (fc1): Conv2d(2304, 96, kernel_size=(1, 1), stride=(1, 1))\n",
       "            (fc2): Conv2d(96, 2304, kernel_size=(1, 1), stride=(1, 1))\n",
       "            (activation): SiLU(inplace=True)\n",
       "            (scale_activation): Sigmoid()\n",
       "          )\n",
       "          (3): Conv2dNormActivation(\n",
       "            (0): Conv2d(2304, 384, kernel_size=(1, 1), stride=(1, 1), bias=False)\n",
       "            (1): BatchNorm2d(384, eps=0.001, momentum=0.01, affine=True, track_running_stats=True)\n",
       "          )\n",
       "        )\n",
       "        (stochastic_depth): StochasticDepth(p=0.1672727272727273, mode=row)\n",
       "      )\n",
       "      (9): MBConv(\n",
       "        (block): Sequential(\n",
       "          (0): Conv2dNormActivation(\n",
       "            (0): Conv2d(384, 2304, kernel_size=(1, 1), stride=(1, 1), bias=False)\n",
       "            (1): BatchNorm2d(2304, eps=0.001, momentum=0.01, affine=True, track_running_stats=True)\n",
       "            (2): SiLU(inplace=True)\n",
       "          )\n",
       "          (1): Conv2dNormActivation(\n",
       "            (0): Conv2d(2304, 2304, kernel_size=(5, 5), stride=(1, 1), padding=(2, 2), groups=2304, bias=False)\n",
       "            (1): BatchNorm2d(2304, eps=0.001, momentum=0.01, affine=True, track_running_stats=True)\n",
       "            (2): SiLU(inplace=True)\n",
       "          )\n",
       "          (2): SqueezeExcitation(\n",
       "            (avgpool): AdaptiveAvgPool2d(output_size=1)\n",
       "            (fc1): Conv2d(2304, 96, kernel_size=(1, 1), stride=(1, 1))\n",
       "            (fc2): Conv2d(96, 2304, kernel_size=(1, 1), stride=(1, 1))\n",
       "            (activation): SiLU(inplace=True)\n",
       "            (scale_activation): Sigmoid()\n",
       "          )\n",
       "          (3): Conv2dNormActivation(\n",
       "            (0): Conv2d(2304, 384, kernel_size=(1, 1), stride=(1, 1), bias=False)\n",
       "            (1): BatchNorm2d(384, eps=0.001, momentum=0.01, affine=True, track_running_stats=True)\n",
       "          )\n",
       "        )\n",
       "        (stochastic_depth): StochasticDepth(p=0.17090909090909093, mode=row)\n",
       "      )\n",
       "      (10): MBConv(\n",
       "        (block): Sequential(\n",
       "          (0): Conv2dNormActivation(\n",
       "            (0): Conv2d(384, 2304, kernel_size=(1, 1), stride=(1, 1), bias=False)\n",
       "            (1): BatchNorm2d(2304, eps=0.001, momentum=0.01, affine=True, track_running_stats=True)\n",
       "            (2): SiLU(inplace=True)\n",
       "          )\n",
       "          (1): Conv2dNormActivation(\n",
       "            (0): Conv2d(2304, 2304, kernel_size=(5, 5), stride=(1, 1), padding=(2, 2), groups=2304, bias=False)\n",
       "            (1): BatchNorm2d(2304, eps=0.001, momentum=0.01, affine=True, track_running_stats=True)\n",
       "            (2): SiLU(inplace=True)\n",
       "          )\n",
       "          (2): SqueezeExcitation(\n",
       "            (avgpool): AdaptiveAvgPool2d(output_size=1)\n",
       "            (fc1): Conv2d(2304, 96, kernel_size=(1, 1), stride=(1, 1))\n",
       "            (fc2): Conv2d(96, 2304, kernel_size=(1, 1), stride=(1, 1))\n",
       "            (activation): SiLU(inplace=True)\n",
       "            (scale_activation): Sigmoid()\n",
       "          )\n",
       "          (3): Conv2dNormActivation(\n",
       "            (0): Conv2d(2304, 384, kernel_size=(1, 1), stride=(1, 1), bias=False)\n",
       "            (1): BatchNorm2d(384, eps=0.001, momentum=0.01, affine=True, track_running_stats=True)\n",
       "          )\n",
       "        )\n",
       "        (stochastic_depth): StochasticDepth(p=0.17454545454545456, mode=row)\n",
       "      )\n",
       "      (11): MBConv(\n",
       "        (block): Sequential(\n",
       "          (0): Conv2dNormActivation(\n",
       "            (0): Conv2d(384, 2304, kernel_size=(1, 1), stride=(1, 1), bias=False)\n",
       "            (1): BatchNorm2d(2304, eps=0.001, momentum=0.01, affine=True, track_running_stats=True)\n",
       "            (2): SiLU(inplace=True)\n",
       "          )\n",
       "          (1): Conv2dNormActivation(\n",
       "            (0): Conv2d(2304, 2304, kernel_size=(5, 5), stride=(1, 1), padding=(2, 2), groups=2304, bias=False)\n",
       "            (1): BatchNorm2d(2304, eps=0.001, momentum=0.01, affine=True, track_running_stats=True)\n",
       "            (2): SiLU(inplace=True)\n",
       "          )\n",
       "          (2): SqueezeExcitation(\n",
       "            (avgpool): AdaptiveAvgPool2d(output_size=1)\n",
       "            (fc1): Conv2d(2304, 96, kernel_size=(1, 1), stride=(1, 1))\n",
       "            (fc2): Conv2d(96, 2304, kernel_size=(1, 1), stride=(1, 1))\n",
       "            (activation): SiLU(inplace=True)\n",
       "            (scale_activation): Sigmoid()\n",
       "          )\n",
       "          (3): Conv2dNormActivation(\n",
       "            (0): Conv2d(2304, 384, kernel_size=(1, 1), stride=(1, 1), bias=False)\n",
       "            (1): BatchNorm2d(384, eps=0.001, momentum=0.01, affine=True, track_running_stats=True)\n",
       "          )\n",
       "        )\n",
       "        (stochastic_depth): StochasticDepth(p=0.1781818181818182, mode=row)\n",
       "      )\n",
       "      (12): MBConv(\n",
       "        (block): Sequential(\n",
       "          (0): Conv2dNormActivation(\n",
       "            (0): Conv2d(384, 2304, kernel_size=(1, 1), stride=(1, 1), bias=False)\n",
       "            (1): BatchNorm2d(2304, eps=0.001, momentum=0.01, affine=True, track_running_stats=True)\n",
       "            (2): SiLU(inplace=True)\n",
       "          )\n",
       "          (1): Conv2dNormActivation(\n",
       "            (0): Conv2d(2304, 2304, kernel_size=(5, 5), stride=(1, 1), padding=(2, 2), groups=2304, bias=False)\n",
       "            (1): BatchNorm2d(2304, eps=0.001, momentum=0.01, affine=True, track_running_stats=True)\n",
       "            (2): SiLU(inplace=True)\n",
       "          )\n",
       "          (2): SqueezeExcitation(\n",
       "            (avgpool): AdaptiveAvgPool2d(output_size=1)\n",
       "            (fc1): Conv2d(2304, 96, kernel_size=(1, 1), stride=(1, 1))\n",
       "            (fc2): Conv2d(96, 2304, kernel_size=(1, 1), stride=(1, 1))\n",
       "            (activation): SiLU(inplace=True)\n",
       "            (scale_activation): Sigmoid()\n",
       "          )\n",
       "          (3): Conv2dNormActivation(\n",
       "            (0): Conv2d(2304, 384, kernel_size=(1, 1), stride=(1, 1), bias=False)\n",
       "            (1): BatchNorm2d(384, eps=0.001, momentum=0.01, affine=True, track_running_stats=True)\n",
       "          )\n",
       "        )\n",
       "        (stochastic_depth): StochasticDepth(p=0.18181818181818182, mode=row)\n",
       "      )\n",
       "    )\n",
       "    (7): Sequential(\n",
       "      (0): MBConv(\n",
       "        (block): Sequential(\n",
       "          (0): Conv2dNormActivation(\n",
       "            (0): Conv2d(384, 2304, kernel_size=(1, 1), stride=(1, 1), bias=False)\n",
       "            (1): BatchNorm2d(2304, eps=0.001, momentum=0.01, affine=True, track_running_stats=True)\n",
       "            (2): SiLU(inplace=True)\n",
       "          )\n",
       "          (1): Conv2dNormActivation(\n",
       "            (0): Conv2d(2304, 2304, kernel_size=(3, 3), stride=(1, 1), padding=(1, 1), groups=2304, bias=False)\n",
       "            (1): BatchNorm2d(2304, eps=0.001, momentum=0.01, affine=True, track_running_stats=True)\n",
       "            (2): SiLU(inplace=True)\n",
       "          )\n",
       "          (2): SqueezeExcitation(\n",
       "            (avgpool): AdaptiveAvgPool2d(output_size=1)\n",
       "            (fc1): Conv2d(2304, 96, kernel_size=(1, 1), stride=(1, 1))\n",
       "            (fc2): Conv2d(96, 2304, kernel_size=(1, 1), stride=(1, 1))\n",
       "            (activation): SiLU(inplace=True)\n",
       "            (scale_activation): Sigmoid()\n",
       "          )\n",
       "          (3): Conv2dNormActivation(\n",
       "            (0): Conv2d(2304, 640, kernel_size=(1, 1), stride=(1, 1), bias=False)\n",
       "            (1): BatchNorm2d(640, eps=0.001, momentum=0.01, affine=True, track_running_stats=True)\n",
       "          )\n",
       "        )\n",
       "        (stochastic_depth): StochasticDepth(p=0.18545454545454548, mode=row)\n",
       "      )\n",
       "      (1): MBConv(\n",
       "        (block): Sequential(\n",
       "          (0): Conv2dNormActivation(\n",
       "            (0): Conv2d(640, 3840, kernel_size=(1, 1), stride=(1, 1), bias=False)\n",
       "            (1): BatchNorm2d(3840, eps=0.001, momentum=0.01, affine=True, track_running_stats=True)\n",
       "            (2): SiLU(inplace=True)\n",
       "          )\n",
       "          (1): Conv2dNormActivation(\n",
       "            (0): Conv2d(3840, 3840, kernel_size=(3, 3), stride=(1, 1), padding=(1, 1), groups=3840, bias=False)\n",
       "            (1): BatchNorm2d(3840, eps=0.001, momentum=0.01, affine=True, track_running_stats=True)\n",
       "            (2): SiLU(inplace=True)\n",
       "          )\n",
       "          (2): SqueezeExcitation(\n",
       "            (avgpool): AdaptiveAvgPool2d(output_size=1)\n",
       "            (fc1): Conv2d(3840, 160, kernel_size=(1, 1), stride=(1, 1))\n",
       "            (fc2): Conv2d(160, 3840, kernel_size=(1, 1), stride=(1, 1))\n",
       "            (activation): SiLU(inplace=True)\n",
       "            (scale_activation): Sigmoid()\n",
       "          )\n",
       "          (3): Conv2dNormActivation(\n",
       "            (0): Conv2d(3840, 640, kernel_size=(1, 1), stride=(1, 1), bias=False)\n",
       "            (1): BatchNorm2d(640, eps=0.001, momentum=0.01, affine=True, track_running_stats=True)\n",
       "          )\n",
       "        )\n",
       "        (stochastic_depth): StochasticDepth(p=0.1890909090909091, mode=row)\n",
       "      )\n",
       "      (2): MBConv(\n",
       "        (block): Sequential(\n",
       "          (0): Conv2dNormActivation(\n",
       "            (0): Conv2d(640, 3840, kernel_size=(1, 1), stride=(1, 1), bias=False)\n",
       "            (1): BatchNorm2d(3840, eps=0.001, momentum=0.01, affine=True, track_running_stats=True)\n",
       "            (2): SiLU(inplace=True)\n",
       "          )\n",
       "          (1): Conv2dNormActivation(\n",
       "            (0): Conv2d(3840, 3840, kernel_size=(3, 3), stride=(1, 1), padding=(1, 1), groups=3840, bias=False)\n",
       "            (1): BatchNorm2d(3840, eps=0.001, momentum=0.01, affine=True, track_running_stats=True)\n",
       "            (2): SiLU(inplace=True)\n",
       "          )\n",
       "          (2): SqueezeExcitation(\n",
       "            (avgpool): AdaptiveAvgPool2d(output_size=1)\n",
       "            (fc1): Conv2d(3840, 160, kernel_size=(1, 1), stride=(1, 1))\n",
       "            (fc2): Conv2d(160, 3840, kernel_size=(1, 1), stride=(1, 1))\n",
       "            (activation): SiLU(inplace=True)\n",
       "            (scale_activation): Sigmoid()\n",
       "          )\n",
       "          (3): Conv2dNormActivation(\n",
       "            (0): Conv2d(3840, 640, kernel_size=(1, 1), stride=(1, 1), bias=False)\n",
       "            (1): BatchNorm2d(640, eps=0.001, momentum=0.01, affine=True, track_running_stats=True)\n",
       "          )\n",
       "        )\n",
       "        (stochastic_depth): StochasticDepth(p=0.19272727272727275, mode=row)\n",
       "      )\n",
       "      (3): MBConv(\n",
       "        (block): Sequential(\n",
       "          (0): Conv2dNormActivation(\n",
       "            (0): Conv2d(640, 3840, kernel_size=(1, 1), stride=(1, 1), bias=False)\n",
       "            (1): BatchNorm2d(3840, eps=0.001, momentum=0.01, affine=True, track_running_stats=True)\n",
       "            (2): SiLU(inplace=True)\n",
       "          )\n",
       "          (1): Conv2dNormActivation(\n",
       "            (0): Conv2d(3840, 3840, kernel_size=(3, 3), stride=(1, 1), padding=(1, 1), groups=3840, bias=False)\n",
       "            (1): BatchNorm2d(3840, eps=0.001, momentum=0.01, affine=True, track_running_stats=True)\n",
       "            (2): SiLU(inplace=True)\n",
       "          )\n",
       "          (2): SqueezeExcitation(\n",
       "            (avgpool): AdaptiveAvgPool2d(output_size=1)\n",
       "            (fc1): Conv2d(3840, 160, kernel_size=(1, 1), stride=(1, 1))\n",
       "            (fc2): Conv2d(160, 3840, kernel_size=(1, 1), stride=(1, 1))\n",
       "            (activation): SiLU(inplace=True)\n",
       "            (scale_activation): Sigmoid()\n",
       "          )\n",
       "          (3): Conv2dNormActivation(\n",
       "            (0): Conv2d(3840, 640, kernel_size=(1, 1), stride=(1, 1), bias=False)\n",
       "            (1): BatchNorm2d(640, eps=0.001, momentum=0.01, affine=True, track_running_stats=True)\n",
       "          )\n",
       "        )\n",
       "        (stochastic_depth): StochasticDepth(p=0.19636363636363638, mode=row)\n",
       "      )\n",
       "    )\n",
       "    (8): Conv2dNormActivation(\n",
       "      (0): Conv2d(640, 2560, kernel_size=(1, 1), stride=(1, 1), bias=False)\n",
       "      (1): BatchNorm2d(2560, eps=0.001, momentum=0.01, affine=True, track_running_stats=True)\n",
       "      (2): SiLU(inplace=True)\n",
       "    )\n",
       "  )\n",
       "  (avgpool): AdaptiveAvgPool2d(output_size=1)\n",
       "  (classifier): Sequential(\n",
       "    (0): Dropout(p=0.5, inplace=True)\n",
       "    (1): Linear(in_features=2560, out_features=1000, bias=True)\n",
       "  )\n",
       ")"
      ]
     },
     "execution_count": 4,
     "metadata": {},
     "output_type": "execute_result"
    }
   ],
   "source": [
    "efficient_net = models.efficientnet_b7(pretrained=True)\n",
    "efficient_net.eval()\n",
    "# torch.save(efficient_net.state_dict, 'Data/Model/EfficientNetB7.pth')"
   ]
  },
  {
   "attachments": {},
   "cell_type": "markdown",
   "metadata": {},
   "source": [
    "Saving image addresses in list, and reading ImageNet Classes"
   ]
  },
  {
   "cell_type": "code",
   "execution_count": 5,
   "metadata": {},
   "outputs": [],
   "source": [
    "transform = transforms.Compose([\n",
    "    transforms.ToPILImage(),\n",
    "    transforms.Resize(256),\n",
    "    transforms.CenterCrop(224),\n",
    "    transforms.ToTensor(),\n",
    "    transforms.Normalize(mean=[.485, .456, .406],\n",
    "                         std=[.229, .224, .225])\n",
    "])\n",
    "image_directory = 'Data/Images'\n",
    "\n",
    "# reading ImageNet Classes\n",
    "with open('Data/ilsvrc2012_wordnet_lemmas.txt', 'r') as f:\n",
    "    categories = [s.strip() for s in f.readlines()]"
   ]
  },
  {
   "attachments": {},
   "cell_type": "markdown",
   "metadata": {},
   "source": [
    "Iterating all the images and classifying them."
   ]
  },
  {
   "cell_type": "code",
   "execution_count": 33,
   "metadata": {},
   "outputs": [
    {
     "name": "stderr",
     "output_type": "stream",
     "text": [
      "100%|██████████| 1226/1226 [00:01<00:00, 695.80it/s]\n"
     ]
    }
   ],
   "source": [
    "image_directory = 'Data/Images'\n",
    "\n",
    "try:\n",
    "    image_object_df = pd.read_csv('Data/images_object.csv')\n",
    "    image_object_df.drop(columns=['Unnamed: 0'], inplace=True)\n",
    "except:\n",
    "    image_object_df = pd.DataFrame(columns=['shortcode','object'])\n",
    "\n",
    "for image_filename in tqdm(listdir(image_directory)):\n",
    "    if image_object_df['shortcode'].str.contains(f'{image_filename.split(\".\")[0]}').any():\n",
    "        # picture already classified, skipping\n",
    "        continue\n",
    "    # loading image\n",
    "    image_address = f'{image_directory}/{image_filename}'\n",
    "    image = cv2.imread(image_address)\n",
    "    # preprocessing image to be suitable to feed to the network\n",
    "    rgb_image = cv2.cvtColor(image, cv2.COLOR_BGR2RGB)\n",
    "    input_tensor = transform(image)\n",
    "    input_batch = input_tensor.unsqueeze(0)\n",
    "    with torch.no_grad():\n",
    "        output = efficient_net(input_batch)\n",
    "    detected_object = torch.nn.functional.softmax(output[0], dim=0)\n",
    "    prob, cat = torch.topk(detected_object, 1)\n",
    "    image_object_df = image_object_df.append({\n",
    "        'shortcode': image_filename.split('.')[0],\n",
    "        'object': categories[cat[0]]\n",
    "    }, ignore_index=True)\n",
    "image_object_df.to_csv('Data/images_object.csv')"
   ]
  },
  {
   "attachments": {},
   "cell_type": "markdown",
   "metadata": {},
   "source": [
    "Now that we have populated images object, dataframe, we can add the records to the posts dataset."
   ]
  },
  {
   "cell_type": "code",
   "execution_count": 34,
   "metadata": {},
   "outputs": [
    {
     "data": {
      "text/html": [
       "<div>\n",
       "<style scoped>\n",
       "    .dataframe tbody tr th:only-of-type {\n",
       "        vertical-align: middle;\n",
       "    }\n",
       "\n",
       "    .dataframe tbody tr th {\n",
       "        vertical-align: top;\n",
       "    }\n",
       "\n",
       "    .dataframe thead th {\n",
       "        text-align: right;\n",
       "    }\n",
       "</style>\n",
       "<table border=\"1\" class=\"dataframe\">\n",
       "  <thead>\n",
       "    <tr style=\"text-align: right;\">\n",
       "      <th></th>\n",
       "      <th>shortcode</th>\n",
       "      <th>post_type</th>\n",
       "      <th>username</th>\n",
       "      <th>like</th>\n",
       "      <th>comment</th>\n",
       "      <th>object_1</th>\n",
       "      <th>object_2</th>\n",
       "      <th>object_3</th>\n",
       "      <th>object_4</th>\n",
       "      <th>object_5</th>\n",
       "      <th>object_6</th>\n",
       "      <th>object</th>\n",
       "    </tr>\n",
       "  </thead>\n",
       "  <tbody>\n",
       "    <tr>\n",
       "      <th>0</th>\n",
       "      <td>CrRK-JgA-tD</td>\n",
       "      <td>GraphSidecar</td>\n",
       "      <td>instagram</td>\n",
       "      <td>363269</td>\n",
       "      <td>6844</td>\n",
       "      <td>No Object</td>\n",
       "      <td>No Object</td>\n",
       "      <td>No Object</td>\n",
       "      <td>No Object</td>\n",
       "      <td>No Object</td>\n",
       "      <td>No Object</td>\n",
       "      <td>palace</td>\n",
       "    </tr>\n",
       "    <tr>\n",
       "      <th>1</th>\n",
       "      <td>CrJYehaAhbh</td>\n",
       "      <td>GraphSidecar</td>\n",
       "      <td>instagram</td>\n",
       "      <td>546578</td>\n",
       "      <td>11354</td>\n",
       "      <td>No Object</td>\n",
       "      <td>No Object</td>\n",
       "      <td>No Object</td>\n",
       "      <td>No Object</td>\n",
       "      <td>No Object</td>\n",
       "      <td>No Object</td>\n",
       "      <td>bikini, two-piece</td>\n",
       "    </tr>\n",
       "    <tr>\n",
       "      <th>2</th>\n",
       "      <td>Cq3I9ulJE6b</td>\n",
       "      <td>GraphImage</td>\n",
       "      <td>instagram</td>\n",
       "      <td>734124</td>\n",
       "      <td>11937</td>\n",
       "      <td>No Object</td>\n",
       "      <td>No Object</td>\n",
       "      <td>No Object</td>\n",
       "      <td>No Object</td>\n",
       "      <td>No Object</td>\n",
       "      <td>No Object</td>\n",
       "      <td>balance_beam, beam</td>\n",
       "    </tr>\n",
       "    <tr>\n",
       "      <th>3</th>\n",
       "      <td>CrUE3a6tRs4</td>\n",
       "      <td>GraphSidecar</td>\n",
       "      <td>cristiano</td>\n",
       "      <td>7720568</td>\n",
       "      <td>42249</td>\n",
       "      <td>2 people</td>\n",
       "      <td>people playing football</td>\n",
       "      <td>people playing soccer</td>\n",
       "      <td>ball</td>\n",
       "      <td>No Object</td>\n",
       "      <td>No Object</td>\n",
       "      <td>basketball</td>\n",
       "    </tr>\n",
       "    <tr>\n",
       "      <th>4</th>\n",
       "      <td>CrK_zvLAofv</td>\n",
       "      <td>GraphImage</td>\n",
       "      <td>cristiano</td>\n",
       "      <td>14451079</td>\n",
       "      <td>103278</td>\n",
       "      <td>1 person</td>\n",
       "      <td>baby</td>\n",
       "      <td>No Object</td>\n",
       "      <td>No Object</td>\n",
       "      <td>No Object</td>\n",
       "      <td>No Object</td>\n",
       "      <td>crib, cot</td>\n",
       "    </tr>\n",
       "    <tr>\n",
       "      <th>...</th>\n",
       "      <td>...</td>\n",
       "      <td>...</td>\n",
       "      <td>...</td>\n",
       "      <td>...</td>\n",
       "      <td>...</td>\n",
       "      <td>...</td>\n",
       "      <td>...</td>\n",
       "      <td>...</td>\n",
       "      <td>...</td>\n",
       "      <td>...</td>\n",
       "      <td>...</td>\n",
       "      <td>...</td>\n",
       "    </tr>\n",
       "    <tr>\n",
       "      <th>1225</th>\n",
       "      <td>Crc6HIGPsAl</td>\n",
       "      <td>GraphImage</td>\n",
       "      <td>indonesiabertauhidofficial</td>\n",
       "      <td>755</td>\n",
       "      <td>0</td>\n",
       "      <td>1 person</td>\n",
       "      <td>slow loris</td>\n",
       "      <td>poster</td>\n",
       "      <td>No Object</td>\n",
       "      <td>No Object</td>\n",
       "      <td>No Object</td>\n",
       "      <td>web_site, website, internet_site, site</td>\n",
       "    </tr>\n",
       "    <tr>\n",
       "      <th>1226</th>\n",
       "      <td>CraBNxqPAfk</td>\n",
       "      <td>GraphImage</td>\n",
       "      <td>indonesiabertauhidofficial</td>\n",
       "      <td>1394</td>\n",
       "      <td>7</td>\n",
       "      <td>slow loris</td>\n",
       "      <td>calendar</td>\n",
       "      <td>poster</td>\n",
       "      <td>No Object</td>\n",
       "      <td>No Object</td>\n",
       "      <td>No Object</td>\n",
       "      <td>web_site, website, internet_site, site</td>\n",
       "    </tr>\n",
       "    <tr>\n",
       "      <th>1227</th>\n",
       "      <td>CrTDLymvTb5</td>\n",
       "      <td>GraphImage</td>\n",
       "      <td>indonesiabertauhidofficial</td>\n",
       "      <td>1151</td>\n",
       "      <td>4</td>\n",
       "      <td>headscarf</td>\n",
       "      <td>poster</td>\n",
       "      <td>text</td>\n",
       "      <td>No Object</td>\n",
       "      <td>No Object</td>\n",
       "      <td>No Object</td>\n",
       "      <td>book_jacket, dust_cover, dust_jacket, dust_wra...</td>\n",
       "    </tr>\n",
       "    <tr>\n",
       "      <th>1228</th>\n",
       "      <td>CrSGcipv_sb</td>\n",
       "      <td>GraphImage</td>\n",
       "      <td>indonesiabertauhidofficial</td>\n",
       "      <td>2750</td>\n",
       "      <td>6</td>\n",
       "      <td>text</td>\n",
       "      <td>No Object</td>\n",
       "      <td>No Object</td>\n",
       "      <td>No Object</td>\n",
       "      <td>No Object</td>\n",
       "      <td>No Object</td>\n",
       "      <td>web_site, website, internet_site, site</td>\n",
       "    </tr>\n",
       "    <tr>\n",
       "      <th>1229</th>\n",
       "      <td>CrMhAlDvEnw</td>\n",
       "      <td>GraphImage</td>\n",
       "      <td>indonesiabertauhidofficial</td>\n",
       "      <td>1197</td>\n",
       "      <td>3</td>\n",
       "      <td>2 people</td>\n",
       "      <td>scooter</td>\n",
       "      <td>poster</td>\n",
       "      <td>text</td>\n",
       "      <td>No Object</td>\n",
       "      <td>No Object</td>\n",
       "      <td>web_site, website, internet_site, site</td>\n",
       "    </tr>\n",
       "  </tbody>\n",
       "</table>\n",
       "<p>1230 rows × 12 columns</p>\n",
       "</div>"
      ],
      "text/plain": [
       "        shortcode     post_type                    username      like  \\\n",
       "0     CrRK-JgA-tD  GraphSidecar                   instagram    363269   \n",
       "1     CrJYehaAhbh  GraphSidecar                   instagram    546578   \n",
       "2     Cq3I9ulJE6b    GraphImage                   instagram    734124   \n",
       "3     CrUE3a6tRs4  GraphSidecar                   cristiano   7720568   \n",
       "4     CrK_zvLAofv    GraphImage                   cristiano  14451079   \n",
       "...           ...           ...                         ...       ...   \n",
       "1225  Crc6HIGPsAl    GraphImage  indonesiabertauhidofficial       755   \n",
       "1226  CraBNxqPAfk    GraphImage  indonesiabertauhidofficial      1394   \n",
       "1227  CrTDLymvTb5    GraphImage  indonesiabertauhidofficial      1151   \n",
       "1228  CrSGcipv_sb    GraphImage  indonesiabertauhidofficial      2750   \n",
       "1229  CrMhAlDvEnw    GraphImage  indonesiabertauhidofficial      1197   \n",
       "\n",
       "      comment    object_1                 object_2               object_3  \\\n",
       "0        6844   No Object                No Object              No Object   \n",
       "1       11354   No Object                No Object              No Object   \n",
       "2       11937   No Object                No Object              No Object   \n",
       "3       42249    2 people  people playing football  people playing soccer   \n",
       "4      103278    1 person                     baby              No Object   \n",
       "...       ...         ...                      ...                    ...   \n",
       "1225        0    1 person               slow loris                 poster   \n",
       "1226        7  slow loris                 calendar                 poster   \n",
       "1227        4   headscarf                   poster                   text   \n",
       "1228        6        text                No Object              No Object   \n",
       "1229        3    2 people                  scooter                 poster   \n",
       "\n",
       "       object_4   object_5   object_6  \\\n",
       "0     No Object  No Object  No Object   \n",
       "1     No Object  No Object  No Object   \n",
       "2     No Object  No Object  No Object   \n",
       "3          ball  No Object  No Object   \n",
       "4     No Object  No Object  No Object   \n",
       "...         ...        ...        ...   \n",
       "1225  No Object  No Object  No Object   \n",
       "1226  No Object  No Object  No Object   \n",
       "1227  No Object  No Object  No Object   \n",
       "1228  No Object  No Object  No Object   \n",
       "1229       text  No Object  No Object   \n",
       "\n",
       "                                                 object  \n",
       "0                                                palace  \n",
       "1                                     bikini, two-piece  \n",
       "2                                    balance_beam, beam  \n",
       "3                                            basketball  \n",
       "4                                             crib, cot  \n",
       "...                                                 ...  \n",
       "1225             web_site, website, internet_site, site  \n",
       "1226             web_site, website, internet_site, site  \n",
       "1227  book_jacket, dust_cover, dust_jacket, dust_wra...  \n",
       "1228             web_site, website, internet_site, site  \n",
       "1229             web_site, website, internet_site, site  \n",
       "\n",
       "[1230 rows x 12 columns]"
      ]
     },
     "execution_count": 34,
     "metadata": {},
     "output_type": "execute_result"
    }
   ],
   "source": [
    "pd.merge(posts_df, image_object_df, on='shortcode')"
   ]
  },
  {
   "attachments": {},
   "cell_type": "markdown",
   "metadata": {},
   "source": [
    "TODO:\n",
    "\n",
    "- Edit code to remove utilizing object detection of instagram.\n",
    "- creating pipeline for using this new method.\n",
    "- creating model XGBoost based on this feature"
   ]
  },
  {
   "attachments": {},
   "cell_type": "markdown",
   "metadata": {},
   "source": [
=======
>>>>>>> parent of 68b1e71 (loading efficient net pretrained and saving its model in the models folder.)
    "## Data Preparation\n",
    "\n",
    "In the next stage of the CRISP-DM methodology, we have to clean our data for the training phase. Please have in mind that since the insight generation is not part of the competition, we will not undergo an EDA analysis, but an EDA analysis is highly suggested at this stage for any kind of endeavor."
   ]
  },
  {
   "cell_type": "code",
   "execution_count": 2,
   "metadata": {},
   "outputs": [],
   "source": [
    "main_accounts_df = pd.read_csv('Data/accounts.csv')\n",
    "main_posts_df = pd.read_csv('Data/posts.csv')\n",
    "main_accounts_df.drop(columns=['Unnamed: 0'], inplace=True)\n",
    "main_posts_df.drop(columns=['Unnamed: 0'], inplace=True)"
   ]
  },
  {
   "attachments": {},
   "cell_type": "markdown",
   "metadata": {},
   "source": [
    "First let's process the accounts dataframe:"
   ]
  },
  {
   "cell_type": "code",
   "execution_count": 3,
   "metadata": {},
   "outputs": [
    {
     "name": "stdout",
     "output_type": "stream",
     "text": [
      "Number of missing values for each feature:\n",
      "id                    0\n",
      "username              0\n",
      "category_name        19\n",
      "follower              0\n",
      "following             0\n",
      "ar_effect             0\n",
      "type_business         0\n",
      "type_professional     0\n",
      "verified              0\n",
      "reel_count            0\n",
      "reel_avg_view         0\n",
      "reel_avg_comment      0\n",
      "reel_avg_like         0\n",
      "reel_avg_duration     0\n",
      "reel_frequency        0\n",
      "media_count           0\n",
      "media_avg_comment     0\n",
      "media_avg_like        0\n",
      "media_frequency       0\n",
      "dtype: int64\n"
     ]
    }
   ],
   "source": [
    "print('Number of missing values for each feature:')\n",
    "print(f'{main_accounts_df.isna().sum()}')"
   ]
  },
  {
   "attachments": {},
   "cell_type": "markdown",
   "metadata": {},
   "source": [
    "As you can see in the cell below, the only feature that has missing value is **Category**. We will replace those missing values with \"Unknown\"."
   ]
  },
  {
   "cell_type": "code",
   "execution_count": 4,
   "metadata": {},
   "outputs": [],
   "source": [
    "main_accounts_df['category_name'].fillna('Unknown', inplace=True)"
   ]
  },
  {
   "attachments": {},
   "cell_type": "markdown",
   "metadata": {},
   "source": [
    "Another data cleaning task that we must do to increase the accuracy and generalizability, is to process the categorical variables. Since we have a good chunk of categorical features in this dataset, we must do this task with careful consideration. There is always a debate regarding the type of encoding the categorical variables, should we use One Hot Encoding (OHE) or Label Encoding (LE). The rule of thumb for this debate rests in cardinality. If the cardinality of the feature is high, we must use label encoding, but if the cardinality is low, we should use label encoding. Let's Explore the cardinality of categorical features in the dataset."
   ]
  },
  {
   "cell_type": "code",
   "execution_count": 5,
   "metadata": {},
   "outputs": [
    {
     "name": "stdout",
     "output_type": "stream",
     "text": [
      "Cardinality of category_name:\t\t 42\n",
      "Cardinality of ar_effect:\t\t 2\n",
      "Cardinality of type_business:\t\t 2\n",
      "Cardinality of type_professional:\t 2\n",
      "Cardinality of verified:\t\t 2\n"
     ]
    }
   ],
   "source": [
    "print(f'Cardinality of category_name:\\t\\t {len(main_accounts_df[\"category_name\"].unique())}')\n",
    "print(f'Cardinality of ar_effect:\\t\\t {len(main_accounts_df[\"ar_effect\"].unique())}')\n",
    "print(f'Cardinality of type_business:\\t\\t {len(main_accounts_df[\"type_business\"].unique())}')\n",
    "print(f'Cardinality of type_professional:\\t {len(main_accounts_df[\"type_professional\"].unique())}')\n",
    "print(f'Cardinality of verified:\\t\\t {len(main_accounts_df[\"verified\"].unique())}')"
   ]
  },
  {
   "attachments": {},
   "cell_type": "markdown",
   "metadata": {},
   "source": [
    "As you can see in the cell above, the only feature with high cardinality is **category_name** and other features are binary categorical features, thus have the low cardinality.\n",
    "\n",
    "***But***, at the time of writing this code, **XGBoost 1.7** had been published, since this version of XGBoost, it can works with categorical variables without the need of manual encoding, thus we won't encode the categorical variables."
   ]
  },
  {
   "attachments": {},
   "cell_type": "markdown",
   "metadata": {},
   "source": [
    "Since we will use the XGBoost and tree-based models for this competetition, feature normalization won't improve the model, thus we will skip the normalization.\n",
    "\n",
    "Now we can process the posts dataframe:\n",
    "\n",
    "First thing we can remove `GraphVideo` type of posts from the dataset since reels on the Instagram don't have detected objects since they are videos."
   ]
  },
  {
   "cell_type": "code",
   "execution_count": 6,
   "metadata": {},
   "outputs": [],
   "source": [
    "main_posts_df = main_posts_df.drop(main_posts_df[main_posts_df['post_type'] == 'GraphVideo'].index)\n",
    "main_posts_df = main_posts_df.reset_index(drop=True)"
   ]
  },
  {
   "attachments": {},
   "cell_type": "markdown",
   "metadata": {},
   "source": [
    "Now after all the cleaning, I can make the main dataset for training the model. To create the main dataset, we must add the account information which is present in the **main_accounts_df** to each corresponding record in **main_posts_df**."
   ]
  },
  {
   "cell_type": "code",
   "execution_count": 7,
   "metadata": {},
   "outputs": [
    {
     "data": {
      "text/plain": [
       "0                       instagram\n",
       "1                       cristiano\n",
       "2                        leomessi\n",
       "3                     selenagomez\n",
       "4                     kyliejenner\n",
       "                  ...            \n",
       "189                   corinthians\n",
       "190                       jokezar\n",
       "191                 ultimahoracol\n",
       "192                sosmedmakassar\n",
       "193    indonesiabertauhidofficial\n",
       "Name: username, Length: 194, dtype: object"
      ]
     },
     "execution_count": 7,
     "metadata": {},
     "output_type": "execute_result"
    }
   ],
   "source": [
    "main_accounts_df['username']"
   ]
  },
  {
   "cell_type": "code",
   "execution_count": 8,
   "metadata": {},
   "outputs": [],
   "source": [
    "df = main_posts_df.merge(main_accounts_df, on='username')\n",
    "df.to_csv('Data/main_dataset.csv',)"
   ]
  },
  {
   "attachments": {},
   "cell_type": "markdown",
   "metadata": {},
   "source": [
    "After all of these endeavors, we can train the model. To make the workspace more clear, we will train the model explore it, and visualize it in another notebook.\n",
    "\n",
    "----\n",
    "`@Ramin F.` | [Email](ferdos.ramin@gmail.com) | [LinkedIn](https://www.linkedin.com/in/raminferdos/) | [GitHub](https://github.com/SimplyRamin) | [Personal Portfolio](https://simplyramin.github.io/)"
   ]
  }
 ],
 "metadata": {
  "kernelspec": {
   "display_name": "base",
   "language": "python",
   "name": "python3"
  },
  "language_info": {
   "codemirror_mode": {
    "name": "ipython",
    "version": 3
   },
   "file_extension": ".py",
   "mimetype": "text/x-python",
   "name": "python",
   "nbconvert_exporter": "python",
   "pygments_lexer": "ipython3",
   "version": "3.9.16"
  },
  "orig_nbformat": 4
 },
 "nbformat": 4,
 "nbformat_minor": 2
}
