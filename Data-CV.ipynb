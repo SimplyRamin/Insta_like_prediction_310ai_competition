{
 "cells": [
  {
   "attachments": {},
   "cell_type": "markdown",
   "metadata": {},
   "source": [
    "Useful link for progressing:\n",
    "\n",
    "- [pre-trained models for beginners](https://learnopencv.com/pytorch-for-beginners-image-classification-using-pre-trained-models/)\n",
    "- <strong> [PyTorch Pretrained EfficientNet Model Image Classification](https://debuggercafe.com/pytorch-pretrained-efficientnet-model-image-classification/)</strong>\n",
    "- [PyTorch image classification with pre-trained networks](https://pyimagesearch.com/2021/07/26/pytorch-image-classification-with-pre-trained-networks/) \n",
    "- [How to modify a pretrained model](https://discuss.pytorch.org/t/how-to-modify-a-pretrained-model/60509)\n",
    "\n",
    "---\n"
   ]
  },
  {
   "attachments": {},
   "cell_type": "markdown",
   "metadata": {},
   "source": [
    "# Instagram Like Prediction @310ai Competition - Data Understanding, Collection & Preparation\n",
    "\n",
    "This notebook is for the competition posted by the @310ai on 15th of April. I will approach the competition as a project following the CRISP-DM methodology and try to explain the approach in every steps of the way.\n",
    "\n",
    "The main and short summary of this competition is **\"given an Instagram post predict the number of likes\"**."
   ]
  },
  {
   "attachments": {},
   "cell_type": "markdown",
   "metadata": {},
   "source": [
    "## Business Understanding\n",
    "First thing first, there are some important points that we have to consider which are forced by the Instagram. This points will result in some features that are effective in percision of the model. In the following section we will discuss them further.\n",
    "\n",
    "***Are we try to predict the number of likes for an Instagram post of our own or not?***\n",
    "\n",
    "This question might seem a little odd, but let me explain it. Each Instagram post consists of some metrics that show the performance of the post among the users. We will call these **\"Performance Metrics\"**. Some of these performance metrics such as amount of like, amount of columns, caption and etc, are publicly availble, in other words, any user on the Instagram can see them.\n",
    "\n",
    "But some of the performance metrics, are not publicly available, in order to see them, we need to authenticate as the owner of the page (will discuss about this part further in this section.), some of these private performance metrics are, amount of share, amount of save, amount of reach, amount of profile visits, amount of follows, amount of impression and etc.\n",
    "\n",
    "Obviously, if we try to predict the amount of like for a page that we don't own, we can not access these features, we will go for a page that we don't have access to it for this competition.\n",
    "\n",
    "Another to have in mind is that, since the post we are going to predict the amount of like for it, is not actually existing, the amount of performance metrics can't be predicted preciesly. In other words, how we can estimate the amount of comments a hypothetical post might recieve if we don't post it actually. Due to this abstraction, the performance metrics for each post is not a good feature for this deed.\n",
    "\n",
    "In the further section I will try to address the questions of the competitions in combination of code and text. Please have in mind to follow the chosen methodology I might change the order of questions."
   ]
  },
  {
   "attachments": {},
   "cell_type": "markdown",
   "metadata": {},
   "source": [
    "## Data Requirements and Data Collection\n",
    "\n",
    "In this section I will tackle the questions mainly related to these parts of the challenge. As we discussed above some useful features introduced that might have effect on the precision of the prediction. But there are some other features, further I will point to some features that are related to the page of the published post.\n",
    "\n",
    "### What Features you used?\n",
    "\n",
    "Each and every page on the Instagram has some features that will distinguish it from other pages, some of these features are like the features discussed above, performance metrics, and some of them are identifiers. Some of the identifiers features are:\n",
    "- `id`: a unique id that is allocated by the Instagram.\n",
    "- `username`: a unique username that each user when created the page chose.\n",
    "\n",
    "Also there are some other features that we will investigate, these features are:\n",
    "- `category_name`: each page based on the published content and some other traits, are categorized into different categories, for instance, Blogger, Personal Blog, Design & Fashion, chef and etc.\n",
    "- `follower`: amount of followers the page has.\n",
    "- `following`: amount of pages that the target page is following.\n",
    "- `ar_effect`: whether the page has published ar effects in the Instagram or not.\n",
    "- `type_business`: whether the page identified itself as business account or not.\n",
    "- `type_professional`: whether the page identified itself as professional account or not.\n",
    "- `verified`: whether the page is verified or not.\n",
    "- `reel_count`: amount of igtvs posted by the page.\n",
    "- `media_count`: amount of posts, posted by the page.\n",
    "\n",
    "There are some features that are collected organically but can be calculated in the process of feature engineering. Some of them are:\n",
    "- `reel_view`: The average view of igtvs posted by the page.\n",
    "- `reel_comment`: The average of comments igtvs acquired.\n",
    "- `reel_like`: The average of likes igtvs got.\n",
    "- `reel_duration`: The average of igtv's duration posted by the page.\n",
    "- `reel_frequency`: How often the page have posted the reels.\n",
    "- `media_avg_view`: The average view of media posted by the page.\n",
    "- `media_avg_comment`: The average of comments media acquired.\n",
    "- `media_avg_like`: The average of likes media got.\n",
    "- `media_avg_duration`: The average of media's duration posted by the page.\n",
    "- `media_frequency`: How often the page have posted the media.\n",
    "\n",
    "Last but not least, is the content of the image itself. There are multiple ways to have the content of the image as feature. For instance we can have a classifier network to detect what objects are present in the image and pass them to the like predictor model.\n",
    "\n",
    "As you are aware, choosing the best strategy requires some tests, such as A/B tests and trial and error ones, for now I will chose the strategy which will be discussed further that is fastest and heuristic.\n",
    "\n",
    "I will use a heuristic approach regarding the image content, I will use a pre-trained image classifier, `[NAME OF ARCHECTURE USED]`, but remove the last layer and pass an image vector created by network as a feature to a classifier."
   ]
  },
  {
   "attachments": {},
   "cell_type": "markdown",
   "metadata": {},
   "source": [
    "### How do we collect the data?\n",
    "\n",
    "As we discussed above, there are different kind of features, and each group can be collected via different methods.\n",
    "\n",
    "The Instagram provides an API for developers, but due some restrictions and limitations, this API can not provide us the data that we seek. Based on this facts, we will use a heuristic way to collect the data. There will be 2 approaches regarding the matter. one approach which is not very tech-friendly (:D) is to create a scrapper with Selenium page in python to scrap the information we need. Selenium is a website testing library in python that can also be utilized into a webscrapper. This approach has another limitation excluse for users like me, since I'm in Iran right now, access to the Instagram is restricted and we have to use VPNs and geo-restriction bypasses, these tools add another layer of challenge and additional bottleneck. Another approach that I try to utilize, is to use the graphql endpoints to recieve the information needed in JSON format. Eventhough still use of VPNs and similar tools is needed in this approach, but unlike the Selenium this approach doesn't require to load the GUI of Instagram, its much more faster and eligble in a pipeline."
   ]
  },
  {
   "attachments": {},
   "cell_type": "markdown",
   "metadata": {},
   "source": [
    "- end point for user information:\n",
    "`https://www.instagram.com/{username}/?__a=1&__d=dis\n",
    "`\n",
    "\n",
    "- end point for post information:\n",
    "`https://www.instagram.com/p/{post_ID}/?__a=1&__d=dis\n",
    "`\n",
    "\n",
    "getting training data for the model:\n",
    "- each json response of an account gives 12 latest post\n",
    "information:\n",
    "\n",
    "  - Alt text information is here: `data['graphql']['user']['edge_owner_to_timeline_media']['edges'][0]['node']['accessibility_caption']`\n",
    "    - each node has type, `GraphImage` is posts which have alt text.\n",
    "    - `GraphVideo` doesn't have alt text.\n",
    "    - `GraphSideCar` is carousel and have alt text.\n",
    "  - number of comments is here: `data['graphql']['user']['edge_owner_to_timeline_media']['edges'][0]['node']['edge_media_to_comment']['count']`\n",
    "  - number of likes is here: `data['graphql']['user']['edge_owner_to_timeline_media']['edges'][0]['node']['edge_liked_by']['count']`\n"
   ]
  },
  {
   "cell_type": "code",
   "execution_count": 25,
   "metadata": {},
   "outputs": [
    {
     "name": "stderr",
     "output_type": "stream",
     "text": [
      "c:\\Users\\Mr-Khosravian\\miniconda3\\lib\\site-packages\\torchvision\\models\\_utils.py:208: UserWarning: The parameter 'pretrained' is deprecated since 0.13 and may be removed in the future, please use 'weights' instead.\n",
      "  warnings.warn(\n",
      "c:\\Users\\Mr-Khosravian\\miniconda3\\lib\\site-packages\\torchvision\\models\\_utils.py:223: UserWarning: Arguments other than a weight enum or `None` for 'weights' are deprecated since 0.13 and may be removed in the future. The current behavior is equivalent to passing `weights=EfficientNet_B7_Weights.IMAGENET1K_V1`. You can also use `weights=EfficientNet_B7_Weights.DEFAULT` to get the most up-to-date weights.\n",
      "  warnings.warn(msg)\n"
     ]
    }
   ],
   "source": [
    "import warnings\n",
    "warnings.simplefilter(action='ignore', category=FutureWarning)\n",
    "\n",
    "import requests\n",
    "from datetime import datetime\n",
    "import json\n",
    "import re\n",
    "import numpy as np\n",
    "import pandas as pd\n",
    "from tqdm import tqdm\n",
    "import time\n",
    "from os import path, listdir\n",
    "import torch\n",
    "import torch.nn as nn\n",
    "import torch.optim as optim\n",
    "from torch.optim import lr_scheduler\n",
    "import torchvision\n",
    "from torchvision import datasets, models, transforms\n",
    "import cv2\n",
    "from rich.console import Console\n",
    "from rich.theme import Theme\n",
    "\n",
    "ramin_theme = Theme({\n",
    "    'success': 'italic bright_green',\n",
    "    'error': 'bold red',\n",
    "    'progress': 'italic yellow',\n",
    "    'header': 'bold cyan',\n",
    "})\n",
    "console = Console(theme=ramin_theme)\n",
    "\n",
    "\n",
    "# reading credentials for loging into the instagram account\n",
    "with open('credentials.json') as f:\n",
    "    creds = json.load(f)\n",
    "    login_username = creds['username']\n",
    "    login_password = creds['password']\n",
    "\n",
    "# reading accounts lists for gathering training data.\n",
    "with open('Data/top_100_follower.txt') as f:\n",
    "    lines = f.readlines()\n",
    "top_100_followers = lines[0].split(',')\n",
    "\n",
    "with open('Data/top_100_posts.txt') as f:\n",
    "    lines = f.readlines()\n",
    "top_100_posts = lines[0].split(',')\n",
    "\n",
    "# since added try exception in the main body of collecting data, this section is probably unnecessary, double check it.\n",
    "main_accounts_df = pd.DataFrame(columns=['id', 'username', 'category_name', 'follower', 'following', 'ar_effect', 'type_business', 'type_professional', 'verified', 'reel_count', 'reel_avg_view', 'reel_avg_comment', 'reel_avg_like', 'reel_avg_duration', 'reel_frequency', 'media_count', 'media_avg_comment', 'media_avg_like', 'media_frequency'])\n",
    "# CODE BELOW MUST BE EDITTED PROBABLY, to make it work with new approach\n",
    "main_posts_df = pd.DataFrame(columns=['shortcode', 'post_type', 'username', 'like', 'comment', 'object_1', 'object_2', 'object_3', 'object_4', 'object_5','object_6'])\n",
    "\n",
    "# Loading the pretrained model for object classification\n",
    "efficient_net = models.efficientnet_b7(pretrained=True)\n",
    "efficient_net.eval()\n",
    "\n",
    "# Preparing a standard transformation and categories of ImageNet\n",
    "transform = transforms.Compose([\n",
    "    transforms.ToPILImage(),\n",
    "    transforms.Resize(256),\n",
    "    transforms.CenterCrop(224),\n",
    "    transforms.ToTensor(),\n",
    "    transforms.Normalize(mean=[.485, .456, .406],\n",
    "                         std=[.229, .224, .225])\n",
    "])\n",
    "image_directory = 'Data/Images'\n",
    "\n",
    "# reading ImageNet Classes\n",
    "with open('Data/ilsvrc2012_wordnet_lemmas.txt', 'r') as f:\n",
    "    categories = [s.strip() for s in f.readlines()]\n",
    "\n",
    "def flatten(lst):\n",
    "    \"\"\"A helper function to flatten any dimensional python list to 1D one.\n",
    "\n",
    "    Args:\n",
    "        lst (list): multi dimension python list\n",
    "\n",
    "    Returns:\n",
    "        list: flattened list\n",
    "    \"\"\"\n",
    "    rt = []\n",
    "    for i in lst:\n",
    "        if isinstance(i,list): rt.extend(flatten(i))\n",
    "        else: rt.append(i)\n",
    "    return rt"
   ]
  },
  {
   "attachments": {},
   "cell_type": "markdown",
   "metadata": {},
   "source": [
    "#### Logging into the Instagram account\n",
    "This step is necesary for getting information of the images, since majority of information in Instagram are locked behind the authentication wall."
   ]
  },
  {
   "cell_type": "code",
   "execution_count": 2,
   "metadata": {},
   "outputs": [
    {
     "name": "stdout",
     "output_type": "stream",
     "text": [
      "login successful\n",
      "csrf_token:  2iUOHg5brpOrNl8eIGSDICTW1Da4JzhZ\n",
      "session_id:  1691538713%3AB0bgKYJAaed8fZ%3A27%3AAYejGDERBft9L3BTHgwnTXl3oGkSKFJlhyHbQ8b4nA\n"
     ]
    }
   ],
   "source": [
    "link = 'https://www.instagram.com/accounts/login/'\n",
    "login_url = 'https://www.instagram.com/accounts/login/ajax/'\n",
    "headers = {'user-agent': 'Mozilla/5.0 (Windows NT 10.0; Win64; x64) AppleWebKit/537.36 (KHTML, like Gecko) Chrome/84.0.4147.89 Safari/537.36',\n",
    "            'referer':'https://www.instagram.com/',\n",
    "            'Accept': 'text/html,application/xhtml+xml,application/xml;q=0.9,image/avif,image/webp,*/*;q=0.8',\n",
    "            'Accept-Language': 'en-US,en;q=0.5',\n",
    "            'Accept-Encoding': 'gzip, deflate, br',\n",
    "            'Connection': 'keep-alive',\n",
    "            'Upgrade-Insecure-Requests': '1',\n",
    "            'Sec-Fetch-Dest': 'document',\n",
    "            'Sec-Fetch-Mode': 'navigate',\n",
    "            'Sec-Fetch-Site': 'none',\n",
    "            'Sec-Fetch-User': '?1',\n",
    "            'TE': 'trailers'\n",
    "}\n",
    "\n",
    "\n",
    "current_time = int(datetime.now().timestamp())\n",
    "response = requests.Session().get(link, headers=headers)\n",
    "if response.ok:\n",
    "    csrf = re.findall(r'csrf_token\\\\\":\\\\\"(.*?)\\\\\"',response.text)[0]\n",
    "    username = login_username\n",
    "    password = login_password\n",
    "\n",
    "    payload = {\n",
    "        'username': username,\n",
    "        'enc_password': f'#PWD_INSTAGRAM_BROWSER:0:{current_time}:{password}',\n",
    "        'queryParams': {},\n",
    "        'optIntoOneTap': 'false',\n",
    "        'stopDeletionNonce': '',\n",
    "        'trustedDeviceRecords': '{}'\n",
    "    }\n",
    "\n",
    "    login_header = {\n",
    "        'user-agent': 'Mozilla/5.0 (Windows NT 10.0; Win64; x64) AppleWebKit/537.36 (KHTML, like Gecko) Chrome/84.0.4147.89 Safari/537.36',\n",
    "        \"X-Requested-With\": \"XMLHttpRequest\",\n",
    "        \"Referer\": \"https://www.instagram.com/accounts/login/\",\n",
    "        \"X-CSRFToken\": csrf,\n",
    "        'Accept': '*/*',\n",
    "        'Accept-Language': 'en-US,en;q=0.5',\n",
    "        'X-Instagram-AJAX': 'c6412f1b1b7b',\n",
    "        'X-IG-App-ID': '936619743392459',\n",
    "        'X-ASBD-ID': '198387',\n",
    "        'X-IG-WWW-Claim': '0',\n",
    "        'X-Requested-With': 'XMLHttpRequest',\n",
    "        'Origin': 'https://www.instagram.com',\n",
    "        'DNT': '1',\n",
    "        'Connection': 'keep-alive',\n",
    "        'Referer': 'https://www.instagram.com/accounts/login/?',\n",
    "        'Sec-Fetch-Dest': 'empty',\n",
    "        'Sec-Fetch-Mode': 'cors',\n",
    "        'Sec-Fetch-Site': 'same-origin',\n",
    "    }\n",
    "\n",
    "    login_response = requests.post(login_url, data=payload, headers=login_header)\n",
    "    json_data = json.loads(login_response.text)\n",
    "\n",
    "\n",
    "    if json_data['status'] == 'fail':\n",
    "        print(json_data['message'])\n",
    "\n",
    "    elif json_data[\"authenticated\"]:\n",
    "        print(\"login successful\")\n",
    "        cookies = login_response.cookies\n",
    "        cookie_jar = cookies.get_dict()\n",
    "        csrf_token = cookie_jar['csrftoken']\n",
    "        print(\"csrf_token: \", csrf_token)\n",
    "        session_id = cookie_jar['sessionid']\n",
    "        print(\"session_id: \", session_id)\n",
    "\n",
    "    else:\n",
    "        print(\"login failed \", login_response.text)\n",
    "else:\n",
    "    print('error')\n",
    "    print(response)"
   ]
  },
  {
   "attachments": {},
   "cell_type": "markdown",
   "metadata": {},
   "source": [
    "#### Collecting Data"
   ]
  },
  {
   "attachments": {},
   "cell_type": "markdown",
   "metadata": {},
   "source": [
    "The below cell is the main cell for collecting the data from the Instagram, since this code block is the longest block in the workspace, it's worth to discuss the parts of its structure. Please have in mind the best design pattern for this kind of task, is to create pipeline, but since this is a competition and understanding a pipeline might be difficult for reviewrs, I stick with this approach regarding the matter.\n",
    "\n",
    "First thing, I have to check whether the data is present or not, if the **accounts** and **posts** dataset are present I'm reading them, otherwise I'm creating empty dataframes for each one of them with their corresponding features. I have to read the names of the accounts I want to get their information, for the training of this model, I have selected the top 100 pages with the most followers and top 100 pages with the most published posts. I call these **accounts dataset**.\n",
    "\n",
    "For each username in the accounts dataset, I do these procedures:\n",
    "1. I check whether I had acquired that account information or no, if I had, skip that account and go to the next account.\n",
    "2. Then I send a request containing appropriate headers and previously acquired cookies from logining into the Instagram, to recieve account information. I sanity check the response to validate whether we have got the correct response or it's faulty (i.e. empty response, page got private, etc.).\n",
    "3. Previously Discussed features then are extracted from the response json and saved into their coresponding variables or lists, some of these features have to be calculated, for instance, media & reel frequency, view, like, comment, duration average and etc. These features are calculated and saved into their correspoding variables.\n",
    "4. I create a temporary dataframe for each account and add it to the main accounts dataframe.\n",
    "5. Almost the same procedure is done for the posts information.\n",
    "6. In the end, we will have 5 seconds delay between each username process, to honoring the rate limit of the Instagram."
   ]
  },
  {
   "cell_type": "code",
   "execution_count": 35,
   "metadata": {},
   "outputs": [
    {
     "name": "stderr",
     "output_type": "stream",
     "text": [
      "  0%|          | 0/200 [00:00<?, ?it/s]"
     ]
    },
    {
     "data": {
      "text/html": [
       "<pre style=\"white-space:pre;overflow-x:auto;line-height:normal;font-family:Menlo,'DejaVu Sans Mono',consolas,'Courier New',monospace\">Getting Account Information: <span style=\"color: #008080; text-decoration-color: #008080\">instagram</span>\n",
       "</pre>\n"
      ],
      "text/plain": [
       "Getting Account Information: \u001b[36minstagram\u001b[0m\n"
      ]
     },
     "metadata": {},
     "output_type": "display_data"
    },
    {
     "data": {
      "text/html": [
       "<pre style=\"white-space:pre;overflow-x:auto;line-height:normal;font-family:Menlo,'DejaVu Sans Mono',consolas,'Courier New',monospace\"><span style=\"color: #800000; text-decoration-color: #800000; font-weight: bold\">        User information already exist, skipping</span><span style=\"color: #808000; text-decoration-color: #808000; font-weight: bold\">...</span>\n",
       "</pre>\n"
      ],
      "text/plain": [
       "\u001b[1;31m \u001b[0m\u001b[1;31m       \u001b[0m\u001b[1;31mUser information already exist, skipping\u001b[0m\u001b[1;33m...\u001b[0m\n"
      ]
     },
     "metadata": {},
     "output_type": "display_data"
    },
    {
     "data": {
      "text/html": [
       "<pre style=\"white-space:pre;overflow-x:auto;line-height:normal;font-family:Menlo,'DejaVu Sans Mono',consolas,'Courier New',monospace\">Getting Account Information: <span style=\"color: #008080; text-decoration-color: #008080\">cristiano</span>\n",
       "</pre>\n"
      ],
      "text/plain": [
       "Getting Account Information: \u001b[36mcristiano\u001b[0m\n"
      ]
     },
     "metadata": {},
     "output_type": "display_data"
    },
    {
     "data": {
      "text/html": [
       "<pre style=\"white-space:pre;overflow-x:auto;line-height:normal;font-family:Menlo,'DejaVu Sans Mono',consolas,'Courier New',monospace\"><span style=\"color: #800000; text-decoration-color: #800000; font-weight: bold\">        User information already exist, skipping</span><span style=\"color: #808000; text-decoration-color: #808000; font-weight: bold\">...</span>\n",
       "</pre>\n"
      ],
      "text/plain": [
       "\u001b[1;31m \u001b[0m\u001b[1;31m       \u001b[0m\u001b[1;31mUser information already exist, skipping\u001b[0m\u001b[1;33m...\u001b[0m\n"
      ]
     },
     "metadata": {},
     "output_type": "display_data"
    },
    {
     "data": {
      "text/html": [
       "<pre style=\"white-space:pre;overflow-x:auto;line-height:normal;font-family:Menlo,'DejaVu Sans Mono',consolas,'Courier New',monospace\">Getting Account Information: <span style=\"color: #008080; text-decoration-color: #008080\">leomessi</span>\n",
       "</pre>\n"
      ],
      "text/plain": [
       "Getting Account Information: \u001b[36mleomessi\u001b[0m\n"
      ]
     },
     "metadata": {},
     "output_type": "display_data"
    },
    {
     "data": {
      "text/html": [
       "<pre style=\"white-space:pre;overflow-x:auto;line-height:normal;font-family:Menlo,'DejaVu Sans Mono',consolas,'Courier New',monospace\"><span style=\"color: #800000; text-decoration-color: #800000; font-weight: bold\">        User information already exist, skipping</span><span style=\"color: #808000; text-decoration-color: #808000; font-weight: bold\">...</span>\n",
       "</pre>\n"
      ],
      "text/plain": [
       "\u001b[1;31m \u001b[0m\u001b[1;31m       \u001b[0m\u001b[1;31mUser information already exist, skipping\u001b[0m\u001b[1;33m...\u001b[0m\n"
      ]
     },
     "metadata": {},
     "output_type": "display_data"
    },
    {
     "data": {
      "text/html": [
       "<pre style=\"white-space:pre;overflow-x:auto;line-height:normal;font-family:Menlo,'DejaVu Sans Mono',consolas,'Courier New',monospace\">Getting Account Information: <span style=\"color: #008080; text-decoration-color: #008080\">selenagomez</span>\n",
       "</pre>\n"
      ],
      "text/plain": [
       "Getting Account Information: \u001b[36mselenagomez\u001b[0m\n"
      ]
     },
     "metadata": {},
     "output_type": "display_data"
    },
    {
     "data": {
      "text/html": [
       "<pre style=\"white-space:pre;overflow-x:auto;line-height:normal;font-family:Menlo,'DejaVu Sans Mono',consolas,'Courier New',monospace\"><span style=\"color: #800000; text-decoration-color: #800000; font-weight: bold\">        User information already exist, skipping</span><span style=\"color: #808000; text-decoration-color: #808000; font-weight: bold\">...</span>\n",
       "</pre>\n"
      ],
      "text/plain": [
       "\u001b[1;31m \u001b[0m\u001b[1;31m       \u001b[0m\u001b[1;31mUser information already exist, skipping\u001b[0m\u001b[1;33m...\u001b[0m\n"
      ]
     },
     "metadata": {},
     "output_type": "display_data"
    },
    {
     "data": {
      "text/html": [
       "<pre style=\"white-space:pre;overflow-x:auto;line-height:normal;font-family:Menlo,'DejaVu Sans Mono',consolas,'Courier New',monospace\">Getting Account Information: <span style=\"color: #008080; text-decoration-color: #008080\">kyliejenner</span>\n",
       "</pre>\n"
      ],
      "text/plain": [
       "Getting Account Information: \u001b[36mkyliejenner\u001b[0m\n"
      ]
     },
     "metadata": {},
     "output_type": "display_data"
    },
    {
     "data": {
      "text/html": [
       "<pre style=\"white-space:pre;overflow-x:auto;line-height:normal;font-family:Menlo,'DejaVu Sans Mono',consolas,'Courier New',monospace\"><span style=\"color: #800000; text-decoration-color: #800000; font-weight: bold\">        User information already exist, skipping</span><span style=\"color: #808000; text-decoration-color: #808000; font-weight: bold\">...</span>\n",
       "</pre>\n"
      ],
      "text/plain": [
       "\u001b[1;31m \u001b[0m\u001b[1;31m       \u001b[0m\u001b[1;31mUser information already exist, skipping\u001b[0m\u001b[1;33m...\u001b[0m\n"
      ]
     },
     "metadata": {},
     "output_type": "display_data"
    },
    {
     "data": {
      "text/html": [
       "<pre style=\"white-space:pre;overflow-x:auto;line-height:normal;font-family:Menlo,'DejaVu Sans Mono',consolas,'Courier New',monospace\">Getting Account Information: <span style=\"color: #008080; text-decoration-color: #008080\">therock</span>\n",
       "</pre>\n"
      ],
      "text/plain": [
       "Getting Account Information: \u001b[36mtherock\u001b[0m\n"
      ]
     },
     "metadata": {},
     "output_type": "display_data"
    },
    {
     "data": {
      "text/html": [
       "<pre style=\"white-space:pre;overflow-x:auto;line-height:normal;font-family:Menlo,'DejaVu Sans Mono',consolas,'Courier New',monospace\"><span style=\"color: #800000; text-decoration-color: #800000; font-weight: bold\">        User information already exist, skipping</span><span style=\"color: #808000; text-decoration-color: #808000; font-weight: bold\">...</span>\n",
       "</pre>\n"
      ],
      "text/plain": [
       "\u001b[1;31m \u001b[0m\u001b[1;31m       \u001b[0m\u001b[1;31mUser information already exist, skipping\u001b[0m\u001b[1;33m...\u001b[0m\n"
      ]
     },
     "metadata": {},
     "output_type": "display_data"
    },
    {
     "data": {
      "text/html": [
       "<pre style=\"white-space:pre;overflow-x:auto;line-height:normal;font-family:Menlo,'DejaVu Sans Mono',consolas,'Courier New',monospace\">Getting Account Information: <span style=\"color: #008080; text-decoration-color: #008080\">arianagrande</span>\n",
       "</pre>\n"
      ],
      "text/plain": [
       "Getting Account Information: \u001b[36marianagrande\u001b[0m\n"
      ]
     },
     "metadata": {},
     "output_type": "display_data"
    },
    {
     "data": {
      "text/html": [
       "<pre style=\"white-space:pre;overflow-x:auto;line-height:normal;font-family:Menlo,'DejaVu Sans Mono',consolas,'Courier New',monospace\"><span style=\"color: #800000; text-decoration-color: #800000; font-weight: bold\">        User information already exist, skipping</span><span style=\"color: #808000; text-decoration-color: #808000; font-weight: bold\">...</span>\n",
       "</pre>\n"
      ],
      "text/plain": [
       "\u001b[1;31m \u001b[0m\u001b[1;31m       \u001b[0m\u001b[1;31mUser information already exist, skipping\u001b[0m\u001b[1;33m...\u001b[0m\n"
      ]
     },
     "metadata": {},
     "output_type": "display_data"
    },
    {
     "data": {
      "text/html": [
       "<pre style=\"white-space:pre;overflow-x:auto;line-height:normal;font-family:Menlo,'DejaVu Sans Mono',consolas,'Courier New',monospace\">Getting Account Information: <span style=\"color: #008080; text-decoration-color: #008080\">kimkardashian</span>\n",
       "</pre>\n"
      ],
      "text/plain": [
       "Getting Account Information: \u001b[36mkimkardashian\u001b[0m\n"
      ]
     },
     "metadata": {},
     "output_type": "display_data"
    },
    {
     "data": {
      "text/html": [
       "<pre style=\"white-space:pre;overflow-x:auto;line-height:normal;font-family:Menlo,'DejaVu Sans Mono',consolas,'Courier New',monospace\"><span style=\"color: #800000; text-decoration-color: #800000; font-weight: bold\">        User information already exist, skipping</span><span style=\"color: #808000; text-decoration-color: #808000; font-weight: bold\">...</span>\n",
       "</pre>\n"
      ],
      "text/plain": [
       "\u001b[1;31m \u001b[0m\u001b[1;31m       \u001b[0m\u001b[1;31mUser information already exist, skipping\u001b[0m\u001b[1;33m...\u001b[0m\n"
      ]
     },
     "metadata": {},
     "output_type": "display_data"
    },
    {
     "data": {
      "text/html": [
       "<pre style=\"white-space:pre;overflow-x:auto;line-height:normal;font-family:Menlo,'DejaVu Sans Mono',consolas,'Courier New',monospace\">Getting Account Information: <span style=\"color: #008080; text-decoration-color: #008080\">beyonce</span>\n",
       "</pre>\n"
      ],
      "text/plain": [
       "Getting Account Information: \u001b[36mbeyonce\u001b[0m\n"
      ]
     },
     "metadata": {},
     "output_type": "display_data"
    },
    {
     "data": {
      "text/html": [
       "<pre style=\"white-space:pre;overflow-x:auto;line-height:normal;font-family:Menlo,'DejaVu Sans Mono',consolas,'Courier New',monospace\"><span style=\"color: #800000; text-decoration-color: #800000; font-weight: bold\">        User information already exist, skipping</span><span style=\"color: #808000; text-decoration-color: #808000; font-weight: bold\">...</span>\n",
       "</pre>\n"
      ],
      "text/plain": [
       "\u001b[1;31m \u001b[0m\u001b[1;31m       \u001b[0m\u001b[1;31mUser information already exist, skipping\u001b[0m\u001b[1;33m...\u001b[0m\n"
      ]
     },
     "metadata": {},
     "output_type": "display_data"
    },
    {
     "data": {
      "text/html": [
       "<pre style=\"white-space:pre;overflow-x:auto;line-height:normal;font-family:Menlo,'DejaVu Sans Mono',consolas,'Courier New',monospace\">Getting Account Information: <span style=\"color: #008080; text-decoration-color: #008080\">khloekardashian</span>\n",
       "</pre>\n"
      ],
      "text/plain": [
       "Getting Account Information: \u001b[36mkhloekardashian\u001b[0m\n"
      ]
     },
     "metadata": {},
     "output_type": "display_data"
    },
    {
     "data": {
      "text/html": [
       "<pre style=\"white-space:pre;overflow-x:auto;line-height:normal;font-family:Menlo,'DejaVu Sans Mono',consolas,'Courier New',monospace\"><span style=\"color: #800000; text-decoration-color: #800000; font-weight: bold\">        User information already exist, skipping</span><span style=\"color: #808000; text-decoration-color: #808000; font-weight: bold\">...</span>\n",
       "</pre>\n"
      ],
      "text/plain": [
       "\u001b[1;31m \u001b[0m\u001b[1;31m       \u001b[0m\u001b[1;31mUser information already exist, skipping\u001b[0m\u001b[1;33m...\u001b[0m\n"
      ]
     },
     "metadata": {},
     "output_type": "display_data"
    },
    {
     "data": {
      "text/html": [
       "<pre style=\"white-space:pre;overflow-x:auto;line-height:normal;font-family:Menlo,'DejaVu Sans Mono',consolas,'Courier New',monospace\">Getting Account Information: <span style=\"color: #008080; text-decoration-color: #008080\">justinbieber</span>\n",
       "</pre>\n"
      ],
      "text/plain": [
       "Getting Account Information: \u001b[36mjustinbieber\u001b[0m\n"
      ]
     },
     "metadata": {},
     "output_type": "display_data"
    },
    {
     "data": {
      "text/html": [
       "<pre style=\"white-space:pre;overflow-x:auto;line-height:normal;font-family:Menlo,'DejaVu Sans Mono',consolas,'Courier New',monospace\"><span style=\"color: #800000; text-decoration-color: #800000; font-weight: bold\">        User information already exist, skipping</span><span style=\"color: #808000; text-decoration-color: #808000; font-weight: bold\">...</span>\n",
       "</pre>\n"
      ],
      "text/plain": [
       "\u001b[1;31m \u001b[0m\u001b[1;31m       \u001b[0m\u001b[1;31mUser information already exist, skipping\u001b[0m\u001b[1;33m...\u001b[0m\n"
      ]
     },
     "metadata": {},
     "output_type": "display_data"
    },
    {
     "data": {
      "text/html": [
       "<pre style=\"white-space:pre;overflow-x:auto;line-height:normal;font-family:Menlo,'DejaVu Sans Mono',consolas,'Courier New',monospace\">Getting Account Information: <span style=\"color: #008080; text-decoration-color: #008080\">nike</span>\n",
       "</pre>\n"
      ],
      "text/plain": [
       "Getting Account Information: \u001b[36mnike\u001b[0m\n"
      ]
     },
     "metadata": {},
     "output_type": "display_data"
    },
    {
     "data": {
      "text/html": [
       "<pre style=\"white-space:pre;overflow-x:auto;line-height:normal;font-family:Menlo,'DejaVu Sans Mono',consolas,'Courier New',monospace\"><span style=\"color: #800000; text-decoration-color: #800000; font-weight: bold\">        User information already exist, skipping</span><span style=\"color: #808000; text-decoration-color: #808000; font-weight: bold\">...</span>\n",
       "</pre>\n"
      ],
      "text/plain": [
       "\u001b[1;31m \u001b[0m\u001b[1;31m       \u001b[0m\u001b[1;31mUser information already exist, skipping\u001b[0m\u001b[1;33m...\u001b[0m\n"
      ]
     },
     "metadata": {},
     "output_type": "display_data"
    },
    {
     "name": "stderr",
     "output_type": "stream",
     "text": [
      "  6%|▌         | 12/200 [00:00<00:01, 118.88it/s]"
     ]
    },
    {
     "data": {
      "text/html": [
       "<pre style=\"white-space:pre;overflow-x:auto;line-height:normal;font-family:Menlo,'DejaVu Sans Mono',consolas,'Courier New',monospace\">Getting Account Information: <span style=\"color: #008080; text-decoration-color: #008080\">kendalljenner</span>\n",
       "</pre>\n"
      ],
      "text/plain": [
       "Getting Account Information: \u001b[36mkendalljenner\u001b[0m\n"
      ]
     },
     "metadata": {},
     "output_type": "display_data"
    },
    {
     "data": {
      "text/html": [
       "<pre style=\"white-space:pre;overflow-x:auto;line-height:normal;font-family:Menlo,'DejaVu Sans Mono',consolas,'Courier New',monospace\"><span style=\"color: #800000; text-decoration-color: #800000; font-weight: bold\">        User information already exist, skipping</span><span style=\"color: #808000; text-decoration-color: #808000; font-weight: bold\">...</span>\n",
       "</pre>\n"
      ],
      "text/plain": [
       "\u001b[1;31m \u001b[0m\u001b[1;31m       \u001b[0m\u001b[1;31mUser information already exist, skipping\u001b[0m\u001b[1;33m...\u001b[0m\n"
      ]
     },
     "metadata": {},
     "output_type": "display_data"
    },
    {
     "data": {
      "text/html": [
       "<pre style=\"white-space:pre;overflow-x:auto;line-height:normal;font-family:Menlo,'DejaVu Sans Mono',consolas,'Courier New',monospace\">Getting Account Information: <span style=\"color: #008080; text-decoration-color: #008080\">natgeo</span>\n",
       "</pre>\n"
      ],
      "text/plain": [
       "Getting Account Information: \u001b[36mnatgeo\u001b[0m\n"
      ]
     },
     "metadata": {},
     "output_type": "display_data"
    },
    {
     "data": {
      "text/html": [
       "<pre style=\"white-space:pre;overflow-x:auto;line-height:normal;font-family:Menlo,'DejaVu Sans Mono',consolas,'Courier New',monospace\"><span style=\"color: #800000; text-decoration-color: #800000; font-weight: bold\">        User information already exist, skipping</span><span style=\"color: #808000; text-decoration-color: #808000; font-weight: bold\">...</span>\n",
       "</pre>\n"
      ],
      "text/plain": [
       "\u001b[1;31m \u001b[0m\u001b[1;31m       \u001b[0m\u001b[1;31mUser information already exist, skipping\u001b[0m\u001b[1;33m...\u001b[0m\n"
      ]
     },
     "metadata": {},
     "output_type": "display_data"
    },
    {
     "data": {
      "text/html": [
       "<pre style=\"white-space:pre;overflow-x:auto;line-height:normal;font-family:Menlo,'DejaVu Sans Mono',consolas,'Courier New',monospace\">Getting Account Information: <span style=\"color: #008080; text-decoration-color: #008080\">taylorswift</span>\n",
       "</pre>\n"
      ],
      "text/plain": [
       "Getting Account Information: \u001b[36mtaylorswift\u001b[0m\n"
      ]
     },
     "metadata": {},
     "output_type": "display_data"
    },
    {
     "data": {
      "text/html": [
       "<pre style=\"white-space:pre;overflow-x:auto;line-height:normal;font-family:Menlo,'DejaVu Sans Mono',consolas,'Courier New',monospace\"><span style=\"color: #800000; text-decoration-color: #800000; font-weight: bold\">        User information already exist, skipping</span><span style=\"color: #808000; text-decoration-color: #808000; font-weight: bold\">...</span>\n",
       "</pre>\n"
      ],
      "text/plain": [
       "\u001b[1;31m \u001b[0m\u001b[1;31m       \u001b[0m\u001b[1;31mUser information already exist, skipping\u001b[0m\u001b[1;33m...\u001b[0m\n"
      ]
     },
     "metadata": {},
     "output_type": "display_data"
    },
    {
     "data": {
      "text/html": [
       "<pre style=\"white-space:pre;overflow-x:auto;line-height:normal;font-family:Menlo,'DejaVu Sans Mono',consolas,'Courier New',monospace\">Getting Account Information: <span style=\"color: #008080; text-decoration-color: #008080\">virat.kohli</span>\n",
       "</pre>\n"
      ],
      "text/plain": [
       "Getting Account Information: \u001b[36mvirat.kohli\u001b[0m\n"
      ]
     },
     "metadata": {},
     "output_type": "display_data"
    },
    {
     "data": {
      "text/html": [
       "<pre style=\"white-space:pre;overflow-x:auto;line-height:normal;font-family:Menlo,'DejaVu Sans Mono',consolas,'Courier New',monospace\"><span style=\"color: #800000; text-decoration-color: #800000; font-weight: bold\">        User information already exist, skipping</span><span style=\"color: #808000; text-decoration-color: #808000; font-weight: bold\">...</span>\n",
       "</pre>\n"
      ],
      "text/plain": [
       "\u001b[1;31m \u001b[0m\u001b[1;31m       \u001b[0m\u001b[1;31mUser information already exist, skipping\u001b[0m\u001b[1;33m...\u001b[0m\n"
      ]
     },
     "metadata": {},
     "output_type": "display_data"
    },
    {
     "data": {
      "text/html": [
       "<pre style=\"white-space:pre;overflow-x:auto;line-height:normal;font-family:Menlo,'DejaVu Sans Mono',consolas,'Courier New',monospace\">Getting Account Information: <span style=\"color: #008080; text-decoration-color: #008080\">jlo</span>\n",
       "</pre>\n"
      ],
      "text/plain": [
       "Getting Account Information: \u001b[36mjlo\u001b[0m\n"
      ]
     },
     "metadata": {},
     "output_type": "display_data"
    },
    {
     "data": {
      "text/html": [
       "<pre style=\"white-space:pre;overflow-x:auto;line-height:normal;font-family:Menlo,'DejaVu Sans Mono',consolas,'Courier New',monospace\"><span style=\"color: #800000; text-decoration-color: #800000; font-weight: bold\">        User information already exist, skipping</span><span style=\"color: #808000; text-decoration-color: #808000; font-weight: bold\">...</span>\n",
       "</pre>\n"
      ],
      "text/plain": [
       "\u001b[1;31m \u001b[0m\u001b[1;31m       \u001b[0m\u001b[1;31mUser information already exist, skipping\u001b[0m\u001b[1;33m...\u001b[0m\n"
      ]
     },
     "metadata": {},
     "output_type": "display_data"
    },
    {
     "data": {
      "text/html": [
       "<pre style=\"white-space:pre;overflow-x:auto;line-height:normal;font-family:Menlo,'DejaVu Sans Mono',consolas,'Courier New',monospace\">Getting Account Information: <span style=\"color: #008080; text-decoration-color: #008080\">kourtneykardash</span>\n",
       "</pre>\n"
      ],
      "text/plain": [
       "Getting Account Information: \u001b[36mkourtneykardash\u001b[0m\n"
      ]
     },
     "metadata": {},
     "output_type": "display_data"
    },
    {
     "data": {
      "text/html": [
       "<pre style=\"white-space:pre;overflow-x:auto;line-height:normal;font-family:Menlo,'DejaVu Sans Mono',consolas,'Courier New',monospace\"><span style=\"color: #800000; text-decoration-color: #800000; font-weight: bold\">        User information already exist, skipping</span><span style=\"color: #808000; text-decoration-color: #808000; font-weight: bold\">...</span>\n",
       "</pre>\n"
      ],
      "text/plain": [
       "\u001b[1;31m \u001b[0m\u001b[1;31m       \u001b[0m\u001b[1;31mUser information already exist, skipping\u001b[0m\u001b[1;33m...\u001b[0m\n"
      ]
     },
     "metadata": {},
     "output_type": "display_data"
    },
    {
     "data": {
      "text/html": [
       "<pre style=\"white-space:pre;overflow-x:auto;line-height:normal;font-family:Menlo,'DejaVu Sans Mono',consolas,'Courier New',monospace\">Getting Account Information: <span style=\"color: #008080; text-decoration-color: #008080\">nickiminaj</span>\n",
       "</pre>\n"
      ],
      "text/plain": [
       "Getting Account Information: \u001b[36mnickiminaj\u001b[0m\n"
      ]
     },
     "metadata": {},
     "output_type": "display_data"
    },
    {
     "data": {
      "text/html": [
       "<pre style=\"white-space:pre;overflow-x:auto;line-height:normal;font-family:Menlo,'DejaVu Sans Mono',consolas,'Courier New',monospace\"><span style=\"color: #800000; text-decoration-color: #800000; font-weight: bold\">        User information already exist, skipping</span><span style=\"color: #808000; text-decoration-color: #808000; font-weight: bold\">...</span>\n",
       "</pre>\n"
      ],
      "text/plain": [
       "\u001b[1;31m \u001b[0m\u001b[1;31m       \u001b[0m\u001b[1;31mUser information already exist, skipping\u001b[0m\u001b[1;33m...\u001b[0m\n"
      ]
     },
     "metadata": {},
     "output_type": "display_data"
    },
    {
     "data": {
      "text/html": [
       "<pre style=\"white-space:pre;overflow-x:auto;line-height:normal;font-family:Menlo,'DejaVu Sans Mono',consolas,'Courier New',monospace\">Getting Account Information: <span style=\"color: #008080; text-decoration-color: #008080\">neymarjr</span>\n",
       "</pre>\n"
      ],
      "text/plain": [
       "Getting Account Information: \u001b[36mneymarjr\u001b[0m\n"
      ]
     },
     "metadata": {},
     "output_type": "display_data"
    },
    {
     "data": {
      "text/html": [
       "<pre style=\"white-space:pre;overflow-x:auto;line-height:normal;font-family:Menlo,'DejaVu Sans Mono',consolas,'Courier New',monospace\"><span style=\"color: #800000; text-decoration-color: #800000; font-weight: bold\">        User information already exist, skipping</span><span style=\"color: #808000; text-decoration-color: #808000; font-weight: bold\">...</span>\n",
       "</pre>\n"
      ],
      "text/plain": [
       "\u001b[1;31m \u001b[0m\u001b[1;31m       \u001b[0m\u001b[1;31mUser information already exist, skipping\u001b[0m\u001b[1;33m...\u001b[0m\n"
      ]
     },
     "metadata": {},
     "output_type": "display_data"
    },
    {
     "data": {
      "text/html": [
       "<pre style=\"white-space:pre;overflow-x:auto;line-height:normal;font-family:Menlo,'DejaVu Sans Mono',consolas,'Courier New',monospace\">Getting Account Information: <span style=\"color: #008080; text-decoration-color: #008080\">mileycyrus</span>\n",
       "</pre>\n"
      ],
      "text/plain": [
       "Getting Account Information: \u001b[36mmileycyrus\u001b[0m\n"
      ]
     },
     "metadata": {},
     "output_type": "display_data"
    },
    {
     "data": {
      "text/html": [
       "<pre style=\"white-space:pre;overflow-x:auto;line-height:normal;font-family:Menlo,'DejaVu Sans Mono',consolas,'Courier New',monospace\"><span style=\"color: #800000; text-decoration-color: #800000; font-weight: bold\">        User information already exist, skipping</span><span style=\"color: #808000; text-decoration-color: #808000; font-weight: bold\">...</span>\n",
       "</pre>\n"
      ],
      "text/plain": [
       "\u001b[1;31m \u001b[0m\u001b[1;31m       \u001b[0m\u001b[1;31mUser information already exist, skipping\u001b[0m\u001b[1;33m...\u001b[0m\n"
      ]
     },
     "metadata": {},
     "output_type": "display_data"
    },
    {
     "data": {
      "text/html": [
       "<pre style=\"white-space:pre;overflow-x:auto;line-height:normal;font-family:Menlo,'DejaVu Sans Mono',consolas,'Courier New',monospace\">Getting Account Information: <span style=\"color: #008080; text-decoration-color: #008080\">katyperry</span>\n",
       "</pre>\n"
      ],
      "text/plain": [
       "Getting Account Information: \u001b[36mkatyperry\u001b[0m\n"
      ]
     },
     "metadata": {},
     "output_type": "display_data"
    },
    {
     "data": {
      "text/html": [
       "<pre style=\"white-space:pre;overflow-x:auto;line-height:normal;font-family:Menlo,'DejaVu Sans Mono',consolas,'Courier New',monospace\"><span style=\"color: #800000; text-decoration-color: #800000; font-weight: bold\">        User information already exist, skipping</span><span style=\"color: #808000; text-decoration-color: #808000; font-weight: bold\">...</span>\n",
       "</pre>\n"
      ],
      "text/plain": [
       "\u001b[1;31m \u001b[0m\u001b[1;31m       \u001b[0m\u001b[1;31mUser information already exist, skipping\u001b[0m\u001b[1;33m...\u001b[0m\n"
      ]
     },
     "metadata": {},
     "output_type": "display_data"
    },
    {
     "data": {
      "text/html": [
       "<pre style=\"white-space:pre;overflow-x:auto;line-height:normal;font-family:Menlo,'DejaVu Sans Mono',consolas,'Courier New',monospace\">Getting Account Information: <span style=\"color: #008080; text-decoration-color: #008080\">zendaya</span>\n",
       "</pre>\n"
      ],
      "text/plain": [
       "Getting Account Information: \u001b[36mzendaya\u001b[0m\n"
      ]
     },
     "metadata": {},
     "output_type": "display_data"
    },
    {
     "data": {
      "text/html": [
       "<pre style=\"white-space:pre;overflow-x:auto;line-height:normal;font-family:Menlo,'DejaVu Sans Mono',consolas,'Courier New',monospace\"><span style=\"color: #800000; text-decoration-color: #800000; font-weight: bold\">        User information already exist, skipping</span><span style=\"color: #808000; text-decoration-color: #808000; font-weight: bold\">...</span>\n",
       "</pre>\n"
      ],
      "text/plain": [
       "\u001b[1;31m \u001b[0m\u001b[1;31m       \u001b[0m\u001b[1;31mUser information already exist, skipping\u001b[0m\u001b[1;33m...\u001b[0m\n"
      ]
     },
     "metadata": {},
     "output_type": "display_data"
    },
    {
     "data": {
      "text/html": [
       "<pre style=\"white-space:pre;overflow-x:auto;line-height:normal;font-family:Menlo,'DejaVu Sans Mono',consolas,'Courier New',monospace\">Getting Account Information: <span style=\"color: #008080; text-decoration-color: #008080\">kevinhart4real</span>\n",
       "</pre>\n"
      ],
      "text/plain": [
       "Getting Account Information: \u001b[36mkevinhart4real\u001b[0m\n"
      ]
     },
     "metadata": {},
     "output_type": "display_data"
    },
    {
     "data": {
      "text/html": [
       "<pre style=\"white-space:pre;overflow-x:auto;line-height:normal;font-family:Menlo,'DejaVu Sans Mono',consolas,'Courier New',monospace\"><span style=\"color: #800000; text-decoration-color: #800000; font-weight: bold\">        User information already exist, skipping</span><span style=\"color: #808000; text-decoration-color: #808000; font-weight: bold\">...</span>\n",
       "</pre>\n"
      ],
      "text/plain": [
       "\u001b[1;31m \u001b[0m\u001b[1;31m       \u001b[0m\u001b[1;31mUser information already exist, skipping\u001b[0m\u001b[1;33m...\u001b[0m\n"
      ]
     },
     "metadata": {},
     "output_type": "display_data"
    },
    {
     "data": {
      "text/html": [
       "<pre style=\"white-space:pre;overflow-x:auto;line-height:normal;font-family:Menlo,'DejaVu Sans Mono',consolas,'Courier New',monospace\">Getting Account Information: <span style=\"color: #008080; text-decoration-color: #008080\">ddlovato</span>\n",
       "</pre>\n"
      ],
      "text/plain": [
       "Getting Account Information: \u001b[36mddlovato\u001b[0m\n"
      ]
     },
     "metadata": {},
     "output_type": "display_data"
    },
    {
     "data": {
      "text/html": [
       "<pre style=\"white-space:pre;overflow-x:auto;line-height:normal;font-family:Menlo,'DejaVu Sans Mono',consolas,'Courier New',monospace\"><span style=\"color: #800000; text-decoration-color: #800000; font-weight: bold\">        User information already exist, skipping</span><span style=\"color: #808000; text-decoration-color: #808000; font-weight: bold\">...</span>\n",
       "</pre>\n"
      ],
      "text/plain": [
       "\u001b[1;31m \u001b[0m\u001b[1;31m       \u001b[0m\u001b[1;31mUser information already exist, skipping\u001b[0m\u001b[1;33m...\u001b[0m\n"
      ]
     },
     "metadata": {},
     "output_type": "display_data"
    },
    {
     "data": {
      "text/html": [
       "<pre style=\"white-space:pre;overflow-x:auto;line-height:normal;font-family:Menlo,'DejaVu Sans Mono',consolas,'Courier New',monospace\">Getting Account Information: <span style=\"color: #008080; text-decoration-color: #008080\">kingjames</span>\n",
       "</pre>\n"
      ],
      "text/plain": [
       "Getting Account Information: \u001b[36mkingjames\u001b[0m\n"
      ]
     },
     "metadata": {},
     "output_type": "display_data"
    },
    {
     "data": {
      "text/html": [
       "<pre style=\"white-space:pre;overflow-x:auto;line-height:normal;font-family:Menlo,'DejaVu Sans Mono',consolas,'Courier New',monospace\"><span style=\"color: #800000; text-decoration-color: #800000; font-weight: bold\">        User information already exist, skipping</span><span style=\"color: #808000; text-decoration-color: #808000; font-weight: bold\">...</span>\n",
       "</pre>\n"
      ],
      "text/plain": [
       "\u001b[1;31m \u001b[0m\u001b[1;31m       \u001b[0m\u001b[1;31mUser information already exist, skipping\u001b[0m\u001b[1;33m...\u001b[0m\n"
      ]
     },
     "metadata": {},
     "output_type": "display_data"
    },
    {
     "data": {
      "text/html": [
       "<pre style=\"white-space:pre;overflow-x:auto;line-height:normal;font-family:Menlo,'DejaVu Sans Mono',consolas,'Courier New',monospace\">Getting Account Information: <span style=\"color: #008080; text-decoration-color: #008080\">badgalriri</span>\n",
       "</pre>\n"
      ],
      "text/plain": [
       "Getting Account Information: \u001b[36mbadgalriri\u001b[0m\n"
      ]
     },
     "metadata": {},
     "output_type": "display_data"
    },
    {
     "data": {
      "text/html": [
       "<pre style=\"white-space:pre;overflow-x:auto;line-height:normal;font-family:Menlo,'DejaVu Sans Mono',consolas,'Courier New',monospace\"><span style=\"color: #800000; text-decoration-color: #800000; font-weight: bold\">        User information already exist, skipping</span><span style=\"color: #808000; text-decoration-color: #808000; font-weight: bold\">...</span>\n",
       "</pre>\n"
      ],
      "text/plain": [
       "\u001b[1;31m \u001b[0m\u001b[1;31m       \u001b[0m\u001b[1;31mUser information already exist, skipping\u001b[0m\u001b[1;33m...\u001b[0m\n"
      ]
     },
     "metadata": {},
     "output_type": "display_data"
    },
    {
     "data": {
      "text/html": [
       "<pre style=\"white-space:pre;overflow-x:auto;line-height:normal;font-family:Menlo,'DejaVu Sans Mono',consolas,'Courier New',monospace\">Getting Account Information: <span style=\"color: #008080; text-decoration-color: #008080\">realmadrid</span>\n",
       "</pre>\n"
      ],
      "text/plain": [
       "Getting Account Information: \u001b[36mrealmadrid\u001b[0m\n"
      ]
     },
     "metadata": {},
     "output_type": "display_data"
    },
    {
     "data": {
      "text/html": [
       "<pre style=\"white-space:pre;overflow-x:auto;line-height:normal;font-family:Menlo,'DejaVu Sans Mono',consolas,'Courier New',monospace\"><span style=\"color: #800000; text-decoration-color: #800000; font-weight: bold\">        User information already exist, skipping</span><span style=\"color: #808000; text-decoration-color: #808000; font-weight: bold\">...</span>\n",
       "</pre>\n"
      ],
      "text/plain": [
       "\u001b[1;31m \u001b[0m\u001b[1;31m       \u001b[0m\u001b[1;31mUser information already exist, skipping\u001b[0m\u001b[1;33m...\u001b[0m\n"
      ]
     },
     "metadata": {},
     "output_type": "display_data"
    },
    {
     "name": "stderr",
     "output_type": "stream",
     "text": [
      " 14%|█▍        | 28/200 [00:00<00:01, 137.39it/s]"
     ]
    },
    {
     "data": {
      "text/html": [
       "<pre style=\"white-space:pre;overflow-x:auto;line-height:normal;font-family:Menlo,'DejaVu Sans Mono',consolas,'Courier New',monospace\">Getting Account Information: <span style=\"color: #008080; text-decoration-color: #008080\">champagnepapi</span>\n",
       "</pre>\n"
      ],
      "text/plain": [
       "Getting Account Information: \u001b[36mchampagnepapi\u001b[0m\n"
      ]
     },
     "metadata": {},
     "output_type": "display_data"
    },
    {
     "data": {
      "text/html": [
       "<pre style=\"white-space:pre;overflow-x:auto;line-height:normal;font-family:Menlo,'DejaVu Sans Mono',consolas,'Courier New',monospace\"><span style=\"color: #800000; text-decoration-color: #800000; font-weight: bold\">        User information already exist, skipping</span><span style=\"color: #808000; text-decoration-color: #808000; font-weight: bold\">...</span>\n",
       "</pre>\n"
      ],
      "text/plain": [
       "\u001b[1;31m \u001b[0m\u001b[1;31m       \u001b[0m\u001b[1;31mUser information already exist, skipping\u001b[0m\u001b[1;33m...\u001b[0m\n"
      ]
     },
     "metadata": {},
     "output_type": "display_data"
    },
    {
     "data": {
      "text/html": [
       "<pre style=\"white-space:pre;overflow-x:auto;line-height:normal;font-family:Menlo,'DejaVu Sans Mono',consolas,'Courier New',monospace\">Getting Account Information: <span style=\"color: #008080; text-decoration-color: #008080\">chrisbrownofficial</span>\n",
       "</pre>\n"
      ],
      "text/plain": [
       "Getting Account Information: \u001b[36mchrisbrownofficial\u001b[0m\n"
      ]
     },
     "metadata": {},
     "output_type": "display_data"
    },
    {
     "data": {
      "text/html": [
       "<pre style=\"white-space:pre;overflow-x:auto;line-height:normal;font-family:Menlo,'DejaVu Sans Mono',consolas,'Courier New',monospace\"><span style=\"color: #800000; text-decoration-color: #800000; font-weight: bold\">        User information already exist, skipping</span><span style=\"color: #808000; text-decoration-color: #808000; font-weight: bold\">...</span>\n",
       "</pre>\n"
      ],
      "text/plain": [
       "\u001b[1;31m \u001b[0m\u001b[1;31m       \u001b[0m\u001b[1;31mUser information already exist, skipping\u001b[0m\u001b[1;33m...\u001b[0m\n"
      ]
     },
     "metadata": {},
     "output_type": "display_data"
    },
    {
     "data": {
      "text/html": [
       "<pre style=\"white-space:pre;overflow-x:auto;line-height:normal;font-family:Menlo,'DejaVu Sans Mono',consolas,'Courier New',monospace\">Getting Account Information: <span style=\"color: #008080; text-decoration-color: #008080\">fcbarcelona</span>\n",
       "</pre>\n"
      ],
      "text/plain": [
       "Getting Account Information: \u001b[36mfcbarcelona\u001b[0m\n"
      ]
     },
     "metadata": {},
     "output_type": "display_data"
    },
    {
     "data": {
      "text/html": [
       "<pre style=\"white-space:pre;overflow-x:auto;line-height:normal;font-family:Menlo,'DejaVu Sans Mono',consolas,'Courier New',monospace\"><span style=\"color: #800000; text-decoration-color: #800000; font-weight: bold\">        User information already exist, skipping</span><span style=\"color: #808000; text-decoration-color: #808000; font-weight: bold\">...</span>\n",
       "</pre>\n"
      ],
      "text/plain": [
       "\u001b[1;31m \u001b[0m\u001b[1;31m       \u001b[0m\u001b[1;31mUser information already exist, skipping\u001b[0m\u001b[1;33m...\u001b[0m\n"
      ]
     },
     "metadata": {},
     "output_type": "display_data"
    },
    {
     "data": {
      "text/html": [
       "<pre style=\"white-space:pre;overflow-x:auto;line-height:normal;font-family:Menlo,'DejaVu Sans Mono',consolas,'Courier New',monospace\">Getting Account Information: <span style=\"color: #008080; text-decoration-color: #008080\">billieeilish</span>\n",
       "</pre>\n"
      ],
      "text/plain": [
       "Getting Account Information: \u001b[36mbillieeilish\u001b[0m\n"
      ]
     },
     "metadata": {},
     "output_type": "display_data"
    },
    {
     "data": {
      "text/html": [
       "<pre style=\"white-space:pre;overflow-x:auto;line-height:normal;font-family:Menlo,'DejaVu Sans Mono',consolas,'Courier New',monospace\"><span style=\"color: #800000; text-decoration-color: #800000; font-weight: bold\">        User information already exist, skipping</span><span style=\"color: #808000; text-decoration-color: #808000; font-weight: bold\">...</span>\n",
       "</pre>\n"
      ],
      "text/plain": [
       "\u001b[1;31m \u001b[0m\u001b[1;31m       \u001b[0m\u001b[1;31mUser information already exist, skipping\u001b[0m\u001b[1;33m...\u001b[0m\n"
      ]
     },
     "metadata": {},
     "output_type": "display_data"
    },
    {
     "data": {
      "text/html": [
       "<pre style=\"white-space:pre;overflow-x:auto;line-height:normal;font-family:Menlo,'DejaVu Sans Mono',consolas,'Courier New',monospace\">Getting Account Information: <span style=\"color: #008080; text-decoration-color: #008080\">championsleague</span>\n",
       "</pre>\n"
      ],
      "text/plain": [
       "Getting Account Information: \u001b[36mchampionsleague\u001b[0m\n"
      ]
     },
     "metadata": {},
     "output_type": "display_data"
    },
    {
     "data": {
      "text/html": [
       "<pre style=\"white-space:pre;overflow-x:auto;line-height:normal;font-family:Menlo,'DejaVu Sans Mono',consolas,'Courier New',monospace\"><span style=\"color: #800000; text-decoration-color: #800000; font-weight: bold\">        User information already exist, skipping</span><span style=\"color: #808000; text-decoration-color: #808000; font-weight: bold\">...</span>\n",
       "</pre>\n"
      ],
      "text/plain": [
       "\u001b[1;31m \u001b[0m\u001b[1;31m       \u001b[0m\u001b[1;31mUser information already exist, skipping\u001b[0m\u001b[1;33m...\u001b[0m\n"
      ]
     },
     "metadata": {},
     "output_type": "display_data"
    },
    {
     "data": {
      "text/html": [
       "<pre style=\"white-space:pre;overflow-x:auto;line-height:normal;font-family:Menlo,'DejaVu Sans Mono',consolas,'Courier New',monospace\">Getting Account Information: <span style=\"color: #008080; text-decoration-color: #008080\">k.mbappe</span>\n",
       "</pre>\n"
      ],
      "text/plain": [
       "Getting Account Information: \u001b[36mk.mbappe\u001b[0m\n"
      ]
     },
     "metadata": {},
     "output_type": "display_data"
    },
    {
     "data": {
      "text/html": [
       "<pre style=\"white-space:pre;overflow-x:auto;line-height:normal;font-family:Menlo,'DejaVu Sans Mono',consolas,'Courier New',monospace\"><span style=\"color: #800000; text-decoration-color: #800000; font-weight: bold\">        User information already exist, skipping</span><span style=\"color: #808000; text-decoration-color: #808000; font-weight: bold\">...</span>\n",
       "</pre>\n"
      ],
      "text/plain": [
       "\u001b[1;31m \u001b[0m\u001b[1;31m       \u001b[0m\u001b[1;31mUser information already exist, skipping\u001b[0m\u001b[1;33m...\u001b[0m\n"
      ]
     },
     "metadata": {},
     "output_type": "display_data"
    },
    {
     "data": {
      "text/html": [
       "<pre style=\"white-space:pre;overflow-x:auto;line-height:normal;font-family:Menlo,'DejaVu Sans Mono',consolas,'Courier New',monospace\">Getting Account Information: <span style=\"color: #008080; text-decoration-color: #008080\">gal_gadot</span>\n",
       "</pre>\n"
      ],
      "text/plain": [
       "Getting Account Information: \u001b[36mgal_gadot\u001b[0m\n"
      ]
     },
     "metadata": {},
     "output_type": "display_data"
    },
    {
     "data": {
      "text/html": [
       "<pre style=\"white-space:pre;overflow-x:auto;line-height:normal;font-family:Menlo,'DejaVu Sans Mono',consolas,'Courier New',monospace\"><span style=\"color: #800000; text-decoration-color: #800000; font-weight: bold\">        User information already exist, skipping</span><span style=\"color: #808000; text-decoration-color: #808000; font-weight: bold\">...</span>\n",
       "</pre>\n"
      ],
      "text/plain": [
       "\u001b[1;31m \u001b[0m\u001b[1;31m       \u001b[0m\u001b[1;31mUser information already exist, skipping\u001b[0m\u001b[1;33m...\u001b[0m\n"
      ]
     },
     "metadata": {},
     "output_type": "display_data"
    },
    {
     "data": {
      "text/html": [
       "<pre style=\"white-space:pre;overflow-x:auto;line-height:normal;font-family:Menlo,'DejaVu Sans Mono',consolas,'Courier New',monospace\">Getting Account Information: <span style=\"color: #008080; text-decoration-color: #008080\">vindiesel</span>\n",
       "</pre>\n"
      ],
      "text/plain": [
       "Getting Account Information: \u001b[36mvindiesel\u001b[0m\n"
      ]
     },
     "metadata": {},
     "output_type": "display_data"
    },
    {
     "data": {
      "text/html": [
       "<pre style=\"white-space:pre;overflow-x:auto;line-height:normal;font-family:Menlo,'DejaVu Sans Mono',consolas,'Courier New',monospace\"><span style=\"color: #800000; text-decoration-color: #800000; font-weight: bold\">        User information already exist, skipping</span><span style=\"color: #808000; text-decoration-color: #808000; font-weight: bold\">...</span>\n",
       "</pre>\n"
      ],
      "text/plain": [
       "\u001b[1;31m \u001b[0m\u001b[1;31m       \u001b[0m\u001b[1;31mUser information already exist, skipping\u001b[0m\u001b[1;33m...\u001b[0m\n"
      ]
     },
     "metadata": {},
     "output_type": "display_data"
    },
    {
     "data": {
      "text/html": [
       "<pre style=\"white-space:pre;overflow-x:auto;line-height:normal;font-family:Menlo,'DejaVu Sans Mono',consolas,'Courier New',monospace\">Getting Account Information: <span style=\"color: #008080; text-decoration-color: #008080\">lalalalisa_m</span>\n",
       "</pre>\n"
      ],
      "text/plain": [
       "Getting Account Information: \u001b[36mlalalalisa_m\u001b[0m\n"
      ]
     },
     "metadata": {},
     "output_type": "display_data"
    },
    {
     "data": {
      "text/html": [
       "<pre style=\"white-space:pre;overflow-x:auto;line-height:normal;font-family:Menlo,'DejaVu Sans Mono',consolas,'Courier New',monospace\"><span style=\"color: #800000; text-decoration-color: #800000; font-weight: bold\">        User information already exist, skipping</span><span style=\"color: #808000; text-decoration-color: #808000; font-weight: bold\">...</span>\n",
       "</pre>\n"
      ],
      "text/plain": [
       "\u001b[1;31m \u001b[0m\u001b[1;31m       \u001b[0m\u001b[1;31mUser information already exist, skipping\u001b[0m\u001b[1;33m...\u001b[0m\n"
      ]
     },
     "metadata": {},
     "output_type": "display_data"
    },
    {
     "data": {
      "text/html": [
       "<pre style=\"white-space:pre;overflow-x:auto;line-height:normal;font-family:Menlo,'DejaVu Sans Mono',consolas,'Courier New',monospace\">Getting Account Information: <span style=\"color: #008080; text-decoration-color: #008080\">nasa</span>\n",
       "</pre>\n"
      ],
      "text/plain": [
       "Getting Account Information: \u001b[36mnasa\u001b[0m\n"
      ]
     },
     "metadata": {},
     "output_type": "display_data"
    },
    {
     "data": {
      "text/html": [
       "<pre style=\"white-space:pre;overflow-x:auto;line-height:normal;font-family:Menlo,'DejaVu Sans Mono',consolas,'Courier New',monospace\"><span style=\"color: #800000; text-decoration-color: #800000; font-weight: bold\">        User information already exist, skipping</span><span style=\"color: #808000; text-decoration-color: #808000; font-weight: bold\">...</span>\n",
       "</pre>\n"
      ],
      "text/plain": [
       "\u001b[1;31m \u001b[0m\u001b[1;31m       \u001b[0m\u001b[1;31mUser information already exist, skipping\u001b[0m\u001b[1;33m...\u001b[0m\n"
      ]
     },
     "metadata": {},
     "output_type": "display_data"
    },
    {
     "data": {
      "text/html": [
       "<pre style=\"white-space:pre;overflow-x:auto;line-height:normal;font-family:Menlo,'DejaVu Sans Mono',consolas,'Courier New',monospace\">Getting Account Information: <span style=\"color: #008080; text-decoration-color: #008080\">dualipa</span>\n",
       "</pre>\n"
      ],
      "text/plain": [
       "Getting Account Information: \u001b[36mdualipa\u001b[0m\n"
      ]
     },
     "metadata": {},
     "output_type": "display_data"
    },
    {
     "data": {
      "text/html": [
       "<pre style=\"white-space:pre;overflow-x:auto;line-height:normal;font-family:Menlo,'DejaVu Sans Mono',consolas,'Courier New',monospace\"><span style=\"color: #800000; text-decoration-color: #800000; font-weight: bold\">        User information already exist, skipping</span><span style=\"color: #808000; text-decoration-color: #808000; font-weight: bold\">...</span>\n",
       "</pre>\n"
      ],
      "text/plain": [
       "\u001b[1;31m \u001b[0m\u001b[1;31m       \u001b[0m\u001b[1;31mUser information already exist, skipping\u001b[0m\u001b[1;33m...\u001b[0m\n"
      ]
     },
     "metadata": {},
     "output_type": "display_data"
    },
    {
     "data": {
      "text/html": [
       "<pre style=\"white-space:pre;overflow-x:auto;line-height:normal;font-family:Menlo,'DejaVu Sans Mono',consolas,'Courier New',monospace\">Getting Account Information: <span style=\"color: #008080; text-decoration-color: #008080\">priyankachopra</span>\n",
       "</pre>\n"
      ],
      "text/plain": [
       "Getting Account Information: \u001b[36mpriyankachopra\u001b[0m\n"
      ]
     },
     "metadata": {},
     "output_type": "display_data"
    },
    {
     "data": {
      "text/html": [
       "<pre style=\"white-space:pre;overflow-x:auto;line-height:normal;font-family:Menlo,'DejaVu Sans Mono',consolas,'Courier New',monospace\"><span style=\"color: #800000; text-decoration-color: #800000; font-weight: bold\">        User information already exist, skipping</span><span style=\"color: #808000; text-decoration-color: #808000; font-weight: bold\">...</span>\n",
       "</pre>\n"
      ],
      "text/plain": [
       "\u001b[1;31m \u001b[0m\u001b[1;31m       \u001b[0m\u001b[1;31mUser information already exist, skipping\u001b[0m\u001b[1;33m...\u001b[0m\n"
      ]
     },
     "metadata": {},
     "output_type": "display_data"
    },
    {
     "data": {
      "text/html": [
       "<pre style=\"white-space:pre;overflow-x:auto;line-height:normal;font-family:Menlo,'DejaVu Sans Mono',consolas,'Courier New',monospace\">Getting Account Information: <span style=\"color: #008080; text-decoration-color: #008080\">shakira</span>\n",
       "</pre>\n"
      ],
      "text/plain": [
       "Getting Account Information: \u001b[36mshakira\u001b[0m\n"
      ]
     },
     "metadata": {},
     "output_type": "display_data"
    },
    {
     "data": {
      "text/html": [
       "<pre style=\"white-space:pre;overflow-x:auto;line-height:normal;font-family:Menlo,'DejaVu Sans Mono',consolas,'Courier New',monospace\"><span style=\"color: #800000; text-decoration-color: #800000; font-weight: bold\">        User information already exist, skipping</span><span style=\"color: #808000; text-decoration-color: #808000; font-weight: bold\">...</span>\n",
       "</pre>\n"
      ],
      "text/plain": [
       "\u001b[1;31m \u001b[0m\u001b[1;31m       \u001b[0m\u001b[1;31mUser information already exist, skipping\u001b[0m\u001b[1;33m...\u001b[0m\n"
      ]
     },
     "metadata": {},
     "output_type": "display_data"
    },
    {
     "data": {
      "text/html": [
       "<pre style=\"white-space:pre;overflow-x:auto;line-height:normal;font-family:Menlo,'DejaVu Sans Mono',consolas,'Courier New',monospace\">Getting Account Information: <span style=\"color: #008080; text-decoration-color: #008080\">snoopdogg</span>\n",
       "</pre>\n"
      ],
      "text/plain": [
       "Getting Account Information: \u001b[36msnoopdogg\u001b[0m\n"
      ]
     },
     "metadata": {},
     "output_type": "display_data"
    },
    {
     "data": {
      "text/html": [
       "<pre style=\"white-space:pre;overflow-x:auto;line-height:normal;font-family:Menlo,'DejaVu Sans Mono',consolas,'Courier New',monospace\"><span style=\"color: #800000; text-decoration-color: #800000; font-weight: bold\">        User information already exist, skipping</span><span style=\"color: #808000; text-decoration-color: #808000; font-weight: bold\">...</span>\n",
       "</pre>\n"
      ],
      "text/plain": [
       "\u001b[1;31m \u001b[0m\u001b[1;31m       \u001b[0m\u001b[1;31mUser information already exist, skipping\u001b[0m\u001b[1;33m...\u001b[0m\n"
      ]
     },
     "metadata": {},
     "output_type": "display_data"
    },
    {
     "name": "stderr",
     "output_type": "stream",
     "text": [
      " 21%|██        | 42/200 [00:00<00:01, 136.16it/s]"
     ]
    },
    {
     "data": {
      "text/html": [
       "<pre style=\"white-space:pre;overflow-x:auto;line-height:normal;font-family:Menlo,'DejaVu Sans Mono',consolas,'Courier New',monospace\">Getting Account Information: <span style=\"color: #008080; text-decoration-color: #008080\">shraddhakapoor</span>\n",
       "</pre>\n"
      ],
      "text/plain": [
       "Getting Account Information: \u001b[36mshraddhakapoor\u001b[0m\n"
      ]
     },
     "metadata": {},
     "output_type": "display_data"
    },
    {
     "data": {
      "text/html": [
       "<pre style=\"white-space:pre;overflow-x:auto;line-height:normal;font-family:Menlo,'DejaVu Sans Mono',consolas,'Courier New',monospace\"><span style=\"color: #800000; text-decoration-color: #800000; font-weight: bold\">        User information already exist, skipping</span><span style=\"color: #808000; text-decoration-color: #808000; font-weight: bold\">...</span>\n",
       "</pre>\n"
      ],
      "text/plain": [
       "\u001b[1;31m \u001b[0m\u001b[1;31m       \u001b[0m\u001b[1;31mUser information already exist, skipping\u001b[0m\u001b[1;33m...\u001b[0m\n"
      ]
     },
     "metadata": {},
     "output_type": "display_data"
    },
    {
     "data": {
      "text/html": [
       "<pre style=\"white-space:pre;overflow-x:auto;line-height:normal;font-family:Menlo,'DejaVu Sans Mono',consolas,'Courier New',monospace\">Getting Account Information: <span style=\"color: #008080; text-decoration-color: #008080\">khaby00</span>\n",
       "</pre>\n"
      ],
      "text/plain": [
       "Getting Account Information: \u001b[36mkhaby00\u001b[0m\n"
      ]
     },
     "metadata": {},
     "output_type": "display_data"
    },
    {
     "data": {
      "text/html": [
       "<pre style=\"white-space:pre;overflow-x:auto;line-height:normal;font-family:Menlo,'DejaVu Sans Mono',consolas,'Courier New',monospace\"><span style=\"color: #800000; text-decoration-color: #800000; font-weight: bold\">        User information already exist, skipping</span><span style=\"color: #808000; text-decoration-color: #808000; font-weight: bold\">...</span>\n",
       "</pre>\n"
      ],
      "text/plain": [
       "\u001b[1;31m \u001b[0m\u001b[1;31m       \u001b[0m\u001b[1;31mUser information already exist, skipping\u001b[0m\u001b[1;33m...\u001b[0m\n"
      ]
     },
     "metadata": {},
     "output_type": "display_data"
    },
    {
     "data": {
      "text/html": [
       "<pre style=\"white-space:pre;overflow-x:auto;line-height:normal;font-family:Menlo,'DejaVu Sans Mono',consolas,'Courier New',monospace\">Getting Account Information: <span style=\"color: #008080; text-decoration-color: #008080\">nba</span>\n",
       "</pre>\n"
      ],
      "text/plain": [
       "Getting Account Information: \u001b[36mnba\u001b[0m\n"
      ]
     },
     "metadata": {},
     "output_type": "display_data"
    },
    {
     "data": {
      "text/html": [
       "<pre style=\"white-space:pre;overflow-x:auto;line-height:normal;font-family:Menlo,'DejaVu Sans Mono',consolas,'Courier New',monospace\"><span style=\"color: #800000; text-decoration-color: #800000; font-weight: bold\">        User information already exist, skipping</span><span style=\"color: #808000; text-decoration-color: #808000; font-weight: bold\">...</span>\n",
       "</pre>\n"
      ],
      "text/plain": [
       "\u001b[1;31m \u001b[0m\u001b[1;31m       \u001b[0m\u001b[1;31mUser information already exist, skipping\u001b[0m\u001b[1;33m...\u001b[0m\n"
      ]
     },
     "metadata": {},
     "output_type": "display_data"
    },
    {
     "data": {
      "text/html": [
       "<pre style=\"white-space:pre;overflow-x:auto;line-height:normal;font-family:Menlo,'DejaVu Sans Mono',consolas,'Courier New',monospace\">Getting Account Information: <span style=\"color: #008080; text-decoration-color: #008080\">davidbeckham</span>\n",
       "</pre>\n"
      ],
      "text/plain": [
       "Getting Account Information: \u001b[36mdavidbeckham\u001b[0m\n"
      ]
     },
     "metadata": {},
     "output_type": "display_data"
    },
    {
     "data": {
      "text/html": [
       "<pre style=\"white-space:pre;overflow-x:auto;line-height:normal;font-family:Menlo,'DejaVu Sans Mono',consolas,'Courier New',monospace\"><span style=\"color: #800000; text-decoration-color: #800000; font-weight: bold\">        User information already exist, skipping</span><span style=\"color: #808000; text-decoration-color: #808000; font-weight: bold\">...</span>\n",
       "</pre>\n"
      ],
      "text/plain": [
       "\u001b[1;31m \u001b[0m\u001b[1;31m       \u001b[0m\u001b[1;31mUser information already exist, skipping\u001b[0m\u001b[1;33m...\u001b[0m\n"
      ]
     },
     "metadata": {},
     "output_type": "display_data"
    },
    {
     "data": {
      "text/html": [
       "<pre style=\"white-space:pre;overflow-x:auto;line-height:normal;font-family:Menlo,'DejaVu Sans Mono',consolas,'Courier New',monospace\">Getting Account Information: <span style=\"color: #008080; text-decoration-color: #008080\">gigihadid</span>\n",
       "</pre>\n"
      ],
      "text/plain": [
       "Getting Account Information: \u001b[36mgigihadid\u001b[0m\n"
      ]
     },
     "metadata": {},
     "output_type": "display_data"
    },
    {
     "data": {
      "text/html": [
       "<pre style=\"white-space:pre;overflow-x:auto;line-height:normal;font-family:Menlo,'DejaVu Sans Mono',consolas,'Courier New',monospace\"><span style=\"color: #800000; text-decoration-color: #800000; font-weight: bold\">        User information already exist, skipping</span><span style=\"color: #808000; text-decoration-color: #808000; font-weight: bold\">...</span>\n",
       "</pre>\n"
      ],
      "text/plain": [
       "\u001b[1;31m \u001b[0m\u001b[1;31m       \u001b[0m\u001b[1;31mUser information already exist, skipping\u001b[0m\u001b[1;33m...\u001b[0m\n"
      ]
     },
     "metadata": {},
     "output_type": "display_data"
    },
    {
     "data": {
      "text/html": [
       "<pre style=\"white-space:pre;overflow-x:auto;line-height:normal;font-family:Menlo,'DejaVu Sans Mono',consolas,'Courier New',monospace\">Getting Account Information: <span style=\"color: #008080; text-decoration-color: #008080\">jennierubyjane</span>\n",
       "</pre>\n"
      ],
      "text/plain": [
       "Getting Account Information: \u001b[36mjennierubyjane\u001b[0m\n"
      ]
     },
     "metadata": {},
     "output_type": "display_data"
    },
    {
     "data": {
      "text/html": [
       "<pre style=\"white-space:pre;overflow-x:auto;line-height:normal;font-family:Menlo,'DejaVu Sans Mono',consolas,'Courier New',monospace\"><span style=\"color: #800000; text-decoration-color: #800000; font-weight: bold\">        User information already exist, skipping</span><span style=\"color: #808000; text-decoration-color: #808000; font-weight: bold\">...</span>\n",
       "</pre>\n"
      ],
      "text/plain": [
       "\u001b[1;31m \u001b[0m\u001b[1;31m       \u001b[0m\u001b[1;31mUser information already exist, skipping\u001b[0m\u001b[1;33m...\u001b[0m\n"
      ]
     },
     "metadata": {},
     "output_type": "display_data"
    },
    {
     "data": {
      "text/html": [
       "<pre style=\"white-space:pre;overflow-x:auto;line-height:normal;font-family:Menlo,'DejaVu Sans Mono',consolas,'Courier New',monospace\">Getting Account Information: <span style=\"color: #008080; text-decoration-color: #008080\">aliaabhatt</span>\n",
       "</pre>\n"
      ],
      "text/plain": [
       "Getting Account Information: \u001b[36maliaabhatt\u001b[0m\n"
      ]
     },
     "metadata": {},
     "output_type": "display_data"
    },
    {
     "data": {
      "text/html": [
       "<pre style=\"white-space:pre;overflow-x:auto;line-height:normal;font-family:Menlo,'DejaVu Sans Mono',consolas,'Courier New',monospace\"><span style=\"color: #800000; text-decoration-color: #800000; font-weight: bold\">        User information already exist, skipping</span><span style=\"color: #808000; text-decoration-color: #808000; font-weight: bold\">...</span>\n",
       "</pre>\n"
      ],
      "text/plain": [
       "\u001b[1;31m \u001b[0m\u001b[1;31m       \u001b[0m\u001b[1;31mUser information already exist, skipping\u001b[0m\u001b[1;33m...\u001b[0m\n"
      ]
     },
     "metadata": {},
     "output_type": "display_data"
    },
    {
     "data": {
      "text/html": [
       "<pre style=\"white-space:pre;overflow-x:auto;line-height:normal;font-family:Menlo,'DejaVu Sans Mono',consolas,'Courier New',monospace\">Getting Account Information: <span style=\"color: #008080; text-decoration-color: #008080\">victoriassecret</span>\n",
       "</pre>\n"
      ],
      "text/plain": [
       "Getting Account Information: \u001b[36mvictoriassecret\u001b[0m\n"
      ]
     },
     "metadata": {},
     "output_type": "display_data"
    },
    {
     "data": {
      "text/html": [
       "<pre style=\"white-space:pre;overflow-x:auto;line-height:normal;font-family:Menlo,'DejaVu Sans Mono',consolas,'Courier New',monospace\"><span style=\"color: #800000; text-decoration-color: #800000; font-weight: bold\">        User information already exist, skipping</span><span style=\"color: #808000; text-decoration-color: #808000; font-weight: bold\">...</span>\n",
       "</pre>\n"
      ],
      "text/plain": [
       "\u001b[1;31m \u001b[0m\u001b[1;31m       \u001b[0m\u001b[1;31mUser information already exist, skipping\u001b[0m\u001b[1;33m...\u001b[0m\n"
      ]
     },
     "metadata": {},
     "output_type": "display_data"
    },
    {
     "data": {
      "text/html": [
       "<pre style=\"white-space:pre;overflow-x:auto;line-height:normal;font-family:Menlo,'DejaVu Sans Mono',consolas,'Courier New',monospace\">Getting Account Information: <span style=\"color: #008080; text-decoration-color: #008080\">narendramodi</span>\n",
       "</pre>\n"
      ],
      "text/plain": [
       "Getting Account Information: \u001b[36mnarendramodi\u001b[0m\n"
      ]
     },
     "metadata": {},
     "output_type": "display_data"
    },
    {
     "data": {
      "text/html": [
       "<pre style=\"white-space:pre;overflow-x:auto;line-height:normal;font-family:Menlo,'DejaVu Sans Mono',consolas,'Courier New',monospace\"><span style=\"color: #800000; text-decoration-color: #800000; font-weight: bold\">        User information already exist, skipping</span><span style=\"color: #808000; text-decoration-color: #808000; font-weight: bold\">...</span>\n",
       "</pre>\n"
      ],
      "text/plain": [
       "\u001b[1;31m \u001b[0m\u001b[1;31m       \u001b[0m\u001b[1;31mUser information already exist, skipping\u001b[0m\u001b[1;33m...\u001b[0m\n"
      ]
     },
     "metadata": {},
     "output_type": "display_data"
    },
    {
     "data": {
      "text/html": [
       "<pre style=\"white-space:pre;overflow-x:auto;line-height:normal;font-family:Menlo,'DejaVu Sans Mono',consolas,'Courier New',monospace\">Getting Account Information: <span style=\"color: #008080; text-decoration-color: #008080\">nehakakkar</span>\n",
       "</pre>\n"
      ],
      "text/plain": [
       "Getting Account Information: \u001b[36mnehakakkar\u001b[0m\n"
      ]
     },
     "metadata": {},
     "output_type": "display_data"
    },
    {
     "data": {
      "text/html": [
       "<pre style=\"white-space:pre;overflow-x:auto;line-height:normal;font-family:Menlo,'DejaVu Sans Mono',consolas,'Courier New',monospace\"><span style=\"color: #800000; text-decoration-color: #800000; font-weight: bold\">        User information already exist, skipping</span><span style=\"color: #808000; text-decoration-color: #808000; font-weight: bold\">...</span>\n",
       "</pre>\n"
      ],
      "text/plain": [
       "\u001b[1;31m \u001b[0m\u001b[1;31m       \u001b[0m\u001b[1;31mUser information already exist, skipping\u001b[0m\u001b[1;33m...\u001b[0m\n"
      ]
     },
     "metadata": {},
     "output_type": "display_data"
    },
    {
     "data": {
      "text/html": [
       "<pre style=\"white-space:pre;overflow-x:auto;line-height:normal;font-family:Menlo,'DejaVu Sans Mono',consolas,'Courier New',monospace\">Getting Account Information: <span style=\"color: #008080; text-decoration-color: #008080\">bts.bighitofficial</span>\n",
       "</pre>\n"
      ],
      "text/plain": [
       "Getting Account Information: \u001b[36mbts.bighitofficial\u001b[0m\n"
      ]
     },
     "metadata": {},
     "output_type": "display_data"
    },
    {
     "data": {
      "text/html": [
       "<pre style=\"white-space:pre;overflow-x:auto;line-height:normal;font-family:Menlo,'DejaVu Sans Mono',consolas,'Courier New',monospace\"><span style=\"color: #800000; text-decoration-color: #800000; font-weight: bold\">        User information already exist, skipping</span><span style=\"color: #808000; text-decoration-color: #808000; font-weight: bold\">...</span>\n",
       "</pre>\n"
      ],
      "text/plain": [
       "\u001b[1;31m \u001b[0m\u001b[1;31m       \u001b[0m\u001b[1;31mUser information already exist, skipping\u001b[0m\u001b[1;33m...\u001b[0m\n"
      ]
     },
     "metadata": {},
     "output_type": "display_data"
    },
    {
     "data": {
      "text/html": [
       "<pre style=\"white-space:pre;overflow-x:auto;line-height:normal;font-family:Menlo,'DejaVu Sans Mono',consolas,'Courier New',monospace\">Getting Account Information: <span style=\"color: #008080; text-decoration-color: #008080\">ronaldinho</span>\n",
       "</pre>\n"
      ],
      "text/plain": [
       "Getting Account Information: \u001b[36mronaldinho\u001b[0m\n"
      ]
     },
     "metadata": {},
     "output_type": "display_data"
    },
    {
     "data": {
      "text/html": [
       "<pre style=\"white-space:pre;overflow-x:auto;line-height:normal;font-family:Menlo,'DejaVu Sans Mono',consolas,'Courier New',monospace\"><span style=\"color: #800000; text-decoration-color: #800000; font-weight: bold\">        User information already exist, skipping</span><span style=\"color: #808000; text-decoration-color: #808000; font-weight: bold\">...</span>\n",
       "</pre>\n"
      ],
      "text/plain": [
       "\u001b[1;31m \u001b[0m\u001b[1;31m       \u001b[0m\u001b[1;31mUser information already exist, skipping\u001b[0m\u001b[1;33m...\u001b[0m\n"
      ]
     },
     "metadata": {},
     "output_type": "display_data"
    },
    {
     "data": {
      "text/html": [
       "<pre style=\"white-space:pre;overflow-x:auto;line-height:normal;font-family:Menlo,'DejaVu Sans Mono',consolas,'Courier New',monospace\">Getting Account Information: <span style=\"color: #008080; text-decoration-color: #008080\">deepikapadukone</span>\n",
       "</pre>\n"
      ],
      "text/plain": [
       "Getting Account Information: \u001b[36mdeepikapadukone\u001b[0m\n"
      ]
     },
     "metadata": {},
     "output_type": "display_data"
    },
    {
     "data": {
      "text/html": [
       "<pre style=\"white-space:pre;overflow-x:auto;line-height:normal;font-family:Menlo,'DejaVu Sans Mono',consolas,'Courier New',monospace\"><span style=\"color: #800000; text-decoration-color: #800000; font-weight: bold\">        User information already exist, skipping</span><span style=\"color: #808000; text-decoration-color: #808000; font-weight: bold\">...</span>\n",
       "</pre>\n"
      ],
      "text/plain": [
       "\u001b[1;31m \u001b[0m\u001b[1;31m       \u001b[0m\u001b[1;31mUser information already exist, skipping\u001b[0m\u001b[1;33m...\u001b[0m\n"
      ]
     },
     "metadata": {},
     "output_type": "display_data"
    },
    {
     "data": {
      "text/html": [
       "<pre style=\"white-space:pre;overflow-x:auto;line-height:normal;font-family:Menlo,'DejaVu Sans Mono',consolas,'Courier New',monospace\">Getting Account Information: <span style=\"color: #008080; text-decoration-color: #008080\">shawnmendes</span>\n",
       "</pre>\n"
      ],
      "text/plain": [
       "Getting Account Information: \u001b[36mshawnmendes\u001b[0m\n"
      ]
     },
     "metadata": {},
     "output_type": "display_data"
    },
    {
     "data": {
      "text/html": [
       "<pre style=\"white-space:pre;overflow-x:auto;line-height:normal;font-family:Menlo,'DejaVu Sans Mono',consolas,'Courier New',monospace\"><span style=\"color: #800000; text-decoration-color: #800000; font-weight: bold\">        User information already exist, skipping</span><span style=\"color: #808000; text-decoration-color: #808000; font-weight: bold\">...</span>\n",
       "</pre>\n"
      ],
      "text/plain": [
       "\u001b[1;31m \u001b[0m\u001b[1;31m       \u001b[0m\u001b[1;31mUser information already exist, skipping\u001b[0m\u001b[1;33m...\u001b[0m\n"
      ]
     },
     "metadata": {},
     "output_type": "display_data"
    },
    {
     "name": "stderr",
     "output_type": "stream",
     "text": [
      " 28%|██▊       | 56/200 [00:00<00:01, 131.11it/s]"
     ]
    },
    {
     "data": {
      "text/html": [
       "<pre style=\"white-space:pre;overflow-x:auto;line-height:normal;font-family:Menlo,'DejaVu Sans Mono',consolas,'Courier New',monospace\">Getting Account Information: <span style=\"color: #008080; text-decoration-color: #008080\">katrinakaif</span>\n",
       "</pre>\n"
      ],
      "text/plain": [
       "Getting Account Information: \u001b[36mkatrinakaif\u001b[0m\n"
      ]
     },
     "metadata": {},
     "output_type": "display_data"
    },
    {
     "data": {
      "text/html": [
       "<pre style=\"white-space:pre;overflow-x:auto;line-height:normal;font-family:Menlo,'DejaVu Sans Mono',consolas,'Courier New',monospace\"><span style=\"color: #800000; text-decoration-color: #800000; font-weight: bold\">        User information already exist, skipping</span><span style=\"color: #808000; text-decoration-color: #808000; font-weight: bold\">...</span>\n",
       "</pre>\n"
      ],
      "text/plain": [
       "\u001b[1;31m \u001b[0m\u001b[1;31m       \u001b[0m\u001b[1;31mUser information already exist, skipping\u001b[0m\u001b[1;33m...\u001b[0m\n"
      ]
     },
     "metadata": {},
     "output_type": "display_data"
    },
    {
     "data": {
      "text/html": [
       "<pre style=\"white-space:pre;overflow-x:auto;line-height:normal;font-family:Menlo,'DejaVu Sans Mono',consolas,'Courier New',monospace\">Getting Account Information: <span style=\"color: #008080; text-decoration-color: #008080\">sooyaaa__</span>\n",
       "</pre>\n"
      ],
      "text/plain": [
       "Getting Account Information: \u001b[36msooyaaa__\u001b[0m\n"
      ]
     },
     "metadata": {},
     "output_type": "display_data"
    },
    {
     "data": {
      "text/html": [
       "<pre style=\"white-space:pre;overflow-x:auto;line-height:normal;font-family:Menlo,'DejaVu Sans Mono',consolas,'Courier New',monospace\"><span style=\"color: #800000; text-decoration-color: #800000; font-weight: bold\">        User information already exist, skipping</span><span style=\"color: #808000; text-decoration-color: #808000; font-weight: bold\">...</span>\n",
       "</pre>\n"
      ],
      "text/plain": [
       "\u001b[1;31m \u001b[0m\u001b[1;31m       \u001b[0m\u001b[1;31mUser information already exist, skipping\u001b[0m\u001b[1;33m...\u001b[0m\n"
      ]
     },
     "metadata": {},
     "output_type": "display_data"
    },
    {
     "data": {
      "text/html": [
       "<pre style=\"white-space:pre;overflow-x:auto;line-height:normal;font-family:Menlo,'DejaVu Sans Mono',consolas,'Courier New',monospace\">Getting Account Information: <span style=\"color: #008080; text-decoration-color: #008080\">psg</span>\n",
       "</pre>\n"
      ],
      "text/plain": [
       "Getting Account Information: \u001b[36mpsg\u001b[0m\n"
      ]
     },
     "metadata": {},
     "output_type": "display_data"
    },
    {
     "data": {
      "text/html": [
       "<pre style=\"white-space:pre;overflow-x:auto;line-height:normal;font-family:Menlo,'DejaVu Sans Mono',consolas,'Courier New',monospace\"><span style=\"color: #800000; text-decoration-color: #800000; font-weight: bold\">        User information already exist, skipping</span><span style=\"color: #808000; text-decoration-color: #808000; font-weight: bold\">...</span>\n",
       "</pre>\n"
      ],
      "text/plain": [
       "\u001b[1;31m \u001b[0m\u001b[1;31m       \u001b[0m\u001b[1;31mUser information already exist, skipping\u001b[0m\u001b[1;33m...\u001b[0m\n"
      ]
     },
     "metadata": {},
     "output_type": "display_data"
    },
    {
     "data": {
      "text/html": [
       "<pre style=\"white-space:pre;overflow-x:auto;line-height:normal;font-family:Menlo,'DejaVu Sans Mono',consolas,'Courier New',monospace\">Getting Account Information: <span style=\"color: #008080; text-decoration-color: #008080\">emmawatson</span>\n",
       "</pre>\n"
      ],
      "text/plain": [
       "Getting Account Information: \u001b[36memmawatson\u001b[0m\n"
      ]
     },
     "metadata": {},
     "output_type": "display_data"
    },
    {
     "data": {
      "text/html": [
       "<pre style=\"white-space:pre;overflow-x:auto;line-height:normal;font-family:Menlo,'DejaVu Sans Mono',consolas,'Courier New',monospace\"><span style=\"color: #800000; text-decoration-color: #800000; font-weight: bold\">        User information already exist, skipping</span><span style=\"color: #808000; text-decoration-color: #808000; font-weight: bold\">...</span>\n",
       "</pre>\n"
      ],
      "text/plain": [
       "\u001b[1;31m \u001b[0m\u001b[1;31m       \u001b[0m\u001b[1;31mUser information already exist, skipping\u001b[0m\u001b[1;33m...\u001b[0m\n"
      ]
     },
     "metadata": {},
     "output_type": "display_data"
    },
    {
     "data": {
      "text/html": [
       "<pre style=\"white-space:pre;overflow-x:auto;line-height:normal;font-family:Menlo,'DejaVu Sans Mono',consolas,'Courier New',monospace\">Getting Account Information: <span style=\"color: #008080; text-decoration-color: #008080\">roses_are_rosie</span>\n",
       "</pre>\n"
      ],
      "text/plain": [
       "Getting Account Information: \u001b[36mroses_are_rosie\u001b[0m\n"
      ]
     },
     "metadata": {},
     "output_type": "display_data"
    },
    {
     "data": {
      "text/html": [
       "<pre style=\"white-space:pre;overflow-x:auto;line-height:normal;font-family:Menlo,'DejaVu Sans Mono',consolas,'Courier New',monospace\"><span style=\"color: #800000; text-decoration-color: #800000; font-weight: bold\">        User information already exist, skipping</span><span style=\"color: #808000; text-decoration-color: #808000; font-weight: bold\">...</span>\n",
       "</pre>\n"
      ],
      "text/plain": [
       "\u001b[1;31m \u001b[0m\u001b[1;31m       \u001b[0m\u001b[1;31mUser information already exist, skipping\u001b[0m\u001b[1;33m...\u001b[0m\n"
      ]
     },
     "metadata": {},
     "output_type": "display_data"
    },
    {
     "data": {
      "text/html": [
       "<pre style=\"white-space:pre;overflow-x:auto;line-height:normal;font-family:Menlo,'DejaVu Sans Mono',consolas,'Courier New',monospace\">Getting Account Information: <span style=\"color: #008080; text-decoration-color: #008080\">justintimberlake</span>\n",
       "</pre>\n"
      ],
      "text/plain": [
       "Getting Account Information: \u001b[36mjustintimberlake\u001b[0m\n"
      ]
     },
     "metadata": {},
     "output_type": "display_data"
    },
    {
     "data": {
      "text/html": [
       "<pre style=\"white-space:pre;overflow-x:auto;line-height:normal;font-family:Menlo,'DejaVu Sans Mono',consolas,'Courier New',monospace\"><span style=\"color: #800000; text-decoration-color: #800000; font-weight: bold\">        User information already exist, skipping</span><span style=\"color: #808000; text-decoration-color: #808000; font-weight: bold\">...</span>\n",
       "</pre>\n"
      ],
      "text/plain": [
       "\u001b[1;31m \u001b[0m\u001b[1;31m       \u001b[0m\u001b[1;31mUser information already exist, skipping\u001b[0m\u001b[1;33m...\u001b[0m\n"
      ]
     },
     "metadata": {},
     "output_type": "display_data"
    },
    {
     "data": {
      "text/html": [
       "<pre style=\"white-space:pre;overflow-x:auto;line-height:normal;font-family:Menlo,'DejaVu Sans Mono',consolas,'Courier New',monospace\">Getting Account Information: <span style=\"color: #008080; text-decoration-color: #008080\">karimbenzema</span>\n",
       "</pre>\n"
      ],
      "text/plain": [
       "Getting Account Information: \u001b[36mkarimbenzema\u001b[0m\n"
      ]
     },
     "metadata": {},
     "output_type": "display_data"
    },
    {
     "data": {
      "text/html": [
       "<pre style=\"white-space:pre;overflow-x:auto;line-height:normal;font-family:Menlo,'DejaVu Sans Mono',consolas,'Courier New',monospace\"><span style=\"color: #800000; text-decoration-color: #800000; font-weight: bold\">        User information already exist, skipping</span><span style=\"color: #808000; text-decoration-color: #808000; font-weight: bold\">...</span>\n",
       "</pre>\n"
      ],
      "text/plain": [
       "\u001b[1;31m \u001b[0m\u001b[1;31m       \u001b[0m\u001b[1;31mUser information already exist, skipping\u001b[0m\u001b[1;33m...\u001b[0m\n"
      ]
     },
     "metadata": {},
     "output_type": "display_data"
    },
    {
     "data": {
      "text/html": [
       "<pre style=\"white-space:pre;overflow-x:auto;line-height:normal;font-family:Menlo,'DejaVu Sans Mono',consolas,'Courier New',monospace\">Getting Account Information: <span style=\"color: #008080; text-decoration-color: #008080\">raffinagita1717</span>\n",
       "</pre>\n"
      ],
      "text/plain": [
       "Getting Account Information: \u001b[36mraffinagita1717\u001b[0m\n"
      ]
     },
     "metadata": {},
     "output_type": "display_data"
    },
    {
     "data": {
      "text/html": [
       "<pre style=\"white-space:pre;overflow-x:auto;line-height:normal;font-family:Menlo,'DejaVu Sans Mono',consolas,'Courier New',monospace\"><span style=\"color: #800000; text-decoration-color: #800000; font-weight: bold\">        User information already exist, skipping</span><span style=\"color: #808000; text-decoration-color: #808000; font-weight: bold\">...</span>\n",
       "</pre>\n"
      ],
      "text/plain": [
       "\u001b[1;31m \u001b[0m\u001b[1;31m       \u001b[0m\u001b[1;31mUser information already exist, skipping\u001b[0m\u001b[1;33m...\u001b[0m\n"
      ]
     },
     "metadata": {},
     "output_type": "display_data"
    },
    {
     "data": {
      "text/html": [
       "<pre style=\"white-space:pre;overflow-x:auto;line-height:normal;font-family:Menlo,'DejaVu Sans Mono',consolas,'Courier New',monospace\">Getting Account Information: <span style=\"color: #008080; text-decoration-color: #008080\">marvel</span>\n",
       "</pre>\n"
      ],
      "text/plain": [
       "Getting Account Information: \u001b[36mmarvel\u001b[0m\n"
      ]
     },
     "metadata": {},
     "output_type": "display_data"
    },
    {
     "data": {
      "text/html": [
       "<pre style=\"white-space:pre;overflow-x:auto;line-height:normal;font-family:Menlo,'DejaVu Sans Mono',consolas,'Courier New',monospace\"><span style=\"color: #800000; text-decoration-color: #800000; font-weight: bold\">        User information already exist, skipping</span><span style=\"color: #808000; text-decoration-color: #808000; font-weight: bold\">...</span>\n",
       "</pre>\n"
      ],
      "text/plain": [
       "\u001b[1;31m \u001b[0m\u001b[1;31m       \u001b[0m\u001b[1;31mUser information already exist, skipping\u001b[0m\u001b[1;33m...\u001b[0m\n"
      ]
     },
     "metadata": {},
     "output_type": "display_data"
    },
    {
     "data": {
      "text/html": [
       "<pre style=\"white-space:pre;overflow-x:auto;line-height:normal;font-family:Menlo,'DejaVu Sans Mono',consolas,'Courier New',monospace\">Getting Account Information: <span style=\"color: #008080; text-decoration-color: #008080\">tomholland2013</span>\n",
       "</pre>\n"
      ],
      "text/plain": [
       "Getting Account Information: \u001b[36mtomholland2013\u001b[0m\n"
      ]
     },
     "metadata": {},
     "output_type": "display_data"
    },
    {
     "data": {
      "text/html": [
       "<pre style=\"white-space:pre;overflow-x:auto;line-height:normal;font-family:Menlo,'DejaVu Sans Mono',consolas,'Courier New',monospace\"><span style=\"color: #800000; text-decoration-color: #800000; font-weight: bold\">        User information already exist, skipping</span><span style=\"color: #808000; text-decoration-color: #808000; font-weight: bold\">...</span>\n",
       "</pre>\n"
      ],
      "text/plain": [
       "\u001b[1;31m \u001b[0m\u001b[1;31m       \u001b[0m\u001b[1;31mUser information already exist, skipping\u001b[0m\u001b[1;33m...\u001b[0m\n"
      ]
     },
     "metadata": {},
     "output_type": "display_data"
    },
    {
     "data": {
      "text/html": [
       "<pre style=\"white-space:pre;overflow-x:auto;line-height:normal;font-family:Menlo,'DejaVu Sans Mono',consolas,'Courier New',monospace\">Getting Account Information: <span style=\"color: #008080; text-decoration-color: #008080\">camila_cabello</span>\n",
       "</pre>\n"
      ],
      "text/plain": [
       "Getting Account Information: \u001b[36mcamila_cabello\u001b[0m\n"
      ]
     },
     "metadata": {},
     "output_type": "display_data"
    },
    {
     "data": {
      "text/html": [
       "<pre style=\"white-space:pre;overflow-x:auto;line-height:normal;font-family:Menlo,'DejaVu Sans Mono',consolas,'Courier New',monospace\"><span style=\"color: #800000; text-decoration-color: #800000; font-weight: bold\">        User information already exist, skipping</span><span style=\"color: #808000; text-decoration-color: #808000; font-weight: bold\">...</span>\n",
       "</pre>\n"
      ],
      "text/plain": [
       "\u001b[1;31m \u001b[0m\u001b[1;31m       \u001b[0m\u001b[1;31mUser information already exist, skipping\u001b[0m\u001b[1;33m...\u001b[0m\n"
      ]
     },
     "metadata": {},
     "output_type": "display_data"
    },
    {
     "data": {
      "text/html": [
       "<pre style=\"white-space:pre;overflow-x:auto;line-height:normal;font-family:Menlo,'DejaVu Sans Mono',consolas,'Courier New',monospace\">Getting Account Information: <span style=\"color: #008080; text-decoration-color: #008080\">jacquelinef143</span>\n",
       "</pre>\n"
      ],
      "text/plain": [
       "Getting Account Information: \u001b[36mjacquelinef143\u001b[0m\n"
      ]
     },
     "metadata": {},
     "output_type": "display_data"
    },
    {
     "data": {
      "text/html": [
       "<pre style=\"white-space:pre;overflow-x:auto;line-height:normal;font-family:Menlo,'DejaVu Sans Mono',consolas,'Courier New',monospace\"><span style=\"color: #800000; text-decoration-color: #800000; font-weight: bold\">        User information already exist, skipping</span><span style=\"color: #808000; text-decoration-color: #808000; font-weight: bold\">...</span>\n",
       "</pre>\n"
      ],
      "text/plain": [
       "\u001b[1;31m \u001b[0m\u001b[1;31m       \u001b[0m\u001b[1;31mUser information already exist, skipping\u001b[0m\u001b[1;33m...\u001b[0m\n"
      ]
     },
     "metadata": {},
     "output_type": "display_data"
    },
    {
     "data": {
      "text/html": [
       "<pre style=\"white-space:pre;overflow-x:auto;line-height:normal;font-family:Menlo,'DejaVu Sans Mono',consolas,'Courier New',monospace\">Getting Account Information: <span style=\"color: #008080; text-decoration-color: #008080\">premierleague</span>\n",
       "</pre>\n"
      ],
      "text/plain": [
       "Getting Account Information: \u001b[36mpremierleague\u001b[0m\n"
      ]
     },
     "metadata": {},
     "output_type": "display_data"
    },
    {
     "data": {
      "text/html": [
       "<pre style=\"white-space:pre;overflow-x:auto;line-height:normal;font-family:Menlo,'DejaVu Sans Mono',consolas,'Courier New',monospace\"><span style=\"color: #800000; text-decoration-color: #800000; font-weight: bold\">        User information already exist, skipping</span><span style=\"color: #808000; text-decoration-color: #808000; font-weight: bold\">...</span>\n",
       "</pre>\n"
      ],
      "text/plain": [
       "\u001b[1;31m \u001b[0m\u001b[1;31m       \u001b[0m\u001b[1;31mUser information already exist, skipping\u001b[0m\u001b[1;33m...\u001b[0m\n"
      ]
     },
     "metadata": {},
     "output_type": "display_data"
    },
    {
     "data": {
      "text/html": [
       "<pre style=\"white-space:pre;overflow-x:auto;line-height:normal;font-family:Menlo,'DejaVu Sans Mono',consolas,'Courier New',monospace\">Getting Account Information: <span style=\"color: #008080; text-decoration-color: #008080\">akshaykumar</span>\n",
       "</pre>\n"
      ],
      "text/plain": [
       "Getting Account Information: \u001b[36makshaykumar\u001b[0m\n"
      ]
     },
     "metadata": {},
     "output_type": "display_data"
    },
    {
     "data": {
      "text/html": [
       "<pre style=\"white-space:pre;overflow-x:auto;line-height:normal;font-family:Menlo,'DejaVu Sans Mono',consolas,'Courier New',monospace\"><span style=\"color: #800000; text-decoration-color: #800000; font-weight: bold\">        User information already exist, skipping</span><span style=\"color: #808000; text-decoration-color: #808000; font-weight: bold\">...</span>\n",
       "</pre>\n"
      ],
      "text/plain": [
       "\u001b[1;31m \u001b[0m\u001b[1;31m       \u001b[0m\u001b[1;31mUser information already exist, skipping\u001b[0m\u001b[1;33m...\u001b[0m\n"
      ]
     },
     "metadata": {},
     "output_type": "display_data"
    },
    {
     "name": "stderr",
     "output_type": "stream",
     "text": [
      " 35%|███▌      | 70/200 [00:00<00:01, 128.45it/s]"
     ]
    },
    {
     "data": {
      "text/html": [
       "<pre style=\"white-space:pre;overflow-x:auto;line-height:normal;font-family:Menlo,'DejaVu Sans Mono',consolas,'Courier New',monospace\">Getting Account Information: <span style=\"color: #008080; text-decoration-color: #008080\">anitta</span>\n",
       "</pre>\n"
      ],
      "text/plain": [
       "Getting Account Information: \u001b[36manitta\u001b[0m\n"
      ]
     },
     "metadata": {},
     "output_type": "display_data"
    },
    {
     "data": {
      "text/html": [
       "<pre style=\"white-space:pre;overflow-x:auto;line-height:normal;font-family:Menlo,'DejaVu Sans Mono',consolas,'Courier New',monospace\"><span style=\"color: #800000; text-decoration-color: #800000; font-weight: bold\">        User information already exist, skipping</span><span style=\"color: #808000; text-decoration-color: #808000; font-weight: bold\">...</span>\n",
       "</pre>\n"
      ],
      "text/plain": [
       "\u001b[1;31m \u001b[0m\u001b[1;31m       \u001b[0m\u001b[1;31mUser information already exist, skipping\u001b[0m\u001b[1;33m...\u001b[0m\n"
      ]
     },
     "metadata": {},
     "output_type": "display_data"
    },
    {
     "data": {
      "text/html": [
       "<pre style=\"white-space:pre;overflow-x:auto;line-height:normal;font-family:Menlo,'DejaVu Sans Mono',consolas,'Courier New',monospace\">Getting Account Information: <span style=\"color: #008080; text-decoration-color: #008080\">urvashirautela</span>\n",
       "</pre>\n"
      ],
      "text/plain": [
       "Getting Account Information: \u001b[36murvashirautela\u001b[0m\n"
      ]
     },
     "metadata": {},
     "output_type": "display_data"
    },
    {
     "data": {
      "text/html": [
       "<pre style=\"white-space:pre;overflow-x:auto;line-height:normal;font-family:Menlo,'DejaVu Sans Mono',consolas,'Courier New',monospace\"><span style=\"color: #800000; text-decoration-color: #800000; font-weight: bold\">        User information already exist, skipping</span><span style=\"color: #808000; text-decoration-color: #808000; font-weight: bold\">...</span>\n",
       "</pre>\n"
      ],
      "text/plain": [
       "\u001b[1;31m \u001b[0m\u001b[1;31m       \u001b[0m\u001b[1;31mUser information already exist, skipping\u001b[0m\u001b[1;33m...\u001b[0m\n"
      ]
     },
     "metadata": {},
     "output_type": "display_data"
    },
    {
     "data": {
      "text/html": [
       "<pre style=\"white-space:pre;overflow-x:auto;line-height:normal;font-family:Menlo,'DejaVu Sans Mono',consolas,'Courier New',monospace\">Getting Account Information: <span style=\"color: #008080; text-decoration-color: #008080\">anushkasharma</span>\n",
       "</pre>\n"
      ],
      "text/plain": [
       "Getting Account Information: \u001b[36manushkasharma\u001b[0m\n"
      ]
     },
     "metadata": {},
     "output_type": "display_data"
    },
    {
     "data": {
      "text/html": [
       "<pre style=\"white-space:pre;overflow-x:auto;line-height:normal;font-family:Menlo,'DejaVu Sans Mono',consolas,'Courier New',monospace\"><span style=\"color: #800000; text-decoration-color: #800000; font-weight: bold\">        User information already exist, skipping</span><span style=\"color: #808000; text-decoration-color: #808000; font-weight: bold\">...</span>\n",
       "</pre>\n"
      ],
      "text/plain": [
       "\u001b[1;31m \u001b[0m\u001b[1;31m       \u001b[0m\u001b[1;31mUser information already exist, skipping\u001b[0m\u001b[1;33m...\u001b[0m\n"
      ]
     },
     "metadata": {},
     "output_type": "display_data"
    },
    {
     "data": {
      "text/html": [
       "<pre style=\"white-space:pre;overflow-x:auto;line-height:normal;font-family:Menlo,'DejaVu Sans Mono',consolas,'Courier New',monospace\">Getting Account Information: <span style=\"color: #008080; text-decoration-color: #008080\">willsmith</span>\n",
       "</pre>\n"
      ],
      "text/plain": [
       "Getting Account Information: \u001b[36mwillsmith\u001b[0m\n"
      ]
     },
     "metadata": {},
     "output_type": "display_data"
    },
    {
     "data": {
      "text/html": [
       "<pre style=\"white-space:pre;overflow-x:auto;line-height:normal;font-family:Menlo,'DejaVu Sans Mono',consolas,'Courier New',monospace\"><span style=\"color: #800000; text-decoration-color: #800000; font-weight: bold\">        User information already exist, skipping</span><span style=\"color: #808000; text-decoration-color: #808000; font-weight: bold\">...</span>\n",
       "</pre>\n"
      ],
      "text/plain": [
       "\u001b[1;31m \u001b[0m\u001b[1;31m       \u001b[0m\u001b[1;31mUser information already exist, skipping\u001b[0m\u001b[1;33m...\u001b[0m\n"
      ]
     },
     "metadata": {},
     "output_type": "display_data"
    },
    {
     "data": {
      "text/html": [
       "<pre style=\"white-space:pre;overflow-x:auto;line-height:normal;font-family:Menlo,'DejaVu Sans Mono',consolas,'Courier New',monospace\">Getting Account Information: <span style=\"color: #008080; text-decoration-color: #008080\">maluma</span>\n",
       "</pre>\n"
      ],
      "text/plain": [
       "Getting Account Information: \u001b[36mmaluma\u001b[0m\n"
      ]
     },
     "metadata": {},
     "output_type": "display_data"
    },
    {
     "data": {
      "text/html": [
       "<pre style=\"white-space:pre;overflow-x:auto;line-height:normal;font-family:Menlo,'DejaVu Sans Mono',consolas,'Courier New',monospace\"><span style=\"color: #800000; text-decoration-color: #800000; font-weight: bold\">        User information already exist, skipping</span><span style=\"color: #808000; text-decoration-color: #808000; font-weight: bold\">...</span>\n",
       "</pre>\n"
      ],
      "text/plain": [
       "\u001b[1;31m \u001b[0m\u001b[1;31m       \u001b[0m\u001b[1;31mUser information already exist, skipping\u001b[0m\u001b[1;33m...\u001b[0m\n"
      ]
     },
     "metadata": {},
     "output_type": "display_data"
    },
    {
     "data": {
      "text/html": [
       "<pre style=\"white-space:pre;overflow-x:auto;line-height:normal;font-family:Menlo,'DejaVu Sans Mono',consolas,'Courier New',monospace\">Getting Account Information: <span style=\"color: #008080; text-decoration-color: #008080\">milliebobbybrown</span>\n",
       "</pre>\n"
      ],
      "text/plain": [
       "Getting Account Information: \u001b[36mmilliebobbybrown\u001b[0m\n"
      ]
     },
     "metadata": {},
     "output_type": "display_data"
    },
    {
     "data": {
      "text/html": [
       "<pre style=\"white-space:pre;overflow-x:auto;line-height:normal;font-family:Menlo,'DejaVu Sans Mono',consolas,'Courier New',monospace\"><span style=\"color: #800000; text-decoration-color: #800000; font-weight: bold\">        User information already exist, skipping</span><span style=\"color: #808000; text-decoration-color: #808000; font-weight: bold\">...</span>\n",
       "</pre>\n"
      ],
      "text/plain": [
       "\u001b[1;31m \u001b[0m\u001b[1;31m       \u001b[0m\u001b[1;31mUser information already exist, skipping\u001b[0m\u001b[1;33m...\u001b[0m\n"
      ]
     },
     "metadata": {},
     "output_type": "display_data"
    },
    {
     "data": {
      "text/html": [
       "<pre style=\"white-space:pre;overflow-x:auto;line-height:normal;font-family:Menlo,'DejaVu Sans Mono',consolas,'Courier New',monospace\">Getting Account Information: <span style=\"color: #008080; text-decoration-color: #008080\">marcelotwelve</span>\n",
       "</pre>\n"
      ],
      "text/plain": [
       "Getting Account Information: \u001b[36mmarcelotwelve\u001b[0m\n"
      ]
     },
     "metadata": {},
     "output_type": "display_data"
    },
    {
     "data": {
      "text/html": [
       "<pre style=\"white-space:pre;overflow-x:auto;line-height:normal;font-family:Menlo,'DejaVu Sans Mono',consolas,'Courier New',monospace\"><span style=\"color: #800000; text-decoration-color: #800000; font-weight: bold\">        User information already exist, skipping</span><span style=\"color: #808000; text-decoration-color: #808000; font-weight: bold\">...</span>\n",
       "</pre>\n"
      ],
      "text/plain": [
       "\u001b[1;31m \u001b[0m\u001b[1;31m       \u001b[0m\u001b[1;31mUser information already exist, skipping\u001b[0m\u001b[1;33m...\u001b[0m\n"
      ]
     },
     "metadata": {},
     "output_type": "display_data"
    },
    {
     "data": {
      "text/html": [
       "<pre style=\"white-space:pre;overflow-x:auto;line-height:normal;font-family:Menlo,'DejaVu Sans Mono',consolas,'Courier New',monospace\">Getting Account Information: <span style=\"color: #008080; text-decoration-color: #008080; font-weight: bold\">433</span>\n",
       "</pre>\n"
      ],
      "text/plain": [
       "Getting Account Information: \u001b[1;36m433\u001b[0m\n"
      ]
     },
     "metadata": {},
     "output_type": "display_data"
    },
    {
     "data": {
      "text/html": [
       "<pre style=\"white-space:pre;overflow-x:auto;line-height:normal;font-family:Menlo,'DejaVu Sans Mono',consolas,'Courier New',monospace\"><span style=\"color: #800000; text-decoration-color: #800000; font-weight: bold\">        User information already exist, skipping</span><span style=\"color: #808000; text-decoration-color: #808000; font-weight: bold\">...</span>\n",
       "</pre>\n"
      ],
      "text/plain": [
       "\u001b[1;31m \u001b[0m\u001b[1;31m       \u001b[0m\u001b[1;31mUser information already exist, skipping\u001b[0m\u001b[1;33m...\u001b[0m\n"
      ]
     },
     "metadata": {},
     "output_type": "display_data"
    },
    {
     "data": {
      "text/html": [
       "<pre style=\"white-space:pre;overflow-x:auto;line-height:normal;font-family:Menlo,'DejaVu Sans Mono',consolas,'Courier New',monospace\">Getting Account Information: <span style=\"color: #008080; text-decoration-color: #008080\">manchesterunited</span>\n",
       "</pre>\n"
      ],
      "text/plain": [
       "Getting Account Information: \u001b[36mmanchesterunited\u001b[0m\n"
      ]
     },
     "metadata": {},
     "output_type": "display_data"
    },
    {
     "data": {
      "text/html": [
       "<pre style=\"white-space:pre;overflow-x:auto;line-height:normal;font-family:Menlo,'DejaVu Sans Mono',consolas,'Courier New',monospace\"><span style=\"color: #800000; text-decoration-color: #800000; font-weight: bold\">        User information already exist, skipping</span><span style=\"color: #808000; text-decoration-color: #808000; font-weight: bold\">...</span>\n",
       "</pre>\n"
      ],
      "text/plain": [
       "\u001b[1;31m \u001b[0m\u001b[1;31m       \u001b[0m\u001b[1;31mUser information already exist, skipping\u001b[0m\u001b[1;33m...\u001b[0m\n"
      ]
     },
     "metadata": {},
     "output_type": "display_data"
    },
    {
     "data": {
      "text/html": [
       "<pre style=\"white-space:pre;overflow-x:auto;line-height:normal;font-family:Menlo,'DejaVu Sans Mono',consolas,'Courier New',monospace\">Getting Account Information: <span style=\"color: #008080; text-decoration-color: #008080\">karolg</span>\n",
       "</pre>\n"
      ],
      "text/plain": [
       "Getting Account Information: \u001b[36mkarolg\u001b[0m\n"
      ]
     },
     "metadata": {},
     "output_type": "display_data"
    },
    {
     "data": {
      "text/html": [
       "<pre style=\"white-space:pre;overflow-x:auto;line-height:normal;font-family:Menlo,'DejaVu Sans Mono',consolas,'Courier New',monospace\"><span style=\"color: #800000; text-decoration-color: #800000; font-weight: bold\">        User information already exist, skipping</span><span style=\"color: #808000; text-decoration-color: #808000; font-weight: bold\">...</span>\n",
       "</pre>\n"
      ],
      "text/plain": [
       "\u001b[1;31m \u001b[0m\u001b[1;31m       \u001b[0m\u001b[1;31mUser information already exist, skipping\u001b[0m\u001b[1;33m...\u001b[0m\n"
      ]
     },
     "metadata": {},
     "output_type": "display_data"
    },
    {
     "data": {
      "text/html": [
       "<pre style=\"white-space:pre;overflow-x:auto;line-height:normal;font-family:Menlo,'DejaVu Sans Mono',consolas,'Courier New',monospace\">Getting Account Information: <span style=\"color: #008080; text-decoration-color: #008080\">zacefron</span>\n",
       "</pre>\n"
      ],
      "text/plain": [
       "Getting Account Information: \u001b[36mzacefron\u001b[0m\n"
      ]
     },
     "metadata": {},
     "output_type": "display_data"
    },
    {
     "data": {
      "text/html": [
       "<pre style=\"white-space:pre;overflow-x:auto;line-height:normal;font-family:Menlo,'DejaVu Sans Mono',consolas,'Courier New',monospace\"><span style=\"color: #800000; text-decoration-color: #800000; font-weight: bold\">        User information already exist, skipping</span><span style=\"color: #808000; text-decoration-color: #808000; font-weight: bold\">...</span>\n",
       "</pre>\n"
      ],
      "text/plain": [
       "\u001b[1;31m \u001b[0m\u001b[1;31m       \u001b[0m\u001b[1;31mUser information already exist, skipping\u001b[0m\u001b[1;33m...\u001b[0m\n"
      ]
     },
     "metadata": {},
     "output_type": "display_data"
    },
    {
     "data": {
      "text/html": [
       "<pre style=\"white-space:pre;overflow-x:auto;line-height:normal;font-family:Menlo,'DejaVu Sans Mono',consolas,'Courier New',monospace\">Getting Account Information: <span style=\"color: #008080; text-decoration-color: #008080\">beingsalmankhan</span>\n",
       "</pre>\n"
      ],
      "text/plain": [
       "Getting Account Information: \u001b[36mbeingsalmankhan\u001b[0m\n"
      ]
     },
     "metadata": {},
     "output_type": "display_data"
    },
    {
     "data": {
      "text/html": [
       "<pre style=\"white-space:pre;overflow-x:auto;line-height:normal;font-family:Menlo,'DejaVu Sans Mono',consolas,'Courier New',monospace\"><span style=\"color: #800000; text-decoration-color: #800000; font-weight: bold\">        User information already exist, skipping</span><span style=\"color: #808000; text-decoration-color: #808000; font-weight: bold\">...</span>\n",
       "</pre>\n"
      ],
      "text/plain": [
       "\u001b[1;31m \u001b[0m\u001b[1;31m       \u001b[0m\u001b[1;31mUser information already exist, skipping\u001b[0m\u001b[1;33m...\u001b[0m\n"
      ]
     },
     "metadata": {},
     "output_type": "display_data"
    },
    {
     "data": {
      "text/html": [
       "<pre style=\"white-space:pre;overflow-x:auto;line-height:normal;font-family:Menlo,'DejaVu Sans Mono',consolas,'Courier New',monospace\">Getting Account Information: <span style=\"color: #008080; text-decoration-color: #008080\">iamzlatanibrahimovic</span>\n",
       "</pre>\n"
      ],
      "text/plain": [
       "Getting Account Information: \u001b[36miamzlatanibrahimovic\u001b[0m\n"
      ]
     },
     "metadata": {},
     "output_type": "display_data"
    },
    {
     "data": {
      "text/html": [
       "<pre style=\"white-space:pre;overflow-x:auto;line-height:normal;font-family:Menlo,'DejaVu Sans Mono',consolas,'Courier New',monospace\"><span style=\"color: #800000; text-decoration-color: #800000; font-weight: bold\">        User information already exist, skipping</span><span style=\"color: #808000; text-decoration-color: #808000; font-weight: bold\">...</span>\n",
       "</pre>\n"
      ],
      "text/plain": [
       "\u001b[1;31m \u001b[0m\u001b[1;31m       \u001b[0m\u001b[1;31mUser information already exist, skipping\u001b[0m\u001b[1;33m...\u001b[0m\n"
      ]
     },
     "metadata": {},
     "output_type": "display_data"
    },
    {
     "name": "stderr",
     "output_type": "stream",
     "text": [
      " 42%|████▏     | 83/200 [00:00<00:00, 121.22it/s]"
     ]
    },
    {
     "data": {
      "text/html": [
       "<pre style=\"white-space:pre;overflow-x:auto;line-height:normal;font-family:Menlo,'DejaVu Sans Mono',consolas,'Courier New',monospace\">Getting Account Information: <span style=\"color: #008080; text-decoration-color: #008080\">9gag</span>\n",
       "</pre>\n"
      ],
      "text/plain": [
       "Getting Account Information: \u001b[36m9gag\u001b[0m\n"
      ]
     },
     "metadata": {},
     "output_type": "display_data"
    },
    {
     "data": {
      "text/html": [
       "<pre style=\"white-space:pre;overflow-x:auto;line-height:normal;font-family:Menlo,'DejaVu Sans Mono',consolas,'Courier New',monospace\"><span style=\"color: #800000; text-decoration-color: #800000; font-weight: bold\">        User information already exist, skipping</span><span style=\"color: #808000; text-decoration-color: #808000; font-weight: bold\">...</span>\n",
       "</pre>\n"
      ],
      "text/plain": [
       "\u001b[1;31m \u001b[0m\u001b[1;31m       \u001b[0m\u001b[1;31mUser information already exist, skipping\u001b[0m\u001b[1;33m...\u001b[0m\n"
      ]
     },
     "metadata": {},
     "output_type": "display_data"
    },
    {
     "data": {
      "text/html": [
       "<pre style=\"white-space:pre;overflow-x:auto;line-height:normal;font-family:Menlo,'DejaVu Sans Mono',consolas,'Courier New',monospace\">Getting Account Information: <span style=\"color: #008080; text-decoration-color: #008080\">whinderssonnunes</span>\n",
       "</pre>\n"
      ],
      "text/plain": [
       "Getting Account Information: \u001b[36mwhinderssonnunes\u001b[0m\n"
      ]
     },
     "metadata": {},
     "output_type": "display_data"
    },
    {
     "data": {
      "text/html": [
       "<pre style=\"white-space:pre;overflow-x:auto;line-height:normal;font-family:Menlo,'DejaVu Sans Mono',consolas,'Courier New',monospace\"><span style=\"color: #800000; text-decoration-color: #800000; font-weight: bold\">        User information already exist, skipping</span><span style=\"color: #808000; text-decoration-color: #808000; font-weight: bold\">...</span>\n",
       "</pre>\n"
      ],
      "text/plain": [
       "\u001b[1;31m \u001b[0m\u001b[1;31m       \u001b[0m\u001b[1;31mUser information already exist, skipping\u001b[0m\u001b[1;33m...\u001b[0m\n"
      ]
     },
     "metadata": {},
     "output_type": "display_data"
    },
    {
     "data": {
      "text/html": [
       "<pre style=\"white-space:pre;overflow-x:auto;line-height:normal;font-family:Menlo,'DejaVu Sans Mono',consolas,'Courier New',monospace\">Getting Account Information: <span style=\"color: #008080; text-decoration-color: #008080\">thv</span>\n",
       "</pre>\n"
      ],
      "text/plain": [
       "Getting Account Information: \u001b[36mthv\u001b[0m\n"
      ]
     },
     "metadata": {},
     "output_type": "display_data"
    },
    {
     "data": {
      "text/html": [
       "<pre style=\"white-space:pre;overflow-x:auto;line-height:normal;font-family:Menlo,'DejaVu Sans Mono',consolas,'Courier New',monospace\"><span style=\"color: #800000; text-decoration-color: #800000; font-weight: bold\">        Image already exists, Skipping</span><span style=\"color: #808000; text-decoration-color: #808000; font-weight: bold\">...</span>\n",
       "</pre>\n"
      ],
      "text/plain": [
       "\u001b[1;31m \u001b[0m\u001b[1;31m       \u001b[0m\u001b[1;31mImage already exists, Skipping\u001b[0m\u001b[1;33m...\u001b[0m\n"
      ]
     },
     "metadata": {},
     "output_type": "display_data"
    },
    {
     "data": {
      "text/html": [
       "<pre style=\"white-space:pre;overflow-x:auto;line-height:normal;font-family:Menlo,'DejaVu Sans Mono',consolas,'Courier New',monospace\"><span style=\"color: #800000; text-decoration-color: #800000; font-weight: bold\">        Image already exists, Skipping</span><span style=\"color: #808000; text-decoration-color: #808000; font-weight: bold\">...</span>\n",
       "</pre>\n"
      ],
      "text/plain": [
       "\u001b[1;31m \u001b[0m\u001b[1;31m       \u001b[0m\u001b[1;31mImage already exists, Skipping\u001b[0m\u001b[1;33m...\u001b[0m\n"
      ]
     },
     "metadata": {},
     "output_type": "display_data"
    },
    {
     "data": {
      "text/html": [
       "<pre style=\"white-space:pre;overflow-x:auto;line-height:normal;font-family:Menlo,'DejaVu Sans Mono',consolas,'Courier New',monospace\"><span style=\"color: #800000; text-decoration-color: #800000; font-weight: bold\">        Image already exists, Skipping</span><span style=\"color: #808000; text-decoration-color: #808000; font-weight: bold\">...</span>\n",
       "</pre>\n"
      ],
      "text/plain": [
       "\u001b[1;31m \u001b[0m\u001b[1;31m       \u001b[0m\u001b[1;31mImage already exists, Skipping\u001b[0m\u001b[1;33m...\u001b[0m\n"
      ]
     },
     "metadata": {},
     "output_type": "display_data"
    },
    {
     "data": {
      "text/html": [
       "<pre style=\"white-space:pre;overflow-x:auto;line-height:normal;font-family:Menlo,'DejaVu Sans Mono',consolas,'Courier New',monospace\"><span style=\"color: #800000; text-decoration-color: #800000; font-weight: bold\">        Image already exists, Skipping</span><span style=\"color: #808000; text-decoration-color: #808000; font-weight: bold\">...</span>\n",
       "</pre>\n"
      ],
      "text/plain": [
       "\u001b[1;31m \u001b[0m\u001b[1;31m       \u001b[0m\u001b[1;31mImage already exists, Skipping\u001b[0m\u001b[1;33m...\u001b[0m\n"
      ]
     },
     "metadata": {},
     "output_type": "display_data"
    },
    {
     "data": {
      "text/html": [
       "<pre style=\"white-space:pre;overflow-x:auto;line-height:normal;font-family:Menlo,'DejaVu Sans Mono',consolas,'Courier New',monospace\"><span style=\"color: #800000; text-decoration-color: #800000; font-weight: bold\">        Image already exists, Skipping</span><span style=\"color: #808000; text-decoration-color: #808000; font-weight: bold\">...</span>\n",
       "</pre>\n"
      ],
      "text/plain": [
       "\u001b[1;31m \u001b[0m\u001b[1;31m       \u001b[0m\u001b[1;31mImage already exists, Skipping\u001b[0m\u001b[1;33m...\u001b[0m\n"
      ]
     },
     "metadata": {},
     "output_type": "display_data"
    },
    {
     "data": {
      "text/html": [
       "<pre style=\"white-space:pre;overflow-x:auto;line-height:normal;font-family:Menlo,'DejaVu Sans Mono',consolas,'Courier New',monospace\"><span style=\"color: #800000; text-decoration-color: #800000; font-weight: bold\">        Image already exists, Skipping</span><span style=\"color: #808000; text-decoration-color: #808000; font-weight: bold\">...</span>\n",
       "</pre>\n"
      ],
      "text/plain": [
       "\u001b[1;31m \u001b[0m\u001b[1;31m       \u001b[0m\u001b[1;31mImage already exists, Skipping\u001b[0m\u001b[1;33m...\u001b[0m\n"
      ]
     },
     "metadata": {},
     "output_type": "display_data"
    },
    {
     "data": {
      "text/html": [
       "<pre style=\"white-space:pre;overflow-x:auto;line-height:normal;font-family:Menlo,'DejaVu Sans Mono',consolas,'Courier New',monospace\"><span style=\"color: #800000; text-decoration-color: #800000; font-weight: bold\">        Image already exists, Skipping</span><span style=\"color: #808000; text-decoration-color: #808000; font-weight: bold\">...</span>\n",
       "</pre>\n"
      ],
      "text/plain": [
       "\u001b[1;31m \u001b[0m\u001b[1;31m       \u001b[0m\u001b[1;31mImage already exists, Skipping\u001b[0m\u001b[1;33m...\u001b[0m\n"
      ]
     },
     "metadata": {},
     "output_type": "display_data"
    },
    {
     "data": {
      "text/html": [
       "<pre style=\"white-space:pre;overflow-x:auto;line-height:normal;font-family:Menlo,'DejaVu Sans Mono',consolas,'Courier New',monospace\"><span style=\"color: #800000; text-decoration-color: #800000; font-weight: bold\">        Image already exists, Skipping</span><span style=\"color: #808000; text-decoration-color: #808000; font-weight: bold\">...</span>\n",
       "</pre>\n"
      ],
      "text/plain": [
       "\u001b[1;31m \u001b[0m\u001b[1;31m       \u001b[0m\u001b[1;31mImage already exists, Skipping\u001b[0m\u001b[1;33m...\u001b[0m\n"
      ]
     },
     "metadata": {},
     "output_type": "display_data"
    },
    {
     "data": {
      "text/html": [
       "<pre style=\"white-space:pre;overflow-x:auto;line-height:normal;font-family:Menlo,'DejaVu Sans Mono',consolas,'Courier New',monospace\"><span style=\"color: #800000; text-decoration-color: #800000; font-weight: bold\">        Image already exists, Skipping</span><span style=\"color: #808000; text-decoration-color: #808000; font-weight: bold\">...</span>\n",
       "</pre>\n"
      ],
      "text/plain": [
       "\u001b[1;31m \u001b[0m\u001b[1;31m       \u001b[0m\u001b[1;31mImage already exists, Skipping\u001b[0m\u001b[1;33m...\u001b[0m\n"
      ]
     },
     "metadata": {},
     "output_type": "display_data"
    },
    {
     "data": {
      "text/html": [
       "<pre style=\"white-space:pre;overflow-x:auto;line-height:normal;font-family:Menlo,'DejaVu Sans Mono',consolas,'Courier New',monospace\"><span style=\"color: #800000; text-decoration-color: #800000; font-weight: bold\">        Image already exists, Skipping</span><span style=\"color: #808000; text-decoration-color: #808000; font-weight: bold\">...</span>\n",
       "</pre>\n"
      ],
      "text/plain": [
       "\u001b[1;31m \u001b[0m\u001b[1;31m       \u001b[0m\u001b[1;31mImage already exists, Skipping\u001b[0m\u001b[1;33m...\u001b[0m\n"
      ]
     },
     "metadata": {},
     "output_type": "display_data"
    },
    {
     "data": {
      "text/html": [
       "<pre style=\"white-space:pre;overflow-x:auto;line-height:normal;font-family:Menlo,'DejaVu Sans Mono',consolas,'Courier New',monospace\"><span style=\"color: #800000; text-decoration-color: #800000; font-weight: bold\">        Image already exists, Skipping</span><span style=\"color: #808000; text-decoration-color: #808000; font-weight: bold\">...</span>\n",
       "</pre>\n"
      ],
      "text/plain": [
       "\u001b[1;31m \u001b[0m\u001b[1;31m       \u001b[0m\u001b[1;31mImage already exists, Skipping\u001b[0m\u001b[1;33m...\u001b[0m\n"
      ]
     },
     "metadata": {},
     "output_type": "display_data"
    },
    {
     "data": {
      "text/html": [
       "<pre style=\"white-space:pre;overflow-x:auto;line-height:normal;font-family:Menlo,'DejaVu Sans Mono',consolas,'Courier New',monospace\"><span style=\"color: #800000; text-decoration-color: #800000; font-weight: bold\">        Image already exists, Skipping</span><span style=\"color: #808000; text-decoration-color: #808000; font-weight: bold\">...</span>\n",
       "</pre>\n"
      ],
      "text/plain": [
       "\u001b[1;31m \u001b[0m\u001b[1;31m       \u001b[0m\u001b[1;31mImage already exists, Skipping\u001b[0m\u001b[1;33m...\u001b[0m\n"
      ]
     },
     "metadata": {},
     "output_type": "display_data"
    },
    {
     "data": {
      "text/html": [
       "<pre style=\"white-space:pre;overflow-x:auto;line-height:normal;font-family:Menlo,'DejaVu Sans Mono',consolas,'Courier New',monospace\">Getting Account Information: <span style=\"color: #008080; text-decoration-color: #008080\">bellahadid</span>\n",
       "</pre>\n"
      ],
      "text/plain": [
       "Getting Account Information: \u001b[36mbellahadid\u001b[0m\n"
      ]
     },
     "metadata": {},
     "output_type": "display_data"
    },
    {
     "data": {
      "text/html": [
       "<pre style=\"white-space:pre;overflow-x:auto;line-height:normal;font-family:Menlo,'DejaVu Sans Mono',consolas,'Courier New',monospace\"><span style=\"color: #800000; text-decoration-color: #800000; font-weight: bold\">        Image already exists, Skipping</span><span style=\"color: #808000; text-decoration-color: #808000; font-weight: bold\">...</span>\n",
       "</pre>\n"
      ],
      "text/plain": [
       "\u001b[1;31m \u001b[0m\u001b[1;31m       \u001b[0m\u001b[1;31mImage already exists, Skipping\u001b[0m\u001b[1;33m...\u001b[0m\n"
      ]
     },
     "metadata": {},
     "output_type": "display_data"
    },
    {
     "data": {
      "text/html": [
       "<pre style=\"white-space:pre;overflow-x:auto;line-height:normal;font-family:Menlo,'DejaVu Sans Mono',consolas,'Courier New',monospace\"><span style=\"color: #800000; text-decoration-color: #800000; font-weight: bold\">        Image already exists, Skipping</span><span style=\"color: #808000; text-decoration-color: #808000; font-weight: bold\">...</span>\n",
       "</pre>\n"
      ],
      "text/plain": [
       "\u001b[1;31m \u001b[0m\u001b[1;31m       \u001b[0m\u001b[1;31mImage already exists, Skipping\u001b[0m\u001b[1;33m...\u001b[0m\n"
      ]
     },
     "metadata": {},
     "output_type": "display_data"
    },
    {
     "data": {
      "text/html": [
       "<pre style=\"white-space:pre;overflow-x:auto;line-height:normal;font-family:Menlo,'DejaVu Sans Mono',consolas,'Courier New',monospace\"><span style=\"color: #800000; text-decoration-color: #800000; font-weight: bold\">        Image already exists, Skipping</span><span style=\"color: #808000; text-decoration-color: #808000; font-weight: bold\">...</span>\n",
       "</pre>\n"
      ],
      "text/plain": [
       "\u001b[1;31m \u001b[0m\u001b[1;31m       \u001b[0m\u001b[1;31mImage already exists, Skipping\u001b[0m\u001b[1;33m...\u001b[0m\n"
      ]
     },
     "metadata": {},
     "output_type": "display_data"
    },
    {
     "data": {
      "text/html": [
       "<pre style=\"white-space:pre;overflow-x:auto;line-height:normal;font-family:Menlo,'DejaVu Sans Mono',consolas,'Courier New',monospace\"><span style=\"color: #800000; text-decoration-color: #800000; font-weight: bold\">        Image already exists, Skipping</span><span style=\"color: #808000; text-decoration-color: #808000; font-weight: bold\">...</span>\n",
       "</pre>\n"
      ],
      "text/plain": [
       "\u001b[1;31m \u001b[0m\u001b[1;31m       \u001b[0m\u001b[1;31mImage already exists, Skipping\u001b[0m\u001b[1;33m...\u001b[0m\n"
      ]
     },
     "metadata": {},
     "output_type": "display_data"
    },
    {
     "data": {
      "text/html": [
       "<pre style=\"white-space:pre;overflow-x:auto;line-height:normal;font-family:Menlo,'DejaVu Sans Mono',consolas,'Courier New',monospace\"><span style=\"color: #800000; text-decoration-color: #800000; font-weight: bold\">        Image already exists, Skipping</span><span style=\"color: #808000; text-decoration-color: #808000; font-weight: bold\">...</span>\n",
       "</pre>\n"
      ],
      "text/plain": [
       "\u001b[1;31m \u001b[0m\u001b[1;31m       \u001b[0m\u001b[1;31mImage already exists, Skipping\u001b[0m\u001b[1;33m...\u001b[0m\n"
      ]
     },
     "metadata": {},
     "output_type": "display_data"
    },
    {
     "data": {
      "text/html": [
       "<pre style=\"white-space:pre;overflow-x:auto;line-height:normal;font-family:Menlo,'DejaVu Sans Mono',consolas,'Courier New',monospace\"><span style=\"color: #800000; text-decoration-color: #800000; font-weight: bold\">        Image already exists, Skipping</span><span style=\"color: #808000; text-decoration-color: #808000; font-weight: bold\">...</span>\n",
       "</pre>\n"
      ],
      "text/plain": [
       "\u001b[1;31m \u001b[0m\u001b[1;31m       \u001b[0m\u001b[1;31mImage already exists, Skipping\u001b[0m\u001b[1;33m...\u001b[0m\n"
      ]
     },
     "metadata": {},
     "output_type": "display_data"
    },
    {
     "data": {
      "text/html": [
       "<pre style=\"white-space:pre;overflow-x:auto;line-height:normal;font-family:Menlo,'DejaVu Sans Mono',consolas,'Courier New',monospace\"><span style=\"color: #800000; text-decoration-color: #800000; font-weight: bold\">        Image already exists, Skipping</span><span style=\"color: #808000; text-decoration-color: #808000; font-weight: bold\">...</span>\n",
       "</pre>\n"
      ],
      "text/plain": [
       "\u001b[1;31m \u001b[0m\u001b[1;31m       \u001b[0m\u001b[1;31mImage already exists, Skipping\u001b[0m\u001b[1;33m...\u001b[0m\n"
      ]
     },
     "metadata": {},
     "output_type": "display_data"
    },
    {
     "data": {
      "text/html": [
       "<pre style=\"white-space:pre;overflow-x:auto;line-height:normal;font-family:Menlo,'DejaVu Sans Mono',consolas,'Courier New',monospace\"><span style=\"color: #800000; text-decoration-color: #800000; font-weight: bold\">        Image already exists, Skipping</span><span style=\"color: #808000; text-decoration-color: #808000; font-weight: bold\">...</span>\n",
       "</pre>\n"
      ],
      "text/plain": [
       "\u001b[1;31m \u001b[0m\u001b[1;31m       \u001b[0m\u001b[1;31mImage already exists, Skipping\u001b[0m\u001b[1;33m...\u001b[0m\n"
      ]
     },
     "metadata": {},
     "output_type": "display_data"
    },
    {
     "data": {
      "text/html": [
       "<pre style=\"white-space:pre;overflow-x:auto;line-height:normal;font-family:Menlo,'DejaVu Sans Mono',consolas,'Courier New',monospace\"><span style=\"color: #800000; text-decoration-color: #800000; font-weight: bold\">        Image already exists, Skipping</span><span style=\"color: #808000; text-decoration-color: #808000; font-weight: bold\">...</span>\n",
       "</pre>\n"
      ],
      "text/plain": [
       "\u001b[1;31m \u001b[0m\u001b[1;31m       \u001b[0m\u001b[1;31mImage already exists, Skipping\u001b[0m\u001b[1;33m...\u001b[0m\n"
      ]
     },
     "metadata": {},
     "output_type": "display_data"
    },
    {
     "data": {
      "text/html": [
       "<pre style=\"white-space:pre;overflow-x:auto;line-height:normal;font-family:Menlo,'DejaVu Sans Mono',consolas,'Courier New',monospace\"><span style=\"color: #800000; text-decoration-color: #800000; font-weight: bold\">        Image already exists, Skipping</span><span style=\"color: #808000; text-decoration-color: #808000; font-weight: bold\">...</span>\n",
       "</pre>\n"
      ],
      "text/plain": [
       "\u001b[1;31m \u001b[0m\u001b[1;31m       \u001b[0m\u001b[1;31mImage already exists, Skipping\u001b[0m\u001b[1;33m...\u001b[0m\n"
      ]
     },
     "metadata": {},
     "output_type": "display_data"
    },
    {
     "data": {
      "text/html": [
       "<pre style=\"white-space:pre;overflow-x:auto;line-height:normal;font-family:Menlo,'DejaVu Sans Mono',consolas,'Courier New',monospace\"><span style=\"color: #800000; text-decoration-color: #800000; font-weight: bold\">        Image already exists, Skipping</span><span style=\"color: #808000; text-decoration-color: #808000; font-weight: bold\">...</span>\n",
       "</pre>\n"
      ],
      "text/plain": [
       "\u001b[1;31m \u001b[0m\u001b[1;31m       \u001b[0m\u001b[1;31mImage already exists, Skipping\u001b[0m\u001b[1;33m...\u001b[0m\n"
      ]
     },
     "metadata": {},
     "output_type": "display_data"
    },
    {
     "data": {
      "text/html": [
       "<pre style=\"white-space:pre;overflow-x:auto;line-height:normal;font-family:Menlo,'DejaVu Sans Mono',consolas,'Courier New',monospace\">Getting Account Information: <span style=\"color: #008080; text-decoration-color: #008080\">paulpogba</span>\n",
       "</pre>\n"
      ],
      "text/plain": [
       "Getting Account Information: \u001b[36mpaulpogba\u001b[0m\n"
      ]
     },
     "metadata": {},
     "output_type": "display_data"
    },
    {
     "data": {
      "text/html": [
       "<pre style=\"white-space:pre;overflow-x:auto;line-height:normal;font-family:Menlo,'DejaVu Sans Mono',consolas,'Courier New',monospace\"><span style=\"color: #800000; text-decoration-color: #800000; font-weight: bold\">        Image already exists, Skipping</span><span style=\"color: #808000; text-decoration-color: #808000; font-weight: bold\">...</span>\n",
       "</pre>\n"
      ],
      "text/plain": [
       "\u001b[1;31m \u001b[0m\u001b[1;31m       \u001b[0m\u001b[1;31mImage already exists, Skipping\u001b[0m\u001b[1;33m...\u001b[0m\n"
      ]
     },
     "metadata": {},
     "output_type": "display_data"
    },
    {
     "data": {
      "text/html": [
       "<pre style=\"white-space:pre;overflow-x:auto;line-height:normal;font-family:Menlo,'DejaVu Sans Mono',consolas,'Courier New',monospace\"><span style=\"color: #800000; text-decoration-color: #800000; font-weight: bold\">        Image already exists, Skipping</span><span style=\"color: #808000; text-decoration-color: #808000; font-weight: bold\">...</span>\n",
       "</pre>\n"
      ],
      "text/plain": [
       "\u001b[1;31m \u001b[0m\u001b[1;31m       \u001b[0m\u001b[1;31mImage already exists, Skipping\u001b[0m\u001b[1;33m...\u001b[0m\n"
      ]
     },
     "metadata": {},
     "output_type": "display_data"
    },
    {
     "data": {
      "text/html": [
       "<pre style=\"white-space:pre;overflow-x:auto;line-height:normal;font-family:Menlo,'DejaVu Sans Mono',consolas,'Courier New',monospace\"><span style=\"color: #800000; text-decoration-color: #800000; font-weight: bold\">        Image already exists, Skipping</span><span style=\"color: #808000; text-decoration-color: #808000; font-weight: bold\">...</span>\n",
       "</pre>\n"
      ],
      "text/plain": [
       "\u001b[1;31m \u001b[0m\u001b[1;31m       \u001b[0m\u001b[1;31mImage already exists, Skipping\u001b[0m\u001b[1;33m...\u001b[0m\n"
      ]
     },
     "metadata": {},
     "output_type": "display_data"
    },
    {
     "data": {
      "text/html": [
       "<pre style=\"white-space:pre;overflow-x:auto;line-height:normal;font-family:Menlo,'DejaVu Sans Mono',consolas,'Courier New',monospace\"><span style=\"color: #800000; text-decoration-color: #800000; font-weight: bold\">        Image already exists, Skipping</span><span style=\"color: #808000; text-decoration-color: #808000; font-weight: bold\">...</span>\n",
       "</pre>\n"
      ],
      "text/plain": [
       "\u001b[1;31m \u001b[0m\u001b[1;31m       \u001b[0m\u001b[1;31mImage already exists, Skipping\u001b[0m\u001b[1;33m...\u001b[0m\n"
      ]
     },
     "metadata": {},
     "output_type": "display_data"
    },
    {
     "data": {
      "text/html": [
       "<pre style=\"white-space:pre;overflow-x:auto;line-height:normal;font-family:Menlo,'DejaVu Sans Mono',consolas,'Courier New',monospace\"><span style=\"color: #800000; text-decoration-color: #800000; font-weight: bold\">        Image already exists, Skipping</span><span style=\"color: #808000; text-decoration-color: #808000; font-weight: bold\">...</span>\n",
       "</pre>\n"
      ],
      "text/plain": [
       "\u001b[1;31m \u001b[0m\u001b[1;31m       \u001b[0m\u001b[1;31mImage already exists, Skipping\u001b[0m\u001b[1;33m...\u001b[0m\n"
      ]
     },
     "metadata": {},
     "output_type": "display_data"
    },
    {
     "data": {
      "text/html": [
       "<pre style=\"white-space:pre;overflow-x:auto;line-height:normal;font-family:Menlo,'DejaVu Sans Mono',consolas,'Courier New',monospace\"><span style=\"color: #800000; text-decoration-color: #800000; font-weight: bold\">        Image already exists, Skipping</span><span style=\"color: #808000; text-decoration-color: #808000; font-weight: bold\">...</span>\n",
       "</pre>\n"
      ],
      "text/plain": [
       "\u001b[1;31m \u001b[0m\u001b[1;31m       \u001b[0m\u001b[1;31mImage already exists, Skipping\u001b[0m\u001b[1;33m...\u001b[0m\n"
      ]
     },
     "metadata": {},
     "output_type": "display_data"
    },
    {
     "data": {
      "text/html": [
       "<pre style=\"white-space:pre;overflow-x:auto;line-height:normal;font-family:Menlo,'DejaVu Sans Mono',consolas,'Courier New',monospace\"><span style=\"color: #800000; text-decoration-color: #800000; font-weight: bold\">        Image already exists, Skipping</span><span style=\"color: #808000; text-decoration-color: #808000; font-weight: bold\">...</span>\n",
       "</pre>\n"
      ],
      "text/plain": [
       "\u001b[1;31m \u001b[0m\u001b[1;31m       \u001b[0m\u001b[1;31mImage already exists, Skipping\u001b[0m\u001b[1;33m...\u001b[0m\n"
      ]
     },
     "metadata": {},
     "output_type": "display_data"
    },
    {
     "data": {
      "text/html": [
       "<pre style=\"white-space:pre;overflow-x:auto;line-height:normal;font-family:Menlo,'DejaVu Sans Mono',consolas,'Courier New',monospace\"><span style=\"color: #800000; text-decoration-color: #800000; font-weight: bold\">        Image already exists, Skipping</span><span style=\"color: #808000; text-decoration-color: #808000; font-weight: bold\">...</span>\n",
       "</pre>\n"
      ],
      "text/plain": [
       "\u001b[1;31m \u001b[0m\u001b[1;31m       \u001b[0m\u001b[1;31mImage already exists, Skipping\u001b[0m\u001b[1;33m...\u001b[0m\n"
      ]
     },
     "metadata": {},
     "output_type": "display_data"
    },
    {
     "data": {
      "text/html": [
       "<pre style=\"white-space:pre;overflow-x:auto;line-height:normal;font-family:Menlo,'DejaVu Sans Mono',consolas,'Courier New',monospace\"><span style=\"color: #800000; text-decoration-color: #800000; font-weight: bold\">        Image already exists, Skipping</span><span style=\"color: #808000; text-decoration-color: #808000; font-weight: bold\">...</span>\n",
       "</pre>\n"
      ],
      "text/plain": [
       "\u001b[1;31m \u001b[0m\u001b[1;31m       \u001b[0m\u001b[1;31mImage already exists, Skipping\u001b[0m\u001b[1;33m...\u001b[0m\n"
      ]
     },
     "metadata": {},
     "output_type": "display_data"
    },
    {
     "data": {
      "text/html": [
       "<pre style=\"white-space:pre;overflow-x:auto;line-height:normal;font-family:Menlo,'DejaVu Sans Mono',consolas,'Courier New',monospace\">Getting Account Information: <span style=\"color: #008080; text-decoration-color: #008080\">juventus</span>\n",
       "</pre>\n"
      ],
      "text/plain": [
       "Getting Account Information: \u001b[36mjuventus\u001b[0m\n"
      ]
     },
     "metadata": {},
     "output_type": "display_data"
    },
    {
     "data": {
      "text/html": [
       "<pre style=\"white-space:pre;overflow-x:auto;line-height:normal;font-family:Menlo,'DejaVu Sans Mono',consolas,'Courier New',monospace\"><span style=\"color: #800000; text-decoration-color: #800000; font-weight: bold\">        Image already exists, Skipping</span><span style=\"color: #808000; text-decoration-color: #808000; font-weight: bold\">...</span>\n",
       "</pre>\n"
      ],
      "text/plain": [
       "\u001b[1;31m \u001b[0m\u001b[1;31m       \u001b[0m\u001b[1;31mImage already exists, Skipping\u001b[0m\u001b[1;33m...\u001b[0m\n"
      ]
     },
     "metadata": {},
     "output_type": "display_data"
    },
    {
     "data": {
      "text/html": [
       "<pre style=\"white-space:pre;overflow-x:auto;line-height:normal;font-family:Menlo,'DejaVu Sans Mono',consolas,'Courier New',monospace\"><span style=\"color: #800000; text-decoration-color: #800000; font-weight: bold\">        Image already exists, Skipping</span><span style=\"color: #808000; text-decoration-color: #808000; font-weight: bold\">...</span>\n",
       "</pre>\n"
      ],
      "text/plain": [
       "\u001b[1;31m \u001b[0m\u001b[1;31m       \u001b[0m\u001b[1;31mImage already exists, Skipping\u001b[0m\u001b[1;33m...\u001b[0m\n"
      ]
     },
     "metadata": {},
     "output_type": "display_data"
    },
    {
     "data": {
      "text/html": [
       "<pre style=\"white-space:pre;overflow-x:auto;line-height:normal;font-family:Menlo,'DejaVu Sans Mono',consolas,'Courier New',monospace\"><span style=\"color: #800000; text-decoration-color: #800000; font-weight: bold\">        Image already exists, Skipping</span><span style=\"color: #808000; text-decoration-color: #808000; font-weight: bold\">...</span>\n",
       "</pre>\n"
      ],
      "text/plain": [
       "\u001b[1;31m \u001b[0m\u001b[1;31m       \u001b[0m\u001b[1;31mImage already exists, Skipping\u001b[0m\u001b[1;33m...\u001b[0m\n"
      ]
     },
     "metadata": {},
     "output_type": "display_data"
    },
    {
     "data": {
      "text/html": [
       "<pre style=\"white-space:pre;overflow-x:auto;line-height:normal;font-family:Menlo,'DejaVu Sans Mono',consolas,'Courier New',monospace\">Getting Account Information: <span style=\"color: #008080; text-decoration-color: #008080\">leonardodicaprio</span>\n",
       "</pre>\n"
      ],
      "text/plain": [
       "Getting Account Information: \u001b[36mleonardodicaprio\u001b[0m\n"
      ]
     },
     "metadata": {},
     "output_type": "display_data"
    },
    {
     "data": {
      "text/html": [
       "<pre style=\"white-space:pre;overflow-x:auto;line-height:normal;font-family:Menlo,'DejaVu Sans Mono',consolas,'Courier New',monospace\"><span style=\"color: #800000; text-decoration-color: #800000; font-weight: bold\">        Image already exists, Skipping</span><span style=\"color: #808000; text-decoration-color: #808000; font-weight: bold\">...</span>\n",
       "</pre>\n"
      ],
      "text/plain": [
       "\u001b[1;31m \u001b[0m\u001b[1;31m       \u001b[0m\u001b[1;31mImage already exists, Skipping\u001b[0m\u001b[1;33m...\u001b[0m\n"
      ]
     },
     "metadata": {},
     "output_type": "display_data"
    },
    {
     "data": {
      "text/html": [
       "<pre style=\"white-space:pre;overflow-x:auto;line-height:normal;font-family:Menlo,'DejaVu Sans Mono',consolas,'Courier New',monospace\"><span style=\"color: #800000; text-decoration-color: #800000; font-weight: bold\">        Image already exists, Skipping</span><span style=\"color: #808000; text-decoration-color: #808000; font-weight: bold\">...</span>\n",
       "</pre>\n"
      ],
      "text/plain": [
       "\u001b[1;31m \u001b[0m\u001b[1;31m       \u001b[0m\u001b[1;31mImage already exists, Skipping\u001b[0m\u001b[1;33m...\u001b[0m\n"
      ]
     },
     "metadata": {},
     "output_type": "display_data"
    },
    {
     "data": {
      "text/html": [
       "<pre style=\"white-space:pre;overflow-x:auto;line-height:normal;font-family:Menlo,'DejaVu Sans Mono',consolas,'Courier New',monospace\"><span style=\"color: #800000; text-decoration-color: #800000; font-weight: bold\">        Image already exists, Skipping</span><span style=\"color: #808000; text-decoration-color: #808000; font-weight: bold\">...</span>\n",
       "</pre>\n"
      ],
      "text/plain": [
       "\u001b[1;31m \u001b[0m\u001b[1;31m       \u001b[0m\u001b[1;31mImage already exists, Skipping\u001b[0m\u001b[1;33m...\u001b[0m\n"
      ]
     },
     "metadata": {},
     "output_type": "display_data"
    },
    {
     "data": {
      "text/html": [
       "<pre style=\"white-space:pre;overflow-x:auto;line-height:normal;font-family:Menlo,'DejaVu Sans Mono',consolas,'Courier New',monospace\"><span style=\"color: #800000; text-decoration-color: #800000; font-weight: bold\">        Image already exists, Skipping</span><span style=\"color: #808000; text-decoration-color: #808000; font-weight: bold\">...</span>\n",
       "</pre>\n"
      ],
      "text/plain": [
       "\u001b[1;31m \u001b[0m\u001b[1;31m       \u001b[0m\u001b[1;31mImage already exists, Skipping\u001b[0m\u001b[1;33m...\u001b[0m\n"
      ]
     },
     "metadata": {},
     "output_type": "display_data"
    },
    {
     "data": {
      "text/html": [
       "<pre style=\"white-space:pre;overflow-x:auto;line-height:normal;font-family:Menlo,'DejaVu Sans Mono',consolas,'Courier New',monospace\"><span style=\"color: #800000; text-decoration-color: #800000; font-weight: bold\">        Image already exists, Skipping</span><span style=\"color: #808000; text-decoration-color: #808000; font-weight: bold\">...</span>\n",
       "</pre>\n"
      ],
      "text/plain": [
       "\u001b[1;31m \u001b[0m\u001b[1;31m       \u001b[0m\u001b[1;31mImage already exists, Skipping\u001b[0m\u001b[1;33m...\u001b[0m\n"
      ]
     },
     "metadata": {},
     "output_type": "display_data"
    },
    {
     "data": {
      "text/html": [
       "<pre style=\"white-space:pre;overflow-x:auto;line-height:normal;font-family:Menlo,'DejaVu Sans Mono',consolas,'Courier New',monospace\">Getting Account Information: <span style=\"color: #008080; text-decoration-color: #008080\">dishapatani</span>\n",
       "</pre>\n"
      ],
      "text/plain": [
       "Getting Account Information: \u001b[36mdishapatani\u001b[0m\n"
      ]
     },
     "metadata": {},
     "output_type": "display_data"
    },
    {
     "data": {
      "text/html": [
       "<pre style=\"white-space:pre;overflow-x:auto;line-height:normal;font-family:Menlo,'DejaVu Sans Mono',consolas,'Courier New',monospace\"><span style=\"color: #800000; text-decoration-color: #800000; font-weight: bold\">        Image already exists, Skipping</span><span style=\"color: #808000; text-decoration-color: #808000; font-weight: bold\">...</span>\n",
       "</pre>\n"
      ],
      "text/plain": [
       "\u001b[1;31m \u001b[0m\u001b[1;31m       \u001b[0m\u001b[1;31mImage already exists, Skipping\u001b[0m\u001b[1;33m...\u001b[0m\n"
      ]
     },
     "metadata": {},
     "output_type": "display_data"
    },
    {
     "data": {
      "text/html": [
       "<pre style=\"white-space:pre;overflow-x:auto;line-height:normal;font-family:Menlo,'DejaVu Sans Mono',consolas,'Courier New',monospace\"><span style=\"color: #800000; text-decoration-color: #800000; font-weight: bold\">        Image already exists, Skipping</span><span style=\"color: #808000; text-decoration-color: #808000; font-weight: bold\">...</span>\n",
       "</pre>\n"
      ],
      "text/plain": [
       "\u001b[1;31m \u001b[0m\u001b[1;31m       \u001b[0m\u001b[1;31mImage already exists, Skipping\u001b[0m\u001b[1;33m...\u001b[0m\n"
      ]
     },
     "metadata": {},
     "output_type": "display_data"
    },
    {
     "data": {
      "text/html": [
       "<pre style=\"white-space:pre;overflow-x:auto;line-height:normal;font-family:Menlo,'DejaVu Sans Mono',consolas,'Courier New',monospace\"><span style=\"color: #800000; text-decoration-color: #800000; font-weight: bold\">        Image already exists, Skipping</span><span style=\"color: #808000; text-decoration-color: #808000; font-weight: bold\">...</span>\n",
       "</pre>\n"
      ],
      "text/plain": [
       "\u001b[1;31m \u001b[0m\u001b[1;31m       \u001b[0m\u001b[1;31mImage already exists, Skipping\u001b[0m\u001b[1;33m...\u001b[0m\n"
      ]
     },
     "metadata": {},
     "output_type": "display_data"
    },
    {
     "data": {
      "text/html": [
       "<pre style=\"white-space:pre;overflow-x:auto;line-height:normal;font-family:Menlo,'DejaVu Sans Mono',consolas,'Courier New',monospace\"><span style=\"color: #800000; text-decoration-color: #800000; font-weight: bold\">        Image already exists, Skipping</span><span style=\"color: #808000; text-decoration-color: #808000; font-weight: bold\">...</span>\n",
       "</pre>\n"
      ],
      "text/plain": [
       "\u001b[1;31m \u001b[0m\u001b[1;31m       \u001b[0m\u001b[1;31mImage already exists, Skipping\u001b[0m\u001b[1;33m...\u001b[0m\n"
      ]
     },
     "metadata": {},
     "output_type": "display_data"
    },
    {
     "data": {
      "text/html": [
       "<pre style=\"white-space:pre;overflow-x:auto;line-height:normal;font-family:Menlo,'DejaVu Sans Mono',consolas,'Courier New',monospace\"><span style=\"color: #800000; text-decoration-color: #800000; font-weight: bold\">        Image already exists, Skipping</span><span style=\"color: #808000; text-decoration-color: #808000; font-weight: bold\">...</span>\n",
       "</pre>\n"
      ],
      "text/plain": [
       "\u001b[1;31m \u001b[0m\u001b[1;31m       \u001b[0m\u001b[1;31mImage already exists, Skipping\u001b[0m\u001b[1;33m...\u001b[0m\n"
      ]
     },
     "metadata": {},
     "output_type": "display_data"
    },
    {
     "data": {
      "text/html": [
       "<pre style=\"white-space:pre;overflow-x:auto;line-height:normal;font-family:Menlo,'DejaVu Sans Mono',consolas,'Courier New',monospace\"><span style=\"color: #800000; text-decoration-color: #800000; font-weight: bold\">        Image already exists, Skipping</span><span style=\"color: #808000; text-decoration-color: #808000; font-weight: bold\">...</span>\n",
       "</pre>\n"
      ],
      "text/plain": [
       "\u001b[1;31m \u001b[0m\u001b[1;31m       \u001b[0m\u001b[1;31mImage already exists, Skipping\u001b[0m\u001b[1;33m...\u001b[0m\n"
      ]
     },
     "metadata": {},
     "output_type": "display_data"
    },
    {
     "data": {
      "text/html": [
       "<pre style=\"white-space:pre;overflow-x:auto;line-height:normal;font-family:Menlo,'DejaVu Sans Mono',consolas,'Courier New',monospace\"><span style=\"color: #800000; text-decoration-color: #800000; font-weight: bold\">        Image already exists, Skipping</span><span style=\"color: #808000; text-decoration-color: #808000; font-weight: bold\">...</span>\n",
       "</pre>\n"
      ],
      "text/plain": [
       "\u001b[1;31m \u001b[0m\u001b[1;31m       \u001b[0m\u001b[1;31mImage already exists, Skipping\u001b[0m\u001b[1;33m...\u001b[0m\n"
      ]
     },
     "metadata": {},
     "output_type": "display_data"
    },
    {
     "name": "stderr",
     "output_type": "stream",
     "text": [
      " 42%|████▏     | 83/200 [00:15<00:00, 121.22it/s]"
     ]
    },
    {
     "data": {
      "text/html": [
       "<pre style=\"white-space:pre;overflow-x:auto;line-height:normal;font-family:Menlo,'DejaVu Sans Mono',consolas,'Courier New',monospace\"><span style=\"color: #800000; text-decoration-color: #800000; font-weight: bold\">        Image already exists, Skipping</span><span style=\"color: #808000; text-decoration-color: #808000; font-weight: bold\">...</span>\n",
       "</pre>\n"
      ],
      "text/plain": [
       "\u001b[1;31m \u001b[0m\u001b[1;31m       \u001b[0m\u001b[1;31mImage already exists, Skipping\u001b[0m\u001b[1;33m...\u001b[0m\n"
      ]
     },
     "metadata": {},
     "output_type": "display_data"
    },
    {
     "name": "stderr",
     "output_type": "stream",
     "text": [
      " 46%|████▌     | 91/200 [00:15<00:45,  2.38it/s] "
     ]
    },
    {
     "data": {
      "text/html": [
       "<pre style=\"white-space:pre;overflow-x:auto;line-height:normal;font-family:Menlo,'DejaVu Sans Mono',consolas,'Courier New',monospace\">Getting Account Information: <span style=\"color: #008080; text-decoration-color: #008080\">sergioramos</span>\n",
       "</pre>\n"
      ],
      "text/plain": [
       "Getting Account Information: \u001b[36msergioramos\u001b[0m\n"
      ]
     },
     "metadata": {},
     "output_type": "display_data"
    },
    {
     "data": {
      "text/html": [
       "<pre style=\"white-space:pre;overflow-x:auto;line-height:normal;font-family:Menlo,'DejaVu Sans Mono',consolas,'Courier New',monospace\"><span style=\"color: #800000; text-decoration-color: #800000; font-weight: bold\">        Image already exists, Skipping</span><span style=\"color: #808000; text-decoration-color: #808000; font-weight: bold\">...</span>\n",
       "</pre>\n"
      ],
      "text/plain": [
       "\u001b[1;31m \u001b[0m\u001b[1;31m       \u001b[0m\u001b[1;31mImage already exists, Skipping\u001b[0m\u001b[1;33m...\u001b[0m\n"
      ]
     },
     "metadata": {},
     "output_type": "display_data"
    },
    {
     "data": {
      "text/html": [
       "<pre style=\"white-space:pre;overflow-x:auto;line-height:normal;font-family:Menlo,'DejaVu Sans Mono',consolas,'Courier New',monospace\"><span style=\"color: #800000; text-decoration-color: #800000; font-weight: bold\">        Image already exists, Skipping</span><span style=\"color: #808000; text-decoration-color: #808000; font-weight: bold\">...</span>\n",
       "</pre>\n"
      ],
      "text/plain": [
       "\u001b[1;31m \u001b[0m\u001b[1;31m       \u001b[0m\u001b[1;31mImage already exists, Skipping\u001b[0m\u001b[1;33m...\u001b[0m\n"
      ]
     },
     "metadata": {},
     "output_type": "display_data"
    },
    {
     "data": {
      "text/html": [
       "<pre style=\"white-space:pre;overflow-x:auto;line-height:normal;font-family:Menlo,'DejaVu Sans Mono',consolas,'Courier New',monospace\"><span style=\"color: #800000; text-decoration-color: #800000; font-weight: bold\">        Image already exists, Skipping</span><span style=\"color: #808000; text-decoration-color: #808000; font-weight: bold\">...</span>\n",
       "</pre>\n"
      ],
      "text/plain": [
       "\u001b[1;31m \u001b[0m\u001b[1;31m       \u001b[0m\u001b[1;31mImage already exists, Skipping\u001b[0m\u001b[1;33m...\u001b[0m\n"
      ]
     },
     "metadata": {},
     "output_type": "display_data"
    },
    {
     "data": {
      "text/html": [
       "<pre style=\"white-space:pre;overflow-x:auto;line-height:normal;font-family:Menlo,'DejaVu Sans Mono',consolas,'Courier New',monospace\"><span style=\"color: #800000; text-decoration-color: #800000; font-weight: bold\">        Image already exists, Skipping</span><span style=\"color: #808000; text-decoration-color: #808000; font-weight: bold\">...</span>\n",
       "</pre>\n"
      ],
      "text/plain": [
       "\u001b[1;31m \u001b[0m\u001b[1;31m       \u001b[0m\u001b[1;31mImage already exists, Skipping\u001b[0m\u001b[1;33m...\u001b[0m\n"
      ]
     },
     "metadata": {},
     "output_type": "display_data"
    },
    {
     "data": {
      "text/html": [
       "<pre style=\"white-space:pre;overflow-x:auto;line-height:normal;font-family:Menlo,'DejaVu Sans Mono',consolas,'Courier New',monospace\"><span style=\"color: #800000; text-decoration-color: #800000; font-weight: bold\">        Image already exists, Skipping</span><span style=\"color: #808000; text-decoration-color: #808000; font-weight: bold\">...</span>\n",
       "</pre>\n"
      ],
      "text/plain": [
       "\u001b[1;31m \u001b[0m\u001b[1;31m       \u001b[0m\u001b[1;31mImage already exists, Skipping\u001b[0m\u001b[1;33m...\u001b[0m\n"
      ]
     },
     "metadata": {},
     "output_type": "display_data"
    },
    {
     "data": {
      "text/html": [
       "<pre style=\"white-space:pre;overflow-x:auto;line-height:normal;font-family:Menlo,'DejaVu Sans Mono',consolas,'Courier New',monospace\"><span style=\"color: #800000; text-decoration-color: #800000; font-weight: bold\">        Image already exists, Skipping</span><span style=\"color: #808000; text-decoration-color: #808000; font-weight: bold\">...</span>\n",
       "</pre>\n"
      ],
      "text/plain": [
       "\u001b[1;31m \u001b[0m\u001b[1;31m       \u001b[0m\u001b[1;31mImage already exists, Skipping\u001b[0m\u001b[1;33m...\u001b[0m\n"
      ]
     },
     "metadata": {},
     "output_type": "display_data"
    },
    {
     "data": {
      "text/html": [
       "<pre style=\"white-space:pre;overflow-x:auto;line-height:normal;font-family:Menlo,'DejaVu Sans Mono',consolas,'Courier New',monospace\"><span style=\"color: #800000; text-decoration-color: #800000; font-weight: bold\">        Image already exists, Skipping</span><span style=\"color: #808000; text-decoration-color: #808000; font-weight: bold\">...</span>\n",
       "</pre>\n"
      ],
      "text/plain": [
       "\u001b[1;31m \u001b[0m\u001b[1;31m       \u001b[0m\u001b[1;31mImage already exists, Skipping\u001b[0m\u001b[1;33m...\u001b[0m\n"
      ]
     },
     "metadata": {},
     "output_type": "display_data"
    },
    {
     "data": {
      "text/html": [
       "<pre style=\"white-space:pre;overflow-x:auto;line-height:normal;font-family:Menlo,'DejaVu Sans Mono',consolas,'Courier New',monospace\"><span style=\"color: #800000; text-decoration-color: #800000; font-weight: bold\">        Image already exists, Skipping</span><span style=\"color: #808000; text-decoration-color: #808000; font-weight: bold\">...</span>\n",
       "</pre>\n"
      ],
      "text/plain": [
       "\u001b[1;31m \u001b[0m\u001b[1;31m       \u001b[0m\u001b[1;31mImage already exists, Skipping\u001b[0m\u001b[1;33m...\u001b[0m\n"
      ]
     },
     "metadata": {},
     "output_type": "display_data"
    },
    {
     "data": {
      "text/html": [
       "<pre style=\"white-space:pre;overflow-x:auto;line-height:normal;font-family:Menlo,'DejaVu Sans Mono',consolas,'Courier New',monospace\"><span style=\"color: #800000; text-decoration-color: #800000; font-weight: bold\">        Image already exists, Skipping</span><span style=\"color: #808000; text-decoration-color: #808000; font-weight: bold\">...</span>\n",
       "</pre>\n"
      ],
      "text/plain": [
       "\u001b[1;31m \u001b[0m\u001b[1;31m       \u001b[0m\u001b[1;31mImage already exists, Skipping\u001b[0m\u001b[1;33m...\u001b[0m\n"
      ]
     },
     "metadata": {},
     "output_type": "display_data"
    },
    {
     "name": "stderr",
     "output_type": "stream",
     "text": [
      " 46%|████▌     | 92/200 [00:18<00:53,  2.03it/s]"
     ]
    },
    {
     "data": {
      "text/html": [
       "<pre style=\"white-space:pre;overflow-x:auto;line-height:normal;font-family:Menlo,'DejaVu Sans Mono',consolas,'Courier New',monospace\">Getting Account Information: <span style=\"color: #008080; text-decoration-color: #008080\">zara</span>\n",
       "</pre>\n"
      ],
      "text/plain": [
       "Getting Account Information: \u001b[36mzara\u001b[0m\n"
      ]
     },
     "metadata": {},
     "output_type": "display_data"
    },
    {
     "data": {
      "text/html": [
       "<pre style=\"white-space:pre;overflow-x:auto;line-height:normal;font-family:Menlo,'DejaVu Sans Mono',consolas,'Courier New',monospace\"><span style=\"color: #800000; text-decoration-color: #800000; font-weight: bold\">        Image already exists, Skipping</span><span style=\"color: #808000; text-decoration-color: #808000; font-weight: bold\">...</span>\n",
       "</pre>\n"
      ],
      "text/plain": [
       "\u001b[1;31m \u001b[0m\u001b[1;31m       \u001b[0m\u001b[1;31mImage already exists, Skipping\u001b[0m\u001b[1;33m...\u001b[0m\n"
      ]
     },
     "metadata": {},
     "output_type": "display_data"
    },
    {
     "data": {
      "text/html": [
       "<pre style=\"white-space:pre;overflow-x:auto;line-height:normal;font-family:Menlo,'DejaVu Sans Mono',consolas,'Courier New',monospace\"><span style=\"color: #800000; text-decoration-color: #800000; font-weight: bold\">        Image already exists, Skipping</span><span style=\"color: #808000; text-decoration-color: #808000; font-weight: bold\">...</span>\n",
       "</pre>\n"
      ],
      "text/plain": [
       "\u001b[1;31m \u001b[0m\u001b[1;31m       \u001b[0m\u001b[1;31mImage already exists, Skipping\u001b[0m\u001b[1;33m...\u001b[0m\n"
      ]
     },
     "metadata": {},
     "output_type": "display_data"
    },
    {
     "data": {
      "text/html": [
       "<pre style=\"white-space:pre;overflow-x:auto;line-height:normal;font-family:Menlo,'DejaVu Sans Mono',consolas,'Courier New',monospace\"><span style=\"color: #800000; text-decoration-color: #800000; font-weight: bold\">        Image already exists, Skipping</span><span style=\"color: #808000; text-decoration-color: #808000; font-weight: bold\">...</span>\n",
       "</pre>\n"
      ],
      "text/plain": [
       "\u001b[1;31m \u001b[0m\u001b[1;31m       \u001b[0m\u001b[1;31mImage already exists, Skipping\u001b[0m\u001b[1;33m...\u001b[0m\n"
      ]
     },
     "metadata": {},
     "output_type": "display_data"
    },
    {
     "data": {
      "text/html": [
       "<pre style=\"white-space:pre;overflow-x:auto;line-height:normal;font-family:Menlo,'DejaVu Sans Mono',consolas,'Courier New',monospace\"><span style=\"color: #800000; text-decoration-color: #800000; font-weight: bold\">        Image already exists, Skipping</span><span style=\"color: #808000; text-decoration-color: #808000; font-weight: bold\">...</span>\n",
       "</pre>\n"
      ],
      "text/plain": [
       "\u001b[1;31m \u001b[0m\u001b[1;31m       \u001b[0m\u001b[1;31mImage already exists, Skipping\u001b[0m\u001b[1;33m...\u001b[0m\n"
      ]
     },
     "metadata": {},
     "output_type": "display_data"
    },
    {
     "data": {
      "text/html": [
       "<pre style=\"white-space:pre;overflow-x:auto;line-height:normal;font-family:Menlo,'DejaVu Sans Mono',consolas,'Courier New',monospace\"><span style=\"color: #800000; text-decoration-color: #800000; font-weight: bold\">        Image already exists, Skipping</span><span style=\"color: #808000; text-decoration-color: #808000; font-weight: bold\">...</span>\n",
       "</pre>\n"
      ],
      "text/plain": [
       "\u001b[1;31m \u001b[0m\u001b[1;31m       \u001b[0m\u001b[1;31mImage already exists, Skipping\u001b[0m\u001b[1;33m...\u001b[0m\n"
      ]
     },
     "metadata": {},
     "output_type": "display_data"
    },
    {
     "data": {
      "text/html": [
       "<pre style=\"white-space:pre;overflow-x:auto;line-height:normal;font-family:Menlo,'DejaVu Sans Mono',consolas,'Courier New',monospace\"><span style=\"color: #800000; text-decoration-color: #800000; font-weight: bold\">        Image already exists, Skipping</span><span style=\"color: #808000; text-decoration-color: #808000; font-weight: bold\">...</span>\n",
       "</pre>\n"
      ],
      "text/plain": [
       "\u001b[1;31m \u001b[0m\u001b[1;31m       \u001b[0m\u001b[1;31mImage already exists, Skipping\u001b[0m\u001b[1;33m...\u001b[0m\n"
      ]
     },
     "metadata": {},
     "output_type": "display_data"
    },
    {
     "data": {
      "text/html": [
       "<pre style=\"white-space:pre;overflow-x:auto;line-height:normal;font-family:Menlo,'DejaVu Sans Mono',consolas,'Courier New',monospace\"><span style=\"color: #800000; text-decoration-color: #800000; font-weight: bold\">        Image already exists, Skipping</span><span style=\"color: #808000; text-decoration-color: #808000; font-weight: bold\">...</span>\n",
       "</pre>\n"
      ],
      "text/plain": [
       "\u001b[1;31m \u001b[0m\u001b[1;31m       \u001b[0m\u001b[1;31mImage already exists, Skipping\u001b[0m\u001b[1;33m...\u001b[0m\n"
      ]
     },
     "metadata": {},
     "output_type": "display_data"
    },
    {
     "data": {
      "text/html": [
       "<pre style=\"white-space:pre;overflow-x:auto;line-height:normal;font-family:Menlo,'DejaVu Sans Mono',consolas,'Courier New',monospace\"><span style=\"color: #800000; text-decoration-color: #800000; font-weight: bold\">        Image already exists, Skipping</span><span style=\"color: #808000; text-decoration-color: #808000; font-weight: bold\">...</span>\n",
       "</pre>\n"
      ],
      "text/plain": [
       "\u001b[1;31m \u001b[0m\u001b[1;31m       \u001b[0m\u001b[1;31mImage already exists, Skipping\u001b[0m\u001b[1;33m...\u001b[0m\n"
      ]
     },
     "metadata": {},
     "output_type": "display_data"
    },
    {
     "data": {
      "text/html": [
       "<pre style=\"white-space:pre;overflow-x:auto;line-height:normal;font-family:Menlo,'DejaVu Sans Mono',consolas,'Courier New',monospace\"><span style=\"color: #800000; text-decoration-color: #800000; font-weight: bold\">        Image already exists, Skipping</span><span style=\"color: #808000; text-decoration-color: #808000; font-weight: bold\">...</span>\n",
       "</pre>\n"
      ],
      "text/plain": [
       "\u001b[1;31m \u001b[0m\u001b[1;31m       \u001b[0m\u001b[1;31mImage already exists, Skipping\u001b[0m\u001b[1;33m...\u001b[0m\n"
      ]
     },
     "metadata": {},
     "output_type": "display_data"
    },
    {
     "data": {
      "text/html": [
       "<pre style=\"white-space:pre;overflow-x:auto;line-height:normal;font-family:Menlo,'DejaVu Sans Mono',consolas,'Courier New',monospace\"><span style=\"color: #800000; text-decoration-color: #800000; font-weight: bold\">        Image already exists, Skipping</span><span style=\"color: #808000; text-decoration-color: #808000; font-weight: bold\">...</span>\n",
       "</pre>\n"
      ],
      "text/plain": [
       "\u001b[1;31m \u001b[0m\u001b[1;31m       \u001b[0m\u001b[1;31mImage already exists, Skipping\u001b[0m\u001b[1;33m...\u001b[0m\n"
      ]
     },
     "metadata": {},
     "output_type": "display_data"
    },
    {
     "data": {
      "text/html": [
       "<pre style=\"white-space:pre;overflow-x:auto;line-height:normal;font-family:Menlo,'DejaVu Sans Mono',consolas,'Courier New',monospace\"><span style=\"color: #800000; text-decoration-color: #800000; font-weight: bold\">        Image already exists, Skipping</span><span style=\"color: #808000; text-decoration-color: #808000; font-weight: bold\">...</span>\n",
       "</pre>\n"
      ],
      "text/plain": [
       "\u001b[1;31m \u001b[0m\u001b[1;31m       \u001b[0m\u001b[1;31mImage already exists, Skipping\u001b[0m\u001b[1;33m...\u001b[0m\n"
      ]
     },
     "metadata": {},
     "output_type": "display_data"
    },
    {
     "data": {
      "text/html": [
       "<pre style=\"white-space:pre;overflow-x:auto;line-height:normal;font-family:Menlo,'DejaVu Sans Mono',consolas,'Courier New',monospace\"><span style=\"color: #800000; text-decoration-color: #800000; font-weight: bold\">        Image already exists, Skipping</span><span style=\"color: #808000; text-decoration-color: #808000; font-weight: bold\">...</span>\n",
       "</pre>\n"
      ],
      "text/plain": [
       "\u001b[1;31m \u001b[0m\u001b[1;31m       \u001b[0m\u001b[1;31mImage already exists, Skipping\u001b[0m\u001b[1;33m...\u001b[0m\n"
      ]
     },
     "metadata": {},
     "output_type": "display_data"
    },
    {
     "data": {
      "text/html": [
       "<pre style=\"white-space:pre;overflow-x:auto;line-height:normal;font-family:Menlo,'DejaVu Sans Mono',consolas,'Courier New',monospace\">Getting Account Information: <span style=\"color: #008080; text-decoration-color: #008080\">chrishemsworth</span>\n",
       "</pre>\n"
      ],
      "text/plain": [
       "Getting Account Information: \u001b[36mchrishemsworth\u001b[0m\n"
      ]
     },
     "metadata": {},
     "output_type": "display_data"
    },
    {
     "data": {
      "text/html": [
       "<pre style=\"white-space:pre;overflow-x:auto;line-height:normal;font-family:Menlo,'DejaVu Sans Mono',consolas,'Courier New',monospace\"><span style=\"color: #800000; text-decoration-color: #800000; font-weight: bold\">        Image already exists, Skipping</span><span style=\"color: #808000; text-decoration-color: #808000; font-weight: bold\">...</span>\n",
       "</pre>\n"
      ],
      "text/plain": [
       "\u001b[1;31m \u001b[0m\u001b[1;31m       \u001b[0m\u001b[1;31mImage already exists, Skipping\u001b[0m\u001b[1;33m...\u001b[0m\n"
      ]
     },
     "metadata": {},
     "output_type": "display_data"
    },
    {
     "data": {
      "text/html": [
       "<pre style=\"white-space:pre;overflow-x:auto;line-height:normal;font-family:Menlo,'DejaVu Sans Mono',consolas,'Courier New',monospace\"><span style=\"color: #800000; text-decoration-color: #800000; font-weight: bold\">        Image already exists, Skipping</span><span style=\"color: #808000; text-decoration-color: #808000; font-weight: bold\">...</span>\n",
       "</pre>\n"
      ],
      "text/plain": [
       "\u001b[1;31m \u001b[0m\u001b[1;31m       \u001b[0m\u001b[1;31mImage already exists, Skipping\u001b[0m\u001b[1;33m...\u001b[0m\n"
      ]
     },
     "metadata": {},
     "output_type": "display_data"
    },
    {
     "data": {
      "text/html": [
       "<pre style=\"white-space:pre;overflow-x:auto;line-height:normal;font-family:Menlo,'DejaVu Sans Mono',consolas,'Courier New',monospace\"><span style=\"color: #800000; text-decoration-color: #800000; font-weight: bold\">        Image already exists, Skipping</span><span style=\"color: #808000; text-decoration-color: #808000; font-weight: bold\">...</span>\n",
       "</pre>\n"
      ],
      "text/plain": [
       "\u001b[1;31m \u001b[0m\u001b[1;31m       \u001b[0m\u001b[1;31mImage already exists, Skipping\u001b[0m\u001b[1;33m...\u001b[0m\n"
      ]
     },
     "metadata": {},
     "output_type": "display_data"
    },
    {
     "data": {
      "text/html": [
       "<pre style=\"white-space:pre;overflow-x:auto;line-height:normal;font-family:Menlo,'DejaVu Sans Mono',consolas,'Courier New',monospace\"><span style=\"color: #800000; text-decoration-color: #800000; font-weight: bold\">        Image already exists, Skipping</span><span style=\"color: #808000; text-decoration-color: #808000; font-weight: bold\">...</span>\n",
       "</pre>\n"
      ],
      "text/plain": [
       "\u001b[1;31m \u001b[0m\u001b[1;31m       \u001b[0m\u001b[1;31mImage already exists, Skipping\u001b[0m\u001b[1;33m...\u001b[0m\n"
      ]
     },
     "metadata": {},
     "output_type": "display_data"
    },
    {
     "data": {
      "text/html": [
       "<pre style=\"white-space:pre;overflow-x:auto;line-height:normal;font-family:Menlo,'DejaVu Sans Mono',consolas,'Courier New',monospace\"><span style=\"color: #800000; text-decoration-color: #800000; font-weight: bold\">        Image already exists, Skipping</span><span style=\"color: #808000; text-decoration-color: #808000; font-weight: bold\">...</span>\n",
       "</pre>\n"
      ],
      "text/plain": [
       "\u001b[1;31m \u001b[0m\u001b[1;31m       \u001b[0m\u001b[1;31mImage already exists, Skipping\u001b[0m\u001b[1;33m...\u001b[0m\n"
      ]
     },
     "metadata": {},
     "output_type": "display_data"
    },
    {
     "data": {
      "text/html": [
       "<pre style=\"white-space:pre;overflow-x:auto;line-height:normal;font-family:Menlo,'DejaVu Sans Mono',consolas,'Courier New',monospace\"><span style=\"color: #800000; text-decoration-color: #800000; font-weight: bold\">        Image already exists, Skipping</span><span style=\"color: #808000; text-decoration-color: #808000; font-weight: bold\">...</span>\n",
       "</pre>\n"
      ],
      "text/plain": [
       "\u001b[1;31m \u001b[0m\u001b[1;31m       \u001b[0m\u001b[1;31mImage already exists, Skipping\u001b[0m\u001b[1;33m...\u001b[0m\n"
      ]
     },
     "metadata": {},
     "output_type": "display_data"
    },
    {
     "data": {
      "text/html": [
       "<pre style=\"white-space:pre;overflow-x:auto;line-height:normal;font-family:Menlo,'DejaVu Sans Mono',consolas,'Courier New',monospace\"><span style=\"color: #800000; text-decoration-color: #800000; font-weight: bold\">        Image already exists, Skipping</span><span style=\"color: #808000; text-decoration-color: #808000; font-weight: bold\">...</span>\n",
       "</pre>\n"
      ],
      "text/plain": [
       "\u001b[1;31m \u001b[0m\u001b[1;31m       \u001b[0m\u001b[1;31mImage already exists, Skipping\u001b[0m\u001b[1;33m...\u001b[0m\n"
      ]
     },
     "metadata": {},
     "output_type": "display_data"
    },
    {
     "data": {
      "text/html": [
       "<pre style=\"white-space:pre;overflow-x:auto;line-height:normal;font-family:Menlo,'DejaVu Sans Mono',consolas,'Courier New',monospace\"><span style=\"color: #800000; text-decoration-color: #800000; font-weight: bold\">        Image already exists, Skipping</span><span style=\"color: #808000; text-decoration-color: #808000; font-weight: bold\">...</span>\n",
       "</pre>\n"
      ],
      "text/plain": [
       "\u001b[1;31m \u001b[0m\u001b[1;31m       \u001b[0m\u001b[1;31mImage already exists, Skipping\u001b[0m\u001b[1;33m...\u001b[0m\n"
      ]
     },
     "metadata": {},
     "output_type": "display_data"
    },
    {
     "data": {
      "text/html": [
       "<pre style=\"white-space:pre;overflow-x:auto;line-height:normal;font-family:Menlo,'DejaVu Sans Mono',consolas,'Courier New',monospace\"><span style=\"color: #800000; text-decoration-color: #800000; font-weight: bold\">        Image already exists, Skipping</span><span style=\"color: #808000; text-decoration-color: #808000; font-weight: bold\">...</span>\n",
       "</pre>\n"
      ],
      "text/plain": [
       "\u001b[1;31m \u001b[0m\u001b[1;31m       \u001b[0m\u001b[1;31mImage already exists, Skipping\u001b[0m\u001b[1;33m...\u001b[0m\n"
      ]
     },
     "metadata": {},
     "output_type": "display_data"
    },
    {
     "data": {
      "text/html": [
       "<pre style=\"white-space:pre;overflow-x:auto;line-height:normal;font-family:Menlo,'DejaVu Sans Mono',consolas,'Courier New',monospace\">Getting Account Information: <span style=\"color: #008080; text-decoration-color: #008080\">tatawerneck</span>\n",
       "</pre>\n"
      ],
      "text/plain": [
       "Getting Account Information: \u001b[36mtatawerneck\u001b[0m\n"
      ]
     },
     "metadata": {},
     "output_type": "display_data"
    },
    {
     "data": {
      "text/html": [
       "<pre style=\"white-space:pre;overflow-x:auto;line-height:normal;font-family:Menlo,'DejaVu Sans Mono',consolas,'Courier New',monospace\"><span style=\"color: #800000; text-decoration-color: #800000; font-weight: bold\">        Image already exists, Skipping</span><span style=\"color: #808000; text-decoration-color: #808000; font-weight: bold\">...</span>\n",
       "</pre>\n"
      ],
      "text/plain": [
       "\u001b[1;31m \u001b[0m\u001b[1;31m       \u001b[0m\u001b[1;31mImage already exists, Skipping\u001b[0m\u001b[1;33m...\u001b[0m\n"
      ]
     },
     "metadata": {},
     "output_type": "display_data"
    },
    {
     "data": {
      "text/html": [
       "<pre style=\"white-space:pre;overflow-x:auto;line-height:normal;font-family:Menlo,'DejaVu Sans Mono',consolas,'Courier New',monospace\"><span style=\"color: #800000; text-decoration-color: #800000; font-weight: bold\">        Image already exists, Skipping</span><span style=\"color: #808000; text-decoration-color: #808000; font-weight: bold\">...</span>\n",
       "</pre>\n"
      ],
      "text/plain": [
       "\u001b[1;31m \u001b[0m\u001b[1;31m       \u001b[0m\u001b[1;31mImage already exists, Skipping\u001b[0m\u001b[1;33m...\u001b[0m\n"
      ]
     },
     "metadata": {},
     "output_type": "display_data"
    },
    {
     "data": {
      "text/html": [
       "<pre style=\"white-space:pre;overflow-x:auto;line-height:normal;font-family:Menlo,'DejaVu Sans Mono',consolas,'Courier New',monospace\"><span style=\"color: #800000; text-decoration-color: #800000; font-weight: bold\">        Image already exists, Skipping</span><span style=\"color: #808000; text-decoration-color: #808000; font-weight: bold\">...</span>\n",
       "</pre>\n"
      ],
      "text/plain": [
       "\u001b[1;31m \u001b[0m\u001b[1;31m       \u001b[0m\u001b[1;31mImage already exists, Skipping\u001b[0m\u001b[1;33m...\u001b[0m\n"
      ]
     },
     "metadata": {},
     "output_type": "display_data"
    },
    {
     "data": {
      "text/html": [
       "<pre style=\"white-space:pre;overflow-x:auto;line-height:normal;font-family:Menlo,'DejaVu Sans Mono',consolas,'Courier New',monospace\">Getting Account Information: <span style=\"color: #008080; text-decoration-color: #008080\">robertdowneyjr</span>\n",
       "</pre>\n"
      ],
      "text/plain": [
       "Getting Account Information: \u001b[36mrobertdowneyjr\u001b[0m\n"
      ]
     },
     "metadata": {},
     "output_type": "display_data"
    },
    {
     "data": {
      "text/html": [
       "<pre style=\"white-space:pre;overflow-x:auto;line-height:normal;font-family:Menlo,'DejaVu Sans Mono',consolas,'Courier New',monospace\"><span style=\"color: #800000; text-decoration-color: #800000; font-weight: bold\">        Image already exists, Skipping</span><span style=\"color: #808000; text-decoration-color: #808000; font-weight: bold\">...</span>\n",
       "</pre>\n"
      ],
      "text/plain": [
       "\u001b[1;31m \u001b[0m\u001b[1;31m       \u001b[0m\u001b[1;31mImage already exists, Skipping\u001b[0m\u001b[1;33m...\u001b[0m\n"
      ]
     },
     "metadata": {},
     "output_type": "display_data"
    },
    {
     "data": {
      "text/html": [
       "<pre style=\"white-space:pre;overflow-x:auto;line-height:normal;font-family:Menlo,'DejaVu Sans Mono',consolas,'Courier New',monospace\"><span style=\"color: #800000; text-decoration-color: #800000; font-weight: bold\">        Image already exists, Skipping</span><span style=\"color: #808000; text-decoration-color: #808000; font-weight: bold\">...</span>\n",
       "</pre>\n"
      ],
      "text/plain": [
       "\u001b[1;31m \u001b[0m\u001b[1;31m       \u001b[0m\u001b[1;31mImage already exists, Skipping\u001b[0m\u001b[1;33m...\u001b[0m\n"
      ]
     },
     "metadata": {},
     "output_type": "display_data"
    },
    {
     "data": {
      "text/html": [
       "<pre style=\"white-space:pre;overflow-x:auto;line-height:normal;font-family:Menlo,'DejaVu Sans Mono',consolas,'Courier New',monospace\"><span style=\"color: #800000; text-decoration-color: #800000; font-weight: bold\">        Image already exists, Skipping</span><span style=\"color: #808000; text-decoration-color: #808000; font-weight: bold\">...</span>\n",
       "</pre>\n"
      ],
      "text/plain": [
       "\u001b[1;31m \u001b[0m\u001b[1;31m       \u001b[0m\u001b[1;31mImage already exists, Skipping\u001b[0m\u001b[1;33m...\u001b[0m\n"
      ]
     },
     "metadata": {},
     "output_type": "display_data"
    },
    {
     "data": {
      "text/html": [
       "<pre style=\"white-space:pre;overflow-x:auto;line-height:normal;font-family:Menlo,'DejaVu Sans Mono',consolas,'Courier New',monospace\">Getting Account Information: <span style=\"color: #008080; text-decoration-color: #008080\">paulodybala</span>\n",
       "</pre>\n"
      ],
      "text/plain": [
       "Getting Account Information: \u001b[36mpaulodybala\u001b[0m\n"
      ]
     },
     "metadata": {},
     "output_type": "display_data"
    },
    {
     "data": {
      "text/html": [
       "<pre style=\"white-space:pre;overflow-x:auto;line-height:normal;font-family:Menlo,'DejaVu Sans Mono',consolas,'Courier New',monospace\"><span style=\"color: #800000; text-decoration-color: #800000; font-weight: bold\">        Image already exists, Skipping</span><span style=\"color: #808000; text-decoration-color: #808000; font-weight: bold\">...</span>\n",
       "</pre>\n"
      ],
      "text/plain": [
       "\u001b[1;31m \u001b[0m\u001b[1;31m       \u001b[0m\u001b[1;31mImage already exists, Skipping\u001b[0m\u001b[1;33m...\u001b[0m\n"
      ]
     },
     "metadata": {},
     "output_type": "display_data"
    },
    {
     "data": {
      "text/html": [
       "<pre style=\"white-space:pre;overflow-x:auto;line-height:normal;font-family:Menlo,'DejaVu Sans Mono',consolas,'Courier New',monospace\"><span style=\"color: #800000; text-decoration-color: #800000; font-weight: bold\">        Image already exists, Skipping</span><span style=\"color: #808000; text-decoration-color: #808000; font-weight: bold\">...</span>\n",
       "</pre>\n"
      ],
      "text/plain": [
       "\u001b[1;31m \u001b[0m\u001b[1;31m       \u001b[0m\u001b[1;31mImage already exists, Skipping\u001b[0m\u001b[1;33m...\u001b[0m\n"
      ]
     },
     "metadata": {},
     "output_type": "display_data"
    },
    {
     "data": {
      "text/html": [
       "<pre style=\"white-space:pre;overflow-x:auto;line-height:normal;font-family:Menlo,'DejaVu Sans Mono',consolas,'Courier New',monospace\"><span style=\"color: #800000; text-decoration-color: #800000; font-weight: bold\">        Image already exists, Skipping</span><span style=\"color: #808000; text-decoration-color: #808000; font-weight: bold\">...</span>\n",
       "</pre>\n"
      ],
      "text/plain": [
       "\u001b[1;31m \u001b[0m\u001b[1;31m       \u001b[0m\u001b[1;31mImage already exists, Skipping\u001b[0m\u001b[1;33m...\u001b[0m\n"
      ]
     },
     "metadata": {},
     "output_type": "display_data"
    },
    {
     "data": {
      "text/html": [
       "<pre style=\"white-space:pre;overflow-x:auto;line-height:normal;font-family:Menlo,'DejaVu Sans Mono',consolas,'Courier New',monospace\"><span style=\"color: #800000; text-decoration-color: #800000; font-weight: bold\">        Image already exists, Skipping</span><span style=\"color: #808000; text-decoration-color: #808000; font-weight: bold\">...</span>\n",
       "</pre>\n"
      ],
      "text/plain": [
       "\u001b[1;31m \u001b[0m\u001b[1;31m       \u001b[0m\u001b[1;31mImage already exists, Skipping\u001b[0m\u001b[1;33m...\u001b[0m\n"
      ]
     },
     "metadata": {},
     "output_type": "display_data"
    },
    {
     "data": {
      "text/html": [
       "<pre style=\"white-space:pre;overflow-x:auto;line-height:normal;font-family:Menlo,'DejaVu Sans Mono',consolas,'Courier New',monospace\"><span style=\"color: #800000; text-decoration-color: #800000; font-weight: bold\">        Image already exists, Skipping</span><span style=\"color: #808000; text-decoration-color: #808000; font-weight: bold\">...</span>\n",
       "</pre>\n"
      ],
      "text/plain": [
       "\u001b[1;31m \u001b[0m\u001b[1;31m       \u001b[0m\u001b[1;31mImage already exists, Skipping\u001b[0m\u001b[1;33m...\u001b[0m\n"
      ]
     },
     "metadata": {},
     "output_type": "display_data"
    },
    {
     "data": {
      "text/html": [
       "<pre style=\"white-space:pre;overflow-x:auto;line-height:normal;font-family:Menlo,'DejaVu Sans Mono',consolas,'Courier New',monospace\"><span style=\"color: #800000; text-decoration-color: #800000; font-weight: bold\">        Image already exists, Skipping</span><span style=\"color: #808000; text-decoration-color: #808000; font-weight: bold\">...</span>\n",
       "</pre>\n"
      ],
      "text/plain": [
       "\u001b[1;31m \u001b[0m\u001b[1;31m       \u001b[0m\u001b[1;31mImage already exists, Skipping\u001b[0m\u001b[1;33m...\u001b[0m\n"
      ]
     },
     "metadata": {},
     "output_type": "display_data"
    },
    {
     "data": {
      "text/html": [
       "<pre style=\"white-space:pre;overflow-x:auto;line-height:normal;font-family:Menlo,'DejaVu Sans Mono',consolas,'Courier New',monospace\"><span style=\"color: #800000; text-decoration-color: #800000; font-weight: bold\">        Image already exists, Skipping</span><span style=\"color: #808000; text-decoration-color: #808000; font-weight: bold\">...</span>\n",
       "</pre>\n"
      ],
      "text/plain": [
       "\u001b[1;31m \u001b[0m\u001b[1;31m       \u001b[0m\u001b[1;31mImage already exists, Skipping\u001b[0m\u001b[1;33m...\u001b[0m\n"
      ]
     },
     "metadata": {},
     "output_type": "display_data"
    },
    {
     "data": {
      "text/html": [
       "<pre style=\"white-space:pre;overflow-x:auto;line-height:normal;font-family:Menlo,'DejaVu Sans Mono',consolas,'Courier New',monospace\"><span style=\"color: #800000; text-decoration-color: #800000; font-weight: bold\">        Image already exists, Skipping</span><span style=\"color: #808000; text-decoration-color: #808000; font-weight: bold\">...</span>\n",
       "</pre>\n"
      ],
      "text/plain": [
       "\u001b[1;31m \u001b[0m\u001b[1;31m       \u001b[0m\u001b[1;31mImage already exists, Skipping\u001b[0m\u001b[1;33m...\u001b[0m\n"
      ]
     },
     "metadata": {},
     "output_type": "display_data"
    },
    {
     "data": {
      "text/html": [
       "<pre style=\"white-space:pre;overflow-x:auto;line-height:normal;font-family:Menlo,'DejaVu Sans Mono',consolas,'Courier New',monospace\"><span style=\"color: #800000; text-decoration-color: #800000; font-weight: bold\">        Image already exists, Skipping</span><span style=\"color: #808000; text-decoration-color: #808000; font-weight: bold\">...</span>\n",
       "</pre>\n"
      ],
      "text/plain": [
       "\u001b[1;31m \u001b[0m\u001b[1;31m       \u001b[0m\u001b[1;31mImage already exists, Skipping\u001b[0m\u001b[1;33m...\u001b[0m\n"
      ]
     },
     "metadata": {},
     "output_type": "display_data"
    },
    {
     "data": {
      "text/html": [
       "<pre style=\"white-space:pre;overflow-x:auto;line-height:normal;font-family:Menlo,'DejaVu Sans Mono',consolas,'Courier New',monospace\"><span style=\"color: #800000; text-decoration-color: #800000; font-weight: bold\">        Image already exists, Skipping</span><span style=\"color: #808000; text-decoration-color: #808000; font-weight: bold\">...</span>\n",
       "</pre>\n"
      ],
      "text/plain": [
       "\u001b[1;31m \u001b[0m\u001b[1;31m       \u001b[0m\u001b[1;31mImage already exists, Skipping\u001b[0m\u001b[1;33m...\u001b[0m\n"
      ]
     },
     "metadata": {},
     "output_type": "display_data"
    },
    {
     "data": {
      "text/html": [
       "<pre style=\"white-space:pre;overflow-x:auto;line-height:normal;font-family:Menlo,'DejaVu Sans Mono',consolas,'Courier New',monospace\">Getting Account Information: <span style=\"color: #008080; text-decoration-color: #008080\">chanelofficial</span>\n",
       "</pre>\n"
      ],
      "text/plain": [
       "Getting Account Information: \u001b[36mchanelofficial\u001b[0m\n"
      ]
     },
     "metadata": {},
     "output_type": "display_data"
    },
    {
     "data": {
      "text/html": [
       "<pre style=\"white-space:pre;overflow-x:auto;line-height:normal;font-family:Menlo,'DejaVu Sans Mono',consolas,'Courier New',monospace\"><span style=\"color: #800000; text-decoration-color: #800000; font-weight: bold\">        Image already exists, Skipping</span><span style=\"color: #808000; text-decoration-color: #808000; font-weight: bold\">...</span>\n",
       "</pre>\n"
      ],
      "text/plain": [
       "\u001b[1;31m \u001b[0m\u001b[1;31m       \u001b[0m\u001b[1;31mImage already exists, Skipping\u001b[0m\u001b[1;33m...\u001b[0m\n"
      ]
     },
     "metadata": {},
     "output_type": "display_data"
    },
    {
     "data": {
      "text/html": [
       "<pre style=\"white-space:pre;overflow-x:auto;line-height:normal;font-family:Menlo,'DejaVu Sans Mono',consolas,'Courier New',monospace\"><span style=\"color: #800000; text-decoration-color: #800000; font-weight: bold\">        Image already exists, Skipping</span><span style=\"color: #808000; text-decoration-color: #808000; font-weight: bold\">...</span>\n",
       "</pre>\n"
      ],
      "text/plain": [
       "\u001b[1;31m \u001b[0m\u001b[1;31m       \u001b[0m\u001b[1;31mImage already exists, Skipping\u001b[0m\u001b[1;33m...\u001b[0m\n"
      ]
     },
     "metadata": {},
     "output_type": "display_data"
    },
    {
     "data": {
      "text/html": [
       "<pre style=\"white-space:pre;overflow-x:auto;line-height:normal;font-family:Menlo,'DejaVu Sans Mono',consolas,'Courier New',monospace\"><span style=\"color: #800000; text-decoration-color: #800000; font-weight: bold\">        Image already exists, Skipping</span><span style=\"color: #808000; text-decoration-color: #808000; font-weight: bold\">...</span>\n",
       "</pre>\n"
      ],
      "text/plain": [
       "\u001b[1;31m \u001b[0m\u001b[1;31m       \u001b[0m\u001b[1;31mImage already exists, Skipping\u001b[0m\u001b[1;33m...\u001b[0m\n"
      ]
     },
     "metadata": {},
     "output_type": "display_data"
    },
    {
     "data": {
      "text/html": [
       "<pre style=\"white-space:pre;overflow-x:auto;line-height:normal;font-family:Menlo,'DejaVu Sans Mono',consolas,'Courier New',monospace\"><span style=\"color: #800000; text-decoration-color: #800000; font-weight: bold\">        Image already exists, Skipping</span><span style=\"color: #808000; text-decoration-color: #808000; font-weight: bold\">...</span>\n",
       "</pre>\n"
      ],
      "text/plain": [
       "\u001b[1;31m \u001b[0m\u001b[1;31m       \u001b[0m\u001b[1;31mImage already exists, Skipping\u001b[0m\u001b[1;33m...\u001b[0m\n"
      ]
     },
     "metadata": {},
     "output_type": "display_data"
    },
    {
     "data": {
      "text/html": [
       "<pre style=\"white-space:pre;overflow-x:auto;line-height:normal;font-family:Menlo,'DejaVu Sans Mono',consolas,'Courier New',monospace\"><span style=\"color: #800000; text-decoration-color: #800000; font-weight: bold\">        Image already exists, Skipping</span><span style=\"color: #808000; text-decoration-color: #808000; font-weight: bold\">...</span>\n",
       "</pre>\n"
      ],
      "text/plain": [
       "\u001b[1;31m \u001b[0m\u001b[1;31m       \u001b[0m\u001b[1;31mImage already exists, Skipping\u001b[0m\u001b[1;33m...\u001b[0m\n"
      ]
     },
     "metadata": {},
     "output_type": "display_data"
    },
    {
     "data": {
      "text/html": [
       "<pre style=\"white-space:pre;overflow-x:auto;line-height:normal;font-family:Menlo,'DejaVu Sans Mono',consolas,'Courier New',monospace\"><span style=\"color: #800000; text-decoration-color: #800000; font-weight: bold\">        Image already exists, Skipping</span><span style=\"color: #808000; text-decoration-color: #808000; font-weight: bold\">...</span>\n",
       "</pre>\n"
      ],
      "text/plain": [
       "\u001b[1;31m \u001b[0m\u001b[1;31m       \u001b[0m\u001b[1;31mImage already exists, Skipping\u001b[0m\u001b[1;33m...\u001b[0m\n"
      ]
     },
     "metadata": {},
     "output_type": "display_data"
    },
    {
     "data": {
      "text/html": [
       "<pre style=\"white-space:pre;overflow-x:auto;line-height:normal;font-family:Menlo,'DejaVu Sans Mono',consolas,'Courier New',monospace\"><span style=\"color: #800000; text-decoration-color: #800000; font-weight: bold\">        Image already exists, Skipping</span><span style=\"color: #808000; text-decoration-color: #808000; font-weight: bold\">...</span>\n",
       "</pre>\n"
      ],
      "text/plain": [
       "\u001b[1;31m \u001b[0m\u001b[1;31m       \u001b[0m\u001b[1;31mImage already exists, Skipping\u001b[0m\u001b[1;33m...\u001b[0m\n"
      ]
     },
     "metadata": {},
     "output_type": "display_data"
    },
    {
     "data": {
      "text/html": [
       "<pre style=\"white-space:pre;overflow-x:auto;line-height:normal;font-family:Menlo,'DejaVu Sans Mono',consolas,'Courier New',monospace\"><span style=\"color: #800000; text-decoration-color: #800000; font-weight: bold\">        Image already exists, Skipping</span><span style=\"color: #808000; text-decoration-color: #808000; font-weight: bold\">...</span>\n",
       "</pre>\n"
      ],
      "text/plain": [
       "\u001b[1;31m \u001b[0m\u001b[1;31m       \u001b[0m\u001b[1;31mImage already exists, Skipping\u001b[0m\u001b[1;33m...\u001b[0m\n"
      ]
     },
     "metadata": {},
     "output_type": "display_data"
    },
    {
     "data": {
      "text/html": [
       "<pre style=\"white-space:pre;overflow-x:auto;line-height:normal;font-family:Menlo,'DejaVu Sans Mono',consolas,'Courier New',monospace\"><span style=\"color: #800000; text-decoration-color: #800000; font-weight: bold\">        Image already exists, Skipping</span><span style=\"color: #808000; text-decoration-color: #808000; font-weight: bold\">...</span>\n",
       "</pre>\n"
      ],
      "text/plain": [
       "\u001b[1;31m \u001b[0m\u001b[1;31m       \u001b[0m\u001b[1;31mImage already exists, Skipping\u001b[0m\u001b[1;33m...\u001b[0m\n"
      ]
     },
     "metadata": {},
     "output_type": "display_data"
    },
    {
     "data": {
      "text/html": [
       "<pre style=\"white-space:pre;overflow-x:auto;line-height:normal;font-family:Menlo,'DejaVu Sans Mono',consolas,'Courier New',monospace\">Getting Account Information: <span style=\"color: #008080; text-decoration-color: #008080\">ladygaga</span>\n",
       "</pre>\n"
      ],
      "text/plain": [
       "Getting Account Information: \u001b[36mladygaga\u001b[0m\n"
      ]
     },
     "metadata": {},
     "output_type": "display_data"
    },
    {
     "data": {
      "text/html": [
       "<pre style=\"white-space:pre;overflow-x:auto;line-height:normal;font-family:Menlo,'DejaVu Sans Mono',consolas,'Courier New',monospace\"><span style=\"color: #800000; text-decoration-color: #800000; font-weight: bold\">        Image already exists, Skipping</span><span style=\"color: #808000; text-decoration-color: #808000; font-weight: bold\">...</span>\n",
       "</pre>\n"
      ],
      "text/plain": [
       "\u001b[1;31m \u001b[0m\u001b[1;31m       \u001b[0m\u001b[1;31mImage already exists, Skipping\u001b[0m\u001b[1;33m...\u001b[0m\n"
      ]
     },
     "metadata": {},
     "output_type": "display_data"
    },
    {
     "data": {
      "text/html": [
       "<pre style=\"white-space:pre;overflow-x:auto;line-height:normal;font-family:Menlo,'DejaVu Sans Mono',consolas,'Courier New',monospace\"><span style=\"color: #800000; text-decoration-color: #800000; font-weight: bold\">        Image already exists, Skipping</span><span style=\"color: #808000; text-decoration-color: #808000; font-weight: bold\">...</span>\n",
       "</pre>\n"
      ],
      "text/plain": [
       "\u001b[1;31m \u001b[0m\u001b[1;31m       \u001b[0m\u001b[1;31mImage already exists, Skipping\u001b[0m\u001b[1;33m...\u001b[0m\n"
      ]
     },
     "metadata": {},
     "output_type": "display_data"
    },
    {
     "data": {
      "text/html": [
       "<pre style=\"white-space:pre;overflow-x:auto;line-height:normal;font-family:Menlo,'DejaVu Sans Mono',consolas,'Courier New',monospace\"><span style=\"color: #800000; text-decoration-color: #800000; font-weight: bold\">        Image already exists, Skipping</span><span style=\"color: #808000; text-decoration-color: #808000; font-weight: bold\">...</span>\n",
       "</pre>\n"
      ],
      "text/plain": [
       "\u001b[1;31m \u001b[0m\u001b[1;31m       \u001b[0m\u001b[1;31mImage already exists, Skipping\u001b[0m\u001b[1;33m...\u001b[0m\n"
      ]
     },
     "metadata": {},
     "output_type": "display_data"
    },
    {
     "data": {
      "text/html": [
       "<pre style=\"white-space:pre;overflow-x:auto;line-height:normal;font-family:Menlo,'DejaVu Sans Mono',consolas,'Courier New',monospace\"><span style=\"color: #800000; text-decoration-color: #800000; font-weight: bold\">        Image already exists, Skipping</span><span style=\"color: #808000; text-decoration-color: #808000; font-weight: bold\">...</span>\n",
       "</pre>\n"
      ],
      "text/plain": [
       "\u001b[1;31m \u001b[0m\u001b[1;31m       \u001b[0m\u001b[1;31mImage already exists, Skipping\u001b[0m\u001b[1;33m...\u001b[0m\n"
      ]
     },
     "metadata": {},
     "output_type": "display_data"
    },
    {
     "data": {
      "text/html": [
       "<pre style=\"white-space:pre;overflow-x:auto;line-height:normal;font-family:Menlo,'DejaVu Sans Mono',consolas,'Courier New',monospace\"><span style=\"color: #800000; text-decoration-color: #800000; font-weight: bold\">        Image already exists, Skipping</span><span style=\"color: #808000; text-decoration-color: #808000; font-weight: bold\">...</span>\n",
       "</pre>\n"
      ],
      "text/plain": [
       "\u001b[1;31m \u001b[0m\u001b[1;31m       \u001b[0m\u001b[1;31mImage already exists, Skipping\u001b[0m\u001b[1;33m...\u001b[0m\n"
      ]
     },
     "metadata": {},
     "output_type": "display_data"
    },
    {
     "data": {
      "text/html": [
       "<pre style=\"white-space:pre;overflow-x:auto;line-height:normal;font-family:Menlo,'DejaVu Sans Mono',consolas,'Courier New',monospace\"><span style=\"color: #800000; text-decoration-color: #800000; font-weight: bold\">        Image already exists, Skipping</span><span style=\"color: #808000; text-decoration-color: #808000; font-weight: bold\">...</span>\n",
       "</pre>\n"
      ],
      "text/plain": [
       "\u001b[1;31m \u001b[0m\u001b[1;31m       \u001b[0m\u001b[1;31mImage already exists, Skipping\u001b[0m\u001b[1;33m...\u001b[0m\n"
      ]
     },
     "metadata": {},
     "output_type": "display_data"
    },
    {
     "data": {
      "text/html": [
       "<pre style=\"white-space:pre;overflow-x:auto;line-height:normal;font-family:Menlo,'DejaVu Sans Mono',consolas,'Courier New',monospace\"><span style=\"color: #800000; text-decoration-color: #800000; font-weight: bold\">        Image already exists, Skipping</span><span style=\"color: #808000; text-decoration-color: #808000; font-weight: bold\">...</span>\n",
       "</pre>\n"
      ],
      "text/plain": [
       "\u001b[1;31m \u001b[0m\u001b[1;31m       \u001b[0m\u001b[1;31mImage already exists, Skipping\u001b[0m\u001b[1;33m...\u001b[0m\n"
      ]
     },
     "metadata": {},
     "output_type": "display_data"
    },
    {
     "data": {
      "text/html": [
       "<pre style=\"white-space:pre;overflow-x:auto;line-height:normal;font-family:Menlo,'DejaVu Sans Mono',consolas,'Courier New',monospace\"><span style=\"color: #800000; text-decoration-color: #800000; font-weight: bold\">        Image already exists, Skipping</span><span style=\"color: #808000; text-decoration-color: #808000; font-weight: bold\">...</span>\n",
       "</pre>\n"
      ],
      "text/plain": [
       "\u001b[1;31m \u001b[0m\u001b[1;31m       \u001b[0m\u001b[1;31mImage already exists, Skipping\u001b[0m\u001b[1;33m...\u001b[0m\n"
      ]
     },
     "metadata": {},
     "output_type": "display_data"
    },
    {
     "data": {
      "text/html": [
       "<pre style=\"white-space:pre;overflow-x:auto;line-height:normal;font-family:Menlo,'DejaVu Sans Mono',consolas,'Courier New',monospace\"><span style=\"color: #800000; text-decoration-color: #800000; font-weight: bold\">        Image already exists, Skipping</span><span style=\"color: #808000; text-decoration-color: #808000; font-weight: bold\">...</span>\n",
       "</pre>\n"
      ],
      "text/plain": [
       "\u001b[1;31m \u001b[0m\u001b[1;31m       \u001b[0m\u001b[1;31mImage already exists, Skipping\u001b[0m\u001b[1;33m...\u001b[0m\n"
      ]
     },
     "metadata": {},
     "output_type": "display_data"
    },
    {
     "data": {
      "text/html": [
       "<pre style=\"white-space:pre;overflow-x:auto;line-height:normal;font-family:Menlo,'DejaVu Sans Mono',consolas,'Courier New',monospace\"><span style=\"color: #800000; text-decoration-color: #800000; font-weight: bold\">        Image already exists, Skipping</span><span style=\"color: #808000; text-decoration-color: #808000; font-weight: bold\">...</span>\n",
       "</pre>\n"
      ],
      "text/plain": [
       "\u001b[1;31m \u001b[0m\u001b[1;31m       \u001b[0m\u001b[1;31mImage already exists, Skipping\u001b[0m\u001b[1;33m...\u001b[0m\n"
      ]
     },
     "metadata": {},
     "output_type": "display_data"
    },
    {
     "data": {
      "text/html": [
       "<pre style=\"white-space:pre;overflow-x:auto;line-height:normal;font-family:Menlo,'DejaVu Sans Mono',consolas,'Courier New',monospace\">Getting Account Information: <span style=\"color: #008080; text-decoration-color: #008080\">sunnyleone</span>\n",
       "</pre>\n"
      ],
      "text/plain": [
       "Getting Account Information: \u001b[36msunnyleone\u001b[0m\n"
      ]
     },
     "metadata": {},
     "output_type": "display_data"
    },
    {
     "name": "stderr",
     "output_type": "stream",
     "text": [
      " 46%|████▌     | 92/200 [00:35<00:53,  2.03it/s]"
     ]
    },
    {
     "data": {
      "text/html": [
       "<pre style=\"white-space:pre;overflow-x:auto;line-height:normal;font-family:Menlo,'DejaVu Sans Mono',consolas,'Courier New',monospace\"><span style=\"color: #800000; text-decoration-color: #800000; font-weight: bold\">        Image already exists, Skipping</span><span style=\"color: #808000; text-decoration-color: #808000; font-weight: bold\">...</span>\n",
       "</pre>\n"
      ],
      "text/plain": [
       "\u001b[1;31m \u001b[0m\u001b[1;31m       \u001b[0m\u001b[1;31mImage already exists, Skipping\u001b[0m\u001b[1;33m...\u001b[0m\n"
      ]
     },
     "metadata": {},
     "output_type": "display_data"
    },
    {
     "data": {
      "text/html": [
       "<pre style=\"white-space:pre;overflow-x:auto;line-height:normal;font-family:Menlo,'DejaVu Sans Mono',consolas,'Courier New',monospace\"><span style=\"color: #800000; text-decoration-color: #800000; font-weight: bold\">        Image already exists, Skipping</span><span style=\"color: #808000; text-decoration-color: #808000; font-weight: bold\">...</span>\n",
       "</pre>\n"
      ],
      "text/plain": [
       "\u001b[1;31m \u001b[0m\u001b[1;31m       \u001b[0m\u001b[1;31mImage already exists, Skipping\u001b[0m\u001b[1;33m...\u001b[0m\n"
      ]
     },
     "metadata": {},
     "output_type": "display_data"
    },
    {
     "data": {
      "text/html": [
       "<pre style=\"white-space:pre;overflow-x:auto;line-height:normal;font-family:Menlo,'DejaVu Sans Mono',consolas,'Courier New',monospace\"><span style=\"color: #800000; text-decoration-color: #800000; font-weight: bold\">        Image already exists, Skipping</span><span style=\"color: #808000; text-decoration-color: #808000; font-weight: bold\">...</span>\n",
       "</pre>\n"
      ],
      "text/plain": [
       "\u001b[1;31m \u001b[0m\u001b[1;31m       \u001b[0m\u001b[1;31mImage already exists, Skipping\u001b[0m\u001b[1;33m...\u001b[0m\n"
      ]
     },
     "metadata": {},
     "output_type": "display_data"
    },
    {
     "data": {
      "text/html": [
       "<pre style=\"white-space:pre;overflow-x:auto;line-height:normal;font-family:Menlo,'DejaVu Sans Mono',consolas,'Courier New',monospace\"><span style=\"color: #800000; text-decoration-color: #800000; font-weight: bold\">        Image already exists, Skipping</span><span style=\"color: #808000; text-decoration-color: #808000; font-weight: bold\">...</span>\n",
       "</pre>\n"
      ],
      "text/plain": [
       "\u001b[1;31m \u001b[0m\u001b[1;31m       \u001b[0m\u001b[1;31mImage already exists, Skipping\u001b[0m\u001b[1;33m...\u001b[0m\n"
      ]
     },
     "metadata": {},
     "output_type": "display_data"
    },
    {
     "data": {
      "text/html": [
       "<pre style=\"white-space:pre;overflow-x:auto;line-height:normal;font-family:Menlo,'DejaVu Sans Mono',consolas,'Courier New',monospace\"><span style=\"color: #800000; text-decoration-color: #800000; font-weight: bold\">        Image already exists, Skipping</span><span style=\"color: #808000; text-decoration-color: #808000; font-weight: bold\">...</span>\n",
       "</pre>\n"
      ],
      "text/plain": [
       "\u001b[1;31m \u001b[0m\u001b[1;31m       \u001b[0m\u001b[1;31mImage already exists, Skipping\u001b[0m\u001b[1;33m...\u001b[0m\n"
      ]
     },
     "metadata": {},
     "output_type": "display_data"
    },
    {
     "data": {
      "text/html": [
       "<pre style=\"white-space:pre;overflow-x:auto;line-height:normal;font-family:Menlo,'DejaVu Sans Mono',consolas,'Courier New',monospace\"><span style=\"color: #800000; text-decoration-color: #800000; font-weight: bold\">        Image already exists, Skipping</span><span style=\"color: #808000; text-decoration-color: #808000; font-weight: bold\">...</span>\n",
       "</pre>\n"
      ],
      "text/plain": [
       "\u001b[1;31m \u001b[0m\u001b[1;31m       \u001b[0m\u001b[1;31mImage already exists, Skipping\u001b[0m\u001b[1;33m...\u001b[0m\n"
      ]
     },
     "metadata": {},
     "output_type": "display_data"
    },
    {
     "data": {
      "text/html": [
       "<pre style=\"white-space:pre;overflow-x:auto;line-height:normal;font-family:Menlo,'DejaVu Sans Mono',consolas,'Courier New',monospace\"><span style=\"color: #800000; text-decoration-color: #800000; font-weight: bold\">        Image already exists, Skipping</span><span style=\"color: #808000; text-decoration-color: #808000; font-weight: bold\">...</span>\n",
       "</pre>\n"
      ],
      "text/plain": [
       "\u001b[1;31m \u001b[0m\u001b[1;31m       \u001b[0m\u001b[1;31mImage already exists, Skipping\u001b[0m\u001b[1;33m...\u001b[0m\n"
      ]
     },
     "metadata": {},
     "output_type": "display_data"
    },
    {
     "data": {
      "text/html": [
       "<pre style=\"white-space:pre;overflow-x:auto;line-height:normal;font-family:Menlo,'DejaVu Sans Mono',consolas,'Courier New',monospace\"><span style=\"color: #800000; text-decoration-color: #800000; font-weight: bold\">        Image already exists, Skipping</span><span style=\"color: #808000; text-decoration-color: #808000; font-weight: bold\">...</span>\n",
       "</pre>\n"
      ],
      "text/plain": [
       "\u001b[1;31m \u001b[0m\u001b[1;31m       \u001b[0m\u001b[1;31mImage already exists, Skipping\u001b[0m\u001b[1;33m...\u001b[0m\n"
      ]
     },
     "metadata": {},
     "output_type": "display_data"
    },
    {
     "name": "stderr",
     "output_type": "stream",
     "text": [
      " 50%|█████     | 100/200 [00:36<01:45,  1.06s/it]"
     ]
    },
    {
     "data": {
      "text/html": [
       "<pre style=\"white-space:pre;overflow-x:auto;line-height:normal;font-family:Menlo,'DejaVu Sans Mono',consolas,'Courier New',monospace\">Getting Account Information: <span style=\"color: #008080; text-decoration-color: #008080\">theshaderoom</span>\n",
       "</pre>\n"
      ],
      "text/plain": [
       "Getting Account Information: \u001b[36mtheshaderoom\u001b[0m\n"
      ]
     },
     "metadata": {},
     "output_type": "display_data"
    },
    {
     "data": {
      "text/html": [
       "<pre style=\"white-space:pre;overflow-x:auto;line-height:normal;font-family:Menlo,'DejaVu Sans Mono',consolas,'Courier New',monospace\"><span style=\"color: #800000; text-decoration-color: #800000; font-weight: bold\">        Image already exists, Skipping</span><span style=\"color: #808000; text-decoration-color: #808000; font-weight: bold\">...</span>\n",
       "</pre>\n"
      ],
      "text/plain": [
       "\u001b[1;31m \u001b[0m\u001b[1;31m       \u001b[0m\u001b[1;31mImage already exists, Skipping\u001b[0m\u001b[1;33m...\u001b[0m\n"
      ]
     },
     "metadata": {},
     "output_type": "display_data"
    },
    {
     "data": {
      "text/html": [
       "<pre style=\"white-space:pre;overflow-x:auto;line-height:normal;font-family:Menlo,'DejaVu Sans Mono',consolas,'Courier New',monospace\"><span style=\"color: #800000; text-decoration-color: #800000; font-weight: bold\">        Image already exists, Skipping</span><span style=\"color: #808000; text-decoration-color: #808000; font-weight: bold\">...</span>\n",
       "</pre>\n"
      ],
      "text/plain": [
       "\u001b[1;31m \u001b[0m\u001b[1;31m       \u001b[0m\u001b[1;31mImage already exists, Skipping\u001b[0m\u001b[1;33m...\u001b[0m\n"
      ]
     },
     "metadata": {},
     "output_type": "display_data"
    },
    {
     "data": {
      "text/html": [
       "<pre style=\"white-space:pre;overflow-x:auto;line-height:normal;font-family:Menlo,'DejaVu Sans Mono',consolas,'Courier New',monospace\"><span style=\"color: #800000; text-decoration-color: #800000; font-weight: bold\">        Image already exists, Skipping</span><span style=\"color: #808000; text-decoration-color: #808000; font-weight: bold\">...</span>\n",
       "</pre>\n"
      ],
      "text/plain": [
       "\u001b[1;31m \u001b[0m\u001b[1;31m       \u001b[0m\u001b[1;31mImage already exists, Skipping\u001b[0m\u001b[1;33m...\u001b[0m\n"
      ]
     },
     "metadata": {},
     "output_type": "display_data"
    },
    {
     "data": {
      "text/html": [
       "<pre style=\"white-space:pre;overflow-x:auto;line-height:normal;font-family:Menlo,'DejaVu Sans Mono',consolas,'Courier New',monospace\"><span style=\"color: #800000; text-decoration-color: #800000; font-weight: bold\">        Image already exists, Skipping</span><span style=\"color: #808000; text-decoration-color: #808000; font-weight: bold\">...</span>\n",
       "</pre>\n"
      ],
      "text/plain": [
       "\u001b[1;31m \u001b[0m\u001b[1;31m       \u001b[0m\u001b[1;31mImage already exists, Skipping\u001b[0m\u001b[1;33m...\u001b[0m\n"
      ]
     },
     "metadata": {},
     "output_type": "display_data"
    },
    {
     "data": {
      "text/html": [
       "<pre style=\"white-space:pre;overflow-x:auto;line-height:normal;font-family:Menlo,'DejaVu Sans Mono',consolas,'Courier New',monospace\"><span style=\"color: #800000; text-decoration-color: #800000; font-weight: bold\">        Image already exists, Skipping</span><span style=\"color: #808000; text-decoration-color: #808000; font-weight: bold\">...</span>\n",
       "</pre>\n"
      ],
      "text/plain": [
       "\u001b[1;31m \u001b[0m\u001b[1;31m       \u001b[0m\u001b[1;31mImage already exists, Skipping\u001b[0m\u001b[1;33m...\u001b[0m\n"
      ]
     },
     "metadata": {},
     "output_type": "display_data"
    },
    {
     "data": {
      "text/html": [
       "<pre style=\"white-space:pre;overflow-x:auto;line-height:normal;font-family:Menlo,'DejaVu Sans Mono',consolas,'Courier New',monospace\"><span style=\"color: #808000; text-decoration-color: #808000; font-style: italic\">        Downloading: CsAUua8Lusr</span>\n",
       "</pre>\n"
      ],
      "text/plain": [
       "\u001b[3;33m \u001b[0m\u001b[3;33m       \u001b[0m\u001b[3;33mDownloading: CsAUua8Lusr\u001b[0m\n"
      ]
     },
     "metadata": {},
     "output_type": "display_data"
    },
    {
     "data": {
      "text/html": [
       "<pre style=\"white-space:pre;overflow-x:auto;line-height:normal;font-family:Menlo,'DejaVu Sans Mono',consolas,'Courier New',monospace\"><span style=\"color: #00ff00; text-decoration-color: #00ff00; font-style: italic\">        Saved!</span>\n",
       "</pre>\n"
      ],
      "text/plain": [
       "\u001b[3;92m \u001b[0m\u001b[3;92m       \u001b[0m\u001b[3;92mSaved!\u001b[0m\n"
      ]
     },
     "metadata": {},
     "output_type": "display_data"
    },
    {
     "data": {
      "text/html": [
       "<pre style=\"white-space:pre;overflow-x:auto;line-height:normal;font-family:Menlo,'DejaVu Sans Mono',consolas,'Courier New',monospace\"><span style=\"color: #808000; text-decoration-color: #808000; font-style: italic\">        Downloading: CsARZeuLned</span>\n",
       "</pre>\n"
      ],
      "text/plain": [
       "\u001b[3;33m \u001b[0m\u001b[3;33m       \u001b[0m\u001b[3;33mDownloading: CsARZeuLned\u001b[0m\n"
      ]
     },
     "metadata": {},
     "output_type": "display_data"
    },
    {
     "data": {
      "text/html": [
       "<pre style=\"white-space:pre;overflow-x:auto;line-height:normal;font-family:Menlo,'DejaVu Sans Mono',consolas,'Courier New',monospace\"><span style=\"color: #00ff00; text-decoration-color: #00ff00; font-style: italic\">        Saved!</span>\n",
       "</pre>\n"
      ],
      "text/plain": [
       "\u001b[3;92m \u001b[0m\u001b[3;92m       \u001b[0m\u001b[3;92mSaved!\u001b[0m\n"
      ]
     },
     "metadata": {},
     "output_type": "display_data"
    },
    {
     "data": {
      "text/html": [
       "<pre style=\"white-space:pre;overflow-x:auto;line-height:normal;font-family:Menlo,'DejaVu Sans Mono',consolas,'Courier New',monospace\"><span style=\"color: #808000; text-decoration-color: #808000; font-style: italic\">        Downloading: CsANTinJw7k</span>\n",
       "</pre>\n"
      ],
      "text/plain": [
       "\u001b[3;33m \u001b[0m\u001b[3;33m       \u001b[0m\u001b[3;33mDownloading: CsANTinJw7k\u001b[0m\n"
      ]
     },
     "metadata": {},
     "output_type": "display_data"
    },
    {
     "data": {
      "text/html": [
       "<pre style=\"white-space:pre;overflow-x:auto;line-height:normal;font-family:Menlo,'DejaVu Sans Mono',consolas,'Courier New',monospace\"><span style=\"color: #00ff00; text-decoration-color: #00ff00; font-style: italic\">        Saved!</span>\n",
       "</pre>\n"
      ],
      "text/plain": [
       "\u001b[3;92m \u001b[0m\u001b[3;92m       \u001b[0m\u001b[3;92mSaved!\u001b[0m\n"
      ]
     },
     "metadata": {},
     "output_type": "display_data"
    },
    {
     "data": {
      "text/html": [
       "<pre style=\"white-space:pre;overflow-x:auto;line-height:normal;font-family:Menlo,'DejaVu Sans Mono',consolas,'Courier New',monospace\"><span style=\"color: #808000; text-decoration-color: #808000; font-style: italic\">        Downloading: CsAHMqoP0Lw</span>\n",
       "</pre>\n"
      ],
      "text/plain": [
       "\u001b[3;33m \u001b[0m\u001b[3;33m       \u001b[0m\u001b[3;33mDownloading: CsAHMqoP0Lw\u001b[0m\n"
      ]
     },
     "metadata": {},
     "output_type": "display_data"
    },
    {
     "data": {
      "text/html": [
       "<pre style=\"white-space:pre;overflow-x:auto;line-height:normal;font-family:Menlo,'DejaVu Sans Mono',consolas,'Courier New',monospace\"><span style=\"color: #00ff00; text-decoration-color: #00ff00; font-style: italic\">        Saved!</span>\n",
       "</pre>\n"
      ],
      "text/plain": [
       "\u001b[3;92m \u001b[0m\u001b[3;92m       \u001b[0m\u001b[3;92mSaved!\u001b[0m\n"
      ]
     },
     "metadata": {},
     "output_type": "display_data"
    },
    {
     "data": {
      "text/html": [
       "<pre style=\"white-space:pre;overflow-x:auto;line-height:normal;font-family:Menlo,'DejaVu Sans Mono',consolas,'Courier New',monospace\"><span style=\"color: #808000; text-decoration-color: #808000; font-style: italic\">        Downloading: CsAD-y_PRuk</span>\n",
       "</pre>\n"
      ],
      "text/plain": [
       "\u001b[3;33m \u001b[0m\u001b[3;33m       \u001b[0m\u001b[3;33mDownloading: CsAD-y_PRuk\u001b[0m\n"
      ]
     },
     "metadata": {},
     "output_type": "display_data"
    },
    {
     "data": {
      "text/html": [
       "<pre style=\"white-space:pre;overflow-x:auto;line-height:normal;font-family:Menlo,'DejaVu Sans Mono',consolas,'Courier New',monospace\"><span style=\"color: #00ff00; text-decoration-color: #00ff00; font-style: italic\">        Saved!</span>\n",
       "</pre>\n"
      ],
      "text/plain": [
       "\u001b[3;92m \u001b[0m\u001b[3;92m       \u001b[0m\u001b[3;92mSaved!\u001b[0m\n"
      ]
     },
     "metadata": {},
     "output_type": "display_data"
    },
    {
     "data": {
      "text/html": [
       "<pre style=\"white-space:pre;overflow-x:auto;line-height:normal;font-family:Menlo,'DejaVu Sans Mono',consolas,'Courier New',monospace\"><span style=\"color: #808000; text-decoration-color: #808000; font-style: italic\">        Downloading: CsACqWdPSea</span>\n",
       "</pre>\n"
      ],
      "text/plain": [
       "\u001b[3;33m \u001b[0m\u001b[3;33m       \u001b[0m\u001b[3;33mDownloading: CsACqWdPSea\u001b[0m\n"
      ]
     },
     "metadata": {},
     "output_type": "display_data"
    },
    {
     "data": {
      "text/html": [
       "<pre style=\"white-space:pre;overflow-x:auto;line-height:normal;font-family:Menlo,'DejaVu Sans Mono',consolas,'Courier New',monospace\"><span style=\"color: #00ff00; text-decoration-color: #00ff00; font-style: italic\">        Saved!</span>\n",
       "</pre>\n"
      ],
      "text/plain": [
       "\u001b[3;92m \u001b[0m\u001b[3;92m       \u001b[0m\u001b[3;92mSaved!\u001b[0m\n"
      ]
     },
     "metadata": {},
     "output_type": "display_data"
    },
    {
     "name": "stderr",
     "output_type": "stream",
     "text": [
      " 50%|█████     | 101/200 [00:45<02:24,  1.46s/it]"
     ]
    },
    {
     "data": {
      "text/html": [
       "<pre style=\"white-space:pre;overflow-x:auto;line-height:normal;font-family:Menlo,'DejaVu Sans Mono',consolas,'Courier New',monospace\">Getting Account Information: <span style=\"color: #008080; text-decoration-color: #008080\">hollywoodunlocked</span>\n",
       "</pre>\n"
      ],
      "text/plain": [
       "Getting Account Information: \u001b[36mhollywoodunlocked\u001b[0m\n"
      ]
     },
     "metadata": {},
     "output_type": "display_data"
    },
    {
     "data": {
      "text/html": [
       "<pre style=\"white-space:pre;overflow-x:auto;line-height:normal;font-family:Menlo,'DejaVu Sans Mono',consolas,'Courier New',monospace\"><span style=\"color: #808000; text-decoration-color: #808000; font-style: italic\">        Downloading: CsA1_7RO6zk</span>\n",
       "</pre>\n"
      ],
      "text/plain": [
       "\u001b[3;33m \u001b[0m\u001b[3;33m       \u001b[0m\u001b[3;33mDownloading: CsA1_7RO6zk\u001b[0m\n"
      ]
     },
     "metadata": {},
     "output_type": "display_data"
    },
    {
     "data": {
      "text/html": [
       "<pre style=\"white-space:pre;overflow-x:auto;line-height:normal;font-family:Menlo,'DejaVu Sans Mono',consolas,'Courier New',monospace\"><span style=\"color: #00ff00; text-decoration-color: #00ff00; font-style: italic\">        Saved!</span>\n",
       "</pre>\n"
      ],
      "text/plain": [
       "\u001b[3;92m \u001b[0m\u001b[3;92m       \u001b[0m\u001b[3;92mSaved!\u001b[0m\n"
      ]
     },
     "metadata": {},
     "output_type": "display_data"
    },
    {
     "data": {
      "text/html": [
       "<pre style=\"white-space:pre;overflow-x:auto;line-height:normal;font-family:Menlo,'DejaVu Sans Mono',consolas,'Courier New',monospace\"><span style=\"color: #808000; text-decoration-color: #808000; font-style: italic\">        Downloading: CsAy4Gtu1cx</span>\n",
       "</pre>\n"
      ],
      "text/plain": [
       "\u001b[3;33m \u001b[0m\u001b[3;33m       \u001b[0m\u001b[3;33mDownloading: CsAy4Gtu1cx\u001b[0m\n"
      ]
     },
     "metadata": {},
     "output_type": "display_data"
    },
    {
     "data": {
      "text/html": [
       "<pre style=\"white-space:pre;overflow-x:auto;line-height:normal;font-family:Menlo,'DejaVu Sans Mono',consolas,'Courier New',monospace\"><span style=\"color: #00ff00; text-decoration-color: #00ff00; font-style: italic\">        Saved!</span>\n",
       "</pre>\n"
      ],
      "text/plain": [
       "\u001b[3;92m \u001b[0m\u001b[3;92m       \u001b[0m\u001b[3;92mSaved!\u001b[0m\n"
      ]
     },
     "metadata": {},
     "output_type": "display_data"
    },
    {
     "data": {
      "text/html": [
       "<pre style=\"white-space:pre;overflow-x:auto;line-height:normal;font-family:Menlo,'DejaVu Sans Mono',consolas,'Courier New',monospace\"><span style=\"color: #808000; text-decoration-color: #808000; font-style: italic\">        Downloading: CsAwDi9Oz3Q</span>\n",
       "</pre>\n"
      ],
      "text/plain": [
       "\u001b[3;33m \u001b[0m\u001b[3;33m       \u001b[0m\u001b[3;33mDownloading: CsAwDi9Oz3Q\u001b[0m\n"
      ]
     },
     "metadata": {},
     "output_type": "display_data"
    },
    {
     "data": {
      "text/html": [
       "<pre style=\"white-space:pre;overflow-x:auto;line-height:normal;font-family:Menlo,'DejaVu Sans Mono',consolas,'Courier New',monospace\"><span style=\"color: #00ff00; text-decoration-color: #00ff00; font-style: italic\">        Saved!</span>\n",
       "</pre>\n"
      ],
      "text/plain": [
       "\u001b[3;92m \u001b[0m\u001b[3;92m       \u001b[0m\u001b[3;92mSaved!\u001b[0m\n"
      ]
     },
     "metadata": {},
     "output_type": "display_data"
    },
    {
     "data": {
      "text/html": [
       "<pre style=\"white-space:pre;overflow-x:auto;line-height:normal;font-family:Menlo,'DejaVu Sans Mono',consolas,'Courier New',monospace\"><span style=\"color: #808000; text-decoration-color: #808000; font-style: italic\">        Downloading: CsAt1MUuLtC</span>\n",
       "</pre>\n"
      ],
      "text/plain": [
       "\u001b[3;33m \u001b[0m\u001b[3;33m       \u001b[0m\u001b[3;33mDownloading: CsAt1MUuLtC\u001b[0m\n"
      ]
     },
     "metadata": {},
     "output_type": "display_data"
    },
    {
     "data": {
      "text/html": [
       "<pre style=\"white-space:pre;overflow-x:auto;line-height:normal;font-family:Menlo,'DejaVu Sans Mono',consolas,'Courier New',monospace\"><span style=\"color: #00ff00; text-decoration-color: #00ff00; font-style: italic\">        Saved!</span>\n",
       "</pre>\n"
      ],
      "text/plain": [
       "\u001b[3;92m \u001b[0m\u001b[3;92m       \u001b[0m\u001b[3;92mSaved!\u001b[0m\n"
      ]
     },
     "metadata": {},
     "output_type": "display_data"
    },
    {
     "data": {
      "text/html": [
       "<pre style=\"white-space:pre;overflow-x:auto;line-height:normal;font-family:Menlo,'DejaVu Sans Mono',consolas,'Courier New',monospace\"><span style=\"color: #808000; text-decoration-color: #808000; font-style: italic\">        Downloading: CsArwjJucxc</span>\n",
       "</pre>\n"
      ],
      "text/plain": [
       "\u001b[3;33m \u001b[0m\u001b[3;33m       \u001b[0m\u001b[3;33mDownloading: CsArwjJucxc\u001b[0m\n"
      ]
     },
     "metadata": {},
     "output_type": "display_data"
    },
    {
     "data": {
      "text/html": [
       "<pre style=\"white-space:pre;overflow-x:auto;line-height:normal;font-family:Menlo,'DejaVu Sans Mono',consolas,'Courier New',monospace\"><span style=\"color: #00ff00; text-decoration-color: #00ff00; font-style: italic\">        Saved!</span>\n",
       "</pre>\n"
      ],
      "text/plain": [
       "\u001b[3;92m \u001b[0m\u001b[3;92m       \u001b[0m\u001b[3;92mSaved!\u001b[0m\n"
      ]
     },
     "metadata": {},
     "output_type": "display_data"
    },
    {
     "data": {
      "text/html": [
       "<pre style=\"white-space:pre;overflow-x:auto;line-height:normal;font-family:Menlo,'DejaVu Sans Mono',consolas,'Courier New',monospace\"><span style=\"color: #808000; text-decoration-color: #808000; font-style: italic\">        Downloading: CsApXg-rz3I</span>\n",
       "</pre>\n"
      ],
      "text/plain": [
       "\u001b[3;33m \u001b[0m\u001b[3;33m       \u001b[0m\u001b[3;33mDownloading: CsApXg-rz3I\u001b[0m\n"
      ]
     },
     "metadata": {},
     "output_type": "display_data"
    },
    {
     "data": {
      "text/html": [
       "<pre style=\"white-space:pre;overflow-x:auto;line-height:normal;font-family:Menlo,'DejaVu Sans Mono',consolas,'Courier New',monospace\"><span style=\"color: #00ff00; text-decoration-color: #00ff00; font-style: italic\">        Saved!</span>\n",
       "</pre>\n"
      ],
      "text/plain": [
       "\u001b[3;92m \u001b[0m\u001b[3;92m       \u001b[0m\u001b[3;92mSaved!\u001b[0m\n"
      ]
     },
     "metadata": {},
     "output_type": "display_data"
    },
    {
     "data": {
      "text/html": [
       "<pre style=\"white-space:pre;overflow-x:auto;line-height:normal;font-family:Menlo,'DejaVu Sans Mono',consolas,'Courier New',monospace\"><span style=\"color: #808000; text-decoration-color: #808000; font-style: italic\">        Downloading: CsAmALULwKo</span>\n",
       "</pre>\n"
      ],
      "text/plain": [
       "\u001b[3;33m \u001b[0m\u001b[3;33m       \u001b[0m\u001b[3;33mDownloading: CsAmALULwKo\u001b[0m\n"
      ]
     },
     "metadata": {},
     "output_type": "display_data"
    },
    {
     "data": {
      "text/html": [
       "<pre style=\"white-space:pre;overflow-x:auto;line-height:normal;font-family:Menlo,'DejaVu Sans Mono',consolas,'Courier New',monospace\"><span style=\"color: #00ff00; text-decoration-color: #00ff00; font-style: italic\">        Saved!</span>\n",
       "</pre>\n"
      ],
      "text/plain": [
       "\u001b[3;92m \u001b[0m\u001b[3;92m       \u001b[0m\u001b[3;92mSaved!\u001b[0m\n"
      ]
     },
     "metadata": {},
     "output_type": "display_data"
    },
    {
     "data": {
      "text/html": [
       "<pre style=\"white-space:pre;overflow-x:auto;line-height:normal;font-family:Menlo,'DejaVu Sans Mono',consolas,'Courier New',monospace\"><span style=\"color: #808000; text-decoration-color: #808000; font-style: italic\">        Downloading: CsAgSKbL6ow</span>\n",
       "</pre>\n"
      ],
      "text/plain": [
       "\u001b[3;33m \u001b[0m\u001b[3;33m       \u001b[0m\u001b[3;33mDownloading: CsAgSKbL6ow\u001b[0m\n"
      ]
     },
     "metadata": {},
     "output_type": "display_data"
    },
    {
     "data": {
      "text/html": [
       "<pre style=\"white-space:pre;overflow-x:auto;line-height:normal;font-family:Menlo,'DejaVu Sans Mono',consolas,'Courier New',monospace\"><span style=\"color: #00ff00; text-decoration-color: #00ff00; font-style: italic\">        Saved!</span>\n",
       "</pre>\n"
      ],
      "text/plain": [
       "\u001b[3;92m \u001b[0m\u001b[3;92m       \u001b[0m\u001b[3;92mSaved!\u001b[0m\n"
      ]
     },
     "metadata": {},
     "output_type": "display_data"
    },
    {
     "data": {
      "text/html": [
       "<pre style=\"white-space:pre;overflow-x:auto;line-height:normal;font-family:Menlo,'DejaVu Sans Mono',consolas,'Courier New',monospace\"><span style=\"color: #808000; text-decoration-color: #808000; font-style: italic\">        Downloading: CsAYp76LE22</span>\n",
       "</pre>\n"
      ],
      "text/plain": [
       "\u001b[3;33m \u001b[0m\u001b[3;33m       \u001b[0m\u001b[3;33mDownloading: CsAYp76LE22\u001b[0m\n"
      ]
     },
     "metadata": {},
     "output_type": "display_data"
    },
    {
     "data": {
      "text/html": [
       "<pre style=\"white-space:pre;overflow-x:auto;line-height:normal;font-family:Menlo,'DejaVu Sans Mono',consolas,'Courier New',monospace\"><span style=\"color: #00ff00; text-decoration-color: #00ff00; font-style: italic\">        Saved!</span>\n",
       "</pre>\n"
      ],
      "text/plain": [
       "\u001b[3;92m \u001b[0m\u001b[3;92m       \u001b[0m\u001b[3;92mSaved!\u001b[0m\n"
      ]
     },
     "metadata": {},
     "output_type": "display_data"
    },
    {
     "data": {
      "text/html": [
       "<pre style=\"white-space:pre;overflow-x:auto;line-height:normal;font-family:Menlo,'DejaVu Sans Mono',consolas,'Courier New',monospace\">Getting Account Information: <span style=\"color: #008080; text-decoration-color: #008080\">rvcjinsta</span>\n",
       "</pre>\n"
      ],
      "text/plain": [
       "Getting Account Information: \u001b[36mrvcjinsta\u001b[0m\n"
      ]
     },
     "metadata": {},
     "output_type": "display_data"
    },
    {
     "data": {
      "text/html": [
       "<pre style=\"white-space:pre;overflow-x:auto;line-height:normal;font-family:Menlo,'DejaVu Sans Mono',consolas,'Courier New',monospace\"><span style=\"color: #808000; text-decoration-color: #808000; font-style: italic\">        Downloading: CsBP-tcBDGl</span>\n",
       "</pre>\n"
      ],
      "text/plain": [
       "\u001b[3;33m \u001b[0m\u001b[3;33m       \u001b[0m\u001b[3;33mDownloading: CsBP-tcBDGl\u001b[0m\n"
      ]
     },
     "metadata": {},
     "output_type": "display_data"
    },
    {
     "name": "stderr",
     "output_type": "stream",
     "text": [
      " 50%|█████     | 101/200 [01:05<02:24,  1.46s/it]"
     ]
    },
    {
     "data": {
      "text/html": [
       "<pre style=\"white-space:pre;overflow-x:auto;line-height:normal;font-family:Menlo,'DejaVu Sans Mono',consolas,'Courier New',monospace\"><span style=\"color: #00ff00; text-decoration-color: #00ff00; font-style: italic\">        Saved!</span>\n",
       "</pre>\n"
      ],
      "text/plain": [
       "\u001b[3;92m \u001b[0m\u001b[3;92m       \u001b[0m\u001b[3;92mSaved!\u001b[0m\n"
      ]
     },
     "metadata": {},
     "output_type": "display_data"
    },
    {
     "data": {
      "text/html": [
       "<pre style=\"white-space:pre;overflow-x:auto;line-height:normal;font-family:Menlo,'DejaVu Sans Mono',consolas,'Courier New',monospace\"><span style=\"color: #808000; text-decoration-color: #808000; font-style: italic\">        Downloading: CsBMwyvBuVd</span>\n",
       "</pre>\n"
      ],
      "text/plain": [
       "\u001b[3;33m \u001b[0m\u001b[3;33m       \u001b[0m\u001b[3;33mDownloading: CsBMwyvBuVd\u001b[0m\n"
      ]
     },
     "metadata": {},
     "output_type": "display_data"
    },
    {
     "data": {
      "text/html": [
       "<pre style=\"white-space:pre;overflow-x:auto;line-height:normal;font-family:Menlo,'DejaVu Sans Mono',consolas,'Courier New',monospace\"><span style=\"color: #00ff00; text-decoration-color: #00ff00; font-style: italic\">        Saved!</span>\n",
       "</pre>\n"
      ],
      "text/plain": [
       "\u001b[3;92m \u001b[0m\u001b[3;92m       \u001b[0m\u001b[3;92mSaved!\u001b[0m\n"
      ]
     },
     "metadata": {},
     "output_type": "display_data"
    },
    {
     "data": {
      "text/html": [
       "<pre style=\"white-space:pre;overflow-x:auto;line-height:normal;font-family:Menlo,'DejaVu Sans Mono',consolas,'Courier New',monospace\"><span style=\"color: #808000; text-decoration-color: #808000; font-style: italic\">        Downloading: CsBLapShQTw</span>\n",
       "</pre>\n"
      ],
      "text/plain": [
       "\u001b[3;33m \u001b[0m\u001b[3;33m       \u001b[0m\u001b[3;33mDownloading: CsBLapShQTw\u001b[0m\n"
      ]
     },
     "metadata": {},
     "output_type": "display_data"
    },
    {
     "data": {
      "text/html": [
       "<pre style=\"white-space:pre;overflow-x:auto;line-height:normal;font-family:Menlo,'DejaVu Sans Mono',consolas,'Courier New',monospace\"><span style=\"color: #00ff00; text-decoration-color: #00ff00; font-style: italic\">        Saved!</span>\n",
       "</pre>\n"
      ],
      "text/plain": [
       "\u001b[3;92m \u001b[0m\u001b[3;92m       \u001b[0m\u001b[3;92mSaved!\u001b[0m\n"
      ]
     },
     "metadata": {},
     "output_type": "display_data"
    },
    {
     "data": {
      "text/html": [
       "<pre style=\"white-space:pre;overflow-x:auto;line-height:normal;font-family:Menlo,'DejaVu Sans Mono',consolas,'Courier New',monospace\"><span style=\"color: #808000; text-decoration-color: #808000; font-style: italic\">        Downloading: CsBKPXjBqZQ</span>\n",
       "</pre>\n"
      ],
      "text/plain": [
       "\u001b[3;33m \u001b[0m\u001b[3;33m       \u001b[0m\u001b[3;33mDownloading: CsBKPXjBqZQ\u001b[0m\n"
      ]
     },
     "metadata": {},
     "output_type": "display_data"
    },
    {
     "data": {
      "text/html": [
       "<pre style=\"white-space:pre;overflow-x:auto;line-height:normal;font-family:Menlo,'DejaVu Sans Mono',consolas,'Courier New',monospace\"><span style=\"color: #00ff00; text-decoration-color: #00ff00; font-style: italic\">        Saved!</span>\n",
       "</pre>\n"
      ],
      "text/plain": [
       "\u001b[3;92m \u001b[0m\u001b[3;92m       \u001b[0m\u001b[3;92mSaved!\u001b[0m\n"
      ]
     },
     "metadata": {},
     "output_type": "display_data"
    },
    {
     "data": {
      "text/html": [
       "<pre style=\"white-space:pre;overflow-x:auto;line-height:normal;font-family:Menlo,'DejaVu Sans Mono',consolas,'Courier New',monospace\"><span style=\"color: #808000; text-decoration-color: #808000; font-style: italic\">        Downloading: CsBJCsBByaa</span>\n",
       "</pre>\n"
      ],
      "text/plain": [
       "\u001b[3;33m \u001b[0m\u001b[3;33m       \u001b[0m\u001b[3;33mDownloading: CsBJCsBByaa\u001b[0m\n"
      ]
     },
     "metadata": {},
     "output_type": "display_data"
    },
    {
     "data": {
      "text/html": [
       "<pre style=\"white-space:pre;overflow-x:auto;line-height:normal;font-family:Menlo,'DejaVu Sans Mono',consolas,'Courier New',monospace\"><span style=\"color: #00ff00; text-decoration-color: #00ff00; font-style: italic\">        Saved!</span>\n",
       "</pre>\n"
      ],
      "text/plain": [
       "\u001b[3;92m \u001b[0m\u001b[3;92m       \u001b[0m\u001b[3;92mSaved!\u001b[0m\n"
      ]
     },
     "metadata": {},
     "output_type": "display_data"
    },
    {
     "data": {
      "text/html": [
       "<pre style=\"white-space:pre;overflow-x:auto;line-height:normal;font-family:Menlo,'DejaVu Sans Mono',consolas,'Courier New',monospace\"><span style=\"color: #808000; text-decoration-color: #808000; font-style: italic\">        Downloading: CsBFqvfhstC</span>\n",
       "</pre>\n"
      ],
      "text/plain": [
       "\u001b[3;33m \u001b[0m\u001b[3;33m       \u001b[0m\u001b[3;33mDownloading: CsBFqvfhstC\u001b[0m\n"
      ]
     },
     "metadata": {},
     "output_type": "display_data"
    },
    {
     "data": {
      "text/html": [
       "<pre style=\"white-space:pre;overflow-x:auto;line-height:normal;font-family:Menlo,'DejaVu Sans Mono',consolas,'Courier New',monospace\"><span style=\"color: #00ff00; text-decoration-color: #00ff00; font-style: italic\">        Saved!</span>\n",
       "</pre>\n"
      ],
      "text/plain": [
       "\u001b[3;92m \u001b[0m\u001b[3;92m       \u001b[0m\u001b[3;92mSaved!\u001b[0m\n"
      ]
     },
     "metadata": {},
     "output_type": "display_data"
    },
    {
     "data": {
      "text/html": [
       "<pre style=\"white-space:pre;overflow-x:auto;line-height:normal;font-family:Menlo,'DejaVu Sans Mono',consolas,'Courier New',monospace\"><span style=\"color: #808000; text-decoration-color: #808000; font-style: italic\">        Downloading: CsBEj_IhNaO</span>\n",
       "</pre>\n"
      ],
      "text/plain": [
       "\u001b[3;33m \u001b[0m\u001b[3;33m       \u001b[0m\u001b[3;33mDownloading: CsBEj_IhNaO\u001b[0m\n"
      ]
     },
     "metadata": {},
     "output_type": "display_data"
    },
    {
     "data": {
      "text/html": [
       "<pre style=\"white-space:pre;overflow-x:auto;line-height:normal;font-family:Menlo,'DejaVu Sans Mono',consolas,'Courier New',monospace\"><span style=\"color: #00ff00; text-decoration-color: #00ff00; font-style: italic\">        Saved!</span>\n",
       "</pre>\n"
      ],
      "text/plain": [
       "\u001b[3;92m \u001b[0m\u001b[3;92m       \u001b[0m\u001b[3;92mSaved!\u001b[0m\n"
      ]
     },
     "metadata": {},
     "output_type": "display_data"
    },
    {
     "data": {
      "text/html": [
       "<pre style=\"white-space:pre;overflow-x:auto;line-height:normal;font-family:Menlo,'DejaVu Sans Mono',consolas,'Courier New',monospace\"><span style=\"color: #808000; text-decoration-color: #808000; font-style: italic\">        Downloading: CsBCOjABErC</span>\n",
       "</pre>\n"
      ],
      "text/plain": [
       "\u001b[3;33m \u001b[0m\u001b[3;33m       \u001b[0m\u001b[3;33mDownloading: CsBCOjABErC\u001b[0m\n"
      ]
     },
     "metadata": {},
     "output_type": "display_data"
    },
    {
     "data": {
      "text/html": [
       "<pre style=\"white-space:pre;overflow-x:auto;line-height:normal;font-family:Menlo,'DejaVu Sans Mono',consolas,'Courier New',monospace\"><span style=\"color: #00ff00; text-decoration-color: #00ff00; font-style: italic\">        Saved!</span>\n",
       "</pre>\n"
      ],
      "text/plain": [
       "\u001b[3;92m \u001b[0m\u001b[3;92m       \u001b[0m\u001b[3;92mSaved!\u001b[0m\n"
      ]
     },
     "metadata": {},
     "output_type": "display_data"
    },
    {
     "data": {
      "text/html": [
       "<pre style=\"white-space:pre;overflow-x:auto;line-height:normal;font-family:Menlo,'DejaVu Sans Mono',consolas,'Courier New',monospace\"><span style=\"color: #808000; text-decoration-color: #808000; font-style: italic\">        Downloading: CsA_Etah3Oa</span>\n",
       "</pre>\n"
      ],
      "text/plain": [
       "\u001b[3;33m \u001b[0m\u001b[3;33m       \u001b[0m\u001b[3;33mDownloading: CsA_Etah3Oa\u001b[0m\n"
      ]
     },
     "metadata": {},
     "output_type": "display_data"
    },
    {
     "data": {
      "text/html": [
       "<pre style=\"white-space:pre;overflow-x:auto;line-height:normal;font-family:Menlo,'DejaVu Sans Mono',consolas,'Courier New',monospace\"><span style=\"color: #00ff00; text-decoration-color: #00ff00; font-style: italic\">        Saved!</span>\n",
       "</pre>\n"
      ],
      "text/plain": [
       "\u001b[3;92m \u001b[0m\u001b[3;92m       \u001b[0m\u001b[3;92mSaved!\u001b[0m\n"
      ]
     },
     "metadata": {},
     "output_type": "display_data"
    },
    {
     "name": "stderr",
     "output_type": "stream",
     "text": [
      " 52%|█████▏    | 103/200 [01:14<05:04,  3.14s/it]"
     ]
    },
    {
     "data": {
      "text/html": [
       "<pre style=\"white-space:pre;overflow-x:auto;line-height:normal;font-family:Menlo,'DejaVu Sans Mono',consolas,'Courier New',monospace\">Getting Account Information: <span style=\"color: #008080; text-decoration-color: #008080\">manotoofficial</span>\n",
       "</pre>\n"
      ],
      "text/plain": [
       "Getting Account Information: \u001b[36mmanotoofficial\u001b[0m\n"
      ]
     },
     "metadata": {},
     "output_type": "display_data"
    },
    {
     "data": {
      "text/html": [
       "<pre style=\"white-space:pre;overflow-x:auto;line-height:normal;font-family:Menlo,'DejaVu Sans Mono',consolas,'Courier New',monospace\"><span style=\"color: #808000; text-decoration-color: #808000; font-style: italic\">        Downloading: CsBPYgcNrF8</span>\n",
       "</pre>\n"
      ],
      "text/plain": [
       "\u001b[3;33m \u001b[0m\u001b[3;33m       \u001b[0m\u001b[3;33mDownloading: CsBPYgcNrF8\u001b[0m\n"
      ]
     },
     "metadata": {},
     "output_type": "display_data"
    },
    {
     "data": {
      "text/html": [
       "<pre style=\"white-space:pre;overflow-x:auto;line-height:normal;font-family:Menlo,'DejaVu Sans Mono',consolas,'Courier New',monospace\"><span style=\"color: #00ff00; text-decoration-color: #00ff00; font-style: italic\">        Saved!</span>\n",
       "</pre>\n"
      ],
      "text/plain": [
       "\u001b[3;92m \u001b[0m\u001b[3;92m       \u001b[0m\u001b[3;92mSaved!\u001b[0m\n"
      ]
     },
     "metadata": {},
     "output_type": "display_data"
    },
    {
     "data": {
      "text/html": [
       "<pre style=\"white-space:pre;overflow-x:auto;line-height:normal;font-family:Menlo,'DejaVu Sans Mono',consolas,'Courier New',monospace\"><span style=\"color: #808000; text-decoration-color: #808000; font-style: italic\">        Downloading: CsBNDHGAuj0</span>\n",
       "</pre>\n"
      ],
      "text/plain": [
       "\u001b[3;33m \u001b[0m\u001b[3;33m       \u001b[0m\u001b[3;33mDownloading: CsBNDHGAuj0\u001b[0m\n"
      ]
     },
     "metadata": {},
     "output_type": "display_data"
    },
    {
     "data": {
      "text/html": [
       "<pre style=\"white-space:pre;overflow-x:auto;line-height:normal;font-family:Menlo,'DejaVu Sans Mono',consolas,'Courier New',monospace\"><span style=\"color: #00ff00; text-decoration-color: #00ff00; font-style: italic\">        Saved!</span>\n",
       "</pre>\n"
      ],
      "text/plain": [
       "\u001b[3;92m \u001b[0m\u001b[3;92m       \u001b[0m\u001b[3;92mSaved!\u001b[0m\n"
      ]
     },
     "metadata": {},
     "output_type": "display_data"
    },
    {
     "data": {
      "text/html": [
       "<pre style=\"white-space:pre;overflow-x:auto;line-height:normal;font-family:Menlo,'DejaVu Sans Mono',consolas,'Courier New',monospace\"><span style=\"color: #808000; text-decoration-color: #808000; font-style: italic\">        Downloading: CsBIeV9tO6s</span>\n",
       "</pre>\n"
      ],
      "text/plain": [
       "\u001b[3;33m \u001b[0m\u001b[3;33m       \u001b[0m\u001b[3;33mDownloading: CsBIeV9tO6s\u001b[0m\n"
      ]
     },
     "metadata": {},
     "output_type": "display_data"
    },
    {
     "data": {
      "text/html": [
       "<pre style=\"white-space:pre;overflow-x:auto;line-height:normal;font-family:Menlo,'DejaVu Sans Mono',consolas,'Courier New',monospace\"><span style=\"color: #00ff00; text-decoration-color: #00ff00; font-style: italic\">        Saved!</span>\n",
       "</pre>\n"
      ],
      "text/plain": [
       "\u001b[3;92m \u001b[0m\u001b[3;92m       \u001b[0m\u001b[3;92mSaved!\u001b[0m\n"
      ]
     },
     "metadata": {},
     "output_type": "display_data"
    },
    {
     "data": {
      "text/html": [
       "<pre style=\"white-space:pre;overflow-x:auto;line-height:normal;font-family:Menlo,'DejaVu Sans Mono',consolas,'Courier New',monospace\"><span style=\"color: #808000; text-decoration-color: #808000; font-style: italic\">        Downloading: CsBC77ZgOFP</span>\n",
       "</pre>\n"
      ],
      "text/plain": [
       "\u001b[3;33m \u001b[0m\u001b[3;33m       \u001b[0m\u001b[3;33mDownloading: CsBC77ZgOFP\u001b[0m\n"
      ]
     },
     "metadata": {},
     "output_type": "display_data"
    },
    {
     "data": {
      "text/html": [
       "<pre style=\"white-space:pre;overflow-x:auto;line-height:normal;font-family:Menlo,'DejaVu Sans Mono',consolas,'Courier New',monospace\"><span style=\"color: #00ff00; text-decoration-color: #00ff00; font-style: italic\">        Saved!</span>\n",
       "</pre>\n"
      ],
      "text/plain": [
       "\u001b[3;92m \u001b[0m\u001b[3;92m       \u001b[0m\u001b[3;92mSaved!\u001b[0m\n"
      ]
     },
     "metadata": {},
     "output_type": "display_data"
    },
    {
     "name": "stderr",
     "output_type": "stream",
     "text": [
      " 52%|█████▏    | 104/200 [01:23<05:41,  3.56s/it]"
     ]
    },
    {
     "data": {
      "text/html": [
       "<pre style=\"white-space:pre;overflow-x:auto;line-height:normal;font-family:Menlo,'DejaVu Sans Mono',consolas,'Courier New',monospace\">Getting Account Information: <span style=\"color: #008080; text-decoration-color: #008080\">tvnnoticias</span>\n",
       "</pre>\n"
      ],
      "text/plain": [
       "Getting Account Information: \u001b[36mtvnnoticias\u001b[0m\n"
      ]
     },
     "metadata": {},
     "output_type": "display_data"
    },
    {
     "data": {
      "text/html": [
       "<pre style=\"white-space:pre;overflow-x:auto;line-height:normal;font-family:Menlo,'DejaVu Sans Mono',consolas,'Courier New',monospace\"><span style=\"color: #808000; text-decoration-color: #808000; font-style: italic\">        Downloading: Cr2UtDku1Be</span>\n",
       "</pre>\n"
      ],
      "text/plain": [
       "\u001b[3;33m \u001b[0m\u001b[3;33m       \u001b[0m\u001b[3;33mDownloading: Cr2UtDku1Be\u001b[0m\n"
      ]
     },
     "metadata": {},
     "output_type": "display_data"
    },
    {
     "data": {
      "text/html": [
       "<pre style=\"white-space:pre;overflow-x:auto;line-height:normal;font-family:Menlo,'DejaVu Sans Mono',consolas,'Courier New',monospace\"><span style=\"color: #00ff00; text-decoration-color: #00ff00; font-style: italic\">        Saved!</span>\n",
       "</pre>\n"
      ],
      "text/plain": [
       "\u001b[3;92m \u001b[0m\u001b[3;92m       \u001b[0m\u001b[3;92mSaved!\u001b[0m\n"
      ]
     },
     "metadata": {},
     "output_type": "display_data"
    },
    {
     "data": {
      "text/html": [
       "<pre style=\"white-space:pre;overflow-x:auto;line-height:normal;font-family:Menlo,'DejaVu Sans Mono',consolas,'Courier New',monospace\"><span style=\"color: #808000; text-decoration-color: #808000; font-style: italic\">        Downloading: Cr2Upl9Ot3O</span>\n",
       "</pre>\n"
      ],
      "text/plain": [
       "\u001b[3;33m \u001b[0m\u001b[3;33m       \u001b[0m\u001b[3;33mDownloading: Cr2Upl9Ot3O\u001b[0m\n"
      ]
     },
     "metadata": {},
     "output_type": "display_data"
    },
    {
     "data": {
      "text/html": [
       "<pre style=\"white-space:pre;overflow-x:auto;line-height:normal;font-family:Menlo,'DejaVu Sans Mono',consolas,'Courier New',monospace\"><span style=\"color: #00ff00; text-decoration-color: #00ff00; font-style: italic\">        Saved!</span>\n",
       "</pre>\n"
      ],
      "text/plain": [
       "\u001b[3;92m \u001b[0m\u001b[3;92m       \u001b[0m\u001b[3;92mSaved!\u001b[0m\n"
      ]
     },
     "metadata": {},
     "output_type": "display_data"
    },
    {
     "data": {
      "text/html": [
       "<pre style=\"white-space:pre;overflow-x:auto;line-height:normal;font-family:Menlo,'DejaVu Sans Mono',consolas,'Courier New',monospace\"><span style=\"color: #808000; text-decoration-color: #808000; font-style: italic\">        Downloading: Cr2UkeyuW6u</span>\n",
       "</pre>\n"
      ],
      "text/plain": [
       "\u001b[3;33m \u001b[0m\u001b[3;33m       \u001b[0m\u001b[3;33mDownloading: Cr2UkeyuW6u\u001b[0m\n"
      ]
     },
     "metadata": {},
     "output_type": "display_data"
    },
    {
     "data": {
      "text/html": [
       "<pre style=\"white-space:pre;overflow-x:auto;line-height:normal;font-family:Menlo,'DejaVu Sans Mono',consolas,'Courier New',monospace\"><span style=\"color: #00ff00; text-decoration-color: #00ff00; font-style: italic\">        Saved!</span>\n",
       "</pre>\n"
      ],
      "text/plain": [
       "\u001b[3;92m \u001b[0m\u001b[3;92m       \u001b[0m\u001b[3;92mSaved!\u001b[0m\n"
      ]
     },
     "metadata": {},
     "output_type": "display_data"
    },
    {
     "data": {
      "text/html": [
       "<pre style=\"white-space:pre;overflow-x:auto;line-height:normal;font-family:Menlo,'DejaVu Sans Mono',consolas,'Courier New',monospace\"><span style=\"color: #808000; text-decoration-color: #808000; font-style: italic\">        Downloading: CsAas0HuZrF</span>\n",
       "</pre>\n"
      ],
      "text/plain": [
       "\u001b[3;33m \u001b[0m\u001b[3;33m       \u001b[0m\u001b[3;33mDownloading: CsAas0HuZrF\u001b[0m\n"
      ]
     },
     "metadata": {},
     "output_type": "display_data"
    },
    {
     "data": {
      "text/html": [
       "<pre style=\"white-space:pre;overflow-x:auto;line-height:normal;font-family:Menlo,'DejaVu Sans Mono',consolas,'Courier New',monospace\"><span style=\"color: #00ff00; text-decoration-color: #00ff00; font-style: italic\">        Saved!</span>\n",
       "</pre>\n"
      ],
      "text/plain": [
       "\u001b[3;92m \u001b[0m\u001b[3;92m       \u001b[0m\u001b[3;92mSaved!\u001b[0m\n"
      ]
     },
     "metadata": {},
     "output_type": "display_data"
    },
    {
     "data": {
      "text/html": [
       "<pre style=\"white-space:pre;overflow-x:auto;line-height:normal;font-family:Menlo,'DejaVu Sans Mono',consolas,'Courier New',monospace\"><span style=\"color: #808000; text-decoration-color: #808000; font-style: italic\">        Downloading: CsAXQuCs2KO</span>\n",
       "</pre>\n"
      ],
      "text/plain": [
       "\u001b[3;33m \u001b[0m\u001b[3;33m       \u001b[0m\u001b[3;33mDownloading: CsAXQuCs2KO\u001b[0m\n"
      ]
     },
     "metadata": {},
     "output_type": "display_data"
    },
    {
     "name": "stderr",
     "output_type": "stream",
     "text": [
      " 52%|█████▏    | 104/200 [01:35<05:41,  3.56s/it]"
     ]
    },
    {
     "data": {
      "text/html": [
       "<pre style=\"white-space:pre;overflow-x:auto;line-height:normal;font-family:Menlo,'DejaVu Sans Mono',consolas,'Courier New',monospace\"><span style=\"color: #00ff00; text-decoration-color: #00ff00; font-style: italic\">        Saved!</span>\n",
       "</pre>\n"
      ],
      "text/plain": [
       "\u001b[3;92m \u001b[0m\u001b[3;92m       \u001b[0m\u001b[3;92mSaved!\u001b[0m\n"
      ]
     },
     "metadata": {},
     "output_type": "display_data"
    },
    {
     "data": {
      "text/html": [
       "<pre style=\"white-space:pre;overflow-x:auto;line-height:normal;font-family:Menlo,'DejaVu Sans Mono',consolas,'Courier New',monospace\"><span style=\"color: #808000; text-decoration-color: #808000; font-style: italic\">        Downloading: CsAT2r0O7St</span>\n",
       "</pre>\n"
      ],
      "text/plain": [
       "\u001b[3;33m \u001b[0m\u001b[3;33m       \u001b[0m\u001b[3;33mDownloading: CsAT2r0O7St\u001b[0m\n"
      ]
     },
     "metadata": {},
     "output_type": "display_data"
    },
    {
     "data": {
      "text/html": [
       "<pre style=\"white-space:pre;overflow-x:auto;line-height:normal;font-family:Menlo,'DejaVu Sans Mono',consolas,'Courier New',monospace\"><span style=\"color: #00ff00; text-decoration-color: #00ff00; font-style: italic\">        Saved!</span>\n",
       "</pre>\n"
      ],
      "text/plain": [
       "\u001b[3;92m \u001b[0m\u001b[3;92m       \u001b[0m\u001b[3;92mSaved!\u001b[0m\n"
      ]
     },
     "metadata": {},
     "output_type": "display_data"
    },
    {
     "data": {
      "text/html": [
       "<pre style=\"white-space:pre;overflow-x:auto;line-height:normal;font-family:Menlo,'DejaVu Sans Mono',consolas,'Courier New',monospace\"><span style=\"color: #808000; text-decoration-color: #808000; font-style: italic\">        Downloading: CsAJiituApj</span>\n",
       "</pre>\n"
      ],
      "text/plain": [
       "\u001b[3;33m \u001b[0m\u001b[3;33m       \u001b[0m\u001b[3;33mDownloading: CsAJiituApj\u001b[0m\n"
      ]
     },
     "metadata": {},
     "output_type": "display_data"
    },
    {
     "data": {
      "text/html": [
       "<pre style=\"white-space:pre;overflow-x:auto;line-height:normal;font-family:Menlo,'DejaVu Sans Mono',consolas,'Courier New',monospace\"><span style=\"color: #00ff00; text-decoration-color: #00ff00; font-style: italic\">        Saved!</span>\n",
       "</pre>\n"
      ],
      "text/plain": [
       "\u001b[3;92m \u001b[0m\u001b[3;92m       \u001b[0m\u001b[3;92mSaved!\u001b[0m\n"
      ]
     },
     "metadata": {},
     "output_type": "display_data"
    },
    {
     "name": "stderr",
     "output_type": "stream",
     "text": [
      " 52%|█████▎    | 105/200 [01:39<07:49,  4.94s/it]"
     ]
    },
    {
     "data": {
      "text/html": [
       "<pre style=\"white-space:pre;overflow-x:auto;line-height:normal;font-family:Menlo,'DejaVu Sans Mono',consolas,'Courier New',monospace\">Getting Account Information: <span style=\"color: #008080; text-decoration-color: #008080\">instablog9ja</span>\n",
       "</pre>\n"
      ],
      "text/plain": [
       "Getting Account Information: \u001b[36minstablog9ja\u001b[0m\n"
      ]
     },
     "metadata": {},
     "output_type": "display_data"
    },
    {
     "data": {
      "text/html": [
       "<pre style=\"white-space:pre;overflow-x:auto;line-height:normal;font-family:Menlo,'DejaVu Sans Mono',consolas,'Courier New',monospace\"><span style=\"color: #808000; text-decoration-color: #808000; font-style: italic\">        Downloading: CsBNEQ4Ly6R</span>\n",
       "</pre>\n"
      ],
      "text/plain": [
       "\u001b[3;33m \u001b[0m\u001b[3;33m       \u001b[0m\u001b[3;33mDownloading: CsBNEQ4Ly6R\u001b[0m\n"
      ]
     },
     "metadata": {},
     "output_type": "display_data"
    },
    {
     "data": {
      "text/html": [
       "<pre style=\"white-space:pre;overflow-x:auto;line-height:normal;font-family:Menlo,'DejaVu Sans Mono',consolas,'Courier New',monospace\"><span style=\"color: #00ff00; text-decoration-color: #00ff00; font-style: italic\">        Saved!</span>\n",
       "</pre>\n"
      ],
      "text/plain": [
       "\u001b[3;92m \u001b[0m\u001b[3;92m       \u001b[0m\u001b[3;92mSaved!\u001b[0m\n"
      ]
     },
     "metadata": {},
     "output_type": "display_data"
    },
    {
     "data": {
      "text/html": [
       "<pre style=\"white-space:pre;overflow-x:auto;line-height:normal;font-family:Menlo,'DejaVu Sans Mono',consolas,'Courier New',monospace\"><span style=\"color: #808000; text-decoration-color: #808000; font-style: italic\">        Downloading: CsBMHSKrAl6</span>\n",
       "</pre>\n"
      ],
      "text/plain": [
       "\u001b[3;33m \u001b[0m\u001b[3;33m       \u001b[0m\u001b[3;33mDownloading: CsBMHSKrAl6\u001b[0m\n"
      ]
     },
     "metadata": {},
     "output_type": "display_data"
    },
    {
     "data": {
      "text/html": [
       "<pre style=\"white-space:pre;overflow-x:auto;line-height:normal;font-family:Menlo,'DejaVu Sans Mono',consolas,'Courier New',monospace\"><span style=\"color: #00ff00; text-decoration-color: #00ff00; font-style: italic\">        Saved!</span>\n",
       "</pre>\n"
      ],
      "text/plain": [
       "\u001b[3;92m \u001b[0m\u001b[3;92m       \u001b[0m\u001b[3;92mSaved!\u001b[0m\n"
      ]
     },
     "metadata": {},
     "output_type": "display_data"
    },
    {
     "data": {
      "text/html": [
       "<pre style=\"white-space:pre;overflow-x:auto;line-height:normal;font-family:Menlo,'DejaVu Sans Mono',consolas,'Courier New',monospace\"><span style=\"color: #808000; text-decoration-color: #808000; font-style: italic\">        Downloading: CsBJIqYNMMK</span>\n",
       "</pre>\n"
      ],
      "text/plain": [
       "\u001b[3;33m \u001b[0m\u001b[3;33m       \u001b[0m\u001b[3;33mDownloading: CsBJIqYNMMK\u001b[0m\n"
      ]
     },
     "metadata": {},
     "output_type": "display_data"
    },
    {
     "data": {
      "text/html": [
       "<pre style=\"white-space:pre;overflow-x:auto;line-height:normal;font-family:Menlo,'DejaVu Sans Mono',consolas,'Courier New',monospace\"><span style=\"color: #00ff00; text-decoration-color: #00ff00; font-style: italic\">        Saved!</span>\n",
       "</pre>\n"
      ],
      "text/plain": [
       "\u001b[3;92m \u001b[0m\u001b[3;92m       \u001b[0m\u001b[3;92mSaved!\u001b[0m\n"
      ]
     },
     "metadata": {},
     "output_type": "display_data"
    },
    {
     "data": {
      "text/html": [
       "<pre style=\"white-space:pre;overflow-x:auto;line-height:normal;font-family:Menlo,'DejaVu Sans Mono',consolas,'Courier New',monospace\"><span style=\"color: #808000; text-decoration-color: #808000; font-style: italic\">        Downloading: CsBGGrerBMf</span>\n",
       "</pre>\n"
      ],
      "text/plain": [
       "\u001b[3;33m \u001b[0m\u001b[3;33m       \u001b[0m\u001b[3;33mDownloading: CsBGGrerBMf\u001b[0m\n"
      ]
     },
     "metadata": {},
     "output_type": "display_data"
    },
    {
     "data": {
      "text/html": [
       "<pre style=\"white-space:pre;overflow-x:auto;line-height:normal;font-family:Menlo,'DejaVu Sans Mono',consolas,'Courier New',monospace\"><span style=\"color: #00ff00; text-decoration-color: #00ff00; font-style: italic\">        Saved!</span>\n",
       "</pre>\n"
      ],
      "text/plain": [
       "\u001b[3;92m \u001b[0m\u001b[3;92m       \u001b[0m\u001b[3;92mSaved!\u001b[0m\n"
      ]
     },
     "metadata": {},
     "output_type": "display_data"
    },
    {
     "data": {
      "text/html": [
       "<pre style=\"white-space:pre;overflow-x:auto;line-height:normal;font-family:Menlo,'DejaVu Sans Mono',consolas,'Courier New',monospace\"><span style=\"color: #808000; text-decoration-color: #808000; font-style: italic\">        Downloading: CsBDACWLKOo</span>\n",
       "</pre>\n"
      ],
      "text/plain": [
       "\u001b[3;33m \u001b[0m\u001b[3;33m       \u001b[0m\u001b[3;33mDownloading: CsBDACWLKOo\u001b[0m\n"
      ]
     },
     "metadata": {},
     "output_type": "display_data"
    },
    {
     "data": {
      "text/html": [
       "<pre style=\"white-space:pre;overflow-x:auto;line-height:normal;font-family:Menlo,'DejaVu Sans Mono',consolas,'Courier New',monospace\"><span style=\"color: #00ff00; text-decoration-color: #00ff00; font-style: italic\">        Saved!</span>\n",
       "</pre>\n"
      ],
      "text/plain": [
       "\u001b[3;92m \u001b[0m\u001b[3;92m       \u001b[0m\u001b[3;92mSaved!\u001b[0m\n"
      ]
     },
     "metadata": {},
     "output_type": "display_data"
    },
    {
     "data": {
      "text/html": [
       "<pre style=\"white-space:pre;overflow-x:auto;line-height:normal;font-family:Menlo,'DejaVu Sans Mono',consolas,'Courier New',monospace\"><span style=\"color: #808000; text-decoration-color: #808000; font-style: italic\">        Downloading: CsBBncLtJVB</span>\n",
       "</pre>\n"
      ],
      "text/plain": [
       "\u001b[3;33m \u001b[0m\u001b[3;33m       \u001b[0m\u001b[3;33mDownloading: CsBBncLtJVB\u001b[0m\n"
      ]
     },
     "metadata": {},
     "output_type": "display_data"
    },
    {
     "data": {
      "text/html": [
       "<pre style=\"white-space:pre;overflow-x:auto;line-height:normal;font-family:Menlo,'DejaVu Sans Mono',consolas,'Courier New',monospace\"><span style=\"color: #00ff00; text-decoration-color: #00ff00; font-style: italic\">        Saved!</span>\n",
       "</pre>\n"
      ],
      "text/plain": [
       "\u001b[3;92m \u001b[0m\u001b[3;92m       \u001b[0m\u001b[3;92mSaved!\u001b[0m\n"
      ]
     },
     "metadata": {},
     "output_type": "display_data"
    },
    {
     "data": {
      "text/html": [
       "<pre style=\"white-space:pre;overflow-x:auto;line-height:normal;font-family:Menlo,'DejaVu Sans Mono',consolas,'Courier New',monospace\"><span style=\"color: #808000; text-decoration-color: #808000; font-style: italic\">        Downloading: CsBAvMQN--m</span>\n",
       "</pre>\n"
      ],
      "text/plain": [
       "\u001b[3;33m \u001b[0m\u001b[3;33m       \u001b[0m\u001b[3;33mDownloading: CsBAvMQN--m\u001b[0m\n"
      ]
     },
     "metadata": {},
     "output_type": "display_data"
    },
    {
     "data": {
      "text/html": [
       "<pre style=\"white-space:pre;overflow-x:auto;line-height:normal;font-family:Menlo,'DejaVu Sans Mono',consolas,'Courier New',monospace\"><span style=\"color: #00ff00; text-decoration-color: #00ff00; font-style: italic\">        Saved!</span>\n",
       "</pre>\n"
      ],
      "text/plain": [
       "\u001b[3;92m \u001b[0m\u001b[3;92m       \u001b[0m\u001b[3;92mSaved!\u001b[0m\n"
      ]
     },
     "metadata": {},
     "output_type": "display_data"
    },
    {
     "data": {
      "text/html": [
       "<pre style=\"white-space:pre;overflow-x:auto;line-height:normal;font-family:Menlo,'DejaVu Sans Mono',consolas,'Courier New',monospace\"><span style=\"color: #808000; text-decoration-color: #808000; font-style: italic\">        Downloading: CsA_WriLLLx</span>\n",
       "</pre>\n"
      ],
      "text/plain": [
       "\u001b[3;33m \u001b[0m\u001b[3;33m       \u001b[0m\u001b[3;33mDownloading: CsA_WriLLLx\u001b[0m\n"
      ]
     },
     "metadata": {},
     "output_type": "display_data"
    },
    {
     "data": {
      "text/html": [
       "<pre style=\"white-space:pre;overflow-x:auto;line-height:normal;font-family:Menlo,'DejaVu Sans Mono',consolas,'Courier New',monospace\"><span style=\"color: #00ff00; text-decoration-color: #00ff00; font-style: italic\">        Saved!</span>\n",
       "</pre>\n"
      ],
      "text/plain": [
       "\u001b[3;92m \u001b[0m\u001b[3;92m       \u001b[0m\u001b[3;92mSaved!\u001b[0m\n"
      ]
     },
     "metadata": {},
     "output_type": "display_data"
    },
    {
     "data": {
      "text/html": [
       "<pre style=\"white-space:pre;overflow-x:auto;line-height:normal;font-family:Menlo,'DejaVu Sans Mono',consolas,'Courier New',monospace\"><span style=\"color: #808000; text-decoration-color: #808000; font-style: italic\">        Downloading: CsA9PujNeBP</span>\n",
       "</pre>\n"
      ],
      "text/plain": [
       "\u001b[3;33m \u001b[0m\u001b[3;33m       \u001b[0m\u001b[3;33mDownloading: CsA9PujNeBP\u001b[0m\n"
      ]
     },
     "metadata": {},
     "output_type": "display_data"
    },
    {
     "data": {
      "text/html": [
       "<pre style=\"white-space:pre;overflow-x:auto;line-height:normal;font-family:Menlo,'DejaVu Sans Mono',consolas,'Courier New',monospace\"><span style=\"color: #00ff00; text-decoration-color: #00ff00; font-style: italic\">        Saved!</span>\n",
       "</pre>\n"
      ],
      "text/plain": [
       "\u001b[3;92m \u001b[0m\u001b[3;92m       \u001b[0m\u001b[3;92mSaved!\u001b[0m\n"
      ]
     },
     "metadata": {},
     "output_type": "display_data"
    },
    {
     "data": {
      "text/html": [
       "<pre style=\"white-space:pre;overflow-x:auto;line-height:normal;font-family:Menlo,'DejaVu Sans Mono',consolas,'Courier New',monospace\"><span style=\"color: #808000; text-decoration-color: #808000; font-style: italic\">        Downloading: CsA8erLr4Cc</span>\n",
       "</pre>\n"
      ],
      "text/plain": [
       "\u001b[3;33m \u001b[0m\u001b[3;33m       \u001b[0m\u001b[3;33mDownloading: CsA8erLr4Cc\u001b[0m\n"
      ]
     },
     "metadata": {},
     "output_type": "display_data"
    },
    {
     "data": {
      "text/html": [
       "<pre style=\"white-space:pre;overflow-x:auto;line-height:normal;font-family:Menlo,'DejaVu Sans Mono',consolas,'Courier New',monospace\"><span style=\"color: #00ff00; text-decoration-color: #00ff00; font-style: italic\">        Saved!</span>\n",
       "</pre>\n"
      ],
      "text/plain": [
       "\u001b[3;92m \u001b[0m\u001b[3;92m       \u001b[0m\u001b[3;92mSaved!\u001b[0m\n"
      ]
     },
     "metadata": {},
     "output_type": "display_data"
    },
    {
     "data": {
      "text/html": [
       "<pre style=\"white-space:pre;overflow-x:auto;line-height:normal;font-family:Menlo,'DejaVu Sans Mono',consolas,'Courier New',monospace\"><span style=\"color: #808000; text-decoration-color: #808000; font-style: italic\">        Downloading: CsA1goQLmJ4</span>\n",
       "</pre>\n"
      ],
      "text/plain": [
       "\u001b[3;33m \u001b[0m\u001b[3;33m       \u001b[0m\u001b[3;33mDownloading: CsA1goQLmJ4\u001b[0m\n"
      ]
     },
     "metadata": {},
     "output_type": "display_data"
    },
    {
     "data": {
      "text/html": [
       "<pre style=\"white-space:pre;overflow-x:auto;line-height:normal;font-family:Menlo,'DejaVu Sans Mono',consolas,'Courier New',monospace\"><span style=\"color: #00ff00; text-decoration-color: #00ff00; font-style: italic\">        Saved!</span>\n",
       "</pre>\n"
      ],
      "text/plain": [
       "\u001b[3;92m \u001b[0m\u001b[3;92m       \u001b[0m\u001b[3;92mSaved!\u001b[0m\n"
      ]
     },
     "metadata": {},
     "output_type": "display_data"
    },
    {
     "data": {
      "text/html": [
       "<pre style=\"white-space:pre;overflow-x:auto;line-height:normal;font-family:Menlo,'DejaVu Sans Mono',consolas,'Courier New',monospace\"><span style=\"color: #808000; text-decoration-color: #808000; font-style: italic\">        Downloading: CsA0fK4szFf</span>\n",
       "</pre>\n"
      ],
      "text/plain": [
       "\u001b[3;33m \u001b[0m\u001b[3;33m       \u001b[0m\u001b[3;33mDownloading: CsA0fK4szFf\u001b[0m\n"
      ]
     },
     "metadata": {},
     "output_type": "display_data"
    },
    {
     "data": {
      "text/html": [
       "<pre style=\"white-space:pre;overflow-x:auto;line-height:normal;font-family:Menlo,'DejaVu Sans Mono',consolas,'Courier New',monospace\"><span style=\"color: #00ff00; text-decoration-color: #00ff00; font-style: italic\">        Saved!</span>\n",
       "</pre>\n"
      ],
      "text/plain": [
       "\u001b[3;92m \u001b[0m\u001b[3;92m       \u001b[0m\u001b[3;92mSaved!\u001b[0m\n"
      ]
     },
     "metadata": {},
     "output_type": "display_data"
    },
    {
     "name": "stderr",
     "output_type": "stream",
     "text": [
      " 53%|█████▎    | 106/200 [01:54<09:41,  6.19s/it]"
     ]
    },
    {
     "data": {
      "text/html": [
       "<pre style=\"white-space:pre;overflow-x:auto;line-height:normal;font-family:Menlo,'DejaVu Sans Mono',consolas,'Courier New',monospace\">Getting Account Information: <span style=\"color: #008080; text-decoration-color: #008080\">worldstar</span>\n",
       "</pre>\n"
      ],
      "text/plain": [
       "Getting Account Information: \u001b[36mworldstar\u001b[0m\n"
      ]
     },
     "metadata": {},
     "output_type": "display_data"
    },
    {
     "data": {
      "text/html": [
       "<pre style=\"white-space:pre;overflow-x:auto;line-height:normal;font-family:Menlo,'DejaVu Sans Mono',consolas,'Courier New',monospace\"><span style=\"color: #808000; text-decoration-color: #808000; font-style: italic\">        Downloading: CsARKDQLeSJ</span>\n",
       "</pre>\n"
      ],
      "text/plain": [
       "\u001b[3;33m \u001b[0m\u001b[3;33m       \u001b[0m\u001b[3;33mDownloading: CsARKDQLeSJ\u001b[0m\n"
      ]
     },
     "metadata": {},
     "output_type": "display_data"
    },
    {
     "data": {
      "text/html": [
       "<pre style=\"white-space:pre;overflow-x:auto;line-height:normal;font-family:Menlo,'DejaVu Sans Mono',consolas,'Courier New',monospace\"><span style=\"color: #00ff00; text-decoration-color: #00ff00; font-style: italic\">        Saved!</span>\n",
       "</pre>\n"
      ],
      "text/plain": [
       "\u001b[3;92m \u001b[0m\u001b[3;92m       \u001b[0m\u001b[3;92mSaved!\u001b[0m\n"
      ]
     },
     "metadata": {},
     "output_type": "display_data"
    },
    {
     "data": {
      "text/html": [
       "<pre style=\"white-space:pre;overflow-x:auto;line-height:normal;font-family:Menlo,'DejaVu Sans Mono',consolas,'Courier New',monospace\"><span style=\"color: #808000; text-decoration-color: #808000; font-style: italic\">        Downloading: CsANLoVJi4M</span>\n",
       "</pre>\n"
      ],
      "text/plain": [
       "\u001b[3;33m \u001b[0m\u001b[3;33m       \u001b[0m\u001b[3;33mDownloading: CsANLoVJi4M\u001b[0m\n"
      ]
     },
     "metadata": {},
     "output_type": "display_data"
    },
    {
     "data": {
      "text/html": [
       "<pre style=\"white-space:pre;overflow-x:auto;line-height:normal;font-family:Menlo,'DejaVu Sans Mono',consolas,'Courier New',monospace\"><span style=\"color: #00ff00; text-decoration-color: #00ff00; font-style: italic\">        Saved!</span>\n",
       "</pre>\n"
      ],
      "text/plain": [
       "\u001b[3;92m \u001b[0m\u001b[3;92m       \u001b[0m\u001b[3;92mSaved!\u001b[0m\n"
      ]
     },
     "metadata": {},
     "output_type": "display_data"
    },
    {
     "data": {
      "text/html": [
       "<pre style=\"white-space:pre;overflow-x:auto;line-height:normal;font-family:Menlo,'DejaVu Sans Mono',consolas,'Courier New',monospace\"><span style=\"color: #808000; text-decoration-color: #808000; font-style: italic\">        Downloading: Cr_7i9HPuwX</span>\n",
       "</pre>\n"
      ],
      "text/plain": [
       "\u001b[3;33m \u001b[0m\u001b[3;33m       \u001b[0m\u001b[3;33mDownloading: Cr_7i9HPuwX\u001b[0m\n"
      ]
     },
     "metadata": {},
     "output_type": "display_data"
    },
    {
     "data": {
      "text/html": [
       "<pre style=\"white-space:pre;overflow-x:auto;line-height:normal;font-family:Menlo,'DejaVu Sans Mono',consolas,'Courier New',monospace\"><span style=\"color: #00ff00; text-decoration-color: #00ff00; font-style: italic\">        Saved!</span>\n",
       "</pre>\n"
      ],
      "text/plain": [
       "\u001b[3;92m \u001b[0m\u001b[3;92m       \u001b[0m\u001b[3;92mSaved!\u001b[0m\n"
      ]
     },
     "metadata": {},
     "output_type": "display_data"
    },
    {
     "name": "stderr",
     "output_type": "stream",
     "text": [
      " 54%|█████▎    | 107/200 [02:00<09:45,  6.30s/it]"
     ]
    },
    {
     "data": {
      "text/html": [
       "<pre style=\"white-space:pre;overflow-x:auto;line-height:normal;font-family:Menlo,'DejaVu Sans Mono',consolas,'Courier New',monospace\">Getting Account Information: <span style=\"color: #008080; text-decoration-color: #008080\">uae_barq</span>\n",
       "</pre>\n"
      ],
      "text/plain": [
       "Getting Account Information: \u001b[36muae_barq\u001b[0m\n"
      ]
     },
     "metadata": {},
     "output_type": "display_data"
    },
    {
     "data": {
      "text/html": [
       "<pre style=\"white-space:pre;overflow-x:auto;line-height:normal;font-family:Menlo,'DejaVu Sans Mono',consolas,'Courier New',monospace\"><span style=\"color: #808000; text-decoration-color: #808000; font-style: italic\">        Downloading: CsBL7B4Jmsa</span>\n",
       "</pre>\n"
      ],
      "text/plain": [
       "\u001b[3;33m \u001b[0m\u001b[3;33m       \u001b[0m\u001b[3;33mDownloading: CsBL7B4Jmsa\u001b[0m\n"
      ]
     },
     "metadata": {},
     "output_type": "display_data"
    },
    {
     "data": {
      "text/html": [
       "<pre style=\"white-space:pre;overflow-x:auto;line-height:normal;font-family:Menlo,'DejaVu Sans Mono',consolas,'Courier New',monospace\"><span style=\"color: #00ff00; text-decoration-color: #00ff00; font-style: italic\">        Saved!</span>\n",
       "</pre>\n"
      ],
      "text/plain": [
       "\u001b[3;92m \u001b[0m\u001b[3;92m       \u001b[0m\u001b[3;92mSaved!\u001b[0m\n"
      ]
     },
     "metadata": {},
     "output_type": "display_data"
    },
    {
     "data": {
      "text/html": [
       "<pre style=\"white-space:pre;overflow-x:auto;line-height:normal;font-family:Menlo,'DejaVu Sans Mono',consolas,'Courier New',monospace\"><span style=\"color: #808000; text-decoration-color: #808000; font-style: italic\">        Downloading: CsBJ2jhJTSk</span>\n",
       "</pre>\n"
      ],
      "text/plain": [
       "\u001b[3;33m \u001b[0m\u001b[3;33m       \u001b[0m\u001b[3;33mDownloading: CsBJ2jhJTSk\u001b[0m\n"
      ]
     },
     "metadata": {},
     "output_type": "display_data"
    },
    {
     "data": {
      "text/html": [
       "<pre style=\"white-space:pre;overflow-x:auto;line-height:normal;font-family:Menlo,'DejaVu Sans Mono',consolas,'Courier New',monospace\"><span style=\"color: #00ff00; text-decoration-color: #00ff00; font-style: italic\">        Saved!</span>\n",
       "</pre>\n"
      ],
      "text/plain": [
       "\u001b[3;92m \u001b[0m\u001b[3;92m       \u001b[0m\u001b[3;92mSaved!\u001b[0m\n"
      ]
     },
     "metadata": {},
     "output_type": "display_data"
    },
    {
     "data": {
      "text/html": [
       "<pre style=\"white-space:pre;overflow-x:auto;line-height:normal;font-family:Menlo,'DejaVu Sans Mono',consolas,'Courier New',monospace\"><span style=\"color: #808000; text-decoration-color: #808000; font-style: italic\">        Downloading: CsA-ckppvAd</span>\n",
       "</pre>\n"
      ],
      "text/plain": [
       "\u001b[3;33m \u001b[0m\u001b[3;33m       \u001b[0m\u001b[3;33mDownloading: CsA-ckppvAd\u001b[0m\n"
      ]
     },
     "metadata": {},
     "output_type": "display_data"
    },
    {
     "data": {
      "text/html": [
       "<pre style=\"white-space:pre;overflow-x:auto;line-height:normal;font-family:Menlo,'DejaVu Sans Mono',consolas,'Courier New',monospace\"><span style=\"color: #00ff00; text-decoration-color: #00ff00; font-style: italic\">        Saved!</span>\n",
       "</pre>\n"
      ],
      "text/plain": [
       "\u001b[3;92m \u001b[0m\u001b[3;92m       \u001b[0m\u001b[3;92mSaved!\u001b[0m\n"
      ]
     },
     "metadata": {},
     "output_type": "display_data"
    },
    {
     "data": {
      "text/html": [
       "<pre style=\"white-space:pre;overflow-x:auto;line-height:normal;font-family:Menlo,'DejaVu Sans Mono',consolas,'Courier New',monospace\"><span style=\"color: #808000; text-decoration-color: #808000; font-style: italic\">        Downloading: CsA6-mppWwu</span>\n",
       "</pre>\n"
      ],
      "text/plain": [
       "\u001b[3;33m \u001b[0m\u001b[3;33m       \u001b[0m\u001b[3;33mDownloading: CsA6-mppWwu\u001b[0m\n"
      ]
     },
     "metadata": {},
     "output_type": "display_data"
    },
    {
     "data": {
      "text/html": [
       "<pre style=\"white-space:pre;overflow-x:auto;line-height:normal;font-family:Menlo,'DejaVu Sans Mono',consolas,'Courier New',monospace\"><span style=\"color: #00ff00; text-decoration-color: #00ff00; font-style: italic\">        Saved!</span>\n",
       "</pre>\n"
      ],
      "text/plain": [
       "\u001b[3;92m \u001b[0m\u001b[3;92m       \u001b[0m\u001b[3;92mSaved!\u001b[0m\n"
      ]
     },
     "metadata": {},
     "output_type": "display_data"
    },
    {
     "data": {
      "text/html": [
       "<pre style=\"white-space:pre;overflow-x:auto;line-height:normal;font-family:Menlo,'DejaVu Sans Mono',consolas,'Courier New',monospace\"><span style=\"color: #808000; text-decoration-color: #808000; font-style: italic\">        Downloading: CsA4UiTpLpr</span>\n",
       "</pre>\n"
      ],
      "text/plain": [
       "\u001b[3;33m \u001b[0m\u001b[3;33m       \u001b[0m\u001b[3;33mDownloading: CsA4UiTpLpr\u001b[0m\n"
      ]
     },
     "metadata": {},
     "output_type": "display_data"
    },
    {
     "data": {
      "text/html": [
       "<pre style=\"white-space:pre;overflow-x:auto;line-height:normal;font-family:Menlo,'DejaVu Sans Mono',consolas,'Courier New',monospace\"><span style=\"color: #00ff00; text-decoration-color: #00ff00; font-style: italic\">        Saved!</span>\n",
       "</pre>\n"
      ],
      "text/plain": [
       "\u001b[3;92m \u001b[0m\u001b[3;92m       \u001b[0m\u001b[3;92mSaved!\u001b[0m\n"
      ]
     },
     "metadata": {},
     "output_type": "display_data"
    },
    {
     "data": {
      "text/html": [
       "<pre style=\"white-space:pre;overflow-x:auto;line-height:normal;font-family:Menlo,'DejaVu Sans Mono',consolas,'Courier New',monospace\"><span style=\"color: #808000; text-decoration-color: #808000; font-style: italic\">        Downloading: CsA3ITXJAxk</span>\n",
       "</pre>\n"
      ],
      "text/plain": [
       "\u001b[3;33m \u001b[0m\u001b[3;33m       \u001b[0m\u001b[3;33mDownloading: CsA3ITXJAxk\u001b[0m\n"
      ]
     },
     "metadata": {},
     "output_type": "display_data"
    },
    {
     "name": "stderr",
     "output_type": "stream",
     "text": [
      " 54%|█████▎    | 107/200 [02:15<09:45,  6.30s/it]"
     ]
    },
    {
     "data": {
      "text/html": [
       "<pre style=\"white-space:pre;overflow-x:auto;line-height:normal;font-family:Menlo,'DejaVu Sans Mono',consolas,'Courier New',monospace\"><span style=\"color: #00ff00; text-decoration-color: #00ff00; font-style: italic\">        Saved!</span>\n",
       "</pre>\n"
      ],
      "text/plain": [
       "\u001b[3;92m \u001b[0m\u001b[3;92m       \u001b[0m\u001b[3;92mSaved!\u001b[0m\n"
      ]
     },
     "metadata": {},
     "output_type": "display_data"
    },
    {
     "data": {
      "text/html": [
       "<pre style=\"white-space:pre;overflow-x:auto;line-height:normal;font-family:Menlo,'DejaVu Sans Mono',consolas,'Courier New',monospace\"><span style=\"color: #808000; text-decoration-color: #808000; font-style: italic\">        Downloading: CsAyKcFpuu7</span>\n",
       "</pre>\n"
      ],
      "text/plain": [
       "\u001b[3;33m \u001b[0m\u001b[3;33m       \u001b[0m\u001b[3;33mDownloading: CsAyKcFpuu7\u001b[0m\n"
      ]
     },
     "metadata": {},
     "output_type": "display_data"
    },
    {
     "data": {
      "text/html": [
       "<pre style=\"white-space:pre;overflow-x:auto;line-height:normal;font-family:Menlo,'DejaVu Sans Mono',consolas,'Courier New',monospace\"><span style=\"color: #00ff00; text-decoration-color: #00ff00; font-style: italic\">        Saved!</span>\n",
       "</pre>\n"
      ],
      "text/plain": [
       "\u001b[3;92m \u001b[0m\u001b[3;92m       \u001b[0m\u001b[3;92mSaved!\u001b[0m\n"
      ]
     },
     "metadata": {},
     "output_type": "display_data"
    },
    {
     "data": {
      "text/html": [
       "<pre style=\"white-space:pre;overflow-x:auto;line-height:normal;font-family:Menlo,'DejaVu Sans Mono',consolas,'Courier New',monospace\"><span style=\"color: #808000; text-decoration-color: #808000; font-style: italic\">        Downloading: CsAv0AYpPM9</span>\n",
       "</pre>\n"
      ],
      "text/plain": [
       "\u001b[3;33m \u001b[0m\u001b[3;33m       \u001b[0m\u001b[3;33mDownloading: CsAv0AYpPM9\u001b[0m\n"
      ]
     },
     "metadata": {},
     "output_type": "display_data"
    },
    {
     "data": {
      "text/html": [
       "<pre style=\"white-space:pre;overflow-x:auto;line-height:normal;font-family:Menlo,'DejaVu Sans Mono',consolas,'Courier New',monospace\"><span style=\"color: #00ff00; text-decoration-color: #00ff00; font-style: italic\">        Saved!</span>\n",
       "</pre>\n"
      ],
      "text/plain": [
       "\u001b[3;92m \u001b[0m\u001b[3;92m       \u001b[0m\u001b[3;92mSaved!\u001b[0m\n"
      ]
     },
     "metadata": {},
     "output_type": "display_data"
    },
    {
     "data": {
      "text/html": [
       "<pre style=\"white-space:pre;overflow-x:auto;line-height:normal;font-family:Menlo,'DejaVu Sans Mono',consolas,'Courier New',monospace\"><span style=\"color: #808000; text-decoration-color: #808000; font-style: italic\">        Downloading: Cr_mw99hCM6</span>\n",
       "</pre>\n"
      ],
      "text/plain": [
       "\u001b[3;33m \u001b[0m\u001b[3;33m       \u001b[0m\u001b[3;33mDownloading: Cr_mw99hCM6\u001b[0m\n"
      ]
     },
     "metadata": {},
     "output_type": "display_data"
    },
    {
     "data": {
      "text/html": [
       "<pre style=\"white-space:pre;overflow-x:auto;line-height:normal;font-family:Menlo,'DejaVu Sans Mono',consolas,'Courier New',monospace\"><span style=\"color: #00ff00; text-decoration-color: #00ff00; font-style: italic\">        Saved!</span>\n",
       "</pre>\n"
      ],
      "text/plain": [
       "\u001b[3;92m \u001b[0m\u001b[3;92m       \u001b[0m\u001b[3;92mSaved!\u001b[0m\n"
      ]
     },
     "metadata": {},
     "output_type": "display_data"
    },
    {
     "name": "stderr",
     "output_type": "stream",
     "text": [
      " 54%|█████▍    | 108/200 [02:22<14:05,  9.19s/it]"
     ]
    },
    {
     "data": {
      "text/html": [
       "<pre style=\"white-space:pre;overflow-x:auto;line-height:normal;font-family:Menlo,'DejaVu Sans Mono',consolas,'Courier New',monospace\">Getting Account Information: <span style=\"color: #008080; text-decoration-color: #008080\">telemetro</span>\n",
       "</pre>\n"
      ],
      "text/plain": [
       "Getting Account Information: \u001b[36mtelemetro\u001b[0m\n"
      ]
     },
     "metadata": {},
     "output_type": "display_data"
    },
    {
     "data": {
      "text/html": [
       "<pre style=\"white-space:pre;overflow-x:auto;line-height:normal;font-family:Menlo,'DejaVu Sans Mono',consolas,'Courier New',monospace\"><span style=\"color: #808000; text-decoration-color: #808000; font-style: italic\">        Downloading: Cr_H3m1O66d</span>\n",
       "</pre>\n"
      ],
      "text/plain": [
       "\u001b[3;33m \u001b[0m\u001b[3;33m       \u001b[0m\u001b[3;33mDownloading: Cr_H3m1O66d\u001b[0m\n"
      ]
     },
     "metadata": {},
     "output_type": "display_data"
    },
    {
     "data": {
      "text/html": [
       "<pre style=\"white-space:pre;overflow-x:auto;line-height:normal;font-family:Menlo,'DejaVu Sans Mono',consolas,'Courier New',monospace\"><span style=\"color: #00ff00; text-decoration-color: #00ff00; font-style: italic\">        Saved!</span>\n",
       "</pre>\n"
      ],
      "text/plain": [
       "\u001b[3;92m \u001b[0m\u001b[3;92m       \u001b[0m\u001b[3;92mSaved!\u001b[0m\n"
      ]
     },
     "metadata": {},
     "output_type": "display_data"
    },
    {
     "data": {
      "text/html": [
       "<pre style=\"white-space:pre;overflow-x:auto;line-height:normal;font-family:Menlo,'DejaVu Sans Mono',consolas,'Courier New',monospace\"><span style=\"color: #808000; text-decoration-color: #808000; font-style: italic\">        Downloading: Cr_rrYLv9wx</span>\n",
       "</pre>\n"
      ],
      "text/plain": [
       "\u001b[3;33m \u001b[0m\u001b[3;33m       \u001b[0m\u001b[3;33mDownloading: Cr_rrYLv9wx\u001b[0m\n"
      ]
     },
     "metadata": {},
     "output_type": "display_data"
    },
    {
     "data": {
      "text/html": [
       "<pre style=\"white-space:pre;overflow-x:auto;line-height:normal;font-family:Menlo,'DejaVu Sans Mono',consolas,'Courier New',monospace\"><span style=\"color: #00ff00; text-decoration-color: #00ff00; font-style: italic\">        Saved!</span>\n",
       "</pre>\n"
      ],
      "text/plain": [
       "\u001b[3;92m \u001b[0m\u001b[3;92m       \u001b[0m\u001b[3;92mSaved!\u001b[0m\n"
      ]
     },
     "metadata": {},
     "output_type": "display_data"
    },
    {
     "data": {
      "text/html": [
       "<pre style=\"white-space:pre;overflow-x:auto;line-height:normal;font-family:Menlo,'DejaVu Sans Mono',consolas,'Courier New',monospace\"><span style=\"color: #808000; text-decoration-color: #808000; font-style: italic\">        Downloading: Cr_nezivIAd</span>\n",
       "</pre>\n"
      ],
      "text/plain": [
       "\u001b[3;33m \u001b[0m\u001b[3;33m       \u001b[0m\u001b[3;33mDownloading: Cr_nezivIAd\u001b[0m\n"
      ]
     },
     "metadata": {},
     "output_type": "display_data"
    },
    {
     "data": {
      "text/html": [
       "<pre style=\"white-space:pre;overflow-x:auto;line-height:normal;font-family:Menlo,'DejaVu Sans Mono',consolas,'Courier New',monospace\"><span style=\"color: #00ff00; text-decoration-color: #00ff00; font-style: italic\">        Saved!</span>\n",
       "</pre>\n"
      ],
      "text/plain": [
       "\u001b[3;92m \u001b[0m\u001b[3;92m       \u001b[0m\u001b[3;92mSaved!\u001b[0m\n"
      ]
     },
     "metadata": {},
     "output_type": "display_data"
    },
    {
     "data": {
      "text/html": [
       "<pre style=\"white-space:pre;overflow-x:auto;line-height:normal;font-family:Menlo,'DejaVu Sans Mono',consolas,'Courier New',monospace\"><span style=\"color: #808000; text-decoration-color: #808000; font-style: italic\">        Downloading: CsAf8AQulfC</span>\n",
       "</pre>\n"
      ],
      "text/plain": [
       "\u001b[3;33m \u001b[0m\u001b[3;33m       \u001b[0m\u001b[3;33mDownloading: CsAf8AQulfC\u001b[0m\n"
      ]
     },
     "metadata": {},
     "output_type": "display_data"
    },
    {
     "data": {
      "text/html": [
       "<pre style=\"white-space:pre;overflow-x:auto;line-height:normal;font-family:Menlo,'DejaVu Sans Mono',consolas,'Courier New',monospace\"><span style=\"color: #00ff00; text-decoration-color: #00ff00; font-style: italic\">        Saved!</span>\n",
       "</pre>\n"
      ],
      "text/plain": [
       "\u001b[3;92m \u001b[0m\u001b[3;92m       \u001b[0m\u001b[3;92mSaved!\u001b[0m\n"
      ]
     },
     "metadata": {},
     "output_type": "display_data"
    },
    {
     "data": {
      "text/html": [
       "<pre style=\"white-space:pre;overflow-x:auto;line-height:normal;font-family:Menlo,'DejaVu Sans Mono',consolas,'Courier New',monospace\"><span style=\"color: #808000; text-decoration-color: #808000; font-style: italic\">        Downloading: CsAc4FMuJpJ</span>\n",
       "</pre>\n"
      ],
      "text/plain": [
       "\u001b[3;33m \u001b[0m\u001b[3;33m       \u001b[0m\u001b[3;33mDownloading: CsAc4FMuJpJ\u001b[0m\n"
      ]
     },
     "metadata": {},
     "output_type": "display_data"
    },
    {
     "data": {
      "text/html": [
       "<pre style=\"white-space:pre;overflow-x:auto;line-height:normal;font-family:Menlo,'DejaVu Sans Mono',consolas,'Courier New',monospace\"><span style=\"color: #00ff00; text-decoration-color: #00ff00; font-style: italic\">        Saved!</span>\n",
       "</pre>\n"
      ],
      "text/plain": [
       "\u001b[3;92m \u001b[0m\u001b[3;92m       \u001b[0m\u001b[3;92mSaved!\u001b[0m\n"
      ]
     },
     "metadata": {},
     "output_type": "display_data"
    },
    {
     "data": {
      "text/html": [
       "<pre style=\"white-space:pre;overflow-x:auto;line-height:normal;font-family:Menlo,'DejaVu Sans Mono',consolas,'Courier New',monospace\"><span style=\"color: #808000; text-decoration-color: #808000; font-style: italic\">        Downloading: CsAYePyOt3X</span>\n",
       "</pre>\n"
      ],
      "text/plain": [
       "\u001b[3;33m \u001b[0m\u001b[3;33m       \u001b[0m\u001b[3;33mDownloading: CsAYePyOt3X\u001b[0m\n"
      ]
     },
     "metadata": {},
     "output_type": "display_data"
    },
    {
     "data": {
      "text/html": [
       "<pre style=\"white-space:pre;overflow-x:auto;line-height:normal;font-family:Menlo,'DejaVu Sans Mono',consolas,'Courier New',monospace\"><span style=\"color: #00ff00; text-decoration-color: #00ff00; font-style: italic\">        Saved!</span>\n",
       "</pre>\n"
      ],
      "text/plain": [
       "\u001b[3;92m \u001b[0m\u001b[3;92m       \u001b[0m\u001b[3;92mSaved!\u001b[0m\n"
      ]
     },
     "metadata": {},
     "output_type": "display_data"
    },
    {
     "name": "stderr",
     "output_type": "stream",
     "text": [
      " 55%|█████▍    | 109/200 [02:35<14:57,  9.87s/it]"
     ]
    },
    {
     "data": {
      "text/html": [
       "<pre style=\"white-space:pre;overflow-x:auto;line-height:normal;font-family:Menlo,'DejaVu Sans Mono',consolas,'Courier New',monospace\">Getting Account Information: <span style=\"color: #008080; text-decoration-color: #008080\">bellanaijaonline</span>\n",
       "</pre>\n"
      ],
      "text/plain": [
       "Getting Account Information: \u001b[36mbellanaijaonline\u001b[0m\n"
      ]
     },
     "metadata": {},
     "output_type": "display_data"
    },
    {
     "data": {
      "text/html": [
       "<pre style=\"white-space:pre;overflow-x:auto;line-height:normal;font-family:Menlo,'DejaVu Sans Mono',consolas,'Courier New',monospace\"><span style=\"color: #808000; text-decoration-color: #808000; font-style: italic\">        Downloading: CsBL7cnr_zK</span>\n",
       "</pre>\n"
      ],
      "text/plain": [
       "\u001b[3;33m \u001b[0m\u001b[3;33m       \u001b[0m\u001b[3;33mDownloading: CsBL7cnr_zK\u001b[0m\n"
      ]
     },
     "metadata": {},
     "output_type": "display_data"
    },
    {
     "data": {
      "text/html": [
       "<pre style=\"white-space:pre;overflow-x:auto;line-height:normal;font-family:Menlo,'DejaVu Sans Mono',consolas,'Courier New',monospace\"><span style=\"color: #00ff00; text-decoration-color: #00ff00; font-style: italic\">        Saved!</span>\n",
       "</pre>\n"
      ],
      "text/plain": [
       "\u001b[3;92m \u001b[0m\u001b[3;92m       \u001b[0m\u001b[3;92mSaved!\u001b[0m\n"
      ]
     },
     "metadata": {},
     "output_type": "display_data"
    },
    {
     "data": {
      "text/html": [
       "<pre style=\"white-space:pre;overflow-x:auto;line-height:normal;font-family:Menlo,'DejaVu Sans Mono',consolas,'Courier New',monospace\"><span style=\"color: #808000; text-decoration-color: #808000; font-style: italic\">        Downloading: CsBGsFSr_5Z</span>\n",
       "</pre>\n"
      ],
      "text/plain": [
       "\u001b[3;33m \u001b[0m\u001b[3;33m       \u001b[0m\u001b[3;33mDownloading: CsBGsFSr_5Z\u001b[0m\n"
      ]
     },
     "metadata": {},
     "output_type": "display_data"
    },
    {
     "data": {
      "text/html": [
       "<pre style=\"white-space:pre;overflow-x:auto;line-height:normal;font-family:Menlo,'DejaVu Sans Mono',consolas,'Courier New',monospace\"><span style=\"color: #00ff00; text-decoration-color: #00ff00; font-style: italic\">        Saved!</span>\n",
       "</pre>\n"
      ],
      "text/plain": [
       "\u001b[3;92m \u001b[0m\u001b[3;92m       \u001b[0m\u001b[3;92mSaved!\u001b[0m\n"
      ]
     },
     "metadata": {},
     "output_type": "display_data"
    },
    {
     "data": {
      "text/html": [
       "<pre style=\"white-space:pre;overflow-x:auto;line-height:normal;font-family:Menlo,'DejaVu Sans Mono',consolas,'Courier New',monospace\"><span style=\"color: #808000; text-decoration-color: #808000; font-style: italic\">        Downloading: CsA7l4areJs</span>\n",
       "</pre>\n"
      ],
      "text/plain": [
       "\u001b[3;33m \u001b[0m\u001b[3;33m       \u001b[0m\u001b[3;33mDownloading: CsA7l4areJs\u001b[0m\n"
      ]
     },
     "metadata": {},
     "output_type": "display_data"
    },
    {
     "data": {
      "text/html": [
       "<pre style=\"white-space:pre;overflow-x:auto;line-height:normal;font-family:Menlo,'DejaVu Sans Mono',consolas,'Courier New',monospace\"><span style=\"color: #00ff00; text-decoration-color: #00ff00; font-style: italic\">        Saved!</span>\n",
       "</pre>\n"
      ],
      "text/plain": [
       "\u001b[3;92m \u001b[0m\u001b[3;92m       \u001b[0m\u001b[3;92mSaved!\u001b[0m\n"
      ]
     },
     "metadata": {},
     "output_type": "display_data"
    },
    {
     "data": {
      "text/html": [
       "<pre style=\"white-space:pre;overflow-x:auto;line-height:normal;font-family:Menlo,'DejaVu Sans Mono',consolas,'Courier New',monospace\"><span style=\"color: #808000; text-decoration-color: #808000; font-style: italic\">        Downloading: CsA5EQmLMwB</span>\n",
       "</pre>\n"
      ],
      "text/plain": [
       "\u001b[3;33m \u001b[0m\u001b[3;33m       \u001b[0m\u001b[3;33mDownloading: CsA5EQmLMwB\u001b[0m\n"
      ]
     },
     "metadata": {},
     "output_type": "display_data"
    },
    {
     "data": {
      "text/html": [
       "<pre style=\"white-space:pre;overflow-x:auto;line-height:normal;font-family:Menlo,'DejaVu Sans Mono',consolas,'Courier New',monospace\"><span style=\"color: #00ff00; text-decoration-color: #00ff00; font-style: italic\">        Saved!</span>\n",
       "</pre>\n"
      ],
      "text/plain": [
       "\u001b[3;92m \u001b[0m\u001b[3;92m       \u001b[0m\u001b[3;92mSaved!\u001b[0m\n"
      ]
     },
     "metadata": {},
     "output_type": "display_data"
    },
    {
     "data": {
      "text/html": [
       "<pre style=\"white-space:pre;overflow-x:auto;line-height:normal;font-family:Menlo,'DejaVu Sans Mono',consolas,'Courier New',monospace\"><span style=\"color: #808000; text-decoration-color: #808000; font-style: italic\">        Downloading: Cr_8ZTcohq_</span>\n",
       "</pre>\n"
      ],
      "text/plain": [
       "\u001b[3;33m \u001b[0m\u001b[3;33m       \u001b[0m\u001b[3;33mDownloading: Cr_8ZTcohq_\u001b[0m\n"
      ]
     },
     "metadata": {},
     "output_type": "display_data"
    },
    {
     "data": {
      "text/html": [
       "<pre style=\"white-space:pre;overflow-x:auto;line-height:normal;font-family:Menlo,'DejaVu Sans Mono',consolas,'Courier New',monospace\"><span style=\"color: #00ff00; text-decoration-color: #00ff00; font-style: italic\">        Saved!</span>\n",
       "</pre>\n"
      ],
      "text/plain": [
       "\u001b[3;92m \u001b[0m\u001b[3;92m       \u001b[0m\u001b[3;92mSaved!\u001b[0m\n"
      ]
     },
     "metadata": {},
     "output_type": "display_data"
    },
    {
     "data": {
      "text/html": [
       "<pre style=\"white-space:pre;overflow-x:auto;line-height:normal;font-family:Menlo,'DejaVu Sans Mono',consolas,'Courier New',monospace\"><span style=\"color: #808000; text-decoration-color: #808000; font-style: italic\">        Downloading: Cr_eQ7trFAP</span>\n",
       "</pre>\n"
      ],
      "text/plain": [
       "\u001b[3;33m \u001b[0m\u001b[3;33m       \u001b[0m\u001b[3;33mDownloading: Cr_eQ7trFAP\u001b[0m\n"
      ]
     },
     "metadata": {},
     "output_type": "display_data"
    },
    {
     "data": {
      "text/html": [
       "<pre style=\"white-space:pre;overflow-x:auto;line-height:normal;font-family:Menlo,'DejaVu Sans Mono',consolas,'Courier New',monospace\"><span style=\"color: #00ff00; text-decoration-color: #00ff00; font-style: italic\">        Saved!</span>\n",
       "</pre>\n"
      ],
      "text/plain": [
       "\u001b[3;92m \u001b[0m\u001b[3;92m       \u001b[0m\u001b[3;92mSaved!\u001b[0m\n"
      ]
     },
     "metadata": {},
     "output_type": "display_data"
    },
    {
     "data": {
      "text/html": [
       "<pre style=\"white-space:pre;overflow-x:auto;line-height:normal;font-family:Menlo,'DejaVu Sans Mono',consolas,'Courier New',monospace\"><span style=\"color: #808000; text-decoration-color: #808000; font-style: italic\">        Downloading: Cr_ORNHoKRK</span>\n",
       "</pre>\n"
      ],
      "text/plain": [
       "\u001b[3;33m \u001b[0m\u001b[3;33m       \u001b[0m\u001b[3;33mDownloading: Cr_ORNHoKRK\u001b[0m\n"
      ]
     },
     "metadata": {},
     "output_type": "display_data"
    },
    {
     "data": {
      "text/html": [
       "<pre style=\"white-space:pre;overflow-x:auto;line-height:normal;font-family:Menlo,'DejaVu Sans Mono',consolas,'Courier New',monospace\"><span style=\"color: #00ff00; text-decoration-color: #00ff00; font-style: italic\">        Saved!</span>\n",
       "</pre>\n"
      ],
      "text/plain": [
       "\u001b[3;92m \u001b[0m\u001b[3;92m       \u001b[0m\u001b[3;92mSaved!\u001b[0m\n"
      ]
     },
     "metadata": {},
     "output_type": "display_data"
    },
    {
     "data": {
      "text/html": [
       "<pre style=\"white-space:pre;overflow-x:auto;line-height:normal;font-family:Menlo,'DejaVu Sans Mono',consolas,'Courier New',monospace\"><span style=\"color: #808000; text-decoration-color: #808000; font-style: italic\">        Downloading: Cr-64C1o8OV</span>\n",
       "</pre>\n"
      ],
      "text/plain": [
       "\u001b[3;33m \u001b[0m\u001b[3;33m       \u001b[0m\u001b[3;33mDownloading: Cr-64C1o8OV\u001b[0m\n"
      ]
     },
     "metadata": {},
     "output_type": "display_data"
    },
    {
     "data": {
      "text/html": [
       "<pre style=\"white-space:pre;overflow-x:auto;line-height:normal;font-family:Menlo,'DejaVu Sans Mono',consolas,'Courier New',monospace\"><span style=\"color: #00ff00; text-decoration-color: #00ff00; font-style: italic\">        Saved!</span>\n",
       "</pre>\n"
      ],
      "text/plain": [
       "\u001b[3;92m \u001b[0m\u001b[3;92m       \u001b[0m\u001b[3;92mSaved!\u001b[0m\n"
      ]
     },
     "metadata": {},
     "output_type": "display_data"
    },
    {
     "data": {
      "text/html": [
       "<pre style=\"white-space:pre;overflow-x:auto;line-height:normal;font-family:Menlo,'DejaVu Sans Mono',consolas,'Courier New',monospace\"><span style=\"color: #808000; text-decoration-color: #808000; font-style: italic\">        Downloading: Cr-5KvQIH2R</span>\n",
       "</pre>\n"
      ],
      "text/plain": [
       "\u001b[3;33m \u001b[0m\u001b[3;33m       \u001b[0m\u001b[3;33mDownloading: Cr-5KvQIH2R\u001b[0m\n"
      ]
     },
     "metadata": {},
     "output_type": "display_data"
    },
    {
     "data": {
      "text/html": [
       "<pre style=\"white-space:pre;overflow-x:auto;line-height:normal;font-family:Menlo,'DejaVu Sans Mono',consolas,'Courier New',monospace\"><span style=\"color: #00ff00; text-decoration-color: #00ff00; font-style: italic\">        Saved!</span>\n",
       "</pre>\n"
      ],
      "text/plain": [
       "\u001b[3;92m \u001b[0m\u001b[3;92m       \u001b[0m\u001b[3;92mSaved!\u001b[0m\n"
      ]
     },
     "metadata": {},
     "output_type": "display_data"
    },
    {
     "name": "stderr",
     "output_type": "stream",
     "text": [
      " 55%|█████▌    | 110/200 [02:53<17:51, 11.90s/it]"
     ]
    },
    {
     "data": {
      "text/html": [
       "<pre style=\"white-space:pre;overflow-x:auto;line-height:normal;font-family:Menlo,'DejaVu Sans Mono',consolas,'Courier New',monospace\">Getting Account Information: <span style=\"color: #008080; text-decoration-color: #008080\">fashionnova</span>\n",
       "</pre>\n"
      ],
      "text/plain": [
       "Getting Account Information: \u001b[36mfashionnova\u001b[0m\n"
      ]
     },
     "metadata": {},
     "output_type": "display_data"
    },
    {
     "data": {
      "text/html": [
       "<pre style=\"white-space:pre;overflow-x:auto;line-height:normal;font-family:Menlo,'DejaVu Sans Mono',consolas,'Courier New',monospace\"><span style=\"color: #808000; text-decoration-color: #808000; font-style: italic\">        Downloading: CsAeKIWou8F</span>\n",
       "</pre>\n"
      ],
      "text/plain": [
       "\u001b[3;33m \u001b[0m\u001b[3;33m       \u001b[0m\u001b[3;33mDownloading: CsAeKIWou8F\u001b[0m\n"
      ]
     },
     "metadata": {},
     "output_type": "display_data"
    },
    {
     "data": {
      "text/html": [
       "<pre style=\"white-space:pre;overflow-x:auto;line-height:normal;font-family:Menlo,'DejaVu Sans Mono',consolas,'Courier New',monospace\"><span style=\"color: #00ff00; text-decoration-color: #00ff00; font-style: italic\">        Saved!</span>\n",
       "</pre>\n"
      ],
      "text/plain": [
       "\u001b[3;92m \u001b[0m\u001b[3;92m       \u001b[0m\u001b[3;92mSaved!\u001b[0m\n"
      ]
     },
     "metadata": {},
     "output_type": "display_data"
    },
    {
     "data": {
      "text/html": [
       "<pre style=\"white-space:pre;overflow-x:auto;line-height:normal;font-family:Menlo,'DejaVu Sans Mono',consolas,'Courier New',monospace\"><span style=\"color: #808000; text-decoration-color: #808000; font-style: italic\">        Downloading: CsAY_mANT6k</span>\n",
       "</pre>\n"
      ],
      "text/plain": [
       "\u001b[3;33m \u001b[0m\u001b[3;33m       \u001b[0m\u001b[3;33mDownloading: CsAY_mANT6k\u001b[0m\n"
      ]
     },
     "metadata": {},
     "output_type": "display_data"
    },
    {
     "data": {
      "text/html": [
       "<pre style=\"white-space:pre;overflow-x:auto;line-height:normal;font-family:Menlo,'DejaVu Sans Mono',consolas,'Courier New',monospace\"><span style=\"color: #00ff00; text-decoration-color: #00ff00; font-style: italic\">        Saved!</span>\n",
       "</pre>\n"
      ],
      "text/plain": [
       "\u001b[3;92m \u001b[0m\u001b[3;92m       \u001b[0m\u001b[3;92mSaved!\u001b[0m\n"
      ]
     },
     "metadata": {},
     "output_type": "display_data"
    },
    {
     "data": {
      "text/html": [
       "<pre style=\"white-space:pre;overflow-x:auto;line-height:normal;font-family:Menlo,'DejaVu Sans Mono',consolas,'Courier New',monospace\"><span style=\"color: #808000; text-decoration-color: #808000; font-style: italic\">        Downloading: CsAOsNwM-7z</span>\n",
       "</pre>\n"
      ],
      "text/plain": [
       "\u001b[3;33m \u001b[0m\u001b[3;33m       \u001b[0m\u001b[3;33mDownloading: CsAOsNwM-7z\u001b[0m\n"
      ]
     },
     "metadata": {},
     "output_type": "display_data"
    },
    {
     "data": {
      "text/html": [
       "<pre style=\"white-space:pre;overflow-x:auto;line-height:normal;font-family:Menlo,'DejaVu Sans Mono',consolas,'Courier New',monospace\"><span style=\"color: #00ff00; text-decoration-color: #00ff00; font-style: italic\">        Saved!</span>\n",
       "</pre>\n"
      ],
      "text/plain": [
       "\u001b[3;92m \u001b[0m\u001b[3;92m       \u001b[0m\u001b[3;92mSaved!\u001b[0m\n"
      ]
     },
     "metadata": {},
     "output_type": "display_data"
    },
    {
     "data": {
      "text/html": [
       "<pre style=\"white-space:pre;overflow-x:auto;line-height:normal;font-family:Menlo,'DejaVu Sans Mono',consolas,'Courier New',monospace\"><span style=\"color: #808000; text-decoration-color: #808000; font-style: italic\">        Downloading: CsAEZFbsv7E</span>\n",
       "</pre>\n"
      ],
      "text/plain": [
       "\u001b[3;33m \u001b[0m\u001b[3;33m       \u001b[0m\u001b[3;33mDownloading: CsAEZFbsv7E\u001b[0m\n"
      ]
     },
     "metadata": {},
     "output_type": "display_data"
    },
    {
     "data": {
      "text/html": [
       "<pre style=\"white-space:pre;overflow-x:auto;line-height:normal;font-family:Menlo,'DejaVu Sans Mono',consolas,'Courier New',monospace\"><span style=\"color: #00ff00; text-decoration-color: #00ff00; font-style: italic\">        Saved!</span>\n",
       "</pre>\n"
      ],
      "text/plain": [
       "\u001b[3;92m \u001b[0m\u001b[3;92m       \u001b[0m\u001b[3;92mSaved!\u001b[0m\n"
      ]
     },
     "metadata": {},
     "output_type": "display_data"
    },
    {
     "data": {
      "text/html": [
       "<pre style=\"white-space:pre;overflow-x:auto;line-height:normal;font-family:Menlo,'DejaVu Sans Mono',consolas,'Courier New',monospace\"><span style=\"color: #808000; text-decoration-color: #808000; font-style: italic\">        Downloading: Cr_6F-MpdCE</span>\n",
       "</pre>\n"
      ],
      "text/plain": [
       "\u001b[3;33m \u001b[0m\u001b[3;33m       \u001b[0m\u001b[3;33mDownloading: Cr_6F-MpdCE\u001b[0m\n"
      ]
     },
     "metadata": {},
     "output_type": "display_data"
    },
    {
     "data": {
      "text/html": [
       "<pre style=\"white-space:pre;overflow-x:auto;line-height:normal;font-family:Menlo,'DejaVu Sans Mono',consolas,'Courier New',monospace\"><span style=\"color: #00ff00; text-decoration-color: #00ff00; font-style: italic\">        Saved!</span>\n",
       "</pre>\n"
      ],
      "text/plain": [
       "\u001b[3;92m \u001b[0m\u001b[3;92m       \u001b[0m\u001b[3;92mSaved!\u001b[0m\n"
      ]
     },
     "metadata": {},
     "output_type": "display_data"
    },
    {
     "name": "stderr",
     "output_type": "stream",
     "text": [
      " 56%|█████▌    | 111/200 [03:13<20:19, 13.71s/it]"
     ]
    },
    {
     "data": {
      "text/html": [
       "<pre style=\"white-space:pre;overflow-x:auto;line-height:normal;font-family:Menlo,'DejaVu Sans Mono',consolas,'Courier New',monospace\">Getting Account Information: <span style=\"color: #008080; text-decoration-color: #008080\">3meed_news</span>\n",
       "</pre>\n"
      ],
      "text/plain": [
       "Getting Account Information: \u001b[36m3meed_news\u001b[0m\n"
      ]
     },
     "metadata": {},
     "output_type": "display_data"
    },
    {
     "data": {
      "text/html": [
       "<pre style=\"white-space:pre;overflow-x:auto;line-height:normal;font-family:Menlo,'DejaVu Sans Mono',consolas,'Courier New',monospace\"><span style=\"color: #808000; text-decoration-color: #808000; font-style: italic\">        Downloading: CsBL9dVPH1j</span>\n",
       "</pre>\n"
      ],
      "text/plain": [
       "\u001b[3;33m \u001b[0m\u001b[3;33m       \u001b[0m\u001b[3;33mDownloading: CsBL9dVPH1j\u001b[0m\n"
      ]
     },
     "metadata": {},
     "output_type": "display_data"
    },
    {
     "data": {
      "text/html": [
       "<pre style=\"white-space:pre;overflow-x:auto;line-height:normal;font-family:Menlo,'DejaVu Sans Mono',consolas,'Courier New',monospace\"><span style=\"color: #00ff00; text-decoration-color: #00ff00; font-style: italic\">        Saved!</span>\n",
       "</pre>\n"
      ],
      "text/plain": [
       "\u001b[3;92m \u001b[0m\u001b[3;92m       \u001b[0m\u001b[3;92mSaved!\u001b[0m\n"
      ]
     },
     "metadata": {},
     "output_type": "display_data"
    },
    {
     "data": {
      "text/html": [
       "<pre style=\"white-space:pre;overflow-x:auto;line-height:normal;font-family:Menlo,'DejaVu Sans Mono',consolas,'Courier New',monospace\"><span style=\"color: #808000; text-decoration-color: #808000; font-style: italic\">        Downloading: CsBFTtivGSc</span>\n",
       "</pre>\n"
      ],
      "text/plain": [
       "\u001b[3;33m \u001b[0m\u001b[3;33m       \u001b[0m\u001b[3;33mDownloading: CsBFTtivGSc\u001b[0m\n"
      ]
     },
     "metadata": {},
     "output_type": "display_data"
    },
    {
     "data": {
      "text/html": [
       "<pre style=\"white-space:pre;overflow-x:auto;line-height:normal;font-family:Menlo,'DejaVu Sans Mono',consolas,'Courier New',monospace\"><span style=\"color: #00ff00; text-decoration-color: #00ff00; font-style: italic\">        Saved!</span>\n",
       "</pre>\n"
      ],
      "text/plain": [
       "\u001b[3;92m \u001b[0m\u001b[3;92m       \u001b[0m\u001b[3;92mSaved!\u001b[0m\n"
      ]
     },
     "metadata": {},
     "output_type": "display_data"
    },
    {
     "data": {
      "text/html": [
       "<pre style=\"white-space:pre;overflow-x:auto;line-height:normal;font-family:Menlo,'DejaVu Sans Mono',consolas,'Courier New',monospace\"><span style=\"color: #808000; text-decoration-color: #808000; font-style: italic\">        Downloading: CsBCXXhvd2C</span>\n",
       "</pre>\n"
      ],
      "text/plain": [
       "\u001b[3;33m \u001b[0m\u001b[3;33m       \u001b[0m\u001b[3;33mDownloading: CsBCXXhvd2C\u001b[0m\n"
      ]
     },
     "metadata": {},
     "output_type": "display_data"
    },
    {
     "data": {
      "text/html": [
       "<pre style=\"white-space:pre;overflow-x:auto;line-height:normal;font-family:Menlo,'DejaVu Sans Mono',consolas,'Courier New',monospace\"><span style=\"color: #00ff00; text-decoration-color: #00ff00; font-style: italic\">        Saved!</span>\n",
       "</pre>\n"
      ],
      "text/plain": [
       "\u001b[3;92m \u001b[0m\u001b[3;92m       \u001b[0m\u001b[3;92mSaved!\u001b[0m\n"
      ]
     },
     "metadata": {},
     "output_type": "display_data"
    },
    {
     "data": {
      "text/html": [
       "<pre style=\"white-space:pre;overflow-x:auto;line-height:normal;font-family:Menlo,'DejaVu Sans Mono',consolas,'Courier New',monospace\"><span style=\"color: #808000; text-decoration-color: #808000; font-style: italic\">        Downloading: CsA_evYvo9V</span>\n",
       "</pre>\n"
      ],
      "text/plain": [
       "\u001b[3;33m \u001b[0m\u001b[3;33m       \u001b[0m\u001b[3;33mDownloading: CsA_evYvo9V\u001b[0m\n"
      ]
     },
     "metadata": {},
     "output_type": "display_data"
    },
    {
     "data": {
      "text/html": [
       "<pre style=\"white-space:pre;overflow-x:auto;line-height:normal;font-family:Menlo,'DejaVu Sans Mono',consolas,'Courier New',monospace\"><span style=\"color: #00ff00; text-decoration-color: #00ff00; font-style: italic\">        Saved!</span>\n",
       "</pre>\n"
      ],
      "text/plain": [
       "\u001b[3;92m \u001b[0m\u001b[3;92m       \u001b[0m\u001b[3;92mSaved!\u001b[0m\n"
      ]
     },
     "metadata": {},
     "output_type": "display_data"
    },
    {
     "data": {
      "text/html": [
       "<pre style=\"white-space:pre;overflow-x:auto;line-height:normal;font-family:Menlo,'DejaVu Sans Mono',consolas,'Courier New',monospace\"><span style=\"color: #808000; text-decoration-color: #808000; font-style: italic\">        Downloading: CsA5gY-PieA</span>\n",
       "</pre>\n"
      ],
      "text/plain": [
       "\u001b[3;33m \u001b[0m\u001b[3;33m       \u001b[0m\u001b[3;33mDownloading: CsA5gY-PieA\u001b[0m\n"
      ]
     },
     "metadata": {},
     "output_type": "display_data"
    },
    {
     "data": {
      "text/html": [
       "<pre style=\"white-space:pre;overflow-x:auto;line-height:normal;font-family:Menlo,'DejaVu Sans Mono',consolas,'Courier New',monospace\"><span style=\"color: #00ff00; text-decoration-color: #00ff00; font-style: italic\">        Saved!</span>\n",
       "</pre>\n"
      ],
      "text/plain": [
       "\u001b[3;92m \u001b[0m\u001b[3;92m       \u001b[0m\u001b[3;92mSaved!\u001b[0m\n"
      ]
     },
     "metadata": {},
     "output_type": "display_data"
    },
    {
     "data": {
      "text/html": [
       "<pre style=\"white-space:pre;overflow-x:auto;line-height:normal;font-family:Menlo,'DejaVu Sans Mono',consolas,'Courier New',monospace\"><span style=\"color: #808000; text-decoration-color: #808000; font-style: italic\">        Downloading: Cr_lYhEv_tO</span>\n",
       "</pre>\n"
      ],
      "text/plain": [
       "\u001b[3;33m \u001b[0m\u001b[3;33m       \u001b[0m\u001b[3;33mDownloading: Cr_lYhEv_tO\u001b[0m\n"
      ]
     },
     "metadata": {},
     "output_type": "display_data"
    },
    {
     "data": {
      "text/html": [
       "<pre style=\"white-space:pre;overflow-x:auto;line-height:normal;font-family:Menlo,'DejaVu Sans Mono',consolas,'Courier New',monospace\"><span style=\"color: #00ff00; text-decoration-color: #00ff00; font-style: italic\">        Saved!</span>\n",
       "</pre>\n"
      ],
      "text/plain": [
       "\u001b[3;92m \u001b[0m\u001b[3;92m       \u001b[0m\u001b[3;92mSaved!\u001b[0m\n"
      ]
     },
     "metadata": {},
     "output_type": "display_data"
    },
    {
     "data": {
      "text/html": [
       "<pre style=\"white-space:pre;overflow-x:auto;line-height:normal;font-family:Menlo,'DejaVu Sans Mono',consolas,'Courier New',monospace\"><span style=\"color: #808000; text-decoration-color: #808000; font-style: italic\">        Downloading: Cr_agYBvmRL</span>\n",
       "</pre>\n"
      ],
      "text/plain": [
       "\u001b[3;33m \u001b[0m\u001b[3;33m       \u001b[0m\u001b[3;33mDownloading: Cr_agYBvmRL\u001b[0m\n"
      ]
     },
     "metadata": {},
     "output_type": "display_data"
    },
    {
     "data": {
      "text/html": [
       "<pre style=\"white-space:pre;overflow-x:auto;line-height:normal;font-family:Menlo,'DejaVu Sans Mono',consolas,'Courier New',monospace\"><span style=\"color: #00ff00; text-decoration-color: #00ff00; font-style: italic\">        Saved!</span>\n",
       "</pre>\n"
      ],
      "text/plain": [
       "\u001b[3;92m \u001b[0m\u001b[3;92m       \u001b[0m\u001b[3;92mSaved!\u001b[0m\n"
      ]
     },
     "metadata": {},
     "output_type": "display_data"
    },
    {
     "data": {
      "text/html": [
       "<pre style=\"white-space:pre;overflow-x:auto;line-height:normal;font-family:Menlo,'DejaVu Sans Mono',consolas,'Courier New',monospace\"><span style=\"color: #808000; text-decoration-color: #808000; font-style: italic\">        Downloading: Cr_V_61vepT</span>\n",
       "</pre>\n"
      ],
      "text/plain": [
       "\u001b[3;33m \u001b[0m\u001b[3;33m       \u001b[0m\u001b[3;33mDownloading: Cr_V_61vepT\u001b[0m\n"
      ]
     },
     "metadata": {},
     "output_type": "display_data"
    },
    {
     "data": {
      "text/html": [
       "<pre style=\"white-space:pre;overflow-x:auto;line-height:normal;font-family:Menlo,'DejaVu Sans Mono',consolas,'Courier New',monospace\"><span style=\"color: #00ff00; text-decoration-color: #00ff00; font-style: italic\">        Saved!</span>\n",
       "</pre>\n"
      ],
      "text/plain": [
       "\u001b[3;92m \u001b[0m\u001b[3;92m       \u001b[0m\u001b[3;92mSaved!\u001b[0m\n"
      ]
     },
     "metadata": {},
     "output_type": "display_data"
    },
    {
     "data": {
      "text/html": [
       "<pre style=\"white-space:pre;overflow-x:auto;line-height:normal;font-family:Menlo,'DejaVu Sans Mono',consolas,'Courier New',monospace\"><span style=\"color: #808000; text-decoration-color: #808000; font-style: italic\">        Downloading: Cr_LmtyPem6</span>\n",
       "</pre>\n"
      ],
      "text/plain": [
       "\u001b[3;33m \u001b[0m\u001b[3;33m       \u001b[0m\u001b[3;33mDownloading: Cr_LmtyPem6\u001b[0m\n"
      ]
     },
     "metadata": {},
     "output_type": "display_data"
    },
    {
     "data": {
      "text/html": [
       "<pre style=\"white-space:pre;overflow-x:auto;line-height:normal;font-family:Menlo,'DejaVu Sans Mono',consolas,'Courier New',monospace\"><span style=\"color: #00ff00; text-decoration-color: #00ff00; font-style: italic\">        Saved!</span>\n",
       "</pre>\n"
      ],
      "text/plain": [
       "\u001b[3;92m \u001b[0m\u001b[3;92m       \u001b[0m\u001b[3;92mSaved!\u001b[0m\n"
      ]
     },
     "metadata": {},
     "output_type": "display_data"
    },
    {
     "data": {
      "text/html": [
       "<pre style=\"white-space:pre;overflow-x:auto;line-height:normal;font-family:Menlo,'DejaVu Sans Mono',consolas,'Courier New',monospace\"><span style=\"color: #808000; text-decoration-color: #808000; font-style: italic\">        Downloading: Cr_FxMDvx4D</span>\n",
       "</pre>\n"
      ],
      "text/plain": [
       "\u001b[3;33m \u001b[0m\u001b[3;33m       \u001b[0m\u001b[3;33mDownloading: Cr_FxMDvx4D\u001b[0m\n"
      ]
     },
     "metadata": {},
     "output_type": "display_data"
    },
    {
     "data": {
      "text/html": [
       "<pre style=\"white-space:pre;overflow-x:auto;line-height:normal;font-family:Menlo,'DejaVu Sans Mono',consolas,'Courier New',monospace\"><span style=\"color: #00ff00; text-decoration-color: #00ff00; font-style: italic\">        Saved!</span>\n",
       "</pre>\n"
      ],
      "text/plain": [
       "\u001b[3;92m \u001b[0m\u001b[3;92m       \u001b[0m\u001b[3;92mSaved!\u001b[0m\n"
      ]
     },
     "metadata": {},
     "output_type": "display_data"
    },
    {
     "data": {
      "text/html": [
       "<pre style=\"white-space:pre;overflow-x:auto;line-height:normal;font-family:Menlo,'DejaVu Sans Mono',consolas,'Courier New',monospace\"><span style=\"color: #808000; text-decoration-color: #808000; font-style: italic\">        Downloading: Cr-rYCeP2hJ</span>\n",
       "</pre>\n"
      ],
      "text/plain": [
       "\u001b[3;33m \u001b[0m\u001b[3;33m       \u001b[0m\u001b[3;33mDownloading: Cr-rYCeP2hJ\u001b[0m\n"
      ]
     },
     "metadata": {},
     "output_type": "display_data"
    },
    {
     "data": {
      "text/html": [
       "<pre style=\"white-space:pre;overflow-x:auto;line-height:normal;font-family:Menlo,'DejaVu Sans Mono',consolas,'Courier New',monospace\"><span style=\"color: #00ff00; text-decoration-color: #00ff00; font-style: italic\">        Saved!</span>\n",
       "</pre>\n"
      ],
      "text/plain": [
       "\u001b[3;92m \u001b[0m\u001b[3;92m       \u001b[0m\u001b[3;92mSaved!\u001b[0m\n"
      ]
     },
     "metadata": {},
     "output_type": "display_data"
    },
    {
     "name": "stderr",
     "output_type": "stream",
     "text": [
      " 56%|█████▌    | 112/200 [03:25<19:41, 13.43s/it]"
     ]
    },
    {
     "data": {
      "text/html": [
       "<pre style=\"white-space:pre;overflow-x:auto;line-height:normal;font-family:Menlo,'DejaVu Sans Mono',consolas,'Courier New',monospace\">Getting Account Information: <span style=\"color: #008080; text-decoration-color: #008080\">melodia_musik</span>\n",
       "</pre>\n"
      ],
      "text/plain": [
       "Getting Account Information: \u001b[36mmelodia_musik\u001b[0m\n"
      ]
     },
     "metadata": {},
     "output_type": "display_data"
    },
    {
     "data": {
      "text/html": [
       "<pre style=\"white-space:pre;overflow-x:auto;line-height:normal;font-family:Menlo,'DejaVu Sans Mono',consolas,'Courier New',monospace\"><span style=\"color: #808000; text-decoration-color: #808000; font-style: italic\">        Downloading: Cr0OxnNBrcc</span>\n",
       "</pre>\n"
      ],
      "text/plain": [
       "\u001b[3;33m \u001b[0m\u001b[3;33m       \u001b[0m\u001b[3;33mDownloading: Cr0OxnNBrcc\u001b[0m\n"
      ]
     },
     "metadata": {},
     "output_type": "display_data"
    },
    {
     "data": {
      "text/html": [
       "<pre style=\"white-space:pre;overflow-x:auto;line-height:normal;font-family:Menlo,'DejaVu Sans Mono',consolas,'Courier New',monospace\"><span style=\"color: #00ff00; text-decoration-color: #00ff00; font-style: italic\">        Saved!</span>\n",
       "</pre>\n"
      ],
      "text/plain": [
       "\u001b[3;92m \u001b[0m\u001b[3;92m       \u001b[0m\u001b[3;92mSaved!\u001b[0m\n"
      ]
     },
     "metadata": {},
     "output_type": "display_data"
    },
    {
     "data": {
      "text/html": [
       "<pre style=\"white-space:pre;overflow-x:auto;line-height:normal;font-family:Menlo,'DejaVu Sans Mono',consolas,'Courier New',monospace\"><span style=\"color: #808000; text-decoration-color: #808000; font-style: italic\">        Downloading: CsA-rw0Jtbc</span>\n",
       "</pre>\n"
      ],
      "text/plain": [
       "\u001b[3;33m \u001b[0m\u001b[3;33m       \u001b[0m\u001b[3;33mDownloading: CsA-rw0Jtbc\u001b[0m\n"
      ]
     },
     "metadata": {},
     "output_type": "display_data"
    },
    {
     "data": {
      "text/html": [
       "<pre style=\"white-space:pre;overflow-x:auto;line-height:normal;font-family:Menlo,'DejaVu Sans Mono',consolas,'Courier New',monospace\"><span style=\"color: #00ff00; text-decoration-color: #00ff00; font-style: italic\">        Saved!</span>\n",
       "</pre>\n"
      ],
      "text/plain": [
       "\u001b[3;92m \u001b[0m\u001b[3;92m       \u001b[0m\u001b[3;92mSaved!\u001b[0m\n"
      ]
     },
     "metadata": {},
     "output_type": "display_data"
    },
    {
     "data": {
      "text/html": [
       "<pre style=\"white-space:pre;overflow-x:auto;line-height:normal;font-family:Menlo,'DejaVu Sans Mono',consolas,'Courier New',monospace\"><span style=\"color: #808000; text-decoration-color: #808000; font-style: italic\">        Downloading: CsAvTE_BTyt</span>\n",
       "</pre>\n"
      ],
      "text/plain": [
       "\u001b[3;33m \u001b[0m\u001b[3;33m       \u001b[0m\u001b[3;33mDownloading: CsAvTE_BTyt\u001b[0m\n"
      ]
     },
     "metadata": {},
     "output_type": "display_data"
    },
    {
     "data": {
      "text/html": [
       "<pre style=\"white-space:pre;overflow-x:auto;line-height:normal;font-family:Menlo,'DejaVu Sans Mono',consolas,'Courier New',monospace\"><span style=\"color: #00ff00; text-decoration-color: #00ff00; font-style: italic\">        Saved!</span>\n",
       "</pre>\n"
      ],
      "text/plain": [
       "\u001b[3;92m \u001b[0m\u001b[3;92m       \u001b[0m\u001b[3;92mSaved!\u001b[0m\n"
      ]
     },
     "metadata": {},
     "output_type": "display_data"
    },
    {
     "data": {
      "text/html": [
       "<pre style=\"white-space:pre;overflow-x:auto;line-height:normal;font-family:Menlo,'DejaVu Sans Mono',consolas,'Courier New',monospace\"><span style=\"color: #808000; text-decoration-color: #808000; font-style: italic\">        Downloading: CsAnhECpHZ6</span>\n",
       "</pre>\n"
      ],
      "text/plain": [
       "\u001b[3;33m \u001b[0m\u001b[3;33m       \u001b[0m\u001b[3;33mDownloading: CsAnhECpHZ6\u001b[0m\n"
      ]
     },
     "metadata": {},
     "output_type": "display_data"
    },
    {
     "data": {
      "text/html": [
       "<pre style=\"white-space:pre;overflow-x:auto;line-height:normal;font-family:Menlo,'DejaVu Sans Mono',consolas,'Courier New',monospace\"><span style=\"color: #00ff00; text-decoration-color: #00ff00; font-style: italic\">        Saved!</span>\n",
       "</pre>\n"
      ],
      "text/plain": [
       "\u001b[3;92m \u001b[0m\u001b[3;92m       \u001b[0m\u001b[3;92mSaved!\u001b[0m\n"
      ]
     },
     "metadata": {},
     "output_type": "display_data"
    },
    {
     "data": {
      "text/html": [
       "<pre style=\"white-space:pre;overflow-x:auto;line-height:normal;font-family:Menlo,'DejaVu Sans Mono',consolas,'Courier New',monospace\"><span style=\"color: #808000; text-decoration-color: #808000; font-style: italic\">        Downloading: CsAmor2J83E</span>\n",
       "</pre>\n"
      ],
      "text/plain": [
       "\u001b[3;33m \u001b[0m\u001b[3;33m       \u001b[0m\u001b[3;33mDownloading: CsAmor2J83E\u001b[0m\n"
      ]
     },
     "metadata": {},
     "output_type": "display_data"
    },
    {
     "data": {
      "text/html": [
       "<pre style=\"white-space:pre;overflow-x:auto;line-height:normal;font-family:Menlo,'DejaVu Sans Mono',consolas,'Courier New',monospace\"><span style=\"color: #00ff00; text-decoration-color: #00ff00; font-style: italic\">        Saved!</span>\n",
       "</pre>\n"
      ],
      "text/plain": [
       "\u001b[3;92m \u001b[0m\u001b[3;92m       \u001b[0m\u001b[3;92mSaved!\u001b[0m\n"
      ]
     },
     "metadata": {},
     "output_type": "display_data"
    },
    {
     "data": {
      "text/html": [
       "<pre style=\"white-space:pre;overflow-x:auto;line-height:normal;font-family:Menlo,'DejaVu Sans Mono',consolas,'Courier New',monospace\"><span style=\"color: #808000; text-decoration-color: #808000; font-style: italic\">        Downloading: CsAmgxPJdyJ</span>\n",
       "</pre>\n"
      ],
      "text/plain": [
       "\u001b[3;33m \u001b[0m\u001b[3;33m       \u001b[0m\u001b[3;33mDownloading: CsAmgxPJdyJ\u001b[0m\n"
      ]
     },
     "metadata": {},
     "output_type": "display_data"
    },
    {
     "data": {
      "text/html": [
       "<pre style=\"white-space:pre;overflow-x:auto;line-height:normal;font-family:Menlo,'DejaVu Sans Mono',consolas,'Courier New',monospace\"><span style=\"color: #00ff00; text-decoration-color: #00ff00; font-style: italic\">        Saved!</span>\n",
       "</pre>\n"
      ],
      "text/plain": [
       "\u001b[3;92m \u001b[0m\u001b[3;92m       \u001b[0m\u001b[3;92mSaved!\u001b[0m\n"
      ]
     },
     "metadata": {},
     "output_type": "display_data"
    },
    {
     "data": {
      "text/html": [
       "<pre style=\"white-space:pre;overflow-x:auto;line-height:normal;font-family:Menlo,'DejaVu Sans Mono',consolas,'Courier New',monospace\"><span style=\"color: #808000; text-decoration-color: #808000; font-style: italic\">        Downloading: CsAmS3iJb66</span>\n",
       "</pre>\n"
      ],
      "text/plain": [
       "\u001b[3;33m \u001b[0m\u001b[3;33m       \u001b[0m\u001b[3;33mDownloading: CsAmS3iJb66\u001b[0m\n"
      ]
     },
     "metadata": {},
     "output_type": "display_data"
    },
    {
     "data": {
      "text/html": [
       "<pre style=\"white-space:pre;overflow-x:auto;line-height:normal;font-family:Menlo,'DejaVu Sans Mono',consolas,'Courier New',monospace\"><span style=\"color: #00ff00; text-decoration-color: #00ff00; font-style: italic\">        Saved!</span>\n",
       "</pre>\n"
      ],
      "text/plain": [
       "\u001b[3;92m \u001b[0m\u001b[3;92m       \u001b[0m\u001b[3;92mSaved!\u001b[0m\n"
      ]
     },
     "metadata": {},
     "output_type": "display_data"
    },
    {
     "data": {
      "text/html": [
       "<pre style=\"white-space:pre;overflow-x:auto;line-height:normal;font-family:Menlo,'DejaVu Sans Mono',consolas,'Courier New',monospace\"><span style=\"color: #808000; text-decoration-color: #808000; font-style: italic\">        Downloading: CsAmNvJpfM4</span>\n",
       "</pre>\n"
      ],
      "text/plain": [
       "\u001b[3;33m \u001b[0m\u001b[3;33m       \u001b[0m\u001b[3;33mDownloading: CsAmNvJpfM4\u001b[0m\n"
      ]
     },
     "metadata": {},
     "output_type": "display_data"
    },
    {
     "data": {
      "text/html": [
       "<pre style=\"white-space:pre;overflow-x:auto;line-height:normal;font-family:Menlo,'DejaVu Sans Mono',consolas,'Courier New',monospace\"><span style=\"color: #00ff00; text-decoration-color: #00ff00; font-style: italic\">        Saved!</span>\n",
       "</pre>\n"
      ],
      "text/plain": [
       "\u001b[3;92m \u001b[0m\u001b[3;92m       \u001b[0m\u001b[3;92mSaved!\u001b[0m\n"
      ]
     },
     "metadata": {},
     "output_type": "display_data"
    },
    {
     "data": {
      "text/html": [
       "<pre style=\"white-space:pre;overflow-x:auto;line-height:normal;font-family:Menlo,'DejaVu Sans Mono',consolas,'Courier New',monospace\"><span style=\"color: #808000; text-decoration-color: #808000; font-style: italic\">        Downloading: CsAmKKXJur0</span>\n",
       "</pre>\n"
      ],
      "text/plain": [
       "\u001b[3;33m \u001b[0m\u001b[3;33m       \u001b[0m\u001b[3;33mDownloading: CsAmKKXJur0\u001b[0m\n"
      ]
     },
     "metadata": {},
     "output_type": "display_data"
    },
    {
     "data": {
      "text/html": [
       "<pre style=\"white-space:pre;overflow-x:auto;line-height:normal;font-family:Menlo,'DejaVu Sans Mono',consolas,'Courier New',monospace\"><span style=\"color: #00ff00; text-decoration-color: #00ff00; font-style: italic\">        Saved!</span>\n",
       "</pre>\n"
      ],
      "text/plain": [
       "\u001b[3;92m \u001b[0m\u001b[3;92m       \u001b[0m\u001b[3;92mSaved!\u001b[0m\n"
      ]
     },
     "metadata": {},
     "output_type": "display_data"
    },
    {
     "name": "stderr",
     "output_type": "stream",
     "text": [
      " 56%|█████▋    | 113/200 [03:40<20:07, 13.88s/it]"
     ]
    },
    {
     "data": {
      "text/html": [
       "<pre style=\"white-space:pre;overflow-x:auto;line-height:normal;font-family:Menlo,'DejaVu Sans Mono',consolas,'Courier New',monospace\">Getting Account Information: <span style=\"color: #008080; text-decoration-color: #008080\">aboutcirebonid</span>\n",
       "</pre>\n"
      ],
      "text/plain": [
       "Getting Account Information: \u001b[36maboutcirebonid\u001b[0m\n"
      ]
     },
     "metadata": {},
     "output_type": "display_data"
    },
    {
     "data": {
      "text/html": [
       "<pre style=\"white-space:pre;overflow-x:auto;line-height:normal;font-family:Menlo,'DejaVu Sans Mono',consolas,'Courier New',monospace\"><span style=\"color: #808000; text-decoration-color: #808000; font-style: italic\">        Downloading: CsBRpXPNN1k</span>\n",
       "</pre>\n"
      ],
      "text/plain": [
       "\u001b[3;33m \u001b[0m\u001b[3;33m       \u001b[0m\u001b[3;33mDownloading: CsBRpXPNN1k\u001b[0m\n"
      ]
     },
     "metadata": {},
     "output_type": "display_data"
    },
    {
     "data": {
      "text/html": [
       "<pre style=\"white-space:pre;overflow-x:auto;line-height:normal;font-family:Menlo,'DejaVu Sans Mono',consolas,'Courier New',monospace\"><span style=\"color: #00ff00; text-decoration-color: #00ff00; font-style: italic\">        Saved!</span>\n",
       "</pre>\n"
      ],
      "text/plain": [
       "\u001b[3;92m \u001b[0m\u001b[3;92m       \u001b[0m\u001b[3;92mSaved!\u001b[0m\n"
      ]
     },
     "metadata": {},
     "output_type": "display_data"
    },
    {
     "data": {
      "text/html": [
       "<pre style=\"white-space:pre;overflow-x:auto;line-height:normal;font-family:Menlo,'DejaVu Sans Mono',consolas,'Courier New',monospace\"><span style=\"color: #808000; text-decoration-color: #808000; font-style: italic\">        Downloading: CsBD6iWNaxd</span>\n",
       "</pre>\n"
      ],
      "text/plain": [
       "\u001b[3;33m \u001b[0m\u001b[3;33m       \u001b[0m\u001b[3;33mDownloading: CsBD6iWNaxd\u001b[0m\n"
      ]
     },
     "metadata": {},
     "output_type": "display_data"
    },
    {
     "data": {
      "text/html": [
       "<pre style=\"white-space:pre;overflow-x:auto;line-height:normal;font-family:Menlo,'DejaVu Sans Mono',consolas,'Courier New',monospace\"><span style=\"color: #00ff00; text-decoration-color: #00ff00; font-style: italic\">        Saved!</span>\n",
       "</pre>\n"
      ],
      "text/plain": [
       "\u001b[3;92m \u001b[0m\u001b[3;92m       \u001b[0m\u001b[3;92mSaved!\u001b[0m\n"
      ]
     },
     "metadata": {},
     "output_type": "display_data"
    },
    {
     "data": {
      "text/html": [
       "<pre style=\"white-space:pre;overflow-x:auto;line-height:normal;font-family:Menlo,'DejaVu Sans Mono',consolas,'Courier New',monospace\"><span style=\"color: #808000; text-decoration-color: #808000; font-style: italic\">        Downloading: CsA9GWapqqz</span>\n",
       "</pre>\n"
      ],
      "text/plain": [
       "\u001b[3;33m \u001b[0m\u001b[3;33m       \u001b[0m\u001b[3;33mDownloading: CsA9GWapqqz\u001b[0m\n"
      ]
     },
     "metadata": {},
     "output_type": "display_data"
    },
    {
     "data": {
      "text/html": [
       "<pre style=\"white-space:pre;overflow-x:auto;line-height:normal;font-family:Menlo,'DejaVu Sans Mono',consolas,'Courier New',monospace\"><span style=\"color: #00ff00; text-decoration-color: #00ff00; font-style: italic\">        Saved!</span>\n",
       "</pre>\n"
      ],
      "text/plain": [
       "\u001b[3;92m \u001b[0m\u001b[3;92m       \u001b[0m\u001b[3;92mSaved!\u001b[0m\n"
      ]
     },
     "metadata": {},
     "output_type": "display_data"
    },
    {
     "data": {
      "text/html": [
       "<pre style=\"white-space:pre;overflow-x:auto;line-height:normal;font-family:Menlo,'DejaVu Sans Mono',consolas,'Courier New',monospace\"><span style=\"color: #808000; text-decoration-color: #808000; font-style: italic\">        Downloading: CsA2Mo3pDhx</span>\n",
       "</pre>\n"
      ],
      "text/plain": [
       "\u001b[3;33m \u001b[0m\u001b[3;33m       \u001b[0m\u001b[3;33mDownloading: CsA2Mo3pDhx\u001b[0m\n"
      ]
     },
     "metadata": {},
     "output_type": "display_data"
    },
    {
     "data": {
      "text/html": [
       "<pre style=\"white-space:pre;overflow-x:auto;line-height:normal;font-family:Menlo,'DejaVu Sans Mono',consolas,'Courier New',monospace\"><span style=\"color: #00ff00; text-decoration-color: #00ff00; font-style: italic\">        Saved!</span>\n",
       "</pre>\n"
      ],
      "text/plain": [
       "\u001b[3;92m \u001b[0m\u001b[3;92m       \u001b[0m\u001b[3;92mSaved!\u001b[0m\n"
      ]
     },
     "metadata": {},
     "output_type": "display_data"
    },
    {
     "data": {
      "text/html": [
       "<pre style=\"white-space:pre;overflow-x:auto;line-height:normal;font-family:Menlo,'DejaVu Sans Mono',consolas,'Courier New',monospace\"><span style=\"color: #808000; text-decoration-color: #808000; font-style: italic\">        Downloading: CsA1BOipAlA</span>\n",
       "</pre>\n"
      ],
      "text/plain": [
       "\u001b[3;33m \u001b[0m\u001b[3;33m       \u001b[0m\u001b[3;33mDownloading: CsA1BOipAlA\u001b[0m\n"
      ]
     },
     "metadata": {},
     "output_type": "display_data"
    },
    {
     "data": {
      "text/html": [
       "<pre style=\"white-space:pre;overflow-x:auto;line-height:normal;font-family:Menlo,'DejaVu Sans Mono',consolas,'Courier New',monospace\"><span style=\"color: #00ff00; text-decoration-color: #00ff00; font-style: italic\">        Saved!</span>\n",
       "</pre>\n"
      ],
      "text/plain": [
       "\u001b[3;92m \u001b[0m\u001b[3;92m       \u001b[0m\u001b[3;92mSaved!\u001b[0m\n"
      ]
     },
     "metadata": {},
     "output_type": "display_data"
    },
    {
     "data": {
      "text/html": [
       "<pre style=\"white-space:pre;overflow-x:auto;line-height:normal;font-family:Menlo,'DejaVu Sans Mono',consolas,'Courier New',monospace\"><span style=\"color: #808000; text-decoration-color: #808000; font-style: italic\">        Downloading: CsAoOdtPSwK</span>\n",
       "</pre>\n"
      ],
      "text/plain": [
       "\u001b[3;33m \u001b[0m\u001b[3;33m       \u001b[0m\u001b[3;33mDownloading: CsAoOdtPSwK\u001b[0m\n"
      ]
     },
     "metadata": {},
     "output_type": "display_data"
    },
    {
     "data": {
      "text/html": [
       "<pre style=\"white-space:pre;overflow-x:auto;line-height:normal;font-family:Menlo,'DejaVu Sans Mono',consolas,'Courier New',monospace\"><span style=\"color: #00ff00; text-decoration-color: #00ff00; font-style: italic\">        Saved!</span>\n",
       "</pre>\n"
      ],
      "text/plain": [
       "\u001b[3;92m \u001b[0m\u001b[3;92m       \u001b[0m\u001b[3;92mSaved!\u001b[0m\n"
      ]
     },
     "metadata": {},
     "output_type": "display_data"
    },
    {
     "data": {
      "text/html": [
       "<pre style=\"white-space:pre;overflow-x:auto;line-height:normal;font-family:Menlo,'DejaVu Sans Mono',consolas,'Courier New',monospace\"><span style=\"color: #808000; text-decoration-color: #808000; font-style: italic\">        Downloading: CsAZmmgpwC3</span>\n",
       "</pre>\n"
      ],
      "text/plain": [
       "\u001b[3;33m \u001b[0m\u001b[3;33m       \u001b[0m\u001b[3;33mDownloading: CsAZmmgpwC3\u001b[0m\n"
      ]
     },
     "metadata": {},
     "output_type": "display_data"
    },
    {
     "data": {
      "text/html": [
       "<pre style=\"white-space:pre;overflow-x:auto;line-height:normal;font-family:Menlo,'DejaVu Sans Mono',consolas,'Courier New',monospace\"><span style=\"color: #00ff00; text-decoration-color: #00ff00; font-style: italic\">        Saved!</span>\n",
       "</pre>\n"
      ],
      "text/plain": [
       "\u001b[3;92m \u001b[0m\u001b[3;92m       \u001b[0m\u001b[3;92mSaved!\u001b[0m\n"
      ]
     },
     "metadata": {},
     "output_type": "display_data"
    },
    {
     "data": {
      "text/html": [
       "<pre style=\"white-space:pre;overflow-x:auto;line-height:normal;font-family:Menlo,'DejaVu Sans Mono',consolas,'Courier New',monospace\"><span style=\"color: #808000; text-decoration-color: #808000; font-style: italic\">        Downloading: CsANDsLJ42V</span>\n",
       "</pre>\n"
      ],
      "text/plain": [
       "\u001b[3;33m \u001b[0m\u001b[3;33m       \u001b[0m\u001b[3;33mDownloading: CsANDsLJ42V\u001b[0m\n"
      ]
     },
     "metadata": {},
     "output_type": "display_data"
    },
    {
     "data": {
      "text/html": [
       "<pre style=\"white-space:pre;overflow-x:auto;line-height:normal;font-family:Menlo,'DejaVu Sans Mono',consolas,'Courier New',monospace\"><span style=\"color: #00ff00; text-decoration-color: #00ff00; font-style: italic\">        Saved!</span>\n",
       "</pre>\n"
      ],
      "text/plain": [
       "\u001b[3;92m \u001b[0m\u001b[3;92m       \u001b[0m\u001b[3;92mSaved!\u001b[0m\n"
      ]
     },
     "metadata": {},
     "output_type": "display_data"
    },
    {
     "name": "stderr",
     "output_type": "stream",
     "text": [
      " 57%|█████▋    | 114/200 [03:53<19:28, 13.59s/it]"
     ]
    },
    {
     "data": {
      "text/html": [
       "<pre style=\"white-space:pre;overflow-x:auto;line-height:normal;font-family:Menlo,'DejaVu Sans Mono',consolas,'Courier New',monospace\">Getting Account Information: <span style=\"color: #008080; text-decoration-color: #008080\">infodenpasar</span>\n",
       "</pre>\n"
      ],
      "text/plain": [
       "Getting Account Information: \u001b[36minfodenpasar\u001b[0m\n"
      ]
     },
     "metadata": {},
     "output_type": "display_data"
    },
    {
     "data": {
      "text/html": [
       "<pre style=\"white-space:pre;overflow-x:auto;line-height:normal;font-family:Menlo,'DejaVu Sans Mono',consolas,'Courier New',monospace\"><span style=\"color: #808000; text-decoration-color: #808000; font-style: italic\">        Downloading: CsBOzrdr_FU</span>\n",
       "</pre>\n"
      ],
      "text/plain": [
       "\u001b[3;33m \u001b[0m\u001b[3;33m       \u001b[0m\u001b[3;33mDownloading: CsBOzrdr_FU\u001b[0m\n"
      ]
     },
     "metadata": {},
     "output_type": "display_data"
    },
    {
     "data": {
      "text/html": [
       "<pre style=\"white-space:pre;overflow-x:auto;line-height:normal;font-family:Menlo,'DejaVu Sans Mono',consolas,'Courier New',monospace\"><span style=\"color: #00ff00; text-decoration-color: #00ff00; font-style: italic\">        Saved!</span>\n",
       "</pre>\n"
      ],
      "text/plain": [
       "\u001b[3;92m \u001b[0m\u001b[3;92m       \u001b[0m\u001b[3;92mSaved!\u001b[0m\n"
      ]
     },
     "metadata": {},
     "output_type": "display_data"
    },
    {
     "data": {
      "text/html": [
       "<pre style=\"white-space:pre;overflow-x:auto;line-height:normal;font-family:Menlo,'DejaVu Sans Mono',consolas,'Courier New',monospace\"><span style=\"color: #808000; text-decoration-color: #808000; font-style: italic\">        Downloading: CsBGK3-L2dE</span>\n",
       "</pre>\n"
      ],
      "text/plain": [
       "\u001b[3;33m \u001b[0m\u001b[3;33m       \u001b[0m\u001b[3;33mDownloading: CsBGK3-L2dE\u001b[0m\n"
      ]
     },
     "metadata": {},
     "output_type": "display_data"
    },
    {
     "data": {
      "text/html": [
       "<pre style=\"white-space:pre;overflow-x:auto;line-height:normal;font-family:Menlo,'DejaVu Sans Mono',consolas,'Courier New',monospace\"><span style=\"color: #00ff00; text-decoration-color: #00ff00; font-style: italic\">        Saved!</span>\n",
       "</pre>\n"
      ],
      "text/plain": [
       "\u001b[3;92m \u001b[0m\u001b[3;92m       \u001b[0m\u001b[3;92mSaved!\u001b[0m\n"
      ]
     },
     "metadata": {},
     "output_type": "display_data"
    },
    {
     "data": {
      "text/html": [
       "<pre style=\"white-space:pre;overflow-x:auto;line-height:normal;font-family:Menlo,'DejaVu Sans Mono',consolas,'Courier New',monospace\"><span style=\"color: #808000; text-decoration-color: #808000; font-style: italic\">        Downloading: CsA-hzeO2S1</span>\n",
       "</pre>\n"
      ],
      "text/plain": [
       "\u001b[3;33m \u001b[0m\u001b[3;33m       \u001b[0m\u001b[3;33mDownloading: CsA-hzeO2S1\u001b[0m\n"
      ]
     },
     "metadata": {},
     "output_type": "display_data"
    },
    {
     "data": {
      "text/html": [
       "<pre style=\"white-space:pre;overflow-x:auto;line-height:normal;font-family:Menlo,'DejaVu Sans Mono',consolas,'Courier New',monospace\"><span style=\"color: #00ff00; text-decoration-color: #00ff00; font-style: italic\">        Saved!</span>\n",
       "</pre>\n"
      ],
      "text/plain": [
       "\u001b[3;92m \u001b[0m\u001b[3;92m       \u001b[0m\u001b[3;92mSaved!\u001b[0m\n"
      ]
     },
     "metadata": {},
     "output_type": "display_data"
    },
    {
     "data": {
      "text/html": [
       "<pre style=\"white-space:pre;overflow-x:auto;line-height:normal;font-family:Menlo,'DejaVu Sans Mono',consolas,'Courier New',monospace\"><span style=\"color: #808000; text-decoration-color: #808000; font-style: italic\">        Downloading: CsA5_aDOEj6</span>\n",
       "</pre>\n"
      ],
      "text/plain": [
       "\u001b[3;33m \u001b[0m\u001b[3;33m       \u001b[0m\u001b[3;33mDownloading: CsA5_aDOEj6\u001b[0m\n"
      ]
     },
     "metadata": {},
     "output_type": "display_data"
    },
    {
     "data": {
      "text/html": [
       "<pre style=\"white-space:pre;overflow-x:auto;line-height:normal;font-family:Menlo,'DejaVu Sans Mono',consolas,'Courier New',monospace\"><span style=\"color: #00ff00; text-decoration-color: #00ff00; font-style: italic\">        Saved!</span>\n",
       "</pre>\n"
      ],
      "text/plain": [
       "\u001b[3;92m \u001b[0m\u001b[3;92m       \u001b[0m\u001b[3;92mSaved!\u001b[0m\n"
      ]
     },
     "metadata": {},
     "output_type": "display_data"
    },
    {
     "data": {
      "text/html": [
       "<pre style=\"white-space:pre;overflow-x:auto;line-height:normal;font-family:Menlo,'DejaVu Sans Mono',consolas,'Courier New',monospace\"><span style=\"color: #808000; text-decoration-color: #808000; font-style: italic\">        Downloading: CsA07ZsrrYC</span>\n",
       "</pre>\n"
      ],
      "text/plain": [
       "\u001b[3;33m \u001b[0m\u001b[3;33m       \u001b[0m\u001b[3;33mDownloading: CsA07ZsrrYC\u001b[0m\n"
      ]
     },
     "metadata": {},
     "output_type": "display_data"
    },
    {
     "data": {
      "text/html": [
       "<pre style=\"white-space:pre;overflow-x:auto;line-height:normal;font-family:Menlo,'DejaVu Sans Mono',consolas,'Courier New',monospace\"><span style=\"color: #00ff00; text-decoration-color: #00ff00; font-style: italic\">        Saved!</span>\n",
       "</pre>\n"
      ],
      "text/plain": [
       "\u001b[3;92m \u001b[0m\u001b[3;92m       \u001b[0m\u001b[3;92mSaved!\u001b[0m\n"
      ]
     },
     "metadata": {},
     "output_type": "display_data"
    },
    {
     "data": {
      "text/html": [
       "<pre style=\"white-space:pre;overflow-x:auto;line-height:normal;font-family:Menlo,'DejaVu Sans Mono',consolas,'Courier New',monospace\"><span style=\"color: #808000; text-decoration-color: #808000; font-style: italic\">        Downloading: CsAsU_WL56O</span>\n",
       "</pre>\n"
      ],
      "text/plain": [
       "\u001b[3;33m \u001b[0m\u001b[3;33m       \u001b[0m\u001b[3;33mDownloading: CsAsU_WL56O\u001b[0m\n"
      ]
     },
     "metadata": {},
     "output_type": "display_data"
    },
    {
     "data": {
      "text/html": [
       "<pre style=\"white-space:pre;overflow-x:auto;line-height:normal;font-family:Menlo,'DejaVu Sans Mono',consolas,'Courier New',monospace\"><span style=\"color: #00ff00; text-decoration-color: #00ff00; font-style: italic\">        Saved!</span>\n",
       "</pre>\n"
      ],
      "text/plain": [
       "\u001b[3;92m \u001b[0m\u001b[3;92m       \u001b[0m\u001b[3;92mSaved!\u001b[0m\n"
      ]
     },
     "metadata": {},
     "output_type": "display_data"
    },
    {
     "data": {
      "text/html": [
       "<pre style=\"white-space:pre;overflow-x:auto;line-height:normal;font-family:Menlo,'DejaVu Sans Mono',consolas,'Courier New',monospace\"><span style=\"color: #808000; text-decoration-color: #808000; font-style: italic\">        Downloading: CsAjoJ1rYSB</span>\n",
       "</pre>\n"
      ],
      "text/plain": [
       "\u001b[3;33m \u001b[0m\u001b[3;33m       \u001b[0m\u001b[3;33mDownloading: CsAjoJ1rYSB\u001b[0m\n"
      ]
     },
     "metadata": {},
     "output_type": "display_data"
    },
    {
     "data": {
      "text/html": [
       "<pre style=\"white-space:pre;overflow-x:auto;line-height:normal;font-family:Menlo,'DejaVu Sans Mono',consolas,'Courier New',monospace\"><span style=\"color: #00ff00; text-decoration-color: #00ff00; font-style: italic\">        Saved!</span>\n",
       "</pre>\n"
      ],
      "text/plain": [
       "\u001b[3;92m \u001b[0m\u001b[3;92m       \u001b[0m\u001b[3;92mSaved!\u001b[0m\n"
      ]
     },
     "metadata": {},
     "output_type": "display_data"
    },
    {
     "name": "stderr",
     "output_type": "stream",
     "text": [
      " 57%|█████▊    | 115/200 [04:05<18:34, 13.11s/it]"
     ]
    },
    {
     "data": {
      "text/html": [
       "<pre style=\"white-space:pre;overflow-x:auto;line-height:normal;font-family:Menlo,'DejaVu Sans Mono',consolas,'Courier New',monospace\">Getting Account Information: <span style=\"color: #008080; text-decoration-color: #008080\">radiofarda</span>\n",
       "</pre>\n"
      ],
      "text/plain": [
       "Getting Account Information: \u001b[36mradiofarda\u001b[0m\n"
      ]
     },
     "metadata": {},
     "output_type": "display_data"
    },
    {
     "data": {
      "text/html": [
       "<pre style=\"white-space:pre;overflow-x:auto;line-height:normal;font-family:Menlo,'DejaVu Sans Mono',consolas,'Courier New',monospace\"><span style=\"color: #808000; text-decoration-color: #808000; font-style: italic\">        Downloading: CsBAFc_IE8u</span>\n",
       "</pre>\n"
      ],
      "text/plain": [
       "\u001b[3;33m \u001b[0m\u001b[3;33m       \u001b[0m\u001b[3;33mDownloading: CsBAFc_IE8u\u001b[0m\n"
      ]
     },
     "metadata": {},
     "output_type": "display_data"
    },
    {
     "data": {
      "text/html": [
       "<pre style=\"white-space:pre;overflow-x:auto;line-height:normal;font-family:Menlo,'DejaVu Sans Mono',consolas,'Courier New',monospace\"><span style=\"color: #00ff00; text-decoration-color: #00ff00; font-style: italic\">        Saved!</span>\n",
       "</pre>\n"
      ],
      "text/plain": [
       "\u001b[3;92m \u001b[0m\u001b[3;92m       \u001b[0m\u001b[3;92mSaved!\u001b[0m\n"
      ]
     },
     "metadata": {},
     "output_type": "display_data"
    },
    {
     "data": {
      "text/html": [
       "<pre style=\"white-space:pre;overflow-x:auto;line-height:normal;font-family:Menlo,'DejaVu Sans Mono',consolas,'Courier New',monospace\"><span style=\"color: #808000; text-decoration-color: #808000; font-style: italic\">        Downloading: CsBKr31IWCz</span>\n",
       "</pre>\n"
      ],
      "text/plain": [
       "\u001b[3;33m \u001b[0m\u001b[3;33m       \u001b[0m\u001b[3;33mDownloading: CsBKr31IWCz\u001b[0m\n"
      ]
     },
     "metadata": {},
     "output_type": "display_data"
    },
    {
     "data": {
      "text/html": [
       "<pre style=\"white-space:pre;overflow-x:auto;line-height:normal;font-family:Menlo,'DejaVu Sans Mono',consolas,'Courier New',monospace\"><span style=\"color: #00ff00; text-decoration-color: #00ff00; font-style: italic\">        Saved!</span>\n",
       "</pre>\n"
      ],
      "text/plain": [
       "\u001b[3;92m \u001b[0m\u001b[3;92m       \u001b[0m\u001b[3;92mSaved!\u001b[0m\n"
      ]
     },
     "metadata": {},
     "output_type": "display_data"
    },
    {
     "data": {
      "text/html": [
       "<pre style=\"white-space:pre;overflow-x:auto;line-height:normal;font-family:Menlo,'DejaVu Sans Mono',consolas,'Courier New',monospace\"><span style=\"color: #808000; text-decoration-color: #808000; font-style: italic\">        Downloading: CsBHC-qIcES</span>\n",
       "</pre>\n"
      ],
      "text/plain": [
       "\u001b[3;33m \u001b[0m\u001b[3;33m       \u001b[0m\u001b[3;33mDownloading: CsBHC-qIcES\u001b[0m\n"
      ]
     },
     "metadata": {},
     "output_type": "display_data"
    },
    {
     "data": {
      "text/html": [
       "<pre style=\"white-space:pre;overflow-x:auto;line-height:normal;font-family:Menlo,'DejaVu Sans Mono',consolas,'Courier New',monospace\"><span style=\"color: #00ff00; text-decoration-color: #00ff00; font-style: italic\">        Saved!</span>\n",
       "</pre>\n"
      ],
      "text/plain": [
       "\u001b[3;92m \u001b[0m\u001b[3;92m       \u001b[0m\u001b[3;92mSaved!\u001b[0m\n"
      ]
     },
     "metadata": {},
     "output_type": "display_data"
    },
    {
     "data": {
      "text/html": [
       "<pre style=\"white-space:pre;overflow-x:auto;line-height:normal;font-family:Menlo,'DejaVu Sans Mono',consolas,'Courier New',monospace\"><span style=\"color: #808000; text-decoration-color: #808000; font-style: italic\">        Downloading: CsBF1EYonaD</span>\n",
       "</pre>\n"
      ],
      "text/plain": [
       "\u001b[3;33m \u001b[0m\u001b[3;33m       \u001b[0m\u001b[3;33mDownloading: CsBF1EYonaD\u001b[0m\n"
      ]
     },
     "metadata": {},
     "output_type": "display_data"
    },
    {
     "data": {
      "text/html": [
       "<pre style=\"white-space:pre;overflow-x:auto;line-height:normal;font-family:Menlo,'DejaVu Sans Mono',consolas,'Courier New',monospace\"><span style=\"color: #00ff00; text-decoration-color: #00ff00; font-style: italic\">        Saved!</span>\n",
       "</pre>\n"
      ],
      "text/plain": [
       "\u001b[3;92m \u001b[0m\u001b[3;92m       \u001b[0m\u001b[3;92mSaved!\u001b[0m\n"
      ]
     },
     "metadata": {},
     "output_type": "display_data"
    },
    {
     "data": {
      "text/html": [
       "<pre style=\"white-space:pre;overflow-x:auto;line-height:normal;font-family:Menlo,'DejaVu Sans Mono',consolas,'Courier New',monospace\"><span style=\"color: #808000; text-decoration-color: #808000; font-style: italic\">        Downloading: CsA_IfBIbm6</span>\n",
       "</pre>\n"
      ],
      "text/plain": [
       "\u001b[3;33m \u001b[0m\u001b[3;33m       \u001b[0m\u001b[3;33mDownloading: CsA_IfBIbm6\u001b[0m\n"
      ]
     },
     "metadata": {},
     "output_type": "display_data"
    },
    {
     "data": {
      "text/html": [
       "<pre style=\"white-space:pre;overflow-x:auto;line-height:normal;font-family:Menlo,'DejaVu Sans Mono',consolas,'Courier New',monospace\"><span style=\"color: #00ff00; text-decoration-color: #00ff00; font-style: italic\">        Saved!</span>\n",
       "</pre>\n"
      ],
      "text/plain": [
       "\u001b[3;92m \u001b[0m\u001b[3;92m       \u001b[0m\u001b[3;92mSaved!\u001b[0m\n"
      ]
     },
     "metadata": {},
     "output_type": "display_data"
    },
    {
     "data": {
      "text/html": [
       "<pre style=\"white-space:pre;overflow-x:auto;line-height:normal;font-family:Menlo,'DejaVu Sans Mono',consolas,'Courier New',monospace\"><span style=\"color: #808000; text-decoration-color: #808000; font-style: italic\">        Downloading: CsA8VQkoK7p</span>\n",
       "</pre>\n"
      ],
      "text/plain": [
       "\u001b[3;33m \u001b[0m\u001b[3;33m       \u001b[0m\u001b[3;33mDownloading: CsA8VQkoK7p\u001b[0m\n"
      ]
     },
     "metadata": {},
     "output_type": "display_data"
    },
    {
     "data": {
      "text/html": [
       "<pre style=\"white-space:pre;overflow-x:auto;line-height:normal;font-family:Menlo,'DejaVu Sans Mono',consolas,'Courier New',monospace\"><span style=\"color: #00ff00; text-decoration-color: #00ff00; font-style: italic\">        Saved!</span>\n",
       "</pre>\n"
      ],
      "text/plain": [
       "\u001b[3;92m \u001b[0m\u001b[3;92m       \u001b[0m\u001b[3;92mSaved!\u001b[0m\n"
      ]
     },
     "metadata": {},
     "output_type": "display_data"
    },
    {
     "data": {
      "text/html": [
       "<pre style=\"white-space:pre;overflow-x:auto;line-height:normal;font-family:Menlo,'DejaVu Sans Mono',consolas,'Courier New',monospace\"><span style=\"color: #808000; text-decoration-color: #808000; font-style: italic\">        Downloading: CsA7qcYoKja</span>\n",
       "</pre>\n"
      ],
      "text/plain": [
       "\u001b[3;33m \u001b[0m\u001b[3;33m       \u001b[0m\u001b[3;33mDownloading: CsA7qcYoKja\u001b[0m\n"
      ]
     },
     "metadata": {},
     "output_type": "display_data"
    },
    {
     "data": {
      "text/html": [
       "<pre style=\"white-space:pre;overflow-x:auto;line-height:normal;font-family:Menlo,'DejaVu Sans Mono',consolas,'Courier New',monospace\"><span style=\"color: #00ff00; text-decoration-color: #00ff00; font-style: italic\">        Saved!</span>\n",
       "</pre>\n"
      ],
      "text/plain": [
       "\u001b[3;92m \u001b[0m\u001b[3;92m       \u001b[0m\u001b[3;92mSaved!\u001b[0m\n"
      ]
     },
     "metadata": {},
     "output_type": "display_data"
    },
    {
     "data": {
      "text/html": [
       "<pre style=\"white-space:pre;overflow-x:auto;line-height:normal;font-family:Menlo,'DejaVu Sans Mono',consolas,'Courier New',monospace\"><span style=\"color: #808000; text-decoration-color: #808000; font-style: italic\">        Downloading: CsA5ggNoihd</span>\n",
       "</pre>\n"
      ],
      "text/plain": [
       "\u001b[3;33m \u001b[0m\u001b[3;33m       \u001b[0m\u001b[3;33mDownloading: CsA5ggNoihd\u001b[0m\n"
      ]
     },
     "metadata": {},
     "output_type": "display_data"
    },
    {
     "data": {
      "text/html": [
       "<pre style=\"white-space:pre;overflow-x:auto;line-height:normal;font-family:Menlo,'DejaVu Sans Mono',consolas,'Courier New',monospace\"><span style=\"color: #00ff00; text-decoration-color: #00ff00; font-style: italic\">        Saved!</span>\n",
       "</pre>\n"
      ],
      "text/plain": [
       "\u001b[3;92m \u001b[0m\u001b[3;92m       \u001b[0m\u001b[3;92mSaved!\u001b[0m\n"
      ]
     },
     "metadata": {},
     "output_type": "display_data"
    },
    {
     "data": {
      "text/html": [
       "<pre style=\"white-space:pre;overflow-x:auto;line-height:normal;font-family:Menlo,'DejaVu Sans Mono',consolas,'Courier New',monospace\"><span style=\"color: #808000; text-decoration-color: #808000; font-style: italic\">        Downloading: CsA1_2bo8Ch</span>\n",
       "</pre>\n"
      ],
      "text/plain": [
       "\u001b[3;33m \u001b[0m\u001b[3;33m       \u001b[0m\u001b[3;33mDownloading: CsA1_2bo8Ch\u001b[0m\n"
      ]
     },
     "metadata": {},
     "output_type": "display_data"
    },
    {
     "data": {
      "text/html": [
       "<pre style=\"white-space:pre;overflow-x:auto;line-height:normal;font-family:Menlo,'DejaVu Sans Mono',consolas,'Courier New',monospace\"><span style=\"color: #00ff00; text-decoration-color: #00ff00; font-style: italic\">        Saved!</span>\n",
       "</pre>\n"
      ],
      "text/plain": [
       "\u001b[3;92m \u001b[0m\u001b[3;92m       \u001b[0m\u001b[3;92mSaved!\u001b[0m\n"
      ]
     },
     "metadata": {},
     "output_type": "display_data"
    },
    {
     "data": {
      "text/html": [
       "<pre style=\"white-space:pre;overflow-x:auto;line-height:normal;font-family:Menlo,'DejaVu Sans Mono',consolas,'Courier New',monospace\"><span style=\"color: #808000; text-decoration-color: #808000; font-style: italic\">        Downloading: CsAtDqZIZu5</span>\n",
       "</pre>\n"
      ],
      "text/plain": [
       "\u001b[3;33m \u001b[0m\u001b[3;33m       \u001b[0m\u001b[3;33mDownloading: CsAtDqZIZu5\u001b[0m\n"
      ]
     },
     "metadata": {},
     "output_type": "display_data"
    },
    {
     "data": {
      "text/html": [
       "<pre style=\"white-space:pre;overflow-x:auto;line-height:normal;font-family:Menlo,'DejaVu Sans Mono',consolas,'Courier New',monospace\"><span style=\"color: #00ff00; text-decoration-color: #00ff00; font-style: italic\">        Saved!</span>\n",
       "</pre>\n"
      ],
      "text/plain": [
       "\u001b[3;92m \u001b[0m\u001b[3;92m       \u001b[0m\u001b[3;92mSaved!\u001b[0m\n"
      ]
     },
     "metadata": {},
     "output_type": "display_data"
    },
    {
     "name": "stderr",
     "output_type": "stream",
     "text": [
      " 58%|█████▊    | 116/200 [04:17<17:49, 12.74s/it]"
     ]
    },
    {
     "data": {
      "text/html": [
       "<pre style=\"white-space:pre;overflow-x:auto;line-height:normal;font-family:Menlo,'DejaVu Sans Mono',consolas,'Courier New',monospace\">Getting Account Information: <span style=\"color: #008080; text-decoration-color: #008080\">instantbollywood</span>\n",
       "</pre>\n"
      ],
      "text/plain": [
       "Getting Account Information: \u001b[36minstantbollywood\u001b[0m\n"
      ]
     },
     "metadata": {},
     "output_type": "display_data"
    },
    {
     "data": {
      "text/html": [
       "<pre style=\"white-space:pre;overflow-x:auto;line-height:normal;font-family:Menlo,'DejaVu Sans Mono',consolas,'Courier New',monospace\"><span style=\"color: #808000; text-decoration-color: #808000; font-style: italic\">        Downloading: CsBRBe3tZDB</span>\n",
       "</pre>\n"
      ],
      "text/plain": [
       "\u001b[3;33m \u001b[0m\u001b[3;33m       \u001b[0m\u001b[3;33mDownloading: CsBRBe3tZDB\u001b[0m\n"
      ]
     },
     "metadata": {},
     "output_type": "display_data"
    },
    {
     "data": {
      "text/html": [
       "<pre style=\"white-space:pre;overflow-x:auto;line-height:normal;font-family:Menlo,'DejaVu Sans Mono',consolas,'Courier New',monospace\"><span style=\"color: #00ff00; text-decoration-color: #00ff00; font-style: italic\">        Saved!</span>\n",
       "</pre>\n"
      ],
      "text/plain": [
       "\u001b[3;92m \u001b[0m\u001b[3;92m       \u001b[0m\u001b[3;92mSaved!\u001b[0m\n"
      ]
     },
     "metadata": {},
     "output_type": "display_data"
    },
    {
     "data": {
      "text/html": [
       "<pre style=\"white-space:pre;overflow-x:auto;line-height:normal;font-family:Menlo,'DejaVu Sans Mono',consolas,'Courier New',monospace\"><span style=\"color: #808000; text-decoration-color: #808000; font-style: italic\">        Downloading: CsA5sejLVW4</span>\n",
       "</pre>\n"
      ],
      "text/plain": [
       "\u001b[3;33m \u001b[0m\u001b[3;33m       \u001b[0m\u001b[3;33mDownloading: CsA5sejLVW4\u001b[0m\n"
      ]
     },
     "metadata": {},
     "output_type": "display_data"
    },
    {
     "data": {
      "text/html": [
       "<pre style=\"white-space:pre;overflow-x:auto;line-height:normal;font-family:Menlo,'DejaVu Sans Mono',consolas,'Courier New',monospace\"><span style=\"color: #00ff00; text-decoration-color: #00ff00; font-style: italic\">        Saved!</span>\n",
       "</pre>\n"
      ],
      "text/plain": [
       "\u001b[3;92m \u001b[0m\u001b[3;92m       \u001b[0m\u001b[3;92mSaved!\u001b[0m\n"
      ]
     },
     "metadata": {},
     "output_type": "display_data"
    },
    {
     "data": {
      "text/html": [
       "<pre style=\"white-space:pre;overflow-x:auto;line-height:normal;font-family:Menlo,'DejaVu Sans Mono',consolas,'Courier New',monospace\"><span style=\"color: #808000; text-decoration-color: #808000; font-style: italic\">        Downloading: CsA4dD7rh4a</span>\n",
       "</pre>\n"
      ],
      "text/plain": [
       "\u001b[3;33m \u001b[0m\u001b[3;33m       \u001b[0m\u001b[3;33mDownloading: CsA4dD7rh4a\u001b[0m\n"
      ]
     },
     "metadata": {},
     "output_type": "display_data"
    },
    {
     "data": {
      "text/html": [
       "<pre style=\"white-space:pre;overflow-x:auto;line-height:normal;font-family:Menlo,'DejaVu Sans Mono',consolas,'Courier New',monospace\"><span style=\"color: #00ff00; text-decoration-color: #00ff00; font-style: italic\">        Saved!</span>\n",
       "</pre>\n"
      ],
      "text/plain": [
       "\u001b[3;92m \u001b[0m\u001b[3;92m       \u001b[0m\u001b[3;92mSaved!\u001b[0m\n"
      ]
     },
     "metadata": {},
     "output_type": "display_data"
    },
    {
     "name": "stderr",
     "output_type": "stream",
     "text": [
      " 58%|█████▊    | 117/200 [04:23<14:49, 10.72s/it]"
     ]
    },
    {
     "data": {
      "text/html": [
       "<pre style=\"white-space:pre;overflow-x:auto;line-height:normal;font-family:Menlo,'DejaVu Sans Mono',consolas,'Courier New',monospace\">Getting Account Information: <span style=\"color: #008080; text-decoration-color: #008080\">iranintltv</span>\n",
       "</pre>\n"
      ],
      "text/plain": [
       "Getting Account Information: \u001b[36miranintltv\u001b[0m\n"
      ]
     },
     "metadata": {},
     "output_type": "display_data"
    },
    {
     "data": {
      "text/html": [
       "<pre style=\"white-space:pre;overflow-x:auto;line-height:normal;font-family:Menlo,'DejaVu Sans Mono',consolas,'Courier New',monospace\"><span style=\"color: #808000; text-decoration-color: #808000; font-style: italic\">        Downloading: CsBRsDdsV48</span>\n",
       "</pre>\n"
      ],
      "text/plain": [
       "\u001b[3;33m \u001b[0m\u001b[3;33m       \u001b[0m\u001b[3;33mDownloading: CsBRsDdsV48\u001b[0m\n"
      ]
     },
     "metadata": {},
     "output_type": "display_data"
    },
    {
     "data": {
      "text/html": [
       "<pre style=\"white-space:pre;overflow-x:auto;line-height:normal;font-family:Menlo,'DejaVu Sans Mono',consolas,'Courier New',monospace\"><span style=\"color: #00ff00; text-decoration-color: #00ff00; font-style: italic\">        Saved!</span>\n",
       "</pre>\n"
      ],
      "text/plain": [
       "\u001b[3;92m \u001b[0m\u001b[3;92m       \u001b[0m\u001b[3;92mSaved!\u001b[0m\n"
      ]
     },
     "metadata": {},
     "output_type": "display_data"
    },
    {
     "data": {
      "text/html": [
       "<pre style=\"white-space:pre;overflow-x:auto;line-height:normal;font-family:Menlo,'DejaVu Sans Mono',consolas,'Courier New',monospace\"><span style=\"color: #808000; text-decoration-color: #808000; font-style: italic\">        Downloading: CsBOQWnOFFI</span>\n",
       "</pre>\n"
      ],
      "text/plain": [
       "\u001b[3;33m \u001b[0m\u001b[3;33m       \u001b[0m\u001b[3;33mDownloading: CsBOQWnOFFI\u001b[0m\n"
      ]
     },
     "metadata": {},
     "output_type": "display_data"
    },
    {
     "data": {
      "text/html": [
       "<pre style=\"white-space:pre;overflow-x:auto;line-height:normal;font-family:Menlo,'DejaVu Sans Mono',consolas,'Courier New',monospace\"><span style=\"color: #00ff00; text-decoration-color: #00ff00; font-style: italic\">        Saved!</span>\n",
       "</pre>\n"
      ],
      "text/plain": [
       "\u001b[3;92m \u001b[0m\u001b[3;92m       \u001b[0m\u001b[3;92mSaved!\u001b[0m\n"
      ]
     },
     "metadata": {},
     "output_type": "display_data"
    },
    {
     "data": {
      "text/html": [
       "<pre style=\"white-space:pre;overflow-x:auto;line-height:normal;font-family:Menlo,'DejaVu Sans Mono',consolas,'Courier New',monospace\"><span style=\"color: #808000; text-decoration-color: #808000; font-style: italic\">        Downloading: CsBDsnModSh</span>\n",
       "</pre>\n"
      ],
      "text/plain": [
       "\u001b[3;33m \u001b[0m\u001b[3;33m       \u001b[0m\u001b[3;33mDownloading: CsBDsnModSh\u001b[0m\n"
      ]
     },
     "metadata": {},
     "output_type": "display_data"
    },
    {
     "data": {
      "text/html": [
       "<pre style=\"white-space:pre;overflow-x:auto;line-height:normal;font-family:Menlo,'DejaVu Sans Mono',consolas,'Courier New',monospace\"><span style=\"color: #00ff00; text-decoration-color: #00ff00; font-style: italic\">        Saved!</span>\n",
       "</pre>\n"
      ],
      "text/plain": [
       "\u001b[3;92m \u001b[0m\u001b[3;92m       \u001b[0m\u001b[3;92mSaved!\u001b[0m\n"
      ]
     },
     "metadata": {},
     "output_type": "display_data"
    },
    {
     "data": {
      "text/html": [
       "<pre style=\"white-space:pre;overflow-x:auto;line-height:normal;font-family:Menlo,'DejaVu Sans Mono',consolas,'Courier New',monospace\"><span style=\"color: #808000; text-decoration-color: #808000; font-style: italic\">        Downloading: CsA9FjdsMoy</span>\n",
       "</pre>\n"
      ],
      "text/plain": [
       "\u001b[3;33m \u001b[0m\u001b[3;33m       \u001b[0m\u001b[3;33mDownloading: CsA9FjdsMoy\u001b[0m\n"
      ]
     },
     "metadata": {},
     "output_type": "display_data"
    },
    {
     "data": {
      "text/html": [
       "<pre style=\"white-space:pre;overflow-x:auto;line-height:normal;font-family:Menlo,'DejaVu Sans Mono',consolas,'Courier New',monospace\"><span style=\"color: #00ff00; text-decoration-color: #00ff00; font-style: italic\">        Saved!</span>\n",
       "</pre>\n"
      ],
      "text/plain": [
       "\u001b[3;92m \u001b[0m\u001b[3;92m       \u001b[0m\u001b[3;92mSaved!\u001b[0m\n"
      ]
     },
     "metadata": {},
     "output_type": "display_data"
    },
    {
     "data": {
      "text/html": [
       "<pre style=\"white-space:pre;overflow-x:auto;line-height:normal;font-family:Menlo,'DejaVu Sans Mono',consolas,'Courier New',monospace\"><span style=\"color: #808000; text-decoration-color: #808000; font-style: italic\">        Downloading: CsA6kaIMEpp</span>\n",
       "</pre>\n"
      ],
      "text/plain": [
       "\u001b[3;33m \u001b[0m\u001b[3;33m       \u001b[0m\u001b[3;33mDownloading: CsA6kaIMEpp\u001b[0m\n"
      ]
     },
     "metadata": {},
     "output_type": "display_data"
    },
    {
     "data": {
      "text/html": [
       "<pre style=\"white-space:pre;overflow-x:auto;line-height:normal;font-family:Menlo,'DejaVu Sans Mono',consolas,'Courier New',monospace\"><span style=\"color: #00ff00; text-decoration-color: #00ff00; font-style: italic\">        Saved!</span>\n",
       "</pre>\n"
      ],
      "text/plain": [
       "\u001b[3;92m \u001b[0m\u001b[3;92m       \u001b[0m\u001b[3;92mSaved!\u001b[0m\n"
      ]
     },
     "metadata": {},
     "output_type": "display_data"
    },
    {
     "data": {
      "text/html": [
       "<pre style=\"white-space:pre;overflow-x:auto;line-height:normal;font-family:Menlo,'DejaVu Sans Mono',consolas,'Courier New',monospace\">Getting Account Information: <span style=\"color: #008080; text-decoration-color: #008080\">fashionbombdaily</span>\n",
       "</pre>\n"
      ],
      "text/plain": [
       "Getting Account Information: \u001b[36mfashionbombdaily\u001b[0m\n"
      ]
     },
     "metadata": {},
     "output_type": "display_data"
    },
    {
     "data": {
      "text/html": [
       "<pre style=\"white-space:pre;overflow-x:auto;line-height:normal;font-family:Menlo,'DejaVu Sans Mono',consolas,'Courier New',monospace\"><span style=\"color: #808000; text-decoration-color: #808000; font-style: italic\">        Downloading: CsBDTxpOTgU</span>\n",
       "</pre>\n"
      ],
      "text/plain": [
       "\u001b[3;33m \u001b[0m\u001b[3;33m       \u001b[0m\u001b[3;33mDownloading: CsBDTxpOTgU\u001b[0m\n"
      ]
     },
     "metadata": {},
     "output_type": "display_data"
    },
    {
     "name": "stderr",
     "output_type": "stream",
     "text": [
      " 58%|█████▊    | 117/200 [04:36<14:49, 10.72s/it]"
     ]
    },
    {
     "data": {
      "text/html": [
       "<pre style=\"white-space:pre;overflow-x:auto;line-height:normal;font-family:Menlo,'DejaVu Sans Mono',consolas,'Courier New',monospace\"><span style=\"color: #00ff00; text-decoration-color: #00ff00; font-style: italic\">        Saved!</span>\n",
       "</pre>\n"
      ],
      "text/plain": [
       "\u001b[3;92m \u001b[0m\u001b[3;92m       \u001b[0m\u001b[3;92mSaved!\u001b[0m\n"
      ]
     },
     "metadata": {},
     "output_type": "display_data"
    },
    {
     "data": {
      "text/html": [
       "<pre style=\"white-space:pre;overflow-x:auto;line-height:normal;font-family:Menlo,'DejaVu Sans Mono',consolas,'Courier New',monospace\"><span style=\"color: #808000; text-decoration-color: #808000; font-style: italic\">        Downloading: CsA5lBLONM_</span>\n",
       "</pre>\n"
      ],
      "text/plain": [
       "\u001b[3;33m \u001b[0m\u001b[3;33m       \u001b[0m\u001b[3;33mDownloading: CsA5lBLONM_\u001b[0m\n"
      ]
     },
     "metadata": {},
     "output_type": "display_data"
    },
    {
     "data": {
      "text/html": [
       "<pre style=\"white-space:pre;overflow-x:auto;line-height:normal;font-family:Menlo,'DejaVu Sans Mono',consolas,'Courier New',monospace\"><span style=\"color: #00ff00; text-decoration-color: #00ff00; font-style: italic\">        Saved!</span>\n",
       "</pre>\n"
      ],
      "text/plain": [
       "\u001b[3;92m \u001b[0m\u001b[3;92m       \u001b[0m\u001b[3;92mSaved!\u001b[0m\n"
      ]
     },
     "metadata": {},
     "output_type": "display_data"
    },
    {
     "data": {
      "text/html": [
       "<pre style=\"white-space:pre;overflow-x:auto;line-height:normal;font-family:Menlo,'DejaVu Sans Mono',consolas,'Courier New',monospace\"><span style=\"color: #808000; text-decoration-color: #808000; font-style: italic\">        Downloading: CsA4tSHOw7u</span>\n",
       "</pre>\n"
      ],
      "text/plain": [
       "\u001b[3;33m \u001b[0m\u001b[3;33m       \u001b[0m\u001b[3;33mDownloading: CsA4tSHOw7u\u001b[0m\n"
      ]
     },
     "metadata": {},
     "output_type": "display_data"
    },
    {
     "data": {
      "text/html": [
       "<pre style=\"white-space:pre;overflow-x:auto;line-height:normal;font-family:Menlo,'DejaVu Sans Mono',consolas,'Courier New',monospace\"><span style=\"color: #00ff00; text-decoration-color: #00ff00; font-style: italic\">        Saved!</span>\n",
       "</pre>\n"
      ],
      "text/plain": [
       "\u001b[3;92m \u001b[0m\u001b[3;92m       \u001b[0m\u001b[3;92mSaved!\u001b[0m\n"
      ]
     },
     "metadata": {},
     "output_type": "display_data"
    },
    {
     "data": {
      "text/html": [
       "<pre style=\"white-space:pre;overflow-x:auto;line-height:normal;font-family:Menlo,'DejaVu Sans Mono',consolas,'Courier New',monospace\"><span style=\"color: #808000; text-decoration-color: #808000; font-style: italic\">        Downloading: CsAv4GcO6nR</span>\n",
       "</pre>\n"
      ],
      "text/plain": [
       "\u001b[3;33m \u001b[0m\u001b[3;33m       \u001b[0m\u001b[3;33mDownloading: CsAv4GcO6nR\u001b[0m\n"
      ]
     },
     "metadata": {},
     "output_type": "display_data"
    },
    {
     "data": {
      "text/html": [
       "<pre style=\"white-space:pre;overflow-x:auto;line-height:normal;font-family:Menlo,'DejaVu Sans Mono',consolas,'Courier New',monospace\"><span style=\"color: #00ff00; text-decoration-color: #00ff00; font-style: italic\">        Saved!</span>\n",
       "</pre>\n"
      ],
      "text/plain": [
       "\u001b[3;92m \u001b[0m\u001b[3;92m       \u001b[0m\u001b[3;92mSaved!\u001b[0m\n"
      ]
     },
     "metadata": {},
     "output_type": "display_data"
    },
    {
     "data": {
      "text/html": [
       "<pre style=\"white-space:pre;overflow-x:auto;line-height:normal;font-family:Menlo,'DejaVu Sans Mono',consolas,'Courier New',monospace\"><span style=\"color: #808000; text-decoration-color: #808000; font-style: italic\">        Downloading: CsAoJtTOI06</span>\n",
       "</pre>\n"
      ],
      "text/plain": [
       "\u001b[3;33m \u001b[0m\u001b[3;33m       \u001b[0m\u001b[3;33mDownloading: CsAoJtTOI06\u001b[0m\n"
      ]
     },
     "metadata": {},
     "output_type": "display_data"
    },
    {
     "data": {
      "text/html": [
       "<pre style=\"white-space:pre;overflow-x:auto;line-height:normal;font-family:Menlo,'DejaVu Sans Mono',consolas,'Courier New',monospace\"><span style=\"color: #00ff00; text-decoration-color: #00ff00; font-style: italic\">        Saved!</span>\n",
       "</pre>\n"
      ],
      "text/plain": [
       "\u001b[3;92m \u001b[0m\u001b[3;92m       \u001b[0m\u001b[3;92mSaved!\u001b[0m\n"
      ]
     },
     "metadata": {},
     "output_type": "display_data"
    },
    {
     "data": {
      "text/html": [
       "<pre style=\"white-space:pre;overflow-x:auto;line-height:normal;font-family:Menlo,'DejaVu Sans Mono',consolas,'Courier New',monospace\"><span style=\"color: #808000; text-decoration-color: #808000; font-style: italic\">        Downloading: CsAjfm-Oz9V</span>\n",
       "</pre>\n"
      ],
      "text/plain": [
       "\u001b[3;33m \u001b[0m\u001b[3;33m       \u001b[0m\u001b[3;33mDownloading: CsAjfm-Oz9V\u001b[0m\n"
      ]
     },
     "metadata": {},
     "output_type": "display_data"
    },
    {
     "data": {
      "text/html": [
       "<pre style=\"white-space:pre;overflow-x:auto;line-height:normal;font-family:Menlo,'DejaVu Sans Mono',consolas,'Courier New',monospace\"><span style=\"color: #00ff00; text-decoration-color: #00ff00; font-style: italic\">        Saved!</span>\n",
       "</pre>\n"
      ],
      "text/plain": [
       "\u001b[3;92m \u001b[0m\u001b[3;92m       \u001b[0m\u001b[3;92mSaved!\u001b[0m\n"
      ]
     },
     "metadata": {},
     "output_type": "display_data"
    },
    {
     "data": {
      "text/html": [
       "<pre style=\"white-space:pre;overflow-x:auto;line-height:normal;font-family:Menlo,'DejaVu Sans Mono',consolas,'Courier New',monospace\"><span style=\"color: #808000; text-decoration-color: #808000; font-style: italic\">        Downloading: CsAblruOLNg</span>\n",
       "</pre>\n"
      ],
      "text/plain": [
       "\u001b[3;33m \u001b[0m\u001b[3;33m       \u001b[0m\u001b[3;33mDownloading: CsAblruOLNg\u001b[0m\n"
      ]
     },
     "metadata": {},
     "output_type": "display_data"
    },
    {
     "data": {
      "text/html": [
       "<pre style=\"white-space:pre;overflow-x:auto;line-height:normal;font-family:Menlo,'DejaVu Sans Mono',consolas,'Courier New',monospace\"><span style=\"color: #00ff00; text-decoration-color: #00ff00; font-style: italic\">        Saved!</span>\n",
       "</pre>\n"
      ],
      "text/plain": [
       "\u001b[3;92m \u001b[0m\u001b[3;92m       \u001b[0m\u001b[3;92mSaved!\u001b[0m\n"
      ]
     },
     "metadata": {},
     "output_type": "display_data"
    },
    {
     "data": {
      "text/html": [
       "<pre style=\"white-space:pre;overflow-x:auto;line-height:normal;font-family:Menlo,'DejaVu Sans Mono',consolas,'Courier New',monospace\"><span style=\"color: #808000; text-decoration-color: #808000; font-style: italic\">        Downloading: CsAYF7nuQYD</span>\n",
       "</pre>\n"
      ],
      "text/plain": [
       "\u001b[3;33m \u001b[0m\u001b[3;33m       \u001b[0m\u001b[3;33mDownloading: CsAYF7nuQYD\u001b[0m\n"
      ]
     },
     "metadata": {},
     "output_type": "display_data"
    },
    {
     "data": {
      "text/html": [
       "<pre style=\"white-space:pre;overflow-x:auto;line-height:normal;font-family:Menlo,'DejaVu Sans Mono',consolas,'Courier New',monospace\"><span style=\"color: #00ff00; text-decoration-color: #00ff00; font-style: italic\">        Saved!</span>\n",
       "</pre>\n"
      ],
      "text/plain": [
       "\u001b[3;92m \u001b[0m\u001b[3;92m       \u001b[0m\u001b[3;92mSaved!\u001b[0m\n"
      ]
     },
     "metadata": {},
     "output_type": "display_data"
    },
    {
     "data": {
      "text/html": [
       "<pre style=\"white-space:pre;overflow-x:auto;line-height:normal;font-family:Menlo,'DejaVu Sans Mono',consolas,'Courier New',monospace\"><span style=\"color: #808000; text-decoration-color: #808000; font-style: italic\">        Downloading: CsAV0meOzNe</span>\n",
       "</pre>\n"
      ],
      "text/plain": [
       "\u001b[3;33m \u001b[0m\u001b[3;33m       \u001b[0m\u001b[3;33mDownloading: CsAV0meOzNe\u001b[0m\n"
      ]
     },
     "metadata": {},
     "output_type": "display_data"
    },
    {
     "data": {
      "text/html": [
       "<pre style=\"white-space:pre;overflow-x:auto;line-height:normal;font-family:Menlo,'DejaVu Sans Mono',consolas,'Courier New',monospace\"><span style=\"color: #00ff00; text-decoration-color: #00ff00; font-style: italic\">        Saved!</span>\n",
       "</pre>\n"
      ],
      "text/plain": [
       "\u001b[3;92m \u001b[0m\u001b[3;92m       \u001b[0m\u001b[3;92mSaved!\u001b[0m\n"
      ]
     },
     "metadata": {},
     "output_type": "display_data"
    },
    {
     "name": "stderr",
     "output_type": "stream",
     "text": [
      " 60%|█████▉    | 119/200 [04:50<16:11, 11.99s/it]"
     ]
    },
    {
     "data": {
      "text/html": [
       "<pre style=\"white-space:pre;overflow-x:auto;line-height:normal;font-family:Menlo,'DejaVu Sans Mono',consolas,'Courier New',monospace\">Getting Account Information: <span style=\"color: #008080; text-decoration-color: #008080\">eldiario</span>\n",
       "</pre>\n"
      ],
      "text/plain": [
       "Getting Account Information: \u001b[36meldiario\u001b[0m\n"
      ]
     },
     "metadata": {},
     "output_type": "display_data"
    },
    {
     "data": {
      "text/html": [
       "<pre style=\"white-space:pre;overflow-x:auto;line-height:normal;font-family:Menlo,'DejaVu Sans Mono',consolas,'Courier New',monospace\"><span style=\"color: #808000; text-decoration-color: #808000; font-style: italic\">        Downloading: CsAOOZ7oKLb</span>\n",
       "</pre>\n"
      ],
      "text/plain": [
       "\u001b[3;33m \u001b[0m\u001b[3;33m       \u001b[0m\u001b[3;33mDownloading: CsAOOZ7oKLb\u001b[0m\n"
      ]
     },
     "metadata": {},
     "output_type": "display_data"
    },
    {
     "data": {
      "text/html": [
       "<pre style=\"white-space:pre;overflow-x:auto;line-height:normal;font-family:Menlo,'DejaVu Sans Mono',consolas,'Courier New',monospace\"><span style=\"color: #00ff00; text-decoration-color: #00ff00; font-style: italic\">        Saved!</span>\n",
       "</pre>\n"
      ],
      "text/plain": [
       "\u001b[3;92m \u001b[0m\u001b[3;92m       \u001b[0m\u001b[3;92mSaved!\u001b[0m\n"
      ]
     },
     "metadata": {},
     "output_type": "display_data"
    },
    {
     "data": {
      "text/html": [
       "<pre style=\"white-space:pre;overflow-x:auto;line-height:normal;font-family:Menlo,'DejaVu Sans Mono',consolas,'Courier New',monospace\"><span style=\"color: #808000; text-decoration-color: #808000; font-style: italic\">        Downloading: CsAJWCuI1_v</span>\n",
       "</pre>\n"
      ],
      "text/plain": [
       "\u001b[3;33m \u001b[0m\u001b[3;33m       \u001b[0m\u001b[3;33mDownloading: CsAJWCuI1_v\u001b[0m\n"
      ]
     },
     "metadata": {},
     "output_type": "display_data"
    },
    {
     "data": {
      "text/html": [
       "<pre style=\"white-space:pre;overflow-x:auto;line-height:normal;font-family:Menlo,'DejaVu Sans Mono',consolas,'Courier New',monospace\"><span style=\"color: #00ff00; text-decoration-color: #00ff00; font-style: italic\">        Saved!</span>\n",
       "</pre>\n"
      ],
      "text/plain": [
       "\u001b[3;92m \u001b[0m\u001b[3;92m       \u001b[0m\u001b[3;92mSaved!\u001b[0m\n"
      ]
     },
     "metadata": {},
     "output_type": "display_data"
    },
    {
     "data": {
      "text/html": [
       "<pre style=\"white-space:pre;overflow-x:auto;line-height:normal;font-family:Menlo,'DejaVu Sans Mono',consolas,'Courier New',monospace\"><span style=\"color: #808000; text-decoration-color: #808000; font-style: italic\">        Downloading: CsAFKFUsqMU</span>\n",
       "</pre>\n"
      ],
      "text/plain": [
       "\u001b[3;33m \u001b[0m\u001b[3;33m       \u001b[0m\u001b[3;33mDownloading: CsAFKFUsqMU\u001b[0m\n"
      ]
     },
     "metadata": {},
     "output_type": "display_data"
    },
    {
     "data": {
      "text/html": [
       "<pre style=\"white-space:pre;overflow-x:auto;line-height:normal;font-family:Menlo,'DejaVu Sans Mono',consolas,'Courier New',monospace\"><span style=\"color: #00ff00; text-decoration-color: #00ff00; font-style: italic\">        Saved!</span>\n",
       "</pre>\n"
      ],
      "text/plain": [
       "\u001b[3;92m \u001b[0m\u001b[3;92m       \u001b[0m\u001b[3;92mSaved!\u001b[0m\n"
      ]
     },
     "metadata": {},
     "output_type": "display_data"
    },
    {
     "data": {
      "text/html": [
       "<pre style=\"white-space:pre;overflow-x:auto;line-height:normal;font-family:Menlo,'DejaVu Sans Mono',consolas,'Courier New',monospace\"><span style=\"color: #808000; text-decoration-color: #808000; font-style: italic\">        Downloading: CsAEYPtMijk</span>\n",
       "</pre>\n"
      ],
      "text/plain": [
       "\u001b[3;33m \u001b[0m\u001b[3;33m       \u001b[0m\u001b[3;33mDownloading: CsAEYPtMijk\u001b[0m\n"
      ]
     },
     "metadata": {},
     "output_type": "display_data"
    },
    {
     "data": {
      "text/html": [
       "<pre style=\"white-space:pre;overflow-x:auto;line-height:normal;font-family:Menlo,'DejaVu Sans Mono',consolas,'Courier New',monospace\"><span style=\"color: #00ff00; text-decoration-color: #00ff00; font-style: italic\">        Saved!</span>\n",
       "</pre>\n"
      ],
      "text/plain": [
       "\u001b[3;92m \u001b[0m\u001b[3;92m       \u001b[0m\u001b[3;92mSaved!\u001b[0m\n"
      ]
     },
     "metadata": {},
     "output_type": "display_data"
    },
    {
     "data": {
      "text/html": [
       "<pre style=\"white-space:pre;overflow-x:auto;line-height:normal;font-family:Menlo,'DejaVu Sans Mono',consolas,'Courier New',monospace\"><span style=\"color: #808000; text-decoration-color: #808000; font-style: italic\">        Downloading: Cr_4bzkvCaW</span>\n",
       "</pre>\n"
      ],
      "text/plain": [
       "\u001b[3;33m \u001b[0m\u001b[3;33m       \u001b[0m\u001b[3;33mDownloading: Cr_4bzkvCaW\u001b[0m\n"
      ]
     },
     "metadata": {},
     "output_type": "display_data"
    },
    {
     "data": {
      "text/html": [
       "<pre style=\"white-space:pre;overflow-x:auto;line-height:normal;font-family:Menlo,'DejaVu Sans Mono',consolas,'Courier New',monospace\"><span style=\"color: #00ff00; text-decoration-color: #00ff00; font-style: italic\">        Saved!</span>\n",
       "</pre>\n"
      ],
      "text/plain": [
       "\u001b[3;92m \u001b[0m\u001b[3;92m       \u001b[0m\u001b[3;92mSaved!\u001b[0m\n"
      ]
     },
     "metadata": {},
     "output_type": "display_data"
    },
    {
     "data": {
      "text/html": [
       "<pre style=\"white-space:pre;overflow-x:auto;line-height:normal;font-family:Menlo,'DejaVu Sans Mono',consolas,'Courier New',monospace\"><span style=\"color: #808000; text-decoration-color: #808000; font-style: italic\">        Downloading: Cr_0NdERti6</span>\n",
       "</pre>\n"
      ],
      "text/plain": [
       "\u001b[3;33m \u001b[0m\u001b[3;33m       \u001b[0m\u001b[3;33mDownloading: Cr_0NdERti6\u001b[0m\n"
      ]
     },
     "metadata": {},
     "output_type": "display_data"
    },
    {
     "data": {
      "text/html": [
       "<pre style=\"white-space:pre;overflow-x:auto;line-height:normal;font-family:Menlo,'DejaVu Sans Mono',consolas,'Courier New',monospace\"><span style=\"color: #00ff00; text-decoration-color: #00ff00; font-style: italic\">        Saved!</span>\n",
       "</pre>\n"
      ],
      "text/plain": [
       "\u001b[3;92m \u001b[0m\u001b[3;92m       \u001b[0m\u001b[3;92mSaved!\u001b[0m\n"
      ]
     },
     "metadata": {},
     "output_type": "display_data"
    },
    {
     "data": {
      "text/html": [
       "<pre style=\"white-space:pre;overflow-x:auto;line-height:normal;font-family:Menlo,'DejaVu Sans Mono',consolas,'Courier New',monospace\"><span style=\"color: #808000; text-decoration-color: #808000; font-style: italic\">        Downloading: Cr_u1DwxwoK</span>\n",
       "</pre>\n"
      ],
      "text/plain": [
       "\u001b[3;33m \u001b[0m\u001b[3;33m       \u001b[0m\u001b[3;33mDownloading: Cr_u1DwxwoK\u001b[0m\n"
      ]
     },
     "metadata": {},
     "output_type": "display_data"
    },
    {
     "data": {
      "text/html": [
       "<pre style=\"white-space:pre;overflow-x:auto;line-height:normal;font-family:Menlo,'DejaVu Sans Mono',consolas,'Courier New',monospace\"><span style=\"color: #00ff00; text-decoration-color: #00ff00; font-style: italic\">        Saved!</span>\n",
       "</pre>\n"
      ],
      "text/plain": [
       "\u001b[3;92m \u001b[0m\u001b[3;92m       \u001b[0m\u001b[3;92mSaved!\u001b[0m\n"
      ]
     },
     "metadata": {},
     "output_type": "display_data"
    },
    {
     "data": {
      "text/html": [
       "<pre style=\"white-space:pre;overflow-x:auto;line-height:normal;font-family:Menlo,'DejaVu Sans Mono',consolas,'Courier New',monospace\"><span style=\"color: #808000; text-decoration-color: #808000; font-style: italic\">        Downloading: Cr_r4zGR_v8</span>\n",
       "</pre>\n"
      ],
      "text/plain": [
       "\u001b[3;33m \u001b[0m\u001b[3;33m       \u001b[0m\u001b[3;33mDownloading: Cr_r4zGR_v8\u001b[0m\n"
      ]
     },
     "metadata": {},
     "output_type": "display_data"
    },
    {
     "data": {
      "text/html": [
       "<pre style=\"white-space:pre;overflow-x:auto;line-height:normal;font-family:Menlo,'DejaVu Sans Mono',consolas,'Courier New',monospace\"><span style=\"color: #00ff00; text-decoration-color: #00ff00; font-style: italic\">        Saved!</span>\n",
       "</pre>\n"
      ],
      "text/plain": [
       "\u001b[3;92m \u001b[0m\u001b[3;92m       \u001b[0m\u001b[3;92mSaved!\u001b[0m\n"
      ]
     },
     "metadata": {},
     "output_type": "display_data"
    },
    {
     "data": {
      "text/html": [
       "<pre style=\"white-space:pre;overflow-x:auto;line-height:normal;font-family:Menlo,'DejaVu Sans Mono',consolas,'Courier New',monospace\"><span style=\"color: #808000; text-decoration-color: #808000; font-style: italic\">        Downloading: Cr_n3BLPyGP</span>\n",
       "</pre>\n"
      ],
      "text/plain": [
       "\u001b[3;33m \u001b[0m\u001b[3;33m       \u001b[0m\u001b[3;33mDownloading: Cr_n3BLPyGP\u001b[0m\n"
      ]
     },
     "metadata": {},
     "output_type": "display_data"
    },
    {
     "data": {
      "text/html": [
       "<pre style=\"white-space:pre;overflow-x:auto;line-height:normal;font-family:Menlo,'DejaVu Sans Mono',consolas,'Courier New',monospace\"><span style=\"color: #00ff00; text-decoration-color: #00ff00; font-style: italic\">        Saved!</span>\n",
       "</pre>\n"
      ],
      "text/plain": [
       "\u001b[3;92m \u001b[0m\u001b[3;92m       \u001b[0m\u001b[3;92mSaved!\u001b[0m\n"
      ]
     },
     "metadata": {},
     "output_type": "display_data"
    },
    {
     "data": {
      "text/html": [
       "<pre style=\"white-space:pre;overflow-x:auto;line-height:normal;font-family:Menlo,'DejaVu Sans Mono',consolas,'Courier New',monospace\"><span style=\"color: #808000; text-decoration-color: #808000; font-style: italic\">        Downloading: Cr_kHExv7tp</span>\n",
       "</pre>\n"
      ],
      "text/plain": [
       "\u001b[3;33m \u001b[0m\u001b[3;33m       \u001b[0m\u001b[3;33mDownloading: Cr_kHExv7tp\u001b[0m\n"
      ]
     },
     "metadata": {},
     "output_type": "display_data"
    },
    {
     "data": {
      "text/html": [
       "<pre style=\"white-space:pre;overflow-x:auto;line-height:normal;font-family:Menlo,'DejaVu Sans Mono',consolas,'Courier New',monospace\"><span style=\"color: #00ff00; text-decoration-color: #00ff00; font-style: italic\">        Saved!</span>\n",
       "</pre>\n"
      ],
      "text/plain": [
       "\u001b[3;92m \u001b[0m\u001b[3;92m       \u001b[0m\u001b[3;92mSaved!\u001b[0m\n"
      ]
     },
     "metadata": {},
     "output_type": "display_data"
    },
    {
     "name": "stderr",
     "output_type": "stream",
     "text": [
      " 60%|██████    | 120/200 [05:04<16:33, 12.42s/it]"
     ]
    },
    {
     "data": {
      "text/html": [
       "<pre style=\"white-space:pre;overflow-x:auto;line-height:normal;font-family:Menlo,'DejaVu Sans Mono',consolas,'Courier New',monospace\">Getting Account Information: <span style=\"color: #008080; text-decoration-color: #008080\">arab2turk</span>\n",
       "</pre>\n"
      ],
      "text/plain": [
       "Getting Account Information: \u001b[36marab2turk\u001b[0m\n"
      ]
     },
     "metadata": {},
     "output_type": "display_data"
    },
    {
     "data": {
      "text/html": [
       "<pre style=\"white-space:pre;overflow-x:auto;line-height:normal;font-family:Menlo,'DejaVu Sans Mono',consolas,'Courier New',monospace\"><span style=\"color: #808000; text-decoration-color: #808000; font-style: italic\">        Downloading: CsBPKCesQzF</span>\n",
       "</pre>\n"
      ],
      "text/plain": [
       "\u001b[3;33m \u001b[0m\u001b[3;33m       \u001b[0m\u001b[3;33mDownloading: CsBPKCesQzF\u001b[0m\n"
      ]
     },
     "metadata": {},
     "output_type": "display_data"
    },
    {
     "data": {
      "text/html": [
       "<pre style=\"white-space:pre;overflow-x:auto;line-height:normal;font-family:Menlo,'DejaVu Sans Mono',consolas,'Courier New',monospace\"><span style=\"color: #00ff00; text-decoration-color: #00ff00; font-style: italic\">        Saved!</span>\n",
       "</pre>\n"
      ],
      "text/plain": [
       "\u001b[3;92m \u001b[0m\u001b[3;92m       \u001b[0m\u001b[3;92mSaved!\u001b[0m\n"
      ]
     },
     "metadata": {},
     "output_type": "display_data"
    },
    {
     "data": {
      "text/html": [
       "<pre style=\"white-space:pre;overflow-x:auto;line-height:normal;font-family:Menlo,'DejaVu Sans Mono',consolas,'Courier New',monospace\"><span style=\"color: #808000; text-decoration-color: #808000; font-style: italic\">        Downloading: CsBEQeEMaYR</span>\n",
       "</pre>\n"
      ],
      "text/plain": [
       "\u001b[3;33m \u001b[0m\u001b[3;33m       \u001b[0m\u001b[3;33mDownloading: CsBEQeEMaYR\u001b[0m\n"
      ]
     },
     "metadata": {},
     "output_type": "display_data"
    },
    {
     "data": {
      "text/html": [
       "<pre style=\"white-space:pre;overflow-x:auto;line-height:normal;font-family:Menlo,'DejaVu Sans Mono',consolas,'Courier New',monospace\"><span style=\"color: #00ff00; text-decoration-color: #00ff00; font-style: italic\">        Saved!</span>\n",
       "</pre>\n"
      ],
      "text/plain": [
       "\u001b[3;92m \u001b[0m\u001b[3;92m       \u001b[0m\u001b[3;92mSaved!\u001b[0m\n"
      ]
     },
     "metadata": {},
     "output_type": "display_data"
    },
    {
     "data": {
      "text/html": [
       "<pre style=\"white-space:pre;overflow-x:auto;line-height:normal;font-family:Menlo,'DejaVu Sans Mono',consolas,'Courier New',monospace\"><span style=\"color: #808000; text-decoration-color: #808000; font-style: italic\">        Downloading: CsBEEx9sAQO</span>\n",
       "</pre>\n"
      ],
      "text/plain": [
       "\u001b[3;33m \u001b[0m\u001b[3;33m       \u001b[0m\u001b[3;33mDownloading: CsBEEx9sAQO\u001b[0m\n"
      ]
     },
     "metadata": {},
     "output_type": "display_data"
    },
    {
     "data": {
      "text/html": [
       "<pre style=\"white-space:pre;overflow-x:auto;line-height:normal;font-family:Menlo,'DejaVu Sans Mono',consolas,'Courier New',monospace\"><span style=\"color: #00ff00; text-decoration-color: #00ff00; font-style: italic\">        Saved!</span>\n",
       "</pre>\n"
      ],
      "text/plain": [
       "\u001b[3;92m \u001b[0m\u001b[3;92m       \u001b[0m\u001b[3;92mSaved!\u001b[0m\n"
      ]
     },
     "metadata": {},
     "output_type": "display_data"
    },
    {
     "data": {
      "text/html": [
       "<pre style=\"white-space:pre;overflow-x:auto;line-height:normal;font-family:Menlo,'DejaVu Sans Mono',consolas,'Courier New',monospace\"><span style=\"color: #808000; text-decoration-color: #808000; font-style: italic\">        Downloading: CsA2-QnMAYw</span>\n",
       "</pre>\n"
      ],
      "text/plain": [
       "\u001b[3;33m \u001b[0m\u001b[3;33m       \u001b[0m\u001b[3;33mDownloading: CsA2-QnMAYw\u001b[0m\n"
      ]
     },
     "metadata": {},
     "output_type": "display_data"
    },
    {
     "data": {
      "text/html": [
       "<pre style=\"white-space:pre;overflow-x:auto;line-height:normal;font-family:Menlo,'DejaVu Sans Mono',consolas,'Courier New',monospace\"><span style=\"color: #00ff00; text-decoration-color: #00ff00; font-style: italic\">        Saved!</span>\n",
       "</pre>\n"
      ],
      "text/plain": [
       "\u001b[3;92m \u001b[0m\u001b[3;92m       \u001b[0m\u001b[3;92mSaved!\u001b[0m\n"
      ]
     },
     "metadata": {},
     "output_type": "display_data"
    },
    {
     "data": {
      "text/html": [
       "<pre style=\"white-space:pre;overflow-x:auto;line-height:normal;font-family:Menlo,'DejaVu Sans Mono',consolas,'Courier New',monospace\"><span style=\"color: #808000; text-decoration-color: #808000; font-style: italic\">        Downloading: CsA0zLxMGhe</span>\n",
       "</pre>\n"
      ],
      "text/plain": [
       "\u001b[3;33m \u001b[0m\u001b[3;33m       \u001b[0m\u001b[3;33mDownloading: CsA0zLxMGhe\u001b[0m\n"
      ]
     },
     "metadata": {},
     "output_type": "display_data"
    },
    {
     "data": {
      "text/html": [
       "<pre style=\"white-space:pre;overflow-x:auto;line-height:normal;font-family:Menlo,'DejaVu Sans Mono',consolas,'Courier New',monospace\"><span style=\"color: #00ff00; text-decoration-color: #00ff00; font-style: italic\">        Saved!</span>\n",
       "</pre>\n"
      ],
      "text/plain": [
       "\u001b[3;92m \u001b[0m\u001b[3;92m       \u001b[0m\u001b[3;92mSaved!\u001b[0m\n"
      ]
     },
     "metadata": {},
     "output_type": "display_data"
    },
    {
     "data": {
      "text/html": [
       "<pre style=\"white-space:pre;overflow-x:auto;line-height:normal;font-family:Menlo,'DejaVu Sans Mono',consolas,'Courier New',monospace\"><span style=\"color: #808000; text-decoration-color: #808000; font-style: italic\">        Downloading: CsAq0cIM-CK</span>\n",
       "</pre>\n"
      ],
      "text/plain": [
       "\u001b[3;33m \u001b[0m\u001b[3;33m       \u001b[0m\u001b[3;33mDownloading: CsAq0cIM-CK\u001b[0m\n"
      ]
     },
     "metadata": {},
     "output_type": "display_data"
    },
    {
     "data": {
      "text/html": [
       "<pre style=\"white-space:pre;overflow-x:auto;line-height:normal;font-family:Menlo,'DejaVu Sans Mono',consolas,'Courier New',monospace\"><span style=\"color: #00ff00; text-decoration-color: #00ff00; font-style: italic\">        Saved!</span>\n",
       "</pre>\n"
      ],
      "text/plain": [
       "\u001b[3;92m \u001b[0m\u001b[3;92m       \u001b[0m\u001b[3;92mSaved!\u001b[0m\n"
      ]
     },
     "metadata": {},
     "output_type": "display_data"
    },
    {
     "data": {
      "text/html": [
       "<pre style=\"white-space:pre;overflow-x:auto;line-height:normal;font-family:Menlo,'DejaVu Sans Mono',consolas,'Courier New',monospace\"><span style=\"color: #808000; text-decoration-color: #808000; font-style: italic\">        Downloading: Cr_zd83MEkC</span>\n",
       "</pre>\n"
      ],
      "text/plain": [
       "\u001b[3;33m \u001b[0m\u001b[3;33m       \u001b[0m\u001b[3;33mDownloading: Cr_zd83MEkC\u001b[0m\n"
      ]
     },
     "metadata": {},
     "output_type": "display_data"
    },
    {
     "data": {
      "text/html": [
       "<pre style=\"white-space:pre;overflow-x:auto;line-height:normal;font-family:Menlo,'DejaVu Sans Mono',consolas,'Courier New',monospace\"><span style=\"color: #00ff00; text-decoration-color: #00ff00; font-style: italic\">        Saved!</span>\n",
       "</pre>\n"
      ],
      "text/plain": [
       "\u001b[3;92m \u001b[0m\u001b[3;92m       \u001b[0m\u001b[3;92mSaved!\u001b[0m\n"
      ]
     },
     "metadata": {},
     "output_type": "display_data"
    },
    {
     "data": {
      "text/html": [
       "<pre style=\"white-space:pre;overflow-x:auto;line-height:normal;font-family:Menlo,'DejaVu Sans Mono',consolas,'Courier New',monospace\"><span style=\"color: #808000; text-decoration-color: #808000; font-style: italic\">        Downloading: Cr_zNJBsM4n</span>\n",
       "</pre>\n"
      ],
      "text/plain": [
       "\u001b[3;33m \u001b[0m\u001b[3;33m       \u001b[0m\u001b[3;33mDownloading: Cr_zNJBsM4n\u001b[0m\n"
      ]
     },
     "metadata": {},
     "output_type": "display_data"
    },
    {
     "data": {
      "text/html": [
       "<pre style=\"white-space:pre;overflow-x:auto;line-height:normal;font-family:Menlo,'DejaVu Sans Mono',consolas,'Courier New',monospace\"><span style=\"color: #00ff00; text-decoration-color: #00ff00; font-style: italic\">        Saved!</span>\n",
       "</pre>\n"
      ],
      "text/plain": [
       "\u001b[3;92m \u001b[0m\u001b[3;92m       \u001b[0m\u001b[3;92mSaved!\u001b[0m\n"
      ]
     },
     "metadata": {},
     "output_type": "display_data"
    },
    {
     "data": {
      "text/html": [
       "<pre style=\"white-space:pre;overflow-x:auto;line-height:normal;font-family:Menlo,'DejaVu Sans Mono',consolas,'Courier New',monospace\"><span style=\"color: #808000; text-decoration-color: #808000; font-style: italic\">        Downloading: Cr_tdows1WK</span>\n",
       "</pre>\n"
      ],
      "text/plain": [
       "\u001b[3;33m \u001b[0m\u001b[3;33m       \u001b[0m\u001b[3;33mDownloading: Cr_tdows1WK\u001b[0m\n"
      ]
     },
     "metadata": {},
     "output_type": "display_data"
    },
    {
     "data": {
      "text/html": [
       "<pre style=\"white-space:pre;overflow-x:auto;line-height:normal;font-family:Menlo,'DejaVu Sans Mono',consolas,'Courier New',monospace\"><span style=\"color: #00ff00; text-decoration-color: #00ff00; font-style: italic\">        Saved!</span>\n",
       "</pre>\n"
      ],
      "text/plain": [
       "\u001b[3;92m \u001b[0m\u001b[3;92m       \u001b[0m\u001b[3;92mSaved!\u001b[0m\n"
      ]
     },
     "metadata": {},
     "output_type": "display_data"
    },
    {
     "data": {
      "text/html": [
       "<pre style=\"white-space:pre;overflow-x:auto;line-height:normal;font-family:Menlo,'DejaVu Sans Mono',consolas,'Courier New',monospace\"><span style=\"color: #808000; text-decoration-color: #808000; font-style: italic\">        Downloading: Cr_noz1MlmO</span>\n",
       "</pre>\n"
      ],
      "text/plain": [
       "\u001b[3;33m \u001b[0m\u001b[3;33m       \u001b[0m\u001b[3;33mDownloading: Cr_noz1MlmO\u001b[0m\n"
      ]
     },
     "metadata": {},
     "output_type": "display_data"
    },
    {
     "data": {
      "text/html": [
       "<pre style=\"white-space:pre;overflow-x:auto;line-height:normal;font-family:Menlo,'DejaVu Sans Mono',consolas,'Courier New',monospace\"><span style=\"color: #00ff00; text-decoration-color: #00ff00; font-style: italic\">        Saved!</span>\n",
       "</pre>\n"
      ],
      "text/plain": [
       "\u001b[3;92m \u001b[0m\u001b[3;92m       \u001b[0m\u001b[3;92mSaved!\u001b[0m\n"
      ]
     },
     "metadata": {},
     "output_type": "display_data"
    },
    {
     "data": {
      "text/html": [
       "<pre style=\"white-space:pre;overflow-x:auto;line-height:normal;font-family:Menlo,'DejaVu Sans Mono',consolas,'Courier New',monospace\"><span style=\"color: #808000; text-decoration-color: #808000; font-style: italic\">        Downloading: Cr_me5jMuxZ</span>\n",
       "</pre>\n"
      ],
      "text/plain": [
       "\u001b[3;33m \u001b[0m\u001b[3;33m       \u001b[0m\u001b[3;33mDownloading: Cr_me5jMuxZ\u001b[0m\n"
      ]
     },
     "metadata": {},
     "output_type": "display_data"
    },
    {
     "data": {
      "text/html": [
       "<pre style=\"white-space:pre;overflow-x:auto;line-height:normal;font-family:Menlo,'DejaVu Sans Mono',consolas,'Courier New',monospace\"><span style=\"color: #00ff00; text-decoration-color: #00ff00; font-style: italic\">        Saved!</span>\n",
       "</pre>\n"
      ],
      "text/plain": [
       "\u001b[3;92m \u001b[0m\u001b[3;92m       \u001b[0m\u001b[3;92mSaved!\u001b[0m\n"
      ]
     },
     "metadata": {},
     "output_type": "display_data"
    },
    {
     "data": {
      "text/html": [
       "<pre style=\"white-space:pre;overflow-x:auto;line-height:normal;font-family:Menlo,'DejaVu Sans Mono',consolas,'Courier New',monospace\"><span style=\"color: #808000; text-decoration-color: #808000; font-style: italic\">        Downloading: Cr_jl8oMt5m</span>\n",
       "</pre>\n"
      ],
      "text/plain": [
       "\u001b[3;33m \u001b[0m\u001b[3;33m       \u001b[0m\u001b[3;33mDownloading: Cr_jl8oMt5m\u001b[0m\n"
      ]
     },
     "metadata": {},
     "output_type": "display_data"
    },
    {
     "data": {
      "text/html": [
       "<pre style=\"white-space:pre;overflow-x:auto;line-height:normal;font-family:Menlo,'DejaVu Sans Mono',consolas,'Courier New',monospace\"><span style=\"color: #00ff00; text-decoration-color: #00ff00; font-style: italic\">        Saved!</span>\n",
       "</pre>\n"
      ],
      "text/plain": [
       "\u001b[3;92m \u001b[0m\u001b[3;92m       \u001b[0m\u001b[3;92mSaved!\u001b[0m\n"
      ]
     },
     "metadata": {},
     "output_type": "display_data"
    },
    {
     "name": "stderr",
     "output_type": "stream",
     "text": [
      " 60%|██████    | 121/200 [05:21<18:05, 13.74s/it]"
     ]
    },
    {
     "data": {
      "text/html": [
       "<pre style=\"white-space:pre;overflow-x:auto;line-height:normal;font-family:Menlo,'DejaVu Sans Mono',consolas,'Courier New',monospace\">Getting Account Information: <span style=\"color: #008080; text-decoration-color: #008080\">albayannews</span>\n",
       "</pre>\n"
      ],
      "text/plain": [
       "Getting Account Information: \u001b[36malbayannews\u001b[0m\n"
      ]
     },
     "metadata": {},
     "output_type": "display_data"
    },
    {
     "data": {
      "text/html": [
       "<pre style=\"white-space:pre;overflow-x:auto;line-height:normal;font-family:Menlo,'DejaVu Sans Mono',consolas,'Courier New',monospace\"><span style=\"color: #808000; text-decoration-color: #808000; font-style: italic\">        Downloading: CsA1QmVLGzW</span>\n",
       "</pre>\n"
      ],
      "text/plain": [
       "\u001b[3;33m \u001b[0m\u001b[3;33m       \u001b[0m\u001b[3;33mDownloading: CsA1QmVLGzW\u001b[0m\n"
      ]
     },
     "metadata": {},
     "output_type": "display_data"
    },
    {
     "data": {
      "text/html": [
       "<pre style=\"white-space:pre;overflow-x:auto;line-height:normal;font-family:Menlo,'DejaVu Sans Mono',consolas,'Courier New',monospace\"><span style=\"color: #00ff00; text-decoration-color: #00ff00; font-style: italic\">        Saved!</span>\n",
       "</pre>\n"
      ],
      "text/plain": [
       "\u001b[3;92m \u001b[0m\u001b[3;92m       \u001b[0m\u001b[3;92mSaved!\u001b[0m\n"
      ]
     },
     "metadata": {},
     "output_type": "display_data"
    },
    {
     "data": {
      "text/html": [
       "<pre style=\"white-space:pre;overflow-x:auto;line-height:normal;font-family:Menlo,'DejaVu Sans Mono',consolas,'Courier New',monospace\"><span style=\"color: #808000; text-decoration-color: #808000; font-style: italic\">        Downloading: CsAiBUirc5m</span>\n",
       "</pre>\n"
      ],
      "text/plain": [
       "\u001b[3;33m \u001b[0m\u001b[3;33m       \u001b[0m\u001b[3;33mDownloading: CsAiBUirc5m\u001b[0m\n"
      ]
     },
     "metadata": {},
     "output_type": "display_data"
    },
    {
     "data": {
      "text/html": [
       "<pre style=\"white-space:pre;overflow-x:auto;line-height:normal;font-family:Menlo,'DejaVu Sans Mono',consolas,'Courier New',monospace\"><span style=\"color: #00ff00; text-decoration-color: #00ff00; font-style: italic\">        Saved!</span>\n",
       "</pre>\n"
      ],
      "text/plain": [
       "\u001b[3;92m \u001b[0m\u001b[3;92m       \u001b[0m\u001b[3;92mSaved!\u001b[0m\n"
      ]
     },
     "metadata": {},
     "output_type": "display_data"
    },
    {
     "data": {
      "text/html": [
       "<pre style=\"white-space:pre;overflow-x:auto;line-height:normal;font-family:Menlo,'DejaVu Sans Mono',consolas,'Courier New',monospace\"><span style=\"color: #808000; text-decoration-color: #808000; font-style: italic\">        Downloading: Cr_S1fypcSs</span>\n",
       "</pre>\n"
      ],
      "text/plain": [
       "\u001b[3;33m \u001b[0m\u001b[3;33m       \u001b[0m\u001b[3;33mDownloading: Cr_S1fypcSs\u001b[0m\n"
      ]
     },
     "metadata": {},
     "output_type": "display_data"
    },
    {
     "data": {
      "text/html": [
       "<pre style=\"white-space:pre;overflow-x:auto;line-height:normal;font-family:Menlo,'DejaVu Sans Mono',consolas,'Courier New',monospace\"><span style=\"color: #00ff00; text-decoration-color: #00ff00; font-style: italic\">        Saved!</span>\n",
       "</pre>\n"
      ],
      "text/plain": [
       "\u001b[3;92m \u001b[0m\u001b[3;92m       \u001b[0m\u001b[3;92mSaved!\u001b[0m\n"
      ]
     },
     "metadata": {},
     "output_type": "display_data"
    },
    {
     "data": {
      "text/html": [
       "<pre style=\"white-space:pre;overflow-x:auto;line-height:normal;font-family:Menlo,'DejaVu Sans Mono',consolas,'Courier New',monospace\"><span style=\"color: #808000; text-decoration-color: #808000; font-style: italic\">        Downloading: Cr_CBwaJnii</span>\n",
       "</pre>\n"
      ],
      "text/plain": [
       "\u001b[3;33m \u001b[0m\u001b[3;33m       \u001b[0m\u001b[3;33mDownloading: Cr_CBwaJnii\u001b[0m\n"
      ]
     },
     "metadata": {},
     "output_type": "display_data"
    },
    {
     "data": {
      "text/html": [
       "<pre style=\"white-space:pre;overflow-x:auto;line-height:normal;font-family:Menlo,'DejaVu Sans Mono',consolas,'Courier New',monospace\"><span style=\"color: #00ff00; text-decoration-color: #00ff00; font-style: italic\">        Saved!</span>\n",
       "</pre>\n"
      ],
      "text/plain": [
       "\u001b[3;92m \u001b[0m\u001b[3;92m       \u001b[0m\u001b[3;92mSaved!\u001b[0m\n"
      ]
     },
     "metadata": {},
     "output_type": "display_data"
    },
    {
     "data": {
      "text/html": [
       "<pre style=\"white-space:pre;overflow-x:auto;line-height:normal;font-family:Menlo,'DejaVu Sans Mono',consolas,'Courier New',monospace\"><span style=\"color: #808000; text-decoration-color: #808000; font-style: italic\">        Downloading: Cr-gcX6LdfH</span>\n",
       "</pre>\n"
      ],
      "text/plain": [
       "\u001b[3;33m \u001b[0m\u001b[3;33m       \u001b[0m\u001b[3;33mDownloading: Cr-gcX6LdfH\u001b[0m\n"
      ]
     },
     "metadata": {},
     "output_type": "display_data"
    },
    {
     "data": {
      "text/html": [
       "<pre style=\"white-space:pre;overflow-x:auto;line-height:normal;font-family:Menlo,'DejaVu Sans Mono',consolas,'Courier New',monospace\"><span style=\"color: #00ff00; text-decoration-color: #00ff00; font-style: italic\">        Saved!</span>\n",
       "</pre>\n"
      ],
      "text/plain": [
       "\u001b[3;92m \u001b[0m\u001b[3;92m       \u001b[0m\u001b[3;92mSaved!\u001b[0m\n"
      ]
     },
     "metadata": {},
     "output_type": "display_data"
    },
    {
     "data": {
      "text/html": [
       "<pre style=\"white-space:pre;overflow-x:auto;line-height:normal;font-family:Menlo,'DejaVu Sans Mono',consolas,'Courier New',monospace\"><span style=\"color: #808000; text-decoration-color: #808000; font-style: italic\">        Downloading: Cr-UrcoLZBO</span>\n",
       "</pre>\n"
      ],
      "text/plain": [
       "\u001b[3;33m \u001b[0m\u001b[3;33m       \u001b[0m\u001b[3;33mDownloading: Cr-UrcoLZBO\u001b[0m\n"
      ]
     },
     "metadata": {},
     "output_type": "display_data"
    },
    {
     "data": {
      "text/html": [
       "<pre style=\"white-space:pre;overflow-x:auto;line-height:normal;font-family:Menlo,'DejaVu Sans Mono',consolas,'Courier New',monospace\"><span style=\"color: #00ff00; text-decoration-color: #00ff00; font-style: italic\">        Saved!</span>\n",
       "</pre>\n"
      ],
      "text/plain": [
       "\u001b[3;92m \u001b[0m\u001b[3;92m       \u001b[0m\u001b[3;92mSaved!\u001b[0m\n"
      ]
     },
     "metadata": {},
     "output_type": "display_data"
    },
    {
     "data": {
      "text/html": [
       "<pre style=\"white-space:pre;overflow-x:auto;line-height:normal;font-family:Menlo,'DejaVu Sans Mono',consolas,'Courier New',monospace\"><span style=\"color: #808000; text-decoration-color: #808000; font-style: italic\">        Downloading: Cr-Ol3npned</span>\n",
       "</pre>\n"
      ],
      "text/plain": [
       "\u001b[3;33m \u001b[0m\u001b[3;33m       \u001b[0m\u001b[3;33mDownloading: Cr-Ol3npned\u001b[0m\n"
      ]
     },
     "metadata": {},
     "output_type": "display_data"
    },
    {
     "data": {
      "text/html": [
       "<pre style=\"white-space:pre;overflow-x:auto;line-height:normal;font-family:Menlo,'DejaVu Sans Mono',consolas,'Courier New',monospace\"><span style=\"color: #00ff00; text-decoration-color: #00ff00; font-style: italic\">        Saved!</span>\n",
       "</pre>\n"
      ],
      "text/plain": [
       "\u001b[3;92m \u001b[0m\u001b[3;92m       \u001b[0m\u001b[3;92mSaved!\u001b[0m\n"
      ]
     },
     "metadata": {},
     "output_type": "display_data"
    },
    {
     "data": {
      "text/html": [
       "<pre style=\"white-space:pre;overflow-x:auto;line-height:normal;font-family:Menlo,'DejaVu Sans Mono',consolas,'Courier New',monospace\"><span style=\"color: #808000; text-decoration-color: #808000; font-style: italic\">        Downloading: Cr9I3TFShjw</span>\n",
       "</pre>\n"
      ],
      "text/plain": [
       "\u001b[3;33m \u001b[0m\u001b[3;33m       \u001b[0m\u001b[3;33mDownloading: Cr9I3TFShjw\u001b[0m\n"
      ]
     },
     "metadata": {},
     "output_type": "display_data"
    },
    {
     "data": {
      "text/html": [
       "<pre style=\"white-space:pre;overflow-x:auto;line-height:normal;font-family:Menlo,'DejaVu Sans Mono',consolas,'Courier New',monospace\"><span style=\"color: #00ff00; text-decoration-color: #00ff00; font-style: italic\">        Saved!</span>\n",
       "</pre>\n"
      ],
      "text/plain": [
       "\u001b[3;92m \u001b[0m\u001b[3;92m       \u001b[0m\u001b[3;92mSaved!\u001b[0m\n"
      ]
     },
     "metadata": {},
     "output_type": "display_data"
    },
    {
     "data": {
      "text/html": [
       "<pre style=\"white-space:pre;overflow-x:auto;line-height:normal;font-family:Menlo,'DejaVu Sans Mono',consolas,'Courier New',monospace\"><span style=\"color: #808000; text-decoration-color: #808000; font-style: italic\">        Downloading: Cr9IM22y7sW</span>\n",
       "</pre>\n"
      ],
      "text/plain": [
       "\u001b[3;33m \u001b[0m\u001b[3;33m       \u001b[0m\u001b[3;33mDownloading: Cr9IM22y7sW\u001b[0m\n"
      ]
     },
     "metadata": {},
     "output_type": "display_data"
    },
    {
     "data": {
      "text/html": [
       "<pre style=\"white-space:pre;overflow-x:auto;line-height:normal;font-family:Menlo,'DejaVu Sans Mono',consolas,'Courier New',monospace\"><span style=\"color: #00ff00; text-decoration-color: #00ff00; font-style: italic\">        Saved!</span>\n",
       "</pre>\n"
      ],
      "text/plain": [
       "\u001b[3;92m \u001b[0m\u001b[3;92m       \u001b[0m\u001b[3;92mSaved!\u001b[0m\n"
      ]
     },
     "metadata": {},
     "output_type": "display_data"
    },
    {
     "name": "stderr",
     "output_type": "stream",
     "text": [
      " 61%|██████    | 122/200 [05:33<17:16, 13.29s/it]"
     ]
    },
    {
     "data": {
      "text/html": [
       "<pre style=\"white-space:pre;overflow-x:auto;line-height:normal;font-family:Menlo,'DejaVu Sans Mono',consolas,'Courier New',monospace\">Getting Account Information: <span style=\"color: #008080; text-decoration-color: #008080\">vladtv</span>\n",
       "</pre>\n"
      ],
      "text/plain": [
       "Getting Account Information: \u001b[36mvladtv\u001b[0m\n"
      ]
     },
     "metadata": {},
     "output_type": "display_data"
    },
    {
     "data": {
      "text/html": [
       "<pre style=\"white-space:pre;overflow-x:auto;line-height:normal;font-family:Menlo,'DejaVu Sans Mono',consolas,'Courier New',monospace\"><span style=\"color: #808000; text-decoration-color: #808000; font-style: italic\">        Downloading: CsA03gYMiS6</span>\n",
       "</pre>\n"
      ],
      "text/plain": [
       "\u001b[3;33m \u001b[0m\u001b[3;33m       \u001b[0m\u001b[3;33mDownloading: CsA03gYMiS6\u001b[0m\n"
      ]
     },
     "metadata": {},
     "output_type": "display_data"
    },
    {
     "data": {
      "text/html": [
       "<pre style=\"white-space:pre;overflow-x:auto;line-height:normal;font-family:Menlo,'DejaVu Sans Mono',consolas,'Courier New',monospace\"><span style=\"color: #00ff00; text-decoration-color: #00ff00; font-style: italic\">        Saved!</span>\n",
       "</pre>\n"
      ],
      "text/plain": [
       "\u001b[3;92m \u001b[0m\u001b[3;92m       \u001b[0m\u001b[3;92mSaved!\u001b[0m\n"
      ]
     },
     "metadata": {},
     "output_type": "display_data"
    },
    {
     "data": {
      "text/html": [
       "<pre style=\"white-space:pre;overflow-x:auto;line-height:normal;font-family:Menlo,'DejaVu Sans Mono',consolas,'Courier New',monospace\"><span style=\"color: #808000; text-decoration-color: #808000; font-style: italic\">        Downloading: CsAyv5uMH0r</span>\n",
       "</pre>\n"
      ],
      "text/plain": [
       "\u001b[3;33m \u001b[0m\u001b[3;33m       \u001b[0m\u001b[3;33mDownloading: CsAyv5uMH0r\u001b[0m\n"
      ]
     },
     "metadata": {},
     "output_type": "display_data"
    },
    {
     "data": {
      "text/html": [
       "<pre style=\"white-space:pre;overflow-x:auto;line-height:normal;font-family:Menlo,'DejaVu Sans Mono',consolas,'Courier New',monospace\"><span style=\"color: #00ff00; text-decoration-color: #00ff00; font-style: italic\">        Saved!</span>\n",
       "</pre>\n"
      ],
      "text/plain": [
       "\u001b[3;92m \u001b[0m\u001b[3;92m       \u001b[0m\u001b[3;92mSaved!\u001b[0m\n"
      ]
     },
     "metadata": {},
     "output_type": "display_data"
    },
    {
     "data": {
      "text/html": [
       "<pre style=\"white-space:pre;overflow-x:auto;line-height:normal;font-family:Menlo,'DejaVu Sans Mono',consolas,'Courier New',monospace\"><span style=\"color: #808000; text-decoration-color: #808000; font-style: italic\">        Downloading: CsAxcY6svxs</span>\n",
       "</pre>\n"
      ],
      "text/plain": [
       "\u001b[3;33m \u001b[0m\u001b[3;33m       \u001b[0m\u001b[3;33mDownloading: CsAxcY6svxs\u001b[0m\n"
      ]
     },
     "metadata": {},
     "output_type": "display_data"
    },
    {
     "data": {
      "text/html": [
       "<pre style=\"white-space:pre;overflow-x:auto;line-height:normal;font-family:Menlo,'DejaVu Sans Mono',consolas,'Courier New',monospace\"><span style=\"color: #00ff00; text-decoration-color: #00ff00; font-style: italic\">        Saved!</span>\n",
       "</pre>\n"
      ],
      "text/plain": [
       "\u001b[3;92m \u001b[0m\u001b[3;92m       \u001b[0m\u001b[3;92mSaved!\u001b[0m\n"
      ]
     },
     "metadata": {},
     "output_type": "display_data"
    },
    {
     "data": {
      "text/html": [
       "<pre style=\"white-space:pre;overflow-x:auto;line-height:normal;font-family:Menlo,'DejaVu Sans Mono',consolas,'Courier New',monospace\"><span style=\"color: #808000; text-decoration-color: #808000; font-style: italic\">        Downloading: CsAwjM9uWmi</span>\n",
       "</pre>\n"
      ],
      "text/plain": [
       "\u001b[3;33m \u001b[0m\u001b[3;33m       \u001b[0m\u001b[3;33mDownloading: CsAwjM9uWmi\u001b[0m\n"
      ]
     },
     "metadata": {},
     "output_type": "display_data"
    },
    {
     "data": {
      "text/html": [
       "<pre style=\"white-space:pre;overflow-x:auto;line-height:normal;font-family:Menlo,'DejaVu Sans Mono',consolas,'Courier New',monospace\"><span style=\"color: #00ff00; text-decoration-color: #00ff00; font-style: italic\">        Saved!</span>\n",
       "</pre>\n"
      ],
      "text/plain": [
       "\u001b[3;92m \u001b[0m\u001b[3;92m       \u001b[0m\u001b[3;92mSaved!\u001b[0m\n"
      ]
     },
     "metadata": {},
     "output_type": "display_data"
    },
    {
     "data": {
      "text/html": [
       "<pre style=\"white-space:pre;overflow-x:auto;line-height:normal;font-family:Menlo,'DejaVu Sans Mono',consolas,'Courier New',monospace\"><span style=\"color: #808000; text-decoration-color: #808000; font-style: italic\">        Downloading: Cr_2h44ubvm</span>\n",
       "</pre>\n"
      ],
      "text/plain": [
       "\u001b[3;33m \u001b[0m\u001b[3;33m       \u001b[0m\u001b[3;33mDownloading: Cr_2h44ubvm\u001b[0m\n"
      ]
     },
     "metadata": {},
     "output_type": "display_data"
    },
    {
     "data": {
      "text/html": [
       "<pre style=\"white-space:pre;overflow-x:auto;line-height:normal;font-family:Menlo,'DejaVu Sans Mono',consolas,'Courier New',monospace\"><span style=\"color: #00ff00; text-decoration-color: #00ff00; font-style: italic\">        Saved!</span>\n",
       "</pre>\n"
      ],
      "text/plain": [
       "\u001b[3;92m \u001b[0m\u001b[3;92m       \u001b[0m\u001b[3;92mSaved!\u001b[0m\n"
      ]
     },
     "metadata": {},
     "output_type": "display_data"
    },
    {
     "data": {
      "text/html": [
       "<pre style=\"white-space:pre;overflow-x:auto;line-height:normal;font-family:Menlo,'DejaVu Sans Mono',consolas,'Courier New',monospace\"><span style=\"color: #808000; text-decoration-color: #808000; font-style: italic\">        Downloading: Cr_1RWcuJhY</span>\n",
       "</pre>\n"
      ],
      "text/plain": [
       "\u001b[3;33m \u001b[0m\u001b[3;33m       \u001b[0m\u001b[3;33mDownloading: Cr_1RWcuJhY\u001b[0m\n"
      ]
     },
     "metadata": {},
     "output_type": "display_data"
    },
    {
     "data": {
      "text/html": [
       "<pre style=\"white-space:pre;overflow-x:auto;line-height:normal;font-family:Menlo,'DejaVu Sans Mono',consolas,'Courier New',monospace\"><span style=\"color: #00ff00; text-decoration-color: #00ff00; font-style: italic\">        Saved!</span>\n",
       "</pre>\n"
      ],
      "text/plain": [
       "\u001b[3;92m \u001b[0m\u001b[3;92m       \u001b[0m\u001b[3;92mSaved!\u001b[0m\n"
      ]
     },
     "metadata": {},
     "output_type": "display_data"
    },
    {
     "data": {
      "text/html": [
       "<pre style=\"white-space:pre;overflow-x:auto;line-height:normal;font-family:Menlo,'DejaVu Sans Mono',consolas,'Courier New',monospace\"><span style=\"color: #808000; text-decoration-color: #808000; font-style: italic\">        Downloading: Cr_ywNiuQ_v</span>\n",
       "</pre>\n"
      ],
      "text/plain": [
       "\u001b[3;33m \u001b[0m\u001b[3;33m       \u001b[0m\u001b[3;33mDownloading: Cr_ywNiuQ_v\u001b[0m\n"
      ]
     },
     "metadata": {},
     "output_type": "display_data"
    },
    {
     "data": {
      "text/html": [
       "<pre style=\"white-space:pre;overflow-x:auto;line-height:normal;font-family:Menlo,'DejaVu Sans Mono',consolas,'Courier New',monospace\"><span style=\"color: #00ff00; text-decoration-color: #00ff00; font-style: italic\">        Saved!</span>\n",
       "</pre>\n"
      ],
      "text/plain": [
       "\u001b[3;92m \u001b[0m\u001b[3;92m       \u001b[0m\u001b[3;92mSaved!\u001b[0m\n"
      ]
     },
     "metadata": {},
     "output_type": "display_data"
    },
    {
     "data": {
      "text/html": [
       "<pre style=\"white-space:pre;overflow-x:auto;line-height:normal;font-family:Menlo,'DejaVu Sans Mono',consolas,'Courier New',monospace\"><span style=\"color: #808000; text-decoration-color: #808000; font-style: italic\">        Downloading: Cr_w7VPOZOp</span>\n",
       "</pre>\n"
      ],
      "text/plain": [
       "\u001b[3;33m \u001b[0m\u001b[3;33m       \u001b[0m\u001b[3;33mDownloading: Cr_w7VPOZOp\u001b[0m\n"
      ]
     },
     "metadata": {},
     "output_type": "display_data"
    },
    {
     "data": {
      "text/html": [
       "<pre style=\"white-space:pre;overflow-x:auto;line-height:normal;font-family:Menlo,'DejaVu Sans Mono',consolas,'Courier New',monospace\"><span style=\"color: #00ff00; text-decoration-color: #00ff00; font-style: italic\">        Saved!</span>\n",
       "</pre>\n"
      ],
      "text/plain": [
       "\u001b[3;92m \u001b[0m\u001b[3;92m       \u001b[0m\u001b[3;92mSaved!\u001b[0m\n"
      ]
     },
     "metadata": {},
     "output_type": "display_data"
    },
    {
     "data": {
      "text/html": [
       "<pre style=\"white-space:pre;overflow-x:auto;line-height:normal;font-family:Menlo,'DejaVu Sans Mono',consolas,'Courier New',monospace\"><span style=\"color: #808000; text-decoration-color: #808000; font-style: italic\">        Downloading: Cr_vqYIuagH</span>\n",
       "</pre>\n"
      ],
      "text/plain": [
       "\u001b[3;33m \u001b[0m\u001b[3;33m       \u001b[0m\u001b[3;33mDownloading: Cr_vqYIuagH\u001b[0m\n"
      ]
     },
     "metadata": {},
     "output_type": "display_data"
    },
    {
     "data": {
      "text/html": [
       "<pre style=\"white-space:pre;overflow-x:auto;line-height:normal;font-family:Menlo,'DejaVu Sans Mono',consolas,'Courier New',monospace\"><span style=\"color: #00ff00; text-decoration-color: #00ff00; font-style: italic\">        Saved!</span>\n",
       "</pre>\n"
      ],
      "text/plain": [
       "\u001b[3;92m \u001b[0m\u001b[3;92m       \u001b[0m\u001b[3;92mSaved!\u001b[0m\n"
      ]
     },
     "metadata": {},
     "output_type": "display_data"
    },
    {
     "data": {
      "text/html": [
       "<pre style=\"white-space:pre;overflow-x:auto;line-height:normal;font-family:Menlo,'DejaVu Sans Mono',consolas,'Courier New',monospace\"><span style=\"color: #808000; text-decoration-color: #808000; font-style: italic\">        Downloading: Cr_uZ3OuHMX</span>\n",
       "</pre>\n"
      ],
      "text/plain": [
       "\u001b[3;33m \u001b[0m\u001b[3;33m       \u001b[0m\u001b[3;33mDownloading: Cr_uZ3OuHMX\u001b[0m\n"
      ]
     },
     "metadata": {},
     "output_type": "display_data"
    },
    {
     "data": {
      "text/html": [
       "<pre style=\"white-space:pre;overflow-x:auto;line-height:normal;font-family:Menlo,'DejaVu Sans Mono',consolas,'Courier New',monospace\"><span style=\"color: #00ff00; text-decoration-color: #00ff00; font-style: italic\">        Saved!</span>\n",
       "</pre>\n"
      ],
      "text/plain": [
       "\u001b[3;92m \u001b[0m\u001b[3;92m       \u001b[0m\u001b[3;92mSaved!\u001b[0m\n"
      ]
     },
     "metadata": {},
     "output_type": "display_data"
    },
    {
     "name": "stderr",
     "output_type": "stream",
     "text": [
      " 62%|██████▏   | 123/200 [05:44<16:00, 12.48s/it]"
     ]
    },
    {
     "data": {
      "text/html": [
       "<pre style=\"white-space:pre;overflow-x:auto;line-height:normal;font-family:Menlo,'DejaVu Sans Mono',consolas,'Courier New',monospace\">Getting Account Information: <span style=\"color: #008080; text-decoration-color: #008080\">coppamagz</span>\n",
       "</pre>\n"
      ],
      "text/plain": [
       "Getting Account Information: \u001b[36mcoppamagz\u001b[0m\n"
      ]
     },
     "metadata": {},
     "output_type": "display_data"
    },
    {
     "data": {
      "text/html": [
       "<pre style=\"white-space:pre;overflow-x:auto;line-height:normal;font-family:Menlo,'DejaVu Sans Mono',consolas,'Courier New',monospace\"><span style=\"color: #808000; text-decoration-color: #808000; font-style: italic\">        Downloading: Cr-E1ZqLNZ5</span>\n",
       "</pre>\n"
      ],
      "text/plain": [
       "\u001b[3;33m \u001b[0m\u001b[3;33m       \u001b[0m\u001b[3;33mDownloading: Cr-E1ZqLNZ5\u001b[0m\n"
      ]
     },
     "metadata": {},
     "output_type": "display_data"
    },
    {
     "data": {
      "text/html": [
       "<pre style=\"white-space:pre;overflow-x:auto;line-height:normal;font-family:Menlo,'DejaVu Sans Mono',consolas,'Courier New',monospace\"><span style=\"color: #00ff00; text-decoration-color: #00ff00; font-style: italic\">        Saved!</span>\n",
       "</pre>\n"
      ],
      "text/plain": [
       "\u001b[3;92m \u001b[0m\u001b[3;92m       \u001b[0m\u001b[3;92mSaved!\u001b[0m\n"
      ]
     },
     "metadata": {},
     "output_type": "display_data"
    },
    {
     "data": {
      "text/html": [
       "<pre style=\"white-space:pre;overflow-x:auto;line-height:normal;font-family:Menlo,'DejaVu Sans Mono',consolas,'Courier New',monospace\"><span style=\"color: #808000; text-decoration-color: #808000; font-style: italic\">        Downloading: CsBN9FIsfWh</span>\n",
       "</pre>\n"
      ],
      "text/plain": [
       "\u001b[3;33m \u001b[0m\u001b[3;33m       \u001b[0m\u001b[3;33mDownloading: CsBN9FIsfWh\u001b[0m\n"
      ]
     },
     "metadata": {},
     "output_type": "display_data"
    },
    {
     "data": {
      "text/html": [
       "<pre style=\"white-space:pre;overflow-x:auto;line-height:normal;font-family:Menlo,'DejaVu Sans Mono',consolas,'Courier New',monospace\"><span style=\"color: #00ff00; text-decoration-color: #00ff00; font-style: italic\">        Saved!</span>\n",
       "</pre>\n"
      ],
      "text/plain": [
       "\u001b[3;92m \u001b[0m\u001b[3;92m       \u001b[0m\u001b[3;92mSaved!\u001b[0m\n"
      ]
     },
     "metadata": {},
     "output_type": "display_data"
    },
    {
     "data": {
      "text/html": [
       "<pre style=\"white-space:pre;overflow-x:auto;line-height:normal;font-family:Menlo,'DejaVu Sans Mono',consolas,'Courier New',monospace\"><span style=\"color: #808000; text-decoration-color: #808000; font-style: italic\">        Downloading: CsBNxitvSmL</span>\n",
       "</pre>\n"
      ],
      "text/plain": [
       "\u001b[3;33m \u001b[0m\u001b[3;33m       \u001b[0m\u001b[3;33mDownloading: CsBNxitvSmL\u001b[0m\n"
      ]
     },
     "metadata": {},
     "output_type": "display_data"
    },
    {
     "data": {
      "text/html": [
       "<pre style=\"white-space:pre;overflow-x:auto;line-height:normal;font-family:Menlo,'DejaVu Sans Mono',consolas,'Courier New',monospace\"><span style=\"color: #00ff00; text-decoration-color: #00ff00; font-style: italic\">        Saved!</span>\n",
       "</pre>\n"
      ],
      "text/plain": [
       "\u001b[3;92m \u001b[0m\u001b[3;92m       \u001b[0m\u001b[3;92mSaved!\u001b[0m\n"
      ]
     },
     "metadata": {},
     "output_type": "display_data"
    },
    {
     "data": {
      "text/html": [
       "<pre style=\"white-space:pre;overflow-x:auto;line-height:normal;font-family:Menlo,'DejaVu Sans Mono',consolas,'Courier New',monospace\"><span style=\"color: #808000; text-decoration-color: #808000; font-style: italic\">        Downloading: CsBLzVSP9Wf</span>\n",
       "</pre>\n"
      ],
      "text/plain": [
       "\u001b[3;33m \u001b[0m\u001b[3;33m       \u001b[0m\u001b[3;33mDownloading: CsBLzVSP9Wf\u001b[0m\n"
      ]
     },
     "metadata": {},
     "output_type": "display_data"
    },
    {
     "data": {
      "text/html": [
       "<pre style=\"white-space:pre;overflow-x:auto;line-height:normal;font-family:Menlo,'DejaVu Sans Mono',consolas,'Courier New',monospace\"><span style=\"color: #00ff00; text-decoration-color: #00ff00; font-style: italic\">        Saved!</span>\n",
       "</pre>\n"
      ],
      "text/plain": [
       "\u001b[3;92m \u001b[0m\u001b[3;92m       \u001b[0m\u001b[3;92mSaved!\u001b[0m\n"
      ]
     },
     "metadata": {},
     "output_type": "display_data"
    },
    {
     "data": {
      "text/html": [
       "<pre style=\"white-space:pre;overflow-x:auto;line-height:normal;font-family:Menlo,'DejaVu Sans Mono',consolas,'Courier New',monospace\"><span style=\"color: #808000; text-decoration-color: #808000; font-style: italic\">        Downloading: CsBKSpyP1d8</span>\n",
       "</pre>\n"
      ],
      "text/plain": [
       "\u001b[3;33m \u001b[0m\u001b[3;33m       \u001b[0m\u001b[3;33mDownloading: CsBKSpyP1d8\u001b[0m\n"
      ]
     },
     "metadata": {},
     "output_type": "display_data"
    },
    {
     "data": {
      "text/html": [
       "<pre style=\"white-space:pre;overflow-x:auto;line-height:normal;font-family:Menlo,'DejaVu Sans Mono',consolas,'Courier New',monospace\"><span style=\"color: #00ff00; text-decoration-color: #00ff00; font-style: italic\">        Saved!</span>\n",
       "</pre>\n"
      ],
      "text/plain": [
       "\u001b[3;92m \u001b[0m\u001b[3;92m       \u001b[0m\u001b[3;92mSaved!\u001b[0m\n"
      ]
     },
     "metadata": {},
     "output_type": "display_data"
    },
    {
     "data": {
      "text/html": [
       "<pre style=\"white-space:pre;overflow-x:auto;line-height:normal;font-family:Menlo,'DejaVu Sans Mono',consolas,'Courier New',monospace\"><span style=\"color: #808000; text-decoration-color: #808000; font-style: italic\">        Downloading: CsBJoxdL-cB</span>\n",
       "</pre>\n"
      ],
      "text/plain": [
       "\u001b[3;33m \u001b[0m\u001b[3;33m       \u001b[0m\u001b[3;33mDownloading: CsBJoxdL-cB\u001b[0m\n"
      ]
     },
     "metadata": {},
     "output_type": "display_data"
    },
    {
     "data": {
      "text/html": [
       "<pre style=\"white-space:pre;overflow-x:auto;line-height:normal;font-family:Menlo,'DejaVu Sans Mono',consolas,'Courier New',monospace\"><span style=\"color: #00ff00; text-decoration-color: #00ff00; font-style: italic\">        Saved!</span>\n",
       "</pre>\n"
      ],
      "text/plain": [
       "\u001b[3;92m \u001b[0m\u001b[3;92m       \u001b[0m\u001b[3;92mSaved!\u001b[0m\n"
      ]
     },
     "metadata": {},
     "output_type": "display_data"
    },
    {
     "data": {
      "text/html": [
       "<pre style=\"white-space:pre;overflow-x:auto;line-height:normal;font-family:Menlo,'DejaVu Sans Mono',consolas,'Courier New',monospace\"><span style=\"color: #808000; text-decoration-color: #808000; font-style: italic\">        Downloading: CsBHDHbS5jz</span>\n",
       "</pre>\n"
      ],
      "text/plain": [
       "\u001b[3;33m \u001b[0m\u001b[3;33m       \u001b[0m\u001b[3;33mDownloading: CsBHDHbS5jz\u001b[0m\n"
      ]
     },
     "metadata": {},
     "output_type": "display_data"
    },
    {
     "data": {
      "text/html": [
       "<pre style=\"white-space:pre;overflow-x:auto;line-height:normal;font-family:Menlo,'DejaVu Sans Mono',consolas,'Courier New',monospace\"><span style=\"color: #00ff00; text-decoration-color: #00ff00; font-style: italic\">        Saved!</span>\n",
       "</pre>\n"
      ],
      "text/plain": [
       "\u001b[3;92m \u001b[0m\u001b[3;92m       \u001b[0m\u001b[3;92mSaved!\u001b[0m\n"
      ]
     },
     "metadata": {},
     "output_type": "display_data"
    },
    {
     "data": {
      "text/html": [
       "<pre style=\"white-space:pre;overflow-x:auto;line-height:normal;font-family:Menlo,'DejaVu Sans Mono',consolas,'Courier New',monospace\"><span style=\"color: #808000; text-decoration-color: #808000; font-style: italic\">        Downloading: CsBGkcMvrSb</span>\n",
       "</pre>\n"
      ],
      "text/plain": [
       "\u001b[3;33m \u001b[0m\u001b[3;33m       \u001b[0m\u001b[3;33mDownloading: CsBGkcMvrSb\u001b[0m\n"
      ]
     },
     "metadata": {},
     "output_type": "display_data"
    },
    {
     "data": {
      "text/html": [
       "<pre style=\"white-space:pre;overflow-x:auto;line-height:normal;font-family:Menlo,'DejaVu Sans Mono',consolas,'Courier New',monospace\"><span style=\"color: #00ff00; text-decoration-color: #00ff00; font-style: italic\">        Saved!</span>\n",
       "</pre>\n"
      ],
      "text/plain": [
       "\u001b[3;92m \u001b[0m\u001b[3;92m       \u001b[0m\u001b[3;92mSaved!\u001b[0m\n"
      ]
     },
     "metadata": {},
     "output_type": "display_data"
    },
    {
     "data": {
      "text/html": [
       "<pre style=\"white-space:pre;overflow-x:auto;line-height:normal;font-family:Menlo,'DejaVu Sans Mono',consolas,'Courier New',monospace\"><span style=\"color: #808000; text-decoration-color: #808000; font-style: italic\">        Downloading: CsBDsPwrOkC</span>\n",
       "</pre>\n"
      ],
      "text/plain": [
       "\u001b[3;33m \u001b[0m\u001b[3;33m       \u001b[0m\u001b[3;33mDownloading: CsBDsPwrOkC\u001b[0m\n"
      ]
     },
     "metadata": {},
     "output_type": "display_data"
    },
    {
     "data": {
      "text/html": [
       "<pre style=\"white-space:pre;overflow-x:auto;line-height:normal;font-family:Menlo,'DejaVu Sans Mono',consolas,'Courier New',monospace\"><span style=\"color: #00ff00; text-decoration-color: #00ff00; font-style: italic\">        Saved!</span>\n",
       "</pre>\n"
      ],
      "text/plain": [
       "\u001b[3;92m \u001b[0m\u001b[3;92m       \u001b[0m\u001b[3;92mSaved!\u001b[0m\n"
      ]
     },
     "metadata": {},
     "output_type": "display_data"
    },
    {
     "data": {
      "text/html": [
       "<pre style=\"white-space:pre;overflow-x:auto;line-height:normal;font-family:Menlo,'DejaVu Sans Mono',consolas,'Courier New',monospace\"><span style=\"color: #808000; text-decoration-color: #808000; font-style: italic\">        Downloading: CsA2h2jrPqJ</span>\n",
       "</pre>\n"
      ],
      "text/plain": [
       "\u001b[3;33m \u001b[0m\u001b[3;33m       \u001b[0m\u001b[3;33mDownloading: CsA2h2jrPqJ\u001b[0m\n"
      ]
     },
     "metadata": {},
     "output_type": "display_data"
    },
    {
     "data": {
      "text/html": [
       "<pre style=\"white-space:pre;overflow-x:auto;line-height:normal;font-family:Menlo,'DejaVu Sans Mono',consolas,'Courier New',monospace\"><span style=\"color: #00ff00; text-decoration-color: #00ff00; font-style: italic\">        Saved!</span>\n",
       "</pre>\n"
      ],
      "text/plain": [
       "\u001b[3;92m \u001b[0m\u001b[3;92m       \u001b[0m\u001b[3;92mSaved!\u001b[0m\n"
      ]
     },
     "metadata": {},
     "output_type": "display_data"
    },
    {
     "name": "stderr",
     "output_type": "stream",
     "text": [
      " 62%|██████▏   | 124/200 [05:58<16:35, 13.09s/it]"
     ]
    },
    {
     "data": {
      "text/html": [
       "<pre style=\"white-space:pre;overflow-x:auto;line-height:normal;font-family:Menlo,'DejaVu Sans Mono',consolas,'Courier New',monospace\">Getting Account Information: <span style=\"color: #008080; text-decoration-color: #008080\">crictracker</span>\n",
       "</pre>\n"
      ],
      "text/plain": [
       "Getting Account Information: \u001b[36mcrictracker\u001b[0m\n"
      ]
     },
     "metadata": {},
     "output_type": "display_data"
    },
    {
     "data": {
      "text/html": [
       "<pre style=\"white-space:pre;overflow-x:auto;line-height:normal;font-family:Menlo,'DejaVu Sans Mono',consolas,'Courier New',monospace\"><span style=\"color: #808000; text-decoration-color: #808000; font-style: italic\">        Downloading: Cr-9qhYNs6n</span>\n",
       "</pre>\n"
      ],
      "text/plain": [
       "\u001b[3;33m \u001b[0m\u001b[3;33m       \u001b[0m\u001b[3;33mDownloading: Cr-9qhYNs6n\u001b[0m\n"
      ]
     },
     "metadata": {},
     "output_type": "display_data"
    },
    {
     "data": {
      "text/html": [
       "<pre style=\"white-space:pre;overflow-x:auto;line-height:normal;font-family:Menlo,'DejaVu Sans Mono',consolas,'Courier New',monospace\"><span style=\"color: #00ff00; text-decoration-color: #00ff00; font-style: italic\">        Saved!</span>\n",
       "</pre>\n"
      ],
      "text/plain": [
       "\u001b[3;92m \u001b[0m\u001b[3;92m       \u001b[0m\u001b[3;92mSaved!\u001b[0m\n"
      ]
     },
     "metadata": {},
     "output_type": "display_data"
    },
    {
     "data": {
      "text/html": [
       "<pre style=\"white-space:pre;overflow-x:auto;line-height:normal;font-family:Menlo,'DejaVu Sans Mono',consolas,'Courier New',monospace\"><span style=\"color: #808000; text-decoration-color: #808000; font-style: italic\">        Downloading: Cr-KRzmscfI</span>\n",
       "</pre>\n"
      ],
      "text/plain": [
       "\u001b[3;33m \u001b[0m\u001b[3;33m       \u001b[0m\u001b[3;33mDownloading: Cr-KRzmscfI\u001b[0m\n"
      ]
     },
     "metadata": {},
     "output_type": "display_data"
    },
    {
     "data": {
      "text/html": [
       "<pre style=\"white-space:pre;overflow-x:auto;line-height:normal;font-family:Menlo,'DejaVu Sans Mono',consolas,'Courier New',monospace\"><span style=\"color: #00ff00; text-decoration-color: #00ff00; font-style: italic\">        Saved!</span>\n",
       "</pre>\n"
      ],
      "text/plain": [
       "\u001b[3;92m \u001b[0m\u001b[3;92m       \u001b[0m\u001b[3;92mSaved!\u001b[0m\n"
      ]
     },
     "metadata": {},
     "output_type": "display_data"
    },
    {
     "data": {
      "text/html": [
       "<pre style=\"white-space:pre;overflow-x:auto;line-height:normal;font-family:Menlo,'DejaVu Sans Mono',consolas,'Courier New',monospace\"><span style=\"color: #808000; text-decoration-color: #808000; font-style: italic\">        Downloading: Cr8iKF7uTY8</span>\n",
       "</pre>\n"
      ],
      "text/plain": [
       "\u001b[3;33m \u001b[0m\u001b[3;33m       \u001b[0m\u001b[3;33mDownloading: Cr8iKF7uTY8\u001b[0m\n"
      ]
     },
     "metadata": {},
     "output_type": "display_data"
    },
    {
     "data": {
      "text/html": [
       "<pre style=\"white-space:pre;overflow-x:auto;line-height:normal;font-family:Menlo,'DejaVu Sans Mono',consolas,'Courier New',monospace\"><span style=\"color: #00ff00; text-decoration-color: #00ff00; font-style: italic\">        Saved!</span>\n",
       "</pre>\n"
      ],
      "text/plain": [
       "\u001b[3;92m \u001b[0m\u001b[3;92m       \u001b[0m\u001b[3;92mSaved!\u001b[0m\n"
      ]
     },
     "metadata": {},
     "output_type": "display_data"
    },
    {
     "data": {
      "text/html": [
       "<pre style=\"white-space:pre;overflow-x:auto;line-height:normal;font-family:Menlo,'DejaVu Sans Mono',consolas,'Courier New',monospace\"><span style=\"color: #808000; text-decoration-color: #808000; font-style: italic\">        Downloading: CsBQooxsX3D</span>\n",
       "</pre>\n"
      ],
      "text/plain": [
       "\u001b[3;33m \u001b[0m\u001b[3;33m       \u001b[0m\u001b[3;33mDownloading: CsBQooxsX3D\u001b[0m\n"
      ]
     },
     "metadata": {},
     "output_type": "display_data"
    },
    {
     "data": {
      "text/html": [
       "<pre style=\"white-space:pre;overflow-x:auto;line-height:normal;font-family:Menlo,'DejaVu Sans Mono',consolas,'Courier New',monospace\"><span style=\"color: #00ff00; text-decoration-color: #00ff00; font-style: italic\">        Saved!</span>\n",
       "</pre>\n"
      ],
      "text/plain": [
       "\u001b[3;92m \u001b[0m\u001b[3;92m       \u001b[0m\u001b[3;92mSaved!\u001b[0m\n"
      ]
     },
     "metadata": {},
     "output_type": "display_data"
    },
    {
     "data": {
      "text/html": [
       "<pre style=\"white-space:pre;overflow-x:auto;line-height:normal;font-family:Menlo,'DejaVu Sans Mono',consolas,'Courier New',monospace\"><span style=\"color: #808000; text-decoration-color: #808000; font-style: italic\">        Downloading: CsBOLCjgddq</span>\n",
       "</pre>\n"
      ],
      "text/plain": [
       "\u001b[3;33m \u001b[0m\u001b[3;33m       \u001b[0m\u001b[3;33mDownloading: CsBOLCjgddq\u001b[0m\n"
      ]
     },
     "metadata": {},
     "output_type": "display_data"
    },
    {
     "data": {
      "text/html": [
       "<pre style=\"white-space:pre;overflow-x:auto;line-height:normal;font-family:Menlo,'DejaVu Sans Mono',consolas,'Courier New',monospace\"><span style=\"color: #00ff00; text-decoration-color: #00ff00; font-style: italic\">        Saved!</span>\n",
       "</pre>\n"
      ],
      "text/plain": [
       "\u001b[3;92m \u001b[0m\u001b[3;92m       \u001b[0m\u001b[3;92mSaved!\u001b[0m\n"
      ]
     },
     "metadata": {},
     "output_type": "display_data"
    },
    {
     "data": {
      "text/html": [
       "<pre style=\"white-space:pre;overflow-x:auto;line-height:normal;font-family:Menlo,'DejaVu Sans Mono',consolas,'Courier New',monospace\"><span style=\"color: #808000; text-decoration-color: #808000; font-style: italic\">        Downloading: CsBL2ZhvPEV</span>\n",
       "</pre>\n"
      ],
      "text/plain": [
       "\u001b[3;33m \u001b[0m\u001b[3;33m       \u001b[0m\u001b[3;33mDownloading: CsBL2ZhvPEV\u001b[0m\n"
      ]
     },
     "metadata": {},
     "output_type": "display_data"
    },
    {
     "data": {
      "text/html": [
       "<pre style=\"white-space:pre;overflow-x:auto;line-height:normal;font-family:Menlo,'DejaVu Sans Mono',consolas,'Courier New',monospace\"><span style=\"color: #00ff00; text-decoration-color: #00ff00; font-style: italic\">        Saved!</span>\n",
       "</pre>\n"
      ],
      "text/plain": [
       "\u001b[3;92m \u001b[0m\u001b[3;92m       \u001b[0m\u001b[3;92mSaved!\u001b[0m\n"
      ]
     },
     "metadata": {},
     "output_type": "display_data"
    },
    {
     "data": {
      "text/html": [
       "<pre style=\"white-space:pre;overflow-x:auto;line-height:normal;font-family:Menlo,'DejaVu Sans Mono',consolas,'Courier New',monospace\"><span style=\"color: #808000; text-decoration-color: #808000; font-style: italic\">        Downloading: CsBKX4Lvlos</span>\n",
       "</pre>\n"
      ],
      "text/plain": [
       "\u001b[3;33m \u001b[0m\u001b[3;33m       \u001b[0m\u001b[3;33mDownloading: CsBKX4Lvlos\u001b[0m\n"
      ]
     },
     "metadata": {},
     "output_type": "display_data"
    },
    {
     "data": {
      "text/html": [
       "<pre style=\"white-space:pre;overflow-x:auto;line-height:normal;font-family:Menlo,'DejaVu Sans Mono',consolas,'Courier New',monospace\"><span style=\"color: #00ff00; text-decoration-color: #00ff00; font-style: italic\">        Saved!</span>\n",
       "</pre>\n"
      ],
      "text/plain": [
       "\u001b[3;92m \u001b[0m\u001b[3;92m       \u001b[0m\u001b[3;92mSaved!\u001b[0m\n"
      ]
     },
     "metadata": {},
     "output_type": "display_data"
    },
    {
     "data": {
      "text/html": [
       "<pre style=\"white-space:pre;overflow-x:auto;line-height:normal;font-family:Menlo,'DejaVu Sans Mono',consolas,'Courier New',monospace\"><span style=\"color: #808000; text-decoration-color: #808000; font-style: italic\">        Downloading: CsBI7AZvhUL</span>\n",
       "</pre>\n"
      ],
      "text/plain": [
       "\u001b[3;33m \u001b[0m\u001b[3;33m       \u001b[0m\u001b[3;33mDownloading: CsBI7AZvhUL\u001b[0m\n"
      ]
     },
     "metadata": {},
     "output_type": "display_data"
    },
    {
     "data": {
      "text/html": [
       "<pre style=\"white-space:pre;overflow-x:auto;line-height:normal;font-family:Menlo,'DejaVu Sans Mono',consolas,'Courier New',monospace\"><span style=\"color: #00ff00; text-decoration-color: #00ff00; font-style: italic\">        Saved!</span>\n",
       "</pre>\n"
      ],
      "text/plain": [
       "\u001b[3;92m \u001b[0m\u001b[3;92m       \u001b[0m\u001b[3;92mSaved!\u001b[0m\n"
      ]
     },
     "metadata": {},
     "output_type": "display_data"
    },
    {
     "data": {
      "text/html": [
       "<pre style=\"white-space:pre;overflow-x:auto;line-height:normal;font-family:Menlo,'DejaVu Sans Mono',consolas,'Courier New',monospace\"><span style=\"color: #808000; text-decoration-color: #808000; font-style: italic\">        Downloading: CsBHr49PPSK</span>\n",
       "</pre>\n"
      ],
      "text/plain": [
       "\u001b[3;33m \u001b[0m\u001b[3;33m       \u001b[0m\u001b[3;33mDownloading: CsBHr49PPSK\u001b[0m\n"
      ]
     },
     "metadata": {},
     "output_type": "display_data"
    },
    {
     "data": {
      "text/html": [
       "<pre style=\"white-space:pre;overflow-x:auto;line-height:normal;font-family:Menlo,'DejaVu Sans Mono',consolas,'Courier New',monospace\"><span style=\"color: #00ff00; text-decoration-color: #00ff00; font-style: italic\">        Saved!</span>\n",
       "</pre>\n"
      ],
      "text/plain": [
       "\u001b[3;92m \u001b[0m\u001b[3;92m       \u001b[0m\u001b[3;92mSaved!\u001b[0m\n"
      ]
     },
     "metadata": {},
     "output_type": "display_data"
    },
    {
     "data": {
      "text/html": [
       "<pre style=\"white-space:pre;overflow-x:auto;line-height:normal;font-family:Menlo,'DejaVu Sans Mono',consolas,'Courier New',monospace\"><span style=\"color: #808000; text-decoration-color: #808000; font-style: italic\">        Downloading: CsBGW5fP4qL</span>\n",
       "</pre>\n"
      ],
      "text/plain": [
       "\u001b[3;33m \u001b[0m\u001b[3;33m       \u001b[0m\u001b[3;33mDownloading: CsBGW5fP4qL\u001b[0m\n"
      ]
     },
     "metadata": {},
     "output_type": "display_data"
    },
    {
     "data": {
      "text/html": [
       "<pre style=\"white-space:pre;overflow-x:auto;line-height:normal;font-family:Menlo,'DejaVu Sans Mono',consolas,'Courier New',monospace\"><span style=\"color: #00ff00; text-decoration-color: #00ff00; font-style: italic\">        Saved!</span>\n",
       "</pre>\n"
      ],
      "text/plain": [
       "\u001b[3;92m \u001b[0m\u001b[3;92m       \u001b[0m\u001b[3;92mSaved!\u001b[0m\n"
      ]
     },
     "metadata": {},
     "output_type": "display_data"
    },
    {
     "name": "stderr",
     "output_type": "stream",
     "text": [
      " 62%|██████▎   | 125/200 [06:10<15:57, 12.76s/it]"
     ]
    },
    {
     "data": {
      "text/html": [
       "<pre style=\"white-space:pre;overflow-x:auto;line-height:normal;font-family:Menlo,'DejaVu Sans Mono',consolas,'Courier New',monospace\">Getting Account Information: <span style=\"color: #008080; text-decoration-color: #008080\">nba</span>\n",
       "</pre>\n"
      ],
      "text/plain": [
       "Getting Account Information: \u001b[36mnba\u001b[0m\n"
      ]
     },
     "metadata": {},
     "output_type": "display_data"
    },
    {
     "data": {
      "text/html": [
       "<pre style=\"white-space:pre;overflow-x:auto;line-height:normal;font-family:Menlo,'DejaVu Sans Mono',consolas,'Courier New',monospace\"><span style=\"color: #800000; text-decoration-color: #800000; font-weight: bold\">        User information already exist, skipping</span><span style=\"color: #808000; text-decoration-color: #808000; font-weight: bold\">...</span>\n",
       "</pre>\n"
      ],
      "text/plain": [
       "\u001b[1;31m \u001b[0m\u001b[1;31m       \u001b[0m\u001b[1;31mUser information already exist, skipping\u001b[0m\u001b[1;33m...\u001b[0m\n"
      ]
     },
     "metadata": {},
     "output_type": "display_data"
    },
    {
     "data": {
      "text/html": [
       "<pre style=\"white-space:pre;overflow-x:auto;line-height:normal;font-family:Menlo,'DejaVu Sans Mono',consolas,'Courier New',monospace\">Getting Account Information: <span style=\"color: #008080; text-decoration-color: #008080\">snoopdogg</span>\n",
       "</pre>\n"
      ],
      "text/plain": [
       "Getting Account Information: \u001b[36msnoopdogg\u001b[0m\n"
      ]
     },
     "metadata": {},
     "output_type": "display_data"
    },
    {
     "data": {
      "text/html": [
       "<pre style=\"white-space:pre;overflow-x:auto;line-height:normal;font-family:Menlo,'DejaVu Sans Mono',consolas,'Courier New',monospace\"><span style=\"color: #800000; text-decoration-color: #800000; font-weight: bold\">        User information already exist, skipping</span><span style=\"color: #808000; text-decoration-color: #808000; font-weight: bold\">...</span>\n",
       "</pre>\n"
      ],
      "text/plain": [
       "\u001b[1;31m \u001b[0m\u001b[1;31m       \u001b[0m\u001b[1;31mUser information already exist, skipping\u001b[0m\u001b[1;33m...\u001b[0m\n"
      ]
     },
     "metadata": {},
     "output_type": "display_data"
    },
    {
     "data": {
      "text/html": [
       "<pre style=\"white-space:pre;overflow-x:auto;line-height:normal;font-family:Menlo,'DejaVu Sans Mono',consolas,'Courier New',monospace\">Getting Account Information: <span style=\"color: #008080; text-decoration-color: #008080\">dagelan</span>\n",
       "</pre>\n"
      ],
      "text/plain": [
       "Getting Account Information: \u001b[36mdagelan\u001b[0m\n"
      ]
     },
     "metadata": {},
     "output_type": "display_data"
    },
    {
     "data": {
      "text/html": [
       "<pre style=\"white-space:pre;overflow-x:auto;line-height:normal;font-family:Menlo,'DejaVu Sans Mono',consolas,'Courier New',monospace\"><span style=\"color: #808000; text-decoration-color: #808000; font-style: italic\">        Downloading: CrZ--xeLqyC</span>\n",
       "</pre>\n"
      ],
      "text/plain": [
       "\u001b[3;33m \u001b[0m\u001b[3;33m       \u001b[0m\u001b[3;33mDownloading: CrZ--xeLqyC\u001b[0m\n"
      ]
     },
     "metadata": {},
     "output_type": "display_data"
    },
    {
     "data": {
      "text/html": [
       "<pre style=\"white-space:pre;overflow-x:auto;line-height:normal;font-family:Menlo,'DejaVu Sans Mono',consolas,'Courier New',monospace\"><span style=\"color: #00ff00; text-decoration-color: #00ff00; font-style: italic\">        Saved!</span>\n",
       "</pre>\n"
      ],
      "text/plain": [
       "\u001b[3;92m \u001b[0m\u001b[3;92m       \u001b[0m\u001b[3;92mSaved!\u001b[0m\n"
      ]
     },
     "metadata": {},
     "output_type": "display_data"
    },
    {
     "data": {
      "text/html": [
       "<pre style=\"white-space:pre;overflow-x:auto;line-height:normal;font-family:Menlo,'DejaVu Sans Mono',consolas,'Courier New',monospace\"><span style=\"color: #808000; text-decoration-color: #808000; font-style: italic\">        Downloading: CrKXvewpK8j</span>\n",
       "</pre>\n"
      ],
      "text/plain": [
       "\u001b[3;33m \u001b[0m\u001b[3;33m       \u001b[0m\u001b[3;33mDownloading: CrKXvewpK8j\u001b[0m\n"
      ]
     },
     "metadata": {},
     "output_type": "display_data"
    },
    {
     "data": {
      "text/html": [
       "<pre style=\"white-space:pre;overflow-x:auto;line-height:normal;font-family:Menlo,'DejaVu Sans Mono',consolas,'Courier New',monospace\"><span style=\"color: #00ff00; text-decoration-color: #00ff00; font-style: italic\">        Saved!</span>\n",
       "</pre>\n"
      ],
      "text/plain": [
       "\u001b[3;92m \u001b[0m\u001b[3;92m       \u001b[0m\u001b[3;92mSaved!\u001b[0m\n"
      ]
     },
     "metadata": {},
     "output_type": "display_data"
    },
    {
     "data": {
      "text/html": [
       "<pre style=\"white-space:pre;overflow-x:auto;line-height:normal;font-family:Menlo,'DejaVu Sans Mono',consolas,'Courier New',monospace\"><span style=\"color: #808000; text-decoration-color: #808000; font-style: italic\">        Downloading: Cq-RhRArhS-</span>\n",
       "</pre>\n"
      ],
      "text/plain": [
       "\u001b[3;33m \u001b[0m\u001b[3;33m       \u001b[0m\u001b[3;33mDownloading: Cq-RhRArhS-\u001b[0m\n"
      ]
     },
     "metadata": {},
     "output_type": "display_data"
    },
    {
     "data": {
      "text/html": [
       "<pre style=\"white-space:pre;overflow-x:auto;line-height:normal;font-family:Menlo,'DejaVu Sans Mono',consolas,'Courier New',monospace\"><span style=\"color: #00ff00; text-decoration-color: #00ff00; font-style: italic\">        Saved!</span>\n",
       "</pre>\n"
      ],
      "text/plain": [
       "\u001b[3;92m \u001b[0m\u001b[3;92m       \u001b[0m\u001b[3;92mSaved!\u001b[0m\n"
      ]
     },
     "metadata": {},
     "output_type": "display_data"
    },
    {
     "data": {
      "text/html": [
       "<pre style=\"white-space:pre;overflow-x:auto;line-height:normal;font-family:Menlo,'DejaVu Sans Mono',consolas,'Courier New',monospace\"><span style=\"color: #808000; text-decoration-color: #808000; font-style: italic\">        Downloading: CsBLDyRrPWm</span>\n",
       "</pre>\n"
      ],
      "text/plain": [
       "\u001b[3;33m \u001b[0m\u001b[3;33m       \u001b[0m\u001b[3;33mDownloading: CsBLDyRrPWm\u001b[0m\n"
      ]
     },
     "metadata": {},
     "output_type": "display_data"
    },
    {
     "data": {
      "text/html": [
       "<pre style=\"white-space:pre;overflow-x:auto;line-height:normal;font-family:Menlo,'DejaVu Sans Mono',consolas,'Courier New',monospace\"><span style=\"color: #00ff00; text-decoration-color: #00ff00; font-style: italic\">        Saved!</span>\n",
       "</pre>\n"
      ],
      "text/plain": [
       "\u001b[3;92m \u001b[0m\u001b[3;92m       \u001b[0m\u001b[3;92mSaved!\u001b[0m\n"
      ]
     },
     "metadata": {},
     "output_type": "display_data"
    },
    {
     "data": {
      "text/html": [
       "<pre style=\"white-space:pre;overflow-x:auto;line-height:normal;font-family:Menlo,'DejaVu Sans Mono',consolas,'Courier New',monospace\"><span style=\"color: #808000; text-decoration-color: #808000; font-style: italic\">        Downloading: CsA1DMyrc8_</span>\n",
       "</pre>\n"
      ],
      "text/plain": [
       "\u001b[3;33m \u001b[0m\u001b[3;33m       \u001b[0m\u001b[3;33mDownloading: CsA1DMyrc8_\u001b[0m\n"
      ]
     },
     "metadata": {},
     "output_type": "display_data"
    },
    {
     "data": {
      "text/html": [
       "<pre style=\"white-space:pre;overflow-x:auto;line-height:normal;font-family:Menlo,'DejaVu Sans Mono',consolas,'Courier New',monospace\"><span style=\"color: #00ff00; text-decoration-color: #00ff00; font-style: italic\">        Saved!</span>\n",
       "</pre>\n"
      ],
      "text/plain": [
       "\u001b[3;92m \u001b[0m\u001b[3;92m       \u001b[0m\u001b[3;92mSaved!\u001b[0m\n"
      ]
     },
     "metadata": {},
     "output_type": "display_data"
    },
    {
     "data": {
      "text/html": [
       "<pre style=\"white-space:pre;overflow-x:auto;line-height:normal;font-family:Menlo,'DejaVu Sans Mono',consolas,'Courier New',monospace\"><span style=\"color: #808000; text-decoration-color: #808000; font-style: italic\">        Downloading: CsAtxXJrtDx</span>\n",
       "</pre>\n"
      ],
      "text/plain": [
       "\u001b[3;33m \u001b[0m\u001b[3;33m       \u001b[0m\u001b[3;33mDownloading: CsAtxXJrtDx\u001b[0m\n"
      ]
     },
     "metadata": {},
     "output_type": "display_data"
    },
    {
     "data": {
      "text/html": [
       "<pre style=\"white-space:pre;overflow-x:auto;line-height:normal;font-family:Menlo,'DejaVu Sans Mono',consolas,'Courier New',monospace\"><span style=\"color: #00ff00; text-decoration-color: #00ff00; font-style: italic\">        Saved!</span>\n",
       "</pre>\n"
      ],
      "text/plain": [
       "\u001b[3;92m \u001b[0m\u001b[3;92m       \u001b[0m\u001b[3;92mSaved!\u001b[0m\n"
      ]
     },
     "metadata": {},
     "output_type": "display_data"
    },
    {
     "data": {
      "text/html": [
       "<pre style=\"white-space:pre;overflow-x:auto;line-height:normal;font-family:Menlo,'DejaVu Sans Mono',consolas,'Courier New',monospace\"><span style=\"color: #808000; text-decoration-color: #808000; font-style: italic\">        Downloading: CsAlEl9LLXQ</span>\n",
       "</pre>\n"
      ],
      "text/plain": [
       "\u001b[3;33m \u001b[0m\u001b[3;33m       \u001b[0m\u001b[3;33mDownloading: CsAlEl9LLXQ\u001b[0m\n"
      ]
     },
     "metadata": {},
     "output_type": "display_data"
    },
    {
     "data": {
      "text/html": [
       "<pre style=\"white-space:pre;overflow-x:auto;line-height:normal;font-family:Menlo,'DejaVu Sans Mono',consolas,'Courier New',monospace\"><span style=\"color: #00ff00; text-decoration-color: #00ff00; font-style: italic\">        Saved!</span>\n",
       "</pre>\n"
      ],
      "text/plain": [
       "\u001b[3;92m \u001b[0m\u001b[3;92m       \u001b[0m\u001b[3;92mSaved!\u001b[0m\n"
      ]
     },
     "metadata": {},
     "output_type": "display_data"
    },
    {
     "name": "stderr",
     "output_type": "stream",
     "text": [
      " 64%|██████▍   | 128/200 [06:21<09:15,  7.71s/it]"
     ]
    },
    {
     "data": {
      "text/html": [
       "<pre style=\"white-space:pre;overflow-x:auto;line-height:normal;font-family:Menlo,'DejaVu Sans Mono',consolas,'Courier New',monospace\">Getting Account Information: <span style=\"color: #008080; text-decoration-color: #008080\">spiritualword</span>\n",
       "</pre>\n"
      ],
      "text/plain": [
       "Getting Account Information: \u001b[36mspiritualword\u001b[0m\n"
      ]
     },
     "metadata": {},
     "output_type": "display_data"
    },
    {
     "data": {
      "text/html": [
       "<pre style=\"white-space:pre;overflow-x:auto;line-height:normal;font-family:Menlo,'DejaVu Sans Mono',consolas,'Courier New',monospace\"><span style=\"color: #808000; text-decoration-color: #808000; font-style: italic\">        Downloading: CfB7VDzANNc</span>\n",
       "</pre>\n"
      ],
      "text/plain": [
       "\u001b[3;33m \u001b[0m\u001b[3;33m       \u001b[0m\u001b[3;33mDownloading: CfB7VDzANNc\u001b[0m\n"
      ]
     },
     "metadata": {},
     "output_type": "display_data"
    },
    {
     "data": {
      "text/html": [
       "<pre style=\"white-space:pre;overflow-x:auto;line-height:normal;font-family:Menlo,'DejaVu Sans Mono',consolas,'Courier New',monospace\"><span style=\"color: #00ff00; text-decoration-color: #00ff00; font-style: italic\">        Saved!</span>\n",
       "</pre>\n"
      ],
      "text/plain": [
       "\u001b[3;92m \u001b[0m\u001b[3;92m       \u001b[0m\u001b[3;92mSaved!\u001b[0m\n"
      ]
     },
     "metadata": {},
     "output_type": "display_data"
    },
    {
     "data": {
      "text/html": [
       "<pre style=\"white-space:pre;overflow-x:auto;line-height:normal;font-family:Menlo,'DejaVu Sans Mono',consolas,'Courier New',monospace\"><span style=\"color: #808000; text-decoration-color: #808000; font-style: italic\">        Downloading: CsAgUzBsKH3</span>\n",
       "</pre>\n"
      ],
      "text/plain": [
       "\u001b[3;33m \u001b[0m\u001b[3;33m       \u001b[0m\u001b[3;33mDownloading: CsAgUzBsKH3\u001b[0m\n"
      ]
     },
     "metadata": {},
     "output_type": "display_data"
    },
    {
     "data": {
      "text/html": [
       "<pre style=\"white-space:pre;overflow-x:auto;line-height:normal;font-family:Menlo,'DejaVu Sans Mono',consolas,'Courier New',monospace\"><span style=\"color: #00ff00; text-decoration-color: #00ff00; font-style: italic\">        Saved!</span>\n",
       "</pre>\n"
      ],
      "text/plain": [
       "\u001b[3;92m \u001b[0m\u001b[3;92m       \u001b[0m\u001b[3;92mSaved!\u001b[0m\n"
      ]
     },
     "metadata": {},
     "output_type": "display_data"
    },
    {
     "data": {
      "text/html": [
       "<pre style=\"white-space:pre;overflow-x:auto;line-height:normal;font-family:Menlo,'DejaVu Sans Mono',consolas,'Courier New',monospace\"><span style=\"color: #808000; text-decoration-color: #808000; font-style: italic\">        Downloading: CsABUVDLqTV</span>\n",
       "</pre>\n"
      ],
      "text/plain": [
       "\u001b[3;33m \u001b[0m\u001b[3;33m       \u001b[0m\u001b[3;33mDownloading: CsABUVDLqTV\u001b[0m\n"
      ]
     },
     "metadata": {},
     "output_type": "display_data"
    },
    {
     "data": {
      "text/html": [
       "<pre style=\"white-space:pre;overflow-x:auto;line-height:normal;font-family:Menlo,'DejaVu Sans Mono',consolas,'Courier New',monospace\"><span style=\"color: #00ff00; text-decoration-color: #00ff00; font-style: italic\">        Saved!</span>\n",
       "</pre>\n"
      ],
      "text/plain": [
       "\u001b[3;92m \u001b[0m\u001b[3;92m       \u001b[0m\u001b[3;92mSaved!\u001b[0m\n"
      ]
     },
     "metadata": {},
     "output_type": "display_data"
    },
    {
     "data": {
      "text/html": [
       "<pre style=\"white-space:pre;overflow-x:auto;line-height:normal;font-family:Menlo,'DejaVu Sans Mono',consolas,'Courier New',monospace\"><span style=\"color: #808000; text-decoration-color: #808000; font-style: italic\">        Downloading: Cr__-ghrVb8</span>\n",
       "</pre>\n"
      ],
      "text/plain": [
       "\u001b[3;33m \u001b[0m\u001b[3;33m       \u001b[0m\u001b[3;33mDownloading: Cr__-ghrVb8\u001b[0m\n"
      ]
     },
     "metadata": {},
     "output_type": "display_data"
    },
    {
     "data": {
      "text/html": [
       "<pre style=\"white-space:pre;overflow-x:auto;line-height:normal;font-family:Menlo,'DejaVu Sans Mono',consolas,'Courier New',monospace\"><span style=\"color: #00ff00; text-decoration-color: #00ff00; font-style: italic\">        Saved!</span>\n",
       "</pre>\n"
      ],
      "text/plain": [
       "\u001b[3;92m \u001b[0m\u001b[3;92m       \u001b[0m\u001b[3;92mSaved!\u001b[0m\n"
      ]
     },
     "metadata": {},
     "output_type": "display_data"
    },
    {
     "data": {
      "text/html": [
       "<pre style=\"white-space:pre;overflow-x:auto;line-height:normal;font-family:Menlo,'DejaVu Sans Mono',consolas,'Courier New',monospace\"><span style=\"color: #808000; text-decoration-color: #808000; font-style: italic\">        Downloading: Cr_-7KtLIIB</span>\n",
       "</pre>\n"
      ],
      "text/plain": [
       "\u001b[3;33m \u001b[0m\u001b[3;33m       \u001b[0m\u001b[3;33mDownloading: Cr_-7KtLIIB\u001b[0m\n"
      ]
     },
     "metadata": {},
     "output_type": "display_data"
    },
    {
     "data": {
      "text/html": [
       "<pre style=\"white-space:pre;overflow-x:auto;line-height:normal;font-family:Menlo,'DejaVu Sans Mono',consolas,'Courier New',monospace\"><span style=\"color: #00ff00; text-decoration-color: #00ff00; font-style: italic\">        Saved!</span>\n",
       "</pre>\n"
      ],
      "text/plain": [
       "\u001b[3;92m \u001b[0m\u001b[3;92m       \u001b[0m\u001b[3;92mSaved!\u001b[0m\n"
      ]
     },
     "metadata": {},
     "output_type": "display_data"
    },
    {
     "data": {
      "text/html": [
       "<pre style=\"white-space:pre;overflow-x:auto;line-height:normal;font-family:Menlo,'DejaVu Sans Mono',consolas,'Courier New',monospace\"><span style=\"color: #808000; text-decoration-color: #808000; font-style: italic\">        Downloading: Cr_p9r0vg5L</span>\n",
       "</pre>\n"
      ],
      "text/plain": [
       "\u001b[3;33m \u001b[0m\u001b[3;33m       \u001b[0m\u001b[3;33mDownloading: Cr_p9r0vg5L\u001b[0m\n"
      ]
     },
     "metadata": {},
     "output_type": "display_data"
    },
    {
     "data": {
      "text/html": [
       "<pre style=\"white-space:pre;overflow-x:auto;line-height:normal;font-family:Menlo,'DejaVu Sans Mono',consolas,'Courier New',monospace\"><span style=\"color: #00ff00; text-decoration-color: #00ff00; font-style: italic\">        Saved!</span>\n",
       "</pre>\n"
      ],
      "text/plain": [
       "\u001b[3;92m \u001b[0m\u001b[3;92m       \u001b[0m\u001b[3;92mSaved!\u001b[0m\n"
      ]
     },
     "metadata": {},
     "output_type": "display_data"
    },
    {
     "data": {
      "text/html": [
       "<pre style=\"white-space:pre;overflow-x:auto;line-height:normal;font-family:Menlo,'DejaVu Sans Mono',consolas,'Courier New',monospace\"><span style=\"color: #808000; text-decoration-color: #808000; font-style: italic\">        Downloading: Cr_mbloJ2Ik</span>\n",
       "</pre>\n"
      ],
      "text/plain": [
       "\u001b[3;33m \u001b[0m\u001b[3;33m       \u001b[0m\u001b[3;33mDownloading: Cr_mbloJ2Ik\u001b[0m\n"
      ]
     },
     "metadata": {},
     "output_type": "display_data"
    },
    {
     "data": {
      "text/html": [
       "<pre style=\"white-space:pre;overflow-x:auto;line-height:normal;font-family:Menlo,'DejaVu Sans Mono',consolas,'Courier New',monospace\"><span style=\"color: #00ff00; text-decoration-color: #00ff00; font-style: italic\">        Saved!</span>\n",
       "</pre>\n"
      ],
      "text/plain": [
       "\u001b[3;92m \u001b[0m\u001b[3;92m       \u001b[0m\u001b[3;92mSaved!\u001b[0m\n"
      ]
     },
     "metadata": {},
     "output_type": "display_data"
    },
    {
     "data": {
      "text/html": [
       "<pre style=\"white-space:pre;overflow-x:auto;line-height:normal;font-family:Menlo,'DejaVu Sans Mono',consolas,'Courier New',monospace\"><span style=\"color: #808000; text-decoration-color: #808000; font-style: italic\">        Downloading: Cr_mDbcJDdt</span>\n",
       "</pre>\n"
      ],
      "text/plain": [
       "\u001b[3;33m \u001b[0m\u001b[3;33m       \u001b[0m\u001b[3;33mDownloading: Cr_mDbcJDdt\u001b[0m\n"
      ]
     },
     "metadata": {},
     "output_type": "display_data"
    },
    {
     "data": {
      "text/html": [
       "<pre style=\"white-space:pre;overflow-x:auto;line-height:normal;font-family:Menlo,'DejaVu Sans Mono',consolas,'Courier New',monospace\"><span style=\"color: #00ff00; text-decoration-color: #00ff00; font-style: italic\">        Saved!</span>\n",
       "</pre>\n"
      ],
      "text/plain": [
       "\u001b[3;92m \u001b[0m\u001b[3;92m       \u001b[0m\u001b[3;92mSaved!\u001b[0m\n"
      ]
     },
     "metadata": {},
     "output_type": "display_data"
    },
    {
     "data": {
      "text/html": [
       "<pre style=\"white-space:pre;overflow-x:auto;line-height:normal;font-family:Menlo,'DejaVu Sans Mono',consolas,'Courier New',monospace\"><span style=\"color: #808000; text-decoration-color: #808000; font-style: italic\">        Downloading: Cr_lZcPJu2A</span>\n",
       "</pre>\n"
      ],
      "text/plain": [
       "\u001b[3;33m \u001b[0m\u001b[3;33m       \u001b[0m\u001b[3;33mDownloading: Cr_lZcPJu2A\u001b[0m\n"
      ]
     },
     "metadata": {},
     "output_type": "display_data"
    },
    {
     "data": {
      "text/html": [
       "<pre style=\"white-space:pre;overflow-x:auto;line-height:normal;font-family:Menlo,'DejaVu Sans Mono',consolas,'Courier New',monospace\"><span style=\"color: #00ff00; text-decoration-color: #00ff00; font-style: italic\">        Saved!</span>\n",
       "</pre>\n"
      ],
      "text/plain": [
       "\u001b[3;92m \u001b[0m\u001b[3;92m       \u001b[0m\u001b[3;92mSaved!\u001b[0m\n"
      ]
     },
     "metadata": {},
     "output_type": "display_data"
    },
    {
     "name": "stderr",
     "output_type": "stream",
     "text": [
      " 64%|██████▍   | 129/200 [06:34<10:19,  8.73s/it]"
     ]
    },
    {
     "data": {
      "text/html": [
       "<pre style=\"white-space:pre;overflow-x:auto;line-height:normal;font-family:Menlo,'DejaVu Sans Mono',consolas,'Courier New',monospace\">Getting Account Information: <span style=\"color: #008080; text-decoration-color: #008080\">memelasdeorizaba</span>\n",
       "</pre>\n"
      ],
      "text/plain": [
       "Getting Account Information: \u001b[36mmemelasdeorizaba\u001b[0m\n"
      ]
     },
     "metadata": {},
     "output_type": "display_data"
    },
    {
     "data": {
      "text/html": [
       "<pre style=\"white-space:pre;overflow-x:auto;line-height:normal;font-family:Menlo,'DejaVu Sans Mono',consolas,'Courier New',monospace\"><span style=\"color: #800000; text-decoration-color: #800000; font-weight: bold\">        Image already exists, Skipping</span><span style=\"color: #808000; text-decoration-color: #808000; font-weight: bold\">...</span>\n",
       "</pre>\n"
      ],
      "text/plain": [
       "\u001b[1;31m \u001b[0m\u001b[1;31m       \u001b[0m\u001b[1;31mImage already exists, Skipping\u001b[0m\u001b[1;33m...\u001b[0m\n"
      ]
     },
     "metadata": {},
     "output_type": "display_data"
    },
    {
     "data": {
      "text/html": [
       "<pre style=\"white-space:pre;overflow-x:auto;line-height:normal;font-family:Menlo,'DejaVu Sans Mono',consolas,'Courier New',monospace\"><span style=\"color: #808000; text-decoration-color: #808000; font-style: italic\">        Downloading: CmClQFruyud</span>\n",
       "</pre>\n"
      ],
      "text/plain": [
       "\u001b[3;33m \u001b[0m\u001b[3;33m       \u001b[0m\u001b[3;33mDownloading: CmClQFruyud\u001b[0m\n"
      ]
     },
     "metadata": {},
     "output_type": "display_data"
    },
    {
     "data": {
      "text/html": [
       "<pre style=\"white-space:pre;overflow-x:auto;line-height:normal;font-family:Menlo,'DejaVu Sans Mono',consolas,'Courier New',monospace\"><span style=\"color: #00ff00; text-decoration-color: #00ff00; font-style: italic\">        Saved!</span>\n",
       "</pre>\n"
      ],
      "text/plain": [
       "\u001b[3;92m \u001b[0m\u001b[3;92m       \u001b[0m\u001b[3;92mSaved!\u001b[0m\n"
      ]
     },
     "metadata": {},
     "output_type": "display_data"
    },
    {
     "data": {
      "text/html": [
       "<pre style=\"white-space:pre;overflow-x:auto;line-height:normal;font-family:Menlo,'DejaVu Sans Mono',consolas,'Courier New',monospace\"><span style=\"color: #800000; text-decoration-color: #800000; font-weight: bold\">        Image already exists, Skipping</span><span style=\"color: #808000; text-decoration-color: #808000; font-weight: bold\">...</span>\n",
       "</pre>\n"
      ],
      "text/plain": [
       "\u001b[1;31m \u001b[0m\u001b[1;31m       \u001b[0m\u001b[1;31mImage already exists, Skipping\u001b[0m\u001b[1;33m...\u001b[0m\n"
      ]
     },
     "metadata": {},
     "output_type": "display_data"
    },
    {
     "data": {
      "text/html": [
       "<pre style=\"white-space:pre;overflow-x:auto;line-height:normal;font-family:Menlo,'DejaVu Sans Mono',consolas,'Courier New',monospace\"><span style=\"color: #808000; text-decoration-color: #808000; font-style: italic\">        Downloading: CsAZguPuovB</span>\n",
       "</pre>\n"
      ],
      "text/plain": [
       "\u001b[3;33m \u001b[0m\u001b[3;33m       \u001b[0m\u001b[3;33mDownloading: CsAZguPuovB\u001b[0m\n"
      ]
     },
     "metadata": {},
     "output_type": "display_data"
    },
    {
     "data": {
      "text/html": [
       "<pre style=\"white-space:pre;overflow-x:auto;line-height:normal;font-family:Menlo,'DejaVu Sans Mono',consolas,'Courier New',monospace\"><span style=\"color: #00ff00; text-decoration-color: #00ff00; font-style: italic\">        Saved!</span>\n",
       "</pre>\n"
      ],
      "text/plain": [
       "\u001b[3;92m \u001b[0m\u001b[3;92m       \u001b[0m\u001b[3;92mSaved!\u001b[0m\n"
      ]
     },
     "metadata": {},
     "output_type": "display_data"
    },
    {
     "data": {
      "text/html": [
       "<pre style=\"white-space:pre;overflow-x:auto;line-height:normal;font-family:Menlo,'DejaVu Sans Mono',consolas,'Courier New',monospace\"><span style=\"color: #808000; text-decoration-color: #808000; font-style: italic\">        Downloading: CsAHN2UuXSy</span>\n",
       "</pre>\n"
      ],
      "text/plain": [
       "\u001b[3;33m \u001b[0m\u001b[3;33m       \u001b[0m\u001b[3;33mDownloading: CsAHN2UuXSy\u001b[0m\n"
      ]
     },
     "metadata": {},
     "output_type": "display_data"
    },
    {
     "data": {
      "text/html": [
       "<pre style=\"white-space:pre;overflow-x:auto;line-height:normal;font-family:Menlo,'DejaVu Sans Mono',consolas,'Courier New',monospace\"><span style=\"color: #00ff00; text-decoration-color: #00ff00; font-style: italic\">        Saved!</span>\n",
       "</pre>\n"
      ],
      "text/plain": [
       "\u001b[3;92m \u001b[0m\u001b[3;92m       \u001b[0m\u001b[3;92mSaved!\u001b[0m\n"
      ]
     },
     "metadata": {},
     "output_type": "display_data"
    },
    {
     "data": {
      "text/html": [
       "<pre style=\"white-space:pre;overflow-x:auto;line-height:normal;font-family:Menlo,'DejaVu Sans Mono',consolas,'Courier New',monospace\"><span style=\"color: #808000; text-decoration-color: #808000; font-style: italic\">        Downloading: Cr_siPTuvgt</span>\n",
       "</pre>\n"
      ],
      "text/plain": [
       "\u001b[3;33m \u001b[0m\u001b[3;33m       \u001b[0m\u001b[3;33mDownloading: Cr_siPTuvgt\u001b[0m\n"
      ]
     },
     "metadata": {},
     "output_type": "display_data"
    },
    {
     "data": {
      "text/html": [
       "<pre style=\"white-space:pre;overflow-x:auto;line-height:normal;font-family:Menlo,'DejaVu Sans Mono',consolas,'Courier New',monospace\"><span style=\"color: #00ff00; text-decoration-color: #00ff00; font-style: italic\">        Saved!</span>\n",
       "</pre>\n"
      ],
      "text/plain": [
       "\u001b[3;92m \u001b[0m\u001b[3;92m       \u001b[0m\u001b[3;92mSaved!\u001b[0m\n"
      ]
     },
     "metadata": {},
     "output_type": "display_data"
    },
    {
     "data": {
      "text/html": [
       "<pre style=\"white-space:pre;overflow-x:auto;line-height:normal;font-family:Menlo,'DejaVu Sans Mono',consolas,'Courier New',monospace\"><span style=\"color: #808000; text-decoration-color: #808000; font-style: italic\">        Downloading: Cr_jpvcuifv</span>\n",
       "</pre>\n"
      ],
      "text/plain": [
       "\u001b[3;33m \u001b[0m\u001b[3;33m       \u001b[0m\u001b[3;33mDownloading: Cr_jpvcuifv\u001b[0m\n"
      ]
     },
     "metadata": {},
     "output_type": "display_data"
    },
    {
     "data": {
      "text/html": [
       "<pre style=\"white-space:pre;overflow-x:auto;line-height:normal;font-family:Menlo,'DejaVu Sans Mono',consolas,'Courier New',monospace\"><span style=\"color: #00ff00; text-decoration-color: #00ff00; font-style: italic\">        Saved!</span>\n",
       "</pre>\n"
      ],
      "text/plain": [
       "\u001b[3;92m \u001b[0m\u001b[3;92m       \u001b[0m\u001b[3;92mSaved!\u001b[0m\n"
      ]
     },
     "metadata": {},
     "output_type": "display_data"
    },
    {
     "data": {
      "text/html": [
       "<pre style=\"white-space:pre;overflow-x:auto;line-height:normal;font-family:Menlo,'DejaVu Sans Mono',consolas,'Courier New',monospace\"><span style=\"color: #808000; text-decoration-color: #808000; font-style: italic\">        Downloading: Cr-CDPMu0uJ</span>\n",
       "</pre>\n"
      ],
      "text/plain": [
       "\u001b[3;33m \u001b[0m\u001b[3;33m       \u001b[0m\u001b[3;33mDownloading: Cr-CDPMu0uJ\u001b[0m\n"
      ]
     },
     "metadata": {},
     "output_type": "display_data"
    },
    {
     "data": {
      "text/html": [
       "<pre style=\"white-space:pre;overflow-x:auto;line-height:normal;font-family:Menlo,'DejaVu Sans Mono',consolas,'Courier New',monospace\"><span style=\"color: #00ff00; text-decoration-color: #00ff00; font-style: italic\">        Saved!</span>\n",
       "</pre>\n"
      ],
      "text/plain": [
       "\u001b[3;92m \u001b[0m\u001b[3;92m       \u001b[0m\u001b[3;92mSaved!\u001b[0m\n"
      ]
     },
     "metadata": {},
     "output_type": "display_data"
    },
    {
     "data": {
      "text/html": [
       "<pre style=\"white-space:pre;overflow-x:auto;line-height:normal;font-family:Menlo,'DejaVu Sans Mono',consolas,'Courier New',monospace\"><span style=\"color: #808000; text-decoration-color: #808000; font-style: italic\">        Downloading: Cr9h0WOO3UT</span>\n",
       "</pre>\n"
      ],
      "text/plain": [
       "\u001b[3;33m \u001b[0m\u001b[3;33m       \u001b[0m\u001b[3;33mDownloading: Cr9h0WOO3UT\u001b[0m\n"
      ]
     },
     "metadata": {},
     "output_type": "display_data"
    },
    {
     "data": {
      "text/html": [
       "<pre style=\"white-space:pre;overflow-x:auto;line-height:normal;font-family:Menlo,'DejaVu Sans Mono',consolas,'Courier New',monospace\"><span style=\"color: #00ff00; text-decoration-color: #00ff00; font-style: italic\">        Saved!</span>\n",
       "</pre>\n"
      ],
      "text/plain": [
       "\u001b[3;92m \u001b[0m\u001b[3;92m       \u001b[0m\u001b[3;92mSaved!\u001b[0m\n"
      ]
     },
     "metadata": {},
     "output_type": "display_data"
    },
    {
     "name": "stderr",
     "output_type": "stream",
     "text": [
      " 65%|██████▌   | 130/200 [06:42<10:05,  8.64s/it]"
     ]
    },
    {
     "data": {
      "text/html": [
       "<pre style=\"white-space:pre;overflow-x:auto;line-height:normal;font-family:Menlo,'DejaVu Sans Mono',consolas,'Courier New',monospace\">Getting Account Information: <span style=\"color: #008080; text-decoration-color: #008080\">cabronazi</span>\n",
       "</pre>\n"
      ],
      "text/plain": [
       "Getting Account Information: \u001b[36mcabronazi\u001b[0m\n"
      ]
     },
     "metadata": {},
     "output_type": "display_data"
    },
    {
     "data": {
      "text/html": [
       "<pre style=\"white-space:pre;overflow-x:auto;line-height:normal;font-family:Menlo,'DejaVu Sans Mono',consolas,'Courier New',monospace\"><span style=\"color: #800000; text-decoration-color: #800000; font-weight: bold\">        Image already exists, Skipping</span><span style=\"color: #808000; text-decoration-color: #808000; font-weight: bold\">...</span>\n",
       "</pre>\n"
      ],
      "text/plain": [
       "\u001b[1;31m \u001b[0m\u001b[1;31m       \u001b[0m\u001b[1;31mImage already exists, Skipping\u001b[0m\u001b[1;33m...\u001b[0m\n"
      ]
     },
     "metadata": {},
     "output_type": "display_data"
    },
    {
     "data": {
      "text/html": [
       "<pre style=\"white-space:pre;overflow-x:auto;line-height:normal;font-family:Menlo,'DejaVu Sans Mono',consolas,'Courier New',monospace\"><span style=\"color: #808000; text-decoration-color: #808000; font-style: italic\">        Downloading: CsBMMz0oIhQ</span>\n",
       "</pre>\n"
      ],
      "text/plain": [
       "\u001b[3;33m \u001b[0m\u001b[3;33m       \u001b[0m\u001b[3;33mDownloading: CsBMMz0oIhQ\u001b[0m\n"
      ]
     },
     "metadata": {},
     "output_type": "display_data"
    },
    {
     "data": {
      "text/html": [
       "<pre style=\"white-space:pre;overflow-x:auto;line-height:normal;font-family:Menlo,'DejaVu Sans Mono',consolas,'Courier New',monospace\"><span style=\"color: #00ff00; text-decoration-color: #00ff00; font-style: italic\">        Saved!</span>\n",
       "</pre>\n"
      ],
      "text/plain": [
       "\u001b[3;92m \u001b[0m\u001b[3;92m       \u001b[0m\u001b[3;92mSaved!\u001b[0m\n"
      ]
     },
     "metadata": {},
     "output_type": "display_data"
    },
    {
     "data": {
      "text/html": [
       "<pre style=\"white-space:pre;overflow-x:auto;line-height:normal;font-family:Menlo,'DejaVu Sans Mono',consolas,'Courier New',monospace\"><span style=\"color: #808000; text-decoration-color: #808000; font-style: italic\">        Downloading: CsBCzMioFjA</span>\n",
       "</pre>\n"
      ],
      "text/plain": [
       "\u001b[3;33m \u001b[0m\u001b[3;33m       \u001b[0m\u001b[3;33mDownloading: CsBCzMioFjA\u001b[0m\n"
      ]
     },
     "metadata": {},
     "output_type": "display_data"
    },
    {
     "data": {
      "text/html": [
       "<pre style=\"white-space:pre;overflow-x:auto;line-height:normal;font-family:Menlo,'DejaVu Sans Mono',consolas,'Courier New',monospace\"><span style=\"color: #00ff00; text-decoration-color: #00ff00; font-style: italic\">        Saved!</span>\n",
       "</pre>\n"
      ],
      "text/plain": [
       "\u001b[3;92m \u001b[0m\u001b[3;92m       \u001b[0m\u001b[3;92mSaved!\u001b[0m\n"
      ]
     },
     "metadata": {},
     "output_type": "display_data"
    },
    {
     "data": {
      "text/html": [
       "<pre style=\"white-space:pre;overflow-x:auto;line-height:normal;font-family:Menlo,'DejaVu Sans Mono',consolas,'Courier New',monospace\"><span style=\"color: #808000; text-decoration-color: #808000; font-style: italic\">        Downloading: CsA2T7YI4hj</span>\n",
       "</pre>\n"
      ],
      "text/plain": [
       "\u001b[3;33m \u001b[0m\u001b[3;33m       \u001b[0m\u001b[3;33mDownloading: CsA2T7YI4hj\u001b[0m\n"
      ]
     },
     "metadata": {},
     "output_type": "display_data"
    },
    {
     "data": {
      "text/html": [
       "<pre style=\"white-space:pre;overflow-x:auto;line-height:normal;font-family:Menlo,'DejaVu Sans Mono',consolas,'Courier New',monospace\"><span style=\"color: #00ff00; text-decoration-color: #00ff00; font-style: italic\">        Saved!</span>\n",
       "</pre>\n"
      ],
      "text/plain": [
       "\u001b[3;92m \u001b[0m\u001b[3;92m       \u001b[0m\u001b[3;92mSaved!\u001b[0m\n"
      ]
     },
     "metadata": {},
     "output_type": "display_data"
    },
    {
     "data": {
      "text/html": [
       "<pre style=\"white-space:pre;overflow-x:auto;line-height:normal;font-family:Menlo,'DejaVu Sans Mono',consolas,'Courier New',monospace\"><span style=\"color: #808000; text-decoration-color: #808000; font-style: italic\">        Downloading: Cr_jxGPo86B</span>\n",
       "</pre>\n"
      ],
      "text/plain": [
       "\u001b[3;33m \u001b[0m\u001b[3;33m       \u001b[0m\u001b[3;33mDownloading: Cr_jxGPo86B\u001b[0m\n"
      ]
     },
     "metadata": {},
     "output_type": "display_data"
    },
    {
     "data": {
      "text/html": [
       "<pre style=\"white-space:pre;overflow-x:auto;line-height:normal;font-family:Menlo,'DejaVu Sans Mono',consolas,'Courier New',monospace\"><span style=\"color: #00ff00; text-decoration-color: #00ff00; font-style: italic\">        Saved!</span>\n",
       "</pre>\n"
      ],
      "text/plain": [
       "\u001b[3;92m \u001b[0m\u001b[3;92m       \u001b[0m\u001b[3;92mSaved!\u001b[0m\n"
      ]
     },
     "metadata": {},
     "output_type": "display_data"
    },
    {
     "data": {
      "text/html": [
       "<pre style=\"white-space:pre;overflow-x:auto;line-height:normal;font-family:Menlo,'DejaVu Sans Mono',consolas,'Courier New',monospace\">Getting Account Information: <span style=\"color: #008080; text-decoration-color: #008080\">deertybhr</span>\n",
       "</pre>\n"
      ],
      "text/plain": [
       "Getting Account Information: \u001b[36mdeertybhr\u001b[0m\n"
      ]
     },
     "metadata": {},
     "output_type": "display_data"
    },
    {
     "data": {
      "text/html": [
       "<pre style=\"white-space:pre;overflow-x:auto;line-height:normal;font-family:Menlo,'DejaVu Sans Mono',consolas,'Courier New',monospace\"><span style=\"color: #800000; text-decoration-color: #800000; font-weight: bold\">        Response is empty for deertybhr skipping</span><span style=\"color: #808000; text-decoration-color: #808000; font-weight: bold\">...</span>\n",
       "</pre>\n"
      ],
      "text/plain": [
       "\u001b[1;31m \u001b[0m\u001b[1;31m       \u001b[0m\u001b[1;31mResponse is empty for deertybhr skipping\u001b[0m\u001b[1;33m...\u001b[0m\n"
      ]
     },
     "metadata": {},
     "output_type": "display_data"
    },
    {
     "name": "stderr",
     "output_type": "stream",
     "text": [
      " 66%|██████▌   | 132/200 [06:50<07:40,  6.78s/it]"
     ]
    },
    {
     "data": {
      "text/html": [
       "<pre style=\"white-space:pre;overflow-x:auto;line-height:normal;font-family:Menlo,'DejaVu Sans Mono',consolas,'Courier New',monospace\">Getting Account Information: <span style=\"color: #008080; text-decoration-color: #008080\">nfl</span>\n",
       "</pre>\n"
      ],
      "text/plain": [
       "Getting Account Information: \u001b[36mnfl\u001b[0m\n"
      ]
     },
     "metadata": {},
     "output_type": "display_data"
    },
    {
     "data": {
      "text/html": [
       "<pre style=\"white-space:pre;overflow-x:auto;line-height:normal;font-family:Menlo,'DejaVu Sans Mono',consolas,'Courier New',monospace\"><span style=\"color: #808000; text-decoration-color: #808000; font-style: italic\">        Downloading: Cr_vpgLSIST</span>\n",
       "</pre>\n"
      ],
      "text/plain": [
       "\u001b[3;33m \u001b[0m\u001b[3;33m       \u001b[0m\u001b[3;33mDownloading: Cr_vpgLSIST\u001b[0m\n"
      ]
     },
     "metadata": {},
     "output_type": "display_data"
    },
    {
     "data": {
      "text/html": [
       "<pre style=\"white-space:pre;overflow-x:auto;line-height:normal;font-family:Menlo,'DejaVu Sans Mono',consolas,'Courier New',monospace\"><span style=\"color: #00ff00; text-decoration-color: #00ff00; font-style: italic\">        Saved!</span>\n",
       "</pre>\n"
      ],
      "text/plain": [
       "\u001b[3;92m \u001b[0m\u001b[3;92m       \u001b[0m\u001b[3;92mSaved!\u001b[0m\n"
      ]
     },
     "metadata": {},
     "output_type": "display_data"
    },
    {
     "data": {
      "text/html": [
       "<pre style=\"white-space:pre;overflow-x:auto;line-height:normal;font-family:Menlo,'DejaVu Sans Mono',consolas,'Courier New',monospace\"><span style=\"color: #808000; text-decoration-color: #808000; font-style: italic\">        Downloading: CsAF81kvO5o</span>\n",
       "</pre>\n"
      ],
      "text/plain": [
       "\u001b[3;33m \u001b[0m\u001b[3;33m       \u001b[0m\u001b[3;33mDownloading: CsAF81kvO5o\u001b[0m\n"
      ]
     },
     "metadata": {},
     "output_type": "display_data"
    },
    {
     "data": {
      "text/html": [
       "<pre style=\"white-space:pre;overflow-x:auto;line-height:normal;font-family:Menlo,'DejaVu Sans Mono',consolas,'Courier New',monospace\"><span style=\"color: #00ff00; text-decoration-color: #00ff00; font-style: italic\">        Saved!</span>\n",
       "</pre>\n"
      ],
      "text/plain": [
       "\u001b[3;92m \u001b[0m\u001b[3;92m       \u001b[0m\u001b[3;92mSaved!\u001b[0m\n"
      ]
     },
     "metadata": {},
     "output_type": "display_data"
    },
    {
     "data": {
      "text/html": [
       "<pre style=\"white-space:pre;overflow-x:auto;line-height:normal;font-family:Menlo,'DejaVu Sans Mono',consolas,'Courier New',monospace\"><span style=\"color: #808000; text-decoration-color: #808000; font-style: italic\">        Downloading: Cr_xuq2gfbl</span>\n",
       "</pre>\n"
      ],
      "text/plain": [
       "\u001b[3;33m \u001b[0m\u001b[3;33m       \u001b[0m\u001b[3;33mDownloading: Cr_xuq2gfbl\u001b[0m\n"
      ]
     },
     "metadata": {},
     "output_type": "display_data"
    },
    {
     "data": {
      "text/html": [
       "<pre style=\"white-space:pre;overflow-x:auto;line-height:normal;font-family:Menlo,'DejaVu Sans Mono',consolas,'Courier New',monospace\"><span style=\"color: #00ff00; text-decoration-color: #00ff00; font-style: italic\">        Saved!</span>\n",
       "</pre>\n"
      ],
      "text/plain": [
       "\u001b[3;92m \u001b[0m\u001b[3;92m       \u001b[0m\u001b[3;92mSaved!\u001b[0m\n"
      ]
     },
     "metadata": {},
     "output_type": "display_data"
    },
    {
     "data": {
      "text/html": [
       "<pre style=\"white-space:pre;overflow-x:auto;line-height:normal;font-family:Menlo,'DejaVu Sans Mono',consolas,'Courier New',monospace\"><span style=\"color: #808000; text-decoration-color: #808000; font-style: italic\">        Downloading: Cr_c0-EpF2a</span>\n",
       "</pre>\n"
      ],
      "text/plain": [
       "\u001b[3;33m \u001b[0m\u001b[3;33m       \u001b[0m\u001b[3;33mDownloading: Cr_c0-EpF2a\u001b[0m\n"
      ]
     },
     "metadata": {},
     "output_type": "display_data"
    },
    {
     "data": {
      "text/html": [
       "<pre style=\"white-space:pre;overflow-x:auto;line-height:normal;font-family:Menlo,'DejaVu Sans Mono',consolas,'Courier New',monospace\"><span style=\"color: #00ff00; text-decoration-color: #00ff00; font-style: italic\">        Saved!</span>\n",
       "</pre>\n"
      ],
      "text/plain": [
       "\u001b[3;92m \u001b[0m\u001b[3;92m       \u001b[0m\u001b[3;92mSaved!\u001b[0m\n"
      ]
     },
     "metadata": {},
     "output_type": "display_data"
    },
    {
     "data": {
      "text/html": [
       "<pre style=\"white-space:pre;overflow-x:auto;line-height:normal;font-family:Menlo,'DejaVu Sans Mono',consolas,'Courier New',monospace\"><span style=\"color: #808000; text-decoration-color: #808000; font-style: italic\">        Downloading: Cr_U2L8NIEe</span>\n",
       "</pre>\n"
      ],
      "text/plain": [
       "\u001b[3;33m \u001b[0m\u001b[3;33m       \u001b[0m\u001b[3;33mDownloading: Cr_U2L8NIEe\u001b[0m\n"
      ]
     },
     "metadata": {},
     "output_type": "display_data"
    },
    {
     "data": {
      "text/html": [
       "<pre style=\"white-space:pre;overflow-x:auto;line-height:normal;font-family:Menlo,'DejaVu Sans Mono',consolas,'Courier New',monospace\"><span style=\"color: #00ff00; text-decoration-color: #00ff00; font-style: italic\">        Saved!</span>\n",
       "</pre>\n"
      ],
      "text/plain": [
       "\u001b[3;92m \u001b[0m\u001b[3;92m       \u001b[0m\u001b[3;92mSaved!\u001b[0m\n"
      ]
     },
     "metadata": {},
     "output_type": "display_data"
    },
    {
     "data": {
      "text/html": [
       "<pre style=\"white-space:pre;overflow-x:auto;line-height:normal;font-family:Menlo,'DejaVu Sans Mono',consolas,'Courier New',monospace\"><span style=\"color: #808000; text-decoration-color: #808000; font-style: italic\">        Downloading: Cr_T9pUAIH5</span>\n",
       "</pre>\n"
      ],
      "text/plain": [
       "\u001b[3;33m \u001b[0m\u001b[3;33m       \u001b[0m\u001b[3;33mDownloading: Cr_T9pUAIH5\u001b[0m\n"
      ]
     },
     "metadata": {},
     "output_type": "display_data"
    },
    {
     "data": {
      "text/html": [
       "<pre style=\"white-space:pre;overflow-x:auto;line-height:normal;font-family:Menlo,'DejaVu Sans Mono',consolas,'Courier New',monospace\"><span style=\"color: #00ff00; text-decoration-color: #00ff00; font-style: italic\">        Saved!</span>\n",
       "</pre>\n"
      ],
      "text/plain": [
       "\u001b[3;92m \u001b[0m\u001b[3;92m       \u001b[0m\u001b[3;92mSaved!\u001b[0m\n"
      ]
     },
     "metadata": {},
     "output_type": "display_data"
    },
    {
     "name": "stderr",
     "output_type": "stream",
     "text": [
      " 66%|██████▋   | 133/200 [07:03<09:05,  8.15s/it]"
     ]
    },
    {
     "data": {
      "text/html": [
       "<pre style=\"white-space:pre;overflow-x:auto;line-height:normal;font-family:Menlo,'DejaVu Sans Mono',consolas,'Courier New',monospace\">Getting Account Information: <span style=\"color: #008080; text-decoration-color: #008080\">viralbhayani</span>\n",
       "</pre>\n"
      ],
      "text/plain": [
       "Getting Account Information: \u001b[36mviralbhayani\u001b[0m\n"
      ]
     },
     "metadata": {},
     "output_type": "display_data"
    },
    {
     "data": {
      "text/html": [
       "<pre style=\"white-space:pre;overflow-x:auto;line-height:normal;font-family:Menlo,'DejaVu Sans Mono',consolas,'Courier New',monospace\"><span style=\"color: #808000; text-decoration-color: #808000; font-style: italic\">        Downloading: CsA-012LHWF</span>\n",
       "</pre>\n"
      ],
      "text/plain": [
       "\u001b[3;33m \u001b[0m\u001b[3;33m       \u001b[0m\u001b[3;33mDownloading: CsA-012LHWF\u001b[0m\n"
      ]
     },
     "metadata": {},
     "output_type": "display_data"
    },
    {
     "data": {
      "text/html": [
       "<pre style=\"white-space:pre;overflow-x:auto;line-height:normal;font-family:Menlo,'DejaVu Sans Mono',consolas,'Courier New',monospace\"><span style=\"color: #00ff00; text-decoration-color: #00ff00; font-style: italic\">        Saved!</span>\n",
       "</pre>\n"
      ],
      "text/plain": [
       "\u001b[3;92m \u001b[0m\u001b[3;92m       \u001b[0m\u001b[3;92mSaved!\u001b[0m\n"
      ]
     },
     "metadata": {},
     "output_type": "display_data"
    },
    {
     "data": {
      "text/html": [
       "<pre style=\"white-space:pre;overflow-x:auto;line-height:normal;font-family:Menlo,'DejaVu Sans Mono',consolas,'Courier New',monospace\"><span style=\"color: #808000; text-decoration-color: #808000; font-style: italic\">        Downloading: CsA-YECrX6c</span>\n",
       "</pre>\n"
      ],
      "text/plain": [
       "\u001b[3;33m \u001b[0m\u001b[3;33m       \u001b[0m\u001b[3;33mDownloading: CsA-YECrX6c\u001b[0m\n"
      ]
     },
     "metadata": {},
     "output_type": "display_data"
    },
    {
     "data": {
      "text/html": [
       "<pre style=\"white-space:pre;overflow-x:auto;line-height:normal;font-family:Menlo,'DejaVu Sans Mono',consolas,'Courier New',monospace\"><span style=\"color: #00ff00; text-decoration-color: #00ff00; font-style: italic\">        Saved!</span>\n",
       "</pre>\n"
      ],
      "text/plain": [
       "\u001b[3;92m \u001b[0m\u001b[3;92m       \u001b[0m\u001b[3;92mSaved!\u001b[0m\n"
      ]
     },
     "metadata": {},
     "output_type": "display_data"
    },
    {
     "data": {
      "text/html": [
       "<pre style=\"white-space:pre;overflow-x:auto;line-height:normal;font-family:Menlo,'DejaVu Sans Mono',consolas,'Courier New',monospace\"><span style=\"color: #808000; text-decoration-color: #808000; font-style: italic\">        Downloading: CsA6MqrKPAT</span>\n",
       "</pre>\n"
      ],
      "text/plain": [
       "\u001b[3;33m \u001b[0m\u001b[3;33m       \u001b[0m\u001b[3;33mDownloading: CsA6MqrKPAT\u001b[0m\n"
      ]
     },
     "metadata": {},
     "output_type": "display_data"
    },
    {
     "data": {
      "text/html": [
       "<pre style=\"white-space:pre;overflow-x:auto;line-height:normal;font-family:Menlo,'DejaVu Sans Mono',consolas,'Courier New',monospace\"><span style=\"color: #00ff00; text-decoration-color: #00ff00; font-style: italic\">        Saved!</span>\n",
       "</pre>\n"
      ],
      "text/plain": [
       "\u001b[3;92m \u001b[0m\u001b[3;92m       \u001b[0m\u001b[3;92mSaved!\u001b[0m\n"
      ]
     },
     "metadata": {},
     "output_type": "display_data"
    },
    {
     "name": "stderr",
     "output_type": "stream",
     "text": [
      " 67%|██████▋   | 134/200 [07:10<08:45,  7.96s/it]"
     ]
    },
    {
     "data": {
      "text/html": [
       "<pre style=\"white-space:pre;overflow-x:auto;line-height:normal;font-family:Menlo,'DejaVu Sans Mono',consolas,'Courier New',monospace\">Getting Account Information: <span style=\"color: #008080; text-decoration-color: #008080\">complex</span>\n",
       "</pre>\n"
      ],
      "text/plain": [
       "Getting Account Information: \u001b[36mcomplex\u001b[0m\n"
      ]
     },
     "metadata": {},
     "output_type": "display_data"
    },
    {
     "data": {
      "text/html": [
       "<pre style=\"white-space:pre;overflow-x:auto;line-height:normal;font-family:Menlo,'DejaVu Sans Mono',consolas,'Courier New',monospace\"><span style=\"color: #808000; text-decoration-color: #808000; font-style: italic\">        Downloading: CsAopbPuQgq</span>\n",
       "</pre>\n"
      ],
      "text/plain": [
       "\u001b[3;33m \u001b[0m\u001b[3;33m       \u001b[0m\u001b[3;33mDownloading: CsAopbPuQgq\u001b[0m\n"
      ]
     },
     "metadata": {},
     "output_type": "display_data"
    },
    {
     "data": {
      "text/html": [
       "<pre style=\"white-space:pre;overflow-x:auto;line-height:normal;font-family:Menlo,'DejaVu Sans Mono',consolas,'Courier New',monospace\"><span style=\"color: #00ff00; text-decoration-color: #00ff00; font-style: italic\">        Saved!</span>\n",
       "</pre>\n"
      ],
      "text/plain": [
       "\u001b[3;92m \u001b[0m\u001b[3;92m       \u001b[0m\u001b[3;92mSaved!\u001b[0m\n"
      ]
     },
     "metadata": {},
     "output_type": "display_data"
    },
    {
     "data": {
      "text/html": [
       "<pre style=\"white-space:pre;overflow-x:auto;line-height:normal;font-family:Menlo,'DejaVu Sans Mono',consolas,'Courier New',monospace\"><span style=\"color: #808000; text-decoration-color: #808000; font-style: italic\">        Downloading: CsAmXNQOGkt</span>\n",
       "</pre>\n"
      ],
      "text/plain": [
       "\u001b[3;33m \u001b[0m\u001b[3;33m       \u001b[0m\u001b[3;33mDownloading: CsAmXNQOGkt\u001b[0m\n"
      ]
     },
     "metadata": {},
     "output_type": "display_data"
    },
    {
     "data": {
      "text/html": [
       "<pre style=\"white-space:pre;overflow-x:auto;line-height:normal;font-family:Menlo,'DejaVu Sans Mono',consolas,'Courier New',monospace\"><span style=\"color: #00ff00; text-decoration-color: #00ff00; font-style: italic\">        Saved!</span>\n",
       "</pre>\n"
      ],
      "text/plain": [
       "\u001b[3;92m \u001b[0m\u001b[3;92m       \u001b[0m\u001b[3;92mSaved!\u001b[0m\n"
      ]
     },
     "metadata": {},
     "output_type": "display_data"
    },
    {
     "data": {
      "text/html": [
       "<pre style=\"white-space:pre;overflow-x:auto;line-height:normal;font-family:Menlo,'DejaVu Sans Mono',consolas,'Courier New',monospace\"><span style=\"color: #808000; text-decoration-color: #808000; font-style: italic\">        Downloading: CsAc4ACu29F</span>\n",
       "</pre>\n"
      ],
      "text/plain": [
       "\u001b[3;33m \u001b[0m\u001b[3;33m       \u001b[0m\u001b[3;33mDownloading: CsAc4ACu29F\u001b[0m\n"
      ]
     },
     "metadata": {},
     "output_type": "display_data"
    },
    {
     "data": {
      "text/html": [
       "<pre style=\"white-space:pre;overflow-x:auto;line-height:normal;font-family:Menlo,'DejaVu Sans Mono',consolas,'Courier New',monospace\"><span style=\"color: #00ff00; text-decoration-color: #00ff00; font-style: italic\">        Saved!</span>\n",
       "</pre>\n"
      ],
      "text/plain": [
       "\u001b[3;92m \u001b[0m\u001b[3;92m       \u001b[0m\u001b[3;92mSaved!\u001b[0m\n"
      ]
     },
     "metadata": {},
     "output_type": "display_data"
    },
    {
     "data": {
      "text/html": [
       "<pre style=\"white-space:pre;overflow-x:auto;line-height:normal;font-family:Menlo,'DejaVu Sans Mono',consolas,'Courier New',monospace\"><span style=\"color: #808000; text-decoration-color: #808000; font-style: italic\">        Downloading: CsAV8NKO3yL</span>\n",
       "</pre>\n"
      ],
      "text/plain": [
       "\u001b[3;33m \u001b[0m\u001b[3;33m       \u001b[0m\u001b[3;33mDownloading: CsAV8NKO3yL\u001b[0m\n"
      ]
     },
     "metadata": {},
     "output_type": "display_data"
    },
    {
     "data": {
      "text/html": [
       "<pre style=\"white-space:pre;overflow-x:auto;line-height:normal;font-family:Menlo,'DejaVu Sans Mono',consolas,'Courier New',monospace\"><span style=\"color: #00ff00; text-decoration-color: #00ff00; font-style: italic\">        Saved!</span>\n",
       "</pre>\n"
      ],
      "text/plain": [
       "\u001b[3;92m \u001b[0m\u001b[3;92m       \u001b[0m\u001b[3;92mSaved!\u001b[0m\n"
      ]
     },
     "metadata": {},
     "output_type": "display_data"
    },
    {
     "data": {
      "text/html": [
       "<pre style=\"white-space:pre;overflow-x:auto;line-height:normal;font-family:Menlo,'DejaVu Sans Mono',consolas,'Courier New',monospace\"><span style=\"color: #808000; text-decoration-color: #808000; font-style: italic\">        Downloading: CsAKnJju5pb</span>\n",
       "</pre>\n"
      ],
      "text/plain": [
       "\u001b[3;33m \u001b[0m\u001b[3;33m       \u001b[0m\u001b[3;33mDownloading: CsAKnJju5pb\u001b[0m\n"
      ]
     },
     "metadata": {},
     "output_type": "display_data"
    },
    {
     "data": {
      "text/html": [
       "<pre style=\"white-space:pre;overflow-x:auto;line-height:normal;font-family:Menlo,'DejaVu Sans Mono',consolas,'Courier New',monospace\"><span style=\"color: #00ff00; text-decoration-color: #00ff00; font-style: italic\">        Saved!</span>\n",
       "</pre>\n"
      ],
      "text/plain": [
       "\u001b[3;92m \u001b[0m\u001b[3;92m       \u001b[0m\u001b[3;92mSaved!\u001b[0m\n"
      ]
     },
     "metadata": {},
     "output_type": "display_data"
    },
    {
     "data": {
      "text/html": [
       "<pre style=\"white-space:pre;overflow-x:auto;line-height:normal;font-family:Menlo,'DejaVu Sans Mono',consolas,'Courier New',monospace\"><span style=\"color: #808000; text-decoration-color: #808000; font-style: italic\">        Downloading: Cr__4PyOWLt</span>\n",
       "</pre>\n"
      ],
      "text/plain": [
       "\u001b[3;33m \u001b[0m\u001b[3;33m       \u001b[0m\u001b[3;33mDownloading: Cr__4PyOWLt\u001b[0m\n"
      ]
     },
     "metadata": {},
     "output_type": "display_data"
    },
    {
     "data": {
      "text/html": [
       "<pre style=\"white-space:pre;overflow-x:auto;line-height:normal;font-family:Menlo,'DejaVu Sans Mono',consolas,'Courier New',monospace\"><span style=\"color: #00ff00; text-decoration-color: #00ff00; font-style: italic\">        Saved!</span>\n",
       "</pre>\n"
      ],
      "text/plain": [
       "\u001b[3;92m \u001b[0m\u001b[3;92m       \u001b[0m\u001b[3;92mSaved!\u001b[0m\n"
      ]
     },
     "metadata": {},
     "output_type": "display_data"
    },
    {
     "data": {
      "text/html": [
       "<pre style=\"white-space:pre;overflow-x:auto;line-height:normal;font-family:Menlo,'DejaVu Sans Mono',consolas,'Courier New',monospace\"><span style=\"color: #808000; text-decoration-color: #808000; font-style: italic\">        Downloading: Cr_tUflOH59</span>\n",
       "</pre>\n"
      ],
      "text/plain": [
       "\u001b[3;33m \u001b[0m\u001b[3;33m       \u001b[0m\u001b[3;33mDownloading: Cr_tUflOH59\u001b[0m\n"
      ]
     },
     "metadata": {},
     "output_type": "display_data"
    },
    {
     "data": {
      "text/html": [
       "<pre style=\"white-space:pre;overflow-x:auto;line-height:normal;font-family:Menlo,'DejaVu Sans Mono',consolas,'Courier New',monospace\"><span style=\"color: #00ff00; text-decoration-color: #00ff00; font-style: italic\">        Saved!</span>\n",
       "</pre>\n"
      ],
      "text/plain": [
       "\u001b[3;92m \u001b[0m\u001b[3;92m       \u001b[0m\u001b[3;92mSaved!\u001b[0m\n"
      ]
     },
     "metadata": {},
     "output_type": "display_data"
    },
    {
     "data": {
      "text/html": [
       "<pre style=\"white-space:pre;overflow-x:auto;line-height:normal;font-family:Menlo,'DejaVu Sans Mono',consolas,'Courier New',monospace\"><span style=\"color: #808000; text-decoration-color: #808000; font-style: italic\">        Downloading: Cr_f300vwpk</span>\n",
       "</pre>\n"
      ],
      "text/plain": [
       "\u001b[3;33m \u001b[0m\u001b[3;33m       \u001b[0m\u001b[3;33mDownloading: Cr_f300vwpk\u001b[0m\n"
      ]
     },
     "metadata": {},
     "output_type": "display_data"
    },
    {
     "data": {
      "text/html": [
       "<pre style=\"white-space:pre;overflow-x:auto;line-height:normal;font-family:Menlo,'DejaVu Sans Mono',consolas,'Courier New',monospace\"><span style=\"color: #00ff00; text-decoration-color: #00ff00; font-style: italic\">        Saved!</span>\n",
       "</pre>\n"
      ],
      "text/plain": [
       "\u001b[3;92m \u001b[0m\u001b[3;92m       \u001b[0m\u001b[3;92mSaved!\u001b[0m\n"
      ]
     },
     "metadata": {},
     "output_type": "display_data"
    },
    {
     "data": {
      "text/html": [
       "<pre style=\"white-space:pre;overflow-x:auto;line-height:normal;font-family:Menlo,'DejaVu Sans Mono',consolas,'Courier New',monospace\"><span style=\"color: #808000; text-decoration-color: #808000; font-style: italic\">        Downloading: Cr_VYUnuGGI</span>\n",
       "</pre>\n"
      ],
      "text/plain": [
       "\u001b[3;33m \u001b[0m\u001b[3;33m       \u001b[0m\u001b[3;33mDownloading: Cr_VYUnuGGI\u001b[0m\n"
      ]
     },
     "metadata": {},
     "output_type": "display_data"
    },
    {
     "data": {
      "text/html": [
       "<pre style=\"white-space:pre;overflow-x:auto;line-height:normal;font-family:Menlo,'DejaVu Sans Mono',consolas,'Courier New',monospace\"><span style=\"color: #00ff00; text-decoration-color: #00ff00; font-style: italic\">        Saved!</span>\n",
       "</pre>\n"
      ],
      "text/plain": [
       "\u001b[3;92m \u001b[0m\u001b[3;92m       \u001b[0m\u001b[3;92mSaved!\u001b[0m\n"
      ]
     },
     "metadata": {},
     "output_type": "display_data"
    },
    {
     "data": {
      "text/html": [
       "<pre style=\"white-space:pre;overflow-x:auto;line-height:normal;font-family:Menlo,'DejaVu Sans Mono',consolas,'Courier New',monospace\"><span style=\"color: #808000; text-decoration-color: #808000; font-style: italic\">        Downloading: Cr_MYVMOMqf</span>\n",
       "</pre>\n"
      ],
      "text/plain": [
       "\u001b[3;33m \u001b[0m\u001b[3;33m       \u001b[0m\u001b[3;33mDownloading: Cr_MYVMOMqf\u001b[0m\n"
      ]
     },
     "metadata": {},
     "output_type": "display_data"
    },
    {
     "data": {
      "text/html": [
       "<pre style=\"white-space:pre;overflow-x:auto;line-height:normal;font-family:Menlo,'DejaVu Sans Mono',consolas,'Courier New',monospace\"><span style=\"color: #00ff00; text-decoration-color: #00ff00; font-style: italic\">        Saved!</span>\n",
       "</pre>\n"
      ],
      "text/plain": [
       "\u001b[3;92m \u001b[0m\u001b[3;92m       \u001b[0m\u001b[3;92mSaved!\u001b[0m\n"
      ]
     },
     "metadata": {},
     "output_type": "display_data"
    },
    {
     "name": "stderr",
     "output_type": "stream",
     "text": [
      " 68%|██████▊   | 135/200 [07:32<12:26, 11.48s/it]"
     ]
    },
    {
     "data": {
      "text/html": [
       "<pre style=\"white-space:pre;overflow-x:auto;line-height:normal;font-family:Menlo,'DejaVu Sans Mono',consolas,'Courier New',monospace\">Getting Account Information: <span style=\"color: #008080; text-decoration-color: #008080\">vengalaalegriatva</span>\n",
       "</pre>\n"
      ],
      "text/plain": [
       "Getting Account Information: \u001b[36mvengalaalegriatva\u001b[0m\n"
      ]
     },
     "metadata": {},
     "output_type": "display_data"
    },
    {
     "data": {
      "text/html": [
       "<pre style=\"white-space:pre;overflow-x:auto;line-height:normal;font-family:Menlo,'DejaVu Sans Mono',consolas,'Courier New',monospace\"><span style=\"color: #800000; text-decoration-color: #800000; font-weight: bold\">        Response is empty for vengalaalegriatva skipping</span><span style=\"color: #808000; text-decoration-color: #808000; font-weight: bold\">...</span>\n",
       "</pre>\n"
      ],
      "text/plain": [
       "\u001b[1;31m \u001b[0m\u001b[1;31m       \u001b[0m\u001b[1;31mResponse is empty for vengalaalegriatva skipping\u001b[0m\u001b[1;33m...\u001b[0m\n"
      ]
     },
     "metadata": {},
     "output_type": "display_data"
    },
    {
     "name": "stderr",
     "output_type": "stream",
     "text": [
      " 68%|██████▊   | 136/200 [07:33<09:13,  8.64s/it]"
     ]
    },
    {
     "data": {
      "text/html": [
       "<pre style=\"white-space:pre;overflow-x:auto;line-height:normal;font-family:Menlo,'DejaVu Sans Mono',consolas,'Courier New',monospace\">Getting Account Information: <span style=\"color: #008080; text-decoration-color: #008080\">zonakorea</span>\n",
       "</pre>\n"
      ],
      "text/plain": [
       "Getting Account Information: \u001b[36mzonakorea\u001b[0m\n"
      ]
     },
     "metadata": {},
     "output_type": "display_data"
    },
    {
     "data": {
      "text/html": [
       "<pre style=\"white-space:pre;overflow-x:auto;line-height:normal;font-family:Menlo,'DejaVu Sans Mono',consolas,'Courier New',monospace\"><span style=\"color: #808000; text-decoration-color: #808000; font-style: italic\">        Downloading: Crs4a87pBzF</span>\n",
       "</pre>\n"
      ],
      "text/plain": [
       "\u001b[3;33m \u001b[0m\u001b[3;33m       \u001b[0m\u001b[3;33mDownloading: Crs4a87pBzF\u001b[0m\n"
      ]
     },
     "metadata": {},
     "output_type": "display_data"
    },
    {
     "data": {
      "text/html": [
       "<pre style=\"white-space:pre;overflow-x:auto;line-height:normal;font-family:Menlo,'DejaVu Sans Mono',consolas,'Courier New',monospace\"><span style=\"color: #00ff00; text-decoration-color: #00ff00; font-style: italic\">        Saved!</span>\n",
       "</pre>\n"
      ],
      "text/plain": [
       "\u001b[3;92m \u001b[0m\u001b[3;92m       \u001b[0m\u001b[3;92mSaved!\u001b[0m\n"
      ]
     },
     "metadata": {},
     "output_type": "display_data"
    },
    {
     "data": {
      "text/html": [
       "<pre style=\"white-space:pre;overflow-x:auto;line-height:normal;font-family:Menlo,'DejaVu Sans Mono',consolas,'Courier New',monospace\"><span style=\"color: #808000; text-decoration-color: #808000; font-style: italic\">        Downloading: CsA8jgTJxXJ</span>\n",
       "</pre>\n"
      ],
      "text/plain": [
       "\u001b[3;33m \u001b[0m\u001b[3;33m       \u001b[0m\u001b[3;33mDownloading: CsA8jgTJxXJ\u001b[0m\n"
      ]
     },
     "metadata": {},
     "output_type": "display_data"
    },
    {
     "data": {
      "text/html": [
       "<pre style=\"white-space:pre;overflow-x:auto;line-height:normal;font-family:Menlo,'DejaVu Sans Mono',consolas,'Courier New',monospace\"><span style=\"color: #00ff00; text-decoration-color: #00ff00; font-style: italic\">        Saved!</span>\n",
       "</pre>\n"
      ],
      "text/plain": [
       "\u001b[3;92m \u001b[0m\u001b[3;92m       \u001b[0m\u001b[3;92mSaved!\u001b[0m\n"
      ]
     },
     "metadata": {},
     "output_type": "display_data"
    },
    {
     "data": {
      "text/html": [
       "<pre style=\"white-space:pre;overflow-x:auto;line-height:normal;font-family:Menlo,'DejaVu Sans Mono',consolas,'Courier New',monospace\"><span style=\"color: #808000; text-decoration-color: #808000; font-style: italic\">        Downloading: CsArh7-phU1</span>\n",
       "</pre>\n"
      ],
      "text/plain": [
       "\u001b[3;33m \u001b[0m\u001b[3;33m       \u001b[0m\u001b[3;33mDownloading: CsArh7-phU1\u001b[0m\n"
      ]
     },
     "metadata": {},
     "output_type": "display_data"
    },
    {
     "data": {
      "text/html": [
       "<pre style=\"white-space:pre;overflow-x:auto;line-height:normal;font-family:Menlo,'DejaVu Sans Mono',consolas,'Courier New',monospace\"><span style=\"color: #00ff00; text-decoration-color: #00ff00; font-style: italic\">        Saved!</span>\n",
       "</pre>\n"
      ],
      "text/plain": [
       "\u001b[3;92m \u001b[0m\u001b[3;92m       \u001b[0m\u001b[3;92mSaved!\u001b[0m\n"
      ]
     },
     "metadata": {},
     "output_type": "display_data"
    },
    {
     "data": {
      "text/html": [
       "<pre style=\"white-space:pre;overflow-x:auto;line-height:normal;font-family:Menlo,'DejaVu Sans Mono',consolas,'Courier New',monospace\"><span style=\"color: #808000; text-decoration-color: #808000; font-style: italic\">        Downloading: CsAb7K1pAY5</span>\n",
       "</pre>\n"
      ],
      "text/plain": [
       "\u001b[3;33m \u001b[0m\u001b[3;33m       \u001b[0m\u001b[3;33mDownloading: CsAb7K1pAY5\u001b[0m\n"
      ]
     },
     "metadata": {},
     "output_type": "display_data"
    },
    {
     "data": {
      "text/html": [
       "<pre style=\"white-space:pre;overflow-x:auto;line-height:normal;font-family:Menlo,'DejaVu Sans Mono',consolas,'Courier New',monospace\"><span style=\"color: #00ff00; text-decoration-color: #00ff00; font-style: italic\">        Saved!</span>\n",
       "</pre>\n"
      ],
      "text/plain": [
       "\u001b[3;92m \u001b[0m\u001b[3;92m       \u001b[0m\u001b[3;92mSaved!\u001b[0m\n"
      ]
     },
     "metadata": {},
     "output_type": "display_data"
    },
    {
     "data": {
      "text/html": [
       "<pre style=\"white-space:pre;overflow-x:auto;line-height:normal;font-family:Menlo,'DejaVu Sans Mono',consolas,'Courier New',monospace\"><span style=\"color: #808000; text-decoration-color: #808000; font-style: italic\">        Downloading: CsAXAgnphji</span>\n",
       "</pre>\n"
      ],
      "text/plain": [
       "\u001b[3;33m \u001b[0m\u001b[3;33m       \u001b[0m\u001b[3;33mDownloading: CsAXAgnphji\u001b[0m\n"
      ]
     },
     "metadata": {},
     "output_type": "display_data"
    },
    {
     "data": {
      "text/html": [
       "<pre style=\"white-space:pre;overflow-x:auto;line-height:normal;font-family:Menlo,'DejaVu Sans Mono',consolas,'Courier New',monospace\"><span style=\"color: #00ff00; text-decoration-color: #00ff00; font-style: italic\">        Saved!</span>\n",
       "</pre>\n"
      ],
      "text/plain": [
       "\u001b[3;92m \u001b[0m\u001b[3;92m       \u001b[0m\u001b[3;92mSaved!\u001b[0m\n"
      ]
     },
     "metadata": {},
     "output_type": "display_data"
    },
    {
     "name": "stderr",
     "output_type": "stream",
     "text": [
      " 68%|██████▊   | 137/200 [07:47<10:36, 10.10s/it]"
     ]
    },
    {
     "data": {
      "text/html": [
       "<pre style=\"white-space:pre;overflow-x:auto;line-height:normal;font-family:Menlo,'DejaVu Sans Mono',consolas,'Courier New',monospace\">Getting Account Information: <span style=\"color: #008080; text-decoration-color: #008080\">bleacherreport</span>\n",
       "</pre>\n"
      ],
      "text/plain": [
       "Getting Account Information: \u001b[36mbleacherreport\u001b[0m\n"
      ]
     },
     "metadata": {},
     "output_type": "display_data"
    },
    {
     "data": {
      "text/html": [
       "<pre style=\"white-space:pre;overflow-x:auto;line-height:normal;font-family:Menlo,'DejaVu Sans Mono',consolas,'Courier New',monospace\"><span style=\"color: #808000; text-decoration-color: #808000; font-style: italic\">        Downloading: Cr_QA1UOlYf</span>\n",
       "</pre>\n"
      ],
      "text/plain": [
       "\u001b[3;33m \u001b[0m\u001b[3;33m       \u001b[0m\u001b[3;33mDownloading: Cr_QA1UOlYf\u001b[0m\n"
      ]
     },
     "metadata": {},
     "output_type": "display_data"
    },
    {
     "data": {
      "text/html": [
       "<pre style=\"white-space:pre;overflow-x:auto;line-height:normal;font-family:Menlo,'DejaVu Sans Mono',consolas,'Courier New',monospace\"><span style=\"color: #00ff00; text-decoration-color: #00ff00; font-style: italic\">        Saved!</span>\n",
       "</pre>\n"
      ],
      "text/plain": [
       "\u001b[3;92m \u001b[0m\u001b[3;92m       \u001b[0m\u001b[3;92mSaved!\u001b[0m\n"
      ]
     },
     "metadata": {},
     "output_type": "display_data"
    },
    {
     "data": {
      "text/html": [
       "<pre style=\"white-space:pre;overflow-x:auto;line-height:normal;font-family:Menlo,'DejaVu Sans Mono',consolas,'Courier New',monospace\"><span style=\"color: #808000; text-decoration-color: #808000; font-style: italic\">        Downloading: CrvlcJ-Lpqo</span>\n",
       "</pre>\n"
      ],
      "text/plain": [
       "\u001b[3;33m \u001b[0m\u001b[3;33m       \u001b[0m\u001b[3;33mDownloading: CrvlcJ-Lpqo\u001b[0m\n"
      ]
     },
     "metadata": {},
     "output_type": "display_data"
    },
    {
     "data": {
      "text/html": [
       "<pre style=\"white-space:pre;overflow-x:auto;line-height:normal;font-family:Menlo,'DejaVu Sans Mono',consolas,'Courier New',monospace\"><span style=\"color: #00ff00; text-decoration-color: #00ff00; font-style: italic\">        Saved!</span>\n",
       "</pre>\n"
      ],
      "text/plain": [
       "\u001b[3;92m \u001b[0m\u001b[3;92m       \u001b[0m\u001b[3;92mSaved!\u001b[0m\n"
      ]
     },
     "metadata": {},
     "output_type": "display_data"
    },
    {
     "data": {
      "text/html": [
       "<pre style=\"white-space:pre;overflow-x:auto;line-height:normal;font-family:Menlo,'DejaVu Sans Mono',consolas,'Courier New',monospace\"><span style=\"color: #808000; text-decoration-color: #808000; font-style: italic\">        Downloading: Crqaxx-rTJP</span>\n",
       "</pre>\n"
      ],
      "text/plain": [
       "\u001b[3;33m \u001b[0m\u001b[3;33m       \u001b[0m\u001b[3;33mDownloading: Crqaxx-rTJP\u001b[0m\n"
      ]
     },
     "metadata": {},
     "output_type": "display_data"
    },
    {
     "data": {
      "text/html": [
       "<pre style=\"white-space:pre;overflow-x:auto;line-height:normal;font-family:Menlo,'DejaVu Sans Mono',consolas,'Courier New',monospace\"><span style=\"color: #00ff00; text-decoration-color: #00ff00; font-style: italic\">        Saved!</span>\n",
       "</pre>\n"
      ],
      "text/plain": [
       "\u001b[3;92m \u001b[0m\u001b[3;92m       \u001b[0m\u001b[3;92mSaved!\u001b[0m\n"
      ]
     },
     "metadata": {},
     "output_type": "display_data"
    },
    {
     "data": {
      "text/html": [
       "<pre style=\"white-space:pre;overflow-x:auto;line-height:normal;font-family:Menlo,'DejaVu Sans Mono',consolas,'Courier New',monospace\"><span style=\"color: #808000; text-decoration-color: #808000; font-style: italic\">        Downloading: CsBI6wptV5O</span>\n",
       "</pre>\n"
      ],
      "text/plain": [
       "\u001b[3;33m \u001b[0m\u001b[3;33m       \u001b[0m\u001b[3;33mDownloading: CsBI6wptV5O\u001b[0m\n"
      ]
     },
     "metadata": {},
     "output_type": "display_data"
    },
    {
     "data": {
      "text/html": [
       "<pre style=\"white-space:pre;overflow-x:auto;line-height:normal;font-family:Menlo,'DejaVu Sans Mono',consolas,'Courier New',monospace\"><span style=\"color: #00ff00; text-decoration-color: #00ff00; font-style: italic\">        Saved!</span>\n",
       "</pre>\n"
      ],
      "text/plain": [
       "\u001b[3;92m \u001b[0m\u001b[3;92m       \u001b[0m\u001b[3;92mSaved!\u001b[0m\n"
      ]
     },
     "metadata": {},
     "output_type": "display_data"
    },
    {
     "data": {
      "text/html": [
       "<pre style=\"white-space:pre;overflow-x:auto;line-height:normal;font-family:Menlo,'DejaVu Sans Mono',consolas,'Courier New',monospace\"><span style=\"color: #808000; text-decoration-color: #808000; font-style: italic\">        Downloading: CsAtMqEgWk3</span>\n",
       "</pre>\n"
      ],
      "text/plain": [
       "\u001b[3;33m \u001b[0m\u001b[3;33m       \u001b[0m\u001b[3;33mDownloading: CsAtMqEgWk3\u001b[0m\n"
      ]
     },
     "metadata": {},
     "output_type": "display_data"
    },
    {
     "data": {
      "text/html": [
       "<pre style=\"white-space:pre;overflow-x:auto;line-height:normal;font-family:Menlo,'DejaVu Sans Mono',consolas,'Courier New',monospace\"><span style=\"color: #00ff00; text-decoration-color: #00ff00; font-style: italic\">        Saved!</span>\n",
       "</pre>\n"
      ],
      "text/plain": [
       "\u001b[3;92m \u001b[0m\u001b[3;92m       \u001b[0m\u001b[3;92mSaved!\u001b[0m\n"
      ]
     },
     "metadata": {},
     "output_type": "display_data"
    },
    {
     "data": {
      "text/html": [
       "<pre style=\"white-space:pre;overflow-x:auto;line-height:normal;font-family:Menlo,'DejaVu Sans Mono',consolas,'Courier New',monospace\"><span style=\"color: #808000; text-decoration-color: #808000; font-style: italic\">        Downloading: CsApT84ONzX</span>\n",
       "</pre>\n"
      ],
      "text/plain": [
       "\u001b[3;33m \u001b[0m\u001b[3;33m       \u001b[0m\u001b[3;33mDownloading: CsApT84ONzX\u001b[0m\n"
      ]
     },
     "metadata": {},
     "output_type": "display_data"
    },
    {
     "data": {
      "text/html": [
       "<pre style=\"white-space:pre;overflow-x:auto;line-height:normal;font-family:Menlo,'DejaVu Sans Mono',consolas,'Courier New',monospace\"><span style=\"color: #00ff00; text-decoration-color: #00ff00; font-style: italic\">        Saved!</span>\n",
       "</pre>\n"
      ],
      "text/plain": [
       "\u001b[3;92m \u001b[0m\u001b[3;92m       \u001b[0m\u001b[3;92mSaved!\u001b[0m\n"
      ]
     },
     "metadata": {},
     "output_type": "display_data"
    },
    {
     "data": {
      "text/html": [
       "<pre style=\"white-space:pre;overflow-x:auto;line-height:normal;font-family:Menlo,'DejaVu Sans Mono',consolas,'Courier New',monospace\"><span style=\"color: #808000; text-decoration-color: #808000; font-style: italic\">        Downloading: CsAoV2EtQJY</span>\n",
       "</pre>\n"
      ],
      "text/plain": [
       "\u001b[3;33m \u001b[0m\u001b[3;33m       \u001b[0m\u001b[3;33mDownloading: CsAoV2EtQJY\u001b[0m\n"
      ]
     },
     "metadata": {},
     "output_type": "display_data"
    },
    {
     "data": {
      "text/html": [
       "<pre style=\"white-space:pre;overflow-x:auto;line-height:normal;font-family:Menlo,'DejaVu Sans Mono',consolas,'Courier New',monospace\"><span style=\"color: #00ff00; text-decoration-color: #00ff00; font-style: italic\">        Saved!</span>\n",
       "</pre>\n"
      ],
      "text/plain": [
       "\u001b[3;92m \u001b[0m\u001b[3;92m       \u001b[0m\u001b[3;92mSaved!\u001b[0m\n"
      ]
     },
     "metadata": {},
     "output_type": "display_data"
    },
    {
     "data": {
      "text/html": [
       "<pre style=\"white-space:pre;overflow-x:auto;line-height:normal;font-family:Menlo,'DejaVu Sans Mono',consolas,'Courier New',monospace\"><span style=\"color: #808000; text-decoration-color: #808000; font-style: italic\">        Downloading: CsAnVERsRSz</span>\n",
       "</pre>\n"
      ],
      "text/plain": [
       "\u001b[3;33m \u001b[0m\u001b[3;33m       \u001b[0m\u001b[3;33mDownloading: CsAnVERsRSz\u001b[0m\n"
      ]
     },
     "metadata": {},
     "output_type": "display_data"
    },
    {
     "data": {
      "text/html": [
       "<pre style=\"white-space:pre;overflow-x:auto;line-height:normal;font-family:Menlo,'DejaVu Sans Mono',consolas,'Courier New',monospace\"><span style=\"color: #00ff00; text-decoration-color: #00ff00; font-style: italic\">        Saved!</span>\n",
       "</pre>\n"
      ],
      "text/plain": [
       "\u001b[3;92m \u001b[0m\u001b[3;92m       \u001b[0m\u001b[3;92mSaved!\u001b[0m\n"
      ]
     },
     "metadata": {},
     "output_type": "display_data"
    },
    {
     "data": {
      "text/html": [
       "<pre style=\"white-space:pre;overflow-x:auto;line-height:normal;font-family:Menlo,'DejaVu Sans Mono',consolas,'Courier New',monospace\"><span style=\"color: #808000; text-decoration-color: #808000; font-style: italic\">        Downloading: CsAmQ3_OgRJ</span>\n",
       "</pre>\n"
      ],
      "text/plain": [
       "\u001b[3;33m \u001b[0m\u001b[3;33m       \u001b[0m\u001b[3;33mDownloading: CsAmQ3_OgRJ\u001b[0m\n"
      ]
     },
     "metadata": {},
     "output_type": "display_data"
    },
    {
     "data": {
      "text/html": [
       "<pre style=\"white-space:pre;overflow-x:auto;line-height:normal;font-family:Menlo,'DejaVu Sans Mono',consolas,'Courier New',monospace\"><span style=\"color: #00ff00; text-decoration-color: #00ff00; font-style: italic\">        Saved!</span>\n",
       "</pre>\n"
      ],
      "text/plain": [
       "\u001b[3;92m \u001b[0m\u001b[3;92m       \u001b[0m\u001b[3;92mSaved!\u001b[0m\n"
      ]
     },
     "metadata": {},
     "output_type": "display_data"
    },
    {
     "data": {
      "text/html": [
       "<pre style=\"white-space:pre;overflow-x:auto;line-height:normal;font-family:Menlo,'DejaVu Sans Mono',consolas,'Courier New',monospace\"><span style=\"color: #808000; text-decoration-color: #808000; font-style: italic\">        Downloading: CsAlofIsc51</span>\n",
       "</pre>\n"
      ],
      "text/plain": [
       "\u001b[3;33m \u001b[0m\u001b[3;33m       \u001b[0m\u001b[3;33mDownloading: CsAlofIsc51\u001b[0m\n"
      ]
     },
     "metadata": {},
     "output_type": "display_data"
    },
    {
     "data": {
      "text/html": [
       "<pre style=\"white-space:pre;overflow-x:auto;line-height:normal;font-family:Menlo,'DejaVu Sans Mono',consolas,'Courier New',monospace\"><span style=\"color: #00ff00; text-decoration-color: #00ff00; font-style: italic\">        Saved!</span>\n",
       "</pre>\n"
      ],
      "text/plain": [
       "\u001b[3;92m \u001b[0m\u001b[3;92m       \u001b[0m\u001b[3;92mSaved!\u001b[0m\n"
      ]
     },
     "metadata": {},
     "output_type": "display_data"
    },
    {
     "data": {
      "text/html": [
       "<pre style=\"white-space:pre;overflow-x:auto;line-height:normal;font-family:Menlo,'DejaVu Sans Mono',consolas,'Courier New',monospace\"><span style=\"color: #808000; text-decoration-color: #808000; font-style: italic\">        Downloading: CsAkFensvbt</span>\n",
       "</pre>\n"
      ],
      "text/plain": [
       "\u001b[3;33m \u001b[0m\u001b[3;33m       \u001b[0m\u001b[3;33mDownloading: CsAkFensvbt\u001b[0m\n"
      ]
     },
     "metadata": {},
     "output_type": "display_data"
    },
    {
     "data": {
      "text/html": [
       "<pre style=\"white-space:pre;overflow-x:auto;line-height:normal;font-family:Menlo,'DejaVu Sans Mono',consolas,'Courier New',monospace\"><span style=\"color: #00ff00; text-decoration-color: #00ff00; font-style: italic\">        Saved!</span>\n",
       "</pre>\n"
      ],
      "text/plain": [
       "\u001b[3;92m \u001b[0m\u001b[3;92m       \u001b[0m\u001b[3;92mSaved!\u001b[0m\n"
      ]
     },
     "metadata": {},
     "output_type": "display_data"
    },
    {
     "name": "stderr",
     "output_type": "stream",
     "text": [
      " 69%|██████▉   | 138/200 [08:06<13:01, 12.60s/it]"
     ]
    },
    {
     "data": {
      "text/html": [
       "<pre style=\"white-space:pre;overflow-x:auto;line-height:normal;font-family:Menlo,'DejaVu Sans Mono',consolas,'Courier New',monospace\">Getting Account Information: <span style=\"color: #008080; text-decoration-color: #008080\">laliga</span>\n",
       "</pre>\n"
      ],
      "text/plain": [
       "Getting Account Information: \u001b[36mlaliga\u001b[0m\n"
      ]
     },
     "metadata": {},
     "output_type": "display_data"
    },
    {
     "data": {
      "text/html": [
       "<pre style=\"white-space:pre;overflow-x:auto;line-height:normal;font-family:Menlo,'DejaVu Sans Mono',consolas,'Courier New',monospace\"><span style=\"color: #808000; text-decoration-color: #808000; font-style: italic\">        Downloading: CsBOMqKK7LQ</span>\n",
       "</pre>\n"
      ],
      "text/plain": [
       "\u001b[3;33m \u001b[0m\u001b[3;33m       \u001b[0m\u001b[3;33mDownloading: CsBOMqKK7LQ\u001b[0m\n"
      ]
     },
     "metadata": {},
     "output_type": "display_data"
    },
    {
     "data": {
      "text/html": [
       "<pre style=\"white-space:pre;overflow-x:auto;line-height:normal;font-family:Menlo,'DejaVu Sans Mono',consolas,'Courier New',monospace\"><span style=\"color: #00ff00; text-decoration-color: #00ff00; font-style: italic\">        Saved!</span>\n",
       "</pre>\n"
      ],
      "text/plain": [
       "\u001b[3;92m \u001b[0m\u001b[3;92m       \u001b[0m\u001b[3;92mSaved!\u001b[0m\n"
      ]
     },
     "metadata": {},
     "output_type": "display_data"
    },
    {
     "data": {
      "text/html": [
       "<pre style=\"white-space:pre;overflow-x:auto;line-height:normal;font-family:Menlo,'DejaVu Sans Mono',consolas,'Courier New',monospace\"><span style=\"color: #808000; text-decoration-color: #808000; font-style: italic\">        Downloading: CsA9ChDo6WN</span>\n",
       "</pre>\n"
      ],
      "text/plain": [
       "\u001b[3;33m \u001b[0m\u001b[3;33m       \u001b[0m\u001b[3;33mDownloading: CsA9ChDo6WN\u001b[0m\n"
      ]
     },
     "metadata": {},
     "output_type": "display_data"
    },
    {
     "data": {
      "text/html": [
       "<pre style=\"white-space:pre;overflow-x:auto;line-height:normal;font-family:Menlo,'DejaVu Sans Mono',consolas,'Courier New',monospace\"><span style=\"color: #00ff00; text-decoration-color: #00ff00; font-style: italic\">        Saved!</span>\n",
       "</pre>\n"
      ],
      "text/plain": [
       "\u001b[3;92m \u001b[0m\u001b[3;92m       \u001b[0m\u001b[3;92mSaved!\u001b[0m\n"
      ]
     },
     "metadata": {},
     "output_type": "display_data"
    },
    {
     "data": {
      "text/html": [
       "<pre style=\"white-space:pre;overflow-x:auto;line-height:normal;font-family:Menlo,'DejaVu Sans Mono',consolas,'Courier New',monospace\"><span style=\"color: #808000; text-decoration-color: #808000; font-style: italic\">        Downloading: CsAhjrevFW2</span>\n",
       "</pre>\n"
      ],
      "text/plain": [
       "\u001b[3;33m \u001b[0m\u001b[3;33m       \u001b[0m\u001b[3;33mDownloading: CsAhjrevFW2\u001b[0m\n"
      ]
     },
     "metadata": {},
     "output_type": "display_data"
    },
    {
     "data": {
      "text/html": [
       "<pre style=\"white-space:pre;overflow-x:auto;line-height:normal;font-family:Menlo,'DejaVu Sans Mono',consolas,'Courier New',monospace\"><span style=\"color: #00ff00; text-decoration-color: #00ff00; font-style: italic\">        Saved!</span>\n",
       "</pre>\n"
      ],
      "text/plain": [
       "\u001b[3;92m \u001b[0m\u001b[3;92m       \u001b[0m\u001b[3;92mSaved!\u001b[0m\n"
      ]
     },
     "metadata": {},
     "output_type": "display_data"
    },
    {
     "data": {
      "text/html": [
       "<pre style=\"white-space:pre;overflow-x:auto;line-height:normal;font-family:Menlo,'DejaVu Sans Mono',consolas,'Courier New',monospace\"><span style=\"color: #808000; text-decoration-color: #808000; font-style: italic\">        Downloading: CsAT06lvz4f</span>\n",
       "</pre>\n"
      ],
      "text/plain": [
       "\u001b[3;33m \u001b[0m\u001b[3;33m       \u001b[0m\u001b[3;33mDownloading: CsAT06lvz4f\u001b[0m\n"
      ]
     },
     "metadata": {},
     "output_type": "display_data"
    },
    {
     "data": {
      "text/html": [
       "<pre style=\"white-space:pre;overflow-x:auto;line-height:normal;font-family:Menlo,'DejaVu Sans Mono',consolas,'Courier New',monospace\"><span style=\"color: #00ff00; text-decoration-color: #00ff00; font-style: italic\">        Saved!</span>\n",
       "</pre>\n"
      ],
      "text/plain": [
       "\u001b[3;92m \u001b[0m\u001b[3;92m       \u001b[0m\u001b[3;92mSaved!\u001b[0m\n"
      ]
     },
     "metadata": {},
     "output_type": "display_data"
    },
    {
     "data": {
      "text/html": [
       "<pre style=\"white-space:pre;overflow-x:auto;line-height:normal;font-family:Menlo,'DejaVu Sans Mono',consolas,'Courier New',monospace\"><span style=\"color: #808000; text-decoration-color: #808000; font-style: italic\">        Downloading: CsAGF-KtaUz</span>\n",
       "</pre>\n"
      ],
      "text/plain": [
       "\u001b[3;33m \u001b[0m\u001b[3;33m       \u001b[0m\u001b[3;33mDownloading: CsAGF-KtaUz\u001b[0m\n"
      ]
     },
     "metadata": {},
     "output_type": "display_data"
    },
    {
     "data": {
      "text/html": [
       "<pre style=\"white-space:pre;overflow-x:auto;line-height:normal;font-family:Menlo,'DejaVu Sans Mono',consolas,'Courier New',monospace\"><span style=\"color: #00ff00; text-decoration-color: #00ff00; font-style: italic\">        Saved!</span>\n",
       "</pre>\n"
      ],
      "text/plain": [
       "\u001b[3;92m \u001b[0m\u001b[3;92m       \u001b[0m\u001b[3;92mSaved!\u001b[0m\n"
      ]
     },
     "metadata": {},
     "output_type": "display_data"
    },
    {
     "data": {
      "text/html": [
       "<pre style=\"white-space:pre;overflow-x:auto;line-height:normal;font-family:Menlo,'DejaVu Sans Mono',consolas,'Courier New',monospace\"><span style=\"color: #808000; text-decoration-color: #808000; font-style: italic\">        Downloading: Cr_8bxwIqmq</span>\n",
       "</pre>\n"
      ],
      "text/plain": [
       "\u001b[3;33m \u001b[0m\u001b[3;33m       \u001b[0m\u001b[3;33mDownloading: Cr_8bxwIqmq\u001b[0m\n"
      ]
     },
     "metadata": {},
     "output_type": "display_data"
    },
    {
     "data": {
      "text/html": [
       "<pre style=\"white-space:pre;overflow-x:auto;line-height:normal;font-family:Menlo,'DejaVu Sans Mono',consolas,'Courier New',monospace\"><span style=\"color: #00ff00; text-decoration-color: #00ff00; font-style: italic\">        Saved!</span>\n",
       "</pre>\n"
      ],
      "text/plain": [
       "\u001b[3;92m \u001b[0m\u001b[3;92m       \u001b[0m\u001b[3;92mSaved!\u001b[0m\n"
      ]
     },
     "metadata": {},
     "output_type": "display_data"
    },
    {
     "data": {
      "text/html": [
       "<pre style=\"white-space:pre;overflow-x:auto;line-height:normal;font-family:Menlo,'DejaVu Sans Mono',consolas,'Courier New',monospace\"><span style=\"color: #808000; text-decoration-color: #808000; font-style: italic\">        Downloading: Cr_4VC7oTki</span>\n",
       "</pre>\n"
      ],
      "text/plain": [
       "\u001b[3;33m \u001b[0m\u001b[3;33m       \u001b[0m\u001b[3;33mDownloading: Cr_4VC7oTki\u001b[0m\n"
      ]
     },
     "metadata": {},
     "output_type": "display_data"
    },
    {
     "data": {
      "text/html": [
       "<pre style=\"white-space:pre;overflow-x:auto;line-height:normal;font-family:Menlo,'DejaVu Sans Mono',consolas,'Courier New',monospace\"><span style=\"color: #00ff00; text-decoration-color: #00ff00; font-style: italic\">        Saved!</span>\n",
       "</pre>\n"
      ],
      "text/plain": [
       "\u001b[3;92m \u001b[0m\u001b[3;92m       \u001b[0m\u001b[3;92mSaved!\u001b[0m\n"
      ]
     },
     "metadata": {},
     "output_type": "display_data"
    },
    {
     "data": {
      "text/html": [
       "<pre style=\"white-space:pre;overflow-x:auto;line-height:normal;font-family:Menlo,'DejaVu Sans Mono',consolas,'Courier New',monospace\"><span style=\"color: #808000; text-decoration-color: #808000; font-style: italic\">        Downloading: Cr_qsRloeyr</span>\n",
       "</pre>\n"
      ],
      "text/plain": [
       "\u001b[3;33m \u001b[0m\u001b[3;33m       \u001b[0m\u001b[3;33mDownloading: Cr_qsRloeyr\u001b[0m\n"
      ]
     },
     "metadata": {},
     "output_type": "display_data"
    },
    {
     "data": {
      "text/html": [
       "<pre style=\"white-space:pre;overflow-x:auto;line-height:normal;font-family:Menlo,'DejaVu Sans Mono',consolas,'Courier New',monospace\"><span style=\"color: #00ff00; text-decoration-color: #00ff00; font-style: italic\">        Saved!</span>\n",
       "</pre>\n"
      ],
      "text/plain": [
       "\u001b[3;92m \u001b[0m\u001b[3;92m       \u001b[0m\u001b[3;92mSaved!\u001b[0m\n"
      ]
     },
     "metadata": {},
     "output_type": "display_data"
    },
    {
     "data": {
      "text/html": [
       "<pre style=\"white-space:pre;overflow-x:auto;line-height:normal;font-family:Menlo,'DejaVu Sans Mono',consolas,'Courier New',monospace\"><span style=\"color: #808000; text-decoration-color: #808000; font-style: italic\">        Downloading: Cr_Ou9qMAp6</span>\n",
       "</pre>\n"
      ],
      "text/plain": [
       "\u001b[3;33m \u001b[0m\u001b[3;33m       \u001b[0m\u001b[3;33mDownloading: Cr_Ou9qMAp6\u001b[0m\n"
      ]
     },
     "metadata": {},
     "output_type": "display_data"
    },
    {
     "data": {
      "text/html": [
       "<pre style=\"white-space:pre;overflow-x:auto;line-height:normal;font-family:Menlo,'DejaVu Sans Mono',consolas,'Courier New',monospace\"><span style=\"color: #00ff00; text-decoration-color: #00ff00; font-style: italic\">        Saved!</span>\n",
       "</pre>\n"
      ],
      "text/plain": [
       "\u001b[3;92m \u001b[0m\u001b[3;92m       \u001b[0m\u001b[3;92mSaved!\u001b[0m\n"
      ]
     },
     "metadata": {},
     "output_type": "display_data"
    },
    {
     "name": "stderr",
     "output_type": "stream",
     "text": [
      " 70%|██████▉   | 139/200 [08:20<13:27, 13.23s/it]"
     ]
    },
    {
     "data": {
      "text/html": [
       "<pre style=\"white-space:pre;overflow-x:auto;line-height:normal;font-family:Menlo,'DejaVu Sans Mono',consolas,'Courier New',monospace\">Getting Account Information: <span style=\"color: #008080; text-decoration-color: #008080\">tommyphillipsiv</span>\n",
       "</pre>\n"
      ],
      "text/plain": [
       "Getting Account Information: \u001b[36mtommyphillipsiv\u001b[0m\n"
      ]
     },
     "metadata": {},
     "output_type": "display_data"
    },
    {
     "name": "stderr",
     "output_type": "stream",
     "text": [
      " 70%|██████▉   | 139/200 [08:40<03:48,  3.75s/it]\n"
     ]
    },
    {
     "ename": "JSONDecodeError",
     "evalue": "Expecting value: line 1 column 1 (char 0)",
     "output_type": "error",
     "traceback": [
      "\u001b[1;31m---------------------------------------------------------------------------\u001b[0m",
      "\u001b[1;31mJSONDecodeError\u001b[0m                           Traceback (most recent call last)",
      "File \u001b[1;32mc:\\Users\\Mr-Khosravian\\miniconda3\\lib\\site-packages\\requests\\models.py:971\u001b[0m, in \u001b[0;36mResponse.json\u001b[1;34m(self, **kwargs)\u001b[0m\n\u001b[0;32m    970\u001b[0m \u001b[39mtry\u001b[39;00m:\n\u001b[1;32m--> 971\u001b[0m     \u001b[39mreturn\u001b[39;00m complexjson\u001b[39m.\u001b[39mloads(\u001b[39mself\u001b[39m\u001b[39m.\u001b[39mtext, \u001b[39m*\u001b[39m\u001b[39m*\u001b[39mkwargs)\n\u001b[0;32m    972\u001b[0m \u001b[39mexcept\u001b[39;00m JSONDecodeError \u001b[39mas\u001b[39;00m e:\n\u001b[0;32m    973\u001b[0m     \u001b[39m# Catch JSON-related errors and raise as requests.JSONDecodeError\u001b[39;00m\n\u001b[0;32m    974\u001b[0m     \u001b[39m# This aliases json.JSONDecodeError and simplejson.JSONDecodeError\u001b[39;00m\n",
      "File \u001b[1;32mc:\\Users\\Mr-Khosravian\\miniconda3\\lib\\json\\__init__.py:346\u001b[0m, in \u001b[0;36mloads\u001b[1;34m(s, cls, object_hook, parse_float, parse_int, parse_constant, object_pairs_hook, **kw)\u001b[0m\n\u001b[0;32m    343\u001b[0m \u001b[39mif\u001b[39;00m (\u001b[39mcls\u001b[39m \u001b[39mis\u001b[39;00m \u001b[39mNone\u001b[39;00m \u001b[39mand\u001b[39;00m object_hook \u001b[39mis\u001b[39;00m \u001b[39mNone\u001b[39;00m \u001b[39mand\u001b[39;00m\n\u001b[0;32m    344\u001b[0m         parse_int \u001b[39mis\u001b[39;00m \u001b[39mNone\u001b[39;00m \u001b[39mand\u001b[39;00m parse_float \u001b[39mis\u001b[39;00m \u001b[39mNone\u001b[39;00m \u001b[39mand\u001b[39;00m\n\u001b[0;32m    345\u001b[0m         parse_constant \u001b[39mis\u001b[39;00m \u001b[39mNone\u001b[39;00m \u001b[39mand\u001b[39;00m object_pairs_hook \u001b[39mis\u001b[39;00m \u001b[39mNone\u001b[39;00m \u001b[39mand\u001b[39;00m \u001b[39mnot\u001b[39;00m kw):\n\u001b[1;32m--> 346\u001b[0m     \u001b[39mreturn\u001b[39;00m _default_decoder\u001b[39m.\u001b[39;49mdecode(s)\n\u001b[0;32m    347\u001b[0m \u001b[39mif\u001b[39;00m \u001b[39mcls\u001b[39m \u001b[39mis\u001b[39;00m \u001b[39mNone\u001b[39;00m:\n",
      "File \u001b[1;32mc:\\Users\\Mr-Khosravian\\miniconda3\\lib\\json\\decoder.py:337\u001b[0m, in \u001b[0;36mJSONDecoder.decode\u001b[1;34m(self, s, _w)\u001b[0m\n\u001b[0;32m    333\u001b[0m \u001b[39m\"\"\"Return the Python representation of ``s`` (a ``str`` instance\u001b[39;00m\n\u001b[0;32m    334\u001b[0m \u001b[39mcontaining a JSON document).\u001b[39;00m\n\u001b[0;32m    335\u001b[0m \n\u001b[0;32m    336\u001b[0m \u001b[39m\"\"\"\u001b[39;00m\n\u001b[1;32m--> 337\u001b[0m obj, end \u001b[39m=\u001b[39m \u001b[39mself\u001b[39;49m\u001b[39m.\u001b[39;49mraw_decode(s, idx\u001b[39m=\u001b[39;49m_w(s, \u001b[39m0\u001b[39;49m)\u001b[39m.\u001b[39;49mend())\n\u001b[0;32m    338\u001b[0m end \u001b[39m=\u001b[39m _w(s, end)\u001b[39m.\u001b[39mend()\n",
      "File \u001b[1;32mc:\\Users\\Mr-Khosravian\\miniconda3\\lib\\json\\decoder.py:355\u001b[0m, in \u001b[0;36mJSONDecoder.raw_decode\u001b[1;34m(self, s, idx)\u001b[0m\n\u001b[0;32m    354\u001b[0m \u001b[39mexcept\u001b[39;00m \u001b[39mStopIteration\u001b[39;00m \u001b[39mas\u001b[39;00m err:\n\u001b[1;32m--> 355\u001b[0m     \u001b[39mraise\u001b[39;00m JSONDecodeError(\u001b[39m\"\u001b[39m\u001b[39mExpecting value\u001b[39m\u001b[39m\"\u001b[39m, s, err\u001b[39m.\u001b[39mvalue) \u001b[39mfrom\u001b[39;00m \u001b[39mNone\u001b[39m\n\u001b[0;32m    356\u001b[0m \u001b[39mreturn\u001b[39;00m obj, end\n",
      "\u001b[1;31mJSONDecodeError\u001b[0m: Expecting value: line 1 column 1 (char 0)",
      "\nDuring handling of the above exception, another exception occurred:\n",
      "\u001b[1;31mJSONDecodeError\u001b[0m                           Traceback (most recent call last)",
      "Cell \u001b[1;32mIn[35], line 65\u001b[0m\n\u001b[0;32m     62\u001b[0m res \u001b[39m=\u001b[39m requests\u001b[39m.\u001b[39mget(url, headers\u001b[39m=\u001b[39mheaders, cookies\u001b[39m=\u001b[39mcookies)\n\u001b[0;32m     63\u001b[0m \u001b[39m# add error handling here based on response codes, reference -> InstagramBot.py\u001b[39;00m\n\u001b[1;32m---> 65\u001b[0m data \u001b[39m=\u001b[39m res\u001b[39m.\u001b[39;49mjson()\n\u001b[0;32m     66\u001b[0m \u001b[39mif\u001b[39;00m \u001b[39mnot\u001b[39;00m data:\n\u001b[0;32m     67\u001b[0m     console\u001b[39m.\u001b[39mprint(\u001b[39mf\u001b[39m\u001b[39m'\u001b[39m\u001b[39m\\t\u001b[39;00m\u001b[39mResponse is empty for \u001b[39m\u001b[39m{\u001b[39;00musername\u001b[39m}\u001b[39;00m\u001b[39m skipping...\u001b[39m\u001b[39m'\u001b[39m, style\u001b[39m=\u001b[39m\u001b[39m'\u001b[39m\u001b[39merror\u001b[39m\u001b[39m'\u001b[39m)\n",
      "File \u001b[1;32mc:\\Users\\Mr-Khosravian\\miniconda3\\lib\\site-packages\\requests\\models.py:975\u001b[0m, in \u001b[0;36mResponse.json\u001b[1;34m(self, **kwargs)\u001b[0m\n\u001b[0;32m    971\u001b[0m     \u001b[39mreturn\u001b[39;00m complexjson\u001b[39m.\u001b[39mloads(\u001b[39mself\u001b[39m\u001b[39m.\u001b[39mtext, \u001b[39m*\u001b[39m\u001b[39m*\u001b[39mkwargs)\n\u001b[0;32m    972\u001b[0m \u001b[39mexcept\u001b[39;00m JSONDecodeError \u001b[39mas\u001b[39;00m e:\n\u001b[0;32m    973\u001b[0m     \u001b[39m# Catch JSON-related errors and raise as requests.JSONDecodeError\u001b[39;00m\n\u001b[0;32m    974\u001b[0m     \u001b[39m# This aliases json.JSONDecodeError and simplejson.JSONDecodeError\u001b[39;00m\n\u001b[1;32m--> 975\u001b[0m     \u001b[39mraise\u001b[39;00m RequestsJSONDecodeError(e\u001b[39m.\u001b[39mmsg, e\u001b[39m.\u001b[39mdoc, e\u001b[39m.\u001b[39mpos)\n",
      "\u001b[1;31mJSONDecodeError\u001b[0m: Expecting value: line 1 column 1 (char 0)"
     ]
    }
   ],
   "source": [
    "try:\n",
    "    # main_accounts_df = pd.read_csv('Data/accounts.csv')\n",
    "    # main_posts_df = pd.read_csv('Data/posts.csv')\n",
    "    # main_accounts_df.drop(columns=['Unnamed: 0'], inplace=True)\n",
    "    # main_posts_df.drop(columns=['Unnamed: 0'], inplace=True)\n",
    "    main_df = pd.read_csv('Data/main v2.0.csv')\n",
    "    main_df.drop(columns=['Unnamed: 0'], inplace=True)\n",
    "except:\n",
    "    # main_accounts_df = pd.DataFrame(columns=['id', 'username', 'category_name', 'follower', 'following', 'ar_effect', 'type_business', 'type_professional', 'verified', 'reel_count', 'reel_avg_view', 'reel_avg_comment', 'reel_avg_like', 'reel_avg_duration', 'reel_frequency', 'media_count', 'media_avg_comment', 'media_avg_like', 'media_frequency'])\n",
    "    # main_posts_df = pd.DataFrame(columns=['shortcode', 'post_type', 'username', 'like', 'comment', 'object_1', 'object_2', 'object_3', 'object_4', 'object_5','object_6'])\n",
    "    main_df = pd.DataFrame(columns=['id', 'username', 'shortcode', 'post_type', 'like', 'comment', 'object', 'category_name', 'follower', 'following', 'ar_effect', 'type_business', 'type_professional', 'verified', 'reel_count', 'reel_avg_view', 'reel_avg_comment', 'reel_avg_like', 'reel_avg_duration', 'reel_frequency', 'media_count', 'media_avg_comment', 'media_avg_like', 'media_frequency'])\n",
    "\n",
    "\n",
    "for username in tqdm(top_100_followers + top_100_posts):\n",
    "    console.print(f'Getting Account Information: [cyan]{username}[/]',)\n",
    "    if main_df['username'].str.contains(f'{username}').any():\n",
    "        console.print('\\tUser information already exist, skipping...', style='error')\n",
    "        continue\n",
    "\n",
    "    # loading account information\n",
    "    session = {\n",
    "            \"csrf_token\": csrf_token,\n",
    "            \"session_id\": session_id\n",
    "        }\n",
    "\n",
    "    headers = {\n",
    "            \"x-csrftoken\": session['csrf_token'],\n",
    "            'user-agent': 'Mozilla/5.0 (Windows NT 10.0; Win64; x64) AppleWebKit/537.36 (KHTML, like Gecko) Chrome/84.0.4147.89 Safari/537.36',\n",
    "            \"X-Requested-With\": \"XMLHttpRequest\",\n",
    "            \"Referer\": \"https://www.instagram.com/accounts/login/\",\n",
    "            'Accept': '*/*',\n",
    "            'Accept-Language': 'en-US,en;q=0.5',\n",
    "            'X-Instagram-AJAX': 'c6412f1b1b7b',\n",
    "            'X-IG-App-ID': '936619743392459',\n",
    "            'X-ASBD-ID': '198387',\n",
    "            'X-IG-WWW-Claim': '0',\n",
    "            'X-Requested-With': 'XMLHttpRequest',\n",
    "            'Origin': 'https://www.instagram.com',\n",
    "            'DNT': '1',\n",
    "            'Connection': 'keep-alive',\n",
    "            'Referer': 'https://www.instagram.com/accounts/login/?',\n",
    "            'Sec-Fetch-Dest': 'empty',\n",
    "            'Sec-Fetch-Mode': 'cors',\n",
    "            'Sec-Fetch-Site': 'same-origin',\n",
    "            'Accept': 'text/html,application/xhtml+xml,application/xml;q=0.9,image/avif,image/webp,*/*;q=0.8',\n",
    "            'Accept-Language': 'en-US,en;q=0.5',\n",
    "            'Accept-Encoding': 'gzip, deflate, br',\n",
    "            'Connection': 'keep-alive',\n",
    "            'Upgrade-Insecure-Requests': '1',\n",
    "            'Sec-Fetch-Dest': 'document',\n",
    "            'Sec-Fetch-Mode': 'navigate',\n",
    "            'Sec-Fetch-Site': 'none',\n",
    "            'Sec-Fetch-User': '?1',\n",
    "            'TE': 'trailers'\n",
    "        }\n",
    "\n",
    "    cookies = {\n",
    "            \"sessionid\": session['session_id'],\n",
    "            \"csrftoken\": session['csrf_token']\n",
    "        }\n",
    "    url = f'https://www.instagram.com/{username}/?__a=1&__d=dis'\n",
    "    res = requests.get(url, headers=headers, cookies=cookies)\n",
    "    # add error handling here based on response codes, reference -> InstagramBot.py\n",
    "\n",
    "    data = res.json()\n",
    "    if not data:\n",
    "        console.print(f'\\tResponse is empty for {username} skipping...', style='error')\n",
    "        continue\n",
    "    followers = data['graphql']['user']['edge_followed_by']['count']\n",
    "    following = data['graphql']['user']['edge_follow']['count']\n",
    "    ar_effect = data['graphql']['user']['has_ar_effects']\n",
    "    id = data['graphql']['user']['id']\n",
    "    type_business = data['graphql']['user']['is_business_account']\n",
    "    type_professional = data['graphql']['user']['is_professional_account']\n",
    "    category = data['graphql']['user']['category_name']\n",
    "    verified = data['graphql']['user']['is_verified']\n",
    "    reel_count = data['graphql']['user']['edge_felix_video_timeline']['count']\n",
    "    media_count = data['graphql']['user']['edge_owner_to_timeline_media']['count']\n",
    "    username = data['graphql']['user']['username']\n",
    "    media = data['graphql']['user']['edge_owner_to_timeline_media']['edges']\n",
    "\n",
    "    reel_view_list = []\n",
    "    reel_like_list = []\n",
    "    reel_comment_list = []\n",
    "    reel_duration_list = []\n",
    "    reel_timestamp_list = []\n",
    "\n",
    "    media_like_list = []\n",
    "    media_comment_list = []\n",
    "    media_timestamp_list = []\n",
    "\n",
    "    for video in data['graphql']['user']['edge_felix_video_timeline']['edges']:\n",
    "        reel_view_list.append(video['node']['video_view_count'])\n",
    "        reel_comment_list.append(video['node']['edge_media_to_comment']['count'])\n",
    "        reel_timestamp_list.append(video['node']['taken_at_timestamp'])\n",
    "        reel_like_list.append(video['node']['edge_liked_by']['count'])\n",
    "        reel_duration_list.append(video['node']['video_duration'])\n",
    "    \n",
    "    # sometimes instagram result for video duration is None, this is sanity check\n",
    "    reel_duration_list = [0 if duration is None else duration for duration in reel_duration_list]\n",
    "\n",
    "    for medium in media:\n",
    "        media_like_list.append(medium['node']['edge_liked_by']['count'])\n",
    "        media_comment_list.append(medium['node']['edge_media_to_comment']['count'])\n",
    "        media_timestamp_list.append(medium['node']['taken_at_timestamp'])\n",
    "    \n",
    "    reel_utc_list = [datetime.utcfromtimestamp(ts) for ts in reel_timestamp_list]\n",
    "    media_utc_list = [datetime.utcfromtimestamp(ts) for ts in media_timestamp_list]\n",
    "\n",
    "    reel_utc_difference_list = [reel_utc_list[i] - reel_utc_list[i+1] for i in range(len(reel_utc_list) - 1)]\n",
    "    media_utc_difference_list = [media_utc_list[i] - media_utc_list[i+1] for i in range(len(media_utc_list) - 1)]\n",
    "\n",
    "    if reel_count > 1:\n",
    "        reel_frequency = np.mean(reel_utc_difference_list).days + (np.mean(reel_utc_difference_list).seconds / 86_400) + (np.mean(reel_utc_difference_list).microseconds / 1_000_000 / 84_600)\n",
    "    else:\n",
    "        reel_frequency = 0\n",
    "    media_frequency = np.mean(media_utc_difference_list).days + (np.mean(media_utc_difference_list).seconds / 86_400) + (np.mean(media_utc_difference_list).microseconds / 1_000_000 / 84_600)\n",
    "\n",
    "    reel_view_mean = np.mean(reel_view_list)\n",
    "    reel_like_mean = np.mean(reel_like_list)\n",
    "    reel_comment_mean = np.mean(reel_comment_list)\n",
    "    reel_duration_mean = np.mean(reel_duration_list)\n",
    "\n",
    "    media_like_mean = np.mean(media_like_list)\n",
    "    media_comment_mean = np.mean(media_comment_list)\n",
    "\n",
    "    for medium in media:\n",
    "        shortcode = medium['node']['shortcode']\n",
    "        media_type = medium['node']['__typename']\n",
    "        media_display_url = medium['node']['display_url']\n",
    "        media_like = medium['node']['edge_liked_by']['count']\n",
    "        media_comment = medium['node']['edge_media_to_comment']['count']\n",
    "        \n",
    "        entry_lst = [id, username, shortcode, media_type, media_like, media_comment, None, category, followers, following, ar_effect, type_business, type_professional, verified, reel_count, reel_view_mean, reel_comment_mean, reel_like_mean, reel_duration_mean, reel_frequency, media_count, media_comment_mean, media_like_mean, media_frequency]\n",
    "        main_df.loc[len(main_df)] = entry_lst\n",
    "        main_df = main_df.astype({\n",
    "            'ar_effect': bool,\n",
    "            'type_business': bool,\n",
    "            'type_professional': bool,\n",
    "            'verified': bool,\n",
    "        })\n",
    "        if media_type == 'GraphImage' or media_type == 'GraphSidecar':\n",
    "            if path.isfile(f'Data/Images/{shortcode}.jpg'):\n",
    "                console.print('\\tImage already exists, Skipping...', style='error')\n",
    "                continue\n",
    "            console.print(f'\\tDownloading: {shortcode}', style='progress')\n",
    "            res = requests.get(media_display_url)\n",
    "            with open(f'Data/Images/{shortcode}.jpg', 'wb') as f:\n",
    "                f.write(res.content)\n",
    "            console.print('\\tSaved!', style='success')\n",
    "        main_df.to_csv('Data/main v2.0.csv')\n",
    "\n",
    "    # account_df = pd.DataFrame() #reset variable\n",
    "    # account_df = pd.DataFrame([entry_lst], columns=[['id', 'username', 'shortcode', 'post_type', 'like', 'comment', 'object', 'category_name', 'follower', 'following', 'ar_effect', 'type_business', 'type_professional', 'verified', 'reel_count', 'reel_avg_view', 'reel_avg_comment', 'reel_avg_like', 'reel_avg_duration', 'reel_frequency', 'media_count', 'media_avg_comment', 'media_avg_like', 'media_frequency']])\n",
    "\n",
    "    # if account_df.username.isin(main_accounts_df.username).bool():\n",
    "    #     print('User information already exist, skipping...')\n",
    "    #     continue\n",
    "    # else:\n",
    "    #     print(f'Adding {username} information...')\n",
    "    #     account_df = account_df.astype({\n",
    "    #         'ar_effect': bool,\n",
    "    #         'type_business': bool,\n",
    "    #         'type_professional': bool,\n",
    "    #         'verified': bool,\n",
    "    #     })\n",
    "    #     main_accounts_df = pd.concat([main_accounts_df, account_df], axis=0, join='outer')\n",
    "    \n",
    "    # # adding user's posts information\n",
    "    # print(f'Getting Posts Information: {username}')\n",
    "    # # main lists structure is:\n",
    "    # # shortcode, post_type, username, objects\n",
    "    # posts_lst = []\n",
    "    # for post in data['graphql']['user']['edge_owner_to_timeline_media']['edges']:\n",
    "    #     temp_lst = []\n",
    "    #     objects = []\n",
    "    #     temp_lst.append(post['node']['shortcode'])\n",
    "    #     temp_lst.append(post['node']['__typename'])\n",
    "    #     temp_lst.append(data['graphql']['user']['username'])\n",
    "    #     temp_lst.append(post['node']['edge_liked_by']['count'])\n",
    "    #     temp_lst.append(post['node']['edge_media_to_comment']['count'])\n",
    "    #     if post['node']['__typename'] == 'GraphImage' or post['node']['__typename'] == 'GraphSidecar':\n",
    "    #         if post['node']['accessibility_caption'] == None:\n",
    "    #             objects = []\n",
    "    #             continue\n",
    "    #         # split object-detection output\n",
    "    #         try:\n",
    "    #             objects = post['node']['accessibility_caption'].split('.')[1]\n",
    "    #         except:\n",
    "    #             continue            \n",
    "    #         # terminating empty lists\n",
    "    #         if objects:\n",
    "    #             try:\n",
    "    #                 # cutting objects\n",
    "    #                 objects = objects.split('of')[1]\n",
    "    #                 objects = objects.split('and', 1)\n",
    "    #                 objects[0] = objects[0].split(',')\n",
    "    #                 if 'text' in objects[1]:\n",
    "    #                     objects[1] = 'text'\n",
    "    #             except:\n",
    "    #                 continue\n",
    "    #             # flattening the objects list to make the dimension 1D\n",
    "    #             objects = flatten(objects)\n",
    "    #             # terminating leading and trailing spaces from list items\n",
    "    #             objects = [item.strip() for item in objects]\n",
    "    #         else:\n",
    "    #             objects = []\n",
    "    #     # padding the objects list, we set the limit to 6 objects\n",
    "    #     objects += ['No Object'] * (6 - len(objects))\n",
    "    #     if len(objects) > 6:\n",
    "    #         objects = objects[:6]\n",
    "    #     temp_lst.append(objects)\n",
    "    #     posts_lst.append(flatten(temp_lst))\n",
    "\n",
    "    # # creating temporary dataframe for posts of this account\n",
    "    # temp_df = pd.DataFrame()\n",
    "    # temp_df = pd.DataFrame(posts_lst, columns=[\n",
    "    #     'shortcode',\n",
    "    #     'post_type',\n",
    "    #     'username',\n",
    "    #     'like',\n",
    "    #     'comment',\n",
    "    #     'object_1',\n",
    "    #     'object_2',\n",
    "    #     'object_3',\n",
    "    #     'object_4',\n",
    "    #     'object_5',\n",
    "    #     'object_6'\n",
    "    # ])\n",
    "\n",
    "    # if temp_df.username.isin(main_posts_df.username)[0]:\n",
    "    #     print('User post information already exist, skiping...')\n",
    "    #     continue\n",
    "    # else:\n",
    "    #     print(f'Adding {username} posts information...')\n",
    "    #     main_posts_df = pd.concat([main_posts_df, temp_df], axis=0, join='outer')\n",
    "    \n",
    "    # # saving the data each time\n",
    "    # main_accounts_df.to_csv('Data/accounts.csv')\n",
    "    # main_posts_df.to_csv('Data/posts.csv')\n",
    "\n",
    "    # # waiting 5 sec for each  user, instagram rate limit\n",
    "    # print('Waiting 5 seconds...')\n",
    "    # time.sleep(5)"
   ]
  },
  {
   "cell_type": "code",
   "execution_count": 36,
   "metadata": {},
   "outputs": [
    {
     "data": {
      "text/html": [
       "<div>\n",
       "<style scoped>\n",
       "    .dataframe tbody tr th:only-of-type {\n",
       "        vertical-align: middle;\n",
       "    }\n",
       "\n",
       "    .dataframe tbody tr th {\n",
       "        vertical-align: top;\n",
       "    }\n",
       "\n",
       "    .dataframe thead th {\n",
       "        text-align: right;\n",
       "    }\n",
       "</style>\n",
       "<table border=\"1\" class=\"dataframe\">\n",
       "  <thead>\n",
       "    <tr style=\"text-align: right;\">\n",
       "      <th></th>\n",
       "      <th>id</th>\n",
       "      <th>username</th>\n",
       "      <th>shortcode</th>\n",
       "      <th>post_type</th>\n",
       "      <th>like</th>\n",
       "      <th>comment</th>\n",
       "      <th>object</th>\n",
       "      <th>category_name</th>\n",
       "      <th>follower</th>\n",
       "      <th>following</th>\n",
       "      <th>...</th>\n",
       "      <th>reel_count</th>\n",
       "      <th>reel_avg_view</th>\n",
       "      <th>reel_avg_comment</th>\n",
       "      <th>reel_avg_like</th>\n",
       "      <th>reel_avg_duration</th>\n",
       "      <th>reel_frequency</th>\n",
       "      <th>media_count</th>\n",
       "      <th>media_avg_comment</th>\n",
       "      <th>media_avg_like</th>\n",
       "      <th>media_frequency</th>\n",
       "    </tr>\n",
       "  </thead>\n",
       "  <tbody>\n",
       "    <tr>\n",
       "      <th>0</th>\n",
       "      <td>25025320</td>\n",
       "      <td>instagram</td>\n",
       "      <td>Cr_OviBJPrw</td>\n",
       "      <td>GraphSidecar</td>\n",
       "      <td>282344</td>\n",
       "      <td>6691</td>\n",
       "      <td>NaN</td>\n",
       "      <td>Digital creator</td>\n",
       "      <td>632718714</td>\n",
       "      <td>59</td>\n",
       "      <td>...</td>\n",
       "      <td>1256</td>\n",
       "      <td>9409092.00</td>\n",
       "      <td>13528.916667</td>\n",
       "      <td>570225.416667</td>\n",
       "      <td>92.466333</td>\n",
       "      <td>18.554887</td>\n",
       "      <td>7404</td>\n",
       "      <td>8653.666667</td>\n",
       "      <td>449491.750000</td>\n",
       "      <td>1.454414</td>\n",
       "    </tr>\n",
       "    <tr>\n",
       "      <th>1</th>\n",
       "      <td>25025320</td>\n",
       "      <td>instagram</td>\n",
       "      <td>Cr3hAoSNLVt</td>\n",
       "      <td>GraphVideo</td>\n",
       "      <td>1303777</td>\n",
       "      <td>17830</td>\n",
       "      <td>NaN</td>\n",
       "      <td>Digital creator</td>\n",
       "      <td>632718714</td>\n",
       "      <td>59</td>\n",
       "      <td>...</td>\n",
       "      <td>1256</td>\n",
       "      <td>9409092.00</td>\n",
       "      <td>13528.916667</td>\n",
       "      <td>570225.416667</td>\n",
       "      <td>92.466333</td>\n",
       "      <td>18.554887</td>\n",
       "      <td>7404</td>\n",
       "      <td>8653.666667</td>\n",
       "      <td>449491.750000</td>\n",
       "      <td>1.454414</td>\n",
       "    </tr>\n",
       "    <tr>\n",
       "      <th>2</th>\n",
       "      <td>25025320</td>\n",
       "      <td>instagram</td>\n",
       "      <td>Cr08AgFLRPW</td>\n",
       "      <td>GraphSidecar</td>\n",
       "      <td>348204</td>\n",
       "      <td>6513</td>\n",
       "      <td>NaN</td>\n",
       "      <td>Digital creator</td>\n",
       "      <td>632718714</td>\n",
       "      <td>59</td>\n",
       "      <td>...</td>\n",
       "      <td>1256</td>\n",
       "      <td>9409092.00</td>\n",
       "      <td>13528.916667</td>\n",
       "      <td>570225.416667</td>\n",
       "      <td>92.466333</td>\n",
       "      <td>18.554887</td>\n",
       "      <td>7404</td>\n",
       "      <td>8653.666667</td>\n",
       "      <td>449491.750000</td>\n",
       "      <td>1.454414</td>\n",
       "    </tr>\n",
       "    <tr>\n",
       "      <th>3</th>\n",
       "      <td>25025320</td>\n",
       "      <td>instagram</td>\n",
       "      <td>CryV45urd0B</td>\n",
       "      <td>GraphImage</td>\n",
       "      <td>267553</td>\n",
       "      <td>6693</td>\n",
       "      <td>NaN</td>\n",
       "      <td>Digital creator</td>\n",
       "      <td>632718714</td>\n",
       "      <td>59</td>\n",
       "      <td>...</td>\n",
       "      <td>1256</td>\n",
       "      <td>9409092.00</td>\n",
       "      <td>13528.916667</td>\n",
       "      <td>570225.416667</td>\n",
       "      <td>92.466333</td>\n",
       "      <td>18.554887</td>\n",
       "      <td>7404</td>\n",
       "      <td>8653.666667</td>\n",
       "      <td>449491.750000</td>\n",
       "      <td>1.454414</td>\n",
       "    </tr>\n",
       "    <tr>\n",
       "      <th>4</th>\n",
       "      <td>25025320</td>\n",
       "      <td>instagram</td>\n",
       "      <td>CrvsWzwsC-D</td>\n",
       "      <td>GraphVideo</td>\n",
       "      <td>297803</td>\n",
       "      <td>6631</td>\n",
       "      <td>NaN</td>\n",
       "      <td>Digital creator</td>\n",
       "      <td>632718714</td>\n",
       "      <td>59</td>\n",
       "      <td>...</td>\n",
       "      <td>1256</td>\n",
       "      <td>9409092.00</td>\n",
       "      <td>13528.916667</td>\n",
       "      <td>570225.416667</td>\n",
       "      <td>92.466333</td>\n",
       "      <td>18.554887</td>\n",
       "      <td>7404</td>\n",
       "      <td>8653.666667</td>\n",
       "      <td>449491.750000</td>\n",
       "      <td>1.454414</td>\n",
       "    </tr>\n",
       "    <tr>\n",
       "      <th>...</th>\n",
       "      <td>...</td>\n",
       "      <td>...</td>\n",
       "      <td>...</td>\n",
       "      <td>...</td>\n",
       "      <td>...</td>\n",
       "      <td>...</td>\n",
       "      <td>...</td>\n",
       "      <td>...</td>\n",
       "      <td>...</td>\n",
       "      <td>...</td>\n",
       "      <td>...</td>\n",
       "      <td>...</td>\n",
       "      <td>...</td>\n",
       "      <td>...</td>\n",
       "      <td>...</td>\n",
       "      <td>...</td>\n",
       "      <td>...</td>\n",
       "      <td>...</td>\n",
       "      <td>...</td>\n",
       "      <td>...</td>\n",
       "      <td>...</td>\n",
       "    </tr>\n",
       "    <tr>\n",
       "      <th>1612</th>\n",
       "      <td>591417230</td>\n",
       "      <td>laliga</td>\n",
       "      <td>Cr_4VC7oTki</td>\n",
       "      <td>GraphImage</td>\n",
       "      <td>6464</td>\n",
       "      <td>38</td>\n",
       "      <td>NaN</td>\n",
       "      <td>Digital creator</td>\n",
       "      <td>45775435</td>\n",
       "      <td>912</td>\n",
       "      <td>...</td>\n",
       "      <td>7776</td>\n",
       "      <td>263558.25</td>\n",
       "      <td>103.666667</td>\n",
       "      <td>36982.750000</td>\n",
       "      <td>36.005750</td>\n",
       "      <td>13.365532</td>\n",
       "      <td>48051</td>\n",
       "      <td>52.083333</td>\n",
       "      <td>14554.666667</td>\n",
       "      <td>0.070316</td>\n",
       "    </tr>\n",
       "    <tr>\n",
       "      <th>1613</th>\n",
       "      <td>591417230</td>\n",
       "      <td>laliga</td>\n",
       "      <td>Cr_qsRloeyr</td>\n",
       "      <td>GraphImage</td>\n",
       "      <td>11636</td>\n",
       "      <td>28</td>\n",
       "      <td>NaN</td>\n",
       "      <td>Digital creator</td>\n",
       "      <td>45775435</td>\n",
       "      <td>912</td>\n",
       "      <td>...</td>\n",
       "      <td>7776</td>\n",
       "      <td>263558.25</td>\n",
       "      <td>103.666667</td>\n",
       "      <td>36982.750000</td>\n",
       "      <td>36.005750</td>\n",
       "      <td>13.365532</td>\n",
       "      <td>48051</td>\n",
       "      <td>52.083333</td>\n",
       "      <td>14554.666667</td>\n",
       "      <td>0.070316</td>\n",
       "    </tr>\n",
       "    <tr>\n",
       "      <th>1614</th>\n",
       "      <td>591417230</td>\n",
       "      <td>laliga</td>\n",
       "      <td>Cr_c7aNNINv</td>\n",
       "      <td>GraphVideo</td>\n",
       "      <td>13653</td>\n",
       "      <td>41</td>\n",
       "      <td>NaN</td>\n",
       "      <td>Digital creator</td>\n",
       "      <td>45775435</td>\n",
       "      <td>912</td>\n",
       "      <td>...</td>\n",
       "      <td>7776</td>\n",
       "      <td>263558.25</td>\n",
       "      <td>103.666667</td>\n",
       "      <td>36982.750000</td>\n",
       "      <td>36.005750</td>\n",
       "      <td>13.365532</td>\n",
       "      <td>48051</td>\n",
       "      <td>52.083333</td>\n",
       "      <td>14554.666667</td>\n",
       "      <td>0.070316</td>\n",
       "    </tr>\n",
       "    <tr>\n",
       "      <th>1615</th>\n",
       "      <td>591417230</td>\n",
       "      <td>laliga</td>\n",
       "      <td>Cr_WFOIrNtu</td>\n",
       "      <td>GraphVideo</td>\n",
       "      <td>32801</td>\n",
       "      <td>57</td>\n",
       "      <td>NaN</td>\n",
       "      <td>Digital creator</td>\n",
       "      <td>45775435</td>\n",
       "      <td>912</td>\n",
       "      <td>...</td>\n",
       "      <td>7776</td>\n",
       "      <td>263558.25</td>\n",
       "      <td>103.666667</td>\n",
       "      <td>36982.750000</td>\n",
       "      <td>36.005750</td>\n",
       "      <td>13.365532</td>\n",
       "      <td>48051</td>\n",
       "      <td>52.083333</td>\n",
       "      <td>14554.666667</td>\n",
       "      <td>0.070316</td>\n",
       "    </tr>\n",
       "    <tr>\n",
       "      <th>1616</th>\n",
       "      <td>591417230</td>\n",
       "      <td>laliga</td>\n",
       "      <td>Cr_Ou9qMAp6</td>\n",
       "      <td>GraphImage</td>\n",
       "      <td>19235</td>\n",
       "      <td>73</td>\n",
       "      <td>NaN</td>\n",
       "      <td>Digital creator</td>\n",
       "      <td>45775435</td>\n",
       "      <td>912</td>\n",
       "      <td>...</td>\n",
       "      <td>7776</td>\n",
       "      <td>263558.25</td>\n",
       "      <td>103.666667</td>\n",
       "      <td>36982.750000</td>\n",
       "      <td>36.005750</td>\n",
       "      <td>13.365532</td>\n",
       "      <td>48051</td>\n",
       "      <td>52.083333</td>\n",
       "      <td>14554.666667</td>\n",
       "      <td>0.070316</td>\n",
       "    </tr>\n",
       "  </tbody>\n",
       "</table>\n",
       "<p>1617 rows × 24 columns</p>\n",
       "</div>"
      ],
      "text/plain": [
       "             id   username    shortcode     post_type     like  comment  \\\n",
       "0      25025320  instagram  Cr_OviBJPrw  GraphSidecar   282344     6691   \n",
       "1      25025320  instagram  Cr3hAoSNLVt    GraphVideo  1303777    17830   \n",
       "2      25025320  instagram  Cr08AgFLRPW  GraphSidecar   348204     6513   \n",
       "3      25025320  instagram  CryV45urd0B    GraphImage   267553     6693   \n",
       "4      25025320  instagram  CrvsWzwsC-D    GraphVideo   297803     6631   \n",
       "...         ...        ...          ...           ...      ...      ...   \n",
       "1612  591417230     laliga  Cr_4VC7oTki    GraphImage     6464       38   \n",
       "1613  591417230     laliga  Cr_qsRloeyr    GraphImage    11636       28   \n",
       "1614  591417230     laliga  Cr_c7aNNINv    GraphVideo    13653       41   \n",
       "1615  591417230     laliga  Cr_WFOIrNtu    GraphVideo    32801       57   \n",
       "1616  591417230     laliga  Cr_Ou9qMAp6    GraphImage    19235       73   \n",
       "\n",
       "     object    category_name   follower  following  ...  reel_count  \\\n",
       "0       NaN  Digital creator  632718714         59  ...        1256   \n",
       "1       NaN  Digital creator  632718714         59  ...        1256   \n",
       "2       NaN  Digital creator  632718714         59  ...        1256   \n",
       "3       NaN  Digital creator  632718714         59  ...        1256   \n",
       "4       NaN  Digital creator  632718714         59  ...        1256   \n",
       "...     ...              ...        ...        ...  ...         ...   \n",
       "1612    NaN  Digital creator   45775435        912  ...        7776   \n",
       "1613    NaN  Digital creator   45775435        912  ...        7776   \n",
       "1614    NaN  Digital creator   45775435        912  ...        7776   \n",
       "1615    NaN  Digital creator   45775435        912  ...        7776   \n",
       "1616    NaN  Digital creator   45775435        912  ...        7776   \n",
       "\n",
       "      reel_avg_view  reel_avg_comment  reel_avg_like  reel_avg_duration  \\\n",
       "0        9409092.00      13528.916667  570225.416667          92.466333   \n",
       "1        9409092.00      13528.916667  570225.416667          92.466333   \n",
       "2        9409092.00      13528.916667  570225.416667          92.466333   \n",
       "3        9409092.00      13528.916667  570225.416667          92.466333   \n",
       "4        9409092.00      13528.916667  570225.416667          92.466333   \n",
       "...             ...               ...            ...                ...   \n",
       "1612      263558.25        103.666667   36982.750000          36.005750   \n",
       "1613      263558.25        103.666667   36982.750000          36.005750   \n",
       "1614      263558.25        103.666667   36982.750000          36.005750   \n",
       "1615      263558.25        103.666667   36982.750000          36.005750   \n",
       "1616      263558.25        103.666667   36982.750000          36.005750   \n",
       "\n",
       "      reel_frequency  media_count  media_avg_comment  media_avg_like  \\\n",
       "0          18.554887         7404        8653.666667   449491.750000   \n",
       "1          18.554887         7404        8653.666667   449491.750000   \n",
       "2          18.554887         7404        8653.666667   449491.750000   \n",
       "3          18.554887         7404        8653.666667   449491.750000   \n",
       "4          18.554887         7404        8653.666667   449491.750000   \n",
       "...              ...          ...                ...             ...   \n",
       "1612       13.365532        48051          52.083333    14554.666667   \n",
       "1613       13.365532        48051          52.083333    14554.666667   \n",
       "1614       13.365532        48051          52.083333    14554.666667   \n",
       "1615       13.365532        48051          52.083333    14554.666667   \n",
       "1616       13.365532        48051          52.083333    14554.666667   \n",
       "\n",
       "      media_frequency  \n",
       "0            1.454414  \n",
       "1            1.454414  \n",
       "2            1.454414  \n",
       "3            1.454414  \n",
       "4            1.454414  \n",
       "...               ...  \n",
       "1612         0.070316  \n",
       "1613         0.070316  \n",
       "1614         0.070316  \n",
       "1615         0.070316  \n",
       "1616         0.070316  \n",
       "\n",
       "[1617 rows x 24 columns]"
      ]
     },
     "execution_count": 36,
     "metadata": {},
     "output_type": "execute_result"
    }
   ],
   "source": [
    "main_df"
   ]
  },
  {
   "attachments": {},
   "cell_type": "markdown",
   "metadata": {},
   "source": [
    "Now I have posts, I can should download them and keep their files in the Data folder. In the next I will going to do that."
   ]
  },
  {
   "cell_type": "code",
   "execution_count": 53,
   "metadata": {},
   "outputs": [],
   "source": [
    "try:\n",
    "    posts_df = pd.read_csv('Data/posts.csv')\n",
    "    posts_df.drop(columns=['Unnamed: 0'], inplace=True)\n",
    "    posts_df = posts_df.drop(posts_df[posts_df['post_type'] == 'GraphVideo'].index)\n",
    "    posts_df = posts_df.reset_index(drop=True)\n",
    "except:\n",
    "    posts_df = main_posts_df\n",
    "    posts_df = posts_df.drop(posts_df[posts_df['post_type'] == 'GraphVideo'].index)\n",
    "    posts_df = posts_df.reset_index(drop=True)"
   ]
  },
  {
   "cell_type": "code",
   "execution_count": 19,
   "metadata": {},
   "outputs": [
    {
     "name": "stdout",
     "output_type": "stream",
     "text": [
      "Image already exists, Skipping...\n",
      "Image already exists, Skipping...\n",
      "Image already exists, Skipping...\n",
      "Image already exists, Skipping...\n",
      "Image already exists, Skipping...\n",
      "Image already exists, Skipping...\n",
      "Image already exists, Skipping...\n",
      "Image already exists, Skipping...\n",
      "Image already exists, Skipping...\n",
      "Image already exists, Skipping...\n",
      "Image already exists, Skipping...\n",
      "Image already exists, Skipping...\n",
      "Image already exists, Skipping...\n",
      "Image already exists, Skipping...\n",
      "Image already exists, Skipping...\n",
      "Image already exists, Skipping...\n",
      "Image already exists, Skipping...\n",
      "Image already exists, Skipping...\n",
      "Image already exists, Skipping...\n",
      "Image already exists, Skipping...\n",
      "Image already exists, Skipping...\n",
      "Image already exists, Skipping...\n",
      "Image already exists, Skipping...\n",
      "Image already exists, Skipping...\n",
      "Image already exists, Skipping...\n",
      "Image already exists, Skipping...\n",
      "Image already exists, Skipping...\n",
      "Image already exists, Skipping...\n",
      "Image already exists, Skipping...\n",
      "Image already exists, Skipping...\n",
      "Image already exists, Skipping...\n",
      "Image already exists, Skipping...\n",
      "Image already exists, Skipping...\n",
      "Image already exists, Skipping...\n",
      "Image already exists, Skipping...\n",
      "Image already exists, Skipping...\n",
      "Image already exists, Skipping...\n",
      "Image already exists, Skipping...\n",
      "Image already exists, Skipping...\n",
      "Image already exists, Skipping...\n",
      "Image already exists, Skipping...\n",
      "Image already exists, Skipping...\n",
      "Image already exists, Skipping...\n",
      "Image already exists, Skipping...\n",
      "Image already exists, Skipping...\n",
      "Image already exists, Skipping...\n",
      "Image already exists, Skipping...\n",
      "Image already exists, Skipping...\n",
      "Image already exists, Skipping...\n",
      "Image already exists, Skipping...\n",
      "Image already exists, Skipping...\n",
      "Image already exists, Skipping...\n",
      "Image already exists, Skipping...\n",
      "Image already exists, Skipping...\n",
      "Image already exists, Skipping...\n",
      "Image already exists, Skipping...\n",
      "Image already exists, Skipping...\n",
      "Image already exists, Skipping...\n",
      "Image already exists, Skipping...\n",
      "Image already exists, Skipping...\n",
      "Image already exists, Skipping...\n",
      "Image already exists, Skipping...\n",
      "Image already exists, Skipping...\n",
      "Image already exists, Skipping...\n",
      "Image already exists, Skipping...\n",
      "Image already exists, Skipping...\n",
      "Image already exists, Skipping...\n",
      "Image already exists, Skipping...\n",
      "Image already exists, Skipping...\n",
      "Image already exists, Skipping...\n",
      "Image already exists, Skipping...\n",
      "Image already exists, Skipping...\n",
      "Image already exists, Skipping...\n",
      "Image already exists, Skipping...\n",
      "Image already exists, Skipping...\n",
      "Image already exists, Skipping...\n",
      "Image already exists, Skipping...\n",
      "Image already exists, Skipping...\n",
      "Image already exists, Skipping...\n",
      "Image already exists, Skipping...\n",
      "Image already exists, Skipping...\n",
      "Image already exists, Skipping...\n",
      "Image already exists, Skipping...\n",
      "Image already exists, Skipping...\n",
      "Image already exists, Skipping...\n",
      "Image already exists, Skipping...\n",
      "Image already exists, Skipping...\n",
      "Image already exists, Skipping...\n",
      "Image already exists, Skipping...\n",
      "Image already exists, Skipping...\n",
      "Image already exists, Skipping...\n",
      "Image already exists, Skipping...\n",
      "Image already exists, Skipping...\n",
      "Image already exists, Skipping...\n",
      "Image already exists, Skipping...\n",
      "Image already exists, Skipping...\n",
      "Image already exists, Skipping...\n",
      "Image already exists, Skipping...\n",
      "Image already exists, Skipping...\n",
      "Image already exists, Skipping...\n",
      "Image already exists, Skipping...\n",
      "Image already exists, Skipping...\n",
      "Image already exists, Skipping...\n",
      "Image already exists, Skipping...\n",
      "Image already exists, Skipping...\n",
      "Image already exists, Skipping...\n",
      "Image already exists, Skipping...\n",
      "Image already exists, Skipping...\n",
      "Image already exists, Skipping...\n",
      "Image already exists, Skipping...\n",
      "Image already exists, Skipping...\n",
      "Image already exists, Skipping...\n",
      "Image already exists, Skipping...\n",
      "Image already exists, Skipping...\n",
      "Image already exists, Skipping...\n",
      "Image already exists, Skipping...\n",
      "Image already exists, Skipping...\n",
      "Image already exists, Skipping...\n",
      "Image already exists, Skipping...\n",
      "Image already exists, Skipping...\n",
      "Image already exists, Skipping...\n",
      "Image already exists, Skipping...\n",
      "Image already exists, Skipping...\n",
      "Image already exists, Skipping...\n",
      "Image already exists, Skipping...\n",
      "Image already exists, Skipping...\n",
      "Image already exists, Skipping...\n",
      "Image already exists, Skipping...\n",
      "Image already exists, Skipping...\n",
      "Image already exists, Skipping...\n",
      "Image already exists, Skipping...\n",
      "Image already exists, Skipping...\n",
      "Image already exists, Skipping...\n",
      "Image already exists, Skipping...\n",
      "Image already exists, Skipping...\n",
      "Image already exists, Skipping...\n",
      "Image already exists, Skipping...\n",
      "Image already exists, Skipping...\n",
      "Image already exists, Skipping...\n",
      "Image already exists, Skipping...\n",
      "Image already exists, Skipping...\n",
      "Image already exists, Skipping...\n",
      "Image already exists, Skipping...\n",
      "Image already exists, Skipping...\n",
      "Image already exists, Skipping...\n",
      "Image already exists, Skipping...\n",
      "Image already exists, Skipping...\n",
      "Image already exists, Skipping...\n",
      "Image already exists, Skipping...\n",
      "Image already exists, Skipping...\n",
      "Image already exists, Skipping...\n",
      "Image already exists, Skipping...\n",
      "Image already exists, Skipping...\n",
      "Image already exists, Skipping...\n",
      "Image already exists, Skipping...\n",
      "Image already exists, Skipping...\n",
      "Image already exists, Skipping...\n",
      "Image already exists, Skipping...\n",
      "Image already exists, Skipping...\n",
      "Image already exists, Skipping...\n",
      "Image already exists, Skipping...\n",
      "Image already exists, Skipping...\n",
      "Image already exists, Skipping...\n",
      "Image already exists, Skipping...\n",
      "Image already exists, Skipping...\n",
      "Image already exists, Skipping...\n",
      "Image already exists, Skipping...\n",
      "Image already exists, Skipping...\n",
      "Image already exists, Skipping...\n",
      "Image already exists, Skipping...\n",
      "Image already exists, Skipping...\n",
      "Image already exists, Skipping...\n",
      "Image already exists, Skipping...\n",
      "Image already exists, Skipping...\n",
      "Image already exists, Skipping...\n",
      "Image already exists, Skipping...\n",
      "Image already exists, Skipping...\n",
      "Image already exists, Skipping...\n",
      "Image already exists, Skipping...\n",
      "Image already exists, Skipping...\n",
      "Image already exists, Skipping...\n",
      "Image already exists, Skipping...\n",
      "Image already exists, Skipping...\n",
      "Image already exists, Skipping...\n",
      "Image already exists, Skipping...\n",
      "Image already exists, Skipping...\n",
      "Image already exists, Skipping...\n",
      "Image already exists, Skipping...\n",
      "Image already exists, Skipping...\n",
      "Image already exists, Skipping...\n",
      "Image already exists, Skipping...\n",
      "Image already exists, Skipping...\n",
      "Image already exists, Skipping...\n",
      "Image already exists, Skipping...\n",
      "Image already exists, Skipping...\n",
      "Image already exists, Skipping...\n",
      "Image already exists, Skipping...\n",
      "Image already exists, Skipping...\n",
      "Image already exists, Skipping...\n",
      "Image already exists, Skipping...\n",
      "Image already exists, Skipping...\n",
      "Image already exists, Skipping...\n",
      "Image already exists, Skipping...\n",
      "Image already exists, Skipping...\n",
      "Image already exists, Skipping...\n",
      "Image already exists, Skipping...\n",
      "Getting post: CrDvRXKrmA2\n",
      "Response JSON error, skipping...\n",
      "Getting post: CrBTJlxrPlz\n",
      "Getting post: Cq9jia3rWDk\n",
      "Getting post: CqZJ1zsvK6l\n",
      "Response JSON error, skipping...\n",
      "Getting post: CqUkxxsMrlY\n",
      "Response JSON error, skipping...\n",
      "Getting post: CqTzEozMp5r\n",
      "Response JSON error, skipping...\n",
      "Image already exists, Skipping...\n",
      "Image already exists, Skipping...\n",
      "Getting post: CrawyLMsi6H\n",
      "Image already exists, Skipping...\n",
      "Getting post: CrZRH8eMU53\n",
      "Getting post: CrZAA05sukK\n",
      "Getting post: CrY1EBxs5z8\n",
      "Getting post: CrYqoWxIeQ_\n",
      "Getting post: Cq-3AeXrmuk\n",
      "Image already exists, Skipping...\n",
      "Image already exists, Skipping...\n",
      "Image already exists, Skipping...\n",
      "Image already exists, Skipping...\n",
      "Image already exists, Skipping...\n",
      "Image already exists, Skipping...\n",
      "Image already exists, Skipping...\n",
      "Getting post: CqDpUUluE1N\n",
      "Getting post: CrO4Av5qEon\n",
      "Getting post: Cra7dUHKmCH\n",
      "Image already exists, Skipping...\n",
      "Getting post: CrQcdySsEZE\n",
      "Image already exists, Skipping...\n",
      "Image already exists, Skipping...\n",
      "Image already exists, Skipping...\n",
      "Image already exists, Skipping...\n",
      "Getting post: CpqrATUD4O6\n",
      "Getting post: CpdnAaDsZpn\n",
      "Image already exists, Skipping...\n",
      "Getting post: CrGkNOur3RD\n",
      "Image already exists, Skipping...\n",
      "Getting post: CqDxK3BNv-F\n",
      "Image already exists, Skipping...\n",
      "Getting post: CpLBwhLNial\n",
      "Getting post: CrMRzkmP7O5\n",
      "Getting post: Cq8Uq7vLrmN\n",
      "Getting post: Cq3fkyTPQY8\n",
      "Image already exists, Skipping...\n",
      "Image already exists, Skipping...\n",
      "Image already exists, Skipping...\n",
      "Image already exists, Skipping...\n",
      "Image already exists, Skipping...\n",
      "Image already exists, Skipping...\n",
      "Image already exists, Skipping...\n",
      "Image already exists, Skipping...\n",
      "Image already exists, Skipping...\n",
      "Image already exists, Skipping...\n",
      "Getting post: CrVzoYwu28_\n",
      "Getting post: CrPbbQEtKa8\n",
      "Getting post: CrJ5GtrpHX4\n",
      "Getting post: CrESoXYpM1j\n",
      "Image already exists, Skipping...\n",
      "Getting post: Cq_AjukMTOK\n",
      "Image already exists, Skipping...\n",
      "Image already exists, Skipping...\n",
      "Image already exists, Skipping...\n",
      "Getting post: CqnXuats60_\n",
      "Image already exists, Skipping...\n",
      "Getting post: CqYIh-pLIRq\n",
      "Image already exists, Skipping...\n",
      "Image already exists, Skipping...\n",
      "Image already exists, Skipping...\n",
      "Image already exists, Skipping...\n",
      "Image already exists, Skipping...\n",
      "Image already exists, Skipping...\n",
      "Image already exists, Skipping...\n",
      "Image already exists, Skipping...\n",
      "Image already exists, Skipping...\n",
      "Image already exists, Skipping...\n",
      "Image already exists, Skipping...\n",
      "Image already exists, Skipping...\n",
      "Getting post: Cq0i5XkussK\n",
      "Getting post: CqjB_CkOP-8\n",
      "Getting post: CqZChC3spaO\n",
      "Getting post: CpqfxOtu9Zo\n",
      "Getting post: Crb9oAlPdSV\n",
      "Getting post: CraG49hOYya\n",
      "Getting post: CrZbgIPP_bX\n",
      "Getting post: CrYwVwnJ4RL\n",
      "Image already exists, Skipping...\n",
      "Getting post: CpUthn5JLa2\n",
      "Image already exists, Skipping...\n",
      "Image already exists, Skipping...\n",
      "Image already exists, Skipping...\n",
      "Image already exists, Skipping...\n",
      "Getting post: CrcoyFMsrJs\n",
      "Image already exists, Skipping...\n",
      "Image already exists, Skipping...\n",
      "Getting post: CrOoRAvoMU5\n",
      "Getting post: CrIAvLsIPng\n",
      "Getting post: Cqs10TPI20V\n",
      "Getting post: Cqnef1mI7p6\n",
      "Getting post: CqepWymodl0\n",
      "Getting post: CqS57uMIdJu\n",
      "Getting post: CqSTn9-IvhF\n",
      "Image already exists, Skipping...\n",
      "Image already exists, Skipping...\n",
      "Image already exists, Skipping...\n",
      "Image already exists, Skipping...\n",
      "Image already exists, Skipping...\n",
      "Image already exists, Skipping...\n",
      "Image already exists, Skipping...\n",
      "Getting post: CpZP8TaOxTp\n",
      "Image already exists, Skipping...\n",
      "Image already exists, Skipping...\n",
      "Image already exists, Skipping...\n",
      "Image already exists, Skipping...\n",
      "Image already exists, Skipping...\n",
      "Image already exists, Skipping...\n",
      "Image already exists, Skipping...\n",
      "Getting post: CrawoYnMZrg\n",
      "Image already exists, Skipping...\n",
      "Getting post: Cq2A-SKLiJM\n",
      "Getting post: CqhfZaut_4u\n",
      "Image already exists, Skipping...\n",
      "Image already exists, Skipping...\n",
      "Image already exists, Skipping...\n",
      "Image already exists, Skipping...\n",
      "Image already exists, Skipping...\n",
      "Getting post: CpsLhazMbmW\n",
      "Image already exists, Skipping...\n",
      "Image already exists, Skipping...\n",
      "Getting post: CrV02jtuXBt\n",
      "Image already exists, Skipping...\n",
      "Image already exists, Skipping...\n",
      "Getting post: CrOGmDzr67V\n",
      "Image already exists, Skipping...\n",
      "Image already exists, Skipping...\n",
      "Image already exists, Skipping...\n",
      "Image already exists, Skipping...\n",
      "Image already exists, Skipping...\n",
      "Image already exists, Skipping...\n",
      "Getting post: Cqxj7-AIAT-\n",
      "Response JSON error, skipping...\n",
      "Getting post: Cquag_pIZa5\n",
      "Image already exists, Skipping...\n",
      "Image already exists, Skipping...\n",
      "Image already exists, Skipping...\n",
      "Getting post: CrM6yxIpL3o\n",
      "Getting post: CrJDwdkpsb2\n",
      "Getting post: CrJDvOPpRFx\n",
      "Getting post: CrJDtywpa8q\n",
      "Getting post: CrOAn-UO4o5\n",
      "Image already exists, Skipping...\n",
      "Getting post: Cqsphe0Ou10\n",
      "Image already exists, Skipping...\n",
      "Image already exists, Skipping...\n",
      "Getting post: CqdEhjIO0gh\n",
      "Getting post: CrDQMUds6os\n",
      "Getting post: CrDPuqqsPDF\n",
      "Getting post: CrDPg8Ksm0x\n",
      "Image already exists, Skipping...\n",
      "Image already exists, Skipping...\n",
      "Image already exists, Skipping...\n",
      "Image already exists, Skipping...\n",
      "Image already exists, Skipping...\n",
      "Getting post: Ck_VFPYvXDW\n",
      "Image already exists, Skipping...\n",
      "Image already exists, Skipping...\n",
      "Image already exists, Skipping...\n",
      "Image already exists, Skipping...\n",
      "Image already exists, Skipping...\n",
      "Getting post: CpHgCYzPU0S\n",
      "Getting post: CpFA7JzNpDw\n",
      "Getting post: CohGjBsNdhg\n",
      "Getting post: CnvwtzqNCb7\n",
      "Getting post: CnFQm-6tEab\n",
      "Image already exists, Skipping...\n",
      "Image already exists, Skipping...\n",
      "Image already exists, Skipping...\n",
      "Image already exists, Skipping...\n",
      "Getting post: CrCKtWXveKH\n",
      "Image already exists, Skipping...\n",
      "Image already exists, Skipping...\n",
      "Image already exists, Skipping...\n",
      "Image already exists, Skipping...\n",
      "Image already exists, Skipping...\n",
      "Image already exists, Skipping...\n",
      "Image already exists, Skipping...\n",
      "Image already exists, Skipping...\n",
      "Image already exists, Skipping...\n",
      "Image already exists, Skipping...\n",
      "Image already exists, Skipping...\n",
      "Getting post: CrVNQdiohTZ\n",
      "Getting post: CrT-6FsrVvZ\n",
      "Image already exists, Skipping...\n",
      "Getting post: CrEw_mjP9CD\n",
      "Getting post: CrEw7xqPbTG\n",
      "Getting post: CrEw5BcvaP2\n",
      "Getting post: CrEw26NP9zE\n",
      "Getting post: CrEwse0v1mV\n",
      "Getting post: CmLylLcyNME\n",
      "Getting post: CmLyh30ST1Z\n",
      "Getting post: CmLydAHyJ-W\n",
      "Getting post: Cl6UaQytahp\n",
      "Getting post: Cl6UYqntj4S\n",
      "Getting post: Cl6UTwithef\n",
      "Image already exists, Skipping...\n",
      "Image already exists, Skipping...\n",
      "Image already exists, Skipping...\n",
      "Image already exists, Skipping...\n",
      "Image already exists, Skipping...\n",
      "Image already exists, Skipping...\n",
      "Image already exists, Skipping...\n",
      "Image already exists, Skipping...\n",
      "Image already exists, Skipping...\n",
      "Getting post: CkZojwNs_wX\n",
      "Image already exists, Skipping...\n",
      "Image already exists, Skipping...\n",
      "Getting post: CrYIIVHLuZM\n",
      "Getting post: CrRGR0crUme\n",
      "Getting post: CrGgfF2IxAQ\n",
      "Getting post: Cq86QrRr92G\n",
      "Getting post: Cq3UUUirzqw\n",
      "Image already exists, Skipping...\n",
      "Getting post: CqlSzdfL_Ob\n",
      "Getting post: CqirL94L_dw\n",
      "Getting post: CqYZ0ojLkFG\n",
      "Getting post: Cp07oIoowOB\n",
      "Image already exists, Skipping...\n",
      "Getting post: CpqP74rr2qA\n",
      "Image already exists, Skipping...\n",
      "Image already exists, Skipping...\n",
      "Getting post: Cram_Qpv_oV\n",
      "Image already exists, Skipping...\n",
      "Getting post: CrZarvUP8Cf\n",
      "Getting post: CrYQLiEPj7X\n",
      "Image already exists, Skipping...\n",
      "Getting post: Crbgog-uCOG\n",
      "Getting post: CrVnARqu3TB\n",
      "Getting post: CfCLqhCr1vd\n",
      "Image already exists, Skipping...\n",
      "Getting post: CcGXJaqJO9L\n",
      "Getting post: CaXWrkTqjSO\n",
      "Getting post: CaUsPbUquKV\n",
      "Getting post: CqtyYIAL0uk\n",
      "Image already exists, Skipping...\n",
      "Image already exists, Skipping...\n",
      "Image already exists, Skipping...\n",
      "Image already exists, Skipping...\n",
      "Image already exists, Skipping...\n",
      "Getting post: Cpv0l-Xuhpk\n",
      "Getting post: CpZE7EHujsW\n",
      "Image already exists, Skipping...\n",
      "Image already exists, Skipping...\n",
      "Image already exists, Skipping...\n",
      "Image already exists, Skipping...\n",
      "Image already exists, Skipping...\n",
      "Image already exists, Skipping...\n",
      "Getting post: CqXfZVZI0Y8\n",
      "Getting post: CrbYoOFSPdq\n",
      "Getting post: CrbQhywNtlH\n",
      "Getting post: Cra1_AFRk-J\n",
      "Getting post: CralY0KMvW0\n",
      "Getting post: CraVyjOOqzp\n",
      "Getting post: CrY44FIMva-\n",
      "Getting post: CrYirodyFaW\n",
      "Getting post: CrYfhuzok0Y\n",
      "Getting post: CqDQhAlNc2Y\n",
      "Getting post: Cq07Kw9vnvu\n",
      "Response JSON error, skipping...\n",
      "Image already exists, Skipping...\n",
      "Image already exists, Skipping...\n",
      "Image already exists, Skipping...\n",
      "Getting post: Cqn04_4MC1E\n",
      "Response JSON error, skipping...\n",
      "Image already exists, Skipping...\n",
      "Image already exists, Skipping...\n",
      "Image already exists, Skipping...\n",
      "Image already exists, Skipping...\n",
      "Image already exists, Skipping...\n",
      "Getting post: Crcu6yooAcs\n",
      "Image already exists, Skipping...\n",
      "Getting post: CrVPW3_okbc\n",
      "Getting post: CrTKqHEvn88\n",
      "Image already exists, Skipping...\n",
      "Image already exists, Skipping...\n",
      "Getting post: CrAdHVdpw5Y\n",
      "Image already exists, Skipping...\n",
      "Image already exists, Skipping...\n",
      "Image already exists, Skipping...\n",
      "Image already exists, Skipping...\n",
      "Image already exists, Skipping...\n",
      "Image already exists, Skipping...\n",
      "Image already exists, Skipping...\n",
      "Getting post: CrOV8SyuYPH\n",
      "Image already exists, Skipping...\n",
      "Image already exists, Skipping...\n",
      "Image already exists, Skipping...\n",
      "Image already exists, Skipping...\n",
      "Image already exists, Skipping...\n",
      "Image already exists, Skipping...\n",
      "Image already exists, Skipping...\n",
      "Image already exists, Skipping...\n",
      "Getting post: Cq5EuqHLDJM\n",
      "Getting post: CqgEyKWJBk4\n",
      "Getting post: CqYV6nEsXb5\n",
      "Image already exists, Skipping...\n",
      "Image already exists, Skipping...\n",
      "Image already exists, Skipping...\n",
      "Image already exists, Skipping...\n",
      "Image already exists, Skipping...\n",
      "Getting post: Cq-2yRTtjD8\n",
      "Image already exists, Skipping...\n",
      "Image already exists, Skipping...\n",
      "Image already exists, Skipping...\n",
      "Getting post: CqyQXM6ufTb\n",
      "Image already exists, Skipping...\n",
      "Getting post: Crb0xiFMuHL\n",
      "Image already exists, Skipping...\n",
      "Getting post: CrbhWJ-szsJ\n",
      "Getting post: CrbQyV_M3wx\n",
      "Getting post: CrazTDmsJb-\n",
      "Image already exists, Skipping...\n",
      "Getting post: CraU-O8gwG6\n",
      "Getting post: CrY3c7HNVST\n",
      "Getting post: Crcgt3wtmgL\n",
      "Getting post: CrcO-r0O7S8\n",
      "Image already exists, Skipping...\n",
      "Image already exists, Skipping...\n",
      "Image already exists, Skipping...\n",
      "Image already exists, Skipping...\n",
      "Image already exists, Skipping...\n",
      "Image already exists, Skipping...\n",
      "Image already exists, Skipping...\n",
      "Image already exists, Skipping...\n",
      "Image already exists, Skipping...\n",
      "Image already exists, Skipping...\n",
      "Image already exists, Skipping...\n",
      "Getting post: CopRevnObk9\n",
      "Getting post: CoWV91ELRSz\n",
      "Image already exists, Skipping...\n",
      "Getting post: ClJeef9pyrj\n",
      "Getting post: CkrEFmISa7U\n",
      "Getting post: Cj30YJSJp6b\n",
      "Image already exists, Skipping...\n",
      "Image already exists, Skipping...\n",
      "Image already exists, Skipping...\n",
      "Getting post: Crb92dRNJKL\n",
      "Getting post: Crbdty9tdSI\n",
      "Getting post: CrVwIicI5BJ\n",
      "Getting post: CrSOr5moUqz\n",
      "Getting post: CrODur1o66t\n",
      "Getting post: CrTbaoZtTzy\n",
      "Getting post: CrQVzBJsXL_\n",
      "Getting post: CrGZujltetk\n",
      "Getting post: CqEE5a2sNna\n",
      "Image already exists, Skipping...\n",
      "Image already exists, Skipping...\n",
      "Getting post: Crc2tokOlMZ\n",
      "Getting post: Crcef9SIaZh\n",
      "Getting post: Crb1RE4vRH0\n",
      "Getting post: Crbgx05tMGe\n",
      "Getting post: CrbTBaWMYJT\n",
      "Getting post: CrbDyksMxsk\n",
      "Getting post: CnnI_rhIZjL\n",
      "Image already exists, Skipping...\n",
      "Getting post: CrW4D42I4aV\n",
      "Getting post: CrUH-xsIpPn\n",
      "Getting post: CrMzFl3ov7P\n",
      "Getting post: CrCXbrXO00N\n",
      "Image already exists, Skipping...\n",
      "Image already exists, Skipping...\n",
      "Image already exists, Skipping...\n",
      "Image already exists, Skipping...\n",
      "Image already exists, Skipping...\n",
      "Image already exists, Skipping...\n",
      "Getting post: Cl6jmw9jMwI\n",
      "Image already exists, Skipping...\n",
      "Image already exists, Skipping...\n",
      "Image already exists, Skipping...\n",
      "Image already exists, Skipping...\n",
      "Image already exists, Skipping...\n",
      "Image already exists, Skipping...\n",
      "Image already exists, Skipping...\n",
      "Image already exists, Skipping...\n",
      "Image already exists, Skipping...\n",
      "Getting post: CqmGMmyt_H3\n",
      "Image already exists, Skipping...\n",
      "Getting post: CqTZaC_gwT7\n",
      "Image already exists, Skipping...\n",
      "Image already exists, Skipping...\n",
      "Getting post: CrIiDqDOVWB\n",
      "Image already exists, Skipping...\n",
      "Getting post: CqH4ROSDzU7\n",
      "Getting post: Cpu_3e6DSOa\n",
      "Getting post: CpqMPWePdOU\n",
      "Getting post: CpnHJGZLced\n",
      "Getting post: CpgCyn5Pfsq\n",
      "Image already exists, Skipping...\n",
      "Getting post: CrZGc6_IjKv\n",
      "Getting post: CrZFPEyos1a\n",
      "Getting post: CrZEFqOo6Yd\n",
      "Getting post: CrZC8jzIajs\n",
      "Getting post: CrZB_H2onTe\n",
      "Getting post: CrY-lvhI-ZD\n",
      "Getting post: CrY9QZ9oa6C\n",
      "Getting post: Cq6DyuHP41Y\n",
      "Image already exists, Skipping...\n",
      "Image already exists, Skipping...\n",
      "Image already exists, Skipping...\n",
      "Image already exists, Skipping...\n",
      "Image already exists, Skipping...\n",
      "Image already exists, Skipping...\n",
      "Getting post: CraOf1nAww1\n",
      "Image already exists, Skipping...\n",
      "Image already exists, Skipping...\n",
      "Image already exists, Skipping...\n",
      "Image already exists, Skipping...\n",
      "Image already exists, Skipping...\n",
      "Image already exists, Skipping...\n",
      "Getting post: CrbNESfIqvR\n",
      "Getting post: CrafQVsqnOH\n",
      "Getting post: CrYnSrqIxhG\n",
      "Getting post: CrYSpAoo2ht\n",
      "Getting post: CrXpcQ3IQ03\n",
      "Getting post: CrV3Pv7qgos\n",
      "Image already exists, Skipping...\n",
      "Image already exists, Skipping...\n",
      "Image already exists, Skipping...\n",
      "Getting post: Cp_TjmPP_LW\n",
      "Image already exists, Skipping...\n",
      "Image already exists, Skipping...\n",
      "Image already exists, Skipping...\n",
      "Getting post: CrRf1AULXUp\n",
      "Getting post: CrD1rBAuvDc\n",
      "Getting post: CrBXn1LrH8d\n",
      "Getting post: CrWGUnFqspp\n",
      "Image already exists, Skipping...\n",
      "Getting post: CrOagWCKPMD\n",
      "Image already exists, Skipping...\n",
      "Getting post: CqiyAXHIJS0\n",
      "Image already exists, Skipping...\n",
      "Image already exists, Skipping...\n",
      "Image already exists, Skipping...\n",
      "Image already exists, Skipping...\n",
      "Getting post: CqrK_ipP18Z\n",
      "Getting post: CqBLGsEp8ZF\n",
      "Image already exists, Skipping...\n",
      "Image already exists, Skipping...\n",
      "Image already exists, Skipping...\n",
      "Getting post: CoqnN5HrbEG\n",
      "Getting post: Cn2qvc6PJu3\n",
      "Getting post: Ck_xzHOyK_U\n",
      "Getting post: CravvMoroBu\n",
      "Getting post: CrYuuFdL3T2\n",
      "Getting post: CrXkAB3qpUS\n",
      "Getting post: CrQgSTkMT7B\n",
      "Image already exists, Skipping...\n",
      "Getting post: CrciM5YMlm_\n",
      "Getting post: CrcaGwcM15a\n",
      "Image already exists, Skipping...\n",
      "Getting post: CrcHqTdMwIm\n",
      "Getting post: Crb6iXGvHh1\n",
      "Image already exists, Skipping...\n",
      "Image already exists, Skipping...\n",
      "Image already exists, Skipping...\n",
      "Getting post: CrdCdWJPPch\n",
      "Getting post: CrdBeljBpmY\n",
      "Getting post: Crc_FJ1hBTS\n",
      "Getting post: Crc7wzeBgrg\n",
      "Getting post: Crc6d53hisi\n",
      "Getting post: Crc5VX9Ba3N\n",
      "Getting post: Crc4Of3B4EF\n",
      "Getting post: Crc0ykShhyh\n",
      "Getting post: CrcWa5ttSVW\n",
      "Getting post: CrcS_J7N-es\n",
      "Image already exists, Skipping...\n",
      "Getting post: CrcFT4wPVuE\n",
      "Getting post: CrcB0z-vZJU\n",
      "Image already exists, Skipping...\n",
      "Image already exists, Skipping...\n",
      "Image already exists, Skipping...\n",
      "Image already exists, Skipping...\n",
      "Getting post: Crc78iBtkXD\n",
      "Response JSON error, skipping...\n",
      "Getting post: Crc67pLLJG1\n",
      "Image already exists, Skipping...\n",
      "Getting post: CrcyECfL5Wo\n",
      "Image already exists, Skipping...\n",
      "Image already exists, Skipping...\n",
      "Image already exists, Skipping...\n",
      "Getting post: Crb04trLthP\n",
      "Image already exists, Skipping...\n",
      "Getting post: CrcVdXsL0Xp\n",
      "Getting post: CrcGBeTP5sl\n",
      "Getting post: Crb1SLWyCv-\n",
      "Getting post: CrdBgk1tFMK\n",
      "Getting post: CrczH8yhfsC\n",
      "Getting post: CrcuSATBzjz\n",
      "Getting post: CrcsP2jh7j9\n",
      "Getting post: CrbcpD5LK2w\n",
      "Getting post: CrbaH3ih5XB\n",
      "Getting post: CrbVlFTyf9G\n",
      "Getting post: CrbMANcB1xA\n",
      "Getting post: CrbCJ_3BJxL\n",
      "Image already exists, Skipping...\n",
      "Getting post: CrcT4k8uQIx\n",
      "Image already exists, Skipping...\n",
      "Image already exists, Skipping...\n",
      "Getting post: CrbWAwdr2nR\n",
      "Getting post: CrbVuxtrJ8z\n",
      "Getting post: CrbOVU4oAap\n",
      "Getting post: CrdEx7vPu59\n",
      "Getting post: CrcyPbjvZup\n",
      "Getting post: Crcsa8gv-bg\n",
      "Getting post: Crcr4OZPXfr\n",
      "Getting post: CrbrRkFBPad\n",
      "Getting post: CrbU6-lvtp7\n",
      "Getting post: CraeQj7hP71\n",
      "Getting post: CraWyQJhrag\n",
      "Getting post: Crcx9N3JeG6\n",
      "Getting post: CrcspkjL5Zr\n",
      "Getting post: CrcsEs8p6lh\n",
      "Image already exists, Skipping...\n",
      "Image already exists, Skipping...\n",
      "Getting post: CrcJ4jttQNT\n",
      "Getting post: CrbyOh0vad_\n",
      "Getting post: Crc7sLRO0o-\n",
      "Getting post: CrcyOjmrvyv\n",
      "Getting post: Crcsg9XrcSW\n",
      "Image already exists, Skipping...\n",
      "Getting post: CrceHu0LoDK\n",
      "Getting post: CrcRVk2PnHd\n",
      "Getting post: CrcNCfdvlIn\n",
      "Getting post: CrcIZlQvJYF\n",
      "Getting post: Crc5gE_ooBj\n",
      "Getting post: Crc1VFHons6\n",
      "Getting post: CrcqH5NITit\n",
      "Getting post: CrcX5jrMTz_\n",
      "Image already exists, Skipping...\n",
      "Getting post: Crc31MOO_YK\n",
      "Getting post: Crcxl-WoToS\n",
      "Getting post: CrcnycZNcCk\n",
      "Image already exists, Skipping...\n",
      "Image already exists, Skipping...\n",
      "Image already exists, Skipping...\n",
      "Image already exists, Skipping...\n",
      "Getting post: Crc27KVOM9Y\n",
      "Getting post: CrckegQOHv6\n",
      "Image already exists, Skipping...\n",
      "Image already exists, Skipping...\n",
      "Getting post: CrcOLYVs9FI\n",
      "Getting post: CrcIureRCJS\n",
      "Image already exists, Skipping...\n",
      "Getting post: CrbzfxxBMWL\n",
      "Getting post: CrbichYR1dw\n",
      "Getting post: Crc4fAqMMIo\n",
      "Getting post: CrczsCBMW8d\n",
      "Getting post: Crbvc1pMZrk\n",
      "Image already exists, Skipping...\n",
      "Image already exists, Skipping...\n",
      "Getting post: Crbb564sWvM\n",
      "Getting post: CrbbyBHMPfA\n",
      "Getting post: CrbYVzrMe1w\n",
      "Image already exists, Skipping...\n",
      "Getting post: CrbQttdM47V\n",
      "Getting post: Crc4nO3Nhcf\n",
      "Getting post: Crcu2YWJGoL\n",
      "Getting post: Crcp-T4I9xg\n",
      "Getting post: Crbtooth7xU\n",
      "Getting post: CrbWDneJsQ7\n",
      "Getting post: Cra_Lzbp3t7\n",
      "Getting post: CraywGOJR7D\n",
      "Getting post: Crc5UzDuWGL\n",
      "Getting post: Crc4ENeuU-Y\n",
      "Getting post: Crc2zsQOKwY\n",
      "Getting post: Crb3wAfO42w\n",
      "Getting post: Crb1Wu8MX3A\n",
      "Getting post: Crbvn83OVix\n",
      "Getting post: CrbsiPEOagd\n",
      "Getting post: CrbowemO2N9\n",
      "Getting post: CrblqsEOclQ\n",
      "Getting post: Crbj51qL0zC\n",
      "Getting post: CrbjzH1BBWV\n",
      "Image already exists, Skipping...\n",
      "Getting post: CrdDQY3rp1k\n",
      "Image already exists, Skipping...\n",
      "Image already exists, Skipping...\n",
      "Image already exists, Skipping...\n",
      "Getting post: Crcnj0QLN2K\n",
      "Image already exists, Skipping...\n",
      "Image already exists, Skipping...\n",
      "Getting post: CrcczuFrcCp\n",
      "Getting post: CrcbhkirH_a\n",
      "Getting post: CrcZJczLgLu\n",
      "Image already exists, Skipping...\n",
      "Getting post: CraJbU4sinT\n",
      "Getting post: Cq0XjflLjA-\n",
      "Getting post: CrdFJfSp5Hk\n",
      "Getting post: CrdDilANL5o\n",
      "Getting post: CrdAJWCJBKl\n",
      "Getting post: Crc8dQ_NGfN\n",
      "Getting post: Crc5py3vVkA\n",
      "Getting post: Crc3hOjtksc\n",
      "Getting post: Crc0KCCLwfT\n",
      "Getting post: CrZ--xeLqyC\n",
      "Getting post: CrKXvewpK8j\n",
      "Getting post: Crawo4NrEHZ\n",
      "Image already exists, Skipping...\n",
      "Image already exists, Skipping...\n",
      "Getting post: CrbwEVmJ9eU\n",
      "Image already exists, Skipping...\n",
      "Image already exists, Skipping...\n",
      "Getting post: CrcEuT8OwEn\n",
      "Getting post: CrbnlTCO-ix\n",
      "Getting post: CrbWWc-OExv\n",
      "Image already exists, Skipping...\n",
      "Image already exists, Skipping...\n",
      "Getting post: CrdATRHItJe\n",
      "Response JSON error, skipping...\n",
      "Getting post: CrczKQcISlQ\n",
      "Response JSON error, skipping...\n",
      "Getting post: CrbZTnbomRb\n",
      "Response JSON error, skipping...\n",
      "Getting post: CrbPBQkoA_Z\n",
      "Response JSON error, skipping...\n",
      "Getting post: Crc7ilkNHgo\n",
      "Response JSON error, skipping...\n",
      "Getting post: CrbXpxBN_Vi\n",
      "Response JSON error, skipping...\n",
      "Getting post: CrawnAZt3sw\n",
      "Response JSON error, skipping...\n",
      "Getting post: CraTqq_NENM\n",
      "Response JSON error, skipping...\n",
      "Getting post: CrcLOvUJhFE\n",
      "Image already exists, Skipping...\n",
      "Image already exists, Skipping...\n",
      "Image already exists, Skipping...\n",
      "Image already exists, Skipping...\n",
      "Image already exists, Skipping...\n",
      "Image already exists, Skipping...\n",
      "Image already exists, Skipping...\n",
      "Image already exists, Skipping...\n",
      "Image already exists, Skipping...\n",
      "Image already exists, Skipping...\n",
      "Image already exists, Skipping...\n",
      "Image already exists, Skipping...\n",
      "Image already exists, Skipping...\n",
      "Image already exists, Skipping...\n",
      "Image already exists, Skipping...\n",
      "Image already exists, Skipping...\n",
      "Image already exists, Skipping...\n",
      "Image already exists, Skipping...\n",
      "Image already exists, Skipping...\n",
      "Image already exists, Skipping...\n",
      "Image already exists, Skipping...\n",
      "Image already exists, Skipping...\n",
      "Image already exists, Skipping...\n",
      "Image already exists, Skipping...\n",
      "Image already exists, Skipping...\n",
      "Image already exists, Skipping...\n",
      "Image already exists, Skipping...\n",
      "Image already exists, Skipping...\n",
      "Image already exists, Skipping...\n",
      "Image already exists, Skipping...\n",
      "Image already exists, Skipping...\n",
      "Image already exists, Skipping...\n",
      "Image already exists, Skipping...\n",
      "Image already exists, Skipping...\n",
      "Image already exists, Skipping...\n",
      "Image already exists, Skipping...\n",
      "Image already exists, Skipping...\n",
      "Image already exists, Skipping...\n",
      "Image already exists, Skipping...\n",
      "Image already exists, Skipping...\n",
      "Image already exists, Skipping...\n",
      "Image already exists, Skipping...\n",
      "Image already exists, Skipping...\n",
      "Image already exists, Skipping...\n",
      "Image already exists, Skipping...\n",
      "Image already exists, Skipping...\n",
      "Image already exists, Skipping...\n",
      "Image already exists, Skipping...\n",
      "Image already exists, Skipping...\n",
      "Image already exists, Skipping...\n",
      "Image already exists, Skipping...\n",
      "Image already exists, Skipping...\n",
      "Image already exists, Skipping...\n",
      "Image already exists, Skipping...\n",
      "Image already exists, Skipping...\n",
      "Image already exists, Skipping...\n",
      "Image already exists, Skipping...\n",
      "Image already exists, Skipping...\n",
      "Image already exists, Skipping...\n",
      "Image already exists, Skipping...\n",
      "Image already exists, Skipping...\n",
      "Image already exists, Skipping...\n",
      "Image already exists, Skipping...\n",
      "Image already exists, Skipping...\n",
      "Image already exists, Skipping...\n",
      "Image already exists, Skipping...\n",
      "Image already exists, Skipping...\n",
      "Image already exists, Skipping...\n",
      "Image already exists, Skipping...\n",
      "Image already exists, Skipping...\n",
      "Image already exists, Skipping...\n",
      "Image already exists, Skipping...\n",
      "Image already exists, Skipping...\n",
      "Image already exists, Skipping...\n",
      "Image already exists, Skipping...\n",
      "Image already exists, Skipping...\n",
      "Image already exists, Skipping...\n",
      "Image already exists, Skipping...\n",
      "Image already exists, Skipping...\n",
      "Image already exists, Skipping...\n",
      "Image already exists, Skipping...\n",
      "Image already exists, Skipping...\n",
      "Image already exists, Skipping...\n",
      "Image already exists, Skipping...\n",
      "Image already exists, Skipping...\n",
      "Getting post: CrcsK89NCpa\n",
      "Response JSON error, skipping...\n",
      "Image already exists, Skipping...\n",
      "Image already exists, Skipping...\n",
      "Image already exists, Skipping...\n",
      "Image already exists, Skipping...\n",
      "Image already exists, Skipping...\n",
      "Image already exists, Skipping...\n",
      "Image already exists, Skipping...\n",
      "Image already exists, Skipping...\n",
      "Image already exists, Skipping...\n",
      "Image already exists, Skipping...\n",
      "Image already exists, Skipping...\n",
      "Image already exists, Skipping...\n",
      "Image already exists, Skipping...\n",
      "Image already exists, Skipping...\n",
      "Image already exists, Skipping...\n",
      "Image already exists, Skipping...\n",
      "Image already exists, Skipping...\n",
      "Image already exists, Skipping...\n",
      "Image already exists, Skipping...\n",
      "Image already exists, Skipping...\n",
      "Image already exists, Skipping...\n",
      "Image already exists, Skipping...\n",
      "Image already exists, Skipping...\n",
      "Image already exists, Skipping...\n",
      "Image already exists, Skipping...\n",
      "Image already exists, Skipping...\n",
      "Image already exists, Skipping...\n",
      "Image already exists, Skipping...\n",
      "Image already exists, Skipping...\n",
      "Image already exists, Skipping...\n",
      "Image already exists, Skipping...\n",
      "Image already exists, Skipping...\n",
      "Image already exists, Skipping...\n",
      "Image already exists, Skipping...\n",
      "Image already exists, Skipping...\n",
      "Image already exists, Skipping...\n",
      "Image already exists, Skipping...\n",
      "Image already exists, Skipping...\n",
      "Image already exists, Skipping...\n",
      "Image already exists, Skipping...\n",
      "Image already exists, Skipping...\n",
      "Image already exists, Skipping...\n",
      "Image already exists, Skipping...\n",
      "Image already exists, Skipping...\n",
      "Image already exists, Skipping...\n",
      "Image already exists, Skipping...\n",
      "Image already exists, Skipping...\n",
      "Image already exists, Skipping...\n",
      "Image already exists, Skipping...\n",
      "Image already exists, Skipping...\n",
      "Image already exists, Skipping...\n",
      "Image already exists, Skipping...\n",
      "Image already exists, Skipping...\n",
      "Image already exists, Skipping...\n",
      "Image already exists, Skipping...\n",
      "Image already exists, Skipping...\n",
      "Image already exists, Skipping...\n",
      "Image already exists, Skipping...\n",
      "Image already exists, Skipping...\n",
      "Image already exists, Skipping...\n",
      "Image already exists, Skipping...\n",
      "Image already exists, Skipping...\n",
      "Image already exists, Skipping...\n",
      "Image already exists, Skipping...\n",
      "Image already exists, Skipping...\n",
      "Image already exists, Skipping...\n",
      "Image already exists, Skipping...\n",
      "Image already exists, Skipping...\n",
      "Image already exists, Skipping...\n",
      "Image already exists, Skipping...\n",
      "Image already exists, Skipping...\n",
      "Image already exists, Skipping...\n",
      "Image already exists, Skipping...\n",
      "Image already exists, Skipping...\n",
      "Image already exists, Skipping...\n",
      "Image already exists, Skipping...\n",
      "Getting post: CrcU_H-MFZE\n",
      "Response JSON error, skipping...\n",
      "Image already exists, Skipping...\n",
      "Image already exists, Skipping...\n",
      "Image already exists, Skipping...\n",
      "Image already exists, Skipping...\n",
      "Image already exists, Skipping...\n",
      "Image already exists, Skipping...\n",
      "Image already exists, Skipping...\n",
      "Image already exists, Skipping...\n",
      "Image already exists, Skipping...\n",
      "Image already exists, Skipping...\n",
      "Image already exists, Skipping...\n",
      "Image already exists, Skipping...\n",
      "Image already exists, Skipping...\n",
      "Image already exists, Skipping...\n",
      "Image already exists, Skipping...\n",
      "Image already exists, Skipping...\n",
      "Image already exists, Skipping...\n",
      "Image already exists, Skipping...\n",
      "Image already exists, Skipping...\n",
      "Image already exists, Skipping...\n",
      "Image already exists, Skipping...\n",
      "Image already exists, Skipping...\n",
      "Image already exists, Skipping...\n",
      "Image already exists, Skipping...\n",
      "Image already exists, Skipping...\n",
      "Image already exists, Skipping...\n",
      "Image already exists, Skipping...\n",
      "Image already exists, Skipping...\n",
      "Image already exists, Skipping...\n",
      "Image already exists, Skipping...\n",
      "Image already exists, Skipping...\n",
      "Image already exists, Skipping...\n",
      "Image already exists, Skipping...\n",
      "Image already exists, Skipping...\n",
      "Image already exists, Skipping...\n",
      "Image already exists, Skipping...\n",
      "Image already exists, Skipping...\n",
      "Image already exists, Skipping...\n",
      "Image already exists, Skipping...\n",
      "Image already exists, Skipping...\n",
      "Image already exists, Skipping...\n",
      "Image already exists, Skipping...\n",
      "Image already exists, Skipping...\n",
      "Image already exists, Skipping...\n",
      "Image already exists, Skipping...\n",
      "Image already exists, Skipping...\n",
      "Image already exists, Skipping...\n",
      "Image already exists, Skipping...\n",
      "Image already exists, Skipping...\n",
      "Image already exists, Skipping...\n",
      "Image already exists, Skipping...\n",
      "Image already exists, Skipping...\n",
      "Image already exists, Skipping...\n",
      "Image already exists, Skipping...\n",
      "Image already exists, Skipping...\n",
      "Image already exists, Skipping...\n",
      "Image already exists, Skipping...\n",
      "Image already exists, Skipping...\n",
      "Image already exists, Skipping...\n",
      "Image already exists, Skipping...\n",
      "Image already exists, Skipping...\n",
      "Image already exists, Skipping...\n",
      "Image already exists, Skipping...\n",
      "Image already exists, Skipping...\n",
      "Image already exists, Skipping...\n",
      "Image already exists, Skipping...\n",
      "Image already exists, Skipping...\n",
      "Image already exists, Skipping...\n",
      "Image already exists, Skipping...\n",
      "Image already exists, Skipping...\n",
      "Image already exists, Skipping...\n",
      "Image already exists, Skipping...\n",
      "Image already exists, Skipping...\n",
      "Image already exists, Skipping...\n",
      "Image already exists, Skipping...\n",
      "Image already exists, Skipping...\n",
      "Image already exists, Skipping...\n",
      "Image already exists, Skipping...\n",
      "Image already exists, Skipping...\n",
      "Image already exists, Skipping...\n",
      "Image already exists, Skipping...\n",
      "Image already exists, Skipping...\n",
      "Image already exists, Skipping...\n",
      "Image already exists, Skipping...\n",
      "Image already exists, Skipping...\n",
      "Image already exists, Skipping...\n",
      "Image already exists, Skipping...\n",
      "Image already exists, Skipping...\n",
      "Image already exists, Skipping...\n",
      "Image already exists, Skipping...\n",
      "Image already exists, Skipping...\n",
      "Image already exists, Skipping...\n",
      "Image already exists, Skipping...\n",
      "Image already exists, Skipping...\n",
      "Image already exists, Skipping...\n",
      "Image already exists, Skipping...\n",
      "Image already exists, Skipping...\n",
      "Image already exists, Skipping...\n",
      "Image already exists, Skipping...\n",
      "Image already exists, Skipping...\n",
      "Image already exists, Skipping...\n",
      "Image already exists, Skipping...\n",
      "Image already exists, Skipping...\n",
      "Image already exists, Skipping...\n",
      "Image already exists, Skipping...\n",
      "Image already exists, Skipping...\n",
      "Image already exists, Skipping...\n",
      "Image already exists, Skipping...\n",
      "Image already exists, Skipping...\n",
      "Image already exists, Skipping...\n",
      "Image already exists, Skipping...\n",
      "Image already exists, Skipping...\n",
      "Image already exists, Skipping...\n",
      "Image already exists, Skipping...\n",
      "Image already exists, Skipping...\n",
      "Image already exists, Skipping...\n",
      "Image already exists, Skipping...\n",
      "Image already exists, Skipping...\n",
      "Image already exists, Skipping...\n",
      "Image already exists, Skipping...\n",
      "Image already exists, Skipping...\n",
      "Image already exists, Skipping...\n",
      "Image already exists, Skipping...\n",
      "Image already exists, Skipping...\n",
      "Image already exists, Skipping...\n",
      "Image already exists, Skipping...\n",
      "Image already exists, Skipping...\n",
      "Image already exists, Skipping...\n",
      "Image already exists, Skipping...\n",
      "Image already exists, Skipping...\n",
      "Image already exists, Skipping...\n",
      "Image already exists, Skipping...\n",
      "Image already exists, Skipping...\n",
      "Image already exists, Skipping...\n",
      "Image already exists, Skipping...\n",
      "Image already exists, Skipping...\n",
      "Image already exists, Skipping...\n",
      "Image already exists, Skipping...\n",
      "Image already exists, Skipping...\n",
      "Image already exists, Skipping...\n",
      "Image already exists, Skipping...\n",
      "Image already exists, Skipping...\n",
      "Image already exists, Skipping...\n",
      "Image already exists, Skipping...\n",
      "Image already exists, Skipping...\n",
      "Image already exists, Skipping...\n",
      "Image already exists, Skipping...\n",
      "Image already exists, Skipping...\n",
      "Image already exists, Skipping...\n",
      "Image already exists, Skipping...\n",
      "Image already exists, Skipping...\n",
      "Image already exists, Skipping...\n",
      "Image already exists, Skipping...\n",
      "Image already exists, Skipping...\n",
      "Image already exists, Skipping...\n",
      "Image already exists, Skipping...\n",
      "Image already exists, Skipping...\n",
      "Image already exists, Skipping...\n",
      "Image already exists, Skipping...\n",
      "Image already exists, Skipping...\n",
      "Image already exists, Skipping...\n",
      "Image already exists, Skipping...\n",
      "Image already exists, Skipping...\n",
      "Image already exists, Skipping...\n",
      "Image already exists, Skipping...\n",
      "Image already exists, Skipping...\n",
      "Image already exists, Skipping...\n",
      "Image already exists, Skipping...\n",
      "Image already exists, Skipping...\n",
      "Image already exists, Skipping...\n",
      "Image already exists, Skipping...\n",
      "Image already exists, Skipping...\n",
      "Image already exists, Skipping...\n",
      "Image already exists, Skipping...\n",
      "Image already exists, Skipping...\n",
      "Image already exists, Skipping...\n",
      "Image already exists, Skipping...\n",
      "Image already exists, Skipping...\n",
      "Image already exists, Skipping...\n",
      "Image already exists, Skipping...\n",
      "Image already exists, Skipping...\n",
      "Image already exists, Skipping...\n",
      "Image already exists, Skipping...\n",
      "Image already exists, Skipping...\n",
      "Image already exists, Skipping...\n",
      "Image already exists, Skipping...\n",
      "Image already exists, Skipping...\n",
      "Image already exists, Skipping...\n",
      "Image already exists, Skipping...\n",
      "Image already exists, Skipping...\n",
      "Image already exists, Skipping...\n",
      "Image already exists, Skipping...\n",
      "Image already exists, Skipping...\n",
      "Image already exists, Skipping...\n",
      "Image already exists, Skipping...\n",
      "Image already exists, Skipping...\n",
      "Image already exists, Skipping...\n",
      "Image already exists, Skipping...\n",
      "Image already exists, Skipping...\n",
      "Image already exists, Skipping...\n",
      "Image already exists, Skipping...\n",
      "Image already exists, Skipping...\n",
      "Image already exists, Skipping...\n",
      "Image already exists, Skipping...\n",
      "Image already exists, Skipping...\n",
      "Image already exists, Skipping...\n",
      "Image already exists, Skipping...\n",
      "Image already exists, Skipping...\n",
      "Image already exists, Skipping...\n",
      "Image already exists, Skipping...\n",
      "Image already exists, Skipping...\n",
      "Image already exists, Skipping...\n",
      "Image already exists, Skipping...\n",
      "Image already exists, Skipping...\n",
      "Image already exists, Skipping...\n",
      "Image already exists, Skipping...\n",
      "Image already exists, Skipping...\n",
      "Image already exists, Skipping...\n",
      "Image already exists, Skipping...\n",
      "Image already exists, Skipping...\n",
      "Image already exists, Skipping...\n",
      "Image already exists, Skipping...\n",
      "Image already exists, Skipping...\n",
      "Image already exists, Skipping...\n",
      "Image already exists, Skipping...\n",
      "Image already exists, Skipping...\n",
      "Image already exists, Skipping...\n",
      "Image already exists, Skipping...\n",
      "Image already exists, Skipping...\n",
      "Image already exists, Skipping...\n",
      "Image already exists, Skipping...\n",
      "Image already exists, Skipping...\n",
      "Image already exists, Skipping...\n",
      "Image already exists, Skipping...\n",
      "Image already exists, Skipping...\n",
      "Image already exists, Skipping...\n",
      "Image already exists, Skipping...\n",
      "Image already exists, Skipping...\n",
      "Image already exists, Skipping...\n",
      "Image already exists, Skipping...\n",
      "Image already exists, Skipping...\n",
      "Image already exists, Skipping...\n",
      "Image already exists, Skipping...\n",
      "Image already exists, Skipping...\n",
      "Image already exists, Skipping...\n",
      "Image already exists, Skipping...\n",
      "Image already exists, Skipping...\n",
      "Image already exists, Skipping...\n",
      "Image already exists, Skipping...\n",
      "Image already exists, Skipping...\n",
      "Image already exists, Skipping...\n",
      "Image already exists, Skipping...\n",
      "Image already exists, Skipping...\n",
      "Image already exists, Skipping...\n",
      "Image already exists, Skipping...\n",
      "Image already exists, Skipping...\n",
      "Image already exists, Skipping...\n",
      "Image already exists, Skipping...\n"
     ]
    }
   ],
   "source": [
    "session = {\n",
    "            \"csrf_token\": csrf_token,\n",
    "            \"session_id\": session_id\n",
    "        }\n",
    "\n",
    "headers = {\n",
    "            \"x-csrftoken\": session['csrf_token'],\n",
    "            'user-agent': 'Mozilla/5.0 (Windows NT 10.0; Win64; x64) AppleWebKit/537.36 (KHTML, like Gecko) Chrome/84.0.4147.89 Safari/537.36',\n",
    "            \"X-Requested-With\": \"XMLHttpRequest\",\n",
    "            \"Referer\": \"https://www.instagram.com/accounts/login/\",\n",
    "            'Accept': '*/*',\n",
    "            'Accept-Language': 'en-US,en;q=0.5',\n",
    "            'X-Instagram-AJAX': 'c6412f1b1b7b',\n",
    "            'X-IG-App-ID': '936619743392459',\n",
    "            'X-ASBD-ID': '198387',\n",
    "            'X-IG-WWW-Claim': '0',\n",
    "            'X-Requested-With': 'XMLHttpRequest',\n",
    "            'Origin': 'https://www.instagram.com',\n",
    "            'DNT': '1',\n",
    "            'Connection': 'keep-alive',\n",
    "            'Referer': 'https://www.instagram.com/accounts/login/?',\n",
    "            'Sec-Fetch-Dest': 'empty',\n",
    "            'Sec-Fetch-Mode': 'cors',\n",
    "            'Sec-Fetch-Site': 'same-origin',\n",
    "            'Accept': 'text/html,application/xhtml+xml,application/xml;q=0.9,image/avif,image/webp,*/*;q=0.8',\n",
    "            'Accept-Language': 'en-US,en;q=0.5',\n",
    "            'Accept-Encoding': 'gzip, deflate, br',\n",
    "            'Connection': 'keep-alive',\n",
    "            'Upgrade-Insecure-Requests': '1',\n",
    "            'Sec-Fetch-Dest': 'document',\n",
    "            'Sec-Fetch-Mode': 'navigate',\n",
    "            'Sec-Fetch-Site': 'none',\n",
    "            'Sec-Fetch-User': '?1',\n",
    "            'TE': 'trailers'\n",
    "        }\n",
    "\n",
    "cookies = {\n",
    "            \"sessionid\": session['session_id'],\n",
    "            \"csrftoken\": session['csrf_token']\n",
    "        }\n",
    "\n",
    "for code, post_type in zip(posts_df['shortcode'], posts_df['post_type']):\n",
    "    if path.isfile(f'Data/Images/{code}.jpg'):\n",
    "        print('Image already exists, Skipping...')\n",
    "        continue\n",
    "    print(f'Getting post: {code}')\n",
    "    post_url = f'https://www.instagram.com/p/{code}/?__a=1&__d=dis'\n",
    "    res = requests.get(post_url, headers=headers, cookies=cookies)\n",
    "    try:\n",
    "        data = res.json()\n",
    "    except:\n",
    "        print('Response JSON error, skipping...')\n",
    "        continue\n",
    "    if post_type == 'GraphImage':\n",
    "        img_src = data['items'][0]['image_versions2']['candidates'][0]['url']\n",
    "    if post_type == 'GraphSidecar':\n",
    "        img_src = data['items'][0]['carousel_media'][0]['image_versions2']['candidates'][0]['url']\n",
    "    else:\n",
    "        continue\n",
    "    print('Downloading...')\n",
    "    res = requests.get(img_src)\n",
    "    with open(f'Data/Images/{code}.jpg', 'wb') as f:\n",
    "        f.write(res.content)\n",
    "    print('Saved!')"
   ]
  },
  {
   "attachments": {},
   "cell_type": "markdown",
   "metadata": {},
   "source": [
    "Now that I have the image files, I need to prepare a neural network capable of outputting the vector of classified images. Since the data is not rich enough to train one from scratch, I have to use transfer learning and finetunning."
   ]
  },
  {
   "cell_type": "code",
   "execution_count": 20,
   "metadata": {},
   "outputs": [],
   "source": [
    "import torch\n",
    "import torch.nn as nn\n",
    "import torch.optim as optim\n",
    "from torch.optim import lr_scheduler\n",
    "import torchvision\n",
    "from torchvision import datasets, models, transforms\n",
    "import cv2"
   ]
  },
  {
   "cell_type": "code",
   "execution_count": 21,
   "metadata": {},
   "outputs": [
    {
     "name": "stderr",
     "output_type": "stream",
     "text": [
      "c:\\Users\\Mr-Khosravian\\miniconda3\\lib\\site-packages\\torchvision\\models\\_utils.py:208: UserWarning: The parameter 'pretrained' is deprecated since 0.13 and may be removed in the future, please use 'weights' instead.\n",
      "  warnings.warn(\n",
      "c:\\Users\\Mr-Khosravian\\miniconda3\\lib\\site-packages\\torchvision\\models\\_utils.py:223: UserWarning: Arguments other than a weight enum or `None` for 'weights' are deprecated since 0.13 and may be removed in the future. The current behavior is equivalent to passing `weights=EfficientNet_B7_Weights.IMAGENET1K_V1`. You can also use `weights=EfficientNet_B7_Weights.DEFAULT` to get the most up-to-date weights.\n",
      "  warnings.warn(msg)\n"
     ]
    },
    {
     "data": {
      "text/plain": [
       "EfficientNet(\n",
       "  (features): Sequential(\n",
       "    (0): Conv2dNormActivation(\n",
       "      (0): Conv2d(3, 64, kernel_size=(3, 3), stride=(2, 2), padding=(1, 1), bias=False)\n",
       "      (1): BatchNorm2d(64, eps=0.001, momentum=0.01, affine=True, track_running_stats=True)\n",
       "      (2): SiLU(inplace=True)\n",
       "    )\n",
       "    (1): Sequential(\n",
       "      (0): MBConv(\n",
       "        (block): Sequential(\n",
       "          (0): Conv2dNormActivation(\n",
       "            (0): Conv2d(64, 64, kernel_size=(3, 3), stride=(1, 1), padding=(1, 1), groups=64, bias=False)\n",
       "            (1): BatchNorm2d(64, eps=0.001, momentum=0.01, affine=True, track_running_stats=True)\n",
       "            (2): SiLU(inplace=True)\n",
       "          )\n",
       "          (1): SqueezeExcitation(\n",
       "            (avgpool): AdaptiveAvgPool2d(output_size=1)\n",
       "            (fc1): Conv2d(64, 16, kernel_size=(1, 1), stride=(1, 1))\n",
       "            (fc2): Conv2d(16, 64, kernel_size=(1, 1), stride=(1, 1))\n",
       "            (activation): SiLU(inplace=True)\n",
       "            (scale_activation): Sigmoid()\n",
       "          )\n",
       "          (2): Conv2dNormActivation(\n",
       "            (0): Conv2d(64, 32, kernel_size=(1, 1), stride=(1, 1), bias=False)\n",
       "            (1): BatchNorm2d(32, eps=0.001, momentum=0.01, affine=True, track_running_stats=True)\n",
       "          )\n",
       "        )\n",
       "        (stochastic_depth): StochasticDepth(p=0.0, mode=row)\n",
       "      )\n",
       "      (1): MBConv(\n",
       "        (block): Sequential(\n",
       "          (0): Conv2dNormActivation(\n",
       "            (0): Conv2d(32, 32, kernel_size=(3, 3), stride=(1, 1), padding=(1, 1), groups=32, bias=False)\n",
       "            (1): BatchNorm2d(32, eps=0.001, momentum=0.01, affine=True, track_running_stats=True)\n",
       "            (2): SiLU(inplace=True)\n",
       "          )\n",
       "          (1): SqueezeExcitation(\n",
       "            (avgpool): AdaptiveAvgPool2d(output_size=1)\n",
       "            (fc1): Conv2d(32, 8, kernel_size=(1, 1), stride=(1, 1))\n",
       "            (fc2): Conv2d(8, 32, kernel_size=(1, 1), stride=(1, 1))\n",
       "            (activation): SiLU(inplace=True)\n",
       "            (scale_activation): Sigmoid()\n",
       "          )\n",
       "          (2): Conv2dNormActivation(\n",
       "            (0): Conv2d(32, 32, kernel_size=(1, 1), stride=(1, 1), bias=False)\n",
       "            (1): BatchNorm2d(32, eps=0.001, momentum=0.01, affine=True, track_running_stats=True)\n",
       "          )\n",
       "        )\n",
       "        (stochastic_depth): StochasticDepth(p=0.0036363636363636364, mode=row)\n",
       "      )\n",
       "      (2): MBConv(\n",
       "        (block): Sequential(\n",
       "          (0): Conv2dNormActivation(\n",
       "            (0): Conv2d(32, 32, kernel_size=(3, 3), stride=(1, 1), padding=(1, 1), groups=32, bias=False)\n",
       "            (1): BatchNorm2d(32, eps=0.001, momentum=0.01, affine=True, track_running_stats=True)\n",
       "            (2): SiLU(inplace=True)\n",
       "          )\n",
       "          (1): SqueezeExcitation(\n",
       "            (avgpool): AdaptiveAvgPool2d(output_size=1)\n",
       "            (fc1): Conv2d(32, 8, kernel_size=(1, 1), stride=(1, 1))\n",
       "            (fc2): Conv2d(8, 32, kernel_size=(1, 1), stride=(1, 1))\n",
       "            (activation): SiLU(inplace=True)\n",
       "            (scale_activation): Sigmoid()\n",
       "          )\n",
       "          (2): Conv2dNormActivation(\n",
       "            (0): Conv2d(32, 32, kernel_size=(1, 1), stride=(1, 1), bias=False)\n",
       "            (1): BatchNorm2d(32, eps=0.001, momentum=0.01, affine=True, track_running_stats=True)\n",
       "          )\n",
       "        )\n",
       "        (stochastic_depth): StochasticDepth(p=0.007272727272727273, mode=row)\n",
       "      )\n",
       "      (3): MBConv(\n",
       "        (block): Sequential(\n",
       "          (0): Conv2dNormActivation(\n",
       "            (0): Conv2d(32, 32, kernel_size=(3, 3), stride=(1, 1), padding=(1, 1), groups=32, bias=False)\n",
       "            (1): BatchNorm2d(32, eps=0.001, momentum=0.01, affine=True, track_running_stats=True)\n",
       "            (2): SiLU(inplace=True)\n",
       "          )\n",
       "          (1): SqueezeExcitation(\n",
       "            (avgpool): AdaptiveAvgPool2d(output_size=1)\n",
       "            (fc1): Conv2d(32, 8, kernel_size=(1, 1), stride=(1, 1))\n",
       "            (fc2): Conv2d(8, 32, kernel_size=(1, 1), stride=(1, 1))\n",
       "            (activation): SiLU(inplace=True)\n",
       "            (scale_activation): Sigmoid()\n",
       "          )\n",
       "          (2): Conv2dNormActivation(\n",
       "            (0): Conv2d(32, 32, kernel_size=(1, 1), stride=(1, 1), bias=False)\n",
       "            (1): BatchNorm2d(32, eps=0.001, momentum=0.01, affine=True, track_running_stats=True)\n",
       "          )\n",
       "        )\n",
       "        (stochastic_depth): StochasticDepth(p=0.01090909090909091, mode=row)\n",
       "      )\n",
       "    )\n",
       "    (2): Sequential(\n",
       "      (0): MBConv(\n",
       "        (block): Sequential(\n",
       "          (0): Conv2dNormActivation(\n",
       "            (0): Conv2d(32, 192, kernel_size=(1, 1), stride=(1, 1), bias=False)\n",
       "            (1): BatchNorm2d(192, eps=0.001, momentum=0.01, affine=True, track_running_stats=True)\n",
       "            (2): SiLU(inplace=True)\n",
       "          )\n",
       "          (1): Conv2dNormActivation(\n",
       "            (0): Conv2d(192, 192, kernel_size=(3, 3), stride=(2, 2), padding=(1, 1), groups=192, bias=False)\n",
       "            (1): BatchNorm2d(192, eps=0.001, momentum=0.01, affine=True, track_running_stats=True)\n",
       "            (2): SiLU(inplace=True)\n",
       "          )\n",
       "          (2): SqueezeExcitation(\n",
       "            (avgpool): AdaptiveAvgPool2d(output_size=1)\n",
       "            (fc1): Conv2d(192, 8, kernel_size=(1, 1), stride=(1, 1))\n",
       "            (fc2): Conv2d(8, 192, kernel_size=(1, 1), stride=(1, 1))\n",
       "            (activation): SiLU(inplace=True)\n",
       "            (scale_activation): Sigmoid()\n",
       "          )\n",
       "          (3): Conv2dNormActivation(\n",
       "            (0): Conv2d(192, 48, kernel_size=(1, 1), stride=(1, 1), bias=False)\n",
       "            (1): BatchNorm2d(48, eps=0.001, momentum=0.01, affine=True, track_running_stats=True)\n",
       "          )\n",
       "        )\n",
       "        (stochastic_depth): StochasticDepth(p=0.014545454545454545, mode=row)\n",
       "      )\n",
       "      (1): MBConv(\n",
       "        (block): Sequential(\n",
       "          (0): Conv2dNormActivation(\n",
       "            (0): Conv2d(48, 288, kernel_size=(1, 1), stride=(1, 1), bias=False)\n",
       "            (1): BatchNorm2d(288, eps=0.001, momentum=0.01, affine=True, track_running_stats=True)\n",
       "            (2): SiLU(inplace=True)\n",
       "          )\n",
       "          (1): Conv2dNormActivation(\n",
       "            (0): Conv2d(288, 288, kernel_size=(3, 3), stride=(1, 1), padding=(1, 1), groups=288, bias=False)\n",
       "            (1): BatchNorm2d(288, eps=0.001, momentum=0.01, affine=True, track_running_stats=True)\n",
       "            (2): SiLU(inplace=True)\n",
       "          )\n",
       "          (2): SqueezeExcitation(\n",
       "            (avgpool): AdaptiveAvgPool2d(output_size=1)\n",
       "            (fc1): Conv2d(288, 12, kernel_size=(1, 1), stride=(1, 1))\n",
       "            (fc2): Conv2d(12, 288, kernel_size=(1, 1), stride=(1, 1))\n",
       "            (activation): SiLU(inplace=True)\n",
       "            (scale_activation): Sigmoid()\n",
       "          )\n",
       "          (3): Conv2dNormActivation(\n",
       "            (0): Conv2d(288, 48, kernel_size=(1, 1), stride=(1, 1), bias=False)\n",
       "            (1): BatchNorm2d(48, eps=0.001, momentum=0.01, affine=True, track_running_stats=True)\n",
       "          )\n",
       "        )\n",
       "        (stochastic_depth): StochasticDepth(p=0.01818181818181818, mode=row)\n",
       "      )\n",
       "      (2): MBConv(\n",
       "        (block): Sequential(\n",
       "          (0): Conv2dNormActivation(\n",
       "            (0): Conv2d(48, 288, kernel_size=(1, 1), stride=(1, 1), bias=False)\n",
       "            (1): BatchNorm2d(288, eps=0.001, momentum=0.01, affine=True, track_running_stats=True)\n",
       "            (2): SiLU(inplace=True)\n",
       "          )\n",
       "          (1): Conv2dNormActivation(\n",
       "            (0): Conv2d(288, 288, kernel_size=(3, 3), stride=(1, 1), padding=(1, 1), groups=288, bias=False)\n",
       "            (1): BatchNorm2d(288, eps=0.001, momentum=0.01, affine=True, track_running_stats=True)\n",
       "            (2): SiLU(inplace=True)\n",
       "          )\n",
       "          (2): SqueezeExcitation(\n",
       "            (avgpool): AdaptiveAvgPool2d(output_size=1)\n",
       "            (fc1): Conv2d(288, 12, kernel_size=(1, 1), stride=(1, 1))\n",
       "            (fc2): Conv2d(12, 288, kernel_size=(1, 1), stride=(1, 1))\n",
       "            (activation): SiLU(inplace=True)\n",
       "            (scale_activation): Sigmoid()\n",
       "          )\n",
       "          (3): Conv2dNormActivation(\n",
       "            (0): Conv2d(288, 48, kernel_size=(1, 1), stride=(1, 1), bias=False)\n",
       "            (1): BatchNorm2d(48, eps=0.001, momentum=0.01, affine=True, track_running_stats=True)\n",
       "          )\n",
       "        )\n",
       "        (stochastic_depth): StochasticDepth(p=0.02181818181818182, mode=row)\n",
       "      )\n",
       "      (3): MBConv(\n",
       "        (block): Sequential(\n",
       "          (0): Conv2dNormActivation(\n",
       "            (0): Conv2d(48, 288, kernel_size=(1, 1), stride=(1, 1), bias=False)\n",
       "            (1): BatchNorm2d(288, eps=0.001, momentum=0.01, affine=True, track_running_stats=True)\n",
       "            (2): SiLU(inplace=True)\n",
       "          )\n",
       "          (1): Conv2dNormActivation(\n",
       "            (0): Conv2d(288, 288, kernel_size=(3, 3), stride=(1, 1), padding=(1, 1), groups=288, bias=False)\n",
       "            (1): BatchNorm2d(288, eps=0.001, momentum=0.01, affine=True, track_running_stats=True)\n",
       "            (2): SiLU(inplace=True)\n",
       "          )\n",
       "          (2): SqueezeExcitation(\n",
       "            (avgpool): AdaptiveAvgPool2d(output_size=1)\n",
       "            (fc1): Conv2d(288, 12, kernel_size=(1, 1), stride=(1, 1))\n",
       "            (fc2): Conv2d(12, 288, kernel_size=(1, 1), stride=(1, 1))\n",
       "            (activation): SiLU(inplace=True)\n",
       "            (scale_activation): Sigmoid()\n",
       "          )\n",
       "          (3): Conv2dNormActivation(\n",
       "            (0): Conv2d(288, 48, kernel_size=(1, 1), stride=(1, 1), bias=False)\n",
       "            (1): BatchNorm2d(48, eps=0.001, momentum=0.01, affine=True, track_running_stats=True)\n",
       "          )\n",
       "        )\n",
       "        (stochastic_depth): StochasticDepth(p=0.025454545454545455, mode=row)\n",
       "      )\n",
       "      (4): MBConv(\n",
       "        (block): Sequential(\n",
       "          (0): Conv2dNormActivation(\n",
       "            (0): Conv2d(48, 288, kernel_size=(1, 1), stride=(1, 1), bias=False)\n",
       "            (1): BatchNorm2d(288, eps=0.001, momentum=0.01, affine=True, track_running_stats=True)\n",
       "            (2): SiLU(inplace=True)\n",
       "          )\n",
       "          (1): Conv2dNormActivation(\n",
       "            (0): Conv2d(288, 288, kernel_size=(3, 3), stride=(1, 1), padding=(1, 1), groups=288, bias=False)\n",
       "            (1): BatchNorm2d(288, eps=0.001, momentum=0.01, affine=True, track_running_stats=True)\n",
       "            (2): SiLU(inplace=True)\n",
       "          )\n",
       "          (2): SqueezeExcitation(\n",
       "            (avgpool): AdaptiveAvgPool2d(output_size=1)\n",
       "            (fc1): Conv2d(288, 12, kernel_size=(1, 1), stride=(1, 1))\n",
       "            (fc2): Conv2d(12, 288, kernel_size=(1, 1), stride=(1, 1))\n",
       "            (activation): SiLU(inplace=True)\n",
       "            (scale_activation): Sigmoid()\n",
       "          )\n",
       "          (3): Conv2dNormActivation(\n",
       "            (0): Conv2d(288, 48, kernel_size=(1, 1), stride=(1, 1), bias=False)\n",
       "            (1): BatchNorm2d(48, eps=0.001, momentum=0.01, affine=True, track_running_stats=True)\n",
       "          )\n",
       "        )\n",
       "        (stochastic_depth): StochasticDepth(p=0.02909090909090909, mode=row)\n",
       "      )\n",
       "      (5): MBConv(\n",
       "        (block): Sequential(\n",
       "          (0): Conv2dNormActivation(\n",
       "            (0): Conv2d(48, 288, kernel_size=(1, 1), stride=(1, 1), bias=False)\n",
       "            (1): BatchNorm2d(288, eps=0.001, momentum=0.01, affine=True, track_running_stats=True)\n",
       "            (2): SiLU(inplace=True)\n",
       "          )\n",
       "          (1): Conv2dNormActivation(\n",
       "            (0): Conv2d(288, 288, kernel_size=(3, 3), stride=(1, 1), padding=(1, 1), groups=288, bias=False)\n",
       "            (1): BatchNorm2d(288, eps=0.001, momentum=0.01, affine=True, track_running_stats=True)\n",
       "            (2): SiLU(inplace=True)\n",
       "          )\n",
       "          (2): SqueezeExcitation(\n",
       "            (avgpool): AdaptiveAvgPool2d(output_size=1)\n",
       "            (fc1): Conv2d(288, 12, kernel_size=(1, 1), stride=(1, 1))\n",
       "            (fc2): Conv2d(12, 288, kernel_size=(1, 1), stride=(1, 1))\n",
       "            (activation): SiLU(inplace=True)\n",
       "            (scale_activation): Sigmoid()\n",
       "          )\n",
       "          (3): Conv2dNormActivation(\n",
       "            (0): Conv2d(288, 48, kernel_size=(1, 1), stride=(1, 1), bias=False)\n",
       "            (1): BatchNorm2d(48, eps=0.001, momentum=0.01, affine=True, track_running_stats=True)\n",
       "          )\n",
       "        )\n",
       "        (stochastic_depth): StochasticDepth(p=0.03272727272727273, mode=row)\n",
       "      )\n",
       "      (6): MBConv(\n",
       "        (block): Sequential(\n",
       "          (0): Conv2dNormActivation(\n",
       "            (0): Conv2d(48, 288, kernel_size=(1, 1), stride=(1, 1), bias=False)\n",
       "            (1): BatchNorm2d(288, eps=0.001, momentum=0.01, affine=True, track_running_stats=True)\n",
       "            (2): SiLU(inplace=True)\n",
       "          )\n",
       "          (1): Conv2dNormActivation(\n",
       "            (0): Conv2d(288, 288, kernel_size=(3, 3), stride=(1, 1), padding=(1, 1), groups=288, bias=False)\n",
       "            (1): BatchNorm2d(288, eps=0.001, momentum=0.01, affine=True, track_running_stats=True)\n",
       "            (2): SiLU(inplace=True)\n",
       "          )\n",
       "          (2): SqueezeExcitation(\n",
       "            (avgpool): AdaptiveAvgPool2d(output_size=1)\n",
       "            (fc1): Conv2d(288, 12, kernel_size=(1, 1), stride=(1, 1))\n",
       "            (fc2): Conv2d(12, 288, kernel_size=(1, 1), stride=(1, 1))\n",
       "            (activation): SiLU(inplace=True)\n",
       "            (scale_activation): Sigmoid()\n",
       "          )\n",
       "          (3): Conv2dNormActivation(\n",
       "            (0): Conv2d(288, 48, kernel_size=(1, 1), stride=(1, 1), bias=False)\n",
       "            (1): BatchNorm2d(48, eps=0.001, momentum=0.01, affine=True, track_running_stats=True)\n",
       "          )\n",
       "        )\n",
       "        (stochastic_depth): StochasticDepth(p=0.03636363636363636, mode=row)\n",
       "      )\n",
       "    )\n",
       "    (3): Sequential(\n",
       "      (0): MBConv(\n",
       "        (block): Sequential(\n",
       "          (0): Conv2dNormActivation(\n",
       "            (0): Conv2d(48, 288, kernel_size=(1, 1), stride=(1, 1), bias=False)\n",
       "            (1): BatchNorm2d(288, eps=0.001, momentum=0.01, affine=True, track_running_stats=True)\n",
       "            (2): SiLU(inplace=True)\n",
       "          )\n",
       "          (1): Conv2dNormActivation(\n",
       "            (0): Conv2d(288, 288, kernel_size=(5, 5), stride=(2, 2), padding=(2, 2), groups=288, bias=False)\n",
       "            (1): BatchNorm2d(288, eps=0.001, momentum=0.01, affine=True, track_running_stats=True)\n",
       "            (2): SiLU(inplace=True)\n",
       "          )\n",
       "          (2): SqueezeExcitation(\n",
       "            (avgpool): AdaptiveAvgPool2d(output_size=1)\n",
       "            (fc1): Conv2d(288, 12, kernel_size=(1, 1), stride=(1, 1))\n",
       "            (fc2): Conv2d(12, 288, kernel_size=(1, 1), stride=(1, 1))\n",
       "            (activation): SiLU(inplace=True)\n",
       "            (scale_activation): Sigmoid()\n",
       "          )\n",
       "          (3): Conv2dNormActivation(\n",
       "            (0): Conv2d(288, 80, kernel_size=(1, 1), stride=(1, 1), bias=False)\n",
       "            (1): BatchNorm2d(80, eps=0.001, momentum=0.01, affine=True, track_running_stats=True)\n",
       "          )\n",
       "        )\n",
       "        (stochastic_depth): StochasticDepth(p=0.04, mode=row)\n",
       "      )\n",
       "      (1): MBConv(\n",
       "        (block): Sequential(\n",
       "          (0): Conv2dNormActivation(\n",
       "            (0): Conv2d(80, 480, kernel_size=(1, 1), stride=(1, 1), bias=False)\n",
       "            (1): BatchNorm2d(480, eps=0.001, momentum=0.01, affine=True, track_running_stats=True)\n",
       "            (2): SiLU(inplace=True)\n",
       "          )\n",
       "          (1): Conv2dNormActivation(\n",
       "            (0): Conv2d(480, 480, kernel_size=(5, 5), stride=(1, 1), padding=(2, 2), groups=480, bias=False)\n",
       "            (1): BatchNorm2d(480, eps=0.001, momentum=0.01, affine=True, track_running_stats=True)\n",
       "            (2): SiLU(inplace=True)\n",
       "          )\n",
       "          (2): SqueezeExcitation(\n",
       "            (avgpool): AdaptiveAvgPool2d(output_size=1)\n",
       "            (fc1): Conv2d(480, 20, kernel_size=(1, 1), stride=(1, 1))\n",
       "            (fc2): Conv2d(20, 480, kernel_size=(1, 1), stride=(1, 1))\n",
       "            (activation): SiLU(inplace=True)\n",
       "            (scale_activation): Sigmoid()\n",
       "          )\n",
       "          (3): Conv2dNormActivation(\n",
       "            (0): Conv2d(480, 80, kernel_size=(1, 1), stride=(1, 1), bias=False)\n",
       "            (1): BatchNorm2d(80, eps=0.001, momentum=0.01, affine=True, track_running_stats=True)\n",
       "          )\n",
       "        )\n",
       "        (stochastic_depth): StochasticDepth(p=0.04363636363636364, mode=row)\n",
       "      )\n",
       "      (2): MBConv(\n",
       "        (block): Sequential(\n",
       "          (0): Conv2dNormActivation(\n",
       "            (0): Conv2d(80, 480, kernel_size=(1, 1), stride=(1, 1), bias=False)\n",
       "            (1): BatchNorm2d(480, eps=0.001, momentum=0.01, affine=True, track_running_stats=True)\n",
       "            (2): SiLU(inplace=True)\n",
       "          )\n",
       "          (1): Conv2dNormActivation(\n",
       "            (0): Conv2d(480, 480, kernel_size=(5, 5), stride=(1, 1), padding=(2, 2), groups=480, bias=False)\n",
       "            (1): BatchNorm2d(480, eps=0.001, momentum=0.01, affine=True, track_running_stats=True)\n",
       "            (2): SiLU(inplace=True)\n",
       "          )\n",
       "          (2): SqueezeExcitation(\n",
       "            (avgpool): AdaptiveAvgPool2d(output_size=1)\n",
       "            (fc1): Conv2d(480, 20, kernel_size=(1, 1), stride=(1, 1))\n",
       "            (fc2): Conv2d(20, 480, kernel_size=(1, 1), stride=(1, 1))\n",
       "            (activation): SiLU(inplace=True)\n",
       "            (scale_activation): Sigmoid()\n",
       "          )\n",
       "          (3): Conv2dNormActivation(\n",
       "            (0): Conv2d(480, 80, kernel_size=(1, 1), stride=(1, 1), bias=False)\n",
       "            (1): BatchNorm2d(80, eps=0.001, momentum=0.01, affine=True, track_running_stats=True)\n",
       "          )\n",
       "        )\n",
       "        (stochastic_depth): StochasticDepth(p=0.04727272727272727, mode=row)\n",
       "      )\n",
       "      (3): MBConv(\n",
       "        (block): Sequential(\n",
       "          (0): Conv2dNormActivation(\n",
       "            (0): Conv2d(80, 480, kernel_size=(1, 1), stride=(1, 1), bias=False)\n",
       "            (1): BatchNorm2d(480, eps=0.001, momentum=0.01, affine=True, track_running_stats=True)\n",
       "            (2): SiLU(inplace=True)\n",
       "          )\n",
       "          (1): Conv2dNormActivation(\n",
       "            (0): Conv2d(480, 480, kernel_size=(5, 5), stride=(1, 1), padding=(2, 2), groups=480, bias=False)\n",
       "            (1): BatchNorm2d(480, eps=0.001, momentum=0.01, affine=True, track_running_stats=True)\n",
       "            (2): SiLU(inplace=True)\n",
       "          )\n",
       "          (2): SqueezeExcitation(\n",
       "            (avgpool): AdaptiveAvgPool2d(output_size=1)\n",
       "            (fc1): Conv2d(480, 20, kernel_size=(1, 1), stride=(1, 1))\n",
       "            (fc2): Conv2d(20, 480, kernel_size=(1, 1), stride=(1, 1))\n",
       "            (activation): SiLU(inplace=True)\n",
       "            (scale_activation): Sigmoid()\n",
       "          )\n",
       "          (3): Conv2dNormActivation(\n",
       "            (0): Conv2d(480, 80, kernel_size=(1, 1), stride=(1, 1), bias=False)\n",
       "            (1): BatchNorm2d(80, eps=0.001, momentum=0.01, affine=True, track_running_stats=True)\n",
       "          )\n",
       "        )\n",
       "        (stochastic_depth): StochasticDepth(p=0.05090909090909091, mode=row)\n",
       "      )\n",
       "      (4): MBConv(\n",
       "        (block): Sequential(\n",
       "          (0): Conv2dNormActivation(\n",
       "            (0): Conv2d(80, 480, kernel_size=(1, 1), stride=(1, 1), bias=False)\n",
       "            (1): BatchNorm2d(480, eps=0.001, momentum=0.01, affine=True, track_running_stats=True)\n",
       "            (2): SiLU(inplace=True)\n",
       "          )\n",
       "          (1): Conv2dNormActivation(\n",
       "            (0): Conv2d(480, 480, kernel_size=(5, 5), stride=(1, 1), padding=(2, 2), groups=480, bias=False)\n",
       "            (1): BatchNorm2d(480, eps=0.001, momentum=0.01, affine=True, track_running_stats=True)\n",
       "            (2): SiLU(inplace=True)\n",
       "          )\n",
       "          (2): SqueezeExcitation(\n",
       "            (avgpool): AdaptiveAvgPool2d(output_size=1)\n",
       "            (fc1): Conv2d(480, 20, kernel_size=(1, 1), stride=(1, 1))\n",
       "            (fc2): Conv2d(20, 480, kernel_size=(1, 1), stride=(1, 1))\n",
       "            (activation): SiLU(inplace=True)\n",
       "            (scale_activation): Sigmoid()\n",
       "          )\n",
       "          (3): Conv2dNormActivation(\n",
       "            (0): Conv2d(480, 80, kernel_size=(1, 1), stride=(1, 1), bias=False)\n",
       "            (1): BatchNorm2d(80, eps=0.001, momentum=0.01, affine=True, track_running_stats=True)\n",
       "          )\n",
       "        )\n",
       "        (stochastic_depth): StochasticDepth(p=0.05454545454545454, mode=row)\n",
       "      )\n",
       "      (5): MBConv(\n",
       "        (block): Sequential(\n",
       "          (0): Conv2dNormActivation(\n",
       "            (0): Conv2d(80, 480, kernel_size=(1, 1), stride=(1, 1), bias=False)\n",
       "            (1): BatchNorm2d(480, eps=0.001, momentum=0.01, affine=True, track_running_stats=True)\n",
       "            (2): SiLU(inplace=True)\n",
       "          )\n",
       "          (1): Conv2dNormActivation(\n",
       "            (0): Conv2d(480, 480, kernel_size=(5, 5), stride=(1, 1), padding=(2, 2), groups=480, bias=False)\n",
       "            (1): BatchNorm2d(480, eps=0.001, momentum=0.01, affine=True, track_running_stats=True)\n",
       "            (2): SiLU(inplace=True)\n",
       "          )\n",
       "          (2): SqueezeExcitation(\n",
       "            (avgpool): AdaptiveAvgPool2d(output_size=1)\n",
       "            (fc1): Conv2d(480, 20, kernel_size=(1, 1), stride=(1, 1))\n",
       "            (fc2): Conv2d(20, 480, kernel_size=(1, 1), stride=(1, 1))\n",
       "            (activation): SiLU(inplace=True)\n",
       "            (scale_activation): Sigmoid()\n",
       "          )\n",
       "          (3): Conv2dNormActivation(\n",
       "            (0): Conv2d(480, 80, kernel_size=(1, 1), stride=(1, 1), bias=False)\n",
       "            (1): BatchNorm2d(80, eps=0.001, momentum=0.01, affine=True, track_running_stats=True)\n",
       "          )\n",
       "        )\n",
       "        (stochastic_depth): StochasticDepth(p=0.05818181818181818, mode=row)\n",
       "      )\n",
       "      (6): MBConv(\n",
       "        (block): Sequential(\n",
       "          (0): Conv2dNormActivation(\n",
       "            (0): Conv2d(80, 480, kernel_size=(1, 1), stride=(1, 1), bias=False)\n",
       "            (1): BatchNorm2d(480, eps=0.001, momentum=0.01, affine=True, track_running_stats=True)\n",
       "            (2): SiLU(inplace=True)\n",
       "          )\n",
       "          (1): Conv2dNormActivation(\n",
       "            (0): Conv2d(480, 480, kernel_size=(5, 5), stride=(1, 1), padding=(2, 2), groups=480, bias=False)\n",
       "            (1): BatchNorm2d(480, eps=0.001, momentum=0.01, affine=True, track_running_stats=True)\n",
       "            (2): SiLU(inplace=True)\n",
       "          )\n",
       "          (2): SqueezeExcitation(\n",
       "            (avgpool): AdaptiveAvgPool2d(output_size=1)\n",
       "            (fc1): Conv2d(480, 20, kernel_size=(1, 1), stride=(1, 1))\n",
       "            (fc2): Conv2d(20, 480, kernel_size=(1, 1), stride=(1, 1))\n",
       "            (activation): SiLU(inplace=True)\n",
       "            (scale_activation): Sigmoid()\n",
       "          )\n",
       "          (3): Conv2dNormActivation(\n",
       "            (0): Conv2d(480, 80, kernel_size=(1, 1), stride=(1, 1), bias=False)\n",
       "            (1): BatchNorm2d(80, eps=0.001, momentum=0.01, affine=True, track_running_stats=True)\n",
       "          )\n",
       "        )\n",
       "        (stochastic_depth): StochasticDepth(p=0.06181818181818183, mode=row)\n",
       "      )\n",
       "    )\n",
       "    (4): Sequential(\n",
       "      (0): MBConv(\n",
       "        (block): Sequential(\n",
       "          (0): Conv2dNormActivation(\n",
       "            (0): Conv2d(80, 480, kernel_size=(1, 1), stride=(1, 1), bias=False)\n",
       "            (1): BatchNorm2d(480, eps=0.001, momentum=0.01, affine=True, track_running_stats=True)\n",
       "            (2): SiLU(inplace=True)\n",
       "          )\n",
       "          (1): Conv2dNormActivation(\n",
       "            (0): Conv2d(480, 480, kernel_size=(3, 3), stride=(2, 2), padding=(1, 1), groups=480, bias=False)\n",
       "            (1): BatchNorm2d(480, eps=0.001, momentum=0.01, affine=True, track_running_stats=True)\n",
       "            (2): SiLU(inplace=True)\n",
       "          )\n",
       "          (2): SqueezeExcitation(\n",
       "            (avgpool): AdaptiveAvgPool2d(output_size=1)\n",
       "            (fc1): Conv2d(480, 20, kernel_size=(1, 1), stride=(1, 1))\n",
       "            (fc2): Conv2d(20, 480, kernel_size=(1, 1), stride=(1, 1))\n",
       "            (activation): SiLU(inplace=True)\n",
       "            (scale_activation): Sigmoid()\n",
       "          )\n",
       "          (3): Conv2dNormActivation(\n",
       "            (0): Conv2d(480, 160, kernel_size=(1, 1), stride=(1, 1), bias=False)\n",
       "            (1): BatchNorm2d(160, eps=0.001, momentum=0.01, affine=True, track_running_stats=True)\n",
       "          )\n",
       "        )\n",
       "        (stochastic_depth): StochasticDepth(p=0.06545454545454546, mode=row)\n",
       "      )\n",
       "      (1): MBConv(\n",
       "        (block): Sequential(\n",
       "          (0): Conv2dNormActivation(\n",
       "            (0): Conv2d(160, 960, kernel_size=(1, 1), stride=(1, 1), bias=False)\n",
       "            (1): BatchNorm2d(960, eps=0.001, momentum=0.01, affine=True, track_running_stats=True)\n",
       "            (2): SiLU(inplace=True)\n",
       "          )\n",
       "          (1): Conv2dNormActivation(\n",
       "            (0): Conv2d(960, 960, kernel_size=(3, 3), stride=(1, 1), padding=(1, 1), groups=960, bias=False)\n",
       "            (1): BatchNorm2d(960, eps=0.001, momentum=0.01, affine=True, track_running_stats=True)\n",
       "            (2): SiLU(inplace=True)\n",
       "          )\n",
       "          (2): SqueezeExcitation(\n",
       "            (avgpool): AdaptiveAvgPool2d(output_size=1)\n",
       "            (fc1): Conv2d(960, 40, kernel_size=(1, 1), stride=(1, 1))\n",
       "            (fc2): Conv2d(40, 960, kernel_size=(1, 1), stride=(1, 1))\n",
       "            (activation): SiLU(inplace=True)\n",
       "            (scale_activation): Sigmoid()\n",
       "          )\n",
       "          (3): Conv2dNormActivation(\n",
       "            (0): Conv2d(960, 160, kernel_size=(1, 1), stride=(1, 1), bias=False)\n",
       "            (1): BatchNorm2d(160, eps=0.001, momentum=0.01, affine=True, track_running_stats=True)\n",
       "          )\n",
       "        )\n",
       "        (stochastic_depth): StochasticDepth(p=0.06909090909090909, mode=row)\n",
       "      )\n",
       "      (2): MBConv(\n",
       "        (block): Sequential(\n",
       "          (0): Conv2dNormActivation(\n",
       "            (0): Conv2d(160, 960, kernel_size=(1, 1), stride=(1, 1), bias=False)\n",
       "            (1): BatchNorm2d(960, eps=0.001, momentum=0.01, affine=True, track_running_stats=True)\n",
       "            (2): SiLU(inplace=True)\n",
       "          )\n",
       "          (1): Conv2dNormActivation(\n",
       "            (0): Conv2d(960, 960, kernel_size=(3, 3), stride=(1, 1), padding=(1, 1), groups=960, bias=False)\n",
       "            (1): BatchNorm2d(960, eps=0.001, momentum=0.01, affine=True, track_running_stats=True)\n",
       "            (2): SiLU(inplace=True)\n",
       "          )\n",
       "          (2): SqueezeExcitation(\n",
       "            (avgpool): AdaptiveAvgPool2d(output_size=1)\n",
       "            (fc1): Conv2d(960, 40, kernel_size=(1, 1), stride=(1, 1))\n",
       "            (fc2): Conv2d(40, 960, kernel_size=(1, 1), stride=(1, 1))\n",
       "            (activation): SiLU(inplace=True)\n",
       "            (scale_activation): Sigmoid()\n",
       "          )\n",
       "          (3): Conv2dNormActivation(\n",
       "            (0): Conv2d(960, 160, kernel_size=(1, 1), stride=(1, 1), bias=False)\n",
       "            (1): BatchNorm2d(160, eps=0.001, momentum=0.01, affine=True, track_running_stats=True)\n",
       "          )\n",
       "        )\n",
       "        (stochastic_depth): StochasticDepth(p=0.07272727272727272, mode=row)\n",
       "      )\n",
       "      (3): MBConv(\n",
       "        (block): Sequential(\n",
       "          (0): Conv2dNormActivation(\n",
       "            (0): Conv2d(160, 960, kernel_size=(1, 1), stride=(1, 1), bias=False)\n",
       "            (1): BatchNorm2d(960, eps=0.001, momentum=0.01, affine=True, track_running_stats=True)\n",
       "            (2): SiLU(inplace=True)\n",
       "          )\n",
       "          (1): Conv2dNormActivation(\n",
       "            (0): Conv2d(960, 960, kernel_size=(3, 3), stride=(1, 1), padding=(1, 1), groups=960, bias=False)\n",
       "            (1): BatchNorm2d(960, eps=0.001, momentum=0.01, affine=True, track_running_stats=True)\n",
       "            (2): SiLU(inplace=True)\n",
       "          )\n",
       "          (2): SqueezeExcitation(\n",
       "            (avgpool): AdaptiveAvgPool2d(output_size=1)\n",
       "            (fc1): Conv2d(960, 40, kernel_size=(1, 1), stride=(1, 1))\n",
       "            (fc2): Conv2d(40, 960, kernel_size=(1, 1), stride=(1, 1))\n",
       "            (activation): SiLU(inplace=True)\n",
       "            (scale_activation): Sigmoid()\n",
       "          )\n",
       "          (3): Conv2dNormActivation(\n",
       "            (0): Conv2d(960, 160, kernel_size=(1, 1), stride=(1, 1), bias=False)\n",
       "            (1): BatchNorm2d(160, eps=0.001, momentum=0.01, affine=True, track_running_stats=True)\n",
       "          )\n",
       "        )\n",
       "        (stochastic_depth): StochasticDepth(p=0.07636363636363637, mode=row)\n",
       "      )\n",
       "      (4): MBConv(\n",
       "        (block): Sequential(\n",
       "          (0): Conv2dNormActivation(\n",
       "            (0): Conv2d(160, 960, kernel_size=(1, 1), stride=(1, 1), bias=False)\n",
       "            (1): BatchNorm2d(960, eps=0.001, momentum=0.01, affine=True, track_running_stats=True)\n",
       "            (2): SiLU(inplace=True)\n",
       "          )\n",
       "          (1): Conv2dNormActivation(\n",
       "            (0): Conv2d(960, 960, kernel_size=(3, 3), stride=(1, 1), padding=(1, 1), groups=960, bias=False)\n",
       "            (1): BatchNorm2d(960, eps=0.001, momentum=0.01, affine=True, track_running_stats=True)\n",
       "            (2): SiLU(inplace=True)\n",
       "          )\n",
       "          (2): SqueezeExcitation(\n",
       "            (avgpool): AdaptiveAvgPool2d(output_size=1)\n",
       "            (fc1): Conv2d(960, 40, kernel_size=(1, 1), stride=(1, 1))\n",
       "            (fc2): Conv2d(40, 960, kernel_size=(1, 1), stride=(1, 1))\n",
       "            (activation): SiLU(inplace=True)\n",
       "            (scale_activation): Sigmoid()\n",
       "          )\n",
       "          (3): Conv2dNormActivation(\n",
       "            (0): Conv2d(960, 160, kernel_size=(1, 1), stride=(1, 1), bias=False)\n",
       "            (1): BatchNorm2d(160, eps=0.001, momentum=0.01, affine=True, track_running_stats=True)\n",
       "          )\n",
       "        )\n",
       "        (stochastic_depth): StochasticDepth(p=0.08, mode=row)\n",
       "      )\n",
       "      (5): MBConv(\n",
       "        (block): Sequential(\n",
       "          (0): Conv2dNormActivation(\n",
       "            (0): Conv2d(160, 960, kernel_size=(1, 1), stride=(1, 1), bias=False)\n",
       "            (1): BatchNorm2d(960, eps=0.001, momentum=0.01, affine=True, track_running_stats=True)\n",
       "            (2): SiLU(inplace=True)\n",
       "          )\n",
       "          (1): Conv2dNormActivation(\n",
       "            (0): Conv2d(960, 960, kernel_size=(3, 3), stride=(1, 1), padding=(1, 1), groups=960, bias=False)\n",
       "            (1): BatchNorm2d(960, eps=0.001, momentum=0.01, affine=True, track_running_stats=True)\n",
       "            (2): SiLU(inplace=True)\n",
       "          )\n",
       "          (2): SqueezeExcitation(\n",
       "            (avgpool): AdaptiveAvgPool2d(output_size=1)\n",
       "            (fc1): Conv2d(960, 40, kernel_size=(1, 1), stride=(1, 1))\n",
       "            (fc2): Conv2d(40, 960, kernel_size=(1, 1), stride=(1, 1))\n",
       "            (activation): SiLU(inplace=True)\n",
       "            (scale_activation): Sigmoid()\n",
       "          )\n",
       "          (3): Conv2dNormActivation(\n",
       "            (0): Conv2d(960, 160, kernel_size=(1, 1), stride=(1, 1), bias=False)\n",
       "            (1): BatchNorm2d(160, eps=0.001, momentum=0.01, affine=True, track_running_stats=True)\n",
       "          )\n",
       "        )\n",
       "        (stochastic_depth): StochasticDepth(p=0.08363636363636365, mode=row)\n",
       "      )\n",
       "      (6): MBConv(\n",
       "        (block): Sequential(\n",
       "          (0): Conv2dNormActivation(\n",
       "            (0): Conv2d(160, 960, kernel_size=(1, 1), stride=(1, 1), bias=False)\n",
       "            (1): BatchNorm2d(960, eps=0.001, momentum=0.01, affine=True, track_running_stats=True)\n",
       "            (2): SiLU(inplace=True)\n",
       "          )\n",
       "          (1): Conv2dNormActivation(\n",
       "            (0): Conv2d(960, 960, kernel_size=(3, 3), stride=(1, 1), padding=(1, 1), groups=960, bias=False)\n",
       "            (1): BatchNorm2d(960, eps=0.001, momentum=0.01, affine=True, track_running_stats=True)\n",
       "            (2): SiLU(inplace=True)\n",
       "          )\n",
       "          (2): SqueezeExcitation(\n",
       "            (avgpool): AdaptiveAvgPool2d(output_size=1)\n",
       "            (fc1): Conv2d(960, 40, kernel_size=(1, 1), stride=(1, 1))\n",
       "            (fc2): Conv2d(40, 960, kernel_size=(1, 1), stride=(1, 1))\n",
       "            (activation): SiLU(inplace=True)\n",
       "            (scale_activation): Sigmoid()\n",
       "          )\n",
       "          (3): Conv2dNormActivation(\n",
       "            (0): Conv2d(960, 160, kernel_size=(1, 1), stride=(1, 1), bias=False)\n",
       "            (1): BatchNorm2d(160, eps=0.001, momentum=0.01, affine=True, track_running_stats=True)\n",
       "          )\n",
       "        )\n",
       "        (stochastic_depth): StochasticDepth(p=0.08727272727272728, mode=row)\n",
       "      )\n",
       "      (7): MBConv(\n",
       "        (block): Sequential(\n",
       "          (0): Conv2dNormActivation(\n",
       "            (0): Conv2d(160, 960, kernel_size=(1, 1), stride=(1, 1), bias=False)\n",
       "            (1): BatchNorm2d(960, eps=0.001, momentum=0.01, affine=True, track_running_stats=True)\n",
       "            (2): SiLU(inplace=True)\n",
       "          )\n",
       "          (1): Conv2dNormActivation(\n",
       "            (0): Conv2d(960, 960, kernel_size=(3, 3), stride=(1, 1), padding=(1, 1), groups=960, bias=False)\n",
       "            (1): BatchNorm2d(960, eps=0.001, momentum=0.01, affine=True, track_running_stats=True)\n",
       "            (2): SiLU(inplace=True)\n",
       "          )\n",
       "          (2): SqueezeExcitation(\n",
       "            (avgpool): AdaptiveAvgPool2d(output_size=1)\n",
       "            (fc1): Conv2d(960, 40, kernel_size=(1, 1), stride=(1, 1))\n",
       "            (fc2): Conv2d(40, 960, kernel_size=(1, 1), stride=(1, 1))\n",
       "            (activation): SiLU(inplace=True)\n",
       "            (scale_activation): Sigmoid()\n",
       "          )\n",
       "          (3): Conv2dNormActivation(\n",
       "            (0): Conv2d(960, 160, kernel_size=(1, 1), stride=(1, 1), bias=False)\n",
       "            (1): BatchNorm2d(160, eps=0.001, momentum=0.01, affine=True, track_running_stats=True)\n",
       "          )\n",
       "        )\n",
       "        (stochastic_depth): StochasticDepth(p=0.09090909090909091, mode=row)\n",
       "      )\n",
       "      (8): MBConv(\n",
       "        (block): Sequential(\n",
       "          (0): Conv2dNormActivation(\n",
       "            (0): Conv2d(160, 960, kernel_size=(1, 1), stride=(1, 1), bias=False)\n",
       "            (1): BatchNorm2d(960, eps=0.001, momentum=0.01, affine=True, track_running_stats=True)\n",
       "            (2): SiLU(inplace=True)\n",
       "          )\n",
       "          (1): Conv2dNormActivation(\n",
       "            (0): Conv2d(960, 960, kernel_size=(3, 3), stride=(1, 1), padding=(1, 1), groups=960, bias=False)\n",
       "            (1): BatchNorm2d(960, eps=0.001, momentum=0.01, affine=True, track_running_stats=True)\n",
       "            (2): SiLU(inplace=True)\n",
       "          )\n",
       "          (2): SqueezeExcitation(\n",
       "            (avgpool): AdaptiveAvgPool2d(output_size=1)\n",
       "            (fc1): Conv2d(960, 40, kernel_size=(1, 1), stride=(1, 1))\n",
       "            (fc2): Conv2d(40, 960, kernel_size=(1, 1), stride=(1, 1))\n",
       "            (activation): SiLU(inplace=True)\n",
       "            (scale_activation): Sigmoid()\n",
       "          )\n",
       "          (3): Conv2dNormActivation(\n",
       "            (0): Conv2d(960, 160, kernel_size=(1, 1), stride=(1, 1), bias=False)\n",
       "            (1): BatchNorm2d(160, eps=0.001, momentum=0.01, affine=True, track_running_stats=True)\n",
       "          )\n",
       "        )\n",
       "        (stochastic_depth): StochasticDepth(p=0.09454545454545454, mode=row)\n",
       "      )\n",
       "      (9): MBConv(\n",
       "        (block): Sequential(\n",
       "          (0): Conv2dNormActivation(\n",
       "            (0): Conv2d(160, 960, kernel_size=(1, 1), stride=(1, 1), bias=False)\n",
       "            (1): BatchNorm2d(960, eps=0.001, momentum=0.01, affine=True, track_running_stats=True)\n",
       "            (2): SiLU(inplace=True)\n",
       "          )\n",
       "          (1): Conv2dNormActivation(\n",
       "            (0): Conv2d(960, 960, kernel_size=(3, 3), stride=(1, 1), padding=(1, 1), groups=960, bias=False)\n",
       "            (1): BatchNorm2d(960, eps=0.001, momentum=0.01, affine=True, track_running_stats=True)\n",
       "            (2): SiLU(inplace=True)\n",
       "          )\n",
       "          (2): SqueezeExcitation(\n",
       "            (avgpool): AdaptiveAvgPool2d(output_size=1)\n",
       "            (fc1): Conv2d(960, 40, kernel_size=(1, 1), stride=(1, 1))\n",
       "            (fc2): Conv2d(40, 960, kernel_size=(1, 1), stride=(1, 1))\n",
       "            (activation): SiLU(inplace=True)\n",
       "            (scale_activation): Sigmoid()\n",
       "          )\n",
       "          (3): Conv2dNormActivation(\n",
       "            (0): Conv2d(960, 160, kernel_size=(1, 1), stride=(1, 1), bias=False)\n",
       "            (1): BatchNorm2d(160, eps=0.001, momentum=0.01, affine=True, track_running_stats=True)\n",
       "          )\n",
       "        )\n",
       "        (stochastic_depth): StochasticDepth(p=0.09818181818181819, mode=row)\n",
       "      )\n",
       "    )\n",
       "    (5): Sequential(\n",
       "      (0): MBConv(\n",
       "        (block): Sequential(\n",
       "          (0): Conv2dNormActivation(\n",
       "            (0): Conv2d(160, 960, kernel_size=(1, 1), stride=(1, 1), bias=False)\n",
       "            (1): BatchNorm2d(960, eps=0.001, momentum=0.01, affine=True, track_running_stats=True)\n",
       "            (2): SiLU(inplace=True)\n",
       "          )\n",
       "          (1): Conv2dNormActivation(\n",
       "            (0): Conv2d(960, 960, kernel_size=(5, 5), stride=(1, 1), padding=(2, 2), groups=960, bias=False)\n",
       "            (1): BatchNorm2d(960, eps=0.001, momentum=0.01, affine=True, track_running_stats=True)\n",
       "            (2): SiLU(inplace=True)\n",
       "          )\n",
       "          (2): SqueezeExcitation(\n",
       "            (avgpool): AdaptiveAvgPool2d(output_size=1)\n",
       "            (fc1): Conv2d(960, 40, kernel_size=(1, 1), stride=(1, 1))\n",
       "            (fc2): Conv2d(40, 960, kernel_size=(1, 1), stride=(1, 1))\n",
       "            (activation): SiLU(inplace=True)\n",
       "            (scale_activation): Sigmoid()\n",
       "          )\n",
       "          (3): Conv2dNormActivation(\n",
       "            (0): Conv2d(960, 224, kernel_size=(1, 1), stride=(1, 1), bias=False)\n",
       "            (1): BatchNorm2d(224, eps=0.001, momentum=0.01, affine=True, track_running_stats=True)\n",
       "          )\n",
       "        )\n",
       "        (stochastic_depth): StochasticDepth(p=0.10181818181818182, mode=row)\n",
       "      )\n",
       "      (1): MBConv(\n",
       "        (block): Sequential(\n",
       "          (0): Conv2dNormActivation(\n",
       "            (0): Conv2d(224, 1344, kernel_size=(1, 1), stride=(1, 1), bias=False)\n",
       "            (1): BatchNorm2d(1344, eps=0.001, momentum=0.01, affine=True, track_running_stats=True)\n",
       "            (2): SiLU(inplace=True)\n",
       "          )\n",
       "          (1): Conv2dNormActivation(\n",
       "            (0): Conv2d(1344, 1344, kernel_size=(5, 5), stride=(1, 1), padding=(2, 2), groups=1344, bias=False)\n",
       "            (1): BatchNorm2d(1344, eps=0.001, momentum=0.01, affine=True, track_running_stats=True)\n",
       "            (2): SiLU(inplace=True)\n",
       "          )\n",
       "          (2): SqueezeExcitation(\n",
       "            (avgpool): AdaptiveAvgPool2d(output_size=1)\n",
       "            (fc1): Conv2d(1344, 56, kernel_size=(1, 1), stride=(1, 1))\n",
       "            (fc2): Conv2d(56, 1344, kernel_size=(1, 1), stride=(1, 1))\n",
       "            (activation): SiLU(inplace=True)\n",
       "            (scale_activation): Sigmoid()\n",
       "          )\n",
       "          (3): Conv2dNormActivation(\n",
       "            (0): Conv2d(1344, 224, kernel_size=(1, 1), stride=(1, 1), bias=False)\n",
       "            (1): BatchNorm2d(224, eps=0.001, momentum=0.01, affine=True, track_running_stats=True)\n",
       "          )\n",
       "        )\n",
       "        (stochastic_depth): StochasticDepth(p=0.10545454545454547, mode=row)\n",
       "      )\n",
       "      (2): MBConv(\n",
       "        (block): Sequential(\n",
       "          (0): Conv2dNormActivation(\n",
       "            (0): Conv2d(224, 1344, kernel_size=(1, 1), stride=(1, 1), bias=False)\n",
       "            (1): BatchNorm2d(1344, eps=0.001, momentum=0.01, affine=True, track_running_stats=True)\n",
       "            (2): SiLU(inplace=True)\n",
       "          )\n",
       "          (1): Conv2dNormActivation(\n",
       "            (0): Conv2d(1344, 1344, kernel_size=(5, 5), stride=(1, 1), padding=(2, 2), groups=1344, bias=False)\n",
       "            (1): BatchNorm2d(1344, eps=0.001, momentum=0.01, affine=True, track_running_stats=True)\n",
       "            (2): SiLU(inplace=True)\n",
       "          )\n",
       "          (2): SqueezeExcitation(\n",
       "            (avgpool): AdaptiveAvgPool2d(output_size=1)\n",
       "            (fc1): Conv2d(1344, 56, kernel_size=(1, 1), stride=(1, 1))\n",
       "            (fc2): Conv2d(56, 1344, kernel_size=(1, 1), stride=(1, 1))\n",
       "            (activation): SiLU(inplace=True)\n",
       "            (scale_activation): Sigmoid()\n",
       "          )\n",
       "          (3): Conv2dNormActivation(\n",
       "            (0): Conv2d(1344, 224, kernel_size=(1, 1), stride=(1, 1), bias=False)\n",
       "            (1): BatchNorm2d(224, eps=0.001, momentum=0.01, affine=True, track_running_stats=True)\n",
       "          )\n",
       "        )\n",
       "        (stochastic_depth): StochasticDepth(p=0.10909090909090909, mode=row)\n",
       "      )\n",
       "      (3): MBConv(\n",
       "        (block): Sequential(\n",
       "          (0): Conv2dNormActivation(\n",
       "            (0): Conv2d(224, 1344, kernel_size=(1, 1), stride=(1, 1), bias=False)\n",
       "            (1): BatchNorm2d(1344, eps=0.001, momentum=0.01, affine=True, track_running_stats=True)\n",
       "            (2): SiLU(inplace=True)\n",
       "          )\n",
       "          (1): Conv2dNormActivation(\n",
       "            (0): Conv2d(1344, 1344, kernel_size=(5, 5), stride=(1, 1), padding=(2, 2), groups=1344, bias=False)\n",
       "            (1): BatchNorm2d(1344, eps=0.001, momentum=0.01, affine=True, track_running_stats=True)\n",
       "            (2): SiLU(inplace=True)\n",
       "          )\n",
       "          (2): SqueezeExcitation(\n",
       "            (avgpool): AdaptiveAvgPool2d(output_size=1)\n",
       "            (fc1): Conv2d(1344, 56, kernel_size=(1, 1), stride=(1, 1))\n",
       "            (fc2): Conv2d(56, 1344, kernel_size=(1, 1), stride=(1, 1))\n",
       "            (activation): SiLU(inplace=True)\n",
       "            (scale_activation): Sigmoid()\n",
       "          )\n",
       "          (3): Conv2dNormActivation(\n",
       "            (0): Conv2d(1344, 224, kernel_size=(1, 1), stride=(1, 1), bias=False)\n",
       "            (1): BatchNorm2d(224, eps=0.001, momentum=0.01, affine=True, track_running_stats=True)\n",
       "          )\n",
       "        )\n",
       "        (stochastic_depth): StochasticDepth(p=0.11272727272727273, mode=row)\n",
       "      )\n",
       "      (4): MBConv(\n",
       "        (block): Sequential(\n",
       "          (0): Conv2dNormActivation(\n",
       "            (0): Conv2d(224, 1344, kernel_size=(1, 1), stride=(1, 1), bias=False)\n",
       "            (1): BatchNorm2d(1344, eps=0.001, momentum=0.01, affine=True, track_running_stats=True)\n",
       "            (2): SiLU(inplace=True)\n",
       "          )\n",
       "          (1): Conv2dNormActivation(\n",
       "            (0): Conv2d(1344, 1344, kernel_size=(5, 5), stride=(1, 1), padding=(2, 2), groups=1344, bias=False)\n",
       "            (1): BatchNorm2d(1344, eps=0.001, momentum=0.01, affine=True, track_running_stats=True)\n",
       "            (2): SiLU(inplace=True)\n",
       "          )\n",
       "          (2): SqueezeExcitation(\n",
       "            (avgpool): AdaptiveAvgPool2d(output_size=1)\n",
       "            (fc1): Conv2d(1344, 56, kernel_size=(1, 1), stride=(1, 1))\n",
       "            (fc2): Conv2d(56, 1344, kernel_size=(1, 1), stride=(1, 1))\n",
       "            (activation): SiLU(inplace=True)\n",
       "            (scale_activation): Sigmoid()\n",
       "          )\n",
       "          (3): Conv2dNormActivation(\n",
       "            (0): Conv2d(1344, 224, kernel_size=(1, 1), stride=(1, 1), bias=False)\n",
       "            (1): BatchNorm2d(224, eps=0.001, momentum=0.01, affine=True, track_running_stats=True)\n",
       "          )\n",
       "        )\n",
       "        (stochastic_depth): StochasticDepth(p=0.11636363636363636, mode=row)\n",
       "      )\n",
       "      (5): MBConv(\n",
       "        (block): Sequential(\n",
       "          (0): Conv2dNormActivation(\n",
       "            (0): Conv2d(224, 1344, kernel_size=(1, 1), stride=(1, 1), bias=False)\n",
       "            (1): BatchNorm2d(1344, eps=0.001, momentum=0.01, affine=True, track_running_stats=True)\n",
       "            (2): SiLU(inplace=True)\n",
       "          )\n",
       "          (1): Conv2dNormActivation(\n",
       "            (0): Conv2d(1344, 1344, kernel_size=(5, 5), stride=(1, 1), padding=(2, 2), groups=1344, bias=False)\n",
       "            (1): BatchNorm2d(1344, eps=0.001, momentum=0.01, affine=True, track_running_stats=True)\n",
       "            (2): SiLU(inplace=True)\n",
       "          )\n",
       "          (2): SqueezeExcitation(\n",
       "            (avgpool): AdaptiveAvgPool2d(output_size=1)\n",
       "            (fc1): Conv2d(1344, 56, kernel_size=(1, 1), stride=(1, 1))\n",
       "            (fc2): Conv2d(56, 1344, kernel_size=(1, 1), stride=(1, 1))\n",
       "            (activation): SiLU(inplace=True)\n",
       "            (scale_activation): Sigmoid()\n",
       "          )\n",
       "          (3): Conv2dNormActivation(\n",
       "            (0): Conv2d(1344, 224, kernel_size=(1, 1), stride=(1, 1), bias=False)\n",
       "            (1): BatchNorm2d(224, eps=0.001, momentum=0.01, affine=True, track_running_stats=True)\n",
       "          )\n",
       "        )\n",
       "        (stochastic_depth): StochasticDepth(p=0.12000000000000001, mode=row)\n",
       "      )\n",
       "      (6): MBConv(\n",
       "        (block): Sequential(\n",
       "          (0): Conv2dNormActivation(\n",
       "            (0): Conv2d(224, 1344, kernel_size=(1, 1), stride=(1, 1), bias=False)\n",
       "            (1): BatchNorm2d(1344, eps=0.001, momentum=0.01, affine=True, track_running_stats=True)\n",
       "            (2): SiLU(inplace=True)\n",
       "          )\n",
       "          (1): Conv2dNormActivation(\n",
       "            (0): Conv2d(1344, 1344, kernel_size=(5, 5), stride=(1, 1), padding=(2, 2), groups=1344, bias=False)\n",
       "            (1): BatchNorm2d(1344, eps=0.001, momentum=0.01, affine=True, track_running_stats=True)\n",
       "            (2): SiLU(inplace=True)\n",
       "          )\n",
       "          (2): SqueezeExcitation(\n",
       "            (avgpool): AdaptiveAvgPool2d(output_size=1)\n",
       "            (fc1): Conv2d(1344, 56, kernel_size=(1, 1), stride=(1, 1))\n",
       "            (fc2): Conv2d(56, 1344, kernel_size=(1, 1), stride=(1, 1))\n",
       "            (activation): SiLU(inplace=True)\n",
       "            (scale_activation): Sigmoid()\n",
       "          )\n",
       "          (3): Conv2dNormActivation(\n",
       "            (0): Conv2d(1344, 224, kernel_size=(1, 1), stride=(1, 1), bias=False)\n",
       "            (1): BatchNorm2d(224, eps=0.001, momentum=0.01, affine=True, track_running_stats=True)\n",
       "          )\n",
       "        )\n",
       "        (stochastic_depth): StochasticDepth(p=0.12363636363636366, mode=row)\n",
       "      )\n",
       "      (7): MBConv(\n",
       "        (block): Sequential(\n",
       "          (0): Conv2dNormActivation(\n",
       "            (0): Conv2d(224, 1344, kernel_size=(1, 1), stride=(1, 1), bias=False)\n",
       "            (1): BatchNorm2d(1344, eps=0.001, momentum=0.01, affine=True, track_running_stats=True)\n",
       "            (2): SiLU(inplace=True)\n",
       "          )\n",
       "          (1): Conv2dNormActivation(\n",
       "            (0): Conv2d(1344, 1344, kernel_size=(5, 5), stride=(1, 1), padding=(2, 2), groups=1344, bias=False)\n",
       "            (1): BatchNorm2d(1344, eps=0.001, momentum=0.01, affine=True, track_running_stats=True)\n",
       "            (2): SiLU(inplace=True)\n",
       "          )\n",
       "          (2): SqueezeExcitation(\n",
       "            (avgpool): AdaptiveAvgPool2d(output_size=1)\n",
       "            (fc1): Conv2d(1344, 56, kernel_size=(1, 1), stride=(1, 1))\n",
       "            (fc2): Conv2d(56, 1344, kernel_size=(1, 1), stride=(1, 1))\n",
       "            (activation): SiLU(inplace=True)\n",
       "            (scale_activation): Sigmoid()\n",
       "          )\n",
       "          (3): Conv2dNormActivation(\n",
       "            (0): Conv2d(1344, 224, kernel_size=(1, 1), stride=(1, 1), bias=False)\n",
       "            (1): BatchNorm2d(224, eps=0.001, momentum=0.01, affine=True, track_running_stats=True)\n",
       "          )\n",
       "        )\n",
       "        (stochastic_depth): StochasticDepth(p=0.12727272727272726, mode=row)\n",
       "      )\n",
       "      (8): MBConv(\n",
       "        (block): Sequential(\n",
       "          (0): Conv2dNormActivation(\n",
       "            (0): Conv2d(224, 1344, kernel_size=(1, 1), stride=(1, 1), bias=False)\n",
       "            (1): BatchNorm2d(1344, eps=0.001, momentum=0.01, affine=True, track_running_stats=True)\n",
       "            (2): SiLU(inplace=True)\n",
       "          )\n",
       "          (1): Conv2dNormActivation(\n",
       "            (0): Conv2d(1344, 1344, kernel_size=(5, 5), stride=(1, 1), padding=(2, 2), groups=1344, bias=False)\n",
       "            (1): BatchNorm2d(1344, eps=0.001, momentum=0.01, affine=True, track_running_stats=True)\n",
       "            (2): SiLU(inplace=True)\n",
       "          )\n",
       "          (2): SqueezeExcitation(\n",
       "            (avgpool): AdaptiveAvgPool2d(output_size=1)\n",
       "            (fc1): Conv2d(1344, 56, kernel_size=(1, 1), stride=(1, 1))\n",
       "            (fc2): Conv2d(56, 1344, kernel_size=(1, 1), stride=(1, 1))\n",
       "            (activation): SiLU(inplace=True)\n",
       "            (scale_activation): Sigmoid()\n",
       "          )\n",
       "          (3): Conv2dNormActivation(\n",
       "            (0): Conv2d(1344, 224, kernel_size=(1, 1), stride=(1, 1), bias=False)\n",
       "            (1): BatchNorm2d(224, eps=0.001, momentum=0.01, affine=True, track_running_stats=True)\n",
       "          )\n",
       "        )\n",
       "        (stochastic_depth): StochasticDepth(p=0.13090909090909092, mode=row)\n",
       "      )\n",
       "      (9): MBConv(\n",
       "        (block): Sequential(\n",
       "          (0): Conv2dNormActivation(\n",
       "            (0): Conv2d(224, 1344, kernel_size=(1, 1), stride=(1, 1), bias=False)\n",
       "            (1): BatchNorm2d(1344, eps=0.001, momentum=0.01, affine=True, track_running_stats=True)\n",
       "            (2): SiLU(inplace=True)\n",
       "          )\n",
       "          (1): Conv2dNormActivation(\n",
       "            (0): Conv2d(1344, 1344, kernel_size=(5, 5), stride=(1, 1), padding=(2, 2), groups=1344, bias=False)\n",
       "            (1): BatchNorm2d(1344, eps=0.001, momentum=0.01, affine=True, track_running_stats=True)\n",
       "            (2): SiLU(inplace=True)\n",
       "          )\n",
       "          (2): SqueezeExcitation(\n",
       "            (avgpool): AdaptiveAvgPool2d(output_size=1)\n",
       "            (fc1): Conv2d(1344, 56, kernel_size=(1, 1), stride=(1, 1))\n",
       "            (fc2): Conv2d(56, 1344, kernel_size=(1, 1), stride=(1, 1))\n",
       "            (activation): SiLU(inplace=True)\n",
       "            (scale_activation): Sigmoid()\n",
       "          )\n",
       "          (3): Conv2dNormActivation(\n",
       "            (0): Conv2d(1344, 224, kernel_size=(1, 1), stride=(1, 1), bias=False)\n",
       "            (1): BatchNorm2d(224, eps=0.001, momentum=0.01, affine=True, track_running_stats=True)\n",
       "          )\n",
       "        )\n",
       "        (stochastic_depth): StochasticDepth(p=0.13454545454545455, mode=row)\n",
       "      )\n",
       "    )\n",
       "    (6): Sequential(\n",
       "      (0): MBConv(\n",
       "        (block): Sequential(\n",
       "          (0): Conv2dNormActivation(\n",
       "            (0): Conv2d(224, 1344, kernel_size=(1, 1), stride=(1, 1), bias=False)\n",
       "            (1): BatchNorm2d(1344, eps=0.001, momentum=0.01, affine=True, track_running_stats=True)\n",
       "            (2): SiLU(inplace=True)\n",
       "          )\n",
       "          (1): Conv2dNormActivation(\n",
       "            (0): Conv2d(1344, 1344, kernel_size=(5, 5), stride=(2, 2), padding=(2, 2), groups=1344, bias=False)\n",
       "            (1): BatchNorm2d(1344, eps=0.001, momentum=0.01, affine=True, track_running_stats=True)\n",
       "            (2): SiLU(inplace=True)\n",
       "          )\n",
       "          (2): SqueezeExcitation(\n",
       "            (avgpool): AdaptiveAvgPool2d(output_size=1)\n",
       "            (fc1): Conv2d(1344, 56, kernel_size=(1, 1), stride=(1, 1))\n",
       "            (fc2): Conv2d(56, 1344, kernel_size=(1, 1), stride=(1, 1))\n",
       "            (activation): SiLU(inplace=True)\n",
       "            (scale_activation): Sigmoid()\n",
       "          )\n",
       "          (3): Conv2dNormActivation(\n",
       "            (0): Conv2d(1344, 384, kernel_size=(1, 1), stride=(1, 1), bias=False)\n",
       "            (1): BatchNorm2d(384, eps=0.001, momentum=0.01, affine=True, track_running_stats=True)\n",
       "          )\n",
       "        )\n",
       "        (stochastic_depth): StochasticDepth(p=0.13818181818181818, mode=row)\n",
       "      )\n",
       "      (1): MBConv(\n",
       "        (block): Sequential(\n",
       "          (0): Conv2dNormActivation(\n",
       "            (0): Conv2d(384, 2304, kernel_size=(1, 1), stride=(1, 1), bias=False)\n",
       "            (1): BatchNorm2d(2304, eps=0.001, momentum=0.01, affine=True, track_running_stats=True)\n",
       "            (2): SiLU(inplace=True)\n",
       "          )\n",
       "          (1): Conv2dNormActivation(\n",
       "            (0): Conv2d(2304, 2304, kernel_size=(5, 5), stride=(1, 1), padding=(2, 2), groups=2304, bias=False)\n",
       "            (1): BatchNorm2d(2304, eps=0.001, momentum=0.01, affine=True, track_running_stats=True)\n",
       "            (2): SiLU(inplace=True)\n",
       "          )\n",
       "          (2): SqueezeExcitation(\n",
       "            (avgpool): AdaptiveAvgPool2d(output_size=1)\n",
       "            (fc1): Conv2d(2304, 96, kernel_size=(1, 1), stride=(1, 1))\n",
       "            (fc2): Conv2d(96, 2304, kernel_size=(1, 1), stride=(1, 1))\n",
       "            (activation): SiLU(inplace=True)\n",
       "            (scale_activation): Sigmoid()\n",
       "          )\n",
       "          (3): Conv2dNormActivation(\n",
       "            (0): Conv2d(2304, 384, kernel_size=(1, 1), stride=(1, 1), bias=False)\n",
       "            (1): BatchNorm2d(384, eps=0.001, momentum=0.01, affine=True, track_running_stats=True)\n",
       "          )\n",
       "        )\n",
       "        (stochastic_depth): StochasticDepth(p=0.14181818181818184, mode=row)\n",
       "      )\n",
       "      (2): MBConv(\n",
       "        (block): Sequential(\n",
       "          (0): Conv2dNormActivation(\n",
       "            (0): Conv2d(384, 2304, kernel_size=(1, 1), stride=(1, 1), bias=False)\n",
       "            (1): BatchNorm2d(2304, eps=0.001, momentum=0.01, affine=True, track_running_stats=True)\n",
       "            (2): SiLU(inplace=True)\n",
       "          )\n",
       "          (1): Conv2dNormActivation(\n",
       "            (0): Conv2d(2304, 2304, kernel_size=(5, 5), stride=(1, 1), padding=(2, 2), groups=2304, bias=False)\n",
       "            (1): BatchNorm2d(2304, eps=0.001, momentum=0.01, affine=True, track_running_stats=True)\n",
       "            (2): SiLU(inplace=True)\n",
       "          )\n",
       "          (2): SqueezeExcitation(\n",
       "            (avgpool): AdaptiveAvgPool2d(output_size=1)\n",
       "            (fc1): Conv2d(2304, 96, kernel_size=(1, 1), stride=(1, 1))\n",
       "            (fc2): Conv2d(96, 2304, kernel_size=(1, 1), stride=(1, 1))\n",
       "            (activation): SiLU(inplace=True)\n",
       "            (scale_activation): Sigmoid()\n",
       "          )\n",
       "          (3): Conv2dNormActivation(\n",
       "            (0): Conv2d(2304, 384, kernel_size=(1, 1), stride=(1, 1), bias=False)\n",
       "            (1): BatchNorm2d(384, eps=0.001, momentum=0.01, affine=True, track_running_stats=True)\n",
       "          )\n",
       "        )\n",
       "        (stochastic_depth): StochasticDepth(p=0.14545454545454545, mode=row)\n",
       "      )\n",
       "      (3): MBConv(\n",
       "        (block): Sequential(\n",
       "          (0): Conv2dNormActivation(\n",
       "            (0): Conv2d(384, 2304, kernel_size=(1, 1), stride=(1, 1), bias=False)\n",
       "            (1): BatchNorm2d(2304, eps=0.001, momentum=0.01, affine=True, track_running_stats=True)\n",
       "            (2): SiLU(inplace=True)\n",
       "          )\n",
       "          (1): Conv2dNormActivation(\n",
       "            (0): Conv2d(2304, 2304, kernel_size=(5, 5), stride=(1, 1), padding=(2, 2), groups=2304, bias=False)\n",
       "            (1): BatchNorm2d(2304, eps=0.001, momentum=0.01, affine=True, track_running_stats=True)\n",
       "            (2): SiLU(inplace=True)\n",
       "          )\n",
       "          (2): SqueezeExcitation(\n",
       "            (avgpool): AdaptiveAvgPool2d(output_size=1)\n",
       "            (fc1): Conv2d(2304, 96, kernel_size=(1, 1), stride=(1, 1))\n",
       "            (fc2): Conv2d(96, 2304, kernel_size=(1, 1), stride=(1, 1))\n",
       "            (activation): SiLU(inplace=True)\n",
       "            (scale_activation): Sigmoid()\n",
       "          )\n",
       "          (3): Conv2dNormActivation(\n",
       "            (0): Conv2d(2304, 384, kernel_size=(1, 1), stride=(1, 1), bias=False)\n",
       "            (1): BatchNorm2d(384, eps=0.001, momentum=0.01, affine=True, track_running_stats=True)\n",
       "          )\n",
       "        )\n",
       "        (stochastic_depth): StochasticDepth(p=0.1490909090909091, mode=row)\n",
       "      )\n",
       "      (4): MBConv(\n",
       "        (block): Sequential(\n",
       "          (0): Conv2dNormActivation(\n",
       "            (0): Conv2d(384, 2304, kernel_size=(1, 1), stride=(1, 1), bias=False)\n",
       "            (1): BatchNorm2d(2304, eps=0.001, momentum=0.01, affine=True, track_running_stats=True)\n",
       "            (2): SiLU(inplace=True)\n",
       "          )\n",
       "          (1): Conv2dNormActivation(\n",
       "            (0): Conv2d(2304, 2304, kernel_size=(5, 5), stride=(1, 1), padding=(2, 2), groups=2304, bias=False)\n",
       "            (1): BatchNorm2d(2304, eps=0.001, momentum=0.01, affine=True, track_running_stats=True)\n",
       "            (2): SiLU(inplace=True)\n",
       "          )\n",
       "          (2): SqueezeExcitation(\n",
       "            (avgpool): AdaptiveAvgPool2d(output_size=1)\n",
       "            (fc1): Conv2d(2304, 96, kernel_size=(1, 1), stride=(1, 1))\n",
       "            (fc2): Conv2d(96, 2304, kernel_size=(1, 1), stride=(1, 1))\n",
       "            (activation): SiLU(inplace=True)\n",
       "            (scale_activation): Sigmoid()\n",
       "          )\n",
       "          (3): Conv2dNormActivation(\n",
       "            (0): Conv2d(2304, 384, kernel_size=(1, 1), stride=(1, 1), bias=False)\n",
       "            (1): BatchNorm2d(384, eps=0.001, momentum=0.01, affine=True, track_running_stats=True)\n",
       "          )\n",
       "        )\n",
       "        (stochastic_depth): StochasticDepth(p=0.15272727272727274, mode=row)\n",
       "      )\n",
       "      (5): MBConv(\n",
       "        (block): Sequential(\n",
       "          (0): Conv2dNormActivation(\n",
       "            (0): Conv2d(384, 2304, kernel_size=(1, 1), stride=(1, 1), bias=False)\n",
       "            (1): BatchNorm2d(2304, eps=0.001, momentum=0.01, affine=True, track_running_stats=True)\n",
       "            (2): SiLU(inplace=True)\n",
       "          )\n",
       "          (1): Conv2dNormActivation(\n",
       "            (0): Conv2d(2304, 2304, kernel_size=(5, 5), stride=(1, 1), padding=(2, 2), groups=2304, bias=False)\n",
       "            (1): BatchNorm2d(2304, eps=0.001, momentum=0.01, affine=True, track_running_stats=True)\n",
       "            (2): SiLU(inplace=True)\n",
       "          )\n",
       "          (2): SqueezeExcitation(\n",
       "            (avgpool): AdaptiveAvgPool2d(output_size=1)\n",
       "            (fc1): Conv2d(2304, 96, kernel_size=(1, 1), stride=(1, 1))\n",
       "            (fc2): Conv2d(96, 2304, kernel_size=(1, 1), stride=(1, 1))\n",
       "            (activation): SiLU(inplace=True)\n",
       "            (scale_activation): Sigmoid()\n",
       "          )\n",
       "          (3): Conv2dNormActivation(\n",
       "            (0): Conv2d(2304, 384, kernel_size=(1, 1), stride=(1, 1), bias=False)\n",
       "            (1): BatchNorm2d(384, eps=0.001, momentum=0.01, affine=True, track_running_stats=True)\n",
       "          )\n",
       "        )\n",
       "        (stochastic_depth): StochasticDepth(p=0.15636363636363634, mode=row)\n",
       "      )\n",
       "      (6): MBConv(\n",
       "        (block): Sequential(\n",
       "          (0): Conv2dNormActivation(\n",
       "            (0): Conv2d(384, 2304, kernel_size=(1, 1), stride=(1, 1), bias=False)\n",
       "            (1): BatchNorm2d(2304, eps=0.001, momentum=0.01, affine=True, track_running_stats=True)\n",
       "            (2): SiLU(inplace=True)\n",
       "          )\n",
       "          (1): Conv2dNormActivation(\n",
       "            (0): Conv2d(2304, 2304, kernel_size=(5, 5), stride=(1, 1), padding=(2, 2), groups=2304, bias=False)\n",
       "            (1): BatchNorm2d(2304, eps=0.001, momentum=0.01, affine=True, track_running_stats=True)\n",
       "            (2): SiLU(inplace=True)\n",
       "          )\n",
       "          (2): SqueezeExcitation(\n",
       "            (avgpool): AdaptiveAvgPool2d(output_size=1)\n",
       "            (fc1): Conv2d(2304, 96, kernel_size=(1, 1), stride=(1, 1))\n",
       "            (fc2): Conv2d(96, 2304, kernel_size=(1, 1), stride=(1, 1))\n",
       "            (activation): SiLU(inplace=True)\n",
       "            (scale_activation): Sigmoid()\n",
       "          )\n",
       "          (3): Conv2dNormActivation(\n",
       "            (0): Conv2d(2304, 384, kernel_size=(1, 1), stride=(1, 1), bias=False)\n",
       "            (1): BatchNorm2d(384, eps=0.001, momentum=0.01, affine=True, track_running_stats=True)\n",
       "          )\n",
       "        )\n",
       "        (stochastic_depth): StochasticDepth(p=0.16, mode=row)\n",
       "      )\n",
       "      (7): MBConv(\n",
       "        (block): Sequential(\n",
       "          (0): Conv2dNormActivation(\n",
       "            (0): Conv2d(384, 2304, kernel_size=(1, 1), stride=(1, 1), bias=False)\n",
       "            (1): BatchNorm2d(2304, eps=0.001, momentum=0.01, affine=True, track_running_stats=True)\n",
       "            (2): SiLU(inplace=True)\n",
       "          )\n",
       "          (1): Conv2dNormActivation(\n",
       "            (0): Conv2d(2304, 2304, kernel_size=(5, 5), stride=(1, 1), padding=(2, 2), groups=2304, bias=False)\n",
       "            (1): BatchNorm2d(2304, eps=0.001, momentum=0.01, affine=True, track_running_stats=True)\n",
       "            (2): SiLU(inplace=True)\n",
       "          )\n",
       "          (2): SqueezeExcitation(\n",
       "            (avgpool): AdaptiveAvgPool2d(output_size=1)\n",
       "            (fc1): Conv2d(2304, 96, kernel_size=(1, 1), stride=(1, 1))\n",
       "            (fc2): Conv2d(96, 2304, kernel_size=(1, 1), stride=(1, 1))\n",
       "            (activation): SiLU(inplace=True)\n",
       "            (scale_activation): Sigmoid()\n",
       "          )\n",
       "          (3): Conv2dNormActivation(\n",
       "            (0): Conv2d(2304, 384, kernel_size=(1, 1), stride=(1, 1), bias=False)\n",
       "            (1): BatchNorm2d(384, eps=0.001, momentum=0.01, affine=True, track_running_stats=True)\n",
       "          )\n",
       "        )\n",
       "        (stochastic_depth): StochasticDepth(p=0.16363636363636364, mode=row)\n",
       "      )\n",
       "      (8): MBConv(\n",
       "        (block): Sequential(\n",
       "          (0): Conv2dNormActivation(\n",
       "            (0): Conv2d(384, 2304, kernel_size=(1, 1), stride=(1, 1), bias=False)\n",
       "            (1): BatchNorm2d(2304, eps=0.001, momentum=0.01, affine=True, track_running_stats=True)\n",
       "            (2): SiLU(inplace=True)\n",
       "          )\n",
       "          (1): Conv2dNormActivation(\n",
       "            (0): Conv2d(2304, 2304, kernel_size=(5, 5), stride=(1, 1), padding=(2, 2), groups=2304, bias=False)\n",
       "            (1): BatchNorm2d(2304, eps=0.001, momentum=0.01, affine=True, track_running_stats=True)\n",
       "            (2): SiLU(inplace=True)\n",
       "          )\n",
       "          (2): SqueezeExcitation(\n",
       "            (avgpool): AdaptiveAvgPool2d(output_size=1)\n",
       "            (fc1): Conv2d(2304, 96, kernel_size=(1, 1), stride=(1, 1))\n",
       "            (fc2): Conv2d(96, 2304, kernel_size=(1, 1), stride=(1, 1))\n",
       "            (activation): SiLU(inplace=True)\n",
       "            (scale_activation): Sigmoid()\n",
       "          )\n",
       "          (3): Conv2dNormActivation(\n",
       "            (0): Conv2d(2304, 384, kernel_size=(1, 1), stride=(1, 1), bias=False)\n",
       "            (1): BatchNorm2d(384, eps=0.001, momentum=0.01, affine=True, track_running_stats=True)\n",
       "          )\n",
       "        )\n",
       "        (stochastic_depth): StochasticDepth(p=0.1672727272727273, mode=row)\n",
       "      )\n",
       "      (9): MBConv(\n",
       "        (block): Sequential(\n",
       "          (0): Conv2dNormActivation(\n",
       "            (0): Conv2d(384, 2304, kernel_size=(1, 1), stride=(1, 1), bias=False)\n",
       "            (1): BatchNorm2d(2304, eps=0.001, momentum=0.01, affine=True, track_running_stats=True)\n",
       "            (2): SiLU(inplace=True)\n",
       "          )\n",
       "          (1): Conv2dNormActivation(\n",
       "            (0): Conv2d(2304, 2304, kernel_size=(5, 5), stride=(1, 1), padding=(2, 2), groups=2304, bias=False)\n",
       "            (1): BatchNorm2d(2304, eps=0.001, momentum=0.01, affine=True, track_running_stats=True)\n",
       "            (2): SiLU(inplace=True)\n",
       "          )\n",
       "          (2): SqueezeExcitation(\n",
       "            (avgpool): AdaptiveAvgPool2d(output_size=1)\n",
       "            (fc1): Conv2d(2304, 96, kernel_size=(1, 1), stride=(1, 1))\n",
       "            (fc2): Conv2d(96, 2304, kernel_size=(1, 1), stride=(1, 1))\n",
       "            (activation): SiLU(inplace=True)\n",
       "            (scale_activation): Sigmoid()\n",
       "          )\n",
       "          (3): Conv2dNormActivation(\n",
       "            (0): Conv2d(2304, 384, kernel_size=(1, 1), stride=(1, 1), bias=False)\n",
       "            (1): BatchNorm2d(384, eps=0.001, momentum=0.01, affine=True, track_running_stats=True)\n",
       "          )\n",
       "        )\n",
       "        (stochastic_depth): StochasticDepth(p=0.17090909090909093, mode=row)\n",
       "      )\n",
       "      (10): MBConv(\n",
       "        (block): Sequential(\n",
       "          (0): Conv2dNormActivation(\n",
       "            (0): Conv2d(384, 2304, kernel_size=(1, 1), stride=(1, 1), bias=False)\n",
       "            (1): BatchNorm2d(2304, eps=0.001, momentum=0.01, affine=True, track_running_stats=True)\n",
       "            (2): SiLU(inplace=True)\n",
       "          )\n",
       "          (1): Conv2dNormActivation(\n",
       "            (0): Conv2d(2304, 2304, kernel_size=(5, 5), stride=(1, 1), padding=(2, 2), groups=2304, bias=False)\n",
       "            (1): BatchNorm2d(2304, eps=0.001, momentum=0.01, affine=True, track_running_stats=True)\n",
       "            (2): SiLU(inplace=True)\n",
       "          )\n",
       "          (2): SqueezeExcitation(\n",
       "            (avgpool): AdaptiveAvgPool2d(output_size=1)\n",
       "            (fc1): Conv2d(2304, 96, kernel_size=(1, 1), stride=(1, 1))\n",
       "            (fc2): Conv2d(96, 2304, kernel_size=(1, 1), stride=(1, 1))\n",
       "            (activation): SiLU(inplace=True)\n",
       "            (scale_activation): Sigmoid()\n",
       "          )\n",
       "          (3): Conv2dNormActivation(\n",
       "            (0): Conv2d(2304, 384, kernel_size=(1, 1), stride=(1, 1), bias=False)\n",
       "            (1): BatchNorm2d(384, eps=0.001, momentum=0.01, affine=True, track_running_stats=True)\n",
       "          )\n",
       "        )\n",
       "        (stochastic_depth): StochasticDepth(p=0.17454545454545456, mode=row)\n",
       "      )\n",
       "      (11): MBConv(\n",
       "        (block): Sequential(\n",
       "          (0): Conv2dNormActivation(\n",
       "            (0): Conv2d(384, 2304, kernel_size=(1, 1), stride=(1, 1), bias=False)\n",
       "            (1): BatchNorm2d(2304, eps=0.001, momentum=0.01, affine=True, track_running_stats=True)\n",
       "            (2): SiLU(inplace=True)\n",
       "          )\n",
       "          (1): Conv2dNormActivation(\n",
       "            (0): Conv2d(2304, 2304, kernel_size=(5, 5), stride=(1, 1), padding=(2, 2), groups=2304, bias=False)\n",
       "            (1): BatchNorm2d(2304, eps=0.001, momentum=0.01, affine=True, track_running_stats=True)\n",
       "            (2): SiLU(inplace=True)\n",
       "          )\n",
       "          (2): SqueezeExcitation(\n",
       "            (avgpool): AdaptiveAvgPool2d(output_size=1)\n",
       "            (fc1): Conv2d(2304, 96, kernel_size=(1, 1), stride=(1, 1))\n",
       "            (fc2): Conv2d(96, 2304, kernel_size=(1, 1), stride=(1, 1))\n",
       "            (activation): SiLU(inplace=True)\n",
       "            (scale_activation): Sigmoid()\n",
       "          )\n",
       "          (3): Conv2dNormActivation(\n",
       "            (0): Conv2d(2304, 384, kernel_size=(1, 1), stride=(1, 1), bias=False)\n",
       "            (1): BatchNorm2d(384, eps=0.001, momentum=0.01, affine=True, track_running_stats=True)\n",
       "          )\n",
       "        )\n",
       "        (stochastic_depth): StochasticDepth(p=0.1781818181818182, mode=row)\n",
       "      )\n",
       "      (12): MBConv(\n",
       "        (block): Sequential(\n",
       "          (0): Conv2dNormActivation(\n",
       "            (0): Conv2d(384, 2304, kernel_size=(1, 1), stride=(1, 1), bias=False)\n",
       "            (1): BatchNorm2d(2304, eps=0.001, momentum=0.01, affine=True, track_running_stats=True)\n",
       "            (2): SiLU(inplace=True)\n",
       "          )\n",
       "          (1): Conv2dNormActivation(\n",
       "            (0): Conv2d(2304, 2304, kernel_size=(5, 5), stride=(1, 1), padding=(2, 2), groups=2304, bias=False)\n",
       "            (1): BatchNorm2d(2304, eps=0.001, momentum=0.01, affine=True, track_running_stats=True)\n",
       "            (2): SiLU(inplace=True)\n",
       "          )\n",
       "          (2): SqueezeExcitation(\n",
       "            (avgpool): AdaptiveAvgPool2d(output_size=1)\n",
       "            (fc1): Conv2d(2304, 96, kernel_size=(1, 1), stride=(1, 1))\n",
       "            (fc2): Conv2d(96, 2304, kernel_size=(1, 1), stride=(1, 1))\n",
       "            (activation): SiLU(inplace=True)\n",
       "            (scale_activation): Sigmoid()\n",
       "          )\n",
       "          (3): Conv2dNormActivation(\n",
       "            (0): Conv2d(2304, 384, kernel_size=(1, 1), stride=(1, 1), bias=False)\n",
       "            (1): BatchNorm2d(384, eps=0.001, momentum=0.01, affine=True, track_running_stats=True)\n",
       "          )\n",
       "        )\n",
       "        (stochastic_depth): StochasticDepth(p=0.18181818181818182, mode=row)\n",
       "      )\n",
       "    )\n",
       "    (7): Sequential(\n",
       "      (0): MBConv(\n",
       "        (block): Sequential(\n",
       "          (0): Conv2dNormActivation(\n",
       "            (0): Conv2d(384, 2304, kernel_size=(1, 1), stride=(1, 1), bias=False)\n",
       "            (1): BatchNorm2d(2304, eps=0.001, momentum=0.01, affine=True, track_running_stats=True)\n",
       "            (2): SiLU(inplace=True)\n",
       "          )\n",
       "          (1): Conv2dNormActivation(\n",
       "            (0): Conv2d(2304, 2304, kernel_size=(3, 3), stride=(1, 1), padding=(1, 1), groups=2304, bias=False)\n",
       "            (1): BatchNorm2d(2304, eps=0.001, momentum=0.01, affine=True, track_running_stats=True)\n",
       "            (2): SiLU(inplace=True)\n",
       "          )\n",
       "          (2): SqueezeExcitation(\n",
       "            (avgpool): AdaptiveAvgPool2d(output_size=1)\n",
       "            (fc1): Conv2d(2304, 96, kernel_size=(1, 1), stride=(1, 1))\n",
       "            (fc2): Conv2d(96, 2304, kernel_size=(1, 1), stride=(1, 1))\n",
       "            (activation): SiLU(inplace=True)\n",
       "            (scale_activation): Sigmoid()\n",
       "          )\n",
       "          (3): Conv2dNormActivation(\n",
       "            (0): Conv2d(2304, 640, kernel_size=(1, 1), stride=(1, 1), bias=False)\n",
       "            (1): BatchNorm2d(640, eps=0.001, momentum=0.01, affine=True, track_running_stats=True)\n",
       "          )\n",
       "        )\n",
       "        (stochastic_depth): StochasticDepth(p=0.18545454545454548, mode=row)\n",
       "      )\n",
       "      (1): MBConv(\n",
       "        (block): Sequential(\n",
       "          (0): Conv2dNormActivation(\n",
       "            (0): Conv2d(640, 3840, kernel_size=(1, 1), stride=(1, 1), bias=False)\n",
       "            (1): BatchNorm2d(3840, eps=0.001, momentum=0.01, affine=True, track_running_stats=True)\n",
       "            (2): SiLU(inplace=True)\n",
       "          )\n",
       "          (1): Conv2dNormActivation(\n",
       "            (0): Conv2d(3840, 3840, kernel_size=(3, 3), stride=(1, 1), padding=(1, 1), groups=3840, bias=False)\n",
       "            (1): BatchNorm2d(3840, eps=0.001, momentum=0.01, affine=True, track_running_stats=True)\n",
       "            (2): SiLU(inplace=True)\n",
       "          )\n",
       "          (2): SqueezeExcitation(\n",
       "            (avgpool): AdaptiveAvgPool2d(output_size=1)\n",
       "            (fc1): Conv2d(3840, 160, kernel_size=(1, 1), stride=(1, 1))\n",
       "            (fc2): Conv2d(160, 3840, kernel_size=(1, 1), stride=(1, 1))\n",
       "            (activation): SiLU(inplace=True)\n",
       "            (scale_activation): Sigmoid()\n",
       "          )\n",
       "          (3): Conv2dNormActivation(\n",
       "            (0): Conv2d(3840, 640, kernel_size=(1, 1), stride=(1, 1), bias=False)\n",
       "            (1): BatchNorm2d(640, eps=0.001, momentum=0.01, affine=True, track_running_stats=True)\n",
       "          )\n",
       "        )\n",
       "        (stochastic_depth): StochasticDepth(p=0.1890909090909091, mode=row)\n",
       "      )\n",
       "      (2): MBConv(\n",
       "        (block): Sequential(\n",
       "          (0): Conv2dNormActivation(\n",
       "            (0): Conv2d(640, 3840, kernel_size=(1, 1), stride=(1, 1), bias=False)\n",
       "            (1): BatchNorm2d(3840, eps=0.001, momentum=0.01, affine=True, track_running_stats=True)\n",
       "            (2): SiLU(inplace=True)\n",
       "          )\n",
       "          (1): Conv2dNormActivation(\n",
       "            (0): Conv2d(3840, 3840, kernel_size=(3, 3), stride=(1, 1), padding=(1, 1), groups=3840, bias=False)\n",
       "            (1): BatchNorm2d(3840, eps=0.001, momentum=0.01, affine=True, track_running_stats=True)\n",
       "            (2): SiLU(inplace=True)\n",
       "          )\n",
       "          (2): SqueezeExcitation(\n",
       "            (avgpool): AdaptiveAvgPool2d(output_size=1)\n",
       "            (fc1): Conv2d(3840, 160, kernel_size=(1, 1), stride=(1, 1))\n",
       "            (fc2): Conv2d(160, 3840, kernel_size=(1, 1), stride=(1, 1))\n",
       "            (activation): SiLU(inplace=True)\n",
       "            (scale_activation): Sigmoid()\n",
       "          )\n",
       "          (3): Conv2dNormActivation(\n",
       "            (0): Conv2d(3840, 640, kernel_size=(1, 1), stride=(1, 1), bias=False)\n",
       "            (1): BatchNorm2d(640, eps=0.001, momentum=0.01, affine=True, track_running_stats=True)\n",
       "          )\n",
       "        )\n",
       "        (stochastic_depth): StochasticDepth(p=0.19272727272727275, mode=row)\n",
       "      )\n",
       "      (3): MBConv(\n",
       "        (block): Sequential(\n",
       "          (0): Conv2dNormActivation(\n",
       "            (0): Conv2d(640, 3840, kernel_size=(1, 1), stride=(1, 1), bias=False)\n",
       "            (1): BatchNorm2d(3840, eps=0.001, momentum=0.01, affine=True, track_running_stats=True)\n",
       "            (2): SiLU(inplace=True)\n",
       "          )\n",
       "          (1): Conv2dNormActivation(\n",
       "            (0): Conv2d(3840, 3840, kernel_size=(3, 3), stride=(1, 1), padding=(1, 1), groups=3840, bias=False)\n",
       "            (1): BatchNorm2d(3840, eps=0.001, momentum=0.01, affine=True, track_running_stats=True)\n",
       "            (2): SiLU(inplace=True)\n",
       "          )\n",
       "          (2): SqueezeExcitation(\n",
       "            (avgpool): AdaptiveAvgPool2d(output_size=1)\n",
       "            (fc1): Conv2d(3840, 160, kernel_size=(1, 1), stride=(1, 1))\n",
       "            (fc2): Conv2d(160, 3840, kernel_size=(1, 1), stride=(1, 1))\n",
       "            (activation): SiLU(inplace=True)\n",
       "            (scale_activation): Sigmoid()\n",
       "          )\n",
       "          (3): Conv2dNormActivation(\n",
       "            (0): Conv2d(3840, 640, kernel_size=(1, 1), stride=(1, 1), bias=False)\n",
       "            (1): BatchNorm2d(640, eps=0.001, momentum=0.01, affine=True, track_running_stats=True)\n",
       "          )\n",
       "        )\n",
       "        (stochastic_depth): StochasticDepth(p=0.19636363636363638, mode=row)\n",
       "      )\n",
       "    )\n",
       "    (8): Conv2dNormActivation(\n",
       "      (0): Conv2d(640, 2560, kernel_size=(1, 1), stride=(1, 1), bias=False)\n",
       "      (1): BatchNorm2d(2560, eps=0.001, momentum=0.01, affine=True, track_running_stats=True)\n",
       "      (2): SiLU(inplace=True)\n",
       "    )\n",
       "  )\n",
       "  (avgpool): AdaptiveAvgPool2d(output_size=1)\n",
       "  (classifier): Sequential(\n",
       "    (0): Dropout(p=0.5, inplace=True)\n",
       "    (1): Linear(in_features=2560, out_features=1000, bias=True)\n",
       "  )\n",
       ")"
      ]
     },
     "execution_count": 21,
     "metadata": {},
     "output_type": "execute_result"
    }
   ],
   "source": [
    "efficient_net = models.efficientnet_b7(pretrained=True)\n",
    "efficient_net.eval()\n",
    "# torch.save(efficient_net.state_dict, 'Data/Model/EfficientNetB7.pth')"
   ]
  },
  {
   "attachments": {},
   "cell_type": "markdown",
   "metadata": {},
   "source": [
    "Saving image addresses in list, and reading ImageNet Classes"
   ]
  },
  {
   "cell_type": "code",
   "execution_count": 55,
   "metadata": {},
   "outputs": [],
   "source": [
    "transform = transforms.Compose([\n",
    "    transforms.ToPILImage(),\n",
    "    transforms.Resize(256),\n",
    "    transforms.CenterCrop(224),\n",
    "    transforms.ToTensor(),\n",
    "    transforms.Normalize(mean=[.485, .456, .406],\n",
    "                         std=[.229, .224, .225])\n",
    "])\n",
    "image_directory = 'Data/Images'\n",
    "\n",
    "# reading ImageNet Classes\n",
    "with open('Data/ilsvrc2012_wordnet_lemmas.txt', 'r') as f:\n",
    "    categories = [s.strip() for s in f.readlines()]"
   ]
  },
  {
   "attachments": {},
   "cell_type": "markdown",
   "metadata": {},
   "source": [
    "Iterating all the images and classifying them."
   ]
  },
  {
   "cell_type": "code",
   "execution_count": 56,
   "metadata": {},
   "outputs": [
    {
     "name": "stderr",
     "output_type": "stream",
     "text": [
      "100%|██████████| 911/911 [00:01<00:00, 813.13it/s]\n"
     ]
    }
   ],
   "source": [
    "image_directory = 'Data/Images'\n",
    "\n",
    "try:\n",
    "    image_object_df = pd.read_csv('Data/images_object.csv')\n",
    "    image_object_df.drop(columns=['Unnamed: 0'], inplace=True)\n",
    "except:\n",
    "    image_object_df = pd.DataFrame(columns=['shortcode','object'])\n",
    "\n",
    "for image_filename in tqdm(listdir(image_directory)):\n",
    "    if image_object_df['shortcode'].str.contains(f'{image_filename.split(\".\")[0]}').any():\n",
    "        # picture already classified, skipping\n",
    "        continue\n",
    "    # loading image\n",
    "    image_address = f'{image_directory}/{image_filename}'\n",
    "    image = cv2.imread(image_address)\n",
    "    # preprocessing image to be suitable to feed to the network\n",
    "    rgb_image = cv2.cvtColor(image, cv2.COLOR_BGR2RGB)\n",
    "    input_tensor = transform(image)\n",
    "    input_batch = input_tensor.unsqueeze(0)\n",
    "    with torch.no_grad():\n",
    "        output = efficient_net(input_batch)\n",
    "    detected_object = torch.nn.functional.softmax(output[0], dim=0)\n",
    "    prob, cat = torch.topk(detected_object, 1)\n",
    "    image_object_df = image_object_df.append({\n",
    "        'shortcode': image_filename.split('.')[0],\n",
    "        'object': categories[cat[0]]\n",
    "    }, ignore_index=True)\n",
    "image_object_df.to_csv('Data/images_object.csv')"
   ]
  },
  {
   "attachments": {},
   "cell_type": "markdown",
   "metadata": {},
   "source": [
    "Now that we have populated images object, dataframe, we can add the records to the posts dataset."
   ]
  },
  {
   "cell_type": "code",
   "execution_count": 58,
   "metadata": {},
   "outputs": [],
   "source": [
    "posts_df = pd.merge(posts_df, image_object_df, on='shortcode')\n",
    "posts_df.to_csv('Data/posts.csv')"
   ]
  },
  {
   "attachments": {},
   "cell_type": "markdown",
   "metadata": {},
   "source": [
    "TODO:\n",
    "\n",
    "- Edit code to remove utilizing object detection of instagram.\n",
    "- creating pipeline for using this new method.\n",
    "- creating model XGBoost based on this feature"
   ]
  },
  {
   "attachments": {},
   "cell_type": "markdown",
   "metadata": {},
   "source": [
    "## Data Preparation\n",
    "\n",
    "In the next stage of the CRISP-DM methodology, we have to clean our data for the training phase. Please have in mind that since the insight generation is not part of the competition, we will not undergo an EDA analysis, but an EDA analysis is highly suggested at this stage for any kind of endeavor."
   ]
  },
  {
   "cell_type": "code",
   "execution_count": 59,
   "metadata": {},
   "outputs": [],
   "source": [
    "main_accounts_df = pd.read_csv('Data/accounts.csv')\n",
    "main_posts_df = pd.read_csv('Data/posts.csv')\n",
    "main_accounts_df.drop(columns=['Unnamed: 0'], inplace=True)\n",
    "main_posts_df.drop(columns=['Unnamed: 0'], inplace=True)"
   ]
  },
  {
   "attachments": {},
   "cell_type": "markdown",
   "metadata": {},
   "source": [
    "First let's process the accounts dataframe:"
   ]
  },
  {
   "cell_type": "code",
   "execution_count": 60,
   "metadata": {},
   "outputs": [
    {
     "name": "stdout",
     "output_type": "stream",
     "text": [
      "Number of missing values for each feature:\n",
      "id                    0\n",
      "username              0\n",
      "category_name        19\n",
      "follower              0\n",
      "following             0\n",
      "ar_effect             0\n",
      "type_business         0\n",
      "type_professional     0\n",
      "verified              0\n",
      "reel_count            0\n",
      "reel_avg_view         0\n",
      "reel_avg_comment      0\n",
      "reel_avg_like         0\n",
      "reel_avg_duration     0\n",
      "reel_frequency        0\n",
      "media_count           0\n",
      "media_avg_comment     0\n",
      "media_avg_like        0\n",
      "media_frequency       0\n",
      "dtype: int64\n"
     ]
    }
   ],
   "source": [
    "print('Number of missing values for each feature:')\n",
    "print(f'{main_accounts_df.isna().sum()}')"
   ]
  },
  {
   "attachments": {},
   "cell_type": "markdown",
   "metadata": {},
   "source": [
    "As you can see in the cell below, the only feature that has missing value is **Category**. We will replace those missing values with \"Unknown\"."
   ]
  },
  {
   "cell_type": "code",
   "execution_count": 61,
   "metadata": {},
   "outputs": [],
   "source": [
    "main_accounts_df['category_name'].fillna('Unknown', inplace=True)"
   ]
  },
  {
   "attachments": {},
   "cell_type": "markdown",
   "metadata": {},
   "source": [
    "Another data cleaning task that we must do to increase the accuracy and generalizability, is to process the categorical variables. Since we have a good chunk of categorical features in this dataset, we must do this task with careful consideration. There is always a debate regarding the type of encoding the categorical variables, should we use One Hot Encoding (OHE) or Label Encoding (LE). The rule of thumb for this debate rests in cardinality. If the cardinality of the feature is high, we must use label encoding, but if the cardinality is low, we should use label encoding. Let's Explore the cardinality of categorical features in the dataset."
   ]
  },
  {
   "cell_type": "code",
   "execution_count": 62,
   "metadata": {},
   "outputs": [
    {
     "name": "stdout",
     "output_type": "stream",
     "text": [
      "Cardinality of category_name:\t\t 42\n",
      "Cardinality of ar_effect:\t\t 2\n",
      "Cardinality of type_business:\t\t 2\n",
      "Cardinality of type_professional:\t 2\n",
      "Cardinality of verified:\t\t 2\n"
     ]
    }
   ],
   "source": [
    "print(f'Cardinality of category_name:\\t\\t {len(main_accounts_df[\"category_name\"].unique())}')\n",
    "print(f'Cardinality of ar_effect:\\t\\t {len(main_accounts_df[\"ar_effect\"].unique())}')\n",
    "print(f'Cardinality of type_business:\\t\\t {len(main_accounts_df[\"type_business\"].unique())}')\n",
    "print(f'Cardinality of type_professional:\\t {len(main_accounts_df[\"type_professional\"].unique())}')\n",
    "print(f'Cardinality of verified:\\t\\t {len(main_accounts_df[\"verified\"].unique())}')"
   ]
  },
  {
   "attachments": {},
   "cell_type": "markdown",
   "metadata": {},
   "source": [
    "As you can see in the cell above, the only feature with high cardinality is **category_name** and other features are binary categorical features, thus have the low cardinality.\n",
    "\n",
    "***But***, at the time of writing this code, **XGBoost 1.7** had been published, since this version of XGBoost, it can works with categorical variables without the need of manual encoding, thus we won't encode the categorical variables."
   ]
  },
  {
   "attachments": {},
   "cell_type": "markdown",
   "metadata": {},
   "source": [
    "Since we will use the XGBoost and tree-based models for this competetition, feature normalization won't improve the model, thus we will skip the normalization.\n",
    "\n",
    "Now we can process the posts dataframe:\n",
    "\n",
    "First thing we can remove `GraphVideo` type of posts from the dataset since reels on the Instagram don't have detected objects since they are videos."
   ]
  },
  {
   "cell_type": "code",
   "execution_count": 63,
   "metadata": {},
   "outputs": [],
   "source": [
    "main_posts_df = main_posts_df.drop(main_posts_df[main_posts_df['post_type'] == 'GraphVideo'].index)\n",
    "main_posts_df = main_posts_df.reset_index(drop=True)"
   ]
  },
  {
   "attachments": {},
   "cell_type": "markdown",
   "metadata": {},
   "source": [
    "Now after all the cleaning, I can make the main dataset for training the model. To create the main dataset, we must add the account information which is present in the **main_accounts_df** to each corresponding record in **main_posts_df**."
   ]
  },
  {
   "cell_type": "code",
   "execution_count": 64,
   "metadata": {},
   "outputs": [],
   "source": [
    "df = main_posts_df.merge(main_accounts_df, on='username')\n",
    "df.to_csv('Data/main_dataset.csv',)"
   ]
  },
  {
   "attachments": {},
   "cell_type": "markdown",
   "metadata": {},
   "source": [
    "After all of these endeavors, we can train the model. To make the workspace more clear, we will train the model explore it, and visualize it in another notebook.\n",
    "\n",
    "----\n",
    "`@Ramin F.` | [Email](ferdos.ramin@gmail.com) | [LinkedIn](https://www.linkedin.com/in/raminferdos/) | [GitHub](https://github.com/SimplyRamin) | [Personal Portfolio](https://simplyramin.github.io/)"
   ]
  }
 ],
 "metadata": {
  "kernelspec": {
   "display_name": "base",
   "language": "python",
   "name": "python3"
  },
  "language_info": {
   "codemirror_mode": {
    "name": "ipython",
    "version": 3
   },
   "file_extension": ".py",
   "mimetype": "text/x-python",
   "name": "python",
   "nbconvert_exporter": "python",
   "pygments_lexer": "ipython3",
   "version": "3.10.10"
  },
  "orig_nbformat": 4
 },
 "nbformat": 4,
 "nbformat_minor": 2
}
