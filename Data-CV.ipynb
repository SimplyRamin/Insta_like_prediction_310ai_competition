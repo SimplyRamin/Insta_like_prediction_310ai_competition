{
 "cells": [
  {
   "attachments": {},
   "cell_type": "markdown",
   "metadata": {},
   "source": [
    "Useful link for progressing:\n",
    "\n",
    "- [pre-trained models for beginners](https://learnopencv.com/pytorch-for-beginners-image-classification-using-pre-trained-models/)\n",
    "- <strong> [PyTorch Pretrained EfficientNet Model Image Classification](https://debuggercafe.com/pytorch-pretrained-efficientnet-model-image-classification/)</strong>\n",
    "- [PyTorch image classification with pre-trained networks](https://pyimagesearch.com/2021/07/26/pytorch-image-classification-with-pre-trained-networks/) \n",
    "- [How to modify a pretrained model](https://discuss.pytorch.org/t/how-to-modify-a-pretrained-model/60509)\n",
    "\n",
    "---\n"
   ]
  },
  {
   "attachments": {},
   "cell_type": "markdown",
   "metadata": {},
   "source": [
    "# Instagram Like Prediction @310ai Competition - Data Understanding, Collection & Preparation\n",
    "\n",
    "This notebook is for the competition posted by the @310ai on 15th of April. I will approach the competition as a project following the CRISP-DM methodology and try to explain the approach in every steps of the way.\n",
    "\n",
    "The main and short summary of this competition is **\"given an Instagram post predict the number of likes\"**."
   ]
  },
  {
   "attachments": {},
   "cell_type": "markdown",
   "metadata": {},
   "source": [
    "## Business Understanding\n",
    "First thing first, there are some important points that we have to consider which are forced by the Instagram. This points will result in some features that are effective in percision of the model. In the following section we will discuss them further.\n",
    "\n",
    "***Are we try to predict the number of likes for an Instagram post of our own or not?***\n",
    "\n",
    "This question might seem a little odd, but let me explain it. Each Instagram post consists of some metrics that show the performance of the post among the users. We will call these **\"Performance Metrics\"**. Some of these performance metrics such as amount of like, amount of columns, caption and etc, are publicly availble, in other words, any user on the Instagram can see them.\n",
    "\n",
    "But some of the performance metrics, are not publicly available, in order to see them, we need to authenticate as the owner of the page (will discuss about this part further in this section.), some of these private performance metrics are, amount of share, amount of save, amount of reach, amount of profile visits, amount of follows, amount of impression and etc.\n",
    "\n",
    "Obviously, if we try to predict the amount of like for a page that we don't own, we can not access these features, we will go for a page that we don't have access to it for this competition.\n",
    "\n",
    "Another to have in mind is that, since the post we are going to predict the amount of like for it, is not actually existing, the amount of performance metrics can't be predicted preciesly. In other words, how we can estimate the amount of comments a hypothetical post might recieve if we don't post it actually. Due to this abstraction, the performance metrics for each post is not a good feature for this deed.\n",
    "\n",
    "In the further section I will try to address the questions of the competitions in combination of code and text. Please have in mind to follow the chosen methodology I might change the order of questions."
   ]
  },
  {
   "attachments": {},
   "cell_type": "markdown",
   "metadata": {},
   "source": [
    "## Data Requirements and Data Collection\n",
    "\n",
    "In this section I will tackle the questions mainly related to these parts of the challenge. As we discussed above some useful features introduced that might have effect on the precision of the prediction. But there are some other features, further I will point to some features that are related to the page of the published post.\n",
    "\n",
    "### What Features you used?\n",
    "\n",
    "Each and every page on the Instagram has some features that will distinguish it from other pages, some of these features are like the features discussed above, performance metrics, and some of them are identifiers. Some of the identifiers features are:\n",
    "- `id`: a unique id that is allocated by the Instagram.\n",
    "- `username`: a unique username that each user when created the page chose.\n",
    "\n",
    "Also there are some other features that we will investigate, these features are:\n",
    "- `category_name`: each page based on the published content and some other traits, are categorized into different categories, for instance, Blogger, Personal Blog, Design & Fashion, chef and etc.\n",
    "- `follower`: amount of followers the page has.\n",
    "- `following`: amount of pages that the target page is following.\n",
    "- `ar_effect`: whether the page has published ar effects in the Instagram or not.\n",
    "- `type_business`: whether the page identified itself as business account or not.\n",
    "- `type_professional`: whether the page identified itself as professional account or not.\n",
    "- `verified`: whether the page is verified or not.\n",
    "- `reel_count`: amount of igtvs posted by the page.\n",
    "- `media_count`: amount of posts, posted by the page.\n",
    "\n",
    "There are some features that are collected organically but can be calculated in the process of feature engineering. Some of them are:\n",
    "- `reel_view`: The average view of igtvs posted by the page.\n",
    "- `reel_comment`: The average of comments igtvs acquired.\n",
    "- `reel_like`: The average of likes igtvs got.\n",
    "- `reel_duration`: The average of igtv's duration posted by the page.\n",
    "- `reel_frequency`: How often the page have posted the reels.\n",
    "- `media_avg_view`: The average view of media posted by the page.\n",
    "- `media_avg_comment`: The average of comments media acquired.\n",
    "- `media_avg_like`: The average of likes media got.\n",
    "- `media_avg_duration`: The average of media's duration posted by the page.\n",
    "- `media_frequency`: How often the page have posted the media.\n",
    "\n",
    "Last but not least, is the content of the image itself. There are multiple ways to have the content of the image as feature. For instance we can have a classifier network to detect what objects are present in the image and pass them to the like predictor model.\n",
    "\n",
    "As you are aware, choosing the best strategy requires some tests, such as A/B tests and trial and error ones, for now I will chose the strategy which will be discussed further that is fastest and heuristic.\n",
    "\n",
    "I will use a heuristic approach regarding the image content, I will use a pre-trained image classifier, `[NAME OF ARCHECTURE USED]`, but remove the last layer and pass an image vector created by network as a feature to a classifier."
   ]
  },
  {
   "attachments": {},
   "cell_type": "markdown",
   "metadata": {},
   "source": [
    "### How do we collect the data?\n",
    "\n",
    "As we discussed above, there are different kind of features, and each group can be collected via different methods.\n",
    "\n",
    "The Instagram provides an API for developers, but due some restrictions and limitations, this API can not provide us the data that we seek. Based on this facts, we will use a heuristic way to collect the data. There will be 2 approaches regarding the matter. one approach which is not very tech-friendly (:D) is to create a scrapper with Selenium page in python to scrap the information we need. Selenium is a website testing library in python that can also be utilized into a webscrapper. This approach has another limitation excluse for users like me, since I'm in Iran right now, access to the Instagram is restricted and we have to use VPNs and geo-restriction bypasses, these tools add another layer of challenge and additional bottleneck. Another approach that I try to utilize, is to use the graphql endpoints to recieve the information needed in JSON format. Eventhough still use of VPNs and similar tools is needed in this approach, but unlike the Selenium this approach doesn't require to load the GUI of Instagram, its much more faster and eligble in a pipeline."
   ]
  },
  {
   "attachments": {},
   "cell_type": "markdown",
   "metadata": {},
   "source": [
    "- end point for user information:\n",
    "`https://www.instagram.com/{username}/?__a=1&__d=dis\n",
    "`\n",
    "\n",
    "- end point for post information:\n",
    "`https://www.instagram.com/p/{post_ID}/?__a=1&__d=dis\n",
    "`\n",
    "\n",
    "getting training data for the model:\n",
    "- each json response of an account gives 12 latest post\n",
    "information:\n",
    "\n",
    "  - Alt text information is here: `data['graphql']['user']['edge_owner_to_timeline_media']['edges'][0]['node']['accessibility_caption']`\n",
    "    - each node has type, `GraphImage` is posts which have alt text.\n",
    "    - `GraphVideo` doesn't have alt text.\n",
    "    - `GraphSideCar` is carousel and have alt text.\n",
    "  - number of comments is here: `data['graphql']['user']['edge_owner_to_timeline_media']['edges'][0]['node']['edge_media_to_comment']['count']`\n",
    "  - number of likes is here: `data['graphql']['user']['edge_owner_to_timeline_media']['edges'][0]['node']['edge_liked_by']['count']`\n"
   ]
  },
  {
   "cell_type": "code",
   "execution_count": 3,
   "metadata": {},
   "outputs": [
    {
     "name": "stderr",
     "output_type": "stream",
     "text": [
      "c:\\Users\\Ramin\\anaconda3\\lib\\site-packages\\torchvision\\models\\_utils.py:208: UserWarning: The parameter 'pretrained' is deprecated since 0.13 and will be removed in 0.15, please use 'weights' instead.\n",
      "  warnings.warn(\n",
      "c:\\Users\\Ramin\\anaconda3\\lib\\site-packages\\torchvision\\models\\_utils.py:223: UserWarning: Arguments other than a weight enum or `None` for 'weights' are deprecated since 0.13 and will be removed in 0.15. The current behavior is equivalent to passing `weights=EfficientNet_B7_Weights.IMAGENET1K_V1`. You can also use `weights=EfficientNet_B7_Weights.DEFAULT` to get the most up-to-date weights.\n",
      "  warnings.warn(msg)\n"
     ]
    }
   ],
   "source": [
    "import warnings\n",
    "warnings.simplefilter(action='ignore', category=FutureWarning)\n",
    "\n",
    "import requests\n",
    "from datetime import datetime\n",
    "import json\n",
    "import re\n",
    "import numpy as np\n",
    "import pandas as pd\n",
    "from tqdm import tqdm\n",
    "import time\n",
    "from os import path, listdir\n",
    "import torch\n",
    "import torch.nn as nn\n",
    "import torch.optim as optim\n",
    "from torch.optim import lr_scheduler\n",
    "import torchvision\n",
    "from torchvision import datasets, models, transforms\n",
    "import cv2\n",
    "from rich.console import Console\n",
    "from rich.theme import Theme\n",
    "\n",
    "ramin_theme = Theme({\n",
    "    'success': 'italic bright_green',\n",
    "    'error': 'bold red',\n",
    "    'progress': 'italic yellow',\n",
    "    'header': 'bold cyan',\n",
    "})\n",
    "console = Console(theme=ramin_theme)\n",
    "\n",
    "\n",
    "# reading credentials for loging into the instagram account\n",
    "with open('credentials.json') as f:\n",
    "    creds = json.load(f)\n",
    "    login_username = creds['username']\n",
    "    login_password = creds['password']\n",
    "\n",
    "# reading accounts lists for gathering training data.\n",
    "with open('Data/top_100_follower.txt') as f:\n",
    "    lines = f.readlines()\n",
    "top_100_followers = lines[0].split(',')\n",
    "\n",
    "with open('Data/top_100_posts.txt') as f:\n",
    "    lines = f.readlines()\n",
    "top_100_posts = lines[0].split(',')\n",
    "\n",
    "# Loading the pretrained model for object classification\n",
    "efficient_net = models.efficientnet_b7(pretrained=True)\n",
    "efficient_net.eval()\n",
    "\n",
    "# Preparing a standard transformation and categories of ImageNet\n",
    "transform = transforms.Compose([\n",
    "    transforms.ToPILImage(),\n",
    "    transforms.Resize(256),\n",
    "    transforms.CenterCrop(224),\n",
    "    transforms.ToTensor(),\n",
    "    transforms.Normalize(mean=[.485, .456, .406],\n",
    "                         std=[.229, .224, .225])\n",
    "])\n",
    "image_directory = 'Data/Images'\n",
    "\n",
    "# reading ImageNet Classes\n",
    "with open('Data/ilsvrc2012_wordnet_lemmas.txt', 'r') as f:\n",
    "    categories = [s.strip() for s in f.readlines()]\n",
    "\n",
    "def flatten(lst):\n",
    "    \"\"\"A helper function to flatten any dimensional python list to 1D one.\n",
    "\n",
    "    Args:\n",
    "        lst (list): multi dimension python list\n",
    "\n",
    "    Returns:\n",
    "        list: flattened list\n",
    "    \"\"\"\n",
    "    rt = []\n",
    "    for i in lst:\n",
    "        if isinstance(i,list): rt.extend(flatten(i))\n",
    "        else: rt.append(i)\n",
    "    return rt"
   ]
  },
  {
   "attachments": {},
   "cell_type": "markdown",
   "metadata": {},
   "source": [
    "#### Logging into the Instagram account\n",
    "This step is necesary for getting information of the images, since majority of information in Instagram are locked behind the authentication wall."
   ]
  },
  {
   "cell_type": "code",
   "execution_count": 6,
   "metadata": {},
   "outputs": [
    {
     "name": "stdout",
     "output_type": "stream",
     "text": [
      "login successful\n",
      "csrf_token:  salaaWSXe0gWdNp2LG6qpqPshVKyQK4D\n",
      "session_id:  1691538713%3AplARLZpi4yxjyu%3A28%3AAYdMiR7cw2ptRbaz5YwahmwnqrCCqFFTNbttzzs1MA\n"
     ]
    }
   ],
   "source": [
    "link = 'https://www.instagram.com/accounts/login/'\n",
    "login_url = 'https://www.instagram.com/accounts/login/ajax/'\n",
    "headers = {'user-agent': 'Mozilla/5.0 (Windows NT 10.0; Win64; x64) AppleWebKit/537.36 (KHTML, like Gecko) Chrome/84.0.4147.89 Safari/537.36',\n",
    "            'referer':'https://www.instagram.com/',\n",
    "            'Accept': 'text/html,application/xhtml+xml,application/xml;q=0.9,image/avif,image/webp,*/*;q=0.8',\n",
    "            'Accept-Language': 'en-US,en;q=0.5',\n",
    "            'Accept-Encoding': 'gzip, deflate, br',\n",
    "            'Connection': 'keep-alive',\n",
    "            'Upgrade-Insecure-Requests': '1',\n",
    "            'Sec-Fetch-Dest': 'document',\n",
    "            'Sec-Fetch-Mode': 'navigate',\n",
    "            'Sec-Fetch-Site': 'none',\n",
    "            'Sec-Fetch-User': '?1',\n",
    "            'TE': 'trailers'\n",
    "}\n",
    "\n",
    "\n",
    "current_time = int(datetime.now().timestamp())\n",
    "response = requests.Session().get(link, headers=headers)\n",
    "if response.ok:\n",
    "    csrf = re.findall(r'csrf_token\\\\\":\\\\\"(.*?)\\\\\"',response.text)[0]\n",
    "    username = login_username\n",
    "    password = login_password\n",
    "\n",
    "    payload = {\n",
    "        'username': username,\n",
    "        'enc_password': f'#PWD_INSTAGRAM_BROWSER:0:{current_time}:{password}',\n",
    "        'queryParams': {},\n",
    "        'optIntoOneTap': 'false',\n",
    "        'stopDeletionNonce': '',\n",
    "        'trustedDeviceRecords': '{}'\n",
    "    }\n",
    "\n",
    "    login_header = {\n",
    "        'user-agent': 'Mozilla/5.0 (Windows NT 10.0; Win64; x64) AppleWebKit/537.36 (KHTML, like Gecko) Chrome/84.0.4147.89 Safari/537.36',\n",
    "        \"X-Requested-With\": \"XMLHttpRequest\",\n",
    "        \"Referer\": \"https://www.instagram.com/accounts/login/\",\n",
    "        \"X-CSRFToken\": csrf,\n",
    "        'Accept': '*/*',\n",
    "        'Accept-Language': 'en-US,en;q=0.5',\n",
    "        'X-Instagram-AJAX': 'c6412f1b1b7b',\n",
    "        'X-IG-App-ID': '936619743392459',\n",
    "        'X-ASBD-ID': '198387',\n",
    "        'X-IG-WWW-Claim': '0',\n",
    "        'X-Requested-With': 'XMLHttpRequest',\n",
    "        'Origin': 'https://www.instagram.com',\n",
    "        'DNT': '1',\n",
    "        'Connection': 'keep-alive',\n",
    "        'Referer': 'https://www.instagram.com/accounts/login/?',\n",
    "        'Sec-Fetch-Dest': 'empty',\n",
    "        'Sec-Fetch-Mode': 'cors',\n",
    "        'Sec-Fetch-Site': 'same-origin',\n",
    "    }\n",
    "\n",
    "    login_response = requests.post(login_url, data=payload, headers=login_header)\n",
    "    json_data = json.loads(login_response.text)\n",
    "\n",
    "\n",
    "    if json_data['status'] == 'fail':\n",
    "        print(json_data['message'])\n",
    "\n",
    "    elif json_data[\"authenticated\"]:\n",
    "        print(\"login successful\")\n",
    "        cookies = login_response.cookies\n",
    "        cookie_jar = cookies.get_dict()\n",
    "        csrf_token = cookie_jar['csrftoken']\n",
    "        print(\"csrf_token: \", csrf_token)\n",
    "        session_id = cookie_jar['sessionid']\n",
    "        print(\"session_id: \", session_id)\n",
    "\n",
    "    else:\n",
    "        print(\"login failed \", login_response.text)\n",
    "else:\n",
    "    print('error')\n",
    "    print(response)"
   ]
  },
  {
   "attachments": {},
   "cell_type": "markdown",
   "metadata": {},
   "source": [
    "#### Collecting Data"
   ]
  },
  {
   "attachments": {},
   "cell_type": "markdown",
   "metadata": {},
   "source": [
    "The below cell is the main cell for collecting the data from the Instagram, since this code block is the longest block in the workspace, it's worth to discuss the parts of its structure. Please have in mind the best design pattern for this kind of task, is to create pipeline, but since this is a competition and understanding a pipeline might be difficult for reviewrs, I stick with this approach regarding the matter.\n",
    "\n",
    "First thing, I have to check whether the data is present or not, if the **accounts** and **posts** dataset are present I'm reading them, otherwise I'm creating empty dataframes for each one of them with their corresponding features. I have to read the names of the accounts I want to get their information, for the training of this model, I have selected the top 100 pages with the most followers and top 100 pages with the most published posts. I call these **accounts dataset**.\n",
    "\n",
    "For each username in the accounts dataset, I do these procedures:\n",
    "1. I check whether I had acquired that account information or no, if I had, skip that account and go to the next account.\n",
    "2. Then I send a request containing appropriate headers and previously acquired cookies from logining into the Instagram, to recieve account information. I sanity check the response to validate whether we have got the correct response or it's faulty (i.e. empty response, page got private, etc.).\n",
    "3. Previously Discussed features then are extracted from the response json and saved into their coresponding variables or lists, some of these features have to be calculated, for instance, media & reel frequency, view, like, comment, duration average and etc. These features are calculated and saved into their correspoding variables.\n",
    "4. I create a temporary dataframe for each account and add it to the main accounts dataframe.\n",
    "5. Almost the same procedure is done for the posts information.\n",
    "6. In the end, we will have 5 seconds delay between each username process, to honoring the rate limit of the Instagram."
   ]
  },
  {
   "cell_type": "code",
   "execution_count": 10,
   "metadata": {},
   "outputs": [
    {
     "name": "stderr",
     "output_type": "stream",
     "text": [
      "  0%|          | 0/200 [00:00<?, ?it/s]"
     ]
    },
    {
     "data": {
      "text/html": [
       "<pre style=\"white-space:pre;overflow-x:auto;line-height:normal;font-family:Menlo,'DejaVu Sans Mono',consolas,'Courier New',monospace\">Getting Account Information: <span style=\"color: #008080; text-decoration-color: #008080\">instagram</span>\n",
       "</pre>\n"
      ],
      "text/plain": [
       "Getting Account Information: \u001b[36minstagram\u001b[0m\n"
      ]
     },
     "metadata": {},
     "output_type": "display_data"
    },
    {
     "data": {
      "text/html": [
       "<pre style=\"white-space:pre;overflow-x:auto;line-height:normal;font-family:Menlo,'DejaVu Sans Mono',consolas,'Courier New',monospace\"><span style=\"color: #800000; text-decoration-color: #800000; font-weight: bold\">        User information already exist, skipping</span><span style=\"color: #808000; text-decoration-color: #808000; font-weight: bold\">...</span>\n",
       "</pre>\n"
      ],
      "text/plain": [
       "\u001b[1;31m \u001b[0m\u001b[1;31m       \u001b[0m\u001b[1;31mUser information already exist, skipping\u001b[0m\u001b[1;33m...\u001b[0m\n"
      ]
     },
     "metadata": {},
     "output_type": "display_data"
    },
    {
     "data": {
      "text/html": [
       "<pre style=\"white-space:pre;overflow-x:auto;line-height:normal;font-family:Menlo,'DejaVu Sans Mono',consolas,'Courier New',monospace\">Getting Account Information: <span style=\"color: #008080; text-decoration-color: #008080\">cristiano</span>\n",
       "</pre>\n"
      ],
      "text/plain": [
       "Getting Account Information: \u001b[36mcristiano\u001b[0m\n"
      ]
     },
     "metadata": {},
     "output_type": "display_data"
    },
    {
     "data": {
      "text/html": [
       "<pre style=\"white-space:pre;overflow-x:auto;line-height:normal;font-family:Menlo,'DejaVu Sans Mono',consolas,'Courier New',monospace\"><span style=\"color: #800000; text-decoration-color: #800000; font-weight: bold\">        User information already exist, skipping</span><span style=\"color: #808000; text-decoration-color: #808000; font-weight: bold\">...</span>\n",
       "</pre>\n"
      ],
      "text/plain": [
       "\u001b[1;31m \u001b[0m\u001b[1;31m       \u001b[0m\u001b[1;31mUser information already exist, skipping\u001b[0m\u001b[1;33m...\u001b[0m\n"
      ]
     },
     "metadata": {},
     "output_type": "display_data"
    },
    {
     "data": {
      "text/html": [
       "<pre style=\"white-space:pre;overflow-x:auto;line-height:normal;font-family:Menlo,'DejaVu Sans Mono',consolas,'Courier New',monospace\">Getting Account Information: <span style=\"color: #008080; text-decoration-color: #008080\">leomessi</span>\n",
       "</pre>\n"
      ],
      "text/plain": [
       "Getting Account Information: \u001b[36mleomessi\u001b[0m\n"
      ]
     },
     "metadata": {},
     "output_type": "display_data"
    },
    {
     "data": {
      "text/html": [
       "<pre style=\"white-space:pre;overflow-x:auto;line-height:normal;font-family:Menlo,'DejaVu Sans Mono',consolas,'Courier New',monospace\"><span style=\"color: #800000; text-decoration-color: #800000; font-weight: bold\">        User information already exist, skipping</span><span style=\"color: #808000; text-decoration-color: #808000; font-weight: bold\">...</span>\n",
       "</pre>\n"
      ],
      "text/plain": [
       "\u001b[1;31m \u001b[0m\u001b[1;31m       \u001b[0m\u001b[1;31mUser information already exist, skipping\u001b[0m\u001b[1;33m...\u001b[0m\n"
      ]
     },
     "metadata": {},
     "output_type": "display_data"
    },
    {
     "data": {
      "text/html": [
       "<pre style=\"white-space:pre;overflow-x:auto;line-height:normal;font-family:Menlo,'DejaVu Sans Mono',consolas,'Courier New',monospace\">Getting Account Information: <span style=\"color: #008080; text-decoration-color: #008080\">selenagomez</span>\n",
       "</pre>\n"
      ],
      "text/plain": [
       "Getting Account Information: \u001b[36mselenagomez\u001b[0m\n"
      ]
     },
     "metadata": {},
     "output_type": "display_data"
    },
    {
     "data": {
      "text/html": [
       "<pre style=\"white-space:pre;overflow-x:auto;line-height:normal;font-family:Menlo,'DejaVu Sans Mono',consolas,'Courier New',monospace\"><span style=\"color: #800000; text-decoration-color: #800000; font-weight: bold\">        User information already exist, skipping</span><span style=\"color: #808000; text-decoration-color: #808000; font-weight: bold\">...</span>\n",
       "</pre>\n"
      ],
      "text/plain": [
       "\u001b[1;31m \u001b[0m\u001b[1;31m       \u001b[0m\u001b[1;31mUser information already exist, skipping\u001b[0m\u001b[1;33m...\u001b[0m\n"
      ]
     },
     "metadata": {},
     "output_type": "display_data"
    },
    {
     "data": {
      "text/html": [
       "<pre style=\"white-space:pre;overflow-x:auto;line-height:normal;font-family:Menlo,'DejaVu Sans Mono',consolas,'Courier New',monospace\">Getting Account Information: <span style=\"color: #008080; text-decoration-color: #008080\">kyliejenner</span>\n",
       "</pre>\n"
      ],
      "text/plain": [
       "Getting Account Information: \u001b[36mkyliejenner\u001b[0m\n"
      ]
     },
     "metadata": {},
     "output_type": "display_data"
    },
    {
     "data": {
      "text/html": [
       "<pre style=\"white-space:pre;overflow-x:auto;line-height:normal;font-family:Menlo,'DejaVu Sans Mono',consolas,'Courier New',monospace\"><span style=\"color: #800000; text-decoration-color: #800000; font-weight: bold\">        User information already exist, skipping</span><span style=\"color: #808000; text-decoration-color: #808000; font-weight: bold\">...</span>\n",
       "</pre>\n"
      ],
      "text/plain": [
       "\u001b[1;31m \u001b[0m\u001b[1;31m       \u001b[0m\u001b[1;31mUser information already exist, skipping\u001b[0m\u001b[1;33m...\u001b[0m\n"
      ]
     },
     "metadata": {},
     "output_type": "display_data"
    },
    {
     "data": {
      "text/html": [
       "<pre style=\"white-space:pre;overflow-x:auto;line-height:normal;font-family:Menlo,'DejaVu Sans Mono',consolas,'Courier New',monospace\">Getting Account Information: <span style=\"color: #008080; text-decoration-color: #008080\">therock</span>\n",
       "</pre>\n"
      ],
      "text/plain": [
       "Getting Account Information: \u001b[36mtherock\u001b[0m\n"
      ]
     },
     "metadata": {},
     "output_type": "display_data"
    },
    {
     "data": {
      "text/html": [
       "<pre style=\"white-space:pre;overflow-x:auto;line-height:normal;font-family:Menlo,'DejaVu Sans Mono',consolas,'Courier New',monospace\"><span style=\"color: #800000; text-decoration-color: #800000; font-weight: bold\">        User information already exist, skipping</span><span style=\"color: #808000; text-decoration-color: #808000; font-weight: bold\">...</span>\n",
       "</pre>\n"
      ],
      "text/plain": [
       "\u001b[1;31m \u001b[0m\u001b[1;31m       \u001b[0m\u001b[1;31mUser information already exist, skipping\u001b[0m\u001b[1;33m...\u001b[0m\n"
      ]
     },
     "metadata": {},
     "output_type": "display_data"
    },
    {
     "data": {
      "text/html": [
       "<pre style=\"white-space:pre;overflow-x:auto;line-height:normal;font-family:Menlo,'DejaVu Sans Mono',consolas,'Courier New',monospace\">Getting Account Information: <span style=\"color: #008080; text-decoration-color: #008080\">arianagrande</span>\n",
       "</pre>\n"
      ],
      "text/plain": [
       "Getting Account Information: \u001b[36marianagrande\u001b[0m\n"
      ]
     },
     "metadata": {},
     "output_type": "display_data"
    },
    {
     "data": {
      "text/html": [
       "<pre style=\"white-space:pre;overflow-x:auto;line-height:normal;font-family:Menlo,'DejaVu Sans Mono',consolas,'Courier New',monospace\"><span style=\"color: #800000; text-decoration-color: #800000; font-weight: bold\">        User information already exist, skipping</span><span style=\"color: #808000; text-decoration-color: #808000; font-weight: bold\">...</span>\n",
       "</pre>\n"
      ],
      "text/plain": [
       "\u001b[1;31m \u001b[0m\u001b[1;31m       \u001b[0m\u001b[1;31mUser information already exist, skipping\u001b[0m\u001b[1;33m...\u001b[0m\n"
      ]
     },
     "metadata": {},
     "output_type": "display_data"
    },
    {
     "data": {
      "text/html": [
       "<pre style=\"white-space:pre;overflow-x:auto;line-height:normal;font-family:Menlo,'DejaVu Sans Mono',consolas,'Courier New',monospace\">Getting Account Information: <span style=\"color: #008080; text-decoration-color: #008080\">kimkardashian</span>\n",
       "</pre>\n"
      ],
      "text/plain": [
       "Getting Account Information: \u001b[36mkimkardashian\u001b[0m\n"
      ]
     },
     "metadata": {},
     "output_type": "display_data"
    },
    {
     "data": {
      "text/html": [
       "<pre style=\"white-space:pre;overflow-x:auto;line-height:normal;font-family:Menlo,'DejaVu Sans Mono',consolas,'Courier New',monospace\"><span style=\"color: #800000; text-decoration-color: #800000; font-weight: bold\">        User information already exist, skipping</span><span style=\"color: #808000; text-decoration-color: #808000; font-weight: bold\">...</span>\n",
       "</pre>\n"
      ],
      "text/plain": [
       "\u001b[1;31m \u001b[0m\u001b[1;31m       \u001b[0m\u001b[1;31mUser information already exist, skipping\u001b[0m\u001b[1;33m...\u001b[0m\n"
      ]
     },
     "metadata": {},
     "output_type": "display_data"
    },
    {
     "data": {
      "text/html": [
       "<pre style=\"white-space:pre;overflow-x:auto;line-height:normal;font-family:Menlo,'DejaVu Sans Mono',consolas,'Courier New',monospace\">Getting Account Information: <span style=\"color: #008080; text-decoration-color: #008080\">beyonce</span>\n",
       "</pre>\n"
      ],
      "text/plain": [
       "Getting Account Information: \u001b[36mbeyonce\u001b[0m\n"
      ]
     },
     "metadata": {},
     "output_type": "display_data"
    },
    {
     "data": {
      "text/html": [
       "<pre style=\"white-space:pre;overflow-x:auto;line-height:normal;font-family:Menlo,'DejaVu Sans Mono',consolas,'Courier New',monospace\"><span style=\"color: #800000; text-decoration-color: #800000; font-weight: bold\">        User information already exist, skipping</span><span style=\"color: #808000; text-decoration-color: #808000; font-weight: bold\">...</span>\n",
       "</pre>\n"
      ],
      "text/plain": [
       "\u001b[1;31m \u001b[0m\u001b[1;31m       \u001b[0m\u001b[1;31mUser information already exist, skipping\u001b[0m\u001b[1;33m...\u001b[0m\n"
      ]
     },
     "metadata": {},
     "output_type": "display_data"
    },
    {
     "data": {
      "text/html": [
       "<pre style=\"white-space:pre;overflow-x:auto;line-height:normal;font-family:Menlo,'DejaVu Sans Mono',consolas,'Courier New',monospace\">Getting Account Information: <span style=\"color: #008080; text-decoration-color: #008080\">khloekardashian</span>\n",
       "</pre>\n"
      ],
      "text/plain": [
       "Getting Account Information: \u001b[36mkhloekardashian\u001b[0m\n"
      ]
     },
     "metadata": {},
     "output_type": "display_data"
    },
    {
     "data": {
      "text/html": [
       "<pre style=\"white-space:pre;overflow-x:auto;line-height:normal;font-family:Menlo,'DejaVu Sans Mono',consolas,'Courier New',monospace\"><span style=\"color: #800000; text-decoration-color: #800000; font-weight: bold\">        User information already exist, skipping</span><span style=\"color: #808000; text-decoration-color: #808000; font-weight: bold\">...</span>\n",
       "</pre>\n"
      ],
      "text/plain": [
       "\u001b[1;31m \u001b[0m\u001b[1;31m       \u001b[0m\u001b[1;31mUser information already exist, skipping\u001b[0m\u001b[1;33m...\u001b[0m\n"
      ]
     },
     "metadata": {},
     "output_type": "display_data"
    },
    {
     "name": "stderr",
     "output_type": "stream",
     "text": [
      "  5%|▌         | 10/200 [00:00<00:01, 95.93it/s]"
     ]
    },
    {
     "data": {
      "text/html": [
       "<pre style=\"white-space:pre;overflow-x:auto;line-height:normal;font-family:Menlo,'DejaVu Sans Mono',consolas,'Courier New',monospace\">Getting Account Information: <span style=\"color: #008080; text-decoration-color: #008080\">justinbieber</span>\n",
       "</pre>\n"
      ],
      "text/plain": [
       "Getting Account Information: \u001b[36mjustinbieber\u001b[0m\n"
      ]
     },
     "metadata": {},
     "output_type": "display_data"
    },
    {
     "data": {
      "text/html": [
       "<pre style=\"white-space:pre;overflow-x:auto;line-height:normal;font-family:Menlo,'DejaVu Sans Mono',consolas,'Courier New',monospace\"><span style=\"color: #800000; text-decoration-color: #800000; font-weight: bold\">        User information already exist, skipping</span><span style=\"color: #808000; text-decoration-color: #808000; font-weight: bold\">...</span>\n",
       "</pre>\n"
      ],
      "text/plain": [
       "\u001b[1;31m \u001b[0m\u001b[1;31m       \u001b[0m\u001b[1;31mUser information already exist, skipping\u001b[0m\u001b[1;33m...\u001b[0m\n"
      ]
     },
     "metadata": {},
     "output_type": "display_data"
    },
    {
     "data": {
      "text/html": [
       "<pre style=\"white-space:pre;overflow-x:auto;line-height:normal;font-family:Menlo,'DejaVu Sans Mono',consolas,'Courier New',monospace\">Getting Account Information: <span style=\"color: #008080; text-decoration-color: #008080\">nike</span>\n",
       "</pre>\n"
      ],
      "text/plain": [
       "Getting Account Information: \u001b[36mnike\u001b[0m\n"
      ]
     },
     "metadata": {},
     "output_type": "display_data"
    },
    {
     "data": {
      "text/html": [
       "<pre style=\"white-space:pre;overflow-x:auto;line-height:normal;font-family:Menlo,'DejaVu Sans Mono',consolas,'Courier New',monospace\"><span style=\"color: #800000; text-decoration-color: #800000; font-weight: bold\">        User information already exist, skipping</span><span style=\"color: #808000; text-decoration-color: #808000; font-weight: bold\">...</span>\n",
       "</pre>\n"
      ],
      "text/plain": [
       "\u001b[1;31m \u001b[0m\u001b[1;31m       \u001b[0m\u001b[1;31mUser information already exist, skipping\u001b[0m\u001b[1;33m...\u001b[0m\n"
      ]
     },
     "metadata": {},
     "output_type": "display_data"
    },
    {
     "data": {
      "text/html": [
       "<pre style=\"white-space:pre;overflow-x:auto;line-height:normal;font-family:Menlo,'DejaVu Sans Mono',consolas,'Courier New',monospace\">Getting Account Information: <span style=\"color: #008080; text-decoration-color: #008080\">kendalljenner</span>\n",
       "</pre>\n"
      ],
      "text/plain": [
       "Getting Account Information: \u001b[36mkendalljenner\u001b[0m\n"
      ]
     },
     "metadata": {},
     "output_type": "display_data"
    },
    {
     "data": {
      "text/html": [
       "<pre style=\"white-space:pre;overflow-x:auto;line-height:normal;font-family:Menlo,'DejaVu Sans Mono',consolas,'Courier New',monospace\"><span style=\"color: #800000; text-decoration-color: #800000; font-weight: bold\">        User information already exist, skipping</span><span style=\"color: #808000; text-decoration-color: #808000; font-weight: bold\">...</span>\n",
       "</pre>\n"
      ],
      "text/plain": [
       "\u001b[1;31m \u001b[0m\u001b[1;31m       \u001b[0m\u001b[1;31mUser information already exist, skipping\u001b[0m\u001b[1;33m...\u001b[0m\n"
      ]
     },
     "metadata": {},
     "output_type": "display_data"
    },
    {
     "data": {
      "text/html": [
       "<pre style=\"white-space:pre;overflow-x:auto;line-height:normal;font-family:Menlo,'DejaVu Sans Mono',consolas,'Courier New',monospace\">Getting Account Information: <span style=\"color: #008080; text-decoration-color: #008080\">natgeo</span>\n",
       "</pre>\n"
      ],
      "text/plain": [
       "Getting Account Information: \u001b[36mnatgeo\u001b[0m\n"
      ]
     },
     "metadata": {},
     "output_type": "display_data"
    },
    {
     "data": {
      "text/html": [
       "<pre style=\"white-space:pre;overflow-x:auto;line-height:normal;font-family:Menlo,'DejaVu Sans Mono',consolas,'Courier New',monospace\"><span style=\"color: #800000; text-decoration-color: #800000; font-weight: bold\">        User information already exist, skipping</span><span style=\"color: #808000; text-decoration-color: #808000; font-weight: bold\">...</span>\n",
       "</pre>\n"
      ],
      "text/plain": [
       "\u001b[1;31m \u001b[0m\u001b[1;31m       \u001b[0m\u001b[1;31mUser information already exist, skipping\u001b[0m\u001b[1;33m...\u001b[0m\n"
      ]
     },
     "metadata": {},
     "output_type": "display_data"
    },
    {
     "data": {
      "text/html": [
       "<pre style=\"white-space:pre;overflow-x:auto;line-height:normal;font-family:Menlo,'DejaVu Sans Mono',consolas,'Courier New',monospace\">Getting Account Information: <span style=\"color: #008080; text-decoration-color: #008080\">taylorswift</span>\n",
       "</pre>\n"
      ],
      "text/plain": [
       "Getting Account Information: \u001b[36mtaylorswift\u001b[0m\n"
      ]
     },
     "metadata": {},
     "output_type": "display_data"
    },
    {
     "data": {
      "text/html": [
       "<pre style=\"white-space:pre;overflow-x:auto;line-height:normal;font-family:Menlo,'DejaVu Sans Mono',consolas,'Courier New',monospace\"><span style=\"color: #800000; text-decoration-color: #800000; font-weight: bold\">        User information already exist, skipping</span><span style=\"color: #808000; text-decoration-color: #808000; font-weight: bold\">...</span>\n",
       "</pre>\n"
      ],
      "text/plain": [
       "\u001b[1;31m \u001b[0m\u001b[1;31m       \u001b[0m\u001b[1;31mUser information already exist, skipping\u001b[0m\u001b[1;33m...\u001b[0m\n"
      ]
     },
     "metadata": {},
     "output_type": "display_data"
    },
    {
     "data": {
      "text/html": [
       "<pre style=\"white-space:pre;overflow-x:auto;line-height:normal;font-family:Menlo,'DejaVu Sans Mono',consolas,'Courier New',monospace\">Getting Account Information: <span style=\"color: #008080; text-decoration-color: #008080\">virat.kohli</span>\n",
       "</pre>\n"
      ],
      "text/plain": [
       "Getting Account Information: \u001b[36mvirat.kohli\u001b[0m\n"
      ]
     },
     "metadata": {},
     "output_type": "display_data"
    },
    {
     "data": {
      "text/html": [
       "<pre style=\"white-space:pre;overflow-x:auto;line-height:normal;font-family:Menlo,'DejaVu Sans Mono',consolas,'Courier New',monospace\"><span style=\"color: #800000; text-decoration-color: #800000; font-weight: bold\">        User information already exist, skipping</span><span style=\"color: #808000; text-decoration-color: #808000; font-weight: bold\">...</span>\n",
       "</pre>\n"
      ],
      "text/plain": [
       "\u001b[1;31m \u001b[0m\u001b[1;31m       \u001b[0m\u001b[1;31mUser information already exist, skipping\u001b[0m\u001b[1;33m...\u001b[0m\n"
      ]
     },
     "metadata": {},
     "output_type": "display_data"
    },
    {
     "data": {
      "text/html": [
       "<pre style=\"white-space:pre;overflow-x:auto;line-height:normal;font-family:Menlo,'DejaVu Sans Mono',consolas,'Courier New',monospace\">Getting Account Information: <span style=\"color: #008080; text-decoration-color: #008080\">jlo</span>\n",
       "</pre>\n"
      ],
      "text/plain": [
       "Getting Account Information: \u001b[36mjlo\u001b[0m\n"
      ]
     },
     "metadata": {},
     "output_type": "display_data"
    },
    {
     "data": {
      "text/html": [
       "<pre style=\"white-space:pre;overflow-x:auto;line-height:normal;font-family:Menlo,'DejaVu Sans Mono',consolas,'Courier New',monospace\"><span style=\"color: #800000; text-decoration-color: #800000; font-weight: bold\">        User information already exist, skipping</span><span style=\"color: #808000; text-decoration-color: #808000; font-weight: bold\">...</span>\n",
       "</pre>\n"
      ],
      "text/plain": [
       "\u001b[1;31m \u001b[0m\u001b[1;31m       \u001b[0m\u001b[1;31mUser information already exist, skipping\u001b[0m\u001b[1;33m...\u001b[0m\n"
      ]
     },
     "metadata": {},
     "output_type": "display_data"
    },
    {
     "data": {
      "text/html": [
       "<pre style=\"white-space:pre;overflow-x:auto;line-height:normal;font-family:Menlo,'DejaVu Sans Mono',consolas,'Courier New',monospace\">Getting Account Information: <span style=\"color: #008080; text-decoration-color: #008080\">kourtneykardash</span>\n",
       "</pre>\n"
      ],
      "text/plain": [
       "Getting Account Information: \u001b[36mkourtneykardash\u001b[0m\n"
      ]
     },
     "metadata": {},
     "output_type": "display_data"
    },
    {
     "data": {
      "text/html": [
       "<pre style=\"white-space:pre;overflow-x:auto;line-height:normal;font-family:Menlo,'DejaVu Sans Mono',consolas,'Courier New',monospace\"><span style=\"color: #800000; text-decoration-color: #800000; font-weight: bold\">        User information already exist, skipping</span><span style=\"color: #808000; text-decoration-color: #808000; font-weight: bold\">...</span>\n",
       "</pre>\n"
      ],
      "text/plain": [
       "\u001b[1;31m \u001b[0m\u001b[1;31m       \u001b[0m\u001b[1;31mUser information already exist, skipping\u001b[0m\u001b[1;33m...\u001b[0m\n"
      ]
     },
     "metadata": {},
     "output_type": "display_data"
    },
    {
     "data": {
      "text/html": [
       "<pre style=\"white-space:pre;overflow-x:auto;line-height:normal;font-family:Menlo,'DejaVu Sans Mono',consolas,'Courier New',monospace\">Getting Account Information: <span style=\"color: #008080; text-decoration-color: #008080\">nickiminaj</span>\n",
       "</pre>\n"
      ],
      "text/plain": [
       "Getting Account Information: \u001b[36mnickiminaj\u001b[0m\n"
      ]
     },
     "metadata": {},
     "output_type": "display_data"
    },
    {
     "data": {
      "text/html": [
       "<pre style=\"white-space:pre;overflow-x:auto;line-height:normal;font-family:Menlo,'DejaVu Sans Mono',consolas,'Courier New',monospace\"><span style=\"color: #800000; text-decoration-color: #800000; font-weight: bold\">        User information already exist, skipping</span><span style=\"color: #808000; text-decoration-color: #808000; font-weight: bold\">...</span>\n",
       "</pre>\n"
      ],
      "text/plain": [
       "\u001b[1;31m \u001b[0m\u001b[1;31m       \u001b[0m\u001b[1;31mUser information already exist, skipping\u001b[0m\u001b[1;33m...\u001b[0m\n"
      ]
     },
     "metadata": {},
     "output_type": "display_data"
    },
    {
     "data": {
      "text/html": [
       "<pre style=\"white-space:pre;overflow-x:auto;line-height:normal;font-family:Menlo,'DejaVu Sans Mono',consolas,'Courier New',monospace\">Getting Account Information: <span style=\"color: #008080; text-decoration-color: #008080\">neymarjr</span>\n",
       "</pre>\n"
      ],
      "text/plain": [
       "Getting Account Information: \u001b[36mneymarjr\u001b[0m\n"
      ]
     },
     "metadata": {},
     "output_type": "display_data"
    },
    {
     "data": {
      "text/html": [
       "<pre style=\"white-space:pre;overflow-x:auto;line-height:normal;font-family:Menlo,'DejaVu Sans Mono',consolas,'Courier New',monospace\"><span style=\"color: #800000; text-decoration-color: #800000; font-weight: bold\">        User information already exist, skipping</span><span style=\"color: #808000; text-decoration-color: #808000; font-weight: bold\">...</span>\n",
       "</pre>\n"
      ],
      "text/plain": [
       "\u001b[1;31m \u001b[0m\u001b[1;31m       \u001b[0m\u001b[1;31mUser information already exist, skipping\u001b[0m\u001b[1;33m...\u001b[0m\n"
      ]
     },
     "metadata": {},
     "output_type": "display_data"
    },
    {
     "name": "stderr",
     "output_type": "stream",
     "text": [
      " 10%|█         | 20/200 [00:00<00:02, 82.68it/s]"
     ]
    },
    {
     "data": {
      "text/html": [
       "<pre style=\"white-space:pre;overflow-x:auto;line-height:normal;font-family:Menlo,'DejaVu Sans Mono',consolas,'Courier New',monospace\">Getting Account Information: <span style=\"color: #008080; text-decoration-color: #008080\">mileycyrus</span>\n",
       "</pre>\n"
      ],
      "text/plain": [
       "Getting Account Information: \u001b[36mmileycyrus\u001b[0m\n"
      ]
     },
     "metadata": {},
     "output_type": "display_data"
    },
    {
     "data": {
      "text/html": [
       "<pre style=\"white-space:pre;overflow-x:auto;line-height:normal;font-family:Menlo,'DejaVu Sans Mono',consolas,'Courier New',monospace\"><span style=\"color: #800000; text-decoration-color: #800000; font-weight: bold\">        User information already exist, skipping</span><span style=\"color: #808000; text-decoration-color: #808000; font-weight: bold\">...</span>\n",
       "</pre>\n"
      ],
      "text/plain": [
       "\u001b[1;31m \u001b[0m\u001b[1;31m       \u001b[0m\u001b[1;31mUser information already exist, skipping\u001b[0m\u001b[1;33m...\u001b[0m\n"
      ]
     },
     "metadata": {},
     "output_type": "display_data"
    },
    {
     "data": {
      "text/html": [
       "<pre style=\"white-space:pre;overflow-x:auto;line-height:normal;font-family:Menlo,'DejaVu Sans Mono',consolas,'Courier New',monospace\">Getting Account Information: <span style=\"color: #008080; text-decoration-color: #008080\">katyperry</span>\n",
       "</pre>\n"
      ],
      "text/plain": [
       "Getting Account Information: \u001b[36mkatyperry\u001b[0m\n"
      ]
     },
     "metadata": {},
     "output_type": "display_data"
    },
    {
     "data": {
      "text/html": [
       "<pre style=\"white-space:pre;overflow-x:auto;line-height:normal;font-family:Menlo,'DejaVu Sans Mono',consolas,'Courier New',monospace\"><span style=\"color: #800000; text-decoration-color: #800000; font-weight: bold\">        User information already exist, skipping</span><span style=\"color: #808000; text-decoration-color: #808000; font-weight: bold\">...</span>\n",
       "</pre>\n"
      ],
      "text/plain": [
       "\u001b[1;31m \u001b[0m\u001b[1;31m       \u001b[0m\u001b[1;31mUser information already exist, skipping\u001b[0m\u001b[1;33m...\u001b[0m\n"
      ]
     },
     "metadata": {},
     "output_type": "display_data"
    },
    {
     "data": {
      "text/html": [
       "<pre style=\"white-space:pre;overflow-x:auto;line-height:normal;font-family:Menlo,'DejaVu Sans Mono',consolas,'Courier New',monospace\">Getting Account Information: <span style=\"color: #008080; text-decoration-color: #008080\">zendaya</span>\n",
       "</pre>\n"
      ],
      "text/plain": [
       "Getting Account Information: \u001b[36mzendaya\u001b[0m\n"
      ]
     },
     "metadata": {},
     "output_type": "display_data"
    },
    {
     "data": {
      "text/html": [
       "<pre style=\"white-space:pre;overflow-x:auto;line-height:normal;font-family:Menlo,'DejaVu Sans Mono',consolas,'Courier New',monospace\"><span style=\"color: #800000; text-decoration-color: #800000; font-weight: bold\">        User information already exist, skipping</span><span style=\"color: #808000; text-decoration-color: #808000; font-weight: bold\">...</span>\n",
       "</pre>\n"
      ],
      "text/plain": [
       "\u001b[1;31m \u001b[0m\u001b[1;31m       \u001b[0m\u001b[1;31mUser information already exist, skipping\u001b[0m\u001b[1;33m...\u001b[0m\n"
      ]
     },
     "metadata": {},
     "output_type": "display_data"
    },
    {
     "data": {
      "text/html": [
       "<pre style=\"white-space:pre;overflow-x:auto;line-height:normal;font-family:Menlo,'DejaVu Sans Mono',consolas,'Courier New',monospace\">Getting Account Information: <span style=\"color: #008080; text-decoration-color: #008080\">kevinhart4real</span>\n",
       "</pre>\n"
      ],
      "text/plain": [
       "Getting Account Information: \u001b[36mkevinhart4real\u001b[0m\n"
      ]
     },
     "metadata": {},
     "output_type": "display_data"
    },
    {
     "data": {
      "text/html": [
       "<pre style=\"white-space:pre;overflow-x:auto;line-height:normal;font-family:Menlo,'DejaVu Sans Mono',consolas,'Courier New',monospace\"><span style=\"color: #800000; text-decoration-color: #800000; font-weight: bold\">        User information already exist, skipping</span><span style=\"color: #808000; text-decoration-color: #808000; font-weight: bold\">...</span>\n",
       "</pre>\n"
      ],
      "text/plain": [
       "\u001b[1;31m \u001b[0m\u001b[1;31m       \u001b[0m\u001b[1;31mUser information already exist, skipping\u001b[0m\u001b[1;33m...\u001b[0m\n"
      ]
     },
     "metadata": {},
     "output_type": "display_data"
    },
    {
     "data": {
      "text/html": [
       "<pre style=\"white-space:pre;overflow-x:auto;line-height:normal;font-family:Menlo,'DejaVu Sans Mono',consolas,'Courier New',monospace\">Getting Account Information: <span style=\"color: #008080; text-decoration-color: #008080\">ddlovato</span>\n",
       "</pre>\n"
      ],
      "text/plain": [
       "Getting Account Information: \u001b[36mddlovato\u001b[0m\n"
      ]
     },
     "metadata": {},
     "output_type": "display_data"
    },
    {
     "data": {
      "text/html": [
       "<pre style=\"white-space:pre;overflow-x:auto;line-height:normal;font-family:Menlo,'DejaVu Sans Mono',consolas,'Courier New',monospace\"><span style=\"color: #800000; text-decoration-color: #800000; font-weight: bold\">        User information already exist, skipping</span><span style=\"color: #808000; text-decoration-color: #808000; font-weight: bold\">...</span>\n",
       "</pre>\n"
      ],
      "text/plain": [
       "\u001b[1;31m \u001b[0m\u001b[1;31m       \u001b[0m\u001b[1;31mUser information already exist, skipping\u001b[0m\u001b[1;33m...\u001b[0m\n"
      ]
     },
     "metadata": {},
     "output_type": "display_data"
    },
    {
     "data": {
      "text/html": [
       "<pre style=\"white-space:pre;overflow-x:auto;line-height:normal;font-family:Menlo,'DejaVu Sans Mono',consolas,'Courier New',monospace\">Getting Account Information: <span style=\"color: #008080; text-decoration-color: #008080\">kingjames</span>\n",
       "</pre>\n"
      ],
      "text/plain": [
       "Getting Account Information: \u001b[36mkingjames\u001b[0m\n"
      ]
     },
     "metadata": {},
     "output_type": "display_data"
    },
    {
     "data": {
      "text/html": [
       "<pre style=\"white-space:pre;overflow-x:auto;line-height:normal;font-family:Menlo,'DejaVu Sans Mono',consolas,'Courier New',monospace\"><span style=\"color: #800000; text-decoration-color: #800000; font-weight: bold\">        User information already exist, skipping</span><span style=\"color: #808000; text-decoration-color: #808000; font-weight: bold\">...</span>\n",
       "</pre>\n"
      ],
      "text/plain": [
       "\u001b[1;31m \u001b[0m\u001b[1;31m       \u001b[0m\u001b[1;31mUser information already exist, skipping\u001b[0m\u001b[1;33m...\u001b[0m\n"
      ]
     },
     "metadata": {},
     "output_type": "display_data"
    },
    {
     "data": {
      "text/html": [
       "<pre style=\"white-space:pre;overflow-x:auto;line-height:normal;font-family:Menlo,'DejaVu Sans Mono',consolas,'Courier New',monospace\">Getting Account Information: <span style=\"color: #008080; text-decoration-color: #008080\">badgalriri</span>\n",
       "</pre>\n"
      ],
      "text/plain": [
       "Getting Account Information: \u001b[36mbadgalriri\u001b[0m\n"
      ]
     },
     "metadata": {},
     "output_type": "display_data"
    },
    {
     "data": {
      "text/html": [
       "<pre style=\"white-space:pre;overflow-x:auto;line-height:normal;font-family:Menlo,'DejaVu Sans Mono',consolas,'Courier New',monospace\"><span style=\"color: #800000; text-decoration-color: #800000; font-weight: bold\">        User information already exist, skipping</span><span style=\"color: #808000; text-decoration-color: #808000; font-weight: bold\">...</span>\n",
       "</pre>\n"
      ],
      "text/plain": [
       "\u001b[1;31m \u001b[0m\u001b[1;31m       \u001b[0m\u001b[1;31mUser information already exist, skipping\u001b[0m\u001b[1;33m...\u001b[0m\n"
      ]
     },
     "metadata": {},
     "output_type": "display_data"
    },
    {
     "data": {
      "text/html": [
       "<pre style=\"white-space:pre;overflow-x:auto;line-height:normal;font-family:Menlo,'DejaVu Sans Mono',consolas,'Courier New',monospace\">Getting Account Information: <span style=\"color: #008080; text-decoration-color: #008080\">realmadrid</span>\n",
       "</pre>\n"
      ],
      "text/plain": [
       "Getting Account Information: \u001b[36mrealmadrid\u001b[0m\n"
      ]
     },
     "metadata": {},
     "output_type": "display_data"
    },
    {
     "data": {
      "text/html": [
       "<pre style=\"white-space:pre;overflow-x:auto;line-height:normal;font-family:Menlo,'DejaVu Sans Mono',consolas,'Courier New',monospace\"><span style=\"color: #800000; text-decoration-color: #800000; font-weight: bold\">        User information already exist, skipping</span><span style=\"color: #808000; text-decoration-color: #808000; font-weight: bold\">...</span>\n",
       "</pre>\n"
      ],
      "text/plain": [
       "\u001b[1;31m \u001b[0m\u001b[1;31m       \u001b[0m\u001b[1;31mUser information already exist, skipping\u001b[0m\u001b[1;33m...\u001b[0m\n"
      ]
     },
     "metadata": {},
     "output_type": "display_data"
    },
    {
     "data": {
      "text/html": [
       "<pre style=\"white-space:pre;overflow-x:auto;line-height:normal;font-family:Menlo,'DejaVu Sans Mono',consolas,'Courier New',monospace\">Getting Account Information: <span style=\"color: #008080; text-decoration-color: #008080\">champagnepapi</span>\n",
       "</pre>\n"
      ],
      "text/plain": [
       "Getting Account Information: \u001b[36mchampagnepapi\u001b[0m\n"
      ]
     },
     "metadata": {},
     "output_type": "display_data"
    },
    {
     "data": {
      "text/html": [
       "<pre style=\"white-space:pre;overflow-x:auto;line-height:normal;font-family:Menlo,'DejaVu Sans Mono',consolas,'Courier New',monospace\"><span style=\"color: #800000; text-decoration-color: #800000; font-weight: bold\">        User information already exist, skipping</span><span style=\"color: #808000; text-decoration-color: #808000; font-weight: bold\">...</span>\n",
       "</pre>\n"
      ],
      "text/plain": [
       "\u001b[1;31m \u001b[0m\u001b[1;31m       \u001b[0m\u001b[1;31mUser information already exist, skipping\u001b[0m\u001b[1;33m...\u001b[0m\n"
      ]
     },
     "metadata": {},
     "output_type": "display_data"
    },
    {
     "data": {
      "text/html": [
       "<pre style=\"white-space:pre;overflow-x:auto;line-height:normal;font-family:Menlo,'DejaVu Sans Mono',consolas,'Courier New',monospace\">Getting Account Information: <span style=\"color: #008080; text-decoration-color: #008080\">chrisbrownofficial</span>\n",
       "</pre>\n"
      ],
      "text/plain": [
       "Getting Account Information: \u001b[36mchrisbrownofficial\u001b[0m\n"
      ]
     },
     "metadata": {},
     "output_type": "display_data"
    },
    {
     "data": {
      "text/html": [
       "<pre style=\"white-space:pre;overflow-x:auto;line-height:normal;font-family:Menlo,'DejaVu Sans Mono',consolas,'Courier New',monospace\"><span style=\"color: #800000; text-decoration-color: #800000; font-weight: bold\">        User information already exist, skipping</span><span style=\"color: #808000; text-decoration-color: #808000; font-weight: bold\">...</span>\n",
       "</pre>\n"
      ],
      "text/plain": [
       "\u001b[1;31m \u001b[0m\u001b[1;31m       \u001b[0m\u001b[1;31mUser information already exist, skipping\u001b[0m\u001b[1;33m...\u001b[0m\n"
      ]
     },
     "metadata": {},
     "output_type": "display_data"
    },
    {
     "data": {
      "text/html": [
       "<pre style=\"white-space:pre;overflow-x:auto;line-height:normal;font-family:Menlo,'DejaVu Sans Mono',consolas,'Courier New',monospace\">Getting Account Information: <span style=\"color: #008080; text-decoration-color: #008080\">fcbarcelona</span>\n",
       "</pre>\n"
      ],
      "text/plain": [
       "Getting Account Information: \u001b[36mfcbarcelona\u001b[0m\n"
      ]
     },
     "metadata": {},
     "output_type": "display_data"
    },
    {
     "data": {
      "text/html": [
       "<pre style=\"white-space:pre;overflow-x:auto;line-height:normal;font-family:Menlo,'DejaVu Sans Mono',consolas,'Courier New',monospace\"><span style=\"color: #800000; text-decoration-color: #800000; font-weight: bold\">        User information already exist, skipping</span><span style=\"color: #808000; text-decoration-color: #808000; font-weight: bold\">...</span>\n",
       "</pre>\n"
      ],
      "text/plain": [
       "\u001b[1;31m \u001b[0m\u001b[1;31m       \u001b[0m\u001b[1;31mUser information already exist, skipping\u001b[0m\u001b[1;33m...\u001b[0m\n"
      ]
     },
     "metadata": {},
     "output_type": "display_data"
    },
    {
     "name": "stderr",
     "output_type": "stream",
     "text": [
      " 16%|█▌        | 31/200 [00:00<00:01, 90.64it/s]"
     ]
    },
    {
     "data": {
      "text/html": [
       "<pre style=\"white-space:pre;overflow-x:auto;line-height:normal;font-family:Menlo,'DejaVu Sans Mono',consolas,'Courier New',monospace\">Getting Account Information: <span style=\"color: #008080; text-decoration-color: #008080\">billieeilish</span>\n",
       "</pre>\n"
      ],
      "text/plain": [
       "Getting Account Information: \u001b[36mbillieeilish\u001b[0m\n"
      ]
     },
     "metadata": {},
     "output_type": "display_data"
    },
    {
     "data": {
      "text/html": [
       "<pre style=\"white-space:pre;overflow-x:auto;line-height:normal;font-family:Menlo,'DejaVu Sans Mono',consolas,'Courier New',monospace\"><span style=\"color: #800000; text-decoration-color: #800000; font-weight: bold\">        User information already exist, skipping</span><span style=\"color: #808000; text-decoration-color: #808000; font-weight: bold\">...</span>\n",
       "</pre>\n"
      ],
      "text/plain": [
       "\u001b[1;31m \u001b[0m\u001b[1;31m       \u001b[0m\u001b[1;31mUser information already exist, skipping\u001b[0m\u001b[1;33m...\u001b[0m\n"
      ]
     },
     "metadata": {},
     "output_type": "display_data"
    },
    {
     "data": {
      "text/html": [
       "<pre style=\"white-space:pre;overflow-x:auto;line-height:normal;font-family:Menlo,'DejaVu Sans Mono',consolas,'Courier New',monospace\">Getting Account Information: <span style=\"color: #008080; text-decoration-color: #008080\">championsleague</span>\n",
       "</pre>\n"
      ],
      "text/plain": [
       "Getting Account Information: \u001b[36mchampionsleague\u001b[0m\n"
      ]
     },
     "metadata": {},
     "output_type": "display_data"
    },
    {
     "data": {
      "text/html": [
       "<pre style=\"white-space:pre;overflow-x:auto;line-height:normal;font-family:Menlo,'DejaVu Sans Mono',consolas,'Courier New',monospace\"><span style=\"color: #800000; text-decoration-color: #800000; font-weight: bold\">        User information already exist, skipping</span><span style=\"color: #808000; text-decoration-color: #808000; font-weight: bold\">...</span>\n",
       "</pre>\n"
      ],
      "text/plain": [
       "\u001b[1;31m \u001b[0m\u001b[1;31m       \u001b[0m\u001b[1;31mUser information already exist, skipping\u001b[0m\u001b[1;33m...\u001b[0m\n"
      ]
     },
     "metadata": {},
     "output_type": "display_data"
    },
    {
     "data": {
      "text/html": [
       "<pre style=\"white-space:pre;overflow-x:auto;line-height:normal;font-family:Menlo,'DejaVu Sans Mono',consolas,'Courier New',monospace\">Getting Account Information: <span style=\"color: #008080; text-decoration-color: #008080\">k.mbappe</span>\n",
       "</pre>\n"
      ],
      "text/plain": [
       "Getting Account Information: \u001b[36mk.mbappe\u001b[0m\n"
      ]
     },
     "metadata": {},
     "output_type": "display_data"
    },
    {
     "data": {
      "text/html": [
       "<pre style=\"white-space:pre;overflow-x:auto;line-height:normal;font-family:Menlo,'DejaVu Sans Mono',consolas,'Courier New',monospace\"><span style=\"color: #800000; text-decoration-color: #800000; font-weight: bold\">        User information already exist, skipping</span><span style=\"color: #808000; text-decoration-color: #808000; font-weight: bold\">...</span>\n",
       "</pre>\n"
      ],
      "text/plain": [
       "\u001b[1;31m \u001b[0m\u001b[1;31m       \u001b[0m\u001b[1;31mUser information already exist, skipping\u001b[0m\u001b[1;33m...\u001b[0m\n"
      ]
     },
     "metadata": {},
     "output_type": "display_data"
    },
    {
     "data": {
      "text/html": [
       "<pre style=\"white-space:pre;overflow-x:auto;line-height:normal;font-family:Menlo,'DejaVu Sans Mono',consolas,'Courier New',monospace\">Getting Account Information: <span style=\"color: #008080; text-decoration-color: #008080\">gal_gadot</span>\n",
       "</pre>\n"
      ],
      "text/plain": [
       "Getting Account Information: \u001b[36mgal_gadot\u001b[0m\n"
      ]
     },
     "metadata": {},
     "output_type": "display_data"
    },
    {
     "data": {
      "text/html": [
       "<pre style=\"white-space:pre;overflow-x:auto;line-height:normal;font-family:Menlo,'DejaVu Sans Mono',consolas,'Courier New',monospace\"><span style=\"color: #800000; text-decoration-color: #800000; font-weight: bold\">        User information already exist, skipping</span><span style=\"color: #808000; text-decoration-color: #808000; font-weight: bold\">...</span>\n",
       "</pre>\n"
      ],
      "text/plain": [
       "\u001b[1;31m \u001b[0m\u001b[1;31m       \u001b[0m\u001b[1;31mUser information already exist, skipping\u001b[0m\u001b[1;33m...\u001b[0m\n"
      ]
     },
     "metadata": {},
     "output_type": "display_data"
    },
    {
     "data": {
      "text/html": [
       "<pre style=\"white-space:pre;overflow-x:auto;line-height:normal;font-family:Menlo,'DejaVu Sans Mono',consolas,'Courier New',monospace\">Getting Account Information: <span style=\"color: #008080; text-decoration-color: #008080\">vindiesel</span>\n",
       "</pre>\n"
      ],
      "text/plain": [
       "Getting Account Information: \u001b[36mvindiesel\u001b[0m\n"
      ]
     },
     "metadata": {},
     "output_type": "display_data"
    },
    {
     "data": {
      "text/html": [
       "<pre style=\"white-space:pre;overflow-x:auto;line-height:normal;font-family:Menlo,'DejaVu Sans Mono',consolas,'Courier New',monospace\"><span style=\"color: #800000; text-decoration-color: #800000; font-weight: bold\">        User information already exist, skipping</span><span style=\"color: #808000; text-decoration-color: #808000; font-weight: bold\">...</span>\n",
       "</pre>\n"
      ],
      "text/plain": [
       "\u001b[1;31m \u001b[0m\u001b[1;31m       \u001b[0m\u001b[1;31mUser information already exist, skipping\u001b[0m\u001b[1;33m...\u001b[0m\n"
      ]
     },
     "metadata": {},
     "output_type": "display_data"
    },
    {
     "data": {
      "text/html": [
       "<pre style=\"white-space:pre;overflow-x:auto;line-height:normal;font-family:Menlo,'DejaVu Sans Mono',consolas,'Courier New',monospace\">Getting Account Information: <span style=\"color: #008080; text-decoration-color: #008080\">lalalalisa_m</span>\n",
       "</pre>\n"
      ],
      "text/plain": [
       "Getting Account Information: \u001b[36mlalalalisa_m\u001b[0m\n"
      ]
     },
     "metadata": {},
     "output_type": "display_data"
    },
    {
     "data": {
      "text/html": [
       "<pre style=\"white-space:pre;overflow-x:auto;line-height:normal;font-family:Menlo,'DejaVu Sans Mono',consolas,'Courier New',monospace\"><span style=\"color: #800000; text-decoration-color: #800000; font-weight: bold\">        User information already exist, skipping</span><span style=\"color: #808000; text-decoration-color: #808000; font-weight: bold\">...</span>\n",
       "</pre>\n"
      ],
      "text/plain": [
       "\u001b[1;31m \u001b[0m\u001b[1;31m       \u001b[0m\u001b[1;31mUser information already exist, skipping\u001b[0m\u001b[1;33m...\u001b[0m\n"
      ]
     },
     "metadata": {},
     "output_type": "display_data"
    },
    {
     "data": {
      "text/html": [
       "<pre style=\"white-space:pre;overflow-x:auto;line-height:normal;font-family:Menlo,'DejaVu Sans Mono',consolas,'Courier New',monospace\">Getting Account Information: <span style=\"color: #008080; text-decoration-color: #008080\">nasa</span>\n",
       "</pre>\n"
      ],
      "text/plain": [
       "Getting Account Information: \u001b[36mnasa\u001b[0m\n"
      ]
     },
     "metadata": {},
     "output_type": "display_data"
    },
    {
     "data": {
      "text/html": [
       "<pre style=\"white-space:pre;overflow-x:auto;line-height:normal;font-family:Menlo,'DejaVu Sans Mono',consolas,'Courier New',monospace\"><span style=\"color: #800000; text-decoration-color: #800000; font-weight: bold\">        User information already exist, skipping</span><span style=\"color: #808000; text-decoration-color: #808000; font-weight: bold\">...</span>\n",
       "</pre>\n"
      ],
      "text/plain": [
       "\u001b[1;31m \u001b[0m\u001b[1;31m       \u001b[0m\u001b[1;31mUser information already exist, skipping\u001b[0m\u001b[1;33m...\u001b[0m\n"
      ]
     },
     "metadata": {},
     "output_type": "display_data"
    },
    {
     "data": {
      "text/html": [
       "<pre style=\"white-space:pre;overflow-x:auto;line-height:normal;font-family:Menlo,'DejaVu Sans Mono',consolas,'Courier New',monospace\">Getting Account Information: <span style=\"color: #008080; text-decoration-color: #008080\">dualipa</span>\n",
       "</pre>\n"
      ],
      "text/plain": [
       "Getting Account Information: \u001b[36mdualipa\u001b[0m\n"
      ]
     },
     "metadata": {},
     "output_type": "display_data"
    },
    {
     "data": {
      "text/html": [
       "<pre style=\"white-space:pre;overflow-x:auto;line-height:normal;font-family:Menlo,'DejaVu Sans Mono',consolas,'Courier New',monospace\"><span style=\"color: #800000; text-decoration-color: #800000; font-weight: bold\">        User information already exist, skipping</span><span style=\"color: #808000; text-decoration-color: #808000; font-weight: bold\">...</span>\n",
       "</pre>\n"
      ],
      "text/plain": [
       "\u001b[1;31m \u001b[0m\u001b[1;31m       \u001b[0m\u001b[1;31mUser information already exist, skipping\u001b[0m\u001b[1;33m...\u001b[0m\n"
      ]
     },
     "metadata": {},
     "output_type": "display_data"
    },
    {
     "data": {
      "text/html": [
       "<pre style=\"white-space:pre;overflow-x:auto;line-height:normal;font-family:Menlo,'DejaVu Sans Mono',consolas,'Courier New',monospace\">Getting Account Information: <span style=\"color: #008080; text-decoration-color: #008080\">priyankachopra</span>\n",
       "</pre>\n"
      ],
      "text/plain": [
       "Getting Account Information: \u001b[36mpriyankachopra\u001b[0m\n"
      ]
     },
     "metadata": {},
     "output_type": "display_data"
    },
    {
     "data": {
      "text/html": [
       "<pre style=\"white-space:pre;overflow-x:auto;line-height:normal;font-family:Menlo,'DejaVu Sans Mono',consolas,'Courier New',monospace\"><span style=\"color: #800000; text-decoration-color: #800000; font-weight: bold\">        User information already exist, skipping</span><span style=\"color: #808000; text-decoration-color: #808000; font-weight: bold\">...</span>\n",
       "</pre>\n"
      ],
      "text/plain": [
       "\u001b[1;31m \u001b[0m\u001b[1;31m       \u001b[0m\u001b[1;31mUser information already exist, skipping\u001b[0m\u001b[1;33m...\u001b[0m\n"
      ]
     },
     "metadata": {},
     "output_type": "display_data"
    },
    {
     "data": {
      "text/html": [
       "<pre style=\"white-space:pre;overflow-x:auto;line-height:normal;font-family:Menlo,'DejaVu Sans Mono',consolas,'Courier New',monospace\">Getting Account Information: <span style=\"color: #008080; text-decoration-color: #008080\">shakira</span>\n",
       "</pre>\n"
      ],
      "text/plain": [
       "Getting Account Information: \u001b[36mshakira\u001b[0m\n"
      ]
     },
     "metadata": {},
     "output_type": "display_data"
    },
    {
     "data": {
      "text/html": [
       "<pre style=\"white-space:pre;overflow-x:auto;line-height:normal;font-family:Menlo,'DejaVu Sans Mono',consolas,'Courier New',monospace\"><span style=\"color: #800000; text-decoration-color: #800000; font-weight: bold\">        User information already exist, skipping</span><span style=\"color: #808000; text-decoration-color: #808000; font-weight: bold\">...</span>\n",
       "</pre>\n"
      ],
      "text/plain": [
       "\u001b[1;31m \u001b[0m\u001b[1;31m       \u001b[0m\u001b[1;31mUser information already exist, skipping\u001b[0m\u001b[1;33m...\u001b[0m\n"
      ]
     },
     "metadata": {},
     "output_type": "display_data"
    },
    {
     "name": "stderr",
     "output_type": "stream",
     "text": [
      " 20%|██        | 41/200 [00:00<00:01, 88.68it/s]"
     ]
    },
    {
     "data": {
      "text/html": [
       "<pre style=\"white-space:pre;overflow-x:auto;line-height:normal;font-family:Menlo,'DejaVu Sans Mono',consolas,'Courier New',monospace\">Getting Account Information: <span style=\"color: #008080; text-decoration-color: #008080\">snoopdogg</span>\n",
       "</pre>\n"
      ],
      "text/plain": [
       "Getting Account Information: \u001b[36msnoopdogg\u001b[0m\n"
      ]
     },
     "metadata": {},
     "output_type": "display_data"
    },
    {
     "data": {
      "text/html": [
       "<pre style=\"white-space:pre;overflow-x:auto;line-height:normal;font-family:Menlo,'DejaVu Sans Mono',consolas,'Courier New',monospace\"><span style=\"color: #800000; text-decoration-color: #800000; font-weight: bold\">        User information already exist, skipping</span><span style=\"color: #808000; text-decoration-color: #808000; font-weight: bold\">...</span>\n",
       "</pre>\n"
      ],
      "text/plain": [
       "\u001b[1;31m \u001b[0m\u001b[1;31m       \u001b[0m\u001b[1;31mUser information already exist, skipping\u001b[0m\u001b[1;33m...\u001b[0m\n"
      ]
     },
     "metadata": {},
     "output_type": "display_data"
    },
    {
     "data": {
      "text/html": [
       "<pre style=\"white-space:pre;overflow-x:auto;line-height:normal;font-family:Menlo,'DejaVu Sans Mono',consolas,'Courier New',monospace\">Getting Account Information: <span style=\"color: #008080; text-decoration-color: #008080\">shraddhakapoor</span>\n",
       "</pre>\n"
      ],
      "text/plain": [
       "Getting Account Information: \u001b[36mshraddhakapoor\u001b[0m\n"
      ]
     },
     "metadata": {},
     "output_type": "display_data"
    },
    {
     "data": {
      "text/html": [
       "<pre style=\"white-space:pre;overflow-x:auto;line-height:normal;font-family:Menlo,'DejaVu Sans Mono',consolas,'Courier New',monospace\"><span style=\"color: #800000; text-decoration-color: #800000; font-weight: bold\">        User information already exist, skipping</span><span style=\"color: #808000; text-decoration-color: #808000; font-weight: bold\">...</span>\n",
       "</pre>\n"
      ],
      "text/plain": [
       "\u001b[1;31m \u001b[0m\u001b[1;31m       \u001b[0m\u001b[1;31mUser information already exist, skipping\u001b[0m\u001b[1;33m...\u001b[0m\n"
      ]
     },
     "metadata": {},
     "output_type": "display_data"
    },
    {
     "data": {
      "text/html": [
       "<pre style=\"white-space:pre;overflow-x:auto;line-height:normal;font-family:Menlo,'DejaVu Sans Mono',consolas,'Courier New',monospace\">Getting Account Information: <span style=\"color: #008080; text-decoration-color: #008080\">khaby00</span>\n",
       "</pre>\n"
      ],
      "text/plain": [
       "Getting Account Information: \u001b[36mkhaby00\u001b[0m\n"
      ]
     },
     "metadata": {},
     "output_type": "display_data"
    },
    {
     "data": {
      "text/html": [
       "<pre style=\"white-space:pre;overflow-x:auto;line-height:normal;font-family:Menlo,'DejaVu Sans Mono',consolas,'Courier New',monospace\"><span style=\"color: #800000; text-decoration-color: #800000; font-weight: bold\">        User information already exist, skipping</span><span style=\"color: #808000; text-decoration-color: #808000; font-weight: bold\">...</span>\n",
       "</pre>\n"
      ],
      "text/plain": [
       "\u001b[1;31m \u001b[0m\u001b[1;31m       \u001b[0m\u001b[1;31mUser information already exist, skipping\u001b[0m\u001b[1;33m...\u001b[0m\n"
      ]
     },
     "metadata": {},
     "output_type": "display_data"
    },
    {
     "data": {
      "text/html": [
       "<pre style=\"white-space:pre;overflow-x:auto;line-height:normal;font-family:Menlo,'DejaVu Sans Mono',consolas,'Courier New',monospace\">Getting Account Information: <span style=\"color: #008080; text-decoration-color: #008080\">nba</span>\n",
       "</pre>\n"
      ],
      "text/plain": [
       "Getting Account Information: \u001b[36mnba\u001b[0m\n"
      ]
     },
     "metadata": {},
     "output_type": "display_data"
    },
    {
     "data": {
      "text/html": [
       "<pre style=\"white-space:pre;overflow-x:auto;line-height:normal;font-family:Menlo,'DejaVu Sans Mono',consolas,'Courier New',monospace\"><span style=\"color: #800000; text-decoration-color: #800000; font-weight: bold\">        User information already exist, skipping</span><span style=\"color: #808000; text-decoration-color: #808000; font-weight: bold\">...</span>\n",
       "</pre>\n"
      ],
      "text/plain": [
       "\u001b[1;31m \u001b[0m\u001b[1;31m       \u001b[0m\u001b[1;31mUser information already exist, skipping\u001b[0m\u001b[1;33m...\u001b[0m\n"
      ]
     },
     "metadata": {},
     "output_type": "display_data"
    },
    {
     "data": {
      "text/html": [
       "<pre style=\"white-space:pre;overflow-x:auto;line-height:normal;font-family:Menlo,'DejaVu Sans Mono',consolas,'Courier New',monospace\">Getting Account Information: <span style=\"color: #008080; text-decoration-color: #008080\">davidbeckham</span>\n",
       "</pre>\n"
      ],
      "text/plain": [
       "Getting Account Information: \u001b[36mdavidbeckham\u001b[0m\n"
      ]
     },
     "metadata": {},
     "output_type": "display_data"
    },
    {
     "data": {
      "text/html": [
       "<pre style=\"white-space:pre;overflow-x:auto;line-height:normal;font-family:Menlo,'DejaVu Sans Mono',consolas,'Courier New',monospace\"><span style=\"color: #800000; text-decoration-color: #800000; font-weight: bold\">        User information already exist, skipping</span><span style=\"color: #808000; text-decoration-color: #808000; font-weight: bold\">...</span>\n",
       "</pre>\n"
      ],
      "text/plain": [
       "\u001b[1;31m \u001b[0m\u001b[1;31m       \u001b[0m\u001b[1;31mUser information already exist, skipping\u001b[0m\u001b[1;33m...\u001b[0m\n"
      ]
     },
     "metadata": {},
     "output_type": "display_data"
    },
    {
     "data": {
      "text/html": [
       "<pre style=\"white-space:pre;overflow-x:auto;line-height:normal;font-family:Menlo,'DejaVu Sans Mono',consolas,'Courier New',monospace\">Getting Account Information: <span style=\"color: #008080; text-decoration-color: #008080\">gigihadid</span>\n",
       "</pre>\n"
      ],
      "text/plain": [
       "Getting Account Information: \u001b[36mgigihadid\u001b[0m\n"
      ]
     },
     "metadata": {},
     "output_type": "display_data"
    },
    {
     "data": {
      "text/html": [
       "<pre style=\"white-space:pre;overflow-x:auto;line-height:normal;font-family:Menlo,'DejaVu Sans Mono',consolas,'Courier New',monospace\"><span style=\"color: #800000; text-decoration-color: #800000; font-weight: bold\">        User information already exist, skipping</span><span style=\"color: #808000; text-decoration-color: #808000; font-weight: bold\">...</span>\n",
       "</pre>\n"
      ],
      "text/plain": [
       "\u001b[1;31m \u001b[0m\u001b[1;31m       \u001b[0m\u001b[1;31mUser information already exist, skipping\u001b[0m\u001b[1;33m...\u001b[0m\n"
      ]
     },
     "metadata": {},
     "output_type": "display_data"
    },
    {
     "data": {
      "text/html": [
       "<pre style=\"white-space:pre;overflow-x:auto;line-height:normal;font-family:Menlo,'DejaVu Sans Mono',consolas,'Courier New',monospace\">Getting Account Information: <span style=\"color: #008080; text-decoration-color: #008080\">jennierubyjane</span>\n",
       "</pre>\n"
      ],
      "text/plain": [
       "Getting Account Information: \u001b[36mjennierubyjane\u001b[0m\n"
      ]
     },
     "metadata": {},
     "output_type": "display_data"
    },
    {
     "data": {
      "text/html": [
       "<pre style=\"white-space:pre;overflow-x:auto;line-height:normal;font-family:Menlo,'DejaVu Sans Mono',consolas,'Courier New',monospace\"><span style=\"color: #800000; text-decoration-color: #800000; font-weight: bold\">        User information already exist, skipping</span><span style=\"color: #808000; text-decoration-color: #808000; font-weight: bold\">...</span>\n",
       "</pre>\n"
      ],
      "text/plain": [
       "\u001b[1;31m \u001b[0m\u001b[1;31m       \u001b[0m\u001b[1;31mUser information already exist, skipping\u001b[0m\u001b[1;33m...\u001b[0m\n"
      ]
     },
     "metadata": {},
     "output_type": "display_data"
    },
    {
     "data": {
      "text/html": [
       "<pre style=\"white-space:pre;overflow-x:auto;line-height:normal;font-family:Menlo,'DejaVu Sans Mono',consolas,'Courier New',monospace\">Getting Account Information: <span style=\"color: #008080; text-decoration-color: #008080\">aliaabhatt</span>\n",
       "</pre>\n"
      ],
      "text/plain": [
       "Getting Account Information: \u001b[36maliaabhatt\u001b[0m\n"
      ]
     },
     "metadata": {},
     "output_type": "display_data"
    },
    {
     "data": {
      "text/html": [
       "<pre style=\"white-space:pre;overflow-x:auto;line-height:normal;font-family:Menlo,'DejaVu Sans Mono',consolas,'Courier New',monospace\"><span style=\"color: #800000; text-decoration-color: #800000; font-weight: bold\">        User information already exist, skipping</span><span style=\"color: #808000; text-decoration-color: #808000; font-weight: bold\">...</span>\n",
       "</pre>\n"
      ],
      "text/plain": [
       "\u001b[1;31m \u001b[0m\u001b[1;31m       \u001b[0m\u001b[1;31mUser information already exist, skipping\u001b[0m\u001b[1;33m...\u001b[0m\n"
      ]
     },
     "metadata": {},
     "output_type": "display_data"
    },
    {
     "data": {
      "text/html": [
       "<pre style=\"white-space:pre;overflow-x:auto;line-height:normal;font-family:Menlo,'DejaVu Sans Mono',consolas,'Courier New',monospace\">Getting Account Information: <span style=\"color: #008080; text-decoration-color: #008080\">victoriassecret</span>\n",
       "</pre>\n"
      ],
      "text/plain": [
       "Getting Account Information: \u001b[36mvictoriassecret\u001b[0m\n"
      ]
     },
     "metadata": {},
     "output_type": "display_data"
    },
    {
     "data": {
      "text/html": [
       "<pre style=\"white-space:pre;overflow-x:auto;line-height:normal;font-family:Menlo,'DejaVu Sans Mono',consolas,'Courier New',monospace\"><span style=\"color: #800000; text-decoration-color: #800000; font-weight: bold\">        User information already exist, skipping</span><span style=\"color: #808000; text-decoration-color: #808000; font-weight: bold\">...</span>\n",
       "</pre>\n"
      ],
      "text/plain": [
       "\u001b[1;31m \u001b[0m\u001b[1;31m       \u001b[0m\u001b[1;31mUser information already exist, skipping\u001b[0m\u001b[1;33m...\u001b[0m\n"
      ]
     },
     "metadata": {},
     "output_type": "display_data"
    },
    {
     "name": "stderr",
     "output_type": "stream",
     "text": [
      " 25%|██▌       | 50/200 [00:00<00:01, 88.75it/s]"
     ]
    },
    {
     "data": {
      "text/html": [
       "<pre style=\"white-space:pre;overflow-x:auto;line-height:normal;font-family:Menlo,'DejaVu Sans Mono',consolas,'Courier New',monospace\">Getting Account Information: <span style=\"color: #008080; text-decoration-color: #008080\">narendramodi</span>\n",
       "</pre>\n"
      ],
      "text/plain": [
       "Getting Account Information: \u001b[36mnarendramodi\u001b[0m\n"
      ]
     },
     "metadata": {},
     "output_type": "display_data"
    },
    {
     "data": {
      "text/html": [
       "<pre style=\"white-space:pre;overflow-x:auto;line-height:normal;font-family:Menlo,'DejaVu Sans Mono',consolas,'Courier New',monospace\"><span style=\"color: #800000; text-decoration-color: #800000; font-weight: bold\">        User information already exist, skipping</span><span style=\"color: #808000; text-decoration-color: #808000; font-weight: bold\">...</span>\n",
       "</pre>\n"
      ],
      "text/plain": [
       "\u001b[1;31m \u001b[0m\u001b[1;31m       \u001b[0m\u001b[1;31mUser information already exist, skipping\u001b[0m\u001b[1;33m...\u001b[0m\n"
      ]
     },
     "metadata": {},
     "output_type": "display_data"
    },
    {
     "data": {
      "text/html": [
       "<pre style=\"white-space:pre;overflow-x:auto;line-height:normal;font-family:Menlo,'DejaVu Sans Mono',consolas,'Courier New',monospace\">Getting Account Information: <span style=\"color: #008080; text-decoration-color: #008080\">nehakakkar</span>\n",
       "</pre>\n"
      ],
      "text/plain": [
       "Getting Account Information: \u001b[36mnehakakkar\u001b[0m\n"
      ]
     },
     "metadata": {},
     "output_type": "display_data"
    },
    {
     "data": {
      "text/html": [
       "<pre style=\"white-space:pre;overflow-x:auto;line-height:normal;font-family:Menlo,'DejaVu Sans Mono',consolas,'Courier New',monospace\"><span style=\"color: #800000; text-decoration-color: #800000; font-weight: bold\">        User information already exist, skipping</span><span style=\"color: #808000; text-decoration-color: #808000; font-weight: bold\">...</span>\n",
       "</pre>\n"
      ],
      "text/plain": [
       "\u001b[1;31m \u001b[0m\u001b[1;31m       \u001b[0m\u001b[1;31mUser information already exist, skipping\u001b[0m\u001b[1;33m...\u001b[0m\n"
      ]
     },
     "metadata": {},
     "output_type": "display_data"
    },
    {
     "data": {
      "text/html": [
       "<pre style=\"white-space:pre;overflow-x:auto;line-height:normal;font-family:Menlo,'DejaVu Sans Mono',consolas,'Courier New',monospace\">Getting Account Information: <span style=\"color: #008080; text-decoration-color: #008080\">bts.bighitofficial</span>\n",
       "</pre>\n"
      ],
      "text/plain": [
       "Getting Account Information: \u001b[36mbts.bighitofficial\u001b[0m\n"
      ]
     },
     "metadata": {},
     "output_type": "display_data"
    },
    {
     "data": {
      "text/html": [
       "<pre style=\"white-space:pre;overflow-x:auto;line-height:normal;font-family:Menlo,'DejaVu Sans Mono',consolas,'Courier New',monospace\"><span style=\"color: #800000; text-decoration-color: #800000; font-weight: bold\">        User information already exist, skipping</span><span style=\"color: #808000; text-decoration-color: #808000; font-weight: bold\">...</span>\n",
       "</pre>\n"
      ],
      "text/plain": [
       "\u001b[1;31m \u001b[0m\u001b[1;31m       \u001b[0m\u001b[1;31mUser information already exist, skipping\u001b[0m\u001b[1;33m...\u001b[0m\n"
      ]
     },
     "metadata": {},
     "output_type": "display_data"
    },
    {
     "data": {
      "text/html": [
       "<pre style=\"white-space:pre;overflow-x:auto;line-height:normal;font-family:Menlo,'DejaVu Sans Mono',consolas,'Courier New',monospace\">Getting Account Information: <span style=\"color: #008080; text-decoration-color: #008080\">ronaldinho</span>\n",
       "</pre>\n"
      ],
      "text/plain": [
       "Getting Account Information: \u001b[36mronaldinho\u001b[0m\n"
      ]
     },
     "metadata": {},
     "output_type": "display_data"
    },
    {
     "data": {
      "text/html": [
       "<pre style=\"white-space:pre;overflow-x:auto;line-height:normal;font-family:Menlo,'DejaVu Sans Mono',consolas,'Courier New',monospace\"><span style=\"color: #800000; text-decoration-color: #800000; font-weight: bold\">        User information already exist, skipping</span><span style=\"color: #808000; text-decoration-color: #808000; font-weight: bold\">...</span>\n",
       "</pre>\n"
      ],
      "text/plain": [
       "\u001b[1;31m \u001b[0m\u001b[1;31m       \u001b[0m\u001b[1;31mUser information already exist, skipping\u001b[0m\u001b[1;33m...\u001b[0m\n"
      ]
     },
     "metadata": {},
     "output_type": "display_data"
    },
    {
     "data": {
      "text/html": [
       "<pre style=\"white-space:pre;overflow-x:auto;line-height:normal;font-family:Menlo,'DejaVu Sans Mono',consolas,'Courier New',monospace\">Getting Account Information: <span style=\"color: #008080; text-decoration-color: #008080\">deepikapadukone</span>\n",
       "</pre>\n"
      ],
      "text/plain": [
       "Getting Account Information: \u001b[36mdeepikapadukone\u001b[0m\n"
      ]
     },
     "metadata": {},
     "output_type": "display_data"
    },
    {
     "data": {
      "text/html": [
       "<pre style=\"white-space:pre;overflow-x:auto;line-height:normal;font-family:Menlo,'DejaVu Sans Mono',consolas,'Courier New',monospace\"><span style=\"color: #800000; text-decoration-color: #800000; font-weight: bold\">        User information already exist, skipping</span><span style=\"color: #808000; text-decoration-color: #808000; font-weight: bold\">...</span>\n",
       "</pre>\n"
      ],
      "text/plain": [
       "\u001b[1;31m \u001b[0m\u001b[1;31m       \u001b[0m\u001b[1;31mUser information already exist, skipping\u001b[0m\u001b[1;33m...\u001b[0m\n"
      ]
     },
     "metadata": {},
     "output_type": "display_data"
    },
    {
     "data": {
      "text/html": [
       "<pre style=\"white-space:pre;overflow-x:auto;line-height:normal;font-family:Menlo,'DejaVu Sans Mono',consolas,'Courier New',monospace\">Getting Account Information: <span style=\"color: #008080; text-decoration-color: #008080\">shawnmendes</span>\n",
       "</pre>\n"
      ],
      "text/plain": [
       "Getting Account Information: \u001b[36mshawnmendes\u001b[0m\n"
      ]
     },
     "metadata": {},
     "output_type": "display_data"
    },
    {
     "data": {
      "text/html": [
       "<pre style=\"white-space:pre;overflow-x:auto;line-height:normal;font-family:Menlo,'DejaVu Sans Mono',consolas,'Courier New',monospace\"><span style=\"color: #800000; text-decoration-color: #800000; font-weight: bold\">        User information already exist, skipping</span><span style=\"color: #808000; text-decoration-color: #808000; font-weight: bold\">...</span>\n",
       "</pre>\n"
      ],
      "text/plain": [
       "\u001b[1;31m \u001b[0m\u001b[1;31m       \u001b[0m\u001b[1;31mUser information already exist, skipping\u001b[0m\u001b[1;33m...\u001b[0m\n"
      ]
     },
     "metadata": {},
     "output_type": "display_data"
    },
    {
     "data": {
      "text/html": [
       "<pre style=\"white-space:pre;overflow-x:auto;line-height:normal;font-family:Menlo,'DejaVu Sans Mono',consolas,'Courier New',monospace\">Getting Account Information: <span style=\"color: #008080; text-decoration-color: #008080\">katrinakaif</span>\n",
       "</pre>\n"
      ],
      "text/plain": [
       "Getting Account Information: \u001b[36mkatrinakaif\u001b[0m\n"
      ]
     },
     "metadata": {},
     "output_type": "display_data"
    },
    {
     "data": {
      "text/html": [
       "<pre style=\"white-space:pre;overflow-x:auto;line-height:normal;font-family:Menlo,'DejaVu Sans Mono',consolas,'Courier New',monospace\"><span style=\"color: #800000; text-decoration-color: #800000; font-weight: bold\">        User information already exist, skipping</span><span style=\"color: #808000; text-decoration-color: #808000; font-weight: bold\">...</span>\n",
       "</pre>\n"
      ],
      "text/plain": [
       "\u001b[1;31m \u001b[0m\u001b[1;31m       \u001b[0m\u001b[1;31mUser information already exist, skipping\u001b[0m\u001b[1;33m...\u001b[0m\n"
      ]
     },
     "metadata": {},
     "output_type": "display_data"
    },
    {
     "data": {
      "text/html": [
       "<pre style=\"white-space:pre;overflow-x:auto;line-height:normal;font-family:Menlo,'DejaVu Sans Mono',consolas,'Courier New',monospace\">Getting Account Information: <span style=\"color: #008080; text-decoration-color: #008080\">sooyaaa__</span>\n",
       "</pre>\n"
      ],
      "text/plain": [
       "Getting Account Information: \u001b[36msooyaaa__\u001b[0m\n"
      ]
     },
     "metadata": {},
     "output_type": "display_data"
    },
    {
     "data": {
      "text/html": [
       "<pre style=\"white-space:pre;overflow-x:auto;line-height:normal;font-family:Menlo,'DejaVu Sans Mono',consolas,'Courier New',monospace\"><span style=\"color: #800000; text-decoration-color: #800000; font-weight: bold\">        User information already exist, skipping</span><span style=\"color: #808000; text-decoration-color: #808000; font-weight: bold\">...</span>\n",
       "</pre>\n"
      ],
      "text/plain": [
       "\u001b[1;31m \u001b[0m\u001b[1;31m       \u001b[0m\u001b[1;31mUser information already exist, skipping\u001b[0m\u001b[1;33m...\u001b[0m\n"
      ]
     },
     "metadata": {},
     "output_type": "display_data"
    },
    {
     "data": {
      "text/html": [
       "<pre style=\"white-space:pre;overflow-x:auto;line-height:normal;font-family:Menlo,'DejaVu Sans Mono',consolas,'Courier New',monospace\">Getting Account Information: <span style=\"color: #008080; text-decoration-color: #008080\">psg</span>\n",
       "</pre>\n"
      ],
      "text/plain": [
       "Getting Account Information: \u001b[36mpsg\u001b[0m\n"
      ]
     },
     "metadata": {},
     "output_type": "display_data"
    },
    {
     "data": {
      "text/html": [
       "<pre style=\"white-space:pre;overflow-x:auto;line-height:normal;font-family:Menlo,'DejaVu Sans Mono',consolas,'Courier New',monospace\"><span style=\"color: #800000; text-decoration-color: #800000; font-weight: bold\">        User information already exist, skipping</span><span style=\"color: #808000; text-decoration-color: #808000; font-weight: bold\">...</span>\n",
       "</pre>\n"
      ],
      "text/plain": [
       "\u001b[1;31m \u001b[0m\u001b[1;31m       \u001b[0m\u001b[1;31mUser information already exist, skipping\u001b[0m\u001b[1;33m...\u001b[0m\n"
      ]
     },
     "metadata": {},
     "output_type": "display_data"
    },
    {
     "data": {
      "text/html": [
       "<pre style=\"white-space:pre;overflow-x:auto;line-height:normal;font-family:Menlo,'DejaVu Sans Mono',consolas,'Courier New',monospace\">Getting Account Information: <span style=\"color: #008080; text-decoration-color: #008080\">emmawatson</span>\n",
       "</pre>\n"
      ],
      "text/plain": [
       "Getting Account Information: \u001b[36memmawatson\u001b[0m\n"
      ]
     },
     "metadata": {},
     "output_type": "display_data"
    },
    {
     "data": {
      "text/html": [
       "<pre style=\"white-space:pre;overflow-x:auto;line-height:normal;font-family:Menlo,'DejaVu Sans Mono',consolas,'Courier New',monospace\"><span style=\"color: #800000; text-decoration-color: #800000; font-weight: bold\">        User information already exist, skipping</span><span style=\"color: #808000; text-decoration-color: #808000; font-weight: bold\">...</span>\n",
       "</pre>\n"
      ],
      "text/plain": [
       "\u001b[1;31m \u001b[0m\u001b[1;31m       \u001b[0m\u001b[1;31mUser information already exist, skipping\u001b[0m\u001b[1;33m...\u001b[0m\n"
      ]
     },
     "metadata": {},
     "output_type": "display_data"
    },
    {
     "name": "stderr",
     "output_type": "stream",
     "text": [
      " 30%|███       | 60/200 [00:00<00:01, 90.82it/s]"
     ]
    },
    {
     "data": {
      "text/html": [
       "<pre style=\"white-space:pre;overflow-x:auto;line-height:normal;font-family:Menlo,'DejaVu Sans Mono',consolas,'Courier New',monospace\">Getting Account Information: <span style=\"color: #008080; text-decoration-color: #008080\">roses_are_rosie</span>\n",
       "</pre>\n"
      ],
      "text/plain": [
       "Getting Account Information: \u001b[36mroses_are_rosie\u001b[0m\n"
      ]
     },
     "metadata": {},
     "output_type": "display_data"
    },
    {
     "data": {
      "text/html": [
       "<pre style=\"white-space:pre;overflow-x:auto;line-height:normal;font-family:Menlo,'DejaVu Sans Mono',consolas,'Courier New',monospace\"><span style=\"color: #800000; text-decoration-color: #800000; font-weight: bold\">        User information already exist, skipping</span><span style=\"color: #808000; text-decoration-color: #808000; font-weight: bold\">...</span>\n",
       "</pre>\n"
      ],
      "text/plain": [
       "\u001b[1;31m \u001b[0m\u001b[1;31m       \u001b[0m\u001b[1;31mUser information already exist, skipping\u001b[0m\u001b[1;33m...\u001b[0m\n"
      ]
     },
     "metadata": {},
     "output_type": "display_data"
    },
    {
     "data": {
      "text/html": [
       "<pre style=\"white-space:pre;overflow-x:auto;line-height:normal;font-family:Menlo,'DejaVu Sans Mono',consolas,'Courier New',monospace\">Getting Account Information: <span style=\"color: #008080; text-decoration-color: #008080\">justintimberlake</span>\n",
       "</pre>\n"
      ],
      "text/plain": [
       "Getting Account Information: \u001b[36mjustintimberlake\u001b[0m\n"
      ]
     },
     "metadata": {},
     "output_type": "display_data"
    },
    {
     "data": {
      "text/html": [
       "<pre style=\"white-space:pre;overflow-x:auto;line-height:normal;font-family:Menlo,'DejaVu Sans Mono',consolas,'Courier New',monospace\"><span style=\"color: #800000; text-decoration-color: #800000; font-weight: bold\">        User information already exist, skipping</span><span style=\"color: #808000; text-decoration-color: #808000; font-weight: bold\">...</span>\n",
       "</pre>\n"
      ],
      "text/plain": [
       "\u001b[1;31m \u001b[0m\u001b[1;31m       \u001b[0m\u001b[1;31mUser information already exist, skipping\u001b[0m\u001b[1;33m...\u001b[0m\n"
      ]
     },
     "metadata": {},
     "output_type": "display_data"
    },
    {
     "data": {
      "text/html": [
       "<pre style=\"white-space:pre;overflow-x:auto;line-height:normal;font-family:Menlo,'DejaVu Sans Mono',consolas,'Courier New',monospace\">Getting Account Information: <span style=\"color: #008080; text-decoration-color: #008080\">karimbenzema</span>\n",
       "</pre>\n"
      ],
      "text/plain": [
       "Getting Account Information: \u001b[36mkarimbenzema\u001b[0m\n"
      ]
     },
     "metadata": {},
     "output_type": "display_data"
    },
    {
     "data": {
      "text/html": [
       "<pre style=\"white-space:pre;overflow-x:auto;line-height:normal;font-family:Menlo,'DejaVu Sans Mono',consolas,'Courier New',monospace\"><span style=\"color: #800000; text-decoration-color: #800000; font-weight: bold\">        User information already exist, skipping</span><span style=\"color: #808000; text-decoration-color: #808000; font-weight: bold\">...</span>\n",
       "</pre>\n"
      ],
      "text/plain": [
       "\u001b[1;31m \u001b[0m\u001b[1;31m       \u001b[0m\u001b[1;31mUser information already exist, skipping\u001b[0m\u001b[1;33m...\u001b[0m\n"
      ]
     },
     "metadata": {},
     "output_type": "display_data"
    },
    {
     "data": {
      "text/html": [
       "<pre style=\"white-space:pre;overflow-x:auto;line-height:normal;font-family:Menlo,'DejaVu Sans Mono',consolas,'Courier New',monospace\">Getting Account Information: <span style=\"color: #008080; text-decoration-color: #008080\">raffinagita1717</span>\n",
       "</pre>\n"
      ],
      "text/plain": [
       "Getting Account Information: \u001b[36mraffinagita1717\u001b[0m\n"
      ]
     },
     "metadata": {},
     "output_type": "display_data"
    },
    {
     "data": {
      "text/html": [
       "<pre style=\"white-space:pre;overflow-x:auto;line-height:normal;font-family:Menlo,'DejaVu Sans Mono',consolas,'Courier New',monospace\"><span style=\"color: #800000; text-decoration-color: #800000; font-weight: bold\">        User information already exist, skipping</span><span style=\"color: #808000; text-decoration-color: #808000; font-weight: bold\">...</span>\n",
       "</pre>\n"
      ],
      "text/plain": [
       "\u001b[1;31m \u001b[0m\u001b[1;31m       \u001b[0m\u001b[1;31mUser information already exist, skipping\u001b[0m\u001b[1;33m...\u001b[0m\n"
      ]
     },
     "metadata": {},
     "output_type": "display_data"
    },
    {
     "data": {
      "text/html": [
       "<pre style=\"white-space:pre;overflow-x:auto;line-height:normal;font-family:Menlo,'DejaVu Sans Mono',consolas,'Courier New',monospace\">Getting Account Information: <span style=\"color: #008080; text-decoration-color: #008080\">marvel</span>\n",
       "</pre>\n"
      ],
      "text/plain": [
       "Getting Account Information: \u001b[36mmarvel\u001b[0m\n"
      ]
     },
     "metadata": {},
     "output_type": "display_data"
    },
    {
     "data": {
      "text/html": [
       "<pre style=\"white-space:pre;overflow-x:auto;line-height:normal;font-family:Menlo,'DejaVu Sans Mono',consolas,'Courier New',monospace\"><span style=\"color: #800000; text-decoration-color: #800000; font-weight: bold\">        User information already exist, skipping</span><span style=\"color: #808000; text-decoration-color: #808000; font-weight: bold\">...</span>\n",
       "</pre>\n"
      ],
      "text/plain": [
       "\u001b[1;31m \u001b[0m\u001b[1;31m       \u001b[0m\u001b[1;31mUser information already exist, skipping\u001b[0m\u001b[1;33m...\u001b[0m\n"
      ]
     },
     "metadata": {},
     "output_type": "display_data"
    },
    {
     "data": {
      "text/html": [
       "<pre style=\"white-space:pre;overflow-x:auto;line-height:normal;font-family:Menlo,'DejaVu Sans Mono',consolas,'Courier New',monospace\">Getting Account Information: <span style=\"color: #008080; text-decoration-color: #008080\">tomholland2013</span>\n",
       "</pre>\n"
      ],
      "text/plain": [
       "Getting Account Information: \u001b[36mtomholland2013\u001b[0m\n"
      ]
     },
     "metadata": {},
     "output_type": "display_data"
    },
    {
     "data": {
      "text/html": [
       "<pre style=\"white-space:pre;overflow-x:auto;line-height:normal;font-family:Menlo,'DejaVu Sans Mono',consolas,'Courier New',monospace\"><span style=\"color: #800000; text-decoration-color: #800000; font-weight: bold\">        User information already exist, skipping</span><span style=\"color: #808000; text-decoration-color: #808000; font-weight: bold\">...</span>\n",
       "</pre>\n"
      ],
      "text/plain": [
       "\u001b[1;31m \u001b[0m\u001b[1;31m       \u001b[0m\u001b[1;31mUser information already exist, skipping\u001b[0m\u001b[1;33m...\u001b[0m\n"
      ]
     },
     "metadata": {},
     "output_type": "display_data"
    },
    {
     "data": {
      "text/html": [
       "<pre style=\"white-space:pre;overflow-x:auto;line-height:normal;font-family:Menlo,'DejaVu Sans Mono',consolas,'Courier New',monospace\">Getting Account Information: <span style=\"color: #008080; text-decoration-color: #008080\">camila_cabello</span>\n",
       "</pre>\n"
      ],
      "text/plain": [
       "Getting Account Information: \u001b[36mcamila_cabello\u001b[0m\n"
      ]
     },
     "metadata": {},
     "output_type": "display_data"
    },
    {
     "data": {
      "text/html": [
       "<pre style=\"white-space:pre;overflow-x:auto;line-height:normal;font-family:Menlo,'DejaVu Sans Mono',consolas,'Courier New',monospace\"><span style=\"color: #800000; text-decoration-color: #800000; font-weight: bold\">        User information already exist, skipping</span><span style=\"color: #808000; text-decoration-color: #808000; font-weight: bold\">...</span>\n",
       "</pre>\n"
      ],
      "text/plain": [
       "\u001b[1;31m \u001b[0m\u001b[1;31m       \u001b[0m\u001b[1;31mUser information already exist, skipping\u001b[0m\u001b[1;33m...\u001b[0m\n"
      ]
     },
     "metadata": {},
     "output_type": "display_data"
    },
    {
     "data": {
      "text/html": [
       "<pre style=\"white-space:pre;overflow-x:auto;line-height:normal;font-family:Menlo,'DejaVu Sans Mono',consolas,'Courier New',monospace\">Getting Account Information: <span style=\"color: #008080; text-decoration-color: #008080\">jacquelinef143</span>\n",
       "</pre>\n"
      ],
      "text/plain": [
       "Getting Account Information: \u001b[36mjacquelinef143\u001b[0m\n"
      ]
     },
     "metadata": {},
     "output_type": "display_data"
    },
    {
     "data": {
      "text/html": [
       "<pre style=\"white-space:pre;overflow-x:auto;line-height:normal;font-family:Menlo,'DejaVu Sans Mono',consolas,'Courier New',monospace\"><span style=\"color: #800000; text-decoration-color: #800000; font-weight: bold\">        User information already exist, skipping</span><span style=\"color: #808000; text-decoration-color: #808000; font-weight: bold\">...</span>\n",
       "</pre>\n"
      ],
      "text/plain": [
       "\u001b[1;31m \u001b[0m\u001b[1;31m       \u001b[0m\u001b[1;31mUser information already exist, skipping\u001b[0m\u001b[1;33m...\u001b[0m\n"
      ]
     },
     "metadata": {},
     "output_type": "display_data"
    },
    {
     "data": {
      "text/html": [
       "<pre style=\"white-space:pre;overflow-x:auto;line-height:normal;font-family:Menlo,'DejaVu Sans Mono',consolas,'Courier New',monospace\">Getting Account Information: <span style=\"color: #008080; text-decoration-color: #008080\">premierleague</span>\n",
       "</pre>\n"
      ],
      "text/plain": [
       "Getting Account Information: \u001b[36mpremierleague\u001b[0m\n"
      ]
     },
     "metadata": {},
     "output_type": "display_data"
    },
    {
     "data": {
      "text/html": [
       "<pre style=\"white-space:pre;overflow-x:auto;line-height:normal;font-family:Menlo,'DejaVu Sans Mono',consolas,'Courier New',monospace\"><span style=\"color: #800000; text-decoration-color: #800000; font-weight: bold\">        User information already exist, skipping</span><span style=\"color: #808000; text-decoration-color: #808000; font-weight: bold\">...</span>\n",
       "</pre>\n"
      ],
      "text/plain": [
       "\u001b[1;31m \u001b[0m\u001b[1;31m       \u001b[0m\u001b[1;31mUser information already exist, skipping\u001b[0m\u001b[1;33m...\u001b[0m\n"
      ]
     },
     "metadata": {},
     "output_type": "display_data"
    },
    {
     "data": {
      "text/html": [
       "<pre style=\"white-space:pre;overflow-x:auto;line-height:normal;font-family:Menlo,'DejaVu Sans Mono',consolas,'Courier New',monospace\">Getting Account Information: <span style=\"color: #008080; text-decoration-color: #008080\">akshaykumar</span>\n",
       "</pre>\n"
      ],
      "text/plain": [
       "Getting Account Information: \u001b[36makshaykumar\u001b[0m\n"
      ]
     },
     "metadata": {},
     "output_type": "display_data"
    },
    {
     "data": {
      "text/html": [
       "<pre style=\"white-space:pre;overflow-x:auto;line-height:normal;font-family:Menlo,'DejaVu Sans Mono',consolas,'Courier New',monospace\"><span style=\"color: #800000; text-decoration-color: #800000; font-weight: bold\">        User information already exist, skipping</span><span style=\"color: #808000; text-decoration-color: #808000; font-weight: bold\">...</span>\n",
       "</pre>\n"
      ],
      "text/plain": [
       "\u001b[1;31m \u001b[0m\u001b[1;31m       \u001b[0m\u001b[1;31mUser information already exist, skipping\u001b[0m\u001b[1;33m...\u001b[0m\n"
      ]
     },
     "metadata": {},
     "output_type": "display_data"
    },
    {
     "data": {
      "text/html": [
       "<pre style=\"white-space:pre;overflow-x:auto;line-height:normal;font-family:Menlo,'DejaVu Sans Mono',consolas,'Courier New',monospace\">Getting Account Information: <span style=\"color: #008080; text-decoration-color: #008080\">anitta</span>\n",
       "</pre>\n"
      ],
      "text/plain": [
       "Getting Account Information: \u001b[36manitta\u001b[0m\n"
      ]
     },
     "metadata": {},
     "output_type": "display_data"
    },
    {
     "data": {
      "text/html": [
       "<pre style=\"white-space:pre;overflow-x:auto;line-height:normal;font-family:Menlo,'DejaVu Sans Mono',consolas,'Courier New',monospace\"><span style=\"color: #800000; text-decoration-color: #800000; font-weight: bold\">        User information already exist, skipping</span><span style=\"color: #808000; text-decoration-color: #808000; font-weight: bold\">...</span>\n",
       "</pre>\n"
      ],
      "text/plain": [
       "\u001b[1;31m \u001b[0m\u001b[1;31m       \u001b[0m\u001b[1;31mUser information already exist, skipping\u001b[0m\u001b[1;33m...\u001b[0m\n"
      ]
     },
     "metadata": {},
     "output_type": "display_data"
    },
    {
     "name": "stderr",
     "output_type": "stream",
     "text": [
      " 36%|███▌      | 71/200 [00:00<00:01, 96.67it/s]"
     ]
    },
    {
     "data": {
      "text/html": [
       "<pre style=\"white-space:pre;overflow-x:auto;line-height:normal;font-family:Menlo,'DejaVu Sans Mono',consolas,'Courier New',monospace\">Getting Account Information: <span style=\"color: #008080; text-decoration-color: #008080\">urvashirautela</span>\n",
       "</pre>\n"
      ],
      "text/plain": [
       "Getting Account Information: \u001b[36murvashirautela\u001b[0m\n"
      ]
     },
     "metadata": {},
     "output_type": "display_data"
    },
    {
     "data": {
      "text/html": [
       "<pre style=\"white-space:pre;overflow-x:auto;line-height:normal;font-family:Menlo,'DejaVu Sans Mono',consolas,'Courier New',monospace\"><span style=\"color: #800000; text-decoration-color: #800000; font-weight: bold\">        User information already exist, skipping</span><span style=\"color: #808000; text-decoration-color: #808000; font-weight: bold\">...</span>\n",
       "</pre>\n"
      ],
      "text/plain": [
       "\u001b[1;31m \u001b[0m\u001b[1;31m       \u001b[0m\u001b[1;31mUser information already exist, skipping\u001b[0m\u001b[1;33m...\u001b[0m\n"
      ]
     },
     "metadata": {},
     "output_type": "display_data"
    },
    {
     "data": {
      "text/html": [
       "<pre style=\"white-space:pre;overflow-x:auto;line-height:normal;font-family:Menlo,'DejaVu Sans Mono',consolas,'Courier New',monospace\">Getting Account Information: <span style=\"color: #008080; text-decoration-color: #008080\">anushkasharma</span>\n",
       "</pre>\n"
      ],
      "text/plain": [
       "Getting Account Information: \u001b[36manushkasharma\u001b[0m\n"
      ]
     },
     "metadata": {},
     "output_type": "display_data"
    },
    {
     "data": {
      "text/html": [
       "<pre style=\"white-space:pre;overflow-x:auto;line-height:normal;font-family:Menlo,'DejaVu Sans Mono',consolas,'Courier New',monospace\"><span style=\"color: #800000; text-decoration-color: #800000; font-weight: bold\">        User information already exist, skipping</span><span style=\"color: #808000; text-decoration-color: #808000; font-weight: bold\">...</span>\n",
       "</pre>\n"
      ],
      "text/plain": [
       "\u001b[1;31m \u001b[0m\u001b[1;31m       \u001b[0m\u001b[1;31mUser information already exist, skipping\u001b[0m\u001b[1;33m...\u001b[0m\n"
      ]
     },
     "metadata": {},
     "output_type": "display_data"
    },
    {
     "data": {
      "text/html": [
       "<pre style=\"white-space:pre;overflow-x:auto;line-height:normal;font-family:Menlo,'DejaVu Sans Mono',consolas,'Courier New',monospace\">Getting Account Information: <span style=\"color: #008080; text-decoration-color: #008080\">willsmith</span>\n",
       "</pre>\n"
      ],
      "text/plain": [
       "Getting Account Information: \u001b[36mwillsmith\u001b[0m\n"
      ]
     },
     "metadata": {},
     "output_type": "display_data"
    },
    {
     "data": {
      "text/html": [
       "<pre style=\"white-space:pre;overflow-x:auto;line-height:normal;font-family:Menlo,'DejaVu Sans Mono',consolas,'Courier New',monospace\"><span style=\"color: #800000; text-decoration-color: #800000; font-weight: bold\">        User information already exist, skipping</span><span style=\"color: #808000; text-decoration-color: #808000; font-weight: bold\">...</span>\n",
       "</pre>\n"
      ],
      "text/plain": [
       "\u001b[1;31m \u001b[0m\u001b[1;31m       \u001b[0m\u001b[1;31mUser information already exist, skipping\u001b[0m\u001b[1;33m...\u001b[0m\n"
      ]
     },
     "metadata": {},
     "output_type": "display_data"
    },
    {
     "data": {
      "text/html": [
       "<pre style=\"white-space:pre;overflow-x:auto;line-height:normal;font-family:Menlo,'DejaVu Sans Mono',consolas,'Courier New',monospace\">Getting Account Information: <span style=\"color: #008080; text-decoration-color: #008080\">maluma</span>\n",
       "</pre>\n"
      ],
      "text/plain": [
       "Getting Account Information: \u001b[36mmaluma\u001b[0m\n"
      ]
     },
     "metadata": {},
     "output_type": "display_data"
    },
    {
     "data": {
      "text/html": [
       "<pre style=\"white-space:pre;overflow-x:auto;line-height:normal;font-family:Menlo,'DejaVu Sans Mono',consolas,'Courier New',monospace\"><span style=\"color: #800000; text-decoration-color: #800000; font-weight: bold\">        User information already exist, skipping</span><span style=\"color: #808000; text-decoration-color: #808000; font-weight: bold\">...</span>\n",
       "</pre>\n"
      ],
      "text/plain": [
       "\u001b[1;31m \u001b[0m\u001b[1;31m       \u001b[0m\u001b[1;31mUser information already exist, skipping\u001b[0m\u001b[1;33m...\u001b[0m\n"
      ]
     },
     "metadata": {},
     "output_type": "display_data"
    },
    {
     "data": {
      "text/html": [
       "<pre style=\"white-space:pre;overflow-x:auto;line-height:normal;font-family:Menlo,'DejaVu Sans Mono',consolas,'Courier New',monospace\">Getting Account Information: <span style=\"color: #008080; text-decoration-color: #008080\">milliebobbybrown</span>\n",
       "</pre>\n"
      ],
      "text/plain": [
       "Getting Account Information: \u001b[36mmilliebobbybrown\u001b[0m\n"
      ]
     },
     "metadata": {},
     "output_type": "display_data"
    },
    {
     "data": {
      "text/html": [
       "<pre style=\"white-space:pre;overflow-x:auto;line-height:normal;font-family:Menlo,'DejaVu Sans Mono',consolas,'Courier New',monospace\"><span style=\"color: #800000; text-decoration-color: #800000; font-weight: bold\">        User information already exist, skipping</span><span style=\"color: #808000; text-decoration-color: #808000; font-weight: bold\">...</span>\n",
       "</pre>\n"
      ],
      "text/plain": [
       "\u001b[1;31m \u001b[0m\u001b[1;31m       \u001b[0m\u001b[1;31mUser information already exist, skipping\u001b[0m\u001b[1;33m...\u001b[0m\n"
      ]
     },
     "metadata": {},
     "output_type": "display_data"
    },
    {
     "data": {
      "text/html": [
       "<pre style=\"white-space:pre;overflow-x:auto;line-height:normal;font-family:Menlo,'DejaVu Sans Mono',consolas,'Courier New',monospace\">Getting Account Information: <span style=\"color: #008080; text-decoration-color: #008080\">marcelotwelve</span>\n",
       "</pre>\n"
      ],
      "text/plain": [
       "Getting Account Information: \u001b[36mmarcelotwelve\u001b[0m\n"
      ]
     },
     "metadata": {},
     "output_type": "display_data"
    },
    {
     "data": {
      "text/html": [
       "<pre style=\"white-space:pre;overflow-x:auto;line-height:normal;font-family:Menlo,'DejaVu Sans Mono',consolas,'Courier New',monospace\"><span style=\"color: #800000; text-decoration-color: #800000; font-weight: bold\">        User information already exist, skipping</span><span style=\"color: #808000; text-decoration-color: #808000; font-weight: bold\">...</span>\n",
       "</pre>\n"
      ],
      "text/plain": [
       "\u001b[1;31m \u001b[0m\u001b[1;31m       \u001b[0m\u001b[1;31mUser information already exist, skipping\u001b[0m\u001b[1;33m...\u001b[0m\n"
      ]
     },
     "metadata": {},
     "output_type": "display_data"
    },
    {
     "data": {
      "text/html": [
       "<pre style=\"white-space:pre;overflow-x:auto;line-height:normal;font-family:Menlo,'DejaVu Sans Mono',consolas,'Courier New',monospace\">Getting Account Information: <span style=\"color: #008080; text-decoration-color: #008080; font-weight: bold\">433</span>\n",
       "</pre>\n"
      ],
      "text/plain": [
       "Getting Account Information: \u001b[1;36m433\u001b[0m\n"
      ]
     },
     "metadata": {},
     "output_type": "display_data"
    },
    {
     "data": {
      "text/html": [
       "<pre style=\"white-space:pre;overflow-x:auto;line-height:normal;font-family:Menlo,'DejaVu Sans Mono',consolas,'Courier New',monospace\"><span style=\"color: #800000; text-decoration-color: #800000; font-weight: bold\">        User information already exist, skipping</span><span style=\"color: #808000; text-decoration-color: #808000; font-weight: bold\">...</span>\n",
       "</pre>\n"
      ],
      "text/plain": [
       "\u001b[1;31m \u001b[0m\u001b[1;31m       \u001b[0m\u001b[1;31mUser information already exist, skipping\u001b[0m\u001b[1;33m...\u001b[0m\n"
      ]
     },
     "metadata": {},
     "output_type": "display_data"
    },
    {
     "data": {
      "text/html": [
       "<pre style=\"white-space:pre;overflow-x:auto;line-height:normal;font-family:Menlo,'DejaVu Sans Mono',consolas,'Courier New',monospace\">Getting Account Information: <span style=\"color: #008080; text-decoration-color: #008080\">manchesterunited</span>\n",
       "</pre>\n"
      ],
      "text/plain": [
       "Getting Account Information: \u001b[36mmanchesterunited\u001b[0m\n"
      ]
     },
     "metadata": {},
     "output_type": "display_data"
    },
    {
     "data": {
      "text/html": [
       "<pre style=\"white-space:pre;overflow-x:auto;line-height:normal;font-family:Menlo,'DejaVu Sans Mono',consolas,'Courier New',monospace\"><span style=\"color: #800000; text-decoration-color: #800000; font-weight: bold\">        User information already exist, skipping</span><span style=\"color: #808000; text-decoration-color: #808000; font-weight: bold\">...</span>\n",
       "</pre>\n"
      ],
      "text/plain": [
       "\u001b[1;31m \u001b[0m\u001b[1;31m       \u001b[0m\u001b[1;31mUser information already exist, skipping\u001b[0m\u001b[1;33m...\u001b[0m\n"
      ]
     },
     "metadata": {},
     "output_type": "display_data"
    },
    {
     "data": {
      "text/html": [
       "<pre style=\"white-space:pre;overflow-x:auto;line-height:normal;font-family:Menlo,'DejaVu Sans Mono',consolas,'Courier New',monospace\">Getting Account Information: <span style=\"color: #008080; text-decoration-color: #008080\">karolg</span>\n",
       "</pre>\n"
      ],
      "text/plain": [
       "Getting Account Information: \u001b[36mkarolg\u001b[0m\n"
      ]
     },
     "metadata": {},
     "output_type": "display_data"
    },
    {
     "data": {
      "text/html": [
       "<pre style=\"white-space:pre;overflow-x:auto;line-height:normal;font-family:Menlo,'DejaVu Sans Mono',consolas,'Courier New',monospace\"><span style=\"color: #800000; text-decoration-color: #800000; font-weight: bold\">        User information already exist, skipping</span><span style=\"color: #808000; text-decoration-color: #808000; font-weight: bold\">...</span>\n",
       "</pre>\n"
      ],
      "text/plain": [
       "\u001b[1;31m \u001b[0m\u001b[1;31m       \u001b[0m\u001b[1;31mUser information already exist, skipping\u001b[0m\u001b[1;33m...\u001b[0m\n"
      ]
     },
     "metadata": {},
     "output_type": "display_data"
    },
    {
     "data": {
      "text/html": [
       "<pre style=\"white-space:pre;overflow-x:auto;line-height:normal;font-family:Menlo,'DejaVu Sans Mono',consolas,'Courier New',monospace\">Getting Account Information: <span style=\"color: #008080; text-decoration-color: #008080\">zacefron</span>\n",
       "</pre>\n"
      ],
      "text/plain": [
       "Getting Account Information: \u001b[36mzacefron\u001b[0m\n"
      ]
     },
     "metadata": {},
     "output_type": "display_data"
    },
    {
     "data": {
      "text/html": [
       "<pre style=\"white-space:pre;overflow-x:auto;line-height:normal;font-family:Menlo,'DejaVu Sans Mono',consolas,'Courier New',monospace\"><span style=\"color: #800000; text-decoration-color: #800000; font-weight: bold\">        User information already exist, skipping</span><span style=\"color: #808000; text-decoration-color: #808000; font-weight: bold\">...</span>\n",
       "</pre>\n"
      ],
      "text/plain": [
       "\u001b[1;31m \u001b[0m\u001b[1;31m       \u001b[0m\u001b[1;31mUser information already exist, skipping\u001b[0m\u001b[1;33m...\u001b[0m\n"
      ]
     },
     "metadata": {},
     "output_type": "display_data"
    },
    {
     "name": "stderr",
     "output_type": "stream",
     "text": [
      " 40%|████      | 81/200 [00:00<00:01, 89.56it/s]"
     ]
    },
    {
     "data": {
      "text/html": [
       "<pre style=\"white-space:pre;overflow-x:auto;line-height:normal;font-family:Menlo,'DejaVu Sans Mono',consolas,'Courier New',monospace\">Getting Account Information: <span style=\"color: #008080; text-decoration-color: #008080\">beingsalmankhan</span>\n",
       "</pre>\n"
      ],
      "text/plain": [
       "Getting Account Information: \u001b[36mbeingsalmankhan\u001b[0m\n"
      ]
     },
     "metadata": {},
     "output_type": "display_data"
    },
    {
     "data": {
      "text/html": [
       "<pre style=\"white-space:pre;overflow-x:auto;line-height:normal;font-family:Menlo,'DejaVu Sans Mono',consolas,'Courier New',monospace\"><span style=\"color: #800000; text-decoration-color: #800000; font-weight: bold\">        User information already exist, skipping</span><span style=\"color: #808000; text-decoration-color: #808000; font-weight: bold\">...</span>\n",
       "</pre>\n"
      ],
      "text/plain": [
       "\u001b[1;31m \u001b[0m\u001b[1;31m       \u001b[0m\u001b[1;31mUser information already exist, skipping\u001b[0m\u001b[1;33m...\u001b[0m\n"
      ]
     },
     "metadata": {},
     "output_type": "display_data"
    },
    {
     "data": {
      "text/html": [
       "<pre style=\"white-space:pre;overflow-x:auto;line-height:normal;font-family:Menlo,'DejaVu Sans Mono',consolas,'Courier New',monospace\">Getting Account Information: <span style=\"color: #008080; text-decoration-color: #008080\">iamzlatanibrahimovic</span>\n",
       "</pre>\n"
      ],
      "text/plain": [
       "Getting Account Information: \u001b[36miamzlatanibrahimovic\u001b[0m\n"
      ]
     },
     "metadata": {},
     "output_type": "display_data"
    },
    {
     "data": {
      "text/html": [
       "<pre style=\"white-space:pre;overflow-x:auto;line-height:normal;font-family:Menlo,'DejaVu Sans Mono',consolas,'Courier New',monospace\"><span style=\"color: #800000; text-decoration-color: #800000; font-weight: bold\">        User information already exist, skipping</span><span style=\"color: #808000; text-decoration-color: #808000; font-weight: bold\">...</span>\n",
       "</pre>\n"
      ],
      "text/plain": [
       "\u001b[1;31m \u001b[0m\u001b[1;31m       \u001b[0m\u001b[1;31mUser information already exist, skipping\u001b[0m\u001b[1;33m...\u001b[0m\n"
      ]
     },
     "metadata": {},
     "output_type": "display_data"
    },
    {
     "data": {
      "text/html": [
       "<pre style=\"white-space:pre;overflow-x:auto;line-height:normal;font-family:Menlo,'DejaVu Sans Mono',consolas,'Courier New',monospace\">Getting Account Information: <span style=\"color: #008080; text-decoration-color: #008080\">9gag</span>\n",
       "</pre>\n"
      ],
      "text/plain": [
       "Getting Account Information: \u001b[36m9gag\u001b[0m\n"
      ]
     },
     "metadata": {},
     "output_type": "display_data"
    },
    {
     "data": {
      "text/html": [
       "<pre style=\"white-space:pre;overflow-x:auto;line-height:normal;font-family:Menlo,'DejaVu Sans Mono',consolas,'Courier New',monospace\"><span style=\"color: #800000; text-decoration-color: #800000; font-weight: bold\">        User information already exist, skipping</span><span style=\"color: #808000; text-decoration-color: #808000; font-weight: bold\">...</span>\n",
       "</pre>\n"
      ],
      "text/plain": [
       "\u001b[1;31m \u001b[0m\u001b[1;31m       \u001b[0m\u001b[1;31mUser information already exist, skipping\u001b[0m\u001b[1;33m...\u001b[0m\n"
      ]
     },
     "metadata": {},
     "output_type": "display_data"
    },
    {
     "data": {
      "text/html": [
       "<pre style=\"white-space:pre;overflow-x:auto;line-height:normal;font-family:Menlo,'DejaVu Sans Mono',consolas,'Courier New',monospace\">Getting Account Information: <span style=\"color: #008080; text-decoration-color: #008080\">whinderssonnunes</span>\n",
       "</pre>\n"
      ],
      "text/plain": [
       "Getting Account Information: \u001b[36mwhinderssonnunes\u001b[0m\n"
      ]
     },
     "metadata": {},
     "output_type": "display_data"
    },
    {
     "data": {
      "text/html": [
       "<pre style=\"white-space:pre;overflow-x:auto;line-height:normal;font-family:Menlo,'DejaVu Sans Mono',consolas,'Courier New',monospace\"><span style=\"color: #800000; text-decoration-color: #800000; font-weight: bold\">        User information already exist, skipping</span><span style=\"color: #808000; text-decoration-color: #808000; font-weight: bold\">...</span>\n",
       "</pre>\n"
      ],
      "text/plain": [
       "\u001b[1;31m \u001b[0m\u001b[1;31m       \u001b[0m\u001b[1;31mUser information already exist, skipping\u001b[0m\u001b[1;33m...\u001b[0m\n"
      ]
     },
     "metadata": {},
     "output_type": "display_data"
    },
    {
     "data": {
      "text/html": [
       "<pre style=\"white-space:pre;overflow-x:auto;line-height:normal;font-family:Menlo,'DejaVu Sans Mono',consolas,'Courier New',monospace\">Getting Account Information: <span style=\"color: #008080; text-decoration-color: #008080\">thv</span>\n",
       "</pre>\n"
      ],
      "text/plain": [
       "Getting Account Information: \u001b[36mthv\u001b[0m\n"
      ]
     },
     "metadata": {},
     "output_type": "display_data"
    },
    {
     "data": {
      "text/html": [
       "<pre style=\"white-space:pre;overflow-x:auto;line-height:normal;font-family:Menlo,'DejaVu Sans Mono',consolas,'Courier New',monospace\"><span style=\"color: #800000; text-decoration-color: #800000; font-weight: bold\">        User information already exist, skipping</span><span style=\"color: #808000; text-decoration-color: #808000; font-weight: bold\">...</span>\n",
       "</pre>\n"
      ],
      "text/plain": [
       "\u001b[1;31m \u001b[0m\u001b[1;31m       \u001b[0m\u001b[1;31mUser information already exist, skipping\u001b[0m\u001b[1;33m...\u001b[0m\n"
      ]
     },
     "metadata": {},
     "output_type": "display_data"
    },
    {
     "data": {
      "text/html": [
       "<pre style=\"white-space:pre;overflow-x:auto;line-height:normal;font-family:Menlo,'DejaVu Sans Mono',consolas,'Courier New',monospace\">Getting Account Information: <span style=\"color: #008080; text-decoration-color: #008080\">bellahadid</span>\n",
       "</pre>\n"
      ],
      "text/plain": [
       "Getting Account Information: \u001b[36mbellahadid\u001b[0m\n"
      ]
     },
     "metadata": {},
     "output_type": "display_data"
    },
    {
     "data": {
      "text/html": [
       "<pre style=\"white-space:pre;overflow-x:auto;line-height:normal;font-family:Menlo,'DejaVu Sans Mono',consolas,'Courier New',monospace\"><span style=\"color: #800000; text-decoration-color: #800000; font-weight: bold\">        User information already exist, skipping</span><span style=\"color: #808000; text-decoration-color: #808000; font-weight: bold\">...</span>\n",
       "</pre>\n"
      ],
      "text/plain": [
       "\u001b[1;31m \u001b[0m\u001b[1;31m       \u001b[0m\u001b[1;31mUser information already exist, skipping\u001b[0m\u001b[1;33m...\u001b[0m\n"
      ]
     },
     "metadata": {},
     "output_type": "display_data"
    },
    {
     "data": {
      "text/html": [
       "<pre style=\"white-space:pre;overflow-x:auto;line-height:normal;font-family:Menlo,'DejaVu Sans Mono',consolas,'Courier New',monospace\">Getting Account Information: <span style=\"color: #008080; text-decoration-color: #008080\">paulpogba</span>\n",
       "</pre>\n"
      ],
      "text/plain": [
       "Getting Account Information: \u001b[36mpaulpogba\u001b[0m\n"
      ]
     },
     "metadata": {},
     "output_type": "display_data"
    },
    {
     "data": {
      "text/html": [
       "<pre style=\"white-space:pre;overflow-x:auto;line-height:normal;font-family:Menlo,'DejaVu Sans Mono',consolas,'Courier New',monospace\"><span style=\"color: #800000; text-decoration-color: #800000; font-weight: bold\">        User information already exist, skipping</span><span style=\"color: #808000; text-decoration-color: #808000; font-weight: bold\">...</span>\n",
       "</pre>\n"
      ],
      "text/plain": [
       "\u001b[1;31m \u001b[0m\u001b[1;31m       \u001b[0m\u001b[1;31mUser information already exist, skipping\u001b[0m\u001b[1;33m...\u001b[0m\n"
      ]
     },
     "metadata": {},
     "output_type": "display_data"
    },
    {
     "data": {
      "text/html": [
       "<pre style=\"white-space:pre;overflow-x:auto;line-height:normal;font-family:Menlo,'DejaVu Sans Mono',consolas,'Courier New',monospace\">Getting Account Information: <span style=\"color: #008080; text-decoration-color: #008080\">juventus</span>\n",
       "</pre>\n"
      ],
      "text/plain": [
       "Getting Account Information: \u001b[36mjuventus\u001b[0m\n"
      ]
     },
     "metadata": {},
     "output_type": "display_data"
    },
    {
     "data": {
      "text/html": [
       "<pre style=\"white-space:pre;overflow-x:auto;line-height:normal;font-family:Menlo,'DejaVu Sans Mono',consolas,'Courier New',monospace\"><span style=\"color: #800000; text-decoration-color: #800000; font-weight: bold\">        User information already exist, skipping</span><span style=\"color: #808000; text-decoration-color: #808000; font-weight: bold\">...</span>\n",
       "</pre>\n"
      ],
      "text/plain": [
       "\u001b[1;31m \u001b[0m\u001b[1;31m       \u001b[0m\u001b[1;31mUser information already exist, skipping\u001b[0m\u001b[1;33m...\u001b[0m\n"
      ]
     },
     "metadata": {},
     "output_type": "display_data"
    },
    {
     "data": {
      "text/html": [
       "<pre style=\"white-space:pre;overflow-x:auto;line-height:normal;font-family:Menlo,'DejaVu Sans Mono',consolas,'Courier New',monospace\">Getting Account Information: <span style=\"color: #008080; text-decoration-color: #008080\">leonardodicaprio</span>\n",
       "</pre>\n"
      ],
      "text/plain": [
       "Getting Account Information: \u001b[36mleonardodicaprio\u001b[0m\n"
      ]
     },
     "metadata": {},
     "output_type": "display_data"
    },
    {
     "data": {
      "text/html": [
       "<pre style=\"white-space:pre;overflow-x:auto;line-height:normal;font-family:Menlo,'DejaVu Sans Mono',consolas,'Courier New',monospace\"><span style=\"color: #800000; text-decoration-color: #800000; font-weight: bold\">        User information already exist, skipping</span><span style=\"color: #808000; text-decoration-color: #808000; font-weight: bold\">...</span>\n",
       "</pre>\n"
      ],
      "text/plain": [
       "\u001b[1;31m \u001b[0m\u001b[1;31m       \u001b[0m\u001b[1;31mUser information already exist, skipping\u001b[0m\u001b[1;33m...\u001b[0m\n"
      ]
     },
     "metadata": {},
     "output_type": "display_data"
    },
    {
     "data": {
      "text/html": [
       "<pre style=\"white-space:pre;overflow-x:auto;line-height:normal;font-family:Menlo,'DejaVu Sans Mono',consolas,'Courier New',monospace\">Getting Account Information: <span style=\"color: #008080; text-decoration-color: #008080\">dishapatani</span>\n",
       "</pre>\n"
      ],
      "text/plain": [
       "Getting Account Information: \u001b[36mdishapatani\u001b[0m\n"
      ]
     },
     "metadata": {},
     "output_type": "display_data"
    },
    {
     "data": {
      "text/html": [
       "<pre style=\"white-space:pre;overflow-x:auto;line-height:normal;font-family:Menlo,'DejaVu Sans Mono',consolas,'Courier New',monospace\"><span style=\"color: #800000; text-decoration-color: #800000; font-weight: bold\">        User information already exist, skipping</span><span style=\"color: #808000; text-decoration-color: #808000; font-weight: bold\">...</span>\n",
       "</pre>\n"
      ],
      "text/plain": [
       "\u001b[1;31m \u001b[0m\u001b[1;31m       \u001b[0m\u001b[1;31mUser information already exist, skipping\u001b[0m\u001b[1;33m...\u001b[0m\n"
      ]
     },
     "metadata": {},
     "output_type": "display_data"
    },
    {
     "name": "stderr",
     "output_type": "stream",
     "text": [
      " 46%|████▌     | 91/200 [00:01<00:01, 82.49it/s]"
     ]
    },
    {
     "data": {
      "text/html": [
       "<pre style=\"white-space:pre;overflow-x:auto;line-height:normal;font-family:Menlo,'DejaVu Sans Mono',consolas,'Courier New',monospace\">Getting Account Information: <span style=\"color: #008080; text-decoration-color: #008080\">sergioramos</span>\n",
       "</pre>\n"
      ],
      "text/plain": [
       "Getting Account Information: \u001b[36msergioramos\u001b[0m\n"
      ]
     },
     "metadata": {},
     "output_type": "display_data"
    },
    {
     "data": {
      "text/html": [
       "<pre style=\"white-space:pre;overflow-x:auto;line-height:normal;font-family:Menlo,'DejaVu Sans Mono',consolas,'Courier New',monospace\"><span style=\"color: #800000; text-decoration-color: #800000; font-weight: bold\">        User information already exist, skipping</span><span style=\"color: #808000; text-decoration-color: #808000; font-weight: bold\">...</span>\n",
       "</pre>\n"
      ],
      "text/plain": [
       "\u001b[1;31m \u001b[0m\u001b[1;31m       \u001b[0m\u001b[1;31mUser information already exist, skipping\u001b[0m\u001b[1;33m...\u001b[0m\n"
      ]
     },
     "metadata": {},
     "output_type": "display_data"
    },
    {
     "data": {
      "text/html": [
       "<pre style=\"white-space:pre;overflow-x:auto;line-height:normal;font-family:Menlo,'DejaVu Sans Mono',consolas,'Courier New',monospace\">Getting Account Information: <span style=\"color: #008080; text-decoration-color: #008080\">zara</span>\n",
       "</pre>\n"
      ],
      "text/plain": [
       "Getting Account Information: \u001b[36mzara\u001b[0m\n"
      ]
     },
     "metadata": {},
     "output_type": "display_data"
    },
    {
     "data": {
      "text/html": [
       "<pre style=\"white-space:pre;overflow-x:auto;line-height:normal;font-family:Menlo,'DejaVu Sans Mono',consolas,'Courier New',monospace\"><span style=\"color: #800000; text-decoration-color: #800000; font-weight: bold\">        User information already exist, skipping</span><span style=\"color: #808000; text-decoration-color: #808000; font-weight: bold\">...</span>\n",
       "</pre>\n"
      ],
      "text/plain": [
       "\u001b[1;31m \u001b[0m\u001b[1;31m       \u001b[0m\u001b[1;31mUser information already exist, skipping\u001b[0m\u001b[1;33m...\u001b[0m\n"
      ]
     },
     "metadata": {},
     "output_type": "display_data"
    },
    {
     "data": {
      "text/html": [
       "<pre style=\"white-space:pre;overflow-x:auto;line-height:normal;font-family:Menlo,'DejaVu Sans Mono',consolas,'Courier New',monospace\">Getting Account Information: <span style=\"color: #008080; text-decoration-color: #008080\">chrishemsworth</span>\n",
       "</pre>\n"
      ],
      "text/plain": [
       "Getting Account Information: \u001b[36mchrishemsworth\u001b[0m\n"
      ]
     },
     "metadata": {},
     "output_type": "display_data"
    },
    {
     "data": {
      "text/html": [
       "<pre style=\"white-space:pre;overflow-x:auto;line-height:normal;font-family:Menlo,'DejaVu Sans Mono',consolas,'Courier New',monospace\"><span style=\"color: #800000; text-decoration-color: #800000; font-weight: bold\">        User information already exist, skipping</span><span style=\"color: #808000; text-decoration-color: #808000; font-weight: bold\">...</span>\n",
       "</pre>\n"
      ],
      "text/plain": [
       "\u001b[1;31m \u001b[0m\u001b[1;31m       \u001b[0m\u001b[1;31mUser information already exist, skipping\u001b[0m\u001b[1;33m...\u001b[0m\n"
      ]
     },
     "metadata": {},
     "output_type": "display_data"
    },
    {
     "data": {
      "text/html": [
       "<pre style=\"white-space:pre;overflow-x:auto;line-height:normal;font-family:Menlo,'DejaVu Sans Mono',consolas,'Courier New',monospace\">Getting Account Information: <span style=\"color: #008080; text-decoration-color: #008080\">tatawerneck</span>\n",
       "</pre>\n"
      ],
      "text/plain": [
       "Getting Account Information: \u001b[36mtatawerneck\u001b[0m\n"
      ]
     },
     "metadata": {},
     "output_type": "display_data"
    },
    {
     "data": {
      "text/html": [
       "<pre style=\"white-space:pre;overflow-x:auto;line-height:normal;font-family:Menlo,'DejaVu Sans Mono',consolas,'Courier New',monospace\"><span style=\"color: #800000; text-decoration-color: #800000; font-weight: bold\">        User information already exist, skipping</span><span style=\"color: #808000; text-decoration-color: #808000; font-weight: bold\">...</span>\n",
       "</pre>\n"
      ],
      "text/plain": [
       "\u001b[1;31m \u001b[0m\u001b[1;31m       \u001b[0m\u001b[1;31mUser information already exist, skipping\u001b[0m\u001b[1;33m...\u001b[0m\n"
      ]
     },
     "metadata": {},
     "output_type": "display_data"
    },
    {
     "data": {
      "text/html": [
       "<pre style=\"white-space:pre;overflow-x:auto;line-height:normal;font-family:Menlo,'DejaVu Sans Mono',consolas,'Courier New',monospace\">Getting Account Information: <span style=\"color: #008080; text-decoration-color: #008080\">robertdowneyjr</span>\n",
       "</pre>\n"
      ],
      "text/plain": [
       "Getting Account Information: \u001b[36mrobertdowneyjr\u001b[0m\n"
      ]
     },
     "metadata": {},
     "output_type": "display_data"
    },
    {
     "data": {
      "text/html": [
       "<pre style=\"white-space:pre;overflow-x:auto;line-height:normal;font-family:Menlo,'DejaVu Sans Mono',consolas,'Courier New',monospace\"><span style=\"color: #800000; text-decoration-color: #800000; font-weight: bold\">        User information already exist, skipping</span><span style=\"color: #808000; text-decoration-color: #808000; font-weight: bold\">...</span>\n",
       "</pre>\n"
      ],
      "text/plain": [
       "\u001b[1;31m \u001b[0m\u001b[1;31m       \u001b[0m\u001b[1;31mUser information already exist, skipping\u001b[0m\u001b[1;33m...\u001b[0m\n"
      ]
     },
     "metadata": {},
     "output_type": "display_data"
    },
    {
     "data": {
      "text/html": [
       "<pre style=\"white-space:pre;overflow-x:auto;line-height:normal;font-family:Menlo,'DejaVu Sans Mono',consolas,'Courier New',monospace\">Getting Account Information: <span style=\"color: #008080; text-decoration-color: #008080\">paulodybala</span>\n",
       "</pre>\n"
      ],
      "text/plain": [
       "Getting Account Information: \u001b[36mpaulodybala\u001b[0m\n"
      ]
     },
     "metadata": {},
     "output_type": "display_data"
    },
    {
     "data": {
      "text/html": [
       "<pre style=\"white-space:pre;overflow-x:auto;line-height:normal;font-family:Menlo,'DejaVu Sans Mono',consolas,'Courier New',monospace\"><span style=\"color: #800000; text-decoration-color: #800000; font-weight: bold\">        User information already exist, skipping</span><span style=\"color: #808000; text-decoration-color: #808000; font-weight: bold\">...</span>\n",
       "</pre>\n"
      ],
      "text/plain": [
       "\u001b[1;31m \u001b[0m\u001b[1;31m       \u001b[0m\u001b[1;31mUser information already exist, skipping\u001b[0m\u001b[1;33m...\u001b[0m\n"
      ]
     },
     "metadata": {},
     "output_type": "display_data"
    },
    {
     "data": {
      "text/html": [
       "<pre style=\"white-space:pre;overflow-x:auto;line-height:normal;font-family:Menlo,'DejaVu Sans Mono',consolas,'Courier New',monospace\">Getting Account Information: <span style=\"color: #008080; text-decoration-color: #008080\">chanelofficial</span>\n",
       "</pre>\n"
      ],
      "text/plain": [
       "Getting Account Information: \u001b[36mchanelofficial\u001b[0m\n"
      ]
     },
     "metadata": {},
     "output_type": "display_data"
    },
    {
     "data": {
      "text/html": [
       "<pre style=\"white-space:pre;overflow-x:auto;line-height:normal;font-family:Menlo,'DejaVu Sans Mono',consolas,'Courier New',monospace\"><span style=\"color: #800000; text-decoration-color: #800000; font-weight: bold\">        User information already exist, skipping</span><span style=\"color: #808000; text-decoration-color: #808000; font-weight: bold\">...</span>\n",
       "</pre>\n"
      ],
      "text/plain": [
       "\u001b[1;31m \u001b[0m\u001b[1;31m       \u001b[0m\u001b[1;31mUser information already exist, skipping\u001b[0m\u001b[1;33m...\u001b[0m\n"
      ]
     },
     "metadata": {},
     "output_type": "display_data"
    },
    {
     "data": {
      "text/html": [
       "<pre style=\"white-space:pre;overflow-x:auto;line-height:normal;font-family:Menlo,'DejaVu Sans Mono',consolas,'Courier New',monospace\">Getting Account Information: <span style=\"color: #008080; text-decoration-color: #008080\">ladygaga</span>\n",
       "</pre>\n"
      ],
      "text/plain": [
       "Getting Account Information: \u001b[36mladygaga\u001b[0m\n"
      ]
     },
     "metadata": {},
     "output_type": "display_data"
    },
    {
     "data": {
      "text/html": [
       "<pre style=\"white-space:pre;overflow-x:auto;line-height:normal;font-family:Menlo,'DejaVu Sans Mono',consolas,'Courier New',monospace\"><span style=\"color: #800000; text-decoration-color: #800000; font-weight: bold\">        User information already exist, skipping</span><span style=\"color: #808000; text-decoration-color: #808000; font-weight: bold\">...</span>\n",
       "</pre>\n"
      ],
      "text/plain": [
       "\u001b[1;31m \u001b[0m\u001b[1;31m       \u001b[0m\u001b[1;31mUser information already exist, skipping\u001b[0m\u001b[1;33m...\u001b[0m\n"
      ]
     },
     "metadata": {},
     "output_type": "display_data"
    },
    {
     "data": {
      "text/html": [
       "<pre style=\"white-space:pre;overflow-x:auto;line-height:normal;font-family:Menlo,'DejaVu Sans Mono',consolas,'Courier New',monospace\">Getting Account Information: <span style=\"color: #008080; text-decoration-color: #008080\">sunnyleone</span>\n",
       "</pre>\n"
      ],
      "text/plain": [
       "Getting Account Information: \u001b[36msunnyleone\u001b[0m\n"
      ]
     },
     "metadata": {},
     "output_type": "display_data"
    },
    {
     "data": {
      "text/html": [
       "<pre style=\"white-space:pre;overflow-x:auto;line-height:normal;font-family:Menlo,'DejaVu Sans Mono',consolas,'Courier New',monospace\"><span style=\"color: #800000; text-decoration-color: #800000; font-weight: bold\">        User information already exist, skipping</span><span style=\"color: #808000; text-decoration-color: #808000; font-weight: bold\">...</span>\n",
       "</pre>\n"
      ],
      "text/plain": [
       "\u001b[1;31m \u001b[0m\u001b[1;31m       \u001b[0m\u001b[1;31mUser information already exist, skipping\u001b[0m\u001b[1;33m...\u001b[0m\n"
      ]
     },
     "metadata": {},
     "output_type": "display_data"
    },
    {
     "data": {
      "text/html": [
       "<pre style=\"white-space:pre;overflow-x:auto;line-height:normal;font-family:Menlo,'DejaVu Sans Mono',consolas,'Courier New',monospace\">Getting Account Information: <span style=\"color: #008080; text-decoration-color: #008080\">theshaderoom</span>\n",
       "</pre>\n"
      ],
      "text/plain": [
       "Getting Account Information: \u001b[36mtheshaderoom\u001b[0m\n"
      ]
     },
     "metadata": {},
     "output_type": "display_data"
    },
    {
     "data": {
      "text/html": [
       "<pre style=\"white-space:pre;overflow-x:auto;line-height:normal;font-family:Menlo,'DejaVu Sans Mono',consolas,'Courier New',monospace\"><span style=\"color: #800000; text-decoration-color: #800000; font-weight: bold\">        User information already exist, skipping</span><span style=\"color: #808000; text-decoration-color: #808000; font-weight: bold\">...</span>\n",
       "</pre>\n"
      ],
      "text/plain": [
       "\u001b[1;31m \u001b[0m\u001b[1;31m       \u001b[0m\u001b[1;31mUser information already exist, skipping\u001b[0m\u001b[1;33m...\u001b[0m\n"
      ]
     },
     "metadata": {},
     "output_type": "display_data"
    },
    {
     "name": "stderr",
     "output_type": "stream",
     "text": [
      " 50%|█████     | 101/200 [00:01<00:01, 85.41it/s]"
     ]
    },
    {
     "data": {
      "text/html": [
       "<pre style=\"white-space:pre;overflow-x:auto;line-height:normal;font-family:Menlo,'DejaVu Sans Mono',consolas,'Courier New',monospace\">Getting Account Information: <span style=\"color: #008080; text-decoration-color: #008080\">hollywoodunlocked</span>\n",
       "</pre>\n"
      ],
      "text/plain": [
       "Getting Account Information: \u001b[36mhollywoodunlocked\u001b[0m\n"
      ]
     },
     "metadata": {},
     "output_type": "display_data"
    },
    {
     "data": {
      "text/html": [
       "<pre style=\"white-space:pre;overflow-x:auto;line-height:normal;font-family:Menlo,'DejaVu Sans Mono',consolas,'Courier New',monospace\"><span style=\"color: #800000; text-decoration-color: #800000; font-weight: bold\">        User information already exist, skipping</span><span style=\"color: #808000; text-decoration-color: #808000; font-weight: bold\">...</span>\n",
       "</pre>\n"
      ],
      "text/plain": [
       "\u001b[1;31m \u001b[0m\u001b[1;31m       \u001b[0m\u001b[1;31mUser information already exist, skipping\u001b[0m\u001b[1;33m...\u001b[0m\n"
      ]
     },
     "metadata": {},
     "output_type": "display_data"
    },
    {
     "data": {
      "text/html": [
       "<pre style=\"white-space:pre;overflow-x:auto;line-height:normal;font-family:Menlo,'DejaVu Sans Mono',consolas,'Courier New',monospace\">Getting Account Information: <span style=\"color: #008080; text-decoration-color: #008080\">rvcjinsta</span>\n",
       "</pre>\n"
      ],
      "text/plain": [
       "Getting Account Information: \u001b[36mrvcjinsta\u001b[0m\n"
      ]
     },
     "metadata": {},
     "output_type": "display_data"
    },
    {
     "data": {
      "text/html": [
       "<pre style=\"white-space:pre;overflow-x:auto;line-height:normal;font-family:Menlo,'DejaVu Sans Mono',consolas,'Courier New',monospace\"><span style=\"color: #800000; text-decoration-color: #800000; font-weight: bold\">        User information already exist, skipping</span><span style=\"color: #808000; text-decoration-color: #808000; font-weight: bold\">...</span>\n",
       "</pre>\n"
      ],
      "text/plain": [
       "\u001b[1;31m \u001b[0m\u001b[1;31m       \u001b[0m\u001b[1;31mUser information already exist, skipping\u001b[0m\u001b[1;33m...\u001b[0m\n"
      ]
     },
     "metadata": {},
     "output_type": "display_data"
    },
    {
     "data": {
      "text/html": [
       "<pre style=\"white-space:pre;overflow-x:auto;line-height:normal;font-family:Menlo,'DejaVu Sans Mono',consolas,'Courier New',monospace\">Getting Account Information: <span style=\"color: #008080; text-decoration-color: #008080\">manotoofficial</span>\n",
       "</pre>\n"
      ],
      "text/plain": [
       "Getting Account Information: \u001b[36mmanotoofficial\u001b[0m\n"
      ]
     },
     "metadata": {},
     "output_type": "display_data"
    },
    {
     "data": {
      "text/html": [
       "<pre style=\"white-space:pre;overflow-x:auto;line-height:normal;font-family:Menlo,'DejaVu Sans Mono',consolas,'Courier New',monospace\"><span style=\"color: #800000; text-decoration-color: #800000; font-weight: bold\">        User information already exist, skipping</span><span style=\"color: #808000; text-decoration-color: #808000; font-weight: bold\">...</span>\n",
       "</pre>\n"
      ],
      "text/plain": [
       "\u001b[1;31m \u001b[0m\u001b[1;31m       \u001b[0m\u001b[1;31mUser information already exist, skipping\u001b[0m\u001b[1;33m...\u001b[0m\n"
      ]
     },
     "metadata": {},
     "output_type": "display_data"
    },
    {
     "data": {
      "text/html": [
       "<pre style=\"white-space:pre;overflow-x:auto;line-height:normal;font-family:Menlo,'DejaVu Sans Mono',consolas,'Courier New',monospace\">Getting Account Information: <span style=\"color: #008080; text-decoration-color: #008080\">tvnnoticias</span>\n",
       "</pre>\n"
      ],
      "text/plain": [
       "Getting Account Information: \u001b[36mtvnnoticias\u001b[0m\n"
      ]
     },
     "metadata": {},
     "output_type": "display_data"
    },
    {
     "data": {
      "text/html": [
       "<pre style=\"white-space:pre;overflow-x:auto;line-height:normal;font-family:Menlo,'DejaVu Sans Mono',consolas,'Courier New',monospace\"><span style=\"color: #800000; text-decoration-color: #800000; font-weight: bold\">        User information already exist, skipping</span><span style=\"color: #808000; text-decoration-color: #808000; font-weight: bold\">...</span>\n",
       "</pre>\n"
      ],
      "text/plain": [
       "\u001b[1;31m \u001b[0m\u001b[1;31m       \u001b[0m\u001b[1;31mUser information already exist, skipping\u001b[0m\u001b[1;33m...\u001b[0m\n"
      ]
     },
     "metadata": {},
     "output_type": "display_data"
    },
    {
     "data": {
      "text/html": [
       "<pre style=\"white-space:pre;overflow-x:auto;line-height:normal;font-family:Menlo,'DejaVu Sans Mono',consolas,'Courier New',monospace\">Getting Account Information: <span style=\"color: #008080; text-decoration-color: #008080\">instablog9ja</span>\n",
       "</pre>\n"
      ],
      "text/plain": [
       "Getting Account Information: \u001b[36minstablog9ja\u001b[0m\n"
      ]
     },
     "metadata": {},
     "output_type": "display_data"
    },
    {
     "data": {
      "text/html": [
       "<pre style=\"white-space:pre;overflow-x:auto;line-height:normal;font-family:Menlo,'DejaVu Sans Mono',consolas,'Courier New',monospace\"><span style=\"color: #800000; text-decoration-color: #800000; font-weight: bold\">        User information already exist, skipping</span><span style=\"color: #808000; text-decoration-color: #808000; font-weight: bold\">...</span>\n",
       "</pre>\n"
      ],
      "text/plain": [
       "\u001b[1;31m \u001b[0m\u001b[1;31m       \u001b[0m\u001b[1;31mUser information already exist, skipping\u001b[0m\u001b[1;33m...\u001b[0m\n"
      ]
     },
     "metadata": {},
     "output_type": "display_data"
    },
    {
     "data": {
      "text/html": [
       "<pre style=\"white-space:pre;overflow-x:auto;line-height:normal;font-family:Menlo,'DejaVu Sans Mono',consolas,'Courier New',monospace\">Getting Account Information: <span style=\"color: #008080; text-decoration-color: #008080\">worldstar</span>\n",
       "</pre>\n"
      ],
      "text/plain": [
       "Getting Account Information: \u001b[36mworldstar\u001b[0m\n"
      ]
     },
     "metadata": {},
     "output_type": "display_data"
    },
    {
     "data": {
      "text/html": [
       "<pre style=\"white-space:pre;overflow-x:auto;line-height:normal;font-family:Menlo,'DejaVu Sans Mono',consolas,'Courier New',monospace\"><span style=\"color: #800000; text-decoration-color: #800000; font-weight: bold\">        User information already exist, skipping</span><span style=\"color: #808000; text-decoration-color: #808000; font-weight: bold\">...</span>\n",
       "</pre>\n"
      ],
      "text/plain": [
       "\u001b[1;31m \u001b[0m\u001b[1;31m       \u001b[0m\u001b[1;31mUser information already exist, skipping\u001b[0m\u001b[1;33m...\u001b[0m\n"
      ]
     },
     "metadata": {},
     "output_type": "display_data"
    },
    {
     "data": {
      "text/html": [
       "<pre style=\"white-space:pre;overflow-x:auto;line-height:normal;font-family:Menlo,'DejaVu Sans Mono',consolas,'Courier New',monospace\">Getting Account Information: <span style=\"color: #008080; text-decoration-color: #008080\">uae_barq</span>\n",
       "</pre>\n"
      ],
      "text/plain": [
       "Getting Account Information: \u001b[36muae_barq\u001b[0m\n"
      ]
     },
     "metadata": {},
     "output_type": "display_data"
    },
    {
     "data": {
      "text/html": [
       "<pre style=\"white-space:pre;overflow-x:auto;line-height:normal;font-family:Menlo,'DejaVu Sans Mono',consolas,'Courier New',monospace\"><span style=\"color: #800000; text-decoration-color: #800000; font-weight: bold\">        User information already exist, skipping</span><span style=\"color: #808000; text-decoration-color: #808000; font-weight: bold\">...</span>\n",
       "</pre>\n"
      ],
      "text/plain": [
       "\u001b[1;31m \u001b[0m\u001b[1;31m       \u001b[0m\u001b[1;31mUser information already exist, skipping\u001b[0m\u001b[1;33m...\u001b[0m\n"
      ]
     },
     "metadata": {},
     "output_type": "display_data"
    },
    {
     "data": {
      "text/html": [
       "<pre style=\"white-space:pre;overflow-x:auto;line-height:normal;font-family:Menlo,'DejaVu Sans Mono',consolas,'Courier New',monospace\">Getting Account Information: <span style=\"color: #008080; text-decoration-color: #008080\">telemetro</span>\n",
       "</pre>\n"
      ],
      "text/plain": [
       "Getting Account Information: \u001b[36mtelemetro\u001b[0m\n"
      ]
     },
     "metadata": {},
     "output_type": "display_data"
    },
    {
     "data": {
      "text/html": [
       "<pre style=\"white-space:pre;overflow-x:auto;line-height:normal;font-family:Menlo,'DejaVu Sans Mono',consolas,'Courier New',monospace\"><span style=\"color: #800000; text-decoration-color: #800000; font-weight: bold\">        User information already exist, skipping</span><span style=\"color: #808000; text-decoration-color: #808000; font-weight: bold\">...</span>\n",
       "</pre>\n"
      ],
      "text/plain": [
       "\u001b[1;31m \u001b[0m\u001b[1;31m       \u001b[0m\u001b[1;31mUser information already exist, skipping\u001b[0m\u001b[1;33m...\u001b[0m\n"
      ]
     },
     "metadata": {},
     "output_type": "display_data"
    },
    {
     "data": {
      "text/html": [
       "<pre style=\"white-space:pre;overflow-x:auto;line-height:normal;font-family:Menlo,'DejaVu Sans Mono',consolas,'Courier New',monospace\">Getting Account Information: <span style=\"color: #008080; text-decoration-color: #008080\">bellanaijaonline</span>\n",
       "</pre>\n"
      ],
      "text/plain": [
       "Getting Account Information: \u001b[36mbellanaijaonline\u001b[0m\n"
      ]
     },
     "metadata": {},
     "output_type": "display_data"
    },
    {
     "data": {
      "text/html": [
       "<pre style=\"white-space:pre;overflow-x:auto;line-height:normal;font-family:Menlo,'DejaVu Sans Mono',consolas,'Courier New',monospace\"><span style=\"color: #800000; text-decoration-color: #800000; font-weight: bold\">        User information already exist, skipping</span><span style=\"color: #808000; text-decoration-color: #808000; font-weight: bold\">...</span>\n",
       "</pre>\n"
      ],
      "text/plain": [
       "\u001b[1;31m \u001b[0m\u001b[1;31m       \u001b[0m\u001b[1;31mUser information already exist, skipping\u001b[0m\u001b[1;33m...\u001b[0m\n"
      ]
     },
     "metadata": {},
     "output_type": "display_data"
    },
    {
     "data": {
      "text/html": [
       "<pre style=\"white-space:pre;overflow-x:auto;line-height:normal;font-family:Menlo,'DejaVu Sans Mono',consolas,'Courier New',monospace\">Getting Account Information: <span style=\"color: #008080; text-decoration-color: #008080\">fashionnova</span>\n",
       "</pre>\n"
      ],
      "text/plain": [
       "Getting Account Information: \u001b[36mfashionnova\u001b[0m\n"
      ]
     },
     "metadata": {},
     "output_type": "display_data"
    },
    {
     "data": {
      "text/html": [
       "<pre style=\"white-space:pre;overflow-x:auto;line-height:normal;font-family:Menlo,'DejaVu Sans Mono',consolas,'Courier New',monospace\"><span style=\"color: #800000; text-decoration-color: #800000; font-weight: bold\">        User information already exist, skipping</span><span style=\"color: #808000; text-decoration-color: #808000; font-weight: bold\">...</span>\n",
       "</pre>\n"
      ],
      "text/plain": [
       "\u001b[1;31m \u001b[0m\u001b[1;31m       \u001b[0m\u001b[1;31mUser information already exist, skipping\u001b[0m\u001b[1;33m...\u001b[0m\n"
      ]
     },
     "metadata": {},
     "output_type": "display_data"
    },
    {
     "data": {
      "text/html": [
       "<pre style=\"white-space:pre;overflow-x:auto;line-height:normal;font-family:Menlo,'DejaVu Sans Mono',consolas,'Courier New',monospace\">Getting Account Information: <span style=\"color: #008080; text-decoration-color: #008080\">3meed_news</span>\n",
       "</pre>\n"
      ],
      "text/plain": [
       "Getting Account Information: \u001b[36m3meed_news\u001b[0m\n"
      ]
     },
     "metadata": {},
     "output_type": "display_data"
    },
    {
     "data": {
      "text/html": [
       "<pre style=\"white-space:pre;overflow-x:auto;line-height:normal;font-family:Menlo,'DejaVu Sans Mono',consolas,'Courier New',monospace\"><span style=\"color: #800000; text-decoration-color: #800000; font-weight: bold\">        User information already exist, skipping</span><span style=\"color: #808000; text-decoration-color: #808000; font-weight: bold\">...</span>\n",
       "</pre>\n"
      ],
      "text/plain": [
       "\u001b[1;31m \u001b[0m\u001b[1;31m       \u001b[0m\u001b[1;31mUser information already exist, skipping\u001b[0m\u001b[1;33m...\u001b[0m\n"
      ]
     },
     "metadata": {},
     "output_type": "display_data"
    },
    {
     "name": "stderr",
     "output_type": "stream",
     "text": [
      " 56%|█████▌    | 112/200 [00:01<00:00, 91.17it/s]"
     ]
    },
    {
     "data": {
      "text/html": [
       "<pre style=\"white-space:pre;overflow-x:auto;line-height:normal;font-family:Menlo,'DejaVu Sans Mono',consolas,'Courier New',monospace\">Getting Account Information: <span style=\"color: #008080; text-decoration-color: #008080\">melodia_musik</span>\n",
       "</pre>\n"
      ],
      "text/plain": [
       "Getting Account Information: \u001b[36mmelodia_musik\u001b[0m\n"
      ]
     },
     "metadata": {},
     "output_type": "display_data"
    },
    {
     "data": {
      "text/html": [
       "<pre style=\"white-space:pre;overflow-x:auto;line-height:normal;font-family:Menlo,'DejaVu Sans Mono',consolas,'Courier New',monospace\"><span style=\"color: #800000; text-decoration-color: #800000; font-weight: bold\">        User information already exist, skipping</span><span style=\"color: #808000; text-decoration-color: #808000; font-weight: bold\">...</span>\n",
       "</pre>\n"
      ],
      "text/plain": [
       "\u001b[1;31m \u001b[0m\u001b[1;31m       \u001b[0m\u001b[1;31mUser information already exist, skipping\u001b[0m\u001b[1;33m...\u001b[0m\n"
      ]
     },
     "metadata": {},
     "output_type": "display_data"
    },
    {
     "data": {
      "text/html": [
       "<pre style=\"white-space:pre;overflow-x:auto;line-height:normal;font-family:Menlo,'DejaVu Sans Mono',consolas,'Courier New',monospace\">Getting Account Information: <span style=\"color: #008080; text-decoration-color: #008080\">aboutcirebonid</span>\n",
       "</pre>\n"
      ],
      "text/plain": [
       "Getting Account Information: \u001b[36maboutcirebonid\u001b[0m\n"
      ]
     },
     "metadata": {},
     "output_type": "display_data"
    },
    {
     "data": {
      "text/html": [
       "<pre style=\"white-space:pre;overflow-x:auto;line-height:normal;font-family:Menlo,'DejaVu Sans Mono',consolas,'Courier New',monospace\"><span style=\"color: #800000; text-decoration-color: #800000; font-weight: bold\">        User information already exist, skipping</span><span style=\"color: #808000; text-decoration-color: #808000; font-weight: bold\">...</span>\n",
       "</pre>\n"
      ],
      "text/plain": [
       "\u001b[1;31m \u001b[0m\u001b[1;31m       \u001b[0m\u001b[1;31mUser information already exist, skipping\u001b[0m\u001b[1;33m...\u001b[0m\n"
      ]
     },
     "metadata": {},
     "output_type": "display_data"
    },
    {
     "data": {
      "text/html": [
       "<pre style=\"white-space:pre;overflow-x:auto;line-height:normal;font-family:Menlo,'DejaVu Sans Mono',consolas,'Courier New',monospace\">Getting Account Information: <span style=\"color: #008080; text-decoration-color: #008080\">infodenpasar</span>\n",
       "</pre>\n"
      ],
      "text/plain": [
       "Getting Account Information: \u001b[36minfodenpasar\u001b[0m\n"
      ]
     },
     "metadata": {},
     "output_type": "display_data"
    },
    {
     "data": {
      "text/html": [
       "<pre style=\"white-space:pre;overflow-x:auto;line-height:normal;font-family:Menlo,'DejaVu Sans Mono',consolas,'Courier New',monospace\"><span style=\"color: #800000; text-decoration-color: #800000; font-weight: bold\">        User information already exist, skipping</span><span style=\"color: #808000; text-decoration-color: #808000; font-weight: bold\">...</span>\n",
       "</pre>\n"
      ],
      "text/plain": [
       "\u001b[1;31m \u001b[0m\u001b[1;31m       \u001b[0m\u001b[1;31mUser information already exist, skipping\u001b[0m\u001b[1;33m...\u001b[0m\n"
      ]
     },
     "metadata": {},
     "output_type": "display_data"
    },
    {
     "data": {
      "text/html": [
       "<pre style=\"white-space:pre;overflow-x:auto;line-height:normal;font-family:Menlo,'DejaVu Sans Mono',consolas,'Courier New',monospace\">Getting Account Information: <span style=\"color: #008080; text-decoration-color: #008080\">radiofarda</span>\n",
       "</pre>\n"
      ],
      "text/plain": [
       "Getting Account Information: \u001b[36mradiofarda\u001b[0m\n"
      ]
     },
     "metadata": {},
     "output_type": "display_data"
    },
    {
     "data": {
      "text/html": [
       "<pre style=\"white-space:pre;overflow-x:auto;line-height:normal;font-family:Menlo,'DejaVu Sans Mono',consolas,'Courier New',monospace\"><span style=\"color: #800000; text-decoration-color: #800000; font-weight: bold\">        User information already exist, skipping</span><span style=\"color: #808000; text-decoration-color: #808000; font-weight: bold\">...</span>\n",
       "</pre>\n"
      ],
      "text/plain": [
       "\u001b[1;31m \u001b[0m\u001b[1;31m       \u001b[0m\u001b[1;31mUser information already exist, skipping\u001b[0m\u001b[1;33m...\u001b[0m\n"
      ]
     },
     "metadata": {},
     "output_type": "display_data"
    },
    {
     "data": {
      "text/html": [
       "<pre style=\"white-space:pre;overflow-x:auto;line-height:normal;font-family:Menlo,'DejaVu Sans Mono',consolas,'Courier New',monospace\">Getting Account Information: <span style=\"color: #008080; text-decoration-color: #008080\">instantbollywood</span>\n",
       "</pre>\n"
      ],
      "text/plain": [
       "Getting Account Information: \u001b[36minstantbollywood\u001b[0m\n"
      ]
     },
     "metadata": {},
     "output_type": "display_data"
    },
    {
     "data": {
      "text/html": [
       "<pre style=\"white-space:pre;overflow-x:auto;line-height:normal;font-family:Menlo,'DejaVu Sans Mono',consolas,'Courier New',monospace\"><span style=\"color: #800000; text-decoration-color: #800000; font-weight: bold\">        User information already exist, skipping</span><span style=\"color: #808000; text-decoration-color: #808000; font-weight: bold\">...</span>\n",
       "</pre>\n"
      ],
      "text/plain": [
       "\u001b[1;31m \u001b[0m\u001b[1;31m       \u001b[0m\u001b[1;31mUser information already exist, skipping\u001b[0m\u001b[1;33m...\u001b[0m\n"
      ]
     },
     "metadata": {},
     "output_type": "display_data"
    },
    {
     "data": {
      "text/html": [
       "<pre style=\"white-space:pre;overflow-x:auto;line-height:normal;font-family:Menlo,'DejaVu Sans Mono',consolas,'Courier New',monospace\">Getting Account Information: <span style=\"color: #008080; text-decoration-color: #008080\">iranintltv</span>\n",
       "</pre>\n"
      ],
      "text/plain": [
       "Getting Account Information: \u001b[36miranintltv\u001b[0m\n"
      ]
     },
     "metadata": {},
     "output_type": "display_data"
    },
    {
     "data": {
      "text/html": [
       "<pre style=\"white-space:pre;overflow-x:auto;line-height:normal;font-family:Menlo,'DejaVu Sans Mono',consolas,'Courier New',monospace\"><span style=\"color: #800000; text-decoration-color: #800000; font-weight: bold\">        User information already exist, skipping</span><span style=\"color: #808000; text-decoration-color: #808000; font-weight: bold\">...</span>\n",
       "</pre>\n"
      ],
      "text/plain": [
       "\u001b[1;31m \u001b[0m\u001b[1;31m       \u001b[0m\u001b[1;31mUser information already exist, skipping\u001b[0m\u001b[1;33m...\u001b[0m\n"
      ]
     },
     "metadata": {},
     "output_type": "display_data"
    },
    {
     "data": {
      "text/html": [
       "<pre style=\"white-space:pre;overflow-x:auto;line-height:normal;font-family:Menlo,'DejaVu Sans Mono',consolas,'Courier New',monospace\">Getting Account Information: <span style=\"color: #008080; text-decoration-color: #008080\">fashionbombdaily</span>\n",
       "</pre>\n"
      ],
      "text/plain": [
       "Getting Account Information: \u001b[36mfashionbombdaily\u001b[0m\n"
      ]
     },
     "metadata": {},
     "output_type": "display_data"
    },
    {
     "data": {
      "text/html": [
       "<pre style=\"white-space:pre;overflow-x:auto;line-height:normal;font-family:Menlo,'DejaVu Sans Mono',consolas,'Courier New',monospace\"><span style=\"color: #800000; text-decoration-color: #800000; font-weight: bold\">        User information already exist, skipping</span><span style=\"color: #808000; text-decoration-color: #808000; font-weight: bold\">...</span>\n",
       "</pre>\n"
      ],
      "text/plain": [
       "\u001b[1;31m \u001b[0m\u001b[1;31m       \u001b[0m\u001b[1;31mUser information already exist, skipping\u001b[0m\u001b[1;33m...\u001b[0m\n"
      ]
     },
     "metadata": {},
     "output_type": "display_data"
    },
    {
     "data": {
      "text/html": [
       "<pre style=\"white-space:pre;overflow-x:auto;line-height:normal;font-family:Menlo,'DejaVu Sans Mono',consolas,'Courier New',monospace\">Getting Account Information: <span style=\"color: #008080; text-decoration-color: #008080\">eldiario</span>\n",
       "</pre>\n"
      ],
      "text/plain": [
       "Getting Account Information: \u001b[36meldiario\u001b[0m\n"
      ]
     },
     "metadata": {},
     "output_type": "display_data"
    },
    {
     "data": {
      "text/html": [
       "<pre style=\"white-space:pre;overflow-x:auto;line-height:normal;font-family:Menlo,'DejaVu Sans Mono',consolas,'Courier New',monospace\"><span style=\"color: #800000; text-decoration-color: #800000; font-weight: bold\">        User information already exist, skipping</span><span style=\"color: #808000; text-decoration-color: #808000; font-weight: bold\">...</span>\n",
       "</pre>\n"
      ],
      "text/plain": [
       "\u001b[1;31m \u001b[0m\u001b[1;31m       \u001b[0m\u001b[1;31mUser information already exist, skipping\u001b[0m\u001b[1;33m...\u001b[0m\n"
      ]
     },
     "metadata": {},
     "output_type": "display_data"
    },
    {
     "data": {
      "text/html": [
       "<pre style=\"white-space:pre;overflow-x:auto;line-height:normal;font-family:Menlo,'DejaVu Sans Mono',consolas,'Courier New',monospace\">Getting Account Information: <span style=\"color: #008080; text-decoration-color: #008080\">arab2turk</span>\n",
       "</pre>\n"
      ],
      "text/plain": [
       "Getting Account Information: \u001b[36marab2turk\u001b[0m\n"
      ]
     },
     "metadata": {},
     "output_type": "display_data"
    },
    {
     "data": {
      "text/html": [
       "<pre style=\"white-space:pre;overflow-x:auto;line-height:normal;font-family:Menlo,'DejaVu Sans Mono',consolas,'Courier New',monospace\"><span style=\"color: #800000; text-decoration-color: #800000; font-weight: bold\">        User information already exist, skipping</span><span style=\"color: #808000; text-decoration-color: #808000; font-weight: bold\">...</span>\n",
       "</pre>\n"
      ],
      "text/plain": [
       "\u001b[1;31m \u001b[0m\u001b[1;31m       \u001b[0m\u001b[1;31mUser information already exist, skipping\u001b[0m\u001b[1;33m...\u001b[0m\n"
      ]
     },
     "metadata": {},
     "output_type": "display_data"
    },
    {
     "data": {
      "text/html": [
       "<pre style=\"white-space:pre;overflow-x:auto;line-height:normal;font-family:Menlo,'DejaVu Sans Mono',consolas,'Courier New',monospace\">Getting Account Information: <span style=\"color: #008080; text-decoration-color: #008080\">albayannews</span>\n",
       "</pre>\n"
      ],
      "text/plain": [
       "Getting Account Information: \u001b[36malbayannews\u001b[0m\n"
      ]
     },
     "metadata": {},
     "output_type": "display_data"
    },
    {
     "data": {
      "text/html": [
       "<pre style=\"white-space:pre;overflow-x:auto;line-height:normal;font-family:Menlo,'DejaVu Sans Mono',consolas,'Courier New',monospace\"><span style=\"color: #800000; text-decoration-color: #800000; font-weight: bold\">        User information already exist, skipping</span><span style=\"color: #808000; text-decoration-color: #808000; font-weight: bold\">...</span>\n",
       "</pre>\n"
      ],
      "text/plain": [
       "\u001b[1;31m \u001b[0m\u001b[1;31m       \u001b[0m\u001b[1;31mUser information already exist, skipping\u001b[0m\u001b[1;33m...\u001b[0m\n"
      ]
     },
     "metadata": {},
     "output_type": "display_data"
    },
    {
     "data": {
      "text/html": [
       "<pre style=\"white-space:pre;overflow-x:auto;line-height:normal;font-family:Menlo,'DejaVu Sans Mono',consolas,'Courier New',monospace\">Getting Account Information: <span style=\"color: #008080; text-decoration-color: #008080\">vladtv</span>\n",
       "</pre>\n"
      ],
      "text/plain": [
       "Getting Account Information: \u001b[36mvladtv\u001b[0m\n"
      ]
     },
     "metadata": {},
     "output_type": "display_data"
    },
    {
     "data": {
      "text/html": [
       "<pre style=\"white-space:pre;overflow-x:auto;line-height:normal;font-family:Menlo,'DejaVu Sans Mono',consolas,'Courier New',monospace\"><span style=\"color: #800000; text-decoration-color: #800000; font-weight: bold\">        User information already exist, skipping</span><span style=\"color: #808000; text-decoration-color: #808000; font-weight: bold\">...</span>\n",
       "</pre>\n"
      ],
      "text/plain": [
       "\u001b[1;31m \u001b[0m\u001b[1;31m       \u001b[0m\u001b[1;31mUser information already exist, skipping\u001b[0m\u001b[1;33m...\u001b[0m\n"
      ]
     },
     "metadata": {},
     "output_type": "display_data"
    },
    {
     "data": {
      "text/html": [
       "<pre style=\"white-space:pre;overflow-x:auto;line-height:normal;font-family:Menlo,'DejaVu Sans Mono',consolas,'Courier New',monospace\">Getting Account Information: <span style=\"color: #008080; text-decoration-color: #008080\">coppamagz</span>\n",
       "</pre>\n"
      ],
      "text/plain": [
       "Getting Account Information: \u001b[36mcoppamagz\u001b[0m\n"
      ]
     },
     "metadata": {},
     "output_type": "display_data"
    },
    {
     "data": {
      "text/html": [
       "<pre style=\"white-space:pre;overflow-x:auto;line-height:normal;font-family:Menlo,'DejaVu Sans Mono',consolas,'Courier New',monospace\"><span style=\"color: #800000; text-decoration-color: #800000; font-weight: bold\">        User information already exist, skipping</span><span style=\"color: #808000; text-decoration-color: #808000; font-weight: bold\">...</span>\n",
       "</pre>\n"
      ],
      "text/plain": [
       "\u001b[1;31m \u001b[0m\u001b[1;31m       \u001b[0m\u001b[1;31mUser information already exist, skipping\u001b[0m\u001b[1;33m...\u001b[0m\n"
      ]
     },
     "metadata": {},
     "output_type": "display_data"
    },
    {
     "name": "stderr",
     "output_type": "stream",
     "text": [
      " 62%|██████▏   | 124/200 [00:01<00:00, 98.44it/s]"
     ]
    },
    {
     "data": {
      "text/html": [
       "<pre style=\"white-space:pre;overflow-x:auto;line-height:normal;font-family:Menlo,'DejaVu Sans Mono',consolas,'Courier New',monospace\">Getting Account Information: <span style=\"color: #008080; text-decoration-color: #008080\">crictracker</span>\n",
       "</pre>\n"
      ],
      "text/plain": [
       "Getting Account Information: \u001b[36mcrictracker\u001b[0m\n"
      ]
     },
     "metadata": {},
     "output_type": "display_data"
    },
    {
     "data": {
      "text/html": [
       "<pre style=\"white-space:pre;overflow-x:auto;line-height:normal;font-family:Menlo,'DejaVu Sans Mono',consolas,'Courier New',monospace\"><span style=\"color: #800000; text-decoration-color: #800000; font-weight: bold\">        User information already exist, skipping</span><span style=\"color: #808000; text-decoration-color: #808000; font-weight: bold\">...</span>\n",
       "</pre>\n"
      ],
      "text/plain": [
       "\u001b[1;31m \u001b[0m\u001b[1;31m       \u001b[0m\u001b[1;31mUser information already exist, skipping\u001b[0m\u001b[1;33m...\u001b[0m\n"
      ]
     },
     "metadata": {},
     "output_type": "display_data"
    },
    {
     "data": {
      "text/html": [
       "<pre style=\"white-space:pre;overflow-x:auto;line-height:normal;font-family:Menlo,'DejaVu Sans Mono',consolas,'Courier New',monospace\">Getting Account Information: <span style=\"color: #008080; text-decoration-color: #008080\">nba</span>\n",
       "</pre>\n"
      ],
      "text/plain": [
       "Getting Account Information: \u001b[36mnba\u001b[0m\n"
      ]
     },
     "metadata": {},
     "output_type": "display_data"
    },
    {
     "data": {
      "text/html": [
       "<pre style=\"white-space:pre;overflow-x:auto;line-height:normal;font-family:Menlo,'DejaVu Sans Mono',consolas,'Courier New',monospace\"><span style=\"color: #800000; text-decoration-color: #800000; font-weight: bold\">        User information already exist, skipping</span><span style=\"color: #808000; text-decoration-color: #808000; font-weight: bold\">...</span>\n",
       "</pre>\n"
      ],
      "text/plain": [
       "\u001b[1;31m \u001b[0m\u001b[1;31m       \u001b[0m\u001b[1;31mUser information already exist, skipping\u001b[0m\u001b[1;33m...\u001b[0m\n"
      ]
     },
     "metadata": {},
     "output_type": "display_data"
    },
    {
     "data": {
      "text/html": [
       "<pre style=\"white-space:pre;overflow-x:auto;line-height:normal;font-family:Menlo,'DejaVu Sans Mono',consolas,'Courier New',monospace\">Getting Account Information: <span style=\"color: #008080; text-decoration-color: #008080\">snoopdogg</span>\n",
       "</pre>\n"
      ],
      "text/plain": [
       "Getting Account Information: \u001b[36msnoopdogg\u001b[0m\n"
      ]
     },
     "metadata": {},
     "output_type": "display_data"
    },
    {
     "data": {
      "text/html": [
       "<pre style=\"white-space:pre;overflow-x:auto;line-height:normal;font-family:Menlo,'DejaVu Sans Mono',consolas,'Courier New',monospace\"><span style=\"color: #800000; text-decoration-color: #800000; font-weight: bold\">        User information already exist, skipping</span><span style=\"color: #808000; text-decoration-color: #808000; font-weight: bold\">...</span>\n",
       "</pre>\n"
      ],
      "text/plain": [
       "\u001b[1;31m \u001b[0m\u001b[1;31m       \u001b[0m\u001b[1;31mUser information already exist, skipping\u001b[0m\u001b[1;33m...\u001b[0m\n"
      ]
     },
     "metadata": {},
     "output_type": "display_data"
    },
    {
     "data": {
      "text/html": [
       "<pre style=\"white-space:pre;overflow-x:auto;line-height:normal;font-family:Menlo,'DejaVu Sans Mono',consolas,'Courier New',monospace\">Getting Account Information: <span style=\"color: #008080; text-decoration-color: #008080\">dagelan</span>\n",
       "</pre>\n"
      ],
      "text/plain": [
       "Getting Account Information: \u001b[36mdagelan\u001b[0m\n"
      ]
     },
     "metadata": {},
     "output_type": "display_data"
    },
    {
     "data": {
      "text/html": [
       "<pre style=\"white-space:pre;overflow-x:auto;line-height:normal;font-family:Menlo,'DejaVu Sans Mono',consolas,'Courier New',monospace\"><span style=\"color: #800000; text-decoration-color: #800000; font-weight: bold\">        User information already exist, skipping</span><span style=\"color: #808000; text-decoration-color: #808000; font-weight: bold\">...</span>\n",
       "</pre>\n"
      ],
      "text/plain": [
       "\u001b[1;31m \u001b[0m\u001b[1;31m       \u001b[0m\u001b[1;31mUser information already exist, skipping\u001b[0m\u001b[1;33m...\u001b[0m\n"
      ]
     },
     "metadata": {},
     "output_type": "display_data"
    },
    {
     "data": {
      "text/html": [
       "<pre style=\"white-space:pre;overflow-x:auto;line-height:normal;font-family:Menlo,'DejaVu Sans Mono',consolas,'Courier New',monospace\">Getting Account Information: <span style=\"color: #008080; text-decoration-color: #008080\">spiritualword</span>\n",
       "</pre>\n"
      ],
      "text/plain": [
       "Getting Account Information: \u001b[36mspiritualword\u001b[0m\n"
      ]
     },
     "metadata": {},
     "output_type": "display_data"
    },
    {
     "data": {
      "text/html": [
       "<pre style=\"white-space:pre;overflow-x:auto;line-height:normal;font-family:Menlo,'DejaVu Sans Mono',consolas,'Courier New',monospace\"><span style=\"color: #800000; text-decoration-color: #800000; font-weight: bold\">        User information already exist, skipping</span><span style=\"color: #808000; text-decoration-color: #808000; font-weight: bold\">...</span>\n",
       "</pre>\n"
      ],
      "text/plain": [
       "\u001b[1;31m \u001b[0m\u001b[1;31m       \u001b[0m\u001b[1;31mUser information already exist, skipping\u001b[0m\u001b[1;33m...\u001b[0m\n"
      ]
     },
     "metadata": {},
     "output_type": "display_data"
    },
    {
     "data": {
      "text/html": [
       "<pre style=\"white-space:pre;overflow-x:auto;line-height:normal;font-family:Menlo,'DejaVu Sans Mono',consolas,'Courier New',monospace\">Getting Account Information: <span style=\"color: #008080; text-decoration-color: #008080\">memelasdeorizaba</span>\n",
       "</pre>\n"
      ],
      "text/plain": [
       "Getting Account Information: \u001b[36mmemelasdeorizaba\u001b[0m\n"
      ]
     },
     "metadata": {},
     "output_type": "display_data"
    },
    {
     "data": {
      "text/html": [
       "<pre style=\"white-space:pre;overflow-x:auto;line-height:normal;font-family:Menlo,'DejaVu Sans Mono',consolas,'Courier New',monospace\"><span style=\"color: #800000; text-decoration-color: #800000; font-weight: bold\">        User information already exist, skipping</span><span style=\"color: #808000; text-decoration-color: #808000; font-weight: bold\">...</span>\n",
       "</pre>\n"
      ],
      "text/plain": [
       "\u001b[1;31m \u001b[0m\u001b[1;31m       \u001b[0m\u001b[1;31mUser information already exist, skipping\u001b[0m\u001b[1;33m...\u001b[0m\n"
      ]
     },
     "metadata": {},
     "output_type": "display_data"
    },
    {
     "data": {
      "text/html": [
       "<pre style=\"white-space:pre;overflow-x:auto;line-height:normal;font-family:Menlo,'DejaVu Sans Mono',consolas,'Courier New',monospace\">Getting Account Information: <span style=\"color: #008080; text-decoration-color: #008080\">cabronazi</span>\n",
       "</pre>\n"
      ],
      "text/plain": [
       "Getting Account Information: \u001b[36mcabronazi\u001b[0m\n"
      ]
     },
     "metadata": {},
     "output_type": "display_data"
    },
    {
     "data": {
      "text/html": [
       "<pre style=\"white-space:pre;overflow-x:auto;line-height:normal;font-family:Menlo,'DejaVu Sans Mono',consolas,'Courier New',monospace\"><span style=\"color: #800000; text-decoration-color: #800000; font-weight: bold\">        User information already exist, skipping</span><span style=\"color: #808000; text-decoration-color: #808000; font-weight: bold\">...</span>\n",
       "</pre>\n"
      ],
      "text/plain": [
       "\u001b[1;31m \u001b[0m\u001b[1;31m       \u001b[0m\u001b[1;31mUser information already exist, skipping\u001b[0m\u001b[1;33m...\u001b[0m\n"
      ]
     },
     "metadata": {},
     "output_type": "display_data"
    },
    {
     "data": {
      "text/html": [
       "<pre style=\"white-space:pre;overflow-x:auto;line-height:normal;font-family:Menlo,'DejaVu Sans Mono',consolas,'Courier New',monospace\">Getting Account Information: <span style=\"color: #008080; text-decoration-color: #008080\">deertybhr</span>\n",
       "</pre>\n"
      ],
      "text/plain": [
       "Getting Account Information: \u001b[36mdeertybhr\u001b[0m\n"
      ]
     },
     "metadata": {},
     "output_type": "display_data"
    },
    {
     "data": {
      "text/html": [
       "<pre style=\"white-space:pre;overflow-x:auto;line-height:normal;font-family:Menlo,'DejaVu Sans Mono',consolas,'Courier New',monospace\"><span style=\"color: #800000; text-decoration-color: #800000; font-weight: bold\">        Response is empty for deertybhr skipping</span><span style=\"color: #808000; text-decoration-color: #808000; font-weight: bold\">...</span>\n",
       "</pre>\n"
      ],
      "text/plain": [
       "\u001b[1;31m \u001b[0m\u001b[1;31m       \u001b[0m\u001b[1;31mResponse is empty for deertybhr skipping\u001b[0m\u001b[1;33m...\u001b[0m\n"
      ]
     },
     "metadata": {},
     "output_type": "display_data"
    },
    {
     "data": {
      "text/html": [
       "<pre style=\"white-space:pre;overflow-x:auto;line-height:normal;font-family:Menlo,'DejaVu Sans Mono',consolas,'Courier New',monospace\">Getting Account Information: <span style=\"color: #008080; text-decoration-color: #008080\">nfl</span>\n",
       "</pre>\n"
      ],
      "text/plain": [
       "Getting Account Information: \u001b[36mnfl\u001b[0m\n"
      ]
     },
     "metadata": {},
     "output_type": "display_data"
    },
    {
     "data": {
      "text/html": [
       "<pre style=\"white-space:pre;overflow-x:auto;line-height:normal;font-family:Menlo,'DejaVu Sans Mono',consolas,'Courier New',monospace\"><span style=\"color: #800000; text-decoration-color: #800000; font-weight: bold\">        User information already exist, skipping</span><span style=\"color: #808000; text-decoration-color: #808000; font-weight: bold\">...</span>\n",
       "</pre>\n"
      ],
      "text/plain": [
       "\u001b[1;31m \u001b[0m\u001b[1;31m       \u001b[0m\u001b[1;31mUser information already exist, skipping\u001b[0m\u001b[1;33m...\u001b[0m\n"
      ]
     },
     "metadata": {},
     "output_type": "display_data"
    },
    {
     "data": {
      "text/html": [
       "<pre style=\"white-space:pre;overflow-x:auto;line-height:normal;font-family:Menlo,'DejaVu Sans Mono',consolas,'Courier New',monospace\">Getting Account Information: <span style=\"color: #008080; text-decoration-color: #008080\">viralbhayani</span>\n",
       "</pre>\n"
      ],
      "text/plain": [
       "Getting Account Information: \u001b[36mviralbhayani\u001b[0m\n"
      ]
     },
     "metadata": {},
     "output_type": "display_data"
    },
    {
     "data": {
      "text/html": [
       "<pre style=\"white-space:pre;overflow-x:auto;line-height:normal;font-family:Menlo,'DejaVu Sans Mono',consolas,'Courier New',monospace\"><span style=\"color: #800000; text-decoration-color: #800000; font-weight: bold\">        User information already exist, skipping</span><span style=\"color: #808000; text-decoration-color: #808000; font-weight: bold\">...</span>\n",
       "</pre>\n"
      ],
      "text/plain": [
       "\u001b[1;31m \u001b[0m\u001b[1;31m       \u001b[0m\u001b[1;31mUser information already exist, skipping\u001b[0m\u001b[1;33m...\u001b[0m\n"
      ]
     },
     "metadata": {},
     "output_type": "display_data"
    },
    {
     "data": {
      "text/html": [
       "<pre style=\"white-space:pre;overflow-x:auto;line-height:normal;font-family:Menlo,'DejaVu Sans Mono',consolas,'Courier New',monospace\">Getting Account Information: <span style=\"color: #008080; text-decoration-color: #008080\">complex</span>\n",
       "</pre>\n"
      ],
      "text/plain": [
       "Getting Account Information: \u001b[36mcomplex\u001b[0m\n"
      ]
     },
     "metadata": {},
     "output_type": "display_data"
    },
    {
     "data": {
      "text/html": [
       "<pre style=\"white-space:pre;overflow-x:auto;line-height:normal;font-family:Menlo,'DejaVu Sans Mono',consolas,'Courier New',monospace\"><span style=\"color: #800000; text-decoration-color: #800000; font-weight: bold\">        User information already exist, skipping</span><span style=\"color: #808000; text-decoration-color: #808000; font-weight: bold\">...</span>\n",
       "</pre>\n"
      ],
      "text/plain": [
       "\u001b[1;31m \u001b[0m\u001b[1;31m       \u001b[0m\u001b[1;31mUser information already exist, skipping\u001b[0m\u001b[1;33m...\u001b[0m\n"
      ]
     },
     "metadata": {},
     "output_type": "display_data"
    },
    {
     "name": "stderr",
     "output_type": "stream",
     "text": [
      " 68%|██████▊   | 135/200 [00:10<00:16,  3.93it/s]"
     ]
    },
    {
     "data": {
      "text/html": [
       "<pre style=\"white-space:pre;overflow-x:auto;line-height:normal;font-family:Menlo,'DejaVu Sans Mono',consolas,'Courier New',monospace\">Getting Account Information: <span style=\"color: #008080; text-decoration-color: #008080\">vengalaalegriatva</span>\n",
       "</pre>\n"
      ],
      "text/plain": [
       "Getting Account Information: \u001b[36mvengalaalegriatva\u001b[0m\n"
      ]
     },
     "metadata": {},
     "output_type": "display_data"
    },
    {
     "data": {
      "text/html": [
       "<pre style=\"white-space:pre;overflow-x:auto;line-height:normal;font-family:Menlo,'DejaVu Sans Mono',consolas,'Courier New',monospace\"><span style=\"color: #800000; text-decoration-color: #800000; font-weight: bold\">        Response is empty for vengalaalegriatva skipping</span><span style=\"color: #808000; text-decoration-color: #808000; font-weight: bold\">...</span>\n",
       "</pre>\n"
      ],
      "text/plain": [
       "\u001b[1;31m \u001b[0m\u001b[1;31m       \u001b[0m\u001b[1;31mResponse is empty for vengalaalegriatva skipping\u001b[0m\u001b[1;33m...\u001b[0m\n"
      ]
     },
     "metadata": {},
     "output_type": "display_data"
    },
    {
     "data": {
      "text/html": [
       "<pre style=\"white-space:pre;overflow-x:auto;line-height:normal;font-family:Menlo,'DejaVu Sans Mono',consolas,'Courier New',monospace\">Getting Account Information: <span style=\"color: #008080; text-decoration-color: #008080\">zonakorea</span>\n",
       "</pre>\n"
      ],
      "text/plain": [
       "Getting Account Information: \u001b[36mzonakorea\u001b[0m\n"
      ]
     },
     "metadata": {},
     "output_type": "display_data"
    },
    {
     "data": {
      "text/html": [
       "<pre style=\"white-space:pre;overflow-x:auto;line-height:normal;font-family:Menlo,'DejaVu Sans Mono',consolas,'Courier New',monospace\"><span style=\"color: #800000; text-decoration-color: #800000; font-weight: bold\">        User information already exist, skipping</span><span style=\"color: #808000; text-decoration-color: #808000; font-weight: bold\">...</span>\n",
       "</pre>\n"
      ],
      "text/plain": [
       "\u001b[1;31m \u001b[0m\u001b[1;31m       \u001b[0m\u001b[1;31mUser information already exist, skipping\u001b[0m\u001b[1;33m...\u001b[0m\n"
      ]
     },
     "metadata": {},
     "output_type": "display_data"
    },
    {
     "data": {
      "text/html": [
       "<pre style=\"white-space:pre;overflow-x:auto;line-height:normal;font-family:Menlo,'DejaVu Sans Mono',consolas,'Courier New',monospace\">Getting Account Information: <span style=\"color: #008080; text-decoration-color: #008080\">bleacherreport</span>\n",
       "</pre>\n"
      ],
      "text/plain": [
       "Getting Account Information: \u001b[36mbleacherreport\u001b[0m\n"
      ]
     },
     "metadata": {},
     "output_type": "display_data"
    },
    {
     "data": {
      "text/html": [
       "<pre style=\"white-space:pre;overflow-x:auto;line-height:normal;font-family:Menlo,'DejaVu Sans Mono',consolas,'Courier New',monospace\"><span style=\"color: #800000; text-decoration-color: #800000; font-weight: bold\">        User information already exist, skipping</span><span style=\"color: #808000; text-decoration-color: #808000; font-weight: bold\">...</span>\n",
       "</pre>\n"
      ],
      "text/plain": [
       "\u001b[1;31m \u001b[0m\u001b[1;31m       \u001b[0m\u001b[1;31mUser information already exist, skipping\u001b[0m\u001b[1;33m...\u001b[0m\n"
      ]
     },
     "metadata": {},
     "output_type": "display_data"
    },
    {
     "data": {
      "text/html": [
       "<pre style=\"white-space:pre;overflow-x:auto;line-height:normal;font-family:Menlo,'DejaVu Sans Mono',consolas,'Courier New',monospace\">Getting Account Information: <span style=\"color: #008080; text-decoration-color: #008080\">laliga</span>\n",
       "</pre>\n"
      ],
      "text/plain": [
       "Getting Account Information: \u001b[36mlaliga\u001b[0m\n"
      ]
     },
     "metadata": {},
     "output_type": "display_data"
    },
    {
     "data": {
      "text/html": [
       "<pre style=\"white-space:pre;overflow-x:auto;line-height:normal;font-family:Menlo,'DejaVu Sans Mono',consolas,'Courier New',monospace\"><span style=\"color: #800000; text-decoration-color: #800000; font-weight: bold\">        User information already exist, skipping</span><span style=\"color: #808000; text-decoration-color: #808000; font-weight: bold\">...</span>\n",
       "</pre>\n"
      ],
      "text/plain": [
       "\u001b[1;31m \u001b[0m\u001b[1;31m       \u001b[0m\u001b[1;31mUser information already exist, skipping\u001b[0m\u001b[1;33m...\u001b[0m\n"
      ]
     },
     "metadata": {},
     "output_type": "display_data"
    },
    {
     "data": {
      "text/html": [
       "<pre style=\"white-space:pre;overflow-x:auto;line-height:normal;font-family:Menlo,'DejaVu Sans Mono',consolas,'Courier New',monospace\">Getting Account Information: <span style=\"color: #008080; text-decoration-color: #008080\">tommyphillipsiv</span>\n",
       "</pre>\n"
      ],
      "text/plain": [
       "Getting Account Information: \u001b[36mtommyphillipsiv\u001b[0m\n"
      ]
     },
     "metadata": {},
     "output_type": "display_data"
    },
    {
     "data": {
      "text/html": [
       "<pre style=\"white-space:pre;overflow-x:auto;line-height:normal;font-family:Menlo,'DejaVu Sans Mono',consolas,'Courier New',monospace\"><span style=\"color: #800000; text-decoration-color: #800000; font-weight: bold\">        User information already exist, skipping</span><span style=\"color: #808000; text-decoration-color: #808000; font-weight: bold\">...</span>\n",
       "</pre>\n"
      ],
      "text/plain": [
       "\u001b[1;31m \u001b[0m\u001b[1;31m       \u001b[0m\u001b[1;31mUser information already exist, skipping\u001b[0m\u001b[1;33m...\u001b[0m\n"
      ]
     },
     "metadata": {},
     "output_type": "display_data"
    },
    {
     "data": {
      "text/html": [
       "<pre style=\"white-space:pre;overflow-x:auto;line-height:normal;font-family:Menlo,'DejaVu Sans Mono',consolas,'Courier New',monospace\">Getting Account Information: <span style=\"color: #008080; text-decoration-color: #008080\">officialmnctv</span>\n",
       "</pre>\n"
      ],
      "text/plain": [
       "Getting Account Information: \u001b[36mofficialmnctv\u001b[0m\n"
      ]
     },
     "metadata": {},
     "output_type": "display_data"
    },
    {
     "data": {
      "text/html": [
       "<pre style=\"white-space:pre;overflow-x:auto;line-height:normal;font-family:Menlo,'DejaVu Sans Mono',consolas,'Courier New',monospace\"><span style=\"color: #800000; text-decoration-color: #800000; font-weight: bold\">        User information already exist, skipping</span><span style=\"color: #808000; text-decoration-color: #808000; font-weight: bold\">...</span>\n",
       "</pre>\n"
      ],
      "text/plain": [
       "\u001b[1;31m \u001b[0m\u001b[1;31m       \u001b[0m\u001b[1;31mUser information already exist, skipping\u001b[0m\u001b[1;33m...\u001b[0m\n"
      ]
     },
     "metadata": {},
     "output_type": "display_data"
    },
    {
     "data": {
      "text/html": [
       "<pre style=\"white-space:pre;overflow-x:auto;line-height:normal;font-family:Menlo,'DejaVu Sans Mono',consolas,'Courier New',monospace\">Getting Account Information: <span style=\"color: #008080; text-decoration-color: #008080\">sportscenter</span>\n",
       "</pre>\n"
      ],
      "text/plain": [
       "Getting Account Information: \u001b[36msportscenter\u001b[0m\n"
      ]
     },
     "metadata": {},
     "output_type": "display_data"
    },
    {
     "data": {
      "text/html": [
       "<pre style=\"white-space:pre;overflow-x:auto;line-height:normal;font-family:Menlo,'DejaVu Sans Mono',consolas,'Courier New',monospace\"><span style=\"color: #800000; text-decoration-color: #800000; font-weight: bold\">        User information already exist, skipping</span><span style=\"color: #808000; text-decoration-color: #808000; font-weight: bold\">...</span>\n",
       "</pre>\n"
      ],
      "text/plain": [
       "\u001b[1;31m \u001b[0m\u001b[1;31m       \u001b[0m\u001b[1;31mUser information already exist, skipping\u001b[0m\u001b[1;33m...\u001b[0m\n"
      ]
     },
     "metadata": {},
     "output_type": "display_data"
    },
    {
     "data": {
      "text/html": [
       "<pre style=\"white-space:pre;overflow-x:auto;line-height:normal;font-family:Menlo,'DejaVu Sans Mono',consolas,'Courier New',monospace\">Getting Account Information: <span style=\"color: #008080; text-decoration-color: #008080\">jdemsey</span>\n",
       "</pre>\n"
      ],
      "text/plain": [
       "Getting Account Information: \u001b[36mjdemsey\u001b[0m\n"
      ]
     },
     "metadata": {},
     "output_type": "display_data"
    },
    {
     "data": {
      "text/html": [
       "<pre style=\"white-space:pre;overflow-x:auto;line-height:normal;font-family:Menlo,'DejaVu Sans Mono',consolas,'Courier New',monospace\"><span style=\"color: #800000; text-decoration-color: #800000; font-weight: bold\">        User information already exist, skipping</span><span style=\"color: #808000; text-decoration-color: #808000; font-weight: bold\">...</span>\n",
       "</pre>\n"
      ],
      "text/plain": [
       "\u001b[1;31m \u001b[0m\u001b[1;31m       \u001b[0m\u001b[1;31mUser information already exist, skipping\u001b[0m\u001b[1;33m...\u001b[0m\n"
      ]
     },
     "metadata": {},
     "output_type": "display_data"
    },
    {
     "name": "stderr",
     "output_type": "stream",
     "text": [
      " 72%|███████▏  | 143/200 [00:18<00:24,  2.29it/s]"
     ]
    },
    {
     "data": {
      "text/html": [
       "<pre style=\"white-space:pre;overflow-x:auto;line-height:normal;font-family:Menlo,'DejaVu Sans Mono',consolas,'Courier New',monospace\">Getting Account Information: <span style=\"color: #008080; text-decoration-color: #008080\">theybf_daily</span>\n",
       "</pre>\n"
      ],
      "text/plain": [
       "Getting Account Information: \u001b[36mtheybf_daily\u001b[0m\n"
      ]
     },
     "metadata": {},
     "output_type": "display_data"
    },
    {
     "data": {
      "text/html": [
       "<pre style=\"white-space:pre;overflow-x:auto;line-height:normal;font-family:Menlo,'DejaVu Sans Mono',consolas,'Courier New',monospace\"><span style=\"color: #800000; text-decoration-color: #800000; font-weight: bold\">        User information already exist, skipping</span><span style=\"color: #808000; text-decoration-color: #808000; font-weight: bold\">...</span>\n",
       "</pre>\n"
      ],
      "text/plain": [
       "\u001b[1;31m \u001b[0m\u001b[1;31m       \u001b[0m\u001b[1;31mUser information already exist, skipping\u001b[0m\u001b[1;33m...\u001b[0m\n"
      ]
     },
     "metadata": {},
     "output_type": "display_data"
    },
    {
     "data": {
      "text/html": [
       "<pre style=\"white-space:pre;overflow-x:auto;line-height:normal;font-family:Menlo,'DejaVu Sans Mono',consolas,'Courier New',monospace\">Getting Account Information: <span style=\"color: #008080; text-decoration-color: #008080\">idntimes</span>\n",
       "</pre>\n"
      ],
      "text/plain": [
       "Getting Account Information: \u001b[36midntimes\u001b[0m\n"
      ]
     },
     "metadata": {},
     "output_type": "display_data"
    },
    {
     "data": {
      "text/html": [
       "<pre style=\"white-space:pre;overflow-x:auto;line-height:normal;font-family:Menlo,'DejaVu Sans Mono',consolas,'Courier New',monospace\"><span style=\"color: #800000; text-decoration-color: #800000; font-weight: bold\">        User information already exist, skipping</span><span style=\"color: #808000; text-decoration-color: #808000; font-weight: bold\">...</span>\n",
       "</pre>\n"
      ],
      "text/plain": [
       "\u001b[1;31m \u001b[0m\u001b[1;31m       \u001b[0m\u001b[1;31mUser information already exist, skipping\u001b[0m\u001b[1;33m...\u001b[0m\n"
      ]
     },
     "metadata": {},
     "output_type": "display_data"
    },
    {
     "data": {
      "text/html": [
       "<pre style=\"white-space:pre;overflow-x:auto;line-height:normal;font-family:Menlo,'DejaVu Sans Mono',consolas,'Courier New',monospace\">Getting Account Information: <span style=\"color: #008080; text-decoration-color: #008080\">foxnews</span>\n",
       "</pre>\n"
      ],
      "text/plain": [
       "Getting Account Information: \u001b[36mfoxnews\u001b[0m\n"
      ]
     },
     "metadata": {},
     "output_type": "display_data"
    },
    {
     "data": {
      "text/html": [
       "<pre style=\"white-space:pre;overflow-x:auto;line-height:normal;font-family:Menlo,'DejaVu Sans Mono',consolas,'Courier New',monospace\"><span style=\"color: #800000; text-decoration-color: #800000; font-weight: bold\">        User information already exist, skipping</span><span style=\"color: #808000; text-decoration-color: #808000; font-weight: bold\">...</span>\n",
       "</pre>\n"
      ],
      "text/plain": [
       "\u001b[1;31m \u001b[0m\u001b[1;31m       \u001b[0m\u001b[1;31mUser information already exist, skipping\u001b[0m\u001b[1;33m...\u001b[0m\n"
      ]
     },
     "metadata": {},
     "output_type": "display_data"
    },
    {
     "data": {
      "text/html": [
       "<pre style=\"white-space:pre;overflow-x:auto;line-height:normal;font-family:Menlo,'DejaVu Sans Mono',consolas,'Courier New',monospace\">Getting Account Information: <span style=\"color: #008080; text-decoration-color: #008080\">diariodetransferenciasdt</span>\n",
       "</pre>\n"
      ],
      "text/plain": [
       "Getting Account Information: \u001b[36mdiariodetransferenciasdt\u001b[0m\n"
      ]
     },
     "metadata": {},
     "output_type": "display_data"
    },
    {
     "data": {
      "text/html": [
       "<pre style=\"white-space:pre;overflow-x:auto;line-height:normal;font-family:Menlo,'DejaVu Sans Mono',consolas,'Courier New',monospace\"><span style=\"color: #800000; text-decoration-color: #800000; font-weight: bold\">        User information already exist, skipping</span><span style=\"color: #808000; text-decoration-color: #808000; font-weight: bold\">...</span>\n",
       "</pre>\n"
      ],
      "text/plain": [
       "\u001b[1;31m \u001b[0m\u001b[1;31m       \u001b[0m\u001b[1;31mUser information already exist, skipping\u001b[0m\u001b[1;33m...\u001b[0m\n"
      ]
     },
     "metadata": {},
     "output_type": "display_data"
    },
    {
     "data": {
      "text/html": [
       "<pre style=\"white-space:pre;overflow-x:auto;line-height:normal;font-family:Menlo,'DejaVu Sans Mono',consolas,'Courier New',monospace\">Getting Account Information: <span style=\"color: #008080; text-decoration-color: #008080\">hespress</span>\n",
       "</pre>\n"
      ],
      "text/plain": [
       "Getting Account Information: \u001b[36mhespress\u001b[0m\n"
      ]
     },
     "metadata": {},
     "output_type": "display_data"
    },
    {
     "data": {
      "text/html": [
       "<pre style=\"white-space:pre;overflow-x:auto;line-height:normal;font-family:Menlo,'DejaVu Sans Mono',consolas,'Courier New',monospace\"><span style=\"color: #800000; text-decoration-color: #800000; font-weight: bold\">        User information already exist, skipping</span><span style=\"color: #808000; text-decoration-color: #808000; font-weight: bold\">...</span>\n",
       "</pre>\n"
      ],
      "text/plain": [
       "\u001b[1;31m \u001b[0m\u001b[1;31m       \u001b[0m\u001b[1;31mUser information already exist, skipping\u001b[0m\u001b[1;33m...\u001b[0m\n"
      ]
     },
     "metadata": {},
     "output_type": "display_data"
    },
    {
     "data": {
      "text/html": [
       "<pre style=\"white-space:pre;overflow-x:auto;line-height:normal;font-family:Menlo,'DejaVu Sans Mono',consolas,'Courier New',monospace\">Getting Account Information: <span style=\"color: #008080; text-decoration-color: #008080\">koreadispatch</span>\n",
       "</pre>\n"
      ],
      "text/plain": [
       "Getting Account Information: \u001b[36mkoreadispatch\u001b[0m\n"
      ]
     },
     "metadata": {},
     "output_type": "display_data"
    },
    {
     "data": {
      "text/html": [
       "<pre style=\"white-space:pre;overflow-x:auto;line-height:normal;font-family:Menlo,'DejaVu Sans Mono',consolas,'Courier New',monospace\"><span style=\"color: #800000; text-decoration-color: #800000; font-weight: bold\">        User information already exist, skipping</span><span style=\"color: #808000; text-decoration-color: #808000; font-weight: bold\">...</span>\n",
       "</pre>\n"
      ],
      "text/plain": [
       "\u001b[1;31m \u001b[0m\u001b[1;31m       \u001b[0m\u001b[1;31mUser information already exist, skipping\u001b[0m\u001b[1;33m...\u001b[0m\n"
      ]
     },
     "metadata": {},
     "output_type": "display_data"
    },
    {
     "data": {
      "text/html": [
       "<pre style=\"white-space:pre;overflow-x:auto;line-height:normal;font-family:Menlo,'DejaVu Sans Mono',consolas,'Courier New',monospace\">Getting Account Information: <span style=\"color: #008080; text-decoration-color: #008080\">vicidolls</span>\n",
       "</pre>\n"
      ],
      "text/plain": [
       "Getting Account Information: \u001b[36mvicidolls\u001b[0m\n"
      ]
     },
     "metadata": {},
     "output_type": "display_data"
    },
    {
     "data": {
      "text/html": [
       "<pre style=\"white-space:pre;overflow-x:auto;line-height:normal;font-family:Menlo,'DejaVu Sans Mono',consolas,'Courier New',monospace\"><span style=\"color: #800000; text-decoration-color: #800000; font-weight: bold\">        User information already exist, skipping</span><span style=\"color: #808000; text-decoration-color: #808000; font-weight: bold\">...</span>\n",
       "</pre>\n"
      ],
      "text/plain": [
       "\u001b[1;31m \u001b[0m\u001b[1;31m       \u001b[0m\u001b[1;31mUser information already exist, skipping\u001b[0m\u001b[1;33m...\u001b[0m\n"
      ]
     },
     "metadata": {},
     "output_type": "display_data"
    },
    {
     "data": {
      "text/html": [
       "<pre style=\"white-space:pre;overflow-x:auto;line-height:normal;font-family:Menlo,'DejaVu Sans Mono',consolas,'Courier New',monospace\">Getting Account Information: <span style=\"color: #008080; text-decoration-color: #008080\">wwe</span>\n",
       "</pre>\n"
      ],
      "text/plain": [
       "Getting Account Information: \u001b[36mwwe\u001b[0m\n"
      ]
     },
     "metadata": {},
     "output_type": "display_data"
    },
    {
     "data": {
      "text/html": [
       "<pre style=\"white-space:pre;overflow-x:auto;line-height:normal;font-family:Menlo,'DejaVu Sans Mono',consolas,'Courier New',monospace\"><span style=\"color: #800000; text-decoration-color: #800000; font-weight: bold\">        User information already exist, skipping</span><span style=\"color: #808000; text-decoration-color: #808000; font-weight: bold\">...</span>\n",
       "</pre>\n"
      ],
      "text/plain": [
       "\u001b[1;31m \u001b[0m\u001b[1;31m       \u001b[0m\u001b[1;31mUser information already exist, skipping\u001b[0m\u001b[1;33m...\u001b[0m\n"
      ]
     },
     "metadata": {},
     "output_type": "display_data"
    },
    {
     "data": {
      "text/html": [
       "<pre style=\"white-space:pre;overflow-x:auto;line-height:normal;font-family:Menlo,'DejaVu Sans Mono',consolas,'Courier New',monospace\">Getting Account Information: <span style=\"color: #008080; text-decoration-color: #008080\">emaratalyoum</span>\n",
       "</pre>\n"
      ],
      "text/plain": [
       "Getting Account Information: \u001b[36memaratalyoum\u001b[0m\n"
      ]
     },
     "metadata": {},
     "output_type": "display_data"
    },
    {
     "data": {
      "text/html": [
       "<pre style=\"white-space:pre;overflow-x:auto;line-height:normal;font-family:Menlo,'DejaVu Sans Mono',consolas,'Courier New',monospace\"><span style=\"color: #800000; text-decoration-color: #800000; font-weight: bold\">        User information already exist, skipping</span><span style=\"color: #808000; text-decoration-color: #808000; font-weight: bold\">...</span>\n",
       "</pre>\n"
      ],
      "text/plain": [
       "\u001b[1;31m \u001b[0m\u001b[1;31m       \u001b[0m\u001b[1;31mUser information already exist, skipping\u001b[0m\u001b[1;33m...\u001b[0m\n"
      ]
     },
     "metadata": {},
     "output_type": "display_data"
    },
    {
     "data": {
      "text/html": [
       "<pre style=\"white-space:pre;overflow-x:auto;line-height:normal;font-family:Menlo,'DejaVu Sans Mono',consolas,'Courier New',monospace\">Getting Account Information: <span style=\"color: #008080; text-decoration-color: #008080\">sonytvofficial</span>\n",
       "</pre>\n"
      ],
      "text/plain": [
       "Getting Account Information: \u001b[36msonytvofficial\u001b[0m\n"
      ]
     },
     "metadata": {},
     "output_type": "display_data"
    },
    {
     "data": {
      "text/html": [
       "<pre style=\"white-space:pre;overflow-x:auto;line-height:normal;font-family:Menlo,'DejaVu Sans Mono',consolas,'Courier New',monospace\"><span style=\"color: #800000; text-decoration-color: #800000; font-weight: bold\">        User information already exist, skipping</span><span style=\"color: #808000; text-decoration-color: #808000; font-weight: bold\">...</span>\n",
       "</pre>\n"
      ],
      "text/plain": [
       "\u001b[1;31m \u001b[0m\u001b[1;31m       \u001b[0m\u001b[1;31mUser information already exist, skipping\u001b[0m\u001b[1;33m...\u001b[0m\n"
      ]
     },
     "metadata": {},
     "output_type": "display_data"
    },
    {
     "data": {
      "text/html": [
       "<pre style=\"white-space:pre;overflow-x:auto;line-height:normal;font-family:Menlo,'DejaVu Sans Mono',consolas,'Courier New',monospace\">Getting Account Information: <span style=\"color: #008080; text-decoration-color: #008080\">ayahlyfans</span>\n",
       "</pre>\n"
      ],
      "text/plain": [
       "Getting Account Information: \u001b[36mayahlyfans\u001b[0m\n"
      ]
     },
     "metadata": {},
     "output_type": "display_data"
    },
    {
     "data": {
      "text/html": [
       "<pre style=\"white-space:pre;overflow-x:auto;line-height:normal;font-family:Menlo,'DejaVu Sans Mono',consolas,'Courier New',monospace\"><span style=\"color: #800000; text-decoration-color: #800000; font-weight: bold\">        User information already exist, skipping</span><span style=\"color: #808000; text-decoration-color: #808000; font-weight: bold\">...</span>\n",
       "</pre>\n"
      ],
      "text/plain": [
       "\u001b[1;31m \u001b[0m\u001b[1;31m       \u001b[0m\u001b[1;31mUser information already exist, skipping\u001b[0m\u001b[1;33m...\u001b[0m\n"
      ]
     },
     "metadata": {},
     "output_type": "display_data"
    },
    {
     "data": {
      "text/html": [
       "<pre style=\"white-space:pre;overflow-x:auto;line-height:normal;font-family:Menlo,'DejaVu Sans Mono',consolas,'Courier New',monospace\">Getting Account Information: <span style=\"color: #008080; text-decoration-color: #008080\">espn</span>\n",
       "</pre>\n"
      ],
      "text/plain": [
       "Getting Account Information: \u001b[36mespn\u001b[0m\n"
      ]
     },
     "metadata": {},
     "output_type": "display_data"
    },
    {
     "data": {
      "text/html": [
       "<pre style=\"white-space:pre;overflow-x:auto;line-height:normal;font-family:Menlo,'DejaVu Sans Mono',consolas,'Courier New',monospace\"><span style=\"color: #800000; text-decoration-color: #800000; font-weight: bold\">        User information already exist, skipping</span><span style=\"color: #808000; text-decoration-color: #808000; font-weight: bold\">...</span>\n",
       "</pre>\n"
      ],
      "text/plain": [
       "\u001b[1;31m \u001b[0m\u001b[1;31m       \u001b[0m\u001b[1;31mUser information already exist, skipping\u001b[0m\u001b[1;33m...\u001b[0m\n"
      ]
     },
     "metadata": {},
     "output_type": "display_data"
    },
    {
     "data": {
      "text/html": [
       "<pre style=\"white-space:pre;overflow-x:auto;line-height:normal;font-family:Menlo,'DejaVu Sans Mono',consolas,'Courier New',monospace\">Getting Account Information: <span style=\"color: #008080; text-decoration-color: #008080\">keaw_jung</span>\n",
       "</pre>\n"
      ],
      "text/plain": [
       "Getting Account Information: \u001b[36mkeaw_jung\u001b[0m\n"
      ]
     },
     "metadata": {},
     "output_type": "display_data"
    },
    {
     "data": {
      "text/html": [
       "<pre style=\"white-space:pre;overflow-x:auto;line-height:normal;font-family:Menlo,'DejaVu Sans Mono',consolas,'Courier New',monospace\"><span style=\"color: #800000; text-decoration-color: #800000; font-weight: bold\">        User information already exist, skipping</span><span style=\"color: #808000; text-decoration-color: #808000; font-weight: bold\">...</span>\n",
       "</pre>\n"
      ],
      "text/plain": [
       "\u001b[1;31m \u001b[0m\u001b[1;31m       \u001b[0m\u001b[1;31mUser information already exist, skipping\u001b[0m\u001b[1;33m...\u001b[0m\n"
      ]
     },
     "metadata": {},
     "output_type": "display_data"
    },
    {
     "name": "stderr",
     "output_type": "stream",
     "text": [
      " 78%|███████▊  | 156/200 [00:18<00:12,  3.54it/s]"
     ]
    },
    {
     "data": {
      "text/html": [
       "<pre style=\"white-space:pre;overflow-x:auto;line-height:normal;font-family:Menlo,'DejaVu Sans Mono',consolas,'Courier New',monospace\">Getting Account Information: <span style=\"color: #008080; text-decoration-color: #008080\">djkhaled</span>\n",
       "</pre>\n"
      ],
      "text/plain": [
       "Getting Account Information: \u001b[36mdjkhaled\u001b[0m\n"
      ]
     },
     "metadata": {},
     "output_type": "display_data"
    },
    {
     "data": {
      "text/html": [
       "<pre style=\"white-space:pre;overflow-x:auto;line-height:normal;font-family:Menlo,'DejaVu Sans Mono',consolas,'Courier New',monospace\"><span style=\"color: #800000; text-decoration-color: #800000; font-weight: bold\">        User information already exist, skipping</span><span style=\"color: #808000; text-decoration-color: #808000; font-weight: bold\">...</span>\n",
       "</pre>\n"
      ],
      "text/plain": [
       "\u001b[1;31m \u001b[0m\u001b[1;31m       \u001b[0m\u001b[1;31mUser information already exist, skipping\u001b[0m\u001b[1;33m...\u001b[0m\n"
      ]
     },
     "metadata": {},
     "output_type": "display_data"
    },
    {
     "data": {
      "text/html": [
       "<pre style=\"white-space:pre;overflow-x:auto;line-height:normal;font-family:Menlo,'DejaVu Sans Mono',consolas,'Courier New',monospace\">Getting Account Information: <span style=\"color: #008080; text-decoration-color: #008080\">rap</span>\n",
       "</pre>\n"
      ],
      "text/plain": [
       "Getting Account Information: \u001b[36mrap\u001b[0m\n"
      ]
     },
     "metadata": {},
     "output_type": "display_data"
    },
    {
     "data": {
      "text/html": [
       "<pre style=\"white-space:pre;overflow-x:auto;line-height:normal;font-family:Menlo,'DejaVu Sans Mono',consolas,'Courier New',monospace\"><span style=\"color: #800000; text-decoration-color: #800000; font-weight: bold\">        User information already exist, skipping</span><span style=\"color: #808000; text-decoration-color: #808000; font-weight: bold\">...</span>\n",
       "</pre>\n"
      ],
      "text/plain": [
       "\u001b[1;31m \u001b[0m\u001b[1;31m       \u001b[0m\u001b[1;31mUser information already exist, skipping\u001b[0m\u001b[1;33m...\u001b[0m\n"
      ]
     },
     "metadata": {},
     "output_type": "display_data"
    },
    {
     "data": {
      "text/html": [
       "<pre style=\"white-space:pre;overflow-x:auto;line-height:normal;font-family:Menlo,'DejaVu Sans Mono',consolas,'Courier New',monospace\">Getting Account Information: <span style=\"color: #008080; text-decoration-color: #008080\">alkhaleej.ae</span>\n",
       "</pre>\n"
      ],
      "text/plain": [
       "Getting Account Information: \u001b[36malkhaleej.ae\u001b[0m\n"
      ]
     },
     "metadata": {},
     "output_type": "display_data"
    },
    {
     "data": {
      "text/html": [
       "<pre style=\"white-space:pre;overflow-x:auto;line-height:normal;font-family:Menlo,'DejaVu Sans Mono',consolas,'Courier New',monospace\"><span style=\"color: #800000; text-decoration-color: #800000; font-weight: bold\">        User information already exist, skipping</span><span style=\"color: #808000; text-decoration-color: #808000; font-weight: bold\">...</span>\n",
       "</pre>\n"
      ],
      "text/plain": [
       "\u001b[1;31m \u001b[0m\u001b[1;31m       \u001b[0m\u001b[1;31mUser information already exist, skipping\u001b[0m\u001b[1;33m...\u001b[0m\n"
      ]
     },
     "metadata": {},
     "output_type": "display_data"
    },
    {
     "data": {
      "text/html": [
       "<pre style=\"white-space:pre;overflow-x:auto;line-height:normal;font-family:Menlo,'DejaVu Sans Mono',consolas,'Courier New',monospace\">Getting Account Information: <span style=\"color: #008080; text-decoration-color: #008080\">colorstv</span>\n",
       "</pre>\n"
      ],
      "text/plain": [
       "Getting Account Information: \u001b[36mcolorstv\u001b[0m\n"
      ]
     },
     "metadata": {},
     "output_type": "display_data"
    },
    {
     "data": {
      "text/html": [
       "<pre style=\"white-space:pre;overflow-x:auto;line-height:normal;font-family:Menlo,'DejaVu Sans Mono',consolas,'Courier New',monospace\"><span style=\"color: #800000; text-decoration-color: #800000; font-weight: bold\">        User information already exist, skipping</span><span style=\"color: #808000; text-decoration-color: #808000; font-weight: bold\">...</span>\n",
       "</pre>\n"
      ],
      "text/plain": [
       "\u001b[1;31m \u001b[0m\u001b[1;31m       \u001b[0m\u001b[1;31mUser information already exist, skipping\u001b[0m\u001b[1;33m...\u001b[0m\n"
      ]
     },
     "metadata": {},
     "output_type": "display_data"
    },
    {
     "data": {
      "text/html": [
       "<pre style=\"white-space:pre;overflow-x:auto;line-height:normal;font-family:Menlo,'DejaVu Sans Mono',consolas,'Courier New',monospace\">Getting Account Information: <span style=\"color: #008080; text-decoration-color: #008080\">khaleejtimes</span>\n",
       "</pre>\n"
      ],
      "text/plain": [
       "Getting Account Information: \u001b[36mkhaleejtimes\u001b[0m\n"
      ]
     },
     "metadata": {},
     "output_type": "display_data"
    },
    {
     "data": {
      "text/html": [
       "<pre style=\"white-space:pre;overflow-x:auto;line-height:normal;font-family:Menlo,'DejaVu Sans Mono',consolas,'Courier New',monospace\"><span style=\"color: #800000; text-decoration-color: #800000; font-weight: bold\">        User information already exist, skipping</span><span style=\"color: #808000; text-decoration-color: #808000; font-weight: bold\">...</span>\n",
       "</pre>\n"
      ],
      "text/plain": [
       "\u001b[1;31m \u001b[0m\u001b[1;31m       \u001b[0m\u001b[1;31mUser information already exist, skipping\u001b[0m\u001b[1;33m...\u001b[0m\n"
      ]
     },
     "metadata": {},
     "output_type": "display_data"
    },
    {
     "data": {
      "text/html": [
       "<pre style=\"white-space:pre;overflow-x:auto;line-height:normal;font-family:Menlo,'DejaVu Sans Mono',consolas,'Courier New',monospace\">Getting Account Information: <span style=\"color: #008080; text-decoration-color: #008080\">thetinderblog</span>\n",
       "</pre>\n"
      ],
      "text/plain": [
       "Getting Account Information: \u001b[36mthetinderblog\u001b[0m\n"
      ]
     },
     "metadata": {},
     "output_type": "display_data"
    },
    {
     "data": {
      "text/html": [
       "<pre style=\"white-space:pre;overflow-x:auto;line-height:normal;font-family:Menlo,'DejaVu Sans Mono',consolas,'Courier New',monospace\"><span style=\"color: #800000; text-decoration-color: #800000; font-weight: bold\">        User information already exist, skipping</span><span style=\"color: #808000; text-decoration-color: #808000; font-weight: bold\">...</span>\n",
       "</pre>\n"
      ],
      "text/plain": [
       "\u001b[1;31m \u001b[0m\u001b[1;31m       \u001b[0m\u001b[1;31mUser information already exist, skipping\u001b[0m\u001b[1;33m...\u001b[0m\n"
      ]
     },
     "metadata": {},
     "output_type": "display_data"
    },
    {
     "data": {
      "text/html": [
       "<pre style=\"white-space:pre;overflow-x:auto;line-height:normal;font-family:Menlo,'DejaVu Sans Mono',consolas,'Courier New',monospace\">Getting Account Information: <span style=\"color: #008080; text-decoration-color: #008080\">jktinfo</span>\n",
       "</pre>\n"
      ],
      "text/plain": [
       "Getting Account Information: \u001b[36mjktinfo\u001b[0m\n"
      ]
     },
     "metadata": {},
     "output_type": "display_data"
    },
    {
     "data": {
      "text/html": [
       "<pre style=\"white-space:pre;overflow-x:auto;line-height:normal;font-family:Menlo,'DejaVu Sans Mono',consolas,'Courier New',monospace\"><span style=\"color: #800000; text-decoration-color: #800000; font-weight: bold\">        User information already exist, skipping</span><span style=\"color: #808000; text-decoration-color: #808000; font-weight: bold\">...</span>\n",
       "</pre>\n"
      ],
      "text/plain": [
       "\u001b[1;31m \u001b[0m\u001b[1;31m       \u001b[0m\u001b[1;31mUser information already exist, skipping\u001b[0m\u001b[1;33m...\u001b[0m\n"
      ]
     },
     "metadata": {},
     "output_type": "display_data"
    },
    {
     "data": {
      "text/html": [
       "<pre style=\"white-space:pre;overflow-x:auto;line-height:normal;font-family:Menlo,'DejaVu Sans Mono',consolas,'Courier New',monospace\">Getting Account Information: <span style=\"color: #008080; text-decoration-color: #008080\">routineofnepalbanda</span>\n",
       "</pre>\n"
      ],
      "text/plain": [
       "Getting Account Information: \u001b[36mroutineofnepalbanda\u001b[0m\n"
      ]
     },
     "metadata": {},
     "output_type": "display_data"
    },
    {
     "data": {
      "text/html": [
       "<pre style=\"white-space:pre;overflow-x:auto;line-height:normal;font-family:Menlo,'DejaVu Sans Mono',consolas,'Courier New',monospace\"><span style=\"color: #800000; text-decoration-color: #800000; font-weight: bold\">        User information already exist, skipping</span><span style=\"color: #808000; text-decoration-color: #808000; font-weight: bold\">...</span>\n",
       "</pre>\n"
      ],
      "text/plain": [
       "\u001b[1;31m \u001b[0m\u001b[1;31m       \u001b[0m\u001b[1;31mUser information already exist, skipping\u001b[0m\u001b[1;33m...\u001b[0m\n"
      ]
     },
     "metadata": {},
     "output_type": "display_data"
    },
    {
     "data": {
      "text/html": [
       "<pre style=\"white-space:pre;overflow-x:auto;line-height:normal;font-family:Menlo,'DejaVu Sans Mono',consolas,'Courier New',monospace\">Getting Account Information: <span style=\"color: #008080; text-decoration-color: #008080\">alroeya</span>\n",
       "</pre>\n"
      ],
      "text/plain": [
       "Getting Account Information: \u001b[36malroeya\u001b[0m\n"
      ]
     },
     "metadata": {},
     "output_type": "display_data"
    },
    {
     "data": {
      "text/html": [
       "<pre style=\"white-space:pre;overflow-x:auto;line-height:normal;font-family:Menlo,'DejaVu Sans Mono',consolas,'Courier New',monospace\"><span style=\"color: #800000; text-decoration-color: #800000; font-weight: bold\">        User information already exist, skipping</span><span style=\"color: #808000; text-decoration-color: #808000; font-weight: bold\">...</span>\n",
       "</pre>\n"
      ],
      "text/plain": [
       "\u001b[1;31m \u001b[0m\u001b[1;31m       \u001b[0m\u001b[1;31mUser information already exist, skipping\u001b[0m\u001b[1;33m...\u001b[0m\n"
      ]
     },
     "metadata": {},
     "output_type": "display_data"
    },
    {
     "data": {
      "text/html": [
       "<pre style=\"white-space:pre;overflow-x:auto;line-height:normal;font-family:Menlo,'DejaVu Sans Mono',consolas,'Courier New',monospace\">Getting Account Information: <span style=\"color: #008080; text-decoration-color: #008080\">icc</span>\n",
       "</pre>\n"
      ],
      "text/plain": [
       "Getting Account Information: \u001b[36micc\u001b[0m\n"
      ]
     },
     "metadata": {},
     "output_type": "display_data"
    },
    {
     "data": {
      "text/html": [
       "<pre style=\"white-space:pre;overflow-x:auto;line-height:normal;font-family:Menlo,'DejaVu Sans Mono',consolas,'Courier New',monospace\"><span style=\"color: #800000; text-decoration-color: #800000; font-weight: bold\">        User information already exist, skipping</span><span style=\"color: #808000; text-decoration-color: #808000; font-weight: bold\">...</span>\n",
       "</pre>\n"
      ],
      "text/plain": [
       "\u001b[1;31m \u001b[0m\u001b[1;31m       \u001b[0m\u001b[1;31mUser information already exist, skipping\u001b[0m\u001b[1;33m...\u001b[0m\n"
      ]
     },
     "metadata": {},
     "output_type": "display_data"
    },
    {
     "data": {
      "text/html": [
       "<pre style=\"white-space:pre;overflow-x:auto;line-height:normal;font-family:Menlo,'DejaVu Sans Mono',consolas,'Courier New',monospace\">Getting Account Information: <span style=\"color: #008080; text-decoration-color: #008080\">laiguanatv</span>\n",
       "</pre>\n"
      ],
      "text/plain": [
       "Getting Account Information: \u001b[36mlaiguanatv\u001b[0m\n"
      ]
     },
     "metadata": {},
     "output_type": "display_data"
    },
    {
     "data": {
      "text/html": [
       "<pre style=\"white-space:pre;overflow-x:auto;line-height:normal;font-family:Menlo,'DejaVu Sans Mono',consolas,'Courier New',monospace\"><span style=\"color: #800000; text-decoration-color: #800000; font-weight: bold\">        User information already exist, skipping</span><span style=\"color: #808000; text-decoration-color: #808000; font-weight: bold\">...</span>\n",
       "</pre>\n"
      ],
      "text/plain": [
       "\u001b[1;31m \u001b[0m\u001b[1;31m       \u001b[0m\u001b[1;31mUser information already exist, skipping\u001b[0m\u001b[1;33m...\u001b[0m\n"
      ]
     },
     "metadata": {},
     "output_type": "display_data"
    },
    {
     "data": {
      "text/html": [
       "<pre style=\"white-space:pre;overflow-x:auto;line-height:normal;font-family:Menlo,'DejaVu Sans Mono',consolas,'Courier New',monospace\">Getting Account Information: <span style=\"color: #008080; text-decoration-color: #008080\">detikcom</span>\n",
       "</pre>\n"
      ],
      "text/plain": [
       "Getting Account Information: \u001b[36mdetikcom\u001b[0m\n"
      ]
     },
     "metadata": {},
     "output_type": "display_data"
    },
    {
     "data": {
      "text/html": [
       "<pre style=\"white-space:pre;overflow-x:auto;line-height:normal;font-family:Menlo,'DejaVu Sans Mono',consolas,'Courier New',monospace\"><span style=\"color: #800000; text-decoration-color: #800000; font-weight: bold\">        User information already exist, skipping</span><span style=\"color: #808000; text-decoration-color: #808000; font-weight: bold\">...</span>\n",
       "</pre>\n"
      ],
      "text/plain": [
       "\u001b[1;31m \u001b[0m\u001b[1;31m       \u001b[0m\u001b[1;31mUser information already exist, skipping\u001b[0m\u001b[1;33m...\u001b[0m\n"
      ]
     },
     "metadata": {},
     "output_type": "display_data"
    },
    {
     "data": {
      "text/html": [
       "<pre style=\"white-space:pre;overflow-x:auto;line-height:normal;font-family:Menlo,'DejaVu Sans Mono',consolas,'Courier New',monospace\">Getting Account Information: <span style=\"color: #008080; text-decoration-color: #008080\">theneighborhoodtalk</span>\n",
       "</pre>\n"
      ],
      "text/plain": [
       "Getting Account Information: \u001b[36mtheneighborhoodtalk\u001b[0m\n"
      ]
     },
     "metadata": {},
     "output_type": "display_data"
    },
    {
     "data": {
      "text/html": [
       "<pre style=\"white-space:pre;overflow-x:auto;line-height:normal;font-family:Menlo,'DejaVu Sans Mono',consolas,'Courier New',monospace\"><span style=\"color: #800000; text-decoration-color: #800000; font-weight: bold\">        User information already exist, skipping</span><span style=\"color: #808000; text-decoration-color: #808000; font-weight: bold\">...</span>\n",
       "</pre>\n"
      ],
      "text/plain": [
       "\u001b[1;31m \u001b[0m\u001b[1;31m       \u001b[0m\u001b[1;31mUser information already exist, skipping\u001b[0m\u001b[1;33m...\u001b[0m\n"
      ]
     },
     "metadata": {},
     "output_type": "display_data"
    },
    {
     "name": "stderr",
     "output_type": "stream",
     "text": [
      " 84%|████████▍ | 169/200 [00:18<00:05,  5.27it/s]"
     ]
    },
    {
     "data": {
      "text/html": [
       "<pre style=\"white-space:pre;overflow-x:auto;line-height:normal;font-family:Menlo,'DejaVu Sans Mono',consolas,'Courier New',monospace\">Getting Account Information: <span style=\"color: #008080; text-decoration-color: #008080\">entre.nous.official</span>\n",
       "</pre>\n"
      ],
      "text/plain": [
       "Getting Account Information: \u001b[36mentre.nous.official\u001b[0m\n"
      ]
     },
     "metadata": {},
     "output_type": "display_data"
    },
    {
     "data": {
      "text/html": [
       "<pre style=\"white-space:pre;overflow-x:auto;line-height:normal;font-family:Menlo,'DejaVu Sans Mono',consolas,'Courier New',monospace\"><span style=\"color: #800000; text-decoration-color: #800000; font-weight: bold\">        User information already exist, skipping</span><span style=\"color: #808000; text-decoration-color: #808000; font-weight: bold\">...</span>\n",
       "</pre>\n"
      ],
      "text/plain": [
       "\u001b[1;31m \u001b[0m\u001b[1;31m       \u001b[0m\u001b[1;31mUser information already exist, skipping\u001b[0m\u001b[1;33m...\u001b[0m\n"
      ]
     },
     "metadata": {},
     "output_type": "display_data"
    },
    {
     "data": {
      "text/html": [
       "<pre style=\"white-space:pre;overflow-x:auto;line-height:normal;font-family:Menlo,'DejaVu Sans Mono',consolas,'Courier New',monospace\">Getting Account Information: <span style=\"color: #008080; text-decoration-color: #008080\">nocap</span>\n",
       "</pre>\n"
      ],
      "text/plain": [
       "Getting Account Information: \u001b[36mnocap\u001b[0m\n"
      ]
     },
     "metadata": {},
     "output_type": "display_data"
    },
    {
     "data": {
      "text/html": [
       "<pre style=\"white-space:pre;overflow-x:auto;line-height:normal;font-family:Menlo,'DejaVu Sans Mono',consolas,'Courier New',monospace\"><span style=\"color: #800000; text-decoration-color: #800000; font-weight: bold\">        User information already exist, skipping</span><span style=\"color: #808000; text-decoration-color: #808000; font-weight: bold\">...</span>\n",
       "</pre>\n"
      ],
      "text/plain": [
       "\u001b[1;31m \u001b[0m\u001b[1;31m       \u001b[0m\u001b[1;31mUser information already exist, skipping\u001b[0m\u001b[1;33m...\u001b[0m\n"
      ]
     },
     "metadata": {},
     "output_type": "display_data"
    },
    {
     "data": {
      "text/html": [
       "<pre style=\"white-space:pre;overflow-x:auto;line-height:normal;font-family:Menlo,'DejaVu Sans Mono',consolas,'Courier New',monospace\">Getting Account Information: <span style=\"color: #008080; text-decoration-color: #008080\">lahamag</span>\n",
       "</pre>\n"
      ],
      "text/plain": [
       "Getting Account Information: \u001b[36mlahamag\u001b[0m\n"
      ]
     },
     "metadata": {},
     "output_type": "display_data"
    },
    {
     "data": {
      "text/html": [
       "<pre style=\"white-space:pre;overflow-x:auto;line-height:normal;font-family:Menlo,'DejaVu Sans Mono',consolas,'Courier New',monospace\"><span style=\"color: #800000; text-decoration-color: #800000; font-weight: bold\">        User information already exist, skipping</span><span style=\"color: #808000; text-decoration-color: #808000; font-weight: bold\">...</span>\n",
       "</pre>\n"
      ],
      "text/plain": [
       "\u001b[1;31m \u001b[0m\u001b[1;31m       \u001b[0m\u001b[1;31mUser information already exist, skipping\u001b[0m\u001b[1;33m...\u001b[0m\n"
      ]
     },
     "metadata": {},
     "output_type": "display_data"
    },
    {
     "data": {
      "text/html": [
       "<pre style=\"white-space:pre;overflow-x:auto;line-height:normal;font-family:Menlo,'DejaVu Sans Mono',consolas,'Courier New',monospace\">Getting Account Information: <span style=\"color: #008080; text-decoration-color: #008080\">flamengo</span>\n",
       "</pre>\n"
      ],
      "text/plain": [
       "Getting Account Information: \u001b[36mflamengo\u001b[0m\n"
      ]
     },
     "metadata": {},
     "output_type": "display_data"
    },
    {
     "data": {
      "text/html": [
       "<pre style=\"white-space:pre;overflow-x:auto;line-height:normal;font-family:Menlo,'DejaVu Sans Mono',consolas,'Courier New',monospace\"><span style=\"color: #800000; text-decoration-color: #800000; font-weight: bold\">        User information already exist, skipping</span><span style=\"color: #808000; text-decoration-color: #808000; font-weight: bold\">...</span>\n",
       "</pre>\n"
      ],
      "text/plain": [
       "\u001b[1;31m \u001b[0m\u001b[1;31m       \u001b[0m\u001b[1;31mUser information already exist, skipping\u001b[0m\u001b[1;33m...\u001b[0m\n"
      ]
     },
     "metadata": {},
     "output_type": "display_data"
    },
    {
     "data": {
      "text/html": [
       "<pre style=\"white-space:pre;overflow-x:auto;line-height:normal;font-family:Menlo,'DejaVu Sans Mono',consolas,'Courier New',monospace\">Getting Account Information: <span style=\"color: #008080; text-decoration-color: #008080\">eye.on.palestine</span>\n",
       "</pre>\n"
      ],
      "text/plain": [
       "Getting Account Information: \u001b[36meye.on.palestine\u001b[0m\n"
      ]
     },
     "metadata": {},
     "output_type": "display_data"
    },
    {
     "data": {
      "text/html": [
       "<pre style=\"white-space:pre;overflow-x:auto;line-height:normal;font-family:Menlo,'DejaVu Sans Mono',consolas,'Courier New',monospace\"><span style=\"color: #800000; text-decoration-color: #800000; font-weight: bold\">        User information already exist, skipping</span><span style=\"color: #808000; text-decoration-color: #808000; font-weight: bold\">...</span>\n",
       "</pre>\n"
      ],
      "text/plain": [
       "\u001b[1;31m \u001b[0m\u001b[1;31m       \u001b[0m\u001b[1;31mUser information already exist, skipping\u001b[0m\u001b[1;33m...\u001b[0m\n"
      ]
     },
     "metadata": {},
     "output_type": "display_data"
    },
    {
     "data": {
      "text/html": [
       "<pre style=\"white-space:pre;overflow-x:auto;line-height:normal;font-family:Menlo,'DejaVu Sans Mono',consolas,'Courier New',monospace\">Getting Account Information: <span style=\"color: #008080; text-decoration-color: #008080\">samuelsianto</span>\n",
       "</pre>\n"
      ],
      "text/plain": [
       "Getting Account Information: \u001b[36msamuelsianto\u001b[0m\n"
      ]
     },
     "metadata": {},
     "output_type": "display_data"
    },
    {
     "data": {
      "text/html": [
       "<pre style=\"white-space:pre;overflow-x:auto;line-height:normal;font-family:Menlo,'DejaVu Sans Mono',consolas,'Courier New',monospace\"><span style=\"color: #800000; text-decoration-color: #800000; font-weight: bold\">        User information already exist, skipping</span><span style=\"color: #808000; text-decoration-color: #808000; font-weight: bold\">...</span>\n",
       "</pre>\n"
      ],
      "text/plain": [
       "\u001b[1;31m \u001b[0m\u001b[1;31m       \u001b[0m\u001b[1;31mUser information already exist, skipping\u001b[0m\u001b[1;33m...\u001b[0m\n"
      ]
     },
     "metadata": {},
     "output_type": "display_data"
    },
    {
     "data": {
      "text/html": [
       "<pre style=\"white-space:pre;overflow-x:auto;line-height:normal;font-family:Menlo,'DejaVu Sans Mono',consolas,'Courier New',monospace\">Getting Account Information: <span style=\"color: #008080; text-decoration-color: #008080\">elchiringuitotv</span>\n",
       "</pre>\n"
      ],
      "text/plain": [
       "Getting Account Information: \u001b[36melchiringuitotv\u001b[0m\n"
      ]
     },
     "metadata": {},
     "output_type": "display_data"
    },
    {
     "data": {
      "text/html": [
       "<pre style=\"white-space:pre;overflow-x:auto;line-height:normal;font-family:Menlo,'DejaVu Sans Mono',consolas,'Courier New',monospace\"><span style=\"color: #800000; text-decoration-color: #800000; font-weight: bold\">        User information already exist, skipping</span><span style=\"color: #808000; text-decoration-color: #808000; font-weight: bold\">...</span>\n",
       "</pre>\n"
      ],
      "text/plain": [
       "\u001b[1;31m \u001b[0m\u001b[1;31m       \u001b[0m\u001b[1;31mUser information already exist, skipping\u001b[0m\u001b[1;33m...\u001b[0m\n"
      ]
     },
     "metadata": {},
     "output_type": "display_data"
    },
    {
     "data": {
      "text/html": [
       "<pre style=\"white-space:pre;overflow-x:auto;line-height:normal;font-family:Menlo,'DejaVu Sans Mono',consolas,'Courier New',monospace\">Getting Account Information: <span style=\"color: #008080; text-decoration-color: #008080\">abnajnews</span>\n",
       "</pre>\n"
      ],
      "text/plain": [
       "Getting Account Information: \u001b[36mabnajnews\u001b[0m\n"
      ]
     },
     "metadata": {},
     "output_type": "display_data"
    },
    {
     "data": {
      "text/html": [
       "<pre style=\"white-space:pre;overflow-x:auto;line-height:normal;font-family:Menlo,'DejaVu Sans Mono',consolas,'Courier New',monospace\"><span style=\"color: #800000; text-decoration-color: #800000; font-weight: bold\">        User information already exist, skipping</span><span style=\"color: #808000; text-decoration-color: #808000; font-weight: bold\">...</span>\n",
       "</pre>\n"
      ],
      "text/plain": [
       "\u001b[1;31m \u001b[0m\u001b[1;31m       \u001b[0m\u001b[1;31mUser information already exist, skipping\u001b[0m\u001b[1;33m...\u001b[0m\n"
      ]
     },
     "metadata": {},
     "output_type": "display_data"
    },
    {
     "data": {
      "text/html": [
       "<pre style=\"white-space:pre;overflow-x:auto;line-height:normal;font-family:Menlo,'DejaVu Sans Mono',consolas,'Courier New',monospace\">Getting Account Information: <span style=\"color: #008080; text-decoration-color: #008080\">sayidatynet</span>\n",
       "</pre>\n"
      ],
      "text/plain": [
       "Getting Account Information: \u001b[36msayidatynet\u001b[0m\n"
      ]
     },
     "metadata": {},
     "output_type": "display_data"
    },
    {
     "data": {
      "text/html": [
       "<pre style=\"white-space:pre;overflow-x:auto;line-height:normal;font-family:Menlo,'DejaVu Sans Mono',consolas,'Courier New',monospace\"><span style=\"color: #800000; text-decoration-color: #800000; font-weight: bold\">        User information already exist, skipping</span><span style=\"color: #808000; text-decoration-color: #808000; font-weight: bold\">...</span>\n",
       "</pre>\n"
      ],
      "text/plain": [
       "\u001b[1;31m \u001b[0m\u001b[1;31m       \u001b[0m\u001b[1;31mUser information already exist, skipping\u001b[0m\u001b[1;33m...\u001b[0m\n"
      ]
     },
     "metadata": {},
     "output_type": "display_data"
    },
    {
     "name": "stderr",
     "output_type": "stream",
     "text": [
      " 89%|████████▉ | 178/200 [00:18<00:03,  6.89it/s]"
     ]
    },
    {
     "data": {
      "text/html": [
       "<pre style=\"white-space:pre;overflow-x:auto;line-height:normal;font-family:Menlo,'DejaVu Sans Mono',consolas,'Courier New',monospace\">Getting Account Information: <span style=\"color: #008080; text-decoration-color: #008080\">9gag</span>\n",
       "</pre>\n"
      ],
      "text/plain": [
       "Getting Account Information: \u001b[36m9gag\u001b[0m\n"
      ]
     },
     "metadata": {},
     "output_type": "display_data"
    },
    {
     "data": {
      "text/html": [
       "<pre style=\"white-space:pre;overflow-x:auto;line-height:normal;font-family:Menlo,'DejaVu Sans Mono',consolas,'Courier New',monospace\"><span style=\"color: #800000; text-decoration-color: #800000; font-weight: bold\">        User information already exist, skipping</span><span style=\"color: #808000; text-decoration-color: #808000; font-weight: bold\">...</span>\n",
       "</pre>\n"
      ],
      "text/plain": [
       "\u001b[1;31m \u001b[0m\u001b[1;31m       \u001b[0m\u001b[1;31mUser information already exist, skipping\u001b[0m\u001b[1;33m...\u001b[0m\n"
      ]
     },
     "metadata": {},
     "output_type": "display_data"
    },
    {
     "data": {
      "text/html": [
       "<pre style=\"white-space:pre;overflow-x:auto;line-height:normal;font-family:Menlo,'DejaVu Sans Mono',consolas,'Courier New',monospace\">Getting Account Information: <span style=\"color: #008080; text-decoration-color: #008080\">deals_with_angel</span>\n",
       "</pre>\n"
      ],
      "text/plain": [
       "Getting Account Information: \u001b[36mdeals_with_angel\u001b[0m\n"
      ]
     },
     "metadata": {},
     "output_type": "display_data"
    },
    {
     "data": {
      "text/html": [
       "<pre style=\"white-space:pre;overflow-x:auto;line-height:normal;font-family:Menlo,'DejaVu Sans Mono',consolas,'Courier New',monospace\"><span style=\"color: #800000; text-decoration-color: #800000; font-weight: bold\">        User information already exist, skipping</span><span style=\"color: #808000; text-decoration-color: #808000; font-weight: bold\">...</span>\n",
       "</pre>\n"
      ],
      "text/plain": [
       "\u001b[1;31m \u001b[0m\u001b[1;31m       \u001b[0m\u001b[1;31mUser information already exist, skipping\u001b[0m\u001b[1;33m...\u001b[0m\n"
      ]
     },
     "metadata": {},
     "output_type": "display_data"
    },
    {
     "data": {
      "text/html": [
       "<pre style=\"white-space:pre;overflow-x:auto;line-height:normal;font-family:Menlo,'DejaVu Sans Mono',consolas,'Courier New',monospace\">Getting Account Information: <span style=\"color: #008080; text-decoration-color: #008080\">titoloshop</span>\n",
       "</pre>\n"
      ],
      "text/plain": [
       "Getting Account Information: \u001b[36mtitoloshop\u001b[0m\n"
      ]
     },
     "metadata": {},
     "output_type": "display_data"
    },
    {
     "data": {
      "text/html": [
       "<pre style=\"white-space:pre;overflow-x:auto;line-height:normal;font-family:Menlo,'DejaVu Sans Mono',consolas,'Courier New',monospace\"><span style=\"color: #808000; text-decoration-color: #808000; font-style: italic\">        Downloading: CsGpDNnMFmr</span>\n",
       "</pre>\n"
      ],
      "text/plain": [
       "\u001b[3;33m \u001b[0m\u001b[3;33m       \u001b[0m\u001b[3;33mDownloading: CsGpDNnMFmr\u001b[0m\n"
      ]
     },
     "metadata": {},
     "output_type": "display_data"
    },
    {
     "data": {
      "text/html": [
       "<pre style=\"white-space:pre;overflow-x:auto;line-height:normal;font-family:Menlo,'DejaVu Sans Mono',consolas,'Courier New',monospace\"><span style=\"color: #00ff00; text-decoration-color: #00ff00; font-style: italic\">        Saved!</span>\n",
       "</pre>\n"
      ],
      "text/plain": [
       "\u001b[3;92m \u001b[0m\u001b[3;92m       \u001b[0m\u001b[3;92mSaved!\u001b[0m\n"
      ]
     },
     "metadata": {},
     "output_type": "display_data"
    },
    {
     "data": {
      "text/html": [
       "<pre style=\"white-space:pre;overflow-x:auto;line-height:normal;font-family:Menlo,'DejaVu Sans Mono',consolas,'Courier New',monospace\"><span style=\"color: #808000; text-decoration-color: #808000; font-style: italic\">        Downloading: CsGVRtIMKVy</span>\n",
       "</pre>\n"
      ],
      "text/plain": [
       "\u001b[3;33m \u001b[0m\u001b[3;33m       \u001b[0m\u001b[3;33mDownloading: CsGVRtIMKVy\u001b[0m\n"
      ]
     },
     "metadata": {},
     "output_type": "display_data"
    },
    {
     "data": {
      "text/html": [
       "<pre style=\"white-space:pre;overflow-x:auto;line-height:normal;font-family:Menlo,'DejaVu Sans Mono',consolas,'Courier New',monospace\"><span style=\"color: #00ff00; text-decoration-color: #00ff00; font-style: italic\">        Saved!</span>\n",
       "</pre>\n"
      ],
      "text/plain": [
       "\u001b[3;92m \u001b[0m\u001b[3;92m       \u001b[0m\u001b[3;92mSaved!\u001b[0m\n"
      ]
     },
     "metadata": {},
     "output_type": "display_data"
    },
    {
     "data": {
      "text/html": [
       "<pre style=\"white-space:pre;overflow-x:auto;line-height:normal;font-family:Menlo,'DejaVu Sans Mono',consolas,'Courier New',monospace\"><span style=\"color: #808000; text-decoration-color: #808000; font-style: italic\">        Downloading: CsEZGGBsq1D</span>\n",
       "</pre>\n"
      ],
      "text/plain": [
       "\u001b[3;33m \u001b[0m\u001b[3;33m       \u001b[0m\u001b[3;33mDownloading: CsEZGGBsq1D\u001b[0m\n"
      ]
     },
     "metadata": {},
     "output_type": "display_data"
    },
    {
     "data": {
      "text/html": [
       "<pre style=\"white-space:pre;overflow-x:auto;line-height:normal;font-family:Menlo,'DejaVu Sans Mono',consolas,'Courier New',monospace\"><span style=\"color: #00ff00; text-decoration-color: #00ff00; font-style: italic\">        Saved!</span>\n",
       "</pre>\n"
      ],
      "text/plain": [
       "\u001b[3;92m \u001b[0m\u001b[3;92m       \u001b[0m\u001b[3;92mSaved!\u001b[0m\n"
      ]
     },
     "metadata": {},
     "output_type": "display_data"
    },
    {
     "data": {
      "text/html": [
       "<pre style=\"white-space:pre;overflow-x:auto;line-height:normal;font-family:Menlo,'DejaVu Sans Mono',consolas,'Courier New',monospace\"><span style=\"color: #808000; text-decoration-color: #808000; font-style: italic\">        Downloading: CsEETtQs_SM</span>\n",
       "</pre>\n"
      ],
      "text/plain": [
       "\u001b[3;33m \u001b[0m\u001b[3;33m       \u001b[0m\u001b[3;33mDownloading: CsEETtQs_SM\u001b[0m\n"
      ]
     },
     "metadata": {},
     "output_type": "display_data"
    },
    {
     "data": {
      "text/html": [
       "<pre style=\"white-space:pre;overflow-x:auto;line-height:normal;font-family:Menlo,'DejaVu Sans Mono',consolas,'Courier New',monospace\"><span style=\"color: #00ff00; text-decoration-color: #00ff00; font-style: italic\">        Saved!</span>\n",
       "</pre>\n"
      ],
      "text/plain": [
       "\u001b[3;92m \u001b[0m\u001b[3;92m       \u001b[0m\u001b[3;92mSaved!\u001b[0m\n"
      ]
     },
     "metadata": {},
     "output_type": "display_data"
    },
    {
     "data": {
      "text/html": [
       "<pre style=\"white-space:pre;overflow-x:auto;line-height:normal;font-family:Menlo,'DejaVu Sans Mono',consolas,'Courier New',monospace\"><span style=\"color: #808000; text-decoration-color: #808000; font-style: italic\">        Downloading: CsDsJoKs618</span>\n",
       "</pre>\n"
      ],
      "text/plain": [
       "\u001b[3;33m \u001b[0m\u001b[3;33m       \u001b[0m\u001b[3;33mDownloading: CsDsJoKs618\u001b[0m\n"
      ]
     },
     "metadata": {},
     "output_type": "display_data"
    },
    {
     "data": {
      "text/html": [
       "<pre style=\"white-space:pre;overflow-x:auto;line-height:normal;font-family:Menlo,'DejaVu Sans Mono',consolas,'Courier New',monospace\"><span style=\"color: #00ff00; text-decoration-color: #00ff00; font-style: italic\">        Saved!</span>\n",
       "</pre>\n"
      ],
      "text/plain": [
       "\u001b[3;92m \u001b[0m\u001b[3;92m       \u001b[0m\u001b[3;92mSaved!\u001b[0m\n"
      ]
     },
     "metadata": {},
     "output_type": "display_data"
    },
    {
     "data": {
      "text/html": [
       "<pre style=\"white-space:pre;overflow-x:auto;line-height:normal;font-family:Menlo,'DejaVu Sans Mono',consolas,'Courier New',monospace\"><span style=\"color: #808000; text-decoration-color: #808000; font-style: italic\">        Downloading: CsDXignMDQr</span>\n",
       "</pre>\n"
      ],
      "text/plain": [
       "\u001b[3;33m \u001b[0m\u001b[3;33m       \u001b[0m\u001b[3;33mDownloading: CsDXignMDQr\u001b[0m\n"
      ]
     },
     "metadata": {},
     "output_type": "display_data"
    },
    {
     "data": {
      "text/html": [
       "<pre style=\"white-space:pre;overflow-x:auto;line-height:normal;font-family:Menlo,'DejaVu Sans Mono',consolas,'Courier New',monospace\"><span style=\"color: #00ff00; text-decoration-color: #00ff00; font-style: italic\">        Saved!</span>\n",
       "</pre>\n"
      ],
      "text/plain": [
       "\u001b[3;92m \u001b[0m\u001b[3;92m       \u001b[0m\u001b[3;92mSaved!\u001b[0m\n"
      ]
     },
     "metadata": {},
     "output_type": "display_data"
    },
    {
     "data": {
      "text/html": [
       "<pre style=\"white-space:pre;overflow-x:auto;line-height:normal;font-family:Menlo,'DejaVu Sans Mono',consolas,'Courier New',monospace\"><span style=\"color: #808000; text-decoration-color: #808000; font-style: italic\">        Downloading: CsB7CnKsKxw</span>\n",
       "</pre>\n"
      ],
      "text/plain": [
       "\u001b[3;33m \u001b[0m\u001b[3;33m       \u001b[0m\u001b[3;33mDownloading: CsB7CnKsKxw\u001b[0m\n"
      ]
     },
     "metadata": {},
     "output_type": "display_data"
    },
    {
     "data": {
      "text/html": [
       "<pre style=\"white-space:pre;overflow-x:auto;line-height:normal;font-family:Menlo,'DejaVu Sans Mono',consolas,'Courier New',monospace\"><span style=\"color: #00ff00; text-decoration-color: #00ff00; font-style: italic\">        Saved!</span>\n",
       "</pre>\n"
      ],
      "text/plain": [
       "\u001b[3;92m \u001b[0m\u001b[3;92m       \u001b[0m\u001b[3;92mSaved!\u001b[0m\n"
      ]
     },
     "metadata": {},
     "output_type": "display_data"
    },
    {
     "data": {
      "text/html": [
       "<pre style=\"white-space:pre;overflow-x:auto;line-height:normal;font-family:Menlo,'DejaVu Sans Mono',consolas,'Courier New',monospace\"><span style=\"color: #808000; text-decoration-color: #808000; font-style: italic\">        Downloading: CsBjYavMdO5</span>\n",
       "</pre>\n"
      ],
      "text/plain": [
       "\u001b[3;33m \u001b[0m\u001b[3;33m       \u001b[0m\u001b[3;33mDownloading: CsBjYavMdO5\u001b[0m\n"
      ]
     },
     "metadata": {},
     "output_type": "display_data"
    },
    {
     "name": "stderr",
     "output_type": "stream",
     "text": [
      " 89%|████████▉ | 178/200 [00:30<00:03,  6.89it/s]"
     ]
    },
    {
     "data": {
      "text/html": [
       "<pre style=\"white-space:pre;overflow-x:auto;line-height:normal;font-family:Menlo,'DejaVu Sans Mono',consolas,'Courier New',monospace\"><span style=\"color: #00ff00; text-decoration-color: #00ff00; font-style: italic\">        Saved!</span>\n",
       "</pre>\n"
      ],
      "text/plain": [
       "\u001b[3;92m \u001b[0m\u001b[3;92m       \u001b[0m\u001b[3;92mSaved!\u001b[0m\n"
      ]
     },
     "metadata": {},
     "output_type": "display_data"
    },
    {
     "data": {
      "text/html": [
       "<pre style=\"white-space:pre;overflow-x:auto;line-height:normal;font-family:Menlo,'DejaVu Sans Mono',consolas,'Courier New',monospace\"><span style=\"color: #808000; text-decoration-color: #808000; font-style: italic\">        Downloading: CsBK3Y9MHsc</span>\n",
       "</pre>\n"
      ],
      "text/plain": [
       "\u001b[3;33m \u001b[0m\u001b[3;33m       \u001b[0m\u001b[3;33mDownloading: CsBK3Y9MHsc\u001b[0m\n"
      ]
     },
     "metadata": {},
     "output_type": "display_data"
    },
    {
     "data": {
      "text/html": [
       "<pre style=\"white-space:pre;overflow-x:auto;line-height:normal;font-family:Menlo,'DejaVu Sans Mono',consolas,'Courier New',monospace\"><span style=\"color: #00ff00; text-decoration-color: #00ff00; font-style: italic\">        Saved!</span>\n",
       "</pre>\n"
      ],
      "text/plain": [
       "\u001b[3;92m \u001b[0m\u001b[3;92m       \u001b[0m\u001b[3;92mSaved!\u001b[0m\n"
      ]
     },
     "metadata": {},
     "output_type": "display_data"
    },
    {
     "data": {
      "text/html": [
       "<pre style=\"white-space:pre;overflow-x:auto;line-height:normal;font-family:Menlo,'DejaVu Sans Mono',consolas,'Courier New',monospace\"><span style=\"color: #808000; text-decoration-color: #808000; font-style: italic\">        Downloading: CsA2OQINKQA</span>\n",
       "</pre>\n"
      ],
      "text/plain": [
       "\u001b[3;33m \u001b[0m\u001b[3;33m       \u001b[0m\u001b[3;33mDownloading: CsA2OQINKQA\u001b[0m\n"
      ]
     },
     "metadata": {},
     "output_type": "display_data"
    },
    {
     "data": {
      "text/html": [
       "<pre style=\"white-space:pre;overflow-x:auto;line-height:normal;font-family:Menlo,'DejaVu Sans Mono',consolas,'Courier New',monospace\"><span style=\"color: #00ff00; text-decoration-color: #00ff00; font-style: italic\">        Saved!</span>\n",
       "</pre>\n"
      ],
      "text/plain": [
       "\u001b[3;92m \u001b[0m\u001b[3;92m       \u001b[0m\u001b[3;92mSaved!\u001b[0m\n"
      ]
     },
     "metadata": {},
     "output_type": "display_data"
    },
    {
     "data": {
      "text/html": [
       "<pre style=\"white-space:pre;overflow-x:auto;line-height:normal;font-family:Menlo,'DejaVu Sans Mono',consolas,'Courier New',monospace\"><span style=\"color: #808000; text-decoration-color: #808000; font-style: italic\">        Downloading: Cr_dDPRMcEp</span>\n",
       "</pre>\n"
      ],
      "text/plain": [
       "\u001b[3;33m \u001b[0m\u001b[3;33m       \u001b[0m\u001b[3;33mDownloading: Cr_dDPRMcEp\u001b[0m\n"
      ]
     },
     "metadata": {},
     "output_type": "display_data"
    },
    {
     "data": {
      "text/html": [
       "<pre style=\"white-space:pre;overflow-x:auto;line-height:normal;font-family:Menlo,'DejaVu Sans Mono',consolas,'Courier New',monospace\"><span style=\"color: #00ff00; text-decoration-color: #00ff00; font-style: italic\">        Saved!</span>\n",
       "</pre>\n"
      ],
      "text/plain": [
       "\u001b[3;92m \u001b[0m\u001b[3;92m       \u001b[0m\u001b[3;92mSaved!\u001b[0m\n"
      ]
     },
     "metadata": {},
     "output_type": "display_data"
    },
    {
     "data": {
      "text/html": [
       "<pre style=\"white-space:pre;overflow-x:auto;line-height:normal;font-family:Menlo,'DejaVu Sans Mono',consolas,'Courier New',monospace\"><span style=\"color: #808000; text-decoration-color: #808000; font-style: italic\">        Downloading: Cr_Ie4fShH5</span>\n",
       "</pre>\n"
      ],
      "text/plain": [
       "\u001b[3;33m \u001b[0m\u001b[3;33m       \u001b[0m\u001b[3;33mDownloading: Cr_Ie4fShH5\u001b[0m\n"
      ]
     },
     "metadata": {},
     "output_type": "display_data"
    },
    {
     "data": {
      "text/html": [
       "<pre style=\"white-space:pre;overflow-x:auto;line-height:normal;font-family:Menlo,'DejaVu Sans Mono',consolas,'Courier New',monospace\"><span style=\"color: #00ff00; text-decoration-color: #00ff00; font-style: italic\">        Saved!</span>\n",
       "</pre>\n"
      ],
      "text/plain": [
       "\u001b[3;92m \u001b[0m\u001b[3;92m       \u001b[0m\u001b[3;92mSaved!\u001b[0m\n"
      ]
     },
     "metadata": {},
     "output_type": "display_data"
    },
    {
     "name": "stderr",
     "output_type": "stream",
     "text": [
      " 90%|█████████ | 181/200 [00:34<00:13,  1.44it/s]"
     ]
    },
    {
     "data": {
      "text/html": [
       "<pre style=\"white-space:pre;overflow-x:auto;line-height:normal;font-family:Menlo,'DejaVu Sans Mono',consolas,'Courier New',monospace\">Getting Account Information: <span style=\"color: #008080; text-decoration-color: #008080\">saboskirt</span>\n",
       "</pre>\n"
      ],
      "text/plain": [
       "Getting Account Information: \u001b[36msaboskirt\u001b[0m\n"
      ]
     },
     "metadata": {},
     "output_type": "display_data"
    },
    {
     "data": {
      "text/html": [
       "<pre style=\"white-space:pre;overflow-x:auto;line-height:normal;font-family:Menlo,'DejaVu Sans Mono',consolas,'Courier New',monospace\"><span style=\"color: #808000; text-decoration-color: #808000; font-style: italic\">        Downloading: CsG9naAPIqc</span>\n",
       "</pre>\n"
      ],
      "text/plain": [
       "\u001b[3;33m \u001b[0m\u001b[3;33m       \u001b[0m\u001b[3;33mDownloading: CsG9naAPIqc\u001b[0m\n"
      ]
     },
     "metadata": {},
     "output_type": "display_data"
    },
    {
     "data": {
      "text/html": [
       "<pre style=\"white-space:pre;overflow-x:auto;line-height:normal;font-family:Menlo,'DejaVu Sans Mono',consolas,'Courier New',monospace\"><span style=\"color: #00ff00; text-decoration-color: #00ff00; font-style: italic\">        Saved!</span>\n",
       "</pre>\n"
      ],
      "text/plain": [
       "\u001b[3;92m \u001b[0m\u001b[3;92m       \u001b[0m\u001b[3;92mSaved!\u001b[0m\n"
      ]
     },
     "metadata": {},
     "output_type": "display_data"
    },
    {
     "data": {
      "text/html": [
       "<pre style=\"white-space:pre;overflow-x:auto;line-height:normal;font-family:Menlo,'DejaVu Sans Mono',consolas,'Courier New',monospace\"><span style=\"color: #808000; text-decoration-color: #808000; font-style: italic\">        Downloading: CsGv7P3BmXo</span>\n",
       "</pre>\n"
      ],
      "text/plain": [
       "\u001b[3;33m \u001b[0m\u001b[3;33m       \u001b[0m\u001b[3;33mDownloading: CsGv7P3BmXo\u001b[0m\n"
      ]
     },
     "metadata": {},
     "output_type": "display_data"
    },
    {
     "data": {
      "text/html": [
       "<pre style=\"white-space:pre;overflow-x:auto;line-height:normal;font-family:Menlo,'DejaVu Sans Mono',consolas,'Courier New',monospace\"><span style=\"color: #00ff00; text-decoration-color: #00ff00; font-style: italic\">        Saved!</span>\n",
       "</pre>\n"
      ],
      "text/plain": [
       "\u001b[3;92m \u001b[0m\u001b[3;92m       \u001b[0m\u001b[3;92mSaved!\u001b[0m\n"
      ]
     },
     "metadata": {},
     "output_type": "display_data"
    },
    {
     "data": {
      "text/html": [
       "<pre style=\"white-space:pre;overflow-x:auto;line-height:normal;font-family:Menlo,'DejaVu Sans Mono',consolas,'Courier New',monospace\"><span style=\"color: #808000; text-decoration-color: #808000; font-style: italic\">        Downloading: CsGiCi2RBwR</span>\n",
       "</pre>\n"
      ],
      "text/plain": [
       "\u001b[3;33m \u001b[0m\u001b[3;33m       \u001b[0m\u001b[3;33mDownloading: CsGiCi2RBwR\u001b[0m\n"
      ]
     },
     "metadata": {},
     "output_type": "display_data"
    },
    {
     "data": {
      "text/html": [
       "<pre style=\"white-space:pre;overflow-x:auto;line-height:normal;font-family:Menlo,'DejaVu Sans Mono',consolas,'Courier New',monospace\"><span style=\"color: #00ff00; text-decoration-color: #00ff00; font-style: italic\">        Saved!</span>\n",
       "</pre>\n"
      ],
      "text/plain": [
       "\u001b[3;92m \u001b[0m\u001b[3;92m       \u001b[0m\u001b[3;92mSaved!\u001b[0m\n"
      ]
     },
     "metadata": {},
     "output_type": "display_data"
    },
    {
     "data": {
      "text/html": [
       "<pre style=\"white-space:pre;overflow-x:auto;line-height:normal;font-family:Menlo,'DejaVu Sans Mono',consolas,'Courier New',monospace\"><span style=\"color: #808000; text-decoration-color: #808000; font-style: italic\">        Downloading: CsE0VeLLicY</span>\n",
       "</pre>\n"
      ],
      "text/plain": [
       "\u001b[3;33m \u001b[0m\u001b[3;33m       \u001b[0m\u001b[3;33mDownloading: CsE0VeLLicY\u001b[0m\n"
      ]
     },
     "metadata": {},
     "output_type": "display_data"
    },
    {
     "data": {
      "text/html": [
       "<pre style=\"white-space:pre;overflow-x:auto;line-height:normal;font-family:Menlo,'DejaVu Sans Mono',consolas,'Courier New',monospace\"><span style=\"color: #00ff00; text-decoration-color: #00ff00; font-style: italic\">        Saved!</span>\n",
       "</pre>\n"
      ],
      "text/plain": [
       "\u001b[3;92m \u001b[0m\u001b[3;92m       \u001b[0m\u001b[3;92mSaved!\u001b[0m\n"
      ]
     },
     "metadata": {},
     "output_type": "display_data"
    },
    {
     "data": {
      "text/html": [
       "<pre style=\"white-space:pre;overflow-x:auto;line-height:normal;font-family:Menlo,'DejaVu Sans Mono',consolas,'Courier New',monospace\"><span style=\"color: #808000; text-decoration-color: #808000; font-style: italic\">        Downloading: CsEmmeIvIxt</span>\n",
       "</pre>\n"
      ],
      "text/plain": [
       "\u001b[3;33m \u001b[0m\u001b[3;33m       \u001b[0m\u001b[3;33mDownloading: CsEmmeIvIxt\u001b[0m\n"
      ]
     },
     "metadata": {},
     "output_type": "display_data"
    },
    {
     "data": {
      "text/html": [
       "<pre style=\"white-space:pre;overflow-x:auto;line-height:normal;font-family:Menlo,'DejaVu Sans Mono',consolas,'Courier New',monospace\"><span style=\"color: #00ff00; text-decoration-color: #00ff00; font-style: italic\">        Saved!</span>\n",
       "</pre>\n"
      ],
      "text/plain": [
       "\u001b[3;92m \u001b[0m\u001b[3;92m       \u001b[0m\u001b[3;92mSaved!\u001b[0m\n"
      ]
     },
     "metadata": {},
     "output_type": "display_data"
    },
    {
     "data": {
      "text/html": [
       "<pre style=\"white-space:pre;overflow-x:auto;line-height:normal;font-family:Menlo,'DejaVu Sans Mono',consolas,'Courier New',monospace\"><span style=\"color: #808000; text-decoration-color: #808000; font-style: italic\">        Downloading: CsEY0vPPLnK</span>\n",
       "</pre>\n"
      ],
      "text/plain": [
       "\u001b[3;33m \u001b[0m\u001b[3;33m       \u001b[0m\u001b[3;33mDownloading: CsEY0vPPLnK\u001b[0m\n"
      ]
     },
     "metadata": {},
     "output_type": "display_data"
    },
    {
     "data": {
      "text/html": [
       "<pre style=\"white-space:pre;overflow-x:auto;line-height:normal;font-family:Menlo,'DejaVu Sans Mono',consolas,'Courier New',monospace\"><span style=\"color: #00ff00; text-decoration-color: #00ff00; font-style: italic\">        Saved!</span>\n",
       "</pre>\n"
      ],
      "text/plain": [
       "\u001b[3;92m \u001b[0m\u001b[3;92m       \u001b[0m\u001b[3;92mSaved!\u001b[0m\n"
      ]
     },
     "metadata": {},
     "output_type": "display_data"
    },
    {
     "data": {
      "text/html": [
       "<pre style=\"white-space:pre;overflow-x:auto;line-height:normal;font-family:Menlo,'DejaVu Sans Mono',consolas,'Courier New',monospace\"><span style=\"color: #808000; text-decoration-color: #808000; font-style: italic\">        Downloading: CsELFWlr2HY</span>\n",
       "</pre>\n"
      ],
      "text/plain": [
       "\u001b[3;33m \u001b[0m\u001b[3;33m       \u001b[0m\u001b[3;33mDownloading: CsELFWlr2HY\u001b[0m\n"
      ]
     },
     "metadata": {},
     "output_type": "display_data"
    },
    {
     "data": {
      "text/html": [
       "<pre style=\"white-space:pre;overflow-x:auto;line-height:normal;font-family:Menlo,'DejaVu Sans Mono',consolas,'Courier New',monospace\"><span style=\"color: #00ff00; text-decoration-color: #00ff00; font-style: italic\">        Saved!</span>\n",
       "</pre>\n"
      ],
      "text/plain": [
       "\u001b[3;92m \u001b[0m\u001b[3;92m       \u001b[0m\u001b[3;92mSaved!\u001b[0m\n"
      ]
     },
     "metadata": {},
     "output_type": "display_data"
    },
    {
     "data": {
      "text/html": [
       "<pre style=\"white-space:pre;overflow-x:auto;line-height:normal;font-family:Menlo,'DejaVu Sans Mono',consolas,'Courier New',monospace\"><span style=\"color: #808000; text-decoration-color: #808000; font-style: italic\">        Downloading: CsD8-Y2xOok</span>\n",
       "</pre>\n"
      ],
      "text/plain": [
       "\u001b[3;33m \u001b[0m\u001b[3;33m       \u001b[0m\u001b[3;33mDownloading: CsD8-Y2xOok\u001b[0m\n"
      ]
     },
     "metadata": {},
     "output_type": "display_data"
    },
    {
     "data": {
      "text/html": [
       "<pre style=\"white-space:pre;overflow-x:auto;line-height:normal;font-family:Menlo,'DejaVu Sans Mono',consolas,'Courier New',monospace\"><span style=\"color: #00ff00; text-decoration-color: #00ff00; font-style: italic\">        Saved!</span>\n",
       "</pre>\n"
      ],
      "text/plain": [
       "\u001b[3;92m \u001b[0m\u001b[3;92m       \u001b[0m\u001b[3;92mSaved!\u001b[0m\n"
      ]
     },
     "metadata": {},
     "output_type": "display_data"
    },
    {
     "name": "stderr",
     "output_type": "stream",
     "text": [
      " 91%|█████████ | 182/200 [00:56<00:31,  1.74s/it]"
     ]
    },
    {
     "data": {
      "text/html": [
       "<pre style=\"white-space:pre;overflow-x:auto;line-height:normal;font-family:Menlo,'DejaVu Sans Mono',consolas,'Courier New',monospace\">Getting Account Information: <span style=\"color: #008080; text-decoration-color: #008080\">ufc</span>\n",
       "</pre>\n"
      ],
      "text/plain": [
       "Getting Account Information: \u001b[36mufc\u001b[0m\n"
      ]
     },
     "metadata": {},
     "output_type": "display_data"
    },
    {
     "data": {
      "text/html": [
       "<pre style=\"white-space:pre;overflow-x:auto;line-height:normal;font-family:Menlo,'DejaVu Sans Mono',consolas,'Courier New',monospace\"><span style=\"color: #808000; text-decoration-color: #808000; font-style: italic\">        Downloading: CsFI9UdNG2c</span>\n",
       "</pre>\n"
      ],
      "text/plain": [
       "\u001b[3;33m \u001b[0m\u001b[3;33m       \u001b[0m\u001b[3;33mDownloading: CsFI9UdNG2c\u001b[0m\n"
      ]
     },
     "metadata": {},
     "output_type": "display_data"
    },
    {
     "data": {
      "text/html": [
       "<pre style=\"white-space:pre;overflow-x:auto;line-height:normal;font-family:Menlo,'DejaVu Sans Mono',consolas,'Courier New',monospace\"><span style=\"color: #00ff00; text-decoration-color: #00ff00; font-style: italic\">        Saved!</span>\n",
       "</pre>\n"
      ],
      "text/plain": [
       "\u001b[3;92m \u001b[0m\u001b[3;92m       \u001b[0m\u001b[3;92mSaved!\u001b[0m\n"
      ]
     },
     "metadata": {},
     "output_type": "display_data"
    },
    {
     "data": {
      "text/html": [
       "<pre style=\"white-space:pre;overflow-x:auto;line-height:normal;font-family:Menlo,'DejaVu Sans Mono',consolas,'Courier New',monospace\"><span style=\"color: #808000; text-decoration-color: #808000; font-style: italic\">        Downloading: CsEq4cBtHd2</span>\n",
       "</pre>\n"
      ],
      "text/plain": [
       "\u001b[3;33m \u001b[0m\u001b[3;33m       \u001b[0m\u001b[3;33mDownloading: CsEq4cBtHd2\u001b[0m\n"
      ]
     },
     "metadata": {},
     "output_type": "display_data"
    },
    {
     "data": {
      "text/html": [
       "<pre style=\"white-space:pre;overflow-x:auto;line-height:normal;font-family:Menlo,'DejaVu Sans Mono',consolas,'Courier New',monospace\"><span style=\"color: #00ff00; text-decoration-color: #00ff00; font-style: italic\">        Saved!</span>\n",
       "</pre>\n"
      ],
      "text/plain": [
       "\u001b[3;92m \u001b[0m\u001b[3;92m       \u001b[0m\u001b[3;92mSaved!\u001b[0m\n"
      ]
     },
     "metadata": {},
     "output_type": "display_data"
    },
    {
     "data": {
      "text/html": [
       "<pre style=\"white-space:pre;overflow-x:auto;line-height:normal;font-family:Menlo,'DejaVu Sans Mono',consolas,'Courier New',monospace\"><span style=\"color: #808000; text-decoration-color: #808000; font-style: italic\">        Downloading: CsESY1PtjiU</span>\n",
       "</pre>\n"
      ],
      "text/plain": [
       "\u001b[3;33m \u001b[0m\u001b[3;33m       \u001b[0m\u001b[3;33mDownloading: CsESY1PtjiU\u001b[0m\n"
      ]
     },
     "metadata": {},
     "output_type": "display_data"
    },
    {
     "data": {
      "text/html": [
       "<pre style=\"white-space:pre;overflow-x:auto;line-height:normal;font-family:Menlo,'DejaVu Sans Mono',consolas,'Courier New',monospace\"><span style=\"color: #00ff00; text-decoration-color: #00ff00; font-style: italic\">        Saved!</span>\n",
       "</pre>\n"
      ],
      "text/plain": [
       "\u001b[3;92m \u001b[0m\u001b[3;92m       \u001b[0m\u001b[3;92mSaved!\u001b[0m\n"
      ]
     },
     "metadata": {},
     "output_type": "display_data"
    },
    {
     "data": {
      "text/html": [
       "<pre style=\"white-space:pre;overflow-x:auto;line-height:normal;font-family:Menlo,'DejaVu Sans Mono',consolas,'Courier New',monospace\"><span style=\"color: #808000; text-decoration-color: #808000; font-style: italic\">        Downloading: CsESMlEtGus</span>\n",
       "</pre>\n"
      ],
      "text/plain": [
       "\u001b[3;33m \u001b[0m\u001b[3;33m       \u001b[0m\u001b[3;33mDownloading: CsESMlEtGus\u001b[0m\n"
      ]
     },
     "metadata": {},
     "output_type": "display_data"
    },
    {
     "data": {
      "text/html": [
       "<pre style=\"white-space:pre;overflow-x:auto;line-height:normal;font-family:Menlo,'DejaVu Sans Mono',consolas,'Courier New',monospace\"><span style=\"color: #00ff00; text-decoration-color: #00ff00; font-style: italic\">        Saved!</span>\n",
       "</pre>\n"
      ],
      "text/plain": [
       "\u001b[3;92m \u001b[0m\u001b[3;92m       \u001b[0m\u001b[3;92mSaved!\u001b[0m\n"
      ]
     },
     "metadata": {},
     "output_type": "display_data"
    },
    {
     "name": "stderr",
     "output_type": "stream",
     "text": [
      " 92%|█████████▏| 183/200 [01:08<00:40,  2.39s/it]"
     ]
    },
    {
     "data": {
      "text/html": [
       "<pre style=\"white-space:pre;overflow-x:auto;line-height:normal;font-family:Menlo,'DejaVu Sans Mono',consolas,'Courier New',monospace\">Getting Account Information: <span style=\"color: #008080; text-decoration-color: #008080\">onepalon</span>\n",
       "</pre>\n"
      ],
      "text/plain": [
       "Getting Account Information: \u001b[36monepalon\u001b[0m\n"
      ]
     },
     "metadata": {},
     "output_type": "display_data"
    },
    {
     "data": {
      "text/html": [
       "<pre style=\"white-space:pre;overflow-x:auto;line-height:normal;font-family:Menlo,'DejaVu Sans Mono',consolas,'Courier New',monospace\"><span style=\"color: #808000; text-decoration-color: #808000; font-style: italic\">        Downloading: CsERulbAu3-</span>\n",
       "</pre>\n"
      ],
      "text/plain": [
       "\u001b[3;33m \u001b[0m\u001b[3;33m       \u001b[0m\u001b[3;33mDownloading: CsERulbAu3-\u001b[0m\n"
      ]
     },
     "metadata": {},
     "output_type": "display_data"
    },
    {
     "data": {
      "text/html": [
       "<pre style=\"white-space:pre;overflow-x:auto;line-height:normal;font-family:Menlo,'DejaVu Sans Mono',consolas,'Courier New',monospace\"><span style=\"color: #00ff00; text-decoration-color: #00ff00; font-style: italic\">        Saved!</span>\n",
       "</pre>\n"
      ],
      "text/plain": [
       "\u001b[3;92m \u001b[0m\u001b[3;92m       \u001b[0m\u001b[3;92mSaved!\u001b[0m\n"
      ]
     },
     "metadata": {},
     "output_type": "display_data"
    },
    {
     "data": {
      "text/html": [
       "<pre style=\"white-space:pre;overflow-x:auto;line-height:normal;font-family:Menlo,'DejaVu Sans Mono',consolas,'Courier New',monospace\"><span style=\"color: #808000; text-decoration-color: #808000; font-style: italic\">        Downloading: CsCsCEhNALt</span>\n",
       "</pre>\n"
      ],
      "text/plain": [
       "\u001b[3;33m \u001b[0m\u001b[3;33m       \u001b[0m\u001b[3;33mDownloading: CsCsCEhNALt\u001b[0m\n"
      ]
     },
     "metadata": {},
     "output_type": "display_data"
    },
    {
     "data": {
      "text/html": [
       "<pre style=\"white-space:pre;overflow-x:auto;line-height:normal;font-family:Menlo,'DejaVu Sans Mono',consolas,'Courier New',monospace\"><span style=\"color: #00ff00; text-decoration-color: #00ff00; font-style: italic\">        Saved!</span>\n",
       "</pre>\n"
      ],
      "text/plain": [
       "\u001b[3;92m \u001b[0m\u001b[3;92m       \u001b[0m\u001b[3;92mSaved!\u001b[0m\n"
      ]
     },
     "metadata": {},
     "output_type": "display_data"
    },
    {
     "data": {
      "text/html": [
       "<pre style=\"white-space:pre;overflow-x:auto;line-height:normal;font-family:Menlo,'DejaVu Sans Mono',consolas,'Courier New',monospace\"><span style=\"color: #808000; text-decoration-color: #808000; font-style: italic\">        Downloading: CsCB1OEO1iK</span>\n",
       "</pre>\n"
      ],
      "text/plain": [
       "\u001b[3;33m \u001b[0m\u001b[3;33m       \u001b[0m\u001b[3;33mDownloading: CsCB1OEO1iK\u001b[0m\n"
      ]
     },
     "metadata": {},
     "output_type": "display_data"
    },
    {
     "data": {
      "text/html": [
       "<pre style=\"white-space:pre;overflow-x:auto;line-height:normal;font-family:Menlo,'DejaVu Sans Mono',consolas,'Courier New',monospace\"><span style=\"color: #00ff00; text-decoration-color: #00ff00; font-style: italic\">        Saved!</span>\n",
       "</pre>\n"
      ],
      "text/plain": [
       "\u001b[3;92m \u001b[0m\u001b[3;92m       \u001b[0m\u001b[3;92mSaved!\u001b[0m\n"
      ]
     },
     "metadata": {},
     "output_type": "display_data"
    },
    {
     "data": {
      "text/html": [
       "<pre style=\"white-space:pre;overflow-x:auto;line-height:normal;font-family:Menlo,'DejaVu Sans Mono',consolas,'Courier New',monospace\"><span style=\"color: #808000; text-decoration-color: #808000; font-style: italic\">        Downloading: Cr_5d9duMN4</span>\n",
       "</pre>\n"
      ],
      "text/plain": [
       "\u001b[3;33m \u001b[0m\u001b[3;33m       \u001b[0m\u001b[3;33mDownloading: Cr_5d9duMN4\u001b[0m\n"
      ]
     },
     "metadata": {},
     "output_type": "display_data"
    },
    {
     "data": {
      "text/html": [
       "<pre style=\"white-space:pre;overflow-x:auto;line-height:normal;font-family:Menlo,'DejaVu Sans Mono',consolas,'Courier New',monospace\"><span style=\"color: #00ff00; text-decoration-color: #00ff00; font-style: italic\">        Saved!</span>\n",
       "</pre>\n"
      ],
      "text/plain": [
       "\u001b[3;92m \u001b[0m\u001b[3;92m       \u001b[0m\u001b[3;92mSaved!\u001b[0m\n"
      ]
     },
     "metadata": {},
     "output_type": "display_data"
    },
    {
     "data": {
      "text/html": [
       "<pre style=\"white-space:pre;overflow-x:auto;line-height:normal;font-family:Menlo,'DejaVu Sans Mono',consolas,'Courier New',monospace\"><span style=\"color: #808000; text-decoration-color: #808000; font-style: italic\">        Downloading: Cr_WgxUOOZp</span>\n",
       "</pre>\n"
      ],
      "text/plain": [
       "\u001b[3;33m \u001b[0m\u001b[3;33m       \u001b[0m\u001b[3;33mDownloading: Cr_WgxUOOZp\u001b[0m\n"
      ]
     },
     "metadata": {},
     "output_type": "display_data"
    },
    {
     "data": {
      "text/html": [
       "<pre style=\"white-space:pre;overflow-x:auto;line-height:normal;font-family:Menlo,'DejaVu Sans Mono',consolas,'Courier New',monospace\"><span style=\"color: #00ff00; text-decoration-color: #00ff00; font-style: italic\">        Saved!</span>\n",
       "</pre>\n"
      ],
      "text/plain": [
       "\u001b[3;92m \u001b[0m\u001b[3;92m       \u001b[0m\u001b[3;92mSaved!\u001b[0m\n"
      ]
     },
     "metadata": {},
     "output_type": "display_data"
    },
    {
     "data": {
      "text/html": [
       "<pre style=\"white-space:pre;overflow-x:auto;line-height:normal;font-family:Menlo,'DejaVu Sans Mono',consolas,'Courier New',monospace\"><span style=\"color: #808000; text-decoration-color: #808000; font-style: italic\">        Downloading: Cr9SBM2uBbl</span>\n",
       "</pre>\n"
      ],
      "text/plain": [
       "\u001b[3;33m \u001b[0m\u001b[3;33m       \u001b[0m\u001b[3;33mDownloading: Cr9SBM2uBbl\u001b[0m\n"
      ]
     },
     "metadata": {},
     "output_type": "display_data"
    },
    {
     "data": {
      "text/html": [
       "<pre style=\"white-space:pre;overflow-x:auto;line-height:normal;font-family:Menlo,'DejaVu Sans Mono',consolas,'Courier New',monospace\"><span style=\"color: #00ff00; text-decoration-color: #00ff00; font-style: italic\">        Saved!</span>\n",
       "</pre>\n"
      ],
      "text/plain": [
       "\u001b[3;92m \u001b[0m\u001b[3;92m       \u001b[0m\u001b[3;92mSaved!\u001b[0m\n"
      ]
     },
     "metadata": {},
     "output_type": "display_data"
    },
    {
     "data": {
      "text/html": [
       "<pre style=\"white-space:pre;overflow-x:auto;line-height:normal;font-family:Menlo,'DejaVu Sans Mono',consolas,'Courier New',monospace\"><span style=\"color: #808000; text-decoration-color: #808000; font-style: italic\">        Downloading: Cr65fjTt2TT</span>\n",
       "</pre>\n"
      ],
      "text/plain": [
       "\u001b[3;33m \u001b[0m\u001b[3;33m       \u001b[0m\u001b[3;33mDownloading: Cr65fjTt2TT\u001b[0m\n"
      ]
     },
     "metadata": {},
     "output_type": "display_data"
    },
    {
     "data": {
      "text/html": [
       "<pre style=\"white-space:pre;overflow-x:auto;line-height:normal;font-family:Menlo,'DejaVu Sans Mono',consolas,'Courier New',monospace\"><span style=\"color: #00ff00; text-decoration-color: #00ff00; font-style: italic\">        Saved!</span>\n",
       "</pre>\n"
      ],
      "text/plain": [
       "\u001b[3;92m \u001b[0m\u001b[3;92m       \u001b[0m\u001b[3;92mSaved!\u001b[0m\n"
      ]
     },
     "metadata": {},
     "output_type": "display_data"
    },
    {
     "name": "stderr",
     "output_type": "stream",
     "text": [
      " 92%|█████████▏| 184/200 [01:22<00:54,  3.39s/it]"
     ]
    },
    {
     "data": {
      "text/html": [
       "<pre style=\"white-space:pre;overflow-x:auto;line-height:normal;font-family:Menlo,'DejaVu Sans Mono',consolas,'Courier New',monospace\">Getting Account Information: <span style=\"color: #008080; text-decoration-color: #008080\">berrics</span>\n",
       "</pre>\n"
      ],
      "text/plain": [
       "Getting Account Information: \u001b[36mberrics\u001b[0m\n"
      ]
     },
     "metadata": {},
     "output_type": "display_data"
    },
    {
     "data": {
      "text/html": [
       "<pre style=\"white-space:pre;overflow-x:auto;line-height:normal;font-family:Menlo,'DejaVu Sans Mono',consolas,'Courier New',monospace\"><span style=\"color: #808000; text-decoration-color: #808000; font-style: italic\">        Downloading: CsEYypKReLl</span>\n",
       "</pre>\n"
      ],
      "text/plain": [
       "\u001b[3;33m \u001b[0m\u001b[3;33m       \u001b[0m\u001b[3;33mDownloading: CsEYypKReLl\u001b[0m\n"
      ]
     },
     "metadata": {},
     "output_type": "display_data"
    },
    {
     "data": {
      "text/html": [
       "<pre style=\"white-space:pre;overflow-x:auto;line-height:normal;font-family:Menlo,'DejaVu Sans Mono',consolas,'Courier New',monospace\"><span style=\"color: #00ff00; text-decoration-color: #00ff00; font-style: italic\">        Saved!</span>\n",
       "</pre>\n"
      ],
      "text/plain": [
       "\u001b[3;92m \u001b[0m\u001b[3;92m       \u001b[0m\u001b[3;92mSaved!\u001b[0m\n"
      ]
     },
     "metadata": {},
     "output_type": "display_data"
    },
    {
     "data": {
      "text/html": [
       "<pre style=\"white-space:pre;overflow-x:auto;line-height:normal;font-family:Menlo,'DejaVu Sans Mono',consolas,'Courier New',monospace\"><span style=\"color: #808000; text-decoration-color: #808000; font-style: italic\">        Downloading: Cr_PmiFJtyO</span>\n",
       "</pre>\n"
      ],
      "text/plain": [
       "\u001b[3;33m \u001b[0m\u001b[3;33m       \u001b[0m\u001b[3;33mDownloading: Cr_PmiFJtyO\u001b[0m\n"
      ]
     },
     "metadata": {},
     "output_type": "display_data"
    },
    {
     "data": {
      "text/html": [
       "<pre style=\"white-space:pre;overflow-x:auto;line-height:normal;font-family:Menlo,'DejaVu Sans Mono',consolas,'Courier New',monospace\"><span style=\"color: #00ff00; text-decoration-color: #00ff00; font-style: italic\">        Saved!</span>\n",
       "</pre>\n"
      ],
      "text/plain": [
       "\u001b[3;92m \u001b[0m\u001b[3;92m       \u001b[0m\u001b[3;92mSaved!\u001b[0m\n"
      ]
     },
     "metadata": {},
     "output_type": "display_data"
    },
    {
     "data": {
      "text/html": [
       "<pre style=\"white-space:pre;overflow-x:auto;line-height:normal;font-family:Menlo,'DejaVu Sans Mono',consolas,'Courier New',monospace\"><span style=\"color: #800000; text-decoration-color: #800000; font-weight: bold\">        Image already exists, Skipping</span><span style=\"color: #808000; text-decoration-color: #808000; font-weight: bold\">...</span>\n",
       "</pre>\n"
      ],
      "text/plain": [
       "\u001b[1;31m \u001b[0m\u001b[1;31m       \u001b[0m\u001b[1;31mImage already exists, Skipping\u001b[0m\u001b[1;33m...\u001b[0m\n"
      ]
     },
     "metadata": {},
     "output_type": "display_data"
    },
    {
     "data": {
      "text/html": [
       "<pre style=\"white-space:pre;overflow-x:auto;line-height:normal;font-family:Menlo,'DejaVu Sans Mono',consolas,'Courier New',monospace\"><span style=\"color: #808000; text-decoration-color: #808000; font-style: italic\">        Downloading: CsFlRTpLojC</span>\n",
       "</pre>\n"
      ],
      "text/plain": [
       "\u001b[3;33m \u001b[0m\u001b[3;33m       \u001b[0m\u001b[3;33mDownloading: CsFlRTpLojC\u001b[0m\n"
      ]
     },
     "metadata": {},
     "output_type": "display_data"
    },
    {
     "data": {
      "text/html": [
       "<pre style=\"white-space:pre;overflow-x:auto;line-height:normal;font-family:Menlo,'DejaVu Sans Mono',consolas,'Courier New',monospace\"><span style=\"color: #00ff00; text-decoration-color: #00ff00; font-style: italic\">        Saved!</span>\n",
       "</pre>\n"
      ],
      "text/plain": [
       "\u001b[3;92m \u001b[0m\u001b[3;92m       \u001b[0m\u001b[3;92mSaved!\u001b[0m\n"
      ]
     },
     "metadata": {},
     "output_type": "display_data"
    },
    {
     "data": {
      "text/html": [
       "<pre style=\"white-space:pre;overflow-x:auto;line-height:normal;font-family:Menlo,'DejaVu Sans Mono',consolas,'Courier New',monospace\"><span style=\"color: #808000; text-decoration-color: #808000; font-style: italic\">        Downloading: CsFbqV7xngW</span>\n",
       "</pre>\n"
      ],
      "text/plain": [
       "\u001b[3;33m \u001b[0m\u001b[3;33m       \u001b[0m\u001b[3;33mDownloading: CsFbqV7xngW\u001b[0m\n"
      ]
     },
     "metadata": {},
     "output_type": "display_data"
    },
    {
     "data": {
      "text/html": [
       "<pre style=\"white-space:pre;overflow-x:auto;line-height:normal;font-family:Menlo,'DejaVu Sans Mono',consolas,'Courier New',monospace\"><span style=\"color: #00ff00; text-decoration-color: #00ff00; font-style: italic\">        Saved!</span>\n",
       "</pre>\n"
      ],
      "text/plain": [
       "\u001b[3;92m \u001b[0m\u001b[3;92m       \u001b[0m\u001b[3;92mSaved!\u001b[0m\n"
      ]
     },
     "metadata": {},
     "output_type": "display_data"
    },
    {
     "data": {
      "text/html": [
       "<pre style=\"white-space:pre;overflow-x:auto;line-height:normal;font-family:Menlo,'DejaVu Sans Mono',consolas,'Courier New',monospace\"><span style=\"color: #808000; text-decoration-color: #808000; font-style: italic\">        Downloading: CsFV6qgpdjI</span>\n",
       "</pre>\n"
      ],
      "text/plain": [
       "\u001b[3;33m \u001b[0m\u001b[3;33m       \u001b[0m\u001b[3;33mDownloading: CsFV6qgpdjI\u001b[0m\n"
      ]
     },
     "metadata": {},
     "output_type": "display_data"
    },
    {
     "data": {
      "text/html": [
       "<pre style=\"white-space:pre;overflow-x:auto;line-height:normal;font-family:Menlo,'DejaVu Sans Mono',consolas,'Courier New',monospace\"><span style=\"color: #00ff00; text-decoration-color: #00ff00; font-style: italic\">        Saved!</span>\n",
       "</pre>\n"
      ],
      "text/plain": [
       "\u001b[3;92m \u001b[0m\u001b[3;92m       \u001b[0m\u001b[3;92mSaved!\u001b[0m\n"
      ]
     },
     "metadata": {},
     "output_type": "display_data"
    },
    {
     "data": {
      "text/html": [
       "<pre style=\"white-space:pre;overflow-x:auto;line-height:normal;font-family:Menlo,'DejaVu Sans Mono',consolas,'Courier New',monospace\"><span style=\"color: #808000; text-decoration-color: #808000; font-style: italic\">        Downloading: CsE5pPQSKci</span>\n",
       "</pre>\n"
      ],
      "text/plain": [
       "\u001b[3;33m \u001b[0m\u001b[3;33m       \u001b[0m\u001b[3;33mDownloading: CsE5pPQSKci\u001b[0m\n"
      ]
     },
     "metadata": {},
     "output_type": "display_data"
    },
    {
     "data": {
      "text/html": [
       "<pre style=\"white-space:pre;overflow-x:auto;line-height:normal;font-family:Menlo,'DejaVu Sans Mono',consolas,'Courier New',monospace\"><span style=\"color: #00ff00; text-decoration-color: #00ff00; font-style: italic\">        Saved!</span>\n",
       "</pre>\n"
      ],
      "text/plain": [
       "\u001b[3;92m \u001b[0m\u001b[3;92m       \u001b[0m\u001b[3;92mSaved!\u001b[0m\n"
      ]
     },
     "metadata": {},
     "output_type": "display_data"
    },
    {
     "name": "stderr",
     "output_type": "stream",
     "text": [
      " 92%|█████████▎| 185/200 [01:40<01:13,  4.92s/it]"
     ]
    },
    {
     "data": {
      "text/html": [
       "<pre style=\"white-space:pre;overflow-x:auto;line-height:normal;font-family:Menlo,'DejaVu Sans Mono',consolas,'Courier New',monospace\">Getting Account Information: <span style=\"color: #008080; text-decoration-color: #008080\">yallneedbutera</span>\n",
       "</pre>\n"
      ],
      "text/plain": [
       "Getting Account Information: \u001b[36myallneedbutera\u001b[0m\n"
      ]
     },
     "metadata": {},
     "output_type": "display_data"
    },
    {
     "data": {
      "text/html": [
       "<pre style=\"white-space:pre;overflow-x:auto;line-height:normal;font-family:Menlo,'DejaVu Sans Mono',consolas,'Courier New',monospace\"><span style=\"color: #808000; text-decoration-color: #808000; font-style: italic\">        Downloading: CsGvAXGOv-X</span>\n",
       "</pre>\n"
      ],
      "text/plain": [
       "\u001b[3;33m \u001b[0m\u001b[3;33m       \u001b[0m\u001b[3;33mDownloading: CsGvAXGOv-X\u001b[0m\n"
      ]
     },
     "metadata": {},
     "output_type": "display_data"
    },
    {
     "data": {
      "text/html": [
       "<pre style=\"white-space:pre;overflow-x:auto;line-height:normal;font-family:Menlo,'DejaVu Sans Mono',consolas,'Courier New',monospace\"><span style=\"color: #00ff00; text-decoration-color: #00ff00; font-style: italic\">        Saved!</span>\n",
       "</pre>\n"
      ],
      "text/plain": [
       "\u001b[3;92m \u001b[0m\u001b[3;92m       \u001b[0m\u001b[3;92mSaved!\u001b[0m\n"
      ]
     },
     "metadata": {},
     "output_type": "display_data"
    },
    {
     "data": {
      "text/html": [
       "<pre style=\"white-space:pre;overflow-x:auto;line-height:normal;font-family:Menlo,'DejaVu Sans Mono',consolas,'Courier New',monospace\"><span style=\"color: #808000; text-decoration-color: #808000; font-style: italic\">        Downloading: CrubkdSOVem</span>\n",
       "</pre>\n"
      ],
      "text/plain": [
       "\u001b[3;33m \u001b[0m\u001b[3;33m       \u001b[0m\u001b[3;33mDownloading: CrubkdSOVem\u001b[0m\n"
      ]
     },
     "metadata": {},
     "output_type": "display_data"
    },
    {
     "data": {
      "text/html": [
       "<pre style=\"white-space:pre;overflow-x:auto;line-height:normal;font-family:Menlo,'DejaVu Sans Mono',consolas,'Courier New',monospace\"><span style=\"color: #00ff00; text-decoration-color: #00ff00; font-style: italic\">        Saved!</span>\n",
       "</pre>\n"
      ],
      "text/plain": [
       "\u001b[3;92m \u001b[0m\u001b[3;92m       \u001b[0m\u001b[3;92mSaved!\u001b[0m\n"
      ]
     },
     "metadata": {},
     "output_type": "display_data"
    },
    {
     "data": {
      "text/html": [
       "<pre style=\"white-space:pre;overflow-x:auto;line-height:normal;font-family:Menlo,'DejaVu Sans Mono',consolas,'Courier New',monospace\"><span style=\"color: #808000; text-decoration-color: #808000; font-style: italic\">        Downloading: CrmML4_JuUz</span>\n",
       "</pre>\n"
      ],
      "text/plain": [
       "\u001b[3;33m \u001b[0m\u001b[3;33m       \u001b[0m\u001b[3;33mDownloading: CrmML4_JuUz\u001b[0m\n"
      ]
     },
     "metadata": {},
     "output_type": "display_data"
    },
    {
     "data": {
      "text/html": [
       "<pre style=\"white-space:pre;overflow-x:auto;line-height:normal;font-family:Menlo,'DejaVu Sans Mono',consolas,'Courier New',monospace\"><span style=\"color: #00ff00; text-decoration-color: #00ff00; font-style: italic\">        Saved!</span>\n",
       "</pre>\n"
      ],
      "text/plain": [
       "\u001b[3;92m \u001b[0m\u001b[3;92m       \u001b[0m\u001b[3;92mSaved!\u001b[0m\n"
      ]
     },
     "metadata": {},
     "output_type": "display_data"
    },
    {
     "data": {
      "text/html": [
       "<pre style=\"white-space:pre;overflow-x:auto;line-height:normal;font-family:Menlo,'DejaVu Sans Mono',consolas,'Courier New',monospace\"><span style=\"color: #808000; text-decoration-color: #808000; font-style: italic\">        Downloading: CrhenoLOQ-B</span>\n",
       "</pre>\n"
      ],
      "text/plain": [
       "\u001b[3;33m \u001b[0m\u001b[3;33m       \u001b[0m\u001b[3;33mDownloading: CrhenoLOQ-B\u001b[0m\n"
      ]
     },
     "metadata": {},
     "output_type": "display_data"
    },
    {
     "data": {
      "text/html": [
       "<pre style=\"white-space:pre;overflow-x:auto;line-height:normal;font-family:Menlo,'DejaVu Sans Mono',consolas,'Courier New',monospace\"><span style=\"color: #00ff00; text-decoration-color: #00ff00; font-style: italic\">        Saved!</span>\n",
       "</pre>\n"
      ],
      "text/plain": [
       "\u001b[3;92m \u001b[0m\u001b[3;92m       \u001b[0m\u001b[3;92mSaved!\u001b[0m\n"
      ]
     },
     "metadata": {},
     "output_type": "display_data"
    },
    {
     "data": {
      "text/html": [
       "<pre style=\"white-space:pre;overflow-x:auto;line-height:normal;font-family:Menlo,'DejaVu Sans Mono',consolas,'Courier New',monospace\"><span style=\"color: #800000; text-decoration-color: #800000; font-weight: bold\">        Image already exists, Skipping</span><span style=\"color: #808000; text-decoration-color: #808000; font-weight: bold\">...</span>\n",
       "</pre>\n"
      ],
      "text/plain": [
       "\u001b[1;31m \u001b[0m\u001b[1;31m       \u001b[0m\u001b[1;31mImage already exists, Skipping\u001b[0m\u001b[1;33m...\u001b[0m\n"
      ]
     },
     "metadata": {},
     "output_type": "display_data"
    },
    {
     "data": {
      "text/html": [
       "<pre style=\"white-space:pre;overflow-x:auto;line-height:normal;font-family:Menlo,'DejaVu Sans Mono',consolas,'Courier New',monospace\"><span style=\"color: #808000; text-decoration-color: #808000; font-style: italic\">        Downloading: CrYfqNyuYBZ</span>\n",
       "</pre>\n"
      ],
      "text/plain": [
       "\u001b[3;33m \u001b[0m\u001b[3;33m       \u001b[0m\u001b[3;33mDownloading: CrYfqNyuYBZ\u001b[0m\n"
      ]
     },
     "metadata": {},
     "output_type": "display_data"
    },
    {
     "data": {
      "text/html": [
       "<pre style=\"white-space:pre;overflow-x:auto;line-height:normal;font-family:Menlo,'DejaVu Sans Mono',consolas,'Courier New',monospace\"><span style=\"color: #00ff00; text-decoration-color: #00ff00; font-style: italic\">        Saved!</span>\n",
       "</pre>\n"
      ],
      "text/plain": [
       "\u001b[3;92m \u001b[0m\u001b[3;92m       \u001b[0m\u001b[3;92mSaved!\u001b[0m\n"
      ]
     },
     "metadata": {},
     "output_type": "display_data"
    },
    {
     "data": {
      "text/html": [
       "<pre style=\"white-space:pre;overflow-x:auto;line-height:normal;font-family:Menlo,'DejaVu Sans Mono',consolas,'Courier New',monospace\"><span style=\"color: #800000; text-decoration-color: #800000; font-weight: bold\">        Image already exists, Skipping</span><span style=\"color: #808000; text-decoration-color: #808000; font-weight: bold\">...</span>\n",
       "</pre>\n"
      ],
      "text/plain": [
       "\u001b[1;31m \u001b[0m\u001b[1;31m       \u001b[0m\u001b[1;31mImage already exists, Skipping\u001b[0m\u001b[1;33m...\u001b[0m\n"
      ]
     },
     "metadata": {},
     "output_type": "display_data"
    },
    {
     "name": "stderr",
     "output_type": "stream",
     "text": [
      " 93%|█████████▎| 186/200 [02:00<01:36,  6.89s/it]"
     ]
    },
    {
     "data": {
      "text/html": [
       "<pre style=\"white-space:pre;overflow-x:auto;line-height:normal;font-family:Menlo,'DejaVu Sans Mono',consolas,'Courier New',monospace\">Getting Account Information: <span style=\"color: #008080; text-decoration-color: #008080\">indiansuperleague</span>\n",
       "</pre>\n"
      ],
      "text/plain": [
       "Getting Account Information: \u001b[36mindiansuperleague\u001b[0m\n"
      ]
     },
     "metadata": {},
     "output_type": "display_data"
    },
    {
     "data": {
      "text/html": [
       "<pre style=\"white-space:pre;overflow-x:auto;line-height:normal;font-family:Menlo,'DejaVu Sans Mono',consolas,'Courier New',monospace\"><span style=\"color: #808000; text-decoration-color: #808000; font-style: italic\">        Downloading: CsG-ULKNyuz</span>\n",
       "</pre>\n"
      ],
      "text/plain": [
       "\u001b[3;33m \u001b[0m\u001b[3;33m       \u001b[0m\u001b[3;33mDownloading: CsG-ULKNyuz\u001b[0m\n"
      ]
     },
     "metadata": {},
     "output_type": "display_data"
    },
    {
     "data": {
      "text/html": [
       "<pre style=\"white-space:pre;overflow-x:auto;line-height:normal;font-family:Menlo,'DejaVu Sans Mono',consolas,'Courier New',monospace\"><span style=\"color: #00ff00; text-decoration-color: #00ff00; font-style: italic\">        Saved!</span>\n",
       "</pre>\n"
      ],
      "text/plain": [
       "\u001b[3;92m \u001b[0m\u001b[3;92m       \u001b[0m\u001b[3;92mSaved!\u001b[0m\n"
      ]
     },
     "metadata": {},
     "output_type": "display_data"
    },
    {
     "data": {
      "text/html": [
       "<pre style=\"white-space:pre;overflow-x:auto;line-height:normal;font-family:Menlo,'DejaVu Sans Mono',consolas,'Courier New',monospace\"><span style=\"color: #808000; text-decoration-color: #808000; font-style: italic\">        Downloading: CsGlXf1Rka7</span>\n",
       "</pre>\n"
      ],
      "text/plain": [
       "\u001b[3;33m \u001b[0m\u001b[3;33m       \u001b[0m\u001b[3;33mDownloading: CsGlXf1Rka7\u001b[0m\n"
      ]
     },
     "metadata": {},
     "output_type": "display_data"
    },
    {
     "data": {
      "text/html": [
       "<pre style=\"white-space:pre;overflow-x:auto;line-height:normal;font-family:Menlo,'DejaVu Sans Mono',consolas,'Courier New',monospace\"><span style=\"color: #00ff00; text-decoration-color: #00ff00; font-style: italic\">        Saved!</span>\n",
       "</pre>\n"
      ],
      "text/plain": [
       "\u001b[3;92m \u001b[0m\u001b[3;92m       \u001b[0m\u001b[3;92mSaved!\u001b[0m\n"
      ]
     },
     "metadata": {},
     "output_type": "display_data"
    },
    {
     "data": {
      "text/html": [
       "<pre style=\"white-space:pre;overflow-x:auto;line-height:normal;font-family:Menlo,'DejaVu Sans Mono',consolas,'Courier New',monospace\"><span style=\"color: #808000; text-decoration-color: #808000; font-style: italic\">        Downloading: CsGRzhpMKC3</span>\n",
       "</pre>\n"
      ],
      "text/plain": [
       "\u001b[3;33m \u001b[0m\u001b[3;33m       \u001b[0m\u001b[3;33mDownloading: CsGRzhpMKC3\u001b[0m\n"
      ]
     },
     "metadata": {},
     "output_type": "display_data"
    },
    {
     "data": {
      "text/html": [
       "<pre style=\"white-space:pre;overflow-x:auto;line-height:normal;font-family:Menlo,'DejaVu Sans Mono',consolas,'Courier New',monospace\"><span style=\"color: #00ff00; text-decoration-color: #00ff00; font-style: italic\">        Saved!</span>\n",
       "</pre>\n"
      ],
      "text/plain": [
       "\u001b[3;92m \u001b[0m\u001b[3;92m       \u001b[0m\u001b[3;92mSaved!\u001b[0m\n"
      ]
     },
     "metadata": {},
     "output_type": "display_data"
    },
    {
     "data": {
      "text/html": [
       "<pre style=\"white-space:pre;overflow-x:auto;line-height:normal;font-family:Menlo,'DejaVu Sans Mono',consolas,'Courier New',monospace\"><span style=\"color: #808000; text-decoration-color: #808000; font-style: italic\">        Downloading: CsF8URTM470</span>\n",
       "</pre>\n"
      ],
      "text/plain": [
       "\u001b[3;33m \u001b[0m\u001b[3;33m       \u001b[0m\u001b[3;33mDownloading: CsF8URTM470\u001b[0m\n"
      ]
     },
     "metadata": {},
     "output_type": "display_data"
    },
    {
     "data": {
      "text/html": [
       "<pre style=\"white-space:pre;overflow-x:auto;line-height:normal;font-family:Menlo,'DejaVu Sans Mono',consolas,'Courier New',monospace\"><span style=\"color: #00ff00; text-decoration-color: #00ff00; font-style: italic\">        Saved!</span>\n",
       "</pre>\n"
      ],
      "text/plain": [
       "\u001b[3;92m \u001b[0m\u001b[3;92m       \u001b[0m\u001b[3;92mSaved!\u001b[0m\n"
      ]
     },
     "metadata": {},
     "output_type": "display_data"
    },
    {
     "name": "stderr",
     "output_type": "stream",
     "text": [
      " 94%|█████████▎| 187/200 [02:12<01:41,  7.80s/it]"
     ]
    },
    {
     "data": {
      "text/html": [
       "<pre style=\"white-space:pre;overflow-x:auto;line-height:normal;font-family:Menlo,'DejaVu Sans Mono',consolas,'Courier New',monospace\">Getting Account Information: <span style=\"color: #008080; text-decoration-color: #008080\">nails_masters</span>\n",
       "</pre>\n"
      ],
      "text/plain": [
       "Getting Account Information: \u001b[36mnails_masters\u001b[0m\n"
      ]
     },
     "metadata": {},
     "output_type": "display_data"
    },
    {
     "name": "stderr",
     "output_type": "stream",
     "text": [
      " 94%|█████████▍| 188/200 [02:17<01:26,  7.19s/it]"
     ]
    },
    {
     "data": {
      "text/html": [
       "<pre style=\"white-space:pre;overflow-x:auto;line-height:normal;font-family:Menlo,'DejaVu Sans Mono',consolas,'Courier New',monospace\">Getting Account Information: <span style=\"color: #008080; text-decoration-color: #008080\">okezonecom</span>\n",
       "</pre>\n"
      ],
      "text/plain": [
       "Getting Account Information: \u001b[36mokezonecom\u001b[0m\n"
      ]
     },
     "metadata": {},
     "output_type": "display_data"
    },
    {
     "data": {
      "text/html": [
       "<pre style=\"white-space:pre;overflow-x:auto;line-height:normal;font-family:Menlo,'DejaVu Sans Mono',consolas,'Courier New',monospace\"><span style=\"color: #808000; text-decoration-color: #808000; font-style: italic\">        Downloading: CsGyD0iRzdM</span>\n",
       "</pre>\n"
      ],
      "text/plain": [
       "\u001b[3;33m \u001b[0m\u001b[3;33m       \u001b[0m\u001b[3;33mDownloading: CsGyD0iRzdM\u001b[0m\n"
      ]
     },
     "metadata": {},
     "output_type": "display_data"
    },
    {
     "data": {
      "text/html": [
       "<pre style=\"white-space:pre;overflow-x:auto;line-height:normal;font-family:Menlo,'DejaVu Sans Mono',consolas,'Courier New',monospace\"><span style=\"color: #00ff00; text-decoration-color: #00ff00; font-style: italic\">        Saved!</span>\n",
       "</pre>\n"
      ],
      "text/plain": [
       "\u001b[3;92m \u001b[0m\u001b[3;92m       \u001b[0m\u001b[3;92mSaved!\u001b[0m\n"
      ]
     },
     "metadata": {},
     "output_type": "display_data"
    },
    {
     "data": {
      "text/html": [
       "<pre style=\"white-space:pre;overflow-x:auto;line-height:normal;font-family:Menlo,'DejaVu Sans Mono',consolas,'Courier New',monospace\"><span style=\"color: #808000; text-decoration-color: #808000; font-style: italic\">        Downloading: CsGxMMTSFsG</span>\n",
       "</pre>\n"
      ],
      "text/plain": [
       "\u001b[3;33m \u001b[0m\u001b[3;33m       \u001b[0m\u001b[3;33mDownloading: CsGxMMTSFsG\u001b[0m\n"
      ]
     },
     "metadata": {},
     "output_type": "display_data"
    },
    {
     "data": {
      "text/html": [
       "<pre style=\"white-space:pre;overflow-x:auto;line-height:normal;font-family:Menlo,'DejaVu Sans Mono',consolas,'Courier New',monospace\"><span style=\"color: #00ff00; text-decoration-color: #00ff00; font-style: italic\">        Saved!</span>\n",
       "</pre>\n"
      ],
      "text/plain": [
       "\u001b[3;92m \u001b[0m\u001b[3;92m       \u001b[0m\u001b[3;92mSaved!\u001b[0m\n"
      ]
     },
     "metadata": {},
     "output_type": "display_data"
    },
    {
     "data": {
      "text/html": [
       "<pre style=\"white-space:pre;overflow-x:auto;line-height:normal;font-family:Menlo,'DejaVu Sans Mono',consolas,'Courier New',monospace\"><span style=\"color: #808000; text-decoration-color: #808000; font-style: italic\">        Downloading: CsGmWsSSFDV</span>\n",
       "</pre>\n"
      ],
      "text/plain": [
       "\u001b[3;33m \u001b[0m\u001b[3;33m       \u001b[0m\u001b[3;33mDownloading: CsGmWsSSFDV\u001b[0m\n"
      ]
     },
     "metadata": {},
     "output_type": "display_data"
    },
    {
     "name": "stderr",
     "output_type": "stream",
     "text": [
      " 94%|█████████▍| 188/200 [02:30<01:26,  7.19s/it]"
     ]
    },
    {
     "data": {
      "text/html": [
       "<pre style=\"white-space:pre;overflow-x:auto;line-height:normal;font-family:Menlo,'DejaVu Sans Mono',consolas,'Courier New',monospace\"><span style=\"color: #00ff00; text-decoration-color: #00ff00; font-style: italic\">        Saved!</span>\n",
       "</pre>\n"
      ],
      "text/plain": [
       "\u001b[3;92m \u001b[0m\u001b[3;92m       \u001b[0m\u001b[3;92mSaved!\u001b[0m\n"
      ]
     },
     "metadata": {},
     "output_type": "display_data"
    },
    {
     "data": {
      "text/html": [
       "<pre style=\"white-space:pre;overflow-x:auto;line-height:normal;font-family:Menlo,'DejaVu Sans Mono',consolas,'Courier New',monospace\"><span style=\"color: #808000; text-decoration-color: #808000; font-style: italic\">        Downloading: CsGkVozO0av</span>\n",
       "</pre>\n"
      ],
      "text/plain": [
       "\u001b[3;33m \u001b[0m\u001b[3;33m       \u001b[0m\u001b[3;33mDownloading: CsGkVozO0av\u001b[0m\n"
      ]
     },
     "metadata": {},
     "output_type": "display_data"
    },
    {
     "data": {
      "text/html": [
       "<pre style=\"white-space:pre;overflow-x:auto;line-height:normal;font-family:Menlo,'DejaVu Sans Mono',consolas,'Courier New',monospace\"><span style=\"color: #00ff00; text-decoration-color: #00ff00; font-style: italic\">        Saved!</span>\n",
       "</pre>\n"
      ],
      "text/plain": [
       "\u001b[3;92m \u001b[0m\u001b[3;92m       \u001b[0m\u001b[3;92mSaved!\u001b[0m\n"
      ]
     },
     "metadata": {},
     "output_type": "display_data"
    },
    {
     "data": {
      "text/html": [
       "<pre style=\"white-space:pre;overflow-x:auto;line-height:normal;font-family:Menlo,'DejaVu Sans Mono',consolas,'Courier New',monospace\"><span style=\"color: #808000; text-decoration-color: #808000; font-style: italic\">        Downloading: CsGabTKLT1t</span>\n",
       "</pre>\n"
      ],
      "text/plain": [
       "\u001b[3;33m \u001b[0m\u001b[3;33m       \u001b[0m\u001b[3;33mDownloading: CsGabTKLT1t\u001b[0m\n"
      ]
     },
     "metadata": {},
     "output_type": "display_data"
    },
    {
     "data": {
      "text/html": [
       "<pre style=\"white-space:pre;overflow-x:auto;line-height:normal;font-family:Menlo,'DejaVu Sans Mono',consolas,'Courier New',monospace\"><span style=\"color: #00ff00; text-decoration-color: #00ff00; font-style: italic\">        Saved!</span>\n",
       "</pre>\n"
      ],
      "text/plain": [
       "\u001b[3;92m \u001b[0m\u001b[3;92m       \u001b[0m\u001b[3;92mSaved!\u001b[0m\n"
      ]
     },
     "metadata": {},
     "output_type": "display_data"
    },
    {
     "name": "stderr",
     "output_type": "stream",
     "text": [
      " 94%|█████████▍| 189/200 [02:35<01:44,  9.48s/it]"
     ]
    },
    {
     "data": {
      "text/html": [
       "<pre style=\"white-space:pre;overflow-x:auto;line-height:normal;font-family:Menlo,'DejaVu Sans Mono',consolas,'Courier New',monospace\">Getting Account Information: <span style=\"color: #008080; text-decoration-color: #008080\">chouftv_official</span>\n",
       "</pre>\n"
      ],
      "text/plain": [
       "Getting Account Information: \u001b[36mchouftv_official\u001b[0m\n"
      ]
     },
     "metadata": {},
     "output_type": "display_data"
    },
    {
     "data": {
      "text/html": [
       "<pre style=\"white-space:pre;overflow-x:auto;line-height:normal;font-family:Menlo,'DejaVu Sans Mono',consolas,'Courier New',monospace\"><span style=\"color: #808000; text-decoration-color: #808000; font-style: italic\">        Downloading: CsG-ms7JvCN</span>\n",
       "</pre>\n"
      ],
      "text/plain": [
       "\u001b[3;33m \u001b[0m\u001b[3;33m       \u001b[0m\u001b[3;33mDownloading: CsG-ms7JvCN\u001b[0m\n"
      ]
     },
     "metadata": {},
     "output_type": "display_data"
    },
    {
     "data": {
      "text/html": [
       "<pre style=\"white-space:pre;overflow-x:auto;line-height:normal;font-family:Menlo,'DejaVu Sans Mono',consolas,'Courier New',monospace\"><span style=\"color: #00ff00; text-decoration-color: #00ff00; font-style: italic\">        Saved!</span>\n",
       "</pre>\n"
      ],
      "text/plain": [
       "\u001b[3;92m \u001b[0m\u001b[3;92m       \u001b[0m\u001b[3;92mSaved!\u001b[0m\n"
      ]
     },
     "metadata": {},
     "output_type": "display_data"
    },
    {
     "name": "stderr",
     "output_type": "stream",
     "text": [
      " 95%|█████████▌| 190/200 [02:44<01:33,  9.38s/it]"
     ]
    },
    {
     "data": {
      "text/html": [
       "<pre style=\"white-space:pre;overflow-x:auto;line-height:normal;font-family:Menlo,'DejaVu Sans Mono',consolas,'Courier New',monospace\">Getting Account Information: <span style=\"color: #008080; text-decoration-color: #008080\">gazetemagazin</span>\n",
       "</pre>\n"
      ],
      "text/plain": [
       "Getting Account Information: \u001b[36mgazetemagazin\u001b[0m\n"
      ]
     },
     "metadata": {},
     "output_type": "display_data"
    },
    {
     "data": {
      "text/html": [
       "<pre style=\"white-space:pre;overflow-x:auto;line-height:normal;font-family:Menlo,'DejaVu Sans Mono',consolas,'Courier New',monospace\"><span style=\"color: #808000; text-decoration-color: #808000; font-style: italic\">        Downloading: CsGzzb-tKjY</span>\n",
       "</pre>\n"
      ],
      "text/plain": [
       "\u001b[3;33m \u001b[0m\u001b[3;33m       \u001b[0m\u001b[3;33mDownloading: CsGzzb-tKjY\u001b[0m\n"
      ]
     },
     "metadata": {},
     "output_type": "display_data"
    },
    {
     "data": {
      "text/html": [
       "<pre style=\"white-space:pre;overflow-x:auto;line-height:normal;font-family:Menlo,'DejaVu Sans Mono',consolas,'Courier New',monospace\"><span style=\"color: #00ff00; text-decoration-color: #00ff00; font-style: italic\">        Saved!</span>\n",
       "</pre>\n"
      ],
      "text/plain": [
       "\u001b[3;92m \u001b[0m\u001b[3;92m       \u001b[0m\u001b[3;92mSaved!\u001b[0m\n"
      ]
     },
     "metadata": {},
     "output_type": "display_data"
    },
    {
     "data": {
      "text/html": [
       "<pre style=\"white-space:pre;overflow-x:auto;line-height:normal;font-family:Menlo,'DejaVu Sans Mono',consolas,'Courier New',monospace\"><span style=\"color: #808000; text-decoration-color: #808000; font-style: italic\">        Downloading: CsGdcw6Mp7j</span>\n",
       "</pre>\n"
      ],
      "text/plain": [
       "\u001b[3;33m \u001b[0m\u001b[3;33m       \u001b[0m\u001b[3;33mDownloading: CsGdcw6Mp7j\u001b[0m\n"
      ]
     },
     "metadata": {},
     "output_type": "display_data"
    },
    {
     "data": {
      "text/html": [
       "<pre style=\"white-space:pre;overflow-x:auto;line-height:normal;font-family:Menlo,'DejaVu Sans Mono',consolas,'Courier New',monospace\"><span style=\"color: #00ff00; text-decoration-color: #00ff00; font-style: italic\">        Saved!</span>\n",
       "</pre>\n"
      ],
      "text/plain": [
       "\u001b[3;92m \u001b[0m\u001b[3;92m       \u001b[0m\u001b[3;92mSaved!\u001b[0m\n"
      ]
     },
     "metadata": {},
     "output_type": "display_data"
    },
    {
     "data": {
      "text/html": [
       "<pre style=\"white-space:pre;overflow-x:auto;line-height:normal;font-family:Menlo,'DejaVu Sans Mono',consolas,'Courier New',monospace\"><span style=\"color: #808000; text-decoration-color: #808000; font-style: italic\">        Downloading: CsBkzNgs59R</span>\n",
       "</pre>\n"
      ],
      "text/plain": [
       "\u001b[3;33m \u001b[0m\u001b[3;33m       \u001b[0m\u001b[3;33mDownloading: CsBkzNgs59R\u001b[0m\n"
      ]
     },
     "metadata": {},
     "output_type": "display_data"
    },
    {
     "data": {
      "text/html": [
       "<pre style=\"white-space:pre;overflow-x:auto;line-height:normal;font-family:Menlo,'DejaVu Sans Mono',consolas,'Courier New',monospace\"><span style=\"color: #00ff00; text-decoration-color: #00ff00; font-style: italic\">        Saved!</span>\n",
       "</pre>\n"
      ],
      "text/plain": [
       "\u001b[3;92m \u001b[0m\u001b[3;92m       \u001b[0m\u001b[3;92mSaved!\u001b[0m\n"
      ]
     },
     "metadata": {},
     "output_type": "display_data"
    },
    {
     "data": {
      "text/html": [
       "<pre style=\"white-space:pre;overflow-x:auto;line-height:normal;font-family:Menlo,'DejaVu Sans Mono',consolas,'Courier New',monospace\"><span style=\"color: #808000; text-decoration-color: #808000; font-style: italic\">        Downloading: Cr_psKeMGVo</span>\n",
       "</pre>\n"
      ],
      "text/plain": [
       "\u001b[3;33m \u001b[0m\u001b[3;33m       \u001b[0m\u001b[3;33mDownloading: Cr_psKeMGVo\u001b[0m\n"
      ]
     },
     "metadata": {},
     "output_type": "display_data"
    },
    {
     "name": "stderr",
     "output_type": "stream",
     "text": [
      " 95%|█████████▌| 190/200 [03:00<01:33,  9.38s/it]"
     ]
    },
    {
     "data": {
      "text/html": [
       "<pre style=\"white-space:pre;overflow-x:auto;line-height:normal;font-family:Menlo,'DejaVu Sans Mono',consolas,'Courier New',monospace\"><span style=\"color: #00ff00; text-decoration-color: #00ff00; font-style: italic\">        Saved!</span>\n",
       "</pre>\n"
      ],
      "text/plain": [
       "\u001b[3;92m \u001b[0m\u001b[3;92m       \u001b[0m\u001b[3;92mSaved!\u001b[0m\n"
      ]
     },
     "metadata": {},
     "output_type": "display_data"
    },
    {
     "data": {
      "text/html": [
       "<pre style=\"white-space:pre;overflow-x:auto;line-height:normal;font-family:Menlo,'DejaVu Sans Mono',consolas,'Courier New',monospace\"><span style=\"color: #808000; text-decoration-color: #808000; font-style: italic\">        Downloading: Cr_XeOSMbNs</span>\n",
       "</pre>\n"
      ],
      "text/plain": [
       "\u001b[3;33m \u001b[0m\u001b[3;33m       \u001b[0m\u001b[3;33mDownloading: Cr_XeOSMbNs\u001b[0m\n"
      ]
     },
     "metadata": {},
     "output_type": "display_data"
    },
    {
     "data": {
      "text/html": [
       "<pre style=\"white-space:pre;overflow-x:auto;line-height:normal;font-family:Menlo,'DejaVu Sans Mono',consolas,'Courier New',monospace\"><span style=\"color: #00ff00; text-decoration-color: #00ff00; font-style: italic\">        Saved!</span>\n",
       "</pre>\n"
      ],
      "text/plain": [
       "\u001b[3;92m \u001b[0m\u001b[3;92m       \u001b[0m\u001b[3;92mSaved!\u001b[0m\n"
      ]
     },
     "metadata": {},
     "output_type": "display_data"
    },
    {
     "data": {
      "text/html": [
       "<pre style=\"white-space:pre;overflow-x:auto;line-height:normal;font-family:Menlo,'DejaVu Sans Mono',consolas,'Courier New',monospace\"><span style=\"color: #808000; text-decoration-color: #808000; font-style: italic\">        Downloading: Cr-2RSXMZ7O</span>\n",
       "</pre>\n"
      ],
      "text/plain": [
       "\u001b[3;33m \u001b[0m\u001b[3;33m       \u001b[0m\u001b[3;33mDownloading: Cr-2RSXMZ7O\u001b[0m\n"
      ]
     },
     "metadata": {},
     "output_type": "display_data"
    },
    {
     "data": {
      "text/html": [
       "<pre style=\"white-space:pre;overflow-x:auto;line-height:normal;font-family:Menlo,'DejaVu Sans Mono',consolas,'Courier New',monospace\"><span style=\"color: #00ff00; text-decoration-color: #00ff00; font-style: italic\">        Saved!</span>\n",
       "</pre>\n"
      ],
      "text/plain": [
       "\u001b[3;92m \u001b[0m\u001b[3;92m       \u001b[0m\u001b[3;92mSaved!\u001b[0m\n"
      ]
     },
     "metadata": {},
     "output_type": "display_data"
    },
    {
     "data": {
      "text/html": [
       "<pre style=\"white-space:pre;overflow-x:auto;line-height:normal;font-family:Menlo,'DejaVu Sans Mono',consolas,'Courier New',monospace\"><span style=\"color: #808000; text-decoration-color: #808000; font-style: italic\">        Downloading: Cr-bWicgZqv</span>\n",
       "</pre>\n"
      ],
      "text/plain": [
       "\u001b[3;33m \u001b[0m\u001b[3;33m       \u001b[0m\u001b[3;33mDownloading: Cr-bWicgZqv\u001b[0m\n"
      ]
     },
     "metadata": {},
     "output_type": "display_data"
    },
    {
     "data": {
      "text/html": [
       "<pre style=\"white-space:pre;overflow-x:auto;line-height:normal;font-family:Menlo,'DejaVu Sans Mono',consolas,'Courier New',monospace\"><span style=\"color: #00ff00; text-decoration-color: #00ff00; font-style: italic\">        Saved!</span>\n",
       "</pre>\n"
      ],
      "text/plain": [
       "\u001b[3;92m \u001b[0m\u001b[3;92m       \u001b[0m\u001b[3;92mSaved!\u001b[0m\n"
      ]
     },
     "metadata": {},
     "output_type": "display_data"
    },
    {
     "name": "stderr",
     "output_type": "stream",
     "text": [
      " 96%|█████████▌| 191/200 [03:04<01:49, 12.11s/it]"
     ]
    },
    {
     "data": {
      "text/html": [
       "<pre style=\"white-space:pre;overflow-x:auto;line-height:normal;font-family:Menlo,'DejaVu Sans Mono',consolas,'Courier New',monospace\">Getting Account Information: <span style=\"color: #008080; text-decoration-color: #008080\">sportskeedacricket</span>\n",
       "</pre>\n"
      ],
      "text/plain": [
       "Getting Account Information: \u001b[36msportskeedacricket\u001b[0m\n"
      ]
     },
     "metadata": {},
     "output_type": "display_data"
    },
    {
     "data": {
      "text/html": [
       "<pre style=\"white-space:pre;overflow-x:auto;line-height:normal;font-family:Menlo,'DejaVu Sans Mono',consolas,'Courier New',monospace\"><span style=\"color: #808000; text-decoration-color: #808000; font-style: italic\">        Downloading: Cr_IKxtNFWR</span>\n",
       "</pre>\n"
      ],
      "text/plain": [
       "\u001b[3;33m \u001b[0m\u001b[3;33m       \u001b[0m\u001b[3;33mDownloading: Cr_IKxtNFWR\u001b[0m\n"
      ]
     },
     "metadata": {},
     "output_type": "display_data"
    },
    {
     "data": {
      "text/html": [
       "<pre style=\"white-space:pre;overflow-x:auto;line-height:normal;font-family:Menlo,'DejaVu Sans Mono',consolas,'Courier New',monospace\"><span style=\"color: #00ff00; text-decoration-color: #00ff00; font-style: italic\">        Saved!</span>\n",
       "</pre>\n"
      ],
      "text/plain": [
       "\u001b[3;92m \u001b[0m\u001b[3;92m       \u001b[0m\u001b[3;92mSaved!\u001b[0m\n"
      ]
     },
     "metadata": {},
     "output_type": "display_data"
    },
    {
     "data": {
      "text/html": [
       "<pre style=\"white-space:pre;overflow-x:auto;line-height:normal;font-family:Menlo,'DejaVu Sans Mono',consolas,'Courier New',monospace\"><span style=\"color: #808000; text-decoration-color: #808000; font-style: italic\">        Downloading: CqfHjcCvVKo</span>\n",
       "</pre>\n"
      ],
      "text/plain": [
       "\u001b[3;33m \u001b[0m\u001b[3;33m       \u001b[0m\u001b[3;33mDownloading: CqfHjcCvVKo\u001b[0m\n"
      ]
     },
     "metadata": {},
     "output_type": "display_data"
    },
    {
     "data": {
      "text/html": [
       "<pre style=\"white-space:pre;overflow-x:auto;line-height:normal;font-family:Menlo,'DejaVu Sans Mono',consolas,'Courier New',monospace\"><span style=\"color: #00ff00; text-decoration-color: #00ff00; font-style: italic\">        Saved!</span>\n",
       "</pre>\n"
      ],
      "text/plain": [
       "\u001b[3;92m \u001b[0m\u001b[3;92m       \u001b[0m\u001b[3;92mSaved!\u001b[0m\n"
      ]
     },
     "metadata": {},
     "output_type": "display_data"
    },
    {
     "data": {
      "text/html": [
       "<pre style=\"white-space:pre;overflow-x:auto;line-height:normal;font-family:Menlo,'DejaVu Sans Mono',consolas,'Courier New',monospace\"><span style=\"color: #800000; text-decoration-color: #800000; font-weight: bold\">        Image already exists, Skipping</span><span style=\"color: #808000; text-decoration-color: #808000; font-weight: bold\">...</span>\n",
       "</pre>\n"
      ],
      "text/plain": [
       "\u001b[1;31m \u001b[0m\u001b[1;31m       \u001b[0m\u001b[1;31mImage already exists, Skipping\u001b[0m\u001b[1;33m...\u001b[0m\n"
      ]
     },
     "metadata": {},
     "output_type": "display_data"
    },
    {
     "data": {
      "text/html": [
       "<pre style=\"white-space:pre;overflow-x:auto;line-height:normal;font-family:Menlo,'DejaVu Sans Mono',consolas,'Courier New',monospace\"><span style=\"color: #808000; text-decoration-color: #808000; font-style: italic\">        Downloading: CsHIRl7vpaa</span>\n",
       "</pre>\n"
      ],
      "text/plain": [
       "\u001b[3;33m \u001b[0m\u001b[3;33m       \u001b[0m\u001b[3;33mDownloading: CsHIRl7vpaa\u001b[0m\n"
      ]
     },
     "metadata": {},
     "output_type": "display_data"
    },
    {
     "data": {
      "text/html": [
       "<pre style=\"white-space:pre;overflow-x:auto;line-height:normal;font-family:Menlo,'DejaVu Sans Mono',consolas,'Courier New',monospace\"><span style=\"color: #00ff00; text-decoration-color: #00ff00; font-style: italic\">        Saved!</span>\n",
       "</pre>\n"
      ],
      "text/plain": [
       "\u001b[3;92m \u001b[0m\u001b[3;92m       \u001b[0m\u001b[3;92mSaved!\u001b[0m\n"
      ]
     },
     "metadata": {},
     "output_type": "display_data"
    },
    {
     "data": {
      "text/html": [
       "<pre style=\"white-space:pre;overflow-x:auto;line-height:normal;font-family:Menlo,'DejaVu Sans Mono',consolas,'Courier New',monospace\"><span style=\"color: #808000; text-decoration-color: #808000; font-style: italic\">        Downloading: CsHHhsfPKYp</span>\n",
       "</pre>\n"
      ],
      "text/plain": [
       "\u001b[3;33m \u001b[0m\u001b[3;33m       \u001b[0m\u001b[3;33mDownloading: CsHHhsfPKYp\u001b[0m\n"
      ]
     },
     "metadata": {},
     "output_type": "display_data"
    },
    {
     "data": {
      "text/html": [
       "<pre style=\"white-space:pre;overflow-x:auto;line-height:normal;font-family:Menlo,'DejaVu Sans Mono',consolas,'Courier New',monospace\"><span style=\"color: #00ff00; text-decoration-color: #00ff00; font-style: italic\">        Saved!</span>\n",
       "</pre>\n"
      ],
      "text/plain": [
       "\u001b[3;92m \u001b[0m\u001b[3;92m       \u001b[0m\u001b[3;92mSaved!\u001b[0m\n"
      ]
     },
     "metadata": {},
     "output_type": "display_data"
    },
    {
     "data": {
      "text/html": [
       "<pre style=\"white-space:pre;overflow-x:auto;line-height:normal;font-family:Menlo,'DejaVu Sans Mono',consolas,'Courier New',monospace\"><span style=\"color: #808000; text-decoration-color: #808000; font-style: italic\">        Downloading: CsHGo60PgHT</span>\n",
       "</pre>\n"
      ],
      "text/plain": [
       "\u001b[3;33m \u001b[0m\u001b[3;33m       \u001b[0m\u001b[3;33mDownloading: CsHGo60PgHT\u001b[0m\n"
      ]
     },
     "metadata": {},
     "output_type": "display_data"
    },
    {
     "data": {
      "text/html": [
       "<pre style=\"white-space:pre;overflow-x:auto;line-height:normal;font-family:Menlo,'DejaVu Sans Mono',consolas,'Courier New',monospace\"><span style=\"color: #00ff00; text-decoration-color: #00ff00; font-style: italic\">        Saved!</span>\n",
       "</pre>\n"
      ],
      "text/plain": [
       "\u001b[3;92m \u001b[0m\u001b[3;92m       \u001b[0m\u001b[3;92mSaved!\u001b[0m\n"
      ]
     },
     "metadata": {},
     "output_type": "display_data"
    },
    {
     "data": {
      "text/html": [
       "<pre style=\"white-space:pre;overflow-x:auto;line-height:normal;font-family:Menlo,'DejaVu Sans Mono',consolas,'Courier New',monospace\"><span style=\"color: #808000; text-decoration-color: #808000; font-style: italic\">        Downloading: CsHGQYnP4pZ</span>\n",
       "</pre>\n"
      ],
      "text/plain": [
       "\u001b[3;33m \u001b[0m\u001b[3;33m       \u001b[0m\u001b[3;33mDownloading: CsHGQYnP4pZ\u001b[0m\n"
      ]
     },
     "metadata": {},
     "output_type": "display_data"
    },
    {
     "data": {
      "text/html": [
       "<pre style=\"white-space:pre;overflow-x:auto;line-height:normal;font-family:Menlo,'DejaVu Sans Mono',consolas,'Courier New',monospace\"><span style=\"color: #00ff00; text-decoration-color: #00ff00; font-style: italic\">        Saved!</span>\n",
       "</pre>\n"
      ],
      "text/plain": [
       "\u001b[3;92m \u001b[0m\u001b[3;92m       \u001b[0m\u001b[3;92mSaved!\u001b[0m\n"
      ]
     },
     "metadata": {},
     "output_type": "display_data"
    },
    {
     "data": {
      "text/html": [
       "<pre style=\"white-space:pre;overflow-x:auto;line-height:normal;font-family:Menlo,'DejaVu Sans Mono',consolas,'Courier New',monospace\"><span style=\"color: #808000; text-decoration-color: #808000; font-style: italic\">        Downloading: CsHFsObvD3w</span>\n",
       "</pre>\n"
      ],
      "text/plain": [
       "\u001b[3;33m \u001b[0m\u001b[3;33m       \u001b[0m\u001b[3;33mDownloading: CsHFsObvD3w\u001b[0m\n"
      ]
     },
     "metadata": {},
     "output_type": "display_data"
    },
    {
     "data": {
      "text/html": [
       "<pre style=\"white-space:pre;overflow-x:auto;line-height:normal;font-family:Menlo,'DejaVu Sans Mono',consolas,'Courier New',monospace\"><span style=\"color: #00ff00; text-decoration-color: #00ff00; font-style: italic\">        Saved!</span>\n",
       "</pre>\n"
      ],
      "text/plain": [
       "\u001b[3;92m \u001b[0m\u001b[3;92m       \u001b[0m\u001b[3;92mSaved!\u001b[0m\n"
      ]
     },
     "metadata": {},
     "output_type": "display_data"
    },
    {
     "data": {
      "text/html": [
       "<pre style=\"white-space:pre;overflow-x:auto;line-height:normal;font-family:Menlo,'DejaVu Sans Mono',consolas,'Courier New',monospace\"><span style=\"color: #808000; text-decoration-color: #808000; font-style: italic\">        Downloading: CsHAK0lv6U4</span>\n",
       "</pre>\n"
      ],
      "text/plain": [
       "\u001b[3;33m \u001b[0m\u001b[3;33m       \u001b[0m\u001b[3;33mDownloading: CsHAK0lv6U4\u001b[0m\n"
      ]
     },
     "metadata": {},
     "output_type": "display_data"
    },
    {
     "data": {
      "text/html": [
       "<pre style=\"white-space:pre;overflow-x:auto;line-height:normal;font-family:Menlo,'DejaVu Sans Mono',consolas,'Courier New',monospace\"><span style=\"color: #00ff00; text-decoration-color: #00ff00; font-style: italic\">        Saved!</span>\n",
       "</pre>\n"
      ],
      "text/plain": [
       "\u001b[3;92m \u001b[0m\u001b[3;92m       \u001b[0m\u001b[3;92mSaved!\u001b[0m\n"
      ]
     },
     "metadata": {},
     "output_type": "display_data"
    },
    {
     "data": {
      "text/html": [
       "<pre style=\"white-space:pre;overflow-x:auto;line-height:normal;font-family:Menlo,'DejaVu Sans Mono',consolas,'Courier New',monospace\"><span style=\"color: #808000; text-decoration-color: #808000; font-style: italic\">        Downloading: CsG_CzZPmI-</span>\n",
       "</pre>\n"
      ],
      "text/plain": [
       "\u001b[3;33m \u001b[0m\u001b[3;33m       \u001b[0m\u001b[3;33mDownloading: CsG_CzZPmI-\u001b[0m\n"
      ]
     },
     "metadata": {},
     "output_type": "display_data"
    },
    {
     "data": {
      "text/html": [
       "<pre style=\"white-space:pre;overflow-x:auto;line-height:normal;font-family:Menlo,'DejaVu Sans Mono',consolas,'Courier New',monospace\"><span style=\"color: #00ff00; text-decoration-color: #00ff00; font-style: italic\">        Saved!</span>\n",
       "</pre>\n"
      ],
      "text/plain": [
       "\u001b[3;92m \u001b[0m\u001b[3;92m       \u001b[0m\u001b[3;92mSaved!\u001b[0m\n"
      ]
     },
     "metadata": {},
     "output_type": "display_data"
    },
    {
     "data": {
      "text/html": [
       "<pre style=\"white-space:pre;overflow-x:auto;line-height:normal;font-family:Menlo,'DejaVu Sans Mono',consolas,'Courier New',monospace\"><span style=\"color: #808000; text-decoration-color: #808000; font-style: italic\">        Downloading: CsG9UoyPzz9</span>\n",
       "</pre>\n"
      ],
      "text/plain": [
       "\u001b[3;33m \u001b[0m\u001b[3;33m       \u001b[0m\u001b[3;33mDownloading: CsG9UoyPzz9\u001b[0m\n"
      ]
     },
     "metadata": {},
     "output_type": "display_data"
    },
    {
     "data": {
      "text/html": [
       "<pre style=\"white-space:pre;overflow-x:auto;line-height:normal;font-family:Menlo,'DejaVu Sans Mono',consolas,'Courier New',monospace\"><span style=\"color: #00ff00; text-decoration-color: #00ff00; font-style: italic\">        Saved!</span>\n",
       "</pre>\n"
      ],
      "text/plain": [
       "\u001b[3;92m \u001b[0m\u001b[3;92m       \u001b[0m\u001b[3;92mSaved!\u001b[0m\n"
      ]
     },
     "metadata": {},
     "output_type": "display_data"
    },
    {
     "data": {
      "text/html": [
       "<pre style=\"white-space:pre;overflow-x:auto;line-height:normal;font-family:Menlo,'DejaVu Sans Mono',consolas,'Courier New',monospace\"><span style=\"color: #808000; text-decoration-color: #808000; font-style: italic\">        Downloading: CsG8jEhv2Fc</span>\n",
       "</pre>\n"
      ],
      "text/plain": [
       "\u001b[3;33m \u001b[0m\u001b[3;33m       \u001b[0m\u001b[3;33mDownloading: CsG8jEhv2Fc\u001b[0m\n"
      ]
     },
     "metadata": {},
     "output_type": "display_data"
    },
    {
     "data": {
      "text/html": [
       "<pre style=\"white-space:pre;overflow-x:auto;line-height:normal;font-family:Menlo,'DejaVu Sans Mono',consolas,'Courier New',monospace\"><span style=\"color: #00ff00; text-decoration-color: #00ff00; font-style: italic\">        Saved!</span>\n",
       "</pre>\n"
      ],
      "text/plain": [
       "\u001b[3;92m \u001b[0m\u001b[3;92m       \u001b[0m\u001b[3;92mSaved!\u001b[0m\n"
      ]
     },
     "metadata": {},
     "output_type": "display_data"
    },
    {
     "name": "stderr",
     "output_type": "stream",
     "text": [
      " 96%|█████████▌| 192/200 [03:22<01:48, 13.53s/it]"
     ]
    },
    {
     "data": {
      "text/html": [
       "<pre style=\"white-space:pre;overflow-x:auto;line-height:normal;font-family:Menlo,'DejaVu Sans Mono',consolas,'Courier New',monospace\">Getting Account Information: <span style=\"color: #008080; text-decoration-color: #008080\">zeetv</span>\n",
       "</pre>\n"
      ],
      "text/plain": [
       "Getting Account Information: \u001b[36mzeetv\u001b[0m\n"
      ]
     },
     "metadata": {},
     "output_type": "display_data"
    },
    {
     "name": "stderr",
     "output_type": "stream",
     "text": [
      " 96%|█████████▋| 193/200 [03:28<01:21, 11.57s/it]"
     ]
    },
    {
     "data": {
      "text/html": [
       "<pre style=\"white-space:pre;overflow-x:auto;line-height:normal;font-family:Menlo,'DejaVu Sans Mono',consolas,'Courier New',monospace\">Getting Account Information: <span style=\"color: #008080; text-decoration-color: #008080\">corinthians</span>\n",
       "</pre>\n"
      ],
      "text/plain": [
       "Getting Account Information: \u001b[36mcorinthians\u001b[0m\n"
      ]
     },
     "metadata": {},
     "output_type": "display_data"
    },
    {
     "data": {
      "text/html": [
       "<pre style=\"white-space:pre;overflow-x:auto;line-height:normal;font-family:Menlo,'DejaVu Sans Mono',consolas,'Courier New',monospace\"><span style=\"color: #808000; text-decoration-color: #808000; font-style: italic\">        Downloading: CsG9iEwLAYf</span>\n",
       "</pre>\n"
      ],
      "text/plain": [
       "\u001b[3;33m \u001b[0m\u001b[3;33m       \u001b[0m\u001b[3;33mDownloading: CsG9iEwLAYf\u001b[0m\n"
      ]
     },
     "metadata": {},
     "output_type": "display_data"
    },
    {
     "data": {
      "text/html": [
       "<pre style=\"white-space:pre;overflow-x:auto;line-height:normal;font-family:Menlo,'DejaVu Sans Mono',consolas,'Courier New',monospace\"><span style=\"color: #00ff00; text-decoration-color: #00ff00; font-style: italic\">        Saved!</span>\n",
       "</pre>\n"
      ],
      "text/plain": [
       "\u001b[3;92m \u001b[0m\u001b[3;92m       \u001b[0m\u001b[3;92mSaved!\u001b[0m\n"
      ]
     },
     "metadata": {},
     "output_type": "display_data"
    },
    {
     "data": {
      "text/html": [
       "<pre style=\"white-space:pre;overflow-x:auto;line-height:normal;font-family:Menlo,'DejaVu Sans Mono',consolas,'Courier New',monospace\"><span style=\"color: #808000; text-decoration-color: #808000; font-style: italic\">        Downloading: CsG7yaFM4ge</span>\n",
       "</pre>\n"
      ],
      "text/plain": [
       "\u001b[3;33m \u001b[0m\u001b[3;33m       \u001b[0m\u001b[3;33mDownloading: CsG7yaFM4ge\u001b[0m\n"
      ]
     },
     "metadata": {},
     "output_type": "display_data"
    },
    {
     "data": {
      "text/html": [
       "<pre style=\"white-space:pre;overflow-x:auto;line-height:normal;font-family:Menlo,'DejaVu Sans Mono',consolas,'Courier New',monospace\"><span style=\"color: #00ff00; text-decoration-color: #00ff00; font-style: italic\">        Saved!</span>\n",
       "</pre>\n"
      ],
      "text/plain": [
       "\u001b[3;92m \u001b[0m\u001b[3;92m       \u001b[0m\u001b[3;92mSaved!\u001b[0m\n"
      ]
     },
     "metadata": {},
     "output_type": "display_data"
    },
    {
     "data": {
      "text/html": [
       "<pre style=\"white-space:pre;overflow-x:auto;line-height:normal;font-family:Menlo,'DejaVu Sans Mono',consolas,'Courier New',monospace\"><span style=\"color: #808000; text-decoration-color: #808000; font-style: italic\">        Downloading: CsG2kggNtzX</span>\n",
       "</pre>\n"
      ],
      "text/plain": [
       "\u001b[3;33m \u001b[0m\u001b[3;33m       \u001b[0m\u001b[3;33mDownloading: CsG2kggNtzX\u001b[0m\n"
      ]
     },
     "metadata": {},
     "output_type": "display_data"
    },
    {
     "data": {
      "text/html": [
       "<pre style=\"white-space:pre;overflow-x:auto;line-height:normal;font-family:Menlo,'DejaVu Sans Mono',consolas,'Courier New',monospace\"><span style=\"color: #00ff00; text-decoration-color: #00ff00; font-style: italic\">        Saved!</span>\n",
       "</pre>\n"
      ],
      "text/plain": [
       "\u001b[3;92m \u001b[0m\u001b[3;92m       \u001b[0m\u001b[3;92mSaved!\u001b[0m\n"
      ]
     },
     "metadata": {},
     "output_type": "display_data"
    },
    {
     "data": {
      "text/html": [
       "<pre style=\"white-space:pre;overflow-x:auto;line-height:normal;font-family:Menlo,'DejaVu Sans Mono',consolas,'Courier New',monospace\"><span style=\"color: #808000; text-decoration-color: #808000; font-style: italic\">        Downloading: CsGsu_yO2lN</span>\n",
       "</pre>\n"
      ],
      "text/plain": [
       "\u001b[3;33m \u001b[0m\u001b[3;33m       \u001b[0m\u001b[3;33mDownloading: CsGsu_yO2lN\u001b[0m\n"
      ]
     },
     "metadata": {},
     "output_type": "display_data"
    },
    {
     "data": {
      "text/html": [
       "<pre style=\"white-space:pre;overflow-x:auto;line-height:normal;font-family:Menlo,'DejaVu Sans Mono',consolas,'Courier New',monospace\"><span style=\"color: #00ff00; text-decoration-color: #00ff00; font-style: italic\">        Saved!</span>\n",
       "</pre>\n"
      ],
      "text/plain": [
       "\u001b[3;92m \u001b[0m\u001b[3;92m       \u001b[0m\u001b[3;92mSaved!\u001b[0m\n"
      ]
     },
     "metadata": {},
     "output_type": "display_data"
    },
    {
     "data": {
      "text/html": [
       "<pre style=\"white-space:pre;overflow-x:auto;line-height:normal;font-family:Menlo,'DejaVu Sans Mono',consolas,'Courier New',monospace\"><span style=\"color: #808000; text-decoration-color: #808000; font-style: italic\">        Downloading: CsGpd6-Oqkn</span>\n",
       "</pre>\n"
      ],
      "text/plain": [
       "\u001b[3;33m \u001b[0m\u001b[3;33m       \u001b[0m\u001b[3;33mDownloading: CsGpd6-Oqkn\u001b[0m\n"
      ]
     },
     "metadata": {},
     "output_type": "display_data"
    },
    {
     "data": {
      "text/html": [
       "<pre style=\"white-space:pre;overflow-x:auto;line-height:normal;font-family:Menlo,'DejaVu Sans Mono',consolas,'Courier New',monospace\"><span style=\"color: #00ff00; text-decoration-color: #00ff00; font-style: italic\">        Saved!</span>\n",
       "</pre>\n"
      ],
      "text/plain": [
       "\u001b[3;92m \u001b[0m\u001b[3;92m       \u001b[0m\u001b[3;92mSaved!\u001b[0m\n"
      ]
     },
     "metadata": {},
     "output_type": "display_data"
    },
    {
     "data": {
      "text/html": [
       "<pre style=\"white-space:pre;overflow-x:auto;line-height:normal;font-family:Menlo,'DejaVu Sans Mono',consolas,'Courier New',monospace\"><span style=\"color: #808000; text-decoration-color: #808000; font-style: italic\">        Downloading: CsFkm8dMQCs</span>\n",
       "</pre>\n"
      ],
      "text/plain": [
       "\u001b[3;33m \u001b[0m\u001b[3;33m       \u001b[0m\u001b[3;33mDownloading: CsFkm8dMQCs\u001b[0m\n"
      ]
     },
     "metadata": {},
     "output_type": "display_data"
    },
    {
     "name": "stderr",
     "output_type": "stream",
     "text": [
      " 96%|█████████▋| 193/200 [03:40<01:21, 11.57s/it]"
     ]
    },
    {
     "data": {
      "text/html": [
       "<pre style=\"white-space:pre;overflow-x:auto;line-height:normal;font-family:Menlo,'DejaVu Sans Mono',consolas,'Courier New',monospace\"><span style=\"color: #00ff00; text-decoration-color: #00ff00; font-style: italic\">        Saved!</span>\n",
       "</pre>\n"
      ],
      "text/plain": [
       "\u001b[3;92m \u001b[0m\u001b[3;92m       \u001b[0m\u001b[3;92mSaved!\u001b[0m\n"
      ]
     },
     "metadata": {},
     "output_type": "display_data"
    },
    {
     "data": {
      "text/html": [
       "<pre style=\"white-space:pre;overflow-x:auto;line-height:normal;font-family:Menlo,'DejaVu Sans Mono',consolas,'Courier New',monospace\"><span style=\"color: #808000; text-decoration-color: #808000; font-style: italic\">        Downloading: CsFda6BJ0Na</span>\n",
       "</pre>\n"
      ],
      "text/plain": [
       "\u001b[3;33m \u001b[0m\u001b[3;33m       \u001b[0m\u001b[3;33mDownloading: CsFda6BJ0Na\u001b[0m\n"
      ]
     },
     "metadata": {},
     "output_type": "display_data"
    },
    {
     "data": {
      "text/html": [
       "<pre style=\"white-space:pre;overflow-x:auto;line-height:normal;font-family:Menlo,'DejaVu Sans Mono',consolas,'Courier New',monospace\"><span style=\"color: #00ff00; text-decoration-color: #00ff00; font-style: italic\">        Saved!</span>\n",
       "</pre>\n"
      ],
      "text/plain": [
       "\u001b[3;92m \u001b[0m\u001b[3;92m       \u001b[0m\u001b[3;92mSaved!\u001b[0m\n"
      ]
     },
     "metadata": {},
     "output_type": "display_data"
    },
    {
     "data": {
      "text/html": [
       "<pre style=\"white-space:pre;overflow-x:auto;line-height:normal;font-family:Menlo,'DejaVu Sans Mono',consolas,'Courier New',monospace\"><span style=\"color: #808000; text-decoration-color: #808000; font-style: italic\">        Downloading: CsFTIpyN2aC</span>\n",
       "</pre>\n"
      ],
      "text/plain": [
       "\u001b[3;33m \u001b[0m\u001b[3;33m       \u001b[0m\u001b[3;33mDownloading: CsFTIpyN2aC\u001b[0m\n"
      ]
     },
     "metadata": {},
     "output_type": "display_data"
    },
    {
     "data": {
      "text/html": [
       "<pre style=\"white-space:pre;overflow-x:auto;line-height:normal;font-family:Menlo,'DejaVu Sans Mono',consolas,'Courier New',monospace\"><span style=\"color: #00ff00; text-decoration-color: #00ff00; font-style: italic\">        Saved!</span>\n",
       "</pre>\n"
      ],
      "text/plain": [
       "\u001b[3;92m \u001b[0m\u001b[3;92m       \u001b[0m\u001b[3;92mSaved!\u001b[0m\n"
      ]
     },
     "metadata": {},
     "output_type": "display_data"
    },
    {
     "name": "stderr",
     "output_type": "stream",
     "text": [
      " 97%|█████████▋| 194/200 [03:44<01:17, 12.84s/it]"
     ]
    },
    {
     "data": {
      "text/html": [
       "<pre style=\"white-space:pre;overflow-x:auto;line-height:normal;font-family:Menlo,'DejaVu Sans Mono',consolas,'Courier New',monospace\">Getting Account Information: <span style=\"color: #008080; text-decoration-color: #008080\">natgeo</span>\n",
       "</pre>\n"
      ],
      "text/plain": [
       "Getting Account Information: \u001b[36mnatgeo\u001b[0m\n"
      ]
     },
     "metadata": {},
     "output_type": "display_data"
    },
    {
     "data": {
      "text/html": [
       "<pre style=\"white-space:pre;overflow-x:auto;line-height:normal;font-family:Menlo,'DejaVu Sans Mono',consolas,'Courier New',monospace\"><span style=\"color: #800000; text-decoration-color: #800000; font-weight: bold\">        User information already exist, skipping</span><span style=\"color: #808000; text-decoration-color: #808000; font-weight: bold\">...</span>\n",
       "</pre>\n"
      ],
      "text/plain": [
       "\u001b[1;31m \u001b[0m\u001b[1;31m       \u001b[0m\u001b[1;31mUser information already exist, skipping\u001b[0m\u001b[1;33m...\u001b[0m\n"
      ]
     },
     "metadata": {},
     "output_type": "display_data"
    },
    {
     "data": {
      "text/html": [
       "<pre style=\"white-space:pre;overflow-x:auto;line-height:normal;font-family:Menlo,'DejaVu Sans Mono',consolas,'Courier New',monospace\">Getting Account Information: <span style=\"color: #008080; text-decoration-color: #008080\">jokezar</span>\n",
       "</pre>\n"
      ],
      "text/plain": [
       "Getting Account Information: \u001b[36mjokezar\u001b[0m\n"
      ]
     },
     "metadata": {},
     "output_type": "display_data"
    },
    {
     "data": {
      "text/html": [
       "<pre style=\"white-space:pre;overflow-x:auto;line-height:normal;font-family:Menlo,'DejaVu Sans Mono',consolas,'Courier New',monospace\"><span style=\"color: #808000; text-decoration-color: #808000; font-style: italic\">        Downloading: CsG-zxONwwu</span>\n",
       "</pre>\n"
      ],
      "text/plain": [
       "\u001b[3;33m \u001b[0m\u001b[3;33m       \u001b[0m\u001b[3;33mDownloading: CsG-zxONwwu\u001b[0m\n"
      ]
     },
     "metadata": {},
     "output_type": "display_data"
    },
    {
     "data": {
      "text/html": [
       "<pre style=\"white-space:pre;overflow-x:auto;line-height:normal;font-family:Menlo,'DejaVu Sans Mono',consolas,'Courier New',monospace\"><span style=\"color: #00ff00; text-decoration-color: #00ff00; font-style: italic\">        Saved!</span>\n",
       "</pre>\n"
      ],
      "text/plain": [
       "\u001b[3;92m \u001b[0m\u001b[3;92m       \u001b[0m\u001b[3;92mSaved!\u001b[0m\n"
      ]
     },
     "metadata": {},
     "output_type": "display_data"
    },
    {
     "data": {
      "text/html": [
       "<pre style=\"white-space:pre;overflow-x:auto;line-height:normal;font-family:Menlo,'DejaVu Sans Mono',consolas,'Courier New',monospace\"><span style=\"color: #808000; text-decoration-color: #808000; font-style: italic\">        Downloading: CsEJCHLo6B8</span>\n",
       "</pre>\n"
      ],
      "text/plain": [
       "\u001b[3;33m \u001b[0m\u001b[3;33m       \u001b[0m\u001b[3;33mDownloading: CsEJCHLo6B8\u001b[0m\n"
      ]
     },
     "metadata": {},
     "output_type": "display_data"
    },
    {
     "data": {
      "text/html": [
       "<pre style=\"white-space:pre;overflow-x:auto;line-height:normal;font-family:Menlo,'DejaVu Sans Mono',consolas,'Courier New',monospace\"><span style=\"color: #00ff00; text-decoration-color: #00ff00; font-style: italic\">        Saved!</span>\n",
       "</pre>\n"
      ],
      "text/plain": [
       "\u001b[3;92m \u001b[0m\u001b[3;92m       \u001b[0m\u001b[3;92mSaved!\u001b[0m\n"
      ]
     },
     "metadata": {},
     "output_type": "display_data"
    },
    {
     "data": {
      "text/html": [
       "<pre style=\"white-space:pre;overflow-x:auto;line-height:normal;font-family:Menlo,'DejaVu Sans Mono',consolas,'Courier New',monospace\"><span style=\"color: #808000; text-decoration-color: #808000; font-style: italic\">        Downloading: CsDsREnIbv3</span>\n",
       "</pre>\n"
      ],
      "text/plain": [
       "\u001b[3;33m \u001b[0m\u001b[3;33m       \u001b[0m\u001b[3;33mDownloading: CsDsREnIbv3\u001b[0m\n"
      ]
     },
     "metadata": {},
     "output_type": "display_data"
    },
    {
     "data": {
      "text/html": [
       "<pre style=\"white-space:pre;overflow-x:auto;line-height:normal;font-family:Menlo,'DejaVu Sans Mono',consolas,'Courier New',monospace\"><span style=\"color: #00ff00; text-decoration-color: #00ff00; font-style: italic\">        Saved!</span>\n",
       "</pre>\n"
      ],
      "text/plain": [
       "\u001b[3;92m \u001b[0m\u001b[3;92m       \u001b[0m\u001b[3;92mSaved!\u001b[0m\n"
      ]
     },
     "metadata": {},
     "output_type": "display_data"
    },
    {
     "data": {
      "text/html": [
       "<pre style=\"white-space:pre;overflow-x:auto;line-height:normal;font-family:Menlo,'DejaVu Sans Mono',consolas,'Courier New',monospace\"><span style=\"color: #808000; text-decoration-color: #808000; font-style: italic\">        Downloading: CsCcf1_oQJv</span>\n",
       "</pre>\n"
      ],
      "text/plain": [
       "\u001b[3;33m \u001b[0m\u001b[3;33m       \u001b[0m\u001b[3;33mDownloading: CsCcf1_oQJv\u001b[0m\n"
      ]
     },
     "metadata": {},
     "output_type": "display_data"
    },
    {
     "data": {
      "text/html": [
       "<pre style=\"white-space:pre;overflow-x:auto;line-height:normal;font-family:Menlo,'DejaVu Sans Mono',consolas,'Courier New',monospace\"><span style=\"color: #00ff00; text-decoration-color: #00ff00; font-style: italic\">        Saved!</span>\n",
       "</pre>\n"
      ],
      "text/plain": [
       "\u001b[3;92m \u001b[0m\u001b[3;92m       \u001b[0m\u001b[3;92mSaved!\u001b[0m\n"
      ]
     },
     "metadata": {},
     "output_type": "display_data"
    },
    {
     "data": {
      "text/html": [
       "<pre style=\"white-space:pre;overflow-x:auto;line-height:normal;font-family:Menlo,'DejaVu Sans Mono',consolas,'Courier New',monospace\"><span style=\"color: #808000; text-decoration-color: #808000; font-style: italic\">        Downloading: CsCPsmzoOTe</span>\n",
       "</pre>\n"
      ],
      "text/plain": [
       "\u001b[3;33m \u001b[0m\u001b[3;33m       \u001b[0m\u001b[3;33mDownloading: CsCPsmzoOTe\u001b[0m\n"
      ]
     },
     "metadata": {},
     "output_type": "display_data"
    },
    {
     "data": {
      "text/html": [
       "<pre style=\"white-space:pre;overflow-x:auto;line-height:normal;font-family:Menlo,'DejaVu Sans Mono',consolas,'Courier New',monospace\"><span style=\"color: #00ff00; text-decoration-color: #00ff00; font-style: italic\">        Saved!</span>\n",
       "</pre>\n"
      ],
      "text/plain": [
       "\u001b[3;92m \u001b[0m\u001b[3;92m       \u001b[0m\u001b[3;92mSaved!\u001b[0m\n"
      ]
     },
     "metadata": {},
     "output_type": "display_data"
    },
    {
     "name": "stderr",
     "output_type": "stream",
     "text": [
      " 98%|█████████▊| 196/200 [03:54<00:37,  9.32s/it]"
     ]
    },
    {
     "data": {
      "text/html": [
       "<pre style=\"white-space:pre;overflow-x:auto;line-height:normal;font-family:Menlo,'DejaVu Sans Mono',consolas,'Courier New',monospace\">Getting Account Information: <span style=\"color: #008080; text-decoration-color: #008080\">ultimahoracol</span>\n",
       "</pre>\n"
      ],
      "text/plain": [
       "Getting Account Information: \u001b[36multimahoracol\u001b[0m\n"
      ]
     },
     "metadata": {},
     "output_type": "display_data"
    },
    {
     "data": {
      "text/html": [
       "<pre style=\"white-space:pre;overflow-x:auto;line-height:normal;font-family:Menlo,'DejaVu Sans Mono',consolas,'Courier New',monospace\"><span style=\"color: #808000; text-decoration-color: #808000; font-style: italic\">        Downloading: CsHEf5ouFYv</span>\n",
       "</pre>\n"
      ],
      "text/plain": [
       "\u001b[3;33m \u001b[0m\u001b[3;33m       \u001b[0m\u001b[3;33mDownloading: CsHEf5ouFYv\u001b[0m\n"
      ]
     },
     "metadata": {},
     "output_type": "display_data"
    },
    {
     "name": "stderr",
     "output_type": "stream",
     "text": [
      " 98%|█████████▊| 196/200 [04:10<00:37,  9.32s/it]"
     ]
    },
    {
     "data": {
      "text/html": [
       "<pre style=\"white-space:pre;overflow-x:auto;line-height:normal;font-family:Menlo,'DejaVu Sans Mono',consolas,'Courier New',monospace\"><span style=\"color: #00ff00; text-decoration-color: #00ff00; font-style: italic\">        Saved!</span>\n",
       "</pre>\n"
      ],
      "text/plain": [
       "\u001b[3;92m \u001b[0m\u001b[3;92m       \u001b[0m\u001b[3;92mSaved!\u001b[0m\n"
      ]
     },
     "metadata": {},
     "output_type": "display_data"
    },
    {
     "data": {
      "text/html": [
       "<pre style=\"white-space:pre;overflow-x:auto;line-height:normal;font-family:Menlo,'DejaVu Sans Mono',consolas,'Courier New',monospace\"><span style=\"color: #808000; text-decoration-color: #808000; font-style: italic\">        Downloading: CsG_oOTOpOi</span>\n",
       "</pre>\n"
      ],
      "text/plain": [
       "\u001b[3;33m \u001b[0m\u001b[3;33m       \u001b[0m\u001b[3;33mDownloading: CsG_oOTOpOi\u001b[0m\n"
      ]
     },
     "metadata": {},
     "output_type": "display_data"
    },
    {
     "data": {
      "text/html": [
       "<pre style=\"white-space:pre;overflow-x:auto;line-height:normal;font-family:Menlo,'DejaVu Sans Mono',consolas,'Courier New',monospace\"><span style=\"color: #00ff00; text-decoration-color: #00ff00; font-style: italic\">        Saved!</span>\n",
       "</pre>\n"
      ],
      "text/plain": [
       "\u001b[3;92m \u001b[0m\u001b[3;92m       \u001b[0m\u001b[3;92mSaved!\u001b[0m\n"
      ]
     },
     "metadata": {},
     "output_type": "display_data"
    },
    {
     "data": {
      "text/html": [
       "<pre style=\"white-space:pre;overflow-x:auto;line-height:normal;font-family:Menlo,'DejaVu Sans Mono',consolas,'Courier New',monospace\"><span style=\"color: #808000; text-decoration-color: #808000; font-style: italic\">        Downloading: CsG263AsmdP</span>\n",
       "</pre>\n"
      ],
      "text/plain": [
       "\u001b[3;33m \u001b[0m\u001b[3;33m       \u001b[0m\u001b[3;33mDownloading: CsG263AsmdP\u001b[0m\n"
      ]
     },
     "metadata": {},
     "output_type": "display_data"
    },
    {
     "data": {
      "text/html": [
       "<pre style=\"white-space:pre;overflow-x:auto;line-height:normal;font-family:Menlo,'DejaVu Sans Mono',consolas,'Courier New',monospace\"><span style=\"color: #00ff00; text-decoration-color: #00ff00; font-style: italic\">        Saved!</span>\n",
       "</pre>\n"
      ],
      "text/plain": [
       "\u001b[3;92m \u001b[0m\u001b[3;92m       \u001b[0m\u001b[3;92mSaved!\u001b[0m\n"
      ]
     },
     "metadata": {},
     "output_type": "display_data"
    },
    {
     "data": {
      "text/html": [
       "<pre style=\"white-space:pre;overflow-x:auto;line-height:normal;font-family:Menlo,'DejaVu Sans Mono',consolas,'Courier New',monospace\"><span style=\"color: #808000; text-decoration-color: #808000; font-style: italic\">        Downloading: CsGyxZRs_RF</span>\n",
       "</pre>\n"
      ],
      "text/plain": [
       "\u001b[3;33m \u001b[0m\u001b[3;33m       \u001b[0m\u001b[3;33mDownloading: CsGyxZRs_RF\u001b[0m\n"
      ]
     },
     "metadata": {},
     "output_type": "display_data"
    },
    {
     "data": {
      "text/html": [
       "<pre style=\"white-space:pre;overflow-x:auto;line-height:normal;font-family:Menlo,'DejaVu Sans Mono',consolas,'Courier New',monospace\"><span style=\"color: #00ff00; text-decoration-color: #00ff00; font-style: italic\">        Saved!</span>\n",
       "</pre>\n"
      ],
      "text/plain": [
       "\u001b[3;92m \u001b[0m\u001b[3;92m       \u001b[0m\u001b[3;92mSaved!\u001b[0m\n"
      ]
     },
     "metadata": {},
     "output_type": "display_data"
    },
    {
     "data": {
      "text/html": [
       "<pre style=\"white-space:pre;overflow-x:auto;line-height:normal;font-family:Menlo,'DejaVu Sans Mono',consolas,'Courier New',monospace\"><span style=\"color: #808000; text-decoration-color: #808000; font-style: italic\">        Downloading: CsGvN2QM-au</span>\n",
       "</pre>\n"
      ],
      "text/plain": [
       "\u001b[3;33m \u001b[0m\u001b[3;33m       \u001b[0m\u001b[3;33mDownloading: CsGvN2QM-au\u001b[0m\n"
      ]
     },
     "metadata": {},
     "output_type": "display_data"
    },
    {
     "data": {
      "text/html": [
       "<pre style=\"white-space:pre;overflow-x:auto;line-height:normal;font-family:Menlo,'DejaVu Sans Mono',consolas,'Courier New',monospace\"><span style=\"color: #00ff00; text-decoration-color: #00ff00; font-style: italic\">        Saved!</span>\n",
       "</pre>\n"
      ],
      "text/plain": [
       "\u001b[3;92m \u001b[0m\u001b[3;92m       \u001b[0m\u001b[3;92mSaved!\u001b[0m\n"
      ]
     },
     "metadata": {},
     "output_type": "display_data"
    },
    {
     "data": {
      "text/html": [
       "<pre style=\"white-space:pre;overflow-x:auto;line-height:normal;font-family:Menlo,'DejaVu Sans Mono',consolas,'Courier New',monospace\"><span style=\"color: #808000; text-decoration-color: #808000; font-style: italic\">        Downloading: CsGorHcOYtb</span>\n",
       "</pre>\n"
      ],
      "text/plain": [
       "\u001b[3;33m \u001b[0m\u001b[3;33m       \u001b[0m\u001b[3;33mDownloading: CsGorHcOYtb\u001b[0m\n"
      ]
     },
     "metadata": {},
     "output_type": "display_data"
    },
    {
     "data": {
      "text/html": [
       "<pre style=\"white-space:pre;overflow-x:auto;line-height:normal;font-family:Menlo,'DejaVu Sans Mono',consolas,'Courier New',monospace\"><span style=\"color: #00ff00; text-decoration-color: #00ff00; font-style: italic\">        Saved!</span>\n",
       "</pre>\n"
      ],
      "text/plain": [
       "\u001b[3;92m \u001b[0m\u001b[3;92m       \u001b[0m\u001b[3;92mSaved!\u001b[0m\n"
      ]
     },
     "metadata": {},
     "output_type": "display_data"
    },
    {
     "data": {
      "text/html": [
       "<pre style=\"white-space:pre;overflow-x:auto;line-height:normal;font-family:Menlo,'DejaVu Sans Mono',consolas,'Courier New',monospace\"><span style=\"color: #808000; text-decoration-color: #808000; font-style: italic\">        Downloading: CsFdXo2t04E</span>\n",
       "</pre>\n"
      ],
      "text/plain": [
       "\u001b[3;33m \u001b[0m\u001b[3;33m       \u001b[0m\u001b[3;33mDownloading: CsFdXo2t04E\u001b[0m\n"
      ]
     },
     "metadata": {},
     "output_type": "display_data"
    },
    {
     "data": {
      "text/html": [
       "<pre style=\"white-space:pre;overflow-x:auto;line-height:normal;font-family:Menlo,'DejaVu Sans Mono',consolas,'Courier New',monospace\"><span style=\"color: #00ff00; text-decoration-color: #00ff00; font-style: italic\">        Saved!</span>\n",
       "</pre>\n"
      ],
      "text/plain": [
       "\u001b[3;92m \u001b[0m\u001b[3;92m       \u001b[0m\u001b[3;92mSaved!\u001b[0m\n"
      ]
     },
     "metadata": {},
     "output_type": "display_data"
    },
    {
     "data": {
      "text/html": [
       "<pre style=\"white-space:pre;overflow-x:auto;line-height:normal;font-family:Menlo,'DejaVu Sans Mono',consolas,'Courier New',monospace\"><span style=\"color: #808000; text-decoration-color: #808000; font-style: italic\">        Downloading: CsFWnlQtuhV</span>\n",
       "</pre>\n"
      ],
      "text/plain": [
       "\u001b[3;33m \u001b[0m\u001b[3;33m       \u001b[0m\u001b[3;33mDownloading: CsFWnlQtuhV\u001b[0m\n"
      ]
     },
     "metadata": {},
     "output_type": "display_data"
    },
    {
     "data": {
      "text/html": [
       "<pre style=\"white-space:pre;overflow-x:auto;line-height:normal;font-family:Menlo,'DejaVu Sans Mono',consolas,'Courier New',monospace\"><span style=\"color: #00ff00; text-decoration-color: #00ff00; font-style: italic\">        Saved!</span>\n",
       "</pre>\n"
      ],
      "text/plain": [
       "\u001b[3;92m \u001b[0m\u001b[3;92m       \u001b[0m\u001b[3;92mSaved!\u001b[0m\n"
      ]
     },
     "metadata": {},
     "output_type": "display_data"
    },
    {
     "data": {
      "text/html": [
       "<pre style=\"white-space:pre;overflow-x:auto;line-height:normal;font-family:Menlo,'DejaVu Sans Mono',consolas,'Courier New',monospace\"><span style=\"color: #808000; text-decoration-color: #808000; font-style: italic\">        Downloading: CsFPsL1N1mU</span>\n",
       "</pre>\n"
      ],
      "text/plain": [
       "\u001b[3;33m \u001b[0m\u001b[3;33m       \u001b[0m\u001b[3;33mDownloading: CsFPsL1N1mU\u001b[0m\n"
      ]
     },
     "metadata": {},
     "output_type": "display_data"
    },
    {
     "data": {
      "text/html": [
       "<pre style=\"white-space:pre;overflow-x:auto;line-height:normal;font-family:Menlo,'DejaVu Sans Mono',consolas,'Courier New',monospace\"><span style=\"color: #00ff00; text-decoration-color: #00ff00; font-style: italic\">        Saved!</span>\n",
       "</pre>\n"
      ],
      "text/plain": [
       "\u001b[3;92m \u001b[0m\u001b[3;92m       \u001b[0m\u001b[3;92mSaved!\u001b[0m\n"
      ]
     },
     "metadata": {},
     "output_type": "display_data"
    },
    {
     "data": {
      "text/html": [
       "<pre style=\"white-space:pre;overflow-x:auto;line-height:normal;font-family:Menlo,'DejaVu Sans Mono',consolas,'Courier New',monospace\"><span style=\"color: #808000; text-decoration-color: #808000; font-style: italic\">        Downloading: CsFFbpxvdCS</span>\n",
       "</pre>\n"
      ],
      "text/plain": [
       "\u001b[3;33m \u001b[0m\u001b[3;33m       \u001b[0m\u001b[3;33mDownloading: CsFFbpxvdCS\u001b[0m\n"
      ]
     },
     "metadata": {},
     "output_type": "display_data"
    },
    {
     "data": {
      "text/html": [
       "<pre style=\"white-space:pre;overflow-x:auto;line-height:normal;font-family:Menlo,'DejaVu Sans Mono',consolas,'Courier New',monospace\"><span style=\"color: #00ff00; text-decoration-color: #00ff00; font-style: italic\">        Saved!</span>\n",
       "</pre>\n"
      ],
      "text/plain": [
       "\u001b[3;92m \u001b[0m\u001b[3;92m       \u001b[0m\u001b[3;92mSaved!\u001b[0m\n"
      ]
     },
     "metadata": {},
     "output_type": "display_data"
    },
    {
     "data": {
      "text/html": [
       "<pre style=\"white-space:pre;overflow-x:auto;line-height:normal;font-family:Menlo,'DejaVu Sans Mono',consolas,'Courier New',monospace\"><span style=\"color: #808000; text-decoration-color: #808000; font-style: italic\">        Downloading: CsE-hP1vLpI</span>\n",
       "</pre>\n"
      ],
      "text/plain": [
       "\u001b[3;33m \u001b[0m\u001b[3;33m       \u001b[0m\u001b[3;33mDownloading: CsE-hP1vLpI\u001b[0m\n"
      ]
     },
     "metadata": {},
     "output_type": "display_data"
    },
    {
     "data": {
      "text/html": [
       "<pre style=\"white-space:pre;overflow-x:auto;line-height:normal;font-family:Menlo,'DejaVu Sans Mono',consolas,'Courier New',monospace\"><span style=\"color: #00ff00; text-decoration-color: #00ff00; font-style: italic\">        Saved!</span>\n",
       "</pre>\n"
      ],
      "text/plain": [
       "\u001b[3;92m \u001b[0m\u001b[3;92m       \u001b[0m\u001b[3;92mSaved!\u001b[0m\n"
      ]
     },
     "metadata": {},
     "output_type": "display_data"
    },
    {
     "name": "stderr",
     "output_type": "stream",
     "text": [
      " 98%|█████████▊| 197/200 [05:06<01:12, 24.32s/it]"
     ]
    },
    {
     "data": {
      "text/html": [
       "<pre style=\"white-space:pre;overflow-x:auto;line-height:normal;font-family:Menlo,'DejaVu Sans Mono',consolas,'Courier New',monospace\">Getting Account Information: <span style=\"color: #008080; text-decoration-color: #008080\">sosmedmakassar</span>\n",
       "</pre>\n"
      ],
      "text/plain": [
       "Getting Account Information: \u001b[36msosmedmakassar\u001b[0m\n"
      ]
     },
     "metadata": {},
     "output_type": "display_data"
    },
    {
     "data": {
      "text/html": [
       "<pre style=\"white-space:pre;overflow-x:auto;line-height:normal;font-family:Menlo,'DejaVu Sans Mono',consolas,'Courier New',monospace\"><span style=\"color: #808000; text-decoration-color: #808000; font-style: italic\">        Downloading: CsGPij5yML-</span>\n",
       "</pre>\n"
      ],
      "text/plain": [
       "\u001b[3;33m \u001b[0m\u001b[3;33m       \u001b[0m\u001b[3;33mDownloading: CsGPij5yML-\u001b[0m\n"
      ]
     },
     "metadata": {},
     "output_type": "display_data"
    },
    {
     "data": {
      "text/html": [
       "<pre style=\"white-space:pre;overflow-x:auto;line-height:normal;font-family:Menlo,'DejaVu Sans Mono',consolas,'Courier New',monospace\"><span style=\"color: #00ff00; text-decoration-color: #00ff00; font-style: italic\">        Saved!</span>\n",
       "</pre>\n"
      ],
      "text/plain": [
       "\u001b[3;92m \u001b[0m\u001b[3;92m       \u001b[0m\u001b[3;92mSaved!\u001b[0m\n"
      ]
     },
     "metadata": {},
     "output_type": "display_data"
    },
    {
     "data": {
      "text/html": [
       "<pre style=\"white-space:pre;overflow-x:auto;line-height:normal;font-family:Menlo,'DejaVu Sans Mono',consolas,'Courier New',monospace\"><span style=\"color: #808000; text-decoration-color: #808000; font-style: italic\">        Downloading: CsF9qgNyW6G</span>\n",
       "</pre>\n"
      ],
      "text/plain": [
       "\u001b[3;33m \u001b[0m\u001b[3;33m       \u001b[0m\u001b[3;33mDownloading: CsF9qgNyW6G\u001b[0m\n"
      ]
     },
     "metadata": {},
     "output_type": "display_data"
    },
    {
     "data": {
      "text/html": [
       "<pre style=\"white-space:pre;overflow-x:auto;line-height:normal;font-family:Menlo,'DejaVu Sans Mono',consolas,'Courier New',monospace\"><span style=\"color: #00ff00; text-decoration-color: #00ff00; font-style: italic\">        Saved!</span>\n",
       "</pre>\n"
      ],
      "text/plain": [
       "\u001b[3;92m \u001b[0m\u001b[3;92m       \u001b[0m\u001b[3;92mSaved!\u001b[0m\n"
      ]
     },
     "metadata": {},
     "output_type": "display_data"
    },
    {
     "data": {
      "text/html": [
       "<pre style=\"white-space:pre;overflow-x:auto;line-height:normal;font-family:Menlo,'DejaVu Sans Mono',consolas,'Courier New',monospace\"><span style=\"color: #808000; text-decoration-color: #808000; font-style: italic\">        Downloading: CsFw3MOyabN</span>\n",
       "</pre>\n"
      ],
      "text/plain": [
       "\u001b[3;33m \u001b[0m\u001b[3;33m       \u001b[0m\u001b[3;33mDownloading: CsFw3MOyabN\u001b[0m\n"
      ]
     },
     "metadata": {},
     "output_type": "display_data"
    },
    {
     "data": {
      "text/html": [
       "<pre style=\"white-space:pre;overflow-x:auto;line-height:normal;font-family:Menlo,'DejaVu Sans Mono',consolas,'Courier New',monospace\"><span style=\"color: #00ff00; text-decoration-color: #00ff00; font-style: italic\">        Saved!</span>\n",
       "</pre>\n"
      ],
      "text/plain": [
       "\u001b[3;92m \u001b[0m\u001b[3;92m       \u001b[0m\u001b[3;92mSaved!\u001b[0m\n"
      ]
     },
     "metadata": {},
     "output_type": "display_data"
    },
    {
     "data": {
      "text/html": [
       "<pre style=\"white-space:pre;overflow-x:auto;line-height:normal;font-family:Menlo,'DejaVu Sans Mono',consolas,'Courier New',monospace\"><span style=\"color: #808000; text-decoration-color: #808000; font-style: italic\">        Downloading: CsFfOfly3Fc</span>\n",
       "</pre>\n"
      ],
      "text/plain": [
       "\u001b[3;33m \u001b[0m\u001b[3;33m       \u001b[0m\u001b[3;33mDownloading: CsFfOfly3Fc\u001b[0m\n"
      ]
     },
     "metadata": {},
     "output_type": "display_data"
    },
    {
     "data": {
      "text/html": [
       "<pre style=\"white-space:pre;overflow-x:auto;line-height:normal;font-family:Menlo,'DejaVu Sans Mono',consolas,'Courier New',monospace\"><span style=\"color: #00ff00; text-decoration-color: #00ff00; font-style: italic\">        Saved!</span>\n",
       "</pre>\n"
      ],
      "text/plain": [
       "\u001b[3;92m \u001b[0m\u001b[3;92m       \u001b[0m\u001b[3;92mSaved!\u001b[0m\n"
      ]
     },
     "metadata": {},
     "output_type": "display_data"
    },
    {
     "data": {
      "text/html": [
       "<pre style=\"white-space:pre;overflow-x:auto;line-height:normal;font-family:Menlo,'DejaVu Sans Mono',consolas,'Courier New',monospace\"><span style=\"color: #808000; text-decoration-color: #808000; font-style: italic\">        Downloading: CsECTQaydZH</span>\n",
       "</pre>\n"
      ],
      "text/plain": [
       "\u001b[3;33m \u001b[0m\u001b[3;33m       \u001b[0m\u001b[3;33mDownloading: CsECTQaydZH\u001b[0m\n"
      ]
     },
     "metadata": {},
     "output_type": "display_data"
    },
    {
     "data": {
      "text/html": [
       "<pre style=\"white-space:pre;overflow-x:auto;line-height:normal;font-family:Menlo,'DejaVu Sans Mono',consolas,'Courier New',monospace\"><span style=\"color: #00ff00; text-decoration-color: #00ff00; font-style: italic\">        Saved!</span>\n",
       "</pre>\n"
      ],
      "text/plain": [
       "\u001b[3;92m \u001b[0m\u001b[3;92m       \u001b[0m\u001b[3;92mSaved!\u001b[0m\n"
      ]
     },
     "metadata": {},
     "output_type": "display_data"
    },
    {
     "data": {
      "text/html": [
       "<pre style=\"white-space:pre;overflow-x:auto;line-height:normal;font-family:Menlo,'DejaVu Sans Mono',consolas,'Courier New',monospace\"><span style=\"color: #808000; text-decoration-color: #808000; font-style: italic\">        Downloading: CsD6IJ1SQr2</span>\n",
       "</pre>\n"
      ],
      "text/plain": [
       "\u001b[3;33m \u001b[0m\u001b[3;33m       \u001b[0m\u001b[3;33mDownloading: CsD6IJ1SQr2\u001b[0m\n"
      ]
     },
     "metadata": {},
     "output_type": "display_data"
    },
    {
     "data": {
      "text/html": [
       "<pre style=\"white-space:pre;overflow-x:auto;line-height:normal;font-family:Menlo,'DejaVu Sans Mono',consolas,'Courier New',monospace\"><span style=\"color: #00ff00; text-decoration-color: #00ff00; font-style: italic\">        Saved!</span>\n",
       "</pre>\n"
      ],
      "text/plain": [
       "\u001b[3;92m \u001b[0m\u001b[3;92m       \u001b[0m\u001b[3;92mSaved!\u001b[0m\n"
      ]
     },
     "metadata": {},
     "output_type": "display_data"
    },
    {
     "data": {
      "text/html": [
       "<pre style=\"white-space:pre;overflow-x:auto;line-height:normal;font-family:Menlo,'DejaVu Sans Mono',consolas,'Courier New',monospace\"><span style=\"color: #808000; text-decoration-color: #808000; font-style: italic\">        Downloading: CsD0uAhSw90</span>\n",
       "</pre>\n"
      ],
      "text/plain": [
       "\u001b[3;33m \u001b[0m\u001b[3;33m       \u001b[0m\u001b[3;33mDownloading: CsD0uAhSw90\u001b[0m\n"
      ]
     },
     "metadata": {},
     "output_type": "display_data"
    },
    {
     "data": {
      "text/html": [
       "<pre style=\"white-space:pre;overflow-x:auto;line-height:normal;font-family:Menlo,'DejaVu Sans Mono',consolas,'Courier New',monospace\"><span style=\"color: #00ff00; text-decoration-color: #00ff00; font-style: italic\">        Saved!</span>\n",
       "</pre>\n"
      ],
      "text/plain": [
       "\u001b[3;92m \u001b[0m\u001b[3;92m       \u001b[0m\u001b[3;92mSaved!\u001b[0m\n"
      ]
     },
     "metadata": {},
     "output_type": "display_data"
    },
    {
     "data": {
      "text/html": [
       "<pre style=\"white-space:pre;overflow-x:auto;line-height:normal;font-family:Menlo,'DejaVu Sans Mono',consolas,'Courier New',monospace\"><span style=\"color: #808000; text-decoration-color: #808000; font-style: italic\">        Downloading: CsDmIAgy1Kg</span>\n",
       "</pre>\n"
      ],
      "text/plain": [
       "\u001b[3;33m \u001b[0m\u001b[3;33m       \u001b[0m\u001b[3;33mDownloading: CsDmIAgy1Kg\u001b[0m\n"
      ]
     },
     "metadata": {},
     "output_type": "display_data"
    },
    {
     "data": {
      "text/html": [
       "<pre style=\"white-space:pre;overflow-x:auto;line-height:normal;font-family:Menlo,'DejaVu Sans Mono',consolas,'Courier New',monospace\"><span style=\"color: #00ff00; text-decoration-color: #00ff00; font-style: italic\">        Saved!</span>\n",
       "</pre>\n"
      ],
      "text/plain": [
       "\u001b[3;92m \u001b[0m\u001b[3;92m       \u001b[0m\u001b[3;92mSaved!\u001b[0m\n"
      ]
     },
     "metadata": {},
     "output_type": "display_data"
    },
    {
     "data": {
      "text/html": [
       "<pre style=\"white-space:pre;overflow-x:auto;line-height:normal;font-family:Menlo,'DejaVu Sans Mono',consolas,'Courier New',monospace\"><span style=\"color: #808000; text-decoration-color: #808000; font-style: italic\">        Downloading: CsDM0F-SjPm</span>\n",
       "</pre>\n"
      ],
      "text/plain": [
       "\u001b[3;33m \u001b[0m\u001b[3;33m       \u001b[0m\u001b[3;33mDownloading: CsDM0F-SjPm\u001b[0m\n"
      ]
     },
     "metadata": {},
     "output_type": "display_data"
    },
    {
     "data": {
      "text/html": [
       "<pre style=\"white-space:pre;overflow-x:auto;line-height:normal;font-family:Menlo,'DejaVu Sans Mono',consolas,'Courier New',monospace\"><span style=\"color: #00ff00; text-decoration-color: #00ff00; font-style: italic\">        Saved!</span>\n",
       "</pre>\n"
      ],
      "text/plain": [
       "\u001b[3;92m \u001b[0m\u001b[3;92m       \u001b[0m\u001b[3;92mSaved!\u001b[0m\n"
      ]
     },
     "metadata": {},
     "output_type": "display_data"
    },
    {
     "data": {
      "text/html": [
       "<pre style=\"white-space:pre;overflow-x:auto;line-height:normal;font-family:Menlo,'DejaVu Sans Mono',consolas,'Courier New',monospace\"><span style=\"color: #808000; text-decoration-color: #808000; font-style: italic\">        Downloading: CsDHSEBS4v7</span>\n",
       "</pre>\n"
      ],
      "text/plain": [
       "\u001b[3;33m \u001b[0m\u001b[3;33m       \u001b[0m\u001b[3;33mDownloading: CsDHSEBS4v7\u001b[0m\n"
      ]
     },
     "metadata": {},
     "output_type": "display_data"
    },
    {
     "data": {
      "text/html": [
       "<pre style=\"white-space:pre;overflow-x:auto;line-height:normal;font-family:Menlo,'DejaVu Sans Mono',consolas,'Courier New',monospace\"><span style=\"color: #00ff00; text-decoration-color: #00ff00; font-style: italic\">        Saved!</span>\n",
       "</pre>\n"
      ],
      "text/plain": [
       "\u001b[3;92m \u001b[0m\u001b[3;92m       \u001b[0m\u001b[3;92mSaved!\u001b[0m\n"
      ]
     },
     "metadata": {},
     "output_type": "display_data"
    },
    {
     "name": "stderr",
     "output_type": "stream",
     "text": [
      " 99%|█████████▉| 198/200 [05:36<00:51, 25.82s/it]"
     ]
    },
    {
     "data": {
      "text/html": [
       "<pre style=\"white-space:pre;overflow-x:auto;line-height:normal;font-family:Menlo,'DejaVu Sans Mono',consolas,'Courier New',monospace\">Getting Account Information: <span style=\"color: #008080; text-decoration-color: #008080\">indonesiabertauhidofficial</span>\n",
       "</pre>\n"
      ],
      "text/plain": [
       "Getting Account Information: \u001b[36mindonesiabertauhidofficial\u001b[0m\n"
      ]
     },
     "metadata": {},
     "output_type": "display_data"
    },
    {
     "data": {
      "text/html": [
       "<pre style=\"white-space:pre;overflow-x:auto;line-height:normal;font-family:Menlo,'DejaVu Sans Mono',consolas,'Courier New',monospace\"><span style=\"color: #800000; text-decoration-color: #800000; font-weight: bold\">        Image already exists, Skipping</span><span style=\"color: #808000; text-decoration-color: #808000; font-weight: bold\">...</span>\n",
       "</pre>\n"
      ],
      "text/plain": [
       "\u001b[1;31m \u001b[0m\u001b[1;31m       \u001b[0m\u001b[1;31mImage already exists, Skipping\u001b[0m\u001b[1;33m...\u001b[0m\n"
      ]
     },
     "metadata": {},
     "output_type": "display_data"
    },
    {
     "data": {
      "text/html": [
       "<pre style=\"white-space:pre;overflow-x:auto;line-height:normal;font-family:Menlo,'DejaVu Sans Mono',consolas,'Courier New',monospace\"><span style=\"color: #808000; text-decoration-color: #808000; font-style: italic\">        Downloading: CsGqOQ-PlIa</span>\n",
       "</pre>\n"
      ],
      "text/plain": [
       "\u001b[3;33m \u001b[0m\u001b[3;33m       \u001b[0m\u001b[3;33mDownloading: CsGqOQ-PlIa\u001b[0m\n"
      ]
     },
     "metadata": {},
     "output_type": "display_data"
    },
    {
     "data": {
      "text/html": [
       "<pre style=\"white-space:pre;overflow-x:auto;line-height:normal;font-family:Menlo,'DejaVu Sans Mono',consolas,'Courier New',monospace\"><span style=\"color: #00ff00; text-decoration-color: #00ff00; font-style: italic\">        Saved!</span>\n",
       "</pre>\n"
      ],
      "text/plain": [
       "\u001b[3;92m \u001b[0m\u001b[3;92m       \u001b[0m\u001b[3;92mSaved!\u001b[0m\n"
      ]
     },
     "metadata": {},
     "output_type": "display_data"
    },
    {
     "data": {
      "text/html": [
       "<pre style=\"white-space:pre;overflow-x:auto;line-height:normal;font-family:Menlo,'DejaVu Sans Mono',consolas,'Courier New',monospace\"><span style=\"color: #808000; text-decoration-color: #808000; font-style: italic\">        Downloading: CsGpoaVPZhD</span>\n",
       "</pre>\n"
      ],
      "text/plain": [
       "\u001b[3;33m \u001b[0m\u001b[3;33m       \u001b[0m\u001b[3;33mDownloading: CsGpoaVPZhD\u001b[0m\n"
      ]
     },
     "metadata": {},
     "output_type": "display_data"
    },
    {
     "data": {
      "text/html": [
       "<pre style=\"white-space:pre;overflow-x:auto;line-height:normal;font-family:Menlo,'DejaVu Sans Mono',consolas,'Courier New',monospace\"><span style=\"color: #00ff00; text-decoration-color: #00ff00; font-style: italic\">        Saved!</span>\n",
       "</pre>\n"
      ],
      "text/plain": [
       "\u001b[3;92m \u001b[0m\u001b[3;92m       \u001b[0m\u001b[3;92mSaved!\u001b[0m\n"
      ]
     },
     "metadata": {},
     "output_type": "display_data"
    },
    {
     "data": {
      "text/html": [
       "<pre style=\"white-space:pre;overflow-x:auto;line-height:normal;font-family:Menlo,'DejaVu Sans Mono',consolas,'Courier New',monospace\"><span style=\"color: #808000; text-decoration-color: #808000; font-style: italic\">        Downloading: CsDkDdpvrOL</span>\n",
       "</pre>\n"
      ],
      "text/plain": [
       "\u001b[3;33m \u001b[0m\u001b[3;33m       \u001b[0m\u001b[3;33mDownloading: CsDkDdpvrOL\u001b[0m\n"
      ]
     },
     "metadata": {},
     "output_type": "display_data"
    },
    {
     "data": {
      "text/html": [
       "<pre style=\"white-space:pre;overflow-x:auto;line-height:normal;font-family:Menlo,'DejaVu Sans Mono',consolas,'Courier New',monospace\"><span style=\"color: #00ff00; text-decoration-color: #00ff00; font-style: italic\">        Saved!</span>\n",
       "</pre>\n"
      ],
      "text/plain": [
       "\u001b[3;92m \u001b[0m\u001b[3;92m       \u001b[0m\u001b[3;92mSaved!\u001b[0m\n"
      ]
     },
     "metadata": {},
     "output_type": "display_data"
    },
    {
     "data": {
      "text/html": [
       "<pre style=\"white-space:pre;overflow-x:auto;line-height:normal;font-family:Menlo,'DejaVu Sans Mono',consolas,'Courier New',monospace\"><span style=\"color: #808000; text-decoration-color: #808000; font-style: italic\">        Downloading: CsAyu2Tv9cB</span>\n",
       "</pre>\n"
      ],
      "text/plain": [
       "\u001b[3;33m \u001b[0m\u001b[3;33m       \u001b[0m\u001b[3;33mDownloading: CsAyu2Tv9cB\u001b[0m\n"
      ]
     },
     "metadata": {},
     "output_type": "display_data"
    },
    {
     "data": {
      "text/html": [
       "<pre style=\"white-space:pre;overflow-x:auto;line-height:normal;font-family:Menlo,'DejaVu Sans Mono',consolas,'Courier New',monospace\"><span style=\"color: #00ff00; text-decoration-color: #00ff00; font-style: italic\">        Saved!</span>\n",
       "</pre>\n"
      ],
      "text/plain": [
       "\u001b[3;92m \u001b[0m\u001b[3;92m       \u001b[0m\u001b[3;92mSaved!\u001b[0m\n"
      ]
     },
     "metadata": {},
     "output_type": "display_data"
    },
    {
     "data": {
      "text/html": [
       "<pre style=\"white-space:pre;overflow-x:auto;line-height:normal;font-family:Menlo,'DejaVu Sans Mono',consolas,'Courier New',monospace\"><span style=\"color: #808000; text-decoration-color: #808000; font-style: italic\">        Downloading: Cr97NRqvv-P</span>\n",
       "</pre>\n"
      ],
      "text/plain": [
       "\u001b[3;33m \u001b[0m\u001b[3;33m       \u001b[0m\u001b[3;33mDownloading: Cr97NRqvv-P\u001b[0m\n"
      ]
     },
     "metadata": {},
     "output_type": "display_data"
    },
    {
     "data": {
      "text/html": [
       "<pre style=\"white-space:pre;overflow-x:auto;line-height:normal;font-family:Menlo,'DejaVu Sans Mono',consolas,'Courier New',monospace\"><span style=\"color: #00ff00; text-decoration-color: #00ff00; font-style: italic\">        Saved!</span>\n",
       "</pre>\n"
      ],
      "text/plain": [
       "\u001b[3;92m \u001b[0m\u001b[3;92m       \u001b[0m\u001b[3;92mSaved!\u001b[0m\n"
      ]
     },
     "metadata": {},
     "output_type": "display_data"
    },
    {
     "data": {
      "text/html": [
       "<pre style=\"white-space:pre;overflow-x:auto;line-height:normal;font-family:Menlo,'DejaVu Sans Mono',consolas,'Courier New',monospace\"><span style=\"color: #808000; text-decoration-color: #808000; font-style: italic\">        Downloading: Cr5oaqAveJZ</span>\n",
       "</pre>\n"
      ],
      "text/plain": [
       "\u001b[3;33m \u001b[0m\u001b[3;33m       \u001b[0m\u001b[3;33mDownloading: Cr5oaqAveJZ\u001b[0m\n"
      ]
     },
     "metadata": {},
     "output_type": "display_data"
    },
    {
     "data": {
      "text/html": [
       "<pre style=\"white-space:pre;overflow-x:auto;line-height:normal;font-family:Menlo,'DejaVu Sans Mono',consolas,'Courier New',monospace\"><span style=\"color: #00ff00; text-decoration-color: #00ff00; font-style: italic\">        Saved!</span>\n",
       "</pre>\n"
      ],
      "text/plain": [
       "\u001b[3;92m \u001b[0m\u001b[3;92m       \u001b[0m\u001b[3;92mSaved!\u001b[0m\n"
      ]
     },
     "metadata": {},
     "output_type": "display_data"
    },
    {
     "name": "stderr",
     "output_type": "stream",
     "text": [
      "100%|█████████▉| 199/200 [06:02<00:25, 25.99s/it]"
     ]
    },
    {
     "data": {
      "text/html": [
       "<pre style=\"white-space:pre;overflow-x:auto;line-height:normal;font-family:Menlo,'DejaVu Sans Mono',consolas,'Courier New',monospace\">Getting Account Information: <span style=\"color: #008080; text-decoration-color: #008080\">eddiempr</span>\n",
       "</pre>\n"
      ],
      "text/plain": [
       "Getting Account Information: \u001b[36meddiempr\u001b[0m\n"
      ]
     },
     "metadata": {},
     "output_type": "display_data"
    },
    {
     "data": {
      "text/html": [
       "<pre style=\"white-space:pre;overflow-x:auto;line-height:normal;font-family:Menlo,'DejaVu Sans Mono',consolas,'Courier New',monospace\"><span style=\"color: #800000; text-decoration-color: #800000; font-weight: bold\">        Response is empty for eddiempr skipping</span><span style=\"color: #808000; text-decoration-color: #808000; font-weight: bold\">...</span>\n",
       "</pre>\n"
      ],
      "text/plain": [
       "\u001b[1;31m \u001b[0m\u001b[1;31m       \u001b[0m\u001b[1;31mResponse is empty for eddiempr skipping\u001b[0m\u001b[1;33m...\u001b[0m\n"
      ]
     },
     "metadata": {},
     "output_type": "display_data"
    },
    {
     "name": "stderr",
     "output_type": "stream",
     "text": [
      "100%|██████████| 200/200 [06:05<00:00,  1.83s/it]\n"
     ]
    }
   ],
   "source": [
    "try:\n",
    "    main_df = pd.read_csv('Data/main v2.0.csv')\n",
    "    main_df.drop(columns=['Unnamed: 0'], inplace=True)\n",
    "except:\n",
    "    main_df = pd.DataFrame(columns=['id', 'username', 'shortcode', 'post_type', 'like', 'comment', 'object', 'category_name', 'follower', 'following', 'ar_effect', 'type_business', 'type_professional', 'verified', 'reel_count', 'reel_avg_view', 'reel_avg_comment', 'reel_avg_like', 'reel_avg_duration', 'reel_frequency', 'media_count', 'media_avg_comment', 'media_avg_like', 'media_frequency'])\n",
    "\n",
    "\n",
    "for username in tqdm(top_100_followers + top_100_posts):\n",
    "    console.print(f'Getting Account Information: [cyan]{username}[/]',)\n",
    "    if main_df['username'].str.contains(f'{username}').any():\n",
    "        console.print('\\tUser information already exist, skipping...', style='error')\n",
    "        continue\n",
    "\n",
    "    # loading account information\n",
    "    session = {\n",
    "            \"csrf_token\": csrf_token,\n",
    "            \"session_id\": session_id\n",
    "        }\n",
    "\n",
    "    headers = {\n",
    "            \"x-csrftoken\": session['csrf_token'],\n",
    "            'user-agent': 'Mozilla/5.0 (Windows NT 10.0; Win64; x64) AppleWebKit/537.36 (KHTML, like Gecko) Chrome/84.0.4147.89 Safari/537.36',\n",
    "            \"X-Requested-With\": \"XMLHttpRequest\",\n",
    "            \"Referer\": \"https://www.instagram.com/accounts/login/\",\n",
    "            'Accept': '*/*',\n",
    "            'Accept-Language': 'en-US,en;q=0.5',\n",
    "            'X-Instagram-AJAX': 'c6412f1b1b7b',\n",
    "            'X-IG-App-ID': '936619743392459',\n",
    "            'X-ASBD-ID': '198387',\n",
    "            'X-IG-WWW-Claim': '0',\n",
    "            'X-Requested-With': 'XMLHttpRequest',\n",
    "            'Origin': 'https://www.instagram.com',\n",
    "            'DNT': '1',\n",
    "            'Connection': 'keep-alive',\n",
    "            'Referer': 'https://www.instagram.com/accounts/login/?',\n",
    "            'Sec-Fetch-Dest': 'empty',\n",
    "            'Sec-Fetch-Mode': 'cors',\n",
    "            'Sec-Fetch-Site': 'same-origin',\n",
    "            'Accept': 'text/html,application/xhtml+xml,application/xml;q=0.9,image/avif,image/webp,*/*;q=0.8',\n",
    "            'Accept-Language': 'en-US,en;q=0.5',\n",
    "            'Accept-Encoding': 'gzip, deflate, br',\n",
    "            'Connection': 'keep-alive',\n",
    "            'Upgrade-Insecure-Requests': '1',\n",
    "            'Sec-Fetch-Dest': 'document',\n",
    "            'Sec-Fetch-Mode': 'navigate',\n",
    "            'Sec-Fetch-Site': 'none',\n",
    "            'Sec-Fetch-User': '?1',\n",
    "            'TE': 'trailers'\n",
    "        }\n",
    "\n",
    "    cookies = {\n",
    "            \"sessionid\": session['session_id'],\n",
    "            \"csrftoken\": session['csrf_token']\n",
    "        }\n",
    "    url = f'https://www.instagram.com/{username}/?__a=1&__d=dis'\n",
    "    res = requests.get(url, headers=headers, cookies=cookies)\n",
    "    # add error handling here based on response codes, reference -> InstagramBot.py\n",
    "\n",
    "    try:\n",
    "        data = res.json()\n",
    "    except:\n",
    "        console.print('Something went wrong. Skipping...', style='error')\n",
    "    if not data:\n",
    "        console.print(f'\\tResponse is empty for {username} skipping...', style='error')\n",
    "        continue\n",
    "    followers = data['graphql']['user']['edge_followed_by']['count']\n",
    "    following = data['graphql']['user']['edge_follow']['count']\n",
    "    ar_effect = data['graphql']['user']['has_ar_effects']\n",
    "    id = data['graphql']['user']['id']\n",
    "    type_business = data['graphql']['user']['is_business_account']\n",
    "    type_professional = data['graphql']['user']['is_professional_account']\n",
    "    category = data['graphql']['user']['category_name']\n",
    "    verified = data['graphql']['user']['is_verified']\n",
    "    reel_count = data['graphql']['user']['edge_felix_video_timeline']['count']\n",
    "    media_count = data['graphql']['user']['edge_owner_to_timeline_media']['count']\n",
    "    username = data['graphql']['user']['username']\n",
    "    media = data['graphql']['user']['edge_owner_to_timeline_media']['edges']\n",
    "\n",
    "    reel_view_list = []\n",
    "    reel_like_list = []\n",
    "    reel_comment_list = []\n",
    "    reel_duration_list = []\n",
    "    reel_timestamp_list = []\n",
    "\n",
    "    media_like_list = []\n",
    "    media_comment_list = []\n",
    "    media_timestamp_list = []\n",
    "\n",
    "    for video in data['graphql']['user']['edge_felix_video_timeline']['edges']:\n",
    "        reel_view_list.append(video['node']['video_view_count'])\n",
    "        reel_comment_list.append(video['node']['edge_media_to_comment']['count'])\n",
    "        reel_timestamp_list.append(video['node']['taken_at_timestamp'])\n",
    "        reel_like_list.append(video['node']['edge_liked_by']['count'])\n",
    "        reel_duration_list.append(video['node']['video_duration'])\n",
    "    \n",
    "    # sometimes instagram result for video duration is None, this is sanity check\n",
    "    reel_duration_list = [0 if duration is None else duration for duration in reel_duration_list]\n",
    "\n",
    "    for medium in media:\n",
    "        media_like_list.append(medium['node']['edge_liked_by']['count'])\n",
    "        media_comment_list.append(medium['node']['edge_media_to_comment']['count'])\n",
    "        media_timestamp_list.append(medium['node']['taken_at_timestamp'])\n",
    "    \n",
    "    reel_utc_list = [datetime.utcfromtimestamp(ts) for ts in reel_timestamp_list]\n",
    "    media_utc_list = [datetime.utcfromtimestamp(ts) for ts in media_timestamp_list]\n",
    "\n",
    "    reel_utc_difference_list = [reel_utc_list[i] - reel_utc_list[i+1] for i in range(len(reel_utc_list) - 1)]\n",
    "    media_utc_difference_list = [media_utc_list[i] - media_utc_list[i+1] for i in range(len(media_utc_list) - 1)]\n",
    "\n",
    "    if reel_count > 1:\n",
    "        reel_frequency = np.mean(reel_utc_difference_list).days + (np.mean(reel_utc_difference_list).seconds / 86_400) + (np.mean(reel_utc_difference_list).microseconds / 1_000_000 / 84_600)\n",
    "    else:\n",
    "        reel_frequency = 0\n",
    "    media_frequency = np.mean(media_utc_difference_list).days + (np.mean(media_utc_difference_list).seconds / 86_400) + (np.mean(media_utc_difference_list).microseconds / 1_000_000 / 84_600)\n",
    "\n",
    "    reel_view_mean = np.mean(reel_view_list)\n",
    "    reel_like_mean = np.mean(reel_like_list)\n",
    "    reel_comment_mean = np.mean(reel_comment_list)\n",
    "    reel_duration_mean = np.mean(reel_duration_list)\n",
    "\n",
    "    media_like_mean = np.mean(media_like_list)\n",
    "    media_comment_mean = np.mean(media_comment_list)\n",
    "\n",
    "    for medium in media:\n",
    "        shortcode = medium['node']['shortcode']\n",
    "        media_type = medium['node']['__typename']\n",
    "        media_display_url = medium['node']['display_url']\n",
    "        media_like = medium['node']['edge_liked_by']['count']\n",
    "        media_comment = medium['node']['edge_media_to_comment']['count']\n",
    "        \n",
    "        entry_lst = [id, username, shortcode, media_type, media_like, media_comment, None, category, followers, following, ar_effect, type_business, type_professional, verified, reel_count, reel_view_mean, reel_comment_mean, reel_like_mean, reel_duration_mean, reel_frequency, media_count, media_comment_mean, media_like_mean, media_frequency]\n",
    "        main_df.loc[len(main_df)] = entry_lst\n",
    "        main_df = main_df.astype({\n",
    "            'ar_effect': bool,\n",
    "            'type_business': bool,\n",
    "            'type_professional': bool,\n",
    "            'verified': bool,\n",
    "        })\n",
    "        if media_type == 'GraphImage' or media_type == 'GraphSidecar':\n",
    "            if path.isfile(f'Data/Images/{shortcode}.jpg'):\n",
    "                console.print('\\tImage already exists, Skipping...', style='error')\n",
    "                continue\n",
    "            console.print(f'\\tDownloading: {shortcode}', style='progress')\n",
    "            res = requests.get(media_display_url)\n",
    "            with open(f'Data/Images/{shortcode}.jpg', 'wb') as f:\n",
    "                f.write(res.content)\n",
    "            console.print('\\tSaved!', style='success')\n",
    "        main_df.to_csv('Data/main v2.0.csv')"
   ]
  },
  {
   "cell_type": "code",
   "execution_count": 11,
   "metadata": {},
   "outputs": [
    {
     "data": {
      "text/html": [
       "<div>\n",
       "<style scoped>\n",
       "    .dataframe tbody tr th:only-of-type {\n",
       "        vertical-align: middle;\n",
       "    }\n",
       "\n",
       "    .dataframe tbody tr th {\n",
       "        vertical-align: top;\n",
       "    }\n",
       "\n",
       "    .dataframe thead th {\n",
       "        text-align: right;\n",
       "    }\n",
       "</style>\n",
       "<table border=\"1\" class=\"dataframe\">\n",
       "  <thead>\n",
       "    <tr style=\"text-align: right;\">\n",
       "      <th></th>\n",
       "      <th>id</th>\n",
       "      <th>username</th>\n",
       "      <th>shortcode</th>\n",
       "      <th>post_type</th>\n",
       "      <th>like</th>\n",
       "      <th>comment</th>\n",
       "      <th>object</th>\n",
       "      <th>category_name</th>\n",
       "      <th>follower</th>\n",
       "      <th>following</th>\n",
       "      <th>...</th>\n",
       "      <th>reel_count</th>\n",
       "      <th>reel_avg_view</th>\n",
       "      <th>reel_avg_comment</th>\n",
       "      <th>reel_avg_like</th>\n",
       "      <th>reel_avg_duration</th>\n",
       "      <th>reel_frequency</th>\n",
       "      <th>media_count</th>\n",
       "      <th>media_avg_comment</th>\n",
       "      <th>media_avg_like</th>\n",
       "      <th>media_frequency</th>\n",
       "    </tr>\n",
       "  </thead>\n",
       "  <tbody>\n",
       "    <tr>\n",
       "      <th>0</th>\n",
       "      <td>25025320</td>\n",
       "      <td>instagram</td>\n",
       "      <td>Cr_OviBJPrw</td>\n",
       "      <td>GraphSidecar</td>\n",
       "      <td>282344</td>\n",
       "      <td>6691</td>\n",
       "      <td>NaN</td>\n",
       "      <td>Digital creator</td>\n",
       "      <td>632718714</td>\n",
       "      <td>59</td>\n",
       "      <td>...</td>\n",
       "      <td>1256</td>\n",
       "      <td>9409092.0</td>\n",
       "      <td>13528.916667</td>\n",
       "      <td>570225.416667</td>\n",
       "      <td>92.466333</td>\n",
       "      <td>18.554887</td>\n",
       "      <td>7404</td>\n",
       "      <td>8653.666667</td>\n",
       "      <td>449491.75</td>\n",
       "      <td>1.454414</td>\n",
       "    </tr>\n",
       "    <tr>\n",
       "      <th>1</th>\n",
       "      <td>25025320</td>\n",
       "      <td>instagram</td>\n",
       "      <td>Cr3hAoSNLVt</td>\n",
       "      <td>GraphVideo</td>\n",
       "      <td>1303777</td>\n",
       "      <td>17830</td>\n",
       "      <td>NaN</td>\n",
       "      <td>Digital creator</td>\n",
       "      <td>632718714</td>\n",
       "      <td>59</td>\n",
       "      <td>...</td>\n",
       "      <td>1256</td>\n",
       "      <td>9409092.0</td>\n",
       "      <td>13528.916667</td>\n",
       "      <td>570225.416667</td>\n",
       "      <td>92.466333</td>\n",
       "      <td>18.554887</td>\n",
       "      <td>7404</td>\n",
       "      <td>8653.666667</td>\n",
       "      <td>449491.75</td>\n",
       "      <td>1.454414</td>\n",
       "    </tr>\n",
       "    <tr>\n",
       "      <th>2</th>\n",
       "      <td>25025320</td>\n",
       "      <td>instagram</td>\n",
       "      <td>Cr08AgFLRPW</td>\n",
       "      <td>GraphSidecar</td>\n",
       "      <td>348204</td>\n",
       "      <td>6513</td>\n",
       "      <td>NaN</td>\n",
       "      <td>Digital creator</td>\n",
       "      <td>632718714</td>\n",
       "      <td>59</td>\n",
       "      <td>...</td>\n",
       "      <td>1256</td>\n",
       "      <td>9409092.0</td>\n",
       "      <td>13528.916667</td>\n",
       "      <td>570225.416667</td>\n",
       "      <td>92.466333</td>\n",
       "      <td>18.554887</td>\n",
       "      <td>7404</td>\n",
       "      <td>8653.666667</td>\n",
       "      <td>449491.75</td>\n",
       "      <td>1.454414</td>\n",
       "    </tr>\n",
       "    <tr>\n",
       "      <th>3</th>\n",
       "      <td>25025320</td>\n",
       "      <td>instagram</td>\n",
       "      <td>CryV45urd0B</td>\n",
       "      <td>GraphImage</td>\n",
       "      <td>267553</td>\n",
       "      <td>6693</td>\n",
       "      <td>NaN</td>\n",
       "      <td>Digital creator</td>\n",
       "      <td>632718714</td>\n",
       "      <td>59</td>\n",
       "      <td>...</td>\n",
       "      <td>1256</td>\n",
       "      <td>9409092.0</td>\n",
       "      <td>13528.916667</td>\n",
       "      <td>570225.416667</td>\n",
       "      <td>92.466333</td>\n",
       "      <td>18.554887</td>\n",
       "      <td>7404</td>\n",
       "      <td>8653.666667</td>\n",
       "      <td>449491.75</td>\n",
       "      <td>1.454414</td>\n",
       "    </tr>\n",
       "    <tr>\n",
       "      <th>4</th>\n",
       "      <td>25025320</td>\n",
       "      <td>instagram</td>\n",
       "      <td>CrvsWzwsC-D</td>\n",
       "      <td>GraphVideo</td>\n",
       "      <td>297803</td>\n",
       "      <td>6631</td>\n",
       "      <td>NaN</td>\n",
       "      <td>Digital creator</td>\n",
       "      <td>632718714</td>\n",
       "      <td>59</td>\n",
       "      <td>...</td>\n",
       "      <td>1256</td>\n",
       "      <td>9409092.0</td>\n",
       "      <td>13528.916667</td>\n",
       "      <td>570225.416667</td>\n",
       "      <td>92.466333</td>\n",
       "      <td>18.554887</td>\n",
       "      <td>7404</td>\n",
       "      <td>8653.666667</td>\n",
       "      <td>449491.75</td>\n",
       "      <td>1.454414</td>\n",
       "    </tr>\n",
       "    <tr>\n",
       "      <th>...</th>\n",
       "      <td>...</td>\n",
       "      <td>...</td>\n",
       "      <td>...</td>\n",
       "      <td>...</td>\n",
       "      <td>...</td>\n",
       "      <td>...</td>\n",
       "      <td>...</td>\n",
       "      <td>...</td>\n",
       "      <td>...</td>\n",
       "      <td>...</td>\n",
       "      <td>...</td>\n",
       "      <td>...</td>\n",
       "      <td>...</td>\n",
       "      <td>...</td>\n",
       "      <td>...</td>\n",
       "      <td>...</td>\n",
       "      <td>...</td>\n",
       "      <td>...</td>\n",
       "      <td>...</td>\n",
       "      <td>...</td>\n",
       "      <td>...</td>\n",
       "    </tr>\n",
       "    <tr>\n",
       "      <th>2308</th>\n",
       "      <td>1818816886</td>\n",
       "      <td>indonesiabertauhidofficial</td>\n",
       "      <td>CsAql1ltWaG</td>\n",
       "      <td>GraphVideo</td>\n",
       "      <td>1015</td>\n",
       "      <td>0</td>\n",
       "      <td>NaN</td>\n",
       "      <td>None</td>\n",
       "      <td>1552241</td>\n",
       "      <td>76</td>\n",
       "      <td>...</td>\n",
       "      <td>5757</td>\n",
       "      <td>11642.0</td>\n",
       "      <td>2.166667</td>\n",
       "      <td>895.583333</td>\n",
       "      <td>194.896583</td>\n",
       "      <td>19.361267</td>\n",
       "      <td>27861</td>\n",
       "      <td>2.416667</td>\n",
       "      <td>1279.00</td>\n",
       "      <td>-2.237711</td>\n",
       "    </tr>\n",
       "    <tr>\n",
       "      <th>2309</th>\n",
       "      <td>1818816886</td>\n",
       "      <td>indonesiabertauhidofficial</td>\n",
       "      <td>Cr97NRqvv-P</td>\n",
       "      <td>GraphImage</td>\n",
       "      <td>659</td>\n",
       "      <td>0</td>\n",
       "      <td>NaN</td>\n",
       "      <td>None</td>\n",
       "      <td>1552241</td>\n",
       "      <td>76</td>\n",
       "      <td>...</td>\n",
       "      <td>5757</td>\n",
       "      <td>11642.0</td>\n",
       "      <td>2.166667</td>\n",
       "      <td>895.583333</td>\n",
       "      <td>194.896583</td>\n",
       "      <td>19.361267</td>\n",
       "      <td>27861</td>\n",
       "      <td>2.416667</td>\n",
       "      <td>1279.00</td>\n",
       "      <td>-2.237711</td>\n",
       "    </tr>\n",
       "    <tr>\n",
       "      <th>2310</th>\n",
       "      <td>1818816886</td>\n",
       "      <td>indonesiabertauhidofficial</td>\n",
       "      <td>Cr53VzVuJmT</td>\n",
       "      <td>GraphVideo</td>\n",
       "      <td>542</td>\n",
       "      <td>1</td>\n",
       "      <td>NaN</td>\n",
       "      <td>None</td>\n",
       "      <td>1552241</td>\n",
       "      <td>76</td>\n",
       "      <td>...</td>\n",
       "      <td>5757</td>\n",
       "      <td>11642.0</td>\n",
       "      <td>2.166667</td>\n",
       "      <td>895.583333</td>\n",
       "      <td>194.896583</td>\n",
       "      <td>19.361267</td>\n",
       "      <td>27861</td>\n",
       "      <td>2.416667</td>\n",
       "      <td>1279.00</td>\n",
       "      <td>-2.237711</td>\n",
       "    </tr>\n",
       "    <tr>\n",
       "      <th>2311</th>\n",
       "      <td>1818816886</td>\n",
       "      <td>indonesiabertauhidofficial</td>\n",
       "      <td>Cr5oaqAveJZ</td>\n",
       "      <td>GraphImage</td>\n",
       "      <td>1989</td>\n",
       "      <td>4</td>\n",
       "      <td>NaN</td>\n",
       "      <td>None</td>\n",
       "      <td>1552241</td>\n",
       "      <td>76</td>\n",
       "      <td>...</td>\n",
       "      <td>5757</td>\n",
       "      <td>11642.0</td>\n",
       "      <td>2.166667</td>\n",
       "      <td>895.583333</td>\n",
       "      <td>194.896583</td>\n",
       "      <td>19.361267</td>\n",
       "      <td>27861</td>\n",
       "      <td>2.416667</td>\n",
       "      <td>1279.00</td>\n",
       "      <td>-2.237711</td>\n",
       "    </tr>\n",
       "    <tr>\n",
       "      <th>2312</th>\n",
       "      <td>1818816886</td>\n",
       "      <td>indonesiabertauhidofficial</td>\n",
       "      <td>Cr41RaHvhpI</td>\n",
       "      <td>GraphVideo</td>\n",
       "      <td>1239</td>\n",
       "      <td>2</td>\n",
       "      <td>NaN</td>\n",
       "      <td>None</td>\n",
       "      <td>1552241</td>\n",
       "      <td>76</td>\n",
       "      <td>...</td>\n",
       "      <td>5757</td>\n",
       "      <td>11642.0</td>\n",
       "      <td>2.166667</td>\n",
       "      <td>895.583333</td>\n",
       "      <td>194.896583</td>\n",
       "      <td>19.361267</td>\n",
       "      <td>27861</td>\n",
       "      <td>2.416667</td>\n",
       "      <td>1279.00</td>\n",
       "      <td>-2.237711</td>\n",
       "    </tr>\n",
       "  </tbody>\n",
       "</table>\n",
       "<p>2313 rows × 24 columns</p>\n",
       "</div>"
      ],
      "text/plain": [
       "              id                    username    shortcode     post_type  \\\n",
       "0       25025320                   instagram  Cr_OviBJPrw  GraphSidecar   \n",
       "1       25025320                   instagram  Cr3hAoSNLVt    GraphVideo   \n",
       "2       25025320                   instagram  Cr08AgFLRPW  GraphSidecar   \n",
       "3       25025320                   instagram  CryV45urd0B    GraphImage   \n",
       "4       25025320                   instagram  CrvsWzwsC-D    GraphVideo   \n",
       "...          ...                         ...          ...           ...   \n",
       "2308  1818816886  indonesiabertauhidofficial  CsAql1ltWaG    GraphVideo   \n",
       "2309  1818816886  indonesiabertauhidofficial  Cr97NRqvv-P    GraphImage   \n",
       "2310  1818816886  indonesiabertauhidofficial  Cr53VzVuJmT    GraphVideo   \n",
       "2311  1818816886  indonesiabertauhidofficial  Cr5oaqAveJZ    GraphImage   \n",
       "2312  1818816886  indonesiabertauhidofficial  Cr41RaHvhpI    GraphVideo   \n",
       "\n",
       "         like  comment object    category_name   follower  following  ...  \\\n",
       "0      282344     6691    NaN  Digital creator  632718714         59  ...   \n",
       "1     1303777    17830    NaN  Digital creator  632718714         59  ...   \n",
       "2      348204     6513    NaN  Digital creator  632718714         59  ...   \n",
       "3      267553     6693    NaN  Digital creator  632718714         59  ...   \n",
       "4      297803     6631    NaN  Digital creator  632718714         59  ...   \n",
       "...       ...      ...    ...              ...        ...        ...  ...   \n",
       "2308     1015        0    NaN             None    1552241         76  ...   \n",
       "2309      659        0    NaN             None    1552241         76  ...   \n",
       "2310      542        1    NaN             None    1552241         76  ...   \n",
       "2311     1989        4    NaN             None    1552241         76  ...   \n",
       "2312     1239        2    NaN             None    1552241         76  ...   \n",
       "\n",
       "      reel_count  reel_avg_view  reel_avg_comment  reel_avg_like  \\\n",
       "0           1256      9409092.0      13528.916667  570225.416667   \n",
       "1           1256      9409092.0      13528.916667  570225.416667   \n",
       "2           1256      9409092.0      13528.916667  570225.416667   \n",
       "3           1256      9409092.0      13528.916667  570225.416667   \n",
       "4           1256      9409092.0      13528.916667  570225.416667   \n",
       "...          ...            ...               ...            ...   \n",
       "2308        5757        11642.0          2.166667     895.583333   \n",
       "2309        5757        11642.0          2.166667     895.583333   \n",
       "2310        5757        11642.0          2.166667     895.583333   \n",
       "2311        5757        11642.0          2.166667     895.583333   \n",
       "2312        5757        11642.0          2.166667     895.583333   \n",
       "\n",
       "      reel_avg_duration  reel_frequency  media_count  media_avg_comment  \\\n",
       "0             92.466333       18.554887         7404        8653.666667   \n",
       "1             92.466333       18.554887         7404        8653.666667   \n",
       "2             92.466333       18.554887         7404        8653.666667   \n",
       "3             92.466333       18.554887         7404        8653.666667   \n",
       "4             92.466333       18.554887         7404        8653.666667   \n",
       "...                 ...             ...          ...                ...   \n",
       "2308         194.896583       19.361267        27861           2.416667   \n",
       "2309         194.896583       19.361267        27861           2.416667   \n",
       "2310         194.896583       19.361267        27861           2.416667   \n",
       "2311         194.896583       19.361267        27861           2.416667   \n",
       "2312         194.896583       19.361267        27861           2.416667   \n",
       "\n",
       "      media_avg_like  media_frequency  \n",
       "0          449491.75         1.454414  \n",
       "1          449491.75         1.454414  \n",
       "2          449491.75         1.454414  \n",
       "3          449491.75         1.454414  \n",
       "4          449491.75         1.454414  \n",
       "...              ...              ...  \n",
       "2308         1279.00        -2.237711  \n",
       "2309         1279.00        -2.237711  \n",
       "2310         1279.00        -2.237711  \n",
       "2311         1279.00        -2.237711  \n",
       "2312         1279.00        -2.237711  \n",
       "\n",
       "[2313 rows x 24 columns]"
      ]
     },
     "execution_count": 11,
     "metadata": {},
     "output_type": "execute_result"
    }
   ],
   "source": [
    "main_df"
   ]
  },
  {
   "attachments": {},
   "cell_type": "markdown",
   "metadata": {},
   "source": [
    "Now with the image files, I need to prepare a neural network capable of outputting the vector of classified images. Since the data is not rich enough to train one from scratch, I have to use transfer learning and finetunning."
   ]
  },
  {
   "attachments": {},
   "cell_type": "markdown",
   "metadata": {},
   "source": [
    "Saving image addresses in list, and reading ImageNet Classes"
   ]
  },
  {
   "cell_type": "code",
   "execution_count": 55,
   "metadata": {},
   "outputs": [],
   "source": [
    "transform = transforms.Compose([\n",
    "    transforms.ToPILImage(),\n",
    "    transforms.Resize(256),\n",
    "    transforms.CenterCrop(224),\n",
    "    transforms.ToTensor(),\n",
    "    transforms.Normalize(mean=[.485, .456, .406],\n",
    "                         std=[.229, .224, .225])\n",
    "])\n",
    "image_directory = 'Data/Images'\n",
    "\n",
    "# reading ImageNet Classes\n",
    "with open('Data/ilsvrc2012_wordnet_lemmas.txt', 'r') as f:\n",
    "    categories = [s.strip() for s in f.readlines()]"
   ]
  },
  {
   "attachments": {},
   "cell_type": "markdown",
   "metadata": {},
   "source": [
    "Iterating all the images and classifying them."
   ]
  },
  {
   "cell_type": "code",
   "execution_count": 18,
   "metadata": {},
   "outputs": [
    {
     "name": "stderr",
     "output_type": "stream",
     "text": [
      "100%|██████████| 2191/2191 [14:45<00:00,  2.47it/s]\n"
     ]
    }
   ],
   "source": [
    "image_directory = 'Data/Images'\n",
    "\n",
    "try:\n",
    "    image_object_df = pd.read_csv('Data/images_object.csv')\n",
    "    image_object_df.drop(columns=['Unnamed: 0'], inplace=True)\n",
    "except:\n",
    "    image_object_df = pd.DataFrame(columns=['shortcode','object'])\n",
    "\n",
    "for image_filename in tqdm(listdir(image_directory)):\n",
    "    if image_object_df['shortcode'].str.contains(f'{image_filename.split(\".\")[0]}').any():\n",
    "        # picture already classified, skipping\n",
    "        continue\n",
    "    # loading image\n",
    "    image_address = f'{image_directory}/{image_filename}'\n",
    "    image = cv2.imread(image_address)\n",
    "    # preprocessing image to be suitable to feed to the network\n",
    "    rgb_image = cv2.cvtColor(image, cv2.COLOR_BGR2RGB)\n",
    "    input_tensor = transform(image)\n",
    "    input_batch = input_tensor.unsqueeze(0)\n",
    "    with torch.no_grad():\n",
    "        output = efficient_net(input_batch)\n",
    "    detected_object = torch.nn.functional.softmax(output[0], dim=0)\n",
    "    prob, cat = torch.topk(detected_object, 1)\n",
    "    image_object_df = image_object_df.append({\n",
    "        'shortcode': image_filename.split('.')[0],\n",
    "        'object': categories[cat[0]]\n",
    "    }, ignore_index=True)\n",
    "image_object_df.to_csv('Data/images_object.csv')"
   ]
  },
  {
   "attachments": {},
   "cell_type": "markdown",
   "metadata": {},
   "source": [
    "Now that we have populated images object, dataframe, we can add the records to the main dataset."
   ]
  },
  {
   "cell_type": "code",
   "execution_count": 24,
   "metadata": {},
   "outputs": [],
   "source": [
    "main_df = pd.merge(main_df, image_object_df, on='shortcode', how='outer')\n",
    "main_df.to_csv('Data/main v2.0.csv')"
   ]
  },
  {
   "attachments": {},
   "cell_type": "markdown",
   "metadata": {},
   "source": [
    "TODO:\n",
    "\n",
    "- some pictures in the main dataset dont have their other information present, check the issue and fix that. it might be from saving the datasets when we are getting account information."
   ]
  },
  {
   "attachments": {},
   "cell_type": "markdown",
   "metadata": {},
   "source": [
    "## Data Preparation\n",
    "\n",
    "In the next stage of the CRISP-DM methodology, we have to clean our data for the training phase. Please have in mind that since the insight generation is not part of the competition, we will not undergo an EDA analysis, but an EDA analysis is highly suggested at this stage for any kind of endeavor."
   ]
  },
  {
   "cell_type": "code",
   "execution_count": 25,
   "metadata": {},
   "outputs": [],
   "source": [
    "main_df = pd.read_csv('Data/main v2.0.csv')\n",
    "main_df.drop(columns=['Unnamed: 0'], inplace=True)"
   ]
  },
  {
   "cell_type": "code",
   "execution_count": 26,
   "metadata": {},
   "outputs": [
    {
     "data": {
      "text/html": [
       "<div>\n",
       "<style scoped>\n",
       "    .dataframe tbody tr th:only-of-type {\n",
       "        vertical-align: middle;\n",
       "    }\n",
       "\n",
       "    .dataframe tbody tr th {\n",
       "        vertical-align: top;\n",
       "    }\n",
       "\n",
       "    .dataframe thead th {\n",
       "        text-align: right;\n",
       "    }\n",
       "</style>\n",
       "<table border=\"1\" class=\"dataframe\">\n",
       "  <thead>\n",
       "    <tr style=\"text-align: right;\">\n",
       "      <th></th>\n",
       "      <th>id</th>\n",
       "      <th>username</th>\n",
       "      <th>shortcode</th>\n",
       "      <th>post_type</th>\n",
       "      <th>like</th>\n",
       "      <th>comment</th>\n",
       "      <th>category_name</th>\n",
       "      <th>follower</th>\n",
       "      <th>following</th>\n",
       "      <th>ar_effect</th>\n",
       "      <th>...</th>\n",
       "      <th>reel_avg_view</th>\n",
       "      <th>reel_avg_comment</th>\n",
       "      <th>reel_avg_like</th>\n",
       "      <th>reel_avg_duration</th>\n",
       "      <th>reel_frequency</th>\n",
       "      <th>media_count</th>\n",
       "      <th>media_avg_comment</th>\n",
       "      <th>media_avg_like</th>\n",
       "      <th>media_frequency</th>\n",
       "      <th>object</th>\n",
       "    </tr>\n",
       "  </thead>\n",
       "  <tbody>\n",
       "    <tr>\n",
       "      <th>0</th>\n",
       "      <td>25025320.0</td>\n",
       "      <td>instagram</td>\n",
       "      <td>Cr_OviBJPrw</td>\n",
       "      <td>GraphSidecar</td>\n",
       "      <td>282344.0</td>\n",
       "      <td>6691.0</td>\n",
       "      <td>Digital creator</td>\n",
       "      <td>632718714.0</td>\n",
       "      <td>59.0</td>\n",
       "      <td>True</td>\n",
       "      <td>...</td>\n",
       "      <td>9409092.0</td>\n",
       "      <td>13528.91667</td>\n",
       "      <td>570225.4167</td>\n",
       "      <td>92.466333</td>\n",
       "      <td>18.554887</td>\n",
       "      <td>7404.0</td>\n",
       "      <td>8653.666667</td>\n",
       "      <td>449491.75</td>\n",
       "      <td>1.454414</td>\n",
       "      <td>feather_boa, boa</td>\n",
       "    </tr>\n",
       "    <tr>\n",
       "      <th>1</th>\n",
       "      <td>25025320.0</td>\n",
       "      <td>instagram</td>\n",
       "      <td>Cr08AgFLRPW</td>\n",
       "      <td>GraphSidecar</td>\n",
       "      <td>348204.0</td>\n",
       "      <td>6513.0</td>\n",
       "      <td>Digital creator</td>\n",
       "      <td>632718714.0</td>\n",
       "      <td>59.0</td>\n",
       "      <td>True</td>\n",
       "      <td>...</td>\n",
       "      <td>9409092.0</td>\n",
       "      <td>13528.91667</td>\n",
       "      <td>570225.4167</td>\n",
       "      <td>92.466333</td>\n",
       "      <td>18.554887</td>\n",
       "      <td>7404.0</td>\n",
       "      <td>8653.666667</td>\n",
       "      <td>449491.75</td>\n",
       "      <td>1.454414</td>\n",
       "      <td>teddy, teddy_bear</td>\n",
       "    </tr>\n",
       "    <tr>\n",
       "      <th>2</th>\n",
       "      <td>25025320.0</td>\n",
       "      <td>instagram</td>\n",
       "      <td>CryV45urd0B</td>\n",
       "      <td>GraphImage</td>\n",
       "      <td>267553.0</td>\n",
       "      <td>6693.0</td>\n",
       "      <td>Digital creator</td>\n",
       "      <td>632718714.0</td>\n",
       "      <td>59.0</td>\n",
       "      <td>True</td>\n",
       "      <td>...</td>\n",
       "      <td>9409092.0</td>\n",
       "      <td>13528.91667</td>\n",
       "      <td>570225.4167</td>\n",
       "      <td>92.466333</td>\n",
       "      <td>18.554887</td>\n",
       "      <td>7404.0</td>\n",
       "      <td>8653.666667</td>\n",
       "      <td>449491.75</td>\n",
       "      <td>1.454414</td>\n",
       "      <td>wig</td>\n",
       "    </tr>\n",
       "    <tr>\n",
       "      <th>3</th>\n",
       "      <td>25025320.0</td>\n",
       "      <td>instagram</td>\n",
       "      <td>CruRdGGsMq6</td>\n",
       "      <td>GraphSidecar</td>\n",
       "      <td>590609.0</td>\n",
       "      <td>8893.0</td>\n",
       "      <td>Digital creator</td>\n",
       "      <td>632718714.0</td>\n",
       "      <td>59.0</td>\n",
       "      <td>True</td>\n",
       "      <td>...</td>\n",
       "      <td>9409092.0</td>\n",
       "      <td>13528.91667</td>\n",
       "      <td>570225.4167</td>\n",
       "      <td>92.466333</td>\n",
       "      <td>18.554887</td>\n",
       "      <td>7404.0</td>\n",
       "      <td>8653.666667</td>\n",
       "      <td>449491.75</td>\n",
       "      <td>1.454414</td>\n",
       "      <td>mask</td>\n",
       "    </tr>\n",
       "    <tr>\n",
       "      <th>4</th>\n",
       "      <td>25025320.0</td>\n",
       "      <td>instagram</td>\n",
       "      <td>CrgVBtHr3DP</td>\n",
       "      <td>GraphSidecar</td>\n",
       "      <td>395844.0</td>\n",
       "      <td>8636.0</td>\n",
       "      <td>Digital creator</td>\n",
       "      <td>632718714.0</td>\n",
       "      <td>59.0</td>\n",
       "      <td>True</td>\n",
       "      <td>...</td>\n",
       "      <td>9409092.0</td>\n",
       "      <td>13528.91667</td>\n",
       "      <td>570225.4167</td>\n",
       "      <td>92.466333</td>\n",
       "      <td>18.554887</td>\n",
       "      <td>7404.0</td>\n",
       "      <td>8653.666667</td>\n",
       "      <td>449491.75</td>\n",
       "      <td>1.454414</td>\n",
       "      <td>neck_brace</td>\n",
       "    </tr>\n",
       "    <tr>\n",
       "      <th>...</th>\n",
       "      <td>...</td>\n",
       "      <td>...</td>\n",
       "      <td>...</td>\n",
       "      <td>...</td>\n",
       "      <td>...</td>\n",
       "      <td>...</td>\n",
       "      <td>...</td>\n",
       "      <td>...</td>\n",
       "      <td>...</td>\n",
       "      <td>...</td>\n",
       "      <td>...</td>\n",
       "      <td>...</td>\n",
       "      <td>...</td>\n",
       "      <td>...</td>\n",
       "      <td>...</td>\n",
       "      <td>...</td>\n",
       "      <td>...</td>\n",
       "      <td>...</td>\n",
       "      <td>...</td>\n",
       "      <td>...</td>\n",
       "      <td>...</td>\n",
       "    </tr>\n",
       "    <tr>\n",
       "      <th>2429</th>\n",
       "      <td>NaN</td>\n",
       "      <td>NaN</td>\n",
       "      <td>CrZsxd-Prrb</td>\n",
       "      <td>NaN</td>\n",
       "      <td>NaN</td>\n",
       "      <td>NaN</td>\n",
       "      <td>NaN</td>\n",
       "      <td>NaN</td>\n",
       "      <td>NaN</td>\n",
       "      <td>NaN</td>\n",
       "      <td>...</td>\n",
       "      <td>NaN</td>\n",
       "      <td>NaN</td>\n",
       "      <td>NaN</td>\n",
       "      <td>NaN</td>\n",
       "      <td>NaN</td>\n",
       "      <td>NaN</td>\n",
       "      <td>NaN</td>\n",
       "      <td>NaN</td>\n",
       "      <td>NaN</td>\n",
       "      <td>motor_scooter, scooter</td>\n",
       "    </tr>\n",
       "    <tr>\n",
       "      <th>2430</th>\n",
       "      <td>NaN</td>\n",
       "      <td>NaN</td>\n",
       "      <td>CrZVF0kvixB</td>\n",
       "      <td>NaN</td>\n",
       "      <td>NaN</td>\n",
       "      <td>NaN</td>\n",
       "      <td>NaN</td>\n",
       "      <td>NaN</td>\n",
       "      <td>NaN</td>\n",
       "      <td>NaN</td>\n",
       "      <td>...</td>\n",
       "      <td>NaN</td>\n",
       "      <td>NaN</td>\n",
       "      <td>NaN</td>\n",
       "      <td>NaN</td>\n",
       "      <td>NaN</td>\n",
       "      <td>NaN</td>\n",
       "      <td>NaN</td>\n",
       "      <td>NaN</td>\n",
       "      <td>NaN</td>\n",
       "      <td>sarong</td>\n",
       "    </tr>\n",
       "    <tr>\n",
       "      <th>2431</th>\n",
       "      <td>NaN</td>\n",
       "      <td>NaN</td>\n",
       "      <td>CrZwRBorSpZ</td>\n",
       "      <td>NaN</td>\n",
       "      <td>NaN</td>\n",
       "      <td>NaN</td>\n",
       "      <td>NaN</td>\n",
       "      <td>NaN</td>\n",
       "      <td>NaN</td>\n",
       "      <td>NaN</td>\n",
       "      <td>...</td>\n",
       "      <td>NaN</td>\n",
       "      <td>NaN</td>\n",
       "      <td>NaN</td>\n",
       "      <td>NaN</td>\n",
       "      <td>NaN</td>\n",
       "      <td>NaN</td>\n",
       "      <td>NaN</td>\n",
       "      <td>NaN</td>\n",
       "      <td>NaN</td>\n",
       "      <td>comic_book</td>\n",
       "    </tr>\n",
       "    <tr>\n",
       "      <th>2432</th>\n",
       "      <td>NaN</td>\n",
       "      <td>NaN</td>\n",
       "      <td>CrZ_G9NSuBv</td>\n",
       "      <td>NaN</td>\n",
       "      <td>NaN</td>\n",
       "      <td>NaN</td>\n",
       "      <td>NaN</td>\n",
       "      <td>NaN</td>\n",
       "      <td>NaN</td>\n",
       "      <td>NaN</td>\n",
       "      <td>...</td>\n",
       "      <td>NaN</td>\n",
       "      <td>NaN</td>\n",
       "      <td>NaN</td>\n",
       "      <td>NaN</td>\n",
       "      <td>NaN</td>\n",
       "      <td>NaN</td>\n",
       "      <td>NaN</td>\n",
       "      <td>NaN</td>\n",
       "      <td>NaN</td>\n",
       "      <td>web_site, website, internet_site, site</td>\n",
       "    </tr>\n",
       "    <tr>\n",
       "      <th>2433</th>\n",
       "      <td>NaN</td>\n",
       "      <td>NaN</td>\n",
       "      <td>Cr9ox_kOQBK</td>\n",
       "      <td>NaN</td>\n",
       "      <td>NaN</td>\n",
       "      <td>NaN</td>\n",
       "      <td>NaN</td>\n",
       "      <td>NaN</td>\n",
       "      <td>NaN</td>\n",
       "      <td>NaN</td>\n",
       "      <td>...</td>\n",
       "      <td>NaN</td>\n",
       "      <td>NaN</td>\n",
       "      <td>NaN</td>\n",
       "      <td>NaN</td>\n",
       "      <td>NaN</td>\n",
       "      <td>NaN</td>\n",
       "      <td>NaN</td>\n",
       "      <td>NaN</td>\n",
       "      <td>NaN</td>\n",
       "      <td>comic_book</td>\n",
       "    </tr>\n",
       "  </tbody>\n",
       "</table>\n",
       "<p>2434 rows × 24 columns</p>\n",
       "</div>"
      ],
      "text/plain": [
       "              id   username    shortcode     post_type      like  comment  \\\n",
       "0     25025320.0  instagram  Cr_OviBJPrw  GraphSidecar  282344.0   6691.0   \n",
       "1     25025320.0  instagram  Cr08AgFLRPW  GraphSidecar  348204.0   6513.0   \n",
       "2     25025320.0  instagram  CryV45urd0B    GraphImage  267553.0   6693.0   \n",
       "3     25025320.0  instagram  CruRdGGsMq6  GraphSidecar  590609.0   8893.0   \n",
       "4     25025320.0  instagram  CrgVBtHr3DP  GraphSidecar  395844.0   8636.0   \n",
       "...          ...        ...          ...           ...       ...      ...   \n",
       "2429         NaN        NaN  CrZsxd-Prrb           NaN       NaN      NaN   \n",
       "2430         NaN        NaN  CrZVF0kvixB           NaN       NaN      NaN   \n",
       "2431         NaN        NaN  CrZwRBorSpZ           NaN       NaN      NaN   \n",
       "2432         NaN        NaN  CrZ_G9NSuBv           NaN       NaN      NaN   \n",
       "2433         NaN        NaN  Cr9ox_kOQBK           NaN       NaN      NaN   \n",
       "\n",
       "        category_name     follower  following ar_effect  ... reel_avg_view  \\\n",
       "0     Digital creator  632718714.0       59.0      True  ...     9409092.0   \n",
       "1     Digital creator  632718714.0       59.0      True  ...     9409092.0   \n",
       "2     Digital creator  632718714.0       59.0      True  ...     9409092.0   \n",
       "3     Digital creator  632718714.0       59.0      True  ...     9409092.0   \n",
       "4     Digital creator  632718714.0       59.0      True  ...     9409092.0   \n",
       "...               ...          ...        ...       ...  ...           ...   \n",
       "2429              NaN          NaN        NaN       NaN  ...           NaN   \n",
       "2430              NaN          NaN        NaN       NaN  ...           NaN   \n",
       "2431              NaN          NaN        NaN       NaN  ...           NaN   \n",
       "2432              NaN          NaN        NaN       NaN  ...           NaN   \n",
       "2433              NaN          NaN        NaN       NaN  ...           NaN   \n",
       "\n",
       "     reel_avg_comment reel_avg_like  reel_avg_duration  reel_frequency  \\\n",
       "0         13528.91667   570225.4167          92.466333       18.554887   \n",
       "1         13528.91667   570225.4167          92.466333       18.554887   \n",
       "2         13528.91667   570225.4167          92.466333       18.554887   \n",
       "3         13528.91667   570225.4167          92.466333       18.554887   \n",
       "4         13528.91667   570225.4167          92.466333       18.554887   \n",
       "...               ...           ...                ...             ...   \n",
       "2429              NaN           NaN                NaN             NaN   \n",
       "2430              NaN           NaN                NaN             NaN   \n",
       "2431              NaN           NaN                NaN             NaN   \n",
       "2432              NaN           NaN                NaN             NaN   \n",
       "2433              NaN           NaN                NaN             NaN   \n",
       "\n",
       "      media_count  media_avg_comment  media_avg_like  media_frequency  \\\n",
       "0          7404.0        8653.666667       449491.75         1.454414   \n",
       "1          7404.0        8653.666667       449491.75         1.454414   \n",
       "2          7404.0        8653.666667       449491.75         1.454414   \n",
       "3          7404.0        8653.666667       449491.75         1.454414   \n",
       "4          7404.0        8653.666667       449491.75         1.454414   \n",
       "...           ...                ...             ...              ...   \n",
       "2429          NaN                NaN             NaN              NaN   \n",
       "2430          NaN                NaN             NaN              NaN   \n",
       "2431          NaN                NaN             NaN              NaN   \n",
       "2432          NaN                NaN             NaN              NaN   \n",
       "2433          NaN                NaN             NaN              NaN   \n",
       "\n",
       "                                      object  \n",
       "0                           feather_boa, boa  \n",
       "1                          teddy, teddy_bear  \n",
       "2                                        wig  \n",
       "3                                       mask  \n",
       "4                                 neck_brace  \n",
       "...                                      ...  \n",
       "2429                  motor_scooter, scooter  \n",
       "2430                                  sarong  \n",
       "2431                              comic_book  \n",
       "2432  web_site, website, internet_site, site  \n",
       "2433                              comic_book  \n",
       "\n",
       "[2434 rows x 24 columns]"
      ]
     },
     "execution_count": 26,
     "metadata": {},
     "output_type": "execute_result"
    }
   ],
   "source": [
    "main_df"
   ]
  },
  {
   "attachments": {},
   "cell_type": "markdown",
   "metadata": {},
   "source": [
    "First let's process the accounts dataframe:"
   ]
  },
  {
   "cell_type": "code",
   "execution_count": 20,
   "metadata": {},
   "outputs": [
    {
     "name": "stdout",
     "output_type": "stream",
     "text": [
      "Number of missing values for each feature:\n",
      "id                      0\n",
      "username                0\n",
      "shortcode               0\n",
      "post_type               0\n",
      "like                    0\n",
      "comment                 0\n",
      "object               2313\n",
      "category_name         550\n",
      "follower                0\n",
      "following               0\n",
      "ar_effect               0\n",
      "type_business           0\n",
      "type_professional       0\n",
      "verified                0\n",
      "reel_count              0\n",
      "reel_avg_view           0\n",
      "reel_avg_comment        0\n",
      "reel_avg_like           0\n",
      "reel_avg_duration       0\n",
      "reel_frequency          0\n",
      "media_count             0\n",
      "media_avg_comment       0\n",
      "media_avg_like          0\n",
      "media_frequency         0\n",
      "dtype: int64\n"
     ]
    }
   ],
   "source": [
    "print('Number of missing values for each feature:')\n",
    "print(f'{main_df.isna().sum()}')"
   ]
  },
  {
   "attachments": {},
   "cell_type": "markdown",
   "metadata": {},
   "source": [
    "As you can see in the cell below, the only feature that has missing value is **Category**. We will replace those missing values with \"Unknown\"."
   ]
  },
  {
   "cell_type": "code",
   "execution_count": 61,
   "metadata": {},
   "outputs": [],
   "source": [
    "main_accounts_df['category_name'].fillna('Unknown', inplace=True)"
   ]
  },
  {
   "attachments": {},
   "cell_type": "markdown",
   "metadata": {},
   "source": [
    "Another data cleaning task that we must do to increase the accuracy and generalizability, is to process the categorical variables. Since we have a good chunk of categorical features in this dataset, we must do this task with careful consideration. There is always a debate regarding the type of encoding the categorical variables, should we use One Hot Encoding (OHE) or Label Encoding (LE). The rule of thumb for this debate rests in cardinality. If the cardinality of the feature is high, we must use label encoding, but if the cardinality is low, we should use label encoding. Let's Explore the cardinality of categorical features in the dataset."
   ]
  },
  {
   "cell_type": "code",
   "execution_count": 62,
   "metadata": {},
   "outputs": [
    {
     "name": "stdout",
     "output_type": "stream",
     "text": [
      "Cardinality of category_name:\t\t 42\n",
      "Cardinality of ar_effect:\t\t 2\n",
      "Cardinality of type_business:\t\t 2\n",
      "Cardinality of type_professional:\t 2\n",
      "Cardinality of verified:\t\t 2\n"
     ]
    }
   ],
   "source": [
    "print(f'Cardinality of category_name:\\t\\t {len(main_accounts_df[\"category_name\"].unique())}')\n",
    "print(f'Cardinality of ar_effect:\\t\\t {len(main_accounts_df[\"ar_effect\"].unique())}')\n",
    "print(f'Cardinality of type_business:\\t\\t {len(main_accounts_df[\"type_business\"].unique())}')\n",
    "print(f'Cardinality of type_professional:\\t {len(main_accounts_df[\"type_professional\"].unique())}')\n",
    "print(f'Cardinality of verified:\\t\\t {len(main_accounts_df[\"verified\"].unique())}')"
   ]
  },
  {
   "attachments": {},
   "cell_type": "markdown",
   "metadata": {},
   "source": [
    "As you can see in the cell above, the only feature with high cardinality is **category_name** and other features are binary categorical features, thus have the low cardinality.\n",
    "\n",
    "***But***, at the time of writing this code, **XGBoost 1.7** had been published, since this version of XGBoost, it can works with categorical variables without the need of manual encoding, thus we won't encode the categorical variables."
   ]
  },
  {
   "attachments": {},
   "cell_type": "markdown",
   "metadata": {},
   "source": [
    "Since we will use the XGBoost and tree-based models for this competetition, feature normalization won't improve the model, thus we will skip the normalization.\n",
    "\n",
    "Now we can process the posts dataframe:\n",
    "\n",
    "First thing we can remove `GraphVideo` type of posts from the dataset since reels on the Instagram don't have detected objects since they are videos."
   ]
  },
  {
   "cell_type": "code",
   "execution_count": 63,
   "metadata": {},
   "outputs": [],
   "source": [
    "main_posts_df = main_posts_df.drop(main_posts_df[main_posts_df['post_type'] == 'GraphVideo'].index)\n",
    "main_posts_df = main_posts_df.reset_index(drop=True)"
   ]
  },
  {
   "attachments": {},
   "cell_type": "markdown",
   "metadata": {},
   "source": [
    "Now after all the cleaning, I can make the main dataset for training the model. To create the main dataset, we must add the account information which is present in the **main_accounts_df** to each corresponding record in **main_posts_df**."
   ]
  },
  {
   "cell_type": "code",
   "execution_count": 64,
   "metadata": {},
   "outputs": [],
   "source": [
    "df = main_posts_df.merge(main_accounts_df, on='username')\n",
    "df.to_csv('Data/main_dataset.csv',)"
   ]
  },
  {
   "attachments": {},
   "cell_type": "markdown",
   "metadata": {},
   "source": [
    "After all of these endeavors, we can train the model. To make the workspace more clear, we will train the model explore it, and visualize it in another notebook.\n",
    "\n",
    "----\n",
    "`@Ramin F.` | [Email](ferdos.ramin@gmail.com) | [LinkedIn](https://www.linkedin.com/in/raminferdos/) | [GitHub](https://github.com/SimplyRamin) | [Personal Portfolio](https://simplyramin.github.io/)"
   ]
  }
 ],
 "metadata": {
  "kernelspec": {
   "display_name": "base",
   "language": "python",
   "name": "python3"
  },
  "language_info": {
   "codemirror_mode": {
    "name": "ipython",
    "version": 3
   },
   "file_extension": ".py",
   "mimetype": "text/x-python",
   "name": "python",
   "nbconvert_exporter": "python",
   "pygments_lexer": "ipython3",
   "version": "3.9.16"
  },
  "orig_nbformat": 4
 },
 "nbformat": 4,
 "nbformat_minor": 2
}
