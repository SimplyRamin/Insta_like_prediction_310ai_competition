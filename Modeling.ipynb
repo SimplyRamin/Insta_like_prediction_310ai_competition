{
 "cells": [
  {
   "attachments": {},
   "cell_type": "markdown",
   "metadata": {},
   "source": [
    "# Instagram Like Prediction @310ai Competition - Modeling, Visualization & Evaluation\n",
    "\n",
    "This notebook is a continuation of ***Data*** notebook. In this part of project we will train the predictive model, analyze it, visualize its output and evaluate it. The reason for this separation, is to make the notebooks easier to understand and less dependent on each other, especially for this case since the Instagram showed that it reguralry changing its api and bot mitigation methods. Multiple stages of this project have checkpoints, thus the notebook will run without issues.\n",
    "\n",
    "As we pointed out in the previous notebook, we will use **XGBoost 1.7** as the algorithm. So let's without further ado, dive into it."
   ]
  },
  {
   "cell_type": "code",
   "execution_count": 30,
   "metadata": {},
   "outputs": [],
   "source": [
    "import pandas as pd\n",
    "import numpy as np\n",
    "import xgboost as xgb\n",
    "import matplotlib.pyplot as plt\n",
    "import seaborn as sns\n",
    "from sklearn.model_selection import train_test_split\n",
    "from sklearn.model_selection import GridSearchCV"
   ]
  },
  {
   "attachments": {},
   "cell_type": "markdown",
   "metadata": {},
   "source": [
    "First thing first, we must load the data, also we have some identifying features, called shortcode, username and id, which will not affect the accuracy of the model, thus we can drop these features all together."
   ]
  },
  {
   "cell_type": "code",
   "execution_count": 16,
   "metadata": {},
   "outputs": [
    {
     "data": {
      "text/html": [
       "<div>\n",
       "<style scoped>\n",
       "    .dataframe tbody tr th:only-of-type {\n",
       "        vertical-align: middle;\n",
       "    }\n",
       "\n",
       "    .dataframe tbody tr th {\n",
       "        vertical-align: top;\n",
       "    }\n",
       "\n",
       "    .dataframe thead th {\n",
       "        text-align: right;\n",
       "    }\n",
       "</style>\n",
       "<table border=\"1\" class=\"dataframe\">\n",
       "  <thead>\n",
       "    <tr style=\"text-align: right;\">\n",
       "      <th></th>\n",
       "      <th>post_type</th>\n",
       "      <th>like</th>\n",
       "      <th>comment</th>\n",
       "      <th>object_1</th>\n",
       "      <th>object_2</th>\n",
       "      <th>object_3</th>\n",
       "      <th>object_4</th>\n",
       "      <th>object_5</th>\n",
       "      <th>object_6</th>\n",
       "      <th>category_name</th>\n",
       "      <th>...</th>\n",
       "      <th>reel_count</th>\n",
       "      <th>reel_avg_view</th>\n",
       "      <th>reel_avg_comment</th>\n",
       "      <th>reel_avg_like</th>\n",
       "      <th>reel_avg_duration</th>\n",
       "      <th>reel_frequency</th>\n",
       "      <th>media_count</th>\n",
       "      <th>media_avg_comment</th>\n",
       "      <th>media_avg_like</th>\n",
       "      <th>media_frequency</th>\n",
       "    </tr>\n",
       "  </thead>\n",
       "  <tbody>\n",
       "    <tr>\n",
       "      <th>0</th>\n",
       "      <td>GraphSidecar</td>\n",
       "      <td>363269</td>\n",
       "      <td>6844</td>\n",
       "      <td>No Object</td>\n",
       "      <td>No Object</td>\n",
       "      <td>No Object</td>\n",
       "      <td>No Object</td>\n",
       "      <td>No Object</td>\n",
       "      <td>No Object</td>\n",
       "      <td>Digital creator</td>\n",
       "      <td>...</td>\n",
       "      <td>1256</td>\n",
       "      <td>9406907.25</td>\n",
       "      <td>13544.50000</td>\n",
       "      <td>6.345007e+05</td>\n",
       "      <td>92.466333</td>\n",
       "      <td>18.554887</td>\n",
       "      <td>7393</td>\n",
       "      <td>8635.166667</td>\n",
       "      <td>410027.250</td>\n",
       "      <td>1.090777</td>\n",
       "    </tr>\n",
       "    <tr>\n",
       "      <th>1</th>\n",
       "      <td>GraphSidecar</td>\n",
       "      <td>546578</td>\n",
       "      <td>11354</td>\n",
       "      <td>No Object</td>\n",
       "      <td>No Object</td>\n",
       "      <td>No Object</td>\n",
       "      <td>No Object</td>\n",
       "      <td>No Object</td>\n",
       "      <td>No Object</td>\n",
       "      <td>Digital creator</td>\n",
       "      <td>...</td>\n",
       "      <td>1256</td>\n",
       "      <td>9406907.25</td>\n",
       "      <td>13544.50000</td>\n",
       "      <td>6.345007e+05</td>\n",
       "      <td>92.466333</td>\n",
       "      <td>18.554887</td>\n",
       "      <td>7393</td>\n",
       "      <td>8635.166667</td>\n",
       "      <td>410027.250</td>\n",
       "      <td>1.090777</td>\n",
       "    </tr>\n",
       "    <tr>\n",
       "      <th>2</th>\n",
       "      <td>GraphImage</td>\n",
       "      <td>734124</td>\n",
       "      <td>11937</td>\n",
       "      <td>No Object</td>\n",
       "      <td>No Object</td>\n",
       "      <td>No Object</td>\n",
       "      <td>No Object</td>\n",
       "      <td>No Object</td>\n",
       "      <td>No Object</td>\n",
       "      <td>Digital creator</td>\n",
       "      <td>...</td>\n",
       "      <td>1256</td>\n",
       "      <td>9406907.25</td>\n",
       "      <td>13544.50000</td>\n",
       "      <td>6.345007e+05</td>\n",
       "      <td>92.466333</td>\n",
       "      <td>18.554887</td>\n",
       "      <td>7393</td>\n",
       "      <td>8635.166667</td>\n",
       "      <td>410027.250</td>\n",
       "      <td>1.090777</td>\n",
       "    </tr>\n",
       "    <tr>\n",
       "      <th>3</th>\n",
       "      <td>GraphSidecar</td>\n",
       "      <td>7720568</td>\n",
       "      <td>42249</td>\n",
       "      <td>2 people</td>\n",
       "      <td>people playing football</td>\n",
       "      <td>people playing soccer</td>\n",
       "      <td>ball</td>\n",
       "      <td>No Object</td>\n",
       "      <td>No Object</td>\n",
       "      <td>Athlete</td>\n",
       "      <td>...</td>\n",
       "      <td>387</td>\n",
       "      <td>18249237.58</td>\n",
       "      <td>28318.83333</td>\n",
       "      <td>3.607850e+06</td>\n",
       "      <td>32.616333</td>\n",
       "      <td>17.036130</td>\n",
       "      <td>3475</td>\n",
       "      <td>52543.166670</td>\n",
       "      <td>7980593.083</td>\n",
       "      <td>2.203446</td>\n",
       "    </tr>\n",
       "    <tr>\n",
       "      <th>4</th>\n",
       "      <td>GraphImage</td>\n",
       "      <td>14451079</td>\n",
       "      <td>103278</td>\n",
       "      <td>1 person</td>\n",
       "      <td>baby</td>\n",
       "      <td>No Object</td>\n",
       "      <td>No Object</td>\n",
       "      <td>No Object</td>\n",
       "      <td>No Object</td>\n",
       "      <td>Athlete</td>\n",
       "      <td>...</td>\n",
       "      <td>387</td>\n",
       "      <td>18249237.58</td>\n",
       "      <td>28318.83333</td>\n",
       "      <td>3.607850e+06</td>\n",
       "      <td>32.616333</td>\n",
       "      <td>17.036130</td>\n",
       "      <td>3475</td>\n",
       "      <td>52543.166670</td>\n",
       "      <td>7980593.083</td>\n",
       "      <td>2.203446</td>\n",
       "    </tr>\n",
       "  </tbody>\n",
       "</table>\n",
       "<p>5 rows × 26 columns</p>\n",
       "</div>"
      ],
      "text/plain": [
       "      post_type      like  comment   object_1                 object_2  \\\n",
       "0  GraphSidecar    363269     6844  No Object                No Object   \n",
       "1  GraphSidecar    546578    11354  No Object                No Object   \n",
       "2    GraphImage    734124    11937  No Object                No Object   \n",
       "3  GraphSidecar   7720568    42249   2 people  people playing football   \n",
       "4    GraphImage  14451079   103278   1 person                     baby   \n",
       "\n",
       "                object_3   object_4   object_5   object_6    category_name  \\\n",
       "0              No Object  No Object  No Object  No Object  Digital creator   \n",
       "1              No Object  No Object  No Object  No Object  Digital creator   \n",
       "2              No Object  No Object  No Object  No Object  Digital creator   \n",
       "3  people playing soccer       ball  No Object  No Object          Athlete   \n",
       "4              No Object  No Object  No Object  No Object          Athlete   \n",
       "\n",
       "   ...  reel_count  reel_avg_view  reel_avg_comment  reel_avg_like  \\\n",
       "0  ...        1256     9406907.25       13544.50000   6.345007e+05   \n",
       "1  ...        1256     9406907.25       13544.50000   6.345007e+05   \n",
       "2  ...        1256     9406907.25       13544.50000   6.345007e+05   \n",
       "3  ...         387    18249237.58       28318.83333   3.607850e+06   \n",
       "4  ...         387    18249237.58       28318.83333   3.607850e+06   \n",
       "\n",
       "   reel_avg_duration  reel_frequency  media_count  media_avg_comment  \\\n",
       "0          92.466333       18.554887         7393        8635.166667   \n",
       "1          92.466333       18.554887         7393        8635.166667   \n",
       "2          92.466333       18.554887         7393        8635.166667   \n",
       "3          32.616333       17.036130         3475       52543.166670   \n",
       "4          32.616333       17.036130         3475       52543.166670   \n",
       "\n",
       "   media_avg_like  media_frequency  \n",
       "0      410027.250         1.090777  \n",
       "1      410027.250         1.090777  \n",
       "2      410027.250         1.090777  \n",
       "3     7980593.083         2.203446  \n",
       "4     7980593.083         2.203446  \n",
       "\n",
       "[5 rows x 26 columns]"
      ]
     },
     "execution_count": 16,
     "metadata": {},
     "output_type": "execute_result"
    }
   ],
   "source": [
    "df = pd.read_csv('Data/main_dataset.csv')\n",
    "df.drop(columns=['Unnamed: 0', 'shortcode', 'username', 'id'], inplace=True)\n",
    "df.head()"
   ]
  },
  {
   "attachments": {},
   "cell_type": "markdown",
   "metadata": {},
   "source": [
    "Now we can separate independent and dependent variables. Usually we cal independent variables X and dependent variables y."
   ]
  },
  {
   "cell_type": "code",
   "execution_count": 17,
   "metadata": {},
   "outputs": [],
   "source": [
    "X, y = df.loc[:, df.columns != 'like'].copy(), df[['like']].copy()"
   ]
  },
  {
   "attachments": {},
   "cell_type": "markdown",
   "metadata": {},
   "source": [
    "As we said in the previous notebook, XGBoost since the version of 1.7 is capable of working with categorical variables, but before casting the categorical variables through the model, we must change the type of those features to `categorical` in pandas."
   ]
  },
  {
   "cell_type": "code",
   "execution_count": 18,
   "metadata": {},
   "outputs": [],
   "source": [
    "categorical_features = X.select_dtypes(exclude=np.number).columns.tolist()\n",
    "for feature in categorical_features:\n",
    "    X[feature] = X[feature].astype('category')"
   ]
  },
  {
   "attachments": {},
   "cell_type": "markdown",
   "metadata": {},
   "source": [
    "Now we can split the data into training and validation. We will use the 25% of data as validation set."
   ]
  },
  {
   "cell_type": "code",
   "execution_count": 21,
   "metadata": {},
   "outputs": [],
   "source": [
    "X_train, X_test, y_train, y_test = train_test_split(X, y, random_state=69)"
   ]
  },
  {
   "attachments": {},
   "cell_type": "markdown",
   "metadata": {},
   "source": [
    "XGBoost has its own class for storing datasets, it's called `DMatrix`. This class is highly optimized for memory and speed. Converting to this datatype is neccessary for passing values to XGBoost. Also, in this cell we will define hyperparameters value for model. Have in mind that since we will perform a cross-validation, parameters are actually list of parameters to find the best one among their combination."
   ]
  },
  {
   "cell_type": "code",
   "execution_count": 31,
   "metadata": {},
   "outputs": [],
   "source": [
    "dmat_train = xgb.DMatrix(X_train, y_train, enable_categorical=True)\n",
    "dmat_test = xgb.DMatrix(X_test, y_test, enable_categorical=True)\n",
    "\n",
    "params = {\n",
    "    'booster': ['gbtree', 'dart'],\n",
    "    'eta': np.arange(0.25, 1.1, 0.25),\n",
    "    'subsample': np.arange(0.25, 1.1, 0.25),\n",
    "    'refresh_leaf': [0, 1]\n",
    "}\n",
    "\n",
    "model = xgb.XGBRegressor()  # complete this method, check wheteher accepts dmatrix and add its hyperparameters to gridsearch."
   ]
  },
  {
   "cell_type": "code",
   "execution_count": 32,
   "metadata": {},
   "outputs": [
    {
     "ename": "TypeError",
     "evalue": "estimator should be an estimator implementing 'fit' method, <module 'xgboost' from 'c:\\\\Users\\\\Mr-Khosravian\\\\miniconda3\\\\lib\\\\site-packages\\\\xgboost\\\\__init__.py'> was passed",
     "output_type": "error",
     "traceback": [
      "\u001b[1;31m---------------------------------------------------------------------------\u001b[0m",
      "\u001b[1;31mTypeError\u001b[0m                                 Traceback (most recent call last)",
      "Cell \u001b[1;32mIn[32], line 2\u001b[0m\n\u001b[0;32m      1\u001b[0m grid \u001b[39m=\u001b[39m GridSearchCV(xgb, param_grid\u001b[39m=\u001b[39mparams, return_train_score\u001b[39m=\u001b[39m\u001b[39mTrue\u001b[39;00m, cv\u001b[39m=\u001b[39m\u001b[39m5\u001b[39m, verbose\u001b[39m=\u001b[39m\u001b[39m3\u001b[39m)\n\u001b[1;32m----> 2\u001b[0m grid\u001b[39m.\u001b[39;49mfit(dmat_train)\n",
      "File \u001b[1;32mc:\\Users\\Mr-Khosravian\\miniconda3\\lib\\site-packages\\sklearn\\model_selection\\_search.py:776\u001b[0m, in \u001b[0;36mBaseSearchCV.fit\u001b[1;34m(self, X, y, groups, **fit_params)\u001b[0m\n\u001b[0;32m    774\u001b[0m     scorers \u001b[39m=\u001b[39m \u001b[39mself\u001b[39m\u001b[39m.\u001b[39mscoring\n\u001b[0;32m    775\u001b[0m \u001b[39melif\u001b[39;00m \u001b[39mself\u001b[39m\u001b[39m.\u001b[39mscoring \u001b[39mis\u001b[39;00m \u001b[39mNone\u001b[39;00m \u001b[39mor\u001b[39;00m \u001b[39misinstance\u001b[39m(\u001b[39mself\u001b[39m\u001b[39m.\u001b[39mscoring, \u001b[39mstr\u001b[39m):\n\u001b[1;32m--> 776\u001b[0m     scorers \u001b[39m=\u001b[39m check_scoring(\u001b[39mself\u001b[39;49m\u001b[39m.\u001b[39;49mestimator, \u001b[39mself\u001b[39;49m\u001b[39m.\u001b[39;49mscoring)\n\u001b[0;32m    777\u001b[0m \u001b[39melse\u001b[39;00m:\n\u001b[0;32m    778\u001b[0m     scorers \u001b[39m=\u001b[39m _check_multimetric_scoring(\u001b[39mself\u001b[39m\u001b[39m.\u001b[39mestimator, \u001b[39mself\u001b[39m\u001b[39m.\u001b[39mscoring)\n",
      "File \u001b[1;32mc:\\Users\\Mr-Khosravian\\miniconda3\\lib\\site-packages\\sklearn\\metrics\\_scorer.py:474\u001b[0m, in \u001b[0;36mcheck_scoring\u001b[1;34m(estimator, scoring, allow_none)\u001b[0m\n\u001b[0;32m    448\u001b[0m \u001b[39m\"\"\"Determine scorer from user options.\u001b[39;00m\n\u001b[0;32m    449\u001b[0m \n\u001b[0;32m    450\u001b[0m \u001b[39mA TypeError will be thrown if the estimator cannot be scored.\u001b[39;00m\n\u001b[1;32m   (...)\u001b[0m\n\u001b[0;32m    471\u001b[0m \u001b[39m    ``scorer(estimator, X, y)``.\u001b[39;00m\n\u001b[0;32m    472\u001b[0m \u001b[39m\"\"\"\u001b[39;00m\n\u001b[0;32m    473\u001b[0m \u001b[39mif\u001b[39;00m \u001b[39mnot\u001b[39;00m \u001b[39mhasattr\u001b[39m(estimator, \u001b[39m\"\u001b[39m\u001b[39mfit\u001b[39m\u001b[39m\"\u001b[39m):\n\u001b[1;32m--> 474\u001b[0m     \u001b[39mraise\u001b[39;00m \u001b[39mTypeError\u001b[39;00m(\n\u001b[0;32m    475\u001b[0m         \u001b[39m\"\u001b[39m\u001b[39mestimator should be an estimator implementing \u001b[39m\u001b[39m'\u001b[39m\u001b[39mfit\u001b[39m\u001b[39m'\u001b[39m\u001b[39m method, \u001b[39m\u001b[39m%r\u001b[39;00m\u001b[39m was passed\u001b[39m\u001b[39m\"\u001b[39m\n\u001b[0;32m    476\u001b[0m         \u001b[39m%\u001b[39m estimator\n\u001b[0;32m    477\u001b[0m     )\n\u001b[0;32m    478\u001b[0m \u001b[39mif\u001b[39;00m \u001b[39misinstance\u001b[39m(scoring, \u001b[39mstr\u001b[39m):\n\u001b[0;32m    479\u001b[0m     \u001b[39mreturn\u001b[39;00m get_scorer(scoring)\n",
      "\u001b[1;31mTypeError\u001b[0m: estimator should be an estimator implementing 'fit' method, <module 'xgboost' from 'c:\\\\Users\\\\Mr-Khosravian\\\\miniconda3\\\\lib\\\\site-packages\\\\xgboost\\\\__init__.py'> was passed"
     ]
    }
   ],
   "source": [
    "grid = GridSearchCV(xgb, param_grid=params, return_train_score=True, cv=5, verbose=3)\n",
    "grid.fit(dmat_train)"
   ]
  },
  {
   "cell_type": "code",
   "execution_count": null,
   "metadata": {},
   "outputs": [],
   "source": []
  }
 ],
 "metadata": {
  "kernelspec": {
   "display_name": "base",
   "language": "python",
   "name": "python3"
  },
  "language_info": {
   "codemirror_mode": {
    "name": "ipython",
    "version": 3
   },
   "file_extension": ".py",
   "mimetype": "text/x-python",
   "name": "python",
   "nbconvert_exporter": "python",
   "pygments_lexer": "ipython3",
   "version": "3.9.16"
  },
  "orig_nbformat": 4
 },
 "nbformat": 4,
 "nbformat_minor": 2
}
